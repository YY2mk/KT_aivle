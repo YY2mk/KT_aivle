{
 "cells": [
  {
   "cell_type": "markdown",
   "id": "d69174e4-2949-4bfd-a4cb-44a17b3d2255",
   "metadata": {},
   "source": [
    "# 1. 데이터 불러오기"
   ]
  },
  {
   "cell_type": "code",
   "execution_count": null,
   "id": "e1f509d3-9224-457b-8407-567d0b14fcc2",
   "metadata": {
    "tags": []
   },
   "outputs": [],
   "source": [
    "import pandas as pd\n",
    "\n",
    "# CSV 파일 불러오기\n",
    "df = pd.read_csv('sales.csv')\n",
    "\n",
    "# 엑셀 파일 불러오기\n",
    "df = pd.read_excel('파일명.xlsx')\n",
    "\n",
    "# 리스트로 데이터프레임 생성\n",
    "data = {'Column1': [1, 2, 3], 'Column2': ['A', 'B', 'C']}\n",
    "df = pd.DataFrame(data)\n",
    "\n",
    "# 인덱스 초기화\n",
    "df.reset_index(drop=False, inplace=True)\n",
    "\n",
    "# 데이터 프레임 여러개 출력\n",
    "display(df1)\n",
    "display(df2)\n",
    "\n",
    "# CSV 파일 저장\n",
    "df.to_csv('df.csv', index=False)"
   ]
  },
  {
   "cell_type": "markdown",
   "id": "d1e198ad-043a-47ec-96d8-820322c2f1a7",
   "metadata": {},
   "source": [
    "# 2. 기본 정보 확인"
   ]
  },
  {
   "cell_type": "code",
   "execution_count": null,
   "id": "c10e13d8-afed-4af5-be57-8cfd34a4d32c",
   "metadata": {
    "tags": []
   },
   "outputs": [],
   "source": [
    "# 데이터 크기 확인\n",
    "df.shape\n",
    "\n",
    "# 상위 n개 행 출력\n",
    "df.head()\n",
    "\n",
    "# 하위 n개 행 출력\n",
    "df.tail()\n",
    "\n",
    "# 데이터 인덱스 확인\n",
    "df.index\n",
    "\n",
    "# 속성 값 확인\n",
    "df.values\n",
    "\n",
    "# 컬럼 정보 확인\n",
    "df.columns\n",
    "\n",
    "# 컬럼 출력\n",
    "list(df)\n",
    "\n",
    "# 자료형 확인\n",
    "df.dtypes\n",
    "\n",
    "# 데이터프레임 정보 출력\n",
    "df.info()\n",
    "\n",
    "# 기본 통계 정보 출력\n",
    "df.describe()\n",
    "\n",
    "# 특정 데이터 타입형 열 조회\n",
    "df.select_dtypes()"
   ]
  },
  {
   "cell_type": "markdown",
   "id": "557e5abb-0b8b-4ce0-ac77-91f44aacb334",
   "metadata": {},
   "source": [
    "# 3. 데이터 탐색"
   ]
  },
  {
   "cell_type": "code",
   "execution_count": null,
   "id": "23fa6a0d-64f7-4089-ac03-7a77841ca678",
   "metadata": {},
   "outputs": [],
   "source": [
    "# 날짜 형식으로 바꿔주기\n",
    "df['date'] = pd.to_datetime(df['date']) # 날짜 형변환\n",
    "df['year'] = df['date'].dt.year ## 날짜 쪼개기\n",
    "df['month'] = df['date'].dt.month\n",
    "df['day'] = df['date'].dt.day\n",
    "df['hour'] = df['date'].dt.hour\n",
    "df['minute'] = df['date'].dt.minute\n",
    "df['second'] = df['date'].dt.second\n",
    "df['dayofweek'] = df['date'].dt.dayofweek    # 0 ~ 6\n",
    "df['weekday'] = df['date'].dt.day_name()  # Monday ~ Sunday\n",
    "\n",
    "# type 바꿔주기\n",
    "df['Column'] = df['Column'].astype(str)\n",
    "\n",
    "# 열 기준 정렬\n",
    "df.sort_values(by='Column_Name', ascending=False)\n",
    "\n",
    "# 인덱스 기준 정렬\n",
    "df.sort_index(ascending=False)\n",
    "\n",
    "# 고유값 확인\n",
    "df['Column_Name'].unique()\n",
    "\n",
    "# 고유값 비율 확인\n",
    "df['Column_Name'].value_counts(normalize=True)\n",
    "\n",
    "# 최빈값 확인\n",
    "df['Column_Name'].mode()\n",
    "\n",
    "# 행끼리 더해서 열 기준으로 출력\n",
    "df.sum(axis=0, numeric_only=True)\n",
    "\n",
    "# 열끼리 더해서 행 기준으로 출력\n",
    "df.sum(axis=1, numeric_only=True)\n",
    "\n",
    "# 해당 열의 최댓값 조회\n",
    "df['Column_Name'].max()\n",
    "\n",
    "# 해당 열의 최솟값 조회\n",
    "df['Column_Name'].min()\n",
    "\n",
    "# 해당 열의 평균 조회\n",
    "df['Column_Name'].mean()\n",
    "\n",
    "# 해당 열의 중앙값 조회\n",
    "df['Column_Name'].median()"
   ]
  },
  {
   "cell_type": "markdown",
   "id": "bb2d1cb9-35a2-4569-af7f-ccfc7c633ce8",
   "metadata": {},
   "source": [
    "# 4. 데이터 조회"
   ]
  },
  {
   "cell_type": "code",
   "execution_count": null,
   "id": "911e87f3-aa67-4853-9a5e-70cc2b51d286",
   "metadata": {},
   "outputs": [],
   "source": [
    "# 특정 열 \n",
    "df['Column_Name']\n",
    "\n",
    "# 여러 열\n",
    "df[['Column1', 'Column2']]\n",
    "\n",
    "# 특정 행\n",
    "df.loc[1]\n",
    "\n",
    "# 여러 행\n",
    "df.loc[[1, 3, 5]]\n",
    "\n",
    "# 특정 조건에 따른 행 선택\n",
    "df.loc[df['Column'] > 10]\n",
    "\n",
    "# 여러 조건에 따른 행 선택\n",
    "df.loc[(df['Column'] > 10) & (df['Column'] < 30)]\n",
    "\n",
    "# 여러 조건 특정 열\n",
    "df.loc[(df['Column'] > 10) & (df['Column'] < 30)]['Col1','Col2']\n",
    "\n",
    "# between() #기본 both\n",
    "df.loc[df['Column'].between(80, 90, inclusive='both')]\n",
    "\n",
    "# isin()\n",
    "df.loc[df['Column'].isin(['A', 'B'])]"
   ]
  },
  {
   "cell_type": "markdown",
   "id": "e5b6aaa1-e9bb-4041-bee8-88c8a0237af7",
   "metadata": {},
   "source": [
    "# 5. 데이터프레임 집계"
   ]
  },
  {
   "cell_type": "code",
   "execution_count": null,
   "id": "35cbb279-8a1b-4f03-8751-42b3324b859c",
   "metadata": {},
   "outputs": [],
   "source": [
    "# 특정 열 집계\n",
    "df.groupby(by='Column1', as_index=False)[['Column2']].sum()\n",
    "df.groupby(by='Column1', as_index=False)[['Column2']].mean()\n",
    "df.groupby(by='Column1', as_index=False)[['Column2']].count()\n",
    "df.groupby(by='Column1', as_index=False)[['Column2']].max()\n",
    "df.groupby(by='Column1', as_index=False)[['Column2']].min()\n",
    "                                                   \n",
    "\n",
    "# 여러 열 집계\n",
    "df.groupby(by = ['Column1', 'Column2', 'Column3'], as_index=False).sum(numeric_only=True)"
   ]
  },
  {
   "cell_type": "markdown",
   "id": "7826e479-3f41-4921-9db9-a8316a8b9448",
   "metadata": {},
   "source": [
    "# 6. 데이터프레임 변경"
   ]
  },
  {
   "cell_type": "code",
   "execution_count": null,
   "id": "2073584d-1500-462d-be5e-405182cd0409",
   "metadata": {},
   "outputs": [],
   "source": [
    "# 일부 열 이름 변경\n",
    "df.rename(columns={'Col1', 'Col2', 'Col3'}, as_index=False)\n",
    "\n",
    "# 모든 열 이름 변경\n",
    "df.columns = ['Col1', 'Col2', 'Col3']\n",
    "\n",
    "# 열 추가\n",
    "df['New_Column'] = df['Column1'] + df['Column2']\n",
    "\n",
    "# 열 삭제\n",
    "drop_cols = ['Col1', 'Col2']\n",
    "df.drop(drop_cols, axis=1, inplace=True)\n",
    "\n",
    "# 범주값 변경\n",
    "df['Col1'] = df['Col1'].map({'Col1의 속성': 바꾸려는 값, 'Col의 속성2': 바꾸려는 값})\n",
    "df['Col1'] = df['Col1'].replace({'Col1의 속성': 바꾸려는 값, 'Col의 속성2': 바꾸려는 값})\n",
    "\n",
    "# 범주값 만들기\n",
    "pd.cut(df, bins, labels)   # 크기 기준\n",
    "#bin = [-np.inf, 30, 100, np.inf]\n",
    "#label = list('LMH')\n",
    "#titanic['Fare'] = pd.cut(titanic['Fare'], bins=bin, labels=label) # 예시\n",
    "pd.qcut(df, bins, labels)\n",
    "\n",
    "# 특정 열을 기준으로 중복 행 제거\n",
    "drop_duplicates(subset='기준 열', keep='first')\n",
    "\n",
    "# 값 변경\n",
    "titanic['col'] = np.where(titanic['col'] == '비교', 참, 거짓)\n",
    "#titanic['Age2'] = np.where(titanic['Sex'] == 'female', 0, 1) #예시"
   ]
  },
  {
   "cell_type": "markdown",
   "id": "369dc9ac-3085-4f2a-885e-a4a941ccc00f",
   "metadata": {},
   "source": [
    "# 7. 결측치 처리"
   ]
  },
  {
   "cell_type": "code",
   "execution_count": null,
   "id": "5b7627a8-6519-410d-8f45-bbdb7853a581",
   "metadata": {
    "tags": []
   },
   "outputs": [],
   "source": [
    "# 결측치 확인\n",
    "df.isnull()  # isna()\n",
    "\n",
    "# 결측치 합계\n",
    "df.isna().sum()  # isnull().sum()\n",
    "\n",
    "# 결측치 아닌것 확인\n",
    "df.notna()\n",
    "\n",
    "# 결측치 아닌것 합계\n",
    "df.notna().sum() # notnull().sum()\n",
    "\n",
    "# 결측치 제거\n",
    "df.dropna()\n",
    "\n",
    "# 특정 열에 결측치가 있는 행 제거\n",
    "df.dropna(subset=['Column'], axis=0, inplace=True)\n",
    "\n",
    "# 결측치를 특정 값으로 대체\n",
    "df.fillna(value)\n",
    "\n",
    "#ffill\n",
    "df['Column'].fillna(method='ffill', inplace=True)\n",
    "\n",
    "#bfill\n",
    "df['Column'].fillna(method='bfill', inplace=True)"
   ]
  },
  {
   "cell_type": "markdown",
   "id": "ac5225b2-7204-40f3-b5f6-0cf5d56feb9b",
   "metadata": {},
   "source": [
    "# 8. 가변수 만들기"
   ]
  },
  {
   "cell_type": "code",
   "execution_count": null,
   "id": "93cf1158-c561-4c3c-9181-4b1ad80789f0",
   "metadata": {},
   "outputs": [],
   "source": [
    "dumm_cols = ['Col1', 'Col2', 'Col3']\n",
    "df = pd.get_dummies(df, columns=dumm_cols, drop_first=True, dypte=int)"
   ]
  },
  {
   "cell_type": "markdown",
   "id": "64cbf758-0346-4b0a-a967-724350a1a7da",
   "metadata": {},
   "source": [
    "# 9. 데이터프레임 합치기"
   ]
  },
  {
   "cell_type": "code",
   "execution_count": null,
   "id": "2fd623b5-f002-403a-94d7-fa431a50a4fb",
   "metadata": {},
   "outputs": [],
   "source": [
    "# 두 데이터프레임 합치기\n",
    "merged_df = pd.concat([df1, df2], axis=0)\n",
    "\n",
    "# 열을 기준으로 합치기\n",
    "merged_df = pd.merge(df1, df2, on='기준열', how='inner')"
   ]
  },
  {
   "cell_type": "markdown",
   "id": "eaf6318a-82cb-4e30-97c7-e7d0f3a7dccf",
   "metadata": {},
   "source": [
    "# 10. 시각화"
   ]
  },
  {
   "cell_type": "code",
   "execution_count": null,
   "id": "6b24b42f-21de-48b3-9218-73b53f9753ee",
   "metadata": {},
   "outputs": [],
   "source": [
    "# 막대 그래프 # 범주 데이터에 사용\n",
    "\n",
    "plt.rc('axes', axisbelow=True)   # 격자 밑으로 하겠다\n",
    "plt.figure(figsize=(5, 3))\n",
    "plt.bar(x=df['Col1'], height=df['Col2'])\n",
    "plt.title('제목 지정하세요')\n",
    "plt.xlabel('x축 이름 지정하세요')\n",
    "plt.ylabel('y축 이름 지정하세요')\n",
    "plt.xticks(rotation=90)   \n",
    "plt.grid(axis='y')\n",
    "plt.show()"
   ]
  },
  {
   "cell_type": "code",
   "execution_count": null,
   "id": "81e6bdd3-dff9-49aa-93fb-7efca0c21e12",
   "metadata": {},
   "outputs": [],
   "source": [
    "# 가로 막대 그래프\n",
    "plt.bar(y=df['Col1'], width=df['Col2'])"
   ]
  },
  {
   "cell_type": "code",
   "execution_count": null,
   "id": "306ce3ec-0adc-4a03-a6f6-be5709b518bc",
   "metadata": {},
   "outputs": [],
   "source": [
    "# 선 그래프\n",
    "plt.figure(figsize=(5, 3))\n",
    "plt.plot(df[['Col1', 'Col2']])\n",
    "plt.legend(['Col1', 'Col2'], loc='upper left') # plt.legend( loc='upper left')\n",
    "plt.show()\n",
    "\n",
    "# 라인그래프\n",
    "plt.plot('col1', 'col2', data = df, linewidth = .7)\n",
    "\n",
    "# y축의 범위 지정\n",
    "plt.ylim(70, 100)\n",
    "# x축의 범위 지정\n",
    "plt.xlim(0, 10)\n",
    "\n",
    "# 수평선 (y축)\n",
    "plt.axhline(40, color = 'grey', linestyle = '--')\n",
    "# 수직선 (xㄴ축)\n",
    "plt.axvline(10, color = 'red', linestyle = '--')\n",
    "\n",
    "# 텍스트 입력 x, y, 표현문자\n",
    "plt.text(5, 41, '40')\n",
    "plt.text(10.1, 20, '10')\n",
    "\n",
    "# 3행 1열 인텍스 1 그래프 그리기\n",
    "plt.subplot(3,1,1)\n",
    "\n",
    "# 그래프간 간격을 적절히 맞추기\n",
    "plt.tight_layout() \n",
    "\n",
    "# 수평, 수직선 추가\n",
    "plt.axhline(40, color = 'grey', linestyle = '--') # 수평선 # plt.axhline(ozone_mean, color = 'red', linestyle = '--') # 평균선 추가 가능\n",
    "plt.axvline(10, color = 'red', linestyle = '--') # 수직선\n",
    "\n",
    "# 텍스트 표현 # x, y, 표현문자\n",
    "plt.text(5, 41, '40')\n",
    "plt.text(10.1, 20, '10')\n",
    "\n",
    "# 여러 그래프 나눠 그리기\n",
    "# 3행 1열 1번        # 즉 3 x 1\n",
    "plt.subplot(3,1,1)\n",
    "# 3행 1열 2번    \n",
    "plt.subplot(3,1,2)\n",
    "\n",
    "# 2행 2열           # 즉 2 x 2\n",
    "plt.subplot(2,2,1)\n",
    "plt.subplot(2,2,2)"
   ]
  },
  {
   "cell_type": "code",
   "execution_count": null,
   "id": "82231770-15c1-431a-b90f-3fd5ba86a85a",
   "metadata": {},
   "outputs": [],
   "source": [
    "# 히스토그램 # 연속 데이터에 사용\n",
    "\n",
    "df_mean = df['Col1'].mean()\n",
    "\n",
    "plt.figure(figsize=(5, 3))\n",
    "plt.hist(df['Col1'], bins=20, alpha=0.7, edgecolor='w')\n",
    "plt.axvline(df_mean, color='tab:orange')\n",
    "plt.show()"
   ]
  },
  {
   "cell_type": "code",
   "execution_count": null,
   "id": "7837e2fc",
   "metadata": {},
   "outputs": [],
   "source": [
    "# KDE 그래프 # 밀도 추정\n",
    "# 라이브러리 필요\n",
    "import matplotlib.pyplot as plt\n",
    "import seaborn as sns \n",
    "\n",
    "# 밀도함수 그래프 그리기\n",
    "sns.kdeplot(df['col'])\n",
    "plt.show()\n",
    "\n",
    "# 100% 비율로 채우기\n",
    "sns.kdeplot(x='col', data = df, hue ='col'\n",
    "            , multiple = 'fill')\n",
    "plt.axhline(df['col'].mean(), color = 'r')\n",
    "\n",
    "\n",
    "# kde = True 밀도 추정 선 그래프에 추가\n",
    "sns.histplot(df['col'], bins=10, edgecolor = 'gray', kde=True)\n",
    "plt.show()"
   ]
  },
  {
   "cell_type": "code",
   "execution_count": null,
   "id": "651b1cb5",
   "metadata": {},
   "outputs": [],
   "source": [
    "# 선 그래프\n",
    "sns.lineplot(x = 'Date', y = 'Close', data = kospi, label = 'Close', color = 'blue', linewidth = .5)"
   ]
  },
  {
   "cell_type": "code",
   "execution_count": null,
   "id": "31e883d7",
   "metadata": {},
   "outputs": [],
   "source": [
    "# bar chart # countplot #자동으로 카운트\n",
    "# x : 세로 # y : 가로\n",
    "sns.countplot(x='col' data=df) \n",
    "# or\n",
    "sns.countplot(dr['col']) \n",
    "sns.countplot(x='Pclass', data=df)"
   ]
  },
  {
   "cell_type": "code",
   "execution_count": null,
   "id": "9bdc2f1f",
   "metadata": {},
   "outputs": [],
   "source": [
    "# pie 차트\n",
    "temp = df['col'].value_counts()\n",
    "temp.values, temp.index\n",
    "\n",
    "plt.pie(temp.values, labels = temp.index, autopct = '%.2f%%',\n",
    "        startangle=90, counterclock=False) # startangle = 90 : 90도 부터 시작\n",
    "                                            # counterclock = False : 시계 방향으로"
   ]
  },
  {
   "cell_type": "code",
   "execution_count": null,
   "id": "5d1201ae",
   "metadata": {},
   "outputs": [],
   "source": [
    "# scatter 차트 산점도 # col1의 co2에 대해 산점도\n",
    "plt.scatter(df['col1'], df['col2'])\n",
    "plt.show()\n",
    "\n",
    "\n",
    "# 숫자형 변수들에 대한 산점도를 한꺼번에 그려줍니다. \n",
    "sns.pairplot(air)\n",
    "plt.show()"
   ]
  },
  {
   "cell_type": "code",
   "execution_count": null,
   "id": "7b10c8b2",
   "metadata": {},
   "outputs": [],
   "source": [
    "# -1, 1에 가까울 수록 강한 상관관계를 나타냄.\n",
    "# 상관관계 p-value 구하기 \n",
    "# 1, -1에 가까울 수록 상관관계 강함\n",
    "# p-value가 0.05보다 작을 수록  두 변수간에 관계가 있다\n",
    "import scipy.stats as spst\n",
    "# 상관분석\n",
    "spst.pearsonr(df['col1'], df['col2'])\n",
    "\n",
    "# 데이터프레임 한꺼번에 상관계수 구하기\n",
    "df.corr()\n",
    "# 숫자만 \n",
    "df.corr(numeric_only=True)\n",
    "\n",
    "# 상관계수를 heatmap으로 시각화\n",
    "plt.figure(figsize = (6, 6))\n",
    "sns.heatmap(air.corr(),\n",
    "            annot = True,            # 숫자(상관계수) 표기 여부\n",
    "            cbar=False               # 색깔 바 제거\n",
    "            fmt = '.3f',             # 숫자 포멧 : 소수점 3자리까지 표기\n",
    "            cmap = 'RdYlBu_r',       # 칼라맵(색상)\n",
    "            vmin = -1, vmax = 1),    # 값의 최소, 최대값\n",
    "            quare=True,              # 정사각형 변경\n",
    "            annot_kws={'size':8},    # 텍스트 크기 지정  \n",
    "plt.show()"
   ]
  },
  {
   "cell_type": "markdown",
   "id": "ea4884bf",
   "metadata": {},
   "source": [
    "# 11. 상관계수"
   ]
  },
  {
   "cell_type": "code",
   "execution_count": null,
   "id": "045938d0",
   "metadata": {},
   "outputs": [],
   "source": [
    "import pandas as pd\n",
    "# 상관계수 행렬 계산\n",
    "correlation_matrix = data.corr()\n",
    "\n",
    "# 상관계수 계산\n",
    "# 특정 열과 다른 열 간의 상관계수 확인\n",
    "correlation = data['column1'].corr(data['column2'])\n",
    "\n",
    "import seaborn as sns\n",
    "import matplotlib.pyplot as plt\n",
    "\n",
    "\n",
    "# 상관계수 시각화\n",
    "# 히트맵을 이용한 상관계수 시각화\n",
    "plt.figure(figsize=(10, 8))\n",
    "sns.heatmap(correlation_matrix, annot=True, cmap='coolwarm', fmt=\".2f\")\n",
    "plt.title(\"Correlation Heatmap\")\n",
    "plt.show()\n",
    "\n",
    "# NaN 값 제외한 상관계수 계산\n",
    "correlation_matrix_cleaned = data.dropna().corr()"
   ]
  },
  {
   "cell_type": "markdown",
   "id": "4aaa3c38",
   "metadata": {},
   "source": [
    "# 12. seaborn"
   ]
  },
  {
   "cell_type": "code",
   "execution_count": null,
   "id": "020c3a7d",
   "metadata": {},
   "outputs": [],
   "source": [
    "# seaborn 문제 발생 시 실행\n",
    "# 커널 restart\n",
    "!pip install seaborn --upgrade"
   ]
  },
  {
   "cell_type": "code",
   "execution_count": null,
   "id": "72c4ca89",
   "metadata": {},
   "outputs": [],
   "source": [
    "# 라이브러리 불러오기\n",
    "import seaborn as sns\n",
    "import matplotlib.pyplot as plt"
   ]
  },
  {
   "cell_type": "code",
   "execution_count": null,
   "id": "3957785a",
   "metadata": {},
   "outputs": [],
   "source": [
    "# 데이터 불러오기 및 산점도 플롯\n",
    "\n",
    "# 데이터 불러오기\n",
    "import pandas as pd\n",
    "data = pd.read_csv(\"your_dataset.csv\")\n",
    "\n",
    "# 산점도 플롯\n",
    "sns.scatterplot(x='x_column', y='y_column', data=data)\n",
    "plt.show()"
   ]
  },
  {
   "cell_type": "code",
   "execution_count": null,
   "id": "9edb7a0d",
   "metadata": {},
   "outputs": [],
   "source": [
    "# 히스토그램 및 밀도 그래프\n",
    "\n",
    "# 히스토그램\n",
    "sns.histplot(data['column'], bins=10, kde=True)\n",
    "\n",
    "# 밀도 그래프\n",
    "sns.kdeplot(data['column'], shade=True)\n",
    "plt.show()\n",
    "\n",
    "# 100% 밀도 채우기\n",
    "sns.histplot(x='col', data = df, bins = 16\n",
    "             , hue ='cpl', multiple = 'fill')\n",
    "plt.axhline(titanic['cpl'].mean(), color = 'r')\n",
    "plt.show()"
   ]
  },
  {
   "cell_type": "code",
   "execution_count": null,
   "id": "0d1fde7b",
   "metadata": {},
   "outputs": [],
   "source": [
    "# 상자 그림 (Box Plot)\n",
    "sns.boxplot(x='group_column', y='value_column', data=data)\n",
    "plt.show()\n"
   ]
  },
  {
   "cell_type": "code",
   "execution_count": null,
   "id": "32f6d5db",
   "metadata": {},
   "outputs": [],
   "source": [
    "# 선 그래프\n",
    "sns.lineplot(x='x_column', y='y_column', data=data)\n",
    "plt.show()"
   ]
  },
  {
   "cell_type": "code",
   "execution_count": null,
   "id": "048dcae3",
   "metadata": {},
   "outputs": [],
   "source": [
    "# 히트맵\n",
    "sns.heatmap(data.corr(), annot=True, cmap='coolwarm')\n",
    "plt.show()"
   ]
  },
  {
   "cell_type": "code",
   "execution_count": null,
   "id": "3086beeb",
   "metadata": {},
   "outputs": [],
   "source": [
    "# 카테고리별 플롯\n",
    "#범주형 변수와 숫자형 변수 간의 관계를 시각화하고, \n",
    "#범주형 변수의 분포나 숫자형 변수의 집계값을 쉽게 파악하기 위해 사용됩니다.\n",
    "sns.barplot(x='category_column', y='value_column', data=data)\n",
    "\n",
    "sns.countplot(x='category_column', data=data)\n",
    "sns.boxplot(x='category_column', y='value_column', data=data)\n",
    "plt.show()"
   ]
  },
  {
   "cell_type": "code",
   "execution_count": null,
   "id": "e3f35ccd",
   "metadata": {},
   "outputs": [],
   "source": [
    "# 산점도 행렬 (Pair Plot)\n",
    "sns.pairplot(data)\n",
    "plt.show()"
   ]
  },
  {
   "cell_type": "code",
   "execution_count": null,
   "id": "a9c40c52",
   "metadata": {},
   "outputs": [],
   "source": [
    "# 분포 및 범주형 데이터 시각화\n",
    "sns.violinplot(x='category_column', y='value_column', data=data)\n",
    "sns.swarmplot(x='category_column', y='value_column', data=data)\n",
    "plt.show()"
   ]
  },
  {
   "cell_type": "code",
   "execution_count": null,
   "id": "f72a2b25",
   "metadata": {},
   "outputs": [],
   "source": [
    "# 다중 플롯\n",
    "sns.jointplot(x='x_column', y='y_column', data=data, kind='scatter')\n",
    "sns.jointplot(x='x_column', y='y_column', data=data, kind='kde')\n",
    "sns.jointplot(x='x_column', y='y_column', data=data, kind='reg')\n",
    "plt.show()"
   ]
  },
  {
   "cell_type": "markdown",
   "id": "3225006f",
   "metadata": {},
   "source": [
    "# 13. T-테스트 "
   ]
  },
  {
   "cell_type": "code",
   "execution_count": null,
   "id": "0fd7f36b",
   "metadata": {},
   "outputs": [],
   "source": [
    "# 라이브러리 불러오기\n",
    "import scipy.stats as stats"
   ]
  },
  {
   "cell_type": "code",
   "execution_count": null,
   "id": "f7d0f1ca",
   "metadata": {},
   "outputs": [],
   "source": [
    "# 두 그룹으로 데이터 저장\n",
    "died = temp.loc[temp['Survived']==0, 'Age']\n",
    "survived = temp.loc[temp['Survived']==1, 'Age']\n",
    "\n",
    "# statistic : 통계량  2보다 크므로, 차이가 있으나 크지 않다\n",
    "# statistic 양수는 died 평균값이 survived 보다 크다 \n",
    "spst.ttest_ind(died, survived)"
   ]
  },
  {
   "cell_type": "code",
   "execution_count": null,
   "id": "3bce30a6",
   "metadata": {},
   "outputs": [],
   "source": [
    "# 일표본 T-테스트 (One-sample T-test)\n",
    "\n",
    "# 예시 데이터\n",
    "data = [1, 2, 3, 4, 5]\n",
    "\n",
    "# 가설 설정: 평균이 기준값과 같은지 검정\n",
    "null_mean = 3\n",
    "\n",
    "# 일표본 T-테스트\n",
    "t_statistic, p_value = stats.ttest_1samp(data, null_mean)\n",
    "\n",
    "# 결과 출력\n",
    "print(\"T-statistic:\", t_statistic)\n",
    "print(\"P-value:\", p_value)\n"
   ]
  },
  {
   "cell_type": "code",
   "execution_count": null,
   "id": "d15a02b8",
   "metadata": {},
   "outputs": [],
   "source": [
    "# 독립표본 T-테스트 (Independent-samples T-test)\n",
    "\n",
    "# 예시 데이터\n",
    "group1 = [23, 25, 29, 32, 28]\n",
    "group2 = [20, 22, 27, 30, 26]\n",
    "\n",
    "# 독립표본 T-테스트\n",
    "t_statistic, p_value = stats.ttest_ind(group1, group2)\n",
    "\n",
    "# 결과 출력\n",
    "print(\"T-statistic:\", t_statistic)\n",
    "print(\"P-value:\", p_value)\n"
   ]
  },
  {
   "cell_type": "code",
   "execution_count": null,
   "id": "052748f8",
   "metadata": {},
   "outputs": [],
   "source": [
    "# 대응표본 T-테스트 (Paired-samples T-test)\n",
    "\n",
    "# 예시 데이터\n",
    "before = [18, 20, 22, 25, 21]\n",
    "after = [16, 18, 20, 23, 20]\n",
    "\n",
    "# 대응표본 T-테스트\n",
    "t_statistic, p_value = stats.ttest_rel(before, after)\n",
    "\n",
    "# 결과 출력\n",
    "print(\"T-statistic:\", t_statistic)\n",
    "print(\"P-value:\", p_value)\n"
   ]
  },
  {
   "cell_type": "code",
   "execution_count": null,
   "id": "fba5cf7a",
   "metadata": {},
   "outputs": [],
   "source": [
    "# anova 분산분석 #3개 이상 일때\n",
    "# 1) 분산 분석을 위한 데이터 만들기\n",
    "# NaN 행 제외\n",
    "temp = titanic.loc[titanic['Age'].notnull()]\n",
    "# 그룹별 저장\n",
    "P_1 = temp.loc[temp.Pclass == 1, 'Age']\n",
    "P_2 = temp.loc[temp.Pclass == 2, 'Age']\n",
    "P_3 = temp.loc[temp.Pclass == 3, 'Age']\n",
    "\n",
    "spst.f_oneway(P_1, P_2, P_3)"
   ]
  },
  {
   "cell_type": "code",
   "execution_count": null,
   "id": "37805aec",
   "metadata": {},
   "outputs": [],
   "source": [
    "# 등분산 검정 (Equal variance test)\n",
    "\n",
    "# 등분산 검정\n",
    "levene_statistic, p_value = stats.levene(group1, group2)\n",
    "\n",
    "# 결과 출력\n",
    "print(\"Levene's test statistic:\", levene_statistic)\n",
    "print(\"P-value:\", p_value)\n"
   ]
  },
  {
   "cell_type": "code",
   "execution_count": null,
   "id": "91e0b421",
   "metadata": {},
   "outputs": [],
   "source": [
    "# mosaic plot # 비율, 범주별 양 확인 할 수 있음\n",
    "mosaic(titanic, ['Embarked', 'Survived'])\n",
    "plt.axhline(1- titanic['Survived'].mean(), color = 'r')\n",
    "plt.show()"
   ]
  },
  {
   "cell_type": "markdown",
   "id": "814148cb",
   "metadata": {},
   "source": [
    "# 14. 카이제곱"
   ]
  },
  {
   "cell_type": "code",
   "execution_count": null,
   "id": "c7310276",
   "metadata": {},
   "outputs": [],
   "source": [
    "# 1) 먼저 교차표 집계- normalize 하면 안 됨\n",
    "table = pd.crosstab(titanic['Survived'], titanic['Pclass'])\n",
    "print(table)\n",
    "print('-' * 50)\n",
    "\n",
    "# 2) 카이제곱검정\n",
    "spst.chi2_contingency(table)\n",
    "\n",
    "\n",
    "\n",
    "\n",
    "Chi2ContingencyResult(statistic=102.88898875696056, pvalue=4.549251711298793e-23, dof=2, expected_freq=array([[133.09090909, 113.37373737, 302.53535354],\n",
    "       [ 82.90909091,  70.62626263, 188.46464646]])) \n",
    "\n",
    "# statistic :  높은 카이제곱 통계량 값은 범주형 변수들 간에 유의한 연관성이 있을 가능성\n",
    "\n",
    "# dof : 자유도가 높을수록, 분할표의 정보가 더 많아집니다.\n",
    "# 그러나, 너무 많은 자유도는 데이터가 불충분하여 신뢰할 수 없는 결과를 초래할 수 있습니다.\n",
    "# 적절한 자유도를 가진 모델을 선택하는 것이 중요합니다.\n",
    "\n",
    "# expected_freq :  기대 빈도가 높을수록, 관측된 데이터와 기대되는 데이터가 비슷하다는 것을 의미\n",
    "# 기대 빈도가 너무 높은 경우에도, 실제 관측된 데이터와 유의미한 차이가 있는지 여부를 확인해야 합니다.\n",
    "# 기대 빈도가 낮은 경우, 표본의 크기가 작거나 표본이 실제 모집단을 대표하지 못하는 경우일 수 있습니다.\n",
    "\n",
    "#statistic 자유도 보다 2배 이상 이면 관련이 있다\n"
   ]
  },
  {
   "cell_type": "markdown",
   "id": "34d4f049",
   "metadata": {},
   "source": [
    "# 15 시계열 데이터"
   ]
  },
  {
   "cell_type": "code",
   "execution_count": null,
   "id": "75ce4e8f",
   "metadata": {},
   "outputs": [],
   "source": [
    "result = pd.DataFrame({'observed':decomp.observed, 'trend':decomp.trend, 'seasonal':decomp.seasonal, 'residual':decomp.resid})  \n",
    "\n",
    "'observed': decomp.observed,  # 관측치 데이터\n",
    "'trend': decomp.trend,        # 추세 데이터\n",
    "'seasonal': decomp.seasonal,  # 계절성 데이터\n",
    "'residual': decomp.resid      # 잔차 데이터"
   ]
  },
  {
   "cell_type": "markdown",
   "id": "a801c722",
   "metadata": {},
   "source": [
    "# 16. 크롤링"
   ]
  },
  {
   "cell_type": "code",
   "execution_count": null,
   "id": "7a344641",
   "metadata": {},
   "outputs": [],
   "source": [
    "# 임포트\n",
    "import warnings\n",
    "warnings.filterwarnings('ignore') # 경고 문구 안뜨게 해주는 설정\n",
    "import requests\n",
    "import pandas as pd"
   ]
  },
  {
   "cell_type": "code",
   "execution_count": null,
   "id": "da32b9b2",
   "metadata": {},
   "outputs": [],
   "source": [
    "# 동적 방식\n",
    "page_size, page = 30, 1 \n",
    "url = f'https://m.stock.naver.com/api/index/KOSPI/price?pageSize={page_size}&page={page}' # 네이버 코스피 지수 \n",
    "\n",
    "response = requests.get(url) # 서버에 데이터 요청\n",
    "response\n",
    "\n",
    "data = response.json() #리스트로 바꿔줌 \n",
    "\n",
    "cols = ['localTradedAt', 'closePrice'] # 원하는 컬럼만 데이터 프레임으로 출력\n",
    "df = pd.DataFrame(data)[cols] \n",
    "df.head()"
   ]
  },
  {
   "cell_type": "code",
   "execution_count": null,
   "id": "d54b22fb",
   "metadata": {},
   "outputs": [],
   "source": [
    "# 함수로 만듦\n",
    "def stock_price(code='KOSPI', page_size=60, page=1):\n",
    "    # 1. URL\n",
    "    url = f'https://m.stock.naver.com/api/index/{code}/price?pageSize={page_size}&page={page}'\n",
    "    # 2. request(url)\n",
    "    response = requests.get(url)\n",
    "    # 3. parsing json\n",
    "    data = response.json()\n",
    "    # 4. 데이터프레임 \n",
    "    cols = ['localTradedAt', 'closePrice']\n",
    "    df = pd.DataFrame(data)[cols]\n",
    "    #pd.DataFrame(response.json())[['localTradedAt', 'closePrice']] # 한줄로 줄일 수 있다\n",
    "    \n",
    "    return df"
   ]
  },
  {
   "cell_type": "markdown",
   "id": "92df6727",
   "metadata": {},
   "source": [
    "# 17. 머신러닝\n",
    "- x, y 분리\n",
    "\n",
    "우선 target 변수를 명확히 지정합니다.\n",
    "target을 제외한 나머지 변수들 데이터는 x로 선언합니다.\n",
    "target 변수 데이터는 y로 선언합니다.\n",
    "이 결과로 만들어진 x는 데이터프레임, y는 시리즈가 됩니다.\n",
    "이후 모든 작업은 x, y를 대상으로 진행합니다."
   ]
  },
  {
   "cell_type": "code",
   "execution_count": null,
   "id": "19417fdb",
   "metadata": {},
   "outputs": [],
   "source": [
    "# Pclass Age 평균 구하기\n",
    "titanic.groupby(by='Pclass', as_index=False)['Age'].transform('mean')"
   ]
  },
  {
   "cell_type": "code",
   "execution_count": null,
   "id": "eeab70a0",
   "metadata": {},
   "outputs": [],
   "source": [
    "# \n",
    "# 독립변수 -> features\n",
    "# 종속변수 -> target"
   ]
  },
  {
   "cell_type": "code",
   "execution_count": null,
   "id": "8dd47fe2",
   "metadata": {},
   "outputs": [],
   "source": [
    "# target 확인\n",
    "target = 'Ozone'\n",
    "\n",
    "# 데이터 분리\n",
    "x = data.drop(target, axis=1)\n",
    "y = data.loc[:, target] # [행, 열]"
   ]
  },
  {
   "cell_type": "code",
   "execution_count": null,
   "id": "0ad93c9e",
   "metadata": {},
   "outputs": [],
   "source": [
    "# 모듈 불러오기\n",
    "from sklearn.model_selection import train_test_split # 데이터를 무자위로 섞음\n",
    "# 7:3으로 분리\n",
    "x_train, x_test, y_train, y_test = train_test_split(x, y, test_size=0.3, \n",
    "                                                    random_state=1, shuffle=True, stratify=y) \n",
    "                                                    # random_state : 난수 섞음 즉, 동일하게 결과를 얻기 위해 사용\n",
    "                                                    # shuffle : 섞음, False는 안섞음 시계열을 할 때 False\n",
    "                                                    # stratify : y기준으로 균등하게 분할"
   ]
  },
  {
   "cell_type": "markdown",
   "id": "a4c90f5d",
   "metadata": {},
   "source": [
    "### 모델링"
   ]
  },
  {
   "cell_type": "markdown",
   "id": "9f8f2d90",
   "metadata": {},
   "source": [
    "- 알고리즘: LinearRegression\n",
    "- 평가방법: mean_absolute_error"
   ]
  },
  {
   "cell_type": "code",
   "execution_count": null,
   "id": "888f09d9",
   "metadata": {},
   "outputs": [],
   "source": [
    "# 1단계: 불러오기\n",
    "from sklearn.linear_model import LinearRegression\n",
    "from sklearn.metrics import mean_absolute_error # 평가는 metrics에서 다 불러올 수 있다."
   ]
  },
  {
   "cell_type": "code",
   "execution_count": null,
   "id": "4e11edf1",
   "metadata": {},
   "outputs": [],
   "source": [
    "# 2단계: 선언하기\n",
    "model = LinearRegression()"
   ]
  },
  {
   "cell_type": "code",
   "execution_count": null,
   "id": "923c0216",
   "metadata": {},
   "outputs": [],
   "source": [
    "# 3단계: 학습하기\n",
    "model.fit(x_train, y_train)"
   ]
  },
  {
   "cell_type": "code",
   "execution_count": null,
   "id": "69d18656",
   "metadata": {},
   "outputs": [],
   "source": [
    "# 4단계: 예측하기\n",
    "y_pred = model.predict(x_test)"
   ]
  },
  {
   "cell_type": "code",
   "execution_count": null,
   "id": "2c8301d8",
   "metadata": {},
   "outputs": [],
   "source": [
    "# 5단계: 평가하기 \n",
    "# 오차 (평균)출력\n",
    "print('MAE:', mean_absolute_error(y_test, y_pred)) # 평균 절대 오차 # 값이 낮을 수록 좋은 모델"
   ]
  },
  {
   "cell_type": "code",
   "execution_count": null,
   "id": "ca8dfb7d",
   "metadata": {},
   "outputs": [],
   "source": [
    "# 실제값, 예측값 비교\n",
    "print(y_test.values[:10])\n",
    "print(y_pred[:10])"
   ]
  },
  {
   "cell_type": "code",
   "execution_count": null,
   "id": "5efc0517",
   "metadata": {},
   "outputs": [],
   "source": [
    "# 기준(평균) 모델 성능 평가\n",
    "mean_ozone = y_train.mean()\n",
    "y_base= np.array([mean_ozone] * len(y_test))\n",
    "\n",
    "# 5단계: 평가하기 \n",
    "# 오차 (평균)출력\n",
    "print('MAE:', mean_absolute_error(y_test, y_base))"
   ]
  },
  {
   "cell_type": "code",
   "execution_count": null,
   "id": "93c47b00",
   "metadata": {},
   "outputs": [],
   "source": [
    "# 시각화하여 비교\n",
    "\n",
    "plt.plot(y_test.values, label='Actual')\n",
    "plt.plot(y_pred, label='Predicted')\n",
    "plt.plot(y_base, label='baseline', color='r', linestyle='--')\n",
    "plt.legend()\n",
    "plt.show()"
   ]
  },
  {
   "cell_type": "markdown",
   "id": "846f7956",
   "metadata": {},
   "source": [
    "- 알고리즘: KNeighborsClassifier\n",
    "- 평가방법: accuracy_score"
   ]
  },
  {
   "cell_type": "code",
   "execution_count": null,
   "id": "3387af3c",
   "metadata": {},
   "outputs": [],
   "source": [
    "# 1단계: 불러오기\n",
    "from sklearn.neighbors import KNeighborsClassifier #최근접\n",
    "from sklearn.metrics import accuracy_score"
   ]
  },
  {
   "cell_type": "code",
   "execution_count": null,
   "id": "150e0ac0",
   "metadata": {},
   "outputs": [],
   "source": [
    "# 2단계: 선언하기\n",
    "model = KNeighborsClassifier()"
   ]
  },
  {
   "cell_type": "code",
   "execution_count": null,
   "id": "b8c57505",
   "metadata": {},
   "outputs": [],
   "source": [
    "# 3단계: 학습하기\n",
    "model.fit(x_train, y_train)"
   ]
  },
  {
   "cell_type": "code",
   "execution_count": null,
   "id": "8e85e4a4",
   "metadata": {},
   "outputs": [],
   "source": [
    "# 4단계: 예측하기\n",
    "y_pred = model.predict(x_test)"
   ]
  },
  {
   "cell_type": "code",
   "execution_count": null,
   "id": "48c287cd",
   "metadata": {},
   "outputs": [],
   "source": [
    "print(y_test.values[:20])\n",
    "print(y_pred[:20]) # 비교"
   ]
  },
  {
   "cell_type": "code",
   "execution_count": null,
   "id": "5b6b7b58",
   "metadata": {},
   "outputs": [],
   "source": [
    "# 5단계: 평가하기\n",
    "print('accuracy_score', accuracy_score(y_test, y_pred)) # 86% "
   ]
  },
  {
   "cell_type": "code",
   "execution_count": null,
   "id": "d1cf6ca4",
   "metadata": {},
   "outputs": [],
   "source": [
    "y_base = np.array([y_train.mode()[0]] * len(y_test))\n",
    "print('accuracy_score', accuracy_score(y_test, y_base)) # base 56%"
   ]
  },
  {
   "cell_type": "markdown",
   "id": "2733b58e",
   "metadata": {},
   "source": [
    "- 알고리즘: DecisionTreeClassifier\n",
    "- 평가방법: accuracy_score"
   ]
  },
  {
   "cell_type": "code",
   "execution_count": null,
   "id": "03fafccb",
   "metadata": {},
   "outputs": [],
   "source": [
    "# 1단계: 불러오기 # sklearn 은 target(종속변수)은 문자열 허용 feature(독립변수)는 안됌\n",
    "from sklearn.tree import DecisionTreeClassifier # 의사 결정 나무\n",
    "from sklearn.metrics import accuracy_score"
   ]
  },
  {
   "cell_type": "code",
   "execution_count": null,
   "id": "008e59a2",
   "metadata": {},
   "outputs": [],
   "source": [
    "# 2단계: 선언하기\n",
    "model = DecisionTreeClassifier()"
   ]
  },
  {
   "cell_type": "code",
   "execution_count": null,
   "id": "30c5d825",
   "metadata": {},
   "outputs": [],
   "source": [
    "# 3단계: 학습하기\n",
    "model.fit(x_train, y_train)"
   ]
  },
  {
   "cell_type": "code",
   "execution_count": null,
   "id": "06fbb3f1",
   "metadata": {},
   "outputs": [],
   "source": [
    "# 4단계: 예측하기\n",
    "y_pred = model.predict(x_test)"
   ]
  },
  {
   "cell_type": "code",
   "execution_count": null,
   "id": "3b125420",
   "metadata": {},
   "outputs": [],
   "source": [
    "print(y_test.values[:10])\n",
    "print(y_pred[:10]) # 비교"
   ]
  },
  {
   "cell_type": "code",
   "execution_count": null,
   "id": "c1d52b52",
   "metadata": {},
   "outputs": [],
   "source": [
    "# 5단계 평가하기\n",
    "print('accuracy_score:', accuracy_score(y_test, y_pred)) # 95% 정확도 높네..."
   ]
  },
  {
   "cell_type": "code",
   "execution_count": null,
   "id": "f68e2cac",
   "metadata": {},
   "outputs": [],
   "source": [
    "y_train.value_counts() # 빈도수는 비슷"
   ]
  },
  {
   "cell_type": "markdown",
   "id": "6dcd9da7",
   "metadata": {},
   "source": [
    "- MSE, RMSE, MAE, MAPE는 오류(Error) 이므로 작을 수록 좋음\n",
    "- R2 Score는 클 수록 좋음"
   ]
  },
  {
   "cell_type": "markdown",
   "id": "886c4dfe",
   "metadata": {},
   "source": [
    "## 회귀 성능 평가"
   ]
  },
  {
   "cell_type": "markdown",
   "id": "1b7e8db9",
   "metadata": {},
   "source": [
    "**1) MAE(Mean Absolute Error)**\n",
    "\n",
    "\n",
    "$$\\large MAE=\\frac{1}{n}\\sum_{i=1}^{n}|y_{i}-\\hat{y}_{i}|$$"
   ]
  },
  {
   "cell_type": "markdown",
   "id": "df622cbe",
   "metadata": {},
   "source": [
    "- 평균 절대 오차"
   ]
  },
  {
   "cell_type": "code",
   "execution_count": null,
   "id": "7143a8fa",
   "metadata": {},
   "outputs": [],
   "source": [
    "# 모듈 불러오기\n",
    "from sklearn.metrics import mean_absolute_error\n",
    "\n",
    "# 성능 평가\n",
    "print('MAE:',mean_absolute_error(y_test, y_pred)) # 평균 절대 오차"
   ]
  },
  {
   "cell_type": "markdown",
   "id": "40fe1246",
   "metadata": {},
   "source": [
    "**2) MSE(Mean Squared Error)**\n",
    "\n",
    "$$\\large MSE=\\frac{1}{n}\\sum_{i=1}^{n}(y_{i}-\\hat{y}_{i})^2$$"
   ]
  },
  {
   "cell_type": "markdown",
   "id": "a0327601",
   "metadata": {},
   "source": [
    "- 평균 제곱 오차"
   ]
  },
  {
   "cell_type": "code",
   "execution_count": null,
   "id": "fb502c37",
   "metadata": {},
   "outputs": [],
   "source": [
    "# 모듈 불러오기\n",
    "from sklearn.metrics import mean_squared_error\n",
    "\n",
    "# 성능 평가\n",
    "print('MSE:',mean_squared_error(y_test, y_pred))"
   ]
  },
  {
   "cell_type": "markdown",
   "id": "4919b124",
   "metadata": {},
   "source": [
    "**3) RMSE(Root Mean Squared Error)**\n",
    "\n",
    "\n",
    "$$\\large RMSE=\\sqrt{\\frac{1}{n}\\sum_{i=1}^{n}(y_{i}-\\hat{y}_{i})^2}$$"
   ]
  },
  {
   "cell_type": "markdown",
   "id": "49ece13c",
   "metadata": {},
   "source": [
    "- MSE(평균 제곱 오차)의 제곱근"
   ]
  },
  {
   "cell_type": "code",
   "execution_count": null,
   "id": "5a80b59b",
   "metadata": {},
   "outputs": [],
   "source": [
    "# 모듈 불러오기\n",
    "from sklearn.metrics import mean_squared_error\n",
    "\n",
    "# 성능 평가\n",
    "print('RMSE:', mean_squared_error(y_test, y_pred) ** 0.5) # 루트 0.5 제곱"
   ]
  },
  {
   "cell_type": "code",
   "execution_count": null,
   "id": "3b1d41ad",
   "metadata": {},
   "outputs": [],
   "source": [
    "# 모듈 불러오기\n",
    "from sklearn.metrics import mean_squared_error\n",
    "\n",
    "# 성능 평가\n",
    "print('RMSE:', mean_squared_error(y_test, y_pred, squared=False)) "
   ]
  },
  {
   "cell_type": "markdown",
   "id": "adcf7b4a",
   "metadata": {},
   "source": [
    "**4) MAPE(Mean Absolute Percentage Error)**\n",
    "\n",
    "$$\\large MAPE=\\frac{1}{n}\\sum_{i=1}^{n}\\left |\\frac{y_{i}-\\hat{y}_{i}}{y_{i}}\\right |$$"
   ]
  },
  {
   "cell_type": "markdown",
   "id": "ca66e07c",
   "metadata": {},
   "source": [
    "- 예측 값과 실제 값 사이의 평균 절대 백분율 오차"
   ]
  },
  {
   "cell_type": "code",
   "execution_count": null,
   "id": "a672c0d1",
   "metadata": {},
   "outputs": [],
   "source": [
    "# 모듈 불러오기\n",
    "from sklearn.metrics import mean_absolute_percentage_error\n",
    "\n",
    "# 성능 평가\n",
    "print('MAPE:', mean_absolute_percentage_error(y_test, y_pred)) # 오차의 비율"
   ]
  },
  {
   "cell_type": "markdown",
   "id": "01250a43",
   "metadata": {},
   "source": [
    "**5) R2-Score**\n",
    "\n",
    "$$\\large R^2=1-\\frac{SSE}{SST}=1-\\frac{\\sum_{i=1}^{n}(y_{i}-\\hat{y}_{i})^2}{\\sum_{i=1}^{n}(y_{i}-\\bar{y}_{i})^2}$$"
   ]
  },
  {
   "cell_type": "markdown",
   "id": "cca37cfc",
   "metadata": {},
   "source": [
    "- 0에서 1 사이의 값을 가지며, 높을수록 모델이 데이터를 잘 설명한다고 해석"
   ]
  },
  {
   "cell_type": "code",
   "execution_count": null,
   "id": "2ed5429b",
   "metadata": {},
   "outputs": [],
   "source": [
    "# 모듈 불러오기\n",
    "from sklearn.metrics import r2_score\n",
    "\n",
    "# 성능 평가\n",
    "print('R2:', r2_score(y_test, y_pred)) # 57% # 클수록 좋음"
   ]
  },
  {
   "cell_type": "markdown",
   "id": "a466f3f5",
   "metadata": {},
   "source": [
    "- score() 메서드를 사용해 R2 Score를 확인할 수 있습니다."
   ]
  },
  {
   "cell_type": "code",
   "execution_count": null,
   "id": "b8e9f758",
   "metadata": {},
   "outputs": [],
   "source": [
    "# 참고\n",
    "model.score(x_test, y_test)"
   ]
  },
  {
   "cell_type": "markdown",
   "id": "13c5ee3a",
   "metadata": {},
   "source": [
    "**6) 학습 성능 확인**"
   ]
  },
  {
   "cell_type": "code",
   "execution_count": null,
   "id": "5728ab62",
   "metadata": {},
   "outputs": [],
   "source": [
    "# 학습 데이터에 대한 예측\n",
    "y_train_pred = model.predict(x_train)\n",
    "\n",
    "# 학습 성능 확인\n",
    "print('R2:', r2_score(y_train, y_train_pred)) #학습 성능과 평가 성능이 비슷 과적합은 아님"
   ]
  },
  {
   "cell_type": "code",
   "execution_count": null,
   "id": "82b584bc",
   "metadata": {},
   "outputs": [],
   "source": [
    "# 학습성능, 평가성능 비교\n",
    "print('학습성능:', model.score(x_train, y_train))\n",
    "print('평가성능:', model.score(x_test, y_test))"
   ]
  },
  {
   "cell_type": "markdown",
   "id": "bf56b71a",
   "metadata": {},
   "source": [
    "## 분류 성능 평가"
   ]
  },
  {
   "cell_type": "markdown",
   "id": "1e6b3c2c",
   "metadata": {},
   "source": [
    "**1) Confusion Matrix**"
   ]
  },
  {
   "cell_type": "code",
   "execution_count": null,
   "id": "1b9145db",
   "metadata": {},
   "outputs": [],
   "source": [
    "# 모듈 불러오기\n",
    "from sklearn.metrics import confusion_matrix\n",
    "\n",
    "# 성능 평가\n",
    "print(\"CM:\", confusion_matrix(y_test, y_pred)) # TN, FP, FN, TP"
   ]
  },
  {
   "cell_type": "code",
   "execution_count": null,
   "id": "9d407353",
   "metadata": {},
   "outputs": [],
   "source": [
    "# 혼동행렬 시각화\n",
    "plt.figure(figsize=(5, 2))\n",
    "sns.heatmap(confusion_matrix(y_test, y_pred), annot=True, cbar=False,\n",
    "           cmap='Blues')\n",
    "plt.show()"
   ]
  },
  {
   "cell_type": "markdown",
   "id": "b70178af",
   "metadata": {},
   "source": [
    "**2) Accuracy**\n",
    "\n",
    "$$\\large Accuracy = \\frac{TP+TN}{TP+TN+FP+FN}$$"
   ]
  },
  {
   "cell_type": "code",
   "execution_count": null,
   "id": "b159a598",
   "metadata": {},
   "outputs": [],
   "source": [
    "# 모듈 불러오기\n",
    "from sklearn.metrics import accuracy_score\n",
    "\n",
    "# 성능 평가\n",
    "print('Accuracy:', accuracy_score(y_test, y_pred)) # 정확도"
   ]
  },
  {
   "cell_type": "markdown",
   "id": "7da09aea",
   "metadata": {},
   "source": [
    "**3) Precision**\n",
    "\n",
    "$$\\large Precision = \\frac{TP}{TP+FP}$$"
   ]
  },
  {
   "cell_type": "code",
   "execution_count": null,
   "id": "59dff865",
   "metadata": {},
   "outputs": [],
   "source": [
    "# 모듈 불러오기\n",
    "from sklearn.metrics import precision_score\n",
    "\n",
    "# 성능 평가\n",
    "print('Precision', precision_score(y_test, y_pred)) # 정밀도\n",
    "print('Precision', precision_score(y_test, y_pred, average=None)) # 0의정밀도, 1정밀도 #특이도 # 이걸 권고\n",
    "print('Precision', precision_score(y_test, y_pred, average='macro'))\n",
    "print('Precision', precision_score(y_test, y_pred, average='weighted'))"
   ]
  },
  {
   "cell_type": "markdown",
   "id": "b2f430c1",
   "metadata": {},
   "source": [
    "**4) Recall**\n",
    "\n",
    "$$\\large Recall = \\frac{TP}{TP+FN}$$"
   ]
  },
  {
   "cell_type": "code",
   "execution_count": null,
   "id": "e7585225",
   "metadata": {},
   "outputs": [],
   "source": [
    "# 모듈 불러오기\n",
    "from sklearn.metrics import recall_score\n",
    "\n",
    "# 성능 평가\n",
    "print('Recall:', recall_score(y_test, y_pred, average=None)) # 재현도 # 0.9 값 특이도 \n",
    "                                                             # 민감도(실제값) 정밀도(예측값)"
   ]
  },
  {
   "cell_type": "markdown",
   "id": "e55eeef2",
   "metadata": {},
   "source": [
    "**5) F1-Score**\n",
    "\n",
    "$$\\large F1 = \\frac{2\\times Precision\\times Recall}{Precision+Recall}$$"
   ]
  },
  {
   "cell_type": "code",
   "execution_count": null,
   "id": "aed778da",
   "metadata": {},
   "outputs": [],
   "source": [
    "# 모듈 불러오기\n",
    "from sklearn.metrics import f1_score\n",
    "\n",
    "# 성능 평가\n",
    "print(\"F1:\", f1_score(y_test, y_pred, average=None)) # 정밀도와 재현율의 조화 평균"
   ]
  },
  {
   "cell_type": "markdown",
   "id": "b0ed53e1",
   "metadata": {},
   "source": [
    "**6) Classification Report**"
   ]
  },
  {
   "cell_type": "code",
   "execution_count": null,
   "id": "9b5b1d49",
   "metadata": {},
   "outputs": [],
   "source": [
    "# 모듈 불러오기\n",
    "from sklearn.metrics import classification_report\n",
    "\n",
    "# 성능 평가\n",
    "print(classification_report(y_test, y_pred))"
   ]
  },
  {
   "cell_type": "code",
   "execution_count": null,
   "id": "46f34e39",
   "metadata": {},
   "outputs": [],
   "source": [
    "# 참고\n",
    "print('학습성능:', model.score(x_train, y_train))\n",
    "print('평가성능:', model.score(x_test, y_test))"
   ]
  },
  {
   "cell_type": "markdown",
   "id": "9f6f6ac3",
   "metadata": {},
   "source": [
    "- 회귀 계수를 살펴봅니다."
   ]
  },
  {
   "cell_type": "code",
   "execution_count": null,
   "id": "f6a8db26",
   "metadata": {},
   "outputs": [],
   "source": [
    "# 회귀계수 확인\n",
    "print(model.coef_) # 가중치\n",
    "print(model.intercept_) # 편향"
   ]
  },
  {
   "cell_type": "markdown",
   "id": "f38033b5",
   "metadata": {},
   "source": [
    "$$ \\large Distance = 3.9*Speed -16.37 $$"
   ]
  },
  {
   "cell_type": "code",
   "execution_count": null,
   "id": "1605c061",
   "metadata": {},
   "outputs": [],
   "source": [
    "# 회귀식 확인\n",
    "# y = a * x + b\n",
    "a = model.coef_  # 가중치\n",
    "b = model.intercept_ # 편향\n",
    "#speed = np.array([x_test.min(), x_test.max()])\n",
    "speed = np.linspace(x_test.min(), x_test.max(), 2)\n",
    "# 회귀선 = 가중치 x feature x 편향\n",
    "dist = a * speed + b # 회귀선"
   ]
  },
  {
   "cell_type": "code",
   "execution_count": null,
   "id": "aabf5696",
   "metadata": {},
   "outputs": [],
   "source": [
    "# 회귀선 그리기\n",
    "plt.scatter(x_test, y_test) # 평가 데이터\n",
    "plt.scatter(x_train, y_train, color='orange') # 학습 데이터\n",
    "plt.plot(speed, dist, color='r') # 학습 데이터 회귀선\n",
    "plt.show()"
   ]
  },
  {
   "cell_type": "markdown",
   "id": "4b7a9b25",
   "metadata": {},
   "source": [
    "### 정규화(Normalization)\n",
    "• 각 변수의 값이 0과 1사이 값이 됨\n",
    "\n",
    "### 표준화(Standardization)\n",
    "• 각 변수의 평균이 0, 표준편차가 1이 됨\n"
   ]
  },
  {
   "cell_type": "markdown",
   "id": "2b34229d",
   "metadata": {},
   "source": [
    "## 결정 트리"
   ]
  },
  {
   "cell_type": "code",
   "execution_count": null,
   "id": "bd835ae6",
   "metadata": {},
   "outputs": [],
   "source": [
    "# 1단계: 불러오기\n",
    "from sklearn.tree import DecisionTreeClassifier\n",
    "from sklearn.metrics import confusion_matrix, classification_report"
   ]
  },
  {
   "cell_type": "code",
   "execution_count": null,
   "id": "755bfb7e",
   "metadata": {},
   "outputs": [],
   "source": [
    "# 2단계: 선언하기 \n",
    "model = DecisionTreeClassifier(max_depth=5 ,random_state=1) #독립 변수 제한 # 같은 걸 고를 수 있음"
   ]
  },
  {
   "cell_type": "code",
   "execution_count": null,
   "id": "09123b08",
   "metadata": {},
   "outputs": [],
   "source": [
    "# 3단계: 학습하기\n",
    "model.fit(x_train, y_train)"
   ]
  },
  {
   "cell_type": "code",
   "execution_count": null,
   "id": "b3b79431",
   "metadata": {},
   "outputs": [],
   "source": [
    "# 4단계: 예측하기\n",
    "y_pred = model.predict(x_test)"
   ]
  },
  {
   "cell_type": "code",
   "execution_count": null,
   "id": "f4af5a39",
   "metadata": {},
   "outputs": [],
   "source": [
    "# 5단계 평가하기\n",
    "print('confusion:', confusion_matrix(y_test, y_pred))\n",
    "print('report::', classification_report(y_test, y_pred))"
   ]
  },
  {
   "cell_type": "code",
   "execution_count": null,
   "id": "af504bae",
   "metadata": {},
   "outputs": [],
   "source": [
    "# 시각화 모듈 불러오기\n",
    "from sklearn.tree import export_graphviz\n",
    "from IPython.display import Image\n",
    "\n",
    "# 이미지 파일 만들기\n",
    "export_graphviz(model,                                 # 모델 이름\n",
    "                out_file='tree.dot',                   # 파일 이름\n",
    "                feature_names=list(x),                 # Feature 이름\n",
    "                class_names=['die', 'survived'],       # Target Class 이름 (분류인 경우만 지정)\n",
    "                rounded=True,                          # 둥근 테두리\n",
    "                precision=2,                           # 불순도 소숫점 자리수\n",
    "                max_depth=3,                           # 실제로 표시할 트리 깊이\n",
    "                filled=True)                           # 박스 내부 채우기\n",
    "\n",
    "# 파일 변환\n",
    "!dot tree.dot -Tpng -otree.png -Gdpi=300\n",
    "\n",
    "# 이미지 파일 표시\n",
    "Image(filename='tree.png')"
   ]
  },
  {
   "cell_type": "code",
   "execution_count": null,
   "id": "396c86b7",
   "metadata": {},
   "outputs": [],
   "source": [
    "# 변수 중요도 시각화\n",
    "# 변수 중요도\n",
    "plt.figure(figsize=(5, 5))\n",
    "plt.barh(y=list(x), width=model.feature_importances_) # feature_importances_ 속성이 변수 중요도\n",
    "plt.show()"
   ]
  },
  {
   "cell_type": "code",
   "execution_count": null,
   "id": "0232e060",
   "metadata": {},
   "outputs": [],
   "source": [
    "# 정렬해서 중요도 시각화\n",
    "# 데이터프레임 만들기\n",
    "df = pd.DataFrame()\n",
    "df['feature'] = list(x)\n",
    "df['importance'] = model.feature_importances_\n",
    "df.sort_values(by='importance', ascending=True, inplace=True)\n",
    "\n",
    "# 시각화\n",
    "plt.figure(figsize=(5, 5))\n",
    "plt.barh(df['feature'], df['importance'])\n",
    "plt.show()"
   ]
  },
  {
   "cell_type": "code",
   "execution_count": null,
   "id": "3b687aad",
   "metadata": {},
   "outputs": [],
   "source": []
  },
  {
   "cell_type": "code",
   "execution_count": null,
   "id": "3951e3fc",
   "metadata": {},
   "outputs": [],
   "source": []
  },
  {
   "cell_type": "code",
   "execution_count": null,
   "id": "d91fda27",
   "metadata": {},
   "outputs": [],
   "source": []
  },
  {
   "cell_type": "code",
   "execution_count": null,
   "id": "20d20cbb",
   "metadata": {},
   "outputs": [],
   "source": []
  },
  {
   "cell_type": "code",
   "execution_count": null,
   "id": "2b94d5c5",
   "metadata": {},
   "outputs": [],
   "source": []
  },
  {
   "cell_type": "code",
   "execution_count": null,
   "id": "8a3372d1",
   "metadata": {},
   "outputs": [],
   "source": []
  },
  {
   "cell_type": "code",
   "execution_count": null,
   "id": "6f393a97",
   "metadata": {},
   "outputs": [],
   "source": []
  },
  {
   "cell_type": "code",
   "execution_count": null,
   "id": "9780775e",
   "metadata": {},
   "outputs": [],
   "source": []
  },
  {
   "cell_type": "markdown",
   "id": "84a3f253",
   "metadata": {},
   "source": [
    "# 18"
   ]
  },
  {
   "cell_type": "code",
   "execution_count": null,
   "id": "78596ac3",
   "metadata": {},
   "outputs": [],
   "source": []
  },
  {
   "cell_type": "code",
   "execution_count": null,
   "id": "a9a09f96",
   "metadata": {},
   "outputs": [],
   "source": []
  }
 ],
 "metadata": {
  "kernelspec": {
   "display_name": "Python 3 (ipykernel)",
   "language": "python",
   "name": "python3"
  },
  "language_info": {
   "codemirror_mode": {
    "name": "ipython",
    "version": 3
   },
   "file_extension": ".py",
   "mimetype": "text/x-python",
   "name": "python",
   "nbconvert_exporter": "python",
   "pygments_lexer": "ipython3",
   "version": "3.11.5"
  }
 },
 "nbformat": 4,
 "nbformat_minor": 5
}
