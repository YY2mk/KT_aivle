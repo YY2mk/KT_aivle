{
 "cells": [
  {
   "cell_type": "markdown",
   "id": "d69174e4-2949-4bfd-a4cb-44a17b3d2255",
   "metadata": {},
   "source": [
    "# 1. 데이터 불러오기"
   ]
  },
  {
   "cell_type": "code",
   "execution_count": null,
   "id": "e1f509d3-9224-457b-8407-567d0b14fcc2",
   "metadata": {
    "tags": []
   },
   "outputs": [],
   "source": [
    "import pandas as pd\n",
    "\n",
    "# CSV 파일 불러오기\n",
    "df = pd.read_csv('sales.csv')\n",
    "\n",
    "# 엑셀 파일 불러오기\n",
    "df = pd.read_excel('파일명.xlsx')\n",
    "\n",
    "# 리스트로 데이터프레임 생성\n",
    "data = {'Column1': [1, 2, 3], 'Column2': ['A', 'B', 'C']}\n",
    "df = pd.DataFrame(data)\n",
    "\n",
    "# 인덱스 초기화\n",
    "df.reset_index(drop=False, inplace=True)\n",
    "\n",
    "# 데이터 프레임 여러개 출력\n",
    "display(df1)\n",
    "display(df2)\n",
    "\n",
    "# CSV 파일 저장\n",
    "df.to_csv('df.csv', index=False)"
   ]
  },
  {
   "cell_type": "markdown",
   "id": "d1e198ad-043a-47ec-96d8-820322c2f1a7",
   "metadata": {},
   "source": [
    "# 2. 기본 정보 확인"
   ]
  },
  {
   "cell_type": "code",
   "execution_count": null,
   "id": "c10e13d8-afed-4af5-be57-8cfd34a4d32c",
   "metadata": {
    "tags": []
   },
   "outputs": [],
   "source": [
    "# 데이터 크기 확인\n",
    "df.shape\n",
    "\n",
    "# 상위 n개 행 출력\n",
    "df.head()\n",
    "\n",
    "# 하위 n개 행 출력\n",
    "df.tail()\n",
    "\n",
    "# 데이터 인덱스 확인\n",
    "df.index\n",
    "\n",
    "# 속성 값 확인\n",
    "df.values\n",
    "\n",
    "# 컬럼 정보 확인\n",
    "df.columns\n",
    "\n",
    "# 컬럼 출력\n",
    "list(df)\n",
    "\n",
    "# 자료형 확인\n",
    "df.dtypes\n",
    "\n",
    "# 데이터프레임 정보 출력\n",
    "df.info()\n",
    "\n",
    "# 기본 통계 정보 출력\n",
    "df.describe()\n",
    "\n",
    "# 특정 데이터 타입형 열 조회\n",
    "df.select_dtypes()"
   ]
  },
  {
   "cell_type": "markdown",
   "id": "557e5abb-0b8b-4ce0-ac77-91f44aacb334",
   "metadata": {},
   "source": [
    "# 3. 데이터 탐색"
   ]
  },
  {
   "cell_type": "code",
   "execution_count": null,
   "id": "23fa6a0d-64f7-4089-ac03-7a77841ca678",
   "metadata": {},
   "outputs": [],
   "source": [
    "# 날짜 형식으로 바꿔주기\n",
    "df['date'] = pd.to_datetime(df['date']) # 날짜 형변환\n",
    "df['year'] = df['date'].dt.year ## 날짜 쪼개기\n",
    "df['month'] = df['date'].dt.month\n",
    "df['day'] = df['date'].dt.day\n",
    "df['hour'] = df['date'].dt.hour\n",
    "df['minute'] = df['date'].dt.minute\n",
    "df['second'] = df['date'].dt.second\n",
    "df['dayofweek'] = df['date'].dt.dayofweek    # 0 ~ 6\n",
    "df['weekday'] = df['date'].dt.day_name()  # Monday ~ Sunday\n",
    "\n",
    "# type 바꿔주기\n",
    "df['Column'] = df['Column'].astype(str)\n",
    "\n",
    "# 열 기준 정렬\n",
    "df.sort_values(by='Column_Name', ascending=False)\n",
    "\n",
    "# 인덱스 기준 정렬\n",
    "df.sort_index(ascending=False)\n",
    "\n",
    "# 고유값 확인\n",
    "df['Column_Name'].unique()\n",
    "\n",
    "# 고유값 비율 확인\n",
    "df['Column_Name'].value_counts(normalize=True)\n",
    "\n",
    "# 최빈값 확인\n",
    "df['Column_Name'].mode()\n",
    "\n",
    "# 행끼리 더해서 열 기준으로 출력\n",
    "df.sum(axis=0, numeric_only=True)\n",
    "\n",
    "# 열끼리 더해서 행 기준으로 출력\n",
    "df.sum(axis=1, numeric_only=True)\n",
    "\n",
    "# 해당 열의 최댓값 조회\n",
    "df['Column_Name'].max()\n",
    "\n",
    "# 해당 열의 최솟값 조회\n",
    "df['Column_Name'].min()\n",
    "\n",
    "# 해당 열의 평균 조회\n",
    "df['Column_Name'].mean()\n",
    "\n",
    "# 해당 열의 중앙값 조회\n",
    "df['Column_Name'].median()"
   ]
  },
  {
   "cell_type": "markdown",
   "id": "bb2d1cb9-35a2-4569-af7f-ccfc7c633ce8",
   "metadata": {},
   "source": [
    "# 4. 데이터 조회"
   ]
  },
  {
   "cell_type": "code",
   "execution_count": null,
   "id": "911e87f3-aa67-4853-9a5e-70cc2b51d286",
   "metadata": {},
   "outputs": [],
   "source": [
    "# 특정 열 \n",
    "df['Column_Name']\n",
    "\n",
    "# 여러 열\n",
    "df[['Column1', 'Column2']]\n",
    "\n",
    "# 특정 행\n",
    "df.loc[1]\n",
    "\n",
    "# 여러 행\n",
    "df.loc[[1, 3, 5]]\n",
    "\n",
    "# 특정 조건에 따른 행 선택\n",
    "df.loc[df['Column'] > 10]\n",
    "\n",
    "# 여러 조건에 따른 행 선택\n",
    "df.loc[(df['Column'] > 10) & (df['Column'] < 30)]\n",
    "\n",
    "# 여러 조건 특정 열\n",
    "df.loc[(df['Column'] > 10) & (df['Column'] < 30)]['Col1','Col2']\n",
    "\n",
    "# between() #기본 both\n",
    "df.loc[df['Column'].between(80, 90, inclusive='both')]\n",
    "\n",
    "# isin()\n",
    "df.loc[df['Column'].isin(['A', 'B'])]"
   ]
  },
  {
   "cell_type": "markdown",
   "id": "e5b6aaa1-e9bb-4041-bee8-88c8a0237af7",
   "metadata": {},
   "source": [
    "# 5. 데이터프레임 집계"
   ]
  },
  {
   "cell_type": "code",
   "execution_count": null,
   "id": "35cbb279-8a1b-4f03-8751-42b3324b859c",
   "metadata": {},
   "outputs": [],
   "source": [
    "# 특정 열 집계\n",
    "df.groupby(by='Column1', as_index=False)[['Column2']].sum()\n",
    "df.groupby(by='Column1', as_index=False)[['Column2']].mean()\n",
    "df.groupby(by='Column1', as_index=False)[['Column2']].count()\n",
    "df.groupby(by='Column1', as_index=False)[['Column2']].max()\n",
    "df.groupby(by='Column1', as_index=False)[['Column2']].min()\n",
    "                                                   \n",
    "\n",
    "# 여러 열 집계\n",
    "df.groupby(by = ['Column1', 'Column2', 'Column3'], as_index=False).sum(numeric_only=True)"
   ]
  },
  {
   "cell_type": "markdown",
   "id": "7826e479-3f41-4921-9db9-a8316a8b9448",
   "metadata": {},
   "source": [
    "# 6. 데이터프레임 변경"
   ]
  },
  {
   "cell_type": "code",
   "execution_count": null,
   "id": "2073584d-1500-462d-be5e-405182cd0409",
   "metadata": {},
   "outputs": [],
   "source": [
    "# 일부 열 이름 변경\n",
    "df.rename(columns={'Col1', 'Col2', 'Col3'}, as_index=False)\n",
    "\n",
    "# 모든 열 이름 변경\n",
    "df.columns = ['Col1', 'Col2', 'Col3']\n",
    "\n",
    "# 열 추가\n",
    "df['New_Column'] = df['Column1'] + df['Column2']\n",
    "\n",
    "# 열 삭제\n",
    "drop_cols = ['Col1', 'Col2']\n",
    "df.drop(drop_cols, axis=1, inplace=True)\n",
    "\n",
    "# 범주값 변경\n",
    "df['Col1'] = df['Col1'].map({'Col1의 속성': 바꾸려는 값, 'Col의 속성2': 바꾸려는 값})\n",
    "df['Col1'] = df['Col1'].replace({'Col1의 속성': 바꾸려는 값, 'Col의 속성2': 바꾸려는 값})\n",
    "\n",
    "# 범주값 만들기\n",
    "pd.cut(df, bins, labels)   # 크기 기준\n",
    "#bin = [-np.inf, 30, 100, np.inf]\n",
    "#label = list('LMH')\n",
    "#titanic['Fare'] = pd.cut(titanic['Fare'], bins=bin, labels=label) # 예시\n",
    "pd.qcut(df, bins, labels)\n",
    "\n",
    "# 특정 열을 기준으로 중복 행 제거\n",
    "drop_duplicates(subset='기준 열', keep='first')\n",
    "\n",
    "# 값 변경\n",
    "titanic['col'] = np.where(titanic['col'] == '비교', 참, 거짓)\n",
    "#titanic['Age2'] = np.where(titanic['Sex'] == 'female', 0, 1) #예시"
   ]
  },
  {
   "cell_type": "markdown",
   "id": "369dc9ac-3085-4f2a-885e-a4a941ccc00f",
   "metadata": {},
   "source": [
    "# 7. 결측치 처리"
   ]
  },
  {
   "cell_type": "code",
   "execution_count": null,
   "id": "5b7627a8-6519-410d-8f45-bbdb7853a581",
   "metadata": {
    "tags": []
   },
   "outputs": [],
   "source": [
    "# 결측치 확인\n",
    "df.isnull()  # isna()\n",
    "\n",
    "# 결측치 합계\n",
    "df.isna().sum()  # isnull().sum()\n",
    "\n",
    "# 결측치 아닌것 확인\n",
    "df.notna()\n",
    "\n",
    "# 결측치 아닌것 합계\n",
    "df.notna().sum() # notnull().sum()\n",
    "\n",
    "# 결측치 제거\n",
    "df.dropna()\n",
    "\n",
    "# 특정 열에 결측치가 있는 행 제거\n",
    "df.dropna(subset=['Column'], axis=0, inplace=True)\n",
    "\n",
    "# 결측치를 특정 값으로 대체\n",
    "df.fillna(value)\n",
    "\n",
    "#ffill\n",
    "df['Column'].fillna(method='ffill', inplace=True)\n",
    "\n",
    "#bfill\n",
    "df['Column'].fillna(method='bfill', inplace=True)"
   ]
  },
  {
   "cell_type": "markdown",
   "id": "ac5225b2-7204-40f3-b5f6-0cf5d56feb9b",
   "metadata": {},
   "source": [
    "# 8. 가변수 만들기"
   ]
  },
  {
   "cell_type": "code",
   "execution_count": null,
   "id": "93cf1158-c561-4c3c-9181-4b1ad80789f0",
   "metadata": {},
   "outputs": [],
   "source": [
    "dumm_cols = ['Col1', 'Col2', 'Col3']\n",
    "df = pd.get_dummies(df, columns=dumm_cols, drop_first=True, dypte=int)"
   ]
  },
  {
   "cell_type": "markdown",
   "id": "64cbf758-0346-4b0a-a967-724350a1a7da",
   "metadata": {},
   "source": [
    "# 9. 데이터프레임 합치기"
   ]
  },
  {
   "cell_type": "code",
   "execution_count": null,
   "id": "2fd623b5-f002-403a-94d7-fa431a50a4fb",
   "metadata": {},
   "outputs": [],
   "source": [
    "# 두 데이터프레임 합치기\n",
    "merged_df = pd.concat([df1, df2], axis=0)\n",
    "\n",
    "# 열을 기준으로 합치기\n",
    "merged_df = pd.merge(df1, df2, on='기준열', how='inner')"
   ]
  },
  {
   "cell_type": "markdown",
   "id": "eaf6318a-82cb-4e30-97c7-e7d0f3a7dccf",
   "metadata": {},
   "source": [
    "# 10. 시각화"
   ]
  },
  {
   "cell_type": "code",
   "execution_count": null,
   "id": "6b24b42f-21de-48b3-9218-73b53f9753ee",
   "metadata": {},
   "outputs": [],
   "source": [
    "# 막대 그래프 # 범주 데이터에 사용\n",
    "\n",
    "plt.rc('axes', axisbelow=True)   # 격자 밑으로 하겠다\n",
    "plt.figure(figsize=(5, 3))\n",
    "plt.bar(x=df['Col1'], height=df['Col2'])\n",
    "plt.title('제목 지정하세요')\n",
    "plt.xlabel('x축 이름 지정하세요')\n",
    "plt.ylabel('y축 이름 지정하세요')\n",
    "plt.xticks(rotation=90)   \n",
    "plt.grid(axis='y')\n",
    "plt.show()"
   ]
  },
  {
   "cell_type": "code",
   "execution_count": null,
   "id": "81e6bdd3-dff9-49aa-93fb-7efca0c21e12",
   "metadata": {},
   "outputs": [],
   "source": [
    "# 가로 막대 그래프\n",
    "plt.bar(y=df['Col1'], width=df['Col2'])"
   ]
  },
  {
   "cell_type": "code",
   "execution_count": null,
   "id": "306ce3ec-0adc-4a03-a6f6-be5709b518bc",
   "metadata": {},
   "outputs": [],
   "source": [
    "# 선 그래프\n",
    "plt.figure(figsize=(5, 3))\n",
    "plt.plot(df[['Col1', 'Col2']])\n",
    "plt.legend(['Col1', 'Col2'], loc='upper left') # plt.legend( loc='upper left')\n",
    "plt.show()\n",
    "\n",
    "# 라인그래프\n",
    "plt.plot('col1', 'col2', data = df, linewidth = .7)\n",
    "\n",
    "# y축의 범위 지정\n",
    "plt.ylim(70, 100)\n",
    "# x축의 범위 지정\n",
    "plt.xlim(0, 10)\n",
    "\n",
    "# 수평선 (y축)\n",
    "plt.axhline(40, color = 'grey', linestyle = '--')\n",
    "# 수직선 (xㄴ축)\n",
    "plt.axvline(10, color = 'red', linestyle = '--')\n",
    "\n",
    "# 텍스트 입력 x, y, 표현문자\n",
    "plt.text(5, 41, '40')\n",
    "plt.text(10.1, 20, '10')\n",
    "\n",
    "# 3행 1열 인텍스 1 그래프 그리기\n",
    "plt.subplot(3,1,1)\n",
    "\n",
    "# 그래프간 간격을 적절히 맞추기\n",
    "plt.tight_layout() \n",
    "\n",
    "# 수평, 수직선 추가\n",
    "plt.axhline(40, color = 'grey', linestyle = '--') # 수평선 # plt.axhline(ozone_mean, color = 'red', linestyle = '--') # 평균선 추가 가능\n",
    "plt.axvline(10, color = 'red', linestyle = '--') # 수직선\n",
    "\n",
    "# 텍스트 표현 # x, y, 표현문자\n",
    "plt.text(5, 41, '40')\n",
    "plt.text(10.1, 20, '10')\n",
    "\n",
    "# 여러 그래프 나눠 그리기\n",
    "# 3행 1열 1번        # 즉 3 x 1\n",
    "plt.subplot(3,1,1)\n",
    "# 3행 1열 2번    \n",
    "plt.subplot(3,1,2)\n",
    "\n",
    "# 2행 2열           # 즉 2 x 2\n",
    "plt.subplot(2,2,1)\n",
    "plt.subplot(2,2,2)"
   ]
  },
  {
   "cell_type": "code",
   "execution_count": null,
   "id": "82231770-15c1-431a-b90f-3fd5ba86a85a",
   "metadata": {},
   "outputs": [],
   "source": [
    "# 히스토그램 # 연속 데이터에 사용\n",
    "\n",
    "df_mean = df['Col1'].mean()\n",
    "\n",
    "plt.figure(figsize=(5, 3))\n",
    "plt.hist(df['Col1'], bins=20, alpha=0.7, edgecolor='w')\n",
    "plt.axvline(df_mean, color='tab:orange')\n",
    "plt.show()"
   ]
  },
  {
   "cell_type": "code",
   "execution_count": null,
   "id": "7837e2fc",
   "metadata": {},
   "outputs": [],
   "source": [
    "# KDE 그래프 # 밀도 추정\n",
    "# 라이브러리 필요\n",
    "import matplotlib.pyplot as plt\n",
    "import seaborn as sns \n",
    "\n",
    "# 밀도함수 그래프 그리기\n",
    "sns.kdeplot(df['col'])\n",
    "plt.show()\n",
    "\n",
    "# 100% 비율로 채우기\n",
    "sns.kdeplot(x='col', data = df, hue ='col'\n",
    "            , multiple = 'fill')\n",
    "plt.axhline(df['col'].mean(), color = 'r')\n",
    "\n",
    "\n",
    "# kde = True 밀도 추정 선 그래프에 추가\n",
    "sns.histplot(df['col'], bins=10, edgecolor = 'gray', kde=True)\n",
    "plt.show()"
   ]
  },
  {
   "cell_type": "code",
   "execution_count": null,
   "id": "651b1cb5",
   "metadata": {},
   "outputs": [],
   "source": [
    "# 선 그래프\n",
    "sns.lineplot(x = 'Date', y = 'Close', data = kospi, label = 'Close', color = 'blue', linewidth = .5)"
   ]
  },
  {
   "cell_type": "code",
   "execution_count": null,
   "id": "31e883d7",
   "metadata": {},
   "outputs": [],
   "source": [
    "# bar chart # countplot #자동으로 카운트\n",
    "# x : 세로 # y : 가로\n",
    "sns.countplot(x='col' data=df) \n",
    "# or\n",
    "sns.countplot(dr['col']) \n",
    "sns.countplot(x='Pclass', data=df)"
   ]
  },
  {
   "cell_type": "code",
   "execution_count": null,
   "id": "9bdc2f1f",
   "metadata": {},
   "outputs": [],
   "source": [
    "# pie 차트\n",
    "temp = df['col'].value_counts()\n",
    "temp.values, temp.index\n",
    "\n",
    "plt.pie(temp.values, labels = temp.index, autopct = '%.2f%%',\n",
    "        startangle=90, counterclock=False) # startangle = 90 : 90도 부터 시작\n",
    "                                            # counterclock = False : 시계 방향으로"
   ]
  },
  {
   "cell_type": "code",
   "execution_count": null,
   "id": "5d1201ae",
   "metadata": {},
   "outputs": [],
   "source": [
    "# scatter 차트 산점도 # col1의 co2에 대해 산점도\n",
    "plt.scatter(df['col1'], df['col2'])\n",
    "plt.show()\n",
    "\n",
    "\n",
    "# 숫자형 변수들에 대한 산점도를 한꺼번에 그려줍니다. \n",
    "sns.pairplot(air)\n",
    "plt.show()"
   ]
  },
  {
   "cell_type": "code",
   "execution_count": null,
   "id": "7b10c8b2",
   "metadata": {},
   "outputs": [],
   "source": [
    "# -1, 1에 가까울 수록 강한 상관관계를 나타냄.\n",
    "# 상관관계 p-value 구하기 \n",
    "# 1, -1에 가까울 수록 상관관계 강함\n",
    "# p-value가 0.05보다 작을 수록  두 변수간에 관계가 있다\n",
    "import scipy.stats as spst\n",
    "# 상관분석\n",
    "spst.pearsonr(df['col1'], df['col2'])\n",
    "\n",
    "# 데이터프레임 한꺼번에 상관계수 구하기\n",
    "df.corr()\n",
    "# 숫자만 \n",
    "df.corr(numeric_only=True)\n",
    "\n",
    "# 상관계수를 heatmap으로 시각화\n",
    "plt.figure(figsize = (6, 6))\n",
    "sns.heatmap(air.corr(),\n",
    "            annot = True,            # 숫자(상관계수) 표기 여부\n",
    "            cbar=False               # 색깔 바 제거\n",
    "            fmt = '.3f',             # 숫자 포멧 : 소수점 3자리까지 표기\n",
    "            cmap = 'RdYlBu_r',       # 칼라맵(색상)\n",
    "            vmin = -1, vmax = 1),    # 값의 최소, 최대값\n",
    "            quare=True,              # 정사각형 변경\n",
    "            annot_kws={'size':8},    # 텍스트 크기 지정  \n",
    "plt.show()"
   ]
  },
  {
   "cell_type": "code",
   "execution_count": null,
   "id": "6460a1a7",
   "metadata": {},
   "outputs": [],
   "source": [
    "# 모든 숫자형 변수를 쌍(pair)으로 만들어 각 변수 쌍에 대한 산점도\n",
    "sns.pairplot(df, hue = 'col')\n",
    "plt.show()"
   ]
  },
  {
   "cell_type": "markdown",
   "id": "ea4884bf",
   "metadata": {},
   "source": [
    "# 11. 상관계수"
   ]
  },
  {
   "cell_type": "code",
   "execution_count": null,
   "id": "045938d0",
   "metadata": {},
   "outputs": [],
   "source": [
    "import pandas as pd\n",
    "# 상관계수 행렬 계산\n",
    "correlation_matrix = data.corr()\n",
    "\n",
    "# 상관계수 계산\n",
    "# 특정 열과 다른 열 간의 상관계수 확인\n",
    "correlation = data['column1'].corr(data['column2'])\n",
    "\n",
    "import seaborn as sns\n",
    "import matplotlib.pyplot as plt\n",
    "\n",
    "\n",
    "# 상관계수 시각화\n",
    "# 히트맵을 이용한 상관계수 시각화\n",
    "plt.figure(figsize=(10, 8))\n",
    "sns.heatmap(correlation_matrix, annot=True, cmap='coolwarm', fmt=\".2f\")\n",
    "plt.title(\"Correlation Heatmap\")\n",
    "plt.show()\n",
    "\n",
    "# NaN 값 제외한 상관계수 계산\n",
    "correlation_matrix_cleaned = data.dropna().corr()"
   ]
  },
  {
   "cell_type": "markdown",
   "id": "4aaa3c38",
   "metadata": {},
   "source": [
    "# 12. seaborn"
   ]
  },
  {
   "cell_type": "code",
   "execution_count": null,
   "id": "020c3a7d",
   "metadata": {},
   "outputs": [],
   "source": [
    "# seaborn 문제 발생 시 실행\n",
    "# 커널 restart\n",
    "!pip install seaborn --upgrade"
   ]
  },
  {
   "cell_type": "code",
   "execution_count": null,
   "id": "72c4ca89",
   "metadata": {},
   "outputs": [],
   "source": [
    "# 라이브러리 불러오기\n",
    "import seaborn as sns\n",
    "import matplotlib.pyplot as plt"
   ]
  },
  {
   "cell_type": "code",
   "execution_count": null,
   "id": "3957785a",
   "metadata": {},
   "outputs": [],
   "source": [
    "# 데이터 불러오기 및 산점도 플롯\n",
    "\n",
    "# 데이터 불러오기\n",
    "import pandas as pd\n",
    "data = pd.read_csv(\"your_dataset.csv\")\n",
    "\n",
    "# 산점도 플롯\n",
    "sns.scatterplot(x='x_column', y='y_column', data=data)\n",
    "plt.show()"
   ]
  },
  {
   "cell_type": "code",
   "execution_count": null,
   "id": "9edb7a0d",
   "metadata": {},
   "outputs": [],
   "source": [
    "# 히스토그램 및 밀도 그래프\n",
    "\n",
    "# 히스토그램\n",
    "sns.histplot(data['column'], bins=10, kde=True)\n",
    "\n",
    "# 밀도 그래프\n",
    "sns.kdeplot(data['column'], shade=True)\n",
    "plt.show()\n",
    "\n",
    "# 100% 밀도 채우기\n",
    "sns.histplot(x='col', data = df, bins = 16\n",
    "             , hue ='cpl', multiple = 'fill')\n",
    "plt.axhline(titanic['cpl'].mean(), color = 'r')\n",
    "plt.show()"
   ]
  },
  {
   "cell_type": "code",
   "execution_count": null,
   "id": "0d1fde7b",
   "metadata": {},
   "outputs": [],
   "source": [
    "# 상자 그림 (Box Plot)\n",
    "sns.boxplot(x='group_column', y='value_column', data=data)\n",
    "plt.show()\n"
   ]
  },
  {
   "cell_type": "code",
   "execution_count": null,
   "id": "32f6d5db",
   "metadata": {},
   "outputs": [],
   "source": [
    "# 선 그래프\n",
    "sns.lineplot(x='x_column', y='y_column', data=data)\n",
    "plt.show()"
   ]
  },
  {
   "cell_type": "code",
   "execution_count": null,
   "id": "048dcae3",
   "metadata": {},
   "outputs": [],
   "source": [
    "# 히트맵\n",
    "sns.heatmap(data.corr(), annot=True, cmap='coolwarm')\n",
    "plt.show()"
   ]
  },
  {
   "cell_type": "code",
   "execution_count": null,
   "id": "3086beeb",
   "metadata": {},
   "outputs": [],
   "source": [
    "# 카테고리별 플롯\n",
    "#범주형 변수와 숫자형 변수 간의 관계를 시각화하고, \n",
    "#범주형 변수의 분포나 숫자형 변수의 집계값을 쉽게 파악하기 위해 사용됩니다.\n",
    "sns.barplot(x='category_column', y='value_column', data=data)\n",
    "\n",
    "sns.countplot(x='category_column', data=data)\n",
    "sns.boxplot(x='category_column', y='value_column', data=data)\n",
    "plt.show()"
   ]
  },
  {
   "cell_type": "code",
   "execution_count": null,
   "id": "e3f35ccd",
   "metadata": {},
   "outputs": [],
   "source": [
    "# 산점도 행렬 (Pair Plot)\n",
    "sns.pairplot(data)\n",
    "plt.show()"
   ]
  },
  {
   "cell_type": "code",
   "execution_count": null,
   "id": "a9c40c52",
   "metadata": {},
   "outputs": [],
   "source": [
    "# 분포 및 범주형 데이터 시각화\n",
    "sns.violinplot(x='category_column', y='value_column', data=data)\n",
    "sns.swarmplot(x='category_column', y='value_column', data=data)\n",
    "plt.show()"
   ]
  },
  {
   "cell_type": "code",
   "execution_count": null,
   "id": "f72a2b25",
   "metadata": {},
   "outputs": [],
   "source": [
    "# 다중 플롯\n",
    "sns.jointplot(x='x_column', y='y_column', data=data, kind='scatter')\n",
    "sns.jointplot(x='x_column', y='y_column', data=data, kind='kde')\n",
    "sns.jointplot(x='x_column', y='y_column', data=data, kind='reg')\n",
    "plt.show()"
   ]
  },
  {
   "cell_type": "markdown",
   "id": "3225006f",
   "metadata": {},
   "source": [
    "# 13. T-테스트 "
   ]
  },
  {
   "cell_type": "code",
   "execution_count": null,
   "id": "0fd7f36b",
   "metadata": {},
   "outputs": [],
   "source": [
    "# 라이브러리 불러오기\n",
    "import scipy.stats as stats"
   ]
  },
  {
   "cell_type": "code",
   "execution_count": null,
   "id": "f7d0f1ca",
   "metadata": {},
   "outputs": [],
   "source": [
    "# 두 그룹으로 데이터 저장\n",
    "died = temp.loc[temp['Survived']==0, 'Age']\n",
    "survived = temp.loc[temp['Survived']==1, 'Age']\n",
    "\n",
    "# statistic : 통계량  2보다 크므로, 차이가 있으나 크지 않다\n",
    "# statistic 양수는 died 평균값이 survived 보다 크다 \n",
    "spst.ttest_ind(died, survived)"
   ]
  },
  {
   "cell_type": "code",
   "execution_count": null,
   "id": "3bce30a6",
   "metadata": {},
   "outputs": [],
   "source": [
    "# 일표본 T-테스트 (One-sample T-test)\n",
    "\n",
    "# 예시 데이터\n",
    "data = [1, 2, 3, 4, 5]\n",
    "\n",
    "# 가설 설정: 평균이 기준값과 같은지 검정\n",
    "null_mean = 3\n",
    "\n",
    "# 일표본 T-테스트\n",
    "t_statistic, p_value = stats.ttest_1samp(data, null_mean)\n",
    "\n",
    "# 결과 출력\n",
    "print(\"T-statistic:\", t_statistic)\n",
    "print(\"P-value:\", p_value)\n"
   ]
  },
  {
   "cell_type": "code",
   "execution_count": null,
   "id": "d15a02b8",
   "metadata": {},
   "outputs": [],
   "source": [
    "# 독립표본 T-테스트 (Independent-samples T-test)\n",
    "\n",
    "# 예시 데이터\n",
    "group1 = [23, 25, 29, 32, 28]\n",
    "group2 = [20, 22, 27, 30, 26]\n",
    "\n",
    "# 독립표본 T-테스트\n",
    "t_statistic, p_value = stats.ttest_ind(group1, group2)\n",
    "\n",
    "# 결과 출력\n",
    "print(\"T-statistic:\", t_statistic)\n",
    "print(\"P-value:\", p_value)\n"
   ]
  },
  {
   "cell_type": "code",
   "execution_count": null,
   "id": "052748f8",
   "metadata": {},
   "outputs": [],
   "source": [
    "# 대응표본 T-테스트 (Paired-samples T-test)\n",
    "\n",
    "# 예시 데이터\n",
    "before = [18, 20, 22, 25, 21]\n",
    "after = [16, 18, 20, 23, 20]\n",
    "\n",
    "# 대응표본 T-테스트\n",
    "t_statistic, p_value = stats.ttest_rel(before, after)\n",
    "\n",
    "# 결과 출력\n",
    "print(\"T-statistic:\", t_statistic)\n",
    "print(\"P-value:\", p_value)\n"
   ]
  },
  {
   "cell_type": "code",
   "execution_count": null,
   "id": "fba5cf7a",
   "metadata": {},
   "outputs": [],
   "source": [
    "# anova 분산분석 #3개 이상 일때\n",
    "# 1) 분산 분석을 위한 데이터 만들기\n",
    "# NaN 행 제외\n",
    "temp = titanic.loc[titanic['Age'].notnull()]\n",
    "# 그룹별 저장\n",
    "P_1 = temp.loc[temp.Pclass == 1, 'Age']\n",
    "P_2 = temp.loc[temp.Pclass == 2, 'Age']\n",
    "P_3 = temp.loc[temp.Pclass == 3, 'Age']\n",
    "\n",
    "spst.f_oneway(P_1, P_2, P_3)"
   ]
  },
  {
   "cell_type": "code",
   "execution_count": null,
   "id": "37805aec",
   "metadata": {},
   "outputs": [],
   "source": [
    "# 등분산 검정 (Equal variance test)\n",
    "\n",
    "# 등분산 검정\n",
    "levene_statistic, p_value = stats.levene(group1, group2)\n",
    "\n",
    "# 결과 출력\n",
    "print(\"Levene's test statistic:\", levene_statistic)\n",
    "print(\"P-value:\", p_value)\n"
   ]
  },
  {
   "cell_type": "code",
   "execution_count": null,
   "id": "91e0b421",
   "metadata": {},
   "outputs": [],
   "source": [
    "# mosaic plot # 비율, 범주별 양 확인 할 수 있음\n",
    "mosaic(titanic, ['Embarked', 'Survived'])\n",
    "plt.axhline(1- titanic['Survived'].mean(), color = 'r')\n",
    "plt.show()"
   ]
  },
  {
   "cell_type": "markdown",
   "id": "814148cb",
   "metadata": {},
   "source": [
    "# 14. 카이제곱"
   ]
  },
  {
   "cell_type": "code",
   "execution_count": null,
   "id": "c7310276",
   "metadata": {},
   "outputs": [],
   "source": [
    "# 1) 먼저 교차표 집계- normalize 하면 안 됨\n",
    "table = pd.crosstab(titanic['Survived'], titanic['Pclass'])\n",
    "print(table)\n",
    "print('-' * 50)\n",
    "\n",
    "# 2) 카이제곱검정\n",
    "spst.chi2_contingency(table)\n",
    "\n",
    "\n",
    "\n",
    "\n",
    "Chi2ContingencyResult(statistic=102.88898875696056, pvalue=4.549251711298793e-23, dof=2, expected_freq=array([[133.09090909, 113.37373737, 302.53535354],\n",
    "       [ 82.90909091,  70.62626263, 188.46464646]])) \n",
    "\n",
    "# statistic :  높은 카이제곱 통계량 값은 범주형 변수들 간에 유의한 연관성이 있을 가능성\n",
    "\n",
    "# dof : 자유도가 높을수록, 분할표의 정보가 더 많아집니다.\n",
    "# 그러나, 너무 많은 자유도는 데이터가 불충분하여 신뢰할 수 없는 결과를 초래할 수 있습니다.\n",
    "# 적절한 자유도를 가진 모델을 선택하는 것이 중요합니다.\n",
    "\n",
    "# expected_freq :  기대 빈도가 높을수록, 관측된 데이터와 기대되는 데이터가 비슷하다는 것을 의미\n",
    "# 기대 빈도가 너무 높은 경우에도, 실제 관측된 데이터와 유의미한 차이가 있는지 여부를 확인해야 합니다.\n",
    "# 기대 빈도가 낮은 경우, 표본의 크기가 작거나 표본이 실제 모집단을 대표하지 못하는 경우일 수 있습니다.\n",
    "\n",
    "#statistic 자유도 보다 2배 이상 이면 관련이 있다\n"
   ]
  },
  {
   "cell_type": "markdown",
   "id": "34d4f049",
   "metadata": {},
   "source": [
    "# 15 시계열 데이터"
   ]
  },
  {
   "cell_type": "code",
   "execution_count": null,
   "id": "75ce4e8f",
   "metadata": {},
   "outputs": [],
   "source": [
    "result = pd.DataFrame({'observed':decomp.observed, 'trend':decomp.trend, 'seasonal':decomp.seasonal, 'residual':decomp.resid})  \n",
    "\n",
    "'observed': decomp.observed,  # 관측치 데이터\n",
    "'trend': decomp.trend,        # 추세 데이터\n",
    "'seasonal': decomp.seasonal,  # 계절성 데이터\n",
    "'residual': decomp.resid      # 잔차 데이터"
   ]
  },
  {
   "cell_type": "markdown",
   "id": "a801c722",
   "metadata": {},
   "source": [
    "# 16. 크롤링"
   ]
  },
  {
   "cell_type": "code",
   "execution_count": null,
   "id": "7a344641",
   "metadata": {},
   "outputs": [],
   "source": [
    "# 임포트\n",
    "import warnings\n",
    "warnings.filterwarnings('ignore') # 경고 문구 안뜨게 해주는 설정\n",
    "import requests\n",
    "import pandas as pd"
   ]
  },
  {
   "cell_type": "code",
   "execution_count": null,
   "id": "da32b9b2",
   "metadata": {},
   "outputs": [],
   "source": [
    "# 동적 방식\n",
    "page_size, page = 30, 1 \n",
    "url = f'https://m.stock.naver.com/api/index/KOSPI/price?pageSize={page_size}&page={page}' # 네이버 코스피 지수 \n",
    "\n",
    "response = requests.get(url) # 서버에 데이터 요청\n",
    "response\n",
    "\n",
    "data = response.json() #리스트로 바꿔줌 \n",
    "\n",
    "cols = ['localTradedAt', 'closePrice'] # 원하는 컬럼만 데이터 프레임으로 출력\n",
    "df = pd.DataFrame(data)[cols] \n",
    "df.head()"
   ]
  },
  {
   "cell_type": "code",
   "execution_count": null,
   "id": "d54b22fb",
   "metadata": {},
   "outputs": [],
   "source": [
    "# 함수로 만듦\n",
    "def stock_price(code='KOSPI', page_size=60, page=1):\n",
    "    # 1. URL\n",
    "    url = f'https://m.stock.naver.com/api/index/{code}/price?pageSize={page_size}&page={page}'\n",
    "    # 2. request(url)\n",
    "    response = requests.get(url)\n",
    "    # 3. parsing json\n",
    "    data = response.json()\n",
    "    # 4. 데이터프레임 \n",
    "    cols = ['localTradedAt', 'closePrice']\n",
    "    df = pd.DataFrame(data)[cols]\n",
    "    #pd.DataFrame(response.json())[['localTradedAt', 'closePrice']] # 한줄로 줄일 수 있다\n",
    "    \n",
    "    return df"
   ]
  },
  {
   "cell_type": "markdown",
   "id": "92df6727",
   "metadata": {},
   "source": [
    "# 17. 머신러닝\n",
    "- x, y 분리\n",
    "\n",
    "우선 target 변수를 명확히 지정합니다.\n",
    "target을 제외한 나머지 변수들 데이터는 x로 선언합니다.\n",
    "target 변수 데이터는 y로 선언합니다.\n",
    "이 결과로 만들어진 x는 데이터프레임, y는 시리즈가 됩니다.\n",
    "이후 모든 작업은 x, y를 대상으로 진행합니다."
   ]
  },
  {
   "cell_type": "code",
   "execution_count": null,
   "id": "19417fdb",
   "metadata": {},
   "outputs": [],
   "source": [
    "# Pclass Age 평균 구하기\n",
    "titanic.groupby(by='Pclass', as_index=False)['Age'].transform('mean')"
   ]
  },
  {
   "cell_type": "code",
   "execution_count": null,
   "id": "eeab70a0",
   "metadata": {},
   "outputs": [],
   "source": [
    "# \n",
    "# 독립변수 -> features\n",
    "# 종속변수 -> target"
   ]
  },
  {
   "cell_type": "code",
   "execution_count": null,
   "id": "8dd47fe2",
   "metadata": {},
   "outputs": [],
   "source": [
    "# target 확인\n",
    "target = 'Ozone'\n",
    "\n",
    "# 데이터 분리\n",
    "x = data.drop(target, axis=1)\n",
    "y = data.loc[:, target] # [행, 열]"
   ]
  },
  {
   "cell_type": "code",
   "execution_count": null,
   "id": "0ad93c9e",
   "metadata": {},
   "outputs": [],
   "source": [
    "# 모듈 불러오기\n",
    "from sklearn.model_selection import train_test_split # 데이터를 무자위로 섞음\n",
    "# 7:3으로 분리\n",
    "x_train, x_test, y_train, y_test = train_test_split(x, y, test_size=0.3, \n",
    "                                                    random_state=1, shuffle=True, stratify=y) \n",
    "                                                    # random_state : 난수 섞음 즉, 동일하게 결과를 얻기 위해 사용\n",
    "                                                    # shuffle : 섞음, False는 안섞음 시계열을 할 때 False\n",
    "                                                    # stratify : y기준으로 균등하게 분할"
   ]
  },
  {
   "cell_type": "markdown",
   "id": "a4c90f5d",
   "metadata": {},
   "source": [
    "### 모델링"
   ]
  },
  {
   "cell_type": "markdown",
   "id": "9f8f2d90",
   "metadata": {},
   "source": [
    "- 알고리즘: LinearRegression\n",
    "- 평가방법: mean_absolute_error"
   ]
  },
  {
   "cell_type": "code",
   "execution_count": null,
   "id": "888f09d9",
   "metadata": {},
   "outputs": [],
   "source": [
    "# 1단계: 불러오기\n",
    "from sklearn.linear_model import LinearRegression\n",
    "from sklearn.metrics import mean_absolute_error # 평가는 metrics에서 다 불러올 수 있다."
   ]
  },
  {
   "cell_type": "code",
   "execution_count": null,
   "id": "4e11edf1",
   "metadata": {},
   "outputs": [],
   "source": [
    "# 2단계: 선언하기\n",
    "model = LinearRegression()"
   ]
  },
  {
   "cell_type": "code",
   "execution_count": null,
   "id": "923c0216",
   "metadata": {},
   "outputs": [],
   "source": [
    "# 3단계: 학습하기\n",
    "model.fit(x_train, y_train)"
   ]
  },
  {
   "cell_type": "code",
   "execution_count": null,
   "id": "69d18656",
   "metadata": {},
   "outputs": [],
   "source": [
    "# 4단계: 예측하기\n",
    "y_pred = model.predict(x_test)"
   ]
  },
  {
   "cell_type": "code",
   "execution_count": null,
   "id": "2c8301d8",
   "metadata": {},
   "outputs": [],
   "source": [
    "# 5단계: 평가하기 \n",
    "# 오차 (평균)출력\n",
    "print('MAE:', mean_absolute_error(y_test, y_pred)) # 평균 절대 오차 # 값이 낮을 수록 좋은 모델"
   ]
  },
  {
   "cell_type": "code",
   "execution_count": null,
   "id": "ca8dfb7d",
   "metadata": {},
   "outputs": [],
   "source": [
    "# 실제값, 예측값 비교\n",
    "print(y_test.values[:10])\n",
    "print(y_pred[:10])"
   ]
  },
  {
   "cell_type": "code",
   "execution_count": null,
   "id": "5efc0517",
   "metadata": {},
   "outputs": [],
   "source": [
    "# 기준(평균) 모델 성능 평가\n",
    "mean_ozone = y_train.mean()\n",
    "y_base= np.array([mean_ozone] * len(y_test))\n",
    "\n",
    "# 5단계: 평가하기 \n",
    "# 오차 (평균)출력\n",
    "print('MAE:', mean_absolute_error(y_test, y_base))"
   ]
  },
  {
   "cell_type": "code",
   "execution_count": null,
   "id": "93c47b00",
   "metadata": {},
   "outputs": [],
   "source": [
    "# 시각화하여 비교\n",
    "\n",
    "plt.plot(y_test.values, label='Actual')\n",
    "plt.plot(y_pred, label='Predicted')\n",
    "plt.plot(y_base, label='baseline', color='r', linestyle='--')\n",
    "plt.legend()\n",
    "plt.show()"
   ]
  },
  {
   "cell_type": "markdown",
   "id": "846f7956",
   "metadata": {},
   "source": [
    "- 알고리즘: KNeighborsClassifier\n",
    "- 평가방법: accuracy_score"
   ]
  },
  {
   "cell_type": "code",
   "execution_count": null,
   "id": "3387af3c",
   "metadata": {},
   "outputs": [],
   "source": [
    "# 1단계: 불러오기\n",
    "from sklearn.neighbors import KNeighborsClassifier #최근접\n",
    "from sklearn.metrics import accuracy_score"
   ]
  },
  {
   "cell_type": "code",
   "execution_count": null,
   "id": "150e0ac0",
   "metadata": {},
   "outputs": [],
   "source": [
    "# 2단계: 선언하기\n",
    "model = KNeighborsClassifier()"
   ]
  },
  {
   "cell_type": "code",
   "execution_count": null,
   "id": "b8c57505",
   "metadata": {},
   "outputs": [],
   "source": [
    "# 3단계: 학습하기\n",
    "model.fit(x_train, y_train)"
   ]
  },
  {
   "cell_type": "code",
   "execution_count": null,
   "id": "8e85e4a4",
   "metadata": {},
   "outputs": [],
   "source": [
    "# 4단계: 예측하기\n",
    "y_pred = model.predict(x_test)"
   ]
  },
  {
   "cell_type": "code",
   "execution_count": null,
   "id": "48c287cd",
   "metadata": {},
   "outputs": [],
   "source": [
    "print(y_test.values[:20])\n",
    "print(y_pred[:20]) # 비교"
   ]
  },
  {
   "cell_type": "code",
   "execution_count": null,
   "id": "5b6b7b58",
   "metadata": {},
   "outputs": [],
   "source": [
    "# 5단계: 평가하기\n",
    "print('accuracy_score', accuracy_score(y_test, y_pred)) # 86% "
   ]
  },
  {
   "cell_type": "code",
   "execution_count": null,
   "id": "d1cf6ca4",
   "metadata": {},
   "outputs": [],
   "source": [
    "y_base = np.array([y_train.mode()[0]] * len(y_test))\n",
    "print('accuracy_score', accuracy_score(y_test, y_base)) # base 56%"
   ]
  },
  {
   "cell_type": "markdown",
   "id": "2733b58e",
   "metadata": {},
   "source": [
    "- 알고리즘: DecisionTreeClassifier\n",
    "- 평가방법: accuracy_score"
   ]
  },
  {
   "cell_type": "code",
   "execution_count": null,
   "id": "03fafccb",
   "metadata": {},
   "outputs": [],
   "source": [
    "# 1단계: 불러오기 # sklearn 은 target(종속변수)은 문자열 허용 feature(독립변수)는 안됌\n",
    "from sklearn.tree import DecisionTreeClassifier # 의사 결정 나무\n",
    "from sklearn.metrics import accuracy_score"
   ]
  },
  {
   "cell_type": "code",
   "execution_count": null,
   "id": "008e59a2",
   "metadata": {},
   "outputs": [],
   "source": [
    "# 2단계: 선언하기\n",
    "model = DecisionTreeClassifier()"
   ]
  },
  {
   "cell_type": "code",
   "execution_count": null,
   "id": "30c5d825",
   "metadata": {},
   "outputs": [],
   "source": [
    "# 3단계: 학습하기\n",
    "model.fit(x_train, y_train)"
   ]
  },
  {
   "cell_type": "code",
   "execution_count": null,
   "id": "06fbb3f1",
   "metadata": {},
   "outputs": [],
   "source": [
    "# 4단계: 예측하기\n",
    "y_pred = model.predict(x_test)"
   ]
  },
  {
   "cell_type": "code",
   "execution_count": null,
   "id": "3b125420",
   "metadata": {},
   "outputs": [],
   "source": [
    "print(y_test.values[:10])\n",
    "print(y_pred[:10]) # 비교"
   ]
  },
  {
   "cell_type": "code",
   "execution_count": null,
   "id": "c1d52b52",
   "metadata": {},
   "outputs": [],
   "source": [
    "# 5단계 평가하기\n",
    "print('accuracy_score:', accuracy_score(y_test, y_pred)) # 95% 정확도 높네..."
   ]
  },
  {
   "cell_type": "code",
   "execution_count": null,
   "id": "f68e2cac",
   "metadata": {},
   "outputs": [],
   "source": [
    "y_train.value_counts() # 빈도수는 비슷"
   ]
  },
  {
   "cell_type": "markdown",
   "id": "6dcd9da7",
   "metadata": {},
   "source": [
    "- MSE, RMSE, MAE, MAPE는 오류(Error) 이므로 작을 수록 좋음\n",
    "- R2 Score는 클 수록 좋음"
   ]
  },
  {
   "cell_type": "markdown",
   "id": "886c4dfe",
   "metadata": {},
   "source": [
    "## 회귀 성능 평가"
   ]
  },
  {
   "cell_type": "markdown",
   "id": "1b7e8db9",
   "metadata": {},
   "source": [
    "**1) MAE(Mean Absolute Error)**\n",
    "\n",
    "\n",
    "$$\\large MAE=\\frac{1}{n}\\sum_{i=1}^{n}|y_{i}-\\hat{y}_{i}|$$"
   ]
  },
  {
   "cell_type": "markdown",
   "id": "df622cbe",
   "metadata": {},
   "source": [
    "- 평균 절대 오차"
   ]
  },
  {
   "cell_type": "code",
   "execution_count": null,
   "id": "7143a8fa",
   "metadata": {},
   "outputs": [],
   "source": [
    "# 모듈 불러오기\n",
    "from sklearn.metrics import mean_absolute_error\n",
    "\n",
    "# 성능 평가\n",
    "print('MAE:',mean_absolute_error(y_test, y_pred)) # 평균 절대 오차"
   ]
  },
  {
   "cell_type": "markdown",
   "id": "40fe1246",
   "metadata": {},
   "source": [
    "**2) MSE(Mean Squared Error)**\n",
    "\n",
    "$$\\large MSE=\\frac{1}{n}\\sum_{i=1}^{n}(y_{i}-\\hat{y}_{i})^2$$"
   ]
  },
  {
   "cell_type": "markdown",
   "id": "a0327601",
   "metadata": {},
   "source": [
    "- 평균 제곱 오차"
   ]
  },
  {
   "cell_type": "code",
   "execution_count": null,
   "id": "fb502c37",
   "metadata": {},
   "outputs": [],
   "source": [
    "# 모듈 불러오기\n",
    "from sklearn.metrics import mean_squared_error\n",
    "\n",
    "# 성능 평가\n",
    "print('MSE:',mean_squared_error(y_test, y_pred))"
   ]
  },
  {
   "cell_type": "markdown",
   "id": "4919b124",
   "metadata": {},
   "source": [
    "**3) RMSE(Root Mean Squared Error)**\n",
    "\n",
    "\n",
    "$$\\large RMSE=\\sqrt{\\frac{1}{n}\\sum_{i=1}^{n}(y_{i}-\\hat{y}_{i})^2}$$"
   ]
  },
  {
   "cell_type": "markdown",
   "id": "49ece13c",
   "metadata": {},
   "source": [
    "- MSE(평균 제곱 오차)의 제곱근"
   ]
  },
  {
   "cell_type": "code",
   "execution_count": null,
   "id": "5a80b59b",
   "metadata": {},
   "outputs": [],
   "source": [
    "# 모듈 불러오기\n",
    "from sklearn.metrics import mean_squared_error\n",
    "\n",
    "# 성능 평가\n",
    "print('RMSE:', mean_squared_error(y_test, y_pred) ** 0.5) # 루트 0.5 제곱"
   ]
  },
  {
   "cell_type": "code",
   "execution_count": null,
   "id": "3b1d41ad",
   "metadata": {},
   "outputs": [],
   "source": [
    "# 모듈 불러오기\n",
    "from sklearn.metrics import mean_squared_error\n",
    "\n",
    "# 성능 평가\n",
    "print('RMSE:', mean_squared_error(y_test, y_pred, squared=False)) "
   ]
  },
  {
   "cell_type": "markdown",
   "id": "adcf7b4a",
   "metadata": {},
   "source": [
    "**4) MAPE(Mean Absolute Percentage Error)**\n",
    "\n",
    "$$\\large MAPE=\\frac{1}{n}\\sum_{i=1}^{n}\\left |\\frac{y_{i}-\\hat{y}_{i}}{y_{i}}\\right |$$"
   ]
  },
  {
   "cell_type": "markdown",
   "id": "ca66e07c",
   "metadata": {},
   "source": [
    "- 예측 값과 실제 값 사이의 평균 절대 백분율 오차"
   ]
  },
  {
   "cell_type": "code",
   "execution_count": null,
   "id": "a672c0d1",
   "metadata": {},
   "outputs": [],
   "source": [
    "# 모듈 불러오기\n",
    "from sklearn.metrics import mean_absolute_percentage_error\n",
    "\n",
    "# 성능 평가\n",
    "print('MAPE:', mean_absolute_percentage_error(y_test, y_pred)) # 오차의 비율"
   ]
  },
  {
   "cell_type": "markdown",
   "id": "01250a43",
   "metadata": {},
   "source": [
    "**5) R2-Score**\n",
    "\n",
    "$$\\large R^2=1-\\frac{SSE}{SST}=1-\\frac{\\sum_{i=1}^{n}(y_{i}-\\hat{y}_{i})^2}{\\sum_{i=1}^{n}(y_{i}-\\bar{y}_{i})^2}$$"
   ]
  },
  {
   "cell_type": "markdown",
   "id": "cca37cfc",
   "metadata": {},
   "source": [
    "- 0에서 1 사이의 값을 가지며, 높을수록 모델이 데이터를 잘 설명한다고 해석"
   ]
  },
  {
   "cell_type": "code",
   "execution_count": null,
   "id": "2ed5429b",
   "metadata": {},
   "outputs": [],
   "source": [
    "# 모듈 불러오기\n",
    "from sklearn.metrics import r2_score\n",
    "\n",
    "# 성능 평가\n",
    "print('R2:', r2_score(y_test, y_pred)) # 57% # 클수록 좋음"
   ]
  },
  {
   "cell_type": "markdown",
   "id": "a466f3f5",
   "metadata": {},
   "source": [
    "- score() 메서드를 사용해 R2 Score를 확인할 수 있습니다."
   ]
  },
  {
   "cell_type": "code",
   "execution_count": null,
   "id": "b8e9f758",
   "metadata": {},
   "outputs": [],
   "source": [
    "# 참고\n",
    "model.score(x_test, y_test)"
   ]
  },
  {
   "cell_type": "markdown",
   "id": "13c5ee3a",
   "metadata": {},
   "source": [
    "**6) 학습 성능 확인**"
   ]
  },
  {
   "cell_type": "code",
   "execution_count": null,
   "id": "5728ab62",
   "metadata": {},
   "outputs": [],
   "source": [
    "# 학습 데이터에 대한 예측\n",
    "y_train_pred = model.predict(x_train)\n",
    "\n",
    "# 학습 성능 확인\n",
    "print('R2:', r2_score(y_train, y_train_pred)) #학습 성능과 평가 성능이 비슷 과적합은 아님"
   ]
  },
  {
   "cell_type": "code",
   "execution_count": null,
   "id": "82b584bc",
   "metadata": {},
   "outputs": [],
   "source": [
    "# 학습성능, 평가성능 비교\n",
    "print('학습성능:', model.score(x_train, y_train))\n",
    "print('평가성능:', model.score(x_test, y_test))"
   ]
  },
  {
   "cell_type": "markdown",
   "id": "bf56b71a",
   "metadata": {},
   "source": [
    "## 분류 성능 평가"
   ]
  },
  {
   "cell_type": "markdown",
   "id": "1e6b3c2c",
   "metadata": {},
   "source": [
    "**1) Confusion Matrix**"
   ]
  },
  {
   "cell_type": "code",
   "execution_count": null,
   "id": "1b9145db",
   "metadata": {},
   "outputs": [],
   "source": [
    "# 모듈 불러오기\n",
    "from sklearn.metrics import confusion_matrix\n",
    "\n",
    "# 성능 평가\n",
    "print(\"CM:\", confusion_matrix(y_test, y_pred)) # TN, FP, FN, TP"
   ]
  },
  {
   "cell_type": "code",
   "execution_count": null,
   "id": "9d407353",
   "metadata": {},
   "outputs": [],
   "source": [
    "# 혼동행렬 시각화\n",
    "plt.figure(figsize=(5, 2))\n",
    "sns.heatmap(confusion_matrix(y_test, y_pred), annot=True, cbar=False,\n",
    "           cmap='Blues')\n",
    "plt.show()"
   ]
  },
  {
   "cell_type": "markdown",
   "id": "b70178af",
   "metadata": {},
   "source": [
    "**2) Accuracy**\n",
    "\n",
    "$$\\large Accuracy = \\frac{TP+TN}{TP+TN+FP+FN}$$"
   ]
  },
  {
   "cell_type": "code",
   "execution_count": null,
   "id": "b159a598",
   "metadata": {},
   "outputs": [],
   "source": [
    "# 모듈 불러오기\n",
    "from sklearn.metrics import accuracy_score\n",
    "\n",
    "# 성능 평가\n",
    "print('Accuracy:', accuracy_score(y_test, y_pred)) # 정확도"
   ]
  },
  {
   "cell_type": "markdown",
   "id": "7da09aea",
   "metadata": {},
   "source": [
    "**3) Precision**\n",
    "\n",
    "$$\\large Precision = \\frac{TP}{TP+FP}$$"
   ]
  },
  {
   "cell_type": "code",
   "execution_count": null,
   "id": "59dff865",
   "metadata": {},
   "outputs": [],
   "source": [
    "# 모듈 불러오기\n",
    "from sklearn.metrics import precision_score\n",
    "\n",
    "# 성능 평가\n",
    "print('Precision', precision_score(y_test, y_pred)) # 정밀도\n",
    "print('Precision', precision_score(y_test, y_pred, average=None)) # 0의정밀도, 1정밀도 #특이도 # 이걸 권고\n",
    "print('Precision', precision_score(y_test, y_pred, average='macro'))\n",
    "print('Precision', precision_score(y_test, y_pred, average='weighted'))"
   ]
  },
  {
   "cell_type": "markdown",
   "id": "b2f430c1",
   "metadata": {},
   "source": [
    "**4) Recall**\n",
    "\n",
    "$$\\large Recall = \\frac{TP}{TP+FN}$$"
   ]
  },
  {
   "cell_type": "code",
   "execution_count": null,
   "id": "e7585225",
   "metadata": {},
   "outputs": [],
   "source": [
    "# 모듈 불러오기\n",
    "from sklearn.metrics import recall_score\n",
    "\n",
    "# 성능 평가\n",
    "print('Recall:', recall_score(y_test, y_pred, average=None)) # 재현도 # 0.9 값 특이도 \n",
    "                                                             # 민감도(실제값) 정밀도(예측값)"
   ]
  },
  {
   "cell_type": "markdown",
   "id": "e55eeef2",
   "metadata": {},
   "source": [
    "**5) F1-Score**\n",
    "\n",
    "$$\\large F1 = \\frac{2\\times Precision\\times Recall}{Precision+Recall}$$"
   ]
  },
  {
   "cell_type": "code",
   "execution_count": null,
   "id": "aed778da",
   "metadata": {},
   "outputs": [],
   "source": [
    "# 모듈 불러오기\n",
    "from sklearn.metrics import f1_score\n",
    "\n",
    "# 성능 평가\n",
    "print(\"F1:\", f1_score(y_test, y_pred, average=None)) # 정밀도와 재현율의 조화 평균"
   ]
  },
  {
   "cell_type": "markdown",
   "id": "b0ed53e1",
   "metadata": {},
   "source": [
    "**6) Classification Report**"
   ]
  },
  {
   "cell_type": "code",
   "execution_count": null,
   "id": "9b5b1d49",
   "metadata": {},
   "outputs": [],
   "source": [
    "# 모듈 불러오기\n",
    "from sklearn.metrics import classification_report\n",
    "\n",
    "# 성능 평가\n",
    "print(classification_report(y_test, y_pred))"
   ]
  },
  {
   "cell_type": "code",
   "execution_count": null,
   "id": "46f34e39",
   "metadata": {},
   "outputs": [],
   "source": [
    "# 참고\n",
    "print('학습성능:', model.score(x_train, y_train))\n",
    "print('평가성능:', model.score(x_test, y_test))"
   ]
  },
  {
   "cell_type": "markdown",
   "id": "9f6f6ac3",
   "metadata": {},
   "source": [
    "- 회귀 계수를 살펴봅니다."
   ]
  },
  {
   "cell_type": "code",
   "execution_count": null,
   "id": "f6a8db26",
   "metadata": {},
   "outputs": [],
   "source": [
    "# 회귀계수 확인\n",
    "print(model.coef_) # 가중치\n",
    "print(model.intercept_) # 편향"
   ]
  },
  {
   "cell_type": "markdown",
   "id": "f38033b5",
   "metadata": {},
   "source": [
    "$$ \\large Distance = 3.9*Speed -16.37 $$"
   ]
  },
  {
   "cell_type": "code",
   "execution_count": null,
   "id": "1605c061",
   "metadata": {},
   "outputs": [],
   "source": [
    "# 회귀식 확인\n",
    "# y = a * x + b\n",
    "a = model.coef_  # 가중치\n",
    "b = model.intercept_ # 편향\n",
    "#speed = np.array([x_test.min(), x_test.max()])\n",
    "speed = np.linspace(x_test.min(), x_test.max(), 2)\n",
    "# 회귀선 = 가중치 x feature x 편향\n",
    "dist = a * speed + b # 회귀선"
   ]
  },
  {
   "cell_type": "code",
   "execution_count": null,
   "id": "aabf5696",
   "metadata": {},
   "outputs": [],
   "source": [
    "# 회귀선 그리기\n",
    "plt.scatter(x_test, y_test) # 평가 데이터\n",
    "plt.scatter(x_train, y_train, color='orange') # 학습 데이터\n",
    "plt.plot(speed, dist, color='r') # 학습 데이터 회귀선\n",
    "plt.show()"
   ]
  },
  {
   "cell_type": "markdown",
   "id": "4b7a9b25",
   "metadata": {},
   "source": [
    "### 정규화(Normalization)\n",
    "• 각 변수의 값이 0과 1사이 값이 됨\n",
    "\n",
    "### 표준화(Standardization)\n",
    "• 각 변수의 평균이 0, 표준편차가 1이 됨\n"
   ]
  },
  {
   "cell_type": "code",
   "execution_count": null,
   "id": "9884d117",
   "metadata": {},
   "outputs": [],
   "source": [
    "# 함수 불러오기\n",
    "from sklearn.preprocessing import MinMaxScaler\n",
    "# 정규화\n",
    "scaler = MinMaxScaler()\n",
    "scaler.fit(x_train)\n",
    "x_train = scaler.transform(x_train)\n",
    "x_test = scaler.transform(x_test)"
   ]
  },
  {
   "cell_type": "markdown",
   "id": "2b34229d",
   "metadata": {},
   "source": [
    "## 결정 트리"
   ]
  },
  {
   "cell_type": "code",
   "execution_count": null,
   "id": "bd835ae6",
   "metadata": {},
   "outputs": [],
   "source": [
    "# 1단계: 불러오기\n",
    "from sklearn.tree import DecisionTreeClassifier\n",
    "from sklearn.metrics import confusion_matrix, classification_report"
   ]
  },
  {
   "cell_type": "code",
   "execution_count": null,
   "id": "755bfb7e",
   "metadata": {},
   "outputs": [],
   "source": [
    "# 2단계: 선언하기 \n",
    "model = DecisionTreeClassifier(max_depth=5 ,random_state=1) #독립 변수 제한 # 같은 걸 고를 수 있음"
   ]
  },
  {
   "cell_type": "code",
   "execution_count": null,
   "id": "09123b08",
   "metadata": {},
   "outputs": [],
   "source": [
    "# 3단계: 학습하기\n",
    "model.fit(x_train, y_train)"
   ]
  },
  {
   "cell_type": "code",
   "execution_count": null,
   "id": "b3b79431",
   "metadata": {},
   "outputs": [],
   "source": [
    "# 4단계: 예측하기\n",
    "y_pred = model.predict(x_test)"
   ]
  },
  {
   "cell_type": "code",
   "execution_count": null,
   "id": "f4af5a39",
   "metadata": {},
   "outputs": [],
   "source": [
    "# 5단계 평가하기\n",
    "print('confusion:', confusion_matrix(y_test, y_pred))\n",
    "print('report::', classification_report(y_test, y_pred))"
   ]
  },
  {
   "cell_type": "code",
   "execution_count": null,
   "id": "af504bae",
   "metadata": {},
   "outputs": [],
   "source": [
    "# 시각화 모듈 불러오기\n",
    "from sklearn.tree import export_graphviz\n",
    "from IPython.display import Image\n",
    "\n",
    "# 이미지 파일 만들기\n",
    "export_graphviz(model,                                 # 모델 이름\n",
    "                out_file='tree.dot',                   # 파일 이름\n",
    "                feature_names=list(x),                 # Feature 이름\n",
    "                class_names=['die', 'survived'],       # Target Class 이름 (분류인 경우만 지정)\n",
    "                rounded=True,                          # 둥근 테두리\n",
    "                precision=2,                           # 불순도 소숫점 자리수\n",
    "                max_depth=3,                           # 실제로 표시할 트리 깊이\n",
    "                filled=True)                           # 박스 내부 채우기\n",
    "\n",
    "# 파일 변환\n",
    "!dot tree.dot -Tpng -otree.png -Gdpi=300\n",
    "\n",
    "# 이미지 파일 표시\n",
    "Image(filename='tree.png')"
   ]
  },
  {
   "cell_type": "code",
   "execution_count": null,
   "id": "396c86b7",
   "metadata": {},
   "outputs": [],
   "source": [
    "# 변수 중요도 시각화\n",
    "# 변수 중요도\n",
    "plt.figure(figsize=(5, 5))\n",
    "plt.barh(y=list(x), width=model.feature_importances_) # feature_importances_ 속성이 변수 중요도\n",
    "plt.show()"
   ]
  },
  {
   "cell_type": "code",
   "execution_count": null,
   "id": "0232e060",
   "metadata": {},
   "outputs": [],
   "source": [
    "# 정렬해서 중요도 시각화\n",
    "# 데이터프레임 만들기\n",
    "df = pd.DataFrame()\n",
    "df['feature'] = list(x)\n",
    "df['importance'] = model.feature_importances_\n",
    "df.sort_values(by='importance', ascending=True, inplace=True)\n",
    "\n",
    "# 시각화\n",
    "plt.figure(figsize=(5, 5))\n",
    "plt.barh(df['feature'], df['importance'])\n",
    "plt.show()"
   ]
  },
  {
   "cell_type": "markdown",
   "id": "3acee6e0",
   "metadata": {},
   "source": [
    "# 로지스틱회귀"
   ]
  },
  {
   "cell_type": "markdown",
   "id": "368beb0a",
   "metadata": {},
   "source": [
    "- Diabetes 데이터로 모델링합니다.\n",
    "- Logistic Regression 알고리즘으로 모델링합니다."
   ]
  },
  {
   "cell_type": "code",
   "execution_count": null,
   "id": "3b687aad",
   "metadata": {},
   "outputs": [],
   "source": [
    "# 1단계: 불러오기\n",
    "from sklearn.linear_model import LogisticRegression\n",
    "from sklearn.metrics import confusion_matrix, classification_report"
   ]
  },
  {
   "cell_type": "code",
   "execution_count": null,
   "id": "3951e3fc",
   "metadata": {},
   "outputs": [],
   "source": [
    "# 2단계: 선언하기\n",
    "model = LogisticRegression()"
   ]
  },
  {
   "cell_type": "code",
   "execution_count": null,
   "id": "d91fda27",
   "metadata": {},
   "outputs": [],
   "source": [
    "# 3단계: 학습하기\n",
    "model.fit(x_train,y_train)"
   ]
  },
  {
   "cell_type": "code",
   "execution_count": null,
   "id": "20d20cbb",
   "metadata": {},
   "outputs": [],
   "source": [
    "# 4단계: 예측하기\n",
    "y_pred = model.predict(x_test)"
   ]
  },
  {
   "cell_type": "code",
   "execution_count": null,
   "id": "2b94d5c5",
   "metadata": {},
   "outputs": [],
   "source": [
    "# 5단계 평가하기\n",
    "print(confusion_matrix(y_test, y_pred))\n",
    "print(classification_report(y_test, y_pred))"
   ]
  },
  {
   "cell_type": "code",
   "execution_count": null,
   "id": "8a3372d1",
   "metadata": {},
   "outputs": [],
   "source": [
    "# 예측값\n",
    "y_pred[10:20]\n",
    "\n",
    "# 예측 확률\n",
    "p = model.predict_proba(x_test)\n",
    "p[10:20]\n",
    "       # 0 확률      # 1확률"
   ]
  },
  {
   "cell_type": "code",
   "execution_count": null,
   "id": "6f393a97",
   "metadata": {},
   "outputs": [],
   "source": [
    "# 비교\n",
    "print(classification_report(y_test, y_pred)) \n",
    "\n",
    "# 임계값 : 0.4\n",
    "y_pred2 = [1 if x > 0.4 else 0 for x in p1] # 0.4보다 크면 1 아니면 0\n",
    "\n",
    "# 성능 평가\n",
    "print(classification_report(y_test, y_pred2))"
   ]
  },
  {
   "cell_type": "markdown",
   "id": "4b9c9c7d",
   "metadata": {},
   "source": [
    "### 성능 예측\n",
    "- K분할 교차 검증 방법으로 모델 성능을 예측합니다.\n",
    "- cross_val_score(model, x_train, y_train, cv=n) 형태로 사용합니다.\n",
    "- cv 옵션에 k값(분할 개수, 기본값=5)을 지정합니다.\n",
    "- cross_val_score 함수는 넘파이 배열 형태의 값을 반환합니다.\n",
    "- cross_val_score 함수 반환 값의 평균을 해당 모델의 예측 성능으로 볼 수 있습니다.\n",
    "\n",
    "1) Decision Tree"
   ]
  },
  {
   "cell_type": "code",
   "execution_count": null,
   "id": "9780775e",
   "metadata": {},
   "outputs": [],
   "source": [
    "# 불러오기\n",
    "from sklearn.tree import DecisionTreeClassifier\n",
    "from sklearn.model_selection import cross_val_score\n",
    "\n",
    "# 선언하기\n",
    "model = DecisionTreeClassifier(random_state=1)\n",
    "\n",
    "# 검증하기\n",
    "cv_score = cross_val_score(model, x_train, y_train, cv=10) \n",
    "\n",
    "# 확인 \n",
    "print(cv_score) # 정확도 # ex) 회귀에서는 R2\n",
    "print('평균:', cv_score.mean())\n",
    "print('표준편차:', cv_score.std())\n",
    "\n",
    "# 예측 결과 저장\n",
    "result = {}\n",
    "result['Decision Tree'] = cv_score.mean()\n",
    "\n",
    "# 확인\n",
    "print(result)"
   ]
  },
  {
   "cell_type": "markdown",
   "id": "4f824d83",
   "metadata": {},
   "source": [
    "### 회귀\n",
    "- DecisionTreeRegressor\n",
    "- KNeighborsRegressor\n",
    "- LinearRegression\n",
    "- RandomForestRegressor\n",
    "- GradientBoostingRegressor\n",
    "- XGBRFRegressor\n",
    "- LGBMRegressor\n",
    "\n",
    "- #### 평가지표\n",
    "    - mean_squared_error\n",
    "    - mean_absolute_error\n",
    "    - r2_score\n",
    "    - root mean_squared_error\n",
    "\n",
    "### 분류\n",
    "- LogisticRegression\n",
    "- KNeighborsClassifier\n",
    "- DecisionTreeClassifier\n",
    "- RandomForestClassifier\n",
    "- XGBClassifier\n",
    "- GradientBoostingClassifier\n",
    "- LGBMClassifier\n",
    "- SVC\n",
    "\n",
    " - #### 평가지표\n",
    "    - accuracy_score\n",
    "    - recall_score\n",
    "    - precision_score\n",
    "    - classification_report\n",
    "    - confusion_matrix"
   ]
  },
  {
   "cell_type": "code",
   "execution_count": null,
   "id": "de033599",
   "metadata": {},
   "outputs": [],
   "source": [
    "# 머신러닝 라이브러리 불러오기\n",
    "from sklearn.neighbors import KNeighborsClassifier\n",
    "from sklearn.tree import DecisionTreeClassifier\n",
    "from sklearn.linear_model import LogisticRegression\n",
    "from sklearn.ensemble import RandomForestClassifier\n",
    "from xgboost import XGBClassifier\n",
    "from lightgbm import LGBMClassifier\n",
    "from sklearn.ensemble import GradientBoostingClassifier, GradientBoostingRegressor\n",
    "\n",
    "from sklearn.metrics import *"
   ]
  },
  {
   "cell_type": "markdown",
   "id": "a9a96719",
   "metadata": {},
   "source": [
    "### Decision Tree\n",
    "- 하이퍼 파라미터\n",
    "   - max_depth\n",
    "      - 트리의 최대 깊이 제한\n",
    "      - 기본값: 완벽하게 클래스 결정 값이 될 때까지\n",
    "      - 깊이를 계속 키우며 분할하거나, 노드가 가지는\n",
    "      - 데이터 개수가 min_samples_split보다 작아질\n",
    "      - 때까지 계속 깊이를 증가시킴\n",
    "      - 이 값이 작을 수록 트리 깊이가 제한되어 모델이 단순해 짐\n",
    "    - min_samples_leaf\n",
    "      - leaf가 되기 위한 최소한의 샘플 데이터 수\n",
    "      - 이 값이 클 수록 모델이 단순해 짐\n",
    "    - min_samples_split\n",
    "      - 노드를 분할하기 위한 최소한의 샘플 데이터 수\n",
    "      - 이 값이 클 수록 모델이 단순해 짐\n",
    "      - 위 파라미터 값을 조정해 모델을 단순화 시켜 과대적합 위험을 줄임"
   ]
  },
  {
   "cell_type": "markdown",
   "id": "5f4c1634",
   "metadata": {},
   "source": [
    "### 1) 모델 튜닝\n",
    "\n",
    " - 성능을 확인할 파라미터를 딕셔너리 형태로 선언합니다.\n",
    " - 기존 모델을 기본으로 RandomizedSearchCV 알고리즘을 사용하는 모델을 선언합니다.\n",
    " - 다음 정보를 최종 모델에 파라미터로 전달합니다.\n",
    " - 기본 모델 이름\n",
    " - 파라미터 변수\n",
    " - cv: K-Fold 분할 개수(기본값=5)\n",
    " - n_iter: 시도 횟수(기본값=10)\n",
    " - scoring: 평가 방법"
   ]
  },
  {
   "cell_type": "code",
   "execution_count": null,
   "id": "43d61033",
   "metadata": {},
   "outputs": [],
   "source": [
    "# 불러오기\n",
    "from sklearn.model_selection import RandomizedSearchCV\n",
    "\n",
    "# 파라미터 선언\n",
    "  # max_depth: 1~50\n",
    "param = {'max_depth': range(1, 51)}\n",
    "\n",
    "# Random Search 선언\n",
    "  # cv=5\n",
    "  # n_iter=20\n",
    "  # scoring='r2'\n",
    "model = RandomizedSearchCV(model_dt,   # 튜닝할 기본 모델\n",
    "                          param,       # 테스트 대상 매개변수 범위\n",
    "                          n_iter=20,   # 임으로 선택할 매개변수 개수\n",
    "                          cv=5,        # K-Fold cv 개수\n",
    "                          scoring='r2' # 평가지표 (회귀여서 r2)\n",
    "                          )\n",
    "\n"
   ]
  },
  {
   "cell_type": "markdown",
   "id": "097421d2",
   "metadata": {},
   "source": [
    "### 튜닝 결과 확인\n",
    "\n",
    "- model.cv_results_ 속성에 성능 테스트와 관련된 많은 정보가 포함되어 있습니다.\n",
    "- 이 중 중요한 정보를만 추출해서 확인합니다.\n",
    "- 다음 3가지는 꼭 기억해야 합니다.\n",
    "- model.cv_results_['mean_test_score']: 테스트로 얻은 성능\n",
    "- model.best_params_: 최적의 파라미터\n",
    "- model.best_score_: 최고의 성능"
   ]
  },
  {
   "cell_type": "code",
   "execution_count": null,
   "id": "adb88b2a",
   "metadata": {},
   "outputs": [],
   "source": [
    "grid_search_lr = GridSearchCV(RandomForestClassifier(), param_grid_lr, cv=5, scoring='accuracy')\n",
    "grid_search_lr.fit(x_train, y_train2)\n",
    "best_lr_model = grid_search_lr.best_estimator_\n",
    "best_lr_params = grid_search_lr.best_params_\n",
    "best_lr_score = grid_search_lr.best_score_"
   ]
  },
  {
   "cell_type": "code",
   "execution_count": null,
   "id": "6b6840b6",
   "metadata": {},
   "outputs": [],
   "source": [
    "y_pred_lr = best_lr_model.predict(x_val)\n",
    "print(\"Logistic Regression 모델 평가 결과:\")\n",
    "print('accuracy :', accuracy_score(y_val2, y_pred_lr))\n",
    "print('='*60)\n",
    "print(confusion_matrix(y_val2, y_pred_lr))\n",
    "print('='*60)\n",
    "print(classification_report(y_val2, y_pred_lr))\n",
    "print('='*60)\n",
    "print(\"최적의 파라미터:\", best_lr_params)\n",
    "print(\"최고 성능:\", best_lr_score)\n",
    "print('='*60)"
   ]
  },
  {
   "cell_type": "code",
   "execution_count": null,
   "id": "36ad730b",
   "metadata": {},
   "outputs": [],
   "source": [
    "#### 결과\n",
    "\n",
    "# Logistic Regression 모델 평가 결과:\n",
    "# accuracy : 1.0\n",
    "# ============================================================\n",
    "# [[637   0]\n",
    "# [  0 540]]\n",
    "# ============================================================\n",
    "#              precision    recall  f1-score   support\n",
    "#\n",
    "#           0       1.00      1.00      1.00       637\n",
    "#            1       1.00      1.00      1.00       540\n",
    "\n",
    "#     accuracy                           1.00      1177\n",
    "#    macro avg       1.00      1.00      1.00      1177\n",
    "# weighted avg       1.00      1.00      1.00      1177\n",
    "\n",
    "# ============================================================\n",
    "# 최적의 파라미터: {'max_depth': 23, 'n_estimators': 205}\n",
    "# 최고 성능: 0.9991496144888868"
   ]
  },
  {
   "cell_type": "markdown",
   "id": "84a3f253",
   "metadata": {},
   "source": [
    "# 18. 차원 축소"
   ]
  },
  {
   "cell_type": "code",
   "execution_count": null,
   "id": "9b915608",
   "metadata": {},
   "outputs": [],
   "source": [
    "!pip install plotly\n",
    "import plotly.graph_objects as go"
   ]
  },
  {
   "cell_type": "code",
   "execution_count": null,
   "id": "aa4899b2",
   "metadata": {},
   "outputs": [],
   "source": [
    "# 기본 라이브러리 가져오기\n",
    "import pandas as pd\n",
    "import numpy as np\n",
    "import matplotlib.pyplot as plt\n",
    "import seaborn as sns\n",
    "\n",
    "from sklearn.model_selection import train_test_split\n",
    "from sklearn.neighbors import KNeighborsClassifier\n",
    "from sklearn.metrics import *\n",
    "\n",
    "from sklearn.datasets import load_breast_cancer, load_digits, load_iris, make_swiss_roll\n",
    "from sklearn.preprocessing import MinMaxScaler\n",
    "\n",
    "from sklearn.decomposition import PCA"
   ]
  },
  {
   "cell_type": "code",
   "execution_count": null,
   "id": "d68c2426",
   "metadata": {},
   "outputs": [],
   "source": [
    "# 럭비공 형태의 샘플 데이터 생성 함수\n",
    "def generate_rugby_data(n_points=1000, a=1, b=1.5, c=2):\n",
    "    phi = np.random.uniform(0, np.pi, n_points)\n",
    "    theta = np.random.uniform(0, 2*np.pi, n_points)\n",
    "    x = a * np.sin(phi) * np.cos(theta)\n",
    "    y = b * np.sin(phi) * np.sin(theta)\n",
    "    z = c * np.cos(phi)\n",
    "    X = np.column_stack((x, y, z))\n",
    "    return X\n",
    "\n",
    "rugby = generate_rugby_data()\n",
    "\n",
    "# 스위스롤 데이터\n",
    "swiss_roll, _ = make_swiss_roll(n_samples=1000, noise=0.2)"
   ]
  },
  {
   "cell_type": "code",
   "execution_count": null,
   "id": "005d9206",
   "metadata": {},
   "outputs": [],
   "source": [
    "# 3차원 스캐터 함수 생성\n",
    "def my_3d_Scatter(X) :\n",
    "    fig = go.Figure()\n",
    "    fig.add_trace(go.Scatter3d(x=X[:, 0], y=X[:, 1], z=X[:, 2],\n",
    "                           mode='markers', marker=dict(size=2, color='blue'),\n",
    "                           name='Original Data'))\n",
    "\n",
    "    fig.update_layout(margin=dict(l=0, r=0, b=0, t=0),\n",
    "                      scene=dict(xaxis_title='X Axis', yaxis_title='Y Axis', zaxis_title='Z Axis'))\n",
    "\n",
    "    fig.show()"
   ]
  },
  {
   "cell_type": "code",
   "execution_count": null,
   "id": "09ea0f1f",
   "metadata": {},
   "outputs": [],
   "source": [
    "my_3d_Scatter(rugby)"
   ]
  },
  {
   "cell_type": "code",
   "execution_count": null,
   "id": "f5be7620",
   "metadata": {},
   "outputs": [],
   "source": [
    "# PCA를 이용하여 2개의 주성분으로 차원 축소\n",
    "pca = PCA(n_components=2)\n",
    "X_pca = pca.fit_transform(rugby)\n",
    "\n",
    "# PCA 축소 데이터 조회\n",
    "plt.scatter(X_pca[:, 0], X_pca[:, 1])\n",
    "plt.grid()\n",
    "plt.show()\n"
   ]
  },
  {
   "cell_type": "markdown",
   "id": "fd834715",
   "metadata": {},
   "source": [
    "### PCA 사용준비"
   ]
  },
  {
   "cell_type": "code",
   "execution_count": null,
   "id": "29db461e",
   "metadata": {},
   "outputs": [],
   "source": [
    "iris = pd.read_csv(\"https://raw.githubusercontent.com/DA4BAM/dataset/master/iris.csv\")\n",
    "target = 'Species'\n",
    "x = iris.drop(target, axis = 1)\n",
    "y = iris.loc[:, target]\n",
    "\n",
    "# 스케일링\n",
    "scaler = MinMaxScaler()\n",
    "x2 = scaler.fit_transform(x)\n",
    "\n",
    "# (옵션)데이터프레임 변환\n",
    "x2 = pd.DataFrame(x2, columns= x.columns)\n",
    "\n",
    "# 주성분 분석\n",
    "from sklearn.decomposition import PCA\n",
    "\n",
    "# feature 수\n",
    "x2.shape[1]\n",
    "\n",
    "# 주성분 수 2개\n",
    "n = 2\n",
    "pca = PCA(n_components = n) # 2차원으로 축소\n",
    "\n",
    "# 만들고, 적용하기(결과는 넘파이 어레이)\n",
    "x2_pc = pca.fit_transform(x2)\n",
    "\n",
    "# (옵션) 데이터프레임으로 변환\n",
    "x2_pc = pd.DataFrame(x2_pc, columns = ['PC1', 'PC2'])\n",
    "x2_pc.head()\n",
    "\n",
    "# 차원추속된 데이터를 붙임\n",
    "pd.concat([iris, x2_pc], axis = 1).head()\n",
    "\n",
    "# 두 주성분 시각화\n",
    "sns.scatterplot(x = 'PC1', y = 'PC2', data = x2_pc, hue = y)\n",
    "plt.grid()\n",
    "plt.show()"
   ]
  },
  {
   "cell_type": "markdown",
   "id": "073b2bbf",
   "metadata": {},
   "source": [
    "### 고차원 데이터 차원 축소"
   ]
  },
  {
   "cell_type": "code",
   "execution_count": null,
   "id": "9d395051",
   "metadata": {},
   "outputs": [],
   "source": [
    "# breast_cancer 데이터 로딩\n",
    "cancer=load_breast_cancer()\n",
    "x = cancer.data\n",
    "y = cancer.target\n",
    "\n",
    "x = pd.DataFrame(x, columns=cancer.feature_names)\n",
    "\n",
    "x.shape"
   ]
  },
  {
   "cell_type": "code",
   "execution_count": null,
   "id": "5bed03fd",
   "metadata": {},
   "outputs": [],
   "source": [
    "x.head()"
   ]
  },
  {
   "cell_type": "code",
   "execution_count": null,
   "id": "9625855a",
   "metadata": {},
   "outputs": [],
   "source": [
    "# 거리계산 기반 차원축고\n",
    "# 스케일링 필요\n",
    "\n",
    "scaler = MinMaxScaler()\n",
    "x = scaler.fit_transform(x)\n",
    "\n",
    "# (옵션)데이터프레임 변환\n",
    "x = pd.DataFrame(x, columns=cancer.feature_names)\n",
    "\n",
    "# 데이터 분할\n",
    "x_train, x_val, y_train, y_val = train_test_split(x, y, test_size = .3, random_state = 20)"
   ]
  },
  {
   "cell_type": "code",
   "execution_count": null,
   "id": "ba9a3714",
   "metadata": {},
   "outputs": [],
   "source": [
    "# 주 성분 만들기\n",
    "from sklearn.decomposition import PCA\n",
    "\n",
    "# feature 수\n",
    "x_train.shape[1]"
   ]
  },
  {
   "cell_type": "code",
   "execution_count": null,
   "id": "78596ac3",
   "metadata": {},
   "outputs": [],
   "source": [
    "# 주성분 분석 수행\n",
    "\n",
    "# 주성분을 몇개로 할지 결정(최대값 : 전체 feature 수)\n",
    "n = x_train.shape[1] # feautre 수\n",
    "\n",
    "# 주성분 분석 선언\n",
    "pca = PCA(n_components=n)\n",
    "\n",
    "# 만들고, 적용하기\n",
    "x_train_pc = pca.fit_transform(x_train)\n",
    "x_val_pc = pca.transform(x_val)\n",
    "\n",
    "\n",
    "# 칼럼이름 생성\n",
    "column_names = [ 'PC'+str(i+1) for i in range(n) ]\n",
    "column_names"
   ]
  },
  {
   "cell_type": "code",
   "execution_count": null,
   "id": "a9a09f96",
   "metadata": {},
   "outputs": [],
   "source": [
    "# 편리하게 사용하기 위해 데이터프레임 변환\n",
    "# 데이터프레임으로 변환하기\n",
    "x_train_pc = pd.DataFrame(x_train_pc, columns = column_names)\n",
    "x_val_pc = pd.DataFrame(x_val_pc, columns = column_names)\n",
    "x_train_pc"
   ]
  },
  {
   "cell_type": "markdown",
   "id": "3d062117",
   "metadata": {},
   "source": [
    "### x_train을 이용해서 주성분 추출"
   ]
  },
  {
   "cell_type": "code",
   "execution_count": null,
   "id": "abaf85ef",
   "metadata": {},
   "outputs": [],
   "source": [
    "# 주성분 1개짜리\n",
    "n = 1\n",
    "pca = PCA(n_components = n) \n",
    "\n",
    "# 만들고, 적용하기(결과는 넘파이 어레이)\n",
    "x_train_pc_1 = pca.fit_transform(x_train)\n",
    "\n",
    "# 주성분 2개짜리\n",
    "n = 2\n",
    "pca = PCA(n_components = n) \n",
    "\n",
    "# 만들고, 적용하기(결과는 넘파이 어레이)\n",
    "x_train_pc_2 = pca.fit_transform(x_train)\n",
    "\n",
    "# 주성분 3개짜리\n",
    "n = 3\n",
    "pca = PCA(n_components = n) \n",
    "\n",
    "# 만들고, 적용하기(결과는 넘파이 어레이)\n",
    "x_train_pc_3 = pca.fit_transform(x_train)\n",
    "\n",
    "# 상위 3개행씩 조회 \n",
    "print(x_train_pc_1[:3]) \n",
    "print()\n",
    "print(x_train_pc_2[:3]) # pc_1의 첫번째 값과 Pc_2의 첫번째 값이 같음\n",
    "print()\n",
    "print(x_train_pc_3[:3]) # pc_1의 첫번째 값과 Pc_2, Pc3 첫번째 값이 같음\n",
    "                        # pc_2 두번쨰 값과 Pc_3 두번째값과 같음"
   ]
  },
  {
   "cell_type": "markdown",
   "id": "8d484cfe",
   "metadata": {},
   "source": [
    "### 주성분 누적 분산 그래프\n",
    "- 그래프를 보고 적절한 주성분의 개수를 지정(elbow method!)\n",
    "- x축 : PC 수\n",
    "- y축 : 전체 분산크기 - 누적 분산크기"
   ]
  },
  {
   "cell_type": "code",
   "execution_count": null,
   "id": "85a520d0",
   "metadata": {},
   "outputs": [],
   "source": [
    "# 주성분을 몇개로 할지 결정(최대값 : 전체 feature 수) \n",
    "n = x_train.shape[1] \n",
    "# 주성분 분석 선언 \n",
    "pca = PCA(n_components=n) \n",
    "# 만들고, 적용하기 \n",
    "x_train_pc = pca.fit_transform(x_train) \n",
    "x_val_pc = pca.transform(x_val)\n",
    "\n",
    "# 엘보우 시각화\n",
    "plt.plot(range(1,n+1), pca.explained_variance_ratio_, marker = '.')\n",
    "plt.xlabel('No. of PC')\n",
    "plt.grid()\n",
    "plt.show()"
   ]
  },
  {
   "cell_type": "code",
   "execution_count": null,
   "id": "e48b1bc3",
   "metadata": {},
   "outputs": [],
   "source": [
    "# 시각화\n",
    "# 주 성분 중 상위 2개를 뽑아 시각화 해 봅시다.\n",
    "sns.scatterplot(x = 'PC1', y = 'PC2', data = x_train_pc, hue = y_train)\n",
    "plt.grid()\n",
    "plt.show()"
   ]
  },
  {
   "cell_type": "markdown",
   "id": "51618cca",
   "metadata": {},
   "source": [
    "# gka"
   ]
  },
  {
   "cell_type": "code",
   "execution_count": null,
   "id": "4b45cb06",
   "metadata": {},
   "outputs": [],
   "source": [
    "# 함수\n",
    "def pca_model_test(n): \n",
    "    # 데이터 준비 \n",
    "    cols = column_names[:n] \n",
    "    x_train_pc_n = x_train_pc.loc[:, cols] \n",
    "    x_val_pc_n = x_val_pc.loc[:, cols] \n",
    "\n",
    "    # 모델링 \n",
    "    model_n = KNeighborsClassifier() \n",
    "    model_n.fit(x_train_pc_n, y_train) \n",
    "\n",
    "    # 예측 \n",
    "    predn = model_n.predict(x_val_pc_n.values)\n",
    "\n",
    "    # 평가 \n",
    "    return accuracy_score(y_val, predn)"
   ]
  },
  {
   "cell_type": "code",
   "execution_count": null,
   "id": "eeb21790",
   "metadata": {},
   "outputs": [],
   "source": [
    "pc_n = list(range(1, 31))\n",
    "acc=[]\n",
    "for i in pc_n:\n",
    "    acc.append(pca_model_test(i))"
   ]
  },
  {
   "cell_type": "code",
   "execution_count": null,
   "id": "bce64c11",
   "metadata": {},
   "outputs": [],
   "source": [
    "sns.lineplot(x=pc_n, y=acc, marker='o')\n",
    "plt.grid()\n",
    "plt.show()"
   ]
  },
  {
   "cell_type": "markdown",
   "id": "491521c6",
   "metadata": {},
   "source": [
    "### K-means 함수"
   ]
  },
  {
   "cell_type": "code",
   "execution_count": null,
   "id": "2e5de41a",
   "metadata": {},
   "outputs": [],
   "source": [
    "import pandas as pd\n",
    "import numpy as np\n",
    "from matplotlib import pyplot as plt\n",
    "import seaborn as sns\n",
    "\n",
    "# 샘플데이터 로딩 함수\n",
    "from sklearn.datasets import make_blobs, make_moons \n",
    "\n",
    "# 클러스터링을 위한 함수\n",
    "from sklearn.neighbors import NearestNeighbors\n",
    "from sklearn.cluster import KMeans, DBSCAN\n",
    "\n",
    "import warnings\n",
    "warnings.filterwarnings(\"ignore\", category=UserWarning)"
   ]
  },
  {
   "cell_type": "code",
   "execution_count": null,
   "id": "eb12267b",
   "metadata": {},
   "outputs": [],
   "source": [
    "def k_means_plot(x, y, k) :\n",
    "    # 모델 생성\n",
    "    model = KMeans(n_clusters= k, n_init = 'auto')\n",
    "    model.fit(x)\n",
    "    pred = model.predict(x)\n",
    "\n",
    "    # 군집 결과와 원본 데이터 합치기(concat)\n",
    "    pred = pd.DataFrame(pred, columns = ['predicted'])\n",
    "    result = pd.concat([x, pred, y], axis = 1)\n",
    "\n",
    "    # 중앙(평균) 값 뽑기\n",
    "    centers = pd.DataFrame(model.cluster_centers_, columns=['x1','x2'])\n",
    "\n",
    "    # 그래프 그리기\n",
    "    plt.figure(figsize = (8,6))\n",
    "    plt.scatter(result['x1'],result['x2'],c=result['predicted'],alpha=0.5)\n",
    "    plt.scatter(centers['x1'], centers['x2'], s=50,marker='D',c='r')\n",
    "    plt.grid()\n",
    "    plt.show()"
   ]
  },
  {
   "cell_type": "code",
   "execution_count": null,
   "id": "421f14c6",
   "metadata": {},
   "outputs": [],
   "source": [
    "# k 값을 1~8까지 조절해 봅시다.\n",
    "k_means_plot(x, y, k = 8)"
   ]
  },
  {
   "cell_type": "code",
   "execution_count": null,
   "id": "8662c757",
   "metadata": {},
   "outputs": [],
   "source": [
    "# k means 모델을 생성하게 되면 inertia 값을 확인\n",
    "model.inertia_"
   ]
  },
  {
   "cell_type": "code",
   "execution_count": null,
   "id": "f72578c1",
   "metadata": {},
   "outputs": [],
   "source": [
    "# k의 갯수에 따라 각 점과의 거리를 계산하여 적정한 k를 찾아 봅시다.\n",
    "kvalues = range(1, 10)\n",
    "inertias = []\n",
    "\n",
    "for k in kvalues:\n",
    "    model = KMeans(n_clusters=k, n_init = 'auto')\n",
    "    model.fit(x)\n",
    "    inertias.append(model.inertia_)\n",
    "\n",
    "    # Plot k vs inertias\n",
    "plt.figure(figsize = (8, 6))\n",
    "plt.plot(kvalues, inertias, marker='o')\n",
    "plt.xlabel('number of clusters, k')\n",
    "plt.ylabel('inertia')\n",
    "plt.grid()\n",
    "plt.show()"
   ]
  },
  {
   "cell_type": "markdown",
   "id": "d19b1001",
   "metadata": {},
   "source": [
    "### 실루엣 점수"
   ]
  },
  {
   "cell_type": "code",
   "execution_count": null,
   "id": "5131f186",
   "metadata": {},
   "outputs": [],
   "source": [
    "from sklearn.metrics import silhouette_score"
   ]
  },
  {
   "cell_type": "code",
   "execution_count": null,
   "id": "d5bb85d8",
   "metadata": {},
   "outputs": [],
   "source": [
    "# 클러스터 개수에 따른 실루엣 점수를 저장할 리스트\n",
    "kvalues = range(2, 10) # 최소 2개 이상이어야 함.\n",
    "sil_score = []\n",
    "\n",
    "for k in kvalues:\n",
    "    # KMeans 모델 생성\n",
    "    model = KMeans(n_clusters=k, n_init = 'auto')\n",
    "\n",
    "    # 모델을 학습하고 예측\n",
    "    pred = model.fit_predict(x)\n",
    "\n",
    "    # 실루엣 점수 계산\n",
    "    sil_score.append(silhouette_score(x, pred))\n",
    "\n",
    "\n",
    "# 실루엣 점수 시각화\n",
    "plt.figure(figsize = (8, 6))\n",
    "plt.plot(kvalues, sil_score, marker='o')\n",
    "plt.xlabel('n_clusters')\n",
    "plt.ylabel('Silhouette Score')\n",
    "plt.grid()\n",
    "plt.show()"
   ]
  },
  {
   "cell_type": "markdown",
   "id": "6494664b",
   "metadata": {},
   "source": [
    "# 19. 딥러닝 "
   ]
  },
  {
   "cell_type": "code",
   "execution_count": null,
   "id": "1ba433c9",
   "metadata": {},
   "outputs": [],
   "source": [
    "from keras.models import Sequential\n",
    "from keras.layers import Dense\n",
    "from keras.backend import clear_session"
   ]
  },
  {
   "cell_type": "code",
   "execution_count": null,
   "id": "1496790f",
   "metadata": {},
   "outputs": [],
   "source": [
    "# 데이터 준비\n",
    "path = 'https://raw.githubusercontent.com/DA4BAM/dataset/master/boston.csv'\n",
    "boston = pd.read_csv(path)\n",
    "boston.head()"
   ]
  },
  {
   "cell_type": "code",
   "execution_count": null,
   "id": "34ce2336",
   "metadata": {},
   "outputs": [],
   "source": [
    "target = 'medv'\n",
    "x = boston.drop(target, axis=1)\n",
    "y = boston.loc[:, target]\n",
    "\n",
    "# 데이터 분할\n",
    "x_train, x_val, y_train, y_val = train_test_split(x, y, test_size=.2, random_state = 20)"
   ]
  },
  {
   "cell_type": "code",
   "execution_count": null,
   "id": "1d904fbf",
   "metadata": {},
   "outputs": [],
   "source": [
    "# 스케일링 # 딥러닝 스케일링 필수!!\n",
    "scaler = MinMaxScaler()\n",
    "x_train = scaler.fit_transform(x_train)\n",
    "x_val = scaler.transform(x_val)"
   ]
  },
  {
   "cell_type": "code",
   "execution_count": null,
   "id": "42c3ce77",
   "metadata": {},
   "outputs": [],
   "source": [
    "nfeatures = x_train.shape[1] #num of columns # 컬럼(열) 갯수 \n",
    "nfeatures"
   ]
  },
  {
   "cell_type": "code",
   "execution_count": null,
   "id": "9f8f3162",
   "metadata": {},
   "outputs": [],
   "source": [
    "# 메모리 정리(필수는 아님!)\n",
    "clear_session()\n",
    "\n",
    "# Sequential 타입 모델 선언\n",
    "model = Sequential(Dense(1, input_shape=(nfeatures,))) # input_shape\n",
    "                    # output            # input_put\n",
    "\n",
    "# 모델요약\n",
    "model.summary()"
   ]
  },
  {
   "cell_type": "code",
   "execution_count": null,
   "id": "4f831995",
   "metadata": {},
   "outputs": [],
   "source": [
    "# 컴파일\n",
    "model.compile(optimizer='adam', loss='mse')"
   ]
  },
  {
   "cell_type": "code",
   "execution_count": null,
   "id": "e091446f",
   "metadata": {},
   "outputs": [],
   "source": [
    "# 학습\n",
    "model.fit(x_train, y_train)\n",
    "\n",
    "# 예측\n",
    "pred = model.predict(x_val)\n",
    "\n",
    "# 검증\n",
    "print(f'RMSE  : {mean_squared_error(y_val, pred, squared=False)}')\n",
    "print(f'MAE   : {mean_absolute_error(y_val, pred)}')\n",
    "print(f'MAPE  : {mean_absolute_percentage_error(y_val, pred)}')"
   ]
  },
  {
   "cell_type": "code",
   "execution_count": null,
   "id": "ada89113",
   "metadata": {},
   "outputs": [],
   "source": [
    "# Adam 0.1 지정 # 가중치 조절\n",
    "from keras.optimizers import Adam\n",
    "model.compile(optimizer=Adam(0.1), loss='mse')"
   ]
  },
  {
   "cell_type": "code",
   "execution_count": null,
   "id": "23eb7e42",
   "metadata": {},
   "outputs": [],
   "source": [
    "history = model.fit(x_train , y_train, epochs = 20, validation_split=0.2).history\n",
    "                                    # 20번 반복       # 20%를 검증셋 분리  # 가중치가 업데이트 되면서 그때그때마다의 성능을 측정하여 기록\n",
    "                                                      # 하이퍼 파라미터 찾기위해, 일반화 성능을 얻기 위해"
   ]
  },
  {
   "cell_type": "code",
   "execution_count": null,
   "id": "3b6e47b0",
   "metadata": {},
   "outputs": [],
   "source": [
    "# 함수로 만들어서 사용합시다.\n",
    "def dl_history_plot(history):\n",
    "    plt.figure(figsize=(10,6))\n",
    "    plt.plot(history['loss'], label='train_err', marker = '.')\n",
    "    plt.plot(history['val_loss'], label='val_err', marker = '.')\n",
    "\n",
    "    plt.ylabel('Loss')\n",
    "    plt.xlabel('Epoch')\n",
    "    plt.legend()\n",
    "    plt.grid()\n",
    "    plt.show()"
   ]
  },
  {
   "cell_type": "code",
   "execution_count": null,
   "id": "2eebf5e3",
   "metadata": {},
   "outputs": [],
   "source": [
    "dl_history_plot(history)"
   ]
  },
  {
   "cell_type": "code",
   "execution_count": null,
   "id": "e5c5cac3",
   "metadata": {},
   "outputs": [],
   "source": [
    "pred = model.predict(x_val)"
   ]
  },
  {
   "cell_type": "code",
   "execution_count": null,
   "id": "82db34f1",
   "metadata": {},
   "outputs": [],
   "source": [
    "print(f'RMSE : {mean_squared_error(y_val, pred, squared=False)}')\n",
    "print(f'MAE  : {mean_absolute_error(y_val, pred)}')\n",
    "print(f'MAPE : {mean_absolute_percentage_error(y_val, pred)}')"
   ]
  },
  {
   "cell_type": "markdown",
   "id": "fcfc674a",
   "metadata": {},
   "source": [
    "### 회귀"
   ]
  },
  {
   "cell_type": "code",
   "execution_count": null,
   "id": "4e76ffdd",
   "metadata": {},
   "outputs": [],
   "source": [
    "# 히든 레이터\n",
    "# 메모리 정리\n",
    "clear_session()\n",
    "\n",
    "# Sequential 타입 모델 선언(입력은 리스트로!) # 레이어 2개 이상은 리스트로 작성\n",
    "model3 = Sequential([  Dense(2, input_shape = (nfeatures,), activation = 'relu'),\n",
    "                       Dense(1)   ])\n",
    "\n",
    "# 모델요약\n",
    "model3.summary()\n",
    "# 이하 같음"
   ]
  },
  {
   "cell_type": "code",
   "execution_count": null,
   "id": "b3ce7d78",
   "metadata": {},
   "outputs": [],
   "source": [
    "model.compile(optimizer=Adam(0.1), loss='mse')\n",
    "history = model.fit(x_train , y_train, epochs = 20, validation_split=0.2).history"
   ]
  },
  {
   "cell_type": "markdown",
   "id": "ebad3d38",
   "metadata": {},
   "source": [
    "### 분류"
   ]
  },
  {
   "cell_type": "code",
   "execution_count": null,
   "id": "b0a21247",
   "metadata": {},
   "outputs": [],
   "source": [
    "# 메모리 정리\n",
    "clear_session()\n",
    "\n",
    "# Sequential 모델 만들기\n",
    "model = Sequential( Dense( 1 , input_shape = (nfeatures ,), activation= 'sigmoid') )\n",
    "\n",
    "# 모델요약\n",
    "model.summary()"
   ]
  },
  {
   "cell_type": "code",
   "execution_count": null,
   "id": "6b621802",
   "metadata": {},
   "outputs": [],
   "source": [
    "model.compile(optimizer = Adam(lr=0.01), loss = 'binary_crossentropy')\n",
    "\n",
    "history = model.fit(x_train, y_train,\n",
    "                    epochs = 50, validation_split=0.2).history"
   ]
  },
  {
   "cell_type": "code",
   "execution_count": null,
   "id": "ccbee344",
   "metadata": {},
   "outputs": [],
   "source": [
    "red = model.predict(x_val)\n",
    "\n",
    "# activation이 sigmoid --> 0 ~ 1 사이의 확률값.\n",
    "# 그러므로 cut-off value(보통 0.5)를 기준으로 잘라서 0과 1로 만들어 준다.\n",
    "pred = np.where(pred >= .5, 1, 0)"
   ]
  },
  {
   "cell_type": "markdown",
   "id": "8bd79075",
   "metadata": {},
   "source": [
    "### 다중 분류"
   ]
  },
  {
   "cell_type": "code",
   "execution_count": null,
   "id": "0eaee29e",
   "metadata": {},
   "outputs": [],
   "source": [
    "# 메모리 정리\n",
    "clear_session()\n",
    "\n",
    "# Sequential\n",
    "model = Sequential( Dense( 3 , input_shape = (nfeatures,), activation = 'softmax') ) #softmax 사용 # 예측한 값을, 하나의 확률 값으로 변환\n",
    "\n",
    "# 모델요약\n",
    "model.summary()\n",
    "\n",
    "model.compile(optimizer=Adam(learning_rate=0.1), loss= 'sparse_categorical_crossentropy')\n",
    "\n",
    "# verbose = 0 : 로그를 안보기\n",
    "history = model.fit(x_train, y_train, epochs = 50, validation_split=0.2, verbose = 0).history\n",
    "\n",
    "dl_history_plot(history)\n",
    "\n"
   ]
  },
  {
   "cell_type": "code",
   "execution_count": null,
   "id": "281cacd0",
   "metadata": {},
   "outputs": [],
   "source": [
    "pred = model.predict(x_val)\n",
    "pred[:5] "
   ]
  },
  {
   "cell_type": "code",
   "execution_count": null,
   "id": "3a8f972b",
   "metadata": {},
   "outputs": [],
   "source": [
    "# 5개 행만 살펴보면\n",
    "np.argmax(pred[:5], axis = 1)"
   ]
  },
  {
   "cell_type": "code",
   "execution_count": null,
   "id": "aea10d7c",
   "metadata": {},
   "outputs": [],
   "source": [
    "# 전체에 적용해서 변환합시다.\n",
    "pred_1 = pred.argmax(axis=1)   # 열에서 가장 큰 값의 인덱스를 1로 반환 나머지는 0으로 반환\n",
    "\n",
    "print(confusion_matrix(y_val, pred_1))\n",
    "print(classification_report(y_val, pred_1))"
   ]
  },
  {
   "cell_type": "markdown",
   "id": "b72f5469",
   "metadata": {},
   "source": [
    "### 원-핫-인코딩"
   ]
  },
  {
   "cell_type": "code",
   "execution_count": null,
   "id": "28635d94",
   "metadata": {},
   "outputs": [],
   "source": [
    "from keras.utils import to_categorical"
   ]
  },
  {
   "cell_type": "code",
   "execution_count": null,
   "id": "ac3beb50",
   "metadata": {},
   "outputs": [],
   "source": [
    "y_c = to_categorical(y.values, 3) # 클래스 3개 원-핫-인코딩\n",
    "x_train, x_val, y_train, y_val = train_test_split(x, y_c, test_size = .2, random_state = 2024)\n",
    "\n",
    "scaler = MinMaxScaler()\n",
    "x_train = scaler.fit_transform(x_train)\n",
    "x_val = scaler.transform(x_val)\n",
    "\n",
    "nfeatures = x_train.shape[1] #num of columns\n",
    "nfeatures"
   ]
  },
  {
   "cell_type": "code",
   "execution_count": null,
   "id": "fda04584",
   "metadata": {},
   "outputs": [],
   "source": [
    "# 메모리 정리\n",
    "clear_session()\n",
    "\n",
    "# Sequential\n",
    "model = Sequential([Dense(3, input_shape = (nfeatures,), activation = 'softmax')])\n",
    "\n",
    "# 모델요약\n",
    "model.summary()\n",
    "\n",
    "model.compile(optimizer=Adam(learning_rate=0.1), loss='categorical_crossentropy')\n",
    "\n",
    "history = model.fit(x_train, y_train, epochs = 100,\n",
    "                    validation_split=0.2).history\n",
    "\n",
    "dl_history_plot(history)"
   ]
  },
  {
   "cell_type": "code",
   "execution_count": null,
   "id": "76307e5f",
   "metadata": {},
   "outputs": [],
   "source": [
    "# 전체에 적용해서 변환합시다.\n",
    "pred_1 = pred.argmax(axis=1)\n",
    "pred_1\n",
    "\n",
    "y_val_1 = y_val.argmax(axis=1)\n",
    "y_val_1"
   ]
  },
  {
   "cell_type": "code",
   "execution_count": null,
   "id": "77d0ec38",
   "metadata": {},
   "outputs": [],
   "source": [
    "print(confusion_matrix(y_val_1, pred_1))\n",
    "print(classification_report(y_val_1, pred_1))"
   ]
  },
  {
   "cell_type": "markdown",
   "id": "fc9624dd",
   "metadata": {},
   "source": [
    "### MNIST"
   ]
  },
  {
   "cell_type": "code",
   "execution_count": null,
   "id": "52c6f356",
   "metadata": {},
   "outputs": [],
   "source": [
    "import pandas as pd\n",
    "import numpy as np\n",
    "import matplotlib.pyplot as plt\n",
    "import seaborn as sns\n",
    "\n",
    "from sklearn.model_selection import train_test_split\n",
    "from sklearn.metrics import *\n",
    "from sklearn.preprocessing import StandardScaler, MinMaxScaler\n",
    "\n",
    "from keras.models import Sequential\n",
    "from keras.layers import Dense, Flatten\n",
    "from keras.backend import clear_session\n",
    "from keras.optimizers import Adam\n",
    "from keras.datasets import mnist, fashion_mnist"
   ]
  },
  {
   "cell_type": "code",
   "execution_count": null,
   "id": "254b60e1",
   "metadata": {},
   "outputs": [],
   "source": [
    "# 케라스 데이터셋으로 부터 mnist 불러오기\n",
    "(x_train, y_train), (x_val, y_val) = mnist.load_data() # 튜플 형태로 반환\n",
    "x_train.shape, y_train.shape"
   ]
  },
  {
   "cell_type": "code",
   "execution_count": null,
   "id": "cc2cee61",
   "metadata": {},
   "outputs": [],
   "source": [
    "class_names = ['0','1','2','3','4','5','6','7','8','9']"
   ]
  },
  {
   "cell_type": "code",
   "execution_count": null,
   "id": "f42fa191",
   "metadata": {},
   "outputs": [],
   "source": [
    "# 아래 숫자를 바꿔가며 화면에 그려 봅시다.\n",
    "n = 20\n",
    "\n",
    "plt.figure()\n",
    "plt.imshow(x_train[n], cmap=plt.cm.binary)\n",
    "plt.colorbar()\n",
    "plt.show()"
   ]
  },
  {
   "cell_type": "code",
   "execution_count": null,
   "id": "ef0d5e81",
   "metadata": {},
   "outputs": [],
   "source": [
    "# 옵션추가해주세요. \n",
    "np.set_printoptions(linewidth= np.inf)\n",
    "x_train[n]"
   ]
  },
  {
   "cell_type": "code",
   "execution_count": null,
   "id": "08859139",
   "metadata": {},
   "outputs": [],
   "source": [
    "plt.figure(figsize=(10,10))\n",
    "for i in range(25):\n",
    "    plt.subplot(5,5,i+1)\n",
    "    plt.xticks([])\n",
    "    plt.yticks([])\n",
    "    plt.imshow(x_train[i], cmap=plt.cm.binary)\n",
    "    plt.xlabel(class_names[y_train[i]])\n",
    "plt.tight_layout()\n",
    "plt.show()"
   ]
  },
  {
   "cell_type": "code",
   "execution_count": null,
   "id": "36121921",
   "metadata": {},
   "outputs": [],
   "source": [
    "x_train.shape, y_train.shape, x_val.shape, y_val.shape"
   ]
  },
  {
   "cell_type": "code",
   "execution_count": null,
   "id": "0b1b19f5",
   "metadata": {},
   "outputs": [],
   "source": [
    "x_train = x_train.reshape(60000, -1) # 행 유지하면 열은 알아서 reshape\n",
    "x_val = x_val.reshape(10000, -1)"
   ]
  },
  {
   "cell_type": "code",
   "execution_count": null,
   "id": "2129ca58",
   "metadata": {},
   "outputs": [],
   "source": [
    "x_train.shape, x_val.shape"
   ]
  },
  {
   "cell_type": "code",
   "execution_count": null,
   "id": "f8aa2ea5",
   "metadata": {},
   "outputs": [],
   "source": [
    "# Min-Max 스케일링 255가 최댓값\n",
    "x_train = x_train / 255\n",
    "x_val = x_val / 255"
   ]
  },
  {
   "cell_type": "code",
   "execution_count": null,
   "id": "134b9a8b",
   "metadata": {},
   "outputs": [],
   "source": [
    "nfeatures = x_train.shape[1]\n",
    "\n",
    "clear_session()\n",
    "\n",
    "model = Sequential(Dense(10, input_shape = (nfeatures,), activation = 'softmax'))\n",
    "\n",
    "model.summary()"
   ]
  },
  {
   "cell_type": "code",
   "execution_count": null,
   "id": "b9aa9554",
   "metadata": {},
   "outputs": [],
   "source": [
    "model.compile(optimizer=Adam(learning_rate=0.001), loss= 'sparse_categorical_crossentropy' )\n",
    "\n",
    "history = model.fit(x_train, y_train, epochs = 20, validation_split=0.2).history"
   ]
  },
  {
   "cell_type": "code",
   "execution_count": null,
   "id": "6a8a14bb",
   "metadata": {},
   "outputs": [],
   "source": [
    "dl_history_plot(history)"
   ]
  },
  {
   "cell_type": "code",
   "execution_count": null,
   "id": "27f2a778",
   "metadata": {},
   "outputs": [],
   "source": [
    "# 예측 및 평가\n",
    "pred = model.predict(x_val)\n",
    "pred_1 = pred.argmax(axis=1)\n",
    "\n",
    "print(confusion_matrix(y_val, pred_1))\n",
    "print(classification_report(y_val, pred_1))"
   ]
  },
  {
   "cell_type": "markdown",
   "id": "465bc94c",
   "metadata": {},
   "source": [
    "### CNN - MNIST"
   ]
  },
  {
   "cell_type": "code",
   "execution_count": null,
   "id": "8f6fe260",
   "metadata": {},
   "outputs": [],
   "source": [
    "import pandas as pd\n",
    "import numpy as np\n",
    "import matplotlib.pyplot as plt\n",
    "import seaborn as sns\n",
    "import random as rd\n",
    "import cv2, os  # cv2 : OpenCV # 이미지 처리 라이브러리\n",
    "\n",
    "from sklearn.model_selection import train_test_split\n",
    "from sklearn.metrics import *\n",
    "\n",
    "from keras.models import Sequential\n",
    "from keras.layers import Dense, Flatten, Conv2D, MaxPooling2D # CNN\n",
    "from keras.backend import clear_session\n",
    "from keras.optimizers import Adam\n",
    "from keras.datasets import mnist, fashion_mnist"
   ]
  },
  {
   "cell_type": "code",
   "execution_count": null,
   "id": "3bcaff06",
   "metadata": {},
   "outputs": [],
   "source": [
    "# 학습곡선 함수\n",
    "def dl_history_plot(history):\n",
    "    plt.figure(figsize=(10,6))\n",
    "    plt.plot(history['loss'], label='train_err', marker = ',')\n",
    "    plt.plot(history['val_loss'], label='val_err', marker = ',')\n",
    "\n",
    "    plt.ylabel('Loss')\n",
    "    plt.xlabel('Epoch')\n",
    "    plt.legend()\n",
    "    plt.grid()\n",
    "    plt.show()"
   ]
  },
  {
   "cell_type": "code",
   "execution_count": null,
   "id": "09e4c3ed",
   "metadata": {},
   "outputs": [],
   "source": [
    "# 케라스 데이터셋으로 부터 mnist 불러오기\n",
    "(x_train, y_train), (x_val, y_val) = mnist.load_data()"
   ]
  },
  {
   "cell_type": "code",
   "execution_count": null,
   "id": "0e6379f8",
   "metadata": {},
   "outputs": [],
   "source": [
    "# 3차원 데이터 \n",
    "x_train.shape, x_val.shape"
   ]
  },
  {
   "cell_type": "code",
   "execution_count": null,
   "id": "0f0d3f29",
   "metadata": {},
   "outputs": [],
   "source": [
    "# CNN은 4차원을 요구 # 4차원으로 reshape\n",
    "x_train = x_train.reshape(60000,28,28,1)\n",
    "x_val = x_val.reshape(10000,28,28,1)"
   ]
  },
  {
   "cell_type": "code",
   "execution_count": null,
   "id": "e4fc8a63",
   "metadata": {},
   "outputs": [],
   "source": [
    "# 0-255 값으로 되어 있는 데이터를 0-1사이 값으로 변환\n",
    "# x_train, x_val 그냥 255로 나누면 됨\n",
    "# 스케일링\n",
    "x_train = x_train / 255.\n",
    "x_val = x_val / 255."
   ]
  },
  {
   "cell_type": "markdown",
   "id": "4cb51f6e",
   "metadata": {},
   "source": [
    "#### CNN 모델의 기본 구조\n",
    "- Conv2D : 지역적인 특징 도출\n",
    "- MaxPooling : 요약\n",
    "- Flatten : 1차원으로 펼치기\n",
    "- Dense : Output Layer"
   ]
  },
  {
   "cell_type": "code",
   "execution_count": null,
   "id": "111b4127",
   "metadata": {},
   "outputs": [],
   "source": [
    "clear_session()\n",
    "                                                        #28, 28, 1(컬럼 3, 흑백 1)\n",
    "model = Sequential([Conv2D(16, kernel_size = 3, input_shape=(28, 28, 1),  # 필터 정류를 16개, 16개 합성곱 # kernel_size 3x3 크기\n",
    "                                                                        # 28x28 크기에서 1step씩 \n",
    "                           padding='same', activation='relu'),  # padding: input_shape와 같은 크기로 나오게(same) # strides = 1(기본값,1),\n",
    "                                                                                                                # 가로,세로 1칸씩 이동\n",
    "                    MaxPooling2D(pool_size = 2 ),            # 중요한 것만 요약  # strides = 2(기본값이 pool_size 동일)\n",
    "                    Flatten(),                          # 1차원으로 펼침\n",
    "                    Dense(10, activation='softmax')\n",
    "])\n",
    "\n",
    "model.summary()\n",
    "\n",
    "model.compile(optimizer=Adam(learning_rate=0.001), loss='sparse_categorical_crossentropy')"
   ]
  },
  {
   "cell_type": "code",
   "execution_count": null,
   "id": "50f9e8a6",
   "metadata": {},
   "outputs": [],
   "source": [
    "# 학습\n",
    "history = model.fit(x_train, y_train, epochs = 10, validation_split=0.2).history"
   ]
  },
  {
   "cell_type": "code",
   "execution_count": null,
   "id": "6e5319cc",
   "metadata": {},
   "outputs": [],
   "source": [
    "# 그래프 그리기\n",
    "dl_history_plot(history)"
   ]
  },
  {
   "cell_type": "code",
   "execution_count": null,
   "id": "0c6c39dd",
   "metadata": {},
   "outputs": [],
   "source": [
    "# 예측\n",
    "pred = model.predict(x_val)\n",
    "pred = pred.argmax(axis=1)"
   ]
  },
  {
   "cell_type": "code",
   "execution_count": null,
   "id": "4bc4e5b8",
   "metadata": {},
   "outputs": [],
   "source": [
    "# 평가\n",
    "print(accuracy_score(y_val,pred))\n",
    "print('-'*60)\n",
    "print(confusion_matrix(y_val, pred))\n",
    "print('-'*60)\n",
    "print(classification_report(y_val, pred))"
   ]
  },
  {
   "cell_type": "markdown",
   "id": "c0438e31",
   "metadata": {},
   "source": [
    "#### 진짜 손글씨 예측"
   ]
  },
  {
   "cell_type": "code",
   "execution_count": null,
   "id": "b3822791",
   "metadata": {},
   "outputs": [],
   "source": [
    "idx = (y_val != pred)\n",
    "x_val_wr = x_val[idx]\n",
    "y_val_wr = y_val[idx]\n",
    "pred_wr = pred[idx]\n",
    "\n",
    "x_val_wr = x_val_wr.reshape(-1,28,28)\n",
    "print(x_val_wr.shape)"
   ]
  },
  {
   "cell_type": "code",
   "execution_count": null,
   "id": "03776ed4",
   "metadata": {},
   "outputs": [],
   "source": [
    "# 모델에서 틀리게 예측한 그림 찾기\n",
    "idx = rd.sample(range(x_val_wr.shape[0]),25)\n",
    "x_temp = x_val_wr[idx]\n",
    "y_temp = y_val_wr[idx]\n",
    "p_temp = pred_wr[idx]\n",
    "\n",
    "plt.figure(figsize=(10,10))\n",
    "for i in range(25):\n",
    "    plt.subplot(5,5,i+1)\n",
    "    plt.xticks([])\n",
    "    plt.yticks([])\n",
    "    plt.imshow(x_temp[i], cmap=plt.cm.binary)\n",
    "    plt.xlabel(f'actual : {y_temp[i]},  predict : {p_temp[i]}')\n",
    "plt.tight_layout()\n",
    "plt.show()"
   ]
  },
  {
   "cell_type": "code",
   "execution_count": null,
   "id": "6f29535f",
   "metadata": {},
   "outputs": [],
   "source": [
    "import cv2\n",
    "from google.colab.patches import cv2_imshow"
   ]
  },
  {
   "cell_type": "code",
   "execution_count": null,
   "id": "6f3a7aa4",
   "metadata": {},
   "outputs": [],
   "source": [
    "# 파일 열기\n",
    "img = cv2.imread('33.png', cv2.IMREAD_GRAYSCALE)\n",
    "cv2_imshow(img)\n",
    "print(img.shape)"
   ]
  },
  {
   "cell_type": "code",
   "execution_count": null,
   "id": "4bafac87",
   "metadata": {},
   "outputs": [],
   "source": [
    "# 크기 조절하기 # 28x28x1 로 맞추기\n",
    "img = cv2.resize(255-img, (28, 28))\n",
    "print(img.shape)\n",
    "cv2_imshow(img)"
   ]
  },
  {
   "cell_type": "code",
   "execution_count": null,
   "id": "e0330632",
   "metadata": {},
   "outputs": [],
   "source": [
    "# 예측하기\n",
    "# 입력데이터 형식을 갖추기\n",
    "test_num = img.reshape(1,28,28,1)\n",
    "\n",
    "# 예측하기\n",
    "pred = model.predict(test_num)\n",
    "pred = pred.argmax(axis=1)\n",
    "print(pred)"
   ]
  },
  {
   "cell_type": "markdown",
   "id": "f02c6904",
   "metadata": {},
   "source": [
    "#### 과적합 방지 : 먼저 먼춤기 : Early Stopping"
   ]
  },
  {
   "cell_type": "code",
   "execution_count": null,
   "id": "cdb5907c",
   "metadata": {},
   "outputs": [],
   "source": [
    "from keras.callbacks import EarlyStopping\n",
    "es = EarlyStopping(monitor = 'val_loss', min_delta = 0, patience = 0)"
   ]
  },
  {
   "cell_type": "code",
   "execution_count": null,
   "id": "63a28fd4",
   "metadata": {},
   "outputs": [],
   "source": [
    "# callbacks = [es] # \n",
    "model.fit(x_train, y_train, epochs = 100, validation_split = .2, callbacks = [es])"
   ]
  },
  {
   "cell_type": "markdown",
   "id": "cc08cbe7",
   "metadata": {},
   "source": [
    "# 20. YOLOv8"
   ]
  },
  {
   "cell_type": "code",
   "execution_count": null,
   "id": "7c96da0e",
   "metadata": {},
   "outputs": [],
   "source": [
    "!pip install ultralytics  # 라이브러리 설치"
   ]
  },
  {
   "cell_type": "code",
   "execution_count": null,
   "id": "2dfa2d70",
   "metadata": {},
   "outputs": [],
   "source": [
    "# 라이브러리 불러오기\n",
    "from ultralytics import YOLO # YOLO v8 Quick Manual"
   ]
  },
  {
   "cell_type": "code",
   "execution_count": null,
   "id": "b6c1f989",
   "metadata": {},
   "outputs": [],
   "source": [
    "# 모델 학습 학습에 관련된 설정 가능\n",
    "model.train()"
   ]
  },
  {
   "cell_type": "code",
   "execution_count": null,
   "id": "76bd543b",
   "metadata": {},
   "outputs": [],
   "source": [
    "# 예측값 생성 데이터의 예측 결과 생성\n",
    "model.predict(save=True, save_txt=True)"
   ]
  },
  {
   "cell_type": "markdown",
   "id": "91c5e34d",
   "metadata": {},
   "source": [
    "### YOLO setting"
   ]
  },
  {
   "cell_type": "code",
   "execution_count": null,
   "id": "f869669d",
   "metadata": {},
   "outputs": [],
   "source": [
    "!pip install ultralytics # 라이브러리 설치"
   ]
  },
  {
   "cell_type": "code",
   "execution_count": null,
   "id": "1960f8ec",
   "metadata": {},
   "outputs": [],
   "source": [
    "# YOLOv8 설정\n",
    "from ultralytics import settings "
   ]
  },
  {
   "cell_type": "code",
   "execution_count": null,
   "id": "1ba0a53b",
   "metadata": {},
   "outputs": [],
   "source": [
    "# 확인\n",
    "settings"
   ]
  },
  {
   "cell_type": "code",
   "execution_count": null,
   "id": "d911da82",
   "metadata": {},
   "outputs": [],
   "source": [
    "# 라이브러리 불러오기\n",
    "from ultralytics import YOLO # YOLO v8 Quick Manual"
   ]
  },
  {
   "cell_type": "code",
   "execution_count": null,
   "id": "7546dd62",
   "metadata": {},
   "outputs": [],
   "source": [
    "YOLO"
   ]
  },
  {
   "cell_type": "code",
   "execution_count": null,
   "id": "8ad06444",
   "metadata": {},
   "outputs": [],
   "source": [
    "# 모델 선언\n",
    "# model : 모델 구조 또는 모델 구조 + 가중치 설정. task와 맞는 모델을 선택해야 한다.\n",
    "# task : detect, segment, classify, pose 중 택일\n",
    "model = YOLO(model='yolov8n.pt', task='detect')"
   ]
  },
  {
   "cell_type": "markdown",
   "id": "304e2445",
   "metadata": {},
   "source": [
    "### 모델 학습\n",
    "- Parameters\n",
    "- data : 학습시킬 데이터셋의 경로. default 'coco128.yaml'\n",
    "- epochs : 학습 데이터 전체를 총 몇 번씩 학습시킬 것인지 설정. default 100\n",
    "- patience : 학습 과정에서 성능 개선이 발생하지 않을 때 몇 epoch 더 지켜볼 것인지 설정. default 100\n",
    "- batch : 미니 배치의 사이즈 설정. default 16. -1일 경우 자동 설정.\n",
    "- imgsz : 입력 이미지의 크기. default 640\n",
    "- save : 학습 과정을 저장할 것인지 설정. default True\n",
    "- project : 학습 과정이 저장되는 폴더의 이름.\n",
    "- name : project 내부에 생성되는 폴더의 이름.\n",
    "- exist_ok : 동일한 이름의 폴더가 있을 때 덮어씌울 것인지 설정. default False\n",
    "- pretrained : 사전 학습된 모델을 사용할 것인지 설정. default True\n",
    "- optimizer : 경사 하강법의 세부 방법 설정. default 'auto'\n",
    "- verbose : 학습 과정을 상세하게 출력할 것인지 설정. default False\n",
    "- seed : 재현성을 위한 난수 설정\n",
    "- resume : 마지막 학습부터 다시 학습할 것인지 설정. default False\n",
    "- freeze : 첫 레이어부터 몇 레이어까지 기존 가중치를 유지할 것인지 설정. default None"
   ]
  },
  {
   "cell_type": "code",
   "execution_count": null,
   "id": "18ff43a1",
   "metadata": {},
   "outputs": [],
   "source": [
    "model.train(data='coco128.yaml',\n",
    "            epochs=10,\n",
    "            patience=5,\n",
    "            save=True,\n",
    "            # project='trained',\n",
    "            # name='trained_model',\n",
    "            exist_ok=False,\n",
    "            pretrained=False,\n",
    "            optimizer='auto',\n",
    "            verbose=False,\n",
    "            seed=2024,\n",
    "            resume=False,\n",
    "            freeze=None\n",
    "            )"
   ]
  },
  {
   "cell_type": "markdown",
   "id": "e757557e",
   "metadata": {},
   "source": [
    "### 예측값 생성\n",
    "Parameters\n",
    "- source : 예측 대상 이미지/동영상의 경로\n",
    "- conf : confidence score threshold. default 0.25\n",
    "- iou : NMS에 적용되는 IoU threshold. default 0.7. threshold를 넘기면 같은 object를 가리키는 거라고 판단.\n",
    "- save : 예측된 이미지/동영상을 저장할 것인지 설정. default False\n",
    "- save_txt : Annotation 정보도 함께 저장할 것인지 설정. default False\n",
    "- save_conf : Annotation 정보 맨 끝에 Confidence Score도 추가할 것인지 설정. default False\n",
    "- line_width : 그려지는 박스의 두께 설정. default None"
   ]
  },
  {
   "cell_type": "code",
   "execution_count": null,
   "id": "6a853278",
   "metadata": {},
   "outputs": [],
   "source": [
    "results = model.predict(source='https://images.pexels.com/photos/139303/pexels-photo-139303.jpeg',\n",
    "                        #conf=0.5,\n",
    "                        iou=0.5,\n",
    "                        save=True, save_txt=True, line_width=2)"
   ]
  },
  {
   "cell_type": "markdown",
   "id": "780ed340",
   "metadata": {},
   "source": [
    "# 21. Roboflow"
   ]
  },
  {
   "cell_type": "code",
   "execution_count": null,
   "id": "8de2964d",
   "metadata": {},
   "outputs": [],
   "source": [
    "!pip install roboflow # 라이브러리 설치"
   ]
  },
  {
   "cell_type": "code",
   "execution_count": null,
   "id": "08021d8b",
   "metadata": {},
   "outputs": [],
   "source": [
    "# 데이터셋 불러오기\n",
    "from roboflow import Roboflow "
   ]
  },
  {
   "cell_type": "markdown",
   "id": "22077014",
   "metadata": {},
   "source": [
    "* 데이터셋 설치하기\n",
    "\n",
    "    - [링크](https://universe.roboflow.com/ilyes-talbi-ptwsp/futbol-players)"
   ]
  },
  {
   "cell_type": "code",
   "execution_count": null,
   "id": "44be4a81",
   "metadata": {},
   "outputs": [],
   "source": [
    "# 링크에서 YOLO8로 선택 다운 디텍트 한 후 복사 붙여넣기\n",
    "rf = Roboflow(api_key=\"vZV4ItqyYGeuNdaDKbFa\") #  사용자 및 선택한 데이터 셋에 따라 다름\n",
    "project = rf.workspace(\"ilyes-talbi-ptwsp\").project(\"futbol-players\")\n",
    "version = project.version(7)\n",
    "dataset = version.download(\"yolov8\")"
   ]
  },
  {
   "cell_type": "code",
   "execution_count": null,
   "id": "00d3ee3b",
   "metadata": {},
   "outputs": [],
   "source": [
    "# 모델링 라이브러리 설치\n",
    "!pip install ultralytics"
   ]
  },
  {
   "cell_type": "code",
   "execution_count": null,
   "id": "b82d34d1",
   "metadata": {},
   "outputs": [],
   "source": [
    "# 모델링 라이브러리 불러오기\n",
    "from ultralytics import YOLO, settings"
   ]
  },
  {
   "cell_type": "code",
   "execution_count": null,
   "id": "931e6ae0",
   "metadata": {},
   "outputs": [],
   "source": [
    "settings"
   ]
  },
  {
   "cell_type": "code",
   "execution_count": null,
   "id": "384ed93f",
   "metadata": {},
   "outputs": [],
   "source": [
    "# 데이터 경로 설정\n",
    "settings['datasets_dir'] = '/content/'\n",
    "settings.update()\n",
    "settings"
   ]
  },
  {
   "cell_type": "code",
   "execution_count": null,
   "id": "c5a6853c",
   "metadata": {},
   "outputs": [],
   "source": [
    "import yaml"
   ]
  },
  {
   "cell_type": "code",
   "execution_count": null,
   "id": "5903db28",
   "metadata": {},
   "outputs": [],
   "source": [
    "# YAML 파일 경로 수정\n",
    "with open('/content/futbol-players-7/data.yaml', 'r+') as f:\n",
    "    film = yaml.load(f, Loader=yaml.FullLoader)\n",
    "    # display(film)\n",
    "    film['train'] = './train/images/'\n",
    "    film['val'] = './valid/images/'\n",
    "\n",
    "with open('/content/futbol-players-7/data.yaml','w') as f:\n",
    "    yaml.dump(film, f)"
   ]
  },
  {
   "cell_type": "code",
   "execution_count": null,
   "id": "746eb53c",
   "metadata": {},
   "outputs": [],
   "source": [
    "# 모델 구조 및 사전 학습 가중치 선택하기\n",
    "model_transfer = YOLO(model='yolov8n.pt', task='detect')"
   ]
  },
  {
   "cell_type": "code",
   "execution_count": null,
   "id": "698e7b6e",
   "metadata": {},
   "outputs": [],
   "source": [
    "# 모델 학습\n",
    "model2.train(data='/content/Playing-Cards-4/data.yaml',\n",
    "             epochs=5,\n",
    "             verbose=True,\n",
    "             patience=1,  # 얼리 스탑을 위한 patience 값 # early Stopping # 5번 학습하고 1번동안 개선이 없으면 멈춤\n",
    "             seed=2024,\n",
    "             pretrained=True)"
   ]
  },
  {
   "cell_type": "code",
   "execution_count": null,
   "id": "f30c1a96",
   "metadata": {},
   "outputs": [],
   "source": [
    "# 예측하기\n",
    "# image_path = '/content/futbol-players-7/test/images/1-fps-2_00001_jpeg_jpg.rf.e95412d81fb5fe6dd2b3fb120b41ba1a.jpg'\n",
    "image_path = 'https://www.telegraph.co.uk/content/dam/football/2019/08/12/TELEMMGLPICT000206209364_trans_NvBQzQNjv4BqK3Ytq28vYzV8vgytz3tt20cdhPuOVqLHI0GKTHeusDU.jpeg'"
   ]
  },
  {
   "cell_type": "code",
   "execution_count": null,
   "id": "a943c3b1",
   "metadata": {},
   "outputs": [],
   "source": []
  },
  {
   "cell_type": "code",
   "execution_count": null,
   "id": "9256bd00",
   "metadata": {},
   "outputs": [],
   "source": []
  },
  {
   "cell_type": "code",
   "execution_count": null,
   "id": "6c7a6a84",
   "metadata": {},
   "outputs": [],
   "source": []
  },
  {
   "cell_type": "code",
   "execution_count": null,
   "id": "646bd5cf",
   "metadata": {},
   "outputs": [],
   "source": []
  },
  {
   "cell_type": "code",
   "execution_count": null,
   "id": "d97fe3e3",
   "metadata": {},
   "outputs": [],
   "source": []
  },
  {
   "cell_type": "code",
   "execution_count": null,
   "id": "9856cda4",
   "metadata": {},
   "outputs": [],
   "source": []
  },
  {
   "cell_type": "code",
   "execution_count": null,
   "id": "7d6c35e0",
   "metadata": {},
   "outputs": [],
   "source": []
  },
  {
   "cell_type": "code",
   "execution_count": null,
   "id": "8dd5555e",
   "metadata": {},
   "outputs": [],
   "source": []
  },
  {
   "cell_type": "code",
   "execution_count": null,
   "id": "ac87dfab",
   "metadata": {},
   "outputs": [],
   "source": []
  },
  {
   "cell_type": "code",
   "execution_count": null,
   "id": "3f604e37",
   "metadata": {},
   "outputs": [],
   "source": []
  },
  {
   "cell_type": "code",
   "execution_count": null,
   "id": "af81ab90",
   "metadata": {},
   "outputs": [],
   "source": []
  },
  {
   "cell_type": "code",
   "execution_count": null,
   "id": "64a35001",
   "metadata": {},
   "outputs": [],
   "source": []
  },
  {
   "cell_type": "code",
   "execution_count": null,
   "id": "5f23fec9",
   "metadata": {},
   "outputs": [],
   "source": []
  },
  {
   "cell_type": "code",
   "execution_count": null,
   "id": "6a1c69b9",
   "metadata": {},
   "outputs": [],
   "source": []
  },
  {
   "cell_type": "code",
   "execution_count": null,
   "id": "886b1e72",
   "metadata": {},
   "outputs": [],
   "source": []
  },
  {
   "cell_type": "code",
   "execution_count": null,
   "id": "426b689e",
   "metadata": {},
   "outputs": [],
   "source": []
  },
  {
   "cell_type": "code",
   "execution_count": null,
   "id": "c1c45f60",
   "metadata": {},
   "outputs": [],
   "source": []
  },
  {
   "cell_type": "code",
   "execution_count": null,
   "id": "91413a34",
   "metadata": {},
   "outputs": [],
   "source": []
  },
  {
   "cell_type": "code",
   "execution_count": null,
   "id": "5c36d555",
   "metadata": {},
   "outputs": [],
   "source": []
  },
  {
   "cell_type": "code",
   "execution_count": null,
   "id": "3aeab3b7",
   "metadata": {},
   "outputs": [],
   "source": []
  },
  {
   "cell_type": "code",
   "execution_count": null,
   "id": "2d038303",
   "metadata": {},
   "outputs": [],
   "source": []
  },
  {
   "cell_type": "code",
   "execution_count": null,
   "id": "f036da6b",
   "metadata": {},
   "outputs": [],
   "source": []
  },
  {
   "cell_type": "code",
   "execution_count": null,
   "id": "064d2f60",
   "metadata": {},
   "outputs": [],
   "source": []
  },
  {
   "cell_type": "code",
   "execution_count": null,
   "id": "61997b7d",
   "metadata": {},
   "outputs": [],
   "source": []
  },
  {
   "cell_type": "code",
   "execution_count": null,
   "id": "95f571cb",
   "metadata": {},
   "outputs": [],
   "source": []
  },
  {
   "cell_type": "code",
   "execution_count": null,
   "id": "d7ef19af",
   "metadata": {},
   "outputs": [],
   "source": []
  },
  {
   "cell_type": "code",
   "execution_count": null,
   "id": "444443e8",
   "metadata": {},
   "outputs": [],
   "source": []
  },
  {
   "cell_type": "code",
   "execution_count": null,
   "id": "ebb1ff09",
   "metadata": {},
   "outputs": [],
   "source": []
  },
  {
   "cell_type": "code",
   "execution_count": null,
   "id": "89ff3c5a",
   "metadata": {},
   "outputs": [],
   "source": []
  },
  {
   "cell_type": "code",
   "execution_count": null,
   "id": "11b9a25e",
   "metadata": {},
   "outputs": [],
   "source": []
  }
 ],
 "metadata": {
  "kernelspec": {
   "display_name": "Python 3 (ipykernel)",
   "language": "python",
   "name": "python3"
  },
  "language_info": {
   "codemirror_mode": {
    "name": "ipython",
    "version": 3
   },
   "file_extension": ".py",
   "mimetype": "text/x-python",
   "name": "python",
   "nbconvert_exporter": "python",
   "pygments_lexer": "ipython3",
   "version": "3.11.5"
  }
 },
 "nbformat": 4,
 "nbformat_minor": 5
}
