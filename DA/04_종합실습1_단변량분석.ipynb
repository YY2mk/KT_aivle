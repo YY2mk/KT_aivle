{
 "cells": [
  {
   "cell_type": "markdown",
   "metadata": {
    "id": "qXUBfCONOdID"
   },
   "source": [
    "# 종합실습1 단변량 분석"
   ]
  },
  {
   "cell_type": "markdown",
   "metadata": {
    "id": "790IJBdRWl9r"
   },
   "source": [
    "# 1.비즈니스 시나리오"
   ]
  },
  {
   "cell_type": "markdown",
   "metadata": {
    "id": "7usNzsAVsGbi"
   },
   "source": [
    "![](https://cdn.images.express.co.uk/img/dynamic/24/590x/child-car-seat-986556.jpg?r=1532946857754)"
   ]
  },
  {
   "cell_type": "markdown",
   "metadata": {
    "id": "_7BZYKUlayI2"
   },
   "source": [
    "* 고객사는 카시트를 판매하는 회사 입니다.\n",
    "    * 최근 매출 하락에 대해 각 부서가 파악한 원인 다음과 같습니다.\n",
    "        * 최근에 경쟁사와의 가격 경쟁력이 하락하고 있고, 광고비용이 적절하게 집행되지 않음\n",
    "        * 너무 국내 시장에 집중됨.\n",
    "        * 지역마다의 구매력을 제대로 파악하지 못하고 있음.\n",
    "    * 그러나 이러한 분석은 데이터에 근거하고 있는지 의문이 듭니다.\n",
    "\n",
    "* 이 문제를 해결하고자 프로젝트 팀이 빌딩되었습니다.\n",
    "    * 여러분은 이 프로젝트팀에 DX 컨설턴트로써 데이터분석을 맡았습니다.\n",
    "    * 드디어 AIVLE 과정에서 갈고 닦은 실력을 발휘할 기회가 주어졌습니다.\n",
    "    * 자, 이제 단변량 분석을 통해 비즈니스 인사이트를 도출해 봅시다!\n",
    "----\n",
    "* 반복되는 코드는 함수로 만듭시다!\n",
    "    * 함수를 만드는 순서\n",
    "        * 먼저 절차대로 코드를 작성해서 실행한다.\n",
    "        * 실행된 코드(오류가 없는 코드)를 가져다 함수로 구성한다.\n",
    "            * 입력과 출력 결정"
   ]
  },
  {
   "cell_type": "markdown",
   "metadata": {
    "id": "c1uOWzZl_YZH"
   },
   "source": [
    "# 2.환경준비"
   ]
  },
  {
   "cell_type": "markdown",
   "metadata": {
    "id": "LS2rtJiJlaF0"
   },
   "source": [
    "## (1) 라이브러리 불러오기"
   ]
  },
  {
   "cell_type": "code",
   "execution_count": 1,
   "metadata": {
    "id": "ba319GIZlcFB",
    "tags": []
   },
   "outputs": [],
   "source": [
    "import numpy as np\n",
    "import pandas as pd\n",
    "\n",
    "import matplotlib.pyplot as plt\n",
    "import seaborn as sns"
   ]
  },
  {
   "cell_type": "markdown",
   "metadata": {
    "id": "TCceTRSHqibR"
   },
   "source": [
    "## (2) 데이터 로딩 : 카시트 판매량 데이터"
   ]
  },
  {
   "cell_type": "markdown",
   "metadata": {
    "id": "zYKHwYHatC4k"
   },
   "source": [
    "|\t변수명\t|\t설명\t|\t구분\t|\n",
    "|----|----|----|\n",
    "|\tSales \t|\t 각 지역 판매량(단위 : 1000개)\t|\tTarget\t|\n",
    "|\tCompPrice \t|\t 경쟁사 가격(단위 : 달러)\t|\tfeature\t|\n",
    "|\tIncome \t|\t 지역 평균 소득(단위 : 1000달러)\t|\tfeature\t|\n",
    "|\tAdvertising \t|\t 각 지역, 회사의 광고 예산(단위 : 1000달러)\t|\tfeature\t|\n",
    "|\tPopulation \t|\t 지역 인구수(단위 : 1000명)\t|\tfeature\t|\n",
    "|\tPrice \t|\t 자사 지역별 판매가격\t|\tfeature\t|\n",
    "|\tShelveLoc \t|\t 진열상태\t|\tfeature\t|\n",
    "|\tAge \t|\t 지역 인구의 평균 연령\t|\tfeature\t|\n",
    "|\tUrban \t|\t 도심 지역 여부(Yes,No)\t|\tfeature\t|\n",
    "|\tUS \t|\t 매장이 미국에 있는지 여부(Yes,No)\t|\tfeature\t|\n"
   ]
  },
  {
   "cell_type": "code",
   "execution_count": 2,
   "metadata": {
    "id": "08FGuKtjpGOj",
    "tags": []
   },
   "outputs": [
    {
     "data": {
      "text/html": [
       "<div>\n",
       "<style scoped>\n",
       "    .dataframe tbody tr th:only-of-type {\n",
       "        vertical-align: middle;\n",
       "    }\n",
       "\n",
       "    .dataframe tbody tr th {\n",
       "        vertical-align: top;\n",
       "    }\n",
       "\n",
       "    .dataframe thead th {\n",
       "        text-align: right;\n",
       "    }\n",
       "</style>\n",
       "<table border=\"1\" class=\"dataframe\">\n",
       "  <thead>\n",
       "    <tr style=\"text-align: right;\">\n",
       "      <th></th>\n",
       "      <th>Sales</th>\n",
       "      <th>CompPrice</th>\n",
       "      <th>Income</th>\n",
       "      <th>Advertising</th>\n",
       "      <th>Population</th>\n",
       "      <th>Price</th>\n",
       "      <th>ShelveLoc</th>\n",
       "      <th>Age</th>\n",
       "      <th>Urban</th>\n",
       "      <th>US</th>\n",
       "    </tr>\n",
       "  </thead>\n",
       "  <tbody>\n",
       "    <tr>\n",
       "      <th>0</th>\n",
       "      <td>9.50</td>\n",
       "      <td>138</td>\n",
       "      <td>73</td>\n",
       "      <td>11</td>\n",
       "      <td>276</td>\n",
       "      <td>120</td>\n",
       "      <td>Bad</td>\n",
       "      <td>42</td>\n",
       "      <td>Yes</td>\n",
       "      <td>Yes</td>\n",
       "    </tr>\n",
       "    <tr>\n",
       "      <th>1</th>\n",
       "      <td>11.22</td>\n",
       "      <td>111</td>\n",
       "      <td>48</td>\n",
       "      <td>16</td>\n",
       "      <td>260</td>\n",
       "      <td>83</td>\n",
       "      <td>Good</td>\n",
       "      <td>65</td>\n",
       "      <td>Yes</td>\n",
       "      <td>Yes</td>\n",
       "    </tr>\n",
       "    <tr>\n",
       "      <th>2</th>\n",
       "      <td>10.06</td>\n",
       "      <td>113</td>\n",
       "      <td>35</td>\n",
       "      <td>10</td>\n",
       "      <td>269</td>\n",
       "      <td>80</td>\n",
       "      <td>Medium</td>\n",
       "      <td>59</td>\n",
       "      <td>Yes</td>\n",
       "      <td>Yes</td>\n",
       "    </tr>\n",
       "    <tr>\n",
       "      <th>3</th>\n",
       "      <td>7.40</td>\n",
       "      <td>117</td>\n",
       "      <td>100</td>\n",
       "      <td>4</td>\n",
       "      <td>466</td>\n",
       "      <td>97</td>\n",
       "      <td>Medium</td>\n",
       "      <td>55</td>\n",
       "      <td>Yes</td>\n",
       "      <td>Yes</td>\n",
       "    </tr>\n",
       "    <tr>\n",
       "      <th>4</th>\n",
       "      <td>4.15</td>\n",
       "      <td>141</td>\n",
       "      <td>64</td>\n",
       "      <td>3</td>\n",
       "      <td>340</td>\n",
       "      <td>128</td>\n",
       "      <td>Bad</td>\n",
       "      <td>38</td>\n",
       "      <td>Yes</td>\n",
       "      <td>No</td>\n",
       "    </tr>\n",
       "  </tbody>\n",
       "</table>\n",
       "</div>"
      ],
      "text/plain": [
       "   Sales  CompPrice  Income  Advertising  Population  Price ShelveLoc  Age  \\\n",
       "0   9.50        138      73           11         276    120       Bad   42   \n",
       "1  11.22        111      48           16         260     83      Good   65   \n",
       "2  10.06        113      35           10         269     80    Medium   59   \n",
       "3   7.40        117     100            4         466     97    Medium   55   \n",
       "4   4.15        141      64            3         340    128       Bad   38   \n",
       "\n",
       "  Urban   US  \n",
       "0   Yes  Yes  \n",
       "1   Yes  Yes  \n",
       "2   Yes  Yes  \n",
       "3   Yes  Yes  \n",
       "4   Yes   No  "
      ]
     },
     "execution_count": 2,
     "metadata": {},
     "output_type": "execute_result"
    }
   ],
   "source": [
    "path = 'https://raw.githubusercontent.com/DA4BAM/dataset/master/Carseats2.csv'\n",
    "data = pd.read_csv(path)\n",
    "data.head()"
   ]
  },
  {
   "cell_type": "markdown",
   "metadata": {
    "id": "ZJnWzY5-Ww3h"
   },
   "source": [
    "# 3.단변량분석 : 숫자형 변수"
   ]
  },
  {
   "cell_type": "code",
   "execution_count": 20,
   "metadata": {
    "id": "WomR39SFI-Ys",
    "tags": []
   },
   "outputs": [],
   "source": [
    "def eda_1_n(data, var, bins = 30) :\n",
    "    display(data[[var]].describe().T)\n",
    "    print()\n",
    "\n",
    "    plt.figure(figsize = (6,6))\n",
    "    plt.subplot(2,1,1)\n",
    "    sns.histplot(x=data[var], bins = 20, kde = True)\n",
    "\n",
    "    plt.subplot(2,1,2)\n",
    "    sns.boxplot(x=data[var])\n",
    "\n",
    "    plt.tight_layout()\n",
    "    plt.show()"
   ]
  },
  {
   "cell_type": "markdown",
   "metadata": {
    "id": "2KcdJrQNfJCZ"
   },
   "source": [
    "## (1) Sales (Target)"
   ]
  },
  {
   "cell_type": "markdown",
   "metadata": {
    "id": "BAAa-Q77DY2P"
   },
   "source": [
    "1) 변수의 비즈니스 의미"
   ]
  },
  {
   "cell_type": "markdown",
   "metadata": {
    "id": "07TIjIVhTHU0"
   },
   "source": [
    "* 각 지역 판매량(단위 : 1000개)\n",
    "* Target"
   ]
  },
  {
   "cell_type": "markdown",
   "metadata": {
    "id": "sv6XuLE9DY2Y"
   },
   "source": [
    "2) 기초통계량 및 분포 확인"
   ]
  },
  {
   "cell_type": "code",
   "execution_count": 21,
   "metadata": {
    "id": "y8-UVHVpDY2Y",
    "tags": []
   },
   "outputs": [
    {
     "data": {
      "text/html": [
       "<div>\n",
       "<style scoped>\n",
       "    .dataframe tbody tr th:only-of-type {\n",
       "        vertical-align: middle;\n",
       "    }\n",
       "\n",
       "    .dataframe tbody tr th {\n",
       "        vertical-align: top;\n",
       "    }\n",
       "\n",
       "    .dataframe thead th {\n",
       "        text-align: right;\n",
       "    }\n",
       "</style>\n",
       "<table border=\"1\" class=\"dataframe\">\n",
       "  <thead>\n",
       "    <tr style=\"text-align: right;\">\n",
       "      <th></th>\n",
       "      <th>count</th>\n",
       "      <th>mean</th>\n",
       "      <th>std</th>\n",
       "      <th>min</th>\n",
       "      <th>25%</th>\n",
       "      <th>50%</th>\n",
       "      <th>75%</th>\n",
       "      <th>max</th>\n",
       "    </tr>\n",
       "  </thead>\n",
       "  <tbody>\n",
       "    <tr>\n",
       "      <th>Sales</th>\n",
       "      <td>400.0</td>\n",
       "      <td>7.496325</td>\n",
       "      <td>2.824115</td>\n",
       "      <td>0.0</td>\n",
       "      <td>5.39</td>\n",
       "      <td>7.49</td>\n",
       "      <td>9.32</td>\n",
       "      <td>16.27</td>\n",
       "    </tr>\n",
       "  </tbody>\n",
       "</table>\n",
       "</div>"
      ],
      "text/plain": [
       "       count      mean       std  min   25%   50%   75%    max\n",
       "Sales  400.0  7.496325  2.824115  0.0  5.39  7.49  9.32  16.27"
      ]
     },
     "metadata": {},
     "output_type": "display_data"
    },
    {
     "name": "stdout",
     "output_type": "stream",
     "text": [
      "\n"
     ]
    },
    {
     "data": {
      "image/png": "[encoded data removed]",
      "text/plain": [
       "<Figure size 600x600 with 2 Axes>"
      ]
     },
     "metadata": {},
     "output_type": "display_data"
    }
   ],
   "source": [
    "# 각 지역 판매량\n",
    "eda_1_n(data, 'Sales')"
   ]
  },
  {
   "cell_type": "markdown",
   "metadata": {
    "id": "M0fftShADY2Z"
   },
   "source": [
    "3) 기초통계량과 분포를 통해서 파악한 내용을 적어 봅시다.\n",
    "\n",
    "보이는 그대로를 넘어, 비즈니스 관점에서 고민하며 적어 봅시다."
   ]
  },
  {
   "cell_type": "markdown",
   "metadata": {
    "id": "-SXcWMe6aLpA"
   },
   "source": [
    "* 대부분의 판매량이 5천개 ~ 만개 사이\n",
    "* 어느 지역에서 판패량이 팔렸는지\n",
    "* 판매량이 왜 0인 지역이 있을까"
   ]
  },
  {
   "cell_type": "markdown",
   "metadata": {
    "id": "sVBqfu34DY2Z"
   },
   "source": [
    "4) 추가 분석해 볼 사항이 있나요?"
   ]
  },
  {
   "cell_type": "markdown",
   "metadata": {
    "id": "xlIX_HVJbiJF"
   },
   "source": [
    "* 판매량 구간을 0 ~ 4천, 4천 ~ 1만, 1만 이상 으로 구분해서 분석해 볼 필요 있음.\n",
    "* 소득 수준을 확인이 필요\n",
    "* 지역의 인구수 확인 필요"
   ]
  },
  {
   "cell_type": "markdown",
   "metadata": {
    "id": "9WGX3Pm8g8HV"
   },
   "source": [
    "## (2) CompPrice"
   ]
  },
  {
   "cell_type": "markdown",
   "metadata": {
    "id": "Zt1jRqFbJUsx"
   },
   "source": [
    "1) 변수의 비즈니스 의미"
   ]
  },
  {
   "cell_type": "markdown",
   "metadata": {
    "id": "xfnj8ABEJUtE"
   },
   "source": [
    "* 경쟁사의 가격 (달러)\n",
    "* feature"
   ]
  },
  {
   "cell_type": "markdown",
   "metadata": {
    "id": "gAGuety3AIb6"
   },
   "source": [
    "2) 기초통계량 및 분포 확인"
   ]
  },
  {
   "cell_type": "code",
   "execution_count": 22,
   "metadata": {
    "id": "P-1ZLXwdAIcE",
    "tags": []
   },
   "outputs": [
    {
     "data": {
      "text/html": [
       "<div>\n",
       "<style scoped>\n",
       "    .dataframe tbody tr th:only-of-type {\n",
       "        vertical-align: middle;\n",
       "    }\n",
       "\n",
       "    .dataframe tbody tr th {\n",
       "        vertical-align: top;\n",
       "    }\n",
       "\n",
       "    .dataframe thead th {\n",
       "        text-align: right;\n",
       "    }\n",
       "</style>\n",
       "<table border=\"1\" class=\"dataframe\">\n",
       "  <thead>\n",
       "    <tr style=\"text-align: right;\">\n",
       "      <th></th>\n",
       "      <th>count</th>\n",
       "      <th>mean</th>\n",
       "      <th>std</th>\n",
       "      <th>min</th>\n",
       "      <th>25%</th>\n",
       "      <th>50%</th>\n",
       "      <th>75%</th>\n",
       "      <th>max</th>\n",
       "    </tr>\n",
       "  </thead>\n",
       "  <tbody>\n",
       "    <tr>\n",
       "      <th>CompPrice</th>\n",
       "      <td>400.0</td>\n",
       "      <td>124.975</td>\n",
       "      <td>15.334512</td>\n",
       "      <td>77.0</td>\n",
       "      <td>115.0</td>\n",
       "      <td>125.0</td>\n",
       "      <td>135.0</td>\n",
       "      <td>175.0</td>\n",
       "    </tr>\n",
       "  </tbody>\n",
       "</table>\n",
       "</div>"
      ],
      "text/plain": [
       "           count     mean        std   min    25%    50%    75%    max\n",
       "CompPrice  400.0  124.975  15.334512  77.0  115.0  125.0  135.0  175.0"
      ]
     },
     "metadata": {},
     "output_type": "display_data"
    },
    {
     "name": "stdout",
     "output_type": "stream",
     "text": [
      "\n"
     ]
    },
    {
     "data": {
      "image/png": "[encoded data removed]",
      "text/plain": [
       "<Figure size 600x600 with 2 Axes>"
      ]
     },
     "metadata": {},
     "output_type": "display_data"
    }
   ],
   "source": [
    "# 경쟁사 가격\n",
    "eda_1_n(data, 'CompPrice')"
   ]
  },
  {
   "cell_type": "markdown",
   "metadata": {
    "id": "9085QIT5AIcE"
   },
   "source": [
    "3) 기초통계량과 분포를 통해서 파악한 내용을 적어 봅시다.\n",
    "\n",
    "보이는 그대로를 넘어, 비즈니스 관점에서 고민하며 적어 봅시다."
   ]
  },
  {
   "cell_type": "markdown",
   "metadata": {
    "id": "4NxdFy9XAIcE"
   },
   "source": [
    "* 115 달러 ~ 135달러가 대부분\n",
    "* 115 달러 ~ 135달러 사이에 가격대가 형성된 이유"
   ]
  },
  {
   "cell_type": "markdown",
   "metadata": {
    "id": "2Nc-3j2MAIcE"
   },
   "source": [
    "4) 추가 분석해 볼 사항이 있나요?"
   ]
  },
  {
   "cell_type": "markdown",
   "metadata": {
    "id": "Ae8GknAFJUtG"
   },
   "source": [
    "* 지역의 소득 확인 필요\n",
    "* 도심 여부"
   ]
  },
  {
   "cell_type": "markdown",
   "metadata": {
    "id": "CPQ4kqneg8SS"
   },
   "source": [
    "## (3) Income"
   ]
  },
  {
   "cell_type": "markdown",
   "metadata": {
    "id": "4V0WbosvJXBv"
   },
   "source": [
    "1) 변수의 비즈니스 의미"
   ]
  },
  {
   "cell_type": "markdown",
   "metadata": {
    "id": "qzKajMDsJXBw"
   },
   "source": [
    "* 지역평균 소득 (단위 : 1000달러)\n",
    "* feature"
   ]
  },
  {
   "cell_type": "markdown",
   "metadata": {
    "id": "L0Ojeh4NAJcp"
   },
   "source": [
    "2) 기초통계량 및 분포 확인"
   ]
  },
  {
   "cell_type": "code",
   "execution_count": 9,
   "metadata": {
    "id": "SeXAJXY6AJcz",
    "tags": []
   },
   "outputs": [
    {
     "name": "stdout",
     "output_type": "stream",
     "text": [
      "        count     mean        std   min    25%   50%   75%    max\n",
      "Income  400.0  68.6575  27.986037  21.0  42.75  69.0  91.0  120.0\n",
      "\n"
     ]
    },
    {
     "data": {
      "image/png": "[encoded data removed]",
      "text/plain": [
       "<Figure size 600x800 with 2 Axes>"
      ]
     },
     "metadata": {},
     "output_type": "display_data"
    }
   ],
   "source": [
    "# 지역 평균 소득\n",
    "eda_1_n(data, 'Income')"
   ]
  },
  {
   "cell_type": "markdown",
   "metadata": {
    "id": "ere9jmpXAJcz"
   },
   "source": [
    "3) 기초통계량과 분포를 통해서 파악한 내용을 적어 봅시다.\n",
    "\n",
    "보이는 그대로를 넘어, 비즈니스 관점에서 고민하며 적어 봅시다."
   ]
  },
  {
   "cell_type": "markdown",
   "metadata": {
    "id": "l03auuEVAJcz",
    "tags": []
   },
   "source": [
    "* 대부분 4만 ~ 9만 달러\n",
    "* 도심에 사는 사람들이 더 많은 소득이 있는가"
   ]
  },
  {
   "cell_type": "markdown",
   "metadata": {
    "id": "tW3KytdYAJcz"
   },
   "source": [
    "4) 추가 분석해 볼 사항이 있나요?"
   ]
  },
  {
   "cell_type": "markdown",
   "metadata": {
    "id": "CNADf2zRJXBx",
    "tags": []
   },
   "source": [
    "* 상/중/하 계층에 따라 판매량이 달라질까?"
   ]
  },
  {
   "cell_type": "markdown",
   "metadata": {
    "id": "oGaBjzSYg8ch"
   },
   "source": [
    "## (4) Advertising"
   ]
  },
  {
   "cell_type": "markdown",
   "metadata": {
    "id": "jZ25dc3XJY6X"
   },
   "source": [
    "1) 변수의 비즈니스 의미"
   ]
  },
  {
   "cell_type": "markdown",
   "metadata": {
    "id": "HF9QFXFvJY6e"
   },
   "source": [
    "* 각 지역, 회사의 광고 예산(단위 : 1000달러)\n",
    "* feature"
   ]
  },
  {
   "cell_type": "markdown",
   "metadata": {
    "id": "JFUAg6CeALW8"
   },
   "source": [
    "2) 기초통계량 및 분포 확인"
   ]
  },
  {
   "cell_type": "code",
   "execution_count": 16,
   "metadata": {
    "id": "4jtpGunRALXF",
    "tags": []
   },
   "outputs": [
    {
     "name": "stdout",
     "output_type": "stream",
     "text": [
      "             count   mean       std  min  25%  50%   75%   max\n",
      "Advertising  400.0  6.635  6.650364  0.0  0.0  5.0  12.0  29.0\n",
      "\n"
     ]
    },
    {
     "data": {
      "image/png": "[encoded data removed]",
      "text/plain": [
       "<Figure size 600x800 with 2 Axes>"
      ]
     },
     "metadata": {},
     "output_type": "display_data"
    }
   ],
   "source": [
    "# 각 지역, 회사의 광고 예산\n",
    "eda_1_n(data, 'Advertising')"
   ]
  },
  {
   "cell_type": "markdown",
   "metadata": {
    "id": "2kHmaJpKALXF"
   },
   "source": [
    "3) 기초통계량과 분포를 통해서 파악한 내용을 적어 봅시다.\n",
    "\n",
    "보이는 그대로를 넘어, 비즈니스 관점에서 고민하며 적어 봅시다."
   ]
  },
  {
   "cell_type": "markdown",
   "metadata": {
    "id": "6frvCfdDALXF"
   },
   "source": [
    "* 0 ~ 13에 대부분\n",
    "* 광고애 따라 판매량이 달라질까?\n",
    "* 어느 수준에 광고료를 써야 적당할까?"
   ]
  },
  {
   "cell_type": "markdown",
   "metadata": {
    "id": "MGfIXAtiALXF"
   },
   "source": [
    "4) 추가 분석해 볼 사항이 있나요?"
   ]
  },
  {
   "cell_type": "markdown",
   "metadata": {
    "id": "DfILnLOsJY6f"
   },
   "source": [
    "* 광고료에 따른 판매량이 증가하는가?"
   ]
  },
  {
   "cell_type": "code",
   "execution_count": 35,
   "metadata": {
    "tags": []
   },
   "outputs": [
    {
     "data": {
      "text/html": [
       "<div>\n",
       "<style scoped>\n",
       "    .dataframe tbody tr th:only-of-type {\n",
       "        vertical-align: middle;\n",
       "    }\n",
       "\n",
       "    .dataframe tbody tr th {\n",
       "        vertical-align: top;\n",
       "    }\n",
       "\n",
       "    .dataframe thead th {\n",
       "        text-align: right;\n",
       "    }\n",
       "</style>\n",
       "<table border=\"1\" class=\"dataframe\">\n",
       "  <thead>\n",
       "    <tr style=\"text-align: right;\">\n",
       "      <th></th>\n",
       "      <th>count</th>\n",
       "      <th>mean</th>\n",
       "      <th>std</th>\n",
       "      <th>min</th>\n",
       "      <th>25%</th>\n",
       "      <th>50%</th>\n",
       "      <th>75%</th>\n",
       "      <th>max</th>\n",
       "    </tr>\n",
       "  </thead>\n",
       "  <tbody>\n",
       "    <tr>\n",
       "      <th>Advertising</th>\n",
       "      <td>256.0</td>\n",
       "      <td>10.367188</td>\n",
       "      <td>5.509879</td>\n",
       "      <td>1.0</td>\n",
       "      <td>6.0</td>\n",
       "      <td>10.0</td>\n",
       "      <td>14.0</td>\n",
       "      <td>29.0</td>\n",
       "    </tr>\n",
       "  </tbody>\n",
       "</table>\n",
       "</div>"
      ],
      "text/plain": [
       "             count       mean       std  min  25%   50%   75%   max\n",
       "Advertising  256.0  10.367188  5.509879  1.0  6.0  10.0  14.0  29.0"
      ]
     },
     "metadata": {},
     "output_type": "display_data"
    },
    {
     "name": "stdout",
     "output_type": "stream",
     "text": [
      "\n"
     ]
    },
    {
     "data": {
      "image/png": "[encoded data removed]",
      "text/plain": [
       "<Figure size 600x600 with 2 Axes>"
      ]
     },
     "metadata": {},
     "output_type": "display_data"
    }
   ],
   "source": [
    "temp = data.loc[data['Advertising'] > 0] \n",
    "eda_1_n(temp, 'Advertising')"
   ]
  },
  {
   "cell_type": "markdown",
   "metadata": {
    "id": "Pf9iFSXpg8mZ"
   },
   "source": [
    "## (5) Population"
   ]
  },
  {
   "cell_type": "markdown",
   "metadata": {
    "id": "sBZhkoaPJbY9"
   },
   "source": [
    "1) 변수의 비즈니스 의미"
   ]
  },
  {
   "cell_type": "markdown",
   "metadata": {
    "id": "NgX9G2LrJbY-"
   },
   "source": [
    "* 지역 인구수(단위 : 1000명)\n",
    "* feature"
   ]
  },
  {
   "cell_type": "markdown",
   "metadata": {
    "id": "zi3EsWz_ANGy"
   },
   "source": [
    "2) 기초통계량 및 분포 확인"
   ]
  },
  {
   "cell_type": "code",
   "execution_count": 31,
   "metadata": {
    "id": "HIb5usJnANG6",
    "tags": []
   },
   "outputs": [
    {
     "data": {
      "text/html": [
       "<div>\n",
       "<style scoped>\n",
       "    .dataframe tbody tr th:only-of-type {\n",
       "        vertical-align: middle;\n",
       "    }\n",
       "\n",
       "    .dataframe tbody tr th {\n",
       "        vertical-align: top;\n",
       "    }\n",
       "\n",
       "    .dataframe thead th {\n",
       "        text-align: right;\n",
       "    }\n",
       "</style>\n",
       "<table border=\"1\" class=\"dataframe\">\n",
       "  <thead>\n",
       "    <tr style=\"text-align: right;\">\n",
       "      <th></th>\n",
       "      <th>count</th>\n",
       "      <th>mean</th>\n",
       "      <th>std</th>\n",
       "      <th>min</th>\n",
       "      <th>25%</th>\n",
       "      <th>50%</th>\n",
       "      <th>75%</th>\n",
       "      <th>max</th>\n",
       "    </tr>\n",
       "  </thead>\n",
       "  <tbody>\n",
       "    <tr>\n",
       "      <th>Population</th>\n",
       "      <td>400.0</td>\n",
       "      <td>264.84</td>\n",
       "      <td>147.376436</td>\n",
       "      <td>10.0</td>\n",
       "      <td>139.0</td>\n",
       "      <td>272.0</td>\n",
       "      <td>398.5</td>\n",
       "      <td>509.0</td>\n",
       "    </tr>\n",
       "  </tbody>\n",
       "</table>\n",
       "</div>"
      ],
      "text/plain": [
       "            count    mean         std   min    25%    50%    75%    max\n",
       "Population  400.0  264.84  147.376436  10.0  139.0  272.0  398.5  509.0"
      ]
     },
     "metadata": {},
     "output_type": "display_data"
    },
    {
     "name": "stdout",
     "output_type": "stream",
     "text": [
      "\n"
     ]
    },
    {
     "data": {
      "image/png": "[encoded data removed]",
      "text/plain": [
       "<Figure size 600x600 with 2 Axes>"
      ]
     },
     "metadata": {},
     "output_type": "display_data"
    }
   ],
   "source": [
    "# 지역 인구수\n",
    "eda_1_n(data, 'Population')"
   ]
  },
  {
   "cell_type": "markdown",
   "metadata": {
    "id": "aUDa2pDrANG6"
   },
   "source": [
    "3) 기초통계량과 분포를 통해서 파악한 내용을 적어 봅시다.\n",
    "\n",
    "보이는 그대로를 넘어, 비즈니스 관점에서 고민하며 적어 봅시다."
   ]
  },
  {
   "cell_type": "markdown",
   "metadata": {
    "id": "0EkqjkiFANG6"
   },
   "source": [
    "* 14만 ~ 40만명이 대부분분\n",
    "* 인구가 고르게 분배 되어 있음\n",
    "* 인구 수에 따라 판매량이 어떠한가"
   ]
  },
  {
   "cell_type": "markdown",
   "metadata": {
    "id": "bV38WCr8ANG6"
   },
   "source": [
    "4) 추가 분석해 볼 사항이 있나요?"
   ]
  },
  {
   "cell_type": "markdown",
   "metadata": {
    "id": "qbsC0dzxJbZA"
   },
   "source": [
    "* 지역별 인구에 따른 판매량 "
   ]
  },
  {
   "cell_type": "markdown",
   "metadata": {
    "id": "-MNN7Zplg8wC"
   },
   "source": [
    "## (6) Price"
   ]
  },
  {
   "cell_type": "markdown",
   "metadata": {
    "id": "Bii40Y-1Jdo1"
   },
   "source": [
    "1) 변수의 비즈니스 의미"
   ]
  },
  {
   "cell_type": "markdown",
   "metadata": {
    "id": "dTpQxZ2nJdo2"
   },
   "source": [
    "* 자사 지역별 판매가격\n",
    "* feature"
   ]
  },
  {
   "cell_type": "markdown",
   "metadata": {
    "id": "Z0ghQB1IAOHa"
   },
   "source": [
    "2) 기초통계량 및 분포 확인"
   ]
  },
  {
   "cell_type": "code",
   "execution_count": 13,
   "metadata": {
    "id": "fjA7C6QbAOHg",
    "tags": []
   },
   "outputs": [
    {
     "name": "stdout",
     "output_type": "stream",
     "text": [
      "       count     mean        std   min    25%    50%    75%    max\n",
      "Price  400.0  115.795  23.676664  24.0  100.0  117.0  131.0  191.0\n",
      "\n"
     ]
    },
    {
     "data": {
      "image/png": "[encoded data removed]",
      "text/plain": [
       "<Figure size 600x800 with 2 Axes>"
      ]
     },
     "metadata": {},
     "output_type": "display_data"
    }
   ],
   "source": [
    "# 자사 지역별 판매가격\n",
    "eda_1_n(data, 'Price')"
   ]
  },
  {
   "cell_type": "markdown",
   "metadata": {
    "id": "8k1ViZhbAOHh"
   },
   "source": [
    "3) 기초통계량과 분포를 통해서 파악한 내용을 적어 봅시다.\n",
    "\n",
    "보이는 그대로를 넘어, 비즈니스 관점에서 고민하며 적어 봅시다."
   ]
  },
  {
   "cell_type": "markdown",
   "metadata": {
    "id": "lZEkabmeAOHh",
    "tags": []
   },
   "source": [
    "* 90 ~ 130이 대부분\n",
    "* 어느 지역에 가장 많이 팔려을까\n",
    "* 어느 지역에 가장 비싸게 팔거나 싸게 팔까"
   ]
  },
  {
   "cell_type": "markdown",
   "metadata": {
    "id": "T9zp9AijAOHh"
   },
   "source": [
    "4) 추가 분석해 볼 사항이 있나요?"
   ]
  },
  {
   "cell_type": "markdown",
   "metadata": {
    "id": "uD9JPEqBJdo3"
   },
   "source": [
    "* 자사 가격 타사가격 비교"
   ]
  },
  {
   "cell_type": "code",
   "execution_count": 29,
   "metadata": {
    "tags": []
   },
   "outputs": [],
   "source": [
    "# 타사는 가격 변동 폭이 작고 가격이 높다. # 자신들만의 것이 있을지도..?\n",
    "# 자사는 가격이 낮고 가격 변동 폭이 있어 홍보에 따라 판매량이 좋을지도..?"
   ]
  },
  {
   "cell_type": "code",
   "execution_count": 27,
   "metadata": {
    "tags": []
   },
   "outputs": [
    {
     "data": {
      "image/png": "[encoded data removed]",
      "text/plain": [
       "<Figure size 640x480 with 1 Axes>"
      ]
     },
     "metadata": {},
     "output_type": "display_data"
    }
   ],
   "source": [
    "sns.kdeplot(x = 'CompPrice', data = data) \n",
    "sns.kdeplot(x = 'Price', data = data) \n",
    "plt.grid()\n",
    "plt.show()"
   ]
  },
  {
   "cell_type": "markdown",
   "metadata": {
    "id": "9sLeiF5Kg9EO"
   },
   "source": [
    "## (7) Age"
   ]
  },
  {
   "cell_type": "markdown",
   "metadata": {
    "id": "xVjmvKU2JgCd"
   },
   "source": [
    "1) 변수의 비즈니스 의미"
   ]
  },
  {
   "cell_type": "markdown",
   "metadata": {
    "id": "XJ8-Dgp9JgCe"
   },
   "source": [
    "* 지역 인구의 평균 연령\n",
    "* feature"
   ]
  },
  {
   "cell_type": "markdown",
   "metadata": {
    "id": "tLvuidN5APeO"
   },
   "source": [
    "2) 기초통계량 및 분포 확인"
   ]
  },
  {
   "cell_type": "code",
   "execution_count": 32,
   "metadata": {
    "id": "-8atTjQxAPeO",
    "tags": []
   },
   "outputs": [
    {
     "data": {
      "text/html": [
       "<div>\n",
       "<style scoped>\n",
       "    .dataframe tbody tr th:only-of-type {\n",
       "        vertical-align: middle;\n",
       "    }\n",
       "\n",
       "    .dataframe tbody tr th {\n",
       "        vertical-align: top;\n",
       "    }\n",
       "\n",
       "    .dataframe thead th {\n",
       "        text-align: right;\n",
       "    }\n",
       "</style>\n",
       "<table border=\"1\" class=\"dataframe\">\n",
       "  <thead>\n",
       "    <tr style=\"text-align: right;\">\n",
       "      <th></th>\n",
       "      <th>count</th>\n",
       "      <th>mean</th>\n",
       "      <th>std</th>\n",
       "      <th>min</th>\n",
       "      <th>25%</th>\n",
       "      <th>50%</th>\n",
       "      <th>75%</th>\n",
       "      <th>max</th>\n",
       "    </tr>\n",
       "  </thead>\n",
       "  <tbody>\n",
       "    <tr>\n",
       "      <th>Age</th>\n",
       "      <td>400.0</td>\n",
       "      <td>53.3225</td>\n",
       "      <td>16.200297</td>\n",
       "      <td>25.0</td>\n",
       "      <td>39.75</td>\n",
       "      <td>54.5</td>\n",
       "      <td>66.0</td>\n",
       "      <td>80.0</td>\n",
       "    </tr>\n",
       "  </tbody>\n",
       "</table>\n",
       "</div>"
      ],
      "text/plain": [
       "     count     mean        std   min    25%   50%   75%   max\n",
       "Age  400.0  53.3225  16.200297  25.0  39.75  54.5  66.0  80.0"
      ]
     },
     "metadata": {},
     "output_type": "display_data"
    },
    {
     "name": "stdout",
     "output_type": "stream",
     "text": [
      "\n"
     ]
    },
    {
     "data": {
      "image/png": "[encoded data removed]",
      "text/plain": [
       "<Figure size 600x600 with 2 Axes>"
      ]
     },
     "metadata": {},
     "output_type": "display_data"
    }
   ],
   "source": [
    "# 지역 인구의 평균 연령\n",
    "eda_1_n(data, 'Age')"
   ]
  },
  {
   "cell_type": "markdown",
   "metadata": {
    "id": "X4FCi4YjAPeO"
   },
   "source": [
    "3) 기초통계량과 분포를 통해서 파악한 내용을 적어 봅시다.\n",
    "\n",
    "보이는 그대로를 넘어, 비즈니스 관점에서 고민하며 적어 봅시다."
   ]
  },
  {
   "cell_type": "markdown",
   "metadata": {
    "id": "mSICMZz-APeO"
   },
   "source": [
    "* 40세 ~60세 대부분\n",
    "* 젊은 사람이 많을 수록 많이 팔릴까?\n",
    "* 나이가 많은 사람 일수록 많이 팔릴까? \n",
    "* 나이에 따른 소득에 따라 판매량이 증가할까?"
   ]
  },
  {
   "cell_type": "markdown",
   "metadata": {
    "id": "t7vSJbvYAPeP"
   },
   "source": [
    "4) 추가 분석해 볼 사항이 있나요?"
   ]
  },
  {
   "cell_type": "markdown",
   "metadata": {
    "id": "cJyintKYJgCf"
   },
   "source": [
    "* 출산률에 따라 판매량이 달라질까?\n",
    "* 자동차 소유에 따라 판매량이 달라질까?"
   ]
  },
  {
   "cell_type": "markdown",
   "metadata": {
    "id": "A7QYqGKWdMZi"
   },
   "source": [
    "# 4.단변량분석 : 범주형 변수"
   ]
  },
  {
   "cell_type": "code",
   "execution_count": 33,
   "metadata": {
    "id": "l_LkIqI0I-ZB",
    "tags": []
   },
   "outputs": [],
   "source": [
    "# 범주형 변수에 대한 단변량 분석 함수\n",
    "def eda_1_c(data, var) :\n",
    "    # 기초 통계량\n",
    "    print(f' <<<  {var}   >>')\n",
    "    cnt = data[var].value_counts()\n",
    "    prop = data[var].value_counts()/data.shape[0]\n",
    "    temp = pd.DataFrame({'Class':cnt.index, 'Count':cnt.values, 'Prop':prop.values})\n",
    "    display(temp)\n",
    "    # 시각화\n",
    "    sns.countplot(x = var, data = data)\n",
    "    plt.grid()\n",
    "    plt.show()"
   ]
  },
  {
   "cell_type": "markdown",
   "metadata": {
    "id": "GmxZa7uvhyXO"
   },
   "source": [
    "## (1) Urban"
   ]
  },
  {
   "cell_type": "markdown",
   "metadata": {
    "id": "Z_SDqaBhYDGl"
   },
   "source": [
    "1) 변수의 비즈니스 의미"
   ]
  },
  {
   "cell_type": "markdown",
   "metadata": {
    "id": "APG3QTcSYDGl"
   },
   "source": [
    "* 도심 지역 여부"
   ]
  },
  {
   "cell_type": "markdown",
   "metadata": {
    "id": "11csVG3oB1aj"
   },
   "source": [
    "2) 기초통계량 및 분포 확인"
   ]
  },
  {
   "cell_type": "code",
   "execution_count": 34,
   "metadata": {
    "id": "o-iQmgg1B1aj",
    "tags": []
   },
   "outputs": [
    {
     "name": "stdout",
     "output_type": "stream",
     "text": [
      " <<<  Urban   >>\n"
     ]
    },
    {
     "data": {
      "text/html": [
       "<div>\n",
       "<style scoped>\n",
       "    .dataframe tbody tr th:only-of-type {\n",
       "        vertical-align: middle;\n",
       "    }\n",
       "\n",
       "    .dataframe tbody tr th {\n",
       "        vertical-align: top;\n",
       "    }\n",
       "\n",
       "    .dataframe thead th {\n",
       "        text-align: right;\n",
       "    }\n",
       "</style>\n",
       "<table border=\"1\" class=\"dataframe\">\n",
       "  <thead>\n",
       "    <tr style=\"text-align: right;\">\n",
       "      <th></th>\n",
       "      <th>Class</th>\n",
       "      <th>Count</th>\n",
       "      <th>Prop</th>\n",
       "    </tr>\n",
       "  </thead>\n",
       "  <tbody>\n",
       "    <tr>\n",
       "      <th>0</th>\n",
       "      <td>Yes</td>\n",
       "      <td>282</td>\n",
       "      <td>0.705</td>\n",
       "    </tr>\n",
       "    <tr>\n",
       "      <th>1</th>\n",
       "      <td>No</td>\n",
       "      <td>118</td>\n",
       "      <td>0.295</td>\n",
       "    </tr>\n",
       "  </tbody>\n",
       "</table>\n",
       "</div>"
      ],
      "text/plain": [
       "  Class  Count   Prop\n",
       "0   Yes    282  0.705\n",
       "1    No    118  0.295"
      ]
     },
     "metadata": {},
     "output_type": "display_data"
    },
    {
     "data": {
      "image/png": "[encoded data removed]",
      "text/plain": [
       "<Figure size 640x480 with 1 Axes>"
      ]
     },
     "metadata": {},
     "output_type": "display_data"
    }
   ],
   "source": [
    "var = 'Urban'\n",
    "eda_1_c(data, var)"
   ]
  },
  {
   "cell_type": "markdown",
   "metadata": {
    "id": "mk1xIymFhyXQ"
   },
   "source": [
    "3) 기초통계량과 분포를 통해서 파악한 내용을 적어 봅시다.\n",
    "\n",
    "보이는 그대로를 넘어, 비즈니스 관점에서 고민하며 적어 봅시다."
   ]
  },
  {
   "cell_type": "markdown",
   "metadata": {
    "id": "EU_PoP7WksHO"
   },
   "source": [
    "* 약 70% 매장이 도시에 있음"
   ]
  },
  {
   "cell_type": "markdown",
   "metadata": {
    "id": "uWnlgNkxhyXV"
   },
   "source": [
    "4) 추가 분석해 볼 사항이 있나요?"
   ]
  },
  {
   "cell_type": "markdown",
   "metadata": {
    "id": "YhBwIJJTkxs5"
   },
   "source": [
    "* 도시와 지방의 인구수, 소득수준, 자사 가격, 경쟁사 가격, 광고예산, 판매량 비교 필요."
   ]
  },
  {
   "cell_type": "markdown",
   "metadata": {
    "id": "m5zcg9CCg86m"
   },
   "source": [
    "## (2) ShelveLoc"
   ]
  },
  {
   "cell_type": "markdown",
   "metadata": {
    "id": "LHga5dO5J25v"
   },
   "source": [
    "1) 변수의 비즈니스 의미"
   ]
  },
  {
   "cell_type": "markdown",
   "metadata": {
    "id": "jJsGon-lJ25v"
   },
   "source": [
    "* 진열상태\n",
    "* feature"
   ]
  },
  {
   "cell_type": "markdown",
   "metadata": {
    "id": "K4Lm4HJLAYfN"
   },
   "source": [
    "2) 기초통계량 및 분포 확인"
   ]
  },
  {
   "cell_type": "code",
   "execution_count": 36,
   "metadata": {
    "id": "rU5tMKITAYfO",
    "tags": []
   },
   "outputs": [
    {
     "name": "stdout",
     "output_type": "stream",
     "text": [
      " <<<  ShelveLoc   >>\n"
     ]
    },
    {
     "data": {
      "text/html": [
       "<div>\n",
       "<style scoped>\n",
       "    .dataframe tbody tr th:only-of-type {\n",
       "        vertical-align: middle;\n",
       "    }\n",
       "\n",
       "    .dataframe tbody tr th {\n",
       "        vertical-align: top;\n",
       "    }\n",
       "\n",
       "    .dataframe thead th {\n",
       "        text-align: right;\n",
       "    }\n",
       "</style>\n",
       "<table border=\"1\" class=\"dataframe\">\n",
       "  <thead>\n",
       "    <tr style=\"text-align: right;\">\n",
       "      <th></th>\n",
       "      <th>Class</th>\n",
       "      <th>Count</th>\n",
       "      <th>Prop</th>\n",
       "    </tr>\n",
       "  </thead>\n",
       "  <tbody>\n",
       "    <tr>\n",
       "      <th>0</th>\n",
       "      <td>Medium</td>\n",
       "      <td>219</td>\n",
       "      <td>0.5475</td>\n",
       "    </tr>\n",
       "    <tr>\n",
       "      <th>1</th>\n",
       "      <td>Bad</td>\n",
       "      <td>96</td>\n",
       "      <td>0.2400</td>\n",
       "    </tr>\n",
       "    <tr>\n",
       "      <th>2</th>\n",
       "      <td>Good</td>\n",
       "      <td>85</td>\n",
       "      <td>0.2125</td>\n",
       "    </tr>\n",
       "  </tbody>\n",
       "</table>\n",
       "</div>"
      ],
      "text/plain": [
       "    Class  Count    Prop\n",
       "0  Medium    219  0.5475\n",
       "1     Bad     96  0.2400\n",
       "2    Good     85  0.2125"
      ]
     },
     "metadata": {},
     "output_type": "display_data"
    },
    {
     "data": {
      "image/png": "[encoded data removed]",
      "text/plain": [
       "<Figure size 640x480 with 1 Axes>"
      ]
     },
     "metadata": {},
     "output_type": "display_data"
    }
   ],
   "source": [
    "eda_1_c(data, 'ShelveLoc')"
   ]
  },
  {
   "cell_type": "markdown",
   "metadata": {
    "id": "I3pgQuqeAYfO"
   },
   "source": [
    "3) 기초통계량과 분포를 통해서 파악한 내용을 적어 봅시다.\n",
    "\n",
    "보이는 그대로를 넘어, 비즈니스 관점에서 고민하며 적어 봅시다."
   ]
  },
  {
   "cell_type": "markdown",
   "metadata": {
    "id": "MEMEnkW9AYfO"
   },
   "source": [
    "* 진열 상태가 Medium 54% \n",
    "* Bad, Good이 합하여 56%\n",
    "* 진열 상태에 따라 판매량이 어떨까?\n",
    "* 지역에 따라 진열 상태가 어떨까?\n",
    "* 진열 상태에 따라 고객 연령대가 어떨까?\n",
    "* 매장 관리가 되지 않는 지역은 어딜까?"
   ]
  },
  {
   "cell_type": "markdown",
   "metadata": {
    "id": "bYF-gE3gAYfP"
   },
   "source": [
    "4) 추가 분석해 볼 사항이 있나요?"
   ]
  },
  {
   "cell_type": "markdown",
   "metadata": {
    "id": "2G3LYx5zJ25x"
   },
   "source": [
    "* 진열 상태에 따른 광고예산\n",
    "* 연령대에 따른 고객 증가?\n",
    "* 진열 상태 평가 기준"
   ]
  },
  {
   "cell_type": "markdown",
   "metadata": {
    "id": "ieLyLWqehz_N"
   },
   "source": [
    "## (3) US"
   ]
  },
  {
   "cell_type": "markdown",
   "metadata": {
    "id": "0k1CiePwJ42Q"
   },
   "source": [
    "1) 변수의 비즈니스 의미"
   ]
  },
  {
   "cell_type": "markdown",
   "metadata": {
    "id": "ZPdUnK3XJ42R"
   },
   "source": [
    "* 매장이 미국에 있는지 여부(Yes,No)\n",
    "* feature"
   ]
  },
  {
   "cell_type": "markdown",
   "metadata": {
    "id": "4OZxplwHAa6l"
   },
   "source": [
    "2) 기초통계량 및 분포 확인"
   ]
  },
  {
   "cell_type": "code",
   "execution_count": 37,
   "metadata": {
    "id": "NxdavrwQAa6l",
    "tags": []
   },
   "outputs": [
    {
     "name": "stdout",
     "output_type": "stream",
     "text": [
      " <<<  US   >>\n"
     ]
    },
    {
     "data": {
      "text/html": [
       "<div>\n",
       "<style scoped>\n",
       "    .dataframe tbody tr th:only-of-type {\n",
       "        vertical-align: middle;\n",
       "    }\n",
       "\n",
       "    .dataframe tbody tr th {\n",
       "        vertical-align: top;\n",
       "    }\n",
       "\n",
       "    .dataframe thead th {\n",
       "        text-align: right;\n",
       "    }\n",
       "</style>\n",
       "<table border=\"1\" class=\"dataframe\">\n",
       "  <thead>\n",
       "    <tr style=\"text-align: right;\">\n",
       "      <th></th>\n",
       "      <th>Class</th>\n",
       "      <th>Count</th>\n",
       "      <th>Prop</th>\n",
       "    </tr>\n",
       "  </thead>\n",
       "  <tbody>\n",
       "    <tr>\n",
       "      <th>0</th>\n",
       "      <td>Yes</td>\n",
       "      <td>258</td>\n",
       "      <td>0.645</td>\n",
       "    </tr>\n",
       "    <tr>\n",
       "      <th>1</th>\n",
       "      <td>No</td>\n",
       "      <td>142</td>\n",
       "      <td>0.355</td>\n",
       "    </tr>\n",
       "  </tbody>\n",
       "</table>\n",
       "</div>"
      ],
      "text/plain": [
       "  Class  Count   Prop\n",
       "0   Yes    258  0.645\n",
       "1    No    142  0.355"
      ]
     },
     "metadata": {},
     "output_type": "display_data"
    },
    {
     "data": {
      "image/png": "[encoded data removed]",
      "text/plain": [
       "<Figure size 640x480 with 1 Axes>"
      ]
     },
     "metadata": {},
     "output_type": "display_data"
    }
   ],
   "source": [
    "eda_1_c(data, 'US')"
   ]
  },
  {
   "cell_type": "markdown",
   "metadata": {
    "id": "EmMCS2pOAa6l"
   },
   "source": [
    "3) 기초통계량과 분포를 통해서 파악한 내용을 적어 봅시다.\n",
    "\n",
    "보이는 그대로를 넘어, 비즈니스 관점에서 고민하며 적어 봅시다."
   ]
  },
  {
   "cell_type": "markdown",
   "metadata": {
    "id": "i7QQKBpaAa6m"
   },
   "source": [
    "* 미국 내에 매장이 64%\n",
    "* 미국, 해외 매장 판매량 및 판매가격 차이\n",
    "* 미국, 해외 매장 구매 연령대"
   ]
  },
  {
   "cell_type": "markdown",
   "metadata": {
    "id": "lQdhwACGAa6m"
   },
   "source": [
    "4) 추가 분석해 볼 사항이 있나요?"
   ]
  },
  {
   "cell_type": "markdown",
   "metadata": {
    "id": "7_L-gGD0J42U"
   },
   "source": [
    "* 해외 지사에 있는 매장의 진열 상태, 광고예산, 연령대, 판매량"
   ]
  }
 ],
 "metadata": {
  "colab": {
   "provenance": [],
   "toc_visible": true
  },
  "kernelspec": {
   "display_name": "Python 3 (ipykernel)",
   "language": "python",
   "name": "python3"
  },
  "language_info": {
   "codemirror_mode": {
    "name": "ipython",
    "version": 3
   },
   "file_extension": ".py",
   "mimetype": "text/x-python",
   "name": "python",
   "nbconvert_exporter": "python",
   "pygments_lexer": "ipython3",
   "version": "3.11.5"
  }
 },
 "nbformat": 4,
 "nbformat_minor": 4
}
