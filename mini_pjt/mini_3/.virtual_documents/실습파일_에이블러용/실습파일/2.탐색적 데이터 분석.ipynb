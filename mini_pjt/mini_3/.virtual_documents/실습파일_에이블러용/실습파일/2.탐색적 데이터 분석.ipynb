

















# 한글폰트
!sudo apt-get install -y fonts-nanum
!sudo fc-cache -fv
!rm ~/.cache/matplotlib -rf











path = 'C:/Users/User/program/mini_pjt/mini_3/실습파일_에이블러용/데이터/'








# from google.colab import drive
# drive.mount('/content/drive')


# path = '/content/drive/MyDrive/project/'











!pip install -r requirements.txt








import pandas as pd
import numpy as np
import matplotlib.pyplot as plt
import seaborn as sns

import joblib

# 필요한 라이브러리 로딩
import scipy.stats as spst



# 한글폰트설정
plt.rc('font', family='Malgun Gothic')
plt.rcParams['axes.unicode_minus'] = False








train = joblib.load(path + 'trains.pkl')


fee_deposit = joblib.load(path + 'mean_fee_deposit.pkl')


train


fee_deposit














train.describe()


train.info()


train.isna().sum()








train.head(1)


train.columns


from sklearn.preprocessing import MinMaxScaler


variables = ['실차량수', '총세대수', '임대료', '임대보증금', '전용면적별세대수', '전용면적', '공급면적(공용)']

# Min-Max 스케일링
scaler = MinMaxScaler()

# 스케일링할 변수 선택
scaled_data = train[variables]

# 스케일링 적용
scaled_data = scaler.fit_transform(scaled_data)

# 스케일링된 데이터프레임 생성
scaled_df = pd.DataFrame(scaled_data, columns=variables)

# 상자 그림(boxplot) 출력
plt.figure(figsize=(12, 6))
sns.boxplot(data=scaled_df[variables], orient='h')
plt.title('단지별 정보')
plt.show()


variables = ['실차량수', '총세대수', '임대료', '임대보증금', '전용면적별세대수', '전용면적', '공급면적(공용)']

plt.figure(figsize=(12, 8))
for i, var in enumerate(variables):
    plt.subplot(3, 3, i+1)
    sns.histplot(train[var], bins=20, kde=True)
    plt.title(var)
    plt.xlabel('')
plt.tight_layout()
plt.show()



train.columns


# 전용면적, 건물형태, 공급유형 변수 선택
variables_to_analyze = ['단지코드','전용면적', '건물형태', '공급면적(공용)', '임대보증금', '임대료', '실차량수']

# pivot을 해제하여 데이터 구조 변경
melted_data = train.melt(id_vars=variables_to_analyze)
melted_data

# seaborn의 barplot으로 그래프 그리기
plt.figure(figsize=(12, 6))
sns.barplot(x='임대료', y='실차량수', data=melted_data, ci=True)
plt.title('Comparison of 등록차량수 by 전용면적')
plt.xlabel('Variables')
plt.ylabel('등록차량수')
plt.show()


# 전용면적 변수 melt
melted_data = train.melt(id_vars='단지코드', value_vars=['30이하', '40이하', '50이하','60이하', '70이하', '80이하', '90이하', '100이하', '110이하', '120이하', '121이상'],
                      var_name='전용면적', value_name='세대수')


plt.figure(figsize=(12, 5))
sns.barplot(x='전용면적', y='세대수', data=melted_data, ci=True)
plt.show()














target = '실차량수'


matrix = train.corr(numeric_only=True)


matrix


plt.figure(figsize=(10, 8))
sns.heatmap(matrix, annot=True, cmap='coolwarm', fmt=".2f", cbar=False)
plt.title('전체변수 상관관계')
plt.show()





sns.jointplot(x='총세대수', y=target, data=train, kind='scatter')
plt.show()


sns.jointplot(x='전용면적별세대수', y=target, data=train, kind='scatter')
plt.show()


sns.jointplot(x='전용면적', y=target, data=train, kind='scatter')
plt.show()


sns.jointplot(x='공급면적(공용)', y=target, data=train, kind='scatter')
plt.show()


sns.jointplot(x='임대보증금', y=target, data=train, kind='scatter')
plt.show()


sns.jointplot(x='임대료', y=target, data=train, kind='scatter')
plt.show()


train.columns


train['지역'].value_counts()
train['준공일자'].value_counts()
train['난방방식'].value_counts()
train['승강기설치여부'].value_counts()





# 건물구분별 실제 차량 수의 평균 계산
mean_actual_cars_by_building_type = train.groupby('건물형태')['실차량수'].mean()

# 결과 출력
print(mean_actual_cars_by_building_type)

# barplot으로 시각화
plt.figure(figsize=(10, 6))
sns.barplot(x='건물형태', y='실차량수', data=train)
plt.title('건물형태별 실차량 수')
plt.xlabel('건물형태')
plt.ylabel('실차량수 수')
plt.show()


# 지역별 실제 차량 수의 평균 계산
mean_actual_cars_by_building_type = train.groupby('지역')['실차량수'].mean()

# 결과 출력
print(mean_actual_cars_by_building_type)

# barplot으로 시각화
plt.figure(figsize=(10, 6))
sns.barplot(x='지역', y='실차량수', data=train)
plt.title('지역별 실차량 수')
plt.xlabel('지역')
plt.ylabel('실차량수 수')
plt.show()


# 준공일자 열을 정수형으로 변환
train['준공일자'] = train['준공일자'].astype(int)
# 준공일자별 실제 차량 수의 평균 계산
mean_actual_cars_by_building_type = train.groupby('준공일자')['실차량수'].mean()

# 결과 출력
print(mean_actual_cars_by_building_type)

ascending_train = train.sort_values(by='준공일자', ascending=True)
# barplot으로 시각화
plt.figure(figsize=(14, 6))
sns.barplot(x='준공일자', y='실차량수', data=ascending_train)
plt.title('준공일자별 실차량 수')
plt.xticks(rotation=45)
plt.xlabel('준공일자')
plt.ylabel('실차량수 수')
plt.show()


# 난방방식별 실제 차량 수의 평균 계산
mean_actual_cars_by_building_type = train.groupby('난방방식')['실차량수'].mean()

# 결과 출력
print(mean_actual_cars_by_building_type)

# barplot으로 시각화
plt.figure(figsize=(10, 6))
sns.barplot(x='난방방식', y='실차량수', data=train)
plt.title('난방방식별 실차량 수')
plt.xlabel('난방방식')
plt.ylabel('실차량수 수')
plt.show()


# 승강기설치여부별 실제 차량 수의 평균 계산
mean_actual_cars_by_building_type = train.groupby('승강기설치여부')['실차량수'].mean()

# 결과 출력
print(mean_actual_cars_by_building_type)

# barplot으로 시각화
plt.figure(figsize=(10, 6))
sns.barplot(x='승강기설치여부', y='실차량수', data=train)
plt.title('승강기설치여부별 실차량 수')
plt.xlabel('승강기설치여부')
plt.ylabel('실차량수 수')
plt.show()





train.drop('지역', axis=1, inplace=True)


train.head()


# '난방방식' 변수의 고유값 확인
print(train['난방방식'].unique())

# '승강기설치여부' 변수의 고유값 확인
print(train['승강기설치여부'].unique())


train.isna().sum()


# '난방방식' 변수의 값을 적은 수의 범주로 묶기
train['난방방식'] = train['난방방식'].replace({'개별가스난방': '가스난방',
                                       '중앙가스난방': '가스난방', 
                                       '지역가스난방' : '가스난방',
                                       '개별유류난방': '유류난방', 
                                       '중앙유류난방': '유류난방',
                                       '지역유류난방' : '유류난방',
                                       '개별난방' : '난방',
                                       '지역난방' : '난방',
                                       '중앙난방' : '난방,',
                                      })


#data['난방방식'] = data['난방방식'].str[:2]


train['승강기설치여부'] = train['승강기설치여부'].replace({'전체동 설치': '설치', 
                                                     '일부동 설치': '설치'})


# '난방방식' 변수의 고유값 확인
print(train['난방방식'].unique())
# '승강기설치여부' 변수의 고유값 확인
print(train['승강기설치여부'].unique())








joblib.dump(train, path + 'train2.pkl')






