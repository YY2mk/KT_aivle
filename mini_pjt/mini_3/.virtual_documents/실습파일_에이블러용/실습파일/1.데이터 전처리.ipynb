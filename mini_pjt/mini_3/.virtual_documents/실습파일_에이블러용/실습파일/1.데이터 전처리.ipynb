

















# # 한글폰트
# !sudo apt-get install -y fonts-nanum
# !sudo fc-cache -fv
# !rm ~/.cache/matplotlib -rf











path = 'C:/Users/User/program/mini_pjt/mini_3/실습파일_에이블러용/데이터/'








# from google.colab import drive
# drive.mount('/content/drive')


# path = '/content/drive/MyDrive/project/'











#!pip install -r requirements.txt





import pandas as pd
import numpy as np
import matplotlib.pyplot as plt
import seaborn as sns

import joblib

# 필요한 라이브러리 로딩
from sklearn.model_selection import train_test_split
#from sklearn.ensemble import RandomForestClassifier
#from sklearn.metrics import *


import matplotlib.font_manager as fm 
font_list = [font.name for font in fm.fontManager.ttflist] 
font_list.sort() 
font_list


# 한글폰트설정
plt.rc('font', family='Malgun Gothic')
plt.rcParams['axes.unicode_minus'] = False











train = pd.read_excel(path + 'train.xlsx')
test = pd.read_excel(path + 'test.xlsx')


train.head()


test.head()





train.describe()


train.shape


test.describe()


test.shape











train.isna().sum()


train['준공일자'] = train['준공일자'].astype(str).str[:4]
train.head()


train.isna().sum()


train['준공일자'].unique()


# 'nan' 값을 NaN으로 변환
train['준공일자'] = train['준공일자'].replace('nan', np.nan)
# 최소값 계산
min_value = train['준공일자'].dropna().astype(int).min()


train['준공일자'] = train['준공일자'].fillna(min_value)


train['준공일자'].unique()


train.isna().sum()


train['건물형태'].unique()


train['건물형태'].value_counts()


# 'nan' 값을 NaN으로 변환
train['건물형태'] = train['건물형태'].replace('nan', np.nan)
train['건물형태'] = train['건물형태'].fillna('복도식')


train['건물형태'].unique()


train['건물형태'].value_counts()


train['난방방식'].unique()


# 'nan' 값을 NaN으로 변환
train['난방방식'] = train['난방방식'].replace('nan', np.nan)


train['난방방식'] = train['난방방식'].fillna('개별난방')


train['난방방식'].value_counts()


train['난방방식'].unique()


train['승강기설치여부'].unique()


# 'nan' 값을 NaN으로 변환
train['승강기설치여부'] = train['승강기설치여부'].replace('nan', np.nan)
train['승강기설치여부'] = train['승강기설치여부'].fillna('전체동 설치')


train['승강기설치여부'].value_counts()


train['승강기설치여부'].unique()


train.isna().sum()


test.isna().sum()


test['준공일자'] = test['준공일자'].astype(str).str[:4]
test.head()


# 'nan' 값을 NaN으로 변환
test['준공일자'] = test['준공일자'].replace('nan', np.nan)
# 최소값 계산
min_value = test['준공일자'].dropna().astype(int).min()

test['준공일자'] = train['준공일자'].fillna(min_value)


test['준공일자'].unique()


# 'nan' 값을 NaN으로 변환
test['건물형태'] = test['건물형태'].replace('nan', np.nan)
test['건물형태'] = test['건물형태'].fillna('복도식')


# 'nan' 값을 NaN으로 변환
test['승강기설치여부'] = test['승강기설치여부'].replace('nan', np.nan)
test['승강기설치여부'] = test['승강기설치여부'].fillna('미설치')


# 'nan' 값을 NaN으로 변환
test['건물형태'] = test['건물형태'].replace('nan', np.nan)
test['건물형태'] = test['건물형태'].fillna('복도식')


# 'nan' 값을 NaN으로 변환
test['난방방식'] = test['난방방식'].replace('nan', np.nan)
test['난방방식'] = test['난방방식'].fillna('지역유류난방')


test['승강기설치여부'] = test['승강기설치여부'].replace({'전체동 설치': '설치'})


test['승강기설치여부'].value_counts()


test.isna().sum()











train.head()


train.drop(['단지명', '단지내주차면수'], axis=1, inplace=True)
train.head()


test.head()


test.drop(['단지명', '단지내주차면수'], axis=1, inplace=True)
test.head()














train.head()


drop_cols = ['전용면적별세대수', '전용면적', '공급면적(공용)', '임대보증금', '임대료']
apartment_data = train.drop(drop_cols, axis=1)


apartment_data.head()


drop_cols = ['총세대수', '지역', '준공일자', '건물형태', '난방방식', '승강기설치여부', '실차량수']
detail_data = train.drop(drop_cols, axis=1)


detail_data.head()











#단지내 전용면적별 총면적(‘전용면적’ * ‘전용면적별 세대수’) 계산
detail_data['총면적'] = detail_data['전용면적별세대수'] * detail_data['전용면적']


detail_data


# 전용면적을 의미 있는 단위로 나누기
bins = [-np.inf, 30, 40, 50, 60, 70, 80, 90, 100, 110, 120, np.inf]  # 구간 설정
labels = ['30이하', '40이하', '50이하', '60이하', '70이하', '80이하', '90이하', '100이하', '110이하',  '120이하', '121이상']  # 구간별 라벨 설정
detail_data['전용면적구간'] = pd.cut(detail_data['전용면적'], bins=bins, labels=labels)


df = detail_data.pivot_table(index='단지코드', columns='전용면적구간', values='총면적', aggfunc='sum')


df


#• 단지별, 전용면적구간 별, 총면적 집계(groupby)
detail_data.groupby(by=['단지코드', '전용면적구간'])['총면적'].sum()





detail_data.isna().sum()


# 각 방법으로 집계하기
# 평균
mean_rent_deposit = detail_data['임대보증금'].mean()
mean_rent_fee = detail_data['임대료'].mean()

# 가중평균
weighted_mean_rent_deposit = (detail_data['임대보증금'] * detail_data['전용면적별세대수']).sum() / detail_data['전용면적별세대수'].sum()
weighted_mean_rent_fee = (detail_data['임대료'] * detail_data['전용면적별세대수']).sum() / detail_data['전용면적별세대수'].sum()

# 중앙값
median_rent_deposit = detail_data['임대보증금'].median()
median_rent_fee = detail_data['임대료'].median()

# # 각 값을 천 단위 구분하여 문자열로 변환
# mean_rent_deposit = '{:,.0f}'.format(mean_rent_deposit)
# mean_rent_fee = '{:,.0f}'.format(mean_rent_fee)
# weighted_mean_rent_deposit = '{:,.0f}'.format(weighted_mean_rent_deposit)
# weighted_mean_rent_fee = '{:,.0f}'.format(weighted_mean_rent_fee)
# median_rent_deposit = '{:,.0f}'.format(median_rent_deposit)
# median_rent_fee = '{:,.0f}'.format(median_rent_fee)

print("평균 임대보증금:", mean_rent_deposit)
print("평균 임대료:", mean_rent_fee)
print("가중평균 임대보증금:", weighted_mean_rent_deposit)
print("가중평균 임대료:", weighted_mean_rent_fee)
print("중앙값 임대보증금:", median_rent_deposit)  # 중앙값이 적절하게 표현한 것같음
print("중앙값 임대료:", median_rent_fee)








# 전체 면적 계산
detail_data['전체면적'] = detail_data['공급면적(공용)'] * detail_data['전용면적별세대수']


detail_data


# 임대건물구분 별 전체 면적 합계 계산
total_area_by_building_type = detail_data.groupby('임대료')['전체면적'].sum()

# 공급유형별 전체 면적 합계 계산
total_area_by_supply_type = detail_data.groupby('공급면적(공용)')['전체면적'].sum()

# 임대건물구분 별 면적 비율 계산
building_type_area_ratio = total_area_by_building_type / total_area_by_building_type.sum()

# 공급유형별 면적 비율 계산
supply_type_area_ratio = total_area_by_supply_type / total_area_by_supply_type.sum()

print("임대건물구분 별 전체 면적 합계:")
print(total_area_by_building_type)
print("\n공급유형별 전체 면적 합계:")
print(total_area_by_supply_type)
print("\n임대건물구분 별 면적 비율:")
print(building_type_area_ratio)
print("\n공급유형별 면적 비율:")
print(supply_type_area_ratio)

















trains = pd.merge(train, df, on='단지코드', how='left')


trains


sns.histplot(trains['80이하'], bins=20, kde=True)
plt.show()





rent_deposit = detail_data.groupby(by='단지코드')['임대보증금'].mean()
rent_fee = detail_data.groupby(by='단지코드')['임대료'].mean()


rent_deposit = pd.DataFrame(rent_deposit)
rent_fee = pd.DataFrame(rent_fee)


mean_fee_deposit = pd.merge(rent_deposit, rent_fee, on='단지코드', how='left')


mean_fee_deposit








joblib.dump(trains, path + 'trains.pkl')


joblib.dump(mean_fee_deposit, path + 'mean_fee_deposit.pkl')


test


test['총면적'] = test['전용면적별세대수'] * test['전용면적']


joblib.dump(test, path + 'test2.pkl')


train['총면적'] = detail_data['총면적']


train


joblib.dump(train, path + 'train2.pkl')



