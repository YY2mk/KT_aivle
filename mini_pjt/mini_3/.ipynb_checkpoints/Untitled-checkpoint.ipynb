{
 "cells": [
  {
   "cell_type": "code",
   "execution_count": null,
   "id": "16460470-1764-439c-8581-b6a4bf8f093e",
   "metadata": {},
   "outputs": [],
   "source": [
    "def mkdir_model():\n",
    "    target = 'Activity'\n",
    "    train['is_dynamic'] = train[target].map({maplab})\n",
    "\n",
    "    target = 'is_dynamic'\n",
    "\n",
    "    x = train.drop(target, axis=1)\n",
    "    y = train.loc[:, target]\n",
    "    x_train, x_val, y_train, y_val = train_test_split(x, y, test_size=0.3, random_state=1)\n",
    "\n",
    "    model_is_dynamic = RandomForestClassifier()\n",
    "\n",
    "    model_is_dynamic.fit(x_train, y_train)\n",
    "\n",
    "    # 예측\n",
    "    y_pred = model_is_dynamic.predict(x_val)\n",
    "\n",
    "    # 평가\n",
    "    print(confusion_matrix(y_val, y_pred))\n",
    "    print(classification_report(y_val, y_pred))\n",
    "\n",
    "    # 변수 중요도 상위 5개\n",
    "    plot_feature_importance(model_is_dynamic.feature_importances_, list(x), result_only = False, topn = 5)\n",
    "\n",
    "    df2 = plot_feature_importance(model_is_dynamic.feature_importances_, list(x), result_only = True, topn = 'all')"
   ]
  }
 ],
 "metadata": {
  "kernelspec": {
   "display_name": "Python 3 (ipykernel)",
   "language": "python",
   "name": "python3"
  },
  "language_info": {
   "codemirror_mode": {
    "name": "ipython",
    "version": 3
   },
   "file_extension": ".py",
   "mimetype": "text/x-python",
   "name": "python",
   "nbconvert_exporter": "python",
   "pygments_lexer": "ipython3",
   "version": "3.11.5"
  }
 },
 "nbformat": 4,
 "nbformat_minor": 5
}
