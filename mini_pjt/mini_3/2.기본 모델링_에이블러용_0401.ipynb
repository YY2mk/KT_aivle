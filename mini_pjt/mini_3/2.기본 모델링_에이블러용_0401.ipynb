{
 "cells": [
  {
   "cell_type": "markdown",
   "metadata": {
    "id": "NbI_RoQ9AP5r"
   },
   "source": [
    "#**스마트폰 센서 데이터 기반 모션 분류**\n",
    "# 단계2 : 기본 모델링\n"
   ]
  },
  {
   "cell_type": "markdown",
   "metadata": {
    "id": "D67PlTu4JGAY"
   },
   "source": [
    "## 0.미션"
   ]
  },
  {
   "cell_type": "markdown",
   "metadata": {
    "id": "wc1FlP4E09oQ"
   },
   "source": [
    "* 데이터 전처리\n",
    "    * 가변수화, 데이터 분할, NaN 확인 및 조치, 스케일링 등 필요한 전처리 수행\n",
    "* 다양한 알고리즘으로 분류 모델 생성\n",
    "    * 최소 4개 이상의 알고리즘을 적용하여 모델링 수행 \n",
    "    * 성능 비교\n",
    "    * 각 모델의 성능을 저장하는 별도 데이터 프레임을 만들고 비교\n",
    "* 옵션 : 다음 사항은 선택사항입니다. 시간이 허용하는 범위 내에서 수행하세요.\n",
    "    * 상위 N개 변수를 선정하여 모델링 및 성능 비교\n",
    "        * 모델링에 항상 모든 변수가 필요한 것은 아닙니다.\n",
    "        * 변수 중요도 상위 N개를 선정하여 모델링하고 타 모델과 성능을 비교하세요.\n",
    "        * 상위 N개를 선택하는 방법은, 변수를 하나씩 늘려가며 모델링 및 성능 검증을 수행하여 적절한 지점을 찾는 것입니다.\n",
    "        * 성능 가이드\n",
    "            * Accuracy : 0.900~0.968"
   ]
  },
  {
   "cell_type": "markdown",
   "metadata": {
    "id": "NCptKiLOAn7l"
   },
   "source": [
    "## 1.환경설정"
   ]
  },
  {
   "cell_type": "markdown",
   "metadata": {
    "id": "yfvvK98cpklr"
   },
   "source": [
    "* 세부 요구사항\n",
    "    - 경로 설정 : 다음의 두가지 방법 중 하나를 선택하여 폴더를 준비하고 데이터를 로딩하시오.\n",
    "        * 1) 로컬 수행(Ananconda)\n",
    "            * 제공된 압축파일을 다운받아 압축을 풀고\n",
    "            * anaconda의 root directory(보통 C:/Users/< ID > 에 project 폴더를 만들고, 복사해 넣습니다.\n",
    "        * 2) 구글콜랩\n",
    "            * 구글 드라이브 바로 밑에 project 폴더를 만들고, \n",
    "            * 데이터 파일을 복사해 넣습니다.\n",
    "    \n",
    "    - 기본적으로 필요한 라이브러리를 import 하도록 코드가 작성되어 있습니다. \n",
    "        * 필요하다고 판단되는 라이브러리를 추가하세요.\n"
   ]
  },
  {
   "cell_type": "markdown",
   "metadata": {
    "id": "6qsy44YpolGu"
   },
   "source": [
    "### (1) 경로 설정"
   ]
  },
  {
   "cell_type": "markdown",
   "metadata": {
    "id": "gklxNfgNpkls"
   },
   "source": [
    "#### 1) 로컬 수행(Anaconda)\n",
    "* project 폴더에 필요한 파일들을 넣고, 본 파일을 열었다면, 별도 경로 지정이 필요하지 않습니다."
   ]
  },
  {
   "cell_type": "code",
   "execution_count": 1,
   "metadata": {
    "id": "PNI6X2yxpkls"
   },
   "outputs": [],
   "source": [
    "path = 'C:/Users/User/program/mini_pjt/mini_3/'"
   ]
  },
  {
   "cell_type": "markdown",
   "metadata": {
    "id": "7rWT4biQpkls"
   },
   "source": [
    "#### 2) 구글 콜랩 수행"
   ]
  },
  {
   "cell_type": "markdown",
   "metadata": {
    "id": "3OpMHqwdpkls"
   },
   "source": [
    "* 구글 드라이브 연결"
   ]
  },
  {
   "cell_type": "code",
   "execution_count": 2,
   "metadata": {
    "colab": {
     "base_uri": "https://localhost:8080/"
    },
    "executionInfo": {
     "elapsed": 21970,
     "status": "ok",
     "timestamp": 1682561076992,
     "user": {
      "displayName": "허신 - Business Intelligence",
      "userId": "11511914061488776232"
     },
     "user_tz": -540
    },
    "id": "CLasRk8Spklt",
    "outputId": "23fe51e9-ee90-452c-fd08-a25b989ae402"
   },
   "outputs": [],
   "source": [
    "# from google.colab import drive\n",
    "# drive.mount('/content/drive')"
   ]
  },
  {
   "cell_type": "code",
   "execution_count": 3,
   "metadata": {
    "id": "CAVyyXi9pklt"
   },
   "outputs": [],
   "source": [
    "# path = '/content/drive/MyDrive/project/'"
   ]
  },
  {
   "cell_type": "markdown",
   "metadata": {
    "id": "KnzVh2LmkLDU"
   },
   "source": [
    "### (2) 라이브러리 불러오기"
   ]
  },
  {
   "cell_type": "markdown",
   "metadata": {
    "id": "yZZpUzXun1mw"
   },
   "source": [
    "#### 1) 라이브러리 로딩"
   ]
  },
  {
   "cell_type": "code",
   "execution_count": 5,
   "metadata": {
    "id": "3rsQerEaELwI"
   },
   "outputs": [],
   "source": [
    "import pandas as pd\n",
    "import numpy as np\n",
    "import matplotlib.pyplot as plt\n",
    "import seaborn as sns\n",
    "\n",
    "# 필요하다고 판단되는 라이브러리를 추가하세요.\n",
    "import joblib\n",
    "\n",
    "from sklearn.model_selection import train_test_split\n",
    "from sklearn.ensemble import RandomForestClassifier\n",
    "from xgboost import XGBClassifier\n",
    "from sklearn.svm import SVC\n",
    "from sklearn.neighbors import KNeighborsClassifier\n",
    "from sklearn.linear_model import LogisticRegression\n",
    "\n",
    "from sklearn.model_selection import GridSearchCV\n",
    "from sklearn.preprocessing import MinMaxScaler\n",
    "from sklearn.metrics import *"
   ]
  },
  {
   "cell_type": "markdown",
   "metadata": {
    "id": "mlBhkYHQ491o"
   },
   "source": [
    "#### 2) 제공 함수 생성\n",
    "* 변수 중요도를 시각화할 수 있는 함수를 제공합니다.\n",
    "* 입력 : \n",
    "    * importance : 트리모델의 변수 중요도(예: model.feature_importances_)\n",
    "    * names : 변수 이름 목록(예 : x_train.columns\n",
    "    * result_only  : 변수 중요도 순으로 데이터프레임만 return할지, 그래프도 포함할지 결정. False이면 결과 데이터프레임 + 그래프\n",
    "    * topn : 중요도 상위 n개만 표시. all 이면 전체.\n",
    "* 출력 : \n",
    "    * 중요도 그래프 : 중요도 내림차순으로 정렬\n",
    "    * 중요도 데이터프레임 : 중요도 내림차순으로 정렬"
   ]
  },
  {
   "cell_type": "code",
   "execution_count": 6,
   "metadata": {
    "id": "EyMZDIT-aDHZ"
   },
   "outputs": [],
   "source": [
    "# 변수의 특성 중요도 계산하기\n",
    "def plot_feature_importance(importance, names, result_only = False, topn = 'all'):\n",
    "    feature_importance = np.array(importance)\n",
    "    feature_name = np.array(names)\n",
    "\n",
    "    data={'feature_name':feature_name,'feature_importance':feature_importance}\n",
    "    fi_temp = pd.DataFrame(data)\n",
    "\n",
    "    #변수의 특성 중요도 순으로 정렬하기\n",
    "    fi_temp.sort_values(by=['feature_importance'], ascending=False,inplace=True)\n",
    "    fi_temp.reset_index(drop=True, inplace = True)\n",
    "\n",
    "    if topn == 'all' :\n",
    "        fi_df = fi_temp.copy()\n",
    "    else :\n",
    "        fi_df = fi_temp.iloc[:topn]\n",
    "\n",
    "    #변수의 특성 중요도 그래프로 그리기\n",
    "    if result_only == False :\n",
    "        plt.figure(figsize=(10,20))\n",
    "        sns.barplot(x='feature_importance', y='feature_name', data = fi_df)\n",
    "\n",
    "        plt.xlabel('importance')\n",
    "        plt.ylabel('feature name')\n",
    "        plt.grid()\n",
    "\n",
    "    return fi_df"
   ]
  },
  {
   "cell_type": "markdown",
   "metadata": {
    "id": "bA-eHXdwBDCz"
   },
   "source": [
    "### (3) 데이터 불러오기"
   ]
  },
  {
   "cell_type": "markdown",
   "metadata": {
    "id": "HwIACQyupklv"
   },
   "source": [
    "* 주어진 데이터셋\n",
    "    * data01_train.csv : 학습 및 검증용\n",
    "    * data01_test.csv : 테스트용\n",
    "    * feature.csv : feature 이름을 계층구조로 정리한 데이터\n",
    "\n",
    "* 세부 요구사항\n",
    "    * 칼럼 삭제 : data01_train.csv와 data01_test.csv 에서 'subject' 칼럼은 불필요하므로 삭제합니다."
   ]
  },
  {
   "cell_type": "markdown",
   "metadata": {
    "id": "fmgUEGOipvG5"
   },
   "source": [
    "#### 1) 데이터로딩"
   ]
  },
  {
   "cell_type": "code",
   "execution_count": 7,
   "metadata": {},
   "outputs": [],
   "source": [
    "path1 = path + 'data01_train.csv'\n",
    "path2 = path + 'data01_test.csv'\n",
    "path3 = path + 'features.csv'"
   ]
  },
  {
   "cell_type": "code",
   "execution_count": 8,
   "metadata": {
    "id": "FT_JFnclfcQ4"
   },
   "outputs": [],
   "source": [
    "data_train = pd.read_csv(path1)\n",
    "data_test = pd.read_csv(path2)\n",
    "data_feature = pd.read_csv(path3)"
   ]
  },
  {
   "cell_type": "markdown",
   "metadata": {
    "id": "aI7qJqz3pr3m"
   },
   "source": [
    "#### 2) 기본 정보 조회"
   ]
  },
  {
   "cell_type": "code",
   "execution_count": 9,
   "metadata": {
    "colab": {
     "base_uri": "https://localhost:8080/"
    },
    "executionInfo": {
     "elapsed": 9,
     "status": "ok",
     "timestamp": 1682561116444,
     "user": {
      "displayName": "허신 - Business Intelligence",
      "userId": "11511914061488776232"
     },
     "user_tz": -540
    },
    "id": "yFVSAGNhpr3m",
    "outputId": "f9aebbc2-6c07-4d3b-fdce-b13e8f089279"
   },
   "outputs": [
    {
     "data": {
      "text/html": [
       "<div>\n",
       "<style scoped>\n",
       "    .dataframe tbody tr th:only-of-type {\n",
       "        vertical-align: middle;\n",
       "    }\n",
       "\n",
       "    .dataframe tbody tr th {\n",
       "        vertical-align: top;\n",
       "    }\n",
       "\n",
       "    .dataframe thead th {\n",
       "        text-align: right;\n",
       "    }\n",
       "</style>\n",
       "<table border=\"1\" class=\"dataframe\">\n",
       "  <thead>\n",
       "    <tr style=\"text-align: right;\">\n",
       "      <th></th>\n",
       "      <th>tBodyAcc-mean()-X</th>\n",
       "      <th>tBodyAcc-mean()-Y</th>\n",
       "      <th>tBodyAcc-mean()-Z</th>\n",
       "      <th>tBodyAcc-std()-X</th>\n",
       "      <th>tBodyAcc-std()-Y</th>\n",
       "      <th>tBodyAcc-std()-Z</th>\n",
       "      <th>tBodyAcc-mad()-X</th>\n",
       "      <th>tBodyAcc-mad()-Y</th>\n",
       "      <th>tBodyAcc-mad()-Z</th>\n",
       "      <th>tBodyAcc-max()-X</th>\n",
       "      <th>...</th>\n",
       "      <th>fBodyBodyGyroJerkMag-kurtosis()</th>\n",
       "      <th>angle(tBodyAccMean,gravity)</th>\n",
       "      <th>angle(tBodyAccJerkMean),gravityMean)</th>\n",
       "      <th>angle(tBodyGyroMean,gravityMean)</th>\n",
       "      <th>angle(tBodyGyroJerkMean,gravityMean)</th>\n",
       "      <th>angle(X,gravityMean)</th>\n",
       "      <th>angle(Y,gravityMean)</th>\n",
       "      <th>angle(Z,gravityMean)</th>\n",
       "      <th>subject</th>\n",
       "      <th>Activity</th>\n",
       "    </tr>\n",
       "  </thead>\n",
       "  <tbody>\n",
       "    <tr>\n",
       "      <th>0</th>\n",
       "      <td>0.288508</td>\n",
       "      <td>-0.009196</td>\n",
       "      <td>-0.103362</td>\n",
       "      <td>-0.988986</td>\n",
       "      <td>-0.962797</td>\n",
       "      <td>-0.967422</td>\n",
       "      <td>-0.989000</td>\n",
       "      <td>-0.962596</td>\n",
       "      <td>-0.965650</td>\n",
       "      <td>-0.929747</td>\n",
       "      <td>...</td>\n",
       "      <td>-0.816696</td>\n",
       "      <td>-0.042494</td>\n",
       "      <td>-0.044218</td>\n",
       "      <td>0.307873</td>\n",
       "      <td>0.072790</td>\n",
       "      <td>-0.601120</td>\n",
       "      <td>0.331298</td>\n",
       "      <td>0.165163</td>\n",
       "      <td>21</td>\n",
       "      <td>STANDING</td>\n",
       "    </tr>\n",
       "    <tr>\n",
       "      <th>1</th>\n",
       "      <td>0.265757</td>\n",
       "      <td>-0.016576</td>\n",
       "      <td>-0.098163</td>\n",
       "      <td>-0.989551</td>\n",
       "      <td>-0.994636</td>\n",
       "      <td>-0.987435</td>\n",
       "      <td>-0.990189</td>\n",
       "      <td>-0.993870</td>\n",
       "      <td>-0.987558</td>\n",
       "      <td>-0.937337</td>\n",
       "      <td>...</td>\n",
       "      <td>-0.693515</td>\n",
       "      <td>-0.062899</td>\n",
       "      <td>0.388459</td>\n",
       "      <td>-0.765014</td>\n",
       "      <td>0.771524</td>\n",
       "      <td>0.345205</td>\n",
       "      <td>-0.769186</td>\n",
       "      <td>-0.147944</td>\n",
       "      <td>15</td>\n",
       "      <td>LAYING</td>\n",
       "    </tr>\n",
       "    <tr>\n",
       "      <th>2</th>\n",
       "      <td>0.278709</td>\n",
       "      <td>-0.014511</td>\n",
       "      <td>-0.108717</td>\n",
       "      <td>-0.997720</td>\n",
       "      <td>-0.981088</td>\n",
       "      <td>-0.994008</td>\n",
       "      <td>-0.997934</td>\n",
       "      <td>-0.982187</td>\n",
       "      <td>-0.995017</td>\n",
       "      <td>-0.942584</td>\n",
       "      <td>...</td>\n",
       "      <td>-0.829311</td>\n",
       "      <td>0.000265</td>\n",
       "      <td>-0.525022</td>\n",
       "      <td>-0.891875</td>\n",
       "      <td>0.021528</td>\n",
       "      <td>-0.833564</td>\n",
       "      <td>0.202434</td>\n",
       "      <td>-0.032755</td>\n",
       "      <td>11</td>\n",
       "      <td>STANDING</td>\n",
       "    </tr>\n",
       "    <tr>\n",
       "      <th>3</th>\n",
       "      <td>0.289795</td>\n",
       "      <td>-0.035536</td>\n",
       "      <td>-0.150354</td>\n",
       "      <td>-0.231727</td>\n",
       "      <td>-0.006412</td>\n",
       "      <td>-0.338117</td>\n",
       "      <td>-0.273557</td>\n",
       "      <td>0.014245</td>\n",
       "      <td>-0.347916</td>\n",
       "      <td>0.008288</td>\n",
       "      <td>...</td>\n",
       "      <td>-0.408956</td>\n",
       "      <td>-0.255125</td>\n",
       "      <td>0.612804</td>\n",
       "      <td>0.747381</td>\n",
       "      <td>-0.072944</td>\n",
       "      <td>-0.695819</td>\n",
       "      <td>0.287154</td>\n",
       "      <td>0.111388</td>\n",
       "      <td>17</td>\n",
       "      <td>WALKING</td>\n",
       "    </tr>\n",
       "    <tr>\n",
       "      <th>4</th>\n",
       "      <td>0.394807</td>\n",
       "      <td>0.034098</td>\n",
       "      <td>0.091229</td>\n",
       "      <td>0.088489</td>\n",
       "      <td>-0.106636</td>\n",
       "      <td>-0.388502</td>\n",
       "      <td>-0.010469</td>\n",
       "      <td>-0.109680</td>\n",
       "      <td>-0.346372</td>\n",
       "      <td>0.584131</td>\n",
       "      <td>...</td>\n",
       "      <td>-0.563437</td>\n",
       "      <td>-0.044344</td>\n",
       "      <td>-0.845268</td>\n",
       "      <td>-0.974650</td>\n",
       "      <td>-0.887846</td>\n",
       "      <td>-0.705029</td>\n",
       "      <td>0.264952</td>\n",
       "      <td>0.137758</td>\n",
       "      <td>17</td>\n",
       "      <td>WALKING_DOWNSTAIRS</td>\n",
       "    </tr>\n",
       "  </tbody>\n",
       "</table>\n",
       "<p>5 rows × 563 columns</p>\n",
       "</div>"
      ],
      "text/plain": [
       "   tBodyAcc-mean()-X  tBodyAcc-mean()-Y  tBodyAcc-mean()-Z  tBodyAcc-std()-X  \\\n",
       "0           0.288508          -0.009196          -0.103362         -0.988986   \n",
       "1           0.265757          -0.016576          -0.098163         -0.989551   \n",
       "2           0.278709          -0.014511          -0.108717         -0.997720   \n",
       "3           0.289795          -0.035536          -0.150354         -0.231727   \n",
       "4           0.394807           0.034098           0.091229          0.088489   \n",
       "\n",
       "   tBodyAcc-std()-Y  tBodyAcc-std()-Z  tBodyAcc-mad()-X  tBodyAcc-mad()-Y  \\\n",
       "0         -0.962797         -0.967422         -0.989000         -0.962596   \n",
       "1         -0.994636         -0.987435         -0.990189         -0.993870   \n",
       "2         -0.981088         -0.994008         -0.997934         -0.982187   \n",
       "3         -0.006412         -0.338117         -0.273557          0.014245   \n",
       "4         -0.106636         -0.388502         -0.010469         -0.109680   \n",
       "\n",
       "   tBodyAcc-mad()-Z  tBodyAcc-max()-X  ...  fBodyBodyGyroJerkMag-kurtosis()  \\\n",
       "0         -0.965650         -0.929747  ...                        -0.816696   \n",
       "1         -0.987558         -0.937337  ...                        -0.693515   \n",
       "2         -0.995017         -0.942584  ...                        -0.829311   \n",
       "3         -0.347916          0.008288  ...                        -0.408956   \n",
       "4         -0.346372          0.584131  ...                        -0.563437   \n",
       "\n",
       "   angle(tBodyAccMean,gravity)  angle(tBodyAccJerkMean),gravityMean)  \\\n",
       "0                    -0.042494                             -0.044218   \n",
       "1                    -0.062899                              0.388459   \n",
       "2                     0.000265                             -0.525022   \n",
       "3                    -0.255125                              0.612804   \n",
       "4                    -0.044344                             -0.845268   \n",
       "\n",
       "   angle(tBodyGyroMean,gravityMean)  angle(tBodyGyroJerkMean,gravityMean)  \\\n",
       "0                          0.307873                              0.072790   \n",
       "1                         -0.765014                              0.771524   \n",
       "2                         -0.891875                              0.021528   \n",
       "3                          0.747381                             -0.072944   \n",
       "4                         -0.974650                             -0.887846   \n",
       "\n",
       "   angle(X,gravityMean)  angle(Y,gravityMean)  angle(Z,gravityMean)  subject  \\\n",
       "0             -0.601120              0.331298              0.165163       21   \n",
       "1              0.345205             -0.769186             -0.147944       15   \n",
       "2             -0.833564              0.202434             -0.032755       11   \n",
       "3             -0.695819              0.287154              0.111388       17   \n",
       "4             -0.705029              0.264952              0.137758       17   \n",
       "\n",
       "             Activity  \n",
       "0            STANDING  \n",
       "1              LAYING  \n",
       "2            STANDING  \n",
       "3             WALKING  \n",
       "4  WALKING_DOWNSTAIRS  \n",
       "\n",
       "[5 rows x 563 columns]"
      ]
     },
     "execution_count": 9,
     "metadata": {},
     "output_type": "execute_result"
    }
   ],
   "source": [
    "data_train.head()"
   ]
  },
  {
   "cell_type": "code",
   "execution_count": 10,
   "metadata": {
    "colab": {
     "base_uri": "https://localhost:8080/",
     "height": 337
    },
    "executionInfo": {
     "elapsed": 8,
     "status": "ok",
     "timestamp": 1682561116445,
     "user": {
      "displayName": "허신 - Business Intelligence",
      "userId": "11511914061488776232"
     },
     "user_tz": -540
    },
    "id": "xJnnr8K-pr3m",
    "outputId": "6d47ac70-5191-45ac-9b31-9fec5335276a"
   },
   "outputs": [
    {
     "data": {
      "text/html": [
       "<div>\n",
       "<style scoped>\n",
       "    .dataframe tbody tr th:only-of-type {\n",
       "        vertical-align: middle;\n",
       "    }\n",
       "\n",
       "    .dataframe tbody tr th {\n",
       "        vertical-align: top;\n",
       "    }\n",
       "\n",
       "    .dataframe thead th {\n",
       "        text-align: right;\n",
       "    }\n",
       "</style>\n",
       "<table border=\"1\" class=\"dataframe\">\n",
       "  <thead>\n",
       "    <tr style=\"text-align: right;\">\n",
       "      <th></th>\n",
       "      <th>tBodyAcc-mean()-X</th>\n",
       "      <th>tBodyAcc-mean()-Y</th>\n",
       "      <th>tBodyAcc-mean()-Z</th>\n",
       "      <th>tBodyAcc-std()-X</th>\n",
       "      <th>tBodyAcc-std()-Y</th>\n",
       "      <th>tBodyAcc-std()-Z</th>\n",
       "      <th>tBodyAcc-mad()-X</th>\n",
       "      <th>tBodyAcc-mad()-Y</th>\n",
       "      <th>tBodyAcc-mad()-Z</th>\n",
       "      <th>tBodyAcc-max()-X</th>\n",
       "      <th>...</th>\n",
       "      <th>fBodyBodyGyroJerkMag-kurtosis()</th>\n",
       "      <th>angle(tBodyAccMean,gravity)</th>\n",
       "      <th>angle(tBodyAccJerkMean),gravityMean)</th>\n",
       "      <th>angle(tBodyGyroMean,gravityMean)</th>\n",
       "      <th>angle(tBodyGyroJerkMean,gravityMean)</th>\n",
       "      <th>angle(X,gravityMean)</th>\n",
       "      <th>angle(Y,gravityMean)</th>\n",
       "      <th>angle(Z,gravityMean)</th>\n",
       "      <th>subject</th>\n",
       "      <th>Activity</th>\n",
       "    </tr>\n",
       "  </thead>\n",
       "  <tbody>\n",
       "    <tr>\n",
       "      <th>0</th>\n",
       "      <td>0.284379</td>\n",
       "      <td>-0.021981</td>\n",
       "      <td>-0.116683</td>\n",
       "      <td>-0.992490</td>\n",
       "      <td>-0.979640</td>\n",
       "      <td>-0.963321</td>\n",
       "      <td>-0.992563</td>\n",
       "      <td>-0.977304</td>\n",
       "      <td>-0.958142</td>\n",
       "      <td>-0.938850</td>\n",
       "      <td>...</td>\n",
       "      <td>-0.850065</td>\n",
       "      <td>-0.018043</td>\n",
       "      <td>0.092304</td>\n",
       "      <td>0.074220</td>\n",
       "      <td>-0.714534</td>\n",
       "      <td>-0.671943</td>\n",
       "      <td>-0.018351</td>\n",
       "      <td>-0.185733</td>\n",
       "      <td>22</td>\n",
       "      <td>SITTING</td>\n",
       "    </tr>\n",
       "    <tr>\n",
       "      <th>1</th>\n",
       "      <td>0.277440</td>\n",
       "      <td>-0.028086</td>\n",
       "      <td>-0.118412</td>\n",
       "      <td>-0.996620</td>\n",
       "      <td>-0.927676</td>\n",
       "      <td>-0.972294</td>\n",
       "      <td>-0.997346</td>\n",
       "      <td>-0.931405</td>\n",
       "      <td>-0.971788</td>\n",
       "      <td>-0.939837</td>\n",
       "      <td>...</td>\n",
       "      <td>-0.613367</td>\n",
       "      <td>-0.022456</td>\n",
       "      <td>-0.155414</td>\n",
       "      <td>0.247498</td>\n",
       "      <td>-0.112257</td>\n",
       "      <td>-0.826816</td>\n",
       "      <td>0.184489</td>\n",
       "      <td>-0.068699</td>\n",
       "      <td>15</td>\n",
       "      <td>STANDING</td>\n",
       "    </tr>\n",
       "    <tr>\n",
       "      <th>2</th>\n",
       "      <td>0.305833</td>\n",
       "      <td>-0.041023</td>\n",
       "      <td>-0.087303</td>\n",
       "      <td>0.006880</td>\n",
       "      <td>0.182800</td>\n",
       "      <td>-0.237984</td>\n",
       "      <td>0.005642</td>\n",
       "      <td>0.028616</td>\n",
       "      <td>-0.236474</td>\n",
       "      <td>0.016311</td>\n",
       "      <td>...</td>\n",
       "      <td>0.394388</td>\n",
       "      <td>-0.362616</td>\n",
       "      <td>0.171069</td>\n",
       "      <td>0.576349</td>\n",
       "      <td>-0.688314</td>\n",
       "      <td>-0.743234</td>\n",
       "      <td>0.272186</td>\n",
       "      <td>0.053101</td>\n",
       "      <td>22</td>\n",
       "      <td>WALKING</td>\n",
       "    </tr>\n",
       "    <tr>\n",
       "      <th>3</th>\n",
       "      <td>0.276053</td>\n",
       "      <td>-0.016487</td>\n",
       "      <td>-0.108381</td>\n",
       "      <td>-0.995379</td>\n",
       "      <td>-0.983978</td>\n",
       "      <td>-0.975854</td>\n",
       "      <td>-0.995877</td>\n",
       "      <td>-0.985280</td>\n",
       "      <td>-0.974907</td>\n",
       "      <td>-0.941425</td>\n",
       "      <td>...</td>\n",
       "      <td>-0.841455</td>\n",
       "      <td>0.289548</td>\n",
       "      <td>0.079801</td>\n",
       "      <td>-0.020033</td>\n",
       "      <td>0.291898</td>\n",
       "      <td>-0.639435</td>\n",
       "      <td>-0.111998</td>\n",
       "      <td>-0.123298</td>\n",
       "      <td>8</td>\n",
       "      <td>SITTING</td>\n",
       "    </tr>\n",
       "    <tr>\n",
       "      <th>4</th>\n",
       "      <td>0.271998</td>\n",
       "      <td>0.016904</td>\n",
       "      <td>-0.078856</td>\n",
       "      <td>-0.973468</td>\n",
       "      <td>-0.702462</td>\n",
       "      <td>-0.869450</td>\n",
       "      <td>-0.979810</td>\n",
       "      <td>-0.711601</td>\n",
       "      <td>-0.856807</td>\n",
       "      <td>-0.920760</td>\n",
       "      <td>...</td>\n",
       "      <td>0.214219</td>\n",
       "      <td>0.010111</td>\n",
       "      <td>0.114179</td>\n",
       "      <td>-0.830776</td>\n",
       "      <td>-0.325098</td>\n",
       "      <td>-0.840817</td>\n",
       "      <td>0.116237</td>\n",
       "      <td>-0.096615</td>\n",
       "      <td>5</td>\n",
       "      <td>STANDING</td>\n",
       "    </tr>\n",
       "  </tbody>\n",
       "</table>\n",
       "<p>5 rows × 563 columns</p>\n",
       "</div>"
      ],
      "text/plain": [
       "   tBodyAcc-mean()-X  tBodyAcc-mean()-Y  tBodyAcc-mean()-Z  tBodyAcc-std()-X  \\\n",
       "0           0.284379          -0.021981          -0.116683         -0.992490   \n",
       "1           0.277440          -0.028086          -0.118412         -0.996620   \n",
       "2           0.305833          -0.041023          -0.087303          0.006880   \n",
       "3           0.276053          -0.016487          -0.108381         -0.995379   \n",
       "4           0.271998           0.016904          -0.078856         -0.973468   \n",
       "\n",
       "   tBodyAcc-std()-Y  tBodyAcc-std()-Z  tBodyAcc-mad()-X  tBodyAcc-mad()-Y  \\\n",
       "0         -0.979640         -0.963321         -0.992563         -0.977304   \n",
       "1         -0.927676         -0.972294         -0.997346         -0.931405   \n",
       "2          0.182800         -0.237984          0.005642          0.028616   \n",
       "3         -0.983978         -0.975854         -0.995877         -0.985280   \n",
       "4         -0.702462         -0.869450         -0.979810         -0.711601   \n",
       "\n",
       "   tBodyAcc-mad()-Z  tBodyAcc-max()-X  ...  fBodyBodyGyroJerkMag-kurtosis()  \\\n",
       "0         -0.958142         -0.938850  ...                        -0.850065   \n",
       "1         -0.971788         -0.939837  ...                        -0.613367   \n",
       "2         -0.236474          0.016311  ...                         0.394388   \n",
       "3         -0.974907         -0.941425  ...                        -0.841455   \n",
       "4         -0.856807         -0.920760  ...                         0.214219   \n",
       "\n",
       "   angle(tBodyAccMean,gravity)  angle(tBodyAccJerkMean),gravityMean)  \\\n",
       "0                    -0.018043                              0.092304   \n",
       "1                    -0.022456                             -0.155414   \n",
       "2                    -0.362616                              0.171069   \n",
       "3                     0.289548                              0.079801   \n",
       "4                     0.010111                              0.114179   \n",
       "\n",
       "   angle(tBodyGyroMean,gravityMean)  angle(tBodyGyroJerkMean,gravityMean)  \\\n",
       "0                          0.074220                             -0.714534   \n",
       "1                          0.247498                             -0.112257   \n",
       "2                          0.576349                             -0.688314   \n",
       "3                         -0.020033                              0.291898   \n",
       "4                         -0.830776                             -0.325098   \n",
       "\n",
       "   angle(X,gravityMean)  angle(Y,gravityMean)  angle(Z,gravityMean)  subject  \\\n",
       "0             -0.671943             -0.018351             -0.185733       22   \n",
       "1             -0.826816              0.184489             -0.068699       15   \n",
       "2             -0.743234              0.272186              0.053101       22   \n",
       "3             -0.639435             -0.111998             -0.123298        8   \n",
       "4             -0.840817              0.116237             -0.096615        5   \n",
       "\n",
       "   Activity  \n",
       "0   SITTING  \n",
       "1  STANDING  \n",
       "2   WALKING  \n",
       "3   SITTING  \n",
       "4  STANDING  \n",
       "\n",
       "[5 rows x 563 columns]"
      ]
     },
     "execution_count": 10,
     "metadata": {},
     "output_type": "execute_result"
    }
   ],
   "source": [
    "data_test.head()"
   ]
  },
  {
   "cell_type": "code",
   "execution_count": 11,
   "metadata": {
    "colab": {
     "base_uri": "https://localhost:8080/",
     "height": 438
    },
    "executionInfo": {
     "elapsed": 1352,
     "status": "ok",
     "timestamp": 1682561117791,
     "user": {
      "displayName": "허신 - Business Intelligence",
      "userId": "11511914061488776232"
     },
     "user_tz": -540
    },
    "id": "ajJ1qJkhpr3n",
    "outputId": "18e55573-f2ce-49cf-d6f6-a42e8c952766"
   },
   "outputs": [
    {
     "data": {
      "text/html": [
       "<div>\n",
       "<style scoped>\n",
       "    .dataframe tbody tr th:only-of-type {\n",
       "        vertical-align: middle;\n",
       "    }\n",
       "\n",
       "    .dataframe tbody tr th {\n",
       "        vertical-align: top;\n",
       "    }\n",
       "\n",
       "    .dataframe thead th {\n",
       "        text-align: right;\n",
       "    }\n",
       "</style>\n",
       "<table border=\"1\" class=\"dataframe\">\n",
       "  <thead>\n",
       "    <tr style=\"text-align: right;\">\n",
       "      <th></th>\n",
       "      <th>sensor</th>\n",
       "      <th>agg</th>\n",
       "      <th>axis</th>\n",
       "      <th>feature_name</th>\n",
       "    </tr>\n",
       "  </thead>\n",
       "  <tbody>\n",
       "    <tr>\n",
       "      <th>0</th>\n",
       "      <td>tBodyAcc</td>\n",
       "      <td>mean()</td>\n",
       "      <td>X</td>\n",
       "      <td>tBodyAcc-mean()-X</td>\n",
       "    </tr>\n",
       "    <tr>\n",
       "      <th>1</th>\n",
       "      <td>tBodyAcc</td>\n",
       "      <td>mean()</td>\n",
       "      <td>Y</td>\n",
       "      <td>tBodyAcc-mean()-Y</td>\n",
       "    </tr>\n",
       "    <tr>\n",
       "      <th>2</th>\n",
       "      <td>tBodyAcc</td>\n",
       "      <td>mean()</td>\n",
       "      <td>Z</td>\n",
       "      <td>tBodyAcc-mean()-Z</td>\n",
       "    </tr>\n",
       "    <tr>\n",
       "      <th>3</th>\n",
       "      <td>tBodyAcc</td>\n",
       "      <td>std()</td>\n",
       "      <td>X</td>\n",
       "      <td>tBodyAcc-std()-X</td>\n",
       "    </tr>\n",
       "    <tr>\n",
       "      <th>4</th>\n",
       "      <td>tBodyAcc</td>\n",
       "      <td>std()</td>\n",
       "      <td>Y</td>\n",
       "      <td>tBodyAcc-std()-Y</td>\n",
       "    </tr>\n",
       "  </tbody>\n",
       "</table>\n",
       "</div>"
      ],
      "text/plain": [
       "     sensor     agg axis       feature_name\n",
       "0  tBodyAcc  mean()    X  tBodyAcc-mean()-X\n",
       "1  tBodyAcc  mean()    Y  tBodyAcc-mean()-Y\n",
       "2  tBodyAcc  mean()    Z  tBodyAcc-mean()-Z\n",
       "3  tBodyAcc   std()    X   tBodyAcc-std()-X\n",
       "4  tBodyAcc   std()    Y   tBodyAcc-std()-Y"
      ]
     },
     "execution_count": 11,
     "metadata": {},
     "output_type": "execute_result"
    }
   ],
   "source": [
    "data_feature.head()"
   ]
  },
  {
   "cell_type": "code",
   "execution_count": 12,
   "metadata": {
    "colab": {
     "base_uri": "https://localhost:8080/"
    },
    "executionInfo": {
     "elapsed": 2,
     "status": "ok",
     "timestamp": 1682561117791,
     "user": {
      "displayName": "허신 - Business Intelligence",
      "userId": "11511914061488776232"
     },
     "user_tz": -540
    },
    "id": "Jn78I6JFpr3n",
    "outputId": "4616f4f1-7590-4a1e-cd47-753a79555e2d"
   },
   "outputs": [
    {
     "name": "stdout",
     "output_type": "stream",
     "text": [
      "<class 'pandas.core.frame.DataFrame'>\n",
      "RangeIndex: 5881 entries, 0 to 5880\n",
      "Columns: 563 entries, tBodyAcc-mean()-X to Activity\n",
      "dtypes: float64(561), int64(1), object(1)\n",
      "memory usage: 25.3+ MB\n"
     ]
    }
   ],
   "source": [
    "data_train.info()"
   ]
  },
  {
   "cell_type": "code",
   "execution_count": 13,
   "metadata": {},
   "outputs": [
    {
     "name": "stdout",
     "output_type": "stream",
     "text": [
      "<class 'pandas.core.frame.DataFrame'>\n",
      "RangeIndex: 1471 entries, 0 to 1470\n",
      "Columns: 563 entries, tBodyAcc-mean()-X to Activity\n",
      "dtypes: float64(561), int64(1), object(1)\n",
      "memory usage: 6.3+ MB\n"
     ]
    }
   ],
   "source": [
    "data_test.info()"
   ]
  },
  {
   "cell_type": "markdown",
   "metadata": {
    "id": "6U3UzQGZAS1o"
   },
   "source": [
    "## **2. 데이터 전처리**\n",
    "\n",
    "* 가변수화, 데이터 분할, NaN 확인 및 조치, 스케일링 등 필요한 전처리를 수행한다. \n"
   ]
  },
  {
   "cell_type": "markdown",
   "metadata": {
    "id": "ZecsiT_DAS1p"
   },
   "source": [
    "### (1) 데이터 분할1 : x, y"
   ]
  },
  {
   "cell_type": "markdown",
   "metadata": {
    "id": "H-DxzcJiJS4W"
   },
   "source": [
    "* 세부 요구사항\n",
    "    - x, y로 분할합니다."
   ]
  },
  {
   "cell_type": "code",
   "execution_count": 15,
   "metadata": {},
   "outputs": [],
   "source": [
    "target = 'Activity'"
   ]
  },
  {
   "cell_type": "code",
   "execution_count": 16,
   "metadata": {
    "id": "qVqd1JJ6Ajaj"
   },
   "outputs": [],
   "source": [
    "x = data_train.drop(target, axis=1)\n",
    "y = data_train.loc[:, target]"
   ]
  },
  {
   "cell_type": "markdown",
   "metadata": {
    "id": "A8hxVzM3Agvw"
   },
   "source": [
    "### (2) 스케일링(필요시)\n"
   ]
  },
  {
   "cell_type": "markdown",
   "metadata": {
    "id": "8OHAQJ9HJZP8"
   },
   "source": [
    "* 세부 요구사항\n",
    "    - 스케일링을 필요로 하는 알고리즘 사용을 위해서 코드 수행\n",
    "    - min-max 방식 혹은 standard 방식 중 한가지 사용."
   ]
  },
  {
   "cell_type": "code",
   "execution_count": 17,
   "metadata": {
    "id": "egLANGC5BMmk"
   },
   "outputs": [],
   "source": [
    "scaler = MinMaxScaler()\n",
    "x_s = scaler.fit_transform(x)"
   ]
  },
  {
   "cell_type": "markdown",
   "metadata": {
    "id": "MpZfnAa4BefE"
   },
   "source": [
    "### (3) 데이터분할2 : train, validation"
   ]
  },
  {
   "cell_type": "markdown",
   "metadata": {
    "id": "YOYncknxWg0E"
   },
   "source": [
    "* 세부 요구사항\n",
    "    - train : val = 8 : 2 혹은 7 : 3\n",
    "    - random_state 옵션을 사용하여 다른 모델과 비교를 위해 성능이 재현되도록 합니다."
   ]
  },
  {
   "cell_type": "code",
   "execution_count": 18,
   "metadata": {
    "id": "1AoCDDpdBeCT"
   },
   "outputs": [],
   "source": [
    "x_train, x_val, y_train, y_val = train_test_split(x, y, test_size = .2, random_state = 2024)\n",
    "x_train_s, x_val_s, y_train_s, y_val_s = train_test_split(x_s, y, test_size = .2, random_state = 2024)"
   ]
  },
  {
   "cell_type": "markdown",
   "metadata": {
    "id": "RfSZ5O4sBQf3"
   },
   "source": [
    "## **3. 기본 모델링**\n",
    "\n"
   ]
  },
  {
   "cell_type": "markdown",
   "metadata": {
    "id": "WAOal2RuWzNk"
   },
   "source": [
    "* 세부 요구사항\n",
    "    - 최소 4개 이상의 알고리즘을 적용하여 모델링을 수행한다. \n",
    "    - 각 알고리즘별로 전체 변수로 모델링, 상위 N개 변수를 선택하여 모델링을 수행하고 성능 비교를 한다."
   ]
  },
  {
   "cell_type": "markdown",
   "metadata": {
    "id": "6JKfabsMB-CK"
   },
   "source": [
    "### (1) Random Forest Classifier"
   ]
  },
  {
   "cell_type": "markdown",
   "metadata": {
    "id": "uXqs5N5nhwuf"
   },
   "source": [
    "#### 1) 전체 변수"
   ]
  },
  {
   "cell_type": "code",
   "execution_count": 19,
   "metadata": {
    "id": "l-A_tvrph5iF"
   },
   "outputs": [],
   "source": [
    "model_rf = RandomForestClassifier()"
   ]
  },
  {
   "cell_type": "code",
   "execution_count": 20,
   "metadata": {
    "colab": {
     "base_uri": "https://localhost:8080/"
    },
    "executionInfo": {
     "elapsed": 7,
     "status": "ok",
     "timestamp": 1682561146220,
     "user": {
      "displayName": "허신 - Business Intelligence",
      "userId": "11511914061488776232"
     },
     "user_tz": -540
    },
    "id": "uSkOi8jdh5fB",
    "outputId": "eb300c41-e388-4317-835b-aa96f1635cc8"
   },
   "outputs": [],
   "source": [
    "model_rf.fit(x_train, y_train)\n",
    "y_pred_1 = model_rf.predict(x_val)"
   ]
  },
  {
   "cell_type": "code",
   "execution_count": 21,
   "metadata": {
    "id": "H1VMtjwp3MuY"
   },
   "outputs": [
    {
     "name": "stdout",
     "output_type": "stream",
     "text": [
      "accuracy : 0.9830076465590484\n",
      "============================================================\n",
      "[[215   0   0   0   0   0]\n",
      " [  0 206   6   0   0   0]\n",
      " [  0   6 204   0   0   0]\n",
      " [  0   0   0 193   2   0]\n",
      " [  0   0   0   1 152   1]\n",
      " [  0   0   0   0   4 187]]\n",
      "============================================================\n",
      "                    precision    recall  f1-score   support\n",
      "\n",
      "            LAYING       1.00      1.00      1.00       215\n",
      "           SITTING       0.97      0.97      0.97       212\n",
      "          STANDING       0.97      0.97      0.97       210\n",
      "           WALKING       0.99      0.99      0.99       195\n",
      "WALKING_DOWNSTAIRS       0.96      0.99      0.97       154\n",
      "  WALKING_UPSTAIRS       0.99      0.98      0.99       191\n",
      "\n",
      "          accuracy                           0.98      1177\n",
      "         macro avg       0.98      0.98      0.98      1177\n",
      "      weighted avg       0.98      0.98      0.98      1177\n",
      "\n"
     ]
    }
   ],
   "source": [
    "print('accuracy :',accuracy_score(y_val, y_pred_1))\n",
    "print('='*60)\n",
    "print(confusion_matrix(y_val, y_pred_1))\n",
    "print('='*60)\n",
    "print(classification_report(y_val, y_pred_1))"
   ]
  },
  {
   "cell_type": "code",
   "execution_count": 23,
   "metadata": {},
   "outputs": [],
   "source": [
    "r = plot_feature_importance(model_rf.feature_importances_, list(x_train), True)"
   ]
  },
  {
   "cell_type": "code",
   "execution_count": 24,
   "metadata": {},
   "outputs": [
    {
     "data": {
      "text/html": [
       "<div>\n",
       "<style scoped>\n",
       "    .dataframe tbody tr th:only-of-type {\n",
       "        vertical-align: middle;\n",
       "    }\n",
       "\n",
       "    .dataframe tbody tr th {\n",
       "        vertical-align: top;\n",
       "    }\n",
       "\n",
       "    .dataframe thead th {\n",
       "        text-align: right;\n",
       "    }\n",
       "</style>\n",
       "<table border=\"1\" class=\"dataframe\">\n",
       "  <thead>\n",
       "    <tr style=\"text-align: right;\">\n",
       "      <th></th>\n",
       "      <th>feature_name</th>\n",
       "      <th>feature_importance</th>\n",
       "    </tr>\n",
       "  </thead>\n",
       "  <tbody>\n",
       "    <tr>\n",
       "      <th>0</th>\n",
       "      <td>tGravityAcc-mean()-X</td>\n",
       "      <td>0.036921</td>\n",
       "    </tr>\n",
       "    <tr>\n",
       "      <th>1</th>\n",
       "      <td>tGravityAcc-energy()-X</td>\n",
       "      <td>0.034297</td>\n",
       "    </tr>\n",
       "    <tr>\n",
       "      <th>2</th>\n",
       "      <td>angle(X,gravityMean)</td>\n",
       "      <td>0.029901</td>\n",
       "    </tr>\n",
       "    <tr>\n",
       "      <th>3</th>\n",
       "      <td>tGravityAcc-mean()-Y</td>\n",
       "      <td>0.028150</td>\n",
       "    </tr>\n",
       "    <tr>\n",
       "      <th>4</th>\n",
       "      <td>tGravityAcc-max()-Y</td>\n",
       "      <td>0.025874</td>\n",
       "    </tr>\n",
       "  </tbody>\n",
       "</table>\n",
       "</div>"
      ],
      "text/plain": [
       "             feature_name  feature_importance\n",
       "0    tGravityAcc-mean()-X            0.036921\n",
       "1  tGravityAcc-energy()-X            0.034297\n",
       "2    angle(X,gravityMean)            0.029901\n",
       "3    tGravityAcc-mean()-Y            0.028150\n",
       "4     tGravityAcc-max()-Y            0.025874"
      ]
     },
     "execution_count": 24,
     "metadata": {},
     "output_type": "execute_result"
    }
   ],
   "source": [
    "r.head()"
   ]
  },
  {
   "cell_type": "markdown",
   "metadata": {
    "id": "gqvumLnih6Vo"
   },
   "source": [
    "#### 2) (옵션)적절히 선택한 변수\n",
    "* 변수 중요도 상위 100로 결정해서 모델링 해보기\n",
    "* 변수 중요도 상위 1 ~ 400 까지 변수를 하나씩 늘려가며 모델링 및 성능 비교"
   ]
  },
  {
   "cell_type": "code",
   "execution_count": 25,
   "metadata": {
    "id": "jb2mGrrdh8cs"
   },
   "outputs": [],
   "source": [
    "feature100 = r.loc[:99, 'feature_name']"
   ]
  },
  {
   "cell_type": "code",
   "execution_count": 26,
   "metadata": {
    "id": "ELbLzhyliHt0"
   },
   "outputs": [],
   "source": [
    "x_train100 = x_train[feature100]\n",
    "x_val100 = x_val[feature100]"
   ]
  },
  {
   "cell_type": "code",
   "execution_count": 27,
   "metadata": {
    "id": "rl4hYaEo4CjT"
   },
   "outputs": [],
   "source": [
    "model_rf_2 = RandomForestClassifier()\n",
    "\n",
    "model_rf_2.fit(x_train100, y_train)\n",
    "y_pred_2 = model_rf_2.predict(x_val100)"
   ]
  },
  {
   "cell_type": "code",
   "execution_count": 28,
   "metadata": {
    "colab": {
     "base_uri": "https://localhost:8080/"
    },
    "executionInfo": {
     "elapsed": 420,
     "status": "ok",
     "timestamp": 1682561174668,
     "user": {
      "displayName": "허신 - Business Intelligence",
      "userId": "11511914061488776232"
     },
     "user_tz": -540
    },
    "id": "CL_TpEkF4CjT",
    "outputId": "b7770183-76c2-4533-9fe3-7db75ed3ad4a"
   },
   "outputs": [
    {
     "name": "stdout",
     "output_type": "stream",
     "text": [
      "accuracy : 0.9804587935429057\n",
      "============================================================\n",
      "[[215   0   0   0   0   0]\n",
      " [  0 205   7   0   0   0]\n",
      " [  0   7 203   0   0   0]\n",
      " [  0   0   0 193   2   0]\n",
      " [  0   0   0   1 152   1]\n",
      " [  0   0   0   0   5 186]]\n",
      "============================================================\n",
      "                    precision    recall  f1-score   support\n",
      "\n",
      "            LAYING       1.00      1.00      1.00       215\n",
      "           SITTING       0.97      0.97      0.97       212\n",
      "          STANDING       0.97      0.97      0.97       210\n",
      "           WALKING       0.99      0.99      0.99       195\n",
      "WALKING_DOWNSTAIRS       0.96      0.99      0.97       154\n",
      "  WALKING_UPSTAIRS       0.99      0.97      0.98       191\n",
      "\n",
      "          accuracy                           0.98      1177\n",
      "         macro avg       0.98      0.98      0.98      1177\n",
      "      weighted avg       0.98      0.98      0.98      1177\n",
      "\n"
     ]
    }
   ],
   "source": [
    "print('accuracy :',accuracy_score(y_val, y_pred_2))\n",
    "print('='*60)\n",
    "print(confusion_matrix(y_val, y_pred_2))\n",
    "print('='*60)\n",
    "print(classification_report(y_val, y_pred_2))"
   ]
  },
  {
   "cell_type": "markdown",
   "metadata": {
    "id": "Dv032yXQ4SCj"
   },
   "source": [
    "* 가장 중요한 변수부터 하나씩 증가시켜가며 모델링 및 accuracy 구하기"
   ]
  },
  {
   "cell_type": "code",
   "execution_count": 31,
   "metadata": {
    "colab": {
     "base_uri": "https://localhost:8080/"
    },
    "executionInfo": {
     "elapsed": 538460,
     "status": "ok",
     "timestamp": 1682561716338,
     "user": {
      "displayName": "허신 - Business Intelligence",
      "userId": "11511914061488776232"
     },
     "user_tz": -540
    },
    "id": "ys3xhg8m4R2t",
    "outputId": "4f92a2ce-3cd4-40e9-cb54-80fc068133e6"
   },
   "outputs": [
    {
     "name": "stdout",
     "output_type": "stream",
     "text": [
      "0\n",
      "1\n",
      "2\n",
      "3\n",
      "4\n",
      "5\n",
      "6\n",
      "7\n",
      "8\n",
      "9\n",
      "10\n",
      "11\n",
      "12\n",
      "13\n",
      "14\n",
      "15\n",
      "16\n",
      "17\n",
      "18\n",
      "19\n",
      "20\n",
      "21\n",
      "22\n",
      "23\n",
      "24\n",
      "25\n",
      "26\n",
      "27\n",
      "28\n",
      "29\n",
      "30\n",
      "31\n",
      "32\n",
      "33\n",
      "34\n",
      "35\n",
      "36\n",
      "37\n",
      "38\n",
      "39\n",
      "40\n",
      "41\n",
      "42\n",
      "43\n",
      "44\n",
      "45\n",
      "46\n",
      "47\n",
      "48\n",
      "49\n",
      "50\n",
      "51\n",
      "52\n",
      "53\n",
      "54\n",
      "55\n",
      "56\n",
      "57\n",
      "58\n",
      "59\n",
      "60\n",
      "61\n",
      "62\n",
      "63\n",
      "64\n",
      "65\n",
      "66\n",
      "67\n",
      "68\n",
      "69\n",
      "70\n",
      "71\n",
      "72\n",
      "73\n",
      "74\n",
      "75\n",
      "76\n",
      "77\n",
      "78\n",
      "79\n",
      "80\n",
      "81\n",
      "82\n",
      "83\n",
      "84\n",
      "85\n",
      "86\n",
      "87\n",
      "88\n",
      "89\n",
      "90\n",
      "91\n",
      "92\n",
      "93\n",
      "94\n",
      "95\n",
      "96\n",
      "97\n",
      "98\n",
      "99\n",
      "100\n",
      "101\n",
      "102\n",
      "103\n",
      "104\n",
      "105\n",
      "106\n",
      "107\n",
      "108\n",
      "109\n",
      "110\n",
      "111\n",
      "112\n",
      "113\n",
      "114\n",
      "115\n",
      "116\n",
      "117\n",
      "118\n",
      "119\n",
      "120\n",
      "121\n",
      "122\n",
      "123\n",
      "124\n",
      "125\n",
      "126\n",
      "127\n",
      "128\n",
      "129\n",
      "130\n",
      "131\n",
      "132\n",
      "133\n",
      "134\n",
      "135\n",
      "136\n",
      "137\n",
      "138\n",
      "139\n",
      "140\n",
      "141\n",
      "142\n",
      "143\n",
      "144\n",
      "145\n",
      "146\n",
      "147\n",
      "148\n",
      "149\n",
      "150\n",
      "151\n",
      "152\n",
      "153\n",
      "154\n",
      "155\n",
      "156\n",
      "157\n",
      "158\n",
      "159\n",
      "160\n",
      "161\n",
      "162\n",
      "163\n",
      "164\n",
      "165\n",
      "166\n",
      "167\n",
      "168\n",
      "169\n",
      "170\n",
      "171\n",
      "172\n",
      "173\n",
      "174\n",
      "175\n",
      "176\n",
      "177\n",
      "178\n",
      "179\n",
      "180\n",
      "181\n",
      "182\n",
      "183\n",
      "184\n",
      "185\n",
      "186\n",
      "187\n",
      "188\n",
      "189\n",
      "190\n",
      "191\n",
      "192\n",
      "193\n",
      "194\n",
      "195\n",
      "196\n",
      "197\n",
      "198\n",
      "199\n"
     ]
    }
   ],
   "source": [
    "acc = []\n",
    "\n",
    "for i in range(200) :   # 전체 변수는 561이지만, 200 정도면 충분\n",
    "    featureN = r.loc[:i, 'feature_name']\n",
    "    x_trainN = x_train[featureN]\n",
    "    x_valN = x_val[featureN]\n",
    "    m = RandomForestClassifier()\n",
    "    m.fit(x_trainN, y_train)\n",
    "    p = m.predict(x_valN)\n",
    "    acc.append(accuracy_score(y_val, p))\n",
    "    print(i)"
   ]
  },
  {
   "cell_type": "code",
   "execution_count": 32,
   "metadata": {
    "colab": {
     "base_uri": "https://localhost:8080/",
     "height": 867
    },
    "executionInfo": {
     "elapsed": 786,
     "status": "ok",
     "timestamp": 1682561809619,
     "user": {
      "displayName": "허신 - Business Intelligence",
      "userId": "11511914061488776232"
     },
     "user_tz": -540
    },
    "id": "mPZZlsxniHqi",
    "outputId": "f9930ca6-f299-418c-a51c-63714bc9deff"
   },
   "outputs": [
    {
     "data": {
      "image/png": "[encoded data removed]",
      "text/plain": [
       "<Figure size 2000x1200 with 1 Axes>"
      ]
     },
     "metadata": {},
     "output_type": "display_data"
    }
   ],
   "source": [
    "plt.figure(figsize = (20,12))\n",
    "plt.plot(range(200), acc, marker = '.')\n",
    "plt.grid()\n",
    "plt.show()"
   ]
  },
  {
   "cell_type": "markdown",
   "metadata": {
    "id": "kvWLARl652_G"
   },
   "source": [
    "* 적절한 지점의 성능에 맞춰 변수 선택 : ==> 30~50개 정도면 충분!"
   ]
  },
  {
   "cell_type": "code",
   "execution_count": 33,
   "metadata": {
    "id": "iHjSRLU0BD62"
   },
   "outputs": [],
   "source": [
    "feature50 = r.loc[:49, 'feature_name']\n",
    "x_train50 = x_train[feature50]\n",
    "x_val50 = x_val[feature50]"
   ]
  },
  {
   "cell_type": "code",
   "execution_count": 34,
   "metadata": {
    "id": "0dHJihO6BD62"
   },
   "outputs": [],
   "source": [
    "model_rf_2 = RandomForestClassifier()\n",
    "model_rf_2.fit(x_train50, y_train)\n",
    "y_pred_2 = model_rf_2.predict(x_val50)"
   ]
  },
  {
   "cell_type": "code",
   "execution_count": 35,
   "metadata": {
    "colab": {
     "base_uri": "https://localhost:8080/"
    },
    "executionInfo": {
     "elapsed": 937,
     "status": "ok",
     "timestamp": 1682561823944,
     "user": {
      "displayName": "허신 - Business Intelligence",
      "userId": "11511914061488776232"
     },
     "user_tz": -540
    },
    "id": "s-2Tbz6UBD63",
    "outputId": "5d0c4eb2-5e24-4fc5-8a81-fd2ac81c290e"
   },
   "outputs": [
    {
     "name": "stdout",
     "output_type": "stream",
     "text": [
      "accuracy : 0.9779099405267629\n",
      "============================================================\n",
      "[[215   0   0   0   0   0]\n",
      " [  0 205   7   0   0   0]\n",
      " [  0  12 198   0   0   0]\n",
      " [  0   0   0 191   3   1]\n",
      " [  0   0   0   0 153   1]\n",
      " [  0   0   0   0   2 189]]\n",
      "============================================================\n",
      "                    precision    recall  f1-score   support\n",
      "\n",
      "            LAYING       1.00      1.00      1.00       215\n",
      "           SITTING       0.94      0.97      0.96       212\n",
      "          STANDING       0.97      0.94      0.95       210\n",
      "           WALKING       1.00      0.98      0.99       195\n",
      "WALKING_DOWNSTAIRS       0.97      0.99      0.98       154\n",
      "  WALKING_UPSTAIRS       0.99      0.99      0.99       191\n",
      "\n",
      "          accuracy                           0.98      1177\n",
      "         macro avg       0.98      0.98      0.98      1177\n",
      "      weighted avg       0.98      0.98      0.98      1177\n",
      "\n"
     ]
    }
   ],
   "source": [
    "print('accuracy :',accuracy_score(y_val, y_pred_2))\n",
    "print('='*60)\n",
    "print(confusion_matrix(y_val, y_pred_2))\n",
    "print('='*60)\n",
    "print(classification_report(y_val, y_pred_2))"
   ]
  },
  {
   "cell_type": "markdown",
   "metadata": {
    "id": "rFv7rDSQCDg0"
   },
   "source": [
    "### (2) Logistic Regressin"
   ]
  },
  {
   "cell_type": "markdown",
   "metadata": {
    "id": "5k_uEWwWDbbI"
   },
   "source": [
    "#### 1) 전체 변수"
   ]
  },
  {
   "cell_type": "code",
   "execution_count": 47,
   "metadata": {},
   "outputs": [
    {
     "name": "stderr",
     "output_type": "stream",
     "text": [
      "C:\\Users\\User\\anaconda3\\Lib\\site-packages\\sklearn\\linear_model\\_logistic.py:460: ConvergenceWarning: lbfgs failed to converge (status=1):\n",
      "STOP: TOTAL NO. of ITERATIONS REACHED LIMIT.\n",
      "\n",
      "Increase the number of iterations (max_iter) or scale the data as shown in:\n",
      "    https://scikit-learn.org/stable/modules/preprocessing.html\n",
      "Please also refer to the documentation for alternative solver options:\n",
      "    https://scikit-learn.org/stable/modules/linear_model.html#logistic-regression\n",
      "  n_iter_i = _check_optimize_result(\n"
     ]
    }
   ],
   "source": [
    "model_lr = LogisticRegression()\n",
    "model_lr.fit(x_train, y_train)\n",
    "y_pred_2 = model_lr.predict(x_val)"
   ]
  },
  {
   "cell_type": "code",
   "execution_count": 49,
   "metadata": {
    "colab": {
     "base_uri": "https://localhost:8080/"
    },
    "executionInfo": {
     "elapsed": 5,
     "status": "ok",
     "timestamp": 1682561832404,
     "user": {
      "displayName": "허신 - Business Intelligence",
      "userId": "11511914061488776232"
     },
     "user_tz": -540
    },
    "id": "5T_YZRqKDbbJ",
    "outputId": "a943b47e-cc42-4e30-f7d6-ec2707af38cb"
   },
   "outputs": [
    {
     "name": "stdout",
     "output_type": "stream",
     "text": [
      "accuracy : 0.9779099405267629\n",
      "============================================================\n",
      "[[215   0   0   0   0   0]\n",
      " [  0 200  12   0   0   0]\n",
      " [  0  12 197   1   0   0]\n",
      " [  0   0   0 195   0   0]\n",
      " [  0   0   0   1 153   0]\n",
      " [  0   0   0   0   0 191]]\n",
      "============================================================\n",
      "                    precision    recall  f1-score   support\n",
      "\n",
      "            LAYING       1.00      1.00      1.00       215\n",
      "           SITTING       0.94      0.94      0.94       212\n",
      "          STANDING       0.94      0.94      0.94       210\n",
      "           WALKING       0.99      1.00      0.99       195\n",
      "WALKING_DOWNSTAIRS       1.00      0.99      1.00       154\n",
      "  WALKING_UPSTAIRS       1.00      1.00      1.00       191\n",
      "\n",
      "          accuracy                           0.98      1177\n",
      "         macro avg       0.98      0.98      0.98      1177\n",
      "      weighted avg       0.98      0.98      0.98      1177\n",
      "\n"
     ]
    }
   ],
   "source": [
    "print('accuracy :',accuracy_score(y_val, y_pred_2))\n",
    "print('='*60)\n",
    "print(confusion_matrix(y_val, y_pred_2))\n",
    "print('='*60)\n",
    "print(classification_report(y_val, y_pred_2))"
   ]
  },
  {
   "cell_type": "markdown",
   "metadata": {
    "id": "PbyAyPliDbbK"
   },
   "source": [
    "#### 2) (옵션)적절히 선택한 변수\n",
    "* 변수 중요도 상위 100로 모델링 해보기"
   ]
  },
  {
   "cell_type": "code",
   "execution_count": 50,
   "metadata": {
    "id": "2IyNBj2FEHq4"
   },
   "outputs": [],
   "source": [
    "feature100 = r.loc[:99, 'feature_name']"
   ]
  },
  {
   "cell_type": "code",
   "execution_count": 51,
   "metadata": {
    "id": "bd5VqooeEHq5"
   },
   "outputs": [],
   "source": [
    "x_train100 = x_train[feature100]\n",
    "x_val100 = x_val[feature100]"
   ]
  },
  {
   "cell_type": "code",
   "execution_count": 52,
   "metadata": {
    "colab": {
     "base_uri": "https://localhost:8080/"
    },
    "executionInfo": {
     "elapsed": 1050,
     "status": "ok",
     "timestamp": 1682561833452,
     "user": {
      "displayName": "허신 - Business Intelligence",
      "userId": "11511914061488776232"
     },
     "user_tz": -540
    },
    "id": "xslLibh3EHq5",
    "outputId": "d90969a2-3541-4a82-8a2e-85b934d1e866"
   },
   "outputs": [
    {
     "name": "stderr",
     "output_type": "stream",
     "text": [
      "C:\\Users\\User\\anaconda3\\Lib\\site-packages\\sklearn\\linear_model\\_logistic.py:460: ConvergenceWarning: lbfgs failed to converge (status=1):\n",
      "STOP: TOTAL NO. of ITERATIONS REACHED LIMIT.\n",
      "\n",
      "Increase the number of iterations (max_iter) or scale the data as shown in:\n",
      "    https://scikit-learn.org/stable/modules/preprocessing.html\n",
      "Please also refer to the documentation for alternative solver options:\n",
      "    https://scikit-learn.org/stable/modules/linear_model.html#logistic-regression\n",
      "  n_iter_i = _check_optimize_result(\n"
     ]
    }
   ],
   "source": [
    "model_lr2 = LogisticRegression()\n",
    "model_lr2.fit(x_train100, y_train)\n",
    "y_pred3 = model_lr2.predict(x_val100)"
   ]
  },
  {
   "cell_type": "code",
   "execution_count": 53,
   "metadata": {
    "colab": {
     "base_uri": "https://localhost:8080/"
    },
    "executionInfo": {
     "elapsed": 4,
     "status": "ok",
     "timestamp": 1682561833452,
     "user": {
      "displayName": "허신 - Business Intelligence",
      "userId": "11511914061488776232"
     },
     "user_tz": -540
    },
    "id": "ErKJFBwAEHq5",
    "outputId": "d9ac0dea-30ec-4f19-ab45-5d6fa78c00c3"
   },
   "outputs": [
    {
     "name": "stdout",
     "output_type": "stream",
     "text": [
      "accuracy: 0.9702633814783348\n",
      "============================================================\n",
      "[[215   0   0   0   0   0]\n",
      " [  0 199  13   0   0   0]\n",
      " [  0  16 194   0   0   0]\n",
      " [  0   0   0 195   0   0]\n",
      " [  0   0   0   2 150   2]\n",
      " [  0   0   0   2   0 189]]\n",
      "============================================================\n",
      "                    precision    recall  f1-score   support\n",
      "\n",
      "            LAYING       1.00      1.00      1.00       215\n",
      "           SITTING       0.93      0.94      0.93       212\n",
      "          STANDING       0.94      0.92      0.93       210\n",
      "           WALKING       0.98      1.00      0.99       195\n",
      "WALKING_DOWNSTAIRS       1.00      0.97      0.99       154\n",
      "  WALKING_UPSTAIRS       0.99      0.99      0.99       191\n",
      "\n",
      "          accuracy                           0.97      1177\n",
      "         macro avg       0.97      0.97      0.97      1177\n",
      "      weighted avg       0.97      0.97      0.97      1177\n",
      "\n"
     ]
    }
   ],
   "source": [
    "print('accuracy:',accuracy_score(y_val, y_pred3))\n",
    "print('='*60)\n",
    "print(confusion_matrix(y_val, y_pred3))\n",
    "print('='*60)\n",
    "print(classification_report(y_val, y_pred3))"
   ]
  },
  {
   "cell_type": "markdown",
   "metadata": {
    "id": "W8izzKzVhXbb"
   },
   "source": [
    "### (3) SVM"
   ]
  },
  {
   "cell_type": "markdown",
   "metadata": {
    "id": "zHQOqBq1yIB0"
   },
   "source": [
    "#### 1) kernel = 'rbf'"
   ]
  },
  {
   "cell_type": "code",
   "execution_count": 55,
   "metadata": {
    "id": "FltUtKYByKHL"
   },
   "outputs": [],
   "source": [
    "#매개변수 C, gamma, kernel 모두 기본값\n",
    "model_svm = SVC(C=1, gamma=0.01, kernel='rbf', random_state=2024)\n",
    "model_svm.fit(x_train, y_train)\n",
    "y_pred_svm = model_svm.predict(x_val)"
   ]
  },
  {
   "cell_type": "code",
   "execution_count": 56,
   "metadata": {
    "colab": {
     "base_uri": "https://localhost:8080/"
    },
    "executionInfo": {
     "elapsed": 3,
     "status": "ok",
     "timestamp": 1682561879396,
     "user": {
      "displayName": "허신 - Business Intelligence",
      "userId": "11511914061488776232"
     },
     "user_tz": -540
    },
    "id": "ztD4_svL0qt9",
    "outputId": "1b1fc1d7-298a-4e1f-bdc9-00384421970e"
   },
   "outputs": [
    {
     "name": "stdout",
     "output_type": "stream",
     "text": [
      "accuracy : 0.9745114698385726\n",
      "============================================================\n",
      "[[215   0   0   0   0   0]\n",
      " [  0 198  14   0   0   0]\n",
      " [  0  16 194   0   0   0]\n",
      " [  0   0   0 195   0   0]\n",
      " [  0   0   0   0 154   0]\n",
      " [  0   0   0   0   0 191]]\n",
      "============================================================\n",
      "                    precision    recall  f1-score   support\n",
      "\n",
      "            LAYING       1.00      1.00      1.00       215\n",
      "           SITTING       0.93      0.93      0.93       212\n",
      "          STANDING       0.93      0.92      0.93       210\n",
      "           WALKING       1.00      1.00      1.00       195\n",
      "WALKING_DOWNSTAIRS       1.00      1.00      1.00       154\n",
      "  WALKING_UPSTAIRS       1.00      1.00      1.00       191\n",
      "\n",
      "          accuracy                           0.97      1177\n",
      "         macro avg       0.98      0.98      0.98      1177\n",
      "      weighted avg       0.97      0.97      0.97      1177\n",
      "\n"
     ]
    }
   ],
   "source": [
    "print('accuracy :',accuracy_score(y_val, y_pred_svm))\n",
    "print('='*60)\n",
    "print(confusion_matrix(y_val, y_pred_svm))\n",
    "print('='*60)\n",
    "print(classification_report(y_val, y_pred_svm))"
   ]
  },
  {
   "cell_type": "markdown",
   "metadata": {
    "id": "C9ZFlqdIVlVA"
   },
   "source": [
    "#### 2) kernel = 'linear'"
   ]
  },
  {
   "cell_type": "code",
   "execution_count": 57,
   "metadata": {
    "id": "ldiZxnfhVkdt"
   },
   "outputs": [],
   "source": [
    "#매개변수 C, gamma, kernel 모두 기본값\n",
    "model_svm = SVC(C=1, gamma=0.01, kernel='linear', random_state=2024)\n",
    "model_svm.fit(x_train, y_train)\n",
    "y_pred_svm = model_svm.predict(x_val)"
   ]
  },
  {
   "cell_type": "code",
   "execution_count": 58,
   "metadata": {
    "colab": {
     "base_uri": "https://localhost:8080/"
    },
    "executionInfo": {
     "elapsed": 2,
     "status": "ok",
     "timestamp": 1682561880740,
     "user": {
      "displayName": "허신 - Business Intelligence",
      "userId": "11511914061488776232"
     },
     "user_tz": -540
    },
    "id": "Np6GfyQMVtK2",
    "outputId": "96254bc7-f63e-4d66-cc8c-268402442450"
   },
   "outputs": [
    {
     "name": "stdout",
     "output_type": "stream",
     "text": [
      "accuracy : 0.9864061172472387\n",
      "============================================================\n",
      "[[215   0   0   0   0   0]\n",
      " [  0 203   9   0   0   0]\n",
      " [  0   7 203   0   0   0]\n",
      " [  0   0   0 195   0   0]\n",
      " [  0   0   0   0 154   0]\n",
      " [  0   0   0   0   0 191]]\n",
      "============================================================\n",
      "                    precision    recall  f1-score   support\n",
      "\n",
      "            LAYING       1.00      1.00      1.00       215\n",
      "           SITTING       0.97      0.96      0.96       212\n",
      "          STANDING       0.96      0.97      0.96       210\n",
      "           WALKING       1.00      1.00      1.00       195\n",
      "WALKING_DOWNSTAIRS       1.00      1.00      1.00       154\n",
      "  WALKING_UPSTAIRS       1.00      1.00      1.00       191\n",
      "\n",
      "          accuracy                           0.99      1177\n",
      "         macro avg       0.99      0.99      0.99      1177\n",
      "      weighted avg       0.99      0.99      0.99      1177\n",
      "\n"
     ]
    }
   ],
   "source": [
    "print('accuracy :',accuracy_score(y_val, y_pred_svm))\n",
    "print('='*60)\n",
    "print(confusion_matrix(y_val, y_pred_svm))\n",
    "print('='*60)\n",
    "print(classification_report(y_val, y_pred_svm))"
   ]
  },
  {
   "cell_type": "markdown",
   "metadata": {
    "id": "88xqPonK80kn"
   },
   "source": [
    "#### 3) 하이퍼파라미터 튜닝"
   ]
  },
  {
   "cell_type": "markdown",
   "metadata": {
    "id": "JjZr73NXydyN"
   },
   "source": [
    "* test 전체 수행하기(12 ~ 15분 소요)"
   ]
  },
  {
   "cell_type": "code",
   "execution_count": 60,
   "metadata": {
    "id": "XatQ3FaUHqWT"
   },
   "outputs": [],
   "source": [
    "# 딕셔너리 형태로 관심있는 매개변수의 그리드 설정하기\n",
    "param_grid = {'C': [0.01, 1, 100],\n",
    "             'gamma': [0.0001, 0.001, 0.1, 1],\n",
    "              'kernel': ['linear', 'rbf'] }\n",
    "\n",
    "#생성\n",
    "# refit=True 가 default 임. True이면 가장 좋은 파라미터 설정으로 재학습시킴. \n",
    "model_svc = SVC() \n",
    "model3= GridSearchCV (model_svc, param_grid, return_train_score=True) #cross-validation 옵션 추가? cv=5\n",
    "\n",
    "#학습\n",
    "# train data로 param_grid의 하이퍼 파라미터들을 순차적으로 학습/평가 .\n",
    "model3.fit(x_train, y_train)\n",
    "\n",
    "#결과\n",
    "# GridSearchCV 결과 추출하여 DataFrame으로 변환\n",
    "scores_df = pd.DataFrame(model3.cv_results_)"
   ]
  },
  {
   "cell_type": "code",
   "execution_count": 61,
   "metadata": {
    "colab": {
     "base_uri": "https://localhost:8080/"
    },
    "executionInfo": {
     "elapsed": 569,
     "status": "ok",
     "timestamp": 1682562662095,
     "user": {
      "displayName": "허신 - Business Intelligence",
      "userId": "11511914061488776232"
     },
     "user_tz": -540
    },
    "id": "419G5Gu6I4Ro",
    "outputId": "17aeff61-3273-4219-f431-7d1efe0bea01"
   },
   "outputs": [
    {
     "name": "stdout",
     "output_type": "stream",
     "text": [
      "최적파라미터: {'C': 100, 'gamma': 0.001, 'kernel': 'rbf'}\n",
      "============================================================\n",
      "최고성능: 0.9851176882899587\n",
      "============================================================\n"
     ]
    }
   ],
   "source": [
    "print('최적파라미터:', model3.best_params_)\n",
    "print('='*60)\n",
    "print('최고성능:', model3.best_score_)\n",
    "print('='*60)"
   ]
  },
  {
   "cell_type": "markdown",
   "metadata": {
    "id": "yWg-KMDn9bix"
   },
   "source": [
    "* 예측 및 평가"
   ]
  },
  {
   "cell_type": "code",
   "execution_count": 63,
   "metadata": {
    "id": "2rIjmejk9Y7t"
   },
   "outputs": [],
   "source": [
    "y_pred4 = model3.predict(x_val)"
   ]
  },
  {
   "cell_type": "code",
   "execution_count": 64,
   "metadata": {
    "colab": {
     "base_uri": "https://localhost:8080/"
    },
    "executionInfo": {
     "elapsed": 664,
     "status": "ok",
     "timestamp": 1682562665795,
     "user": {
      "displayName": "허신 - Business Intelligence",
      "userId": "11511914061488776232"
     },
     "user_tz": -540
    },
    "id": "NT5bFCCC9icL",
    "outputId": "311c0c49-ffbd-49c0-b39f-15e987d772e5"
   },
   "outputs": [
    {
     "name": "stdout",
     "output_type": "stream",
     "text": [
      "accuracy : 0.9864061172472387\n",
      "============================================================\n",
      "[[215   0   0   0   0   0]\n",
      " [  0 207   5   0   0   0]\n",
      " [  0  11 199   0   0   0]\n",
      " [  0   0   0 195   0   0]\n",
      " [  0   0   0   0 154   0]\n",
      " [  0   0   0   0   0 191]]\n",
      "============================================================\n",
      "                    precision    recall  f1-score   support\n",
      "\n",
      "            LAYING       1.00      1.00      1.00       215\n",
      "           SITTING       0.95      0.98      0.96       212\n",
      "          STANDING       0.98      0.95      0.96       210\n",
      "           WALKING       1.00      1.00      1.00       195\n",
      "WALKING_DOWNSTAIRS       1.00      1.00      1.00       154\n",
      "  WALKING_UPSTAIRS       1.00      1.00      1.00       191\n",
      "\n",
      "          accuracy                           0.99      1177\n",
      "         macro avg       0.99      0.99      0.99      1177\n",
      "      weighted avg       0.99      0.99      0.99      1177\n",
      "\n"
     ]
    }
   ],
   "source": [
    "print('accuracy :',accuracy_score(y_val, y_pred4))\n",
    "print('='*60)\n",
    "print(confusion_matrix(y_val, y_pred4))\n",
    "print('='*60)\n",
    "print(classification_report(y_val, y_pred4))"
   ]
  },
  {
   "cell_type": "code",
   "execution_count": null,
   "metadata": {},
   "outputs": [],
   "source": []
  }
 ],
 "metadata": {
  "accelerator": "GPU",
  "colab": {
   "provenance": [],
   "toc_visible": true
  },
  "gpuClass": "standard",
  "kernelspec": {
   "display_name": "Python 3 (ipykernel)",
   "language": "python",
   "name": "python3"
  },
  "language_info": {
   "codemirror_mode": {
    "name": "ipython",
    "version": 3
   },
   "file_extension": ".py",
   "mimetype": "text/x-python",
   "name": "python",
   "nbconvert_exporter": "python",
   "pygments_lexer": "ipython3",
   "version": "3.11.5"
  }
 },
 "nbformat": 4,
 "nbformat_minor": 4
}
