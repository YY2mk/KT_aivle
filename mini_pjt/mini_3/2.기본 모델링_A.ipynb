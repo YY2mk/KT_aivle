{
 "cells": [
  {
   "cell_type": "markdown",
   "metadata": {
    "id": "NbI_RoQ9AP5r"
   },
   "source": [
    "#**스마트폰 센서 데이터 기반 모션 분류**\n",
    "# 단계2 : 기본 모델링\n"
   ]
  },
  {
   "cell_type": "markdown",
   "metadata": {
    "id": "D67PlTu4JGAY"
   },
   "source": [
    "## 0.미션"
   ]
  },
  {
   "cell_type": "markdown",
   "metadata": {
    "id": "wc1FlP4E09oQ"
   },
   "source": [
    "* 데이터 전처리\n",
    "    * 가변수화, 데이터 분할, NaN 확인 및 조치, 스케일링 등 필요한 전처리 수행\n",
    "* 다양한 알고리즘으로 분류 모델 생성\n",
    "    * 최소 4개 이상의 알고리즘을 적용하여 모델링 수행 \n",
    "    * 성능 비교\n",
    "    * 각 모델의 성능을 저장하는 별도 데이터 프레임을 만들고 비교\n",
    "* 옵션 : 다음 사항은 선택사항입니다. 시간이 허용하는 범위 내에서 수행하세요.\n",
    "    * 상위 N개 변수를 선정하여 모델링 및 성능 비교\n",
    "        * 모델링에 항상 모든 변수가 필요한 것은 아닙니다.\n",
    "        * 변수 중요도 상위 N개를 선정하여 모델링하고 타 모델과 성능을 비교하세요.\n",
    "        * 상위 N개를 선택하는 방법은, 변수를 하나씩 늘려가며 모델링 및 성능 검증을 수행하여 적절한 지점을 찾는 것입니다.\n",
    "        * 성능 가이드\n",
    "            * Accuracy : 0.900~0.968"
   ]
  },
  {
   "cell_type": "markdown",
   "metadata": {
    "id": "NCptKiLOAn7l"
   },
   "source": [
    "## 1.환경설정"
   ]
  },
  {
   "cell_type": "markdown",
   "metadata": {
    "id": "yfvvK98cpklr"
   },
   "source": [
    "* 세부 요구사항\n",
    "    - 경로 설정 : 다음의 두가지 방법 중 하나를 선택하여 폴더를 준비하고 데이터를 로딩하시오.\n",
    "        * 1) 로컬 수행(Ananconda)\n",
    "            * 제공된 압축파일을 다운받아 압축을 풀고\n",
    "            * anaconda의 root directory(보통 C:/Users/< ID > 에 project 폴더를 만들고, 복사해 넣습니다.\n",
    "        * 2) 구글콜랩\n",
    "            * 구글 드라이브 바로 밑에 project 폴더를 만들고, \n",
    "            * 데이터 파일을 복사해 넣습니다.\n",
    "    \n",
    "    - 기본적으로 필요한 라이브러리를 import 하도록 코드가 작성되어 있습니다. \n",
    "        * 필요하다고 판단되는 라이브러리를 추가하세요.\n"
   ]
  },
  {
   "cell_type": "markdown",
   "metadata": {
    "id": "6qsy44YpolGu"
   },
   "source": [
    "### (1) 경로 설정"
   ]
  },
  {
   "cell_type": "markdown",
   "metadata": {
    "id": "gklxNfgNpkls"
   },
   "source": [
    "#### 1) 로컬 수행(Anaconda)\n",
    "* project 폴더에 필요한 파일들을 넣고, 본 파일을 열었다면, 별도 경로 지정이 필요하지 않습니다."
   ]
  },
  {
   "cell_type": "code",
   "execution_count": 13,
   "metadata": {
    "id": "PNI6X2yxpkls"
   },
   "outputs": [],
   "source": [
    "path = 'C:/Users/User/Desktop/'"
   ]
  },
  {
   "cell_type": "markdown",
   "metadata": {
    "id": "7rWT4biQpkls"
   },
   "source": [
    "#### 2) 구글 콜랩 수행"
   ]
  },
  {
   "cell_type": "markdown",
   "metadata": {
    "id": "3OpMHqwdpkls"
   },
   "source": [
    "* 구글 드라이브 연결"
   ]
  },
  {
   "cell_type": "code",
   "execution_count": 14,
   "metadata": {
    "colab": {
     "base_uri": "https://localhost:8080/"
    },
    "executionInfo": {
     "elapsed": 21970,
     "status": "ok",
     "timestamp": 1682561076992,
     "user": {
      "displayName": "허신 - Business Intelligence",
      "userId": "11511914061488776232"
     },
     "user_tz": -540
    },
    "id": "CLasRk8Spklt",
    "outputId": "23fe51e9-ee90-452c-fd08-a25b989ae402"
   },
   "outputs": [],
   "source": [
    "# from google.colab import drive\n",
    "# drive.mount('/content/drive')"
   ]
  },
  {
   "cell_type": "code",
   "execution_count": 15,
   "metadata": {
    "id": "CAVyyXi9pklt"
   },
   "outputs": [],
   "source": [
    "# path = '/content/drive/MyDrive/project/'"
   ]
  },
  {
   "cell_type": "markdown",
   "metadata": {
    "id": "KnzVh2LmkLDU"
   },
   "source": [
    "### (2) 라이브러리 불러오기"
   ]
  },
  {
   "cell_type": "markdown",
   "metadata": {
    "id": "yZZpUzXun1mw"
   },
   "source": [
    "#### 1) 라이브러리 로딩"
   ]
  },
  {
   "cell_type": "code",
   "execution_count": 16,
   "metadata": {
    "id": "3rsQerEaELwI"
   },
   "outputs": [],
   "source": [
    "import pandas as pd\n",
    "import numpy as np\n",
    "import matplotlib.pyplot as plt\n",
    "import seaborn as sns\n",
    "\n",
    "import joblib\n",
    "\n",
    "from sklearn.model_selection import train_test_split\n",
    "from sklearn.ensemble import RandomForestClassifier\n",
    "from xgboost import XGBClassifier\n",
    "from sklearn.svm import SVC\n",
    "from sklearn.neighbors import KNeighborsClassifier\n",
    "from sklearn.linear_model import LogisticRegression\n",
    "\n",
    "from sklearn.model_selection import GridSearchCV\n",
    "from sklearn.preprocessing import MinMaxScaler\n",
    "from sklearn.metrics import *"
   ]
  },
  {
   "cell_type": "markdown",
   "metadata": {
    "id": "mlBhkYHQ491o"
   },
   "source": [
    "#### 2) 제공 함수 생성\n",
    "* 변수 중요도를 시각화할 수 있는 함수를 제공합니다.\n",
    "* 입력 : \n",
    "    * importance : 트리모델의 변수 중요도(예: model.feature_importances_)\n",
    "    * names : 변수 이름 목록(예 : x_train.columns\n",
    "    * result_only  : 변수 중요도 순으로 데이터프레임만 return할지, 그래프도 포함할지 결정. False이면 결과 데이터프레임 + 그래프\n",
    "    * topn : 중요도 상위 n개만 표시. all 이면 전체.\n",
    "* 출력 : \n",
    "    * 중요도 그래프 : 중요도 내림차순으로 정렬\n",
    "    * 중요도 데이터프레임 : 중요도 내림차순으로 정렬"
   ]
  },
  {
   "cell_type": "code",
   "execution_count": 17,
   "metadata": {
    "id": "EyMZDIT-aDHZ"
   },
   "outputs": [],
   "source": [
    "# 변수의 특성 중요도 계산하기\n",
    "def plot_feature_importance(importance, names, result_only = False, topn = 'all'):\n",
    "    feature_importance = np.array(importance)\n",
    "    feature_name = np.array(names)\n",
    "\n",
    "    data={'feature_name':feature_name,'feature_importance':feature_importance}\n",
    "    fi_temp = pd.DataFrame(data)\n",
    "\n",
    "    #변수의 특성 중요도 순으로 정렬하기\n",
    "    fi_temp.sort_values(by=['feature_importance'], ascending=False,inplace=True)\n",
    "    fi_temp.reset_index(drop=True, inplace = True)\n",
    "\n",
    "    if topn == 'all' :\n",
    "        fi_df = fi_temp.copy()\n",
    "    else :\n",
    "        fi_df = fi_temp.iloc[:topn]\n",
    "\n",
    "    #변수의 특성 중요도 그래프로 그리기\n",
    "    if result_only == False :\n",
    "        plt.figure(figsize=(10,20))\n",
    "        sns.barplot(x='feature_importance', y='feature_name', data = fi_df)\n",
    "\n",
    "        plt.xlabel('importance')\n",
    "        plt.ylabel('feature name')\n",
    "        plt.grid()\n",
    "\n",
    "    return fi_df"
   ]
  },
  {
   "cell_type": "markdown",
   "metadata": {
    "id": "bA-eHXdwBDCz"
   },
   "source": [
    "### (3) 데이터 불러오기"
   ]
  },
  {
   "cell_type": "markdown",
   "metadata": {
    "id": "HwIACQyupklv"
   },
   "source": [
    "* 주어진 데이터셋\n",
    "    * data01_train.csv : 학습 및 검증용\n",
    "    * data01_test.csv : 테스트용\n",
    "    * feature.csv : feature 이름을 계층구조로 정리한 데이터\n",
    "\n",
    "* 세부 요구사항\n",
    "    * 칼럼 삭제 : data01_train.csv와 data01_test.csv 에서 'subject' 칼럼은 불필요하므로 삭제합니다."
   ]
  },
  {
   "cell_type": "markdown",
   "metadata": {
    "id": "fmgUEGOipvG5"
   },
   "source": [
    "#### 1) 데이터로딩"
   ]
  },
  {
   "cell_type": "code",
   "execution_count": 18,
   "metadata": {
    "id": "FT_JFnclfcQ4"
   },
   "outputs": [],
   "source": [
    "file1 = 'data01_train.csv'\n",
    "file2 = 'data01_test.csv'\n",
    "file3 = 'features.csv'"
   ]
  },
  {
   "cell_type": "code",
   "execution_count": 19,
   "metadata": {
    "id": "ZpMoNMpcQoQ5"
   },
   "outputs": [],
   "source": [
    "data = pd.read_csv(file1)\n",
    "test = pd.read_csv(file2)\n",
    "features = pd.read_csv(file3)"
   ]
  },
  {
   "cell_type": "code",
   "execution_count": 20,
   "metadata": {
    "id": "uTi4ZuDWDlem"
   },
   "outputs": [],
   "source": [
    "# 불필요한 칼럼 삭제\n",
    "data.drop('subject', axis=1, inplace=True)\n",
    "test.drop('subject', axis=1, inplace=True)"
   ]
  },
  {
   "cell_type": "markdown",
   "metadata": {
    "id": "aI7qJqz3pr3m"
   },
   "source": [
    "#### 2) 기본 정보 조회"
   ]
  },
  {
   "cell_type": "code",
   "execution_count": 21,
   "metadata": {
    "colab": {
     "base_uri": "https://localhost:8080/"
    },
    "executionInfo": {
     "elapsed": 9,
     "status": "ok",
     "timestamp": 1682561116444,
     "user": {
      "displayName": "허신 - Business Intelligence",
      "userId": "11511914061488776232"
     },
     "user_tz": -540
    },
    "id": "yFVSAGNhpr3m",
    "outputId": "f9aebbc2-6c07-4d3b-fdce-b13e8f089279"
   },
   "outputs": [
    {
     "data": {
      "text/plain": [
       "(5881, 562)"
      ]
     },
     "execution_count": 21,
     "metadata": {},
     "output_type": "execute_result"
    }
   ],
   "source": [
    "#전체 데이터의 행,열 개수 확인\n",
    "data.shape"
   ]
  },
  {
   "cell_type": "code",
   "execution_count": 22,
   "metadata": {
    "colab": {
     "base_uri": "https://localhost:8080/",
     "height": 337
    },
    "executionInfo": {
     "elapsed": 8,
     "status": "ok",
     "timestamp": 1682561116445,
     "user": {
      "displayName": "허신 - Business Intelligence",
      "userId": "11511914061488776232"
     },
     "user_tz": -540
    },
    "id": "xJnnr8K-pr3m",
    "outputId": "6d47ac70-5191-45ac-9b31-9fec5335276a"
   },
   "outputs": [
    {
     "data": {
      "text/html": [
       "<div>\n",
       "<style scoped>\n",
       "    .dataframe tbody tr th:only-of-type {\n",
       "        vertical-align: middle;\n",
       "    }\n",
       "\n",
       "    .dataframe tbody tr th {\n",
       "        vertical-align: top;\n",
       "    }\n",
       "\n",
       "    .dataframe thead th {\n",
       "        text-align: right;\n",
       "    }\n",
       "</style>\n",
       "<table border=\"1\" class=\"dataframe\">\n",
       "  <thead>\n",
       "    <tr style=\"text-align: right;\">\n",
       "      <th></th>\n",
       "      <th>tBodyAcc-mean()-X</th>\n",
       "      <th>tBodyAcc-mean()-Y</th>\n",
       "      <th>tBodyAcc-mean()-Z</th>\n",
       "      <th>tBodyAcc-std()-X</th>\n",
       "      <th>tBodyAcc-std()-Y</th>\n",
       "      <th>tBodyAcc-std()-Z</th>\n",
       "      <th>tBodyAcc-mad()-X</th>\n",
       "      <th>tBodyAcc-mad()-Y</th>\n",
       "      <th>tBodyAcc-mad()-Z</th>\n",
       "      <th>tBodyAcc-max()-X</th>\n",
       "      <th>...</th>\n",
       "      <th>fBodyBodyGyroJerkMag-skewness()</th>\n",
       "      <th>fBodyBodyGyroJerkMag-kurtosis()</th>\n",
       "      <th>angle(tBodyAccMean,gravity)</th>\n",
       "      <th>angle(tBodyAccJerkMean),gravityMean)</th>\n",
       "      <th>angle(tBodyGyroMean,gravityMean)</th>\n",
       "      <th>angle(tBodyGyroJerkMean,gravityMean)</th>\n",
       "      <th>angle(X,gravityMean)</th>\n",
       "      <th>angle(Y,gravityMean)</th>\n",
       "      <th>angle(Z,gravityMean)</th>\n",
       "      <th>Activity</th>\n",
       "    </tr>\n",
       "  </thead>\n",
       "  <tbody>\n",
       "    <tr>\n",
       "      <th>0</th>\n",
       "      <td>0.288508</td>\n",
       "      <td>-0.009196</td>\n",
       "      <td>-0.103362</td>\n",
       "      <td>-0.988986</td>\n",
       "      <td>-0.962797</td>\n",
       "      <td>-0.967422</td>\n",
       "      <td>-0.989000</td>\n",
       "      <td>-0.962596</td>\n",
       "      <td>-0.965650</td>\n",
       "      <td>-0.929747</td>\n",
       "      <td>...</td>\n",
       "      <td>-0.487737</td>\n",
       "      <td>-0.816696</td>\n",
       "      <td>-0.042494</td>\n",
       "      <td>-0.044218</td>\n",
       "      <td>0.307873</td>\n",
       "      <td>0.072790</td>\n",
       "      <td>-0.601120</td>\n",
       "      <td>0.331298</td>\n",
       "      <td>0.165163</td>\n",
       "      <td>STANDING</td>\n",
       "    </tr>\n",
       "    <tr>\n",
       "      <th>1</th>\n",
       "      <td>0.265757</td>\n",
       "      <td>-0.016576</td>\n",
       "      <td>-0.098163</td>\n",
       "      <td>-0.989551</td>\n",
       "      <td>-0.994636</td>\n",
       "      <td>-0.987435</td>\n",
       "      <td>-0.990189</td>\n",
       "      <td>-0.993870</td>\n",
       "      <td>-0.987558</td>\n",
       "      <td>-0.937337</td>\n",
       "      <td>...</td>\n",
       "      <td>-0.237820</td>\n",
       "      <td>-0.693515</td>\n",
       "      <td>-0.062899</td>\n",
       "      <td>0.388459</td>\n",
       "      <td>-0.765014</td>\n",
       "      <td>0.771524</td>\n",
       "      <td>0.345205</td>\n",
       "      <td>-0.769186</td>\n",
       "      <td>-0.147944</td>\n",
       "      <td>LAYING</td>\n",
       "    </tr>\n",
       "    <tr>\n",
       "      <th>2</th>\n",
       "      <td>0.278709</td>\n",
       "      <td>-0.014511</td>\n",
       "      <td>-0.108717</td>\n",
       "      <td>-0.997720</td>\n",
       "      <td>-0.981088</td>\n",
       "      <td>-0.994008</td>\n",
       "      <td>-0.997934</td>\n",
       "      <td>-0.982187</td>\n",
       "      <td>-0.995017</td>\n",
       "      <td>-0.942584</td>\n",
       "      <td>...</td>\n",
       "      <td>-0.535287</td>\n",
       "      <td>-0.829311</td>\n",
       "      <td>0.000265</td>\n",
       "      <td>-0.525022</td>\n",
       "      <td>-0.891875</td>\n",
       "      <td>0.021528</td>\n",
       "      <td>-0.833564</td>\n",
       "      <td>0.202434</td>\n",
       "      <td>-0.032755</td>\n",
       "      <td>STANDING</td>\n",
       "    </tr>\n",
       "    <tr>\n",
       "      <th>3</th>\n",
       "      <td>0.289795</td>\n",
       "      <td>-0.035536</td>\n",
       "      <td>-0.150354</td>\n",
       "      <td>-0.231727</td>\n",
       "      <td>-0.006412</td>\n",
       "      <td>-0.338117</td>\n",
       "      <td>-0.273557</td>\n",
       "      <td>0.014245</td>\n",
       "      <td>-0.347916</td>\n",
       "      <td>0.008288</td>\n",
       "      <td>...</td>\n",
       "      <td>-0.004012</td>\n",
       "      <td>-0.408956</td>\n",
       "      <td>-0.255125</td>\n",
       "      <td>0.612804</td>\n",
       "      <td>0.747381</td>\n",
       "      <td>-0.072944</td>\n",
       "      <td>-0.695819</td>\n",
       "      <td>0.287154</td>\n",
       "      <td>0.111388</td>\n",
       "      <td>WALKING</td>\n",
       "    </tr>\n",
       "    <tr>\n",
       "      <th>4</th>\n",
       "      <td>0.394807</td>\n",
       "      <td>0.034098</td>\n",
       "      <td>0.091229</td>\n",
       "      <td>0.088489</td>\n",
       "      <td>-0.106636</td>\n",
       "      <td>-0.388502</td>\n",
       "      <td>-0.010469</td>\n",
       "      <td>-0.109680</td>\n",
       "      <td>-0.346372</td>\n",
       "      <td>0.584131</td>\n",
       "      <td>...</td>\n",
       "      <td>-0.157832</td>\n",
       "      <td>-0.563437</td>\n",
       "      <td>-0.044344</td>\n",
       "      <td>-0.845268</td>\n",
       "      <td>-0.974650</td>\n",
       "      <td>-0.887846</td>\n",
       "      <td>-0.705029</td>\n",
       "      <td>0.264952</td>\n",
       "      <td>0.137758</td>\n",
       "      <td>WALKING_DOWNSTAIRS</td>\n",
       "    </tr>\n",
       "  </tbody>\n",
       "</table>\n",
       "<p>5 rows × 562 columns</p>\n",
       "</div>"
      ],
      "text/plain": [
       "   tBodyAcc-mean()-X  tBodyAcc-mean()-Y  tBodyAcc-mean()-Z  tBodyAcc-std()-X  \\\n",
       "0           0.288508          -0.009196          -0.103362         -0.988986   \n",
       "1           0.265757          -0.016576          -0.098163         -0.989551   \n",
       "2           0.278709          -0.014511          -0.108717         -0.997720   \n",
       "3           0.289795          -0.035536          -0.150354         -0.231727   \n",
       "4           0.394807           0.034098           0.091229          0.088489   \n",
       "\n",
       "   tBodyAcc-std()-Y  tBodyAcc-std()-Z  tBodyAcc-mad()-X  tBodyAcc-mad()-Y  \\\n",
       "0         -0.962797         -0.967422         -0.989000         -0.962596   \n",
       "1         -0.994636         -0.987435         -0.990189         -0.993870   \n",
       "2         -0.981088         -0.994008         -0.997934         -0.982187   \n",
       "3         -0.006412         -0.338117         -0.273557          0.014245   \n",
       "4         -0.106636         -0.388502         -0.010469         -0.109680   \n",
       "\n",
       "   tBodyAcc-mad()-Z  tBodyAcc-max()-X  ...  fBodyBodyGyroJerkMag-skewness()  \\\n",
       "0         -0.965650         -0.929747  ...                        -0.487737   \n",
       "1         -0.987558         -0.937337  ...                        -0.237820   \n",
       "2         -0.995017         -0.942584  ...                        -0.535287   \n",
       "3         -0.347916          0.008288  ...                        -0.004012   \n",
       "4         -0.346372          0.584131  ...                        -0.157832   \n",
       "\n",
       "   fBodyBodyGyroJerkMag-kurtosis()  angle(tBodyAccMean,gravity)  \\\n",
       "0                        -0.816696                    -0.042494   \n",
       "1                        -0.693515                    -0.062899   \n",
       "2                        -0.829311                     0.000265   \n",
       "3                        -0.408956                    -0.255125   \n",
       "4                        -0.563437                    -0.044344   \n",
       "\n",
       "   angle(tBodyAccJerkMean),gravityMean)  angle(tBodyGyroMean,gravityMean)  \\\n",
       "0                             -0.044218                          0.307873   \n",
       "1                              0.388459                         -0.765014   \n",
       "2                             -0.525022                         -0.891875   \n",
       "3                              0.612804                          0.747381   \n",
       "4                             -0.845268                         -0.974650   \n",
       "\n",
       "   angle(tBodyGyroJerkMean,gravityMean)  angle(X,gravityMean)  \\\n",
       "0                              0.072790             -0.601120   \n",
       "1                              0.771524              0.345205   \n",
       "2                              0.021528             -0.833564   \n",
       "3                             -0.072944             -0.695819   \n",
       "4                             -0.887846             -0.705029   \n",
       "\n",
       "   angle(Y,gravityMean)  angle(Z,gravityMean)            Activity  \n",
       "0              0.331298              0.165163            STANDING  \n",
       "1             -0.769186             -0.147944              LAYING  \n",
       "2              0.202434             -0.032755            STANDING  \n",
       "3              0.287154              0.111388             WALKING  \n",
       "4              0.264952              0.137758  WALKING_DOWNSTAIRS  \n",
       "\n",
       "[5 rows x 562 columns]"
      ]
     },
     "execution_count": 22,
     "metadata": {},
     "output_type": "execute_result"
    }
   ],
   "source": [
    "#전체 데이터의 상위 5개 행 확인\n",
    "data.head()"
   ]
  },
  {
   "cell_type": "code",
   "execution_count": 23,
   "metadata": {
    "colab": {
     "base_uri": "https://localhost:8080/",
     "height": 438
    },
    "executionInfo": {
     "elapsed": 1352,
     "status": "ok",
     "timestamp": 1682561117791,
     "user": {
      "displayName": "허신 - Business Intelligence",
      "userId": "11511914061488776232"
     },
     "user_tz": -540
    },
    "id": "ajJ1qJkhpr3n",
    "outputId": "18e55573-f2ce-49cf-d6f6-a42e8c952766"
   },
   "outputs": [
    {
     "data": {
      "text/html": [
       "<div>\n",
       "<style scoped>\n",
       "    .dataframe tbody tr th:only-of-type {\n",
       "        vertical-align: middle;\n",
       "    }\n",
       "\n",
       "    .dataframe tbody tr th {\n",
       "        vertical-align: top;\n",
       "    }\n",
       "\n",
       "    .dataframe thead th {\n",
       "        text-align: right;\n",
       "    }\n",
       "</style>\n",
       "<table border=\"1\" class=\"dataframe\">\n",
       "  <thead>\n",
       "    <tr style=\"text-align: right;\">\n",
       "      <th></th>\n",
       "      <th>tBodyAcc-mean()-X</th>\n",
       "      <th>tBodyAcc-mean()-Y</th>\n",
       "      <th>tBodyAcc-mean()-Z</th>\n",
       "      <th>tBodyAcc-std()-X</th>\n",
       "      <th>tBodyAcc-std()-Y</th>\n",
       "      <th>tBodyAcc-std()-Z</th>\n",
       "      <th>tBodyAcc-mad()-X</th>\n",
       "      <th>tBodyAcc-mad()-Y</th>\n",
       "      <th>tBodyAcc-mad()-Z</th>\n",
       "      <th>tBodyAcc-max()-X</th>\n",
       "      <th>...</th>\n",
       "      <th>fBodyBodyGyroJerkMag-meanFreq()</th>\n",
       "      <th>fBodyBodyGyroJerkMag-skewness()</th>\n",
       "      <th>fBodyBodyGyroJerkMag-kurtosis()</th>\n",
       "      <th>angle(tBodyAccMean,gravity)</th>\n",
       "      <th>angle(tBodyAccJerkMean),gravityMean)</th>\n",
       "      <th>angle(tBodyGyroMean,gravityMean)</th>\n",
       "      <th>angle(tBodyGyroJerkMean,gravityMean)</th>\n",
       "      <th>angle(X,gravityMean)</th>\n",
       "      <th>angle(Y,gravityMean)</th>\n",
       "      <th>angle(Z,gravityMean)</th>\n",
       "    </tr>\n",
       "  </thead>\n",
       "  <tbody>\n",
       "    <tr>\n",
       "      <th>count</th>\n",
       "      <td>5881.000000</td>\n",
       "      <td>5881.000000</td>\n",
       "      <td>5881.000000</td>\n",
       "      <td>5881.000000</td>\n",
       "      <td>5881.000000</td>\n",
       "      <td>5881.000000</td>\n",
       "      <td>5881.000000</td>\n",
       "      <td>5881.000000</td>\n",
       "      <td>5881.000000</td>\n",
       "      <td>5881.000000</td>\n",
       "      <td>...</td>\n",
       "      <td>5881.000000</td>\n",
       "      <td>5881.000000</td>\n",
       "      <td>5881.000000</td>\n",
       "      <td>5881.000000</td>\n",
       "      <td>5881.000000</td>\n",
       "      <td>5881.000000</td>\n",
       "      <td>5881.000000</td>\n",
       "      <td>5881.000000</td>\n",
       "      <td>5881.000000</td>\n",
       "      <td>5881.000000</td>\n",
       "    </tr>\n",
       "    <tr>\n",
       "      <th>mean</th>\n",
       "      <td>0.274811</td>\n",
       "      <td>-0.017799</td>\n",
       "      <td>-0.109396</td>\n",
       "      <td>-0.603138</td>\n",
       "      <td>-0.509815</td>\n",
       "      <td>-0.604058</td>\n",
       "      <td>-0.628151</td>\n",
       "      <td>-0.525944</td>\n",
       "      <td>-0.605374</td>\n",
       "      <td>-0.465490</td>\n",
       "      <td>...</td>\n",
       "      <td>0.126955</td>\n",
       "      <td>-0.305883</td>\n",
       "      <td>-0.623548</td>\n",
       "      <td>0.008524</td>\n",
       "      <td>-0.001185</td>\n",
       "      <td>0.009340</td>\n",
       "      <td>-0.007099</td>\n",
       "      <td>-0.491501</td>\n",
       "      <td>0.059299</td>\n",
       "      <td>-0.054594</td>\n",
       "    </tr>\n",
       "    <tr>\n",
       "      <th>std</th>\n",
       "      <td>0.067614</td>\n",
       "      <td>0.039422</td>\n",
       "      <td>0.058373</td>\n",
       "      <td>0.448807</td>\n",
       "      <td>0.501815</td>\n",
       "      <td>0.417319</td>\n",
       "      <td>0.424345</td>\n",
       "      <td>0.485115</td>\n",
       "      <td>0.413043</td>\n",
       "      <td>0.544995</td>\n",
       "      <td>...</td>\n",
       "      <td>0.249176</td>\n",
       "      <td>0.322808</td>\n",
       "      <td>0.310371</td>\n",
       "      <td>0.339730</td>\n",
       "      <td>0.447197</td>\n",
       "      <td>0.608190</td>\n",
       "      <td>0.476738</td>\n",
       "      <td>0.509069</td>\n",
       "      <td>0.297340</td>\n",
       "      <td>0.278479</td>\n",
       "    </tr>\n",
       "    <tr>\n",
       "      <th>min</th>\n",
       "      <td>-0.503823</td>\n",
       "      <td>-0.684893</td>\n",
       "      <td>-1.000000</td>\n",
       "      <td>-1.000000</td>\n",
       "      <td>-0.999844</td>\n",
       "      <td>-0.999667</td>\n",
       "      <td>-1.000000</td>\n",
       "      <td>-0.999419</td>\n",
       "      <td>-1.000000</td>\n",
       "      <td>-1.000000</td>\n",
       "      <td>...</td>\n",
       "      <td>-0.965725</td>\n",
       "      <td>-0.979261</td>\n",
       "      <td>-0.999765</td>\n",
       "      <td>-0.976580</td>\n",
       "      <td>-1.000000</td>\n",
       "      <td>-1.000000</td>\n",
       "      <td>-1.000000</td>\n",
       "      <td>-1.000000</td>\n",
       "      <td>-1.000000</td>\n",
       "      <td>-0.980143</td>\n",
       "    </tr>\n",
       "    <tr>\n",
       "      <th>25%</th>\n",
       "      <td>0.262919</td>\n",
       "      <td>-0.024877</td>\n",
       "      <td>-0.121051</td>\n",
       "      <td>-0.992774</td>\n",
       "      <td>-0.977680</td>\n",
       "      <td>-0.980127</td>\n",
       "      <td>-0.993602</td>\n",
       "      <td>-0.977865</td>\n",
       "      <td>-0.980112</td>\n",
       "      <td>-0.936067</td>\n",
       "      <td>...</td>\n",
       "      <td>-0.021610</td>\n",
       "      <td>-0.541969</td>\n",
       "      <td>-0.845985</td>\n",
       "      <td>-0.122361</td>\n",
       "      <td>-0.294369</td>\n",
       "      <td>-0.481718</td>\n",
       "      <td>-0.373345</td>\n",
       "      <td>-0.811397</td>\n",
       "      <td>-0.018203</td>\n",
       "      <td>-0.141555</td>\n",
       "    </tr>\n",
       "    <tr>\n",
       "      <th>50%</th>\n",
       "      <td>0.277154</td>\n",
       "      <td>-0.017221</td>\n",
       "      <td>-0.108781</td>\n",
       "      <td>-0.943933</td>\n",
       "      <td>-0.844575</td>\n",
       "      <td>-0.856352</td>\n",
       "      <td>-0.948501</td>\n",
       "      <td>-0.849266</td>\n",
       "      <td>-0.849896</td>\n",
       "      <td>-0.878729</td>\n",
       "      <td>...</td>\n",
       "      <td>0.133887</td>\n",
       "      <td>-0.342923</td>\n",
       "      <td>-0.712677</td>\n",
       "      <td>0.010278</td>\n",
       "      <td>0.005146</td>\n",
       "      <td>0.011448</td>\n",
       "      <td>-0.000847</td>\n",
       "      <td>-0.709441</td>\n",
       "      <td>0.182893</td>\n",
       "      <td>0.003951</td>\n",
       "    </tr>\n",
       "    <tr>\n",
       "      <th>75%</th>\n",
       "      <td>0.288526</td>\n",
       "      <td>-0.010920</td>\n",
       "      <td>-0.098163</td>\n",
       "      <td>-0.242130</td>\n",
       "      <td>-0.034499</td>\n",
       "      <td>-0.262690</td>\n",
       "      <td>-0.291138</td>\n",
       "      <td>-0.068857</td>\n",
       "      <td>-0.268539</td>\n",
       "      <td>-0.013690</td>\n",
       "      <td>...</td>\n",
       "      <td>0.288944</td>\n",
       "      <td>-0.127371</td>\n",
       "      <td>-0.501158</td>\n",
       "      <td>0.154985</td>\n",
       "      <td>0.285030</td>\n",
       "      <td>0.499857</td>\n",
       "      <td>0.356236</td>\n",
       "      <td>-0.511330</td>\n",
       "      <td>0.248435</td>\n",
       "      <td>0.111932</td>\n",
       "    </tr>\n",
       "    <tr>\n",
       "      <th>max</th>\n",
       "      <td>1.000000</td>\n",
       "      <td>1.000000</td>\n",
       "      <td>1.000000</td>\n",
       "      <td>1.000000</td>\n",
       "      <td>0.916238</td>\n",
       "      <td>1.000000</td>\n",
       "      <td>1.000000</td>\n",
       "      <td>0.967664</td>\n",
       "      <td>1.000000</td>\n",
       "      <td>1.000000</td>\n",
       "      <td>...</td>\n",
       "      <td>0.946700</td>\n",
       "      <td>0.989538</td>\n",
       "      <td>0.956845</td>\n",
       "      <td>1.000000</td>\n",
       "      <td>1.000000</td>\n",
       "      <td>0.998702</td>\n",
       "      <td>0.996078</td>\n",
       "      <td>0.977344</td>\n",
       "      <td>0.478157</td>\n",
       "      <td>1.000000</td>\n",
       "    </tr>\n",
       "  </tbody>\n",
       "</table>\n",
       "<p>8 rows × 561 columns</p>\n",
       "</div>"
      ],
      "text/plain": [
       "       tBodyAcc-mean()-X  tBodyAcc-mean()-Y  tBodyAcc-mean()-Z  \\\n",
       "count        5881.000000        5881.000000        5881.000000   \n",
       "mean            0.274811          -0.017799          -0.109396   \n",
       "std             0.067614           0.039422           0.058373   \n",
       "min            -0.503823          -0.684893          -1.000000   \n",
       "25%             0.262919          -0.024877          -0.121051   \n",
       "50%             0.277154          -0.017221          -0.108781   \n",
       "75%             0.288526          -0.010920          -0.098163   \n",
       "max             1.000000           1.000000           1.000000   \n",
       "\n",
       "       tBodyAcc-std()-X  tBodyAcc-std()-Y  tBodyAcc-std()-Z  tBodyAcc-mad()-X  \\\n",
       "count       5881.000000       5881.000000       5881.000000       5881.000000   \n",
       "mean          -0.603138         -0.509815         -0.604058         -0.628151   \n",
       "std            0.448807          0.501815          0.417319          0.424345   \n",
       "min           -1.000000         -0.999844         -0.999667         -1.000000   \n",
       "25%           -0.992774         -0.977680         -0.980127         -0.993602   \n",
       "50%           -0.943933         -0.844575         -0.856352         -0.948501   \n",
       "75%           -0.242130         -0.034499         -0.262690         -0.291138   \n",
       "max            1.000000          0.916238          1.000000          1.000000   \n",
       "\n",
       "       tBodyAcc-mad()-Y  tBodyAcc-mad()-Z  tBodyAcc-max()-X  ...  \\\n",
       "count       5881.000000       5881.000000       5881.000000  ...   \n",
       "mean          -0.525944         -0.605374         -0.465490  ...   \n",
       "std            0.485115          0.413043          0.544995  ...   \n",
       "min           -0.999419         -1.000000         -1.000000  ...   \n",
       "25%           -0.977865         -0.980112         -0.936067  ...   \n",
       "50%           -0.849266         -0.849896         -0.878729  ...   \n",
       "75%           -0.068857         -0.268539         -0.013690  ...   \n",
       "max            0.967664          1.000000          1.000000  ...   \n",
       "\n",
       "       fBodyBodyGyroJerkMag-meanFreq()  fBodyBodyGyroJerkMag-skewness()  \\\n",
       "count                      5881.000000                      5881.000000   \n",
       "mean                          0.126955                        -0.305883   \n",
       "std                           0.249176                         0.322808   \n",
       "min                          -0.965725                        -0.979261   \n",
       "25%                          -0.021610                        -0.541969   \n",
       "50%                           0.133887                        -0.342923   \n",
       "75%                           0.288944                        -0.127371   \n",
       "max                           0.946700                         0.989538   \n",
       "\n",
       "       fBodyBodyGyroJerkMag-kurtosis()  angle(tBodyAccMean,gravity)  \\\n",
       "count                      5881.000000                  5881.000000   \n",
       "mean                         -0.623548                     0.008524   \n",
       "std                           0.310371                     0.339730   \n",
       "min                          -0.999765                    -0.976580   \n",
       "25%                          -0.845985                    -0.122361   \n",
       "50%                          -0.712677                     0.010278   \n",
       "75%                          -0.501158                     0.154985   \n",
       "max                           0.956845                     1.000000   \n",
       "\n",
       "       angle(tBodyAccJerkMean),gravityMean)  angle(tBodyGyroMean,gravityMean)  \\\n",
       "count                           5881.000000                       5881.000000   \n",
       "mean                              -0.001185                          0.009340   \n",
       "std                                0.447197                          0.608190   \n",
       "min                               -1.000000                         -1.000000   \n",
       "25%                               -0.294369                         -0.481718   \n",
       "50%                                0.005146                          0.011448   \n",
       "75%                                0.285030                          0.499857   \n",
       "max                                1.000000                          0.998702   \n",
       "\n",
       "       angle(tBodyGyroJerkMean,gravityMean)  angle(X,gravityMean)  \\\n",
       "count                           5881.000000           5881.000000   \n",
       "mean                              -0.007099             -0.491501   \n",
       "std                                0.476738              0.509069   \n",
       "min                               -1.000000             -1.000000   \n",
       "25%                               -0.373345             -0.811397   \n",
       "50%                               -0.000847             -0.709441   \n",
       "75%                                0.356236             -0.511330   \n",
       "max                                0.996078              0.977344   \n",
       "\n",
       "       angle(Y,gravityMean)  angle(Z,gravityMean)  \n",
       "count           5881.000000           5881.000000  \n",
       "mean               0.059299             -0.054594  \n",
       "std                0.297340              0.278479  \n",
       "min               -1.000000             -0.980143  \n",
       "25%               -0.018203             -0.141555  \n",
       "50%                0.182893              0.003951  \n",
       "75%                0.248435              0.111932  \n",
       "max                0.478157              1.000000  \n",
       "\n",
       "[8 rows x 561 columns]"
      ]
     },
     "execution_count": 23,
     "metadata": {},
     "output_type": "execute_result"
    }
   ],
   "source": [
    "#전체 데이터의 수치형 변수 분포 확인\n",
    "data.describe()"
   ]
  },
  {
   "cell_type": "code",
   "execution_count": 24,
   "metadata": {
    "colab": {
     "base_uri": "https://localhost:8080/"
    },
    "executionInfo": {
     "elapsed": 2,
     "status": "ok",
     "timestamp": 1682561117791,
     "user": {
      "displayName": "허신 - Business Intelligence",
      "userId": "11511914061488776232"
     },
     "user_tz": -540
    },
    "id": "Jn78I6JFpr3n",
    "outputId": "4616f4f1-7590-4a1e-cd47-753a79555e2d"
   },
   "outputs": [
    {
     "data": {
      "text/plain": [
       "Index(['tBodyAcc-mean()-X', 'tBodyAcc-mean()-Y', 'tBodyAcc-mean()-Z',\n",
       "       'tBodyAcc-std()-X', 'tBodyAcc-std()-Y', 'tBodyAcc-std()-Z',\n",
       "       'tBodyAcc-mad()-X', 'tBodyAcc-mad()-Y', 'tBodyAcc-mad()-Z',\n",
       "       'tBodyAcc-max()-X',\n",
       "       ...\n",
       "       'fBodyBodyGyroJerkMag-skewness()', 'fBodyBodyGyroJerkMag-kurtosis()',\n",
       "       'angle(tBodyAccMean,gravity)', 'angle(tBodyAccJerkMean),gravityMean)',\n",
       "       'angle(tBodyGyroMean,gravityMean)',\n",
       "       'angle(tBodyGyroJerkMean,gravityMean)', 'angle(X,gravityMean)',\n",
       "       'angle(Y,gravityMean)', 'angle(Z,gravityMean)', 'Activity'],\n",
       "      dtype='object', length=562)"
      ]
     },
     "execution_count": 24,
     "metadata": {},
     "output_type": "execute_result"
    }
   ],
   "source": [
    "#전체 데이터의 모든 변수 확인\n",
    "data.columns"
   ]
  },
  {
   "cell_type": "markdown",
   "metadata": {
    "id": "6U3UzQGZAS1o"
   },
   "source": [
    "## **2. 데이터 전처리**\n",
    "\n",
    "* 가변수화, 데이터 분할, NaN 확인 및 조치, 스케일링 등 필요한 전처리를 수행한다. \n"
   ]
  },
  {
   "cell_type": "markdown",
   "metadata": {
    "id": "ZecsiT_DAS1p"
   },
   "source": [
    "### (1) 데이터 분할1 : x, y"
   ]
  },
  {
   "cell_type": "markdown",
   "metadata": {
    "id": "H-DxzcJiJS4W"
   },
   "source": [
    "* 세부 요구사항\n",
    "    - x, y로 분할합니다."
   ]
  },
  {
   "cell_type": "code",
   "execution_count": 25,
   "metadata": {
    "id": "qVqd1JJ6Ajaj"
   },
   "outputs": [],
   "source": [
    "target = 'Activity'\n",
    "x = data.drop(target, axis = 1)\n",
    "y = data.loc[:, target]"
   ]
  },
  {
   "cell_type": "markdown",
   "metadata": {
    "id": "A8hxVzM3Agvw"
   },
   "source": [
    "### (2) 스케일링(필요시)\n"
   ]
  },
  {
   "cell_type": "markdown",
   "metadata": {
    "id": "8OHAQJ9HJZP8"
   },
   "source": [
    "* 세부 요구사항\n",
    "    - 스케일링을 필요로 하는 알고리즘 사용을 위해서 코드 수행\n",
    "    - min-max 방식 혹은 standard 방식 중 한가지 사용."
   ]
  },
  {
   "cell_type": "code",
   "execution_count": 26,
   "metadata": {
    "id": "egLANGC5BMmk"
   },
   "outputs": [],
   "source": [
    "scaler = MinMaxScaler()\n",
    "x_s = scaler.fit_transform(x)"
   ]
  },
  {
   "cell_type": "markdown",
   "metadata": {
    "id": "MpZfnAa4BefE"
   },
   "source": [
    "### (3) 데이터분할2 : train, validation"
   ]
  },
  {
   "cell_type": "markdown",
   "metadata": {
    "id": "YOYncknxWg0E"
   },
   "source": [
    "* 세부 요구사항\n",
    "    - train : val = 8 : 2 혹은 7 : 3\n",
    "    - random_state 옵션을 사용하여 다른 모델과 비교를 위해 성능이 재현되도록 합니다."
   ]
  },
  {
   "cell_type": "code",
   "execution_count": 27,
   "metadata": {
    "id": "1AoCDDpdBeCT"
   },
   "outputs": [],
   "source": [
    "x_train, x_val, y_train, y_val = train_test_split(x, y, test_size = .2, random_state = 2023)\n",
    "x_train_s, x_val_s, y_train_s, y_val_s = train_test_split(x_s, y, test_size = .2, random_state = 2023)"
   ]
  },
  {
   "cell_type": "markdown",
   "metadata": {
    "id": "RfSZ5O4sBQf3"
   },
   "source": [
    "## **3. 기본 모델링**\n",
    "\n"
   ]
  },
  {
   "cell_type": "markdown",
   "metadata": {
    "id": "WAOal2RuWzNk"
   },
   "source": [
    "* 세부 요구사항\n",
    "    - 최소 4개 이상의 알고리즘을 적용하여 모델링을 수행한다. \n",
    "    - 각 알고리즘별로 전체 변수로 모델링, 상위 N개 변수를 선택하여 모델링을 수행하고 성능 비교를 한다."
   ]
  },
  {
   "cell_type": "markdown",
   "metadata": {
    "id": "6JKfabsMB-CK"
   },
   "source": [
    "### (1) Random Forest Classifier"
   ]
  },
  {
   "cell_type": "markdown",
   "metadata": {
    "id": "uXqs5N5nhwuf"
   },
   "source": [
    "#### 1) 전체 변수"
   ]
  },
  {
   "cell_type": "code",
   "execution_count": 28,
   "metadata": {
    "id": "l-A_tvrph5iF"
   },
   "outputs": [],
   "source": [
    "m1_1 = RandomForestClassifier()\n",
    "\n",
    "m1_1.fit(x_train, y_train)\n",
    "p1_1 = m1_1.predict(x_val)"
   ]
  },
  {
   "cell_type": "code",
   "execution_count": 29,
   "metadata": {
    "colab": {
     "base_uri": "https://localhost:8080/"
    },
    "executionInfo": {
     "elapsed": 7,
     "status": "ok",
     "timestamp": 1682561146220,
     "user": {
      "displayName": "허신 - Business Intelligence",
      "userId": "11511914061488776232"
     },
     "user_tz": -540
    },
    "id": "uSkOi8jdh5fB",
    "outputId": "eb300c41-e388-4317-835b-aa96f1635cc8"
   },
   "outputs": [
    {
     "name": "stdout",
     "output_type": "stream",
     "text": [
      "accuracy : 0.9787595581988106\n",
      "============================================================\n",
      "[[230   0   0   0   0   0]\n",
      " [  0 197  12   0   0   0]\n",
      " [  0   4 214   0   0   0]\n",
      " [  0   0   0 176   3   1]\n",
      " [  0   0   0   2 162   1]\n",
      " [  0   0   0   0   2 173]]\n",
      "============================================================\n",
      "                    precision    recall  f1-score   support\n",
      "\n",
      "            LAYING       1.00      1.00      1.00       230\n",
      "           SITTING       0.98      0.94      0.96       209\n",
      "          STANDING       0.95      0.98      0.96       218\n",
      "           WALKING       0.99      0.98      0.98       180\n",
      "WALKING_DOWNSTAIRS       0.97      0.98      0.98       165\n",
      "  WALKING_UPSTAIRS       0.99      0.99      0.99       175\n",
      "\n",
      "          accuracy                           0.98      1177\n",
      "         macro avg       0.98      0.98      0.98      1177\n",
      "      weighted avg       0.98      0.98      0.98      1177\n",
      "\n"
     ]
    }
   ],
   "source": [
    "print('accuracy :',accuracy_score(y_val, p1_1))\n",
    "print('='*60)\n",
    "print(confusion_matrix(y_val, p1_1))\n",
    "print('='*60)\n",
    "print(classification_report(y_val, p1_1))"
   ]
  },
  {
   "cell_type": "code",
   "execution_count": 30,
   "metadata": {
    "id": "H1VMtjwp3MuY"
   },
   "outputs": [],
   "source": [
    "r = plot_feature_importance(m1_1.feature_importances_, list(x_train), True)"
   ]
  },
  {
   "cell_type": "code",
   "execution_count": 31,
   "metadata": {
    "colab": {
     "base_uri": "https://localhost:8080/",
     "height": 221
    },
    "executionInfo": {
     "elapsed": 6,
     "status": "ok",
     "timestamp": 1682561146221,
     "user": {
      "displayName": "허신 - Business Intelligence",
      "userId": "11511914061488776232"
     },
     "user_tz": -540
    },
    "id": "hn0-AR8l3hie",
    "outputId": "cef311c0-352a-4f3d-8845-16f061c2e09e"
   },
   "outputs": [
    {
     "data": {
      "text/html": [
       "<div>\n",
       "<style scoped>\n",
       "    .dataframe tbody tr th:only-of-type {\n",
       "        vertical-align: middle;\n",
       "    }\n",
       "\n",
       "    .dataframe tbody tr th {\n",
       "        vertical-align: top;\n",
       "    }\n",
       "\n",
       "    .dataframe thead th {\n",
       "        text-align: right;\n",
       "    }\n",
       "</style>\n",
       "<table border=\"1\" class=\"dataframe\">\n",
       "  <thead>\n",
       "    <tr style=\"text-align: right;\">\n",
       "      <th></th>\n",
       "      <th>feature_name</th>\n",
       "      <th>feature_importance</th>\n",
       "    </tr>\n",
       "  </thead>\n",
       "  <tbody>\n",
       "    <tr>\n",
       "      <th>0</th>\n",
       "      <td>tGravityAcc-energy()-X</td>\n",
       "      <td>0.036415</td>\n",
       "    </tr>\n",
       "    <tr>\n",
       "      <th>1</th>\n",
       "      <td>tGravityAcc-max()-X</td>\n",
       "      <td>0.030172</td>\n",
       "    </tr>\n",
       "    <tr>\n",
       "      <th>2</th>\n",
       "      <td>tGravityAcc-mean()-X</td>\n",
       "      <td>0.029687</td>\n",
       "    </tr>\n",
       "    <tr>\n",
       "      <th>3</th>\n",
       "      <td>angle(X,gravityMean)</td>\n",
       "      <td>0.026682</td>\n",
       "    </tr>\n",
       "    <tr>\n",
       "      <th>4</th>\n",
       "      <td>tGravityAcc-min()-X</td>\n",
       "      <td>0.026528</td>\n",
       "    </tr>\n",
       "  </tbody>\n",
       "</table>\n",
       "</div>"
      ],
      "text/plain": [
       "             feature_name  feature_importance\n",
       "0  tGravityAcc-energy()-X            0.036415\n",
       "1     tGravityAcc-max()-X            0.030172\n",
       "2    tGravityAcc-mean()-X            0.029687\n",
       "3    angle(X,gravityMean)            0.026682\n",
       "4     tGravityAcc-min()-X            0.026528"
      ]
     },
     "execution_count": 31,
     "metadata": {},
     "output_type": "execute_result"
    }
   ],
   "source": [
    "r.head()"
   ]
  },
  {
   "cell_type": "markdown",
   "metadata": {
    "id": "gqvumLnih6Vo"
   },
   "source": [
    "#### 2) (옵션)적절히 선택한 변수\n",
    "* 변수 중요도 상위 100로 결정해서 모델링 해보기\n",
    "* 변수 중요도 상위 1 ~ 400 까지 변수를 하나씩 늘려가며 모델링 및 성능 비교"
   ]
  },
  {
   "cell_type": "code",
   "execution_count": 32,
   "metadata": {
    "id": "jb2mGrrdh8cs"
   },
   "outputs": [],
   "source": [
    "feature100 = r.loc[:99, 'feature_name']"
   ]
  },
  {
   "cell_type": "code",
   "execution_count": 33,
   "metadata": {
    "id": "ELbLzhyliHt0"
   },
   "outputs": [],
   "source": [
    "x_train100 = x_train[feature100]\n",
    "x_val100 = x_val[feature100]"
   ]
  },
  {
   "cell_type": "code",
   "execution_count": 34,
   "metadata": {
    "id": "rl4hYaEo4CjT"
   },
   "outputs": [],
   "source": [
    "m1_2 = RandomForestClassifier()\n",
    "\n",
    "m1_2.fit(x_train100, y_train)\n",
    "p1_2 = m1_2.predict(x_val100)"
   ]
  },
  {
   "cell_type": "code",
   "execution_count": 35,
   "metadata": {
    "colab": {
     "base_uri": "https://localhost:8080/"
    },
    "executionInfo": {
     "elapsed": 420,
     "status": "ok",
     "timestamp": 1682561174668,
     "user": {
      "displayName": "허신 - Business Intelligence",
      "userId": "11511914061488776232"
     },
     "user_tz": -540
    },
    "id": "CL_TpEkF4CjT",
    "outputId": "b7770183-76c2-4533-9fe3-7db75ed3ad4a"
   },
   "outputs": [
    {
     "name": "stdout",
     "output_type": "stream",
     "text": [
      "accuracy : 0.9813084112149533\n",
      "============================================================\n",
      "[[230   0   0   0   0   0]\n",
      " [  0 202   7   0   0   0]\n",
      " [  0   3 215   0   0   0]\n",
      " [  0   0   0 174   3   3]\n",
      " [  0   0   0   2 160   3]\n",
      " [  0   0   0   0   1 174]]\n",
      "============================================================\n",
      "                    precision    recall  f1-score   support\n",
      "\n",
      "            LAYING       1.00      1.00      1.00       230\n",
      "           SITTING       0.99      0.97      0.98       209\n",
      "          STANDING       0.97      0.99      0.98       218\n",
      "           WALKING       0.99      0.97      0.98       180\n",
      "WALKING_DOWNSTAIRS       0.98      0.97      0.97       165\n",
      "  WALKING_UPSTAIRS       0.97      0.99      0.98       175\n",
      "\n",
      "          accuracy                           0.98      1177\n",
      "         macro avg       0.98      0.98      0.98      1177\n",
      "      weighted avg       0.98      0.98      0.98      1177\n",
      "\n"
     ]
    }
   ],
   "source": [
    "print('accuracy :',accuracy_score(y_val, p1_2))\n",
    "print('='*60)\n",
    "print(confusion_matrix(y_val, p1_2))\n",
    "print('='*60)\n",
    "print(classification_report(y_val, p1_2))"
   ]
  },
  {
   "cell_type": "markdown",
   "metadata": {
    "id": "Dv032yXQ4SCj"
   },
   "source": [
    "* 가장 중요한 변수부터 하나씩 증가시켜가며 모델링 및 accuracy 구하기"
   ]
  },
  {
   "cell_type": "code",
   "execution_count": 36,
   "metadata": {
    "colab": {
     "base_uri": "https://localhost:8080/"
    },
    "executionInfo": {
     "elapsed": 538460,
     "status": "ok",
     "timestamp": 1682561716338,
     "user": {
      "displayName": "허신 - Business Intelligence",
      "userId": "11511914061488776232"
     },
     "user_tz": -540
    },
    "id": "ys3xhg8m4R2t",
    "outputId": "4f92a2ce-3cd4-40e9-cb54-80fc068133e6"
   },
   "outputs": [
    {
     "name": "stdout",
     "output_type": "stream",
     "text": [
      "0\n",
      "1\n",
      "2\n",
      "3\n",
      "4\n",
      "5\n",
      "6\n",
      "7\n",
      "8\n",
      "9\n",
      "10\n",
      "11\n",
      "12\n",
      "13\n",
      "14\n",
      "15\n",
      "16\n",
      "17\n",
      "18\n",
      "19\n",
      "20\n",
      "21\n",
      "22\n",
      "23\n",
      "24\n",
      "25\n",
      "26\n",
      "27\n",
      "28\n",
      "29\n",
      "30\n",
      "31\n",
      "32\n",
      "33\n",
      "34\n",
      "35\n",
      "36\n",
      "37\n",
      "38\n",
      "39\n",
      "40\n",
      "41\n",
      "42\n",
      "43\n",
      "44\n",
      "45\n",
      "46\n",
      "47\n",
      "48\n",
      "49\n",
      "50\n",
      "51\n",
      "52\n",
      "53\n",
      "54\n",
      "55\n",
      "56\n",
      "57\n",
      "58\n",
      "59\n",
      "60\n",
      "61\n",
      "62\n",
      "63\n",
      "64\n",
      "65\n",
      "66\n",
      "67\n",
      "68\n",
      "69\n",
      "70\n",
      "71\n",
      "72\n",
      "73\n",
      "74\n",
      "75\n",
      "76\n",
      "77\n",
      "78\n",
      "79\n",
      "80\n",
      "81\n",
      "82\n",
      "83\n",
      "84\n",
      "85\n",
      "86\n",
      "87\n",
      "88\n",
      "89\n",
      "90\n",
      "91\n",
      "92\n",
      "93\n",
      "94\n",
      "95\n",
      "96\n",
      "97\n",
      "98\n",
      "99\n",
      "100\n",
      "101\n",
      "102\n",
      "103\n",
      "104\n",
      "105\n",
      "106\n",
      "107\n",
      "108\n",
      "109\n",
      "110\n",
      "111\n",
      "112\n",
      "113\n",
      "114\n",
      "115\n",
      "116\n",
      "117\n",
      "118\n",
      "119\n",
      "120\n",
      "121\n",
      "122\n",
      "123\n",
      "124\n",
      "125\n",
      "126\n",
      "127\n",
      "128\n",
      "129\n",
      "130\n",
      "131\n",
      "132\n",
      "133\n",
      "134\n",
      "135\n",
      "136\n",
      "137\n",
      "138\n",
      "139\n",
      "140\n",
      "141\n",
      "142\n",
      "143\n",
      "144\n",
      "145\n",
      "146\n",
      "147\n",
      "148\n",
      "149\n",
      "150\n",
      "151\n",
      "152\n",
      "153\n",
      "154\n",
      "155\n",
      "156\n",
      "157\n",
      "158\n",
      "159\n",
      "160\n",
      "161\n",
      "162\n",
      "163\n",
      "164\n",
      "165\n",
      "166\n",
      "167\n",
      "168\n",
      "169\n",
      "170\n",
      "171\n",
      "172\n",
      "173\n",
      "174\n",
      "175\n",
      "176\n",
      "177\n",
      "178\n",
      "179\n",
      "180\n",
      "181\n",
      "182\n",
      "183\n",
      "184\n",
      "185\n",
      "186\n",
      "187\n",
      "188\n",
      "189\n",
      "190\n",
      "191\n",
      "192\n",
      "193\n",
      "194\n",
      "195\n",
      "196\n",
      "197\n",
      "198\n",
      "199\n"
     ]
    }
   ],
   "source": [
    "acc = []\n",
    "\n",
    "for i in range(200) :   # 전체 변수는 561이지만, 200 정도면 충분\n",
    "    featureN = r.loc[:i, 'feature_name']\n",
    "    x_trainN = x_train[featureN]\n",
    "    x_valN = x_val[featureN]\n",
    "    m = RandomForestClassifier()\n",
    "    m.fit(x_trainN, y_train)\n",
    "    p = m.predict(x_valN)\n",
    "    acc.append(accuracy_score(y_val, p))\n",
    "    print(i)"
   ]
  },
  {
   "cell_type": "code",
   "execution_count": 56,
   "metadata": {
    "colab": {
     "base_uri": "https://localhost:8080/",
     "height": 867
    },
    "executionInfo": {
     "elapsed": 786,
     "status": "ok",
     "timestamp": 1682561809619,
     "user": {
      "displayName": "허신 - Business Intelligence",
      "userId": "11511914061488776232"
     },
     "user_tz": -540
    },
    "id": "mPZZlsxniHqi",
    "outputId": "f9930ca6-f299-418c-a51c-63714bc9deff"
   },
   "outputs": [
    {
     "data": {
      "image/png": "[encoded data removed]",
      "text/plain": [
       "<Figure size 2000x1200 with 1 Axes>"
      ]
     },
     "metadata": {},
     "output_type": "display_data"
    }
   ],
   "source": [
    "plt.figure(figsize = (20,12))\n",
    "plt.plot(range(200), acc, marker = '.')\n",
    "plt.axvline(x=23, color='red', linestyle='--')\n",
    "plt.grid()\n",
    "plt.show()"
   ]
  },
  {
   "cell_type": "markdown",
   "metadata": {
    "id": "kvWLARl652_G"
   },
   "source": [
    "* 적절한 지점의 성능에 맞춰 변수 선택 : ==> 30~50개 정도면 충분!"
   ]
  },
  {
   "cell_type": "code",
   "execution_count": 38,
   "metadata": {
    "id": "iHjSRLU0BD62"
   },
   "outputs": [],
   "source": [
    "feature50 = r.loc[:49, 'feature_name']\n",
    "x_train50 = x_train[feature50]\n",
    "x_val50 = x_val[feature50]"
   ]
  },
  {
   "cell_type": "code",
   "execution_count": 39,
   "metadata": {
    "id": "0dHJihO6BD62"
   },
   "outputs": [],
   "source": [
    "m1_2 = RandomForestClassifier()\n",
    "m1_2.fit(x_train50, y_train)\n",
    "p1_2 = m1_2.predict(x_val50)"
   ]
  },
  {
   "cell_type": "code",
   "execution_count": 40,
   "metadata": {
    "colab": {
     "base_uri": "https://localhost:8080/"
    },
    "executionInfo": {
     "elapsed": 937,
     "status": "ok",
     "timestamp": 1682561823944,
     "user": {
      "displayName": "허신 - Business Intelligence",
      "userId": "11511914061488776232"
     },
     "user_tz": -540
    },
    "id": "s-2Tbz6UBD63",
    "outputId": "5d0c4eb2-5e24-4fc5-8a81-fd2ac81c290e"
   },
   "outputs": [
    {
     "name": "stdout",
     "output_type": "stream",
     "text": [
      "accuracy : 0.9787595581988106\n",
      "============================================================\n",
      "[[230   0   0   0   0   0]\n",
      " [  0 203   6   0   0   0]\n",
      " [  0   6 212   0   0   0]\n",
      " [  0   0   0 175   2   3]\n",
      " [  0   0   0   4 159   2]\n",
      " [  0   0   0   1   1 173]]\n",
      "============================================================\n",
      "                    precision    recall  f1-score   support\n",
      "\n",
      "            LAYING       1.00      1.00      1.00       230\n",
      "           SITTING       0.97      0.97      0.97       209\n",
      "          STANDING       0.97      0.97      0.97       218\n",
      "           WALKING       0.97      0.97      0.97       180\n",
      "WALKING_DOWNSTAIRS       0.98      0.96      0.97       165\n",
      "  WALKING_UPSTAIRS       0.97      0.99      0.98       175\n",
      "\n",
      "          accuracy                           0.98      1177\n",
      "         macro avg       0.98      0.98      0.98      1177\n",
      "      weighted avg       0.98      0.98      0.98      1177\n",
      "\n"
     ]
    }
   ],
   "source": [
    "print('accuracy :',accuracy_score(y_val, p1_2))\n",
    "print('='*60)\n",
    "print(confusion_matrix(y_val, p1_2))\n",
    "print('='*60)\n",
    "print(classification_report(y_val, p1_2))"
   ]
  },
  {
   "cell_type": "markdown",
   "metadata": {
    "id": "rFv7rDSQCDg0"
   },
   "source": [
    "### (2) Logistic Regressin"
   ]
  },
  {
   "cell_type": "markdown",
   "metadata": {
    "id": "5k_uEWwWDbbI"
   },
   "source": [
    "#### 1) 전체 변수"
   ]
  },
  {
   "cell_type": "code",
   "execution_count": 41,
   "metadata": {
    "colab": {
     "base_uri": "https://localhost:8080/"
    },
    "executionInfo": {
     "elapsed": 1427,
     "status": "ok",
     "timestamp": 1682561832404,
     "user": {
      "displayName": "허신 - Business Intelligence",
      "userId": "11511914061488776232"
     },
     "user_tz": -540
    },
    "id": "Ma0ion7ADbbJ",
    "outputId": "1494232e-0d27-455d-8d6b-58647ff10ed3"
   },
   "outputs": [
    {
     "name": "stderr",
     "output_type": "stream",
     "text": [
      "C:\\Users\\User\\anaconda3\\Lib\\site-packages\\sklearn\\linear_model\\_logistic.py:460: ConvergenceWarning: lbfgs failed to converge (status=1):\n",
      "STOP: TOTAL NO. of ITERATIONS REACHED LIMIT.\n",
      "\n",
      "Increase the number of iterations (max_iter) or scale the data as shown in:\n",
      "    https://scikit-learn.org/stable/modules/preprocessing.html\n",
      "Please also refer to the documentation for alternative solver options:\n",
      "    https://scikit-learn.org/stable/modules/linear_model.html#logistic-regression\n",
      "  n_iter_i = _check_optimize_result(\n"
     ]
    }
   ],
   "source": [
    "m2_1 = LogisticRegression()\n",
    "\n",
    "m2_1.fit(x_train, y_train)\n",
    "p2_1 = m2_1.predict(x_val)"
   ]
  },
  {
   "cell_type": "code",
   "execution_count": 42,
   "metadata": {
    "colab": {
     "base_uri": "https://localhost:8080/"
    },
    "executionInfo": {
     "elapsed": 5,
     "status": "ok",
     "timestamp": 1682561832404,
     "user": {
      "displayName": "허신 - Business Intelligence",
      "userId": "11511914061488776232"
     },
     "user_tz": -540
    },
    "id": "5T_YZRqKDbbJ",
    "outputId": "a943b47e-cc42-4e30-f7d6-ec2707af38cb"
   },
   "outputs": [
    {
     "name": "stdout",
     "output_type": "stream",
     "text": [
      "accuracy : 0.9881053525913339\n",
      "============================================================\n",
      "[[230   0   0   0   0   0]\n",
      " [  0 203   6   0   0   0]\n",
      " [  0   6 212   0   0   0]\n",
      " [  0   0   0 180   0   0]\n",
      " [  0   0   0   0 165   0]\n",
      " [  0   0   0   2   0 173]]\n",
      "============================================================\n",
      "                    precision    recall  f1-score   support\n",
      "\n",
      "            LAYING       1.00      1.00      1.00       230\n",
      "           SITTING       0.97      0.97      0.97       209\n",
      "          STANDING       0.97      0.97      0.97       218\n",
      "           WALKING       0.99      1.00      0.99       180\n",
      "WALKING_DOWNSTAIRS       1.00      1.00      1.00       165\n",
      "  WALKING_UPSTAIRS       1.00      0.99      0.99       175\n",
      "\n",
      "          accuracy                           0.99      1177\n",
      "         macro avg       0.99      0.99      0.99      1177\n",
      "      weighted avg       0.99      0.99      0.99      1177\n",
      "\n"
     ]
    }
   ],
   "source": [
    "print('accuracy :',accuracy_score(y_val, p2_1))\n",
    "print('='*60)\n",
    "print(confusion_matrix(y_val, p2_1))\n",
    "print('='*60)\n",
    "print(classification_report(y_val, p2_1))"
   ]
  },
  {
   "cell_type": "markdown",
   "metadata": {
    "id": "PbyAyPliDbbK"
   },
   "source": [
    "#### 2) (옵션)적절히 선택한 변수\n",
    "* 변수 중요도 상위 100로 모델링 해보기"
   ]
  },
  {
   "cell_type": "code",
   "execution_count": 43,
   "metadata": {
    "id": "2IyNBj2FEHq4"
   },
   "outputs": [],
   "source": [
    "feature100 = r.loc[:99, 'feature_name']"
   ]
  },
  {
   "cell_type": "code",
   "execution_count": 44,
   "metadata": {
    "id": "bd5VqooeEHq5"
   },
   "outputs": [],
   "source": [
    "x_train100 = x_train[feature100]\n",
    "x_val100 = x_val[feature100]"
   ]
  },
  {
   "cell_type": "code",
   "execution_count": 45,
   "metadata": {
    "colab": {
     "base_uri": "https://localhost:8080/"
    },
    "executionInfo": {
     "elapsed": 1050,
     "status": "ok",
     "timestamp": 1682561833452,
     "user": {
      "displayName": "허신 - Business Intelligence",
      "userId": "11511914061488776232"
     },
     "user_tz": -540
    },
    "id": "xslLibh3EHq5",
    "outputId": "d90969a2-3541-4a82-8a2e-85b934d1e866"
   },
   "outputs": [
    {
     "name": "stderr",
     "output_type": "stream",
     "text": [
      "C:\\Users\\User\\anaconda3\\Lib\\site-packages\\sklearn\\linear_model\\_logistic.py:460: ConvergenceWarning: lbfgs failed to converge (status=1):\n",
      "STOP: TOTAL NO. of ITERATIONS REACHED LIMIT.\n",
      "\n",
      "Increase the number of iterations (max_iter) or scale the data as shown in:\n",
      "    https://scikit-learn.org/stable/modules/preprocessing.html\n",
      "Please also refer to the documentation for alternative solver options:\n",
      "    https://scikit-learn.org/stable/modules/linear_model.html#logistic-regression\n",
      "  n_iter_i = _check_optimize_result(\n"
     ]
    }
   ],
   "source": [
    "m2_2 = LogisticRegression()\n",
    "\n",
    "m2_2.fit(x_train100, y_train)\n",
    "p2_2 = m2_2.predict(x_val100)"
   ]
  },
  {
   "cell_type": "code",
   "execution_count": 46,
   "metadata": {
    "colab": {
     "base_uri": "https://localhost:8080/"
    },
    "executionInfo": {
     "elapsed": 4,
     "status": "ok",
     "timestamp": 1682561833452,
     "user": {
      "displayName": "허신 - Business Intelligence",
      "userId": "11511914061488776232"
     },
     "user_tz": -540
    },
    "id": "ErKJFBwAEHq5",
    "outputId": "d9ac0dea-30ec-4f19-ab45-5d6fa78c00c3"
   },
   "outputs": [
    {
     "name": "stdout",
     "output_type": "stream",
     "text": [
      "accuracy : 0.9524214103653356\n",
      "============================================================\n",
      "[[230   0   0   0   0   0]\n",
      " [  0 179  30   0   0   0]\n",
      " [  0  19 199   0   0   0]\n",
      " [  0   0   0 176   1   3]\n",
      " [  0   0   0   0 165   0]\n",
      " [  0   0   0   3   0 172]]\n",
      "============================================================\n",
      "                    precision    recall  f1-score   support\n",
      "\n",
      "            LAYING       1.00      1.00      1.00       230\n",
      "           SITTING       0.90      0.86      0.88       209\n",
      "          STANDING       0.87      0.91      0.89       218\n",
      "           WALKING       0.98      0.98      0.98       180\n",
      "WALKING_DOWNSTAIRS       0.99      1.00      1.00       165\n",
      "  WALKING_UPSTAIRS       0.98      0.98      0.98       175\n",
      "\n",
      "          accuracy                           0.95      1177\n",
      "         macro avg       0.96      0.95      0.96      1177\n",
      "      weighted avg       0.95      0.95      0.95      1177\n",
      "\n"
     ]
    }
   ],
   "source": [
    "print('accuracy :',accuracy_score(y_val, p2_2))\n",
    "print('='*60)\n",
    "print(confusion_matrix(y_val, p2_2))\n",
    "print('='*60)\n",
    "print(classification_report(y_val, p2_2))"
   ]
  },
  {
   "cell_type": "markdown",
   "metadata": {
    "id": "W8izzKzVhXbb"
   },
   "source": [
    "### (3) SVM"
   ]
  },
  {
   "cell_type": "markdown",
   "metadata": {
    "id": "zHQOqBq1yIB0"
   },
   "source": [
    "#### 1) kernel = 'rbf'"
   ]
  },
  {
   "cell_type": "code",
   "execution_count": 47,
   "metadata": {
    "id": "FltUtKYByKHL"
   },
   "outputs": [],
   "source": [
    "#매개변수 C, gamma, kernel 모두 기본값\n",
    "m3_1 = SVC(C=1, gamma=0.01, kernel = 'rbf', random_state=2022) \n",
    "m3_1.fit(x_train, y_train)\n",
    "p3_1 = m3_1.predict(x_val)"
   ]
  },
  {
   "cell_type": "code",
   "execution_count": 48,
   "metadata": {
    "colab": {
     "base_uri": "https://localhost:8080/"
    },
    "executionInfo": {
     "elapsed": 3,
     "status": "ok",
     "timestamp": 1682561879396,
     "user": {
      "displayName": "허신 - Business Intelligence",
      "userId": "11511914061488776232"
     },
     "user_tz": -540
    },
    "id": "ztD4_svL0qt9",
    "outputId": "1b1fc1d7-298a-4e1f-bdc9-00384421970e"
   },
   "outputs": [
    {
     "name": "stdout",
     "output_type": "stream",
     "text": [
      "accuracy : 0.9762107051826678\n",
      "============================================================\n",
      "[[230   0   0   0   0   0]\n",
      " [  0 196  13   0   0   0]\n",
      " [  0  13 205   0   0   0]\n",
      " [  0   0   0 180   0   0]\n",
      " [  0   0   0   0 165   0]\n",
      " [  0   0   0   2   0 173]]\n",
      "============================================================\n",
      "                    precision    recall  f1-score   support\n",
      "\n",
      "            LAYING       1.00      1.00      1.00       230\n",
      "           SITTING       0.94      0.94      0.94       209\n",
      "          STANDING       0.94      0.94      0.94       218\n",
      "           WALKING       0.99      1.00      0.99       180\n",
      "WALKING_DOWNSTAIRS       1.00      1.00      1.00       165\n",
      "  WALKING_UPSTAIRS       1.00      0.99      0.99       175\n",
      "\n",
      "          accuracy                           0.98      1177\n",
      "         macro avg       0.98      0.98      0.98      1177\n",
      "      weighted avg       0.98      0.98      0.98      1177\n",
      "\n"
     ]
    }
   ],
   "source": [
    "print('accuracy :',accuracy_score(y_val, p3_1))\n",
    "print('='*60)\n",
    "print(confusion_matrix(y_val, p3_1))\n",
    "print('='*60)\n",
    "print(classification_report(y_val, p3_1))"
   ]
  },
  {
   "cell_type": "markdown",
   "metadata": {
    "id": "C9ZFlqdIVlVA"
   },
   "source": [
    "#### 2) kernel = 'linear'"
   ]
  },
  {
   "cell_type": "code",
   "execution_count": 49,
   "metadata": {
    "id": "ldiZxnfhVkdt"
   },
   "outputs": [],
   "source": [
    "m3_2 = SVC(C=1, gamma=0.01, kernel = 'linear', random_state=2022) \n",
    "m3_2.fit(x_train, y_train)\n",
    "p3_2 = m3_2.predict(x_val)"
   ]
  },
  {
   "cell_type": "code",
   "execution_count": 50,
   "metadata": {
    "colab": {
     "base_uri": "https://localhost:8080/"
    },
    "executionInfo": {
     "elapsed": 2,
     "status": "ok",
     "timestamp": 1682561880740,
     "user": {
      "displayName": "허신 - Business Intelligence",
      "userId": "11511914061488776232"
     },
     "user_tz": -540
    },
    "id": "Np6GfyQMVtK2",
    "outputId": "96254bc7-f63e-4d66-cc8c-268402442450"
   },
   "outputs": [
    {
     "name": "stdout",
     "output_type": "stream",
     "text": [
      "accuracy : 0.9864061172472387\n",
      "============================================================\n",
      "[[230   0   0   0   0   0]\n",
      " [  0 200   9   0   0   0]\n",
      " [  0   7 211   0   0   0]\n",
      " [  0   0   0 180   0   0]\n",
      " [  0   0   0   0 165   0]\n",
      " [  0   0   0   0   0 175]]\n",
      "============================================================\n",
      "                    precision    recall  f1-score   support\n",
      "\n",
      "            LAYING       1.00      1.00      1.00       230\n",
      "           SITTING       0.97      0.96      0.96       209\n",
      "          STANDING       0.96      0.97      0.96       218\n",
      "           WALKING       1.00      1.00      1.00       180\n",
      "WALKING_DOWNSTAIRS       1.00      1.00      1.00       165\n",
      "  WALKING_UPSTAIRS       1.00      1.00      1.00       175\n",
      "\n",
      "          accuracy                           0.99      1177\n",
      "         macro avg       0.99      0.99      0.99      1177\n",
      "      weighted avg       0.99      0.99      0.99      1177\n",
      "\n"
     ]
    }
   ],
   "source": [
    "print('accuracy :',accuracy_score(y_val, p3_2))\n",
    "print('='*60)\n",
    "print(confusion_matrix(y_val, p3_2))\n",
    "print('='*60)\n",
    "print(classification_report(y_val, p3_2))"
   ]
  },
  {
   "cell_type": "markdown",
   "metadata": {
    "id": "88xqPonK80kn"
   },
   "source": [
    "#### 3) 하이퍼파라미터 튜닝"
   ]
  },
  {
   "cell_type": "markdown",
   "metadata": {
    "id": "JjZr73NXydyN"
   },
   "source": [
    "* test 전체 수행하기(12 ~ 15분 소요)"
   ]
  },
  {
   "cell_type": "code",
   "execution_count": 51,
   "metadata": {
    "id": "XatQ3FaUHqWT"
   },
   "outputs": [],
   "source": [
    "# 딕셔너리 형태로 관심있는 매개변수의 그리드 설정하기\n",
    "param_grid = {'C': [0.01, 1, 100],\n",
    "             'gamma': [0.0001, 0.001, 0.1, 1],\n",
    "              'kernel': ['linear', 'rbf'] }\n",
    "\n",
    "#생성\n",
    "# refit=True 가 default 임. True이면 가장 좋은 파라미터 설정으로 재학습시킴. \n",
    "model_svc = SVC() \n",
    "m3_3= GridSearchCV (model_svc, param_grid, return_train_score=True) #cross-validation 옵션 추가? cv=5\n",
    "\n",
    "#학습\n",
    "# train data로 param_grid의 하이퍼 파라미터들을 순차적으로 학습/평가 .\n",
    "m3_3.fit(x_train, y_train)\n",
    "\n",
    "#결과\n",
    "# GridSearchCV 결과 추출하여 DataFrame으로 변환\n",
    "scores_df = pd.DataFrame(m3_3.cv_results_)"
   ]
  },
  {
   "cell_type": "code",
   "execution_count": 52,
   "metadata": {
    "colab": {
     "base_uri": "https://localhost:8080/"
    },
    "executionInfo": {
     "elapsed": 569,
     "status": "ok",
     "timestamp": 1682562662095,
     "user": {
      "displayName": "허신 - Business Intelligence",
      "userId": "11511914061488776232"
     },
     "user_tz": -540
    },
    "id": "419G5Gu6I4Ro",
    "outputId": "17aeff61-3273-4219-f431-7d1efe0bea01"
   },
   "outputs": [
    {
     "name": "stdout",
     "output_type": "stream",
     "text": [
      "최적파라미터: {'C': 1, 'gamma': 0.0001, 'kernel': 'linear'}\n",
      "============================================================\n",
      "최고성능: 0.98448187758609\n",
      "============================================================\n"
     ]
    }
   ],
   "source": [
    "print('최적파라미터:', m3_3.best_params_)\n",
    "print('='*60)\n",
    "print('최고성능:', m3_3.best_score_)\n",
    "print('='*60)"
   ]
  },
  {
   "cell_type": "markdown",
   "metadata": {
    "id": "yWg-KMDn9bix"
   },
   "source": [
    "* 예측 및 평가"
   ]
  },
  {
   "cell_type": "code",
   "execution_count": 53,
   "metadata": {
    "id": "2rIjmejk9Y7t"
   },
   "outputs": [],
   "source": [
    "p3_3 = m3_3.predict(x_val)"
   ]
  },
  {
   "cell_type": "code",
   "execution_count": 54,
   "metadata": {
    "colab": {
     "base_uri": "https://localhost:8080/"
    },
    "executionInfo": {
     "elapsed": 664,
     "status": "ok",
     "timestamp": 1682562665795,
     "user": {
      "displayName": "허신 - Business Intelligence",
      "userId": "11511914061488776232"
     },
     "user_tz": -540
    },
    "id": "NT5bFCCC9icL",
    "outputId": "311c0c49-ffbd-49c0-b39f-15e987d772e5"
   },
   "outputs": [
    {
     "name": "stdout",
     "output_type": "stream",
     "text": [
      "accuracy : 0.9864061172472387\n",
      "============================================================\n",
      "[[230   0   0   0   0   0]\n",
      " [  0 200   9   0   0   0]\n",
      " [  0   7 211   0   0   0]\n",
      " [  0   0   0 180   0   0]\n",
      " [  0   0   0   0 165   0]\n",
      " [  0   0   0   0   0 175]]\n",
      "============================================================\n",
      "                    precision    recall  f1-score   support\n",
      "\n",
      "            LAYING       1.00      1.00      1.00       230\n",
      "           SITTING       0.97      0.96      0.96       209\n",
      "          STANDING       0.96      0.97      0.96       218\n",
      "           WALKING       1.00      1.00      1.00       180\n",
      "WALKING_DOWNSTAIRS       1.00      1.00      1.00       165\n",
      "  WALKING_UPSTAIRS       1.00      1.00      1.00       175\n",
      "\n",
      "          accuracy                           0.99      1177\n",
      "         macro avg       0.99      0.99      0.99      1177\n",
      "      weighted avg       0.99      0.99      0.99      1177\n",
      "\n"
     ]
    }
   ],
   "source": [
    "print('accuracy :',accuracy_score(y_val, p3_3))\n",
    "print('='*60)\n",
    "print(confusion_matrix(y_val, p3_3))\n",
    "print('='*60)\n",
    "print(classification_report(y_val, p3_3))"
   ]
  },
  {
   "cell_type": "code",
   "execution_count": null,
   "metadata": {},
   "outputs": [],
   "source": []
  }
 ],
 "metadata": {
  "accelerator": "GPU",
  "colab": {
   "provenance": [],
   "toc_visible": true
  },
  "gpuClass": "standard",
  "kernelspec": {
   "display_name": "Python 3 (ipykernel)",
   "language": "python",
   "name": "python3"
  },
  "language_info": {
   "codemirror_mode": {
    "name": "ipython",
    "version": 3
   },
   "file_extension": ".py",
   "mimetype": "text/x-python",
   "name": "python",
   "nbconvert_exporter": "python",
   "pygments_lexer": "ipython3",
   "version": "3.11.5"
  }
 },
 "nbformat": 4,
 "nbformat_minor": 4
}
