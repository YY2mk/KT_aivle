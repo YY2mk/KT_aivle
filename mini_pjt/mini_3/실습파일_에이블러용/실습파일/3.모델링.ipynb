{
 "cells": [
  {
   "cell_type": "markdown",
   "metadata": {
    "id": "mJlY5pHkC2AM"
   },
   "source": [
    "#**주차 수요 예측**\n",
    "# 단계3 : 모델링"
   ]
  },
  {
   "cell_type": "markdown",
   "metadata": {
    "id": "-FPypzell2uc"
   },
   "source": [
    "## 0.미션"
   ]
  },
  {
   "cell_type": "markdown",
   "metadata": {
    "id": "7Mnp40gLnyM5"
   },
   "source": [
    "* 1) 모델링\n",
    "    * 4개 이상의 알고리즘을 이용하여 모델 생성\n",
    "    * 각 모델에 대해 성능 튜닝 수행\n",
    "    * 성능 평가 및 비교\n",
    "        * 결과를 데이터프레임으로 정리하여 비교.\n",
    "        * 성능 비교를 통해 최적의 모델 선정\n",
    "        * 성능 가이드 \n",
    "            * MAE : 115~178\n",
    "            * MAPE : 0.69~1.51\n",
    "\n",
    "* 2) 파이프라인모델링\n",
    "    * 함수 생성\n",
    "        * Input : 새로운 데이터를 입력 받아서 \n",
    "        * 전처리를 수행한 후\n",
    "        * 선정된 모델로 예측\n",
    "        * Output : 예측 결과 "
   ]
  },
  {
   "cell_type": "markdown",
   "metadata": {
    "id": "9zG6pA-WeHxT"
   },
   "source": [
    "## 1.환경설정"
   ]
  },
  {
   "cell_type": "markdown",
   "metadata": {
    "id": "yfvvK98cpklr"
   },
   "source": [
    "* 세부 요구사항\n",
    "    - 경로 설정 : 다음의 두가지 방법 중 하나를 선택하여 폴더를 준비하고 데이터를 로딩하시오.\n",
    "        * 1) 로컬 수행(Ananconda)\n",
    "            * 제공된 압축파일을 다운받아 압축을 풀고\n",
    "            * anaconda의 root directory(보통 C:/Users/< ID > 에 project 폴더를 만들고, 복사해 넣습니다.\n",
    "        * 2) 구글콜랩\n",
    "            * 구글 드라이브 바로 밑에 project 폴더를 만들고, \n",
    "            * 데이터 파일을 복사해 넣습니다.\n",
    "    - 라이브러리 설치 및 로딩\n",
    "        * requirements.txt 파일로 부터 라이브러리 설치\n",
    "    - 기본적으로 필요한 라이브러리를 import 하도록 코드가 작성되어 있습니다. \n",
    "        * 필요하다고 판단되는 라이브러리를 추가하세요.\n"
   ]
  },
  {
   "cell_type": "markdown",
   "metadata": {
    "id": "6qsy44YpolGu"
   },
   "source": [
    "### (1) 경로 설정"
   ]
  },
  {
   "cell_type": "markdown",
   "metadata": {
    "id": "gklxNfgNpkls"
   },
   "source": [
    "#### 1) 로컬 수행(Anaconda)\n",
    "* project 폴더에 필요한 파일들을 넣고, 본 파일을 열었다면, 별도 경로 지정이 필요하지 않습니다."
   ]
  },
  {
   "cell_type": "code",
   "execution_count": 77,
   "metadata": {
    "id": "PNI6X2yxpkls"
   },
   "outputs": [],
   "source": [
    "path = 'C:/Users/User/program/mini_pjt/mini_3/실습파일_에이블러용/데이터/'"
   ]
  },
  {
   "cell_type": "markdown",
   "metadata": {
    "id": "7rWT4biQpkls"
   },
   "source": [
    "#### 2) 구글 콜랩 수행"
   ]
  },
  {
   "cell_type": "markdown",
   "metadata": {
    "id": "3OpMHqwdpkls"
   },
   "source": [
    "* 구글 드라이브 연결"
   ]
  },
  {
   "cell_type": "code",
   "execution_count": 78,
   "metadata": {
    "id": "CLasRk8Spklt"
   },
   "outputs": [],
   "source": [
    "# from google.colab import drive\n",
    "# drive.mount('/content/drive')"
   ]
  },
  {
   "cell_type": "code",
   "execution_count": 79,
   "metadata": {
    "id": "CAVyyXi9pklt"
   },
   "outputs": [],
   "source": [
    "#path = '/content/drive/MyDrive/project/'"
   ]
  },
  {
   "cell_type": "markdown",
   "metadata": {
    "id": "szLW_muKtxqT"
   },
   "source": [
    "### (2) 라이브러리 설치 및 불러오기"
   ]
  },
  {
   "cell_type": "markdown",
   "metadata": {
    "id": "yZZpUzXun1mw"
   },
   "source": [
    "#### 1) 설치"
   ]
  },
  {
   "cell_type": "markdown",
   "metadata": {
    "id": "AbH2LIqIj9Ln"
   },
   "source": [
    "* requirements.txt 파일을 아래 위치에 두고 다음 코드를 실행하시오.\n",
    "    * 로컬 : 다음 코드셀 실행\n",
    "    * 구글콜랩 : requirements.txt 파일을 왼쪽 [파일]탭에 복사해 넣고 다음 코드셀 실행"
   ]
  },
  {
   "cell_type": "code",
   "execution_count": 80,
   "metadata": {
    "id": "Up5PHTlmlnYG"
   },
   "outputs": [],
   "source": [
    "#!pip install -r requirements.txt"
   ]
  },
  {
   "cell_type": "markdown",
   "metadata": {
    "id": "alc9QaqapA_y"
   },
   "source": [
    "#### 2) 라이브러리 로딩"
   ]
  },
  {
   "cell_type": "markdown",
   "metadata": {
    "id": "rarC6ZAlwEjf"
   },
   "source": [
    "* **세부 요구사항**\n",
    "    - 기본적으로 필요한 라이브러리를 import 하도록 코드가 작성되어 있습니다.\n",
    "    - 필요하다고 판단되는 라이브러리를 추가하세요."
   ]
  },
  {
   "cell_type": "code",
   "execution_count": 81,
   "metadata": {
    "id": "vQoPk5hhwEjf"
   },
   "outputs": [],
   "source": [
    "import pandas as pd\n",
    "import numpy as np\n",
    "import matplotlib.pyplot as plt\n",
    "import seaborn as sns\n",
    "\n",
    "import joblib \n",
    "\n",
    "# 필요한 라이브러리 로딩\n",
    "from sklearn.model_selection import train_test_split, GridSearchCV\n",
    "from sklearn.ensemble import RandomForestRegressor\n",
    "from sklearn.tree import DecisionTreeRegressor\n",
    "from sklearn.linear_model import LinearRegression\n",
    "from sklearn.neighbors import KNeighborsRegressor\n",
    "from sklearn.metrics import *"
   ]
  },
  {
   "cell_type": "markdown",
   "metadata": {
    "id": "xkEmuB30wRaS"
   },
   "source": [
    "#### 3) 함수 생성"
   ]
  },
  {
   "cell_type": "markdown",
   "metadata": {
    "id": "ySzE_RTXweho"
   },
   "source": [
    "* 모델 실제 vs 예측결과 비교 그래프"
   ]
  },
  {
   "cell_type": "code",
   "execution_count": 82,
   "metadata": {
    "id": "e8uZwiyWweBa"
   },
   "outputs": [],
   "source": [
    "def model_plot(y, pred) : \n",
    "    plt.figure(figsize = (12,8))\n",
    "    plt.scatter(y, pred, alpha=0.4)\n",
    "\n",
    "    x_l = np.linspace( y.min(), y.max(), 100)\n",
    "    plt.plot(x_l, x_l, color = 'black', alpha=0.4)\n",
    "\n",
    "    plt.xlabel(\"Actual\")\n",
    "    plt.ylabel(\"Predicted\")\n",
    "    plt.grid()\n",
    "    plt.show()"
   ]
  },
  {
   "cell_type": "markdown",
   "metadata": {
    "id": "jRjbRkGqwEjf"
   },
   "source": [
    "### (3) 데이터 불러오기"
   ]
  },
  {
   "cell_type": "markdown",
   "metadata": {
    "id": "LGMKDSgMwfG0"
   },
   "source": [
    "* **세부 요구사항**\n",
    "    - 탐색적 데이터분석 단계에서 저장한 파일을 불러옵니다."
   ]
  },
  {
   "cell_type": "code",
   "execution_count": 83,
   "metadata": {
    "id": "X2kI5qHzwEjg"
   },
   "outputs": [],
   "source": [
    "train = joblib.load(path + 'train2.pkl')"
   ]
  },
  {
   "cell_type": "code",
   "execution_count": 84,
   "metadata": {
    "id": "nx3ZFaN9Xmv_"
   },
   "outputs": [
    {
     "data": {
      "text/html": [
       "<div>\n",
       "<style scoped>\n",
       "    .dataframe tbody tr th:only-of-type {\n",
       "        vertical-align: middle;\n",
       "    }\n",
       "\n",
       "    .dataframe tbody tr th {\n",
       "        vertical-align: top;\n",
       "    }\n",
       "\n",
       "    .dataframe thead th {\n",
       "        text-align: right;\n",
       "    }\n",
       "</style>\n",
       "<table border=\"1\" class=\"dataframe\">\n",
       "  <thead>\n",
       "    <tr style=\"text-align: right;\">\n",
       "      <th></th>\n",
       "      <th>단지코드</th>\n",
       "      <th>총세대수</th>\n",
       "      <th>전용면적별세대수</th>\n",
       "      <th>건물형태</th>\n",
       "      <th>난방방식</th>\n",
       "      <th>전용면적</th>\n",
       "      <th>공급면적(공용)</th>\n",
       "      <th>임대보증금</th>\n",
       "      <th>임대료</th>\n",
       "      <th>실차량수</th>\n",
       "      <th>총면적</th>\n",
       "    </tr>\n",
       "  </thead>\n",
       "  <tbody>\n",
       "    <tr>\n",
       "      <th>0</th>\n",
       "      <td>C0001</td>\n",
       "      <td>78</td>\n",
       "      <td>35</td>\n",
       "      <td>계단식</td>\n",
       "      <td>가스난방</td>\n",
       "      <td>51.89</td>\n",
       "      <td>19.2603</td>\n",
       "      <td>50758000</td>\n",
       "      <td>620370</td>\n",
       "      <td>109</td>\n",
       "      <td>1816.15</td>\n",
       "    </tr>\n",
       "    <tr>\n",
       "      <th>1</th>\n",
       "      <td>C0001</td>\n",
       "      <td>78</td>\n",
       "      <td>43</td>\n",
       "      <td>계단식</td>\n",
       "      <td>가스난방</td>\n",
       "      <td>59.93</td>\n",
       "      <td>22.2446</td>\n",
       "      <td>63166000</td>\n",
       "      <td>665490</td>\n",
       "      <td>109</td>\n",
       "      <td>2576.99</td>\n",
       "    </tr>\n",
       "    <tr>\n",
       "      <th>2</th>\n",
       "      <td>C0002</td>\n",
       "      <td>35</td>\n",
       "      <td>26</td>\n",
       "      <td>복도식</td>\n",
       "      <td>가스난방</td>\n",
       "      <td>27.75</td>\n",
       "      <td>16.5375</td>\n",
       "      <td>63062000</td>\n",
       "      <td>458640</td>\n",
       "      <td>35</td>\n",
       "      <td>721.50</td>\n",
       "    </tr>\n",
       "    <tr>\n",
       "      <th>3</th>\n",
       "      <td>C0002</td>\n",
       "      <td>35</td>\n",
       "      <td>9</td>\n",
       "      <td>복도식</td>\n",
       "      <td>가스난방</td>\n",
       "      <td>29.08</td>\n",
       "      <td>17.3302</td>\n",
       "      <td>63062000</td>\n",
       "      <td>481560</td>\n",
       "      <td>35</td>\n",
       "      <td>261.72</td>\n",
       "    </tr>\n",
       "    <tr>\n",
       "      <th>4</th>\n",
       "      <td>C0003</td>\n",
       "      <td>88</td>\n",
       "      <td>7</td>\n",
       "      <td>계단식</td>\n",
       "      <td>가스난방</td>\n",
       "      <td>59.47</td>\n",
       "      <td>21.9462</td>\n",
       "      <td>72190000</td>\n",
       "      <td>586540</td>\n",
       "      <td>88</td>\n",
       "      <td>416.29</td>\n",
       "    </tr>\n",
       "  </tbody>\n",
       "</table>\n",
       "</div>"
      ],
      "text/plain": [
       "    단지코드  총세대수  전용면적별세대수 건물형태  난방방식   전용면적  공급면적(공용)     임대보증금     임대료  실차량수  \\\n",
       "0  C0001    78        35  계단식  가스난방  51.89   19.2603  50758000  620370   109   \n",
       "1  C0001    78        43  계단식  가스난방  59.93   22.2446  63166000  665490   109   \n",
       "2  C0002    35        26  복도식  가스난방  27.75   16.5375  63062000  458640    35   \n",
       "3  C0002    35         9  복도식  가스난방  29.08   17.3302  63062000  481560    35   \n",
       "4  C0003    88         7  계단식  가스난방  59.47   21.9462  72190000  586540    88   \n",
       "\n",
       "       총면적  \n",
       "0  1816.15  \n",
       "1  2576.99  \n",
       "2   721.50  \n",
       "3   261.72  \n",
       "4   416.29  "
      ]
     },
     "execution_count": 84,
     "metadata": {},
     "output_type": "execute_result"
    }
   ],
   "source": [
    "train.head()"
   ]
  },
  {
   "cell_type": "code",
   "execution_count": 85,
   "metadata": {
    "id": "Nrv3NIlZ08dt"
   },
   "outputs": [
    {
     "data": {
      "text/plain": [
       "Index(['단지코드', '총세대수', '전용면적별세대수', '건물형태', '난방방식', '전용면적', '공급면적(공용)', '임대보증금',\n",
       "       '임대료', '실차량수', '총면적'],\n",
       "      dtype='object')"
      ]
     },
     "execution_count": 85,
     "metadata": {},
     "output_type": "execute_result"
    }
   ],
   "source": [
    "train.columns"
   ]
  },
  {
   "cell_type": "markdown",
   "metadata": {
    "id": "_rnxI9AX34So"
   },
   "source": [
    "## 2.모델링"
   ]
  },
  {
   "cell_type": "markdown",
   "metadata": {
    "id": "mVsPIMMuday1"
   },
   "source": [
    "* **세부 요구사항**\n",
    "    * 모델링을 위한 전처리 : NaN 조치. 데이터 분할, 스케일링, 가변수화 등\n",
    "    * 4개 이상의 알고리즘을 이용하여 모델 생성\n",
    "    * 각 모델에 대해 성능 튜닝 수행\n",
    "        * 선형회귀 : 릿지, 라쏘, 엘라스틱넷 중 1~2개 함께 사용하여 성능 비교\n",
    "        * 랜덤포레스트 : 기본값으로 모델링 수행\n",
    "        * 그외 알고리즘 : 그리드서치 튜닝으로 성능 최적화\n",
    "    * 성능 비교를 통해 최적의 모델 선정\n",
    "        * 검증 성능 가이드라인 : MAE : 120 내외"
   ]
  },
  {
   "cell_type": "markdown",
   "metadata": {
    "id": "I2dCzUzIdmGA"
   },
   "source": [
    "### (1) 데이터전처리\n"
   ]
  },
  {
   "cell_type": "markdown",
   "metadata": {
    "id": "wu_hYNVXd7JX"
   },
   "source": [
    "* **세부 요구사항**\n",
    "    * 모델링을 위한 전처리를 수행합니다.\n",
    "        * x,y 분할(식별자 역할의 단지코드 칼럼 제거하고, x,y로 분할)\n",
    "        * 단지코드 제거\n",
    "        * 가변수화\n",
    "        * 스케일링(필요시)\n",
    "        * train : validation\n",
    "            * 적절한 비율 사용하기\n",
    "            * random_state 지정하기"
   ]
  },
  {
   "cell_type": "markdown",
   "metadata": {
    "id": "hMEPxxCV9zop"
   },
   "source": [
    "#### 1) x, y 분할"
   ]
  },
  {
   "cell_type": "code",
   "execution_count": 86,
   "metadata": {},
   "outputs": [
    {
     "data": {
      "text/plain": [
       "Index(['단지코드', '총세대수', '전용면적별세대수', '건물형태', '난방방식', '전용면적', '공급면적(공용)', '임대보증금',\n",
       "       '임대료', '실차량수', '총면적'],\n",
       "      dtype='object')"
      ]
     },
     "execution_count": 86,
     "metadata": {},
     "output_type": "execute_result"
    }
   ],
   "source": [
    "train.columns"
   ]
  },
  {
   "cell_type": "code",
   "execution_count": 87,
   "metadata": {},
   "outputs": [],
   "source": [
    "target = '실차량수'"
   ]
  },
  {
   "cell_type": "code",
   "execution_count": 88,
   "metadata": {},
   "outputs": [],
   "source": [
    "train.drop('단지코드', axis=1, inplace=True)"
   ]
  },
  {
   "cell_type": "code",
   "execution_count": 89,
   "metadata": {
    "id": "vBHAkm1Y92U0"
   },
   "outputs": [],
   "source": [
    "x = train.drop(target, axis=1)\n",
    "y = train.loc[:, target]"
   ]
  },
  {
   "cell_type": "markdown",
   "metadata": {
    "id": "wQKKhbsv72ej"
   },
   "source": [
    "#### 2) NaN 조치"
   ]
  },
  {
   "cell_type": "code",
   "execution_count": 90,
   "metadata": {
    "id": "pc98P1sr75cN"
   },
   "outputs": [
    {
     "data": {
      "text/plain": [
       "총세대수        0\n",
       "전용면적별세대수    0\n",
       "건물형태        0\n",
       "난방방식        0\n",
       "전용면적        0\n",
       "공급면적(공용)    0\n",
       "임대보증금       0\n",
       "임대료         0\n",
       "실차량수        0\n",
       "총면적         0\n",
       "dtype: int64"
      ]
     },
     "execution_count": 90,
     "metadata": {},
     "output_type": "execute_result"
    }
   ],
   "source": [
    "# 1번 데이터 전처리에서 조치함\n",
    "train.isna().sum() "
   ]
  },
  {
   "cell_type": "markdown",
   "metadata": {
    "id": "LwhUygCD-a5-"
   },
   "source": [
    "#### 3) 가변수화"
   ]
  },
  {
   "cell_type": "code",
   "execution_count": 91,
   "metadata": {},
   "outputs": [
    {
     "data": {
      "text/html": [
       "<div>\n",
       "<style scoped>\n",
       "    .dataframe tbody tr th:only-of-type {\n",
       "        vertical-align: middle;\n",
       "    }\n",
       "\n",
       "    .dataframe tbody tr th {\n",
       "        vertical-align: top;\n",
       "    }\n",
       "\n",
       "    .dataframe thead th {\n",
       "        text-align: right;\n",
       "    }\n",
       "</style>\n",
       "<table border=\"1\" class=\"dataframe\">\n",
       "  <thead>\n",
       "    <tr style=\"text-align: right;\">\n",
       "      <th></th>\n",
       "      <th>총세대수</th>\n",
       "      <th>전용면적별세대수</th>\n",
       "      <th>건물형태</th>\n",
       "      <th>난방방식</th>\n",
       "      <th>전용면적</th>\n",
       "      <th>공급면적(공용)</th>\n",
       "      <th>임대보증금</th>\n",
       "      <th>임대료</th>\n",
       "      <th>실차량수</th>\n",
       "      <th>총면적</th>\n",
       "    </tr>\n",
       "  </thead>\n",
       "  <tbody>\n",
       "    <tr>\n",
       "      <th>0</th>\n",
       "      <td>78</td>\n",
       "      <td>35</td>\n",
       "      <td>계단식</td>\n",
       "      <td>가스난방</td>\n",
       "      <td>51.89</td>\n",
       "      <td>19.2603</td>\n",
       "      <td>50758000</td>\n",
       "      <td>620370</td>\n",
       "      <td>109</td>\n",
       "      <td>1816.15</td>\n",
       "    </tr>\n",
       "    <tr>\n",
       "      <th>1</th>\n",
       "      <td>78</td>\n",
       "      <td>43</td>\n",
       "      <td>계단식</td>\n",
       "      <td>가스난방</td>\n",
       "      <td>59.93</td>\n",
       "      <td>22.2446</td>\n",
       "      <td>63166000</td>\n",
       "      <td>665490</td>\n",
       "      <td>109</td>\n",
       "      <td>2576.99</td>\n",
       "    </tr>\n",
       "    <tr>\n",
       "      <th>2</th>\n",
       "      <td>35</td>\n",
       "      <td>26</td>\n",
       "      <td>복도식</td>\n",
       "      <td>가스난방</td>\n",
       "      <td>27.75</td>\n",
       "      <td>16.5375</td>\n",
       "      <td>63062000</td>\n",
       "      <td>458640</td>\n",
       "      <td>35</td>\n",
       "      <td>721.50</td>\n",
       "    </tr>\n",
       "    <tr>\n",
       "      <th>3</th>\n",
       "      <td>35</td>\n",
       "      <td>9</td>\n",
       "      <td>복도식</td>\n",
       "      <td>가스난방</td>\n",
       "      <td>29.08</td>\n",
       "      <td>17.3302</td>\n",
       "      <td>63062000</td>\n",
       "      <td>481560</td>\n",
       "      <td>35</td>\n",
       "      <td>261.72</td>\n",
       "    </tr>\n",
       "    <tr>\n",
       "      <th>4</th>\n",
       "      <td>88</td>\n",
       "      <td>7</td>\n",
       "      <td>계단식</td>\n",
       "      <td>가스난방</td>\n",
       "      <td>59.47</td>\n",
       "      <td>21.9462</td>\n",
       "      <td>72190000</td>\n",
       "      <td>586540</td>\n",
       "      <td>88</td>\n",
       "      <td>416.29</td>\n",
       "    </tr>\n",
       "    <tr>\n",
       "      <th>...</th>\n",
       "      <td>...</td>\n",
       "      <td>...</td>\n",
       "      <td>...</td>\n",
       "      <td>...</td>\n",
       "      <td>...</td>\n",
       "      <td>...</td>\n",
       "      <td>...</td>\n",
       "      <td>...</td>\n",
       "      <td>...</td>\n",
       "      <td>...</td>\n",
       "    </tr>\n",
       "    <tr>\n",
       "      <th>1152</th>\n",
       "      <td>956</td>\n",
       "      <td>956</td>\n",
       "      <td>복도식</td>\n",
       "      <td>가스난방</td>\n",
       "      <td>26.37</td>\n",
       "      <td>12.7500</td>\n",
       "      <td>9931000</td>\n",
       "      <td>134540</td>\n",
       "      <td>243</td>\n",
       "      <td>25209.72</td>\n",
       "    </tr>\n",
       "    <tr>\n",
       "      <th>1153</th>\n",
       "      <td>120</td>\n",
       "      <td>66</td>\n",
       "      <td>복도식</td>\n",
       "      <td>난방</td>\n",
       "      <td>24.83</td>\n",
       "      <td>15.1557</td>\n",
       "      <td>2129000</td>\n",
       "      <td>42350</td>\n",
       "      <td>47</td>\n",
       "      <td>1638.78</td>\n",
       "    </tr>\n",
       "    <tr>\n",
       "      <th>1154</th>\n",
       "      <td>120</td>\n",
       "      <td>54</td>\n",
       "      <td>복도식</td>\n",
       "      <td>난방</td>\n",
       "      <td>33.84</td>\n",
       "      <td>20.6553</td>\n",
       "      <td>2902000</td>\n",
       "      <td>57730</td>\n",
       "      <td>47</td>\n",
       "      <td>1827.36</td>\n",
       "    </tr>\n",
       "    <tr>\n",
       "      <th>1155</th>\n",
       "      <td>447</td>\n",
       "      <td>149</td>\n",
       "      <td>복도식</td>\n",
       "      <td>유류난방</td>\n",
       "      <td>26.37</td>\n",
       "      <td>13.3800</td>\n",
       "      <td>7134000</td>\n",
       "      <td>118880</td>\n",
       "      <td>78</td>\n",
       "      <td>3929.13</td>\n",
       "    </tr>\n",
       "    <tr>\n",
       "      <th>1156</th>\n",
       "      <td>447</td>\n",
       "      <td>298</td>\n",
       "      <td>복도식</td>\n",
       "      <td>유류난방</td>\n",
       "      <td>31.32</td>\n",
       "      <td>13.8500</td>\n",
       "      <td>8122000</td>\n",
       "      <td>131140</td>\n",
       "      <td>78</td>\n",
       "      <td>9333.36</td>\n",
       "    </tr>\n",
       "  </tbody>\n",
       "</table>\n",
       "<p>1157 rows × 10 columns</p>\n",
       "</div>"
      ],
      "text/plain": [
       "      총세대수  전용면적별세대수 건물형태  난방방식   전용면적  공급면적(공용)     임대보증금     임대료  실차량수  \\\n",
       "0       78        35  계단식  가스난방  51.89   19.2603  50758000  620370   109   \n",
       "1       78        43  계단식  가스난방  59.93   22.2446  63166000  665490   109   \n",
       "2       35        26  복도식  가스난방  27.75   16.5375  63062000  458640    35   \n",
       "3       35         9  복도식  가스난방  29.08   17.3302  63062000  481560    35   \n",
       "4       88         7  계단식  가스난방  59.47   21.9462  72190000  586540    88   \n",
       "...    ...       ...  ...   ...    ...       ...       ...     ...   ...   \n",
       "1152   956       956  복도식  가스난방  26.37   12.7500   9931000  134540   243   \n",
       "1153   120        66  복도식    난방  24.83   15.1557   2129000   42350    47   \n",
       "1154   120        54  복도식    난방  33.84   20.6553   2902000   57730    47   \n",
       "1155   447       149  복도식  유류난방  26.37   13.3800   7134000  118880    78   \n",
       "1156   447       298  복도식  유류난방  31.32   13.8500   8122000  131140    78   \n",
       "\n",
       "           총면적  \n",
       "0      1816.15  \n",
       "1      2576.99  \n",
       "2       721.50  \n",
       "3       261.72  \n",
       "4       416.29  \n",
       "...        ...  \n",
       "1152  25209.72  \n",
       "1153   1638.78  \n",
       "1154   1827.36  \n",
       "1155   3929.13  \n",
       "1156   9333.36  \n",
       "\n",
       "[1157 rows x 10 columns]"
      ]
     },
     "execution_count": 91,
     "metadata": {},
     "output_type": "execute_result"
    }
   ],
   "source": [
    "train"
   ]
  },
  {
   "cell_type": "code",
   "execution_count": 92,
   "metadata": {
    "id": "Y8UVpKTK2XLJ"
   },
   "outputs": [],
   "source": [
    "drop_dumm = ['건물형태', '난방방식']\n",
    "x = pd.get_dummies(x, columns=drop_dumm, drop_first=True, dtype=int)"
   ]
  },
  {
   "cell_type": "code",
   "execution_count": 93,
   "metadata": {},
   "outputs": [
    {
     "data": {
      "text/html": [
       "<div>\n",
       "<style scoped>\n",
       "    .dataframe tbody tr th:only-of-type {\n",
       "        vertical-align: middle;\n",
       "    }\n",
       "\n",
       "    .dataframe tbody tr th {\n",
       "        vertical-align: top;\n",
       "    }\n",
       "\n",
       "    .dataframe thead th {\n",
       "        text-align: right;\n",
       "    }\n",
       "</style>\n",
       "<table border=\"1\" class=\"dataframe\">\n",
       "  <thead>\n",
       "    <tr style=\"text-align: right;\">\n",
       "      <th></th>\n",
       "      <th>총세대수</th>\n",
       "      <th>전용면적별세대수</th>\n",
       "      <th>전용면적</th>\n",
       "      <th>공급면적(공용)</th>\n",
       "      <th>임대보증금</th>\n",
       "      <th>임대료</th>\n",
       "      <th>총면적</th>\n",
       "      <th>건물형태_복도식</th>\n",
       "      <th>건물형태_혼합식</th>\n",
       "      <th>난방방식_난방</th>\n",
       "      <th>난방방식_유류난방</th>\n",
       "    </tr>\n",
       "  </thead>\n",
       "  <tbody>\n",
       "    <tr>\n",
       "      <th>0</th>\n",
       "      <td>78</td>\n",
       "      <td>35</td>\n",
       "      <td>51.89</td>\n",
       "      <td>19.2603</td>\n",
       "      <td>50758000</td>\n",
       "      <td>620370</td>\n",
       "      <td>1816.15</td>\n",
       "      <td>0</td>\n",
       "      <td>0</td>\n",
       "      <td>0</td>\n",
       "      <td>0</td>\n",
       "    </tr>\n",
       "    <tr>\n",
       "      <th>1</th>\n",
       "      <td>78</td>\n",
       "      <td>43</td>\n",
       "      <td>59.93</td>\n",
       "      <td>22.2446</td>\n",
       "      <td>63166000</td>\n",
       "      <td>665490</td>\n",
       "      <td>2576.99</td>\n",
       "      <td>0</td>\n",
       "      <td>0</td>\n",
       "      <td>0</td>\n",
       "      <td>0</td>\n",
       "    </tr>\n",
       "    <tr>\n",
       "      <th>2</th>\n",
       "      <td>35</td>\n",
       "      <td>26</td>\n",
       "      <td>27.75</td>\n",
       "      <td>16.5375</td>\n",
       "      <td>63062000</td>\n",
       "      <td>458640</td>\n",
       "      <td>721.50</td>\n",
       "      <td>1</td>\n",
       "      <td>0</td>\n",
       "      <td>0</td>\n",
       "      <td>0</td>\n",
       "    </tr>\n",
       "    <tr>\n",
       "      <th>3</th>\n",
       "      <td>35</td>\n",
       "      <td>9</td>\n",
       "      <td>29.08</td>\n",
       "      <td>17.3302</td>\n",
       "      <td>63062000</td>\n",
       "      <td>481560</td>\n",
       "      <td>261.72</td>\n",
       "      <td>1</td>\n",
       "      <td>0</td>\n",
       "      <td>0</td>\n",
       "      <td>0</td>\n",
       "    </tr>\n",
       "    <tr>\n",
       "      <th>4</th>\n",
       "      <td>88</td>\n",
       "      <td>7</td>\n",
       "      <td>59.47</td>\n",
       "      <td>21.9462</td>\n",
       "      <td>72190000</td>\n",
       "      <td>586540</td>\n",
       "      <td>416.29</td>\n",
       "      <td>0</td>\n",
       "      <td>0</td>\n",
       "      <td>0</td>\n",
       "      <td>0</td>\n",
       "    </tr>\n",
       "    <tr>\n",
       "      <th>...</th>\n",
       "      <td>...</td>\n",
       "      <td>...</td>\n",
       "      <td>...</td>\n",
       "      <td>...</td>\n",
       "      <td>...</td>\n",
       "      <td>...</td>\n",
       "      <td>...</td>\n",
       "      <td>...</td>\n",
       "      <td>...</td>\n",
       "      <td>...</td>\n",
       "      <td>...</td>\n",
       "    </tr>\n",
       "    <tr>\n",
       "      <th>1152</th>\n",
       "      <td>956</td>\n",
       "      <td>956</td>\n",
       "      <td>26.37</td>\n",
       "      <td>12.7500</td>\n",
       "      <td>9931000</td>\n",
       "      <td>134540</td>\n",
       "      <td>25209.72</td>\n",
       "      <td>1</td>\n",
       "      <td>0</td>\n",
       "      <td>0</td>\n",
       "      <td>0</td>\n",
       "    </tr>\n",
       "    <tr>\n",
       "      <th>1153</th>\n",
       "      <td>120</td>\n",
       "      <td>66</td>\n",
       "      <td>24.83</td>\n",
       "      <td>15.1557</td>\n",
       "      <td>2129000</td>\n",
       "      <td>42350</td>\n",
       "      <td>1638.78</td>\n",
       "      <td>1</td>\n",
       "      <td>0</td>\n",
       "      <td>1</td>\n",
       "      <td>0</td>\n",
       "    </tr>\n",
       "    <tr>\n",
       "      <th>1154</th>\n",
       "      <td>120</td>\n",
       "      <td>54</td>\n",
       "      <td>33.84</td>\n",
       "      <td>20.6553</td>\n",
       "      <td>2902000</td>\n",
       "      <td>57730</td>\n",
       "      <td>1827.36</td>\n",
       "      <td>1</td>\n",
       "      <td>0</td>\n",
       "      <td>1</td>\n",
       "      <td>0</td>\n",
       "    </tr>\n",
       "    <tr>\n",
       "      <th>1155</th>\n",
       "      <td>447</td>\n",
       "      <td>149</td>\n",
       "      <td>26.37</td>\n",
       "      <td>13.3800</td>\n",
       "      <td>7134000</td>\n",
       "      <td>118880</td>\n",
       "      <td>3929.13</td>\n",
       "      <td>1</td>\n",
       "      <td>0</td>\n",
       "      <td>0</td>\n",
       "      <td>1</td>\n",
       "    </tr>\n",
       "    <tr>\n",
       "      <th>1156</th>\n",
       "      <td>447</td>\n",
       "      <td>298</td>\n",
       "      <td>31.32</td>\n",
       "      <td>13.8500</td>\n",
       "      <td>8122000</td>\n",
       "      <td>131140</td>\n",
       "      <td>9333.36</td>\n",
       "      <td>1</td>\n",
       "      <td>0</td>\n",
       "      <td>0</td>\n",
       "      <td>1</td>\n",
       "    </tr>\n",
       "  </tbody>\n",
       "</table>\n",
       "<p>1157 rows × 11 columns</p>\n",
       "</div>"
      ],
      "text/plain": [
       "      총세대수  전용면적별세대수   전용면적  공급면적(공용)     임대보증금     임대료       총면적  건물형태_복도식  \\\n",
       "0       78        35  51.89   19.2603  50758000  620370   1816.15         0   \n",
       "1       78        43  59.93   22.2446  63166000  665490   2576.99         0   \n",
       "2       35        26  27.75   16.5375  63062000  458640    721.50         1   \n",
       "3       35         9  29.08   17.3302  63062000  481560    261.72         1   \n",
       "4       88         7  59.47   21.9462  72190000  586540    416.29         0   \n",
       "...    ...       ...    ...       ...       ...     ...       ...       ...   \n",
       "1152   956       956  26.37   12.7500   9931000  134540  25209.72         1   \n",
       "1153   120        66  24.83   15.1557   2129000   42350   1638.78         1   \n",
       "1154   120        54  33.84   20.6553   2902000   57730   1827.36         1   \n",
       "1155   447       149  26.37   13.3800   7134000  118880   3929.13         1   \n",
       "1156   447       298  31.32   13.8500   8122000  131140   9333.36         1   \n",
       "\n",
       "      건물형태_혼합식  난방방식_난방  난방방식_유류난방  \n",
       "0            0        0          0  \n",
       "1            0        0          0  \n",
       "2            0        0          0  \n",
       "3            0        0          0  \n",
       "4            0        0          0  \n",
       "...        ...      ...        ...  \n",
       "1152         0        0          0  \n",
       "1153         0        1          0  \n",
       "1154         0        1          0  \n",
       "1155         0        0          1  \n",
       "1156         0        0          1  \n",
       "\n",
       "[1157 rows x 11 columns]"
      ]
     },
     "execution_count": 93,
     "metadata": {},
     "output_type": "execute_result"
    }
   ],
   "source": [
    "x"
   ]
  },
  {
   "cell_type": "code",
   "execution_count": 94,
   "metadata": {},
   "outputs": [],
   "source": [
    "# drop_cols = ['30이하', '40이하',\t'50이하', '60이하', '70이하', '80이하', '90이하', '100이하', '110이하', '120이하', '121이상']\n",
    "# x = x.drop(drop_cols, axis=1)\n",
    "# x"
   ]
  },
  {
   "cell_type": "markdown",
   "metadata": {
    "id": "dE_cOzTuBB_j"
   },
   "source": [
    "#### 4) train : val 분할"
   ]
  },
  {
   "cell_type": "code",
   "execution_count": 95,
   "metadata": {
    "id": "erDo9ThJBB5n"
   },
   "outputs": [],
   "source": [
    "x_train, x_val, y_train, y_val = train_test_split(x, y, test_size=0.2, random_state=2024)"
   ]
  },
  {
   "cell_type": "markdown",
   "metadata": {
    "id": "eaN7IkOy_mBI"
   },
   "source": [
    "#### 5) 스케일링"
   ]
  },
  {
   "cell_type": "code",
   "execution_count": 96,
   "metadata": {
    "id": "Ap5GTgOpgX_g"
   },
   "outputs": [],
   "source": [
    "from sklearn.preprocessing import MinMaxScaler\n",
    "\n",
    "scaler = MinMaxScaler()\n",
    "scaler.fit(x_train)\n",
    "x_train_s = scaler.transform(x_train)\n",
    "x_val_s = scaler.transform(x_val)"
   ]
  },
  {
   "cell_type": "markdown",
   "metadata": {
    "id": "etAA2LwF4SWn"
   },
   "source": [
    "### (2) 알고리즘1"
   ]
  },
  {
   "cell_type": "code",
   "execution_count": 97,
   "metadata": {
    "id": "Ix5lmyxS7rEg"
   },
   "outputs": [],
   "source": [
    "model_lr = LinearRegression()\n",
    "model_rf = RandomForestRegressor()\n",
    "model_knn = KNeighborsRegressor()\n",
    "model_dt = DecisionTreeRegressor()"
   ]
  },
  {
   "cell_type": "code",
   "execution_count": 98,
   "metadata": {},
   "outputs": [],
   "source": [
    "# MAE : 115~178\n",
    "# MAPE : 0.69~1.51\n",
    "result = {}"
   ]
  },
  {
   "cell_type": "code",
   "execution_count": 99,
   "metadata": {
    "id": "Xf3n8yT97rBO"
   },
   "outputs": [],
   "source": [
    "def modle_mk(modle_select, x_train, y_train, x_val, y_val):\n",
    "    if modle_select == model_rf:\n",
    "        name = 'Random Forest'\n",
    "        \n",
    "        param = {\n",
    "        'max_depth': [1, 5, 10, 20, 50],\n",
    "        'n_estimators' : [10, 30, 50, 100, 150, 200]\n",
    "        }\n",
    "        model = GridSearchCV(modle_select,   # 튜닝할 기본 모델\n",
    "                             param,       # 테스트 대상 매개변수 범위\n",
    "                             cv=5,        # K-Fold cv 개수\n",
    "                             scoring='r2' # 평가지표 (회귀여서 r2)\n",
    "                             )\n",
    "    \n",
    "    if modle_select == model_lr:\n",
    "        name = 'LinearRegression'\n",
    "        model = modle_select\n",
    "    \n",
    "    if modle_select == model_knn:\n",
    "        name = 'KNeighborsRegressor'\n",
    "        \n",
    "        param = {\n",
    "            'n_neighbors': [3, 5, 7, 9, 11], #이웃의 수를 결정\n",
    "            'weights': ['uniform', 'distance'], # uniform'으로 설정하면 모든 이웃에 동일한 가중치가 부여   # distance'로 설정하면 이웃간의 거리에 따라 가중치가 부여\n",
    "            'algorithm': ['auto', 'ball_tree', 'kd_tree', 'brute'], # 가장 가까운 이웃을 검색\n",
    "            'p': [1, 2], # 맨하탄 거리('manhattan')(1)나 민코프스키 거리('minkowski')(2)를 사용\n",
    "        }\n",
    "\n",
    "        model = GridSearchCV(modle_select,   # 튜닝할 기본 모델\n",
    "                                 param,       # 테스트 대상 매개변수 범위\n",
    "                                 cv=5,        # K-Fold cv 개수\n",
    "                                 scoring='r2' # 평가지표 (회귀여서 r2)\n",
    "                                 )\n",
    "    \n",
    "    if modle_select == model_dt:\n",
    "        name = 'DecisionTreeRegressor'\n",
    "\n",
    "        param = {\n",
    "        'max_depth': [1, 5, 10, 20, 50],\n",
    "        'max_features': ['auto', 'sqrt', 'log2'] #각 노드에서 분할에 사용될 특성의 최대 수를 결정\n",
    "                                                # 높은 값을 설정하면 더 다양한 특성을 고려할 수 있지만, 너무 높은 값은 모델이 더 복잡해지고 과적합의 위험이 있습니다\n",
    "        }\n",
    "        model = GridSearchCV(modle_select,   # 튜닝할 기본 모델\n",
    "                             param,       # 테스트 대상 매개변수 범위\n",
    "                             cv=5,        # K-Fold cv 개수\n",
    "                             scoring='r2' # 평가지표 (회귀여서 r2)\n",
    "                             )\n",
    "\n",
    "    \n",
    "    \n",
    "    print(\"model_name:\", name)\n",
    "    model.fit(x_train, y_train)\n",
    "    p1 = model.predict(x_val)\n",
    "    \n",
    "    print('MAE:', mean_absolute_error(y_val, p1)) # 낮을 수록 실제값에 가까움 # 낮을 수록 오차가 적음\n",
    "    print('='*60)\n",
    "    print('MSE:', mean_squared_error(y_val, p1)) # 낮을 수록 실제값에 가까움 #제곱 평균\n",
    "    print('='*60)\n",
    "    print('MSPE:', mean_absolute_percentage_error(y_val, p1)) # 낮을 수록 실제값에 가까움 #MSE의 제곱근\n",
    "    print('='*60)\n",
    "    print('R2:', r2_score(y_val, p1)) #결정계수 1에 가까울 수록 좋음\n",
    "    print('='*60)\n",
    "    print('최적의 파라미터:', model.best_params_)\n",
    "    print('최고 성능:', model.best_score_)\n",
    "\n",
    "    result[name] = model.best_score_\n",
    "    return result"
   ]
  },
  {
   "cell_type": "code",
   "execution_count": 100,
   "metadata": {
    "id": "2b7HHorq7vmN"
   },
   "outputs": [
    {
     "name": "stdout",
     "output_type": "stream",
     "text": [
      "model_name: Random Forest\n",
      "MAE: 73.0207144919855\n",
      "============================================================\n",
      "MSE: 13733.383367529115\n",
      "============================================================\n",
      "MSPE: 0.22241742161611952\n",
      "============================================================\n",
      "R2: 0.9091433325244744\n",
      "============================================================\n",
      "최적의 파라미터: {'max_depth': 20, 'n_estimators': 200}\n",
      "최고 성능: 0.9048772919004978\n"
     ]
    },
    {
     "data": {
      "text/plain": [
       "{'Random Forest': 0.9048772919004978}"
      ]
     },
     "execution_count": 100,
     "metadata": {},
     "output_type": "execute_result"
    }
   ],
   "source": [
    "# Random Forest\n",
    "modle_mk(model_rf, x_train, y_train, x_val, y_val) "
   ]
  },
  {
   "cell_type": "markdown",
   "metadata": {
    "id": "FydcSYl88hv7"
   },
   "source": [
    "### (3) 알고리즘2"
   ]
  },
  {
   "cell_type": "code",
   "execution_count": 101,
   "metadata": {
    "id": "GQ5yLgpB7yTU"
   },
   "outputs": [
    {
     "name": "stdout",
     "output_type": "stream",
     "text": [
      "model_name: DecisionTreeRegressor\n",
      "MAE: 160.9782268939336\n",
      "============================================================\n",
      "MSE: 63609.31366278293\n",
      "============================================================\n",
      "MSPE: 0.389779357793863\n",
      "============================================================\n",
      "R2: 0.5791765142542816\n",
      "============================================================\n",
      "최적의 파라미터: {'max_depth': 10, 'max_features': 'log2'}\n",
      "최고 성능: 0.6909187547369653\n"
     ]
    },
    {
     "name": "stderr",
     "output_type": "stream",
     "text": [
      "C:\\Users\\User\\anaconda3\\Lib\\site-packages\\sklearn\\model_selection\\_validation.py:425: FitFailedWarning: \n",
      "25 fits failed out of a total of 75.\n",
      "The score on these train-test partitions for these parameters will be set to nan.\n",
      "If these failures are not expected, you can try to debug them by setting error_score='raise'.\n",
      "\n",
      "Below are more details about the failures:\n",
      "--------------------------------------------------------------------------------\n",
      "25 fits failed with the following error:\n",
      "Traceback (most recent call last):\n",
      "  File \"C:\\Users\\User\\anaconda3\\Lib\\site-packages\\sklearn\\model_selection\\_validation.py\", line 732, in _fit_and_score\n",
      "    estimator.fit(X_train, y_train, **fit_params)\n",
      "  File \"C:\\Users\\User\\anaconda3\\Lib\\site-packages\\sklearn\\base.py\", line 1144, in wrapper\n",
      "    estimator._validate_params()\n",
      "  File \"C:\\Users\\User\\anaconda3\\Lib\\site-packages\\sklearn\\base.py\", line 637, in _validate_params\n",
      "    validate_parameter_constraints(\n",
      "  File \"C:\\Users\\User\\anaconda3\\Lib\\site-packages\\sklearn\\utils\\_param_validation.py\", line 95, in validate_parameter_constraints\n",
      "    raise InvalidParameterError(\n",
      "sklearn.utils._param_validation.InvalidParameterError: The 'max_features' parameter of DecisionTreeRegressor must be an int in the range [1, inf), a float in the range (0.0, 1.0], a str among {'log2', 'sqrt'} or None. Got 'auto' instead.\n",
      "\n",
      "  warnings.warn(some_fits_failed_message, FitFailedWarning)\n",
      "C:\\Users\\User\\anaconda3\\Lib\\site-packages\\sklearn\\model_selection\\_search.py:976: UserWarning: One or more of the test scores are non-finite: [       nan 0.20491731 0.12415843        nan 0.45781378 0.58581497\n",
      "        nan 0.54558013 0.69091875        nan 0.60297313 0.60897063\n",
      "        nan 0.62916946 0.5904335 ]\n",
      "  warnings.warn(\n"
     ]
    },
    {
     "data": {
      "text/plain": [
       "{'Random Forest': 0.9048772919004978,\n",
       " 'DecisionTreeRegressor': 0.6909187547369653}"
      ]
     },
     "execution_count": 101,
     "metadata": {},
     "output_type": "execute_result"
    }
   ],
   "source": [
    "# DecisionTreeRegressor\n",
    "modle_mk(model_dt, x_train, y_train, x_val, y_val) "
   ]
  },
  {
   "cell_type": "markdown",
   "metadata": {
    "id": "XSgCYQ7fhc0O"
   },
   "source": [
    "### (4) 알고리즘3"
   ]
  },
  {
   "cell_type": "code",
   "execution_count": 102,
   "metadata": {
    "id": "6TWaSP0470Ly"
   },
   "outputs": [
    {
     "name": "stdout",
     "output_type": "stream",
     "text": [
      "model_name: KNeighborsRegressor\n",
      "MAE: 110.18780189609153\n",
      "============================================================\n",
      "MSE: 30362.78847512728\n",
      "============================================================\n",
      "MSPE: 0.28054061362457305\n",
      "============================================================\n",
      "R2: 0.7991273015332205\n",
      "============================================================\n",
      "최적의 파라미터: {'algorithm': 'auto', 'n_neighbors': 5, 'p': 1, 'weights': 'distance'}\n",
      "최고 성능: 0.8050606115132026\n"
     ]
    },
    {
     "data": {
      "text/plain": [
       "{'Random Forest': 0.9048772919004978,\n",
       " 'DecisionTreeRegressor': 0.6909187547369653,\n",
       " 'KNeighborsRegressor': 0.8050606115132026}"
      ]
     },
     "execution_count": 102,
     "metadata": {},
     "output_type": "execute_result"
    }
   ],
   "source": [
    "#KNeighborsRegressor\n",
    "modle_mk(model_knn, x_train_s, y_train, x_val_s, y_val) "
   ]
  },
  {
   "cell_type": "markdown",
   "metadata": {
    "id": "C6HIEKLE9gx5"
   },
   "source": [
    "### (5) 알고리즘4"
   ]
  },
  {
   "cell_type": "code",
   "execution_count": 103,
   "metadata": {},
   "outputs": [
    {
     "name": "stdout",
     "output_type": "stream",
     "text": [
      "model_name: LinearRegression\n",
      "MAE: 160.21151504982086\n",
      "============================================================\n",
      "MSE: 47541.161287451345\n",
      "============================================================\n",
      "MSPE: 0.47274713452455047\n",
      "============================================================\n",
      "R2: 0.6854794359919306\n",
      "============================================================\n"
     ]
    },
    {
     "ename": "AttributeError",
     "evalue": "'LinearRegression' object has no attribute 'best_params_'",
     "output_type": "error",
     "traceback": [
      "\u001b[1;31m---------------------------------------------------------------------------\u001b[0m",
      "\u001b[1;31mAttributeError\u001b[0m                            Traceback (most recent call last)",
      "Cell \u001b[1;32mIn[103], line 2\u001b[0m\n\u001b[0;32m      1\u001b[0m \u001b[38;5;66;03m# LinearRegression \u001b[39;00m\n\u001b[1;32m----> 2\u001b[0m modle_mk(model_lr, x_train, y_train, x_val, y_val)\n",
      "Cell \u001b[1;32mIn[99], line 63\u001b[0m, in \u001b[0;36mmodle_mk\u001b[1;34m(modle_select, x_train, y_train, x_val, y_val)\u001b[0m\n\u001b[0;32m     61\u001b[0m \u001b[38;5;28mprint\u001b[39m(\u001b[38;5;124m'\u001b[39m\u001b[38;5;124mR2:\u001b[39m\u001b[38;5;124m'\u001b[39m, r2_score(y_val, p1)) \u001b[38;5;66;03m#결정계수 1에 가까울 수록 좋음\u001b[39;00m\n\u001b[0;32m     62\u001b[0m \u001b[38;5;28mprint\u001b[39m(\u001b[38;5;124m'\u001b[39m\u001b[38;5;124m=\u001b[39m\u001b[38;5;124m'\u001b[39m\u001b[38;5;241m*\u001b[39m\u001b[38;5;241m60\u001b[39m)\n\u001b[1;32m---> 63\u001b[0m \u001b[38;5;28mprint\u001b[39m(\u001b[38;5;124m'\u001b[39m\u001b[38;5;124m최적의 파라미터:\u001b[39m\u001b[38;5;124m'\u001b[39m, model\u001b[38;5;241m.\u001b[39mbest_params_)\n\u001b[0;32m     64\u001b[0m \u001b[38;5;28mprint\u001b[39m(\u001b[38;5;124m'\u001b[39m\u001b[38;5;124m최고 성능:\u001b[39m\u001b[38;5;124m'\u001b[39m, model\u001b[38;5;241m.\u001b[39mbest_score_)\n\u001b[0;32m     66\u001b[0m result[name] \u001b[38;5;241m=\u001b[39m model\u001b[38;5;241m.\u001b[39mbest_score_\n",
      "\u001b[1;31mAttributeError\u001b[0m: 'LinearRegression' object has no attribute 'best_params_'"
     ]
    }
   ],
   "source": [
    "# LinearRegression \n",
    "modle_mk(model_lr, x_train, y_train, x_val, y_val)"
   ]
  },
  {
   "cell_type": "markdown",
   "metadata": {
    "id": "4-QzT2U3ixWd"
   },
   "source": [
    "### (6) 성능결과 비교"
   ]
  },
  {
   "cell_type": "markdown",
   "metadata": {
    "id": "WYntDXEBZD1Y"
   },
   "source": [
    "* 세부 요구사항\n",
    "    - 각 모델에 대해서 test 데이터로 성능 측정후, 데이터프레임으로 저장하고 비교한다."
   ]
  },
  {
   "cell_type": "code",
   "execution_count": 27,
   "metadata": {
    "id": "G_K0EnpidgYe"
   },
   "outputs": [
    {
     "data": {
      "text/plain": [
       "{'Random Forest': 0.9053422066779074,\n",
       " 'DecisionTreeRegressor': 0.68564518663057,\n",
       " 'KNeighborsRegressor': 0.828274861109211}"
      ]
     },
     "execution_count": 27,
     "metadata": {},
     "output_type": "execute_result"
    }
   ],
   "source": [
    "result"
   ]
  },
  {
   "cell_type": "markdown",
   "metadata": {
    "id": "L9DOFUlDkV7X"
   },
   "source": [
    "## 3.파이프라인 구축"
   ]
  },
  {
   "cell_type": "markdown",
   "metadata": {
    "id": "i1694GFcMHug"
   },
   "source": [
    "* **세부요구사항**\n",
    "    * new data : data02_test.csv 를 읽어서 저장\n",
    "    * 파이프라인 함수를 생성\n",
    "        * data pipeline 함수\n",
    "        * ML pipeline 함수"
   ]
  },
  {
   "cell_type": "markdown",
   "metadata": {
    "id": "5WOfAg25Mfe7"
   },
   "source": [
    "### (1) New Data 불러오기\n",
    "* **세부요구사항**\n",
    "    * test.xlsx 를 읽어서 new_data 이름으로 저장\n",
    "    * 해당 데이터는 최초 데이터와 동일한 구조입니다. 이 데이터를 이용하여 전처리와 예측을 수행해야 합니다."
   ]
  },
  {
   "cell_type": "code",
   "execution_count": 104,
   "metadata": {
    "id": "OIzQ0HCQdJ6c"
   },
   "outputs": [],
   "source": [
    "new_data = joblib.load(path + 'test3.pkl')"
   ]
  },
  {
   "cell_type": "code",
   "execution_count": 105,
   "metadata": {},
   "outputs": [
    {
     "data": {
      "text/html": [
       "<div>\n",
       "<style scoped>\n",
       "    .dataframe tbody tr th:only-of-type {\n",
       "        vertical-align: middle;\n",
       "    }\n",
       "\n",
       "    .dataframe tbody tr th {\n",
       "        vertical-align: top;\n",
       "    }\n",
       "\n",
       "    .dataframe thead th {\n",
       "        text-align: right;\n",
       "    }\n",
       "</style>\n",
       "<table border=\"1\" class=\"dataframe\">\n",
       "  <thead>\n",
       "    <tr style=\"text-align: right;\">\n",
       "      <th></th>\n",
       "      <th>단지코드</th>\n",
       "      <th>총세대수</th>\n",
       "      <th>전용면적별세대수</th>\n",
       "      <th>지역</th>\n",
       "      <th>건물형태</th>\n",
       "      <th>난방방식</th>\n",
       "      <th>전용면적</th>\n",
       "      <th>공급면적(공용)</th>\n",
       "      <th>임대보증금</th>\n",
       "      <th>임대료</th>\n",
       "      <th>실차량수</th>\n",
       "      <th>총면적</th>\n",
       "    </tr>\n",
       "  </thead>\n",
       "  <tbody>\n",
       "    <tr>\n",
       "      <th>0</th>\n",
       "      <td>C0005</td>\n",
       "      <td>20</td>\n",
       "      <td>6</td>\n",
       "      <td>서울</td>\n",
       "      <td>복도식</td>\n",
       "      <td>가스난방</td>\n",
       "      <td>17.53</td>\n",
       "      <td>11.7251</td>\n",
       "      <td>50449000</td>\n",
       "      <td>263710</td>\n",
       "      <td>21</td>\n",
       "      <td>105.18</td>\n",
       "    </tr>\n",
       "    <tr>\n",
       "      <th>1</th>\n",
       "      <td>C0005</td>\n",
       "      <td>20</td>\n",
       "      <td>10</td>\n",
       "      <td>서울</td>\n",
       "      <td>복도식</td>\n",
       "      <td>가스난방</td>\n",
       "      <td>24.71</td>\n",
       "      <td>16.5275</td>\n",
       "      <td>52743000</td>\n",
       "      <td>321040</td>\n",
       "      <td>21</td>\n",
       "      <td>247.10</td>\n",
       "    </tr>\n",
       "    <tr>\n",
       "      <th>2</th>\n",
       "      <td>C0005</td>\n",
       "      <td>20</td>\n",
       "      <td>4</td>\n",
       "      <td>서울</td>\n",
       "      <td>복도식</td>\n",
       "      <td>가스난방</td>\n",
       "      <td>26.72</td>\n",
       "      <td>17.8720</td>\n",
       "      <td>53890000</td>\n",
       "      <td>332510</td>\n",
       "      <td>21</td>\n",
       "      <td>106.88</td>\n",
       "    </tr>\n",
       "    <tr>\n",
       "      <th>3</th>\n",
       "      <td>C0017</td>\n",
       "      <td>822</td>\n",
       "      <td>228</td>\n",
       "      <td>대구경북</td>\n",
       "      <td>계단식</td>\n",
       "      <td>난방</td>\n",
       "      <td>51.87</td>\n",
       "      <td>20.9266</td>\n",
       "      <td>29298000</td>\n",
       "      <td>411200</td>\n",
       "      <td>797</td>\n",
       "      <td>11826.36</td>\n",
       "    </tr>\n",
       "    <tr>\n",
       "      <th>4</th>\n",
       "      <td>C0017</td>\n",
       "      <td>822</td>\n",
       "      <td>56</td>\n",
       "      <td>대구경북</td>\n",
       "      <td>계단식</td>\n",
       "      <td>난방</td>\n",
       "      <td>59.85</td>\n",
       "      <td>24.1461</td>\n",
       "      <td>38550000</td>\n",
       "      <td>462600</td>\n",
       "      <td>797</td>\n",
       "      <td>3351.60</td>\n",
       "    </tr>\n",
       "    <tr>\n",
       "      <th>...</th>\n",
       "      <td>...</td>\n",
       "      <td>...</td>\n",
       "      <td>...</td>\n",
       "      <td>...</td>\n",
       "      <td>...</td>\n",
       "      <td>...</td>\n",
       "      <td>...</td>\n",
       "      <td>...</td>\n",
       "      <td>...</td>\n",
       "      <td>...</td>\n",
       "      <td>...</td>\n",
       "      <td>...</td>\n",
       "    </tr>\n",
       "    <tr>\n",
       "      <th>99</th>\n",
       "      <td>C0353</td>\n",
       "      <td>768</td>\n",
       "      <td>90</td>\n",
       "      <td>대전충남</td>\n",
       "      <td>복도식</td>\n",
       "      <td>난방</td>\n",
       "      <td>40.32</td>\n",
       "      <td>16.5100</td>\n",
       "      <td>8848000</td>\n",
       "      <td>122290</td>\n",
       "      <td>123</td>\n",
       "      <td>3628.80</td>\n",
       "    </tr>\n",
       "    <tr>\n",
       "      <th>100</th>\n",
       "      <td>C0360</td>\n",
       "      <td>588</td>\n",
       "      <td>98</td>\n",
       "      <td>서울</td>\n",
       "      <td>복도식</td>\n",
       "      <td>난방</td>\n",
       "      <td>51.37</td>\n",
       "      <td>21.5569</td>\n",
       "      <td>183228000</td>\n",
       "      <td>0</td>\n",
       "      <td>559</td>\n",
       "      <td>5034.26</td>\n",
       "    </tr>\n",
       "    <tr>\n",
       "      <th>101</th>\n",
       "      <td>C0360</td>\n",
       "      <td>588</td>\n",
       "      <td>186</td>\n",
       "      <td>서울</td>\n",
       "      <td>복도식</td>\n",
       "      <td>난방</td>\n",
       "      <td>51.39</td>\n",
       "      <td>21.5652</td>\n",
       "      <td>183228000</td>\n",
       "      <td>0</td>\n",
       "      <td>559</td>\n",
       "      <td>9558.54</td>\n",
       "    </tr>\n",
       "    <tr>\n",
       "      <th>102</th>\n",
       "      <td>C0360</td>\n",
       "      <td>588</td>\n",
       "      <td>102</td>\n",
       "      <td>서울</td>\n",
       "      <td>복도식</td>\n",
       "      <td>난방</td>\n",
       "      <td>59.76</td>\n",
       "      <td>25.0776</td>\n",
       "      <td>215057000</td>\n",
       "      <td>0</td>\n",
       "      <td>559</td>\n",
       "      <td>6095.52</td>\n",
       "    </tr>\n",
       "    <tr>\n",
       "      <th>103</th>\n",
       "      <td>C0360</td>\n",
       "      <td>588</td>\n",
       "      <td>202</td>\n",
       "      <td>서울</td>\n",
       "      <td>복도식</td>\n",
       "      <td>난방</td>\n",
       "      <td>59.80</td>\n",
       "      <td>25.0944</td>\n",
       "      <td>215057000</td>\n",
       "      <td>0</td>\n",
       "      <td>559</td>\n",
       "      <td>12079.60</td>\n",
       "    </tr>\n",
       "  </tbody>\n",
       "</table>\n",
       "<p>104 rows × 12 columns</p>\n",
       "</div>"
      ],
      "text/plain": [
       "      단지코드  총세대수  전용면적별세대수    지역 건물형태  난방방식   전용면적  공급면적(공용)      임대보증금  \\\n",
       "0    C0005    20         6    서울  복도식  가스난방  17.53   11.7251   50449000   \n",
       "1    C0005    20        10    서울  복도식  가스난방  24.71   16.5275   52743000   \n",
       "2    C0005    20         4    서울  복도식  가스난방  26.72   17.8720   53890000   \n",
       "3    C0017   822       228  대구경북  계단식    난방  51.87   20.9266   29298000   \n",
       "4    C0017   822        56  대구경북  계단식    난방  59.85   24.1461   38550000   \n",
       "..     ...   ...       ...   ...  ...   ...    ...       ...        ...   \n",
       "99   C0353   768        90  대전충남  복도식    난방  40.32   16.5100    8848000   \n",
       "100  C0360   588        98    서울  복도식    난방  51.37   21.5569  183228000   \n",
       "101  C0360   588       186    서울  복도식    난방  51.39   21.5652  183228000   \n",
       "102  C0360   588       102    서울  복도식    난방  59.76   25.0776  215057000   \n",
       "103  C0360   588       202    서울  복도식    난방  59.80   25.0944  215057000   \n",
       "\n",
       "        임대료  실차량수       총면적  \n",
       "0    263710    21    105.18  \n",
       "1    321040    21    247.10  \n",
       "2    332510    21    106.88  \n",
       "3    411200   797  11826.36  \n",
       "4    462600   797   3351.60  \n",
       "..      ...   ...       ...  \n",
       "99   122290   123   3628.80  \n",
       "100       0   559   5034.26  \n",
       "101       0   559   9558.54  \n",
       "102       0   559   6095.52  \n",
       "103       0   559  12079.60  \n",
       "\n",
       "[104 rows x 12 columns]"
      ]
     },
     "execution_count": 105,
     "metadata": {},
     "output_type": "execute_result"
    }
   ],
   "source": [
    "new_data"
   ]
  },
  {
   "cell_type": "markdown",
   "metadata": {
    "id": "NKLMkjcPrAjr"
   },
   "source": [
    "### (2) 데이터 파이프라인 구축\n",
    "* **세부요구사항**\n",
    "    * data pipeline 함수를 생성합니다.\n",
    "        * 입력 : new_data\n",
    "        * 처리 : \n",
    "            * 1.데이터전처리, 2.탐색적 데이터분석 단계에서 수행했던 전처리 코드들을 순차적으로 처리합니다.\n",
    "            * 모델링을 위한 전처리 : Target 제거, NaN조치, 가변수화, (스케일링) 등을 수행합니다.\n",
    "        * 출력 : 전처리 완료된 데이터 프레임\n",
    "    "
   ]
  },
  {
   "cell_type": "code",
   "execution_count": 106,
   "metadata": {
    "id": "INUoRl-qi0BN"
   },
   "outputs": [],
   "source": [
    "drop_cols = ['단지코드', '지역']\n",
    "new_data.drop(drop_cols, axis=1, inplace=True)\n",
    "new_y_val = new_data.loc[:, '실차량수']\n",
    "new_data.drop('실차량수', axis=1, inplace=True)"
   ]
  },
  {
   "cell_type": "code",
   "execution_count": 107,
   "metadata": {
    "id": "4eb2qd8Oq3bZ"
   },
   "outputs": [
    {
     "data": {
      "text/html": [
       "<div>\n",
       "<style scoped>\n",
       "    .dataframe tbody tr th:only-of-type {\n",
       "        vertical-align: middle;\n",
       "    }\n",
       "\n",
       "    .dataframe tbody tr th {\n",
       "        vertical-align: top;\n",
       "    }\n",
       "\n",
       "    .dataframe thead th {\n",
       "        text-align: right;\n",
       "    }\n",
       "</style>\n",
       "<table border=\"1\" class=\"dataframe\">\n",
       "  <thead>\n",
       "    <tr style=\"text-align: right;\">\n",
       "      <th></th>\n",
       "      <th>총세대수</th>\n",
       "      <th>전용면적별세대수</th>\n",
       "      <th>건물형태</th>\n",
       "      <th>난방방식</th>\n",
       "      <th>전용면적</th>\n",
       "      <th>공급면적(공용)</th>\n",
       "      <th>임대보증금</th>\n",
       "      <th>임대료</th>\n",
       "      <th>총면적</th>\n",
       "    </tr>\n",
       "  </thead>\n",
       "  <tbody>\n",
       "    <tr>\n",
       "      <th>0</th>\n",
       "      <td>20</td>\n",
       "      <td>6</td>\n",
       "      <td>복도식</td>\n",
       "      <td>가스난방</td>\n",
       "      <td>17.53</td>\n",
       "      <td>11.7251</td>\n",
       "      <td>50449000</td>\n",
       "      <td>263710</td>\n",
       "      <td>105.18</td>\n",
       "    </tr>\n",
       "    <tr>\n",
       "      <th>1</th>\n",
       "      <td>20</td>\n",
       "      <td>10</td>\n",
       "      <td>복도식</td>\n",
       "      <td>가스난방</td>\n",
       "      <td>24.71</td>\n",
       "      <td>16.5275</td>\n",
       "      <td>52743000</td>\n",
       "      <td>321040</td>\n",
       "      <td>247.10</td>\n",
       "    </tr>\n",
       "    <tr>\n",
       "      <th>2</th>\n",
       "      <td>20</td>\n",
       "      <td>4</td>\n",
       "      <td>복도식</td>\n",
       "      <td>가스난방</td>\n",
       "      <td>26.72</td>\n",
       "      <td>17.8720</td>\n",
       "      <td>53890000</td>\n",
       "      <td>332510</td>\n",
       "      <td>106.88</td>\n",
       "    </tr>\n",
       "    <tr>\n",
       "      <th>3</th>\n",
       "      <td>822</td>\n",
       "      <td>228</td>\n",
       "      <td>계단식</td>\n",
       "      <td>난방</td>\n",
       "      <td>51.87</td>\n",
       "      <td>20.9266</td>\n",
       "      <td>29298000</td>\n",
       "      <td>411200</td>\n",
       "      <td>11826.36</td>\n",
       "    </tr>\n",
       "    <tr>\n",
       "      <th>4</th>\n",
       "      <td>822</td>\n",
       "      <td>56</td>\n",
       "      <td>계단식</td>\n",
       "      <td>난방</td>\n",
       "      <td>59.85</td>\n",
       "      <td>24.1461</td>\n",
       "      <td>38550000</td>\n",
       "      <td>462600</td>\n",
       "      <td>3351.60</td>\n",
       "    </tr>\n",
       "    <tr>\n",
       "      <th>...</th>\n",
       "      <td>...</td>\n",
       "      <td>...</td>\n",
       "      <td>...</td>\n",
       "      <td>...</td>\n",
       "      <td>...</td>\n",
       "      <td>...</td>\n",
       "      <td>...</td>\n",
       "      <td>...</td>\n",
       "      <td>...</td>\n",
       "    </tr>\n",
       "    <tr>\n",
       "      <th>99</th>\n",
       "      <td>768</td>\n",
       "      <td>90</td>\n",
       "      <td>복도식</td>\n",
       "      <td>난방</td>\n",
       "      <td>40.32</td>\n",
       "      <td>16.5100</td>\n",
       "      <td>8848000</td>\n",
       "      <td>122290</td>\n",
       "      <td>3628.80</td>\n",
       "    </tr>\n",
       "    <tr>\n",
       "      <th>100</th>\n",
       "      <td>588</td>\n",
       "      <td>98</td>\n",
       "      <td>복도식</td>\n",
       "      <td>난방</td>\n",
       "      <td>51.37</td>\n",
       "      <td>21.5569</td>\n",
       "      <td>183228000</td>\n",
       "      <td>0</td>\n",
       "      <td>5034.26</td>\n",
       "    </tr>\n",
       "    <tr>\n",
       "      <th>101</th>\n",
       "      <td>588</td>\n",
       "      <td>186</td>\n",
       "      <td>복도식</td>\n",
       "      <td>난방</td>\n",
       "      <td>51.39</td>\n",
       "      <td>21.5652</td>\n",
       "      <td>183228000</td>\n",
       "      <td>0</td>\n",
       "      <td>9558.54</td>\n",
       "    </tr>\n",
       "    <tr>\n",
       "      <th>102</th>\n",
       "      <td>588</td>\n",
       "      <td>102</td>\n",
       "      <td>복도식</td>\n",
       "      <td>난방</td>\n",
       "      <td>59.76</td>\n",
       "      <td>25.0776</td>\n",
       "      <td>215057000</td>\n",
       "      <td>0</td>\n",
       "      <td>6095.52</td>\n",
       "    </tr>\n",
       "    <tr>\n",
       "      <th>103</th>\n",
       "      <td>588</td>\n",
       "      <td>202</td>\n",
       "      <td>복도식</td>\n",
       "      <td>난방</td>\n",
       "      <td>59.80</td>\n",
       "      <td>25.0944</td>\n",
       "      <td>215057000</td>\n",
       "      <td>0</td>\n",
       "      <td>12079.60</td>\n",
       "    </tr>\n",
       "  </tbody>\n",
       "</table>\n",
       "<p>104 rows × 9 columns</p>\n",
       "</div>"
      ],
      "text/plain": [
       "     총세대수  전용면적별세대수 건물형태  난방방식   전용면적  공급면적(공용)      임대보증금     임대료       총면적\n",
       "0      20         6  복도식  가스난방  17.53   11.7251   50449000  263710    105.18\n",
       "1      20        10  복도식  가스난방  24.71   16.5275   52743000  321040    247.10\n",
       "2      20         4  복도식  가스난방  26.72   17.8720   53890000  332510    106.88\n",
       "3     822       228  계단식    난방  51.87   20.9266   29298000  411200  11826.36\n",
       "4     822        56  계단식    난방  59.85   24.1461   38550000  462600   3351.60\n",
       "..    ...       ...  ...   ...    ...       ...        ...     ...       ...\n",
       "99    768        90  복도식    난방  40.32   16.5100    8848000  122290   3628.80\n",
       "100   588        98  복도식    난방  51.37   21.5569  183228000       0   5034.26\n",
       "101   588       186  복도식    난방  51.39   21.5652  183228000       0   9558.54\n",
       "102   588       102  복도식    난방  59.76   25.0776  215057000       0   6095.52\n",
       "103   588       202  복도식    난방  59.80   25.0944  215057000       0  12079.60\n",
       "\n",
       "[104 rows x 9 columns]"
      ]
     },
     "execution_count": 107,
     "metadata": {},
     "output_type": "execute_result"
    }
   ],
   "source": [
    "new_data"
   ]
  },
  {
   "cell_type": "code",
   "execution_count": 108,
   "metadata": {},
   "outputs": [
    {
     "data": {
      "text/html": [
       "<div>\n",
       "<style scoped>\n",
       "    .dataframe tbody tr th:only-of-type {\n",
       "        vertical-align: middle;\n",
       "    }\n",
       "\n",
       "    .dataframe tbody tr th {\n",
       "        vertical-align: top;\n",
       "    }\n",
       "\n",
       "    .dataframe thead th {\n",
       "        text-align: right;\n",
       "    }\n",
       "</style>\n",
       "<table border=\"1\" class=\"dataframe\">\n",
       "  <thead>\n",
       "    <tr style=\"text-align: right;\">\n",
       "      <th></th>\n",
       "      <th>총세대수</th>\n",
       "      <th>전용면적별세대수</th>\n",
       "      <th>전용면적</th>\n",
       "      <th>공급면적(공용)</th>\n",
       "      <th>임대보증금</th>\n",
       "      <th>임대료</th>\n",
       "      <th>총면적</th>\n",
       "      <th>건물형태_복도식</th>\n",
       "      <th>건물형태_혼합식</th>\n",
       "      <th>난방방식_난방</th>\n",
       "      <th>난방방식_유류난방</th>\n",
       "    </tr>\n",
       "  </thead>\n",
       "  <tbody>\n",
       "    <tr>\n",
       "      <th>0</th>\n",
       "      <td>20</td>\n",
       "      <td>6</td>\n",
       "      <td>17.53</td>\n",
       "      <td>11.7251</td>\n",
       "      <td>50449000</td>\n",
       "      <td>263710</td>\n",
       "      <td>105.18</td>\n",
       "      <td>1</td>\n",
       "      <td>0</td>\n",
       "      <td>0</td>\n",
       "      <td>0</td>\n",
       "    </tr>\n",
       "    <tr>\n",
       "      <th>1</th>\n",
       "      <td>20</td>\n",
       "      <td>10</td>\n",
       "      <td>24.71</td>\n",
       "      <td>16.5275</td>\n",
       "      <td>52743000</td>\n",
       "      <td>321040</td>\n",
       "      <td>247.10</td>\n",
       "      <td>1</td>\n",
       "      <td>0</td>\n",
       "      <td>0</td>\n",
       "      <td>0</td>\n",
       "    </tr>\n",
       "    <tr>\n",
       "      <th>2</th>\n",
       "      <td>20</td>\n",
       "      <td>4</td>\n",
       "      <td>26.72</td>\n",
       "      <td>17.8720</td>\n",
       "      <td>53890000</td>\n",
       "      <td>332510</td>\n",
       "      <td>106.88</td>\n",
       "      <td>1</td>\n",
       "      <td>0</td>\n",
       "      <td>0</td>\n",
       "      <td>0</td>\n",
       "    </tr>\n",
       "    <tr>\n",
       "      <th>3</th>\n",
       "      <td>822</td>\n",
       "      <td>228</td>\n",
       "      <td>51.87</td>\n",
       "      <td>20.9266</td>\n",
       "      <td>29298000</td>\n",
       "      <td>411200</td>\n",
       "      <td>11826.36</td>\n",
       "      <td>0</td>\n",
       "      <td>0</td>\n",
       "      <td>1</td>\n",
       "      <td>0</td>\n",
       "    </tr>\n",
       "    <tr>\n",
       "      <th>4</th>\n",
       "      <td>822</td>\n",
       "      <td>56</td>\n",
       "      <td>59.85</td>\n",
       "      <td>24.1461</td>\n",
       "      <td>38550000</td>\n",
       "      <td>462600</td>\n",
       "      <td>3351.60</td>\n",
       "      <td>0</td>\n",
       "      <td>0</td>\n",
       "      <td>1</td>\n",
       "      <td>0</td>\n",
       "    </tr>\n",
       "    <tr>\n",
       "      <th>...</th>\n",
       "      <td>...</td>\n",
       "      <td>...</td>\n",
       "      <td>...</td>\n",
       "      <td>...</td>\n",
       "      <td>...</td>\n",
       "      <td>...</td>\n",
       "      <td>...</td>\n",
       "      <td>...</td>\n",
       "      <td>...</td>\n",
       "      <td>...</td>\n",
       "      <td>...</td>\n",
       "    </tr>\n",
       "    <tr>\n",
       "      <th>99</th>\n",
       "      <td>768</td>\n",
       "      <td>90</td>\n",
       "      <td>40.32</td>\n",
       "      <td>16.5100</td>\n",
       "      <td>8848000</td>\n",
       "      <td>122290</td>\n",
       "      <td>3628.80</td>\n",
       "      <td>1</td>\n",
       "      <td>0</td>\n",
       "      <td>1</td>\n",
       "      <td>0</td>\n",
       "    </tr>\n",
       "    <tr>\n",
       "      <th>100</th>\n",
       "      <td>588</td>\n",
       "      <td>98</td>\n",
       "      <td>51.37</td>\n",
       "      <td>21.5569</td>\n",
       "      <td>183228000</td>\n",
       "      <td>0</td>\n",
       "      <td>5034.26</td>\n",
       "      <td>1</td>\n",
       "      <td>0</td>\n",
       "      <td>1</td>\n",
       "      <td>0</td>\n",
       "    </tr>\n",
       "    <tr>\n",
       "      <th>101</th>\n",
       "      <td>588</td>\n",
       "      <td>186</td>\n",
       "      <td>51.39</td>\n",
       "      <td>21.5652</td>\n",
       "      <td>183228000</td>\n",
       "      <td>0</td>\n",
       "      <td>9558.54</td>\n",
       "      <td>1</td>\n",
       "      <td>0</td>\n",
       "      <td>1</td>\n",
       "      <td>0</td>\n",
       "    </tr>\n",
       "    <tr>\n",
       "      <th>102</th>\n",
       "      <td>588</td>\n",
       "      <td>102</td>\n",
       "      <td>59.76</td>\n",
       "      <td>25.0776</td>\n",
       "      <td>215057000</td>\n",
       "      <td>0</td>\n",
       "      <td>6095.52</td>\n",
       "      <td>1</td>\n",
       "      <td>0</td>\n",
       "      <td>1</td>\n",
       "      <td>0</td>\n",
       "    </tr>\n",
       "    <tr>\n",
       "      <th>103</th>\n",
       "      <td>588</td>\n",
       "      <td>202</td>\n",
       "      <td>59.80</td>\n",
       "      <td>25.0944</td>\n",
       "      <td>215057000</td>\n",
       "      <td>0</td>\n",
       "      <td>12079.60</td>\n",
       "      <td>1</td>\n",
       "      <td>0</td>\n",
       "      <td>1</td>\n",
       "      <td>0</td>\n",
       "    </tr>\n",
       "  </tbody>\n",
       "</table>\n",
       "<p>104 rows × 11 columns</p>\n",
       "</div>"
      ],
      "text/plain": [
       "     총세대수  전용면적별세대수   전용면적  공급면적(공용)      임대보증금     임대료       총면적  건물형태_복도식  \\\n",
       "0      20         6  17.53   11.7251   50449000  263710    105.18         1   \n",
       "1      20        10  24.71   16.5275   52743000  321040    247.10         1   \n",
       "2      20         4  26.72   17.8720   53890000  332510    106.88         1   \n",
       "3     822       228  51.87   20.9266   29298000  411200  11826.36         0   \n",
       "4     822        56  59.85   24.1461   38550000  462600   3351.60         0   \n",
       "..    ...       ...    ...       ...        ...     ...       ...       ...   \n",
       "99    768        90  40.32   16.5100    8848000  122290   3628.80         1   \n",
       "100   588        98  51.37   21.5569  183228000       0   5034.26         1   \n",
       "101   588       186  51.39   21.5652  183228000       0   9558.54         1   \n",
       "102   588       102  59.76   25.0776  215057000       0   6095.52         1   \n",
       "103   588       202  59.80   25.0944  215057000       0  12079.60         1   \n",
       "\n",
       "     건물형태_혼합식  난방방식_난방  난방방식_유류난방  \n",
       "0           0        0          0  \n",
       "1           0        0          0  \n",
       "2           0        0          0  \n",
       "3           0        1          0  \n",
       "4           0        1          0  \n",
       "..        ...      ...        ...  \n",
       "99          0        1          0  \n",
       "100         0        1          0  \n",
       "101         0        1          0  \n",
       "102         0        1          0  \n",
       "103         0        1          0  \n",
       "\n",
       "[104 rows x 11 columns]"
      ]
     },
     "execution_count": 108,
     "metadata": {},
     "output_type": "execute_result"
    }
   ],
   "source": [
    "dumm_cols = ['건물형태',\t'난방방식']\n",
    "new_data = pd.get_dummies(new_data, columns=dumm_cols, drop_first=True, dtype=int)\n",
    "new_data"
   ]
  },
  {
   "cell_type": "code",
   "execution_count": 109,
   "metadata": {},
   "outputs": [
    {
     "data": {
      "text/html": [
       "<div>\n",
       "<style scoped>\n",
       "    .dataframe tbody tr th:only-of-type {\n",
       "        vertical-align: middle;\n",
       "    }\n",
       "\n",
       "    .dataframe tbody tr th {\n",
       "        vertical-align: top;\n",
       "    }\n",
       "\n",
       "    .dataframe thead th {\n",
       "        text-align: right;\n",
       "    }\n",
       "</style>\n",
       "<table border=\"1\" class=\"dataframe\">\n",
       "  <thead>\n",
       "    <tr style=\"text-align: right;\">\n",
       "      <th></th>\n",
       "      <th>총세대수</th>\n",
       "      <th>전용면적별세대수</th>\n",
       "      <th>전용면적</th>\n",
       "      <th>공급면적(공용)</th>\n",
       "      <th>임대보증금</th>\n",
       "      <th>임대료</th>\n",
       "      <th>총면적</th>\n",
       "      <th>건물형태_복도식</th>\n",
       "      <th>건물형태_혼합식</th>\n",
       "      <th>난방방식_난방</th>\n",
       "      <th>난방방식_유류난방</th>\n",
       "    </tr>\n",
       "  </thead>\n",
       "  <tbody>\n",
       "    <tr>\n",
       "      <th>0</th>\n",
       "      <td>20</td>\n",
       "      <td>6</td>\n",
       "      <td>17.53</td>\n",
       "      <td>11.7251</td>\n",
       "      <td>50449000</td>\n",
       "      <td>263710</td>\n",
       "      <td>105.18</td>\n",
       "      <td>1</td>\n",
       "      <td>0</td>\n",
       "      <td>0</td>\n",
       "      <td>0</td>\n",
       "    </tr>\n",
       "    <tr>\n",
       "      <th>1</th>\n",
       "      <td>20</td>\n",
       "      <td>10</td>\n",
       "      <td>24.71</td>\n",
       "      <td>16.5275</td>\n",
       "      <td>52743000</td>\n",
       "      <td>321040</td>\n",
       "      <td>247.10</td>\n",
       "      <td>1</td>\n",
       "      <td>0</td>\n",
       "      <td>0</td>\n",
       "      <td>0</td>\n",
       "    </tr>\n",
       "    <tr>\n",
       "      <th>2</th>\n",
       "      <td>20</td>\n",
       "      <td>4</td>\n",
       "      <td>26.72</td>\n",
       "      <td>17.8720</td>\n",
       "      <td>53890000</td>\n",
       "      <td>332510</td>\n",
       "      <td>106.88</td>\n",
       "      <td>1</td>\n",
       "      <td>0</td>\n",
       "      <td>0</td>\n",
       "      <td>0</td>\n",
       "    </tr>\n",
       "    <tr>\n",
       "      <th>3</th>\n",
       "      <td>822</td>\n",
       "      <td>228</td>\n",
       "      <td>51.87</td>\n",
       "      <td>20.9266</td>\n",
       "      <td>29298000</td>\n",
       "      <td>411200</td>\n",
       "      <td>11826.36</td>\n",
       "      <td>0</td>\n",
       "      <td>0</td>\n",
       "      <td>1</td>\n",
       "      <td>0</td>\n",
       "    </tr>\n",
       "    <tr>\n",
       "      <th>4</th>\n",
       "      <td>822</td>\n",
       "      <td>56</td>\n",
       "      <td>59.85</td>\n",
       "      <td>24.1461</td>\n",
       "      <td>38550000</td>\n",
       "      <td>462600</td>\n",
       "      <td>3351.60</td>\n",
       "      <td>0</td>\n",
       "      <td>0</td>\n",
       "      <td>1</td>\n",
       "      <td>0</td>\n",
       "    </tr>\n",
       "    <tr>\n",
       "      <th>...</th>\n",
       "      <td>...</td>\n",
       "      <td>...</td>\n",
       "      <td>...</td>\n",
       "      <td>...</td>\n",
       "      <td>...</td>\n",
       "      <td>...</td>\n",
       "      <td>...</td>\n",
       "      <td>...</td>\n",
       "      <td>...</td>\n",
       "      <td>...</td>\n",
       "      <td>...</td>\n",
       "    </tr>\n",
       "    <tr>\n",
       "      <th>99</th>\n",
       "      <td>768</td>\n",
       "      <td>90</td>\n",
       "      <td>40.32</td>\n",
       "      <td>16.5100</td>\n",
       "      <td>8848000</td>\n",
       "      <td>122290</td>\n",
       "      <td>3628.80</td>\n",
       "      <td>1</td>\n",
       "      <td>0</td>\n",
       "      <td>1</td>\n",
       "      <td>0</td>\n",
       "    </tr>\n",
       "    <tr>\n",
       "      <th>100</th>\n",
       "      <td>588</td>\n",
       "      <td>98</td>\n",
       "      <td>51.37</td>\n",
       "      <td>21.5569</td>\n",
       "      <td>183228000</td>\n",
       "      <td>0</td>\n",
       "      <td>5034.26</td>\n",
       "      <td>1</td>\n",
       "      <td>0</td>\n",
       "      <td>1</td>\n",
       "      <td>0</td>\n",
       "    </tr>\n",
       "    <tr>\n",
       "      <th>101</th>\n",
       "      <td>588</td>\n",
       "      <td>186</td>\n",
       "      <td>51.39</td>\n",
       "      <td>21.5652</td>\n",
       "      <td>183228000</td>\n",
       "      <td>0</td>\n",
       "      <td>9558.54</td>\n",
       "      <td>1</td>\n",
       "      <td>0</td>\n",
       "      <td>1</td>\n",
       "      <td>0</td>\n",
       "    </tr>\n",
       "    <tr>\n",
       "      <th>102</th>\n",
       "      <td>588</td>\n",
       "      <td>102</td>\n",
       "      <td>59.76</td>\n",
       "      <td>25.0776</td>\n",
       "      <td>215057000</td>\n",
       "      <td>0</td>\n",
       "      <td>6095.52</td>\n",
       "      <td>1</td>\n",
       "      <td>0</td>\n",
       "      <td>1</td>\n",
       "      <td>0</td>\n",
       "    </tr>\n",
       "    <tr>\n",
       "      <th>103</th>\n",
       "      <td>588</td>\n",
       "      <td>202</td>\n",
       "      <td>59.80</td>\n",
       "      <td>25.0944</td>\n",
       "      <td>215057000</td>\n",
       "      <td>0</td>\n",
       "      <td>12079.60</td>\n",
       "      <td>1</td>\n",
       "      <td>0</td>\n",
       "      <td>1</td>\n",
       "      <td>0</td>\n",
       "    </tr>\n",
       "  </tbody>\n",
       "</table>\n",
       "<p>104 rows × 11 columns</p>\n",
       "</div>"
      ],
      "text/plain": [
       "     총세대수  전용면적별세대수   전용면적  공급면적(공용)      임대보증금     임대료       총면적  건물형태_복도식  \\\n",
       "0      20         6  17.53   11.7251   50449000  263710    105.18         1   \n",
       "1      20        10  24.71   16.5275   52743000  321040    247.10         1   \n",
       "2      20         4  26.72   17.8720   53890000  332510    106.88         1   \n",
       "3     822       228  51.87   20.9266   29298000  411200  11826.36         0   \n",
       "4     822        56  59.85   24.1461   38550000  462600   3351.60         0   \n",
       "..    ...       ...    ...       ...        ...     ...       ...       ...   \n",
       "99    768        90  40.32   16.5100    8848000  122290   3628.80         1   \n",
       "100   588        98  51.37   21.5569  183228000       0   5034.26         1   \n",
       "101   588       186  51.39   21.5652  183228000       0   9558.54         1   \n",
       "102   588       102  59.76   25.0776  215057000       0   6095.52         1   \n",
       "103   588       202  59.80   25.0944  215057000       0  12079.60         1   \n",
       "\n",
       "     건물형태_혼합식  난방방식_난방  난방방식_유류난방  \n",
       "0           0        0          0  \n",
       "1           0        0          0  \n",
       "2           0        0          0  \n",
       "3           0        1          0  \n",
       "4           0        1          0  \n",
       "..        ...      ...        ...  \n",
       "99          0        1          0  \n",
       "100         0        1          0  \n",
       "101         0        1          0  \n",
       "102         0        1          0  \n",
       "103         0        1          0  \n",
       "\n",
       "[104 rows x 11 columns]"
      ]
     },
     "execution_count": 109,
     "metadata": {},
     "output_type": "execute_result"
    }
   ],
   "source": [
    "new_data"
   ]
  },
  {
   "cell_type": "code",
   "execution_count": 110,
   "metadata": {},
   "outputs": [
    {
     "data": {
      "text/html": [
       "<div>\n",
       "<style scoped>\n",
       "    .dataframe tbody tr th:only-of-type {\n",
       "        vertical-align: middle;\n",
       "    }\n",
       "\n",
       "    .dataframe tbody tr th {\n",
       "        vertical-align: top;\n",
       "    }\n",
       "\n",
       "    .dataframe thead th {\n",
       "        text-align: right;\n",
       "    }\n",
       "</style>\n",
       "<table border=\"1\" class=\"dataframe\">\n",
       "  <thead>\n",
       "    <tr style=\"text-align: right;\">\n",
       "      <th></th>\n",
       "      <th>총세대수</th>\n",
       "      <th>전용면적별세대수</th>\n",
       "      <th>전용면적</th>\n",
       "      <th>공급면적(공용)</th>\n",
       "      <th>임대보증금</th>\n",
       "      <th>임대료</th>\n",
       "      <th>총면적</th>\n",
       "      <th>건물형태_복도식</th>\n",
       "      <th>건물형태_혼합식</th>\n",
       "      <th>난방방식_난방</th>\n",
       "      <th>난방방식_유류난방</th>\n",
       "    </tr>\n",
       "  </thead>\n",
       "  <tbody>\n",
       "    <tr>\n",
       "      <th>582</th>\n",
       "      <td>1308</td>\n",
       "      <td>177</td>\n",
       "      <td>46.760</td>\n",
       "      <td>19.0907</td>\n",
       "      <td>24665000</td>\n",
       "      <td>135960</td>\n",
       "      <td>8276.520</td>\n",
       "      <td>1</td>\n",
       "      <td>0</td>\n",
       "      <td>0</td>\n",
       "      <td>0</td>\n",
       "    </tr>\n",
       "    <tr>\n",
       "      <th>601</th>\n",
       "      <td>384</td>\n",
       "      <td>42</td>\n",
       "      <td>39.850</td>\n",
       "      <td>13.3232</td>\n",
       "      <td>19819000</td>\n",
       "      <td>110110</td>\n",
       "      <td>1673.700</td>\n",
       "      <td>0</td>\n",
       "      <td>1</td>\n",
       "      <td>0</td>\n",
       "      <td>0</td>\n",
       "    </tr>\n",
       "    <tr>\n",
       "      <th>1026</th>\n",
       "      <td>60</td>\n",
       "      <td>31</td>\n",
       "      <td>59.501</td>\n",
       "      <td>13.0100</td>\n",
       "      <td>10405000</td>\n",
       "      <td>86700</td>\n",
       "      <td>1844.531</td>\n",
       "      <td>0</td>\n",
       "      <td>0</td>\n",
       "      <td>0</td>\n",
       "      <td>0</td>\n",
       "    </tr>\n",
       "    <tr>\n",
       "      <th>63</th>\n",
       "      <td>532</td>\n",
       "      <td>70</td>\n",
       "      <td>59.670</td>\n",
       "      <td>23.6057</td>\n",
       "      <td>41054000</td>\n",
       "      <td>509410</td>\n",
       "      <td>4176.900</td>\n",
       "      <td>0</td>\n",
       "      <td>0</td>\n",
       "      <td>1</td>\n",
       "      <td>0</td>\n",
       "    </tr>\n",
       "    <tr>\n",
       "      <th>548</th>\n",
       "      <td>714</td>\n",
       "      <td>224</td>\n",
       "      <td>51.490</td>\n",
       "      <td>21.1473</td>\n",
       "      <td>17972000</td>\n",
       "      <td>234890</td>\n",
       "      <td>11533.760</td>\n",
       "      <td>0</td>\n",
       "      <td>1</td>\n",
       "      <td>0</td>\n",
       "      <td>0</td>\n",
       "    </tr>\n",
       "    <tr>\n",
       "      <th>...</th>\n",
       "      <td>...</td>\n",
       "      <td>...</td>\n",
       "      <td>...</td>\n",
       "      <td>...</td>\n",
       "      <td>...</td>\n",
       "      <td>...</td>\n",
       "      <td>...</td>\n",
       "      <td>...</td>\n",
       "      <td>...</td>\n",
       "      <td>...</td>\n",
       "      <td>...</td>\n",
       "    </tr>\n",
       "    <tr>\n",
       "      <th>183</th>\n",
       "      <td>307</td>\n",
       "      <td>147</td>\n",
       "      <td>84.560</td>\n",
       "      <td>24.0516</td>\n",
       "      <td>0</td>\n",
       "      <td>0</td>\n",
       "      <td>12430.320</td>\n",
       "      <td>0</td>\n",
       "      <td>0</td>\n",
       "      <td>0</td>\n",
       "      <td>0</td>\n",
       "    </tr>\n",
       "    <tr>\n",
       "      <th>446</th>\n",
       "      <td>291</td>\n",
       "      <td>91</td>\n",
       "      <td>51.550</td>\n",
       "      <td>28.6965</td>\n",
       "      <td>50775000</td>\n",
       "      <td>422950</td>\n",
       "      <td>4691.050</td>\n",
       "      <td>1</td>\n",
       "      <td>0</td>\n",
       "      <td>0</td>\n",
       "      <td>0</td>\n",
       "    </tr>\n",
       "    <tr>\n",
       "      <th>539</th>\n",
       "      <td>302</td>\n",
       "      <td>108</td>\n",
       "      <td>59.570</td>\n",
       "      <td>18.1137</td>\n",
       "      <td>26082000</td>\n",
       "      <td>234340</td>\n",
       "      <td>6433.560</td>\n",
       "      <td>0</td>\n",
       "      <td>0</td>\n",
       "      <td>0</td>\n",
       "      <td>0</td>\n",
       "    </tr>\n",
       "    <tr>\n",
       "      <th>640</th>\n",
       "      <td>496</td>\n",
       "      <td>206</td>\n",
       "      <td>46.220</td>\n",
       "      <td>21.0120</td>\n",
       "      <td>18319000</td>\n",
       "      <td>102660</td>\n",
       "      <td>9521.320</td>\n",
       "      <td>1</td>\n",
       "      <td>0</td>\n",
       "      <td>0</td>\n",
       "      <td>0</td>\n",
       "    </tr>\n",
       "    <tr>\n",
       "      <th>608</th>\n",
       "      <td>449</td>\n",
       "      <td>24</td>\n",
       "      <td>39.750</td>\n",
       "      <td>15.1769</td>\n",
       "      <td>19819000</td>\n",
       "      <td>109230</td>\n",
       "      <td>954.000</td>\n",
       "      <td>0</td>\n",
       "      <td>1</td>\n",
       "      <td>0</td>\n",
       "      <td>0</td>\n",
       "    </tr>\n",
       "  </tbody>\n",
       "</table>\n",
       "<p>925 rows × 11 columns</p>\n",
       "</div>"
      ],
      "text/plain": [
       "      총세대수  전용면적별세대수    전용면적  공급면적(공용)     임대보증금     임대료        총면적  건물형태_복도식  \\\n",
       "582   1308       177  46.760   19.0907  24665000  135960   8276.520         1   \n",
       "601    384        42  39.850   13.3232  19819000  110110   1673.700         0   \n",
       "1026    60        31  59.501   13.0100  10405000   86700   1844.531         0   \n",
       "63     532        70  59.670   23.6057  41054000  509410   4176.900         0   \n",
       "548    714       224  51.490   21.1473  17972000  234890  11533.760         0   \n",
       "...    ...       ...     ...       ...       ...     ...        ...       ...   \n",
       "183    307       147  84.560   24.0516         0       0  12430.320         0   \n",
       "446    291        91  51.550   28.6965  50775000  422950   4691.050         1   \n",
       "539    302       108  59.570   18.1137  26082000  234340   6433.560         0   \n",
       "640    496       206  46.220   21.0120  18319000  102660   9521.320         1   \n",
       "608    449        24  39.750   15.1769  19819000  109230    954.000         0   \n",
       "\n",
       "      건물형태_혼합식  난방방식_난방  난방방식_유류난방  \n",
       "582          0        0          0  \n",
       "601          1        0          0  \n",
       "1026         0        0          0  \n",
       "63           0        1          0  \n",
       "548          1        0          0  \n",
       "...        ...      ...        ...  \n",
       "183          0        0          0  \n",
       "446          0        0          0  \n",
       "539          0        0          0  \n",
       "640          0        0          0  \n",
       "608          1        0          0  \n",
       "\n",
       "[925 rows x 11 columns]"
      ]
     },
     "execution_count": 110,
     "metadata": {},
     "output_type": "execute_result"
    }
   ],
   "source": [
    "x_train"
   ]
  },
  {
   "cell_type": "markdown",
   "metadata": {
    "id": "kJpmOxg2rFuZ"
   },
   "source": [
    "### (3) test\n",
    "* **세부요구사항**\n",
    "    * new_data로 부터, 전처리 및 예측 결과를 출력해 봅시다."
   ]
  },
  {
   "cell_type": "code",
   "execution_count": 111,
   "metadata": {
    "id": "XUjNsITTq9wB"
   },
   "outputs": [
    {
     "name": "stdout",
     "output_type": "stream",
     "text": [
      "model_name: Random Forest\n",
      "MAE: 147.34930316558442\n",
      "============================================================\n",
      "MSE: 69132.61173372745\n",
      "============================================================\n",
      "MSPE: 0.3543322721597507\n",
      "============================================================\n",
      "R2: 0.32621182571932417\n",
      "============================================================\n",
      "최적의 파라미터: {'max_depth': 20, 'n_estimators': 100}\n",
      "최고 성능: 0.9038001156088213\n"
     ]
    },
    {
     "data": {
      "text/plain": [
       "{'Random Forest': 0.9038001156088213,\n",
       " 'DecisionTreeRegressor': 0.6909187547369653,\n",
       " 'KNeighborsRegressor': 0.8050606115132026}"
      ]
     },
     "execution_count": 111,
     "metadata": {},
     "output_type": "execute_result"
    }
   ],
   "source": [
    "modle_mk(model_rf, x_train, y_train, new_data, new_y_val) "
   ]
  },
  {
   "cell_type": "code",
   "execution_count": 112,
   "metadata": {},
   "outputs": [
    {
     "name": "stdout",
     "output_type": "stream",
     "text": [
      "R2: 0.3544866965107959\n"
     ]
    }
   ],
   "source": [
    "model = RandomForestRegressor(max_depth=50, n_estimators=100)\n",
    "model.fit(x_train, y_train)\n",
    "y_pred = model.predict(new_data)\n",
    "print('R2:', r2_score(new_y_val, y_pred))"
   ]
  },
  {
   "cell_type": "code",
   "execution_count": 113,
   "metadata": {
    "id": "e6UGaqEwvHTO"
   },
   "outputs": [
    {
     "name": "stdout",
     "output_type": "stream",
     "text": [
      "model_name: LinearRegression\n",
      "MAE: 173.27308363897225\n",
      "============================================================\n",
      "MSE: 78001.10304614305\n",
      "============================================================\n",
      "MSPE: 0.5279485491706327\n",
      "============================================================\n",
      "R2: 0.23977672048951093\n",
      "============================================================\n"
     ]
    },
    {
     "ename": "AttributeError",
     "evalue": "'LinearRegression' object has no attribute 'best_params_'",
     "output_type": "error",
     "traceback": [
      "\u001b[1;31m---------------------------------------------------------------------------\u001b[0m",
      "\u001b[1;31mAttributeError\u001b[0m                            Traceback (most recent call last)",
      "Cell \u001b[1;32mIn[113], line 1\u001b[0m\n\u001b[1;32m----> 1\u001b[0m modle_mk(model_lr, x_train, y_train, new_data, new_y_val)\n",
      "Cell \u001b[1;32mIn[99], line 63\u001b[0m, in \u001b[0;36mmodle_mk\u001b[1;34m(modle_select, x_train, y_train, x_val, y_val)\u001b[0m\n\u001b[0;32m     61\u001b[0m \u001b[38;5;28mprint\u001b[39m(\u001b[38;5;124m'\u001b[39m\u001b[38;5;124mR2:\u001b[39m\u001b[38;5;124m'\u001b[39m, r2_score(y_val, p1)) \u001b[38;5;66;03m#결정계수 1에 가까울 수록 좋음\u001b[39;00m\n\u001b[0;32m     62\u001b[0m \u001b[38;5;28mprint\u001b[39m(\u001b[38;5;124m'\u001b[39m\u001b[38;5;124m=\u001b[39m\u001b[38;5;124m'\u001b[39m\u001b[38;5;241m*\u001b[39m\u001b[38;5;241m60\u001b[39m)\n\u001b[1;32m---> 63\u001b[0m \u001b[38;5;28mprint\u001b[39m(\u001b[38;5;124m'\u001b[39m\u001b[38;5;124m최적의 파라미터:\u001b[39m\u001b[38;5;124m'\u001b[39m, model\u001b[38;5;241m.\u001b[39mbest_params_)\n\u001b[0;32m     64\u001b[0m \u001b[38;5;28mprint\u001b[39m(\u001b[38;5;124m'\u001b[39m\u001b[38;5;124m최고 성능:\u001b[39m\u001b[38;5;124m'\u001b[39m, model\u001b[38;5;241m.\u001b[39mbest_score_)\n\u001b[0;32m     66\u001b[0m result[name] \u001b[38;5;241m=\u001b[39m model\u001b[38;5;241m.\u001b[39mbest_score_\n",
      "\u001b[1;31mAttributeError\u001b[0m: 'LinearRegression' object has no attribute 'best_params_'"
     ]
    }
   ],
   "source": [
    "modle_mk(model_lr, x_train, y_train, new_data, new_y_val) "
   ]
  },
  {
   "cell_type": "code",
   "execution_count": null,
   "metadata": {},
   "outputs": [],
   "source": [
    "from sklearn.preprocessing import MinMaxScaler\n",
    "\n",
    "scaler = MinMaxScaler()\n",
    "scaler.fit(x_train)\n",
    "x_train_s = scaler.transform(x_train)\n",
    "new_val_s = scaler.transform(new_data)"
   ]
  },
  {
   "cell_type": "code",
   "execution_count": null,
   "metadata": {},
   "outputs": [],
   "source": [
    "modle_mk(model_knn, x_train_s, y_train, new_val_s, new_y_val)"
   ]
  },
  {
   "cell_type": "code",
   "execution_count": null,
   "metadata": {},
   "outputs": [],
   "source": []
  }
 ],
 "metadata": {
  "colab": {
   "provenance": [],
   "toc_visible": true
  },
  "kernelspec": {
   "display_name": "Python 3 (ipykernel)",
   "language": "python",
   "name": "python3"
  },
  "language_info": {
   "codemirror_mode": {
    "name": "ipython",
    "version": 3
   },
   "file_extension": ".py",
   "mimetype": "text/x-python",
   "name": "python",
   "nbconvert_exporter": "python",
   "pygments_lexer": "ipython3",
   "version": "3.11.5"
  }
 },
 "nbformat": 4,
 "nbformat_minor": 4
}
