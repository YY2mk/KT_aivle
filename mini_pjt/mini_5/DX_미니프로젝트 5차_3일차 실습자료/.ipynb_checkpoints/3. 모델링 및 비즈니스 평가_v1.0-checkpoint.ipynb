{
 "cells": [
  {
   "cell_type": "markdown",
   "metadata": {
    "id": "mJlY5pHkC2AM"
   },
   "source": [
    "### **■ 유통 판매량 예측 및 재고 최적화**\n",
    "# **단계 3: 모델링 및 비즈니스 평가**"
   ]
  },
  {
   "cell_type": "markdown",
   "metadata": {
    "id": "sRPj1kd5F4hV"
   },
   "source": [
    "<img src = \"https://github.com/Jangrae/img/blob/master/store.png?raw=true\" width=800, align=\"left\"/>"
   ]
  },
  {
   "cell_type": "markdown",
   "metadata": {
    "id": "-FPypzell2uc"
   },
   "source": [
    "# **⏰ 수행 과제**\n",
    "\n",
    "다음과 같은 과정으로 프로젝트를 진행합니다.\n",
    "\n",
    "#### **1. 환경 설정**\n",
    "- 이후 진행에 필요한 환경 설정을 수행합니다.\n",
    "\n",
    "#### **2. 4차 모델링**\n",
    "- Random Forest, LigntGBM 알고리즘으로 모델링합니다.\n",
    "- 이번에는 하이퍼파라미터 튜닝을 통해 모델의 성능을 높여봅니다.\n",
    "- 변화되는 모델의 성능을 기록합니다.\n",
    "\n",
    "#### **3. 파이프라인 구축**\n",
    "- 새로 읽어온 데이터에 대해 모델이 예측핳 수 있는 형태의 데이터 셋을 만들어야 합니다.\n",
    "- 이러한 데이터 셋을 만드는 파이프라인을 함수를 만들어 보세요.\n",
    "\n",
    "#### **4. 최종 평가**\n",
    "- 새로운 데이터에 대해 예측하고 성능을 평가합니다.\n",
    "- 재고량을 평가하는 다음 함수를 활용해 비즈니스 관점의 평가를 수행하세요.\n",
    "- 최종 평가 결과를 기록하고 비교합니다."
   ]
  },
  {
   "cell_type": "markdown",
   "metadata": {
    "id": "NCptKiLOAn7l"
   },
   "source": [
    "# **1. 환경 설정**\n",
    "\n",
    "- 이후 진행에 필요한 환경 설정을 수행합니다."
   ]
  },
  {
   "cell_type": "markdown",
   "metadata": {
    "id": "6qsy44YpolGu"
   },
   "source": [
    "## **(1) 경로 설정**\n",
    "\n",
    "- 프로젝트 수행 환경에 맞게 파일 경로를 설정합니다."
   ]
  },
  {
   "cell_type": "markdown",
   "metadata": {
    "id": "gklxNfgNpkls"
   },
   "source": [
    "### **1) 로컬 수행(Anaconda)**\n",
    "- project 폴더에 필요한 파일들을 넣고, 본 파일을 열었다면, 별도 경로 지정이 필요하지 않습니다."
   ]
  },
  {
   "cell_type": "code",
   "execution_count": 47,
   "metadata": {
    "executionInfo": {
     "elapsed": 11,
     "status": "ok",
     "timestamp": 1713225608455,
     "user": {
      "displayName": "Jangrae Lee",
      "userId": "08475661575434032088"
     },
     "user_tz": -540
    },
    "id": "PNI6X2yxpkls",
    "tags": []
   },
   "outputs": [],
   "source": [
    "# 기본 경로\n",
    "path = '../DX_미니프로젝트 5차_1일차 실습자료/'"
   ]
  },
  {
   "cell_type": "markdown",
   "metadata": {
    "id": "ZOqqzLR_TMJh"
   },
   "source": [
    "### **2) 구글 콜랩 수행**\n",
    "\n",
    "- 구글 콜랩을 사용중이면 구글 드라이브를 연결합니다."
   ]
  },
  {
   "cell_type": "code",
   "execution_count": 48,
   "metadata": {
    "colab": {
     "base_uri": "https://localhost:8080/"
    },
    "executionInfo": {
     "elapsed": 2769,
     "status": "ok",
     "timestamp": 1713227253685,
     "user": {
      "displayName": "Jangrae Lee",
      "userId": "08475661575434032088"
     },
     "user_tz": -540
    },
    "id": "dvd7QMs2TMJz",
    "outputId": "cca1c02c-8d56-4ab8-886b-1fa073c7bb20",
    "tags": []
   },
   "outputs": [],
   "source": [
    "# 구글 드라이브 연결, 패스 지정\n",
    "import sys\n",
    "if 'google.colab' in sys.modules:\n",
    "    from google.colab import drive\n",
    "    drive.mount('/content/drive')\n",
    "    path = '/content/drive/MyDrive/project/'"
   ]
  },
  {
   "cell_type": "markdown",
   "metadata": {
    "id": "szLW_muKtxqT"
   },
   "source": [
    "## **(2) 라이브러리 불러오기**\n",
    "\n",
    "- 이후 사용할 라이브러리를 모두 불러옵니다."
   ]
  },
  {
   "cell_type": "code",
   "execution_count": 49,
   "metadata": {
    "executionInfo": {
     "elapsed": 4611,
     "status": "ok",
     "timestamp": 1713225633231,
     "user": {
      "displayName": "Jangrae Lee",
      "userId": "08475661575434032088"
     },
     "user_tz": -540
    },
    "id": "Aj4I06BetxqU",
    "tags": []
   },
   "outputs": [],
   "source": [
    "# 라이브러리 불러오기\n",
    "import pandas as pd\n",
    "import numpy as np\n",
    "import matplotlib.pyplot as plt\n",
    "import seaborn as sns\n",
    "\n",
    "import joblib\n",
    "\n",
    "from sklearn.metrics import *\n",
    "from sklearn.model_selection import train_test_split, GridSearchCV\n",
    "from sklearn.ensemble import RandomForestRegressor\n",
    "from lightgbm import LGBMRegressor\n",
    "\n",
    "import warnings\n",
    "warnings.filterwarnings('ignore')\n",
    "%config InlineBackend.figure_format = 'retina'"
   ]
  },
  {
   "cell_type": "markdown",
   "metadata": {},
   "source": [
    "- 모델이 예측한 결과를 시각화할 때 다음 함수를 활용합니다."
   ]
  },
  {
   "cell_type": "code",
   "execution_count": 50,
   "metadata": {},
   "outputs": [],
   "source": [
    "# 함수 만들기\n",
    "def plot_model_result(y_train, y_val, y_pred):\n",
    "    \n",
    "    y_train = pd.Series(y_train)\n",
    "    y_val = pd.Series(y_val)\n",
    "    y_val.index = range(len(y_train), len(y_train) + len(y_val))\n",
    "\n",
    "    y_pred = pd.Series(y_pred.reshape(-1,), index=y_val.index)\n",
    "\n",
    "    # 전체 시각화\n",
    "    plt.figure(figsize=(12, 5))\n",
    "    plt.subplot(2,1,1)\n",
    "    plt.plot(y_train, label='y_train', color='tab:blue')\n",
    "    plt.plot(y_val, label='y_val', color='tab:green')\n",
    "    plt.plot(y_pred, label='y_pred', color='tab:orange')\n",
    "    plt.legend()\n",
    "    plt.subplot(2,1,2)\n",
    "    plt.plot(y_val, label = 'y_val', color='tab:green')\n",
    "    plt.plot(y_pred, label = 'y_pred', color='tab:orange')\n",
    "    plt.legend()\n",
    "    plt.tight_layout()\n",
    "    plt.show()\n",
    "\n",
    "    print('RMAE', mean_squared_error(y_val, y_pred, squared=False))\n",
    "    print('MAE', mean_absolute_error(y_val, y_pred))\n",
    "    print('MAPE', mean_absolute_percentage_error(y_val, y_pred))\n",
    "    print('R2', r2_score(y_val, y_pred))"
   ]
  },
  {
   "cell_type": "markdown",
   "metadata": {
    "id": "dPfPWkG1txqV"
   },
   "source": [
    "## **(3) 데이터 불러오기**\n",
    "\n",
    "- 이후 분석 대상이 되는 파일을 불러오고 기본 정보를 확인합니다."
   ]
  },
  {
   "cell_type": "markdown",
   "metadata": {
    "id": "fmgUEGOipvG5"
   },
   "source": [
    "### **1) 데이터 불러오기**\n",
    "\n",
    "- 이전 과정에서 저장한 pkl 파일을 불러옵니다.\n",
    "- 데이터프레임 이름은 data03, data12, data42가 되게 합니다.\n",
    "- 다음과 같은 형태의 구문으로 불러옵니다.\n",
    "~~~\n",
    "mydata = joblib.load(path + 'mydata.pkl')\n",
    "~~~"
   ]
  },
  {
   "cell_type": "code",
   "execution_count": 51,
   "metadata": {
    "executionInfo": {
     "elapsed": 1257,
     "status": "ok",
     "timestamp": 1713225725067,
     "user": {
      "displayName": "Jangrae Lee",
      "userId": "08475661575434032088"
     },
     "user_tz": -540
    },
    "id": "ZpMoNMpcQoQ5",
    "tags": []
   },
   "outputs": [],
   "source": [
    "data03 = joblib.load('data03.pkl')\n",
    "data12 = joblib.load('data12.pkl')\n",
    "data42 = joblib.load('data42.pkl')"
   ]
  },
  {
   "cell_type": "markdown",
   "metadata": {
    "id": "aI7qJqz3pr3m"
   },
   "source": [
    "### **2) 기본 정보 확인**\n",
    "\n",
    "- 각 데이터의 기본 정보를 확인합니다."
   ]
  },
  {
   "cell_type": "code",
   "execution_count": 52,
   "metadata": {
    "colab": {
     "base_uri": "https://localhost:8080/",
     "height": 206
    },
    "executionInfo": {
     "elapsed": 4,
     "status": "ok",
     "timestamp": 1712193806219,
     "user": {
      "displayName": "한기영",
      "userId": "13049187003176135487"
     },
     "user_tz": -540
    },
    "id": "Xb92_ssRvttf",
    "outputId": "fda28caf-5107-4334-948e-6319a490c980",
    "tags": []
   },
   "outputs": [
    {
     "data": {
      "text/html": [
       "<div>\n",
       "<style scoped>\n",
       "    .dataframe tbody tr th:only-of-type {\n",
       "        vertical-align: middle;\n",
       "    }\n",
       "\n",
       "    .dataframe tbody tr th {\n",
       "        vertical-align: top;\n",
       "    }\n",
       "\n",
       "    .dataframe thead th {\n",
       "        text-align: right;\n",
       "    }\n",
       "</style>\n",
       "<table border=\"1\" class=\"dataframe\">\n",
       "  <thead>\n",
       "    <tr style=\"text-align: right;\">\n",
       "      <th></th>\n",
       "      <th>Date</th>\n",
       "      <th>Qty</th>\n",
       "      <th>CustomerCount</th>\n",
       "      <th>WeekDay</th>\n",
       "      <th>Month</th>\n",
       "      <th>WTI_Price</th>\n",
       "      <th>Target</th>\n",
       "      <th>City_CustCount</th>\n",
       "      <th>Category_Qty</th>\n",
       "      <th>Qty_Lag_1</th>\n",
       "      <th>Qty_Lag_7_mean</th>\n",
       "    </tr>\n",
       "  </thead>\n",
       "  <tbody>\n",
       "    <tr>\n",
       "      <th>1</th>\n",
       "      <td>2014-01-02</td>\n",
       "      <td>9853.0</td>\n",
       "      <td>4422.0</td>\n",
       "      <td>Thursday</td>\n",
       "      <td>1.0</td>\n",
       "      <td>95.140000</td>\n",
       "      <td>15153.0</td>\n",
       "      <td>45969.0</td>\n",
       "      <td>176120.0</td>\n",
       "      <td>0.0</td>\n",
       "      <td>4926.500000</td>\n",
       "    </tr>\n",
       "    <tr>\n",
       "      <th>2</th>\n",
       "      <td>2014-01-03</td>\n",
       "      <td>8647.0</td>\n",
       "      <td>4167.0</td>\n",
       "      <td>Friday</td>\n",
       "      <td>1.0</td>\n",
       "      <td>94.400000</td>\n",
       "      <td>15606.0</td>\n",
       "      <td>42386.0</td>\n",
       "      <td>151502.0</td>\n",
       "      <td>9853.0</td>\n",
       "      <td>6166.666667</td>\n",
       "    </tr>\n",
       "    <tr>\n",
       "      <th>3</th>\n",
       "      <td>2014-01-04</td>\n",
       "      <td>15153.0</td>\n",
       "      <td>5341.0</td>\n",
       "      <td>Saturday</td>\n",
       "      <td>1.0</td>\n",
       "      <td>94.400000</td>\n",
       "      <td>7900.0</td>\n",
       "      <td>52293.0</td>\n",
       "      <td>222138.0</td>\n",
       "      <td>8647.0</td>\n",
       "      <td>8413.250000</td>\n",
       "    </tr>\n",
       "    <tr>\n",
       "      <th>4</th>\n",
       "      <td>2014-01-05</td>\n",
       "      <td>15606.0</td>\n",
       "      <td>5123.0</td>\n",
       "      <td>Sunday</td>\n",
       "      <td>1.0</td>\n",
       "      <td>94.400000</td>\n",
       "      <td>7188.0</td>\n",
       "      <td>49199.0</td>\n",
       "      <td>222012.0</td>\n",
       "      <td>15153.0</td>\n",
       "      <td>9851.800000</td>\n",
       "    </tr>\n",
       "    <tr>\n",
       "      <th>5</th>\n",
       "      <td>2014-01-06</td>\n",
       "      <td>7900.0</td>\n",
       "      <td>3917.0</td>\n",
       "      <td>Monday</td>\n",
       "      <td>1.0</td>\n",
       "      <td>93.973333</td>\n",
       "      <td>8800.0</td>\n",
       "      <td>39105.0</td>\n",
       "      <td>136433.0</td>\n",
       "      <td>15606.0</td>\n",
       "      <td>9526.500000</td>\n",
       "    </tr>\n",
       "  </tbody>\n",
       "</table>\n",
       "</div>"
      ],
      "text/plain": [
       "        Date      Qty  CustomerCount   WeekDay  Month  WTI_Price   Target  \\\n",
       "1 2014-01-02   9853.0         4422.0  Thursday    1.0  95.140000  15153.0   \n",
       "2 2014-01-03   8647.0         4167.0    Friday    1.0  94.400000  15606.0   \n",
       "3 2014-01-04  15153.0         5341.0  Saturday    1.0  94.400000   7900.0   \n",
       "4 2014-01-05  15606.0         5123.0    Sunday    1.0  94.400000   7188.0   \n",
       "5 2014-01-06   7900.0         3917.0    Monday    1.0  93.973333   8800.0   \n",
       "\n",
       "   City_CustCount  Category_Qty  Qty_Lag_1  Qty_Lag_7_mean  \n",
       "1         45969.0      176120.0        0.0     4926.500000  \n",
       "2         42386.0      151502.0     9853.0     6166.666667  \n",
       "3         52293.0      222138.0     8647.0     8413.250000  \n",
       "4         49199.0      222012.0    15153.0     9851.800000  \n",
       "5         39105.0      136433.0    15606.0     9526.500000  "
      ]
     },
     "execution_count": 52,
     "metadata": {},
     "output_type": "execute_result"
    }
   ],
   "source": [
    "data03.head()"
   ]
  },
  {
   "cell_type": "code",
   "execution_count": 53,
   "metadata": {
    "id": "N0mT4lFLF4hc",
    "outputId": "28cff0cb-1b53-4cd2-8340-3151b84e381d",
    "tags": []
   },
   "outputs": [
    {
     "data": {
      "text/html": [
       "<div>\n",
       "<style scoped>\n",
       "    .dataframe tbody tr th:only-of-type {\n",
       "        vertical-align: middle;\n",
       "    }\n",
       "\n",
       "    .dataframe tbody tr th {\n",
       "        vertical-align: top;\n",
       "    }\n",
       "\n",
       "    .dataframe thead th {\n",
       "        text-align: right;\n",
       "    }\n",
       "</style>\n",
       "<table border=\"1\" class=\"dataframe\">\n",
       "  <thead>\n",
       "    <tr style=\"text-align: right;\">\n",
       "      <th></th>\n",
       "      <th>Date</th>\n",
       "      <th>Qty</th>\n",
       "      <th>CustomerCount</th>\n",
       "      <th>WeekDay</th>\n",
       "      <th>Month</th>\n",
       "      <th>WTI_Price</th>\n",
       "      <th>Target</th>\n",
       "      <th>City_CustCount</th>\n",
       "      <th>Category_Qty</th>\n",
       "      <th>Qty_Lag_1</th>\n",
       "      <th>Qty_Lag_7_mean</th>\n",
       "    </tr>\n",
       "  </thead>\n",
       "  <tbody>\n",
       "    <tr>\n",
       "      <th>1</th>\n",
       "      <td>2014-01-02</td>\n",
       "      <td>9647.0</td>\n",
       "      <td>4422.0</td>\n",
       "      <td>Thursday</td>\n",
       "      <td>1.0</td>\n",
       "      <td>95.140000</td>\n",
       "      <td>14188.0</td>\n",
       "      <td>45969.0</td>\n",
       "      <td>298620.320011</td>\n",
       "      <td>0.0</td>\n",
       "      <td>4823.500000</td>\n",
       "    </tr>\n",
       "    <tr>\n",
       "      <th>2</th>\n",
       "      <td>2014-01-03</td>\n",
       "      <td>8879.0</td>\n",
       "      <td>4167.0</td>\n",
       "      <td>Friday</td>\n",
       "      <td>1.0</td>\n",
       "      <td>94.400000</td>\n",
       "      <td>14490.0</td>\n",
       "      <td>42386.0</td>\n",
       "      <td>250953.870948</td>\n",
       "      <td>9647.0</td>\n",
       "      <td>6175.333333</td>\n",
       "    </tr>\n",
       "    <tr>\n",
       "      <th>3</th>\n",
       "      <td>2014-01-04</td>\n",
       "      <td>14188.0</td>\n",
       "      <td>5341.0</td>\n",
       "      <td>Saturday</td>\n",
       "      <td>1.0</td>\n",
       "      <td>94.400000</td>\n",
       "      <td>7614.0</td>\n",
       "      <td>52293.0</td>\n",
       "      <td>352348.306930</td>\n",
       "      <td>8879.0</td>\n",
       "      <td>8178.500000</td>\n",
       "    </tr>\n",
       "    <tr>\n",
       "      <th>4</th>\n",
       "      <td>2014-01-05</td>\n",
       "      <td>14490.0</td>\n",
       "      <td>5123.0</td>\n",
       "      <td>Sunday</td>\n",
       "      <td>1.0</td>\n",
       "      <td>94.400000</td>\n",
       "      <td>7124.0</td>\n",
       "      <td>49199.0</td>\n",
       "      <td>362852.115984</td>\n",
       "      <td>14188.0</td>\n",
       "      <td>9440.800000</td>\n",
       "    </tr>\n",
       "    <tr>\n",
       "      <th>5</th>\n",
       "      <td>2014-01-06</td>\n",
       "      <td>7614.0</td>\n",
       "      <td>3917.0</td>\n",
       "      <td>Monday</td>\n",
       "      <td>1.0</td>\n",
       "      <td>93.973333</td>\n",
       "      <td>8683.0</td>\n",
       "      <td>39105.0</td>\n",
       "      <td>233749.026011</td>\n",
       "      <td>14490.0</td>\n",
       "      <td>9136.333333</td>\n",
       "    </tr>\n",
       "  </tbody>\n",
       "</table>\n",
       "</div>"
      ],
      "text/plain": [
       "        Date      Qty  CustomerCount   WeekDay  Month  WTI_Price   Target  \\\n",
       "1 2014-01-02   9647.0         4422.0  Thursday    1.0  95.140000  14188.0   \n",
       "2 2014-01-03   8879.0         4167.0    Friday    1.0  94.400000  14490.0   \n",
       "3 2014-01-04  14188.0         5341.0  Saturday    1.0  94.400000   7614.0   \n",
       "4 2014-01-05  14490.0         5123.0    Sunday    1.0  94.400000   7124.0   \n",
       "5 2014-01-06   7614.0         3917.0    Monday    1.0  93.973333   8683.0   \n",
       "\n",
       "   City_CustCount   Category_Qty  Qty_Lag_1  Qty_Lag_7_mean  \n",
       "1         45969.0  298620.320011        0.0     4823.500000  \n",
       "2         42386.0  250953.870948     9647.0     6175.333333  \n",
       "3         52293.0  352348.306930     8879.0     8178.500000  \n",
       "4         49199.0  362852.115984    14188.0     9440.800000  \n",
       "5         39105.0  233749.026011    14490.0     9136.333333  "
      ]
     },
     "execution_count": 53,
     "metadata": {},
     "output_type": "execute_result"
    }
   ],
   "source": [
    "data12.head()"
   ]
  },
  {
   "cell_type": "code",
   "execution_count": 54,
   "metadata": {
    "id": "VvIqYcTeF4hc",
    "outputId": "a46b1753-c85b-4750-ce59-6b4a332e8097",
    "tags": []
   },
   "outputs": [
    {
     "data": {
      "text/html": [
       "<div>\n",
       "<style scoped>\n",
       "    .dataframe tbody tr th:only-of-type {\n",
       "        vertical-align: middle;\n",
       "    }\n",
       "\n",
       "    .dataframe tbody tr th {\n",
       "        vertical-align: top;\n",
       "    }\n",
       "\n",
       "    .dataframe thead th {\n",
       "        text-align: right;\n",
       "    }\n",
       "</style>\n",
       "<table border=\"1\" class=\"dataframe\">\n",
       "  <thead>\n",
       "    <tr style=\"text-align: right;\">\n",
       "      <th></th>\n",
       "      <th>Date</th>\n",
       "      <th>Qty</th>\n",
       "      <th>CustomerCount</th>\n",
       "      <th>WeekDay</th>\n",
       "      <th>Month</th>\n",
       "      <th>WTI_Price</th>\n",
       "      <th>Target</th>\n",
       "      <th>City_CustCount</th>\n",
       "      <th>Category_Qty</th>\n",
       "      <th>Qty_Lag_1</th>\n",
       "      <th>Qty_Lag_7_mean</th>\n",
       "    </tr>\n",
       "  </thead>\n",
       "  <tbody>\n",
       "    <tr>\n",
       "      <th>1</th>\n",
       "      <td>2014-01-02</td>\n",
       "      <td>76.0</td>\n",
       "      <td>4422.0</td>\n",
       "      <td>Thursday</td>\n",
       "      <td>1</td>\n",
       "      <td>95.140000</td>\n",
       "      <td>78.0</td>\n",
       "      <td>45969.0</td>\n",
       "      <td>35336.643958</td>\n",
       "      <td>51.0</td>\n",
       "      <td>63.50</td>\n",
       "    </tr>\n",
       "    <tr>\n",
       "      <th>2</th>\n",
       "      <td>2014-01-03</td>\n",
       "      <td>74.0</td>\n",
       "      <td>4167.0</td>\n",
       "      <td>Friday</td>\n",
       "      <td>1</td>\n",
       "      <td>94.400000</td>\n",
       "      <td>88.0</td>\n",
       "      <td>42386.0</td>\n",
       "      <td>32032.468719</td>\n",
       "      <td>76.0</td>\n",
       "      <td>67.00</td>\n",
       "    </tr>\n",
       "    <tr>\n",
       "      <th>3</th>\n",
       "      <td>2014-01-04</td>\n",
       "      <td>78.0</td>\n",
       "      <td>5341.0</td>\n",
       "      <td>Saturday</td>\n",
       "      <td>1</td>\n",
       "      <td>94.400000</td>\n",
       "      <td>65.0</td>\n",
       "      <td>52293.0</td>\n",
       "      <td>34557.982838</td>\n",
       "      <td>74.0</td>\n",
       "      <td>69.75</td>\n",
       "    </tr>\n",
       "    <tr>\n",
       "      <th>4</th>\n",
       "      <td>2014-01-05</td>\n",
       "      <td>88.0</td>\n",
       "      <td>5123.0</td>\n",
       "      <td>Sunday</td>\n",
       "      <td>1</td>\n",
       "      <td>94.400000</td>\n",
       "      <td>78.0</td>\n",
       "      <td>49199.0</td>\n",
       "      <td>29491.302000</td>\n",
       "      <td>78.0</td>\n",
       "      <td>73.40</td>\n",
       "    </tr>\n",
       "    <tr>\n",
       "      <th>5</th>\n",
       "      <td>2014-01-06</td>\n",
       "      <td>65.0</td>\n",
       "      <td>3917.0</td>\n",
       "      <td>Monday</td>\n",
       "      <td>1</td>\n",
       "      <td>93.973333</td>\n",
       "      <td>73.0</td>\n",
       "      <td>39105.0</td>\n",
       "      <td>18564.406008</td>\n",
       "      <td>88.0</td>\n",
       "      <td>72.00</td>\n",
       "    </tr>\n",
       "  </tbody>\n",
       "</table>\n",
       "</div>"
      ],
      "text/plain": [
       "        Date   Qty  CustomerCount   WeekDay  Month  WTI_Price  Target  \\\n",
       "1 2014-01-02  76.0         4422.0  Thursday      1  95.140000    78.0   \n",
       "2 2014-01-03  74.0         4167.0    Friday      1  94.400000    88.0   \n",
       "3 2014-01-04  78.0         5341.0  Saturday      1  94.400000    65.0   \n",
       "4 2014-01-05  88.0         5123.0    Sunday      1  94.400000    78.0   \n",
       "5 2014-01-06  65.0         3917.0    Monday      1  93.973333    73.0   \n",
       "\n",
       "   City_CustCount  Category_Qty  Qty_Lag_1  Qty_Lag_7_mean  \n",
       "1         45969.0  35336.643958       51.0           63.50  \n",
       "2         42386.0  32032.468719       76.0           67.00  \n",
       "3         52293.0  34557.982838       74.0           69.75  \n",
       "4         49199.0  29491.302000       78.0           73.40  \n",
       "5         39105.0  18564.406008       88.0           72.00  "
      ]
     },
     "execution_count": 54,
     "metadata": {},
     "output_type": "execute_result"
    }
   ],
   "source": [
    "data42.head()"
   ]
  },
  {
   "cell_type": "markdown",
   "metadata": {
    "id": "ZN_faOzz_YNo"
   },
   "source": [
    "# **2. 4차 모델링**\n",
    "\n",
    "- Random Forest, LigntGBM 알고리즘으로 모델링합니다.\n",
    "- 모델링 과정에서 변수 이름은 **x_train, x_val, y_train, y_val, y_pred**을 사용합니다.\n",
    "- 이번에는 **하이퍼파라미터 튜닝**을 통해 모델의 성능을 높여봅니다.\n",
    "- **검증용 데이터**는 학습용 데이터에서 **최근 120일간**의 데이터를 사용합니다.\n",
    "- 변화되는 모델의 성능을 기록합니다."
   ]
  },
  {
   "cell_type": "code",
   "execution_count": 55,
   "metadata": {
    "id": "ns6RAL70F4hd",
    "tags": []
   },
   "outputs": [],
   "source": [
    "model_lr = 'LinearRegression'\n",
    "model_rf = 'RandomForestRegressor'\n",
    "model_lgbm = 'LGBMRegressor'"
   ]
  },
  {
   "cell_type": "code",
   "execution_count": 56,
   "metadata": {},
   "outputs": [],
   "source": [
    "def model_set(data_num, select_model):\n",
    "    target = ['Date', 'Target']\n",
    "    x = data_num.drop(target, axis=1)\n",
    "    y = data_num['Target']\n",
    "\n",
    "    weekdays = ['Monday', 'Tuesday', 'Wednesday','Thursday', 'Friday', 'Saturday', 'Sunday']\n",
    "    months = [1, 2, 3, 4, 5, 6, 7, 8, 9, 10, 11, 12]\n",
    "    x['WeekDay'] = pd.Categorical(x['WeekDay'], categories=weekdays)\n",
    "    x['Month'] = pd.Categorical(x['Month'], categories=months)\n",
    "    x = pd.get_dummies(x, columns=['WeekDay','Month'], dtype=int)\n",
    "    x_train, x_val, y_train, y_val = train_test_split(x, y, test_size=120, random_state=42, shuffle=False)\n",
    "\n",
    "    if select_model == 'LinearRegression':\n",
    "        model = LinearRegression()\n",
    "        params = {}  # LinearRegression은 하이퍼파라미터가 없으므로 빈 딕셔너리로 설정\n",
    "    elif select_model == 'RandomForestRegressor':\n",
    "        model = RandomForestRegressor(random_state=42)\n",
    "        params = {\n",
    "            'n_estimators': [100, 300, 500],\n",
    "            'max_depth': [None, 10, 30],\n",
    "            'min_samples_split': [2, 5, 10]\n",
    "        }\n",
    "    elif select_model == 'LGBMRegressor':\n",
    "        model = LGBMRegressor(random_state=42)\n",
    "        params = {\n",
    "            'n_estimators': [100, 200, 300],\n",
    "            'max_depth': [-1, 10, 20],\n",
    "            'learning_rate': [0.01, 0.05, 0.1]\n",
    "        }\n",
    "    else:\n",
    "        raise ValueError(\"Unsupported model type. Please select from 'LinearRegression', 'RandomForestRegressor', or 'LGBMRegressor'.\")\n",
    "\n",
    "    grid_search = GridSearchCV(model, params, cv=5, n_jobs=2, verbose=2)\n",
    "    grid_search.fit(x_train, y_train)\n",
    "    best_model = grid_search.best_estimator_\n",
    "    pred = best_model.predict(x_val)\n",
    "\n",
    "    return y_train, y_val, pred"
   ]
  },
  {
   "cell_type": "markdown",
   "metadata": {
    "id": "-2unIvUwpH0K"
   },
   "source": [
    "## **(1) Random Forest 모델**"
   ]
  },
  {
   "cell_type": "markdown",
   "metadata": {
    "id": "V3rdaRw7OLvV"
   },
   "source": [
    "### **1) 상품: 3 - Beverage**\n",
    "\n",
    "- GridSearchCV를 사용해 3번 상품에 대해 모델링하고 성능을 확인합니다..\n",
    "- 모델 이름은 **model03_rdf**로 합니다."
   ]
  },
  {
   "cell_type": "code",
   "execution_count": 57,
   "metadata": {
    "colab": {
     "base_uri": "https://localhost:8080/"
    },
    "executionInfo": {
     "elapsed": 309,
     "status": "ok",
     "timestamp": 1712639440508,
     "user": {
      "displayName": "한기영",
      "userId": "13049187003176135487"
     },
     "user_tz": -540
    },
    "id": "Rg0ZamSnx6lv",
    "outputId": "e7a62384-5cb2-49a4-83b0-0be44c301763",
    "tags": []
   },
   "outputs": [
    {
     "name": "stdout",
     "output_type": "stream",
     "text": [
      "Fitting 5 folds for each of 27 candidates, totalling 135 fits\n"
     ]
    },
    {
     "ename": "NameError",
     "evalue": "name 'model03_rdf4' is not defined",
     "output_type": "error",
     "traceback": [
      "\u001b[1;31m---------------------------------------------------------------------------\u001b[0m",
      "\u001b[1;31mNameError\u001b[0m                                 Traceback (most recent call last)",
      "Cell \u001b[1;32mIn[57], line 2\u001b[0m\n\u001b[0;32m      1\u001b[0m model03_rdf \u001b[38;5;241m=\u001b[39m model_set(data03, model_rf)\n\u001b[1;32m----> 2\u001b[0m y_train, y_val, pred \u001b[38;5;241m=\u001b[39m model03_rdf4\n",
      "\u001b[1;31mNameError\u001b[0m: name 'model03_rdf4' is not defined"
     ]
    }
   ],
   "source": [
    "model03_rdf = model_set(data03, model_rf)\n",
    "y_train, y_val, pred = model03_rdf4"
   ]
  },
  {
   "cell_type": "markdown",
   "metadata": {
    "id": "zoMcLwe1F4he"
   },
   "source": [
    "#### - 모델이 예측한 결과를 시각화해 확인합니다."
   ]
  },
  {
   "cell_type": "code",
   "execution_count": null,
   "metadata": {
    "colab": {
     "base_uri": "https://localhost:8080/",
     "height": 673
    },
    "executionInfo": {
     "elapsed": 1116,
     "status": "ok",
     "timestamp": 1712639447571,
     "user": {
      "displayName": "한기영",
      "userId": "13049187003176135487"
     },
     "user_tz": -540
    },
    "id": "58dM788tNB3g",
    "outputId": "367e47d7-518a-40e0-8983-d2c48ed266e9",
    "tags": []
   },
   "outputs": [],
   "source": [
    "plot_model_result(y_train, y_val, pred)"
   ]
  },
  {
   "cell_type": "markdown",
   "metadata": {
    "id": "R3R0u4WVOLvc"
   },
   "source": [
    "### **2) 상품: 12 - Milk**\n",
    "\n",
    "- GridSearchCV를 사용해 12번 상품에 대해 모델링하고 성능을 확인합니다..\n",
    "- 모델 이름은 **model12_rdf**로 합니다."
   ]
  },
  {
   "cell_type": "code",
   "execution_count": null,
   "metadata": {
    "colab": {
     "base_uri": "https://localhost:8080/"
    },
    "executionInfo": {
     "elapsed": 309,
     "status": "ok",
     "timestamp": 1712639440508,
     "user": {
      "displayName": "한기영",
      "userId": "13049187003176135487"
     },
     "user_tz": -540
    },
    "id": "bgzvmGkrF4hf",
    "outputId": "e7a62384-5cb2-49a4-83b0-0be44c301763",
    "tags": []
   },
   "outputs": [],
   "source": [
    "model12_rdf = model_set(data12, model_rf)\n",
    "y_train, y_val, pred = model12_rdf"
   ]
  },
  {
   "cell_type": "markdown",
   "metadata": {
    "id": "YBaHtjtiF4hf"
   },
   "source": [
    "- 모델이 예측한 결과를 시각화해 확인합니다."
   ]
  },
  {
   "cell_type": "code",
   "execution_count": null,
   "metadata": {
    "colab": {
     "base_uri": "https://localhost:8080/",
     "height": 673
    },
    "executionInfo": {
     "elapsed": 1116,
     "status": "ok",
     "timestamp": 1712639447571,
     "user": {
      "displayName": "한기영",
      "userId": "13049187003176135487"
     },
     "user_tz": -540
    },
    "id": "HBSSt8yhF4hf",
    "outputId": "367e47d7-518a-40e0-8983-d2c48ed266e9",
    "tags": []
   },
   "outputs": [],
   "source": [
    "plot_model_result(y_train, y_val, pred)"
   ]
  },
  {
   "cell_type": "markdown",
   "metadata": {
    "id": "TEK-0JLVOLvc"
   },
   "source": [
    "### **3) 상품: 42 - Agricultural products**\n",
    "\n",
    "- GridSearchCV를 사용해 42번 상품에 대해 모델링하고 성능을 확인합니다..\n",
    "- 모델 이름은 **model42_rdf**로 합니다."
   ]
  },
  {
   "cell_type": "code",
   "execution_count": null,
   "metadata": {
    "colab": {
     "base_uri": "https://localhost:8080/"
    },
    "executionInfo": {
     "elapsed": 309,
     "status": "ok",
     "timestamp": 1712639440508,
     "user": {
      "displayName": "한기영",
      "userId": "13049187003176135487"
     },
     "user_tz": -540
    },
    "id": "y73qxwCnF4hf",
    "outputId": "e7a62384-5cb2-49a4-83b0-0be44c301763",
    "tags": []
   },
   "outputs": [],
   "source": [
    "model42_rdf = model_set(data42, model_rf)\n",
    "y_train, y_val, pred = model42_rdf"
   ]
  },
  {
   "cell_type": "markdown",
   "metadata": {
    "id": "-8TqoHROF4hg"
   },
   "source": [
    "- 모델이 예측한 결과를 시각화해 확인합니다."
   ]
  },
  {
   "cell_type": "code",
   "execution_count": null,
   "metadata": {
    "colab": {
     "base_uri": "https://localhost:8080/",
     "height": 673
    },
    "executionInfo": {
     "elapsed": 1116,
     "status": "ok",
     "timestamp": 1712639447571,
     "user": {
      "displayName": "한기영",
      "userId": "13049187003176135487"
     },
     "user_tz": -540
    },
    "id": "ft37Wzx7F4hg",
    "outputId": "367e47d7-518a-40e0-8983-d2c48ed266e9",
    "tags": []
   },
   "outputs": [],
   "source": [
    "plot_model_result(y_train, y_val, pred)"
   ]
  },
  {
   "cell_type": "markdown",
   "metadata": {
    "id": "kafjdr8uF4hg"
   },
   "source": [
    "## **(2) LightGBM 모델**"
   ]
  },
  {
   "cell_type": "markdown",
   "metadata": {
    "id": "hX6sHPIRF4hl"
   },
   "source": [
    "### **1) 상품: 3 - Beverage**\n",
    "\n",
    "- GridSearchCV를 사용해 3번 상품에 대해 모델링하고 성능을 확인합니다..\n",
    "- 모델 이름은 **model03_lgb**로 합니다."
   ]
  },
  {
   "cell_type": "code",
   "execution_count": null,
   "metadata": {
    "colab": {
     "base_uri": "https://localhost:8080/"
    },
    "executionInfo": {
     "elapsed": 309,
     "status": "ok",
     "timestamp": 1712639440508,
     "user": {
      "displayName": "한기영",
      "userId": "13049187003176135487"
     },
     "user_tz": -540
    },
    "id": "FcwzPnBfF4hl",
    "outputId": "e7a62384-5cb2-49a4-83b0-0be44c301763",
    "tags": []
   },
   "outputs": [],
   "source": [
    "model03_lgb = model_set(data42, model_lgbm)\n",
    "y_train, y_val, pred = model03_lgb"
   ]
  },
  {
   "cell_type": "markdown",
   "metadata": {
    "id": "YTEjdGtRF4hl"
   },
   "source": [
    "- 모델이 예측한 결과를 시각화해 확인합니다."
   ]
  },
  {
   "cell_type": "code",
   "execution_count": null,
   "metadata": {
    "colab": {
     "base_uri": "https://localhost:8080/",
     "height": 673
    },
    "executionInfo": {
     "elapsed": 1116,
     "status": "ok",
     "timestamp": 1712639447571,
     "user": {
      "displayName": "한기영",
      "userId": "13049187003176135487"
     },
     "user_tz": -540
    },
    "id": "IgYzXvI7F4hl",
    "outputId": "367e47d7-518a-40e0-8983-d2c48ed266e9",
    "tags": []
   },
   "outputs": [],
   "source": [
    "plot_model_result(y_train, y_val, pred)"
   ]
  },
  {
   "cell_type": "markdown",
   "metadata": {
    "id": "_0CroZ8aF4hm"
   },
   "source": [
    "### **2) 상품: 12 - Milk**\n",
    "\n",
    "- GridSearchCV를 사용해 12번 상품에 대해 모델링하고 성능을 확인합니다..\n",
    "- 모델 이름은 **model12_lgb**로 합니다."
   ]
  },
  {
   "cell_type": "code",
   "execution_count": null,
   "metadata": {
    "colab": {
     "base_uri": "https://localhost:8080/"
    },
    "executionInfo": {
     "elapsed": 309,
     "status": "ok",
     "timestamp": 1712639440508,
     "user": {
      "displayName": "한기영",
      "userId": "13049187003176135487"
     },
     "user_tz": -540
    },
    "id": "UVoO3bptF4hm",
    "outputId": "e7a62384-5cb2-49a4-83b0-0be44c301763",
    "tags": []
   },
   "outputs": [],
   "source": [
    "model12_lgb = model_set(data12, model_lgbm)\n",
    "y_train, y_val, pred = model12_lgb"
   ]
  },
  {
   "cell_type": "markdown",
   "metadata": {
    "id": "7fq5q-rcF4hm"
   },
   "source": [
    "- 모델이 예측한 결과를 시각화해 확인합니다."
   ]
  },
  {
   "cell_type": "code",
   "execution_count": null,
   "metadata": {
    "colab": {
     "base_uri": "https://localhost:8080/",
     "height": 673
    },
    "executionInfo": {
     "elapsed": 1116,
     "status": "ok",
     "timestamp": 1712639447571,
     "user": {
      "displayName": "한기영",
      "userId": "13049187003176135487"
     },
     "user_tz": -540
    },
    "id": "SNmDKJEvF4hm",
    "outputId": "367e47d7-518a-40e0-8983-d2c48ed266e9",
    "tags": []
   },
   "outputs": [],
   "source": [
    "plot_model_result(y_train, y_val, pred)"
   ]
  },
  {
   "cell_type": "markdown",
   "metadata": {
    "id": "7-x4mNLWF4hn"
   },
   "source": [
    "### **3) 상품: 42 - Agricultural products**\n",
    "\n",
    "- GridSearchCV를 사용해 42번 상품에 대해 모델링하고 성능을 확인합니다..\n",
    "- 모델 이름은 **model42_lgb**로 합니다."
   ]
  },
  {
   "cell_type": "code",
   "execution_count": null,
   "metadata": {
    "colab": {
     "base_uri": "https://localhost:8080/"
    },
    "executionInfo": {
     "elapsed": 309,
     "status": "ok",
     "timestamp": 1712639440508,
     "user": {
      "displayName": "한기영",
      "userId": "13049187003176135487"
     },
     "user_tz": -540
    },
    "id": "UTwGR_jcF4hn",
    "outputId": "e7a62384-5cb2-49a4-83b0-0be44c301763",
    "tags": []
   },
   "outputs": [],
   "source": [
    "model42_lgb = model_set(data42, model_lgbm)\n",
    "y_train, y_val, pred = model42_lgb"
   ]
  },
  {
   "cell_type": "markdown",
   "metadata": {
    "id": "FGgQb9wbF4hn"
   },
   "source": [
    "- 모델이 예측한 결과를 시각화해 확인합니다."
   ]
  },
  {
   "cell_type": "code",
   "execution_count": null,
   "metadata": {
    "colab": {
     "base_uri": "https://localhost:8080/",
     "height": 673
    },
    "executionInfo": {
     "elapsed": 1116,
     "status": "ok",
     "timestamp": 1712639447571,
     "user": {
      "displayName": "한기영",
      "userId": "13049187003176135487"
     },
     "user_tz": -540
    },
    "id": "O1pD8GiCF4hn",
    "outputId": "367e47d7-518a-40e0-8983-d2c48ed266e9",
    "tags": []
   },
   "outputs": [],
   "source": [
    "plot_model_result(y_train, y_val, pred)"
   ]
  },
  {
   "cell_type": "markdown",
   "metadata": {
    "id": "L9DOFUlDkV7X"
   },
   "source": [
    "# **3. 파이프라인 구축**\n",
    "\n",
    "- 새로 읽어온 데이터에 대해 모델이 예측핳 수 있는 형태의 데이터 셋을 만들어야 합니다.\n",
    "- 이러한 데이터 셋을 만드는 파이프라인을 함수를 만들어 보세요."
   ]
  },
  {
   "cell_type": "markdown",
   "metadata": {
    "id": "5WOfAg25Mfe7"
   },
   "source": [
    "## **(1) 새로운 데이터 불러오기**\n",
    "\n",
    "- 평가에 사용할 새로운 데이터를 불러옵니다.\n",
    "- 데이터프레임 이름은 다음과 같이 통일합니다.\n",
    "    - sales: 판매 정보\n",
    "    - orders: 고객 방문수\n",
    "    - oil_price: 휘발유 가격\n",
    "    - stores: 매장 정보\n",
    "    - products: 상품 정보"
   ]
  },
  {
   "cell_type": "code",
   "execution_count": 60,
   "metadata": {
    "id": "OIzQ0HCQdJ6c",
    "tags": []
   },
   "outputs": [],
   "source": [
    "# 데이터 불러오기\n",
    "sales = pd.read_csv('sales_test.csv')\n",
    "orders = pd.read_csv('orders_test.csv')\n",
    "oil_price = pd.read_csv('oil_price_test.csv')\n",
    "stores = pd.read_csv(path + 'stores.csv')\n",
    "products = pd.read_csv(path + 'products.csv')"
   ]
  },
  {
   "cell_type": "code",
   "execution_count": 61,
   "metadata": {},
   "outputs": [],
   "source": [
    "# datetime 형으로 변환\n",
    "sales['Date'] = pd.to_datetime(sales['Date'] )\n",
    "oil_price['Date'] = pd.to_datetime(oil_price['Date'] )\n",
    "orders['Date'] = pd.to_datetime(orders['Date'] )"
   ]
  },
  {
   "cell_type": "markdown",
   "metadata": {
    "id": "NKLMkjcPrAjr"
   },
   "source": [
    "## **(2) 데이터 파이프라인 구축**\n",
    "\n",
    "- 다음과 같은 처리를 수행하는 파이프라인이 되어야 합니다.\n",
    "    - 입력: sales_data, orders_data, oil_price_data, Product_ID\n",
    "    - 처리:\n",
    "        - 머신러닝 모델에 전달할 수 있는, 즉 x_train, x_val과 동일한 형태의 데이터 셋 만들기\n",
    "        - 결측치 처리, 가변수화, 변수 제거, 변수 추가 등 일괄 처리\n",
    "    - 출력: 전처리 완료된 데이터 프레임\n",
    "    "
   ]
  },
  {
   "cell_type": "code",
   "execution_count": 77,
   "metadata": {
    "id": "INUoRl-qi0BN",
    "tags": []
   },
   "outputs": [],
   "source": [
    "from sklearn.pipeline import Pipeline\n",
    "\n",
    "def prepare_data_pipeline(Product_ID):\n",
    "    # Basic Data Preparation\n",
    "    leadtime = products.loc[products['Product_ID'] == Product_ID, 'LeadTime'].values[0]\n",
    "    temp1 = sales.loc[(sales['Store_ID'] == 44) & (sales['Product_ID'] == Product_ID), ['Date', 'Qty']]\n",
    "    temp2 = orders.loc[orders['Store_ID'] == 44, ['Date', 'CustomerCount']]\n",
    "    temp3 = pd.merge(temp1, temp2, on='Date', how='left')\n",
    "\n",
    "    # Feature Engineering\n",
    "    temp3['WeekDay'] = temp3['Date'].dt.day_name()\n",
    "    temp3['Month'] = temp3['Date'].dt.month\n",
    "\n",
    "    Category = products.loc[products['Product_ID'].isin([Product_ID]), 'Category'].to_list()\n",
    "    Product_IDs = products.loc[products['Category'].isin(Category), 'Product_ID'].to_list()\n",
    "    temp4 = sales.loc[(sales['Store_ID'] == 44) & (sales['Product_ID'].isin(Product_IDs))]\n",
    "    temp4 = temp4.groupby(by='Date', as_index=False)['Qty'].sum()\n",
    "    temp4.columns = ['Date', 'Category_Qty']\n",
    "    temp3 = pd.merge(temp3, temp4, on='Date', how='left')\n",
    "\n",
    "    City = stores.loc[stores['Store_ID'] == 44, 'City'].values[0]\n",
    "    Store_IDs = stores.loc[stores['City'] == City, 'Store_ID'].to_list()\n",
    "    temp5 = orders.loc[orders['Store_ID'].isin(Store_IDs)]\n",
    "    temp5 = temp5.groupby('Date', as_index=False)['CustomerCount'].sum()\n",
    "    temp5.columns = ['Date', 'City_CustCount']\n",
    "    temp3 = pd.merge(temp3, temp5, on='Date', how='left')\n",
    "\n",
    "    temp3 = temp3.interpolate(method='linear')\n",
    "    temp3 = temp3.fillna(method='bfill')\n",
    "\n",
    "    temp3['Qty_Lag_2_mean'] = temp3['Qty'].rolling(2, min_periods=1).mean()\n",
    "    temp3['Qty_Lag_7_mean'] = temp3['Qty'].rolling(7, min_periods=1).mean()\n",
    "    temp3['Qty_Lag_14_mean'] = temp3['Qty'].rolling(14, min_periods=1).mean()\n",
    "\n",
    "    # Target Addition\n",
    "    temp3['Target'] = temp3['Qty'].shift(-leadtime)\n",
    "    temp3.dropna(inplace=True)\n",
    "\n",
    "    # Encoding Categorical Features\n",
    "    weekdays = ['Monday', 'Tuesday', 'Wednesday', 'Thursday', 'Friday', 'Saturday', 'Sunday']\n",
    "    months = [1, 2, 3, 4, 5, 6, 7, 8, 9, 10, 11, 12]\n",
    "    temp3['WeekDay'] = pd.Categorical(temp3['WeekDay'], categories=weekdays)\n",
    "    temp3['Month'] = pd.Categorical(temp3['Month'], categories=months)\n",
    "    temp3 = pd.get_dummies(temp3, columns=['WeekDay', 'Month'], dtype=int)\n",
    "\n",
    "    # Train-Test Split\n",
    "    target = ['Date', 'Target']\n",
    "    x = temp3.drop(target, axis=1)\n",
    "    y = temp3['Target']\n",
    "\n",
    "    test_size = min(0.2, 120 / len(x))  # Set the test_size to 20% of the data or 120 samples, whichever is smaller\n",
    "\n",
    "    # Creating a pipeline\n",
    "    pipeline = Pipeline([\n",
    "        ('preprocessing', None),  # Placeholder for preprocessing steps\n",
    "        ('splitting', train_test_split(x, y, test_size=test_size, random_state=42, shuffle=False))\n",
    "    ])\n",
    "\n",
    "    return pipeline\n"
   ]
  },
  {
   "cell_type": "code",
   "execution_count": 71,
   "metadata": {},
   "outputs": [],
   "source": [
    "# Usage example:\n",
    "pipeline = prepare_data_pipeline(3)\n",
    "x_train, x_val, y_train, y_val = pipeline.named_steps['splitting']"
   ]
  },
  {
   "cell_type": "code",
   "execution_count": 72,
   "metadata": {},
   "outputs": [],
   "source": [
    "model = LinearRegression()\n",
    "model.fit(x_train, y_train)\n",
    "pred = model.predict(x_val)"
   ]
  },
  {
   "cell_type": "markdown",
   "metadata": {
    "id": "kJpmOxg2rFuZ"
   },
   "source": [
    "# **4. 최종 평가**\n",
    "\n",
    "- 새로운 데이터에 대해 예측하고 성능을 평가합니다.\n",
    "- 재고금액을 평가하는 다음 함수를 활용해 비즈니스 관점의 평가를 수행하세요.\n",
    "- 최종 평가 결과를 기록하고 비교합니다."
   ]
  },
  {
   "cell_type": "code",
   "execution_count": 74,
   "metadata": {
    "id": "DDnOaN64F4hp",
    "tags": []
   },
   "outputs": [],
   "source": [
    "# 재고량 평가 함수 만들기\n",
    "def inv_simulator(y, pred, safe_stock, price):\n",
    "    \n",
    "    # 시뮬레이션 df 틀 만들기\n",
    "    temp = pd.DataFrame({'y': y.reshape(-1,), 'pred': pred.reshape(-1,).round()})\n",
    "    temp['y'] = temp['y'].astype(int)\n",
    "    temp['pred'] = temp['pred'].astype(int)\n",
    "\n",
    "    temp['base_stock'] = 0\n",
    "    temp['close_stock'] = 0\n",
    "    temp['order'] = 0\n",
    "    temp['receive'] = 0\n",
    "\n",
    "    # 시뮬레이션\n",
    "    for i in range(len(temp)-2):  # 발주량은 2일 후 판매 예측량에 기초하므로 계산을 위해 마지막 2개 행 제외\n",
    "        if i == 0:  #첫 행, 2일 전 데이터가 없으므로\n",
    "            temp.loc[i, 'receive'] = temp.loc[i, 'y']  # 입고량은 실판매량으로 계산\n",
    "            temp.loc[i, 'base_stock'] = temp.loc[i, 'receive'] + safe_stock  # 기초재고는 실판매량 + 안전재고로 계산\n",
    "\n",
    "        elif i == 1: # 2일 전 행, 2일 전 데이터가 없음\n",
    "            temp.loc[i, 'receive'] = temp.loc[i, 'y'] # 입고량은 실판매량으로 계산\n",
    "            temp.loc[i, 'base_stock'] = temp.loc[i,'receive'] + temp.loc[i-1, 'close_stock']\n",
    "        else:        # 나머지 전체 행\n",
    "            temp.loc[i, 'receive'] = temp.loc[i-2,'order']    # 입고량 = 2일 전 발주량\n",
    "            temp.loc[i, 'base_stock'] = temp.loc[i, 'receive']+temp.loc[i-1, 'close_stock']  # 기초재고 = 입고량 + 전날 기말재고\n",
    "\n",
    "        # 기말재고 = 기초재고 - 판매량, 만약 0보다 작으면 0으로\n",
    "        stock = round(temp.loc[i, 'base_stock'] - temp.loc[i, 'y'])\n",
    "        temp.loc[i, 'close_stock'] = np.where(stock > 0, stock, 0)\n",
    "\n",
    "        # 발주량 = 2일후 판매예측량 + 안전재고 - 기말재고,  만약 주문량이 0보다 작으면 0\n",
    "        order = temp.loc[i+2, 'pred'] + safe_stock - temp.loc[i, 'close_stock']\n",
    "        temp.loc[i, 'order'] = np.where(order>0, order, 0)\n",
    "\n",
    "    # 기회손실 = 만약 (기초재고 - 실판매량)이 0보다 작으면, 그만큼이 기회손실\n",
    "    temp['lost'] = np.where((temp['base_stock']-temp['y']) < 0, (temp['base_stock']-temp['y']), 0).round()\n",
    "\n",
    "    inventory = temp[:len(temp) - 2]\n",
    "\n",
    "    # 측정지표 계산\n",
    "    DailyStock = ((inventory['base_stock'] + inventory['close_stock']) / 2)\n",
    "\n",
    "    AvgDailyStock = round(DailyStock.mean(), 3)\n",
    "    AvgDailyStockAmt = AvgDailyStock * price * 0.5\n",
    "    lost_sum = inventory['lost'].sum()\n",
    "\n",
    "    print(f'* 일평균 재고량: {AvgDailyStock:.2f}')\n",
    "    print(f'* 일평균 재고금액: {AvgDailyStockAmt:.2f}')\n",
    "    print(f'* 기회손실 수량: {lost_sum}')\n",
    "\n",
    "    return inventory"
   ]
  },
  {
   "cell_type": "code",
   "execution_count": 87,
   "metadata": {},
   "outputs": [
    {
     "name": "stdout",
     "output_type": "stream",
     "text": [
      "* 일평균 재고량: 6240.38\n",
      "* 일평균 재고금액: 24961.50\n",
      "* 기회손실 수량: 0\n"
     ]
    },
    {
     "data": {
      "text/html": [
       "<div>\n",
       "<style scoped>\n",
       "    .dataframe tbody tr th:only-of-type {\n",
       "        vertical-align: middle;\n",
       "    }\n",
       "\n",
       "    .dataframe tbody tr th {\n",
       "        vertical-align: top;\n",
       "    }\n",
       "\n",
       "    .dataframe thead th {\n",
       "        text-align: right;\n",
       "    }\n",
       "</style>\n",
       "<table border=\"1\" class=\"dataframe\">\n",
       "  <thead>\n",
       "    <tr style=\"text-align: right;\">\n",
       "      <th></th>\n",
       "      <th>y</th>\n",
       "      <th>pred</th>\n",
       "      <th>base_stock</th>\n",
       "      <th>close_stock</th>\n",
       "      <th>order</th>\n",
       "      <th>receive</th>\n",
       "      <th>lost</th>\n",
       "    </tr>\n",
       "  </thead>\n",
       "  <tbody>\n",
       "    <tr>\n",
       "      <th>0</th>\n",
       "      <td>18808</td>\n",
       "      <td>19679</td>\n",
       "      <td>19276</td>\n",
       "      <td>468</td>\n",
       "      <td>7171</td>\n",
       "      <td>18808</td>\n",
       "      <td>0</td>\n",
       "    </tr>\n",
       "    <tr>\n",
       "      <th>1</th>\n",
       "      <td>9775</td>\n",
       "      <td>9487</td>\n",
       "      <td>10243</td>\n",
       "      <td>468</td>\n",
       "      <td>8941</td>\n",
       "      <td>9775</td>\n",
       "      <td>0</td>\n",
       "    </tr>\n",
       "    <tr>\n",
       "      <th>2</th>\n",
       "      <td>6195</td>\n",
       "      <td>7171</td>\n",
       "      <td>7639</td>\n",
       "      <td>1444</td>\n",
       "      <td>6415</td>\n",
       "      <td>7171</td>\n",
       "      <td>0</td>\n",
       "    </tr>\n",
       "    <tr>\n",
       "      <th>3</th>\n",
       "      <td>10385</td>\n",
       "      <td>8941</td>\n",
       "      <td>10385</td>\n",
       "      <td>0</td>\n",
       "      <td>11997</td>\n",
       "      <td>8941</td>\n",
       "      <td>0</td>\n",
       "    </tr>\n",
       "  </tbody>\n",
       "</table>\n",
       "</div>"
      ],
      "text/plain": [
       "       y   pred  base_stock  close_stock  order  receive  lost\n",
       "0  18808  19679       19276          468   7171    18808     0\n",
       "1   9775   9487       10243          468   8941     9775     0\n",
       "2   6195   7171        7639         1444   6415     7171     0\n",
       "3  10385   8941       10385            0  11997     8941     0"
      ]
     },
     "execution_count": 87,
     "metadata": {},
     "output_type": "execute_result"
    }
   ],
   "source": [
    "inv_simulator(y_val.values, pred, 468, 8)"
   ]
  },
  {
   "cell_type": "markdown",
   "metadata": {
    "id": "UCwmQcehv8Xn"
   },
   "source": [
    "## **(1) 상품: 3 - Beverage**\n",
    "\n",
    "- 3번 상품에 대해 모델 성능을 평가하고 기록합니다."
   ]
  },
  {
   "cell_type": "markdown",
   "metadata": {
    "id": "13zBHMxPF4hq"
   },
   "source": [
    "### **1) Random Forest 모델**\n",
    "\n",
    "- Random Forest 모델로 예측하고 평가합니다."
   ]
  },
  {
   "cell_type": "code",
   "execution_count": null,
   "metadata": {
    "id": "i0quvnswF4hq",
    "outputId": "2cdd8ffe-9a3d-41b0-c920-c43f571f7c7a",
    "tags": []
   },
   "outputs": [],
   "source": []
  },
  {
   "cell_type": "code",
   "execution_count": null,
   "metadata": {
    "id": "c4otvfQgF4hq",
    "outputId": "57b56cfb-3ddd-487d-d285-2f01bb423c26",
    "tags": []
   },
   "outputs": [],
   "source": [
    "# 비즈니스 평가\n"
   ]
  },
  {
   "cell_type": "markdown",
   "metadata": {
    "id": "lYTKSEUkF4hr"
   },
   "source": [
    "### **2) LightGBM 모델**\n",
    "\n",
    "- LightGBM 모델로 예측하고 평가합니다."
   ]
  },
  {
   "cell_type": "code",
   "execution_count": null,
   "metadata": {
    "colab": {
     "base_uri": "https://localhost:8080/"
    },
    "executionInfo": {
     "elapsed": 309,
     "status": "ok",
     "timestamp": 1712639440508,
     "user": {
      "displayName": "한기영",
      "userId": "13049187003176135487"
     },
     "user_tz": -540
    },
    "id": "Wj6-BtzNF4hr",
    "outputId": "e7a62384-5cb2-49a4-83b0-0be44c301763",
    "tags": []
   },
   "outputs": [],
   "source": []
  },
  {
   "cell_type": "code",
   "execution_count": null,
   "metadata": {
    "id": "vF8It3TeF4hr",
    "outputId": "eaaabe57-21e2-43b1-c075-ef35bbc16069",
    "tags": []
   },
   "outputs": [],
   "source": [
    "# 비즈니스 평가\n"
   ]
  },
  {
   "cell_type": "markdown",
   "metadata": {
    "id": "Er_ofmYI4Uzt"
   },
   "source": [
    "## **(2) 상품: 12 - Milk**\n",
    "\n",
    "- 12번 상품에 대해 모델 성능을 평가하고 기록합니다."
   ]
  },
  {
   "cell_type": "markdown",
   "metadata": {
    "id": "rlICVubFF4hr"
   },
   "source": [
    "### **1) Random Forest 모델**\n",
    "\n",
    "- Random Forest 모델로 예측하고 평가합니다."
   ]
  },
  {
   "cell_type": "code",
   "execution_count": null,
   "metadata": {
    "id": "hX2fnTWJF4hs",
    "outputId": "b1096c34-c559-4cc6-d604-d0cb2543a44a",
    "tags": []
   },
   "outputs": [],
   "source": []
  },
  {
   "cell_type": "code",
   "execution_count": null,
   "metadata": {
    "id": "QM447OIVF4hs",
    "outputId": "10922cf0-8202-4366-8f54-80f2647400a8",
    "tags": []
   },
   "outputs": [],
   "source": [
    "# 비즈니스 평가\n"
   ]
  },
  {
   "cell_type": "markdown",
   "metadata": {
    "id": "8g1KV87cF4hs"
   },
   "source": [
    "### **2) LightGBM 모델**\n",
    "\n",
    "- LightGBM 모델로 예측하고 평가합니다."
   ]
  },
  {
   "cell_type": "code",
   "execution_count": null,
   "metadata": {
    "colab": {
     "base_uri": "https://localhost:8080/"
    },
    "executionInfo": {
     "elapsed": 309,
     "status": "ok",
     "timestamp": 1712639440508,
     "user": {
      "displayName": "한기영",
      "userId": "13049187003176135487"
     },
     "user_tz": -540
    },
    "id": "NledEttKF4hs",
    "outputId": "e7a62384-5cb2-49a4-83b0-0be44c301763",
    "tags": []
   },
   "outputs": [],
   "source": []
  },
  {
   "cell_type": "code",
   "execution_count": null,
   "metadata": {
    "id": "bK_UO308F4ht",
    "outputId": "47fa2998-a525-4cf7-c99f-a4e68d803293",
    "tags": []
   },
   "outputs": [],
   "source": [
    "# 비즈니스 평가\n"
   ]
  },
  {
   "cell_type": "markdown",
   "metadata": {
    "id": "GKfAn6QO4VEo",
    "tags": []
   },
   "source": [
    "## **(3) 상품: 42 - Agricultural products**\n",
    "\n",
    "- 42번 상품에 대해 모델 성능을 평가하고 기록합니다."
   ]
  },
  {
   "cell_type": "markdown",
   "metadata": {
    "id": "BTFgDcBiF4ht"
   },
   "source": [
    "### **1) Random Forest 모델**\n",
    "\n",
    "- Random Forest 모델로 예측하고 평가합니다."
   ]
  },
  {
   "cell_type": "code",
   "execution_count": null,
   "metadata": {
    "id": "MpmCueLKF4ht",
    "outputId": "632f4fc5-9c63-4388-b079-211c69cda01d",
    "tags": []
   },
   "outputs": [],
   "source": []
  },
  {
   "cell_type": "code",
   "execution_count": null,
   "metadata": {
    "id": "WokhUzOiF4ht",
    "outputId": "8302bb38-4013-4307-dbaf-14e599c9cf1d",
    "tags": []
   },
   "outputs": [],
   "source": [
    "# 비즈니스 평가\n"
   ]
  },
  {
   "cell_type": "markdown",
   "metadata": {
    "id": "ebLhHqnNF4hu"
   },
   "source": [
    "### **2) LightGBM 모델**\n",
    "\n",
    "- LightGBM 모델로 예측하고 평가합니다."
   ]
  },
  {
   "cell_type": "code",
   "execution_count": null,
   "metadata": {
    "colab": {
     "base_uri": "https://localhost:8080/"
    },
    "executionInfo": {
     "elapsed": 309,
     "status": "ok",
     "timestamp": 1712639440508,
     "user": {
      "displayName": "한기영",
      "userId": "13049187003176135487"
     },
     "user_tz": -540
    },
    "id": "fa8qP2gPF4hu",
    "outputId": "e7a62384-5cb2-49a4-83b0-0be44c301763",
    "tags": []
   },
   "outputs": [],
   "source": []
  },
  {
   "cell_type": "code",
   "execution_count": null,
   "metadata": {
    "id": "x3PaMfNFF4hu",
    "outputId": "b008e2a3-f862-40f2-f350-7622e3cc43e3",
    "tags": []
   },
   "outputs": [],
   "source": [
    "# 비즈니스 평가\n"
   ]
  },
  {
   "cell_type": "code",
   "execution_count": null,
   "metadata": {},
   "outputs": [],
   "source": [
    "def models(select_model)\n",
    "if select_model == 'LinearRegression':\n",
    "        model = LinearRegression()\n",
    "        params = {}  # LinearRegression은 하이퍼파라미터가 없으므로 빈 딕셔너리로 설정\n",
    "    elif select_model == 'RandomForestRegressor':\n",
    "        model = RandomForestRegressor(random_state=42)\n",
    "        params = {\n",
    "            'n_estimators': [100, 300, 500],\n",
    "            'max_depth': [None, 10, 30],\n",
    "            'min_samples_split': [2, 5, 10]\n",
    "        }\n",
    "    elif select_model == 'LGBMRegressor':\n",
    "        model = LGBMRegressor(random_state=42)\n",
    "        params = {\n",
    "            'n_estimators': [100, 200, 300, 400],\n",
    "            'max_depth': [5, 10, 15, -1],\n",
    "            'learning_rate': [0.001, 0.01, 0.05, 0.1]\n",
    "            }\n",
    "    else:\n",
    "        raise ValueError(\"Unsupported model type. Please select from 'LinearRegression', 'RandomForestRegressor', or 'LGBMRegressor'.\")\n",
    "\n",
    "    grid_search = GridSearchCV(model, params, cv=5, n_jobs=2, verbose=2)\n",
    "    grid_search.fit(x_train, y_train)\n",
    "    best_model = grid_search.best_estimator_\n",
    "    pred = best_model.predict(x_val)\n",
    "\n",
    "    # 결과 시각화\n",
    "    y_train = pd.Series(y_train)\n",
    "    y_val = pd.Series(y_val)\n",
    "    y_val.index = range(len(y_train), len(y_train) + len(y_val))\n",
    "    y_pred = pd.Series(pred.reshape(-1,), index=y_val.index)\n",
    "\n",
    "    # 전체 시각화\n",
    "    plt.figure(figsize=(12, 5))\n",
    "    plt.subplot(2,1,1)\n",
    "    plt.plot(y_train, label='y_train', color='tab:blue')\n",
    "    plt.plot(y_val, label='y_val', color='tab:green')\n",
    "    plt.plot(y_pred, label='y_pred', color='tab:orange')\n",
    "    plt.legend()\n",
    "    plt.subplot(2,1,2)\n",
    "    plt.plot(y_val, label = 'y_val', color='tab:green')\n",
    "    plt.plot(y_pred, label = 'y_pred', color='tab:orange')\n",
    "    plt.legend()\n",
    "    plt.tight_layout()\n",
    "    plt.show()\n",
    "\n",
    "    print(\"Best_param\", grid_search.best_params_)\n",
    "    print(\"Best\", grid_search.best_score_)         \n",
    "    print('RMAE', mean_squared_error(y_val, y_pred, squared=False))\n",
    "    print('MAE', mean_absolute_error(y_val, y_pred))\n",
    "    print('MAPE', mean_absolute_percentage_error(y_val, y_pred))\n",
    "    print('R2', r2_score(y_val, y_pred))"
   ]
  }
 ],
 "metadata": {
  "accelerator": "GPU",
  "colab": {
   "provenance": [],
   "toc_visible": true
  },
  "gpuClass": "standard",
  "kernelspec": {
   "display_name": "Python 3 (ipykernel)",
   "language": "python",
   "name": "python3"
  },
  "language_info": {
   "codemirror_mode": {
    "name": "ipython",
    "version": 3
   },
   "file_extension": ".py",
   "mimetype": "text/x-python",
   "name": "python",
   "nbconvert_exporter": "python",
   "pygments_lexer": "ipython3",
   "version": "3.11.5"
  }
 },
 "nbformat": 4,
 "nbformat_minor": 4
}
