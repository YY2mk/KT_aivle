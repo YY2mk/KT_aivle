

















# 여기에 답안코드를 작성하세요.
!pip install scikit-learn


import sklearn as sk





# 여기에 답안코드를 작성하세요.
import pandas as pd





# 여기에 답안코드를 작성하세요.
df = pd.read_csv('churn_data.csv')








# 여기에 답안코드를 작성하세요.
df1 = df.drop('customerID', axis=1)








# 여기에 답안코드를 작성하세요.
df1['TotalCharges'].info()
df1['TotalCharges'] = df1['TotalCharges'].replace(' ', 0)
df1['TotalCharges'] = df1['TotalCharges'].astype(float)
df2 = df1.copy()








# 여기에 답안코드를 작성하세요.
print(df2['Churn'].value_counts())
df2['Churn'] = df2['Churn'].map({'Yes':1, 'No':0})
df3 = df2.copy()








# 여기에 답안코드를 작성하세요.
fill40 = df3.isna().mean()*100
index_o40 = fill40[fill40>=40].index
index_u40 = fill40[fill40<=40].index
df3.drop(columns=index_o40, inplace=True)
df3.dropna(subset=index_u40, inplace=True)
df4 = df3.copy()








# 여기에 답안코드를 작성하세요.
import matplotlib.pyplot as plt

df4['SeniorCitizen'].value_counts().plot(kind='bar')
plt.show()

df4.drop('SeniorCitizen', axis=1, inplace=True)








# 여기에 답안코드를 작성하세요.
import seaborn as sns
import matplotlib.pyplot as plt
import numpy as np

sns.histplot(df4['tenure'])
plt.show()

sns.kdeplot(x='tenure', hue='Churn', data=df4)
#plt.legend(labels=['X', 'O'])
plt.show()
print('O')

sns.countplot(x='MultipleLines', hue='Churn', data=df4)
#plt.legend(labels=['O', 'X'])
plt.show()
print('O')

corr_cols = ['tenure', 'MonthlyCharges', 'TotalCharges']
corr_matrix = df4[corr_cols].corr()
sns.heatmap(corr_matrix, annot=True)

max_tri = np.triu(corr_matrix, k=1)
max_val = np.max(max_tri)
print(round(max_val, 2))
plt.show()








# 여기에 답안코드를 작성하세요.
# object_cols  = ['gender', 'Partner', 'Dependents', 'PhoneService', 'MultipleLines', 'InternetService', 'OnlineSecurity', 'OnlineBackup', 
#                 'TechSupport', 'StreamingTV', 'StreamingMovies', 'Contract', 'PaperlessBilling', 'PaymentMethod']

object_cols = df4.select_dtypes('object').columns.values
df5 = pd.get_dummies(df4, columns=object_cols, drop_first=True, dtype=int)








# 여기에 답안코드를 작성하세요.
from sklearn.model_selection import train_test_split

target = 'Churn'
X = df5.drop(target, axis=1)
y = df5.loc[:, target]

X_train, X_valid, y_train, y_valid = train_test_split(X, y, test_size=.2, random_state=42)








# 여기에 답안코드를 작성하세요.
from sklearn.preprocessing import MinMaxScaler

scaler = MinMaxScaler()
X_train_s = scaler.fit_transform(X_train)
X_valid_s = scaler.transform(X_valid)








# 여기에 답안코드를 작성하세요.(LogisticRegression)
from sklearn.linear_model import LogisticRegression

model_lr = LogisticRegression()
model_lr.fit(X_train, y_train)
pred_lr = model_lr.predict(X_valid)


# 여기에 답안코드를 작성하세요.(KNN)
from sklearn.neighbors import KNeighborsClassifier

model_knn = KNeighborsClassifier()
model_knn.fit(X_train_s, y_train)
pred_knn = model_knn.predict(X_valid_s)


# 여기에 답안코드를 작성하세요.(Decision Tree)
from sklearn.tree import DecisionTreeClassifier

model_dt = DecisionTreeClassifier()
model_dt.fit(X_train, y_train)
pred_dt = model_dt.predict(X_valid)


# 여기에 답안코드를 작성하세요.(RandomForest)
from sklearn.ensemble import RandomForestClassifier

model_rf = RandomForestClassifier()
model_rf.fit(X_train, y_train)
pred_rf = model_rf.predict(X_valid)


# 여기에 답안코드를 작성하세요.(XgBoost)
from xgboost import XGBClassifier

model_xgb = XGBClassifier()
model_xgb.fit(X_train, y_train)
pred_xgb = model_xgb.predict(X_valid)


# 여기에 답안코드를 작성하세요.(lightgbm)
from lightgbm import LGBMClassifier

model_lgbm = LGBMClassifier()
model_lgbm.fit(X_train, y_train)
pred_lgbm = model_lgbm.predict(X_valid)





# 여기에 답안코드를 작성하세요.
from sklearn.metrics import *

con_matrix = confusion_matrix(pred_rf, y_valid)
print(con_matrix)

sns.heatmap(con_matrix, annot=True, fmt='.2f')
plt.show()

print(classification_report(pred_rf, y_valid))





!pip install tensorflow


import tensorflow as tf
from tensorflow.keras.models import Sequential, load_model
from tensorflow.keras.layers import Dense, Activation, Dropout, BatchNormalization
from tensorflow.keras.callbacks import EarlyStopping, ModelCheckpoint
from tensorflow.keras.utils import to_categorical
from keras.backend import clear_session

tf.random.set_seed(1)





# 여기에 답안코드를 작성하세요.
clear_session()
n = X_train.shape[1] # feature 갯수

model = Sequential([Dense(64, input_shape=(n, ), activation='relu'),
                    Dropout(0.2),
                    Dense(32, activation='relu'),
                    Dense(16, activation='relu'),
                    Dense(1, activation='sigmoid')
                   ])

model.summary()
model.compile(optimizer='adam', loss='binary_crossentropy', metrics=['accuracy'])

es = EarlyStopping(monitor='val_loss', patience=5)
mcp = ModelCheckpoint('best_model.keras', monitor='val_loss', verbose=1, save_best_only=True)

history = model.fit(X_train, y_train, epochs=30, validation_data=(X_valid, y_valid), batch_size=16, callbacks=[es, mcp]).history








# 여기에 답안코드를 작성하세요.
pred = model.predict(X_valid_s)
plt.plot(history['accuracy'], label='acc', marker='.')
plt.plot(history['val_accuracy'], label='val_macc', marker='.')
plt.xlabel('Epochs')
plt.ylabel('ACC')
plt.legend()
plt.grid()


pred = model.predict(X_valid)

pred = np.where(pred>=0.5, 1, 0)

print(accuracy_score(y_valid, pred))



