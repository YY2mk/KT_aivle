

















# 여기에 답안코드를 작성하세요.
!pip install scikit-learn

import sklearn as sk








# 여기에 답안코드를 작성하세요.
import pandas as pd








# 여기에 답안코드를 작성하세요.
df = pd.read_json('A0007IT.json', encoding='cp949')








# 여기에 답안코드를 작성하세요.
import matplotlib.pyplot as plt
import seaborn as sns
plt.rcParams['font.family'] = 'Malgun Gothic'

df = df.loc[df['Address1'] != '-']

sns.countplot(x='Address1', data=df)
plt.show()








# 여기에 답안코드를 작성하세요.
sns.jointplot(x='Time_Departure', y='Speed_Per_Hour', data=df)
plt.show()








# 여기에 답안코드를 작성하세요.
df_temp = df.loc[df['Speed_Per_Hour'] < 300]








# 여기에 답안코드를 작성하세요.
print(df_temp.isna().sum())
df_na = df_temp.dropna()








# 여기에 답안코드를 작성하세요.
drop_cols = ['Time_Departure', 'Time_Arrival']
df_del = df_na.drop(drop_cols, axis=1)








# 여기에 답안코드를 작성하세요.
dumm_cols = df_del.select_dtypes('object').columns
#df_del.select_dtypes('object').columns.values

df_preset = pd.get_dummies(df_del, columns=dumm_cols, drop_first=True, dtype=int)








# 여기에 답안코드를 작성하세요.
from sklearn.model_selection import train_test_split

target = 'Time_Driving'
x = df_preset.drop(target, axis=1)
y = df_preset.loc[:, target]

x_train, x_valid, y_train, y_valid = train_test_split(x, y, test_size=.2, random_state=42)








# 여기에 답안코드를 작성하세요.
from sklearn.tree import DecisionTreeRegressor

model = DecisionTreeRegressor(max_depth=5, min_samples_split=3, random_state=120)
model.fit(x_train, y_train)








# 여기에 답안코드를 작성하세요.
from sklearn.metrics import *

y_pred = model.predict(x_valid)
dt_mae = mean_absolute_error(y_valid, y_pred)








import tensorflow as tf
from tensorflow.keras.models import Sequential, load_model
from tensorflow.keras.layers import Dense, Activation, Dropout, BatchNormalization
from tensorflow.keras.callbacks import EarlyStopping, ModelCheckpoint
from tensorflow.keras.utils import to_categorical

tf.random.set_seed(1)








from sklearn.preprocessing import MinMaxScaler

scaler = MinMaxScaler()
x_train_s = scaler.fit_transform(x_train)
x_valid_s = scaler.transform(x_valid)


# 여기에 답안코드를 작성하세요.
from keras.backend import clear_session
clear_session()

n = x_train.shape[1]
model = Sequential([Dense(64, input_shape=(n,), activation='relu'),
                    Dense(64, activation='relu'),
                    Dense(128, activation='relu'),
                    Dense(128, activation='relu'),
                    Dropout(0.2),
                    Dense(256, activation='relu'),
                    Dense(256, activation='relu'),
                    Dense(1, activation='linear'),
                    #Dense(1),
                   ])
model.summary()

es = EarlyStopping(monitor='val_loss', patience=5)
mc = ModelCheckpoint('best_model.keras', monitor='val_loss', save_best_only=True)

model.compile(optimizer='adam', loss='mse', metrics=['mse'])
history = model.fit(x_train, y_train, epochs=30, batch_size=16, validation_data=(x_valid, y_valid), callbacks=[es, mc]).history








# 여기에 답안코드를 작성하세요.
plt.plot(history['mse'], label='mse')
plt.plot(history['val_mse'], label='val_mse')

plt.title('Model MSE')
plt.xlabel('Epochs')
plt.ylabel('MSE')
plt.legend()
plt.grid()
plt.show()


pred = model.predict(x_valid)


r2_score(y_valid, pred)



