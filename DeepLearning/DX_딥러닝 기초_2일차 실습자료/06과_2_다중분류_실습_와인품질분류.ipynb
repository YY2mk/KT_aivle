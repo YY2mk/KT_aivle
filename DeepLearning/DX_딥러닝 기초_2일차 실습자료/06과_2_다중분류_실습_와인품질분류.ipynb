{
  "nbformat": 4,
  "nbformat_minor": 0,
  "metadata": {
    "colab": {
      "provenance": [],
      "include_colab_link": true
    },
    "kernelspec": {
      "name": "python3",
      "display_name": "Python 3"
    }
  },
  "cells": [
    {
      "cell_type": "markdown",
      "metadata": {
        "id": "view-in-github",
        "colab_type": "text"
      },
      "source": [
        "<a href=\"https://colab.research.google.com/github/YY2mk/KT_aivle/blob/master/DeepLearning/DX_%EB%94%A5%EB%9F%AC%EB%8B%9D%20%EA%B8%B0%EC%B4%88_2%EC%9D%BC%EC%B0%A8%20%EC%8B%A4%EC%8A%B5%EC%9E%90%EB%A3%8C/06%EA%B3%BC_2_%EB%8B%A4%EC%A4%91%EB%B6%84%EB%A5%98_%EC%8B%A4%EC%8A%B5_%EC%99%80%EC%9D%B8%ED%92%88%EC%A7%88%EB%B6%84%EB%A5%98.ipynb\" target=\"_parent\"><img src=\"https://colab.research.google.com/assets/colab-badge.svg\" alt=\"Open In Colab\"/></a>"
      ]
    },
    {
      "cell_type": "markdown",
      "metadata": {
        "id": "cVB9pY-v8uv5"
      },
      "source": [
        "# 와인 품질 예측하기\n"
      ]
    },
    {
      "cell_type": "markdown",
      "source": [
        "![](https://labelyourdata.com/img/article-illustrations/ml_essential_tool.jpg)"
      ],
      "metadata": {
        "id": "jSuMsxAW6ddA"
      }
    },
    {
      "cell_type": "markdown",
      "metadata": {
        "id": "gIN5d51gtker"
      },
      "source": [
        "## 1.환경준비"
      ]
    },
    {
      "cell_type": "markdown",
      "source": [
        "### (1) 라이브러리 로딩"
      ],
      "metadata": {
        "id": "98K82DAxvX6I"
      }
    },
    {
      "cell_type": "code",
      "metadata": {
        "id": "GVvCef6A8uv6"
      },
      "source": [
        "import pandas as pd\n",
        "import numpy as np\n",
        "import matplotlib.pyplot as plt\n",
        "import seaborn as sns\n",
        "\n",
        "from sklearn.model_selection import train_test_split\n",
        "from sklearn.metrics import *\n",
        "from sklearn.preprocessing import MinMaxScaler\n",
        "\n",
        "from keras.models import Sequential\n",
        "from keras.layers import Dense\n",
        "from keras.backend import clear_session\n",
        "from keras.optimizers import Adam\n",
        "from keras.utils import to_categorical"
      ],
      "execution_count": 9,
      "outputs": []
    },
    {
      "cell_type": "markdown",
      "source": [
        "* 함수 만들기"
      ],
      "metadata": {
        "id": "_h70-6MP7wtO"
      }
    },
    {
      "cell_type": "code",
      "source": [
        "# 학습곡선 함수\n",
        "def dl_history_plot(history):\n",
        "    plt.figure(figsize=(10,6))\n",
        "    plt.plot(history['loss'], label='train_err', marker = '.')\n",
        "    plt.plot(history['val_loss'], label='val_err', marker = '.')\n",
        "\n",
        "    plt.ylabel('Loss')\n",
        "    plt.xlabel('Epoch')\n",
        "    plt.legend()\n",
        "    plt.grid()\n",
        "    plt.show()"
      ],
      "metadata": {
        "id": "JWswaopv7yBI"
      },
      "execution_count": 2,
      "outputs": []
    },
    {
      "cell_type": "markdown",
      "source": [
        "### (2) 데이터로딩"
      ],
      "metadata": {
        "id": "6wuqykgvviCc"
      }
    },
    {
      "cell_type": "code",
      "metadata": {
        "id": "Vqr7zY5r8uwC",
        "colab": {
          "base_uri": "https://localhost:8080/",
          "height": 206
        },
        "outputId": "7a7d64ba-029c-4b19-f7d9-ce042f9113cc"
      },
      "source": [
        "path = \"https://raw.githubusercontent.com/DA4BAM/dataset/master/winequality-white.csv\"\n",
        "data = pd.read_csv(path)\n",
        "data['quality'] = np.where(data['quality'] == 3, 4, np.where(data['quality'] == 9, 8, data['quality']))\n",
        "data['quality'] = data['quality'] - 4\n",
        "data.head()"
      ],
      "execution_count": 3,
      "outputs": [
        {
          "output_type": "execute_result",
          "data": {
            "text/plain": [
              "   fixed acidity  volatile acidity  citric acid  residual sugar  chlorides  \\\n",
              "0            7.0              0.27         0.36            20.7      0.045   \n",
              "1            6.3              0.30         0.34             1.6      0.049   \n",
              "2            8.1              0.28         0.40             6.9      0.050   \n",
              "3            7.2              0.23         0.32             8.5      0.058   \n",
              "4            7.2              0.23         0.32             8.5      0.058   \n",
              "\n",
              "   free sulfur dioxide  total sulfur dioxide  density    pH  sulphates  \\\n",
              "0                 45.0                 170.0   1.0010  3.00       0.45   \n",
              "1                 14.0                 132.0   0.9940  3.30       0.49   \n",
              "2                 30.0                  97.0   0.9951  3.26       0.44   \n",
              "3                 47.0                 186.0   0.9956  3.19       0.40   \n",
              "4                 47.0                 186.0   0.9956  3.19       0.40   \n",
              "\n",
              "   alcohol  quality  \n",
              "0      8.8        2  \n",
              "1      9.5        2  \n",
              "2     10.1        2  \n",
              "3      9.9        2  \n",
              "4      9.9        2  "
            ],
            "text/html": [
              "\n",
              "  <div id=\"df-da47cb55-e657-4d35-8e0b-7ddab47c7b01\" class=\"colab-df-container\">\n",
              "    <div>\n",
              "<style scoped>\n",
              "    .dataframe tbody tr th:only-of-type {\n",
              "        vertical-align: middle;\n",
              "    }\n",
              "\n",
              "    .dataframe tbody tr th {\n",
              "        vertical-align: top;\n",
              "    }\n",
              "\n",
              "    .dataframe thead th {\n",
              "        text-align: right;\n",
              "    }\n",
              "</style>\n",
              "<table border=\"1\" class=\"dataframe\">\n",
              "  <thead>\n",
              "    <tr style=\"text-align: right;\">\n",
              "      <th></th>\n",
              "      <th>fixed acidity</th>\n",
              "      <th>volatile acidity</th>\n",
              "      <th>citric acid</th>\n",
              "      <th>residual sugar</th>\n",
              "      <th>chlorides</th>\n",
              "      <th>free sulfur dioxide</th>\n",
              "      <th>total sulfur dioxide</th>\n",
              "      <th>density</th>\n",
              "      <th>pH</th>\n",
              "      <th>sulphates</th>\n",
              "      <th>alcohol</th>\n",
              "      <th>quality</th>\n",
              "    </tr>\n",
              "  </thead>\n",
              "  <tbody>\n",
              "    <tr>\n",
              "      <th>0</th>\n",
              "      <td>7.0</td>\n",
              "      <td>0.27</td>\n",
              "      <td>0.36</td>\n",
              "      <td>20.7</td>\n",
              "      <td>0.045</td>\n",
              "      <td>45.0</td>\n",
              "      <td>170.0</td>\n",
              "      <td>1.0010</td>\n",
              "      <td>3.00</td>\n",
              "      <td>0.45</td>\n",
              "      <td>8.8</td>\n",
              "      <td>2</td>\n",
              "    </tr>\n",
              "    <tr>\n",
              "      <th>1</th>\n",
              "      <td>6.3</td>\n",
              "      <td>0.30</td>\n",
              "      <td>0.34</td>\n",
              "      <td>1.6</td>\n",
              "      <td>0.049</td>\n",
              "      <td>14.0</td>\n",
              "      <td>132.0</td>\n",
              "      <td>0.9940</td>\n",
              "      <td>3.30</td>\n",
              "      <td>0.49</td>\n",
              "      <td>9.5</td>\n",
              "      <td>2</td>\n",
              "    </tr>\n",
              "    <tr>\n",
              "      <th>2</th>\n",
              "      <td>8.1</td>\n",
              "      <td>0.28</td>\n",
              "      <td>0.40</td>\n",
              "      <td>6.9</td>\n",
              "      <td>0.050</td>\n",
              "      <td>30.0</td>\n",
              "      <td>97.0</td>\n",
              "      <td>0.9951</td>\n",
              "      <td>3.26</td>\n",
              "      <td>0.44</td>\n",
              "      <td>10.1</td>\n",
              "      <td>2</td>\n",
              "    </tr>\n",
              "    <tr>\n",
              "      <th>3</th>\n",
              "      <td>7.2</td>\n",
              "      <td>0.23</td>\n",
              "      <td>0.32</td>\n",
              "      <td>8.5</td>\n",
              "      <td>0.058</td>\n",
              "      <td>47.0</td>\n",
              "      <td>186.0</td>\n",
              "      <td>0.9956</td>\n",
              "      <td>3.19</td>\n",
              "      <td>0.40</td>\n",
              "      <td>9.9</td>\n",
              "      <td>2</td>\n",
              "    </tr>\n",
              "    <tr>\n",
              "      <th>4</th>\n",
              "      <td>7.2</td>\n",
              "      <td>0.23</td>\n",
              "      <td>0.32</td>\n",
              "      <td>8.5</td>\n",
              "      <td>0.058</td>\n",
              "      <td>47.0</td>\n",
              "      <td>186.0</td>\n",
              "      <td>0.9956</td>\n",
              "      <td>3.19</td>\n",
              "      <td>0.40</td>\n",
              "      <td>9.9</td>\n",
              "      <td>2</td>\n",
              "    </tr>\n",
              "  </tbody>\n",
              "</table>\n",
              "</div>\n",
              "    <div class=\"colab-df-buttons\">\n",
              "\n",
              "  <div class=\"colab-df-container\">\n",
              "    <button class=\"colab-df-convert\" onclick=\"convertToInteractive('df-da47cb55-e657-4d35-8e0b-7ddab47c7b01')\"\n",
              "            title=\"Convert this dataframe to an interactive table.\"\n",
              "            style=\"display:none;\">\n",
              "\n",
              "  <svg xmlns=\"http://www.w3.org/2000/svg\" height=\"24px\" viewBox=\"0 -960 960 960\">\n",
              "    <path d=\"M120-120v-720h720v720H120Zm60-500h600v-160H180v160Zm220 220h160v-160H400v160Zm0 220h160v-160H400v160ZM180-400h160v-160H180v160Zm440 0h160v-160H620v160ZM180-180h160v-160H180v160Zm440 0h160v-160H620v160Z\"/>\n",
              "  </svg>\n",
              "    </button>\n",
              "\n",
              "  <style>\n",
              "    .colab-df-container {\n",
              "      display:flex;\n",
              "      gap: 12px;\n",
              "    }\n",
              "\n",
              "    .colab-df-convert {\n",
              "      background-color: #E8F0FE;\n",
              "      border: none;\n",
              "      border-radius: 50%;\n",
              "      cursor: pointer;\n",
              "      display: none;\n",
              "      fill: #1967D2;\n",
              "      height: 32px;\n",
              "      padding: 0 0 0 0;\n",
              "      width: 32px;\n",
              "    }\n",
              "\n",
              "    .colab-df-convert:hover {\n",
              "      background-color: #E2EBFA;\n",
              "      box-shadow: 0px 1px 2px rgba(60, 64, 67, 0.3), 0px 1px 3px 1px rgba(60, 64, 67, 0.15);\n",
              "      fill: #174EA6;\n",
              "    }\n",
              "\n",
              "    .colab-df-buttons div {\n",
              "      margin-bottom: 4px;\n",
              "    }\n",
              "\n",
              "    [theme=dark] .colab-df-convert {\n",
              "      background-color: #3B4455;\n",
              "      fill: #D2E3FC;\n",
              "    }\n",
              "\n",
              "    [theme=dark] .colab-df-convert:hover {\n",
              "      background-color: #434B5C;\n",
              "      box-shadow: 0px 1px 3px 1px rgba(0, 0, 0, 0.15);\n",
              "      filter: drop-shadow(0px 1px 2px rgba(0, 0, 0, 0.3));\n",
              "      fill: #FFFFFF;\n",
              "    }\n",
              "  </style>\n",
              "\n",
              "    <script>\n",
              "      const buttonEl =\n",
              "        document.querySelector('#df-da47cb55-e657-4d35-8e0b-7ddab47c7b01 button.colab-df-convert');\n",
              "      buttonEl.style.display =\n",
              "        google.colab.kernel.accessAllowed ? 'block' : 'none';\n",
              "\n",
              "      async function convertToInteractive(key) {\n",
              "        const element = document.querySelector('#df-da47cb55-e657-4d35-8e0b-7ddab47c7b01');\n",
              "        const dataTable =\n",
              "          await google.colab.kernel.invokeFunction('convertToInteractive',\n",
              "                                                    [key], {});\n",
              "        if (!dataTable) return;\n",
              "\n",
              "        const docLinkHtml = 'Like what you see? Visit the ' +\n",
              "          '<a target=\"_blank\" href=https://colab.research.google.com/notebooks/data_table.ipynb>data table notebook</a>'\n",
              "          + ' to learn more about interactive tables.';\n",
              "        element.innerHTML = '';\n",
              "        dataTable['output_type'] = 'display_data';\n",
              "        await google.colab.output.renderOutput(dataTable, element);\n",
              "        const docLink = document.createElement('div');\n",
              "        docLink.innerHTML = docLinkHtml;\n",
              "        element.appendChild(docLink);\n",
              "      }\n",
              "    </script>\n",
              "  </div>\n",
              "\n",
              "\n",
              "<div id=\"df-8b644427-0411-4113-a420-1c971083b246\">\n",
              "  <button class=\"colab-df-quickchart\" onclick=\"quickchart('df-8b644427-0411-4113-a420-1c971083b246')\"\n",
              "            title=\"Suggest charts\"\n",
              "            style=\"display:none;\">\n",
              "\n",
              "<svg xmlns=\"http://www.w3.org/2000/svg\" height=\"24px\"viewBox=\"0 0 24 24\"\n",
              "     width=\"24px\">\n",
              "    <g>\n",
              "        <path d=\"M19 3H5c-1.1 0-2 .9-2 2v14c0 1.1.9 2 2 2h14c1.1 0 2-.9 2-2V5c0-1.1-.9-2-2-2zM9 17H7v-7h2v7zm4 0h-2V7h2v10zm4 0h-2v-4h2v4z\"/>\n",
              "    </g>\n",
              "</svg>\n",
              "  </button>\n",
              "\n",
              "<style>\n",
              "  .colab-df-quickchart {\n",
              "      --bg-color: #E8F0FE;\n",
              "      --fill-color: #1967D2;\n",
              "      --hover-bg-color: #E2EBFA;\n",
              "      --hover-fill-color: #174EA6;\n",
              "      --disabled-fill-color: #AAA;\n",
              "      --disabled-bg-color: #DDD;\n",
              "  }\n",
              "\n",
              "  [theme=dark] .colab-df-quickchart {\n",
              "      --bg-color: #3B4455;\n",
              "      --fill-color: #D2E3FC;\n",
              "      --hover-bg-color: #434B5C;\n",
              "      --hover-fill-color: #FFFFFF;\n",
              "      --disabled-bg-color: #3B4455;\n",
              "      --disabled-fill-color: #666;\n",
              "  }\n",
              "\n",
              "  .colab-df-quickchart {\n",
              "    background-color: var(--bg-color);\n",
              "    border: none;\n",
              "    border-radius: 50%;\n",
              "    cursor: pointer;\n",
              "    display: none;\n",
              "    fill: var(--fill-color);\n",
              "    height: 32px;\n",
              "    padding: 0;\n",
              "    width: 32px;\n",
              "  }\n",
              "\n",
              "  .colab-df-quickchart:hover {\n",
              "    background-color: var(--hover-bg-color);\n",
              "    box-shadow: 0 1px 2px rgba(60, 64, 67, 0.3), 0 1px 3px 1px rgba(60, 64, 67, 0.15);\n",
              "    fill: var(--button-hover-fill-color);\n",
              "  }\n",
              "\n",
              "  .colab-df-quickchart-complete:disabled,\n",
              "  .colab-df-quickchart-complete:disabled:hover {\n",
              "    background-color: var(--disabled-bg-color);\n",
              "    fill: var(--disabled-fill-color);\n",
              "    box-shadow: none;\n",
              "  }\n",
              "\n",
              "  .colab-df-spinner {\n",
              "    border: 2px solid var(--fill-color);\n",
              "    border-color: transparent;\n",
              "    border-bottom-color: var(--fill-color);\n",
              "    animation:\n",
              "      spin 1s steps(1) infinite;\n",
              "  }\n",
              "\n",
              "  @keyframes spin {\n",
              "    0% {\n",
              "      border-color: transparent;\n",
              "      border-bottom-color: var(--fill-color);\n",
              "      border-left-color: var(--fill-color);\n",
              "    }\n",
              "    20% {\n",
              "      border-color: transparent;\n",
              "      border-left-color: var(--fill-color);\n",
              "      border-top-color: var(--fill-color);\n",
              "    }\n",
              "    30% {\n",
              "      border-color: transparent;\n",
              "      border-left-color: var(--fill-color);\n",
              "      border-top-color: var(--fill-color);\n",
              "      border-right-color: var(--fill-color);\n",
              "    }\n",
              "    40% {\n",
              "      border-color: transparent;\n",
              "      border-right-color: var(--fill-color);\n",
              "      border-top-color: var(--fill-color);\n",
              "    }\n",
              "    60% {\n",
              "      border-color: transparent;\n",
              "      border-right-color: var(--fill-color);\n",
              "    }\n",
              "    80% {\n",
              "      border-color: transparent;\n",
              "      border-right-color: var(--fill-color);\n",
              "      border-bottom-color: var(--fill-color);\n",
              "    }\n",
              "    90% {\n",
              "      border-color: transparent;\n",
              "      border-bottom-color: var(--fill-color);\n",
              "    }\n",
              "  }\n",
              "</style>\n",
              "\n",
              "  <script>\n",
              "    async function quickchart(key) {\n",
              "      const quickchartButtonEl =\n",
              "        document.querySelector('#' + key + ' button');\n",
              "      quickchartButtonEl.disabled = true;  // To prevent multiple clicks.\n",
              "      quickchartButtonEl.classList.add('colab-df-spinner');\n",
              "      try {\n",
              "        const charts = await google.colab.kernel.invokeFunction(\n",
              "            'suggestCharts', [key], {});\n",
              "      } catch (error) {\n",
              "        console.error('Error during call to suggestCharts:', error);\n",
              "      }\n",
              "      quickchartButtonEl.classList.remove('colab-df-spinner');\n",
              "      quickchartButtonEl.classList.add('colab-df-quickchart-complete');\n",
              "    }\n",
              "    (() => {\n",
              "      let quickchartButtonEl =\n",
              "        document.querySelector('#df-8b644427-0411-4113-a420-1c971083b246 button');\n",
              "      quickchartButtonEl.style.display =\n",
              "        google.colab.kernel.accessAllowed ? 'block' : 'none';\n",
              "    })();\n",
              "  </script>\n",
              "</div>\n",
              "\n",
              "    </div>\n",
              "  </div>\n"
            ],
            "application/vnd.google.colaboratory.intrinsic+json": {
              "type": "dataframe",
              "variable_name": "data",
              "summary": "{\n  \"name\": \"data\",\n  \"rows\": 4898,\n  \"fields\": [\n    {\n      \"column\": \"fixed acidity\",\n      \"properties\": {\n        \"dtype\": \"number\",\n        \"std\": 0.843868227687513,\n        \"min\": 3.8,\n        \"max\": 14.2,\n        \"num_unique_values\": 68,\n        \"samples\": [\n          10.3,\n          5.8,\n          6.2\n        ],\n        \"semantic_type\": \"\",\n        \"description\": \"\"\n      }\n    },\n    {\n      \"column\": \"volatile acidity\",\n      \"properties\": {\n        \"dtype\": \"number\",\n        \"std\": 0.10079454842486534,\n        \"min\": 0.08,\n        \"max\": 1.1,\n        \"num_unique_values\": 125,\n        \"samples\": [\n          0.14,\n          0.595,\n          0.13\n        ],\n        \"semantic_type\": \"\",\n        \"description\": \"\"\n      }\n    },\n    {\n      \"column\": \"citric acid\",\n      \"properties\": {\n        \"dtype\": \"number\",\n        \"std\": 0.12101980420298249,\n        \"min\": 0.0,\n        \"max\": 1.66,\n        \"num_unique_values\": 87,\n        \"samples\": [\n          0.64,\n          0.36,\n          0.24\n        ],\n        \"semantic_type\": \"\",\n        \"description\": \"\"\n      }\n    },\n    {\n      \"column\": \"residual sugar\",\n      \"properties\": {\n        \"dtype\": \"number\",\n        \"std\": 5.072057784014881,\n        \"min\": 0.6,\n        \"max\": 65.8,\n        \"num_unique_values\": 310,\n        \"samples\": [\n          15.5,\n          19.25,\n          3.3\n        ],\n        \"semantic_type\": \"\",\n        \"description\": \"\"\n      }\n    },\n    {\n      \"column\": \"chlorides\",\n      \"properties\": {\n        \"dtype\": \"number\",\n        \"std\": 0.021847968093728798,\n        \"min\": 0.009,\n        \"max\": 0.346,\n        \"num_unique_values\": 160,\n        \"samples\": [\n          0.167,\n          0.133,\n          0.015\n        ],\n        \"semantic_type\": \"\",\n        \"description\": \"\"\n      }\n    },\n    {\n      \"column\": \"free sulfur dioxide\",\n      \"properties\": {\n        \"dtype\": \"number\",\n        \"std\": 17.00713732523259,\n        \"min\": 2.0,\n        \"max\": 289.0,\n        \"num_unique_values\": 132,\n        \"samples\": [\n          24.0,\n          122.5,\n          7.0\n        ],\n        \"semantic_type\": \"\",\n        \"description\": \"\"\n      }\n    },\n    {\n      \"column\": \"total sulfur dioxide\",\n      \"properties\": {\n        \"dtype\": \"number\",\n        \"std\": 42.49806455414291,\n        \"min\": 9.0,\n        \"max\": 440.0,\n        \"num_unique_values\": 251,\n        \"samples\": [\n          260.0,\n          63.0,\n          70.0\n        ],\n        \"semantic_type\": \"\",\n        \"description\": \"\"\n      }\n    },\n    {\n      \"column\": \"density\",\n      \"properties\": {\n        \"dtype\": \"number\",\n        \"std\": 0.0029909069169369337,\n        \"min\": 0.98711,\n        \"max\": 1.03898,\n        \"num_unique_values\": 890,\n        \"samples\": [\n          0.99362,\n          0.99388,\n          0.9929\n        ],\n        \"semantic_type\": \"\",\n        \"description\": \"\"\n      }\n    },\n    {\n      \"column\": \"pH\",\n      \"properties\": {\n        \"dtype\": \"number\",\n        \"std\": 0.1510005996150668,\n        \"min\": 2.72,\n        \"max\": 3.82,\n        \"num_unique_values\": 103,\n        \"samples\": [\n          3.34,\n          3.41,\n          3.49\n        ],\n        \"semantic_type\": \"\",\n        \"description\": \"\"\n      }\n    },\n    {\n      \"column\": \"sulphates\",\n      \"properties\": {\n        \"dtype\": \"number\",\n        \"std\": 0.1141258339488323,\n        \"min\": 0.22,\n        \"max\": 1.08,\n        \"num_unique_values\": 79,\n        \"samples\": [\n          0.41,\n          0.45,\n          0.46\n        ],\n        \"semantic_type\": \"\",\n        \"description\": \"\"\n      }\n    },\n    {\n      \"column\": \"alcohol\",\n      \"properties\": {\n        \"dtype\": \"number\",\n        \"std\": 1.2306205677522684,\n        \"min\": 8.0,\n        \"max\": 14.2,\n        \"num_unique_values\": 103,\n        \"samples\": [\n          12.6,\n          11.36666667,\n          10.03333333\n        ],\n        \"semantic_type\": \"\",\n        \"description\": \"\"\n      }\n    },\n    {\n      \"column\": \"quality\",\n      \"properties\": {\n        \"dtype\": \"number\",\n        \"std\": 0,\n        \"min\": 0,\n        \"max\": 4,\n        \"num_unique_values\": 5,\n        \"samples\": [\n          1,\n          0,\n          3\n        ],\n        \"semantic_type\": \"\",\n        \"description\": \"\"\n      }\n    }\n  ]\n}"
            }
          },
          "metadata": {},
          "execution_count": 3
        }
      ]
    },
    {
      "cell_type": "markdown",
      "source": [
        "* 범주가 5개 입니다.\n",
        "    * 0 - 최하  ~  4 - 최상"
      ],
      "metadata": {
        "id": "6kP9Cqk-6pRH"
      }
    },
    {
      "cell_type": "code",
      "source": [
        "data['quality'].value_counts()"
      ],
      "metadata": {
        "id": "rkCKrog-6pRI",
        "colab": {
          "base_uri": "https://localhost:8080/",
          "height": 0
        },
        "outputId": "98dbe47e-e588-4e86-cf65-514d00ac4561"
      },
      "execution_count": 4,
      "outputs": [
        {
          "output_type": "execute_result",
          "data": {
            "text/plain": [
              "quality\n",
              "2    2198\n",
              "1    1457\n",
              "3     880\n",
              "0     183\n",
              "4     180\n",
              "Name: count, dtype: int64"
            ]
          },
          "metadata": {},
          "execution_count": 4
        }
      ]
    },
    {
      "cell_type": "markdown",
      "source": [
        "## 2.데이터 준비"
      ],
      "metadata": {
        "id": "_vRHWCJJooH1"
      }
    },
    {
      "cell_type": "markdown",
      "source": [
        "### (1) 데이터 준비\n",
        "* y에 대한 전처리 : 위에서 이미 0 ~ 4로 범주를 맞췄습니다.\n",
        "* x, y 나누기"
      ],
      "metadata": {
        "id": "hvz3h_XU6vFC"
      }
    },
    {
      "cell_type": "code",
      "source": [
        "target = 'quality'\n",
        "x = data.drop(target, axis = 1)\n",
        "y = data.loc[:, target]"
      ],
      "metadata": {
        "id": "_sflxFt46_ft"
      },
      "execution_count": 5,
      "outputs": []
    },
    {
      "cell_type": "markdown",
      "source": [
        "### (2) 데이터 분할"
      ],
      "metadata": {
        "id": "sszX5zZ36vFD"
      }
    },
    {
      "cell_type": "code",
      "source": [
        "x_train, x_val, y_train, y_val = train_test_split(x, y, test_size= .2, random_state = 2024)"
      ],
      "metadata": {
        "id": "3lYYSI_p6vFD"
      },
      "execution_count": 6,
      "outputs": []
    },
    {
      "cell_type": "markdown",
      "source": [
        "### (3) 스케일링"
      ],
      "metadata": {
        "id": "D_V3Xw996vFE"
      }
    },
    {
      "cell_type": "code",
      "source": [
        "scaler = MinMaxScaler()\n",
        "x_train = scaler.fit_transform(x_train)\n",
        "x_val = scaler.transform(x_val)"
      ],
      "metadata": {
        "id": "kcCNLDZn6vFE"
      },
      "execution_count": 7,
      "outputs": []
    },
    {
      "cell_type": "markdown",
      "source": [
        "## 3.모델링\n",
        "\n",
        "최소 3개 이상의 모델을 생성하고 성능을 비교하시오."
      ],
      "metadata": {
        "id": "E1kIkHe2cBcY"
      }
    },
    {
      "cell_type": "code",
      "source": [
        "n = x_train.shape[1] #num of columns\n",
        "n"
      ],
      "metadata": {
        "id": "BKaC50_f7cPG",
        "colab": {
          "base_uri": "https://localhost:8080/",
          "height": 0
        },
        "outputId": "ec55f478-1072-406f-cb7a-982c24867fed"
      },
      "execution_count": 8,
      "outputs": [
        {
          "output_type": "execute_result",
          "data": {
            "text/plain": [
              "11"
            ]
          },
          "metadata": {},
          "execution_count": 8
        }
      ]
    },
    {
      "cell_type": "markdown",
      "source": [
        "### (1) 모델1"
      ],
      "metadata": {
        "id": "xMGgnz9TvDSr"
      }
    },
    {
      "cell_type": "code",
      "source": [
        "clear_session()\n",
        "model1 = Sequential(Dense(5, input_shape=(n,) ,activation='softmax'))\n",
        "model1.summary()"
      ],
      "metadata": {
        "id": "siwyHvr1rmAM",
        "colab": {
          "base_uri": "https://localhost:8080/",
          "height": 0
        },
        "outputId": "f1c98dd8-e227-4fd0-b2a9-6eb5e5372896"
      },
      "execution_count": 27,
      "outputs": [
        {
          "output_type": "stream",
          "name": "stdout",
          "text": [
            "Model: \"sequential\"\n",
            "_________________________________________________________________\n",
            " Layer (type)                Output Shape              Param #   \n",
            "=================================================================\n",
            " dense (Dense)               (None, 5)                 60        \n",
            "                                                                 \n",
            "=================================================================\n",
            "Total params: 60 (240.00 Byte)\n",
            "Trainable params: 60 (240.00 Byte)\n",
            "Non-trainable params: 0 (0.00 Byte)\n",
            "_________________________________________________________________\n"
          ]
        }
      ]
    },
    {
      "cell_type": "code",
      "source": [
        "model1.compile(optimizer=Adam(0.01), loss='sparse_categorical_crossentropy')\n",
        "hist = model1.fit(x_train, y_train, epochs=100, validation_split=.2).history"
      ],
      "metadata": {
        "id": "W6pxiHqt9lOr",
        "colab": {
          "base_uri": "https://localhost:8080/",
          "height": 0
        },
        "outputId": "c1f374e9-510e-43b6-cd46-283f55b1ff7c"
      },
      "execution_count": 28,
      "outputs": [
        {
          "output_type": "stream",
          "name": "stdout",
          "text": [
            "Epoch 1/100\n",
            "98/98 [==============================] - 1s 5ms/step - loss: 1.3017 - val_loss: 1.2528\n",
            "Epoch 2/100\n",
            "98/98 [==============================] - 0s 3ms/step - loss: 1.2065 - val_loss: 1.2241\n",
            "Epoch 3/100\n",
            "98/98 [==============================] - 0s 3ms/step - loss: 1.1789 - val_loss: 1.2042\n",
            "Epoch 4/100\n",
            "98/98 [==============================] - 0s 3ms/step - loss: 1.1614 - val_loss: 1.1950\n",
            "Epoch 5/100\n",
            "98/98 [==============================] - 0s 4ms/step - loss: 1.1484 - val_loss: 1.1863\n",
            "Epoch 6/100\n",
            "98/98 [==============================] - 0s 4ms/step - loss: 1.1375 - val_loss: 1.1843\n",
            "Epoch 7/100\n",
            "98/98 [==============================] - 0s 3ms/step - loss: 1.1294 - val_loss: 1.1722\n",
            "Epoch 8/100\n",
            "98/98 [==============================] - 0s 2ms/step - loss: 1.1241 - val_loss: 1.1667\n",
            "Epoch 9/100\n",
            "98/98 [==============================] - 0s 2ms/step - loss: 1.1172 - val_loss: 1.1626\n",
            "Epoch 10/100\n",
            "98/98 [==============================] - 0s 3ms/step - loss: 1.1124 - val_loss: 1.1662\n",
            "Epoch 11/100\n",
            "98/98 [==============================] - 0s 2ms/step - loss: 1.1092 - val_loss: 1.1737\n",
            "Epoch 12/100\n",
            "98/98 [==============================] - 0s 3ms/step - loss: 1.1060 - val_loss: 1.1562\n",
            "Epoch 13/100\n",
            "98/98 [==============================] - 0s 3ms/step - loss: 1.1020 - val_loss: 1.1542\n",
            "Epoch 14/100\n",
            "98/98 [==============================] - 0s 3ms/step - loss: 1.0982 - val_loss: 1.1485\n",
            "Epoch 15/100\n",
            "98/98 [==============================] - 0s 3ms/step - loss: 1.0969 - val_loss: 1.1489\n",
            "Epoch 16/100\n",
            "98/98 [==============================] - 0s 3ms/step - loss: 1.0936 - val_loss: 1.1474\n",
            "Epoch 17/100\n",
            "98/98 [==============================] - 0s 3ms/step - loss: 1.0926 - val_loss: 1.1525\n",
            "Epoch 18/100\n",
            "98/98 [==============================] - 0s 3ms/step - loss: 1.0914 - val_loss: 1.1437\n",
            "Epoch 19/100\n",
            "98/98 [==============================] - 0s 2ms/step - loss: 1.0889 - val_loss: 1.1454\n",
            "Epoch 20/100\n",
            "98/98 [==============================] - 0s 2ms/step - loss: 1.0895 - val_loss: 1.1432\n",
            "Epoch 21/100\n",
            "98/98 [==============================] - 0s 3ms/step - loss: 1.0859 - val_loss: 1.1411\n",
            "Epoch 22/100\n",
            "98/98 [==============================] - 0s 2ms/step - loss: 1.0861 - val_loss: 1.1421\n",
            "Epoch 23/100\n",
            "98/98 [==============================] - 0s 3ms/step - loss: 1.0854 - val_loss: 1.1413\n",
            "Epoch 24/100\n",
            "98/98 [==============================] - 0s 3ms/step - loss: 1.0828 - val_loss: 1.1382\n",
            "Epoch 25/100\n",
            "98/98 [==============================] - 0s 3ms/step - loss: 1.0825 - val_loss: 1.1402\n",
            "Epoch 26/100\n",
            "98/98 [==============================] - 0s 3ms/step - loss: 1.0815 - val_loss: 1.1405\n",
            "Epoch 27/100\n",
            "98/98 [==============================] - 0s 3ms/step - loss: 1.0821 - val_loss: 1.1351\n",
            "Epoch 28/100\n",
            "98/98 [==============================] - 0s 3ms/step - loss: 1.0789 - val_loss: 1.1468\n",
            "Epoch 29/100\n",
            "98/98 [==============================] - 0s 2ms/step - loss: 1.0778 - val_loss: 1.1337\n",
            "Epoch 30/100\n",
            "98/98 [==============================] - 0s 3ms/step - loss: 1.0779 - val_loss: 1.1486\n",
            "Epoch 31/100\n",
            "98/98 [==============================] - 0s 3ms/step - loss: 1.0788 - val_loss: 1.1403\n",
            "Epoch 32/100\n",
            "98/98 [==============================] - 0s 3ms/step - loss: 1.0786 - val_loss: 1.1353\n",
            "Epoch 33/100\n",
            "98/98 [==============================] - 0s 3ms/step - loss: 1.0774 - val_loss: 1.1351\n",
            "Epoch 34/100\n",
            "98/98 [==============================] - 0s 3ms/step - loss: 1.0762 - val_loss: 1.1323\n",
            "Epoch 35/100\n",
            "98/98 [==============================] - 0s 2ms/step - loss: 1.0756 - val_loss: 1.1349\n",
            "Epoch 36/100\n",
            "98/98 [==============================] - 0s 3ms/step - loss: 1.0762 - val_loss: 1.1351\n",
            "Epoch 37/100\n",
            "98/98 [==============================] - 0s 3ms/step - loss: 1.0762 - val_loss: 1.1341\n",
            "Epoch 38/100\n",
            "98/98 [==============================] - 0s 2ms/step - loss: 1.0747 - val_loss: 1.1319\n",
            "Epoch 39/100\n",
            "98/98 [==============================] - 0s 2ms/step - loss: 1.0730 - val_loss: 1.1348\n",
            "Epoch 40/100\n",
            "98/98 [==============================] - 0s 3ms/step - loss: 1.0762 - val_loss: 1.1388\n",
            "Epoch 41/100\n",
            "98/98 [==============================] - 0s 3ms/step - loss: 1.0753 - val_loss: 1.1361\n",
            "Epoch 42/100\n",
            "98/98 [==============================] - 0s 2ms/step - loss: 1.0728 - val_loss: 1.1374\n",
            "Epoch 43/100\n",
            "98/98 [==============================] - 0s 3ms/step - loss: 1.0740 - val_loss: 1.1371\n",
            "Epoch 44/100\n",
            "98/98 [==============================] - 0s 3ms/step - loss: 1.0733 - val_loss: 1.1394\n",
            "Epoch 45/100\n",
            "98/98 [==============================] - 0s 3ms/step - loss: 1.0728 - val_loss: 1.1328\n",
            "Epoch 46/100\n",
            "98/98 [==============================] - 0s 4ms/step - loss: 1.0726 - val_loss: 1.1312\n",
            "Epoch 47/100\n",
            "98/98 [==============================] - 0s 4ms/step - loss: 1.0735 - val_loss: 1.1360\n",
            "Epoch 48/100\n",
            "98/98 [==============================] - 0s 4ms/step - loss: 1.0719 - val_loss: 1.1302\n",
            "Epoch 49/100\n",
            "98/98 [==============================] - 0s 3ms/step - loss: 1.0717 - val_loss: 1.1363\n",
            "Epoch 50/100\n",
            "98/98 [==============================] - 0s 4ms/step - loss: 1.0711 - val_loss: 1.1345\n",
            "Epoch 51/100\n",
            "98/98 [==============================] - 0s 3ms/step - loss: 1.0719 - val_loss: 1.1349\n",
            "Epoch 52/100\n",
            "98/98 [==============================] - 0s 4ms/step - loss: 1.0709 - val_loss: 1.1316\n",
            "Epoch 53/100\n",
            "98/98 [==============================] - 0s 3ms/step - loss: 1.0726 - val_loss: 1.1330\n",
            "Epoch 54/100\n",
            "98/98 [==============================] - 0s 3ms/step - loss: 1.0723 - val_loss: 1.1307\n",
            "Epoch 55/100\n",
            "98/98 [==============================] - 0s 2ms/step - loss: 1.0726 - val_loss: 1.1371\n",
            "Epoch 56/100\n",
            "98/98 [==============================] - 0s 2ms/step - loss: 1.0715 - val_loss: 1.1365\n",
            "Epoch 57/100\n",
            "98/98 [==============================] - 0s 3ms/step - loss: 1.0716 - val_loss: 1.1327\n",
            "Epoch 58/100\n",
            "98/98 [==============================] - 0s 3ms/step - loss: 1.0719 - val_loss: 1.1339\n",
            "Epoch 59/100\n",
            "98/98 [==============================] - 0s 3ms/step - loss: 1.0707 - val_loss: 1.1304\n",
            "Epoch 60/100\n",
            "98/98 [==============================] - 0s 3ms/step - loss: 1.0709 - val_loss: 1.1312\n",
            "Epoch 61/100\n",
            "98/98 [==============================] - 0s 3ms/step - loss: 1.0717 - val_loss: 1.1303\n",
            "Epoch 62/100\n",
            "98/98 [==============================] - 0s 2ms/step - loss: 1.0699 - val_loss: 1.1298\n",
            "Epoch 63/100\n",
            "98/98 [==============================] - 0s 3ms/step - loss: 1.0698 - val_loss: 1.1317\n",
            "Epoch 64/100\n",
            "98/98 [==============================] - 0s 3ms/step - loss: 1.0701 - val_loss: 1.1296\n",
            "Epoch 65/100\n",
            "98/98 [==============================] - 0s 3ms/step - loss: 1.0706 - val_loss: 1.1299\n",
            "Epoch 66/100\n",
            "98/98 [==============================] - 0s 2ms/step - loss: 1.0694 - val_loss: 1.1301\n",
            "Epoch 67/100\n",
            "98/98 [==============================] - 0s 2ms/step - loss: 1.0695 - val_loss: 1.1322\n",
            "Epoch 68/100\n",
            "98/98 [==============================] - 0s 2ms/step - loss: 1.0688 - val_loss: 1.1337\n",
            "Epoch 69/100\n",
            "98/98 [==============================] - 0s 2ms/step - loss: 1.0699 - val_loss: 1.1342\n",
            "Epoch 70/100\n",
            "98/98 [==============================] - 0s 3ms/step - loss: 1.0696 - val_loss: 1.1359\n",
            "Epoch 71/100\n",
            "98/98 [==============================] - 0s 3ms/step - loss: 1.0685 - val_loss: 1.1315\n",
            "Epoch 72/100\n",
            "98/98 [==============================] - 0s 3ms/step - loss: 1.0696 - val_loss: 1.1309\n",
            "Epoch 73/100\n",
            "98/98 [==============================] - 0s 3ms/step - loss: 1.0691 - val_loss: 1.1291\n",
            "Epoch 74/100\n",
            "98/98 [==============================] - 0s 3ms/step - loss: 1.0693 - val_loss: 1.1332\n",
            "Epoch 75/100\n",
            "98/98 [==============================] - 0s 3ms/step - loss: 1.0679 - val_loss: 1.1280\n",
            "Epoch 76/100\n",
            "98/98 [==============================] - 0s 3ms/step - loss: 1.0695 - val_loss: 1.1308\n",
            "Epoch 77/100\n",
            "98/98 [==============================] - 0s 3ms/step - loss: 1.0697 - val_loss: 1.1355\n",
            "Epoch 78/100\n",
            "98/98 [==============================] - 0s 2ms/step - loss: 1.0700 - val_loss: 1.1320\n",
            "Epoch 79/100\n",
            "98/98 [==============================] - 0s 4ms/step - loss: 1.0685 - val_loss: 1.1362\n",
            "Epoch 80/100\n",
            "98/98 [==============================] - 0s 3ms/step - loss: 1.0684 - val_loss: 1.1289\n",
            "Epoch 81/100\n",
            "98/98 [==============================] - 0s 2ms/step - loss: 1.0690 - val_loss: 1.1348\n",
            "Epoch 82/100\n",
            "98/98 [==============================] - 0s 2ms/step - loss: 1.0683 - val_loss: 1.1297\n",
            "Epoch 83/100\n",
            "98/98 [==============================] - 0s 2ms/step - loss: 1.0696 - val_loss: 1.1307\n",
            "Epoch 84/100\n",
            "98/98 [==============================] - 0s 2ms/step - loss: 1.0698 - val_loss: 1.1309\n",
            "Epoch 85/100\n",
            "98/98 [==============================] - 0s 2ms/step - loss: 1.0686 - val_loss: 1.1353\n",
            "Epoch 86/100\n",
            "98/98 [==============================] - 0s 2ms/step - loss: 1.0683 - val_loss: 1.1285\n",
            "Epoch 87/100\n",
            "98/98 [==============================] - 0s 3ms/step - loss: 1.0704 - val_loss: 1.1355\n",
            "Epoch 88/100\n",
            "98/98 [==============================] - 0s 2ms/step - loss: 1.0697 - val_loss: 1.1335\n",
            "Epoch 89/100\n",
            "98/98 [==============================] - 0s 3ms/step - loss: 1.0691 - val_loss: 1.1308\n",
            "Epoch 90/100\n",
            "98/98 [==============================] - 0s 2ms/step - loss: 1.0686 - val_loss: 1.1322\n",
            "Epoch 91/100\n",
            "98/98 [==============================] - 0s 3ms/step - loss: 1.0688 - val_loss: 1.1322\n",
            "Epoch 92/100\n",
            "98/98 [==============================] - 0s 4ms/step - loss: 1.0678 - val_loss: 1.1374\n",
            "Epoch 93/100\n",
            "98/98 [==============================] - 0s 3ms/step - loss: 1.0684 - val_loss: 1.1318\n",
            "Epoch 94/100\n",
            "98/98 [==============================] - 0s 3ms/step - loss: 1.0692 - val_loss: 1.1342\n",
            "Epoch 95/100\n",
            "98/98 [==============================] - 0s 3ms/step - loss: 1.0671 - val_loss: 1.1329\n",
            "Epoch 96/100\n",
            "98/98 [==============================] - 0s 3ms/step - loss: 1.0687 - val_loss: 1.1288\n",
            "Epoch 97/100\n",
            "98/98 [==============================] - 0s 4ms/step - loss: 1.0688 - val_loss: 1.1297\n",
            "Epoch 98/100\n",
            "98/98 [==============================] - 0s 4ms/step - loss: 1.0674 - val_loss: 1.1352\n",
            "Epoch 99/100\n",
            "98/98 [==============================] - 0s 5ms/step - loss: 1.0680 - val_loss: 1.1328\n",
            "Epoch 100/100\n",
            "98/98 [==============================] - 0s 3ms/step - loss: 1.0684 - val_loss: 1.1389\n"
          ]
        }
      ]
    },
    {
      "cell_type": "code",
      "source": [
        "dl_history_plot(hist)"
      ],
      "metadata": {
        "id": "4rF5pdS_9lLl",
        "colab": {
          "base_uri": "https://localhost:8080/",
          "height": 542
        },
        "outputId": "ac7c79a5-cb37-4f0f-952e-fe1967068e73"
      },
      "execution_count": 29,
      "outputs": [
        {
          "output_type": "display_data",
          "data": {
            "text/plain": [
              "<Figure size 1000x600 with 1 Axes>"
            ],
            "image/png": "[encoded data removed]"
          },
          "metadata": {}
        }
      ]
    },
    {
      "cell_type": "code",
      "source": [
        "pred = model1.predict(x_val)\n",
        "pred = np.argmax(pred, axis=1)"
      ],
      "metadata": {
        "colab": {
          "base_uri": "https://localhost:8080/",
          "height": 0
        },
        "id": "8CH7R6_QNjIN",
        "outputId": "cd7e22d2-4f0e-4412-98f9-9c31b3b91777"
      },
      "execution_count": 26,
      "outputs": [
        {
          "output_type": "stream",
          "name": "stdout",
          "text": [
            "31/31 [==============================] - 0s 2ms/step\n"
          ]
        }
      ]
    },
    {
      "cell_type": "code",
      "source": [
        "print(confusion_matrix(y_val, pred))\n",
        "print(classification_report(y_val, pred))"
      ],
      "metadata": {
        "id": "P6K51cuf9lIs",
        "colab": {
          "base_uri": "https://localhost:8080/",
          "height": 0
        },
        "outputId": "44ce364a-7da8-4e7e-d93c-a9c8b1f728ad"
      },
      "execution_count": 30,
      "outputs": [
        {
          "output_type": "stream",
          "name": "stdout",
          "text": [
            "[[  2  20  11   0   0]\n",
            " [  1 164 126   8   0]\n",
            " [  2  90 297  46   0]\n",
            " [  0   0 121  55   1]\n",
            " [  0   0  16  20   0]]\n",
            "              precision    recall  f1-score   support\n",
            "\n",
            "           0       0.40      0.06      0.11        33\n",
            "           1       0.60      0.55      0.57       299\n",
            "           2       0.52      0.68      0.59       435\n",
            "           3       0.43      0.31      0.36       177\n",
            "           4       0.00      0.00      0.00        36\n",
            "\n",
            "    accuracy                           0.53       980\n",
            "   macro avg       0.39      0.32      0.33       980\n",
            "weighted avg       0.50      0.53      0.51       980\n",
            "\n"
          ]
        }
      ]
    },
    {
      "cell_type": "code",
      "source": [],
      "metadata": {
        "id": "iEZWr_jNwCpr"
      },
      "execution_count": null,
      "outputs": []
    },
    {
      "cell_type": "markdown",
      "source": [
        "### (2) 모델2"
      ],
      "metadata": {
        "id": "6vx5D3lewBR8"
      }
    },
    {
      "cell_type": "code",
      "source": [
        "clear_session()\n",
        "model2 = Sequential([Dense(16, input_shape=(n,) ,activation='relu'),\n",
        "                     Dense(5, activation='relu'),\n",
        "                     Dense(5, activation='softmax')])\n",
        "model2.summary()"
      ],
      "metadata": {
        "id": "gTU-pOtR9pBH",
        "colab": {
          "base_uri": "https://localhost:8080/",
          "height": 0
        },
        "outputId": "5ad7a40c-95b5-41b8-b7c0-111200fd8b0a"
      },
      "execution_count": 66,
      "outputs": [
        {
          "output_type": "stream",
          "name": "stdout",
          "text": [
            "Model: \"sequential\"\n",
            "_________________________________________________________________\n",
            " Layer (type)                Output Shape              Param #   \n",
            "=================================================================\n",
            " dense (Dense)               (None, 16)                192       \n",
            "                                                                 \n",
            " dense_1 (Dense)             (None, 5)                 85        \n",
            "                                                                 \n",
            " dense_2 (Dense)             (None, 5)                 30        \n",
            "                                                                 \n",
            "=================================================================\n",
            "Total params: 307 (1.20 KB)\n",
            "Trainable params: 307 (1.20 KB)\n",
            "Non-trainable params: 0 (0.00 Byte)\n",
            "_________________________________________________________________\n"
          ]
        }
      ]
    },
    {
      "cell_type": "code",
      "source": [
        "model2.compile(optimizer=Adam(0.001), loss='sparse_categorical_crossentropy')\n",
        "hist = model2.fit(x_train, y_train, epochs=100, validation_split=.2).history"
      ],
      "metadata": {
        "id": "vNRNUzHc9o6H",
        "colab": {
          "base_uri": "https://localhost:8080/",
          "height": 0
        },
        "outputId": "66b452d0-e86a-4f80-dc29-316009020d39"
      },
      "execution_count": 67,
      "outputs": [
        {
          "output_type": "stream",
          "name": "stdout",
          "text": [
            "Epoch 1/100\n",
            "98/98 [==============================] - 3s 13ms/step - loss: 1.4852 - val_loss: 1.4177\n",
            "Epoch 2/100\n",
            "98/98 [==============================] - 1s 10ms/step - loss: 1.3396 - val_loss: 1.3185\n",
            "Epoch 3/100\n",
            "98/98 [==============================] - 1s 7ms/step - loss: 1.2696 - val_loss: 1.2792\n",
            "Epoch 4/100\n",
            "98/98 [==============================] - 1s 8ms/step - loss: 1.2393 - val_loss: 1.2631\n",
            "Epoch 5/100\n",
            "98/98 [==============================] - 1s 8ms/step - loss: 1.2228 - val_loss: 1.2519\n",
            "Epoch 6/100\n",
            "98/98 [==============================] - 1s 8ms/step - loss: 1.2109 - val_loss: 1.2443\n",
            "Epoch 7/100\n",
            "98/98 [==============================] - 0s 4ms/step - loss: 1.2004 - val_loss: 1.2419\n",
            "Epoch 8/100\n",
            "98/98 [==============================] - 0s 4ms/step - loss: 1.1928 - val_loss: 1.2321\n",
            "Epoch 9/100\n",
            "98/98 [==============================] - 1s 6ms/step - loss: 1.1846 - val_loss: 1.2278\n",
            "Epoch 10/100\n",
            "98/98 [==============================] - 0s 5ms/step - loss: 1.1783 - val_loss: 1.2209\n",
            "Epoch 11/100\n",
            "98/98 [==============================] - 0s 4ms/step - loss: 1.1720 - val_loss: 1.2198\n",
            "Epoch 12/100\n",
            "98/98 [==============================] - 0s 3ms/step - loss: 1.1656 - val_loss: 1.2168\n",
            "Epoch 13/100\n",
            "98/98 [==============================] - 0s 3ms/step - loss: 1.1600 - val_loss: 1.2061\n",
            "Epoch 14/100\n",
            "98/98 [==============================] - 0s 3ms/step - loss: 1.1550 - val_loss: 1.2008\n",
            "Epoch 15/100\n",
            "98/98 [==============================] - 0s 3ms/step - loss: 1.1491 - val_loss: 1.1973\n",
            "Epoch 16/100\n",
            "98/98 [==============================] - 0s 3ms/step - loss: 1.1449 - val_loss: 1.1943\n",
            "Epoch 17/100\n",
            "98/98 [==============================] - 0s 2ms/step - loss: 1.1391 - val_loss: 1.1871\n",
            "Epoch 18/100\n",
            "98/98 [==============================] - 0s 3ms/step - loss: 1.1351 - val_loss: 1.1855\n",
            "Epoch 19/100\n",
            "98/98 [==============================] - 0s 2ms/step - loss: 1.1311 - val_loss: 1.1833\n",
            "Epoch 20/100\n",
            "98/98 [==============================] - 0s 3ms/step - loss: 1.1276 - val_loss: 1.1771\n",
            "Epoch 21/100\n",
            "98/98 [==============================] - 0s 3ms/step - loss: 1.1250 - val_loss: 1.1740\n",
            "Epoch 22/100\n",
            "98/98 [==============================] - 0s 3ms/step - loss: 1.1205 - val_loss: 1.1696\n",
            "Epoch 23/100\n",
            "98/98 [==============================] - 0s 3ms/step - loss: 1.1188 - val_loss: 1.1719\n",
            "Epoch 24/100\n",
            "98/98 [==============================] - 0s 3ms/step - loss: 1.1161 - val_loss: 1.1665\n",
            "Epoch 25/100\n",
            "98/98 [==============================] - 0s 3ms/step - loss: 1.1150 - val_loss: 1.1637\n",
            "Epoch 26/100\n",
            "98/98 [==============================] - 0s 3ms/step - loss: 1.1111 - val_loss: 1.1593\n",
            "Epoch 27/100\n",
            "98/98 [==============================] - 0s 3ms/step - loss: 1.1081 - val_loss: 1.1580\n",
            "Epoch 28/100\n",
            "98/98 [==============================] - 0s 3ms/step - loss: 1.1072 - val_loss: 1.1563\n",
            "Epoch 29/100\n",
            "98/98 [==============================] - 0s 3ms/step - loss: 1.1049 - val_loss: 1.1528\n",
            "Epoch 30/100\n",
            "98/98 [==============================] - 0s 3ms/step - loss: 1.1033 - val_loss: 1.1506\n",
            "Epoch 31/100\n",
            "98/98 [==============================] - 0s 2ms/step - loss: 1.1006 - val_loss: 1.1508\n",
            "Epoch 32/100\n",
            "98/98 [==============================] - 0s 2ms/step - loss: 1.1001 - val_loss: 1.1479\n",
            "Epoch 33/100\n",
            "98/98 [==============================] - 0s 3ms/step - loss: 1.0973 - val_loss: 1.1528\n",
            "Epoch 34/100\n",
            "98/98 [==============================] - 0s 3ms/step - loss: 1.0973 - val_loss: 1.1464\n",
            "Epoch 35/100\n",
            "98/98 [==============================] - 0s 3ms/step - loss: 1.0954 - val_loss: 1.1462\n",
            "Epoch 36/100\n",
            "98/98 [==============================] - 0s 3ms/step - loss: 1.0946 - val_loss: 1.1527\n",
            "Epoch 37/100\n",
            "98/98 [==============================] - 0s 2ms/step - loss: 1.0925 - val_loss: 1.1439\n",
            "Epoch 38/100\n",
            "98/98 [==============================] - 0s 3ms/step - loss: 1.0911 - val_loss: 1.1425\n",
            "Epoch 39/100\n",
            "98/98 [==============================] - 0s 3ms/step - loss: 1.0898 - val_loss: 1.1410\n",
            "Epoch 40/100\n",
            "98/98 [==============================] - 0s 3ms/step - loss: 1.0900 - val_loss: 1.1429\n",
            "Epoch 41/100\n",
            "98/98 [==============================] - 0s 2ms/step - loss: 1.0875 - val_loss: 1.1412\n",
            "Epoch 42/100\n",
            "98/98 [==============================] - 0s 3ms/step - loss: 1.0880 - val_loss: 1.1394\n",
            "Epoch 43/100\n",
            "98/98 [==============================] - 0s 3ms/step - loss: 1.0860 - val_loss: 1.1371\n",
            "Epoch 44/100\n",
            "98/98 [==============================] - 0s 3ms/step - loss: 1.0853 - val_loss: 1.1403\n",
            "Epoch 45/100\n",
            "98/98 [==============================] - 0s 3ms/step - loss: 1.0839 - val_loss: 1.1371\n",
            "Epoch 46/100\n",
            "98/98 [==============================] - 0s 4ms/step - loss: 1.0828 - val_loss: 1.1466\n",
            "Epoch 47/100\n",
            "98/98 [==============================] - 0s 5ms/step - loss: 1.0831 - val_loss: 1.1345\n",
            "Epoch 48/100\n",
            "98/98 [==============================] - 0s 4ms/step - loss: 1.0818 - val_loss: 1.1355\n",
            "Epoch 49/100\n",
            "98/98 [==============================] - 1s 5ms/step - loss: 1.0812 - val_loss: 1.1407\n",
            "Epoch 50/100\n",
            "98/98 [==============================] - 0s 5ms/step - loss: 1.0802 - val_loss: 1.1354\n",
            "Epoch 51/100\n",
            "98/98 [==============================] - 0s 4ms/step - loss: 1.0802 - val_loss: 1.1352\n",
            "Epoch 52/100\n",
            "98/98 [==============================] - 0s 4ms/step - loss: 1.0797 - val_loss: 1.1346\n",
            "Epoch 53/100\n",
            "98/98 [==============================] - 0s 2ms/step - loss: 1.0787 - val_loss: 1.1348\n",
            "Epoch 54/100\n",
            "98/98 [==============================] - 0s 3ms/step - loss: 1.0785 - val_loss: 1.1338\n",
            "Epoch 55/100\n",
            "98/98 [==============================] - 0s 3ms/step - loss: 1.0780 - val_loss: 1.1342\n",
            "Epoch 56/100\n",
            "98/98 [==============================] - 0s 3ms/step - loss: 1.0769 - val_loss: 1.1322\n",
            "Epoch 57/100\n",
            "98/98 [==============================] - 0s 3ms/step - loss: 1.0769 - val_loss: 1.1317\n",
            "Epoch 58/100\n",
            "98/98 [==============================] - 0s 2ms/step - loss: 1.0766 - val_loss: 1.1329\n",
            "Epoch 59/100\n",
            "98/98 [==============================] - 0s 3ms/step - loss: 1.0747 - val_loss: 1.1352\n",
            "Epoch 60/100\n",
            "98/98 [==============================] - 0s 3ms/step - loss: 1.0765 - val_loss: 1.1324\n",
            "Epoch 61/100\n",
            "98/98 [==============================] - 0s 3ms/step - loss: 1.0754 - val_loss: 1.1330\n",
            "Epoch 62/100\n",
            "98/98 [==============================] - 0s 3ms/step - loss: 1.0749 - val_loss: 1.1327\n",
            "Epoch 63/100\n",
            "98/98 [==============================] - 0s 3ms/step - loss: 1.0738 - val_loss: 1.1328\n",
            "Epoch 64/100\n",
            "98/98 [==============================] - 0s 2ms/step - loss: 1.0760 - val_loss: 1.1312\n",
            "Epoch 65/100\n",
            "98/98 [==============================] - 0s 3ms/step - loss: 1.0738 - val_loss: 1.1318\n",
            "Epoch 66/100\n",
            "98/98 [==============================] - 0s 3ms/step - loss: 1.0737 - val_loss: 1.1308\n",
            "Epoch 67/100\n",
            "98/98 [==============================] - 0s 3ms/step - loss: 1.0722 - val_loss: 1.1300\n",
            "Epoch 68/100\n",
            "98/98 [==============================] - 0s 3ms/step - loss: 1.0723 - val_loss: 1.1321\n",
            "Epoch 69/100\n",
            "98/98 [==============================] - 0s 3ms/step - loss: 1.0734 - val_loss: 1.1298\n",
            "Epoch 70/100\n",
            "98/98 [==============================] - 0s 3ms/step - loss: 1.0714 - val_loss: 1.1310\n",
            "Epoch 71/100\n",
            "98/98 [==============================] - 0s 3ms/step - loss: 1.0722 - val_loss: 1.1281\n",
            "Epoch 72/100\n",
            "98/98 [==============================] - 0s 3ms/step - loss: 1.0709 - val_loss: 1.1344\n",
            "Epoch 73/100\n",
            "98/98 [==============================] - 0s 3ms/step - loss: 1.0717 - val_loss: 1.1305\n",
            "Epoch 74/100\n",
            "98/98 [==============================] - 0s 2ms/step - loss: 1.0706 - val_loss: 1.1308\n",
            "Epoch 75/100\n",
            "98/98 [==============================] - 0s 3ms/step - loss: 1.0695 - val_loss: 1.1286\n",
            "Epoch 76/100\n",
            "98/98 [==============================] - 0s 3ms/step - loss: 1.0698 - val_loss: 1.1287\n",
            "Epoch 77/100\n",
            "98/98 [==============================] - 0s 3ms/step - loss: 1.0700 - val_loss: 1.1305\n",
            "Epoch 78/100\n",
            "98/98 [==============================] - 0s 3ms/step - loss: 1.0699 - val_loss: 1.1284\n",
            "Epoch 79/100\n",
            "98/98 [==============================] - 0s 3ms/step - loss: 1.0685 - val_loss: 1.1279\n",
            "Epoch 80/100\n",
            "98/98 [==============================] - 0s 3ms/step - loss: 1.0680 - val_loss: 1.1286\n",
            "Epoch 81/100\n",
            "98/98 [==============================] - 0s 3ms/step - loss: 1.0681 - val_loss: 1.1272\n",
            "Epoch 82/100\n",
            "98/98 [==============================] - 0s 3ms/step - loss: 1.0681 - val_loss: 1.1291\n",
            "Epoch 83/100\n",
            "98/98 [==============================] - 0s 3ms/step - loss: 1.0657 - val_loss: 1.1316\n",
            "Epoch 84/100\n",
            "98/98 [==============================] - 0s 3ms/step - loss: 1.0672 - val_loss: 1.1286\n",
            "Epoch 85/100\n",
            "98/98 [==============================] - 0s 3ms/step - loss: 1.0675 - val_loss: 1.1290\n",
            "Epoch 86/100\n",
            "98/98 [==============================] - 0s 3ms/step - loss: 1.0663 - val_loss: 1.1281\n",
            "Epoch 87/100\n",
            "98/98 [==============================] - 0s 3ms/step - loss: 1.0654 - val_loss: 1.1239\n",
            "Epoch 88/100\n",
            "98/98 [==============================] - 0s 2ms/step - loss: 1.0676 - val_loss: 1.1352\n",
            "Epoch 89/100\n",
            "98/98 [==============================] - 0s 4ms/step - loss: 1.0657 - val_loss: 1.1298\n",
            "Epoch 90/100\n",
            "98/98 [==============================] - 0s 4ms/step - loss: 1.0648 - val_loss: 1.1255\n",
            "Epoch 91/100\n",
            "98/98 [==============================] - 0s 4ms/step - loss: 1.0652 - val_loss: 1.1225\n",
            "Epoch 92/100\n",
            "98/98 [==============================] - 0s 4ms/step - loss: 1.0640 - val_loss: 1.1302\n",
            "Epoch 93/100\n",
            "98/98 [==============================] - 0s 4ms/step - loss: 1.0649 - val_loss: 1.1289\n",
            "Epoch 94/100\n",
            "98/98 [==============================] - 0s 5ms/step - loss: 1.0640 - val_loss: 1.1323\n",
            "Epoch 95/100\n",
            "98/98 [==============================] - 0s 5ms/step - loss: 1.0631 - val_loss: 1.1225\n",
            "Epoch 96/100\n",
            "98/98 [==============================] - 0s 3ms/step - loss: 1.0638 - val_loss: 1.1220\n",
            "Epoch 97/100\n",
            "98/98 [==============================] - 0s 3ms/step - loss: 1.0628 - val_loss: 1.1243\n",
            "Epoch 98/100\n",
            "98/98 [==============================] - 0s 2ms/step - loss: 1.0632 - val_loss: 1.1214\n",
            "Epoch 99/100\n",
            "98/98 [==============================] - 0s 2ms/step - loss: 1.0626 - val_loss: 1.1223\n",
            "Epoch 100/100\n",
            "98/98 [==============================] - 0s 3ms/step - loss: 1.0620 - val_loss: 1.1226\n"
          ]
        }
      ]
    },
    {
      "cell_type": "code",
      "source": [
        "dl_history_plot(hist)"
      ],
      "metadata": {
        "id": "4VSfDYUC9o2a",
        "colab": {
          "base_uri": "https://localhost:8080/",
          "height": 542
        },
        "outputId": "f45764bf-36fe-407c-8dd8-adbf055d46b5"
      },
      "execution_count": 68,
      "outputs": [
        {
          "output_type": "display_data",
          "data": {
            "text/plain": [
              "<Figure size 1000x600 with 1 Axes>"
            ],
            "image/png": "[encoded data removed]"
          },
          "metadata": {}
        }
      ]
    },
    {
      "cell_type": "code",
      "source": [
        "pred = model2.predict(x_val)\n",
        "pred = np.argmax(pred, axis=1)"
      ],
      "metadata": {
        "id": "Zyg-gGLU9ozh",
        "colab": {
          "base_uri": "https://localhost:8080/",
          "height": 0
        },
        "outputId": "c6983889-7085-43fe-f5f0-31db31636562"
      },
      "execution_count": 69,
      "outputs": [
        {
          "output_type": "stream",
          "name": "stdout",
          "text": [
            "31/31 [==============================] - 0s 1ms/step\n"
          ]
        }
      ]
    },
    {
      "cell_type": "code",
      "source": [
        "print(confusion_matrix(y_val, pred))\n",
        "print(classification_report(y_val, pred))"
      ],
      "metadata": {
        "id": "Qrw7gI5jhorh",
        "colab": {
          "base_uri": "https://localhost:8080/",
          "height": 0
        },
        "outputId": "f3fcd174-6f64-4a63-cb75-40eb1b264600"
      },
      "execution_count": 70,
      "outputs": [
        {
          "output_type": "stream",
          "name": "stdout",
          "text": [
            "[[  0  24   9   0   0]\n",
            " [  0 162 134   3   0]\n",
            " [  0  89 326  20   0]\n",
            " [  0   6 134  37   0]\n",
            " [  0   0  26  10   0]]\n",
            "              precision    recall  f1-score   support\n",
            "\n",
            "           0       0.00      0.00      0.00        33\n",
            "           1       0.58      0.54      0.56       299\n",
            "           2       0.52      0.75      0.61       435\n",
            "           3       0.53      0.21      0.30       177\n",
            "           4       0.00      0.00      0.00        36\n",
            "\n",
            "    accuracy                           0.54       980\n",
            "   macro avg       0.32      0.30      0.29       980\n",
            "weighted avg       0.50      0.54      0.50       980\n",
            "\n"
          ]
        },
        {
          "output_type": "stream",
          "name": "stderr",
          "text": [
            "/usr/local/lib/python3.10/dist-packages/sklearn/metrics/_classification.py:1344: UndefinedMetricWarning: Precision and F-score are ill-defined and being set to 0.0 in labels with no predicted samples. Use `zero_division` parameter to control this behavior.\n",
            "  _warn_prf(average, modifier, msg_start, len(result))\n",
            "/usr/local/lib/python3.10/dist-packages/sklearn/metrics/_classification.py:1344: UndefinedMetricWarning: Precision and F-score are ill-defined and being set to 0.0 in labels with no predicted samples. Use `zero_division` parameter to control this behavior.\n",
            "  _warn_prf(average, modifier, msg_start, len(result))\n",
            "/usr/local/lib/python3.10/dist-packages/sklearn/metrics/_classification.py:1344: UndefinedMetricWarning: Precision and F-score are ill-defined and being set to 0.0 in labels with no predicted samples. Use `zero_division` parameter to control this behavior.\n",
            "  _warn_prf(average, modifier, msg_start, len(result))\n"
          ]
        }
      ]
    },
    {
      "cell_type": "markdown",
      "source": [
        "### (3) 모델3"
      ],
      "metadata": {
        "id": "YC5zRh2BxHgb"
      }
    },
    {
      "cell_type": "code",
      "source": [
        "y_ = to_categorical(y.values, 5)"
      ],
      "metadata": {
        "id": "DnOrk6Kshrnp"
      },
      "execution_count": 143,
      "outputs": []
    },
    {
      "cell_type": "code",
      "source": [
        "x_train, x_val, y_train, y_val = train_test_split(x, y_, test_size = .2, random_state = 2024)"
      ],
      "metadata": {
        "id": "wjclAZcAhrnp"
      },
      "execution_count": 144,
      "outputs": []
    },
    {
      "cell_type": "code",
      "source": [
        "scaler = MinMaxScaler()\n",
        "x_train = scaler.fit_transform(x_train)\n",
        "x_val = scaler.transform(x_val)"
      ],
      "metadata": {
        "id": "7uZHJe8ohrnp"
      },
      "execution_count": 145,
      "outputs": []
    },
    {
      "cell_type": "code",
      "source": [
        "n = x_train.shape[1] #num of columns\n",
        "n"
      ],
      "metadata": {
        "id": "yJCPV6Edhrnp",
        "colab": {
          "base_uri": "https://localhost:8080/",
          "height": 0
        },
        "outputId": "c4fc666c-d919-4e1a-aa9b-7d2fce6524e4"
      },
      "execution_count": 146,
      "outputs": [
        {
          "output_type": "execute_result",
          "data": {
            "text/plain": [
              "11"
            ]
          },
          "metadata": {},
          "execution_count": 146
        }
      ]
    },
    {
      "cell_type": "code",
      "source": [
        "# 메모리 정리\n",
        "clear_session()\n",
        "\n",
        "# Sequential\n",
        "model3 = Sequential([Dense(10, input_shape=(n,) ,activation='relu'),\n",
        "                     Dense(8, activation='relu'),\n",
        "                     Dense(8, activation='relu'),\n",
        "                     Dense(5, activation='softmax')])\n",
        "\n",
        "# 모델요약\n",
        "model3.summary()"
      ],
      "metadata": {
        "id": "8KkTe__lhrnp",
        "colab": {
          "base_uri": "https://localhost:8080/",
          "height": 0
        },
        "outputId": "42b7196f-0d6c-400d-fe5e-af67ed554479"
      },
      "execution_count": 147,
      "outputs": [
        {
          "output_type": "stream",
          "name": "stdout",
          "text": [
            "Model: \"sequential\"\n",
            "_________________________________________________________________\n",
            " Layer (type)                Output Shape              Param #   \n",
            "=================================================================\n",
            " dense (Dense)               (None, 10)                120       \n",
            "                                                                 \n",
            " dense_1 (Dense)             (None, 8)                 88        \n",
            "                                                                 \n",
            " dense_2 (Dense)             (None, 8)                 72        \n",
            "                                                                 \n",
            " dense_3 (Dense)             (None, 5)                 45        \n",
            "                                                                 \n",
            "=================================================================\n",
            "Total params: 325 (1.27 KB)\n",
            "Trainable params: 325 (1.27 KB)\n",
            "Non-trainable params: 0 (0.00 Byte)\n",
            "_________________________________________________________________\n"
          ]
        }
      ]
    },
    {
      "cell_type": "code",
      "source": [
        "model3.compile(optimizer=Adam(0.001), loss='categorical_crossentropy')\n",
        "\n",
        "hist = model3.fit(x_train, y_train, epochs=100, validation_split=0.2).history\n"
      ],
      "metadata": {
        "colab": {
          "base_uri": "https://localhost:8080/",
          "height": 0
        },
        "id": "v3YFoSxRQoYj",
        "outputId": "2d492339-db06-46f8-b25f-b0ac5def1bc4"
      },
      "execution_count": 148,
      "outputs": [
        {
          "output_type": "stream",
          "name": "stdout",
          "text": [
            "Epoch 1/100\n",
            "98/98 [==============================] - 1s 5ms/step - loss: 1.5277 - val_loss: 1.3785\n",
            "Epoch 2/100\n",
            "98/98 [==============================] - 0s 3ms/step - loss: 1.2951 - val_loss: 1.2945\n",
            "Epoch 3/100\n",
            "98/98 [==============================] - 0s 3ms/step - loss: 1.2613 - val_loss: 1.2846\n",
            "Epoch 4/100\n",
            "98/98 [==============================] - 0s 3ms/step - loss: 1.2427 - val_loss: 1.2655\n",
            "Epoch 5/100\n",
            "98/98 [==============================] - 0s 3ms/step - loss: 1.2171 - val_loss: 1.2421\n",
            "Epoch 6/100\n",
            "98/98 [==============================] - 0s 3ms/step - loss: 1.1882 - val_loss: 1.2227\n",
            "Epoch 7/100\n",
            "98/98 [==============================] - 0s 3ms/step - loss: 1.1615 - val_loss: 1.2074\n",
            "Epoch 8/100\n",
            "98/98 [==============================] - 0s 3ms/step - loss: 1.1395 - val_loss: 1.1865\n",
            "Epoch 9/100\n",
            "98/98 [==============================] - 0s 3ms/step - loss: 1.1209 - val_loss: 1.1734\n",
            "Epoch 10/100\n",
            "98/98 [==============================] - 0s 3ms/step - loss: 1.1087 - val_loss: 1.1654\n",
            "Epoch 11/100\n",
            "98/98 [==============================] - 0s 3ms/step - loss: 1.1042 - val_loss: 1.1618\n",
            "Epoch 12/100\n",
            "98/98 [==============================] - 0s 3ms/step - loss: 1.0965 - val_loss: 1.1534\n",
            "Epoch 13/100\n",
            "98/98 [==============================] - 0s 4ms/step - loss: 1.0942 - val_loss: 1.1552\n",
            "Epoch 14/100\n",
            "98/98 [==============================] - 1s 6ms/step - loss: 1.0912 - val_loss: 1.1608\n",
            "Epoch 15/100\n",
            "98/98 [==============================] - 0s 5ms/step - loss: 1.0878 - val_loss: 1.1461\n",
            "Epoch 16/100\n",
            "98/98 [==============================] - 0s 4ms/step - loss: 1.0864 - val_loss: 1.1410\n",
            "Epoch 17/100\n",
            "98/98 [==============================] - 1s 6ms/step - loss: 1.0841 - val_loss: 1.1476\n",
            "Epoch 18/100\n",
            "98/98 [==============================] - 0s 5ms/step - loss: 1.0815 - val_loss: 1.1392\n",
            "Epoch 19/100\n",
            "98/98 [==============================] - 0s 3ms/step - loss: 1.0807 - val_loss: 1.1385\n",
            "Epoch 20/100\n",
            "98/98 [==============================] - 0s 3ms/step - loss: 1.0785 - val_loss: 1.1340\n",
            "Epoch 21/100\n",
            "98/98 [==============================] - 0s 3ms/step - loss: 1.0770 - val_loss: 1.1308\n",
            "Epoch 22/100\n",
            "98/98 [==============================] - 0s 3ms/step - loss: 1.0761 - val_loss: 1.1305\n",
            "Epoch 23/100\n",
            "98/98 [==============================] - 0s 3ms/step - loss: 1.0737 - val_loss: 1.1347\n",
            "Epoch 24/100\n",
            "98/98 [==============================] - 0s 2ms/step - loss: 1.0707 - val_loss: 1.1290\n",
            "Epoch 25/100\n",
            "98/98 [==============================] - 0s 2ms/step - loss: 1.0708 - val_loss: 1.1245\n",
            "Epoch 26/100\n",
            "98/98 [==============================] - 0s 3ms/step - loss: 1.0690 - val_loss: 1.1294\n",
            "Epoch 27/100\n",
            "98/98 [==============================] - 0s 3ms/step - loss: 1.0690 - val_loss: 1.1246\n",
            "Epoch 28/100\n",
            "98/98 [==============================] - 0s 3ms/step - loss: 1.0659 - val_loss: 1.1223\n",
            "Epoch 29/100\n",
            "98/98 [==============================] - 0s 3ms/step - loss: 1.0654 - val_loss: 1.1240\n",
            "Epoch 30/100\n",
            "98/98 [==============================] - 0s 3ms/step - loss: 1.0661 - val_loss: 1.1204\n",
            "Epoch 31/100\n",
            "98/98 [==============================] - 0s 3ms/step - loss: 1.0642 - val_loss: 1.1242\n",
            "Epoch 32/100\n",
            "98/98 [==============================] - 0s 3ms/step - loss: 1.0624 - val_loss: 1.1187\n",
            "Epoch 33/100\n",
            "98/98 [==============================] - 0s 3ms/step - loss: 1.0622 - val_loss: 1.1183\n",
            "Epoch 34/100\n",
            "98/98 [==============================] - 0s 3ms/step - loss: 1.0618 - val_loss: 1.1184\n",
            "Epoch 35/100\n",
            "98/98 [==============================] - 0s 3ms/step - loss: 1.0614 - val_loss: 1.1213\n",
            "Epoch 36/100\n",
            "98/98 [==============================] - 0s 3ms/step - loss: 1.0593 - val_loss: 1.1158\n",
            "Epoch 37/100\n",
            "98/98 [==============================] - 0s 3ms/step - loss: 1.0577 - val_loss: 1.1145\n",
            "Epoch 38/100\n",
            "98/98 [==============================] - 0s 3ms/step - loss: 1.0573 - val_loss: 1.1179\n",
            "Epoch 39/100\n",
            "98/98 [==============================] - 0s 2ms/step - loss: 1.0572 - val_loss: 1.1155\n",
            "Epoch 40/100\n",
            "98/98 [==============================] - 0s 3ms/step - loss: 1.0555 - val_loss: 1.1227\n",
            "Epoch 41/100\n",
            "98/98 [==============================] - 0s 3ms/step - loss: 1.0571 - val_loss: 1.1143\n",
            "Epoch 42/100\n",
            "98/98 [==============================] - 0s 3ms/step - loss: 1.0552 - val_loss: 1.1114\n",
            "Epoch 43/100\n",
            "98/98 [==============================] - 0s 3ms/step - loss: 1.0548 - val_loss: 1.1201\n",
            "Epoch 44/100\n",
            "98/98 [==============================] - 0s 3ms/step - loss: 1.0533 - val_loss: 1.1146\n",
            "Epoch 45/100\n",
            "98/98 [==============================] - 0s 3ms/step - loss: 1.0538 - val_loss: 1.1097\n",
            "Epoch 46/100\n",
            "98/98 [==============================] - 0s 3ms/step - loss: 1.0535 - val_loss: 1.1094\n",
            "Epoch 47/100\n",
            "98/98 [==============================] - 0s 3ms/step - loss: 1.0521 - val_loss: 1.1090\n",
            "Epoch 48/100\n",
            "98/98 [==============================] - 0s 3ms/step - loss: 1.0509 - val_loss: 1.1126\n",
            "Epoch 49/100\n",
            "98/98 [==============================] - 0s 3ms/step - loss: 1.0511 - val_loss: 1.1198\n",
            "Epoch 50/100\n",
            "98/98 [==============================] - 0s 3ms/step - loss: 1.0503 - val_loss: 1.1098\n",
            "Epoch 51/100\n",
            "98/98 [==============================] - 0s 3ms/step - loss: 1.0512 - val_loss: 1.1072\n",
            "Epoch 52/100\n",
            "98/98 [==============================] - 0s 3ms/step - loss: 1.0497 - val_loss: 1.1149\n",
            "Epoch 53/100\n",
            "98/98 [==============================] - 0s 4ms/step - loss: 1.0506 - val_loss: 1.1091\n",
            "Epoch 54/100\n",
            "98/98 [==============================] - 0s 5ms/step - loss: 1.0494 - val_loss: 1.1071\n",
            "Epoch 55/100\n",
            "98/98 [==============================] - 0s 4ms/step - loss: 1.0497 - val_loss: 1.1078\n",
            "Epoch 56/100\n",
            "98/98 [==============================] - 0s 4ms/step - loss: 1.0483 - val_loss: 1.1114\n",
            "Epoch 57/100\n",
            "98/98 [==============================] - 1s 5ms/step - loss: 1.0494 - val_loss: 1.1211\n",
            "Epoch 58/100\n",
            "98/98 [==============================] - 0s 5ms/step - loss: 1.0484 - val_loss: 1.1041\n",
            "Epoch 59/100\n",
            "98/98 [==============================] - 0s 4ms/step - loss: 1.0481 - val_loss: 1.1070\n",
            "Epoch 60/100\n",
            "98/98 [==============================] - 0s 3ms/step - loss: 1.0478 - val_loss: 1.1095\n",
            "Epoch 61/100\n",
            "98/98 [==============================] - 0s 3ms/step - loss: 1.0455 - val_loss: 1.1056\n",
            "Epoch 62/100\n",
            "98/98 [==============================] - 0s 3ms/step - loss: 1.0460 - val_loss: 1.1083\n",
            "Epoch 63/100\n",
            "98/98 [==============================] - 0s 3ms/step - loss: 1.0461 - val_loss: 1.1049\n",
            "Epoch 64/100\n",
            "98/98 [==============================] - 0s 3ms/step - loss: 1.0477 - val_loss: 1.1118\n",
            "Epoch 65/100\n",
            "98/98 [==============================] - 0s 3ms/step - loss: 1.0471 - val_loss: 1.1094\n",
            "Epoch 66/100\n",
            "98/98 [==============================] - 0s 3ms/step - loss: 1.0457 - val_loss: 1.1045\n",
            "Epoch 67/100\n",
            "98/98 [==============================] - 0s 3ms/step - loss: 1.0454 - val_loss: 1.1073\n",
            "Epoch 68/100\n",
            "98/98 [==============================] - 0s 3ms/step - loss: 1.0450 - val_loss: 1.1099\n",
            "Epoch 69/100\n",
            "98/98 [==============================] - 0s 3ms/step - loss: 1.0464 - val_loss: 1.1027\n",
            "Epoch 70/100\n",
            "98/98 [==============================] - 0s 3ms/step - loss: 1.0449 - val_loss: 1.1028\n",
            "Epoch 71/100\n",
            "98/98 [==============================] - 0s 3ms/step - loss: 1.0446 - val_loss: 1.1050\n",
            "Epoch 72/100\n",
            "98/98 [==============================] - 0s 3ms/step - loss: 1.0439 - val_loss: 1.1005\n",
            "Epoch 73/100\n",
            "98/98 [==============================] - 0s 4ms/step - loss: 1.0429 - val_loss: 1.1028\n",
            "Epoch 74/100\n",
            "98/98 [==============================] - 0s 3ms/step - loss: 1.0443 - val_loss: 1.1095\n",
            "Epoch 75/100\n",
            "98/98 [==============================] - 0s 3ms/step - loss: 1.0427 - val_loss: 1.1039\n",
            "Epoch 76/100\n",
            "98/98 [==============================] - 0s 3ms/step - loss: 1.0433 - val_loss: 1.1088\n",
            "Epoch 77/100\n",
            "98/98 [==============================] - 0s 3ms/step - loss: 1.0411 - val_loss: 1.1020\n",
            "Epoch 78/100\n",
            "98/98 [==============================] - 0s 3ms/step - loss: 1.0411 - val_loss: 1.1022\n",
            "Epoch 79/100\n",
            "98/98 [==============================] - 0s 3ms/step - loss: 1.0421 - val_loss: 1.1024\n",
            "Epoch 80/100\n",
            "98/98 [==============================] - 0s 3ms/step - loss: 1.0417 - val_loss: 1.1002\n",
            "Epoch 81/100\n",
            "98/98 [==============================] - 0s 3ms/step - loss: 1.0425 - val_loss: 1.0997\n",
            "Epoch 82/100\n",
            "98/98 [==============================] - 0s 3ms/step - loss: 1.0402 - val_loss: 1.1032\n",
            "Epoch 83/100\n",
            "98/98 [==============================] - 0s 3ms/step - loss: 1.0400 - val_loss: 1.0990\n",
            "Epoch 84/100\n",
            "98/98 [==============================] - 0s 3ms/step - loss: 1.0394 - val_loss: 1.1062\n",
            "Epoch 85/100\n",
            "98/98 [==============================] - 0s 3ms/step - loss: 1.0378 - val_loss: 1.1062\n",
            "Epoch 86/100\n",
            "98/98 [==============================] - 0s 3ms/step - loss: 1.0395 - val_loss: 1.1001\n",
            "Epoch 87/100\n",
            "98/98 [==============================] - 0s 3ms/step - loss: 1.0375 - val_loss: 1.0972\n",
            "Epoch 88/100\n",
            "98/98 [==============================] - 0s 3ms/step - loss: 1.0379 - val_loss: 1.0978\n",
            "Epoch 89/100\n",
            "98/98 [==============================] - 0s 3ms/step - loss: 1.0376 - val_loss: 1.1157\n",
            "Epoch 90/100\n",
            "98/98 [==============================] - 0s 4ms/step - loss: 1.0393 - val_loss: 1.1064\n",
            "Epoch 91/100\n",
            "98/98 [==============================] - 0s 4ms/step - loss: 1.0365 - val_loss: 1.1015\n",
            "Epoch 92/100\n",
            "98/98 [==============================] - 1s 6ms/step - loss: 1.0369 - val_loss: 1.0989\n",
            "Epoch 93/100\n",
            "98/98 [==============================] - 0s 4ms/step - loss: 1.0368 - val_loss: 1.1018\n",
            "Epoch 94/100\n",
            "98/98 [==============================] - 1s 5ms/step - loss: 1.0360 - val_loss: 1.1125\n",
            "Epoch 95/100\n",
            "98/98 [==============================] - 0s 5ms/step - loss: 1.0367 - val_loss: 1.1036\n",
            "Epoch 96/100\n",
            "98/98 [==============================] - 1s 5ms/step - loss: 1.0372 - val_loss: 1.0992\n",
            "Epoch 97/100\n",
            "98/98 [==============================] - 0s 4ms/step - loss: 1.0361 - val_loss: 1.0973\n",
            "Epoch 98/100\n",
            "98/98 [==============================] - 0s 4ms/step - loss: 1.0352 - val_loss: 1.1045\n",
            "Epoch 99/100\n",
            "98/98 [==============================] - 0s 3ms/step - loss: 1.0354 - val_loss: 1.0978\n",
            "Epoch 100/100\n",
            "98/98 [==============================] - 0s 3ms/step - loss: 1.0341 - val_loss: 1.0953\n"
          ]
        }
      ]
    },
    {
      "cell_type": "code",
      "source": [
        "dl_history_plot(hist)"
      ],
      "metadata": {
        "colab": {
          "base_uri": "https://localhost:8080/",
          "height": 542
        },
        "id": "dsaCehIpQoQw",
        "outputId": "72f5a028-0e0b-410a-a8b0-5f0421c9c2ec"
      },
      "execution_count": 149,
      "outputs": [
        {
          "output_type": "display_data",
          "data": {
            "text/plain": [
              "<Figure size 1000x600 with 1 Axes>"
            ],
            "image/png": "[encoded data removed]"
          },
          "metadata": {}
        }
      ]
    },
    {
      "cell_type": "code",
      "source": [
        "pred = model3.predict(x_val)\n",
        "pred = pred.argmax(axis=1)"
      ],
      "metadata": {
        "colab": {
          "base_uri": "https://localhost:8080/",
          "height": 0
        },
        "id": "XJsdovGLQ53B",
        "outputId": "7403e3df-11a0-4ffe-b19f-57dc143201c6"
      },
      "execution_count": 150,
      "outputs": [
        {
          "output_type": "stream",
          "name": "stdout",
          "text": [
            "31/31 [==============================] - 0s 2ms/step\n"
          ]
        }
      ]
    },
    {
      "cell_type": "code",
      "source": [
        "y_val = y_val.argmax(axis=1)"
      ],
      "metadata": {
        "id": "pHE1fIzeTCq7"
      },
      "execution_count": 151,
      "outputs": []
    },
    {
      "cell_type": "code",
      "source": [
        "print(confusion_matrix(y_val, pred)) # 다중 분류에서 이 부분 잘 살펴야 함\n",
        "print(classification_report(y_val, pred))"
      ],
      "metadata": {
        "colab": {
          "base_uri": "https://localhost:8080/",
          "height": 0
        },
        "id": "pomDhzoHQ5vo",
        "outputId": "257753b9-a5f3-4d7f-c7f6-8e690a16a02d"
      },
      "execution_count": 152,
      "outputs": [
        {
          "output_type": "stream",
          "name": "stdout",
          "text": [
            "[[  1  23   7   2   0]\n",
            " [  1 177 113   8   0]\n",
            " [  0  92 290  53   0]\n",
            " [  0   1 111  65   0]\n",
            " [  0   0  19  17   0]]\n",
            "              precision    recall  f1-score   support\n",
            "\n",
            "           0       0.50      0.03      0.06        33\n",
            "           1       0.60      0.59      0.60       299\n",
            "           2       0.54      0.67      0.59       435\n",
            "           3       0.45      0.37      0.40       177\n",
            "           4       0.00      0.00      0.00        36\n",
            "\n",
            "    accuracy                           0.54       980\n",
            "   macro avg       0.42      0.33      0.33       980\n",
            "weighted avg       0.52      0.54      0.52       980\n",
            "\n"
          ]
        },
        {
          "output_type": "stream",
          "name": "stderr",
          "text": [
            "/usr/local/lib/python3.10/dist-packages/sklearn/metrics/_classification.py:1344: UndefinedMetricWarning: Precision and F-score are ill-defined and being set to 0.0 in labels with no predicted samples. Use `zero_division` parameter to control this behavior.\n",
            "  _warn_prf(average, modifier, msg_start, len(result))\n",
            "/usr/local/lib/python3.10/dist-packages/sklearn/metrics/_classification.py:1344: UndefinedMetricWarning: Precision and F-score are ill-defined and being set to 0.0 in labels with no predicted samples. Use `zero_division` parameter to control this behavior.\n",
            "  _warn_prf(average, modifier, msg_start, len(result))\n",
            "/usr/local/lib/python3.10/dist-packages/sklearn/metrics/_classification.py:1344: UndefinedMetricWarning: Precision and F-score are ill-defined and being set to 0.0 in labels with no predicted samples. Use `zero_division` parameter to control this behavior.\n",
            "  _warn_prf(average, modifier, msg_start, len(result))\n"
          ]
        }
      ]
    },
    {
      "cell_type": "code",
      "source": [],
      "metadata": {
        "id": "5rIPK_58RqzN"
      },
      "execution_count": 141,
      "outputs": []
    }
  ]
}