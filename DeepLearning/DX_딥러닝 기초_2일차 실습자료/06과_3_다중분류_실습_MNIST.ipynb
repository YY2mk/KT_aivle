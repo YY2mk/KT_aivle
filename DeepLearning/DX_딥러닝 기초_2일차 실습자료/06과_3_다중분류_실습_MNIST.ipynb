{
  "nbformat": 4,
  "nbformat_minor": 0,
  "metadata": {
    "colab": {
      "provenance": [],
      "include_colab_link": true
    },
    "kernelspec": {
      "name": "python3",
      "display_name": "Python 3"
    }
  },
  "cells": [
    {
      "cell_type": "markdown",
      "metadata": {
        "id": "view-in-github",
        "colab_type": "text"
      },
      "source": [
        "<a href=\"https://colab.research.google.com/github/YY2mk/KT_aivle/blob/master/DeepLearning/DX_%EB%94%A5%EB%9F%AC%EB%8B%9D%20%EA%B8%B0%EC%B4%88_2%EC%9D%BC%EC%B0%A8%20%EC%8B%A4%EC%8A%B5%EC%9E%90%EB%A3%8C/06%EA%B3%BC_3_%EB%8B%A4%EC%A4%91%EB%B6%84%EB%A5%98_%EC%8B%A4%EC%8A%B5_MNIST.ipynb\" target=\"_parent\"><img src=\"https://colab.research.google.com/assets/colab-badge.svg\" alt=\"Open In Colab\"/></a>"
      ]
    },
    {
      "cell_type": "markdown",
      "metadata": {
        "id": "P2n_mLirFD6s"
      },
      "source": [
        "# 종합실습2_MNIST"
      ]
    },
    {
      "cell_type": "markdown",
      "metadata": {
        "id": "gIN5d51gtker"
      },
      "source": [
        "## 1.환경준비"
      ]
    },
    {
      "cell_type": "markdown",
      "source": [
        "### (1) 라이브러리 로딩"
      ],
      "metadata": {
        "id": "98K82DAxvX6I"
      }
    },
    {
      "cell_type": "code",
      "metadata": {
        "id": "qUG9ltiWCJXr"
      },
      "source": [
        "import pandas as pd\n",
        "import numpy as np\n",
        "import matplotlib.pyplot as plt\n",
        "import seaborn as sns\n",
        "\n",
        "from sklearn.model_selection import train_test_split\n",
        "from sklearn.metrics import *\n",
        "from sklearn.preprocessing import StandardScaler, MinMaxScaler\n",
        "\n",
        "from keras.models import Sequential\n",
        "from keras.layers import Dense, Flatten\n",
        "from keras.backend import clear_session\n",
        "from keras.optimizers import Adam\n",
        "from keras.datasets import mnist, fashion_mnist"
      ],
      "execution_count": 18,
      "outputs": []
    },
    {
      "cell_type": "markdown",
      "source": [
        "* 함수 만들기"
      ],
      "metadata": {
        "id": "_h70-6MP7wtO"
      }
    },
    {
      "cell_type": "code",
      "source": [
        "# 학습곡선 함수\n",
        "def dl_history_plot(history):\n",
        "    plt.figure(figsize=(10,6))\n",
        "    plt.plot(history['loss'], label='train_err')\n",
        "    plt.plot(history['val_loss'], label='val_err')\n",
        "\n",
        "    plt.ylabel('Loss')\n",
        "    plt.xlabel('Epoch')\n",
        "    plt.legend()\n",
        "    plt.grid()\n",
        "    plt.show()"
      ],
      "metadata": {
        "id": "JWswaopv7yBI"
      },
      "execution_count": 19,
      "outputs": []
    },
    {
      "cell_type": "markdown",
      "source": [
        "### (2) 데이터로딩"
      ],
      "metadata": {
        "id": "6wuqykgvviCc"
      }
    },
    {
      "cell_type": "markdown",
      "metadata": {
        "id": "hg2CFutJcbJU"
      },
      "source": [
        "![](https://wikidocs.net/images/page/60324/mnist.png)"
      ]
    },
    {
      "cell_type": "code",
      "metadata": {
        "id": "uHH4W8B0BYJp"
      },
      "source": [
        "# 케라스 데이터셋으로 부터 mnist 불러오기\n",
        "(x_train, y_train), (x_val, y_val) = mnist.load_data() # 튜플 형태로 반환"
      ],
      "execution_count": 20,
      "outputs": []
    },
    {
      "cell_type": "code",
      "metadata": {
        "id": "e_Q8IByAcBs6",
        "colab": {
          "base_uri": "https://localhost:8080/"
        },
        "outputId": "85f4e663-496d-434d-b2e8-22ed5a7c63c0"
      },
      "source": [
        "x_train.shape, y_train.shape"
      ],
      "execution_count": 21,
      "outputs": [
        {
          "output_type": "execute_result",
          "data": {
            "text/plain": [
              "((60000, 28, 28), (60000,))"
            ]
          },
          "metadata": {},
          "execution_count": 21
        }
      ]
    },
    {
      "cell_type": "code",
      "metadata": {
        "id": "11xRsh44b_X5"
      },
      "source": [
        "class_names = ['0','1','2','3','4','5','6','7','8','9']"
      ],
      "execution_count": 22,
      "outputs": []
    },
    {
      "cell_type": "markdown",
      "metadata": {
        "id": "fjFX5Xkfe-XU"
      },
      "source": [
        "## 2 데이터 살펴보기"
      ]
    },
    {
      "cell_type": "code",
      "metadata": {
        "id": "XJ24tyaqcJ4a",
        "colab": {
          "base_uri": "https://localhost:8080/",
          "height": 430
        },
        "outputId": "75617929-277c-4aa0-acc0-24ca7eb9dc17"
      },
      "source": [
        "# 아래 숫자를 바꿔가며 화면에 그려 봅시다.\n",
        "n = 20\n",
        "\n",
        "plt.figure()\n",
        "plt.imshow(x_train[n], cmap=plt.cm.binary)\n",
        "plt.colorbar()\n",
        "plt.show()"
      ],
      "execution_count": 23,
      "outputs": [
        {
          "output_type": "display_data",
          "data": {
            "text/plain": [
              "<Figure size 640x480 with 2 Axes>"
            ],
            "image/png": "[encoded data removed]"
          },
          "metadata": {}
        }
      ]
    },
    {
      "cell_type": "code",
      "source": [
        "# 옵션추가해주세요.\n",
        "np.set_printoptions(linewidth= np.inf)\n",
        "x_train[n]"
      ],
      "metadata": {
        "colab": {
          "base_uri": "https://localhost:8080/",
          "height": 67
        },
        "id": "Mrg-UYHygMEI",
        "outputId": "4707c6e1-e36a-4d0e-a617-99ceb31dd6d3"
      },
      "execution_count": 24,
      "outputs": [
        {
          "output_type": "execute_result",
          "data": {
            "text/plain": [
              "array([[  0,   0,   0,   0,   0,   0,   0,   0,   0,   0,   0,   0,   0,   0,   0,   0,   0,   0,   0,   0,   0,   0,   0,   0,   0,   0,   0,   0],\n",
              "       [  0,   0,   0,   0,   0,   0,   0,   0,   0,   0,   0,   0,   0,   0,   0,   0,   0,   0,   0,   0,   0,   0,   0,   0,   0,   0,   0,   0],\n",
              "       [  0,   0,   0,   0,   0,   0,   0,   0,   0,   0,   0,   0,   0,   0,   0,   0,   0,   0,   0,   0,   0,   0,   0,   0,   0,   0,   0,   0],\n",
              "       [  0,   0,   0,   0,   0,   0,   0,   0,   0,   0,   0,   0,   0,   0,   0,   0,   0,   0,   0,   0,   0,   0,   0,   0,   0,   0,   0,   0],\n",
              "       [  0,   0,   0,   0,   0,   0,   0,   0,   0,   0,   0,   0,   0,   0,   0,   0,   0,  38, 190,  25,   0,   0,   0,   0,   0,   0,   0,   0],\n",
              "       [  0,   0,   0,  13,  25,  10,   0,   0,   0,   0,   0,   0,   0,   0,   0,   0,   0, 112, 252, 125,   4,   0,   0,   0,   0,   0,   0,   0],\n",
              "       [  0,   0,   0, 132, 252, 113,   0,   0,   0,   0,   0,   0,   0,   0,   0,   0,   0,  61, 252, 252,  36,   0,   0,   0,   0,   0,   0,   0],\n",
              "       [  0,   0,   0, 132, 252, 240,  79,   0,   0,   0,   0,   0,   0,   0,   0,   0,   0,  84, 252, 252,  36,   0,   0,   0,   0,   0,   0,   0],\n",
              "       [  0,   0,   0, 132, 252, 252, 238,  52,   0,   0,   0,   0,   0,   0,   0,   0,  12, 198, 252, 252, 122,   0,   0,   0,   0,   0,   0,   0],\n",
              "       [  0,   0,   0,  99, 252, 252, 252, 181,  17,   0,   0,   0,   0,   0,   0,   0,  49, 252, 252, 252, 122,   0,   0,   0,   0,   0,   0,   0],\n",
              "       [  0,   0,   0,   3, 125, 252, 252, 252, 100,   0,   0,   0,   0,   0,   0,   0,  26, 218, 252, 252,  36,   0,   0,   0,   0,   0,   0,   0],\n",
              "       [  0,   0,   0,   0,  15, 216, 252, 252, 207,  19,   0,   0,   0,   0,   0,   0,  49, 252, 252, 252,  36,   0,   0,   0,   0,   0,   0,   0],\n",
              "       [  0,   0,   0,   0,   0, 157, 252, 252, 252,  48,   0,   0,   0,   6, 109, 109, 194, 252, 252, 252,  36,   0,   0,   0,   0,   0,   0,   0],\n",
              "       [  0,   0,   0,   0,   0, 100, 252, 252, 252, 105,   0,  58, 116, 128, 252, 252, 252, 252, 252, 212,  19,   0,   0,   0,   0,   0,   0,   0],\n",
              "       [  0,   0,   0,   0,   0,   0, 164, 253, 253, 253, 253, 253, 253, 255, 253, 253, 253, 253, 253, 253,  99,   0,   0,   0,   0,   0,   0,   0],\n",
              "       [  0,   0,   0,   0,   0,   0,  49, 252, 252, 252, 252, 252, 252, 253, 252, 252, 252, 252, 252, 252, 155,   0,   0,   0,   0,   0,   0,   0],\n",
              "       [  0,   0,   0,   0,   0,   0,  49, 252, 252, 252, 252, 252, 252, 217, 216, 141, 126, 252, 252, 252, 155,   0,   0,   0,   0,   0,   0,   0],\n",
              "       [  0,   0,   0,   0,   0,   0,  49, 252, 252, 252, 234, 204,  89,   0,   0,   0,  49, 252, 252, 252, 155,   0,   0,   0,   0,   0,   0,   0],\n",
              "       [  0,   0,   0,   0,   0,   0,  14, 158, 192, 151,  45,   0,   0,   0,   0,   0,  49, 252, 252, 252, 225,  17,   0,   0,   0,   0,   0,   0],\n",
              "       [  0,   0,   0,   0,   0,   0,   0,   0,   0,   0,   0,   0,   0,   0,   0,   0,  49, 252, 252, 252, 252,  23,   0,   0,   0,   0,   0,   0],\n",
              "       [  0,   0,   0,   0,   0,   0,   0,   0,   0,   0,   0,   0,   0,   0,   0,   0,  33, 228, 252, 252, 252, 157,   4,   0,   0,   0,   0,   0],\n",
              "       [  0,   0,   0,   0,   0,   0,   0,   0,   0,   0,   0,   0,   0,   0,   0,   0,   0,  55, 229, 252, 252, 252,  11,   0,   0,   0,   0,   0],\n",
              "       [  0,   0,   0,   0,   0,   0,   0,   0,   0,   0,   0,   0,   0,   0,   0,   0,   0,   0,  53, 232, 252, 252,  63,   0,   0,   0,   0,   0],\n",
              "       [  0,   0,   0,   0,   0,   0,   0,   0,   0,   0,   0,   0,   0,   0,   0,   0,   0,   0,   0,  90, 206, 131,  11,   0,   0,   0,   0,   0],\n",
              "       [  0,   0,   0,   0,   0,   0,   0,   0,   0,   0,   0,   0,   0,   0,   0,   0,   0,   0,   0,   0,   0,   0,   0,   0,   0,   0,   0,   0],\n",
              "       [  0,   0,   0,   0,   0,   0,   0,   0,   0,   0,   0,   0,   0,   0,   0,   0,   0,   0,   0,   0,   0,   0,   0,   0,   0,   0,   0,   0],\n",
              "       [  0,   0,   0,   0,   0,   0,   0,   0,   0,   0,   0,   0,   0,   0,   0,   0,   0,   0,   0,   0,   0,   0,   0,   0,   0,   0,   0,   0],\n",
              "       [  0,   0,   0,   0,   0,   0,   0,   0,   0,   0,   0,   0,   0,   0,   0,   0,   0,   0,   0,   0,   0,   0,   0,   0,   0,   0,   0,   0]], dtype=uint8)"
            ],
            "text/html": [
              "<style>\n",
              "      .ndarray_repr .ndarray_raw_data {\n",
              "        display: none;\n",
              "      }\n",
              "      .ndarray_repr.show_array .ndarray_raw_data {\n",
              "        display: block;\n",
              "      }\n",
              "      .ndarray_repr.show_array .ndarray_image_preview {\n",
              "        display: none;\n",
              "      }\n",
              "      </style>\n",
              "      <div id=\"id-7a63be71-6dd2-44d3-b0a1-3f304b85a408\" class=\"ndarray_repr\"><pre>ndarray (28, 28) <button style=\"padding: 0 2px;\">show data</button></pre><img src=\"data:image/png;base64,iVBORw0KGgoAAAANSUhEUgAAABwAAAAcCAAAAABXZoBIAAABAElEQVR4nGNgGAxAbZ8kjMnEwMDAK8mFJOlll8KCxG35U4jEs/3zRwVJJwNDvT9CUhzBhEjyzDeBCfAUMTCEIUneZ2DgaxSECqiaobqPufbPnz8pUI7ULYSdDAwMDAz8N/78OS8MYRv+QUiyMDAwMHw8qsKgK/uWgYEtnSEUSRPES8fjGRgsL1hZ8dQwMDAw3HiPau2Sv3///v379z+ESkbxCkPv/////////w9CWaAYCwN3/m/9WMeADgz//Pnz6kwklDUbVZJv3oHpunBlDwUxdCPM+COO4iAE+PCCgYGhjQVdGArMn/7584cbhySD6Ys/f+xxSTJEnWvGqZPmAADYhmA75IA5CwAAAABJRU5ErkJggg==\" class=\"ndarray_image_preview\" /><pre class=\"ndarray_raw_data\">array([[  0,   0,   0,   0,   0,   0,   0,   0,   0,   0,   0,   0,   0,   0,   0,   0,   0,   0,   0,   0,   0,   0,   0,   0,   0,   0,   0,   0],\n",
              "       [  0,   0,   0,   0,   0,   0,   0,   0,   0,   0,   0,   0,   0,   0,   0,   0,   0,   0,   0,   0,   0,   0,   0,   0,   0,   0,   0,   0],\n",
              "       [  0,   0,   0,   0,   0,   0,   0,   0,   0,   0,   0,   0,   0,   0,   0,   0,   0,   0,   0,   0,   0,   0,   0,   0,   0,   0,   0,   0],\n",
              "       [  0,   0,   0,   0,   0,   0,   0,   0,   0,   0,   0,   0,   0,   0,   0,   0,   0,   0,   0,   0,   0,   0,   0,   0,   0,   0,   0,   0],\n",
              "       [  0,   0,   0,   0,   0,   0,   0,   0,   0,   0,   0,   0,   0,   0,   0,   0,   0,  38, 190,  25,   0,   0,   0,   0,   0,   0,   0,   0],\n",
              "       [  0,   0,   0,  13,  25,  10,   0,   0,   0,   0,   0,   0,   0,   0,   0,   0,   0, 112, 252, 125,   4,   0,   0,   0,   0,   0,   0,   0],\n",
              "       [  0,   0,   0, 132, 252, 113,   0,   0,   0,   0,   0,   0,   0,   0,   0,   0,   0,  61, 252, 252,  36,   0,   0,   0,   0,   0,   0,   0],\n",
              "       [  0,   0,   0, 132, 252, 240,  79,   0,   0,   0,   0,   0,   0,   0,   0,   0,   0,  84, 252, 252,  36,   0,   0,   0,   0,   0,   0,   0],\n",
              "       [  0,   0,   0, 132, 252, 252, 238,  52,   0,   0,   0,   0,   0,   0,   0,   0,  12, 198, 252, 252, 122,   0,   0,   0,   0,   0,   0,   0],\n",
              "       [  0,   0,   0,  99, 252, 252, 252, 181,  17,   0,   0,   0,   0,   0,   0,   0,  49, 252, 252, 252, 122,   0,   0,   0,   0,   0,   0,   0],\n",
              "       [  0,   0,   0,   3, 125, 252, 252, 252, 100,   0,   0,   0,   0,   0,   0,   0,  26, 218, 252, 252,  36,   0,   0,   0,   0,   0,   0,   0],\n",
              "       [  0,   0,   0,   0,  15, 216, 252, 252, 207,  19,   0,   0,   0,   0,   0,   0,  49, 252, 252, 252,  36,   0,   0,   0,   0,   0,   0,   0],\n",
              "       [  0,   0,   0,   0,   0, 157, 252, 252, 252,  48,   0,   0,   0,   6, 109, 109, 194, 252, 252, 252,  36,   0,   0,   0,   0,   0,   0,   0],\n",
              "       [  0,   0,   0,   0,   0, 100, 252, 252, 252, 105,   0,  58, 116, 128, 252, 252, 252, 252, 252, 212,  19,   0,   0,   0,   0,   0,   0,   0],\n",
              "       [  0,   0,   0,   0,   0,   0, 164, 253, 253, 253, 253, 253, 253, 255, 253, 253, 253, 253, 253, 253,  99,   0,   0,   0,   0,   0,   0,   0],\n",
              "       [  0,   0,   0,   0,   0,   0,  49, 252, 252, 252, 252, 252, 252, 253, 252, 252, 252, 252, 252, 252, 155,   0,   0,   0,   0,   0,   0,   0],\n",
              "       [  0,   0,   0,   0,   0,   0,  49, 252, 252, 252, 252, 252, 252, 217, 216, 141, 126, 252, 252, 252, 155,   0,   0,   0,   0,   0,   0,   0],\n",
              "       [  0,   0,   0,   0,   0,   0,  49, 252, 252, 252, 234, 204,  89,   0,   0,   0,  49, 252, 252, 252, 155,   0,   0,   0,   0,   0,   0,   0],\n",
              "       [  0,   0,   0,   0,   0,   0,  14, 158, 192, 151,  45,   0,   0,   0,   0,   0,  49, 252, 252, 252, 225,  17,   0,   0,   0,   0,   0,   0],\n",
              "       [  0,   0,   0,   0,   0,   0,   0,   0,   0,   0,   0,   0,   0,   0,   0,   0,  49, 252, 252, 252, 252,  23,   0,   0,   0,   0,   0,   0],\n",
              "       [  0,   0,   0,   0,   0,   0,   0,   0,   0,   0,   0,   0,   0,   0,   0,   0,  33, 228, 252, 252, 252, 157,   4,   0,   0,   0,   0,   0],\n",
              "       [  0,   0,   0,   0,   0,   0,   0,   0,   0,   0,   0,   0,   0,   0,   0,   0,   0,  55, 229, 252, 252, 252,  11,   0,   0,   0,   0,   0],\n",
              "       [  0,   0,   0,   0,   0,   0,   0,   0,   0,   0,   0,   0,   0,   0,   0,   0,   0,   0,  53, 232, 252, 252,  63,   0,   0,   0,   0,   0],\n",
              "       [  0,   0,   0,   0,   0,   0,   0,   0,   0,   0,   0,   0,   0,   0,   0,   0,   0,   0,   0,  90, 206, 131,  11,   0,   0,   0,   0,   0],\n",
              "       [  0,   0,   0,   0,   0,   0,   0,   0,   0,   0,   0,   0,   0,   0,   0,   0,   0,   0,   0,   0,   0,   0,   0,   0,   0,   0,   0,   0],\n",
              "       [  0,   0,   0,   0,   0,   0,   0,   0,   0,   0,   0,   0,   0,   0,   0,   0,   0,   0,   0,   0,   0,   0,   0,   0,   0,   0,   0,   0],\n",
              "       [  0,   0,   0,   0,   0,   0,   0,   0,   0,   0,   0,   0,   0,   0,   0,   0,   0,   0,   0,   0,   0,   0,   0,   0,   0,   0,   0,   0],\n",
              "       [  0,   0,   0,   0,   0,   0,   0,   0,   0,   0,   0,   0,   0,   0,   0,   0,   0,   0,   0,   0,   0,   0,   0,   0,   0,   0,   0,   0]], dtype=uint8)</pre></div><script>\n",
              "      (() => {\n",
              "      const titles = ['show data', 'hide data'];\n",
              "      let index = 0\n",
              "      document.querySelector('#id-7a63be71-6dd2-44d3-b0a1-3f304b85a408 button').onclick = (e) => {\n",
              "        document.querySelector('#id-7a63be71-6dd2-44d3-b0a1-3f304b85a408').classList.toggle('show_array');\n",
              "        index = (++index) % 2;\n",
              "        document.querySelector('#id-7a63be71-6dd2-44d3-b0a1-3f304b85a408 button').textContent = titles[index];\n",
              "        e.preventDefault();\n",
              "        e.stopPropagation();\n",
              "      }\n",
              "      })();\n",
              "    </script>"
            ]
          },
          "metadata": {},
          "execution_count": 24
        }
      ]
    },
    {
      "cell_type": "code",
      "metadata": {
        "id": "hVPJiqKIdzF9",
        "colab": {
          "base_uri": "https://localhost:8080/",
          "height": 1000
        },
        "outputId": "08fbbfd5-1a8a-4baf-cb5b-a441054c2001"
      },
      "source": [
        "plt.figure(figsize=(10,10))\n",
        "for i in range(25):\n",
        "    plt.subplot(5,5,i+1)\n",
        "    plt.xticks([])\n",
        "    plt.yticks([])\n",
        "    plt.imshow(x_train[i], cmap=plt.cm.binary)\n",
        "    plt.xlabel(class_names[y_train[i]])\n",
        "plt.tight_layout()\n",
        "plt.show()"
      ],
      "execution_count": 25,
      "outputs": [
        {
          "output_type": "display_data",
          "data": {
            "text/plain": [
              "<Figure size 1000x1000 with 25 Axes>"
            ],
            "image/png": "[encoded data removed]"
          },
          "metadata": {}
        }
      ]
    },
    {
      "cell_type": "markdown",
      "metadata": {
        "id": "0sAU3j_cfCZs"
      },
      "source": [
        "## 3.데이터 준비"
      ]
    },
    {
      "cell_type": "markdown",
      "source": [
        "### (1) 데이터 2차원으로 펼치기"
      ],
      "metadata": {
        "id": "xsthLeorZX85"
      }
    },
    {
      "cell_type": "code",
      "source": [
        "x_train.shape, y_train.shape, x_val.shape, y_val.shape"
      ],
      "metadata": {
        "id": "ogG9bgV5ZP39",
        "colab": {
          "base_uri": "https://localhost:8080/"
        },
        "outputId": "7c68212b-a73b-406a-dfbd-84a7ca1fd3d4"
      },
      "execution_count": 26,
      "outputs": [
        {
          "output_type": "execute_result",
          "data": {
            "text/plain": [
              "((60000, 28, 28), (60000,), (10000, 28, 28), (10000,))"
            ]
          },
          "metadata": {},
          "execution_count": 26
        }
      ]
    },
    {
      "cell_type": "code",
      "source": [
        "a = np.array([[1,2,3],[4,5,6]])\n",
        "a, a.shape"
      ],
      "metadata": {
        "id": "IJbj6ncBK3lI",
        "colab": {
          "base_uri": "https://localhost:8080/"
        },
        "outputId": "88b7b4ab-1446-4fa6-fcc4-605c32713fce"
      },
      "execution_count": 27,
      "outputs": [
        {
          "output_type": "execute_result",
          "data": {
            "text/plain": [
              "(array([[1, 2, 3],\n",
              "        [4, 5, 6]]),\n",
              " (2, 3))"
            ]
          },
          "metadata": {},
          "execution_count": 27
        }
      ]
    },
    {
      "cell_type": "code",
      "source": [
        "#\n",
        "print(a.reshape(3,2))\n",
        "print(a.reshape(6,1))\n",
        "print(a.reshape(6, -1))"
      ],
      "metadata": {
        "id": "OOrLCthuLELq",
        "colab": {
          "base_uri": "https://localhost:8080/"
        },
        "outputId": "2e9504de-2411-4be6-fd98-e79fae09a833"
      },
      "execution_count": 28,
      "outputs": [
        {
          "output_type": "stream",
          "name": "stdout",
          "text": [
            "[[1 2]\n",
            " [3 4]\n",
            " [5 6]]\n",
            "[[1]\n",
            " [2]\n",
            " [3]\n",
            " [4]\n",
            " [5]\n",
            " [6]]\n",
            "[[1]\n",
            " [2]\n",
            " [3]\n",
            " [4]\n",
            " [5]\n",
            " [6]]\n"
          ]
        }
      ]
    },
    {
      "cell_type": "code",
      "source": [
        "x_train = x_train.reshape(60000, -1)\n",
        "x_val = x_val.reshape(10000, -1)"
      ],
      "metadata": {
        "id": "QyfbQ3LGZeUX"
      },
      "execution_count": 29,
      "outputs": []
    },
    {
      "cell_type": "code",
      "source": [
        "x_train.shape, x_val.shape"
      ],
      "metadata": {
        "id": "bCoo5Tr2Zm5g",
        "colab": {
          "base_uri": "https://localhost:8080/"
        },
        "outputId": "7e5f8807-0efd-4cf4-aa21-51870e641479"
      },
      "execution_count": 30,
      "outputs": [
        {
          "output_type": "execute_result",
          "data": {
            "text/plain": [
              "((60000, 784), (10000, 784))"
            ]
          },
          "metadata": {},
          "execution_count": 30
        }
      ]
    },
    {
      "cell_type": "markdown",
      "metadata": {
        "id": "n-usD8VAeq16"
      },
      "source": [
        "### (2) Scaling : Min-Max\n",
        "* 0-255 값으로 되어 있는 데이터를 0-1사이 값으로 변환\n",
        "* x_train, x_val를 그냥 255로 나누면 됨"
      ]
    },
    {
      "cell_type": "code",
      "metadata": {
        "id": "8WLAP6L0ft-j"
      },
      "source": [
        "x_train = x_train / 255\n",
        "x_val = x_val / 255"
      ],
      "execution_count": 31,
      "outputs": []
    },
    {
      "cell_type": "markdown",
      "metadata": {
        "id": "HF_jSSfWf3tB"
      },
      "source": [
        "## 4.모델링"
      ]
    },
    {
      "cell_type": "code",
      "source": [
        "nfeatures = x_train.shape[1]\n",
        "nfeatures"
      ],
      "metadata": {
        "id": "jd5P74qnaITT",
        "colab": {
          "base_uri": "https://localhost:8080/"
        },
        "outputId": "e8de6036-7592-4bd0-d309-1e87a3518100"
      },
      "execution_count": 32,
      "outputs": [
        {
          "output_type": "execute_result",
          "data": {
            "text/plain": [
              "784"
            ]
          },
          "metadata": {},
          "execution_count": 32
        }
      ]
    },
    {
      "cell_type": "code",
      "metadata": {
        "id": "o2kfCpFxHXFB",
        "colab": {
          "base_uri": "https://localhost:8080/"
        },
        "outputId": "d0075bb0-db3f-4b2b-81af-20d6bbc4432d"
      },
      "source": [
        "clear_session()\n",
        "\n",
        "model = Sequential(Dense(10, input_shape = (nfeatures,), activation = 'softmax'))\n",
        "\n",
        "model.summary()"
      ],
      "execution_count": 33,
      "outputs": [
        {
          "output_type": "stream",
          "name": "stdout",
          "text": [
            "Model: \"sequential\"\n",
            "_________________________________________________________________\n",
            " Layer (type)                Output Shape              Param #   \n",
            "=================================================================\n",
            " dense (Dense)               (None, 10)                7850      \n",
            "                                                                 \n",
            "=================================================================\n",
            "Total params: 7850 (30.66 KB)\n",
            "Trainable params: 7850 (30.66 KB)\n",
            "Non-trainable params: 0 (0.00 Byte)\n",
            "_________________________________________________________________\n"
          ]
        }
      ]
    },
    {
      "cell_type": "code",
      "metadata": {
        "id": "weEOywIwoNyH",
        "colab": {
          "base_uri": "https://localhost:8080/"
        },
        "outputId": "1ebdc374-ee80-44d8-9d62-7414b6a28612"
      },
      "source": [
        "model.compile(optimizer=Adam(learning_rate=0.001), loss= 'sparse_categorical_crossentropy' )\n",
        "\n",
        "history = model.fit(x_train, y_train, epochs = 20, validation_split=0.2).history"
      ],
      "execution_count": 34,
      "outputs": [
        {
          "output_type": "stream",
          "name": "stdout",
          "text": [
            "Epoch 1/20\n",
            "1500/1500 [==============================] - 3s 2ms/step - loss: 0.5116 - val_loss: 0.3171\n",
            "Epoch 2/20\n",
            "1500/1500 [==============================] - 4s 3ms/step - loss: 0.3174 - val_loss: 0.2876\n",
            "Epoch 3/20\n",
            "1500/1500 [==============================] - 3s 2ms/step - loss: 0.2935 - val_loss: 0.2749\n",
            "Epoch 4/20\n",
            "1500/1500 [==============================] - 3s 2ms/step - loss: 0.2809 - val_loss: 0.2737\n",
            "Epoch 5/20\n",
            "1500/1500 [==============================] - 3s 2ms/step - loss: 0.2738 - val_loss: 0.2652\n",
            "Epoch 6/20\n",
            "1500/1500 [==============================] - 4s 3ms/step - loss: 0.2677 - val_loss: 0.2647\n",
            "Epoch 7/20\n",
            "1500/1500 [==============================] - 3s 2ms/step - loss: 0.2637 - val_loss: 0.2670\n",
            "Epoch 8/20\n",
            "1500/1500 [==============================] - 3s 2ms/step - loss: 0.2605 - val_loss: 0.2596\n",
            "Epoch 9/20\n",
            "1500/1500 [==============================] - 3s 2ms/step - loss: 0.2575 - val_loss: 0.2623\n",
            "Epoch 10/20\n",
            "1500/1500 [==============================] - 4s 3ms/step - loss: 0.2552 - val_loss: 0.2649\n",
            "Epoch 11/20\n",
            "1500/1500 [==============================] - 3s 2ms/step - loss: 0.2529 - val_loss: 0.2599\n",
            "Epoch 12/20\n",
            "1500/1500 [==============================] - 3s 2ms/step - loss: 0.2517 - val_loss: 0.2593\n",
            "Epoch 13/20\n",
            "1500/1500 [==============================] - 4s 3ms/step - loss: 0.2493 - val_loss: 0.2587\n",
            "Epoch 14/20\n",
            "1500/1500 [==============================] - 3s 2ms/step - loss: 0.2481 - val_loss: 0.2635\n",
            "Epoch 15/20\n",
            "1500/1500 [==============================] - 3s 2ms/step - loss: 0.2468 - val_loss: 0.2600\n",
            "Epoch 16/20\n",
            "1500/1500 [==============================] - 3s 2ms/step - loss: 0.2460 - val_loss: 0.2615\n",
            "Epoch 17/20\n",
            "1500/1500 [==============================] - 4s 3ms/step - loss: 0.2442 - val_loss: 0.2624\n",
            "Epoch 18/20\n",
            "1500/1500 [==============================] - 3s 2ms/step - loss: 0.2432 - val_loss: 0.2621\n",
            "Epoch 19/20\n",
            "1500/1500 [==============================] - 3s 2ms/step - loss: 0.2421 - val_loss: 0.2620\n",
            "Epoch 20/20\n",
            "1500/1500 [==============================] - 3s 2ms/step - loss: 0.2419 - val_loss: 0.2609\n"
          ]
        }
      ]
    },
    {
      "cell_type": "markdown",
      "source": [
        "* 학습결과 그래프"
      ],
      "metadata": {
        "id": "3N8dEQk0SKD9"
      }
    },
    {
      "cell_type": "code",
      "metadata": {
        "id": "uL9cw8Dh2Y94",
        "colab": {
          "base_uri": "https://localhost:8080/",
          "height": 542
        },
        "outputId": "7ebb2da5-0a46-473e-b7f9-2c5b50f8c97b"
      },
      "source": [
        "dl_history_plot(history)"
      ],
      "execution_count": 35,
      "outputs": [
        {
          "output_type": "display_data",
          "data": {
            "text/plain": [
              "<Figure size 1000x600 with 1 Axes>"
            ],
            "image/png": "[encoded data removed]"
          },
          "metadata": {}
        }
      ]
    },
    {
      "cell_type": "markdown",
      "source": [
        "* 예측 및 평가"
      ],
      "metadata": {
        "id": "Kcl-T-ExwrOc"
      }
    },
    {
      "cell_type": "code",
      "source": [
        "pred = model.predict(x_val)\n",
        "pred_1 = pred.argmax(axis=1)"
      ],
      "metadata": {
        "id": "iWpqKvt78PmD",
        "colab": {
          "base_uri": "https://localhost:8080/"
        },
        "outputId": "dcdcb69a-e6fb-4adb-e345-4af455525a83"
      },
      "execution_count": 36,
      "outputs": [
        {
          "output_type": "stream",
          "name": "stdout",
          "text": [
            "313/313 [==============================] - 1s 1ms/step\n"
          ]
        }
      ]
    },
    {
      "cell_type": "code",
      "source": [
        "print(confusion_matrix(y_val, pred_1))\n",
        "print(classification_report(y_val, pred_1))"
      ],
      "metadata": {
        "id": "IONbKHSLX9PA",
        "colab": {
          "base_uri": "https://localhost:8080/"
        },
        "outputId": "03fe3d14-02d9-46e0-f494-dc98e0b422c5"
      },
      "execution_count": 37,
      "outputs": [
        {
          "output_type": "stream",
          "name": "stdout",
          "text": [
            "[[ 965    0    0    2    1    5    4    2    1    0]\n",
            " [   0 1110    3    2    0    1    3    2   14    0]\n",
            " [   7   10  919   16    8    4   12   11   42    3]\n",
            " [   4    0   15  919    2   24    2   11   26    7]\n",
            " [   1    1    7    2  928    0    6    6   10   21]\n",
            " [   9    2    5   29    9  787   11    9   27    4]\n",
            " [  14    3    9    1    8   16  904    1    2    0]\n",
            " [   2    7   18    7    7    0    0  959    3   25]\n",
            " [  10    6    6   20    9   22    5   12  877    7]\n",
            " [  11    7    1   10   34    5    0   35    8  898]]\n",
            "              precision    recall  f1-score   support\n",
            "\n",
            "           0       0.94      0.98      0.96       980\n",
            "           1       0.97      0.98      0.97      1135\n",
            "           2       0.93      0.89      0.91      1032\n",
            "           3       0.91      0.91      0.91      1010\n",
            "           4       0.92      0.95      0.93       982\n",
            "           5       0.91      0.88      0.90       892\n",
            "           6       0.95      0.94      0.95       958\n",
            "           7       0.92      0.93      0.92      1028\n",
            "           8       0.87      0.90      0.88       974\n",
            "           9       0.93      0.89      0.91      1009\n",
            "\n",
            "    accuracy                           0.93     10000\n",
            "   macro avg       0.93      0.93      0.93     10000\n",
            "weighted avg       0.93      0.93      0.93     10000\n",
            "\n"
          ]
        }
      ]
    },
    {
      "cell_type": "markdown",
      "source": [
        "## 5.실습\n",
        "\n",
        "* 히든레이어를 추가하여 모델을 2가지 이상 만들고 성능을 비교해 봅시다.\n",
        "* 성능에 영향을 주는 요인은\n",
        "    * 히든레이어 수\n",
        "    * 노드수\n",
        "    * epochs 수 (10~20 사이에서 정하세요)\n",
        "    * learning_rate"
      ],
      "metadata": {
        "id": "n-6ejz9fw0PN"
      }
    },
    {
      "cell_type": "markdown",
      "source": [
        "### (1) 모델1"
      ],
      "metadata": {
        "id": "xzQs77eMauXp"
      }
    },
    {
      "cell_type": "code",
      "source": [
        "n = x_train.shape[1]\n",
        "n"
      ],
      "metadata": {
        "id": "yK0GG8T6-GL5",
        "colab": {
          "base_uri": "https://localhost:8080/"
        },
        "outputId": "c9051d09-e8b5-49c2-fcb7-8b8c6522b71e"
      },
      "execution_count": 39,
      "outputs": [
        {
          "output_type": "execute_result",
          "data": {
            "text/plain": [
              "784"
            ]
          },
          "metadata": {},
          "execution_count": 39
        }
      ]
    },
    {
      "cell_type": "code",
      "source": [
        "clear_session()\n",
        "model = Sequential([Dense(64, input_shape=(n, ), activation='relu'),\n",
        "                     Dense(32, activation='relu'),\n",
        "                    Dense(16, activation='relu'),\n",
        "                     Dense(10, activation='softmax')])\n",
        "model.summary()"
      ],
      "metadata": {
        "id": "xSlyX5Xa-GIt",
        "colab": {
          "base_uri": "https://localhost:8080/"
        },
        "outputId": "e58bfae2-6e9f-4907-b180-db16301d9894"
      },
      "execution_count": 80,
      "outputs": [
        {
          "output_type": "stream",
          "name": "stdout",
          "text": [
            "Model: \"sequential\"\n",
            "_________________________________________________________________\n",
            " Layer (type)                Output Shape              Param #   \n",
            "=================================================================\n",
            " dense (Dense)               (None, 64)                50240     \n",
            "                                                                 \n",
            " dense_1 (Dense)             (None, 32)                2080      \n",
            "                                                                 \n",
            " dense_2 (Dense)             (None, 16)                528       \n",
            "                                                                 \n",
            " dense_3 (Dense)             (None, 10)                170       \n",
            "                                                                 \n",
            "=================================================================\n",
            "Total params: 53018 (207.10 KB)\n",
            "Trainable params: 53018 (207.10 KB)\n",
            "Non-trainable params: 0 (0.00 Byte)\n",
            "_________________________________________________________________\n"
          ]
        }
      ]
    },
    {
      "cell_type": "code",
      "source": [
        "model.compile(optimizer=Adam(0.01), loss='sparse_categorical_crossentropy')\n",
        "hist = model.fit(x_train, y_train, epochs=20, validation_split=.2).history"
      ],
      "metadata": {
        "id": "5OAUUYvZ-GGT",
        "colab": {
          "base_uri": "https://localhost:8080/"
        },
        "outputId": "11c43730-c45f-4e6a-9f0c-3dd4a00e7dea"
      },
      "execution_count": 81,
      "outputs": [
        {
          "output_type": "stream",
          "name": "stdout",
          "text": [
            "Epoch 1/20\n",
            "1500/1500 [==============================] - 8s 5ms/step - loss: 0.3081 - val_loss: 0.1913\n",
            "Epoch 2/20\n",
            "1500/1500 [==============================] - 5s 3ms/step - loss: 0.1914 - val_loss: 0.1820\n",
            "Epoch 3/20\n",
            "1500/1500 [==============================] - 6s 4ms/step - loss: 0.1690 - val_loss: 0.1608\n",
            "Epoch 4/20\n",
            "1500/1500 [==============================] - 5s 3ms/step - loss: 0.1472 - val_loss: 0.1676\n",
            "Epoch 5/20\n",
            "1500/1500 [==============================] - 6s 4ms/step - loss: 0.1429 - val_loss: 0.1813\n",
            "Epoch 6/20\n",
            "1500/1500 [==============================] - 5s 3ms/step - loss: 0.1319 - val_loss: 0.1513\n",
            "Epoch 7/20\n",
            "1500/1500 [==============================] - 5s 3ms/step - loss: 0.1171 - val_loss: 0.1527\n",
            "Epoch 8/20\n",
            "1500/1500 [==============================] - 6s 4ms/step - loss: 0.1214 - val_loss: 0.1690\n",
            "Epoch 9/20\n",
            "1500/1500 [==============================] - 5s 3ms/step - loss: 0.1129 - val_loss: 0.1995\n",
            "Epoch 10/20\n",
            "1500/1500 [==============================] - 6s 4ms/step - loss: 0.1069 - val_loss: 0.1711\n",
            "Epoch 11/20\n",
            "1500/1500 [==============================] - 5s 3ms/step - loss: 0.1026 - val_loss: 0.1638\n",
            "Epoch 12/20\n",
            "1500/1500 [==============================] - 6s 4ms/step - loss: 0.1032 - val_loss: 0.2017\n",
            "Epoch 13/20\n",
            "1500/1500 [==============================] - 5s 3ms/step - loss: 0.0931 - val_loss: 0.2072\n",
            "Epoch 14/20\n",
            "1500/1500 [==============================] - 5s 3ms/step - loss: 0.0946 - val_loss: 0.1922\n",
            "Epoch 15/20\n",
            "1500/1500 [==============================] - 6s 4ms/step - loss: 0.0973 - val_loss: 0.1923\n",
            "Epoch 16/20\n",
            "1500/1500 [==============================] - 5s 3ms/step - loss: 0.0945 - val_loss: 0.2041\n",
            "Epoch 17/20\n",
            "1500/1500 [==============================] - 7s 5ms/step - loss: 0.0912 - val_loss: 0.1520\n",
            "Epoch 18/20\n",
            "1500/1500 [==============================] - 5s 4ms/step - loss: 0.0868 - val_loss: 0.1874\n",
            "Epoch 19/20\n",
            "1500/1500 [==============================] - 6s 4ms/step - loss: 0.0821 - val_loss: 0.1954\n",
            "Epoch 20/20\n",
            "1500/1500 [==============================] - 5s 4ms/step - loss: 0.0945 - val_loss: 0.2256\n"
          ]
        }
      ]
    },
    {
      "cell_type": "code",
      "source": [
        "dl_history_plot(hist)"
      ],
      "metadata": {
        "id": "I9Q4JMBj-GDe",
        "colab": {
          "base_uri": "https://localhost:8080/",
          "height": 542
        },
        "outputId": "93eb3cc0-a30a-4cfd-b5ef-e222d59fc8ff"
      },
      "execution_count": 82,
      "outputs": [
        {
          "output_type": "display_data",
          "data": {
            "text/plain": [
              "<Figure size 1000x600 with 1 Axes>"
            ],
            "image/png": "[encoded data removed]"
          },
          "metadata": {}
        }
      ]
    },
    {
      "cell_type": "code",
      "source": [
        "pred = model.predict(x_val)\n",
        "pred = np.argmax(pred, axis=1)"
      ],
      "metadata": {
        "id": "JYNw-ph_-GAb",
        "colab": {
          "base_uri": "https://localhost:8080/"
        },
        "outputId": "82141bf8-36a4-42a2-a675-e7111a7cc8b9"
      },
      "execution_count": 83,
      "outputs": [
        {
          "output_type": "stream",
          "name": "stdout",
          "text": [
            "313/313 [==============================] - 1s 2ms/step\n"
          ]
        }
      ]
    },
    {
      "cell_type": "code",
      "source": [
        "print(confusion_matrix(y_val, pred_1))\n",
        "print(classification_report(y_val, pred_1))"
      ],
      "metadata": {
        "colab": {
          "base_uri": "https://localhost:8080/"
        },
        "id": "3Dokt00XmYkp",
        "outputId": "dbe55fd0-f2f7-47a3-c9f2-35f9cba9ba6e"
      },
      "execution_count": 84,
      "outputs": [
        {
          "output_type": "stream",
          "name": "stdout",
          "text": [
            "[[ 965    0    0    2    1    5    4    2    1    0]\n",
            " [   0 1110    3    2    0    1    3    2   14    0]\n",
            " [   7   10  919   16    8    4   12   11   42    3]\n",
            " [   4    0   15  919    2   24    2   11   26    7]\n",
            " [   1    1    7    2  928    0    6    6   10   21]\n",
            " [   9    2    5   29    9  787   11    9   27    4]\n",
            " [  14    3    9    1    8   16  904    1    2    0]\n",
            " [   2    7   18    7    7    0    0  959    3   25]\n",
            " [  10    6    6   20    9   22    5   12  877    7]\n",
            " [  11    7    1   10   34    5    0   35    8  898]]\n",
            "              precision    recall  f1-score   support\n",
            "\n",
            "           0       0.94      0.98      0.96       980\n",
            "           1       0.97      0.98      0.97      1135\n",
            "           2       0.93      0.89      0.91      1032\n",
            "           3       0.91      0.91      0.91      1010\n",
            "           4       0.92      0.95      0.93       982\n",
            "           5       0.91      0.88      0.90       892\n",
            "           6       0.95      0.94      0.95       958\n",
            "           7       0.92      0.93      0.92      1028\n",
            "           8       0.87      0.90      0.88       974\n",
            "           9       0.93      0.89      0.91      1009\n",
            "\n",
            "    accuracy                           0.93     10000\n",
            "   macro avg       0.93      0.93      0.93     10000\n",
            "weighted avg       0.93      0.93      0.93     10000\n",
            "\n"
          ]
        }
      ]
    },
    {
      "cell_type": "markdown",
      "source": [
        "### (2) 모델2"
      ],
      "metadata": {
        "id": "YC5zRh2BxHgb"
      }
    },
    {
      "cell_type": "code",
      "source": [
        "n"
      ],
      "metadata": {
        "colab": {
          "base_uri": "https://localhost:8080/"
        },
        "id": "7gRXNBkXnCZy",
        "outputId": "5f7624ed-9bc0-4ebe-e75a-911131af84d9"
      },
      "execution_count": 49,
      "outputs": [
        {
          "output_type": "execute_result",
          "data": {
            "text/plain": [
              "784"
            ]
          },
          "metadata": {},
          "execution_count": 49
        }
      ]
    },
    {
      "cell_type": "code",
      "source": [
        "clear_session()\n",
        "model = Sequential([Dense(32, input_shape=(n, ), activation='relu'),\n",
        "                     Dense(16, activation='relu'),\n",
        "                     Dense(10, activation='softmax')])\n",
        "model.summary()"
      ],
      "metadata": {
        "id": "QfZorGbliHH3",
        "colab": {
          "base_uri": "https://localhost:8080/"
        },
        "outputId": "cf0a67c2-0165-4d5f-8cd9-d2a070d7c924"
      },
      "execution_count": 75,
      "outputs": [
        {
          "output_type": "stream",
          "name": "stdout",
          "text": [
            "Model: \"sequential\"\n",
            "_________________________________________________________________\n",
            " Layer (type)                Output Shape              Param #   \n",
            "=================================================================\n",
            " dense (Dense)               (None, 32)                25120     \n",
            "                                                                 \n",
            " dense_1 (Dense)             (None, 16)                528       \n",
            "                                                                 \n",
            " dense_2 (Dense)             (None, 10)                170       \n",
            "                                                                 \n",
            "=================================================================\n",
            "Total params: 25818 (100.85 KB)\n",
            "Trainable params: 25818 (100.85 KB)\n",
            "Non-trainable params: 0 (0.00 Byte)\n",
            "_________________________________________________________________\n"
          ]
        }
      ]
    },
    {
      "cell_type": "code",
      "source": [
        "model.compile(optimizer=Adam(0.01), loss='sparse_categorical_crossentropy')\n",
        "hist = model.fit(x_train, y_train, epochs=10, validation_split=.2, verbose = 0).history"
      ],
      "metadata": {
        "id": "eMA99e-FiHH4"
      },
      "execution_count": 76,
      "outputs": []
    },
    {
      "cell_type": "code",
      "source": [
        "dl_history_plot(hist)"
      ],
      "metadata": {
        "id": "oRRniqxfiHH4",
        "colab": {
          "base_uri": "https://localhost:8080/",
          "height": 543
        },
        "outputId": "a23a147f-268b-4f56-db8a-68d32a91049f"
      },
      "execution_count": 77,
      "outputs": [
        {
          "output_type": "display_data",
          "data": {
            "text/plain": [
              "<Figure size 1000x600 with 1 Axes>"
            ],
            "image/png": "[encoded data removed]"
          },
          "metadata": {}
        }
      ]
    },
    {
      "cell_type": "code",
      "source": [
        "pred = model.predict(x_val)\n",
        "pred = np.argmax(pred, axis=1)"
      ],
      "metadata": {
        "id": "Zrg0v299iHH4",
        "colab": {
          "base_uri": "https://localhost:8080/"
        },
        "outputId": "ed05df68-9384-487f-97c7-308b433c3b8f"
      },
      "execution_count": 78,
      "outputs": [
        {
          "output_type": "stream",
          "name": "stdout",
          "text": [
            "313/313 [==============================] - 1s 4ms/step\n"
          ]
        }
      ]
    },
    {
      "cell_type": "code",
      "source": [
        "print(confusion_matrix(y_val, pred_1))\n",
        "print(classification_report(y_val, pred_1))"
      ],
      "metadata": {
        "id": "aufSpuJ_iHH4",
        "colab": {
          "base_uri": "https://localhost:8080/"
        },
        "outputId": "414ee4c4-7a21-42a3-bad2-6d806ced6d60"
      },
      "execution_count": 79,
      "outputs": [
        {
          "output_type": "stream",
          "name": "stdout",
          "text": [
            "[[ 965    0    0    2    1    5    4    2    1    0]\n",
            " [   0 1110    3    2    0    1    3    2   14    0]\n",
            " [   7   10  919   16    8    4   12   11   42    3]\n",
            " [   4    0   15  919    2   24    2   11   26    7]\n",
            " [   1    1    7    2  928    0    6    6   10   21]\n",
            " [   9    2    5   29    9  787   11    9   27    4]\n",
            " [  14    3    9    1    8   16  904    1    2    0]\n",
            " [   2    7   18    7    7    0    0  959    3   25]\n",
            " [  10    6    6   20    9   22    5   12  877    7]\n",
            " [  11    7    1   10   34    5    0   35    8  898]]\n",
            "              precision    recall  f1-score   support\n",
            "\n",
            "           0       0.94      0.98      0.96       980\n",
            "           1       0.97      0.98      0.97      1135\n",
            "           2       0.93      0.89      0.91      1032\n",
            "           3       0.91      0.91      0.91      1010\n",
            "           4       0.92      0.95      0.93       982\n",
            "           5       0.91      0.88      0.90       892\n",
            "           6       0.95      0.94      0.95       958\n",
            "           7       0.92      0.93      0.92      1028\n",
            "           8       0.87      0.90      0.88       974\n",
            "           9       0.93      0.89      0.91      1009\n",
            "\n",
            "    accuracy                           0.93     10000\n",
            "   macro avg       0.93      0.93      0.93     10000\n",
            "weighted avg       0.93      0.93      0.93     10000\n",
            "\n"
          ]
        }
      ]
    },
    {
      "cell_type": "code",
      "source": [],
      "metadata": {
        "id": "BfPLAK9LqfKF"
      },
      "execution_count": null,
      "outputs": []
    }
  ]
}