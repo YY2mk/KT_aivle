{
  "nbformat": 4,
  "nbformat_minor": 0,
  "metadata": {
    "colab": {
      "provenance": [],
      "include_colab_link": true
    },
    "kernelspec": {
      "name": "python3",
      "display_name": "Python 3"
    }
  },
  "cells": [
    {
      "cell_type": "markdown",
      "metadata": {
        "id": "view-in-github",
        "colab_type": "text"
      },
      "source": [
        "<a href=\"https://colab.research.google.com/github/YY2mk/KT_aivle/blob/master/DeepLearning/DX_%EB%94%A5%EB%9F%AC%EB%8B%9D%20%EA%B8%B0%EC%B4%88_2%EC%9D%BC%EC%B0%A8%20%EC%8B%A4%EC%8A%B5%EC%9E%90%EB%A3%8C/05%EA%B3%BC_2_%EC%9D%B4%EC%A7%84%EB%B6%84%EB%A5%98_%EC%8B%A4%EC%8A%B5.ipynb\" target=\"_parent\"><img src=\"https://colab.research.google.com/assets/colab-badge.svg\" alt=\"Open In Colab\"/></a>"
      ]
    },
    {
      "cell_type": "markdown",
      "metadata": {
        "id": "mTt7qGUTCcFs"
      },
      "source": [
        "# 이진분류 실습 : 이직 예측"
      ]
    },
    {
      "cell_type": "markdown",
      "source": [
        "* 회사 인사팀에서는 여러분들에게 직원의 이직여부과 관련해서 분석을 요청하였습니다.\n",
        "* 최근 이직율이 증가하는 것에 대해 우려를 갖고 있기에, 이직여부에 영향을 주는 요인에 대해 분석하여, 이직할 것으로 보이는 직원들에 대해 회사를 떠나지 않도록 인사 프로그램을 준비하려고 합니다.\n",
        "* 어떤 직원이 이직할지 예측해 봅시다."
      ],
      "metadata": {
        "id": "t42CZ_o2iHvT"
      }
    },
    {
      "cell_type": "markdown",
      "source": [
        "![](https://adoptostaging.blob.core.windows.net/media/employee-attrition-reasons-9LIqMv.jpg)"
      ],
      "metadata": {
        "id": "0wuYJKZHjA3d"
      }
    },
    {
      "cell_type": "markdown",
      "metadata": {
        "id": "AHmt88Q5EVsj"
      },
      "source": [
        "## 1.환경준비"
      ]
    },
    {
      "cell_type": "markdown",
      "source": [
        "### (1) 라이브러리 로딩"
      ],
      "metadata": {
        "id": "KnzVh2LmkLDU"
      }
    },
    {
      "cell_type": "code",
      "metadata": {
        "id": "3rsQerEaELwI"
      },
      "source": [
        "import pandas as pd\n",
        "import numpy as np\n",
        "import matplotlib.pyplot as plt\n",
        "import seaborn as sns\n",
        "\n",
        "from sklearn.model_selection import train_test_split\n",
        "from sklearn.metrics import *\n",
        "from sklearn.preprocessing import MinMaxScaler\n",
        "\n",
        "from keras.models import Sequential\n",
        "from keras.layers import Dense\n",
        "from keras.backend import clear_session\n",
        "from keras.optimizers import Adam"
      ],
      "execution_count": 1,
      "outputs": []
    },
    {
      "cell_type": "markdown",
      "source": [
        "* 함수 만들기"
      ],
      "metadata": {
        "id": "_h70-6MP7wtO"
      }
    },
    {
      "cell_type": "code",
      "source": [
        "# 학습곡선 함수\n",
        "def dl_history_plot(history):\n",
        "    plt.figure(figsize=(10,6))\n",
        "    plt.plot(history['loss'], label='train_err', marker = '.')\n",
        "    plt.plot(history['val_loss'], label='val_err', marker = '.')\n",
        "\n",
        "    plt.ylabel('Loss')\n",
        "    plt.xlabel('Epoch')\n",
        "    plt.legend()\n",
        "    plt.grid()\n",
        "    plt.show()"
      ],
      "metadata": {
        "id": "JWswaopv7yBI"
      },
      "execution_count": 2,
      "outputs": []
    },
    {
      "cell_type": "markdown",
      "source": [
        "### (2) 데이터 로딩"
      ],
      "metadata": {
        "id": "5Qh5KYWokO_N"
      }
    },
    {
      "cell_type": "code",
      "metadata": {
        "id": "Bw5yZwT0MJKx",
        "colab": {
          "base_uri": "https://localhost:8080/",
          "height": 551
        },
        "outputId": "6b73835a-7bdd-44a2-98a3-b0bccf2c7ddf"
      },
      "source": [
        "# data data\n",
        "path = \"https://raw.githubusercontent.com/DA4BAM/dataset/master/Attrition_train_validation.CSV\"\n",
        "data = pd.read_csv(path)\n",
        "data['Attrition'] = np.where(data['Attrition']=='Yes', 1, 0)\n",
        "data.head(10)"
      ],
      "execution_count": 3,
      "outputs": [
        {
          "output_type": "execute_result",
          "data": {
            "text/plain": [
              "   Attrition  Age     BusinessTravel              Department  \\\n",
              "0          0   33      Travel_Rarely  Research & Development   \n",
              "1          0   35  Travel_Frequently  Research & Development   \n",
              "2          0   42      Travel_Rarely  Research & Development   \n",
              "3          0   46      Travel_Rarely                   Sales   \n",
              "4          0   39  Travel_Frequently                   Sales   \n",
              "5          1   22  Travel_Frequently  Research & Development   \n",
              "6          0   24      Travel_Rarely  Research & Development   \n",
              "7          0   34      Travel_Rarely  Research & Development   \n",
              "8          0   30      Travel_Rarely  Research & Development   \n",
              "9          0   26      Travel_Rarely  Research & Development   \n",
              "\n",
              "   DistanceFromHome  Education    EducationField  EmployeeNumber  \\\n",
              "0                 7          3           Medical             817   \n",
              "1                18          2     Life Sciences            1412   \n",
              "2                 6          3           Medical            1911   \n",
              "3                 2          3         Marketing            1204   \n",
              "4                20          3     Life Sciences            1812   \n",
              "5                 4          1  Technical Degree             593   \n",
              "6                21          2  Technical Degree            1551   \n",
              "7                 8          3           Medical            2068   \n",
              "8                20          3             Other            1084   \n",
              "9                 6          3     Life Sciences             686   \n",
              "\n",
              "   EnvironmentSatisfaction  Gender  ...  OverTime PercentSalaryHike  \\\n",
              "0                        3    Male  ...        No                11   \n",
              "1                        3    Male  ...        No                11   \n",
              "2                        3    Male  ...        No                13   \n",
              "3                        3  Female  ...        No                23   \n",
              "4                        3    Male  ...        No                18   \n",
              "5                        3    Male  ...        No                16   \n",
              "6                        3    Male  ...        No                14   \n",
              "7                        2    Male  ...        No                12   \n",
              "8                        3    Male  ...        No                15   \n",
              "9                        3  Female  ...       Yes                13   \n",
              "\n",
              "   RelationshipSatisfaction StockOptionLevel  TotalWorkingYears  \\\n",
              "0                         4                0                 14   \n",
              "1                         3                0                 10   \n",
              "2                         2                1                 18   \n",
              "3                         1                0                 28   \n",
              "4                         4                1                  7   \n",
              "5                         3                0                  4   \n",
              "6                         2                3                  2   \n",
              "7                         1                0                  6   \n",
              "8                         3                1                  7   \n",
              "9                         3                1                  3   \n",
              "\n",
              "   TrainingTimesLastYear WorkLifeBalance  YearsAtCompany  YearsInCurrentRole  \\\n",
              "0                      3               4              13                   9   \n",
              "1                      2               3               2                   2   \n",
              "2                      3               4              13                   7   \n",
              "3                      2               3              26                  15   \n",
              "4                      6               3               2                   1   \n",
              "5                      3               3               2                   2   \n",
              "6                      3               3               1                   1   \n",
              "7                      3               4               4                   3   \n",
              "8                      1               2               6                   2   \n",
              "9                      2               3               3                   2   \n",
              "\n",
              "   YearsWithCurrManager  \n",
              "0                     7  \n",
              "1                     2  \n",
              "2                     7  \n",
              "3                     9  \n",
              "4                     2  \n",
              "5                     2  \n",
              "6                     0  \n",
              "7                     2  \n",
              "8                     2  \n",
              "9                     2  \n",
              "\n",
              "[10 rows x 26 columns]"
            ],
            "text/html": [
              "\n",
              "  <div id=\"df-d2974cdf-94fe-4c39-a746-cef086c775ab\" class=\"colab-df-container\">\n",
              "    <div>\n",
              "<style scoped>\n",
              "    .dataframe tbody tr th:only-of-type {\n",
              "        vertical-align: middle;\n",
              "    }\n",
              "\n",
              "    .dataframe tbody tr th {\n",
              "        vertical-align: top;\n",
              "    }\n",
              "\n",
              "    .dataframe thead th {\n",
              "        text-align: right;\n",
              "    }\n",
              "</style>\n",
              "<table border=\"1\" class=\"dataframe\">\n",
              "  <thead>\n",
              "    <tr style=\"text-align: right;\">\n",
              "      <th></th>\n",
              "      <th>Attrition</th>\n",
              "      <th>Age</th>\n",
              "      <th>BusinessTravel</th>\n",
              "      <th>Department</th>\n",
              "      <th>DistanceFromHome</th>\n",
              "      <th>Education</th>\n",
              "      <th>EducationField</th>\n",
              "      <th>EmployeeNumber</th>\n",
              "      <th>EnvironmentSatisfaction</th>\n",
              "      <th>Gender</th>\n",
              "      <th>...</th>\n",
              "      <th>OverTime</th>\n",
              "      <th>PercentSalaryHike</th>\n",
              "      <th>RelationshipSatisfaction</th>\n",
              "      <th>StockOptionLevel</th>\n",
              "      <th>TotalWorkingYears</th>\n",
              "      <th>TrainingTimesLastYear</th>\n",
              "      <th>WorkLifeBalance</th>\n",
              "      <th>YearsAtCompany</th>\n",
              "      <th>YearsInCurrentRole</th>\n",
              "      <th>YearsWithCurrManager</th>\n",
              "    </tr>\n",
              "  </thead>\n",
              "  <tbody>\n",
              "    <tr>\n",
              "      <th>0</th>\n",
              "      <td>0</td>\n",
              "      <td>33</td>\n",
              "      <td>Travel_Rarely</td>\n",
              "      <td>Research &amp; Development</td>\n",
              "      <td>7</td>\n",
              "      <td>3</td>\n",
              "      <td>Medical</td>\n",
              "      <td>817</td>\n",
              "      <td>3</td>\n",
              "      <td>Male</td>\n",
              "      <td>...</td>\n",
              "      <td>No</td>\n",
              "      <td>11</td>\n",
              "      <td>4</td>\n",
              "      <td>0</td>\n",
              "      <td>14</td>\n",
              "      <td>3</td>\n",
              "      <td>4</td>\n",
              "      <td>13</td>\n",
              "      <td>9</td>\n",
              "      <td>7</td>\n",
              "    </tr>\n",
              "    <tr>\n",
              "      <th>1</th>\n",
              "      <td>0</td>\n",
              "      <td>35</td>\n",
              "      <td>Travel_Frequently</td>\n",
              "      <td>Research &amp; Development</td>\n",
              "      <td>18</td>\n",
              "      <td>2</td>\n",
              "      <td>Life Sciences</td>\n",
              "      <td>1412</td>\n",
              "      <td>3</td>\n",
              "      <td>Male</td>\n",
              "      <td>...</td>\n",
              "      <td>No</td>\n",
              "      <td>11</td>\n",
              "      <td>3</td>\n",
              "      <td>0</td>\n",
              "      <td>10</td>\n",
              "      <td>2</td>\n",
              "      <td>3</td>\n",
              "      <td>2</td>\n",
              "      <td>2</td>\n",
              "      <td>2</td>\n",
              "    </tr>\n",
              "    <tr>\n",
              "      <th>2</th>\n",
              "      <td>0</td>\n",
              "      <td>42</td>\n",
              "      <td>Travel_Rarely</td>\n",
              "      <td>Research &amp; Development</td>\n",
              "      <td>6</td>\n",
              "      <td>3</td>\n",
              "      <td>Medical</td>\n",
              "      <td>1911</td>\n",
              "      <td>3</td>\n",
              "      <td>Male</td>\n",
              "      <td>...</td>\n",
              "      <td>No</td>\n",
              "      <td>13</td>\n",
              "      <td>2</td>\n",
              "      <td>1</td>\n",
              "      <td>18</td>\n",
              "      <td>3</td>\n",
              "      <td>4</td>\n",
              "      <td>13</td>\n",
              "      <td>7</td>\n",
              "      <td>7</td>\n",
              "    </tr>\n",
              "    <tr>\n",
              "      <th>3</th>\n",
              "      <td>0</td>\n",
              "      <td>46</td>\n",
              "      <td>Travel_Rarely</td>\n",
              "      <td>Sales</td>\n",
              "      <td>2</td>\n",
              "      <td>3</td>\n",
              "      <td>Marketing</td>\n",
              "      <td>1204</td>\n",
              "      <td>3</td>\n",
              "      <td>Female</td>\n",
              "      <td>...</td>\n",
              "      <td>No</td>\n",
              "      <td>23</td>\n",
              "      <td>1</td>\n",
              "      <td>0</td>\n",
              "      <td>28</td>\n",
              "      <td>2</td>\n",
              "      <td>3</td>\n",
              "      <td>26</td>\n",
              "      <td>15</td>\n",
              "      <td>9</td>\n",
              "    </tr>\n",
              "    <tr>\n",
              "      <th>4</th>\n",
              "      <td>0</td>\n",
              "      <td>39</td>\n",
              "      <td>Travel_Frequently</td>\n",
              "      <td>Sales</td>\n",
              "      <td>20</td>\n",
              "      <td>3</td>\n",
              "      <td>Life Sciences</td>\n",
              "      <td>1812</td>\n",
              "      <td>3</td>\n",
              "      <td>Male</td>\n",
              "      <td>...</td>\n",
              "      <td>No</td>\n",
              "      <td>18</td>\n",
              "      <td>4</td>\n",
              "      <td>1</td>\n",
              "      <td>7</td>\n",
              "      <td>6</td>\n",
              "      <td>3</td>\n",
              "      <td>2</td>\n",
              "      <td>1</td>\n",
              "      <td>2</td>\n",
              "    </tr>\n",
              "    <tr>\n",
              "      <th>5</th>\n",
              "      <td>1</td>\n",
              "      <td>22</td>\n",
              "      <td>Travel_Frequently</td>\n",
              "      <td>Research &amp; Development</td>\n",
              "      <td>4</td>\n",
              "      <td>1</td>\n",
              "      <td>Technical Degree</td>\n",
              "      <td>593</td>\n",
              "      <td>3</td>\n",
              "      <td>Male</td>\n",
              "      <td>...</td>\n",
              "      <td>No</td>\n",
              "      <td>16</td>\n",
              "      <td>3</td>\n",
              "      <td>0</td>\n",
              "      <td>4</td>\n",
              "      <td>3</td>\n",
              "      <td>3</td>\n",
              "      <td>2</td>\n",
              "      <td>2</td>\n",
              "      <td>2</td>\n",
              "    </tr>\n",
              "    <tr>\n",
              "      <th>6</th>\n",
              "      <td>0</td>\n",
              "      <td>24</td>\n",
              "      <td>Travel_Rarely</td>\n",
              "      <td>Research &amp; Development</td>\n",
              "      <td>21</td>\n",
              "      <td>2</td>\n",
              "      <td>Technical Degree</td>\n",
              "      <td>1551</td>\n",
              "      <td>3</td>\n",
              "      <td>Male</td>\n",
              "      <td>...</td>\n",
              "      <td>No</td>\n",
              "      <td>14</td>\n",
              "      <td>2</td>\n",
              "      <td>3</td>\n",
              "      <td>2</td>\n",
              "      <td>3</td>\n",
              "      <td>3</td>\n",
              "      <td>1</td>\n",
              "      <td>1</td>\n",
              "      <td>0</td>\n",
              "    </tr>\n",
              "    <tr>\n",
              "      <th>7</th>\n",
              "      <td>0</td>\n",
              "      <td>34</td>\n",
              "      <td>Travel_Rarely</td>\n",
              "      <td>Research &amp; Development</td>\n",
              "      <td>8</td>\n",
              "      <td>3</td>\n",
              "      <td>Medical</td>\n",
              "      <td>2068</td>\n",
              "      <td>2</td>\n",
              "      <td>Male</td>\n",
              "      <td>...</td>\n",
              "      <td>No</td>\n",
              "      <td>12</td>\n",
              "      <td>1</td>\n",
              "      <td>0</td>\n",
              "      <td>6</td>\n",
              "      <td>3</td>\n",
              "      <td>4</td>\n",
              "      <td>4</td>\n",
              "      <td>3</td>\n",
              "      <td>2</td>\n",
              "    </tr>\n",
              "    <tr>\n",
              "      <th>8</th>\n",
              "      <td>0</td>\n",
              "      <td>30</td>\n",
              "      <td>Travel_Rarely</td>\n",
              "      <td>Research &amp; Development</td>\n",
              "      <td>20</td>\n",
              "      <td>3</td>\n",
              "      <td>Other</td>\n",
              "      <td>1084</td>\n",
              "      <td>3</td>\n",
              "      <td>Male</td>\n",
              "      <td>...</td>\n",
              "      <td>No</td>\n",
              "      <td>15</td>\n",
              "      <td>3</td>\n",
              "      <td>1</td>\n",
              "      <td>7</td>\n",
              "      <td>1</td>\n",
              "      <td>2</td>\n",
              "      <td>6</td>\n",
              "      <td>2</td>\n",
              "      <td>2</td>\n",
              "    </tr>\n",
              "    <tr>\n",
              "      <th>9</th>\n",
              "      <td>0</td>\n",
              "      <td>26</td>\n",
              "      <td>Travel_Rarely</td>\n",
              "      <td>Research &amp; Development</td>\n",
              "      <td>6</td>\n",
              "      <td>3</td>\n",
              "      <td>Life Sciences</td>\n",
              "      <td>686</td>\n",
              "      <td>3</td>\n",
              "      <td>Female</td>\n",
              "      <td>...</td>\n",
              "      <td>Yes</td>\n",
              "      <td>13</td>\n",
              "      <td>3</td>\n",
              "      <td>1</td>\n",
              "      <td>3</td>\n",
              "      <td>2</td>\n",
              "      <td>3</td>\n",
              "      <td>3</td>\n",
              "      <td>2</td>\n",
              "      <td>2</td>\n",
              "    </tr>\n",
              "  </tbody>\n",
              "</table>\n",
              "<p>10 rows × 26 columns</p>\n",
              "</div>\n",
              "    <div class=\"colab-df-buttons\">\n",
              "\n",
              "  <div class=\"colab-df-container\">\n",
              "    <button class=\"colab-df-convert\" onclick=\"convertToInteractive('df-d2974cdf-94fe-4c39-a746-cef086c775ab')\"\n",
              "            title=\"Convert this dataframe to an interactive table.\"\n",
              "            style=\"display:none;\">\n",
              "\n",
              "  <svg xmlns=\"http://www.w3.org/2000/svg\" height=\"24px\" viewBox=\"0 -960 960 960\">\n",
              "    <path d=\"M120-120v-720h720v720H120Zm60-500h600v-160H180v160Zm220 220h160v-160H400v160Zm0 220h160v-160H400v160ZM180-400h160v-160H180v160Zm440 0h160v-160H620v160ZM180-180h160v-160H180v160Zm440 0h160v-160H620v160Z\"/>\n",
              "  </svg>\n",
              "    </button>\n",
              "\n",
              "  <style>\n",
              "    .colab-df-container {\n",
              "      display:flex;\n",
              "      gap: 12px;\n",
              "    }\n",
              "\n",
              "    .colab-df-convert {\n",
              "      background-color: #E8F0FE;\n",
              "      border: none;\n",
              "      border-radius: 50%;\n",
              "      cursor: pointer;\n",
              "      display: none;\n",
              "      fill: #1967D2;\n",
              "      height: 32px;\n",
              "      padding: 0 0 0 0;\n",
              "      width: 32px;\n",
              "    }\n",
              "\n",
              "    .colab-df-convert:hover {\n",
              "      background-color: #E2EBFA;\n",
              "      box-shadow: 0px 1px 2px rgba(60, 64, 67, 0.3), 0px 1px 3px 1px rgba(60, 64, 67, 0.15);\n",
              "      fill: #174EA6;\n",
              "    }\n",
              "\n",
              "    .colab-df-buttons div {\n",
              "      margin-bottom: 4px;\n",
              "    }\n",
              "\n",
              "    [theme=dark] .colab-df-convert {\n",
              "      background-color: #3B4455;\n",
              "      fill: #D2E3FC;\n",
              "    }\n",
              "\n",
              "    [theme=dark] .colab-df-convert:hover {\n",
              "      background-color: #434B5C;\n",
              "      box-shadow: 0px 1px 3px 1px rgba(0, 0, 0, 0.15);\n",
              "      filter: drop-shadow(0px 1px 2px rgba(0, 0, 0, 0.3));\n",
              "      fill: #FFFFFF;\n",
              "    }\n",
              "  </style>\n",
              "\n",
              "    <script>\n",
              "      const buttonEl =\n",
              "        document.querySelector('#df-d2974cdf-94fe-4c39-a746-cef086c775ab button.colab-df-convert');\n",
              "      buttonEl.style.display =\n",
              "        google.colab.kernel.accessAllowed ? 'block' : 'none';\n",
              "\n",
              "      async function convertToInteractive(key) {\n",
              "        const element = document.querySelector('#df-d2974cdf-94fe-4c39-a746-cef086c775ab');\n",
              "        const dataTable =\n",
              "          await google.colab.kernel.invokeFunction('convertToInteractive',\n",
              "                                                    [key], {});\n",
              "        if (!dataTable) return;\n",
              "\n",
              "        const docLinkHtml = 'Like what you see? Visit the ' +\n",
              "          '<a target=\"_blank\" href=https://colab.research.google.com/notebooks/data_table.ipynb>data table notebook</a>'\n",
              "          + ' to learn more about interactive tables.';\n",
              "        element.innerHTML = '';\n",
              "        dataTable['output_type'] = 'display_data';\n",
              "        await google.colab.output.renderOutput(dataTable, element);\n",
              "        const docLink = document.createElement('div');\n",
              "        docLink.innerHTML = docLinkHtml;\n",
              "        element.appendChild(docLink);\n",
              "      }\n",
              "    </script>\n",
              "  </div>\n",
              "\n",
              "\n",
              "<div id=\"df-99255f54-3952-4506-8996-7bca19eb9d07\">\n",
              "  <button class=\"colab-df-quickchart\" onclick=\"quickchart('df-99255f54-3952-4506-8996-7bca19eb9d07')\"\n",
              "            title=\"Suggest charts\"\n",
              "            style=\"display:none;\">\n",
              "\n",
              "<svg xmlns=\"http://www.w3.org/2000/svg\" height=\"24px\"viewBox=\"0 0 24 24\"\n",
              "     width=\"24px\">\n",
              "    <g>\n",
              "        <path d=\"M19 3H5c-1.1 0-2 .9-2 2v14c0 1.1.9 2 2 2h14c1.1 0 2-.9 2-2V5c0-1.1-.9-2-2-2zM9 17H7v-7h2v7zm4 0h-2V7h2v10zm4 0h-2v-4h2v4z\"/>\n",
              "    </g>\n",
              "</svg>\n",
              "  </button>\n",
              "\n",
              "<style>\n",
              "  .colab-df-quickchart {\n",
              "      --bg-color: #E8F0FE;\n",
              "      --fill-color: #1967D2;\n",
              "      --hover-bg-color: #E2EBFA;\n",
              "      --hover-fill-color: #174EA6;\n",
              "      --disabled-fill-color: #AAA;\n",
              "      --disabled-bg-color: #DDD;\n",
              "  }\n",
              "\n",
              "  [theme=dark] .colab-df-quickchart {\n",
              "      --bg-color: #3B4455;\n",
              "      --fill-color: #D2E3FC;\n",
              "      --hover-bg-color: #434B5C;\n",
              "      --hover-fill-color: #FFFFFF;\n",
              "      --disabled-bg-color: #3B4455;\n",
              "      --disabled-fill-color: #666;\n",
              "  }\n",
              "\n",
              "  .colab-df-quickchart {\n",
              "    background-color: var(--bg-color);\n",
              "    border: none;\n",
              "    border-radius: 50%;\n",
              "    cursor: pointer;\n",
              "    display: none;\n",
              "    fill: var(--fill-color);\n",
              "    height: 32px;\n",
              "    padding: 0;\n",
              "    width: 32px;\n",
              "  }\n",
              "\n",
              "  .colab-df-quickchart:hover {\n",
              "    background-color: var(--hover-bg-color);\n",
              "    box-shadow: 0 1px 2px rgba(60, 64, 67, 0.3), 0 1px 3px 1px rgba(60, 64, 67, 0.15);\n",
              "    fill: var(--button-hover-fill-color);\n",
              "  }\n",
              "\n",
              "  .colab-df-quickchart-complete:disabled,\n",
              "  .colab-df-quickchart-complete:disabled:hover {\n",
              "    background-color: var(--disabled-bg-color);\n",
              "    fill: var(--disabled-fill-color);\n",
              "    box-shadow: none;\n",
              "  }\n",
              "\n",
              "  .colab-df-spinner {\n",
              "    border: 2px solid var(--fill-color);\n",
              "    border-color: transparent;\n",
              "    border-bottom-color: var(--fill-color);\n",
              "    animation:\n",
              "      spin 1s steps(1) infinite;\n",
              "  }\n",
              "\n",
              "  @keyframes spin {\n",
              "    0% {\n",
              "      border-color: transparent;\n",
              "      border-bottom-color: var(--fill-color);\n",
              "      border-left-color: var(--fill-color);\n",
              "    }\n",
              "    20% {\n",
              "      border-color: transparent;\n",
              "      border-left-color: var(--fill-color);\n",
              "      border-top-color: var(--fill-color);\n",
              "    }\n",
              "    30% {\n",
              "      border-color: transparent;\n",
              "      border-left-color: var(--fill-color);\n",
              "      border-top-color: var(--fill-color);\n",
              "      border-right-color: var(--fill-color);\n",
              "    }\n",
              "    40% {\n",
              "      border-color: transparent;\n",
              "      border-right-color: var(--fill-color);\n",
              "      border-top-color: var(--fill-color);\n",
              "    }\n",
              "    60% {\n",
              "      border-color: transparent;\n",
              "      border-right-color: var(--fill-color);\n",
              "    }\n",
              "    80% {\n",
              "      border-color: transparent;\n",
              "      border-right-color: var(--fill-color);\n",
              "      border-bottom-color: var(--fill-color);\n",
              "    }\n",
              "    90% {\n",
              "      border-color: transparent;\n",
              "      border-bottom-color: var(--fill-color);\n",
              "    }\n",
              "  }\n",
              "</style>\n",
              "\n",
              "  <script>\n",
              "    async function quickchart(key) {\n",
              "      const quickchartButtonEl =\n",
              "        document.querySelector('#' + key + ' button');\n",
              "      quickchartButtonEl.disabled = true;  // To prevent multiple clicks.\n",
              "      quickchartButtonEl.classList.add('colab-df-spinner');\n",
              "      try {\n",
              "        const charts = await google.colab.kernel.invokeFunction(\n",
              "            'suggestCharts', [key], {});\n",
              "      } catch (error) {\n",
              "        console.error('Error during call to suggestCharts:', error);\n",
              "      }\n",
              "      quickchartButtonEl.classList.remove('colab-df-spinner');\n",
              "      quickchartButtonEl.classList.add('colab-df-quickchart-complete');\n",
              "    }\n",
              "    (() => {\n",
              "      let quickchartButtonEl =\n",
              "        document.querySelector('#df-99255f54-3952-4506-8996-7bca19eb9d07 button');\n",
              "      quickchartButtonEl.style.display =\n",
              "        google.colab.kernel.accessAllowed ? 'block' : 'none';\n",
              "    })();\n",
              "  </script>\n",
              "</div>\n",
              "\n",
              "    </div>\n",
              "  </div>\n"
            ],
            "application/vnd.google.colaboratory.intrinsic+json": {
              "type": "dataframe",
              "variable_name": "data"
            }
          },
          "metadata": {},
          "execution_count": 3
        }
      ]
    },
    {
      "cell_type": "markdown",
      "source": [
        "|\t변수 명\t|\t내용\t|\t구분\t|\n",
        "|\t----\t|\t----\t|\t----\t|\n",
        "|\t**Attrition**\t|\t이직여부, Yes = 1 , No = 0\t|\t**Target**\t|\n",
        "|\tAge\t|\t나이\t|\t숫자\t|\n",
        "|\tBusinessTravel\t|\t출장 빈도(범주)\t|\t\t|\n",
        "|\tDepartment\t|\t현 부서\t|\t\t|\n",
        "|\tDistanceFromHome\t|\t집-직장 거리(마일)\t|\t숫자\t|\n",
        "|\tEducation\t|\t교육수준(범주)\t|\t1 Below College, 2 College, 3 Bachelor, 4 Master, 5 Doctor\t|\n",
        "|\tEducationField\t|\t전공\t|\t\t|\n",
        "|\tEmployeeNumber\t|\t사번\t|\t\t|\n",
        "|\tEnvironmentSatisfaction\t|\t근무환경에 대한 만족도(범주)\t|\t1 Low, 2 Good, 3 Excellent, 4 Outstanding\t|\n",
        "|\tGender\t|\t성별\t|\t\t|\n",
        "|\tJobInvolvement\t|\t직무 적극성(참여도)\t|\t1 Low, 2 Medium, 3 High, 4 Very High\t|\n",
        "|\tJobRole\t|\t직무\t|\t\t|\n",
        "|\tJobSatisfaction\t|\t직무 만족도\t|\t1 Low, 2 Medium, 3 High, 4 Very High\t|\n",
        "|\tMaritalStatus\t|\t결혼상태\t| Single, Married, Divorced\t\t|\n",
        "|\tMonthlyIncome\t|\t월급\t|\t숫자\t|\n",
        "|\tNumCompaniesWorked\t|\t현재까지 근무한 회사 수\t|\t숫자\t|\n",
        "|\tOverTime\t|\t야근여부\t|\t범주\t|\n",
        "|\tPercentSalaryHike\t|\t전년대비 급여인상율(%)\t|\t숫자\t|\n",
        "|\tRelationshipSatisfaction\t|\t동료와의 관계 만족도\t|\t1 Low, 2 Medium, 3 High, 4 Very High\t|\n",
        "|\tStockOptionLevel\t|\t스톡옵션 수준 0~3\t|\t범주\t|\n",
        "|\tTotalWorkingYears\t|\t총 근무 연수\t|\t숫자\t|\n",
        "|\tTrainingTimesLastYear\t|\t전년 교육훈련 횟수\t|\t숫자\t|\n",
        "|\tWorkLifeBalance\t|\t워라밸. 일-삶 균형도\t|\t1 Bad, 2 Good, 3 Better, 4 Best\t|\n",
        "|\tYearsAtCompany\t|\t현직장 근무 연수\t|\t숫자\t|\n",
        "|\tYearsInCurrentRole\t|\t현직무 연수\t|\t숫자\t|\n",
        "|\tYearsWithCurrManager\t|\t현 팀장과 근무한 연수\t|\t숫자\t|\n"
      ],
      "metadata": {
        "id": "v50TP8BhMJKx"
      }
    },
    {
      "cell_type": "markdown",
      "source": [
        "----"
      ],
      "metadata": {
        "id": "bKimk8qVm8oC"
      }
    },
    {
      "cell_type": "markdown",
      "metadata": {
        "id": "PRXJWyibZTJN"
      },
      "source": [
        "## 2.데이터 전처리"
      ]
    },
    {
      "cell_type": "markdown",
      "source": [
        "### (1) 데이터 정리"
      ],
      "metadata": {
        "id": "87oIkIw0fHdw"
      }
    },
    {
      "cell_type": "code",
      "source": [
        "target = 'Attrition'"
      ],
      "metadata": {
        "id": "vtn0hI98urCt"
      },
      "execution_count": 4,
      "outputs": []
    },
    {
      "cell_type": "code",
      "source": [
        "# 불필요한 변수 제거\n",
        "data.drop('EmployeeNumber', axis = 1, inplace = True)"
      ],
      "metadata": {
        "id": "zEuIcJBeHTp-"
      },
      "execution_count": 5,
      "outputs": []
    },
    {
      "cell_type": "code",
      "metadata": {
        "id": "hKx1tqpEEPeV"
      },
      "source": [
        "x = data.drop(target, axis = 1)\n",
        "y = data.loc[:, target]"
      ],
      "execution_count": 6,
      "outputs": []
    },
    {
      "cell_type": "markdown",
      "metadata": {
        "id": "HfqkeUD2GjI6"
      },
      "source": [
        "### (2) 가변수화\n",
        "* 범주형 데이터이면서 값이 0,1 로 되어 있는 것이 아니라면, 가변수화를 수행해야 합니다.\n",
        "* 대상이 되는 변수에 대해서 가변수화를 수행해주세요."
      ]
    },
    {
      "cell_type": "code",
      "metadata": {
        "id": "PPnkmw0bGjI6",
        "colab": {
          "base_uri": "https://localhost:8080/",
          "height": 255
        },
        "outputId": "8ecfadbe-3427-4a55-c968-a1bba79fae93"
      },
      "source": [
        "dum_cols = ['BusinessTravel','Department','Education','EducationField','EnvironmentSatisfaction','Gender',\n",
        "            'JobRole', 'JobInvolvement', 'JobSatisfaction', 'MaritalStatus', 'OverTime', 'RelationshipSatisfaction',\n",
        "            'StockOptionLevel','WorkLifeBalance' ]\n",
        "\n",
        "x = pd.get_dummies(x, columns = dum_cols ,drop_first = True)\n",
        "x.head()\n"
      ],
      "execution_count": 7,
      "outputs": [
        {
          "output_type": "execute_result",
          "data": {
            "text/plain": [
              "   Age  DistanceFromHome  MonthlyIncome  NumCompaniesWorked  \\\n",
              "0   33                 7          11691                   0   \n",
              "1   35                18           9362                   2   \n",
              "2   42                 6          13348                   9   \n",
              "3   46                 2          17048                   8   \n",
              "4   39                20           4127                   2   \n",
              "\n",
              "   PercentSalaryHike  TotalWorkingYears  TrainingTimesLastYear  \\\n",
              "0                 11                 14                      3   \n",
              "1                 11                 10                      2   \n",
              "2                 13                 18                      3   \n",
              "3                 23                 28                      2   \n",
              "4                 18                  7                      6   \n",
              "\n",
              "   YearsAtCompany  YearsInCurrentRole  YearsWithCurrManager  ...  \\\n",
              "0              13                   9                     7  ...   \n",
              "1               2                   2                     2  ...   \n",
              "2              13                   7                     7  ...   \n",
              "3              26                  15                     9  ...   \n",
              "4               2                   1                     2  ...   \n",
              "\n",
              "   OverTime_Yes  RelationshipSatisfaction_2  RelationshipSatisfaction_3  \\\n",
              "0         False                       False                       False   \n",
              "1         False                       False                        True   \n",
              "2         False                        True                       False   \n",
              "3         False                       False                       False   \n",
              "4         False                       False                       False   \n",
              "\n",
              "   RelationshipSatisfaction_4  StockOptionLevel_1  StockOptionLevel_2  \\\n",
              "0                        True               False               False   \n",
              "1                       False               False               False   \n",
              "2                       False                True               False   \n",
              "3                       False               False               False   \n",
              "4                        True                True               False   \n",
              "\n",
              "   StockOptionLevel_3  WorkLifeBalance_2  WorkLifeBalance_3  WorkLifeBalance_4  \n",
              "0               False              False              False               True  \n",
              "1               False              False               True              False  \n",
              "2               False              False              False               True  \n",
              "3               False              False               True              False  \n",
              "4               False              False               True              False  \n",
              "\n",
              "[5 rows x 53 columns]"
            ],
            "text/html": [
              "\n",
              "  <div id=\"df-68d6d004-9758-460e-8256-57f052471858\" class=\"colab-df-container\">\n",
              "    <div>\n",
              "<style scoped>\n",
              "    .dataframe tbody tr th:only-of-type {\n",
              "        vertical-align: middle;\n",
              "    }\n",
              "\n",
              "    .dataframe tbody tr th {\n",
              "        vertical-align: top;\n",
              "    }\n",
              "\n",
              "    .dataframe thead th {\n",
              "        text-align: right;\n",
              "    }\n",
              "</style>\n",
              "<table border=\"1\" class=\"dataframe\">\n",
              "  <thead>\n",
              "    <tr style=\"text-align: right;\">\n",
              "      <th></th>\n",
              "      <th>Age</th>\n",
              "      <th>DistanceFromHome</th>\n",
              "      <th>MonthlyIncome</th>\n",
              "      <th>NumCompaniesWorked</th>\n",
              "      <th>PercentSalaryHike</th>\n",
              "      <th>TotalWorkingYears</th>\n",
              "      <th>TrainingTimesLastYear</th>\n",
              "      <th>YearsAtCompany</th>\n",
              "      <th>YearsInCurrentRole</th>\n",
              "      <th>YearsWithCurrManager</th>\n",
              "      <th>...</th>\n",
              "      <th>OverTime_Yes</th>\n",
              "      <th>RelationshipSatisfaction_2</th>\n",
              "      <th>RelationshipSatisfaction_3</th>\n",
              "      <th>RelationshipSatisfaction_4</th>\n",
              "      <th>StockOptionLevel_1</th>\n",
              "      <th>StockOptionLevel_2</th>\n",
              "      <th>StockOptionLevel_3</th>\n",
              "      <th>WorkLifeBalance_2</th>\n",
              "      <th>WorkLifeBalance_3</th>\n",
              "      <th>WorkLifeBalance_4</th>\n",
              "    </tr>\n",
              "  </thead>\n",
              "  <tbody>\n",
              "    <tr>\n",
              "      <th>0</th>\n",
              "      <td>33</td>\n",
              "      <td>7</td>\n",
              "      <td>11691</td>\n",
              "      <td>0</td>\n",
              "      <td>11</td>\n",
              "      <td>14</td>\n",
              "      <td>3</td>\n",
              "      <td>13</td>\n",
              "      <td>9</td>\n",
              "      <td>7</td>\n",
              "      <td>...</td>\n",
              "      <td>False</td>\n",
              "      <td>False</td>\n",
              "      <td>False</td>\n",
              "      <td>True</td>\n",
              "      <td>False</td>\n",
              "      <td>False</td>\n",
              "      <td>False</td>\n",
              "      <td>False</td>\n",
              "      <td>False</td>\n",
              "      <td>True</td>\n",
              "    </tr>\n",
              "    <tr>\n",
              "      <th>1</th>\n",
              "      <td>35</td>\n",
              "      <td>18</td>\n",
              "      <td>9362</td>\n",
              "      <td>2</td>\n",
              "      <td>11</td>\n",
              "      <td>10</td>\n",
              "      <td>2</td>\n",
              "      <td>2</td>\n",
              "      <td>2</td>\n",
              "      <td>2</td>\n",
              "      <td>...</td>\n",
              "      <td>False</td>\n",
              "      <td>False</td>\n",
              "      <td>True</td>\n",
              "      <td>False</td>\n",
              "      <td>False</td>\n",
              "      <td>False</td>\n",
              "      <td>False</td>\n",
              "      <td>False</td>\n",
              "      <td>True</td>\n",
              "      <td>False</td>\n",
              "    </tr>\n",
              "    <tr>\n",
              "      <th>2</th>\n",
              "      <td>42</td>\n",
              "      <td>6</td>\n",
              "      <td>13348</td>\n",
              "      <td>9</td>\n",
              "      <td>13</td>\n",
              "      <td>18</td>\n",
              "      <td>3</td>\n",
              "      <td>13</td>\n",
              "      <td>7</td>\n",
              "      <td>7</td>\n",
              "      <td>...</td>\n",
              "      <td>False</td>\n",
              "      <td>True</td>\n",
              "      <td>False</td>\n",
              "      <td>False</td>\n",
              "      <td>True</td>\n",
              "      <td>False</td>\n",
              "      <td>False</td>\n",
              "      <td>False</td>\n",
              "      <td>False</td>\n",
              "      <td>True</td>\n",
              "    </tr>\n",
              "    <tr>\n",
              "      <th>3</th>\n",
              "      <td>46</td>\n",
              "      <td>2</td>\n",
              "      <td>17048</td>\n",
              "      <td>8</td>\n",
              "      <td>23</td>\n",
              "      <td>28</td>\n",
              "      <td>2</td>\n",
              "      <td>26</td>\n",
              "      <td>15</td>\n",
              "      <td>9</td>\n",
              "      <td>...</td>\n",
              "      <td>False</td>\n",
              "      <td>False</td>\n",
              "      <td>False</td>\n",
              "      <td>False</td>\n",
              "      <td>False</td>\n",
              "      <td>False</td>\n",
              "      <td>False</td>\n",
              "      <td>False</td>\n",
              "      <td>True</td>\n",
              "      <td>False</td>\n",
              "    </tr>\n",
              "    <tr>\n",
              "      <th>4</th>\n",
              "      <td>39</td>\n",
              "      <td>20</td>\n",
              "      <td>4127</td>\n",
              "      <td>2</td>\n",
              "      <td>18</td>\n",
              "      <td>7</td>\n",
              "      <td>6</td>\n",
              "      <td>2</td>\n",
              "      <td>1</td>\n",
              "      <td>2</td>\n",
              "      <td>...</td>\n",
              "      <td>False</td>\n",
              "      <td>False</td>\n",
              "      <td>False</td>\n",
              "      <td>True</td>\n",
              "      <td>True</td>\n",
              "      <td>False</td>\n",
              "      <td>False</td>\n",
              "      <td>False</td>\n",
              "      <td>True</td>\n",
              "      <td>False</td>\n",
              "    </tr>\n",
              "  </tbody>\n",
              "</table>\n",
              "<p>5 rows × 53 columns</p>\n",
              "</div>\n",
              "    <div class=\"colab-df-buttons\">\n",
              "\n",
              "  <div class=\"colab-df-container\">\n",
              "    <button class=\"colab-df-convert\" onclick=\"convertToInteractive('df-68d6d004-9758-460e-8256-57f052471858')\"\n",
              "            title=\"Convert this dataframe to an interactive table.\"\n",
              "            style=\"display:none;\">\n",
              "\n",
              "  <svg xmlns=\"http://www.w3.org/2000/svg\" height=\"24px\" viewBox=\"0 -960 960 960\">\n",
              "    <path d=\"M120-120v-720h720v720H120Zm60-500h600v-160H180v160Zm220 220h160v-160H400v160Zm0 220h160v-160H400v160ZM180-400h160v-160H180v160Zm440 0h160v-160H620v160ZM180-180h160v-160H180v160Zm440 0h160v-160H620v160Z\"/>\n",
              "  </svg>\n",
              "    </button>\n",
              "\n",
              "  <style>\n",
              "    .colab-df-container {\n",
              "      display:flex;\n",
              "      gap: 12px;\n",
              "    }\n",
              "\n",
              "    .colab-df-convert {\n",
              "      background-color: #E8F0FE;\n",
              "      border: none;\n",
              "      border-radius: 50%;\n",
              "      cursor: pointer;\n",
              "      display: none;\n",
              "      fill: #1967D2;\n",
              "      height: 32px;\n",
              "      padding: 0 0 0 0;\n",
              "      width: 32px;\n",
              "    }\n",
              "\n",
              "    .colab-df-convert:hover {\n",
              "      background-color: #E2EBFA;\n",
              "      box-shadow: 0px 1px 2px rgba(60, 64, 67, 0.3), 0px 1px 3px 1px rgba(60, 64, 67, 0.15);\n",
              "      fill: #174EA6;\n",
              "    }\n",
              "\n",
              "    .colab-df-buttons div {\n",
              "      margin-bottom: 4px;\n",
              "    }\n",
              "\n",
              "    [theme=dark] .colab-df-convert {\n",
              "      background-color: #3B4455;\n",
              "      fill: #D2E3FC;\n",
              "    }\n",
              "\n",
              "    [theme=dark] .colab-df-convert:hover {\n",
              "      background-color: #434B5C;\n",
              "      box-shadow: 0px 1px 3px 1px rgba(0, 0, 0, 0.15);\n",
              "      filter: drop-shadow(0px 1px 2px rgba(0, 0, 0, 0.3));\n",
              "      fill: #FFFFFF;\n",
              "    }\n",
              "  </style>\n",
              "\n",
              "    <script>\n",
              "      const buttonEl =\n",
              "        document.querySelector('#df-68d6d004-9758-460e-8256-57f052471858 button.colab-df-convert');\n",
              "      buttonEl.style.display =\n",
              "        google.colab.kernel.accessAllowed ? 'block' : 'none';\n",
              "\n",
              "      async function convertToInteractive(key) {\n",
              "        const element = document.querySelector('#df-68d6d004-9758-460e-8256-57f052471858');\n",
              "        const dataTable =\n",
              "          await google.colab.kernel.invokeFunction('convertToInteractive',\n",
              "                                                    [key], {});\n",
              "        if (!dataTable) return;\n",
              "\n",
              "        const docLinkHtml = 'Like what you see? Visit the ' +\n",
              "          '<a target=\"_blank\" href=https://colab.research.google.com/notebooks/data_table.ipynb>data table notebook</a>'\n",
              "          + ' to learn more about interactive tables.';\n",
              "        element.innerHTML = '';\n",
              "        dataTable['output_type'] = 'display_data';\n",
              "        await google.colab.output.renderOutput(dataTable, element);\n",
              "        const docLink = document.createElement('div');\n",
              "        docLink.innerHTML = docLinkHtml;\n",
              "        element.appendChild(docLink);\n",
              "      }\n",
              "    </script>\n",
              "  </div>\n",
              "\n",
              "\n",
              "<div id=\"df-0055c600-f6d6-456b-9590-644d5a16a754\">\n",
              "  <button class=\"colab-df-quickchart\" onclick=\"quickchart('df-0055c600-f6d6-456b-9590-644d5a16a754')\"\n",
              "            title=\"Suggest charts\"\n",
              "            style=\"display:none;\">\n",
              "\n",
              "<svg xmlns=\"http://www.w3.org/2000/svg\" height=\"24px\"viewBox=\"0 0 24 24\"\n",
              "     width=\"24px\">\n",
              "    <g>\n",
              "        <path d=\"M19 3H5c-1.1 0-2 .9-2 2v14c0 1.1.9 2 2 2h14c1.1 0 2-.9 2-2V5c0-1.1-.9-2-2-2zM9 17H7v-7h2v7zm4 0h-2V7h2v10zm4 0h-2v-4h2v4z\"/>\n",
              "    </g>\n",
              "</svg>\n",
              "  </button>\n",
              "\n",
              "<style>\n",
              "  .colab-df-quickchart {\n",
              "      --bg-color: #E8F0FE;\n",
              "      --fill-color: #1967D2;\n",
              "      --hover-bg-color: #E2EBFA;\n",
              "      --hover-fill-color: #174EA6;\n",
              "      --disabled-fill-color: #AAA;\n",
              "      --disabled-bg-color: #DDD;\n",
              "  }\n",
              "\n",
              "  [theme=dark] .colab-df-quickchart {\n",
              "      --bg-color: #3B4455;\n",
              "      --fill-color: #D2E3FC;\n",
              "      --hover-bg-color: #434B5C;\n",
              "      --hover-fill-color: #FFFFFF;\n",
              "      --disabled-bg-color: #3B4455;\n",
              "      --disabled-fill-color: #666;\n",
              "  }\n",
              "\n",
              "  .colab-df-quickchart {\n",
              "    background-color: var(--bg-color);\n",
              "    border: none;\n",
              "    border-radius: 50%;\n",
              "    cursor: pointer;\n",
              "    display: none;\n",
              "    fill: var(--fill-color);\n",
              "    height: 32px;\n",
              "    padding: 0;\n",
              "    width: 32px;\n",
              "  }\n",
              "\n",
              "  .colab-df-quickchart:hover {\n",
              "    background-color: var(--hover-bg-color);\n",
              "    box-shadow: 0 1px 2px rgba(60, 64, 67, 0.3), 0 1px 3px 1px rgba(60, 64, 67, 0.15);\n",
              "    fill: var(--button-hover-fill-color);\n",
              "  }\n",
              "\n",
              "  .colab-df-quickchart-complete:disabled,\n",
              "  .colab-df-quickchart-complete:disabled:hover {\n",
              "    background-color: var(--disabled-bg-color);\n",
              "    fill: var(--disabled-fill-color);\n",
              "    box-shadow: none;\n",
              "  }\n",
              "\n",
              "  .colab-df-spinner {\n",
              "    border: 2px solid var(--fill-color);\n",
              "    border-color: transparent;\n",
              "    border-bottom-color: var(--fill-color);\n",
              "    animation:\n",
              "      spin 1s steps(1) infinite;\n",
              "  }\n",
              "\n",
              "  @keyframes spin {\n",
              "    0% {\n",
              "      border-color: transparent;\n",
              "      border-bottom-color: var(--fill-color);\n",
              "      border-left-color: var(--fill-color);\n",
              "    }\n",
              "    20% {\n",
              "      border-color: transparent;\n",
              "      border-left-color: var(--fill-color);\n",
              "      border-top-color: var(--fill-color);\n",
              "    }\n",
              "    30% {\n",
              "      border-color: transparent;\n",
              "      border-left-color: var(--fill-color);\n",
              "      border-top-color: var(--fill-color);\n",
              "      border-right-color: var(--fill-color);\n",
              "    }\n",
              "    40% {\n",
              "      border-color: transparent;\n",
              "      border-right-color: var(--fill-color);\n",
              "      border-top-color: var(--fill-color);\n",
              "    }\n",
              "    60% {\n",
              "      border-color: transparent;\n",
              "      border-right-color: var(--fill-color);\n",
              "    }\n",
              "    80% {\n",
              "      border-color: transparent;\n",
              "      border-right-color: var(--fill-color);\n",
              "      border-bottom-color: var(--fill-color);\n",
              "    }\n",
              "    90% {\n",
              "      border-color: transparent;\n",
              "      border-bottom-color: var(--fill-color);\n",
              "    }\n",
              "  }\n",
              "</style>\n",
              "\n",
              "  <script>\n",
              "    async function quickchart(key) {\n",
              "      const quickchartButtonEl =\n",
              "        document.querySelector('#' + key + ' button');\n",
              "      quickchartButtonEl.disabled = true;  // To prevent multiple clicks.\n",
              "      quickchartButtonEl.classList.add('colab-df-spinner');\n",
              "      try {\n",
              "        const charts = await google.colab.kernel.invokeFunction(\n",
              "            'suggestCharts', [key], {});\n",
              "      } catch (error) {\n",
              "        console.error('Error during call to suggestCharts:', error);\n",
              "      }\n",
              "      quickchartButtonEl.classList.remove('colab-df-spinner');\n",
              "      quickchartButtonEl.classList.add('colab-df-quickchart-complete');\n",
              "    }\n",
              "    (() => {\n",
              "      let quickchartButtonEl =\n",
              "        document.querySelector('#df-0055c600-f6d6-456b-9590-644d5a16a754 button');\n",
              "      quickchartButtonEl.style.display =\n",
              "        google.colab.kernel.accessAllowed ? 'block' : 'none';\n",
              "    })();\n",
              "  </script>\n",
              "</div>\n",
              "\n",
              "    </div>\n",
              "  </div>\n"
            ],
            "application/vnd.google.colaboratory.intrinsic+json": {
              "type": "dataframe",
              "variable_name": "x"
            }
          },
          "metadata": {},
          "execution_count": 7
        }
      ]
    },
    {
      "cell_type": "markdown",
      "metadata": {
        "id": "-dgcE6vBZTJQ"
      },
      "source": [
        "### (3) 데이터 분할\n",
        "* train_test_split :\n",
        "    * test_size : 0.# - 비율로 분할, 1보다 큰 자연수 - 갯수로 분할\n",
        "    * train_size로 지정도 가능."
      ]
    },
    {
      "cell_type": "code",
      "source": [
        "x_train, x_val, y_train, y_val = train_test_split(x, y, test_size = 200, random_state = 2022)"
      ],
      "metadata": {
        "id": "cXsn5rf0JDVL"
      },
      "execution_count": 8,
      "outputs": []
    },
    {
      "cell_type": "markdown",
      "metadata": {
        "id": "2Lwk03PSZTJP"
      },
      "source": [
        "### (4) 스케일링"
      ]
    },
    {
      "cell_type": "code",
      "metadata": {
        "id": "oAVSU7XucCvn"
      },
      "source": [
        "scaler = MinMaxScaler()\n",
        "x_train = scaler.fit_transform(x_train)\n",
        "x_val = scaler.transform(x_val)"
      ],
      "execution_count": 9,
      "outputs": []
    },
    {
      "cell_type": "code",
      "source": [
        "y_train.value_counts() / len(y_train)"
      ],
      "metadata": {
        "id": "kBaMiRzz_5bG",
        "colab": {
          "base_uri": "https://localhost:8080/"
        },
        "outputId": "6ddaa100-caef-4f01-ec8c-19dd2d7ce03f"
      },
      "execution_count": 10,
      "outputs": [
        {
          "output_type": "execute_result",
          "data": {
            "text/plain": [
              "Attrition\n",
              "0    0.839048\n",
              "1    0.160952\n",
              "Name: count, dtype: float64"
            ]
          },
          "metadata": {},
          "execution_count": 10
        }
      ]
    },
    {
      "cell_type": "markdown",
      "metadata": {
        "id": "IRsH_UjrXNiW"
      },
      "source": [
        "## 4.모델링"
      ]
    },
    {
      "cell_type": "markdown",
      "metadata": {
        "id": "lL9BeX00MLgt"
      },
      "source": [
        "### (1) 모델1\n",
        "* 다양한 구조의 모델 2개 이상을 설계하시오. (히든레이어, 노드 수 조절)"
      ]
    },
    {
      "cell_type": "code",
      "source": [
        "n = x_train.shape[1]\n",
        "n"
      ],
      "metadata": {
        "colab": {
          "base_uri": "https://localhost:8080/"
        },
        "id": "uXw-AnUMs4w_",
        "outputId": "514ddc79-a3ab-4e07-f2d2-6ba181d83379"
      },
      "execution_count": 12,
      "outputs": [
        {
          "output_type": "execute_result",
          "data": {
            "text/plain": [
              "53"
            ]
          },
          "metadata": {},
          "execution_count": 12
        }
      ]
    },
    {
      "cell_type": "code",
      "source": [
        "clear_session()\n",
        "model1 = Sequential([Dense(32, input_shape=(n, ), activation='relu'),\n",
        "                     Dense(16, activation='relu'),\n",
        "                     Dense(8, activation='relu'),\n",
        "                     Dense(4, activation='relu'),\n",
        "                     Dense(1, activation='sigmoid')])\n",
        "model1.summary()"
      ],
      "metadata": {
        "id": "x2fH9h-3E0Q5",
        "colab": {
          "base_uri": "https://localhost:8080/"
        },
        "outputId": "cedc8502-2da7-455a-92d0-47d1f9546b13"
      },
      "execution_count": 21,
      "outputs": [
        {
          "output_type": "stream",
          "name": "stdout",
          "text": [
            "Model: \"sequential\"\n",
            "_________________________________________________________________\n",
            " Layer (type)                Output Shape              Param #   \n",
            "=================================================================\n",
            " dense (Dense)               (None, 32)                1728      \n",
            "                                                                 \n",
            " dense_1 (Dense)             (None, 16)                528       \n",
            "                                                                 \n",
            " dense_2 (Dense)             (None, 8)                 136       \n",
            "                                                                 \n",
            " dense_3 (Dense)             (None, 4)                 36        \n",
            "                                                                 \n",
            " dense_4 (Dense)             (None, 1)                 5         \n",
            "                                                                 \n",
            "=================================================================\n",
            "Total params: 2433 (9.50 KB)\n",
            "Trainable params: 2433 (9.50 KB)\n",
            "Non-trainable params: 0 (0.00 Byte)\n",
            "_________________________________________________________________\n"
          ]
        }
      ]
    },
    {
      "cell_type": "code",
      "source": [
        "model1.compile(optimizer=Adam(0.01), loss='binary_crossentropy')\n",
        "hist = model1.fit(x_train, y_train, epochs=30, validation_split=0.2).history"
      ],
      "metadata": {
        "id": "CNEExR9rgg09",
        "colab": {
          "base_uri": "https://localhost:8080/"
        },
        "outputId": "b662bd49-fc45-499d-f134-348689ffa507"
      },
      "execution_count": 22,
      "outputs": [
        {
          "output_type": "stream",
          "name": "stdout",
          "text": [
            "Epoch 1/30\n",
            "27/27 [==============================] - 1s 11ms/step - loss: 0.4392 - val_loss: 0.3635\n",
            "Epoch 2/30\n",
            "27/27 [==============================] - 0s 4ms/step - loss: 0.3524 - val_loss: 0.3334\n",
            "Epoch 3/30\n",
            "27/27 [==============================] - 0s 5ms/step - loss: 0.3162 - val_loss: 0.3299\n",
            "Epoch 4/30\n",
            "27/27 [==============================] - 0s 6ms/step - loss: 0.3162 - val_loss: 0.3420\n",
            "Epoch 5/30\n",
            "27/27 [==============================] - 0s 5ms/step - loss: 0.2760 - val_loss: 0.3599\n",
            "Epoch 6/30\n",
            "27/27 [==============================] - 0s 5ms/step - loss: 0.2602 - val_loss: 0.3412\n",
            "Epoch 7/30\n",
            "27/27 [==============================] - 0s 6ms/step - loss: 0.2440 - val_loss: 0.4014\n",
            "Epoch 8/30\n",
            "27/27 [==============================] - 0s 5ms/step - loss: 0.2098 - val_loss: 0.4645\n",
            "Epoch 9/30\n",
            "27/27 [==============================] - 0s 5ms/step - loss: 0.2046 - val_loss: 0.4545\n",
            "Epoch 10/30\n",
            "27/27 [==============================] - 0s 5ms/step - loss: 0.1538 - val_loss: 0.5504\n",
            "Epoch 11/30\n",
            "27/27 [==============================] - 0s 5ms/step - loss: 0.1727 - val_loss: 0.4943\n",
            "Epoch 12/30\n",
            "27/27 [==============================] - 0s 5ms/step - loss: 0.1380 - val_loss: 0.5703\n",
            "Epoch 13/30\n",
            "27/27 [==============================] - 0s 6ms/step - loss: 0.1679 - val_loss: 0.6940\n",
            "Epoch 14/30\n",
            "27/27 [==============================] - 0s 6ms/step - loss: 0.1190 - val_loss: 0.5273\n",
            "Epoch 15/30\n",
            "27/27 [==============================] - 0s 8ms/step - loss: 0.1079 - val_loss: 0.6840\n",
            "Epoch 16/30\n",
            "27/27 [==============================] - 0s 8ms/step - loss: 0.0989 - val_loss: 0.8365\n",
            "Epoch 17/30\n",
            "27/27 [==============================] - 0s 7ms/step - loss: 0.0765 - val_loss: 1.0911\n",
            "Epoch 18/30\n",
            "27/27 [==============================] - 0s 10ms/step - loss: 0.0873 - val_loss: 0.9144\n",
            "Epoch 19/30\n",
            "27/27 [==============================] - 0s 9ms/step - loss: 0.0808 - val_loss: 0.8220\n",
            "Epoch 20/30\n",
            "27/27 [==============================] - 0s 7ms/step - loss: 0.0882 - val_loss: 1.1594\n",
            "Epoch 21/30\n",
            "27/27 [==============================] - 0s 9ms/step - loss: 0.1307 - val_loss: 0.6077\n",
            "Epoch 22/30\n",
            "27/27 [==============================] - 0s 9ms/step - loss: 0.0877 - val_loss: 0.8625\n",
            "Epoch 23/30\n",
            "27/27 [==============================] - 0s 9ms/step - loss: 0.0430 - val_loss: 0.9751\n",
            "Epoch 24/30\n",
            "27/27 [==============================] - 0s 8ms/step - loss: 0.0249 - val_loss: 1.3077\n",
            "Epoch 25/30\n",
            "27/27 [==============================] - 0s 10ms/step - loss: 0.0171 - val_loss: 1.4137\n",
            "Epoch 26/30\n",
            "27/27 [==============================] - 0s 9ms/step - loss: 0.0095 - val_loss: 1.3636\n",
            "Epoch 27/30\n",
            "27/27 [==============================] - 0s 6ms/step - loss: 0.0055 - val_loss: 1.2933\n",
            "Epoch 28/30\n",
            "27/27 [==============================] - 0s 5ms/step - loss: 0.0046 - val_loss: 1.5517\n",
            "Epoch 29/30\n",
            "27/27 [==============================] - 0s 5ms/step - loss: 0.0011 - val_loss: 1.5455\n",
            "Epoch 30/30\n",
            "27/27 [==============================] - 0s 5ms/step - loss: 5.0524e-04 - val_loss: 1.6535\n"
          ]
        }
      ]
    },
    {
      "cell_type": "code",
      "source": [
        "pred = model1.predict(x_val)\n",
        "pred = np.where(pred >= 0.55, 1 , 0)"
      ],
      "metadata": {
        "id": "cIeoTMfi7wRC",
        "colab": {
          "base_uri": "https://localhost:8080/"
        },
        "outputId": "fc5423f2-260b-417e-c55d-0f1d4417bb46"
      },
      "execution_count": 23,
      "outputs": [
        {
          "output_type": "stream",
          "name": "stdout",
          "text": [
            "7/7 [==============================] - 0s 3ms/step\n"
          ]
        }
      ]
    },
    {
      "cell_type": "code",
      "source": [
        "dl_history_plot(hist)"
      ],
      "metadata": {
        "id": "AWSYKz0LggyD",
        "colab": {
          "base_uri": "https://localhost:8080/",
          "height": 542
        },
        "outputId": "0b6d008b-22d9-4b47-a6b4-b067a3dc7ef9"
      },
      "execution_count": 24,
      "outputs": [
        {
          "output_type": "display_data",
          "data": {
            "text/plain": [
              "<Figure size 1000x600 with 1 Axes>"
            ],
            "image/png": "[encoded data removed]"
          },
          "metadata": {}
        }
      ]
    },
    {
      "cell_type": "code",
      "source": [
        "print(confusion_matrix(y_val, pred))\n",
        "print(classification_report(y_val, pred))"
      ],
      "metadata": {
        "id": "ZOEaVPco7wOY",
        "colab": {
          "base_uri": "https://localhost:8080/"
        },
        "outputId": "40a59777-53ae-43b1-db73-32d635fbf2fb"
      },
      "execution_count": 30,
      "outputs": [
        {
          "output_type": "stream",
          "name": "stdout",
          "text": [
            "[[156  13]\n",
            " [ 16  15]]\n",
            "              precision    recall  f1-score   support\n",
            "\n",
            "           0       0.91      0.92      0.91       169\n",
            "           1       0.54      0.48      0.51        31\n",
            "\n",
            "    accuracy                           0.85       200\n",
            "   macro avg       0.72      0.70      0.71       200\n",
            "weighted avg       0.85      0.85      0.85       200\n",
            "\n"
          ]
        }
      ]
    },
    {
      "cell_type": "markdown",
      "metadata": {
        "id": "VivKzsvrC5SZ"
      },
      "source": [
        "### (2) 모델2\n",
        "* 다양한 구조를 설계하시오. (히든레이어, 노드 수 조절)"
      ]
    },
    {
      "cell_type": "code",
      "source": [
        "clear_session()\n",
        "model2 = Sequential([Dense(32, input_shape=(n, ), activation='relu'),\n",
        "                     Dense(16, activation='relu'),\n",
        "                     Dense(4, activation='relu'),\n",
        "                     Dense(1, activation='sigmoid')])\n",
        "model2.summary()"
      ],
      "metadata": {
        "id": "6Wi1y_J-7ygO",
        "colab": {
          "base_uri": "https://localhost:8080/"
        },
        "outputId": "8c10155e-00bc-4c11-be23-5cba43233cd9"
      },
      "execution_count": 46,
      "outputs": [
        {
          "output_type": "stream",
          "name": "stdout",
          "text": [
            "Model: \"sequential\"\n",
            "_________________________________________________________________\n",
            " Layer (type)                Output Shape              Param #   \n",
            "=================================================================\n",
            " dense (Dense)               (None, 32)                1728      \n",
            "                                                                 \n",
            " dense_1 (Dense)             (None, 16)                528       \n",
            "                                                                 \n",
            " dense_2 (Dense)             (None, 4)                 68        \n",
            "                                                                 \n",
            " dense_3 (Dense)             (None, 1)                 5         \n",
            "                                                                 \n",
            "=================================================================\n",
            "Total params: 2329 (9.10 KB)\n",
            "Trainable params: 2329 (9.10 KB)\n",
            "Non-trainable params: 0 (0.00 Byte)\n",
            "_________________________________________________________________\n"
          ]
        }
      ]
    },
    {
      "cell_type": "code",
      "source": [
        "model2.compile(optimizer=Adam(0.1), loss='binary_crossentropy')\n",
        "hist = model2.fit(x_train, y_train, epochs=20, validation_split=0.2).history"
      ],
      "metadata": {
        "id": "1EtKjo4z7yW2",
        "colab": {
          "base_uri": "https://localhost:8080/"
        },
        "outputId": "7b0e823b-8d13-4f14-ef3e-2b04e585d19c"
      },
      "execution_count": 47,
      "outputs": [
        {
          "output_type": "stream",
          "name": "stdout",
          "text": [
            "Epoch 1/20\n",
            "27/27 [==============================] - 4s 19ms/step - loss: 0.4900 - val_loss: 0.4297\n",
            "Epoch 2/20\n",
            "27/27 [==============================] - 0s 9ms/step - loss: 0.3804 - val_loss: 0.3803\n",
            "Epoch 3/20\n",
            "27/27 [==============================] - 0s 7ms/step - loss: 0.3547 - val_loss: 0.3677\n",
            "Epoch 4/20\n",
            "27/27 [==============================] - 0s 7ms/step - loss: 0.3514 - val_loss: 0.3853\n",
            "Epoch 5/20\n",
            "27/27 [==============================] - 0s 6ms/step - loss: 0.3124 - val_loss: 0.3860\n",
            "Epoch 6/20\n",
            "27/27 [==============================] - 0s 6ms/step - loss: 0.3179 - val_loss: 0.3628\n",
            "Epoch 7/20\n",
            "27/27 [==============================] - 0s 8ms/step - loss: 0.2948 - val_loss: 0.4414\n",
            "Epoch 8/20\n",
            "27/27 [==============================] - 0s 8ms/step - loss: 0.2864 - val_loss: 0.4257\n",
            "Epoch 9/20\n",
            "27/27 [==============================] - 0s 6ms/step - loss: 0.2751 - val_loss: 0.4846\n",
            "Epoch 10/20\n",
            "27/27 [==============================] - 0s 7ms/step - loss: 0.2878 - val_loss: 0.3651\n",
            "Epoch 11/20\n",
            "27/27 [==============================] - 0s 7ms/step - loss: 0.2736 - val_loss: 0.4347\n",
            "Epoch 12/20\n",
            "27/27 [==============================] - 0s 6ms/step - loss: 0.2393 - val_loss: 0.5337\n",
            "Epoch 13/20\n",
            "27/27 [==============================] - 0s 6ms/step - loss: 0.2143 - val_loss: 0.5562\n",
            "Epoch 14/20\n",
            "27/27 [==============================] - 0s 6ms/step - loss: 0.1932 - val_loss: 0.5590\n",
            "Epoch 15/20\n",
            "27/27 [==============================] - 0s 5ms/step - loss: 0.2299 - val_loss: 0.5997\n",
            "Epoch 16/20\n",
            "27/27 [==============================] - 0s 4ms/step - loss: 0.2595 - val_loss: 0.6752\n",
            "Epoch 17/20\n",
            "27/27 [==============================] - 0s 4ms/step - loss: 0.2581 - val_loss: 0.4447\n",
            "Epoch 18/20\n",
            "27/27 [==============================] - 0s 4ms/step - loss: 0.2161 - val_loss: 0.4457\n",
            "Epoch 19/20\n",
            "27/27 [==============================] - 0s 4ms/step - loss: 0.2040 - val_loss: 0.7886\n",
            "Epoch 20/20\n",
            "27/27 [==============================] - 0s 4ms/step - loss: 0.1862 - val_loss: 0.5087\n"
          ]
        }
      ]
    },
    {
      "cell_type": "code",
      "source": [
        "pred = model2.predict(x_val)\n",
        "pred = np.where(pred >= 0.5, 1 , 0)"
      ],
      "metadata": {
        "id": "05A82zf57yRO",
        "colab": {
          "base_uri": "https://localhost:8080/"
        },
        "outputId": "2e74981a-b489-4f90-9332-7f82126d700c"
      },
      "execution_count": 48,
      "outputs": [
        {
          "output_type": "stream",
          "name": "stdout",
          "text": [
            "7/7 [==============================] - 0s 3ms/step\n"
          ]
        }
      ]
    },
    {
      "cell_type": "code",
      "source": [
        "dl_history_plot(hist)"
      ],
      "metadata": {
        "id": "W3Ozp5j67yUS",
        "colab": {
          "base_uri": "https://localhost:8080/",
          "height": 542
        },
        "outputId": "1cf79ebd-1a90-47cb-e788-45b2382a3e11"
      },
      "execution_count": 49,
      "outputs": [
        {
          "output_type": "display_data",
          "data": {
            "text/plain": [
              "<Figure size 1000x600 with 1 Axes>"
            ],
            "image/png": "[encoded data removed]"
          },
          "metadata": {}
        }
      ]
    },
    {
      "cell_type": "code",
      "source": [
        "print(confusion_matrix(y_val, pred))\n",
        "print(classification_report(y_val, pred))"
      ],
      "metadata": {
        "id": "WxfokZGr7yOV",
        "colab": {
          "base_uri": "https://localhost:8080/"
        },
        "outputId": "1013d241-4ba1-44eb-8090-def7fff5af86"
      },
      "execution_count": 50,
      "outputs": [
        {
          "output_type": "stream",
          "name": "stdout",
          "text": [
            "[[145  24]\n",
            " [ 12  19]]\n",
            "              precision    recall  f1-score   support\n",
            "\n",
            "           0       0.92      0.86      0.89       169\n",
            "           1       0.44      0.61      0.51        31\n",
            "\n",
            "    accuracy                           0.82       200\n",
            "   macro avg       0.68      0.74      0.70       200\n",
            "weighted avg       0.85      0.82      0.83       200\n",
            "\n"
          ]
        }
      ]
    },
    {
      "cell_type": "code",
      "source": [],
      "metadata": {
        "id": "0VQ_dP_TutPy"
      },
      "execution_count": 50,
      "outputs": []
    }
  ]
}