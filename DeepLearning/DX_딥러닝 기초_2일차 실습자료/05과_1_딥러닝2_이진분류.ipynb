{
  "nbformat": 4,
  "nbformat_minor": 0,
  "metadata": {
    "colab": {
      "provenance": [],
      "include_colab_link": true
    },
    "kernelspec": {
      "name": "python3",
      "display_name": "Python 3"
    }
  },
  "cells": [
    {
      "cell_type": "markdown",
      "metadata": {
        "id": "view-in-github",
        "colab_type": "text"
      },
      "source": [
        "<a href=\"https://colab.research.google.com/github/YY2mk/KT_aivle/blob/master/DeepLearning/DX_%EB%94%A5%EB%9F%AC%EB%8B%9D%20%EA%B8%B0%EC%B4%88_2%EC%9D%BC%EC%B0%A8%20%EC%8B%A4%EC%8A%B5%EC%9E%90%EB%A3%8C/05%EA%B3%BC_1_%EB%94%A5%EB%9F%AC%EB%8B%9D2_%EC%9D%B4%EC%A7%84%EB%B6%84%EB%A5%98.ipynb\" target=\"_parent\"><img src=\"https://colab.research.google.com/assets/colab-badge.svg\" alt=\"Open In Colab\"/></a>"
      ]
    },
    {
      "cell_type": "markdown",
      "metadata": {
        "id": "cVB9pY-v8uv5"
      },
      "source": [
        "# Classification : 2 Class"
      ]
    },
    {
      "cell_type": "markdown",
      "metadata": {
        "id": "gIN5d51gtker"
      },
      "source": [
        "## 1.환경준비"
      ]
    },
    {
      "cell_type": "markdown",
      "source": [
        "### (1) 라이브러리 로딩"
      ],
      "metadata": {
        "id": "98K82DAxvX6I"
      }
    },
    {
      "cell_type": "code",
      "metadata": {
        "id": "GVvCef6A8uv6"
      },
      "source": [
        "import pandas as pd\n",
        "import numpy as np\n",
        "import matplotlib.pyplot as plt\n",
        "import seaborn as sns\n",
        "\n",
        "from sklearn.model_selection import train_test_split\n",
        "from sklearn.metrics import *\n",
        "from sklearn.preprocessing import MinMaxScaler\n",
        "\n",
        "from keras.models import Sequential\n",
        "from keras.layers import Dense\n",
        "from keras.backend import clear_session\n",
        "from keras.optimizers import Adam"
      ],
      "execution_count": 3,
      "outputs": []
    },
    {
      "cell_type": "markdown",
      "source": [
        "* 학습곡선 함수"
      ],
      "metadata": {
        "id": "tS7bUqenW_0-"
      }
    },
    {
      "cell_type": "code",
      "metadata": {
        "id": "72l5YwHqniSS"
      },
      "source": [
        "def dl_history_plot(history):\n",
        "    plt.figure(figsize=(10,6))\n",
        "    plt.plot(history['loss'], label='train_err', marker = '.')\n",
        "    plt.plot(history['val_loss'], label='val_err', marker = '.')\n",
        "\n",
        "    plt.ylabel('Loss')\n",
        "    plt.xlabel('Epoch')\n",
        "    plt.legend()\n",
        "    plt.grid()\n",
        "    plt.show()"
      ],
      "execution_count": 4,
      "outputs": []
    },
    {
      "cell_type": "markdown",
      "source": [
        "### (2) 데이터로딩"
      ],
      "metadata": {
        "id": "6wuqykgvviCc"
      }
    },
    {
      "cell_type": "code",
      "metadata": {
        "id": "Vqr7zY5r8uwC",
        "colab": {
          "base_uri": "https://localhost:8080/",
          "height": 206
        },
        "outputId": "7b8afdaf-9ea4-4a37-c547-7ca4fc8e3068"
      },
      "source": [
        "path = \"https://raw.githubusercontent.com/DA4BAM/dataset/master/titanic.3.csv\"\n",
        "data = pd.read_csv(path)\n",
        "data.drop(['Age_scale1', 'AgeGroup', 'SibSp','Parch' ], axis = 1, inplace = True)\n",
        "data.head()"
      ],
      "execution_count": 5,
      "outputs": [
        {
          "output_type": "execute_result",
          "data": {
            "text/plain": [
              "   Survived  Pclass     Sex   Age     Fare Embarked  Family\n",
              "0         0       3    male  22.0   7.2500        S       2\n",
              "1         1       1  female  38.0  71.2833        C       2\n",
              "2         1       3  female  26.0   7.9250        S       1\n",
              "3         1       1  female  35.0  53.1000        S       2\n",
              "4         0       3    male  35.0   8.0500        S       1"
            ],
            "text/html": [
              "\n",
              "  <div id=\"df-5e7e5e99-7e72-4e7e-80c0-7fbab24cf494\" class=\"colab-df-container\">\n",
              "    <div>\n",
              "<style scoped>\n",
              "    .dataframe tbody tr th:only-of-type {\n",
              "        vertical-align: middle;\n",
              "    }\n",
              "\n",
              "    .dataframe tbody tr th {\n",
              "        vertical-align: top;\n",
              "    }\n",
              "\n",
              "    .dataframe thead th {\n",
              "        text-align: right;\n",
              "    }\n",
              "</style>\n",
              "<table border=\"1\" class=\"dataframe\">\n",
              "  <thead>\n",
              "    <tr style=\"text-align: right;\">\n",
              "      <th></th>\n",
              "      <th>Survived</th>\n",
              "      <th>Pclass</th>\n",
              "      <th>Sex</th>\n",
              "      <th>Age</th>\n",
              "      <th>Fare</th>\n",
              "      <th>Embarked</th>\n",
              "      <th>Family</th>\n",
              "    </tr>\n",
              "  </thead>\n",
              "  <tbody>\n",
              "    <tr>\n",
              "      <th>0</th>\n",
              "      <td>0</td>\n",
              "      <td>3</td>\n",
              "      <td>male</td>\n",
              "      <td>22.0</td>\n",
              "      <td>7.2500</td>\n",
              "      <td>S</td>\n",
              "      <td>2</td>\n",
              "    </tr>\n",
              "    <tr>\n",
              "      <th>1</th>\n",
              "      <td>1</td>\n",
              "      <td>1</td>\n",
              "      <td>female</td>\n",
              "      <td>38.0</td>\n",
              "      <td>71.2833</td>\n",
              "      <td>C</td>\n",
              "      <td>2</td>\n",
              "    </tr>\n",
              "    <tr>\n",
              "      <th>2</th>\n",
              "      <td>1</td>\n",
              "      <td>3</td>\n",
              "      <td>female</td>\n",
              "      <td>26.0</td>\n",
              "      <td>7.9250</td>\n",
              "      <td>S</td>\n",
              "      <td>1</td>\n",
              "    </tr>\n",
              "    <tr>\n",
              "      <th>3</th>\n",
              "      <td>1</td>\n",
              "      <td>1</td>\n",
              "      <td>female</td>\n",
              "      <td>35.0</td>\n",
              "      <td>53.1000</td>\n",
              "      <td>S</td>\n",
              "      <td>2</td>\n",
              "    </tr>\n",
              "    <tr>\n",
              "      <th>4</th>\n",
              "      <td>0</td>\n",
              "      <td>3</td>\n",
              "      <td>male</td>\n",
              "      <td>35.0</td>\n",
              "      <td>8.0500</td>\n",
              "      <td>S</td>\n",
              "      <td>1</td>\n",
              "    </tr>\n",
              "  </tbody>\n",
              "</table>\n",
              "</div>\n",
              "    <div class=\"colab-df-buttons\">\n",
              "\n",
              "  <div class=\"colab-df-container\">\n",
              "    <button class=\"colab-df-convert\" onclick=\"convertToInteractive('df-5e7e5e99-7e72-4e7e-80c0-7fbab24cf494')\"\n",
              "            title=\"Convert this dataframe to an interactive table.\"\n",
              "            style=\"display:none;\">\n",
              "\n",
              "  <svg xmlns=\"http://www.w3.org/2000/svg\" height=\"24px\" viewBox=\"0 -960 960 960\">\n",
              "    <path d=\"M120-120v-720h720v720H120Zm60-500h600v-160H180v160Zm220 220h160v-160H400v160Zm0 220h160v-160H400v160ZM180-400h160v-160H180v160Zm440 0h160v-160H620v160ZM180-180h160v-160H180v160Zm440 0h160v-160H620v160Z\"/>\n",
              "  </svg>\n",
              "    </button>\n",
              "\n",
              "  <style>\n",
              "    .colab-df-container {\n",
              "      display:flex;\n",
              "      gap: 12px;\n",
              "    }\n",
              "\n",
              "    .colab-df-convert {\n",
              "      background-color: #E8F0FE;\n",
              "      border: none;\n",
              "      border-radius: 50%;\n",
              "      cursor: pointer;\n",
              "      display: none;\n",
              "      fill: #1967D2;\n",
              "      height: 32px;\n",
              "      padding: 0 0 0 0;\n",
              "      width: 32px;\n",
              "    }\n",
              "\n",
              "    .colab-df-convert:hover {\n",
              "      background-color: #E2EBFA;\n",
              "      box-shadow: 0px 1px 2px rgba(60, 64, 67, 0.3), 0px 1px 3px 1px rgba(60, 64, 67, 0.15);\n",
              "      fill: #174EA6;\n",
              "    }\n",
              "\n",
              "    .colab-df-buttons div {\n",
              "      margin-bottom: 4px;\n",
              "    }\n",
              "\n",
              "    [theme=dark] .colab-df-convert {\n",
              "      background-color: #3B4455;\n",
              "      fill: #D2E3FC;\n",
              "    }\n",
              "\n",
              "    [theme=dark] .colab-df-convert:hover {\n",
              "      background-color: #434B5C;\n",
              "      box-shadow: 0px 1px 3px 1px rgba(0, 0, 0, 0.15);\n",
              "      filter: drop-shadow(0px 1px 2px rgba(0, 0, 0, 0.3));\n",
              "      fill: #FFFFFF;\n",
              "    }\n",
              "  </style>\n",
              "\n",
              "    <script>\n",
              "      const buttonEl =\n",
              "        document.querySelector('#df-5e7e5e99-7e72-4e7e-80c0-7fbab24cf494 button.colab-df-convert');\n",
              "      buttonEl.style.display =\n",
              "        google.colab.kernel.accessAllowed ? 'block' : 'none';\n",
              "\n",
              "      async function convertToInteractive(key) {\n",
              "        const element = document.querySelector('#df-5e7e5e99-7e72-4e7e-80c0-7fbab24cf494');\n",
              "        const dataTable =\n",
              "          await google.colab.kernel.invokeFunction('convertToInteractive',\n",
              "                                                    [key], {});\n",
              "        if (!dataTable) return;\n",
              "\n",
              "        const docLinkHtml = 'Like what you see? Visit the ' +\n",
              "          '<a target=\"_blank\" href=https://colab.research.google.com/notebooks/data_table.ipynb>data table notebook</a>'\n",
              "          + ' to learn more about interactive tables.';\n",
              "        element.innerHTML = '';\n",
              "        dataTable['output_type'] = 'display_data';\n",
              "        await google.colab.output.renderOutput(dataTable, element);\n",
              "        const docLink = document.createElement('div');\n",
              "        docLink.innerHTML = docLinkHtml;\n",
              "        element.appendChild(docLink);\n",
              "      }\n",
              "    </script>\n",
              "  </div>\n",
              "\n",
              "\n",
              "<div id=\"df-5c55abfa-0f81-4ebe-96dd-830ca075dc3c\">\n",
              "  <button class=\"colab-df-quickchart\" onclick=\"quickchart('df-5c55abfa-0f81-4ebe-96dd-830ca075dc3c')\"\n",
              "            title=\"Suggest charts\"\n",
              "            style=\"display:none;\">\n",
              "\n",
              "<svg xmlns=\"http://www.w3.org/2000/svg\" height=\"24px\"viewBox=\"0 0 24 24\"\n",
              "     width=\"24px\">\n",
              "    <g>\n",
              "        <path d=\"M19 3H5c-1.1 0-2 .9-2 2v14c0 1.1.9 2 2 2h14c1.1 0 2-.9 2-2V5c0-1.1-.9-2-2-2zM9 17H7v-7h2v7zm4 0h-2V7h2v10zm4 0h-2v-4h2v4z\"/>\n",
              "    </g>\n",
              "</svg>\n",
              "  </button>\n",
              "\n",
              "<style>\n",
              "  .colab-df-quickchart {\n",
              "      --bg-color: #E8F0FE;\n",
              "      --fill-color: #1967D2;\n",
              "      --hover-bg-color: #E2EBFA;\n",
              "      --hover-fill-color: #174EA6;\n",
              "      --disabled-fill-color: #AAA;\n",
              "      --disabled-bg-color: #DDD;\n",
              "  }\n",
              "\n",
              "  [theme=dark] .colab-df-quickchart {\n",
              "      --bg-color: #3B4455;\n",
              "      --fill-color: #D2E3FC;\n",
              "      --hover-bg-color: #434B5C;\n",
              "      --hover-fill-color: #FFFFFF;\n",
              "      --disabled-bg-color: #3B4455;\n",
              "      --disabled-fill-color: #666;\n",
              "  }\n",
              "\n",
              "  .colab-df-quickchart {\n",
              "    background-color: var(--bg-color);\n",
              "    border: none;\n",
              "    border-radius: 50%;\n",
              "    cursor: pointer;\n",
              "    display: none;\n",
              "    fill: var(--fill-color);\n",
              "    height: 32px;\n",
              "    padding: 0;\n",
              "    width: 32px;\n",
              "  }\n",
              "\n",
              "  .colab-df-quickchart:hover {\n",
              "    background-color: var(--hover-bg-color);\n",
              "    box-shadow: 0 1px 2px rgba(60, 64, 67, 0.3), 0 1px 3px 1px rgba(60, 64, 67, 0.15);\n",
              "    fill: var(--button-hover-fill-color);\n",
              "  }\n",
              "\n",
              "  .colab-df-quickchart-complete:disabled,\n",
              "  .colab-df-quickchart-complete:disabled:hover {\n",
              "    background-color: var(--disabled-bg-color);\n",
              "    fill: var(--disabled-fill-color);\n",
              "    box-shadow: none;\n",
              "  }\n",
              "\n",
              "  .colab-df-spinner {\n",
              "    border: 2px solid var(--fill-color);\n",
              "    border-color: transparent;\n",
              "    border-bottom-color: var(--fill-color);\n",
              "    animation:\n",
              "      spin 1s steps(1) infinite;\n",
              "  }\n",
              "\n",
              "  @keyframes spin {\n",
              "    0% {\n",
              "      border-color: transparent;\n",
              "      border-bottom-color: var(--fill-color);\n",
              "      border-left-color: var(--fill-color);\n",
              "    }\n",
              "    20% {\n",
              "      border-color: transparent;\n",
              "      border-left-color: var(--fill-color);\n",
              "      border-top-color: var(--fill-color);\n",
              "    }\n",
              "    30% {\n",
              "      border-color: transparent;\n",
              "      border-left-color: var(--fill-color);\n",
              "      border-top-color: var(--fill-color);\n",
              "      border-right-color: var(--fill-color);\n",
              "    }\n",
              "    40% {\n",
              "      border-color: transparent;\n",
              "      border-right-color: var(--fill-color);\n",
              "      border-top-color: var(--fill-color);\n",
              "    }\n",
              "    60% {\n",
              "      border-color: transparent;\n",
              "      border-right-color: var(--fill-color);\n",
              "    }\n",
              "    80% {\n",
              "      border-color: transparent;\n",
              "      border-right-color: var(--fill-color);\n",
              "      border-bottom-color: var(--fill-color);\n",
              "    }\n",
              "    90% {\n",
              "      border-color: transparent;\n",
              "      border-bottom-color: var(--fill-color);\n",
              "    }\n",
              "  }\n",
              "</style>\n",
              "\n",
              "  <script>\n",
              "    async function quickchart(key) {\n",
              "      const quickchartButtonEl =\n",
              "        document.querySelector('#' + key + ' button');\n",
              "      quickchartButtonEl.disabled = true;  // To prevent multiple clicks.\n",
              "      quickchartButtonEl.classList.add('colab-df-spinner');\n",
              "      try {\n",
              "        const charts = await google.colab.kernel.invokeFunction(\n",
              "            'suggestCharts', [key], {});\n",
              "      } catch (error) {\n",
              "        console.error('Error during call to suggestCharts:', error);\n",
              "      }\n",
              "      quickchartButtonEl.classList.remove('colab-df-spinner');\n",
              "      quickchartButtonEl.classList.add('colab-df-quickchart-complete');\n",
              "    }\n",
              "    (() => {\n",
              "      let quickchartButtonEl =\n",
              "        document.querySelector('#df-5c55abfa-0f81-4ebe-96dd-830ca075dc3c button');\n",
              "      quickchartButtonEl.style.display =\n",
              "        google.colab.kernel.accessAllowed ? 'block' : 'none';\n",
              "    })();\n",
              "  </script>\n",
              "</div>\n",
              "\n",
              "    </div>\n",
              "  </div>\n"
            ],
            "application/vnd.google.colaboratory.intrinsic+json": {
              "type": "dataframe",
              "variable_name": "data",
              "summary": "{\n  \"name\": \"data\",\n  \"rows\": 891,\n  \"fields\": [\n    {\n      \"column\": \"Survived\",\n      \"properties\": {\n        \"dtype\": \"number\",\n        \"std\": 0,\n        \"min\": 0,\n        \"max\": 1,\n        \"num_unique_values\": 2,\n        \"samples\": [\n          1,\n          0\n        ],\n        \"semantic_type\": \"\",\n        \"description\": \"\"\n      }\n    },\n    {\n      \"column\": \"Pclass\",\n      \"properties\": {\n        \"dtype\": \"number\",\n        \"std\": 0,\n        \"min\": 1,\n        \"max\": 3,\n        \"num_unique_values\": 3,\n        \"samples\": [\n          3,\n          1\n        ],\n        \"semantic_type\": \"\",\n        \"description\": \"\"\n      }\n    },\n    {\n      \"column\": \"Sex\",\n      \"properties\": {\n        \"dtype\": \"category\",\n        \"num_unique_values\": 2,\n        \"samples\": [\n          \"female\",\n          \"male\"\n        ],\n        \"semantic_type\": \"\",\n        \"description\": \"\"\n      }\n    },\n    {\n      \"column\": \"Age\",\n      \"properties\": {\n        \"dtype\": \"number\",\n        \"std\": 13.277377771258609,\n        \"min\": 0.42,\n        \"max\": 80.0,\n        \"num_unique_values\": 92,\n        \"samples\": [\n          25.0,\n          40.0\n        ],\n        \"semantic_type\": \"\",\n        \"description\": \"\"\n      }\n    },\n    {\n      \"column\": \"Fare\",\n      \"properties\": {\n        \"dtype\": \"number\",\n        \"std\": 49.6934285971809,\n        \"min\": 0.0,\n        \"max\": 512.3292,\n        \"num_unique_values\": 248,\n        \"samples\": [\n          11.2417,\n          51.8625\n        ],\n        \"semantic_type\": \"\",\n        \"description\": \"\"\n      }\n    },\n    {\n      \"column\": \"Embarked\",\n      \"properties\": {\n        \"dtype\": \"category\",\n        \"num_unique_values\": 3,\n        \"samples\": [\n          \"S\",\n          \"C\"\n        ],\n        \"semantic_type\": \"\",\n        \"description\": \"\"\n      }\n    },\n    {\n      \"column\": \"Family\",\n      \"properties\": {\n        \"dtype\": \"number\",\n        \"std\": 1,\n        \"min\": 1,\n        \"max\": 11,\n        \"num_unique_values\": 9,\n        \"samples\": [\n          8,\n          1\n        ],\n        \"semantic_type\": \"\",\n        \"description\": \"\"\n      }\n    }\n  ]\n}"
            }
          },
          "metadata": {},
          "execution_count": 5
        }
      ]
    },
    {
      "cell_type": "markdown",
      "source": [
        "## 2.데이터 준비"
      ],
      "metadata": {
        "id": "_vRHWCJJooH1"
      }
    },
    {
      "cell_type": "markdown",
      "source": [
        "Sex, Age, Fare 만 이용하여 Survived 를 예측하는 모델을 만들어 봅시다."
      ],
      "metadata": {
        "id": "iM0QyWea1Mcz"
      }
    },
    {
      "cell_type": "markdown",
      "metadata": {
        "id": "rnC3UP6tooH8"
      },
      "source": [
        "### (1) 데이터 준비"
      ]
    },
    {
      "cell_type": "code",
      "metadata": {
        "id": "3Db08v8qooH8"
      },
      "source": [
        "target = 'Survived'\n",
        "features = ['Sex', 'Age', 'Fare']\n",
        "x = data.loc[:, features]\n",
        "y = data.loc[:, target]"
      ],
      "execution_count": 6,
      "outputs": []
    },
    {
      "cell_type": "markdown",
      "metadata": {
        "id": "9Z8UDHYpooH9"
      },
      "source": [
        "### (2) 가변수화"
      ]
    },
    {
      "cell_type": "code",
      "source": [
        "x = pd.get_dummies(x, columns = ['Sex'], drop_first = True)\n",
        "x.head()"
      ],
      "metadata": {
        "id": "N6NdAXjXo_oe",
        "colab": {
          "base_uri": "https://localhost:8080/",
          "height": 206
        },
        "outputId": "1bea8f1e-19c8-4d0c-e1e8-15d2643cfc83"
      },
      "execution_count": 7,
      "outputs": [
        {
          "output_type": "execute_result",
          "data": {
            "text/plain": [
              "    Age     Fare  Sex_male\n",
              "0  22.0   7.2500      True\n",
              "1  38.0  71.2833     False\n",
              "2  26.0   7.9250     False\n",
              "3  35.0  53.1000     False\n",
              "4  35.0   8.0500      True"
            ],
            "text/html": [
              "\n",
              "  <div id=\"df-669d73e3-4912-459f-8e6d-df88e22ac878\" class=\"colab-df-container\">\n",
              "    <div>\n",
              "<style scoped>\n",
              "    .dataframe tbody tr th:only-of-type {\n",
              "        vertical-align: middle;\n",
              "    }\n",
              "\n",
              "    .dataframe tbody tr th {\n",
              "        vertical-align: top;\n",
              "    }\n",
              "\n",
              "    .dataframe thead th {\n",
              "        text-align: right;\n",
              "    }\n",
              "</style>\n",
              "<table border=\"1\" class=\"dataframe\">\n",
              "  <thead>\n",
              "    <tr style=\"text-align: right;\">\n",
              "      <th></th>\n",
              "      <th>Age</th>\n",
              "      <th>Fare</th>\n",
              "      <th>Sex_male</th>\n",
              "    </tr>\n",
              "  </thead>\n",
              "  <tbody>\n",
              "    <tr>\n",
              "      <th>0</th>\n",
              "      <td>22.0</td>\n",
              "      <td>7.2500</td>\n",
              "      <td>True</td>\n",
              "    </tr>\n",
              "    <tr>\n",
              "      <th>1</th>\n",
              "      <td>38.0</td>\n",
              "      <td>71.2833</td>\n",
              "      <td>False</td>\n",
              "    </tr>\n",
              "    <tr>\n",
              "      <th>2</th>\n",
              "      <td>26.0</td>\n",
              "      <td>7.9250</td>\n",
              "      <td>False</td>\n",
              "    </tr>\n",
              "    <tr>\n",
              "      <th>3</th>\n",
              "      <td>35.0</td>\n",
              "      <td>53.1000</td>\n",
              "      <td>False</td>\n",
              "    </tr>\n",
              "    <tr>\n",
              "      <th>4</th>\n",
              "      <td>35.0</td>\n",
              "      <td>8.0500</td>\n",
              "      <td>True</td>\n",
              "    </tr>\n",
              "  </tbody>\n",
              "</table>\n",
              "</div>\n",
              "    <div class=\"colab-df-buttons\">\n",
              "\n",
              "  <div class=\"colab-df-container\">\n",
              "    <button class=\"colab-df-convert\" onclick=\"convertToInteractive('df-669d73e3-4912-459f-8e6d-df88e22ac878')\"\n",
              "            title=\"Convert this dataframe to an interactive table.\"\n",
              "            style=\"display:none;\">\n",
              "\n",
              "  <svg xmlns=\"http://www.w3.org/2000/svg\" height=\"24px\" viewBox=\"0 -960 960 960\">\n",
              "    <path d=\"M120-120v-720h720v720H120Zm60-500h600v-160H180v160Zm220 220h160v-160H400v160Zm0 220h160v-160H400v160ZM180-400h160v-160H180v160Zm440 0h160v-160H620v160ZM180-180h160v-160H180v160Zm440 0h160v-160H620v160Z\"/>\n",
              "  </svg>\n",
              "    </button>\n",
              "\n",
              "  <style>\n",
              "    .colab-df-container {\n",
              "      display:flex;\n",
              "      gap: 12px;\n",
              "    }\n",
              "\n",
              "    .colab-df-convert {\n",
              "      background-color: #E8F0FE;\n",
              "      border: none;\n",
              "      border-radius: 50%;\n",
              "      cursor: pointer;\n",
              "      display: none;\n",
              "      fill: #1967D2;\n",
              "      height: 32px;\n",
              "      padding: 0 0 0 0;\n",
              "      width: 32px;\n",
              "    }\n",
              "\n",
              "    .colab-df-convert:hover {\n",
              "      background-color: #E2EBFA;\n",
              "      box-shadow: 0px 1px 2px rgba(60, 64, 67, 0.3), 0px 1px 3px 1px rgba(60, 64, 67, 0.15);\n",
              "      fill: #174EA6;\n",
              "    }\n",
              "\n",
              "    .colab-df-buttons div {\n",
              "      margin-bottom: 4px;\n",
              "    }\n",
              "\n",
              "    [theme=dark] .colab-df-convert {\n",
              "      background-color: #3B4455;\n",
              "      fill: #D2E3FC;\n",
              "    }\n",
              "\n",
              "    [theme=dark] .colab-df-convert:hover {\n",
              "      background-color: #434B5C;\n",
              "      box-shadow: 0px 1px 3px 1px rgba(0, 0, 0, 0.15);\n",
              "      filter: drop-shadow(0px 1px 2px rgba(0, 0, 0, 0.3));\n",
              "      fill: #FFFFFF;\n",
              "    }\n",
              "  </style>\n",
              "\n",
              "    <script>\n",
              "      const buttonEl =\n",
              "        document.querySelector('#df-669d73e3-4912-459f-8e6d-df88e22ac878 button.colab-df-convert');\n",
              "      buttonEl.style.display =\n",
              "        google.colab.kernel.accessAllowed ? 'block' : 'none';\n",
              "\n",
              "      async function convertToInteractive(key) {\n",
              "        const element = document.querySelector('#df-669d73e3-4912-459f-8e6d-df88e22ac878');\n",
              "        const dataTable =\n",
              "          await google.colab.kernel.invokeFunction('convertToInteractive',\n",
              "                                                    [key], {});\n",
              "        if (!dataTable) return;\n",
              "\n",
              "        const docLinkHtml = 'Like what you see? Visit the ' +\n",
              "          '<a target=\"_blank\" href=https://colab.research.google.com/notebooks/data_table.ipynb>data table notebook</a>'\n",
              "          + ' to learn more about interactive tables.';\n",
              "        element.innerHTML = '';\n",
              "        dataTable['output_type'] = 'display_data';\n",
              "        await google.colab.output.renderOutput(dataTable, element);\n",
              "        const docLink = document.createElement('div');\n",
              "        docLink.innerHTML = docLinkHtml;\n",
              "        element.appendChild(docLink);\n",
              "      }\n",
              "    </script>\n",
              "  </div>\n",
              "\n",
              "\n",
              "<div id=\"df-d8212dae-c638-4e8f-be82-76f9f53dac29\">\n",
              "  <button class=\"colab-df-quickchart\" onclick=\"quickchart('df-d8212dae-c638-4e8f-be82-76f9f53dac29')\"\n",
              "            title=\"Suggest charts\"\n",
              "            style=\"display:none;\">\n",
              "\n",
              "<svg xmlns=\"http://www.w3.org/2000/svg\" height=\"24px\"viewBox=\"0 0 24 24\"\n",
              "     width=\"24px\">\n",
              "    <g>\n",
              "        <path d=\"M19 3H5c-1.1 0-2 .9-2 2v14c0 1.1.9 2 2 2h14c1.1 0 2-.9 2-2V5c0-1.1-.9-2-2-2zM9 17H7v-7h2v7zm4 0h-2V7h2v10zm4 0h-2v-4h2v4z\"/>\n",
              "    </g>\n",
              "</svg>\n",
              "  </button>\n",
              "\n",
              "<style>\n",
              "  .colab-df-quickchart {\n",
              "      --bg-color: #E8F0FE;\n",
              "      --fill-color: #1967D2;\n",
              "      --hover-bg-color: #E2EBFA;\n",
              "      --hover-fill-color: #174EA6;\n",
              "      --disabled-fill-color: #AAA;\n",
              "      --disabled-bg-color: #DDD;\n",
              "  }\n",
              "\n",
              "  [theme=dark] .colab-df-quickchart {\n",
              "      --bg-color: #3B4455;\n",
              "      --fill-color: #D2E3FC;\n",
              "      --hover-bg-color: #434B5C;\n",
              "      --hover-fill-color: #FFFFFF;\n",
              "      --disabled-bg-color: #3B4455;\n",
              "      --disabled-fill-color: #666;\n",
              "  }\n",
              "\n",
              "  .colab-df-quickchart {\n",
              "    background-color: var(--bg-color);\n",
              "    border: none;\n",
              "    border-radius: 50%;\n",
              "    cursor: pointer;\n",
              "    display: none;\n",
              "    fill: var(--fill-color);\n",
              "    height: 32px;\n",
              "    padding: 0;\n",
              "    width: 32px;\n",
              "  }\n",
              "\n",
              "  .colab-df-quickchart:hover {\n",
              "    background-color: var(--hover-bg-color);\n",
              "    box-shadow: 0 1px 2px rgba(60, 64, 67, 0.3), 0 1px 3px 1px rgba(60, 64, 67, 0.15);\n",
              "    fill: var(--button-hover-fill-color);\n",
              "  }\n",
              "\n",
              "  .colab-df-quickchart-complete:disabled,\n",
              "  .colab-df-quickchart-complete:disabled:hover {\n",
              "    background-color: var(--disabled-bg-color);\n",
              "    fill: var(--disabled-fill-color);\n",
              "    box-shadow: none;\n",
              "  }\n",
              "\n",
              "  .colab-df-spinner {\n",
              "    border: 2px solid var(--fill-color);\n",
              "    border-color: transparent;\n",
              "    border-bottom-color: var(--fill-color);\n",
              "    animation:\n",
              "      spin 1s steps(1) infinite;\n",
              "  }\n",
              "\n",
              "  @keyframes spin {\n",
              "    0% {\n",
              "      border-color: transparent;\n",
              "      border-bottom-color: var(--fill-color);\n",
              "      border-left-color: var(--fill-color);\n",
              "    }\n",
              "    20% {\n",
              "      border-color: transparent;\n",
              "      border-left-color: var(--fill-color);\n",
              "      border-top-color: var(--fill-color);\n",
              "    }\n",
              "    30% {\n",
              "      border-color: transparent;\n",
              "      border-left-color: var(--fill-color);\n",
              "      border-top-color: var(--fill-color);\n",
              "      border-right-color: var(--fill-color);\n",
              "    }\n",
              "    40% {\n",
              "      border-color: transparent;\n",
              "      border-right-color: var(--fill-color);\n",
              "      border-top-color: var(--fill-color);\n",
              "    }\n",
              "    60% {\n",
              "      border-color: transparent;\n",
              "      border-right-color: var(--fill-color);\n",
              "    }\n",
              "    80% {\n",
              "      border-color: transparent;\n",
              "      border-right-color: var(--fill-color);\n",
              "      border-bottom-color: var(--fill-color);\n",
              "    }\n",
              "    90% {\n",
              "      border-color: transparent;\n",
              "      border-bottom-color: var(--fill-color);\n",
              "    }\n",
              "  }\n",
              "</style>\n",
              "\n",
              "  <script>\n",
              "    async function quickchart(key) {\n",
              "      const quickchartButtonEl =\n",
              "        document.querySelector('#' + key + ' button');\n",
              "      quickchartButtonEl.disabled = true;  // To prevent multiple clicks.\n",
              "      quickchartButtonEl.classList.add('colab-df-spinner');\n",
              "      try {\n",
              "        const charts = await google.colab.kernel.invokeFunction(\n",
              "            'suggestCharts', [key], {});\n",
              "      } catch (error) {\n",
              "        console.error('Error during call to suggestCharts:', error);\n",
              "      }\n",
              "      quickchartButtonEl.classList.remove('colab-df-spinner');\n",
              "      quickchartButtonEl.classList.add('colab-df-quickchart-complete');\n",
              "    }\n",
              "    (() => {\n",
              "      let quickchartButtonEl =\n",
              "        document.querySelector('#df-d8212dae-c638-4e8f-be82-76f9f53dac29 button');\n",
              "      quickchartButtonEl.style.display =\n",
              "        google.colab.kernel.accessAllowed ? 'block' : 'none';\n",
              "    })();\n",
              "  </script>\n",
              "</div>\n",
              "\n",
              "    </div>\n",
              "  </div>\n"
            ],
            "application/vnd.google.colaboratory.intrinsic+json": {
              "type": "dataframe",
              "variable_name": "x",
              "summary": "{\n  \"name\": \"x\",\n  \"rows\": 891,\n  \"fields\": [\n    {\n      \"column\": \"Age\",\n      \"properties\": {\n        \"dtype\": \"number\",\n        \"std\": 13.277377771258609,\n        \"min\": 0.42,\n        \"max\": 80.0,\n        \"num_unique_values\": 92,\n        \"samples\": [\n          25.0,\n          40.0,\n          9.0\n        ],\n        \"semantic_type\": \"\",\n        \"description\": \"\"\n      }\n    },\n    {\n      \"column\": \"Fare\",\n      \"properties\": {\n        \"dtype\": \"number\",\n        \"std\": 49.6934285971809,\n        \"min\": 0.0,\n        \"max\": 512.3292,\n        \"num_unique_values\": 248,\n        \"samples\": [\n          11.2417,\n          51.8625,\n          7.725\n        ],\n        \"semantic_type\": \"\",\n        \"description\": \"\"\n      }\n    },\n    {\n      \"column\": \"Sex_male\",\n      \"properties\": {\n        \"dtype\": \"boolean\",\n        \"num_unique_values\": 2,\n        \"samples\": [\n          false,\n          true\n        ],\n        \"semantic_type\": \"\",\n        \"description\": \"\"\n      }\n    }\n  ]\n}"
            }
          },
          "metadata": {},
          "execution_count": 7
        }
      ]
    },
    {
      "cell_type": "markdown",
      "source": [
        "### (3) 데이터분할"
      ],
      "metadata": {
        "id": "KsGGC-a4vpar"
      }
    },
    {
      "cell_type": "code",
      "source": [
        "x_train, x_val, y_train, y_val = train_test_split(x, y, test_size=.3, random_state = 20)"
      ],
      "metadata": {
        "id": "7ilUcIlvvrqR"
      },
      "execution_count": 8,
      "outputs": []
    },
    {
      "cell_type": "markdown",
      "metadata": {
        "id": "ktpEGtEBooH9"
      },
      "source": [
        "### (4) Scaling"
      ]
    },
    {
      "cell_type": "code",
      "source": [
        "scaler = MinMaxScaler()\n",
        "x_train = scaler.fit_transform(x_train)\n",
        "x_val = scaler.transform(x_val)"
      ],
      "metadata": {
        "id": "UWQUSWh6ooH9"
      },
      "execution_count": 9,
      "outputs": []
    },
    {
      "cell_type": "markdown",
      "metadata": {
        "id": "BYr1vtpd8uw4"
      },
      "source": [
        "## 3.딥러닝1: 3개 feature"
      ]
    },
    {
      "cell_type": "markdown",
      "source": [
        "### (1) 모델설계"
      ],
      "metadata": {
        "id": "w-4v_7vcSAZk"
      }
    },
    {
      "cell_type": "code",
      "source": [
        "nfeatures = x_train.shape[1]\n",
        "nfeatures"
      ],
      "metadata": {
        "id": "BQRCR2cCfl4n",
        "colab": {
          "base_uri": "https://localhost:8080/"
        },
        "outputId": "3a32de6d-f7df-4225-a63b-d9702c2da75b"
      },
      "execution_count": 10,
      "outputs": [
        {
          "output_type": "execute_result",
          "data": {
            "text/plain": [
              "3"
            ]
          },
          "metadata": {},
          "execution_count": 10
        }
      ]
    },
    {
      "cell_type": "code",
      "metadata": {
        "id": "3oxyCQiW2Y93",
        "colab": {
          "base_uri": "https://localhost:8080/"
        },
        "outputId": "6cb05ba5-c63d-434a-e166-a426865887ca"
      },
      "source": [
        "# 메모리 정리\n",
        "clear_session()\n",
        "\n",
        "# Sequential 모델 만들기\n",
        "model = Sequential( Dense( 1 , input_shape = (nfeatures ,), activation= 'sigmoid') )\n",
        "\n",
        "# 모델요약\n",
        "model.summary()"
      ],
      "execution_count": 11,
      "outputs": [
        {
          "output_type": "stream",
          "name": "stdout",
          "text": [
            "Model: \"sequential\"\n",
            "_________________________________________________________________\n",
            " Layer (type)                Output Shape              Param #   \n",
            "=================================================================\n",
            " dense (Dense)               (None, 1)                 4         \n",
            "                                                                 \n",
            "=================================================================\n",
            "Total params: 4 (16.00 Byte)\n",
            "Trainable params: 4 (16.00 Byte)\n",
            "Non-trainable params: 0 (0.00 Byte)\n",
            "_________________________________________________________________\n"
          ]
        }
      ]
    },
    {
      "cell_type": "markdown",
      "metadata": {
        "id": "p9pnMdXE2Y93"
      },
      "source": [
        "### (2) compile + 학습"
      ]
    },
    {
      "cell_type": "code",
      "metadata": {
        "id": "DZhoXG0a2Y94",
        "colab": {
          "base_uri": "https://localhost:8080/"
        },
        "outputId": "2b17d778-371a-4ab0-8e04-ae072757b074"
      },
      "source": [
        "model.compile(optimizer = Adam(lr=0.01), loss = 'binary_crossentropy')\n",
        "\n",
        "history = model.fit(x_train, y_train,\n",
        "                    epochs = 50, validation_split=0.2).history"
      ],
      "execution_count": 12,
      "outputs": [
        {
          "output_type": "stream",
          "name": "stderr",
          "text": [
            "WARNING:absl:`lr` is deprecated in Keras optimizer, please use `learning_rate` or use the legacy optimizer, e.g.,tf.keras.optimizers.legacy.Adam.\n"
          ]
        },
        {
          "output_type": "stream",
          "name": "stdout",
          "text": [
            "Epoch 1/50\n",
            "16/16 [==============================] - 3s 55ms/step - loss: 0.7473 - val_loss: 0.7441\n",
            "Epoch 2/50\n",
            "16/16 [==============================] - 0s 9ms/step - loss: 0.7398 - val_loss: 0.7360\n",
            "Epoch 3/50\n",
            "16/16 [==============================] - 0s 12ms/step - loss: 0.7325 - val_loss: 0.7283\n",
            "Epoch 4/50\n",
            "16/16 [==============================] - 0s 10ms/step - loss: 0.7256 - val_loss: 0.7210\n",
            "Epoch 5/50\n",
            "16/16 [==============================] - 0s 13ms/step - loss: 0.7192 - val_loss: 0.7141\n",
            "Epoch 6/50\n",
            "16/16 [==============================] - 0s 19ms/step - loss: 0.7129 - val_loss: 0.7076\n",
            "Epoch 7/50\n",
            "16/16 [==============================] - 0s 9ms/step - loss: 0.7070 - val_loss: 0.7012\n",
            "Epoch 8/50\n",
            "16/16 [==============================] - 0s 18ms/step - loss: 0.7015 - val_loss: 0.6948\n",
            "Epoch 9/50\n",
            "16/16 [==============================] - 0s 13ms/step - loss: 0.6958 - val_loss: 0.6894\n",
            "Epoch 10/50\n",
            "16/16 [==============================] - 0s 6ms/step - loss: 0.6910 - val_loss: 0.6839\n",
            "Epoch 11/50\n",
            "16/16 [==============================] - 0s 14ms/step - loss: 0.6863 - val_loss: 0.6785\n",
            "Epoch 12/50\n",
            "16/16 [==============================] - 0s 9ms/step - loss: 0.6817 - val_loss: 0.6736\n",
            "Epoch 13/50\n",
            "16/16 [==============================] - 0s 18ms/step - loss: 0.6774 - val_loss: 0.6690\n",
            "Epoch 14/50\n",
            "16/16 [==============================] - 0s 11ms/step - loss: 0.6735 - val_loss: 0.6646\n",
            "Epoch 15/50\n",
            "16/16 [==============================] - 0s 17ms/step - loss: 0.6696 - val_loss: 0.6605\n",
            "Epoch 16/50\n",
            "16/16 [==============================] - 0s 14ms/step - loss: 0.6660 - val_loss: 0.6567\n",
            "Epoch 17/50\n",
            "16/16 [==============================] - 0s 23ms/step - loss: 0.6625 - val_loss: 0.6531\n",
            "Epoch 18/50\n",
            "16/16 [==============================] - 0s 11ms/step - loss: 0.6594 - val_loss: 0.6493\n",
            "Epoch 19/50\n",
            "16/16 [==============================] - 0s 17ms/step - loss: 0.6560 - val_loss: 0.6460\n",
            "Epoch 20/50\n",
            "16/16 [==============================] - 0s 8ms/step - loss: 0.6532 - val_loss: 0.6425\n",
            "Epoch 21/50\n",
            "16/16 [==============================] - 0s 7ms/step - loss: 0.6503 - val_loss: 0.6393\n",
            "Epoch 22/50\n",
            "16/16 [==============================] - 0s 8ms/step - loss: 0.6476 - val_loss: 0.6363\n",
            "Epoch 23/50\n",
            "16/16 [==============================] - 0s 6ms/step - loss: 0.6450 - val_loss: 0.6335\n",
            "Epoch 24/50\n",
            "16/16 [==============================] - 0s 6ms/step - loss: 0.6426 - val_loss: 0.6308\n",
            "Epoch 25/50\n",
            "16/16 [==============================] - 0s 6ms/step - loss: 0.6405 - val_loss: 0.6280\n",
            "Epoch 26/50\n",
            "16/16 [==============================] - 0s 9ms/step - loss: 0.6382 - val_loss: 0.6257\n",
            "Epoch 27/50\n",
            "16/16 [==============================] - 0s 6ms/step - loss: 0.6361 - val_loss: 0.6233\n",
            "Epoch 28/50\n",
            "16/16 [==============================] - 0s 11ms/step - loss: 0.6342 - val_loss: 0.6211\n",
            "Epoch 29/50\n",
            "16/16 [==============================] - 0s 9ms/step - loss: 0.6322 - val_loss: 0.6191\n",
            "Epoch 30/50\n",
            "16/16 [==============================] - 0s 6ms/step - loss: 0.6306 - val_loss: 0.6169\n",
            "Epoch 31/50\n",
            "16/16 [==============================] - 0s 8ms/step - loss: 0.6288 - val_loss: 0.6150\n",
            "Epoch 32/50\n",
            "16/16 [==============================] - 0s 11ms/step - loss: 0.6271 - val_loss: 0.6134\n",
            "Epoch 33/50\n",
            "16/16 [==============================] - 0s 9ms/step - loss: 0.6256 - val_loss: 0.6115\n",
            "Epoch 34/50\n",
            "16/16 [==============================] - 0s 9ms/step - loss: 0.6241 - val_loss: 0.6098\n",
            "Epoch 35/50\n",
            "16/16 [==============================] - 0s 9ms/step - loss: 0.6227 - val_loss: 0.6081\n",
            "Epoch 36/50\n",
            "16/16 [==============================] - 0s 8ms/step - loss: 0.6212 - val_loss: 0.6066\n",
            "Epoch 37/50\n",
            "16/16 [==============================] - 0s 5ms/step - loss: 0.6199 - val_loss: 0.6049\n",
            "Epoch 38/50\n",
            "16/16 [==============================] - 0s 13ms/step - loss: 0.6185 - val_loss: 0.6034\n",
            "Epoch 39/50\n",
            "16/16 [==============================] - 0s 15ms/step - loss: 0.6173 - val_loss: 0.6020\n",
            "Epoch 40/50\n",
            "16/16 [==============================] - 0s 8ms/step - loss: 0.6160 - val_loss: 0.6006\n",
            "Epoch 41/50\n",
            "16/16 [==============================] - 0s 8ms/step - loss: 0.6148 - val_loss: 0.5993\n",
            "Epoch 42/50\n",
            "16/16 [==============================] - 0s 9ms/step - loss: 0.6137 - val_loss: 0.5979\n",
            "Epoch 43/50\n",
            "16/16 [==============================] - 0s 9ms/step - loss: 0.6125 - val_loss: 0.5966\n",
            "Epoch 44/50\n",
            "16/16 [==============================] - 0s 6ms/step - loss: 0.6114 - val_loss: 0.5953\n",
            "Epoch 45/50\n",
            "16/16 [==============================] - 0s 8ms/step - loss: 0.6103 - val_loss: 0.5942\n",
            "Epoch 46/50\n",
            "16/16 [==============================] - 0s 7ms/step - loss: 0.6093 - val_loss: 0.5930\n",
            "Epoch 47/50\n",
            "16/16 [==============================] - 0s 7ms/step - loss: 0.6082 - val_loss: 0.5918\n",
            "Epoch 48/50\n",
            "16/16 [==============================] - 0s 10ms/step - loss: 0.6072 - val_loss: 0.5908\n",
            "Epoch 49/50\n",
            "16/16 [==============================] - 0s 5ms/step - loss: 0.6062 - val_loss: 0.5897\n",
            "Epoch 50/50\n",
            "16/16 [==============================] - 0s 9ms/step - loss: 0.6052 - val_loss: 0.5886\n"
          ]
        }
      ]
    },
    {
      "cell_type": "markdown",
      "source": [
        "* 학습결과 그래프"
      ],
      "metadata": {
        "id": "3N8dEQk0SKD9"
      }
    },
    {
      "cell_type": "code",
      "source": [
        "dl_history_plot(history)"
      ],
      "metadata": {
        "id": "03Y0s6_Ug8dR",
        "colab": {
          "base_uri": "https://localhost:8080/",
          "height": 542
        },
        "outputId": "aacfb294-66d7-40c3-b552-3d90374c14d2"
      },
      "execution_count": 13,
      "outputs": [
        {
          "output_type": "display_data",
          "data": {
            "text/plain": [
              "<Figure size 1000x600 with 1 Axes>"
            ],
            "image/png": "[encoded data removed]"
          },
          "metadata": {}
        }
      ]
    },
    {
      "cell_type": "markdown",
      "source": [
        "### (3) 예측 및 검증"
      ],
      "metadata": {
        "id": "cnuOhiHUSP8w"
      }
    },
    {
      "cell_type": "code",
      "source": [
        "pred = model.predict(x_val)\n",
        "\n",
        "# activation이 sigmoid --> 0 ~ 1 사이의 확률값.\n",
        "# 그러므로 cut-off value(보통 0.5)를 기준으로 잘라서 0과 1로 만들어 준다.\n",
        "pred = np.where(pred >= .5, 1, 0)"
      ],
      "metadata": {
        "id": "iWpqKvt78PmD",
        "colab": {
          "base_uri": "https://localhost:8080/"
        },
        "outputId": "e089535d-0b26-481d-eefa-23d5cae1e4c8"
      },
      "execution_count": 14,
      "outputs": [
        {
          "output_type": "stream",
          "name": "stdout",
          "text": [
            "9/9 [==============================] - 0s 3ms/step\n"
          ]
        }
      ]
    },
    {
      "cell_type": "code",
      "source": [
        "print(confusion_matrix(y_val, pred))\n",
        "print(classification_report(y_val, pred))"
      ],
      "metadata": {
        "id": "pjkdc0il8_8-",
        "colab": {
          "base_uri": "https://localhost:8080/"
        },
        "outputId": "1e8dab98-fa1d-46c4-975e-98d132a61f16"
      },
      "execution_count": 16,
      "outputs": [
        {
          "output_type": "stream",
          "name": "stdout",
          "text": [
            "[[166   4]\n",
            " [ 68  30]]\n",
            "              precision    recall  f1-score   support\n",
            "\n",
            "           0       0.71      0.98      0.82       170\n",
            "           1       0.88      0.31      0.45        98\n",
            "\n",
            "    accuracy                           0.73       268\n",
            "   macro avg       0.80      0.64      0.64       268\n",
            "weighted avg       0.77      0.73      0.69       268\n",
            "\n"
          ]
        }
      ]
    },
    {
      "cell_type": "markdown",
      "source": [
        "## 4.딥러닝2 : 전체 feature\n",
        "* 이제 전체 데이터를 가지고 모델링을 시도해 보겠습니다.\n"
      ],
      "metadata": {
        "id": "SL2L1RrNTA5g"
      }
    },
    {
      "cell_type": "markdown",
      "source": [
        "### (1) 데이터 전처리"
      ],
      "metadata": {
        "id": "bWL9ssqWTxCF"
      }
    },
    {
      "cell_type": "markdown",
      "source": [
        "* 데이터 준비"
      ],
      "metadata": {
        "id": "Q8-uL-ebT5SQ"
      }
    },
    {
      "cell_type": "code",
      "source": [
        "target = 'Survived'\n",
        "x = data.drop(target, axis = 1)\n",
        "y = data.loc[:, target]"
      ],
      "metadata": {
        "id": "korryJ9cTFTo"
      },
      "execution_count": 17,
      "outputs": []
    },
    {
      "cell_type": "markdown",
      "source": [
        "* 가변수화"
      ],
      "metadata": {
        "id": "HmqQjbZ5IhWk"
      }
    },
    {
      "cell_type": "code",
      "source": [
        "cat_cols = ['Pclass','Sex', 'Embarked']\n",
        "x = pd.get_dummies(x, columns = cat_cols, drop_first = True)"
      ],
      "metadata": {
        "id": "D6YS1uQ3fNGQ"
      },
      "execution_count": 18,
      "outputs": []
    },
    {
      "cell_type": "markdown",
      "source": [
        "* 데이터분할"
      ],
      "metadata": {
        "id": "2AfNQnlFsaCk"
      }
    },
    {
      "cell_type": "code",
      "source": [
        "x_train, x_val, y_train, y_val = train_test_split(x, y, test_size=.3, random_state = 20)"
      ],
      "metadata": {
        "id": "e_EewQ3Fscdt"
      },
      "execution_count": 19,
      "outputs": []
    },
    {
      "cell_type": "markdown",
      "source": [
        "* 스케일링"
      ],
      "metadata": {
        "id": "s_huFosGT7en"
      }
    },
    {
      "cell_type": "code",
      "source": [
        "scaler = MinMaxScaler()\n",
        "x_train = scaler.fit_transform(x_train)\n",
        "x_val = scaler.transform(x_val)"
      ],
      "metadata": {
        "id": "IV5Hu5WvTFQn"
      },
      "execution_count": 20,
      "outputs": []
    },
    {
      "cell_type": "markdown",
      "source": [
        "### (2) 모델링"
      ],
      "metadata": {
        "id": "xDS0688JUBsF"
      }
    },
    {
      "cell_type": "markdown",
      "metadata": {
        "id": "nTA-Yr4SUGxg"
      },
      "source": [
        "* 모델 설계"
      ]
    },
    {
      "cell_type": "code",
      "source": [
        "n = x_train.shape[1]\n",
        "n"
      ],
      "metadata": {
        "id": "X3T44fmwfjQC",
        "colab": {
          "base_uri": "https://localhost:8080/"
        },
        "outputId": "0ef9df60-9de7-418d-9d8e-6f26a3ba606e"
      },
      "execution_count": 21,
      "outputs": [
        {
          "output_type": "execute_result",
          "data": {
            "text/plain": [
              "8"
            ]
          },
          "metadata": {},
          "execution_count": 21
        }
      ]
    },
    {
      "cell_type": "code",
      "metadata": {
        "id": "j85sSnzHUGxg",
        "colab": {
          "base_uri": "https://localhost:8080/"
        },
        "outputId": "6ee56927-69e7-43a6-cd3c-745b430542c0"
      },
      "source": [
        "# 메모리 정리\n",
        "clear_session()\n",
        "\n",
        "# Sequential 모델\n",
        "model = Sequential( Dense( 1, input_shape = (n, ), activation = 'sigmoid'))\n",
        "\n",
        "# 모델요약\n",
        "model.summary()"
      ],
      "execution_count": 22,
      "outputs": [
        {
          "output_type": "stream",
          "name": "stdout",
          "text": [
            "Model: \"sequential\"\n",
            "_________________________________________________________________\n",
            " Layer (type)                Output Shape              Param #   \n",
            "=================================================================\n",
            " dense (Dense)               (None, 1)                 9         \n",
            "                                                                 \n",
            "=================================================================\n",
            "Total params: 9 (36.00 Byte)\n",
            "Trainable params: 9 (36.00 Byte)\n",
            "Non-trainable params: 0 (0.00 Byte)\n",
            "_________________________________________________________________\n"
          ]
        }
      ]
    },
    {
      "cell_type": "markdown",
      "metadata": {
        "id": "FtEZ2O6mUGxg"
      },
      "source": [
        "* compile + 학습"
      ]
    },
    {
      "cell_type": "code",
      "metadata": {
        "id": "101t-cHUUGxg",
        "colab": {
          "base_uri": "https://localhost:8080/"
        },
        "outputId": "12b8f89b-9de0-477d-db39-0c73deeecd21"
      },
      "source": [
        "model.compile(optimizer = Adam(learning_rate = 0.01), loss = 'binary_crossentropy')\n",
        "history = model.fit(x_train, y_train, epochs = 50, validation_split=.2).history"
      ],
      "execution_count": 23,
      "outputs": [
        {
          "output_type": "stream",
          "name": "stdout",
          "text": [
            "Epoch 1/50\n",
            "16/16 [==============================] - 1s 18ms/step - loss: 0.6299 - val_loss: 0.6125\n",
            "Epoch 2/50\n",
            "16/16 [==============================] - 0s 6ms/step - loss: 0.6059 - val_loss: 0.5917\n",
            "Epoch 3/50\n",
            "16/16 [==============================] - 0s 5ms/step - loss: 0.5865 - val_loss: 0.5728\n",
            "Epoch 4/50\n",
            "16/16 [==============================] - 0s 6ms/step - loss: 0.5709 - val_loss: 0.5563\n",
            "Epoch 5/50\n",
            "16/16 [==============================] - 0s 5ms/step - loss: 0.5569 - val_loss: 0.5430\n",
            "Epoch 6/50\n",
            "16/16 [==============================] - 0s 5ms/step - loss: 0.5463 - val_loss: 0.5319\n",
            "Epoch 7/50\n",
            "16/16 [==============================] - 0s 6ms/step - loss: 0.5372 - val_loss: 0.5230\n",
            "Epoch 8/50\n",
            "16/16 [==============================] - 0s 6ms/step - loss: 0.5290 - val_loss: 0.5153\n",
            "Epoch 9/50\n",
            "16/16 [==============================] - 0s 6ms/step - loss: 0.5226 - val_loss: 0.5083\n",
            "Epoch 10/50\n",
            "16/16 [==============================] - 0s 5ms/step - loss: 0.5170 - val_loss: 0.5021\n",
            "Epoch 11/50\n",
            "16/16 [==============================] - 0s 5ms/step - loss: 0.5122 - val_loss: 0.4979\n",
            "Epoch 12/50\n",
            "16/16 [==============================] - 0s 6ms/step - loss: 0.5076 - val_loss: 0.4934\n",
            "Epoch 13/50\n",
            "16/16 [==============================] - 0s 5ms/step - loss: 0.5032 - val_loss: 0.4893\n",
            "Epoch 14/50\n",
            "16/16 [==============================] - 0s 5ms/step - loss: 0.4990 - val_loss: 0.4852\n",
            "Epoch 15/50\n",
            "16/16 [==============================] - 0s 5ms/step - loss: 0.4960 - val_loss: 0.4823\n",
            "Epoch 16/50\n",
            "16/16 [==============================] - 0s 6ms/step - loss: 0.4933 - val_loss: 0.4796\n",
            "Epoch 17/50\n",
            "16/16 [==============================] - 0s 6ms/step - loss: 0.4905 - val_loss: 0.4778\n",
            "Epoch 18/50\n",
            "16/16 [==============================] - 0s 6ms/step - loss: 0.4879 - val_loss: 0.4748\n",
            "Epoch 19/50\n",
            "16/16 [==============================] - 0s 6ms/step - loss: 0.4856 - val_loss: 0.4721\n",
            "Epoch 20/50\n",
            "16/16 [==============================] - 0s 6ms/step - loss: 0.4837 - val_loss: 0.4705\n",
            "Epoch 21/50\n",
            "16/16 [==============================] - 0s 6ms/step - loss: 0.4816 - val_loss: 0.4695\n",
            "Epoch 22/50\n",
            "16/16 [==============================] - 0s 6ms/step - loss: 0.4801 - val_loss: 0.4680\n",
            "Epoch 23/50\n",
            "16/16 [==============================] - 0s 6ms/step - loss: 0.4786 - val_loss: 0.4669\n",
            "Epoch 24/50\n",
            "16/16 [==============================] - 0s 5ms/step - loss: 0.4767 - val_loss: 0.4648\n",
            "Epoch 25/50\n",
            "16/16 [==============================] - 0s 6ms/step - loss: 0.4753 - val_loss: 0.4630\n",
            "Epoch 26/50\n",
            "16/16 [==============================] - 0s 5ms/step - loss: 0.4742 - val_loss: 0.4613\n",
            "Epoch 27/50\n",
            "16/16 [==============================] - 0s 4ms/step - loss: 0.4733 - val_loss: 0.4616\n",
            "Epoch 28/50\n",
            "16/16 [==============================] - 0s 3ms/step - loss: 0.4715 - val_loss: 0.4591\n",
            "Epoch 29/50\n",
            "16/16 [==============================] - 0s 4ms/step - loss: 0.4706 - val_loss: 0.4582\n",
            "Epoch 30/50\n",
            "16/16 [==============================] - 0s 3ms/step - loss: 0.4692 - val_loss: 0.4579\n",
            "Epoch 31/50\n",
            "16/16 [==============================] - 0s 5ms/step - loss: 0.4684 - val_loss: 0.4576\n",
            "Epoch 32/50\n",
            "16/16 [==============================] - 0s 5ms/step - loss: 0.4677 - val_loss: 0.4564\n",
            "Epoch 33/50\n",
            "16/16 [==============================] - 0s 3ms/step - loss: 0.4667 - val_loss: 0.4560\n",
            "Epoch 34/50\n",
            "16/16 [==============================] - 0s 4ms/step - loss: 0.4658 - val_loss: 0.4555\n",
            "Epoch 35/50\n",
            "16/16 [==============================] - 0s 5ms/step - loss: 0.4650 - val_loss: 0.4545\n",
            "Epoch 36/50\n",
            "16/16 [==============================] - 0s 4ms/step - loss: 0.4639 - val_loss: 0.4540\n",
            "Epoch 37/50\n",
            "16/16 [==============================] - 0s 5ms/step - loss: 0.4631 - val_loss: 0.4534\n",
            "Epoch 38/50\n",
            "16/16 [==============================] - 0s 3ms/step - loss: 0.4622 - val_loss: 0.4525\n",
            "Epoch 39/50\n",
            "16/16 [==============================] - 0s 5ms/step - loss: 0.4619 - val_loss: 0.4521\n",
            "Epoch 40/50\n",
            "16/16 [==============================] - 0s 4ms/step - loss: 0.4610 - val_loss: 0.4514\n",
            "Epoch 41/50\n",
            "16/16 [==============================] - 0s 4ms/step - loss: 0.4600 - val_loss: 0.4506\n",
            "Epoch 42/50\n",
            "16/16 [==============================] - 0s 3ms/step - loss: 0.4600 - val_loss: 0.4501\n",
            "Epoch 43/50\n",
            "16/16 [==============================] - 0s 4ms/step - loss: 0.4589 - val_loss: 0.4494\n",
            "Epoch 44/50\n",
            "16/16 [==============================] - 0s 4ms/step - loss: 0.4584 - val_loss: 0.4496\n",
            "Epoch 45/50\n",
            "16/16 [==============================] - 0s 5ms/step - loss: 0.4579 - val_loss: 0.4490\n",
            "Epoch 46/50\n",
            "16/16 [==============================] - 0s 4ms/step - loss: 0.4570 - val_loss: 0.4481\n",
            "Epoch 47/50\n",
            "16/16 [==============================] - 0s 3ms/step - loss: 0.4563 - val_loss: 0.4477\n",
            "Epoch 48/50\n",
            "16/16 [==============================] - 0s 3ms/step - loss: 0.4560 - val_loss: 0.4468\n",
            "Epoch 49/50\n",
            "16/16 [==============================] - 0s 4ms/step - loss: 0.4558 - val_loss: 0.4472\n",
            "Epoch 50/50\n",
            "16/16 [==============================] - 0s 3ms/step - loss: 0.4548 - val_loss: 0.4468\n"
          ]
        }
      ]
    },
    {
      "cell_type": "markdown",
      "source": [
        "* 학습결과 그래프"
      ],
      "metadata": {
        "id": "jfTJKyP4UGxh"
      }
    },
    {
      "cell_type": "code",
      "metadata": {
        "id": "Gbs-nZuzUGxh",
        "colab": {
          "base_uri": "https://localhost:8080/",
          "height": 542
        },
        "outputId": "15698d69-7054-4239-bf9c-546051f24eef"
      },
      "source": [
        "dl_history_plot(history)"
      ],
      "execution_count": 24,
      "outputs": [
        {
          "output_type": "display_data",
          "data": {
            "text/plain": [
              "<Figure size 1000x600 with 1 Axes>"
            ],
            "image/png": "[encoded data removed]"
          },
          "metadata": {}
        }
      ]
    },
    {
      "cell_type": "markdown",
      "source": [
        "* 예측 및 검증"
      ],
      "metadata": {
        "id": "HDfZe0msoFov"
      }
    },
    {
      "cell_type": "code",
      "source": [
        "pred2 = model.predict(x_val)\n",
        "pred2 = np.where( pred2 >= .5 , 1, 0)\n",
        "print(classification_report(y_val, pred2))"
      ],
      "metadata": {
        "id": "IW2yYuBRUGxh",
        "colab": {
          "base_uri": "https://localhost:8080/"
        },
        "outputId": "5c3e1849-f607-4f40-8ac2-58d0db9eefc1"
      },
      "execution_count": 25,
      "outputs": [
        {
          "output_type": "stream",
          "name": "stdout",
          "text": [
            "9/9 [==============================] - 0s 2ms/step\n",
            "              precision    recall  f1-score   support\n",
            "\n",
            "           0       0.82      0.83      0.82       170\n",
            "           1       0.70      0.68      0.69        98\n",
            "\n",
            "    accuracy                           0.78       268\n",
            "   macro avg       0.76      0.76      0.76       268\n",
            "weighted avg       0.78      0.78      0.78       268\n",
            "\n"
          ]
        }
      ]
    },
    {
      "cell_type": "markdown",
      "source": [
        "----"
      ],
      "metadata": {
        "id": "MEjPndyVf5dG"
      }
    },
    {
      "cell_type": "markdown",
      "source": [
        "## 5.딥러닝3 : hidden layer\n",
        "* 이제 레이어를 추가해 보겠습니다.\n"
      ],
      "metadata": {
        "id": "4tozU06ermAJ"
      }
    },
    {
      "cell_type": "markdown",
      "metadata": {
        "id": "YBGf6ESprmAL"
      },
      "source": [
        "### (1) 모델 설계"
      ]
    },
    {
      "cell_type": "code",
      "source": [
        "n = x_train.shape[1]\n",
        "n"
      ],
      "metadata": {
        "id": "tY1Qjd_hrmAL",
        "colab": {
          "base_uri": "https://localhost:8080/"
        },
        "outputId": "a81f38d5-c7b8-44f4-b627-62eeeabd69f7"
      },
      "execution_count": 26,
      "outputs": [
        {
          "output_type": "execute_result",
          "data": {
            "text/plain": [
              "8"
            ]
          },
          "metadata": {},
          "execution_count": 26
        }
      ]
    },
    {
      "cell_type": "code",
      "metadata": {
        "id": "fG4gBuGlrmAL",
        "colab": {
          "base_uri": "https://localhost:8080/"
        },
        "outputId": "fce2a33e-3647-4f4c-d0b7-3df6c185253e"
      },
      "source": [
        "# 메모리 정리\n",
        "clear_session()\n",
        "\n",
        "# Sequential 모델\n",
        "model3 = Sequential([ Dense( 4, input_shape = (n ,), activation = 'relu'),\n",
        "                      Dense( 1, activation = 'sigmoid')])\n",
        "\n",
        "# 모델요약\n",
        "model3.summary()"
      ],
      "execution_count": 27,
      "outputs": [
        {
          "output_type": "stream",
          "name": "stdout",
          "text": [
            "Model: \"sequential\"\n",
            "_________________________________________________________________\n",
            " Layer (type)                Output Shape              Param #   \n",
            "=================================================================\n",
            " dense (Dense)               (None, 4)                 36        \n",
            "                                                                 \n",
            " dense_1 (Dense)             (None, 1)                 5         \n",
            "                                                                 \n",
            "=================================================================\n",
            "Total params: 41 (164.00 Byte)\n",
            "Trainable params: 41 (164.00 Byte)\n",
            "Non-trainable params: 0 (0.00 Byte)\n",
            "_________________________________________________________________\n"
          ]
        }
      ]
    },
    {
      "cell_type": "markdown",
      "metadata": {
        "id": "uO3Lf9u1rmAM"
      },
      "source": [
        "### (2) compile + 학습"
      ]
    },
    {
      "cell_type": "code",
      "metadata": {
        "id": "rrc9XvzRrmAM",
        "colab": {
          "base_uri": "https://localhost:8080/"
        },
        "outputId": "ca7a9b93-3eef-4963-82b5-54822534d6fc"
      },
      "source": [
        "model3.compile( optimizer=Adam(learning_rate= 0.01), loss ='binary_crossentropy')\n",
        "hist = model3.fit(x_train, y_train, epochs = 50, validation_split=.2 ).history"
      ],
      "execution_count": 28,
      "outputs": [
        {
          "output_type": "stream",
          "name": "stdout",
          "text": [
            "Epoch 1/50\n",
            "16/16 [==============================] - 2s 26ms/step - loss: 0.6366 - val_loss: 0.5892\n",
            "Epoch 2/50\n",
            "16/16 [==============================] - 0s 13ms/step - loss: 0.5935 - val_loss: 0.5652\n",
            "Epoch 3/50\n",
            "16/16 [==============================] - 0s 10ms/step - loss: 0.5667 - val_loss: 0.5394\n",
            "Epoch 4/50\n",
            "16/16 [==============================] - 0s 10ms/step - loss: 0.5409 - val_loss: 0.5129\n",
            "Epoch 5/50\n",
            "16/16 [==============================] - 0s 10ms/step - loss: 0.5186 - val_loss: 0.4920\n",
            "Epoch 6/50\n",
            "16/16 [==============================] - 0s 7ms/step - loss: 0.4988 - val_loss: 0.4769\n",
            "Epoch 7/50\n",
            "16/16 [==============================] - 0s 5ms/step - loss: 0.4852 - val_loss: 0.4669\n",
            "Epoch 8/50\n",
            "16/16 [==============================] - 0s 5ms/step - loss: 0.4765 - val_loss: 0.4593\n",
            "Epoch 9/50\n",
            "16/16 [==============================] - 0s 4ms/step - loss: 0.4689 - val_loss: 0.4532\n",
            "Epoch 10/50\n",
            "16/16 [==============================] - 0s 3ms/step - loss: 0.4629 - val_loss: 0.4475\n",
            "Epoch 11/50\n",
            "16/16 [==============================] - 0s 4ms/step - loss: 0.4580 - val_loss: 0.4430\n",
            "Epoch 12/50\n",
            "16/16 [==============================] - 0s 4ms/step - loss: 0.4532 - val_loss: 0.4386\n",
            "Epoch 13/50\n",
            "16/16 [==============================] - 0s 4ms/step - loss: 0.4481 - val_loss: 0.4332\n",
            "Epoch 14/50\n",
            "16/16 [==============================] - 0s 3ms/step - loss: 0.4439 - val_loss: 0.4310\n",
            "Epoch 15/50\n",
            "16/16 [==============================] - 0s 3ms/step - loss: 0.4416 - val_loss: 0.4275\n",
            "Epoch 16/50\n",
            "16/16 [==============================] - 0s 4ms/step - loss: 0.4392 - val_loss: 0.4249\n",
            "Epoch 17/50\n",
            "16/16 [==============================] - 0s 4ms/step - loss: 0.4364 - val_loss: 0.4227\n",
            "Epoch 18/50\n",
            "16/16 [==============================] - 0s 4ms/step - loss: 0.4336 - val_loss: 0.4210\n",
            "Epoch 19/50\n",
            "16/16 [==============================] - 0s 5ms/step - loss: 0.4346 - val_loss: 0.4185\n",
            "Epoch 20/50\n",
            "16/16 [==============================] - 0s 3ms/step - loss: 0.4312 - val_loss: 0.4185\n",
            "Epoch 21/50\n",
            "16/16 [==============================] - 0s 3ms/step - loss: 0.4295 - val_loss: 0.4153\n",
            "Epoch 22/50\n",
            "16/16 [==============================] - 0s 4ms/step - loss: 0.4281 - val_loss: 0.4157\n",
            "Epoch 23/50\n",
            "16/16 [==============================] - 0s 4ms/step - loss: 0.4259 - val_loss: 0.4123\n",
            "Epoch 24/50\n",
            "16/16 [==============================] - 0s 4ms/step - loss: 0.4250 - val_loss: 0.4122\n",
            "Epoch 25/50\n",
            "16/16 [==============================] - 0s 4ms/step - loss: 0.4232 - val_loss: 0.4105\n",
            "Epoch 26/50\n",
            "16/16 [==============================] - 0s 5ms/step - loss: 0.4227 - val_loss: 0.4107\n",
            "Epoch 27/50\n",
            "16/16 [==============================] - 0s 4ms/step - loss: 0.4224 - val_loss: 0.4125\n",
            "Epoch 28/50\n",
            "16/16 [==============================] - 0s 3ms/step - loss: 0.4223 - val_loss: 0.4089\n",
            "Epoch 29/50\n",
            "16/16 [==============================] - 0s 5ms/step - loss: 0.4214 - val_loss: 0.4077\n",
            "Epoch 30/50\n",
            "16/16 [==============================] - 0s 4ms/step - loss: 0.4203 - val_loss: 0.4069\n",
            "Epoch 31/50\n",
            "16/16 [==============================] - 0s 3ms/step - loss: 0.4189 - val_loss: 0.4081\n",
            "Epoch 32/50\n",
            "16/16 [==============================] - 0s 4ms/step - loss: 0.4180 - val_loss: 0.4072\n",
            "Epoch 33/50\n",
            "16/16 [==============================] - 0s 4ms/step - loss: 0.4169 - val_loss: 0.4060\n",
            "Epoch 34/50\n",
            "16/16 [==============================] - 0s 4ms/step - loss: 0.4185 - val_loss: 0.4053\n",
            "Epoch 35/50\n",
            "16/16 [==============================] - 0s 4ms/step - loss: 0.4172 - val_loss: 0.4053\n",
            "Epoch 36/50\n",
            "16/16 [==============================] - 0s 4ms/step - loss: 0.4167 - val_loss: 0.4074\n",
            "Epoch 37/50\n",
            "16/16 [==============================] - 0s 4ms/step - loss: 0.4176 - val_loss: 0.4028\n",
            "Epoch 38/50\n",
            "16/16 [==============================] - 0s 3ms/step - loss: 0.4162 - val_loss: 0.4032\n",
            "Epoch 39/50\n",
            "16/16 [==============================] - 0s 4ms/step - loss: 0.4142 - val_loss: 0.4063\n",
            "Epoch 40/50\n",
            "16/16 [==============================] - 0s 3ms/step - loss: 0.4143 - val_loss: 0.4035\n",
            "Epoch 41/50\n",
            "16/16 [==============================] - 0s 5ms/step - loss: 0.4129 - val_loss: 0.4026\n",
            "Epoch 42/50\n",
            "16/16 [==============================] - 0s 3ms/step - loss: 0.4154 - val_loss: 0.4026\n",
            "Epoch 43/50\n",
            "16/16 [==============================] - 0s 4ms/step - loss: 0.4130 - val_loss: 0.4024\n",
            "Epoch 44/50\n",
            "16/16 [==============================] - 0s 4ms/step - loss: 0.4155 - val_loss: 0.4012\n",
            "Epoch 45/50\n",
            "16/16 [==============================] - 0s 4ms/step - loss: 0.4142 - val_loss: 0.4032\n",
            "Epoch 46/50\n",
            "16/16 [==============================] - 0s 3ms/step - loss: 0.4107 - val_loss: 0.4025\n",
            "Epoch 47/50\n",
            "16/16 [==============================] - 0s 3ms/step - loss: 0.4135 - val_loss: 0.4016\n",
            "Epoch 48/50\n",
            "16/16 [==============================] - 0s 4ms/step - loss: 0.4115 - val_loss: 0.4027\n",
            "Epoch 49/50\n",
            "16/16 [==============================] - 0s 5ms/step - loss: 0.4115 - val_loss: 0.3997\n",
            "Epoch 50/50\n",
            "16/16 [==============================] - 0s 5ms/step - loss: 0.4112 - val_loss: 0.4004\n"
          ]
        }
      ]
    },
    {
      "cell_type": "markdown",
      "source": [
        "* 학습결과 그래프"
      ],
      "metadata": {
        "id": "zEHTIzCFrmAM"
      }
    },
    {
      "cell_type": "code",
      "metadata": {
        "id": "tlFZWZizrmAM",
        "colab": {
          "base_uri": "https://localhost:8080/",
          "height": 542
        },
        "outputId": "f5bb48ae-51cc-470c-d817-1bf3b6379c2e"
      },
      "source": [
        "dl_history_plot(hist)"
      ],
      "execution_count": 31,
      "outputs": [
        {
          "output_type": "display_data",
          "data": {
            "text/plain": [
              "<Figure size 1000x600 with 1 Axes>"
            ],
            "image/png": "[encoded data removed]"
          },
          "metadata": {}
        }
      ]
    },
    {
      "cell_type": "markdown",
      "source": [
        "* 예측 및 검증"
      ],
      "metadata": {
        "id": "5ReWtFYNo0EK"
      }
    },
    {
      "cell_type": "code",
      "source": [
        "pred3 = model3.predict(x_val)\n",
        "pred3 = np.where(pred3 >= 0.5, 1, 0)"
      ],
      "metadata": {
        "id": "xboRa-t1rmAM",
        "colab": {
          "base_uri": "https://localhost:8080/"
        },
        "outputId": "44dbead9-2111-4145-b60d-1e6eee111c83"
      },
      "execution_count": 30,
      "outputs": [
        {
          "output_type": "stream",
          "name": "stdout",
          "text": [
            "9/9 [==============================] - 0s 2ms/step\n"
          ]
        }
      ]
    },
    {
      "cell_type": "code",
      "source": [
        "print(confusion_matrix(y_val, pred))\n",
        "print(classification_report(y_val, pred3))"
      ],
      "metadata": {
        "id": "7yOcS6e68Mze",
        "colab": {
          "base_uri": "https://localhost:8080/"
        },
        "outputId": "59369e62-85ad-4445-ca77-a0b4051b0469"
      },
      "execution_count": 32,
      "outputs": [
        {
          "output_type": "stream",
          "name": "stdout",
          "text": [
            "[[166   4]\n",
            " [ 68  30]]\n",
            "              precision    recall  f1-score   support\n",
            "\n",
            "           0       0.79      0.89      0.84       170\n",
            "           1       0.76      0.59      0.67        98\n",
            "\n",
            "    accuracy                           0.78       268\n",
            "   macro avg       0.78      0.74      0.75       268\n",
            "weighted avg       0.78      0.78      0.78       268\n",
            "\n"
          ]
        }
      ]
    },
    {
      "cell_type": "markdown",
      "source": [
        "### (3) 실습1"
      ],
      "metadata": {
        "id": "xMGgnz9TvDSr"
      }
    },
    {
      "cell_type": "markdown",
      "source": [
        "* 다음의 summary를 보고 모델을 설계하시오.\n",
        "\n",
        "| Layer (type) | Output Shape | 옵션 |\n",
        "| ---- | ---- | ---- |\n",
        "| dense (Dense) | (None, 16)  | node, input_shape, activation = 'relu' |\n",
        "| dense_1 (Dense) | (None, 1) | node, activation = 'sigmoid' |     "
      ],
      "metadata": {
        "id": "MZQ1GyB7vONX"
      }
    },
    {
      "cell_type": "code",
      "source": [
        "n"
      ],
      "metadata": {
        "colab": {
          "base_uri": "https://localhost:8080/"
        },
        "id": "9LVJ5rwpTqda",
        "outputId": "bccda460-7702-40ea-9f79-a088e0f3c4d1"
      },
      "execution_count": 33,
      "outputs": [
        {
          "output_type": "execute_result",
          "data": {
            "text/plain": [
              "8"
            ]
          },
          "metadata": {},
          "execution_count": 33
        }
      ]
    },
    {
      "cell_type": "code",
      "source": [
        "clear_session()\n",
        "model1 = Sequential([Dense(16, input_shape=(n, ), activation='relu'),\n",
        "                     Dense(1, activation='sigmoid')])\n",
        "model1.summary()"
      ],
      "metadata": {
        "id": "siwyHvr1rmAM",
        "colab": {
          "base_uri": "https://localhost:8080/"
        },
        "outputId": "c083465e-0eb9-4137-afa5-62df1f40d9db"
      },
      "execution_count": 36,
      "outputs": [
        {
          "output_type": "stream",
          "name": "stdout",
          "text": [
            "Model: \"sequential\"\n",
            "_________________________________________________________________\n",
            " Layer (type)                Output Shape              Param #   \n",
            "=================================================================\n",
            " dense (Dense)               (None, 16)                144       \n",
            "                                                                 \n",
            " dense_1 (Dense)             (None, 1)                 17        \n",
            "                                                                 \n",
            "=================================================================\n",
            "Total params: 161 (644.00 Byte)\n",
            "Trainable params: 161 (644.00 Byte)\n",
            "Non-trainable params: 0 (0.00 Byte)\n",
            "_________________________________________________________________\n"
          ]
        }
      ]
    },
    {
      "cell_type": "code",
      "source": [
        "model1.compile(optimizer=Adam(0.1), loss='binary_crossentropy')\n",
        "hist = model1.fit(x_train, y_train, epochs=20, validation_split=0.2).history"
      ],
      "metadata": {
        "id": "iEZWr_jNwCpr",
        "colab": {
          "base_uri": "https://localhost:8080/"
        },
        "outputId": "2bb04829-0046-4e02-b9db-e9a8f3aba2dd"
      },
      "execution_count": 37,
      "outputs": [
        {
          "output_type": "stream",
          "name": "stdout",
          "text": [
            "Epoch 1/20\n",
            "16/16 [==============================] - 1s 22ms/step - loss: 0.5767 - val_loss: 0.4712\n",
            "Epoch 2/20\n",
            "16/16 [==============================] - 0s 7ms/step - loss: 0.4628 - val_loss: 0.4197\n",
            "Epoch 3/20\n",
            "16/16 [==============================] - 0s 8ms/step - loss: 0.4480 - val_loss: 0.4260\n",
            "Epoch 4/20\n",
            "16/16 [==============================] - 0s 6ms/step - loss: 0.4381 - val_loss: 0.4003\n",
            "Epoch 5/20\n",
            "16/16 [==============================] - 0s 6ms/step - loss: 0.4265 - val_loss: 0.3962\n",
            "Epoch 6/20\n",
            "16/16 [==============================] - 0s 5ms/step - loss: 0.4276 - val_loss: 0.4283\n",
            "Epoch 7/20\n",
            "16/16 [==============================] - 0s 6ms/step - loss: 0.4413 - val_loss: 0.4087\n",
            "Epoch 8/20\n",
            "16/16 [==============================] - 0s 7ms/step - loss: 0.4367 - val_loss: 0.4151\n",
            "Epoch 9/20\n",
            "16/16 [==============================] - 0s 7ms/step - loss: 0.4314 - val_loss: 0.4136\n",
            "Epoch 10/20\n",
            "16/16 [==============================] - 0s 6ms/step - loss: 0.4113 - val_loss: 0.3940\n",
            "Epoch 11/20\n",
            "16/16 [==============================] - 0s 6ms/step - loss: 0.4181 - val_loss: 0.3902\n",
            "Epoch 12/20\n",
            "16/16 [==============================] - 0s 6ms/step - loss: 0.4142 - val_loss: 0.4192\n",
            "Epoch 13/20\n",
            "16/16 [==============================] - 0s 6ms/step - loss: 0.4213 - val_loss: 0.4043\n",
            "Epoch 14/20\n",
            "16/16 [==============================] - 0s 7ms/step - loss: 0.4380 - val_loss: 0.3985\n",
            "Epoch 15/20\n",
            "16/16 [==============================] - 0s 5ms/step - loss: 0.4144 - val_loss: 0.3973\n",
            "Epoch 16/20\n",
            "16/16 [==============================] - 0s 5ms/step - loss: 0.4087 - val_loss: 0.3956\n",
            "Epoch 17/20\n",
            "16/16 [==============================] - 0s 6ms/step - loss: 0.4098 - val_loss: 0.4068\n",
            "Epoch 18/20\n",
            "16/16 [==============================] - 0s 7ms/step - loss: 0.4139 - val_loss: 0.4031\n",
            "Epoch 19/20\n",
            "16/16 [==============================] - 0s 6ms/step - loss: 0.4191 - val_loss: 0.4055\n",
            "Epoch 20/20\n",
            "16/16 [==============================] - 0s 7ms/step - loss: 0.4154 - val_loss: 0.4165\n"
          ]
        }
      ]
    },
    {
      "cell_type": "code",
      "source": [
        "dl_history_plot(hist)"
      ],
      "metadata": {
        "id": "T9plSoBwwCh8",
        "colab": {
          "base_uri": "https://localhost:8080/",
          "height": 542
        },
        "outputId": "118289f4-32d9-4ab9-a99f-8504f52dada1"
      },
      "execution_count": 38,
      "outputs": [
        {
          "output_type": "display_data",
          "data": {
            "text/plain": [
              "<Figure size 1000x600 with 1 Axes>"
            ],
            "image/png": "[encoded data removed]"
          },
          "metadata": {}
        }
      ]
    },
    {
      "cell_type": "code",
      "source": [
        "pred = model1.predict(x_val)\n",
        "pred = np.where(pred >= 0.5, 1, 0)"
      ],
      "metadata": {
        "colab": {
          "base_uri": "https://localhost:8080/"
        },
        "id": "tVxiHXAXU0ac",
        "outputId": "ca91e511-3a3a-44e0-f4e8-cedb12c615d2"
      },
      "execution_count": 40,
      "outputs": [
        {
          "output_type": "stream",
          "name": "stdout",
          "text": [
            "9/9 [==============================] - 0s 3ms/step\n"
          ]
        }
      ]
    },
    {
      "cell_type": "code",
      "source": [
        "print(confusion_matrix(y_val, pred))\n",
        "print(classification_report(y_val, pred))"
      ],
      "metadata": {
        "id": "PTzZV-_DwCY3",
        "colab": {
          "base_uri": "https://localhost:8080/"
        },
        "outputId": "67c337e4-12fb-44b4-b4d7-9d33feb398aa"
      },
      "execution_count": 44,
      "outputs": [
        {
          "output_type": "stream",
          "name": "stdout",
          "text": [
            "[[148  22]\n",
            " [ 35  63]]\n",
            "              precision    recall  f1-score   support\n",
            "\n",
            "           0       0.81      0.87      0.84       170\n",
            "           1       0.74      0.64      0.69        98\n",
            "\n",
            "    accuracy                           0.79       268\n",
            "   macro avg       0.77      0.76      0.76       268\n",
            "weighted avg       0.78      0.79      0.78       268\n",
            "\n"
          ]
        }
      ]
    },
    {
      "cell_type": "markdown",
      "source": [
        "### (4) 실습2"
      ],
      "metadata": {
        "id": "6vx5D3lewBR8"
      }
    },
    {
      "cell_type": "markdown",
      "source": [
        "* 다음의 summary를 보고 모델을 설계하시오.\n",
        "\n",
        "| Layer (type) | Output Shape |  옵션 |\n",
        "| ---- | ---- | ---- |\n",
        "| dense (Dense) | (None, 16) |  node, input_shape, activation = 'relu' |\n",
        "| dense_1 (Dense) | (None, 8) |  node, activation = 'relu'  |\n",
        "| dense_2 (Dense) | (None, 1) |  node, activation = 'sigmoid'  |"
      ],
      "metadata": {
        "id": "ziu8sULAwBR9"
      }
    },
    {
      "cell_type": "code",
      "source": [
        "clear_session()\n",
        "model2 = Sequential([Dense(16, input_shape=(n, ), activation='relu'),\n",
        "                     Dense(8, activation='relu'),\n",
        "                     Dense(1, activation='sigmoid')])\n",
        "model2.summary()"
      ],
      "metadata": {
        "id": "4pjBD4I47ZC_",
        "colab": {
          "base_uri": "https://localhost:8080/"
        },
        "outputId": "d80e4374-c942-4b26-f663-b177710727f2"
      },
      "execution_count": 45,
      "outputs": [
        {
          "output_type": "stream",
          "name": "stdout",
          "text": [
            "Model: \"sequential\"\n",
            "_________________________________________________________________\n",
            " Layer (type)                Output Shape              Param #   \n",
            "=================================================================\n",
            " dense (Dense)               (None, 16)                144       \n",
            "                                                                 \n",
            " dense_1 (Dense)             (None, 8)                 136       \n",
            "                                                                 \n",
            " dense_2 (Dense)             (None, 1)                 9         \n",
            "                                                                 \n",
            "=================================================================\n",
            "Total params: 289 (1.13 KB)\n",
            "Trainable params: 289 (1.13 KB)\n",
            "Non-trainable params: 0 (0.00 Byte)\n",
            "_________________________________________________________________\n"
          ]
        }
      ]
    },
    {
      "cell_type": "code",
      "source": [
        "model2.compile(optimizer=Adam(0.1), loss='binary_crossentropy')\n",
        "hist = model2.fit(x_train, y_train, epochs = 50, validation_split=0.2).history"
      ],
      "metadata": {
        "id": "X4tKhe5I7ZDA",
        "colab": {
          "base_uri": "https://localhost:8080/"
        },
        "outputId": "6ea016e9-aeb1-4eab-b0ad-af3ddb221be0"
      },
      "execution_count": 47,
      "outputs": [
        {
          "output_type": "stream",
          "name": "stdout",
          "text": [
            "Epoch 1/50\n",
            "16/16 [==============================] - 1s 20ms/step - loss: 0.6072 - val_loss: 0.5143\n",
            "Epoch 2/50\n",
            "16/16 [==============================] - 0s 6ms/step - loss: 0.4673 - val_loss: 0.4678\n",
            "Epoch 3/50\n",
            "16/16 [==============================] - 0s 7ms/step - loss: 0.4408 - val_loss: 0.4563\n",
            "Epoch 4/50\n",
            "16/16 [==============================] - 0s 6ms/step - loss: 0.4559 - val_loss: 0.4008\n",
            "Epoch 5/50\n",
            "16/16 [==============================] - 0s 6ms/step - loss: 0.4555 - val_loss: 0.4101\n",
            "Epoch 6/50\n",
            "16/16 [==============================] - 0s 7ms/step - loss: 0.4344 - val_loss: 0.4082\n",
            "Epoch 7/50\n",
            "16/16 [==============================] - 0s 6ms/step - loss: 0.4347 - val_loss: 0.4019\n",
            "Epoch 8/50\n",
            "16/16 [==============================] - 0s 7ms/step - loss: 0.4207 - val_loss: 0.4011\n",
            "Epoch 9/50\n",
            "16/16 [==============================] - 0s 6ms/step - loss: 0.4108 - val_loss: 0.3968\n",
            "Epoch 10/50\n",
            "16/16 [==============================] - 0s 6ms/step - loss: 0.4118 - val_loss: 0.3900\n",
            "Epoch 11/50\n",
            "16/16 [==============================] - 0s 7ms/step - loss: 0.4152 - val_loss: 0.4400\n",
            "Epoch 12/50\n",
            "16/16 [==============================] - 0s 8ms/step - loss: 0.4088 - val_loss: 0.4613\n",
            "Epoch 13/50\n",
            "16/16 [==============================] - 0s 7ms/step - loss: 0.4262 - val_loss: 0.4046\n",
            "Epoch 14/50\n",
            "16/16 [==============================] - 0s 7ms/step - loss: 0.4917 - val_loss: 0.5253\n",
            "Epoch 15/50\n",
            "16/16 [==============================] - 0s 7ms/step - loss: 0.4470 - val_loss: 0.4433\n",
            "Epoch 16/50\n",
            "16/16 [==============================] - 0s 7ms/step - loss: 0.4259 - val_loss: 0.4327\n",
            "Epoch 17/50\n",
            "16/16 [==============================] - 0s 5ms/step - loss: 0.4190 - val_loss: 0.4122\n",
            "Epoch 18/50\n",
            "16/16 [==============================] - 0s 5ms/step - loss: 0.4120 - val_loss: 0.5035\n",
            "Epoch 19/50\n",
            "16/16 [==============================] - 0s 6ms/step - loss: 0.4478 - val_loss: 0.4183\n",
            "Epoch 20/50\n",
            "16/16 [==============================] - 0s 7ms/step - loss: 0.4129 - val_loss: 0.3980\n",
            "Epoch 21/50\n",
            "16/16 [==============================] - 0s 5ms/step - loss: 0.4152 - val_loss: 0.4180\n",
            "Epoch 22/50\n",
            "16/16 [==============================] - 0s 6ms/step - loss: 0.4010 - val_loss: 0.4194\n",
            "Epoch 23/50\n",
            "16/16 [==============================] - 0s 7ms/step - loss: 0.4071 - val_loss: 0.4060\n",
            "Epoch 24/50\n",
            "16/16 [==============================] - 0s 7ms/step - loss: 0.4034 - val_loss: 0.4026\n",
            "Epoch 25/50\n",
            "16/16 [==============================] - 0s 6ms/step - loss: 0.4041 - val_loss: 0.4243\n",
            "Epoch 26/50\n",
            "16/16 [==============================] - 0s 6ms/step - loss: 0.4172 - val_loss: 0.4270\n",
            "Epoch 27/50\n",
            "16/16 [==============================] - 0s 6ms/step - loss: 0.4175 - val_loss: 0.3934\n",
            "Epoch 28/50\n",
            "16/16 [==============================] - 0s 5ms/step - loss: 0.4044 - val_loss: 0.4039\n",
            "Epoch 29/50\n",
            "16/16 [==============================] - 0s 6ms/step - loss: 0.4161 - val_loss: 0.4229\n",
            "Epoch 30/50\n",
            "16/16 [==============================] - 0s 5ms/step - loss: 0.4102 - val_loss: 0.3916\n",
            "Epoch 31/50\n",
            "16/16 [==============================] - 0s 6ms/step - loss: 0.3985 - val_loss: 0.3828\n",
            "Epoch 32/50\n",
            "16/16 [==============================] - 0s 6ms/step - loss: 0.4095 - val_loss: 0.4072\n",
            "Epoch 33/50\n",
            "16/16 [==============================] - 0s 7ms/step - loss: 0.4203 - val_loss: 0.4274\n",
            "Epoch 34/50\n",
            "16/16 [==============================] - 0s 7ms/step - loss: 0.4138 - val_loss: 0.4034\n",
            "Epoch 35/50\n",
            "16/16 [==============================] - 0s 6ms/step - loss: 0.4012 - val_loss: 0.4000\n",
            "Epoch 36/50\n",
            "16/16 [==============================] - 0s 5ms/step - loss: 0.3880 - val_loss: 0.4316\n",
            "Epoch 37/50\n",
            "16/16 [==============================] - 0s 5ms/step - loss: 0.4218 - val_loss: 0.4120\n",
            "Epoch 38/50\n",
            "16/16 [==============================] - 0s 6ms/step - loss: 0.4167 - val_loss: 0.4176\n",
            "Epoch 39/50\n",
            "16/16 [==============================] - 0s 6ms/step - loss: 0.4158 - val_loss: 0.4107\n",
            "Epoch 40/50\n",
            "16/16 [==============================] - 0s 6ms/step - loss: 0.3972 - val_loss: 0.4108\n",
            "Epoch 41/50\n",
            "16/16 [==============================] - 0s 6ms/step - loss: 0.4017 - val_loss: 0.4129\n",
            "Epoch 42/50\n",
            "16/16 [==============================] - 0s 6ms/step - loss: 0.4031 - val_loss: 0.4008\n",
            "Epoch 43/50\n",
            "16/16 [==============================] - 0s 7ms/step - loss: 0.3948 - val_loss: 0.4081\n",
            "Epoch 44/50\n",
            "16/16 [==============================] - 0s 7ms/step - loss: 0.4000 - val_loss: 0.4346\n",
            "Epoch 45/50\n",
            "16/16 [==============================] - 0s 6ms/step - loss: 0.4111 - val_loss: 0.4127\n",
            "Epoch 46/50\n",
            "16/16 [==============================] - 0s 8ms/step - loss: 0.4171 - val_loss: 0.3955\n",
            "Epoch 47/50\n",
            "16/16 [==============================] - 0s 6ms/step - loss: 0.4027 - val_loss: 0.4223\n",
            "Epoch 48/50\n",
            "16/16 [==============================] - 0s 6ms/step - loss: 0.3921 - val_loss: 0.3990\n",
            "Epoch 49/50\n",
            "16/16 [==============================] - 0s 6ms/step - loss: 0.4002 - val_loss: 0.3772\n",
            "Epoch 50/50\n",
            "16/16 [==============================] - 0s 6ms/step - loss: 0.3787 - val_loss: 0.4107\n"
          ]
        }
      ]
    },
    {
      "cell_type": "code",
      "source": [
        "pred = model2.predict(x_val)\n",
        "pred = np.where(pred >= 0.5, 1, 0)"
      ],
      "metadata": {
        "id": "S6nBGk417ZDA",
        "colab": {
          "base_uri": "https://localhost:8080/"
        },
        "outputId": "b1525e81-0688-41fd-9179-4e16afab04f2"
      },
      "execution_count": 48,
      "outputs": [
        {
          "output_type": "stream",
          "name": "stdout",
          "text": [
            "9/9 [==============================] - 0s 5ms/step\n"
          ]
        }
      ]
    },
    {
      "cell_type": "code",
      "source": [
        "dl_history_plot(hist)"
      ],
      "metadata": {
        "colab": {
          "base_uri": "https://localhost:8080/",
          "height": 542
        },
        "id": "ispE49LEWngo",
        "outputId": "27091c06-143b-483a-fcf9-d647e2230299"
      },
      "execution_count": 50,
      "outputs": [
        {
          "output_type": "display_data",
          "data": {
            "text/plain": [
              "<Figure size 1000x600 with 1 Axes>"
            ],
            "image/png": "[encoded data removed]"
          },
          "metadata": {}
        }
      ]
    },
    {
      "cell_type": "code",
      "source": [
        "print(confusion_matrix(y_val, pred))\n",
        "print(classification_report(y_val, pred))"
      ],
      "metadata": {
        "id": "518wCj7D7ZDA",
        "colab": {
          "base_uri": "https://localhost:8080/"
        },
        "outputId": "2c9a025a-22db-49e5-b1b5-b9b550a89905"
      },
      "execution_count": 49,
      "outputs": [
        {
          "output_type": "stream",
          "name": "stdout",
          "text": [
            "[[145  25]\n",
            " [ 36  62]]\n",
            "              precision    recall  f1-score   support\n",
            "\n",
            "           0       0.80      0.85      0.83       170\n",
            "           1       0.71      0.63      0.67        98\n",
            "\n",
            "    accuracy                           0.77       268\n",
            "   macro avg       0.76      0.74      0.75       268\n",
            "weighted avg       0.77      0.77      0.77       268\n",
            "\n"
          ]
        }
      ]
    },
    {
      "cell_type": "markdown",
      "source": [
        "### (5) 실습3"
      ],
      "metadata": {
        "id": "YC5zRh2BxHgb"
      }
    },
    {
      "cell_type": "markdown",
      "source": [
        "* 이번에는 여러분이 원하는 대로 설계하고, 학습해 봅시다.\n"
      ],
      "metadata": {
        "id": "9RFDZgfMxHgb"
      }
    },
    {
      "cell_type": "code",
      "source": [
        "n"
      ],
      "metadata": {
        "colab": {
          "base_uri": "https://localhost:8080/"
        },
        "id": "fPUvwfUJl6r_",
        "outputId": "42449664-58d6-406c-a4f5-9e2f404e2be3"
      },
      "execution_count": 51,
      "outputs": [
        {
          "output_type": "execute_result",
          "data": {
            "text/plain": [
              "8"
            ]
          },
          "metadata": {},
          "execution_count": 51
        }
      ]
    },
    {
      "cell_type": "code",
      "source": [
        "clear_session()\n",
        "model3 = Sequential([Dense(16, input_shape=(n, ), activation='relu'),\n",
        "                     Dense(8, activation='relu'),\n",
        "                     Dense(4, activation='relu'),\n",
        "                     Dense(1, activation='sigmoid')])\n",
        "model3.summary()"
      ],
      "metadata": {
        "id": "NxQr68WtxHgb",
        "colab": {
          "base_uri": "https://localhost:8080/"
        },
        "outputId": "9e459ac7-6422-4538-c66b-70a573aa6088"
      },
      "execution_count": 107,
      "outputs": [
        {
          "output_type": "stream",
          "name": "stdout",
          "text": [
            "Model: \"sequential\"\n",
            "_________________________________________________________________\n",
            " Layer (type)                Output Shape              Param #   \n",
            "=================================================================\n",
            " dense (Dense)               (None, 16)                144       \n",
            "                                                                 \n",
            " dense_1 (Dense)             (None, 8)                 136       \n",
            "                                                                 \n",
            " dense_2 (Dense)             (None, 4)                 36        \n",
            "                                                                 \n",
            " dense_3 (Dense)             (None, 1)                 5         \n",
            "                                                                 \n",
            "=================================================================\n",
            "Total params: 321 (1.25 KB)\n",
            "Trainable params: 321 (1.25 KB)\n",
            "Non-trainable params: 0 (0.00 Byte)\n",
            "_________________________________________________________________\n"
          ]
        }
      ]
    },
    {
      "cell_type": "code",
      "source": [
        "model3.compile(optimizer=Adam(0.05), loss='binary_crossentropy')\n",
        "model3.fit(x_train, y_train, epochs=50, validation_split=0.2)"
      ],
      "metadata": {
        "id": "1KWGPsVqxHgd",
        "colab": {
          "base_uri": "https://localhost:8080/"
        },
        "outputId": "9841660b-0662-4c79-fa98-fc9a45b841a2"
      },
      "execution_count": 108,
      "outputs": [
        {
          "output_type": "stream",
          "name": "stdout",
          "text": [
            "Epoch 1/50\n",
            "16/16 [==============================] - 2s 21ms/step - loss: 0.6379 - val_loss: 0.5415\n",
            "Epoch 2/50\n",
            "16/16 [==============================] - 0s 6ms/step - loss: 0.5589 - val_loss: 0.4992\n",
            "Epoch 3/50\n",
            "16/16 [==============================] - 0s 8ms/step - loss: 0.4987 - val_loss: 0.4611\n",
            "Epoch 4/50\n",
            "16/16 [==============================] - 0s 7ms/step - loss: 0.4679 - val_loss: 0.4550\n",
            "Epoch 5/50\n",
            "16/16 [==============================] - 0s 7ms/step - loss: 0.4511 - val_loss: 0.4637\n",
            "Epoch 6/50\n",
            "16/16 [==============================] - 0s 7ms/step - loss: 0.4503 - val_loss: 0.4844\n",
            "Epoch 7/50\n",
            "16/16 [==============================] - 0s 6ms/step - loss: 0.4290 - val_loss: 0.4123\n",
            "Epoch 8/50\n",
            "16/16 [==============================] - 0s 6ms/step - loss: 0.4272 - val_loss: 0.4248\n",
            "Epoch 9/50\n",
            "16/16 [==============================] - 0s 6ms/step - loss: 0.4561 - val_loss: 0.4411\n",
            "Epoch 10/50\n",
            "16/16 [==============================] - 0s 4ms/step - loss: 0.4391 - val_loss: 0.4182\n",
            "Epoch 11/50\n",
            "16/16 [==============================] - 0s 4ms/step - loss: 0.4218 - val_loss: 0.4385\n",
            "Epoch 12/50\n",
            "16/16 [==============================] - 0s 6ms/step - loss: 0.4189 - val_loss: 0.4432\n",
            "Epoch 13/50\n",
            "16/16 [==============================] - 0s 8ms/step - loss: 0.4363 - val_loss: 0.4116\n",
            "Epoch 14/50\n",
            "16/16 [==============================] - 0s 6ms/step - loss: 0.4203 - val_loss: 0.4073\n",
            "Epoch 15/50\n",
            "16/16 [==============================] - 0s 7ms/step - loss: 0.4192 - val_loss: 0.4802\n",
            "Epoch 16/50\n",
            "16/16 [==============================] - 0s 6ms/step - loss: 0.4471 - val_loss: 0.4271\n",
            "Epoch 17/50\n",
            "16/16 [==============================] - 0s 5ms/step - loss: 0.4283 - val_loss: 0.4205\n",
            "Epoch 18/50\n",
            "16/16 [==============================] - 0s 5ms/step - loss: 0.4274 - val_loss: 0.4682\n",
            "Epoch 19/50\n",
            "16/16 [==============================] - 0s 6ms/step - loss: 0.4035 - val_loss: 0.4004\n",
            "Epoch 20/50\n",
            "16/16 [==============================] - 0s 6ms/step - loss: 0.4217 - val_loss: 0.4856\n",
            "Epoch 21/50\n",
            "16/16 [==============================] - 0s 5ms/step - loss: 0.4484 - val_loss: 0.4053\n",
            "Epoch 22/50\n",
            "16/16 [==============================] - 0s 5ms/step - loss: 0.4234 - val_loss: 0.4136\n",
            "Epoch 23/50\n",
            "16/16 [==============================] - 0s 5ms/step - loss: 0.4035 - val_loss: 0.4077\n",
            "Epoch 24/50\n",
            "16/16 [==============================] - 0s 5ms/step - loss: 0.4415 - val_loss: 0.4152\n",
            "Epoch 25/50\n",
            "16/16 [==============================] - 0s 7ms/step - loss: 0.4284 - val_loss: 0.4034\n",
            "Epoch 26/50\n",
            "16/16 [==============================] - 0s 6ms/step - loss: 0.4175 - val_loss: 0.4398\n",
            "Epoch 27/50\n",
            "16/16 [==============================] - 0s 6ms/step - loss: 0.4244 - val_loss: 0.4082\n",
            "Epoch 28/50\n",
            "16/16 [==============================] - 0s 6ms/step - loss: 0.4038 - val_loss: 0.4070\n",
            "Epoch 29/50\n",
            "16/16 [==============================] - 0s 6ms/step - loss: 0.4149 - val_loss: 0.3999\n",
            "Epoch 30/50\n",
            "16/16 [==============================] - 0s 5ms/step - loss: 0.4061 - val_loss: 0.4216\n",
            "Epoch 31/50\n",
            "16/16 [==============================] - 0s 6ms/step - loss: 0.4101 - val_loss: 0.4003\n",
            "Epoch 32/50\n",
            "16/16 [==============================] - 0s 6ms/step - loss: 0.4019 - val_loss: 0.4084\n",
            "Epoch 33/50\n",
            "16/16 [==============================] - 0s 6ms/step - loss: 0.3984 - val_loss: 0.3996\n",
            "Epoch 34/50\n",
            "16/16 [==============================] - 0s 6ms/step - loss: 0.4072 - val_loss: 0.4024\n",
            "Epoch 35/50\n",
            "16/16 [==============================] - 0s 6ms/step - loss: 0.4039 - val_loss: 0.4122\n",
            "Epoch 36/50\n",
            "16/16 [==============================] - 0s 7ms/step - loss: 0.4058 - val_loss: 0.4099\n",
            "Epoch 37/50\n",
            "16/16 [==============================] - 0s 6ms/step - loss: 0.4086 - val_loss: 0.4088\n",
            "Epoch 38/50\n",
            "16/16 [==============================] - 0s 6ms/step - loss: 0.4135 - val_loss: 0.4033\n",
            "Epoch 39/50\n",
            "16/16 [==============================] - 0s 5ms/step - loss: 0.4106 - val_loss: 0.4122\n",
            "Epoch 40/50\n",
            "16/16 [==============================] - 0s 4ms/step - loss: 0.4028 - val_loss: 0.4014\n",
            "Epoch 41/50\n",
            "16/16 [==============================] - 0s 5ms/step - loss: 0.4106 - val_loss: 0.4360\n",
            "Epoch 42/50\n",
            "16/16 [==============================] - 0s 5ms/step - loss: 0.4009 - val_loss: 0.4055\n",
            "Epoch 43/50\n",
            "16/16 [==============================] - 0s 5ms/step - loss: 0.4006 - val_loss: 0.4124\n",
            "Epoch 44/50\n",
            "16/16 [==============================] - 0s 5ms/step - loss: 0.3990 - val_loss: 0.4296\n",
            "Epoch 45/50\n",
            "16/16 [==============================] - 0s 4ms/step - loss: 0.4274 - val_loss: 0.5295\n",
            "Epoch 46/50\n",
            "16/16 [==============================] - 0s 4ms/step - loss: 0.4381 - val_loss: 0.4725\n",
            "Epoch 47/50\n",
            "16/16 [==============================] - 0s 5ms/step - loss: 0.4469 - val_loss: 0.4274\n",
            "Epoch 48/50\n",
            "16/16 [==============================] - 0s 5ms/step - loss: 0.4387 - val_loss: 0.4088\n",
            "Epoch 49/50\n",
            "16/16 [==============================] - 0s 5ms/step - loss: 0.4088 - val_loss: 0.4246\n",
            "Epoch 50/50\n",
            "16/16 [==============================] - 0s 4ms/step - loss: 0.4117 - val_loss: 0.4311\n"
          ]
        },
        {
          "output_type": "execute_result",
          "data": {
            "text/plain": [
              "<keras.src.callbacks.History at 0x7f0397b29ab0>"
            ]
          },
          "metadata": {},
          "execution_count": 108
        }
      ]
    },
    {
      "cell_type": "code",
      "source": [
        "pred = model3.predict(x_val)\n",
        "pred = np.where(pred >= 0.45, 1 , 0)"
      ],
      "metadata": {
        "id": "iAnWkxcwxHgd",
        "colab": {
          "base_uri": "https://localhost:8080/"
        },
        "outputId": "adfec642-7c20-4380-d9b2-4fa9e4db93ec"
      },
      "execution_count": 109,
      "outputs": [
        {
          "output_type": "stream",
          "name": "stdout",
          "text": [
            "9/9 [==============================] - 0s 2ms/step\n"
          ]
        }
      ]
    },
    {
      "cell_type": "code",
      "source": [
        "dl_history_plot(hist)"
      ],
      "metadata": {
        "id": "odSzTWryxHgd",
        "colab": {
          "base_uri": "https://localhost:8080/",
          "height": 542
        },
        "outputId": "8235dbe3-492d-423c-9ca2-751dd6c10edf"
      },
      "execution_count": 110,
      "outputs": [
        {
          "output_type": "display_data",
          "data": {
            "text/plain": [
              "<Figure size 1000x600 with 1 Axes>"
            ],
            "image/png": "[encoded data removed]"
          },
          "metadata": {}
        }
      ]
    },
    {
      "cell_type": "code",
      "source": [
        "print(confusion_matrix(y_val, pred))\n",
        "print(classification_report(y_val, pred))"
      ],
      "metadata": {
        "colab": {
          "base_uri": "https://localhost:8080/"
        },
        "id": "HkUFu071m7X8",
        "outputId": "927be97f-6c42-4a67-8197-2e694a1a0b05"
      },
      "execution_count": 111,
      "outputs": [
        {
          "output_type": "stream",
          "name": "stdout",
          "text": [
            "[[136  34]\n",
            " [ 25  73]]\n",
            "              precision    recall  f1-score   support\n",
            "\n",
            "           0       0.84      0.80      0.82       170\n",
            "           1       0.68      0.74      0.71        98\n",
            "\n",
            "    accuracy                           0.78       268\n",
            "   macro avg       0.76      0.77      0.77       268\n",
            "weighted avg       0.79      0.78      0.78       268\n",
            "\n"
          ]
        }
      ]
    },
    {
      "cell_type": "code",
      "source": [],
      "metadata": {
        "id": "i1zf4P8rm890"
      },
      "execution_count": 96,
      "outputs": []
    }
  ]
}