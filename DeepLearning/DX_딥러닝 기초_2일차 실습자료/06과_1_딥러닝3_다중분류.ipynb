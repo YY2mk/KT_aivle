{
  "nbformat": 4,
  "nbformat_minor": 0,
  "metadata": {
    "colab": {
      "provenance": [],
      "include_colab_link": true
    },
    "kernelspec": {
      "name": "python3",
      "display_name": "Python 3"
    }
  },
  "cells": [
    {
      "cell_type": "markdown",
      "metadata": {
        "id": "view-in-github",
        "colab_type": "text"
      },
      "source": [
        "<a href=\"https://colab.research.google.com/github/YY2mk/KT_aivle/blob/master/DeepLearning/DX_%EB%94%A5%EB%9F%AC%EB%8B%9D%20%EA%B8%B0%EC%B4%88_2%EC%9D%BC%EC%B0%A8%20%EC%8B%A4%EC%8A%B5%EC%9E%90%EB%A3%8C/06%EA%B3%BC_1_%EB%94%A5%EB%9F%AC%EB%8B%9D3_%EB%8B%A4%EC%A4%91%EB%B6%84%EB%A5%98.ipynb\" target=\"_parent\"><img src=\"https://colab.research.google.com/assets/colab-badge.svg\" alt=\"Open In Colab\"/></a>"
      ]
    },
    {
      "cell_type": "markdown",
      "metadata": {
        "id": "cVB9pY-v8uv5"
      },
      "source": [
        "# 딥러닝3 : 다중분류\n"
      ]
    },
    {
      "cell_type": "markdown",
      "metadata": {
        "id": "gIN5d51gtker"
      },
      "source": [
        "## 1.환경준비"
      ]
    },
    {
      "cell_type": "markdown",
      "source": [
        "### (1) 라이브러리 로딩"
      ],
      "metadata": {
        "id": "98K82DAxvX6I"
      }
    },
    {
      "cell_type": "code",
      "metadata": {
        "id": "GVvCef6A8uv6"
      },
      "source": [
        "import pandas as pd\n",
        "import numpy as np\n",
        "import matplotlib.pyplot as plt\n",
        "import seaborn as sns\n",
        "\n",
        "from sklearn.model_selection import train_test_split\n",
        "from sklearn.metrics import *\n",
        "from sklearn.preprocessing import MinMaxScaler\n",
        "\n",
        "from keras.models import Sequential\n",
        "from keras.layers import Dense\n",
        "from keras.backend import clear_session\n",
        "from keras.optimizers import Adam"
      ],
      "execution_count": 1,
      "outputs": []
    },
    {
      "cell_type": "markdown",
      "source": [
        "* 함수 만들기"
      ],
      "metadata": {
        "id": "_h70-6MP7wtO"
      }
    },
    {
      "cell_type": "code",
      "source": [
        "# 학습곡선 함수\n",
        "def dl_history_plot(history):\n",
        "    plt.figure(figsize=(10,6))\n",
        "    plt.plot(history['loss'], label='train_err', marker = '.')\n",
        "    plt.plot(history['val_loss'], label='val_err', marker = '.')\n",
        "\n",
        "    plt.ylabel('Loss')\n",
        "    plt.xlabel('Epoch')\n",
        "    plt.legend()\n",
        "    plt.grid()\n",
        "    plt.show()"
      ],
      "metadata": {
        "id": "JWswaopv7yBI"
      },
      "execution_count": 2,
      "outputs": []
    },
    {
      "cell_type": "markdown",
      "source": [
        "### (2) 데이터로딩"
      ],
      "metadata": {
        "id": "6wuqykgvviCc"
      }
    },
    {
      "cell_type": "code",
      "metadata": {
        "id": "Vqr7zY5r8uwC",
        "colab": {
          "base_uri": "https://localhost:8080/",
          "height": 206
        },
        "outputId": "6ad8c05c-826f-4ccc-9b57-2c9da7c7aff8"
      },
      "source": [
        "path = \"https://raw.githubusercontent.com/DA4BAM/dataset/master/iris.csv\"\n",
        "data = pd.read_csv(path)\n",
        "data.head()"
      ],
      "execution_count": 3,
      "outputs": [
        {
          "output_type": "execute_result",
          "data": {
            "text/plain": [
              "   Sepal.Length  Sepal.Width  Petal.Length  Petal.Width Species\n",
              "0           5.1          3.5           1.4          0.2  setosa\n",
              "1           4.9          3.0           1.4          0.2  setosa\n",
              "2           4.7          3.2           1.3          0.2  setosa\n",
              "3           4.6          3.1           1.5          0.2  setosa\n",
              "4           5.0          3.6           1.4          0.2  setosa"
            ],
            "text/html": [
              "\n",
              "  <div id=\"df-688fff1e-a6a3-42e8-bf73-48f9fe28c640\" class=\"colab-df-container\">\n",
              "    <div>\n",
              "<style scoped>\n",
              "    .dataframe tbody tr th:only-of-type {\n",
              "        vertical-align: middle;\n",
              "    }\n",
              "\n",
              "    .dataframe tbody tr th {\n",
              "        vertical-align: top;\n",
              "    }\n",
              "\n",
              "    .dataframe thead th {\n",
              "        text-align: right;\n",
              "    }\n",
              "</style>\n",
              "<table border=\"1\" class=\"dataframe\">\n",
              "  <thead>\n",
              "    <tr style=\"text-align: right;\">\n",
              "      <th></th>\n",
              "      <th>Sepal.Length</th>\n",
              "      <th>Sepal.Width</th>\n",
              "      <th>Petal.Length</th>\n",
              "      <th>Petal.Width</th>\n",
              "      <th>Species</th>\n",
              "    </tr>\n",
              "  </thead>\n",
              "  <tbody>\n",
              "    <tr>\n",
              "      <th>0</th>\n",
              "      <td>5.1</td>\n",
              "      <td>3.5</td>\n",
              "      <td>1.4</td>\n",
              "      <td>0.2</td>\n",
              "      <td>setosa</td>\n",
              "    </tr>\n",
              "    <tr>\n",
              "      <th>1</th>\n",
              "      <td>4.9</td>\n",
              "      <td>3.0</td>\n",
              "      <td>1.4</td>\n",
              "      <td>0.2</td>\n",
              "      <td>setosa</td>\n",
              "    </tr>\n",
              "    <tr>\n",
              "      <th>2</th>\n",
              "      <td>4.7</td>\n",
              "      <td>3.2</td>\n",
              "      <td>1.3</td>\n",
              "      <td>0.2</td>\n",
              "      <td>setosa</td>\n",
              "    </tr>\n",
              "    <tr>\n",
              "      <th>3</th>\n",
              "      <td>4.6</td>\n",
              "      <td>3.1</td>\n",
              "      <td>1.5</td>\n",
              "      <td>0.2</td>\n",
              "      <td>setosa</td>\n",
              "    </tr>\n",
              "    <tr>\n",
              "      <th>4</th>\n",
              "      <td>5.0</td>\n",
              "      <td>3.6</td>\n",
              "      <td>1.4</td>\n",
              "      <td>0.2</td>\n",
              "      <td>setosa</td>\n",
              "    </tr>\n",
              "  </tbody>\n",
              "</table>\n",
              "</div>\n",
              "    <div class=\"colab-df-buttons\">\n",
              "\n",
              "  <div class=\"colab-df-container\">\n",
              "    <button class=\"colab-df-convert\" onclick=\"convertToInteractive('df-688fff1e-a6a3-42e8-bf73-48f9fe28c640')\"\n",
              "            title=\"Convert this dataframe to an interactive table.\"\n",
              "            style=\"display:none;\">\n",
              "\n",
              "  <svg xmlns=\"http://www.w3.org/2000/svg\" height=\"24px\" viewBox=\"0 -960 960 960\">\n",
              "    <path d=\"M120-120v-720h720v720H120Zm60-500h600v-160H180v160Zm220 220h160v-160H400v160Zm0 220h160v-160H400v160ZM180-400h160v-160H180v160Zm440 0h160v-160H620v160ZM180-180h160v-160H180v160Zm440 0h160v-160H620v160Z\"/>\n",
              "  </svg>\n",
              "    </button>\n",
              "\n",
              "  <style>\n",
              "    .colab-df-container {\n",
              "      display:flex;\n",
              "      gap: 12px;\n",
              "    }\n",
              "\n",
              "    .colab-df-convert {\n",
              "      background-color: #E8F0FE;\n",
              "      border: none;\n",
              "      border-radius: 50%;\n",
              "      cursor: pointer;\n",
              "      display: none;\n",
              "      fill: #1967D2;\n",
              "      height: 32px;\n",
              "      padding: 0 0 0 0;\n",
              "      width: 32px;\n",
              "    }\n",
              "\n",
              "    .colab-df-convert:hover {\n",
              "      background-color: #E2EBFA;\n",
              "      box-shadow: 0px 1px 2px rgba(60, 64, 67, 0.3), 0px 1px 3px 1px rgba(60, 64, 67, 0.15);\n",
              "      fill: #174EA6;\n",
              "    }\n",
              "\n",
              "    .colab-df-buttons div {\n",
              "      margin-bottom: 4px;\n",
              "    }\n",
              "\n",
              "    [theme=dark] .colab-df-convert {\n",
              "      background-color: #3B4455;\n",
              "      fill: #D2E3FC;\n",
              "    }\n",
              "\n",
              "    [theme=dark] .colab-df-convert:hover {\n",
              "      background-color: #434B5C;\n",
              "      box-shadow: 0px 1px 3px 1px rgba(0, 0, 0, 0.15);\n",
              "      filter: drop-shadow(0px 1px 2px rgba(0, 0, 0, 0.3));\n",
              "      fill: #FFFFFF;\n",
              "    }\n",
              "  </style>\n",
              "\n",
              "    <script>\n",
              "      const buttonEl =\n",
              "        document.querySelector('#df-688fff1e-a6a3-42e8-bf73-48f9fe28c640 button.colab-df-convert');\n",
              "      buttonEl.style.display =\n",
              "        google.colab.kernel.accessAllowed ? 'block' : 'none';\n",
              "\n",
              "      async function convertToInteractive(key) {\n",
              "        const element = document.querySelector('#df-688fff1e-a6a3-42e8-bf73-48f9fe28c640');\n",
              "        const dataTable =\n",
              "          await google.colab.kernel.invokeFunction('convertToInteractive',\n",
              "                                                    [key], {});\n",
              "        if (!dataTable) return;\n",
              "\n",
              "        const docLinkHtml = 'Like what you see? Visit the ' +\n",
              "          '<a target=\"_blank\" href=https://colab.research.google.com/notebooks/data_table.ipynb>data table notebook</a>'\n",
              "          + ' to learn more about interactive tables.';\n",
              "        element.innerHTML = '';\n",
              "        dataTable['output_type'] = 'display_data';\n",
              "        await google.colab.output.renderOutput(dataTable, element);\n",
              "        const docLink = document.createElement('div');\n",
              "        docLink.innerHTML = docLinkHtml;\n",
              "        element.appendChild(docLink);\n",
              "      }\n",
              "    </script>\n",
              "  </div>\n",
              "\n",
              "\n",
              "<div id=\"df-2d4e36ee-1b71-4ba2-92a0-b2a3f34b93f6\">\n",
              "  <button class=\"colab-df-quickchart\" onclick=\"quickchart('df-2d4e36ee-1b71-4ba2-92a0-b2a3f34b93f6')\"\n",
              "            title=\"Suggest charts\"\n",
              "            style=\"display:none;\">\n",
              "\n",
              "<svg xmlns=\"http://www.w3.org/2000/svg\" height=\"24px\"viewBox=\"0 0 24 24\"\n",
              "     width=\"24px\">\n",
              "    <g>\n",
              "        <path d=\"M19 3H5c-1.1 0-2 .9-2 2v14c0 1.1.9 2 2 2h14c1.1 0 2-.9 2-2V5c0-1.1-.9-2-2-2zM9 17H7v-7h2v7zm4 0h-2V7h2v10zm4 0h-2v-4h2v4z\"/>\n",
              "    </g>\n",
              "</svg>\n",
              "  </button>\n",
              "\n",
              "<style>\n",
              "  .colab-df-quickchart {\n",
              "      --bg-color: #E8F0FE;\n",
              "      --fill-color: #1967D2;\n",
              "      --hover-bg-color: #E2EBFA;\n",
              "      --hover-fill-color: #174EA6;\n",
              "      --disabled-fill-color: #AAA;\n",
              "      --disabled-bg-color: #DDD;\n",
              "  }\n",
              "\n",
              "  [theme=dark] .colab-df-quickchart {\n",
              "      --bg-color: #3B4455;\n",
              "      --fill-color: #D2E3FC;\n",
              "      --hover-bg-color: #434B5C;\n",
              "      --hover-fill-color: #FFFFFF;\n",
              "      --disabled-bg-color: #3B4455;\n",
              "      --disabled-fill-color: #666;\n",
              "  }\n",
              "\n",
              "  .colab-df-quickchart {\n",
              "    background-color: var(--bg-color);\n",
              "    border: none;\n",
              "    border-radius: 50%;\n",
              "    cursor: pointer;\n",
              "    display: none;\n",
              "    fill: var(--fill-color);\n",
              "    height: 32px;\n",
              "    padding: 0;\n",
              "    width: 32px;\n",
              "  }\n",
              "\n",
              "  .colab-df-quickchart:hover {\n",
              "    background-color: var(--hover-bg-color);\n",
              "    box-shadow: 0 1px 2px rgba(60, 64, 67, 0.3), 0 1px 3px 1px rgba(60, 64, 67, 0.15);\n",
              "    fill: var(--button-hover-fill-color);\n",
              "  }\n",
              "\n",
              "  .colab-df-quickchart-complete:disabled,\n",
              "  .colab-df-quickchart-complete:disabled:hover {\n",
              "    background-color: var(--disabled-bg-color);\n",
              "    fill: var(--disabled-fill-color);\n",
              "    box-shadow: none;\n",
              "  }\n",
              "\n",
              "  .colab-df-spinner {\n",
              "    border: 2px solid var(--fill-color);\n",
              "    border-color: transparent;\n",
              "    border-bottom-color: var(--fill-color);\n",
              "    animation:\n",
              "      spin 1s steps(1) infinite;\n",
              "  }\n",
              "\n",
              "  @keyframes spin {\n",
              "    0% {\n",
              "      border-color: transparent;\n",
              "      border-bottom-color: var(--fill-color);\n",
              "      border-left-color: var(--fill-color);\n",
              "    }\n",
              "    20% {\n",
              "      border-color: transparent;\n",
              "      border-left-color: var(--fill-color);\n",
              "      border-top-color: var(--fill-color);\n",
              "    }\n",
              "    30% {\n",
              "      border-color: transparent;\n",
              "      border-left-color: var(--fill-color);\n",
              "      border-top-color: var(--fill-color);\n",
              "      border-right-color: var(--fill-color);\n",
              "    }\n",
              "    40% {\n",
              "      border-color: transparent;\n",
              "      border-right-color: var(--fill-color);\n",
              "      border-top-color: var(--fill-color);\n",
              "    }\n",
              "    60% {\n",
              "      border-color: transparent;\n",
              "      border-right-color: var(--fill-color);\n",
              "    }\n",
              "    80% {\n",
              "      border-color: transparent;\n",
              "      border-right-color: var(--fill-color);\n",
              "      border-bottom-color: var(--fill-color);\n",
              "    }\n",
              "    90% {\n",
              "      border-color: transparent;\n",
              "      border-bottom-color: var(--fill-color);\n",
              "    }\n",
              "  }\n",
              "</style>\n",
              "\n",
              "  <script>\n",
              "    async function quickchart(key) {\n",
              "      const quickchartButtonEl =\n",
              "        document.querySelector('#' + key + ' button');\n",
              "      quickchartButtonEl.disabled = true;  // To prevent multiple clicks.\n",
              "      quickchartButtonEl.classList.add('colab-df-spinner');\n",
              "      try {\n",
              "        const charts = await google.colab.kernel.invokeFunction(\n",
              "            'suggestCharts', [key], {});\n",
              "      } catch (error) {\n",
              "        console.error('Error during call to suggestCharts:', error);\n",
              "      }\n",
              "      quickchartButtonEl.classList.remove('colab-df-spinner');\n",
              "      quickchartButtonEl.classList.add('colab-df-quickchart-complete');\n",
              "    }\n",
              "    (() => {\n",
              "      let quickchartButtonEl =\n",
              "        document.querySelector('#df-2d4e36ee-1b71-4ba2-92a0-b2a3f34b93f6 button');\n",
              "      quickchartButtonEl.style.display =\n",
              "        google.colab.kernel.accessAllowed ? 'block' : 'none';\n",
              "    })();\n",
              "  </script>\n",
              "</div>\n",
              "\n",
              "    </div>\n",
              "  </div>\n"
            ],
            "application/vnd.google.colaboratory.intrinsic+json": {
              "type": "dataframe",
              "variable_name": "data",
              "summary": "{\n  \"name\": \"data\",\n  \"rows\": 150,\n  \"fields\": [\n    {\n      \"column\": \"Sepal.Length\",\n      \"properties\": {\n        \"dtype\": \"number\",\n        \"std\": 0.828066127977863,\n        \"min\": 4.3,\n        \"max\": 7.9,\n        \"num_unique_values\": 35,\n        \"samples\": [\n          6.2,\n          4.5,\n          5.6\n        ],\n        \"semantic_type\": \"\",\n        \"description\": \"\"\n      }\n    },\n    {\n      \"column\": \"Sepal.Width\",\n      \"properties\": {\n        \"dtype\": \"number\",\n        \"std\": 0.4358662849366982,\n        \"min\": 2.0,\n        \"max\": 4.4,\n        \"num_unique_values\": 23,\n        \"samples\": [\n          2.3,\n          4.0,\n          3.5\n        ],\n        \"semantic_type\": \"\",\n        \"description\": \"\"\n      }\n    },\n    {\n      \"column\": \"Petal.Length\",\n      \"properties\": {\n        \"dtype\": \"number\",\n        \"std\": 1.7652982332594662,\n        \"min\": 1.0,\n        \"max\": 6.9,\n        \"num_unique_values\": 43,\n        \"samples\": [\n          6.7,\n          3.8,\n          3.7\n        ],\n        \"semantic_type\": \"\",\n        \"description\": \"\"\n      }\n    },\n    {\n      \"column\": \"Petal.Width\",\n      \"properties\": {\n        \"dtype\": \"number\",\n        \"std\": 0.7622376689603465,\n        \"min\": 0.1,\n        \"max\": 2.5,\n        \"num_unique_values\": 22,\n        \"samples\": [\n          0.2,\n          1.2,\n          1.3\n        ],\n        \"semantic_type\": \"\",\n        \"description\": \"\"\n      }\n    },\n    {\n      \"column\": \"Species\",\n      \"properties\": {\n        \"dtype\": \"category\",\n        \"num_unique_values\": 3,\n        \"samples\": [\n          \"setosa\",\n          \"versicolor\",\n          \"virginica\"\n        ],\n        \"semantic_type\": \"\",\n        \"description\": \"\"\n      }\n    }\n  ]\n}"
            }
          },
          "metadata": {},
          "execution_count": 3
        }
      ]
    },
    {
      "cell_type": "markdown",
      "source": [
        "## 2.데이터 준비"
      ],
      "metadata": {
        "id": "_vRHWCJJooH1"
      }
    },
    {
      "cell_type": "code",
      "source": [
        "# np.argmax()\n",
        "a = np.array([[1,2,3],[3,1,2]])\n",
        "a"
      ],
      "metadata": {
        "id": "4NeRfbSxQCGo",
        "colab": {
          "base_uri": "https://localhost:8080/",
          "height": 0
        },
        "outputId": "a6fca120-714e-44d9-9faa-1d5577038e15"
      },
      "execution_count": 4,
      "outputs": [
        {
          "output_type": "execute_result",
          "data": {
            "text/plain": [
              "array([[1, 2, 3],\n",
              "       [3, 1, 2]])"
            ]
          },
          "metadata": {},
          "execution_count": 4
        }
      ]
    },
    {
      "cell_type": "code",
      "source": [
        "np.argmax(a, axis = 0)"
      ],
      "metadata": {
        "id": "ub1W_8V0QQht",
        "colab": {
          "base_uri": "https://localhost:8080/",
          "height": 0
        },
        "outputId": "58934f02-fe52-44a4-f459-03b3d40736e0"
      },
      "execution_count": 5,
      "outputs": [
        {
          "output_type": "execute_result",
          "data": {
            "text/plain": [
              "array([1, 0, 0])"
            ]
          },
          "metadata": {},
          "execution_count": 5
        }
      ]
    },
    {
      "cell_type": "code",
      "source": [
        "np.argmax(a, axis = 1)"
      ],
      "metadata": {
        "id": "v-30sao3Q6qz",
        "colab": {
          "base_uri": "https://localhost:8080/",
          "height": 0
        },
        "outputId": "93e24010-95ce-4532-cf8d-776cbfe96f4d"
      },
      "execution_count": 6,
      "outputs": [
        {
          "output_type": "execute_result",
          "data": {
            "text/plain": [
              "array([2, 0])"
            ]
          },
          "metadata": {},
          "execution_count": 6
        }
      ]
    },
    {
      "cell_type": "code",
      "source": [
        "np.argmax(a)"
      ],
      "metadata": {
        "id": "QdxE54rIRIh5",
        "colab": {
          "base_uri": "https://localhost:8080/",
          "height": 0
        },
        "outputId": "05ed583f-4111-41e2-ef8c-8566605cb470"
      },
      "execution_count": 7,
      "outputs": [
        {
          "output_type": "execute_result",
          "data": {
            "text/plain": [
              "2"
            ]
          },
          "metadata": {},
          "execution_count": 7
        }
      ]
    },
    {
      "cell_type": "markdown",
      "source": [
        "### (1) y 값을 0,1,2로 변환하기\n",
        "(sparse_categorical_crossentropy 사용을 위해)"
      ],
      "metadata": {
        "id": "JpcIzZmH7ONf"
      }
    },
    {
      "cell_type": "code",
      "source": [
        "data['Species'] = data['Species'].map({'setosa':0, 'versicolor':1, 'virginica':2})\n",
        "data.head()"
      ],
      "metadata": {
        "id": "M-W1RW297RB9",
        "colab": {
          "base_uri": "https://localhost:8080/",
          "height": 206
        },
        "outputId": "fb5969d5-baae-48d5-b1fe-68b3228d896d"
      },
      "execution_count": 8,
      "outputs": [
        {
          "output_type": "execute_result",
          "data": {
            "text/plain": [
              "   Sepal.Length  Sepal.Width  Petal.Length  Petal.Width  Species\n",
              "0           5.1          3.5           1.4          0.2        0\n",
              "1           4.9          3.0           1.4          0.2        0\n",
              "2           4.7          3.2           1.3          0.2        0\n",
              "3           4.6          3.1           1.5          0.2        0\n",
              "4           5.0          3.6           1.4          0.2        0"
            ],
            "text/html": [
              "\n",
              "  <div id=\"df-ecd2be6d-5b4f-4e9f-baf8-f5f0fe54e6c8\" class=\"colab-df-container\">\n",
              "    <div>\n",
              "<style scoped>\n",
              "    .dataframe tbody tr th:only-of-type {\n",
              "        vertical-align: middle;\n",
              "    }\n",
              "\n",
              "    .dataframe tbody tr th {\n",
              "        vertical-align: top;\n",
              "    }\n",
              "\n",
              "    .dataframe thead th {\n",
              "        text-align: right;\n",
              "    }\n",
              "</style>\n",
              "<table border=\"1\" class=\"dataframe\">\n",
              "  <thead>\n",
              "    <tr style=\"text-align: right;\">\n",
              "      <th></th>\n",
              "      <th>Sepal.Length</th>\n",
              "      <th>Sepal.Width</th>\n",
              "      <th>Petal.Length</th>\n",
              "      <th>Petal.Width</th>\n",
              "      <th>Species</th>\n",
              "    </tr>\n",
              "  </thead>\n",
              "  <tbody>\n",
              "    <tr>\n",
              "      <th>0</th>\n",
              "      <td>5.1</td>\n",
              "      <td>3.5</td>\n",
              "      <td>1.4</td>\n",
              "      <td>0.2</td>\n",
              "      <td>0</td>\n",
              "    </tr>\n",
              "    <tr>\n",
              "      <th>1</th>\n",
              "      <td>4.9</td>\n",
              "      <td>3.0</td>\n",
              "      <td>1.4</td>\n",
              "      <td>0.2</td>\n",
              "      <td>0</td>\n",
              "    </tr>\n",
              "    <tr>\n",
              "      <th>2</th>\n",
              "      <td>4.7</td>\n",
              "      <td>3.2</td>\n",
              "      <td>1.3</td>\n",
              "      <td>0.2</td>\n",
              "      <td>0</td>\n",
              "    </tr>\n",
              "    <tr>\n",
              "      <th>3</th>\n",
              "      <td>4.6</td>\n",
              "      <td>3.1</td>\n",
              "      <td>1.5</td>\n",
              "      <td>0.2</td>\n",
              "      <td>0</td>\n",
              "    </tr>\n",
              "    <tr>\n",
              "      <th>4</th>\n",
              "      <td>5.0</td>\n",
              "      <td>3.6</td>\n",
              "      <td>1.4</td>\n",
              "      <td>0.2</td>\n",
              "      <td>0</td>\n",
              "    </tr>\n",
              "  </tbody>\n",
              "</table>\n",
              "</div>\n",
              "    <div class=\"colab-df-buttons\">\n",
              "\n",
              "  <div class=\"colab-df-container\">\n",
              "    <button class=\"colab-df-convert\" onclick=\"convertToInteractive('df-ecd2be6d-5b4f-4e9f-baf8-f5f0fe54e6c8')\"\n",
              "            title=\"Convert this dataframe to an interactive table.\"\n",
              "            style=\"display:none;\">\n",
              "\n",
              "  <svg xmlns=\"http://www.w3.org/2000/svg\" height=\"24px\" viewBox=\"0 -960 960 960\">\n",
              "    <path d=\"M120-120v-720h720v720H120Zm60-500h600v-160H180v160Zm220 220h160v-160H400v160Zm0 220h160v-160H400v160ZM180-400h160v-160H180v160Zm440 0h160v-160H620v160ZM180-180h160v-160H180v160Zm440 0h160v-160H620v160Z\"/>\n",
              "  </svg>\n",
              "    </button>\n",
              "\n",
              "  <style>\n",
              "    .colab-df-container {\n",
              "      display:flex;\n",
              "      gap: 12px;\n",
              "    }\n",
              "\n",
              "    .colab-df-convert {\n",
              "      background-color: #E8F0FE;\n",
              "      border: none;\n",
              "      border-radius: 50%;\n",
              "      cursor: pointer;\n",
              "      display: none;\n",
              "      fill: #1967D2;\n",
              "      height: 32px;\n",
              "      padding: 0 0 0 0;\n",
              "      width: 32px;\n",
              "    }\n",
              "\n",
              "    .colab-df-convert:hover {\n",
              "      background-color: #E2EBFA;\n",
              "      box-shadow: 0px 1px 2px rgba(60, 64, 67, 0.3), 0px 1px 3px 1px rgba(60, 64, 67, 0.15);\n",
              "      fill: #174EA6;\n",
              "    }\n",
              "\n",
              "    .colab-df-buttons div {\n",
              "      margin-bottom: 4px;\n",
              "    }\n",
              "\n",
              "    [theme=dark] .colab-df-convert {\n",
              "      background-color: #3B4455;\n",
              "      fill: #D2E3FC;\n",
              "    }\n",
              "\n",
              "    [theme=dark] .colab-df-convert:hover {\n",
              "      background-color: #434B5C;\n",
              "      box-shadow: 0px 1px 3px 1px rgba(0, 0, 0, 0.15);\n",
              "      filter: drop-shadow(0px 1px 2px rgba(0, 0, 0, 0.3));\n",
              "      fill: #FFFFFF;\n",
              "    }\n",
              "  </style>\n",
              "\n",
              "    <script>\n",
              "      const buttonEl =\n",
              "        document.querySelector('#df-ecd2be6d-5b4f-4e9f-baf8-f5f0fe54e6c8 button.colab-df-convert');\n",
              "      buttonEl.style.display =\n",
              "        google.colab.kernel.accessAllowed ? 'block' : 'none';\n",
              "\n",
              "      async function convertToInteractive(key) {\n",
              "        const element = document.querySelector('#df-ecd2be6d-5b4f-4e9f-baf8-f5f0fe54e6c8');\n",
              "        const dataTable =\n",
              "          await google.colab.kernel.invokeFunction('convertToInteractive',\n",
              "                                                    [key], {});\n",
              "        if (!dataTable) return;\n",
              "\n",
              "        const docLinkHtml = 'Like what you see? Visit the ' +\n",
              "          '<a target=\"_blank\" href=https://colab.research.google.com/notebooks/data_table.ipynb>data table notebook</a>'\n",
              "          + ' to learn more about interactive tables.';\n",
              "        element.innerHTML = '';\n",
              "        dataTable['output_type'] = 'display_data';\n",
              "        await google.colab.output.renderOutput(dataTable, element);\n",
              "        const docLink = document.createElement('div');\n",
              "        docLink.innerHTML = docLinkHtml;\n",
              "        element.appendChild(docLink);\n",
              "      }\n",
              "    </script>\n",
              "  </div>\n",
              "\n",
              "\n",
              "<div id=\"df-0c0f5f3b-e936-48da-93fc-0855f4ec6039\">\n",
              "  <button class=\"colab-df-quickchart\" onclick=\"quickchart('df-0c0f5f3b-e936-48da-93fc-0855f4ec6039')\"\n",
              "            title=\"Suggest charts\"\n",
              "            style=\"display:none;\">\n",
              "\n",
              "<svg xmlns=\"http://www.w3.org/2000/svg\" height=\"24px\"viewBox=\"0 0 24 24\"\n",
              "     width=\"24px\">\n",
              "    <g>\n",
              "        <path d=\"M19 3H5c-1.1 0-2 .9-2 2v14c0 1.1.9 2 2 2h14c1.1 0 2-.9 2-2V5c0-1.1-.9-2-2-2zM9 17H7v-7h2v7zm4 0h-2V7h2v10zm4 0h-2v-4h2v4z\"/>\n",
              "    </g>\n",
              "</svg>\n",
              "  </button>\n",
              "\n",
              "<style>\n",
              "  .colab-df-quickchart {\n",
              "      --bg-color: #E8F0FE;\n",
              "      --fill-color: #1967D2;\n",
              "      --hover-bg-color: #E2EBFA;\n",
              "      --hover-fill-color: #174EA6;\n",
              "      --disabled-fill-color: #AAA;\n",
              "      --disabled-bg-color: #DDD;\n",
              "  }\n",
              "\n",
              "  [theme=dark] .colab-df-quickchart {\n",
              "      --bg-color: #3B4455;\n",
              "      --fill-color: #D2E3FC;\n",
              "      --hover-bg-color: #434B5C;\n",
              "      --hover-fill-color: #FFFFFF;\n",
              "      --disabled-bg-color: #3B4455;\n",
              "      --disabled-fill-color: #666;\n",
              "  }\n",
              "\n",
              "  .colab-df-quickchart {\n",
              "    background-color: var(--bg-color);\n",
              "    border: none;\n",
              "    border-radius: 50%;\n",
              "    cursor: pointer;\n",
              "    display: none;\n",
              "    fill: var(--fill-color);\n",
              "    height: 32px;\n",
              "    padding: 0;\n",
              "    width: 32px;\n",
              "  }\n",
              "\n",
              "  .colab-df-quickchart:hover {\n",
              "    background-color: var(--hover-bg-color);\n",
              "    box-shadow: 0 1px 2px rgba(60, 64, 67, 0.3), 0 1px 3px 1px rgba(60, 64, 67, 0.15);\n",
              "    fill: var(--button-hover-fill-color);\n",
              "  }\n",
              "\n",
              "  .colab-df-quickchart-complete:disabled,\n",
              "  .colab-df-quickchart-complete:disabled:hover {\n",
              "    background-color: var(--disabled-bg-color);\n",
              "    fill: var(--disabled-fill-color);\n",
              "    box-shadow: none;\n",
              "  }\n",
              "\n",
              "  .colab-df-spinner {\n",
              "    border: 2px solid var(--fill-color);\n",
              "    border-color: transparent;\n",
              "    border-bottom-color: var(--fill-color);\n",
              "    animation:\n",
              "      spin 1s steps(1) infinite;\n",
              "  }\n",
              "\n",
              "  @keyframes spin {\n",
              "    0% {\n",
              "      border-color: transparent;\n",
              "      border-bottom-color: var(--fill-color);\n",
              "      border-left-color: var(--fill-color);\n",
              "    }\n",
              "    20% {\n",
              "      border-color: transparent;\n",
              "      border-left-color: var(--fill-color);\n",
              "      border-top-color: var(--fill-color);\n",
              "    }\n",
              "    30% {\n",
              "      border-color: transparent;\n",
              "      border-left-color: var(--fill-color);\n",
              "      border-top-color: var(--fill-color);\n",
              "      border-right-color: var(--fill-color);\n",
              "    }\n",
              "    40% {\n",
              "      border-color: transparent;\n",
              "      border-right-color: var(--fill-color);\n",
              "      border-top-color: var(--fill-color);\n",
              "    }\n",
              "    60% {\n",
              "      border-color: transparent;\n",
              "      border-right-color: var(--fill-color);\n",
              "    }\n",
              "    80% {\n",
              "      border-color: transparent;\n",
              "      border-right-color: var(--fill-color);\n",
              "      border-bottom-color: var(--fill-color);\n",
              "    }\n",
              "    90% {\n",
              "      border-color: transparent;\n",
              "      border-bottom-color: var(--fill-color);\n",
              "    }\n",
              "  }\n",
              "</style>\n",
              "\n",
              "  <script>\n",
              "    async function quickchart(key) {\n",
              "      const quickchartButtonEl =\n",
              "        document.querySelector('#' + key + ' button');\n",
              "      quickchartButtonEl.disabled = true;  // To prevent multiple clicks.\n",
              "      quickchartButtonEl.classList.add('colab-df-spinner');\n",
              "      try {\n",
              "        const charts = await google.colab.kernel.invokeFunction(\n",
              "            'suggestCharts', [key], {});\n",
              "      } catch (error) {\n",
              "        console.error('Error during call to suggestCharts:', error);\n",
              "      }\n",
              "      quickchartButtonEl.classList.remove('colab-df-spinner');\n",
              "      quickchartButtonEl.classList.add('colab-df-quickchart-complete');\n",
              "    }\n",
              "    (() => {\n",
              "      let quickchartButtonEl =\n",
              "        document.querySelector('#df-0c0f5f3b-e936-48da-93fc-0855f4ec6039 button');\n",
              "      quickchartButtonEl.style.display =\n",
              "        google.colab.kernel.accessAllowed ? 'block' : 'none';\n",
              "    })();\n",
              "  </script>\n",
              "</div>\n",
              "\n",
              "    </div>\n",
              "  </div>\n"
            ],
            "application/vnd.google.colaboratory.intrinsic+json": {
              "type": "dataframe",
              "variable_name": "data",
              "summary": "{\n  \"name\": \"data\",\n  \"rows\": 150,\n  \"fields\": [\n    {\n      \"column\": \"Sepal.Length\",\n      \"properties\": {\n        \"dtype\": \"number\",\n        \"std\": 0.828066127977863,\n        \"min\": 4.3,\n        \"max\": 7.9,\n        \"num_unique_values\": 35,\n        \"samples\": [\n          6.2,\n          4.5,\n          5.6\n        ],\n        \"semantic_type\": \"\",\n        \"description\": \"\"\n      }\n    },\n    {\n      \"column\": \"Sepal.Width\",\n      \"properties\": {\n        \"dtype\": \"number\",\n        \"std\": 0.4358662849366982,\n        \"min\": 2.0,\n        \"max\": 4.4,\n        \"num_unique_values\": 23,\n        \"samples\": [\n          2.3,\n          4.0,\n          3.5\n        ],\n        \"semantic_type\": \"\",\n        \"description\": \"\"\n      }\n    },\n    {\n      \"column\": \"Petal.Length\",\n      \"properties\": {\n        \"dtype\": \"number\",\n        \"std\": 1.7652982332594662,\n        \"min\": 1.0,\n        \"max\": 6.9,\n        \"num_unique_values\": 43,\n        \"samples\": [\n          6.7,\n          3.8,\n          3.7\n        ],\n        \"semantic_type\": \"\",\n        \"description\": \"\"\n      }\n    },\n    {\n      \"column\": \"Petal.Width\",\n      \"properties\": {\n        \"dtype\": \"number\",\n        \"std\": 0.7622376689603465,\n        \"min\": 0.1,\n        \"max\": 2.5,\n        \"num_unique_values\": 22,\n        \"samples\": [\n          0.2,\n          1.2,\n          1.3\n        ],\n        \"semantic_type\": \"\",\n        \"description\": \"\"\n      }\n    },\n    {\n      \"column\": \"Species\",\n      \"properties\": {\n        \"dtype\": \"number\",\n        \"std\": 0,\n        \"min\": 0,\n        \"max\": 2,\n        \"num_unique_values\": 3,\n        \"samples\": [\n          0,\n          1,\n          2\n        ],\n        \"semantic_type\": \"\",\n        \"description\": \"\"\n      }\n    }\n  ]\n}"
            }
          },
          "metadata": {},
          "execution_count": 8
        }
      ]
    },
    {
      "cell_type": "markdown",
      "source": [
        "### (2) 데이터 준비"
      ],
      "metadata": {
        "id": "j0wC7YMmV1dQ"
      }
    },
    {
      "cell_type": "code",
      "metadata": {
        "id": "FA-PnUpcLqXN"
      },
      "source": [
        "target = 'Species'\n",
        "x = data.drop(target, axis = 1)\n",
        "y = data.loc[:, target]"
      ],
      "execution_count": 9,
      "outputs": []
    },
    {
      "cell_type": "markdown",
      "source": [
        "### (3) 데이터 분할 : train : val"
      ],
      "metadata": {
        "id": "0hV7tlMocUfJ"
      }
    },
    {
      "cell_type": "code",
      "source": [
        "x.head()"
      ],
      "metadata": {
        "id": "uWX-KGzj-PB0",
        "colab": {
          "base_uri": "https://localhost:8080/",
          "height": 206
        },
        "outputId": "d73c2f46-06f7-43c5-b272-fb06e6f65578"
      },
      "execution_count": 10,
      "outputs": [
        {
          "output_type": "execute_result",
          "data": {
            "text/plain": [
              "   Sepal.Length  Sepal.Width  Petal.Length  Petal.Width\n",
              "0           5.1          3.5           1.4          0.2\n",
              "1           4.9          3.0           1.4          0.2\n",
              "2           4.7          3.2           1.3          0.2\n",
              "3           4.6          3.1           1.5          0.2\n",
              "4           5.0          3.6           1.4          0.2"
            ],
            "text/html": [
              "\n",
              "  <div id=\"df-74e5a091-5cb5-4ba9-8bee-f2377a686bbf\" class=\"colab-df-container\">\n",
              "    <div>\n",
              "<style scoped>\n",
              "    .dataframe tbody tr th:only-of-type {\n",
              "        vertical-align: middle;\n",
              "    }\n",
              "\n",
              "    .dataframe tbody tr th {\n",
              "        vertical-align: top;\n",
              "    }\n",
              "\n",
              "    .dataframe thead th {\n",
              "        text-align: right;\n",
              "    }\n",
              "</style>\n",
              "<table border=\"1\" class=\"dataframe\">\n",
              "  <thead>\n",
              "    <tr style=\"text-align: right;\">\n",
              "      <th></th>\n",
              "      <th>Sepal.Length</th>\n",
              "      <th>Sepal.Width</th>\n",
              "      <th>Petal.Length</th>\n",
              "      <th>Petal.Width</th>\n",
              "    </tr>\n",
              "  </thead>\n",
              "  <tbody>\n",
              "    <tr>\n",
              "      <th>0</th>\n",
              "      <td>5.1</td>\n",
              "      <td>3.5</td>\n",
              "      <td>1.4</td>\n",
              "      <td>0.2</td>\n",
              "    </tr>\n",
              "    <tr>\n",
              "      <th>1</th>\n",
              "      <td>4.9</td>\n",
              "      <td>3.0</td>\n",
              "      <td>1.4</td>\n",
              "      <td>0.2</td>\n",
              "    </tr>\n",
              "    <tr>\n",
              "      <th>2</th>\n",
              "      <td>4.7</td>\n",
              "      <td>3.2</td>\n",
              "      <td>1.3</td>\n",
              "      <td>0.2</td>\n",
              "    </tr>\n",
              "    <tr>\n",
              "      <th>3</th>\n",
              "      <td>4.6</td>\n",
              "      <td>3.1</td>\n",
              "      <td>1.5</td>\n",
              "      <td>0.2</td>\n",
              "    </tr>\n",
              "    <tr>\n",
              "      <th>4</th>\n",
              "      <td>5.0</td>\n",
              "      <td>3.6</td>\n",
              "      <td>1.4</td>\n",
              "      <td>0.2</td>\n",
              "    </tr>\n",
              "  </tbody>\n",
              "</table>\n",
              "</div>\n",
              "    <div class=\"colab-df-buttons\">\n",
              "\n",
              "  <div class=\"colab-df-container\">\n",
              "    <button class=\"colab-df-convert\" onclick=\"convertToInteractive('df-74e5a091-5cb5-4ba9-8bee-f2377a686bbf')\"\n",
              "            title=\"Convert this dataframe to an interactive table.\"\n",
              "            style=\"display:none;\">\n",
              "\n",
              "  <svg xmlns=\"http://www.w3.org/2000/svg\" height=\"24px\" viewBox=\"0 -960 960 960\">\n",
              "    <path d=\"M120-120v-720h720v720H120Zm60-500h600v-160H180v160Zm220 220h160v-160H400v160Zm0 220h160v-160H400v160ZM180-400h160v-160H180v160Zm440 0h160v-160H620v160ZM180-180h160v-160H180v160Zm440 0h160v-160H620v160Z\"/>\n",
              "  </svg>\n",
              "    </button>\n",
              "\n",
              "  <style>\n",
              "    .colab-df-container {\n",
              "      display:flex;\n",
              "      gap: 12px;\n",
              "    }\n",
              "\n",
              "    .colab-df-convert {\n",
              "      background-color: #E8F0FE;\n",
              "      border: none;\n",
              "      border-radius: 50%;\n",
              "      cursor: pointer;\n",
              "      display: none;\n",
              "      fill: #1967D2;\n",
              "      height: 32px;\n",
              "      padding: 0 0 0 0;\n",
              "      width: 32px;\n",
              "    }\n",
              "\n",
              "    .colab-df-convert:hover {\n",
              "      background-color: #E2EBFA;\n",
              "      box-shadow: 0px 1px 2px rgba(60, 64, 67, 0.3), 0px 1px 3px 1px rgba(60, 64, 67, 0.15);\n",
              "      fill: #174EA6;\n",
              "    }\n",
              "\n",
              "    .colab-df-buttons div {\n",
              "      margin-bottom: 4px;\n",
              "    }\n",
              "\n",
              "    [theme=dark] .colab-df-convert {\n",
              "      background-color: #3B4455;\n",
              "      fill: #D2E3FC;\n",
              "    }\n",
              "\n",
              "    [theme=dark] .colab-df-convert:hover {\n",
              "      background-color: #434B5C;\n",
              "      box-shadow: 0px 1px 3px 1px rgba(0, 0, 0, 0.15);\n",
              "      filter: drop-shadow(0px 1px 2px rgba(0, 0, 0, 0.3));\n",
              "      fill: #FFFFFF;\n",
              "    }\n",
              "  </style>\n",
              "\n",
              "    <script>\n",
              "      const buttonEl =\n",
              "        document.querySelector('#df-74e5a091-5cb5-4ba9-8bee-f2377a686bbf button.colab-df-convert');\n",
              "      buttonEl.style.display =\n",
              "        google.colab.kernel.accessAllowed ? 'block' : 'none';\n",
              "\n",
              "      async function convertToInteractive(key) {\n",
              "        const element = document.querySelector('#df-74e5a091-5cb5-4ba9-8bee-f2377a686bbf');\n",
              "        const dataTable =\n",
              "          await google.colab.kernel.invokeFunction('convertToInteractive',\n",
              "                                                    [key], {});\n",
              "        if (!dataTable) return;\n",
              "\n",
              "        const docLinkHtml = 'Like what you see? Visit the ' +\n",
              "          '<a target=\"_blank\" href=https://colab.research.google.com/notebooks/data_table.ipynb>data table notebook</a>'\n",
              "          + ' to learn more about interactive tables.';\n",
              "        element.innerHTML = '';\n",
              "        dataTable['output_type'] = 'display_data';\n",
              "        await google.colab.output.renderOutput(dataTable, element);\n",
              "        const docLink = document.createElement('div');\n",
              "        docLink.innerHTML = docLinkHtml;\n",
              "        element.appendChild(docLink);\n",
              "      }\n",
              "    </script>\n",
              "  </div>\n",
              "\n",
              "\n",
              "<div id=\"df-4cd9ea52-d2fc-47be-9521-f65c92329a34\">\n",
              "  <button class=\"colab-df-quickchart\" onclick=\"quickchart('df-4cd9ea52-d2fc-47be-9521-f65c92329a34')\"\n",
              "            title=\"Suggest charts\"\n",
              "            style=\"display:none;\">\n",
              "\n",
              "<svg xmlns=\"http://www.w3.org/2000/svg\" height=\"24px\"viewBox=\"0 0 24 24\"\n",
              "     width=\"24px\">\n",
              "    <g>\n",
              "        <path d=\"M19 3H5c-1.1 0-2 .9-2 2v14c0 1.1.9 2 2 2h14c1.1 0 2-.9 2-2V5c0-1.1-.9-2-2-2zM9 17H7v-7h2v7zm4 0h-2V7h2v10zm4 0h-2v-4h2v4z\"/>\n",
              "    </g>\n",
              "</svg>\n",
              "  </button>\n",
              "\n",
              "<style>\n",
              "  .colab-df-quickchart {\n",
              "      --bg-color: #E8F0FE;\n",
              "      --fill-color: #1967D2;\n",
              "      --hover-bg-color: #E2EBFA;\n",
              "      --hover-fill-color: #174EA6;\n",
              "      --disabled-fill-color: #AAA;\n",
              "      --disabled-bg-color: #DDD;\n",
              "  }\n",
              "\n",
              "  [theme=dark] .colab-df-quickchart {\n",
              "      --bg-color: #3B4455;\n",
              "      --fill-color: #D2E3FC;\n",
              "      --hover-bg-color: #434B5C;\n",
              "      --hover-fill-color: #FFFFFF;\n",
              "      --disabled-bg-color: #3B4455;\n",
              "      --disabled-fill-color: #666;\n",
              "  }\n",
              "\n",
              "  .colab-df-quickchart {\n",
              "    background-color: var(--bg-color);\n",
              "    border: none;\n",
              "    border-radius: 50%;\n",
              "    cursor: pointer;\n",
              "    display: none;\n",
              "    fill: var(--fill-color);\n",
              "    height: 32px;\n",
              "    padding: 0;\n",
              "    width: 32px;\n",
              "  }\n",
              "\n",
              "  .colab-df-quickchart:hover {\n",
              "    background-color: var(--hover-bg-color);\n",
              "    box-shadow: 0 1px 2px rgba(60, 64, 67, 0.3), 0 1px 3px 1px rgba(60, 64, 67, 0.15);\n",
              "    fill: var(--button-hover-fill-color);\n",
              "  }\n",
              "\n",
              "  .colab-df-quickchart-complete:disabled,\n",
              "  .colab-df-quickchart-complete:disabled:hover {\n",
              "    background-color: var(--disabled-bg-color);\n",
              "    fill: var(--disabled-fill-color);\n",
              "    box-shadow: none;\n",
              "  }\n",
              "\n",
              "  .colab-df-spinner {\n",
              "    border: 2px solid var(--fill-color);\n",
              "    border-color: transparent;\n",
              "    border-bottom-color: var(--fill-color);\n",
              "    animation:\n",
              "      spin 1s steps(1) infinite;\n",
              "  }\n",
              "\n",
              "  @keyframes spin {\n",
              "    0% {\n",
              "      border-color: transparent;\n",
              "      border-bottom-color: var(--fill-color);\n",
              "      border-left-color: var(--fill-color);\n",
              "    }\n",
              "    20% {\n",
              "      border-color: transparent;\n",
              "      border-left-color: var(--fill-color);\n",
              "      border-top-color: var(--fill-color);\n",
              "    }\n",
              "    30% {\n",
              "      border-color: transparent;\n",
              "      border-left-color: var(--fill-color);\n",
              "      border-top-color: var(--fill-color);\n",
              "      border-right-color: var(--fill-color);\n",
              "    }\n",
              "    40% {\n",
              "      border-color: transparent;\n",
              "      border-right-color: var(--fill-color);\n",
              "      border-top-color: var(--fill-color);\n",
              "    }\n",
              "    60% {\n",
              "      border-color: transparent;\n",
              "      border-right-color: var(--fill-color);\n",
              "    }\n",
              "    80% {\n",
              "      border-color: transparent;\n",
              "      border-right-color: var(--fill-color);\n",
              "      border-bottom-color: var(--fill-color);\n",
              "    }\n",
              "    90% {\n",
              "      border-color: transparent;\n",
              "      border-bottom-color: var(--fill-color);\n",
              "    }\n",
              "  }\n",
              "</style>\n",
              "\n",
              "  <script>\n",
              "    async function quickchart(key) {\n",
              "      const quickchartButtonEl =\n",
              "        document.querySelector('#' + key + ' button');\n",
              "      quickchartButtonEl.disabled = true;  // To prevent multiple clicks.\n",
              "      quickchartButtonEl.classList.add('colab-df-spinner');\n",
              "      try {\n",
              "        const charts = await google.colab.kernel.invokeFunction(\n",
              "            'suggestCharts', [key], {});\n",
              "      } catch (error) {\n",
              "        console.error('Error during call to suggestCharts:', error);\n",
              "      }\n",
              "      quickchartButtonEl.classList.remove('colab-df-spinner');\n",
              "      quickchartButtonEl.classList.add('colab-df-quickchart-complete');\n",
              "    }\n",
              "    (() => {\n",
              "      let quickchartButtonEl =\n",
              "        document.querySelector('#df-4cd9ea52-d2fc-47be-9521-f65c92329a34 button');\n",
              "      quickchartButtonEl.style.display =\n",
              "        google.colab.kernel.accessAllowed ? 'block' : 'none';\n",
              "    })();\n",
              "  </script>\n",
              "</div>\n",
              "\n",
              "    </div>\n",
              "  </div>\n"
            ],
            "application/vnd.google.colaboratory.intrinsic+json": {
              "type": "dataframe",
              "variable_name": "x",
              "summary": "{\n  \"name\": \"x\",\n  \"rows\": 150,\n  \"fields\": [\n    {\n      \"column\": \"Sepal.Length\",\n      \"properties\": {\n        \"dtype\": \"number\",\n        \"std\": 0.828066127977863,\n        \"min\": 4.3,\n        \"max\": 7.9,\n        \"num_unique_values\": 35,\n        \"samples\": [\n          6.2,\n          4.5,\n          5.6\n        ],\n        \"semantic_type\": \"\",\n        \"description\": \"\"\n      }\n    },\n    {\n      \"column\": \"Sepal.Width\",\n      \"properties\": {\n        \"dtype\": \"number\",\n        \"std\": 0.4358662849366982,\n        \"min\": 2.0,\n        \"max\": 4.4,\n        \"num_unique_values\": 23,\n        \"samples\": [\n          2.3,\n          4.0,\n          3.5\n        ],\n        \"semantic_type\": \"\",\n        \"description\": \"\"\n      }\n    },\n    {\n      \"column\": \"Petal.Length\",\n      \"properties\": {\n        \"dtype\": \"number\",\n        \"std\": 1.7652982332594662,\n        \"min\": 1.0,\n        \"max\": 6.9,\n        \"num_unique_values\": 43,\n        \"samples\": [\n          6.7,\n          3.8,\n          3.7\n        ],\n        \"semantic_type\": \"\",\n        \"description\": \"\"\n      }\n    },\n    {\n      \"column\": \"Petal.Width\",\n      \"properties\": {\n        \"dtype\": \"number\",\n        \"std\": 0.7622376689603465,\n        \"min\": 0.1,\n        \"max\": 2.5,\n        \"num_unique_values\": 22,\n        \"samples\": [\n          0.2,\n          1.2,\n          1.3\n        ],\n        \"semantic_type\": \"\",\n        \"description\": \"\"\n      }\n    }\n  ]\n}"
            }
          },
          "metadata": {},
          "execution_count": 10
        }
      ]
    },
    {
      "cell_type": "code",
      "source": [
        "y.head()"
      ],
      "metadata": {
        "id": "qIJRIMD2-TY_",
        "colab": {
          "base_uri": "https://localhost:8080/",
          "height": 0
        },
        "outputId": "eeb3d1cd-76fc-43b0-b47c-c13ffb37a8ba"
      },
      "execution_count": 11,
      "outputs": [
        {
          "output_type": "execute_result",
          "data": {
            "text/plain": [
              "0    0\n",
              "1    0\n",
              "2    0\n",
              "3    0\n",
              "4    0\n",
              "Name: Species, dtype: int64"
            ]
          },
          "metadata": {},
          "execution_count": 11
        }
      ]
    },
    {
      "cell_type": "code",
      "source": [
        "x_train, x_val, y_train, y_val = train_test_split(x, y, test_size = .3, random_state = 20)"
      ],
      "metadata": {
        "id": "xXMD-c-LcUfJ"
      },
      "execution_count": 12,
      "outputs": []
    },
    {
      "cell_type": "markdown",
      "metadata": {
        "id": "h6bl5cfBcUfJ"
      },
      "source": [
        "### (4) Scaling"
      ]
    },
    {
      "cell_type": "code",
      "source": [
        "scaler = MinMaxScaler()\n",
        "x_train = scaler.fit_transform(x_train)\n",
        "x_val = scaler.transform(x_val)"
      ],
      "metadata": {
        "id": "_vv1mX4gcUfK"
      },
      "execution_count": 13,
      "outputs": []
    },
    {
      "cell_type": "markdown",
      "source": [
        "## 3.모델링1"
      ],
      "metadata": {
        "id": "E1kIkHe2cBcY"
      }
    },
    {
      "cell_type": "markdown",
      "metadata": {
        "id": "h-FE2_FScLjo"
      },
      "source": [
        "### (1) 모델 설계"
      ]
    },
    {
      "cell_type": "code",
      "source": [
        "nfeatures = x_train.shape[1] #num of columns\n",
        "nfeatures"
      ],
      "metadata": {
        "id": "OhCckNYfcLjo",
        "colab": {
          "base_uri": "https://localhost:8080/",
          "height": 0
        },
        "outputId": "37d2270a-6b60-47e2-e9f9-7347bd084526"
      },
      "execution_count": 14,
      "outputs": [
        {
          "output_type": "execute_result",
          "data": {
            "text/plain": [
              "4"
            ]
          },
          "metadata": {},
          "execution_count": 14
        }
      ]
    },
    {
      "cell_type": "code",
      "metadata": {
        "id": "UbOyVdCDcLjp",
        "colab": {
          "base_uri": "https://localhost:8080/",
          "height": 0
        },
        "outputId": "836eddb6-36a6-4c2a-b9da-ae61815baf38"
      },
      "source": [
        "# 메모리 정리\n",
        "clear_session()\n",
        "\n",
        "# Sequential # 예측한 값을, 하나의 확률 값으로 변환\n",
        "model = Sequential( Dense( 3 , input_shape = (nfeatures,), activation = 'softmax') )\n",
        "\n",
        "# 모델요약\n",
        "model.summary()"
      ],
      "execution_count": 15,
      "outputs": [
        {
          "output_type": "stream",
          "name": "stdout",
          "text": [
            "Model: \"sequential\"\n",
            "_________________________________________________________________\n",
            " Layer (type)                Output Shape              Param #   \n",
            "=================================================================\n",
            " dense (Dense)               (None, 3)                 15        \n",
            "                                                                 \n",
            "=================================================================\n",
            "Total params: 15 (60.00 Byte)\n",
            "Trainable params: 15 (60.00 Byte)\n",
            "Non-trainable params: 0 (0.00 Byte)\n",
            "_________________________________________________________________\n"
          ]
        }
      ]
    },
    {
      "cell_type": "markdown",
      "metadata": {
        "id": "EQdh6V-_cLjp"
      },
      "source": [
        "### (2) compile + 학습"
      ]
    },
    {
      "cell_type": "code",
      "metadata": {
        "id": "6ieFhGLUcLjp",
        "colab": {
          "base_uri": "https://localhost:8080/",
          "height": 0
        },
        "outputId": "1ba45067-d9e4-45a3-99ec-97430c84c97a"
      },
      "source": [
        "model.compile(optimizer=Adam(learning_rate=0.1), loss= 'sparse_categorical_crossentropy')\n",
        "\n",
        "history = model.fit(x_train, y_train, epochs = 50, validation_split=0.2).history"
      ],
      "execution_count": 16,
      "outputs": [
        {
          "output_type": "stream",
          "name": "stdout",
          "text": [
            "Epoch 1/50\n",
            "3/3 [==============================] - 1s 146ms/step - loss: 1.1037 - val_loss: 0.9730\n",
            "Epoch 2/50\n",
            "3/3 [==============================] - 0s 53ms/step - loss: 0.9580 - val_loss: 0.8074\n",
            "Epoch 3/50\n",
            "3/3 [==============================] - 0s 28ms/step - loss: 0.8333 - val_loss: 0.6693\n",
            "Epoch 4/50\n",
            "3/3 [==============================] - 0s 82ms/step - loss: 0.7157 - val_loss: 0.5901\n",
            "Epoch 5/50\n",
            "3/3 [==============================] - 0s 44ms/step - loss: 0.6491 - val_loss: 0.5296\n",
            "Epoch 6/50\n",
            "3/3 [==============================] - 0s 44ms/step - loss: 0.5856 - val_loss: 0.4646\n",
            "Epoch 7/50\n",
            "3/3 [==============================] - 0s 19ms/step - loss: 0.5328 - val_loss: 0.4286\n",
            "Epoch 8/50\n",
            "3/3 [==============================] - 0s 25ms/step - loss: 0.4990 - val_loss: 0.4010\n",
            "Epoch 9/50\n",
            "3/3 [==============================] - 0s 20ms/step - loss: 0.4668 - val_loss: 0.3791\n",
            "Epoch 10/50\n",
            "3/3 [==============================] - 0s 22ms/step - loss: 0.4408 - val_loss: 0.3598\n",
            "Epoch 11/50\n",
            "3/3 [==============================] - 0s 20ms/step - loss: 0.4198 - val_loss: 0.3438\n",
            "Epoch 12/50\n",
            "3/3 [==============================] - 0s 24ms/step - loss: 0.4048 - val_loss: 0.3307\n",
            "Epoch 13/50\n",
            "3/3 [==============================] - 0s 19ms/step - loss: 0.3874 - val_loss: 0.3185\n",
            "Epoch 14/50\n",
            "3/3 [==============================] - 0s 20ms/step - loss: 0.3754 - val_loss: 0.3082\n",
            "Epoch 15/50\n",
            "3/3 [==============================] - 0s 23ms/step - loss: 0.3629 - val_loss: 0.3030\n",
            "Epoch 16/50\n",
            "3/3 [==============================] - 0s 29ms/step - loss: 0.3533 - val_loss: 0.2926\n",
            "Epoch 17/50\n",
            "3/3 [==============================] - 0s 43ms/step - loss: 0.3407 - val_loss: 0.2834\n",
            "Epoch 18/50\n",
            "3/3 [==============================] - 0s 36ms/step - loss: 0.3307 - val_loss: 0.2767\n",
            "Epoch 19/50\n",
            "3/3 [==============================] - 0s 71ms/step - loss: 0.3264 - val_loss: 0.2714\n",
            "Epoch 20/50\n",
            "3/3 [==============================] - 0s 71ms/step - loss: 0.3168 - val_loss: 0.2639\n",
            "Epoch 21/50\n",
            "3/3 [==============================] - 0s 60ms/step - loss: 0.3121 - val_loss: 0.2607\n",
            "Epoch 22/50\n",
            "3/3 [==============================] - 0s 62ms/step - loss: 0.3045 - val_loss: 0.2540\n",
            "Epoch 23/50\n",
            "3/3 [==============================] - 0s 69ms/step - loss: 0.2946 - val_loss: 0.2484\n",
            "Epoch 24/50\n",
            "3/3 [==============================] - 0s 59ms/step - loss: 0.2927 - val_loss: 0.2477\n",
            "Epoch 25/50\n",
            "3/3 [==============================] - 0s 74ms/step - loss: 0.2874 - val_loss: 0.2397\n",
            "Epoch 26/50\n",
            "3/3 [==============================] - 0s 54ms/step - loss: 0.2835 - val_loss: 0.2350\n",
            "Epoch 27/50\n",
            "3/3 [==============================] - 0s 27ms/step - loss: 0.2749 - val_loss: 0.2306\n",
            "Epoch 28/50\n",
            "3/3 [==============================] - 0s 20ms/step - loss: 0.2703 - val_loss: 0.2263\n",
            "Epoch 29/50\n",
            "3/3 [==============================] - 0s 51ms/step - loss: 0.2696 - val_loss: 0.2227\n",
            "Epoch 30/50\n",
            "3/3 [==============================] - 0s 46ms/step - loss: 0.2595 - val_loss: 0.2209\n",
            "Epoch 31/50\n",
            "3/3 [==============================] - 0s 67ms/step - loss: 0.2590 - val_loss: 0.2214\n",
            "Epoch 32/50\n",
            "3/3 [==============================] - 0s 57ms/step - loss: 0.2565 - val_loss: 0.2145\n",
            "Epoch 33/50\n",
            "3/3 [==============================] - 0s 85ms/step - loss: 0.2562 - val_loss: 0.2100\n",
            "Epoch 34/50\n",
            "3/3 [==============================] - 0s 22ms/step - loss: 0.2466 - val_loss: 0.2069\n",
            "Epoch 35/50\n",
            "3/3 [==============================] - 0s 30ms/step - loss: 0.2436 - val_loss: 0.2033\n",
            "Epoch 36/50\n",
            "3/3 [==============================] - 0s 55ms/step - loss: 0.2395 - val_loss: 0.2024\n",
            "Epoch 37/50\n",
            "3/3 [==============================] - 0s 46ms/step - loss: 0.2369 - val_loss: 0.1999\n",
            "Epoch 38/50\n",
            "3/3 [==============================] - 0s 23ms/step - loss: 0.2351 - val_loss: 0.1958\n",
            "Epoch 39/50\n",
            "3/3 [==============================] - 0s 20ms/step - loss: 0.2328 - val_loss: 0.1922\n",
            "Epoch 40/50\n",
            "3/3 [==============================] - 0s 18ms/step - loss: 0.2301 - val_loss: 0.1898\n",
            "Epoch 41/50\n",
            "3/3 [==============================] - 0s 24ms/step - loss: 0.2250 - val_loss: 0.1893\n",
            "Epoch 42/50\n",
            "3/3 [==============================] - 0s 72ms/step - loss: 0.2226 - val_loss: 0.1860\n",
            "Epoch 43/50\n",
            "3/3 [==============================] - 0s 33ms/step - loss: 0.2201 - val_loss: 0.1828\n",
            "Epoch 44/50\n",
            "3/3 [==============================] - 0s 58ms/step - loss: 0.2157 - val_loss: 0.1807\n",
            "Epoch 45/50\n",
            "3/3 [==============================] - 0s 23ms/step - loss: 0.2127 - val_loss: 0.1791\n",
            "Epoch 46/50\n",
            "3/3 [==============================] - 0s 47ms/step - loss: 0.2109 - val_loss: 0.1774\n",
            "Epoch 47/50\n",
            "3/3 [==============================] - 0s 21ms/step - loss: 0.2096 - val_loss: 0.1746\n",
            "Epoch 48/50\n",
            "3/3 [==============================] - 0s 19ms/step - loss: 0.2063 - val_loss: 0.1726\n",
            "Epoch 49/50\n",
            "3/3 [==============================] - 0s 14ms/step - loss: 0.2050 - val_loss: 0.1703\n",
            "Epoch 50/50\n",
            "3/3 [==============================] - 0s 17ms/step - loss: 0.2026 - val_loss: 0.1690\n"
          ]
        }
      ]
    },
    {
      "cell_type": "markdown",
      "source": [
        "* 학습결과 그래프"
      ],
      "metadata": {
        "id": "aqwLGdhQcLjp"
      }
    },
    {
      "cell_type": "code",
      "metadata": {
        "id": "ljY5TfgkcLjp",
        "colab": {
          "base_uri": "https://localhost:8080/",
          "height": 542
        },
        "outputId": "88a25ab7-e44c-46e3-8b93-bb1a4338789b"
      },
      "source": [
        "dl_history_plot(history)"
      ],
      "execution_count": 17,
      "outputs": [
        {
          "output_type": "display_data",
          "data": {
            "text/plain": [
              "<Figure size 1000x600 with 1 Axes>"
            ],
            "image/png": "[encoded data removed]"
          },
          "metadata": {}
        }
      ]
    },
    {
      "cell_type": "markdown",
      "source": [
        "### (3) 예측 및 검증\n",
        "* 예측 결과는 softmax로 변환된 값 입니다."
      ],
      "metadata": {
        "id": "DHm8hxw9-sJh"
      }
    },
    {
      "cell_type": "code",
      "source": [
        "pred = model.predict(x_val)\n",
        "pred[:5]"
      ],
      "metadata": {
        "id": "gk3p2_lG-sJi",
        "colab": {
          "base_uri": "https://localhost:8080/",
          "height": 0
        },
        "outputId": "902dbd97-0adc-4fb6-9122-e4fd8264cc5f"
      },
      "execution_count": 18,
      "outputs": [
        {
          "output_type": "stream",
          "name": "stdout",
          "text": [
            "2/2 [==============================] - 0s 3ms/step\n"
          ]
        },
        {
          "output_type": "execute_result",
          "data": {
            "text/plain": [
              "array([[9.7731495e-01, 2.2585219e-02, 9.9889716e-05],\n",
              "       [1.1663581e-02, 7.8726929e-01, 2.0106708e-01],\n",
              "       [1.3979829e-02, 7.1537173e-01, 2.7064845e-01],\n",
              "       [4.3419775e-04, 3.3963874e-01, 6.5992707e-01],\n",
              "       [3.5205338e-02, 8.7521440e-01, 8.9580312e-02]], dtype=float32)"
            ]
          },
          "metadata": {},
          "execution_count": 18
        }
      ]
    },
    {
      "cell_type": "markdown",
      "source": [
        "* 행 별로 제일 큰 값을 찾아서 그에 맞게 숫자(0,1,2)로 변환 합시다."
      ],
      "metadata": {
        "id": "filC4ez3-sJi"
      }
    },
    {
      "cell_type": "code",
      "source": [
        "# 5개 행만 살펴보면\n",
        "np.argmax(pred[:5], axis = 1)"
      ],
      "metadata": {
        "id": "KPSRBqQB-sJi",
        "colab": {
          "base_uri": "https://localhost:8080/",
          "height": 0
        },
        "outputId": "6e910ddb-1be3-4e4b-b77c-e33c66016990"
      },
      "execution_count": 19,
      "outputs": [
        {
          "output_type": "execute_result",
          "data": {
            "text/plain": [
              "array([0, 1, 1, 2, 1])"
            ]
          },
          "metadata": {},
          "execution_count": 19
        }
      ]
    },
    {
      "cell_type": "code",
      "source": [
        "# 전체에 적용해서 변환합시다.\n",
        "pred_1 = pred.argmax(axis=1)  # 열에서 가장 큰 값의 인덱스를 1로 반환 나머지는 0으로 반환\n",
        "pred_1"
      ],
      "metadata": {
        "id": "UUooGdNL-sJi",
        "colab": {
          "base_uri": "https://localhost:8080/",
          "height": 0
        },
        "outputId": "16cd71e7-146e-481e-a739-1906d4a06e3f"
      },
      "execution_count": 20,
      "outputs": [
        {
          "output_type": "execute_result",
          "data": {
            "text/plain": [
              "array([0, 1, 1, 2, 1, 1, 2, 0, 2, 0, 2, 1, 1, 0, 0, 2, 0, 1, 2, 1, 1, 2,\n",
              "       2, 0, 1, 1, 1, 0, 2, 1, 1, 1, 0, 0, 0, 1, 2, 0, 1, 2, 1, 1, 0, 1,\n",
              "       2])"
            ]
          },
          "metadata": {},
          "execution_count": 20
        }
      ]
    },
    {
      "cell_type": "markdown",
      "source": [
        "* 실제값 y_val은 0,1,2 로 된 1차원 값입니다."
      ],
      "metadata": {
        "id": "_SgpmDAB-sJi"
      }
    },
    {
      "cell_type": "code",
      "source": [
        "y_val"
      ],
      "metadata": {
        "id": "izGxxx6f-sJi",
        "colab": {
          "base_uri": "https://localhost:8080/",
          "height": 0
        },
        "outputId": "f69a2926-3725-4059-f494-3e0d3baa848a"
      },
      "execution_count": 21,
      "outputs": [
        {
          "output_type": "execute_result",
          "data": {
            "text/plain": [
              "47     0\n",
              "73     1\n",
              "74     1\n",
              "129    2\n",
              "67     1\n",
              "89     1\n",
              "143    2\n",
              "21     0\n",
              "108    2\n",
              "12     0\n",
              "147    2\n",
              "76     1\n",
              "119    2\n",
              "35     0\n",
              "28     0\n",
              "122    2\n",
              "13     0\n",
              "58     1\n",
              "114    2\n",
              "57     1\n",
              "50     1\n",
              "149    2\n",
              "111    2\n",
              "20     0\n",
              "72     1\n",
              "81     1\n",
              "98     1\n",
              "34     0\n",
              "104    2\n",
              "133    2\n",
              "95     1\n",
              "88     1\n",
              "0      0\n",
              "46     0\n",
              "11     0\n",
              "106    2\n",
              "85     1\n",
              "1      0\n",
              "51     1\n",
              "130    2\n",
              "55     1\n",
              "134    2\n",
              "37     0\n",
              "65     1\n",
              "56     1\n",
              "Name: Species, dtype: int64"
            ]
          },
          "metadata": {},
          "execution_count": 21
        }
      ]
    },
    {
      "cell_type": "code",
      "source": [
        "print(confusion_matrix(y_val, pred_1))\n",
        "print(classification_report(y_val, pred_1))"
      ],
      "metadata": {
        "id": "R6iKIqiY-sJj",
        "colab": {
          "base_uri": "https://localhost:8080/",
          "height": 0
        },
        "outputId": "2928e247-82f8-4541-826c-c3e40f8fb545"
      },
      "execution_count": 22,
      "outputs": [
        {
          "output_type": "stream",
          "name": "stdout",
          "text": [
            "[[13  0  0]\n",
            " [ 0 16  2]\n",
            " [ 0  4 10]]\n",
            "              precision    recall  f1-score   support\n",
            "\n",
            "           0       1.00      1.00      1.00        13\n",
            "           1       0.80      0.89      0.84        18\n",
            "           2       0.83      0.71      0.77        14\n",
            "\n",
            "    accuracy                           0.87        45\n",
            "   macro avg       0.88      0.87      0.87        45\n",
            "weighted avg       0.87      0.87      0.87        45\n",
            "\n"
          ]
        }
      ]
    },
    {
      "cell_type": "markdown",
      "source": [
        "----"
      ],
      "metadata": {
        "id": "0iYf_5H8g9mH"
      }
    },
    {
      "cell_type": "markdown",
      "source": [
        "## 4.모델링2 : hidden layer"
      ],
      "metadata": {
        "id": "gLvPsUij4PwK"
      }
    },
    {
      "cell_type": "markdown",
      "source": [
        "### (1) 모델1"
      ],
      "metadata": {
        "id": "qedQPW8Y5Akf"
      }
    },
    {
      "cell_type": "markdown",
      "source": [
        "* 다음의 summary를 보고 모델을 설계하시오.\n",
        "\n",
        "| Layer (type) | Output Shape | Param # | 옵션 |\n",
        "| ---- | ---- | ---- | ---- |\n",
        "| dense (Dense) | (None, 8) | 40 | node, input_shape, activation = 'relu' |\n",
        "| dense_1 (Dense) | (None, 3) | 27 | node, activation = 'softmax'  |"
      ],
      "metadata": {
        "id": "ziu8sULAwBR9"
      }
    },
    {
      "cell_type": "code",
      "source": [
        "# 메모리 정리\n",
        "clear_session()\n",
        "\n",
        "# Sequential 타입 모델 선언\n",
        "model = Sequential([Dense(8 , input_shape = (nfeatures,), activation = 'relu'),\n",
        "                    Dense(3 , activation = 'softmax')\n",
        "])\n",
        "\n",
        "# 모델요약\n",
        "model.summary()"
      ],
      "metadata": {
        "id": "amoQ7ZWuwBR9",
        "colab": {
          "base_uri": "https://localhost:8080/",
          "height": 0
        },
        "outputId": "58a8ca72-67fc-4a51-d35e-cb8b2dd63dec"
      },
      "execution_count": 23,
      "outputs": [
        {
          "output_type": "stream",
          "name": "stdout",
          "text": [
            "Model: \"sequential\"\n",
            "_________________________________________________________________\n",
            " Layer (type)                Output Shape              Param #   \n",
            "=================================================================\n",
            " dense (Dense)               (None, 8)                 40        \n",
            "                                                                 \n",
            " dense_1 (Dense)             (None, 3)                 27        \n",
            "                                                                 \n",
            "=================================================================\n",
            "Total params: 67 (268.00 Byte)\n",
            "Trainable params: 67 (268.00 Byte)\n",
            "Non-trainable params: 0 (0.00 Byte)\n",
            "_________________________________________________________________\n"
          ]
        }
      ]
    },
    {
      "cell_type": "markdown",
      "metadata": {
        "id": "Xo0zckS54PwN"
      },
      "source": [
        "* compile + 학습"
      ]
    },
    {
      "cell_type": "code",
      "metadata": {
        "id": "YhzjzFNY4PwN",
        "colab": {
          "base_uri": "https://localhost:8080/",
          "height": 0
        },
        "outputId": "373d1526-031a-477b-91ca-ce1ef2a3e32a"
      },
      "source": [
        "model.compile(optimizer=Adam(learning_rate=0.01), loss= 'sparse_categorical_crossentropy')\n",
        "\n",
        "history = model.fit(x_train, y_train, epochs = 50, validation_split=0.2).history"
      ],
      "execution_count": 24,
      "outputs": [
        {
          "output_type": "stream",
          "name": "stdout",
          "text": [
            "Epoch 1/50\n",
            "3/3 [==============================] - 1s 114ms/step - loss: 1.1506 - val_loss: 1.0925\n",
            "Epoch 2/50\n",
            "3/3 [==============================] - 0s 31ms/step - loss: 1.0991 - val_loss: 1.0478\n",
            "Epoch 3/50\n",
            "3/3 [==============================] - 0s 15ms/step - loss: 1.0567 - val_loss: 1.0079\n",
            "Epoch 4/50\n",
            "3/3 [==============================] - 0s 13ms/step - loss: 1.0193 - val_loss: 0.9714\n",
            "Epoch 5/50\n",
            "3/3 [==============================] - 0s 14ms/step - loss: 0.9873 - val_loss: 0.9380\n",
            "Epoch 6/50\n",
            "3/3 [==============================] - 0s 14ms/step - loss: 0.9536 - val_loss: 0.8990\n",
            "Epoch 7/50\n",
            "3/3 [==============================] - 0s 13ms/step - loss: 0.9184 - val_loss: 0.8581\n",
            "Epoch 8/50\n",
            "3/3 [==============================] - 0s 15ms/step - loss: 0.8833 - val_loss: 0.8158\n",
            "Epoch 9/50\n",
            "3/3 [==============================] - 0s 13ms/step - loss: 0.8458 - val_loss: 0.7728\n",
            "Epoch 10/50\n",
            "3/3 [==============================] - 0s 13ms/step - loss: 0.8079 - val_loss: 0.7286\n",
            "Epoch 11/50\n",
            "3/3 [==============================] - 0s 13ms/step - loss: 0.7684 - val_loss: 0.6854\n",
            "Epoch 12/50\n",
            "3/3 [==============================] - 0s 13ms/step - loss: 0.7322 - val_loss: 0.6424\n",
            "Epoch 13/50\n",
            "3/3 [==============================] - 0s 12ms/step - loss: 0.6948 - val_loss: 0.6036\n",
            "Epoch 14/50\n",
            "3/3 [==============================] - 0s 14ms/step - loss: 0.6614 - val_loss: 0.5669\n",
            "Epoch 15/50\n",
            "3/3 [==============================] - 0s 12ms/step - loss: 0.6282 - val_loss: 0.5336\n",
            "Epoch 16/50\n",
            "3/3 [==============================] - 0s 13ms/step - loss: 0.5973 - val_loss: 0.5029\n",
            "Epoch 17/50\n",
            "3/3 [==============================] - 0s 12ms/step - loss: 0.5690 - val_loss: 0.4745\n",
            "Epoch 18/50\n",
            "3/3 [==============================] - 0s 12ms/step - loss: 0.5423 - val_loss: 0.4492\n",
            "Epoch 19/50\n",
            "3/3 [==============================] - 0s 13ms/step - loss: 0.5202 - val_loss: 0.4269\n",
            "Epoch 20/50\n",
            "3/3 [==============================] - 0s 12ms/step - loss: 0.4970 - val_loss: 0.4063\n",
            "Epoch 21/50\n",
            "3/3 [==============================] - 0s 13ms/step - loss: 0.4772 - val_loss: 0.3892\n",
            "Epoch 22/50\n",
            "3/3 [==============================] - 0s 13ms/step - loss: 0.4589 - val_loss: 0.3744\n",
            "Epoch 23/50\n",
            "3/3 [==============================] - 0s 13ms/step - loss: 0.4428 - val_loss: 0.3608\n",
            "Epoch 24/50\n",
            "3/3 [==============================] - 0s 15ms/step - loss: 0.4268 - val_loss: 0.3487\n",
            "Epoch 25/50\n",
            "3/3 [==============================] - 0s 14ms/step - loss: 0.4137 - val_loss: 0.3375\n",
            "Epoch 26/50\n",
            "3/3 [==============================] - 0s 15ms/step - loss: 0.4011 - val_loss: 0.3275\n",
            "Epoch 27/50\n",
            "3/3 [==============================] - 0s 15ms/step - loss: 0.3895 - val_loss: 0.3178\n",
            "Epoch 28/50\n",
            "3/3 [==============================] - 0s 14ms/step - loss: 0.3786 - val_loss: 0.3086\n",
            "Epoch 29/50\n",
            "3/3 [==============================] - 0s 14ms/step - loss: 0.3684 - val_loss: 0.3001\n",
            "Epoch 30/50\n",
            "3/3 [==============================] - 0s 13ms/step - loss: 0.3588 - val_loss: 0.2920\n",
            "Epoch 31/50\n",
            "3/3 [==============================] - 0s 14ms/step - loss: 0.3498 - val_loss: 0.2846\n",
            "Epoch 32/50\n",
            "3/3 [==============================] - 0s 17ms/step - loss: 0.3410 - val_loss: 0.2775\n",
            "Epoch 33/50\n",
            "3/3 [==============================] - 0s 13ms/step - loss: 0.3322 - val_loss: 0.2705\n",
            "Epoch 34/50\n",
            "3/3 [==============================] - 0s 16ms/step - loss: 0.3242 - val_loss: 0.2640\n",
            "Epoch 35/50\n",
            "3/3 [==============================] - 0s 16ms/step - loss: 0.3163 - val_loss: 0.2575\n",
            "Epoch 36/50\n",
            "3/3 [==============================] - 0s 17ms/step - loss: 0.3084 - val_loss: 0.2513\n",
            "Epoch 37/50\n",
            "3/3 [==============================] - 0s 15ms/step - loss: 0.3015 - val_loss: 0.2456\n",
            "Epoch 38/50\n",
            "3/3 [==============================] - 0s 15ms/step - loss: 0.2937 - val_loss: 0.2398\n",
            "Epoch 39/50\n",
            "3/3 [==============================] - 0s 15ms/step - loss: 0.2871 - val_loss: 0.2340\n",
            "Epoch 40/50\n",
            "3/3 [==============================] - 0s 13ms/step - loss: 0.2789 - val_loss: 0.2284\n",
            "Epoch 41/50\n",
            "3/3 [==============================] - 0s 13ms/step - loss: 0.2717 - val_loss: 0.2229\n",
            "Epoch 42/50\n",
            "3/3 [==============================] - 0s 23ms/step - loss: 0.2649 - val_loss: 0.2175\n",
            "Epoch 43/50\n",
            "3/3 [==============================] - 0s 13ms/step - loss: 0.2586 - val_loss: 0.2124\n",
            "Epoch 44/50\n",
            "3/3 [==============================] - 0s 13ms/step - loss: 0.2516 - val_loss: 0.2074\n",
            "Epoch 45/50\n",
            "3/3 [==============================] - 0s 15ms/step - loss: 0.2455 - val_loss: 0.2026\n",
            "Epoch 46/50\n",
            "3/3 [==============================] - 0s 14ms/step - loss: 0.2395 - val_loss: 0.1978\n",
            "Epoch 47/50\n",
            "3/3 [==============================] - 0s 15ms/step - loss: 0.2342 - val_loss: 0.1933\n",
            "Epoch 48/50\n",
            "3/3 [==============================] - 0s 12ms/step - loss: 0.2275 - val_loss: 0.1889\n",
            "Epoch 49/50\n",
            "3/3 [==============================] - 0s 13ms/step - loss: 0.2226 - val_loss: 0.1844\n",
            "Epoch 50/50\n",
            "3/3 [==============================] - 0s 17ms/step - loss: 0.2180 - val_loss: 0.1805\n"
          ]
        }
      ]
    },
    {
      "cell_type": "markdown",
      "source": [
        "* 학습결과 그래프"
      ],
      "metadata": {
        "id": "Knm4cH9d4PwN"
      }
    },
    {
      "cell_type": "code",
      "metadata": {
        "id": "nORqMReL4PwO",
        "colab": {
          "base_uri": "https://localhost:8080/",
          "height": 542
        },
        "outputId": "047efe49-dbae-47e7-c1bc-50d3f1b8159e"
      },
      "source": [
        "dl_history_plot(history)"
      ],
      "execution_count": 25,
      "outputs": [
        {
          "output_type": "display_data",
          "data": {
            "text/plain": [
              "<Figure size 1000x600 with 1 Axes>"
            ],
            "image/png": "[encoded data removed]"
          },
          "metadata": {}
        }
      ]
    },
    {
      "cell_type": "markdown",
      "source": [
        "* 예측 및 검증\n",
        "    * 예측 결과는 softmax로 변환된 값 입니다."
      ],
      "metadata": {
        "id": "tP2dVQ0X4PwO"
      }
    },
    {
      "cell_type": "code",
      "source": [
        "pred = model.predict(x_val)\n",
        "pred_1 = pred.argmax(axis=1)"
      ],
      "metadata": {
        "id": "7BHDyAhn4PwO",
        "colab": {
          "base_uri": "https://localhost:8080/",
          "height": 0
        },
        "outputId": "88b21a0b-4428-4ce4-ef67-7849f296fd71"
      },
      "execution_count": 26,
      "outputs": [
        {
          "output_type": "stream",
          "name": "stdout",
          "text": [
            "2/2 [==============================] - 0s 5ms/step\n"
          ]
        }
      ]
    },
    {
      "cell_type": "code",
      "source": [
        "print(confusion_matrix(y_val, pred_1))\n",
        "print(classification_report(y_val, pred_1))"
      ],
      "metadata": {
        "id": "_7AZv7qz4PwR",
        "colab": {
          "base_uri": "https://localhost:8080/",
          "height": 0
        },
        "outputId": "ae1ef8af-cd8c-4468-8cdc-1bf55a267765"
      },
      "execution_count": 27,
      "outputs": [
        {
          "output_type": "stream",
          "name": "stdout",
          "text": [
            "[[13  0  0]\n",
            " [ 0 17  1]\n",
            " [ 0  3 11]]\n",
            "              precision    recall  f1-score   support\n",
            "\n",
            "           0       1.00      1.00      1.00        13\n",
            "           1       0.85      0.94      0.89        18\n",
            "           2       0.92      0.79      0.85        14\n",
            "\n",
            "    accuracy                           0.91        45\n",
            "   macro avg       0.92      0.91      0.91        45\n",
            "weighted avg       0.91      0.91      0.91        45\n",
            "\n"
          ]
        }
      ]
    },
    {
      "cell_type": "markdown",
      "source": [
        "### (2) 모델2"
      ],
      "metadata": {
        "id": "mwKFTOqt5yp7"
      }
    },
    {
      "cell_type": "markdown",
      "source": [
        "* 다음의 summary를 보고 모델을 설계하시오.\n",
        "\n",
        "| Layer (type) | Output Shape | Param # | 옵션 |\n",
        "| ---- | ---- | ---- | ---- |\n",
        "| dense (Dense) | (None, 8) | 40 | node, input_shape, activation = 'relu' |\n",
        "| dense_1 (Dense) | (None, 8) | 72 | node, activation = 'relu'  |\n",
        "| dense_2 (Dense) | (None, 3) | 27 | node, activation = 'softmax'  |"
      ],
      "metadata": {
        "id": "CCO2A9nK5yp8"
      }
    },
    {
      "cell_type": "code",
      "source": [
        "n= x_train.shape[1]\n",
        "n"
      ],
      "metadata": {
        "colab": {
          "base_uri": "https://localhost:8080/",
          "height": 0
        },
        "id": "SsHsboD4BUrr",
        "outputId": "4a12b063-9d15-4652-d90a-e89db09c57c9"
      },
      "execution_count": 28,
      "outputs": [
        {
          "output_type": "execute_result",
          "data": {
            "text/plain": [
              "4"
            ]
          },
          "metadata": {},
          "execution_count": 28
        }
      ]
    },
    {
      "cell_type": "code",
      "source": [
        "clear_session()\n",
        "model2 = Sequential([Dense(8, input_shape=(n, ), activation='relu'),\n",
        "                     Dense(8, activation='relu'),\n",
        "                     Dense(3, activation='softmax')])\n",
        "model2.summary()"
      ],
      "metadata": {
        "id": "NzoP_Aot5yp8",
        "colab": {
          "base_uri": "https://localhost:8080/",
          "height": 0
        },
        "outputId": "b252fb55-5e28-4c90-8a07-ec4c241734a7"
      },
      "execution_count": 38,
      "outputs": [
        {
          "output_type": "stream",
          "name": "stdout",
          "text": [
            "Model: \"sequential\"\n",
            "_________________________________________________________________\n",
            " Layer (type)                Output Shape              Param #   \n",
            "=================================================================\n",
            " dense (Dense)               (None, 8)                 40        \n",
            "                                                                 \n",
            " dense_1 (Dense)             (None, 8)                 72        \n",
            "                                                                 \n",
            " dense_2 (Dense)             (None, 3)                 27        \n",
            "                                                                 \n",
            "=================================================================\n",
            "Total params: 139 (556.00 Byte)\n",
            "Trainable params: 139 (556.00 Byte)\n",
            "Non-trainable params: 0 (0.00 Byte)\n",
            "_________________________________________________________________\n"
          ]
        }
      ]
    },
    {
      "cell_type": "markdown",
      "metadata": {
        "id": "KxqBZPBl5yp9"
      },
      "source": [
        "* compile + 학습"
      ]
    },
    {
      "cell_type": "code",
      "metadata": {
        "id": "mphRKTnZ5yp9",
        "colab": {
          "base_uri": "https://localhost:8080/",
          "height": 0
        },
        "outputId": "5145e4f2-60c6-49da-d1cf-720ff23b50eb"
      },
      "source": [
        "model2.compile(optimizer=Adam(0.01), loss='sparse_categorical_crossentropy')\n",
        "hist = model2.fit(x_train, y_train, epochs=20, validation_split=.2).history"
      ],
      "execution_count": 39,
      "outputs": [
        {
          "output_type": "stream",
          "name": "stdout",
          "text": [
            "Epoch 1/20\n",
            "3/3 [==============================] - 2s 249ms/step - loss: 1.3427 - val_loss: 1.2554\n",
            "Epoch 2/20\n",
            "3/3 [==============================] - 0s 39ms/step - loss: 1.2085 - val_loss: 1.1483\n",
            "Epoch 3/20\n",
            "3/3 [==============================] - 0s 38ms/step - loss: 1.1232 - val_loss: 1.0754\n",
            "Epoch 4/20\n",
            "3/3 [==============================] - 0s 44ms/step - loss: 1.0735 - val_loss: 1.0168\n",
            "Epoch 5/20\n",
            "3/3 [==============================] - 0s 34ms/step - loss: 1.0321 - val_loss: 0.9681\n",
            "Epoch 6/20\n",
            "3/3 [==============================] - 0s 50ms/step - loss: 0.9956 - val_loss: 0.9246\n",
            "Epoch 7/20\n",
            "3/3 [==============================] - 0s 42ms/step - loss: 0.9573 - val_loss: 0.8772\n",
            "Epoch 8/20\n",
            "3/3 [==============================] - 0s 49ms/step - loss: 0.9136 - val_loss: 0.8241\n",
            "Epoch 9/20\n",
            "3/3 [==============================] - 0s 65ms/step - loss: 0.8691 - val_loss: 0.7694\n",
            "Epoch 10/20\n",
            "3/3 [==============================] - 0s 36ms/step - loss: 0.8195 - val_loss: 0.7142\n",
            "Epoch 11/20\n",
            "3/3 [==============================] - 0s 36ms/step - loss: 0.7695 - val_loss: 0.6598\n",
            "Epoch 12/20\n",
            "3/3 [==============================] - 0s 46ms/step - loss: 0.7197 - val_loss: 0.6093\n",
            "Epoch 13/20\n",
            "3/3 [==============================] - 0s 97ms/step - loss: 0.6726 - val_loss: 0.5675\n",
            "Epoch 14/20\n",
            "3/3 [==============================] - 0s 88ms/step - loss: 0.6334 - val_loss: 0.5319\n",
            "Epoch 15/20\n",
            "3/3 [==============================] - 0s 82ms/step - loss: 0.5991 - val_loss: 0.5021\n",
            "Epoch 16/20\n",
            "3/3 [==============================] - 0s 70ms/step - loss: 0.5689 - val_loss: 0.4737\n",
            "Epoch 17/20\n",
            "3/3 [==============================] - 0s 39ms/step - loss: 0.5415 - val_loss: 0.4481\n",
            "Epoch 18/20\n",
            "3/3 [==============================] - 0s 43ms/step - loss: 0.5164 - val_loss: 0.4253\n",
            "Epoch 19/20\n",
            "3/3 [==============================] - 0s 30ms/step - loss: 0.4939 - val_loss: 0.4040\n",
            "Epoch 20/20\n",
            "3/3 [==============================] - 0s 26ms/step - loss: 0.4738 - val_loss: 0.3851\n"
          ]
        }
      ]
    },
    {
      "cell_type": "markdown",
      "source": [
        "* 학습결과 그래프"
      ],
      "metadata": {
        "id": "C97SZ1Fd5yp9"
      }
    },
    {
      "cell_type": "code",
      "metadata": {
        "id": "1IvOTRd35yp-",
        "colab": {
          "base_uri": "https://localhost:8080/",
          "height": 542
        },
        "outputId": "69931ad6-c33a-4b5f-b35e-df44ec6949dc"
      },
      "source": [
        "dl_history_plot(hist)"
      ],
      "execution_count": 40,
      "outputs": [
        {
          "output_type": "display_data",
          "data": {
            "text/plain": [
              "<Figure size 1000x600 with 1 Axes>"
            ],
            "image/png": "[encoded data removed]"
          },
          "metadata": {}
        }
      ]
    },
    {
      "cell_type": "markdown",
      "source": [
        "* 예측 및 검증\n",
        "    * 예측 결과는 softmax로 변환된 값 입니다."
      ],
      "metadata": {
        "id": "ch2Rt9MU5yp-"
      }
    },
    {
      "cell_type": "code",
      "source": [
        "pred = model2.predict(x_val)\n",
        "pred = np.argmax(pred, axis=1)"
      ],
      "metadata": {
        "id": "tUZMK3ae5yp-",
        "colab": {
          "base_uri": "https://localhost:8080/",
          "height": 0
        },
        "outputId": "75e1282b-28f7-4d19-bcf2-a7198b347034"
      },
      "execution_count": 42,
      "outputs": [
        {
          "output_type": "stream",
          "name": "stdout",
          "text": [
            "2/2 [==============================] - 0s 4ms/step\n"
          ]
        }
      ]
    },
    {
      "cell_type": "code",
      "source": [
        "print(confusion_matrix(y_val, pred))\n",
        "print(classification_report(y_val, pred))"
      ],
      "metadata": {
        "id": "XpKCoA8U5yp-",
        "colab": {
          "base_uri": "https://localhost:8080/",
          "height": 0
        },
        "outputId": "6199027f-5628-41b4-acb0-c009b941027d"
      },
      "execution_count": 43,
      "outputs": [
        {
          "output_type": "stream",
          "name": "stdout",
          "text": [
            "[[13  0  0]\n",
            " [ 0  0 18]\n",
            " [ 0  0 14]]\n",
            "              precision    recall  f1-score   support\n",
            "\n",
            "           0       1.00      1.00      1.00        13\n",
            "           1       0.00      0.00      0.00        18\n",
            "           2       0.44      1.00      0.61        14\n",
            "\n",
            "    accuracy                           0.60        45\n",
            "   macro avg       0.48      0.67      0.54        45\n",
            "weighted avg       0.42      0.60      0.48        45\n",
            "\n"
          ]
        },
        {
          "output_type": "stream",
          "name": "stderr",
          "text": [
            "/usr/local/lib/python3.10/dist-packages/sklearn/metrics/_classification.py:1344: UndefinedMetricWarning: Precision and F-score are ill-defined and being set to 0.0 in labels with no predicted samples. Use `zero_division` parameter to control this behavior.\n",
            "  _warn_prf(average, modifier, msg_start, len(result))\n",
            "/usr/local/lib/python3.10/dist-packages/sklearn/metrics/_classification.py:1344: UndefinedMetricWarning: Precision and F-score are ill-defined and being set to 0.0 in labels with no predicted samples. Use `zero_division` parameter to control this behavior.\n",
            "  _warn_prf(average, modifier, msg_start, len(result))\n",
            "/usr/local/lib/python3.10/dist-packages/sklearn/metrics/_classification.py:1344: UndefinedMetricWarning: Precision and F-score are ill-defined and being set to 0.0 in labels with no predicted samples. Use `zero_division` parameter to control this behavior.\n",
            "  _warn_prf(average, modifier, msg_start, len(result))\n"
          ]
        }
      ]
    },
    {
      "cell_type": "markdown",
      "source": [
        "### (3) 모델3"
      ],
      "metadata": {
        "id": "PTiPwLOt6EJc"
      }
    },
    {
      "cell_type": "markdown",
      "source": [
        "* 여러분이 원하는 형태로 설계를 해 봅시다."
      ],
      "metadata": {
        "id": "vY3EunAw6EJd"
      }
    },
    {
      "cell_type": "code",
      "source": [
        "n"
      ],
      "metadata": {
        "colab": {
          "base_uri": "https://localhost:8080/",
          "height": 0
        },
        "id": "mPz72JdNDG5f",
        "outputId": "e46cab27-9686-4950-df58-6dc26ccf8d9f"
      },
      "execution_count": 44,
      "outputs": [
        {
          "output_type": "execute_result",
          "data": {
            "text/plain": [
              "4"
            ]
          },
          "metadata": {},
          "execution_count": 44
        }
      ]
    },
    {
      "cell_type": "code",
      "source": [
        "clear_session()\n",
        "model3 = Sequential([Dense(16, input_shape=(n,), activation='relu'),\n",
        "                     Dense(9, activation='relu'),\n",
        "                     Dense(3, activation='softmax'),])\n",
        "model3.summary()"
      ],
      "metadata": {
        "id": "CuVmQ4uL6EJd",
        "colab": {
          "base_uri": "https://localhost:8080/",
          "height": 0
        },
        "outputId": "3cd835ff-1b5b-4ce1-bc6e-49271c6ca354"
      },
      "execution_count": 77,
      "outputs": [
        {
          "output_type": "stream",
          "name": "stdout",
          "text": [
            "Model: \"sequential\"\n",
            "_________________________________________________________________\n",
            " Layer (type)                Output Shape              Param #   \n",
            "=================================================================\n",
            " dense (Dense)               (None, 16)                80        \n",
            "                                                                 \n",
            " dense_1 (Dense)             (None, 9)                 153       \n",
            "                                                                 \n",
            " dense_2 (Dense)             (None, 3)                 30        \n",
            "                                                                 \n",
            "=================================================================\n",
            "Total params: 263 (1.03 KB)\n",
            "Trainable params: 263 (1.03 KB)\n",
            "Non-trainable params: 0 (0.00 Byte)\n",
            "_________________________________________________________________\n"
          ]
        }
      ]
    },
    {
      "cell_type": "markdown",
      "metadata": {
        "id": "dkavGuo46EJd"
      },
      "source": [
        "* compile + 학습"
      ]
    },
    {
      "cell_type": "code",
      "metadata": {
        "id": "uKNp6rIr6EJe",
        "colab": {
          "base_uri": "https://localhost:8080/",
          "height": 0
        },
        "outputId": "ed2dace6-63f2-4857-b03a-6e7479c4c96b"
      },
      "source": [
        "model3.compile(optimizer=Adam(0.01), loss='sparse_categorical_crossentropy')\n",
        "hist = model3.fit(x_train, y_train, epochs=35, validation_split=.2).history # verbose = 0"
      ],
      "execution_count": 78,
      "outputs": [
        {
          "output_type": "stream",
          "name": "stdout",
          "text": [
            "Epoch 1/35\n",
            "3/3 [==============================] - 2s 280ms/step - loss: 1.0226 - val_loss: 0.9193\n",
            "Epoch 2/35\n",
            "3/3 [==============================] - 0s 13ms/step - loss: 0.9346 - val_loss: 0.8306\n",
            "Epoch 3/35\n",
            "3/3 [==============================] - 0s 13ms/step - loss: 0.8582 - val_loss: 0.7540\n",
            "Epoch 4/35\n",
            "3/3 [==============================] - 0s 12ms/step - loss: 0.7916 - val_loss: 0.6865\n",
            "Epoch 5/35\n",
            "3/3 [==============================] - 0s 15ms/step - loss: 0.7308 - val_loss: 0.6270\n",
            "Epoch 6/35\n",
            "3/3 [==============================] - 0s 13ms/step - loss: 0.6754 - val_loss: 0.5775\n",
            "Epoch 7/35\n",
            "3/3 [==============================] - 0s 16ms/step - loss: 0.6318 - val_loss: 0.5365\n",
            "Epoch 8/35\n",
            "3/3 [==============================] - 0s 15ms/step - loss: 0.5926 - val_loss: 0.4993\n",
            "Epoch 9/35\n",
            "3/3 [==============================] - 0s 19ms/step - loss: 0.5588 - val_loss: 0.4626\n",
            "Epoch 10/35\n",
            "3/3 [==============================] - 0s 14ms/step - loss: 0.5240 - val_loss: 0.4323\n",
            "Epoch 11/35\n",
            "3/3 [==============================] - 0s 15ms/step - loss: 0.4941 - val_loss: 0.4051\n",
            "Epoch 12/35\n",
            "3/3 [==============================] - 0s 15ms/step - loss: 0.4657 - val_loss: 0.3813\n",
            "Epoch 13/35\n",
            "3/3 [==============================] - 0s 14ms/step - loss: 0.4406 - val_loss: 0.3594\n",
            "Epoch 14/35\n",
            "3/3 [==============================] - 0s 16ms/step - loss: 0.4143 - val_loss: 0.3400\n",
            "Epoch 15/35\n",
            "3/3 [==============================] - 0s 14ms/step - loss: 0.3911 - val_loss: 0.3215\n",
            "Epoch 16/35\n",
            "3/3 [==============================] - 0s 14ms/step - loss: 0.3691 - val_loss: 0.2964\n",
            "Epoch 17/35\n",
            "3/3 [==============================] - 0s 14ms/step - loss: 0.3355 - val_loss: 0.2811\n",
            "Epoch 18/35\n",
            "3/3 [==============================] - 0s 16ms/step - loss: 0.3117 - val_loss: 0.2630\n",
            "Epoch 19/35\n",
            "3/3 [==============================] - 0s 15ms/step - loss: 0.2872 - val_loss: 0.2327\n",
            "Epoch 20/35\n",
            "3/3 [==============================] - 0s 16ms/step - loss: 0.2563 - val_loss: 0.2145\n",
            "Epoch 21/35\n",
            "3/3 [==============================] - 0s 26ms/step - loss: 0.2277 - val_loss: 0.1936\n",
            "Epoch 22/35\n",
            "3/3 [==============================] - 0s 15ms/step - loss: 0.2068 - val_loss: 0.1707\n",
            "Epoch 23/35\n",
            "3/3 [==============================] - 0s 14ms/step - loss: 0.1818 - val_loss: 0.1564\n",
            "Epoch 24/35\n",
            "3/3 [==============================] - 0s 13ms/step - loss: 0.1652 - val_loss: 0.1416\n",
            "Epoch 25/35\n",
            "3/3 [==============================] - 0s 14ms/step - loss: 0.1457 - val_loss: 0.1233\n",
            "Epoch 26/35\n",
            "3/3 [==============================] - 0s 15ms/step - loss: 0.1404 - val_loss: 0.1131\n",
            "Epoch 27/35\n",
            "3/3 [==============================] - 0s 15ms/step - loss: 0.1320 - val_loss: 0.1202\n",
            "Epoch 28/35\n",
            "3/3 [==============================] - 0s 14ms/step - loss: 0.1183 - val_loss: 0.0957\n",
            "Epoch 29/35\n",
            "3/3 [==============================] - 0s 15ms/step - loss: 0.1093 - val_loss: 0.0900\n",
            "Epoch 30/35\n",
            "3/3 [==============================] - 0s 13ms/step - loss: 0.1032 - val_loss: 0.0902\n",
            "Epoch 31/35\n",
            "3/3 [==============================] - 0s 14ms/step - loss: 0.0961 - val_loss: 0.0797\n",
            "Epoch 32/35\n",
            "3/3 [==============================] - 0s 14ms/step - loss: 0.0894 - val_loss: 0.0738\n",
            "Epoch 33/35\n",
            "3/3 [==============================] - 0s 13ms/step - loss: 0.0871 - val_loss: 0.0714\n",
            "Epoch 34/35\n",
            "3/3 [==============================] - 0s 13ms/step - loss: 0.0811 - val_loss: 0.0769\n",
            "Epoch 35/35\n",
            "3/3 [==============================] - 0s 19ms/step - loss: 0.0790 - val_loss: 0.0639\n"
          ]
        }
      ]
    },
    {
      "cell_type": "markdown",
      "source": [
        "* 학습결과 그래프"
      ],
      "metadata": {
        "id": "cIo6Iw826EJe"
      }
    },
    {
      "cell_type": "code",
      "metadata": {
        "id": "NdqCDRkQ6EJe",
        "colab": {
          "base_uri": "https://localhost:8080/",
          "height": 542
        },
        "outputId": "9a8fe73d-56ec-418d-a64b-d83fe866fbe6"
      },
      "source": [
        "dl_history_plot(hist)"
      ],
      "execution_count": 79,
      "outputs": [
        {
          "output_type": "display_data",
          "data": {
            "text/plain": [
              "<Figure size 1000x600 with 1 Axes>"
            ],
            "image/png": "[encoded data removed]"
          },
          "metadata": {}
        }
      ]
    },
    {
      "cell_type": "markdown",
      "source": [
        "* 예측 및 검증\n",
        "    * 예측 결과는 softmax로 변환된 값 입니다."
      ],
      "metadata": {
        "id": "SvdZzqXG6EJe"
      }
    },
    {
      "cell_type": "code",
      "source": [
        "pred = model3.predict(x_val)\n",
        "pred = np.argmax(pred, axis=1)"
      ],
      "metadata": {
        "id": "PkA0pDUP6EJe",
        "colab": {
          "base_uri": "https://localhost:8080/",
          "height": 0
        },
        "outputId": "14c1f979-06e9-4346-c327-683261103465"
      },
      "execution_count": 80,
      "outputs": [
        {
          "output_type": "stream",
          "name": "stdout",
          "text": [
            "2/2 [==============================] - 0s 5ms/step\n"
          ]
        }
      ]
    },
    {
      "cell_type": "code",
      "source": [
        "print(confusion_matrix(y_val, pred_1))\n",
        "print(classification_report(y_val, pred_1))"
      ],
      "metadata": {
        "id": "T4_jVJ2q6EJe",
        "colab": {
          "base_uri": "https://localhost:8080/",
          "height": 0
        },
        "outputId": "6858af12-697a-4204-b7ed-631a438c9b97"
      },
      "execution_count": 81,
      "outputs": [
        {
          "output_type": "stream",
          "name": "stdout",
          "text": [
            "[[13  0  0]\n",
            " [ 0 17  1]\n",
            " [ 0  3 11]]\n",
            "              precision    recall  f1-score   support\n",
            "\n",
            "           0       1.00      1.00      1.00        13\n",
            "           1       0.85      0.94      0.89        18\n",
            "           2       0.92      0.79      0.85        14\n",
            "\n",
            "    accuracy                           0.91        45\n",
            "   macro avg       0.92      0.91      0.91        45\n",
            "weighted avg       0.91      0.91      0.91        45\n",
            "\n"
          ]
        }
      ]
    },
    {
      "cell_type": "markdown",
      "metadata": {
        "id": "bGYSCmURsm6y"
      },
      "source": [
        "## 5.참조 : y를 one-hot encoding 하여 모델링\n",
        "\n",
        "* y 가변수화 : to_categorical\n",
        "* 컴파일에서 loss = 'categorical_crossentropy'"
      ]
    },
    {
      "cell_type": "code",
      "source": [
        "from keras.utils import to_categorical"
      ],
      "metadata": {
        "id": "GWu5dC-6dTai"
      },
      "execution_count": 82,
      "outputs": []
    },
    {
      "cell_type": "markdown",
      "source": [
        "### (1) y에 대한 가변수화"
      ],
      "metadata": {
        "id": "pcKlPlGYV5Qb"
      }
    },
    {
      "cell_type": "code",
      "source": [
        "y"
      ],
      "metadata": {
        "id": "aDeeizsAPH3p",
        "colab": {
          "base_uri": "https://localhost:8080/",
          "height": 0
        },
        "outputId": "90695294-43be-4ad0-a8d0-a1c30a506d48"
      },
      "execution_count": 87,
      "outputs": [
        {
          "output_type": "execute_result",
          "data": {
            "text/plain": [
              "0      0\n",
              "1      0\n",
              "2      0\n",
              "3      0\n",
              "4      0\n",
              "      ..\n",
              "145    2\n",
              "146    2\n",
              "147    2\n",
              "148    2\n",
              "149    2\n",
              "Name: Species, Length: 150, dtype: int64"
            ]
          },
          "metadata": {},
          "execution_count": 87
        }
      ]
    },
    {
      "cell_type": "code",
      "source": [
        "y_c = to_categorical(y.values, 3) # 클래스 3개 원-핫-인코딩"
      ],
      "metadata": {
        "id": "QnaeCCI_U9ro"
      },
      "execution_count": 85,
      "outputs": []
    },
    {
      "cell_type": "code",
      "source": [
        "y_c[:5]"
      ],
      "metadata": {
        "id": "HiWM1IntqxbY",
        "colab": {
          "base_uri": "https://localhost:8080/",
          "height": 0
        },
        "outputId": "7493bafe-78ac-4dd7-edd0-2329630c09c0"
      },
      "execution_count": 86,
      "outputs": [
        {
          "output_type": "execute_result",
          "data": {
            "text/plain": [
              "array([[1., 0., 0.],\n",
              "       [1., 0., 0.],\n",
              "       [1., 0., 0.],\n",
              "       [1., 0., 0.],\n",
              "       [1., 0., 0.]], dtype=float32)"
            ]
          },
          "metadata": {},
          "execution_count": 86
        }
      ]
    },
    {
      "cell_type": "code",
      "source": [
        "y_c[-5:]"
      ],
      "metadata": {
        "colab": {
          "base_uri": "https://localhost:8080/",
          "height": 0
        },
        "id": "2wTsGrQXFdxy",
        "outputId": "10c1f9f2-a0ef-489d-a6c6-8a5a8fadbbe7"
      },
      "execution_count": 88,
      "outputs": [
        {
          "output_type": "execute_result",
          "data": {
            "text/plain": [
              "array([[0., 0., 1.],\n",
              "       [0., 0., 1.],\n",
              "       [0., 0., 1.],\n",
              "       [0., 0., 1.],\n",
              "       [0., 0., 1.]], dtype=float32)"
            ]
          },
          "metadata": {},
          "execution_count": 88
        }
      ]
    },
    {
      "cell_type": "markdown",
      "source": [
        "### (2) 데이터 분할2 : train : val"
      ],
      "metadata": {
        "id": "ikolo0wEV_Xe"
      }
    },
    {
      "cell_type": "code",
      "source": [
        "x_train, x_val, y_train, y_val = train_test_split(x, y_c, test_size = .2, random_state = 2024)"
      ],
      "metadata": {
        "id": "kEeVFQteVnKB"
      },
      "execution_count": 89,
      "outputs": []
    },
    {
      "cell_type": "code",
      "source": [
        "y_train.shape"
      ],
      "metadata": {
        "id": "QW5bT89Awy-B",
        "colab": {
          "base_uri": "https://localhost:8080/",
          "height": 0
        },
        "outputId": "2c3ed24a-0de9-4c99-9374-2ad98302a819"
      },
      "execution_count": 90,
      "outputs": [
        {
          "output_type": "execute_result",
          "data": {
            "text/plain": [
              "(120, 3)"
            ]
          },
          "metadata": {},
          "execution_count": 90
        }
      ]
    },
    {
      "cell_type": "markdown",
      "metadata": {
        "id": "MXUC5Yi3um81"
      },
      "source": [
        "### (3) Scaling"
      ]
    },
    {
      "cell_type": "code",
      "source": [
        "scaler = MinMaxScaler()\n",
        "x_train = scaler.fit_transform(x_train)\n",
        "x_val = scaler.transform(x_val)"
      ],
      "metadata": {
        "id": "9bly3GLif1eP"
      },
      "execution_count": 91,
      "outputs": []
    },
    {
      "cell_type": "markdown",
      "metadata": {
        "id": "9xfSXhuJZvh0"
      },
      "source": [
        "### (4) 모델 설계"
      ]
    },
    {
      "cell_type": "code",
      "source": [
        "nfeatures = x_train.shape[1] #num of columns\n",
        "nfeatures"
      ],
      "metadata": {
        "id": "YONQQmSoWZ2K",
        "colab": {
          "base_uri": "https://localhost:8080/",
          "height": 0
        },
        "outputId": "428df0c6-4040-47b1-c1e1-23da4e5d541d"
      },
      "execution_count": 92,
      "outputs": [
        {
          "output_type": "execute_result",
          "data": {
            "text/plain": [
              "4"
            ]
          },
          "metadata": {},
          "execution_count": 92
        }
      ]
    },
    {
      "cell_type": "code",
      "metadata": {
        "id": "gAvCb2L3WZ2K",
        "colab": {
          "base_uri": "https://localhost:8080/",
          "height": 0
        },
        "outputId": "fbfa819f-f86d-44d7-f666-b8dc104c1368"
      },
      "source": [
        "# 메모리 정리\n",
        "clear_session()\n",
        "\n",
        "# Sequential\n",
        "model = Sequential([Dense(3, input_shape = (nfeatures,), activation = 'softmax')])\n",
        "\n",
        "# 모델요약\n",
        "model.summary()"
      ],
      "execution_count": 93,
      "outputs": [
        {
          "output_type": "stream",
          "name": "stdout",
          "text": [
            "Model: \"sequential\"\n",
            "_________________________________________________________________\n",
            " Layer (type)                Output Shape              Param #   \n",
            "=================================================================\n",
            " dense (Dense)               (None, 3)                 15        \n",
            "                                                                 \n",
            "=================================================================\n",
            "Total params: 15 (60.00 Byte)\n",
            "Trainable params: 15 (60.00 Byte)\n",
            "Non-trainable params: 0 (0.00 Byte)\n",
            "_________________________________________________________________\n"
          ]
        }
      ]
    },
    {
      "cell_type": "markdown",
      "metadata": {
        "id": "p9pnMdXE2Y93"
      },
      "source": [
        "### (5) compile + 학습\n",
        "\n",
        "* lr과 learning_rate은 같은 의미 입니다. 그러나 향후 버전에서는 lr이 제외될 예정이라고 합니다.\n",
        "* y를 one-hot encoding 했다면, loss fuction은 **categorical_crossentropy** 입니다."
      ]
    },
    {
      "cell_type": "code",
      "metadata": {
        "id": "DZhoXG0a2Y94",
        "colab": {
          "base_uri": "https://localhost:8080/",
          "height": 0
        },
        "outputId": "37d001cb-2294-4be6-df9f-0d6247ef1430"
      },
      "source": [
        "model.compile(optimizer=Adam(learning_rate=0.1), loss='categorical_crossentropy')\n",
        "\n",
        "history = model.fit(x_train, y_train, epochs = 100,\n",
        "                    validation_split=0.2).history"
      ],
      "execution_count": 94,
      "outputs": [
        {
          "output_type": "stream",
          "name": "stdout",
          "text": [
            "Epoch 1/100\n",
            "3/3 [==============================] - 1s 94ms/step - loss: 1.0344 - val_loss: 0.9226\n",
            "Epoch 2/100\n",
            "3/3 [==============================] - 0s 16ms/step - loss: 0.8830 - val_loss: 0.8314\n",
            "Epoch 3/100\n",
            "3/3 [==============================] - 0s 17ms/step - loss: 0.7601 - val_loss: 0.7359\n",
            "Epoch 4/100\n",
            "3/3 [==============================] - 0s 18ms/step - loss: 0.6683 - val_loss: 0.6816\n",
            "Epoch 5/100\n",
            "3/3 [==============================] - 0s 17ms/step - loss: 0.6155 - val_loss: 0.6292\n",
            "Epoch 6/100\n",
            "3/3 [==============================] - 0s 29ms/step - loss: 0.5593 - val_loss: 0.5794\n",
            "Epoch 7/100\n",
            "3/3 [==============================] - 0s 22ms/step - loss: 0.5169 - val_loss: 0.5460\n",
            "Epoch 8/100\n",
            "3/3 [==============================] - 0s 20ms/step - loss: 0.4887 - val_loss: 0.5188\n",
            "Epoch 9/100\n",
            "3/3 [==============================] - 0s 23ms/step - loss: 0.4662 - val_loss: 0.4948\n",
            "Epoch 10/100\n",
            "3/3 [==============================] - 0s 19ms/step - loss: 0.4486 - val_loss: 0.4819\n",
            "Epoch 11/100\n",
            "3/3 [==============================] - 0s 26ms/step - loss: 0.4267 - val_loss: 0.4645\n",
            "Epoch 12/100\n",
            "3/3 [==============================] - 0s 18ms/step - loss: 0.4088 - val_loss: 0.4444\n",
            "Epoch 13/100\n",
            "3/3 [==============================] - 0s 17ms/step - loss: 0.3928 - val_loss: 0.4282\n",
            "Epoch 14/100\n",
            "3/3 [==============================] - 0s 29ms/step - loss: 0.3829 - val_loss: 0.4150\n",
            "Epoch 15/100\n",
            "3/3 [==============================] - 0s 23ms/step - loss: 0.3706 - val_loss: 0.4034\n",
            "Epoch 16/100\n",
            "3/3 [==============================] - 0s 28ms/step - loss: 0.3588 - val_loss: 0.3949\n",
            "Epoch 17/100\n",
            "3/3 [==============================] - 0s 20ms/step - loss: 0.3508 - val_loss: 0.3849\n",
            "Epoch 18/100\n",
            "3/3 [==============================] - 0s 25ms/step - loss: 0.3416 - val_loss: 0.3733\n",
            "Epoch 19/100\n",
            "3/3 [==============================] - 0s 21ms/step - loss: 0.3324 - val_loss: 0.3646\n",
            "Epoch 20/100\n",
            "3/3 [==============================] - 0s 25ms/step - loss: 0.3260 - val_loss: 0.3547\n",
            "Epoch 21/100\n",
            "3/3 [==============================] - 0s 20ms/step - loss: 0.3187 - val_loss: 0.3491\n",
            "Epoch 22/100\n",
            "3/3 [==============================] - 0s 19ms/step - loss: 0.3103 - val_loss: 0.3410\n",
            "Epoch 23/100\n",
            "3/3 [==============================] - 0s 15ms/step - loss: 0.3044 - val_loss: 0.3322\n",
            "Epoch 24/100\n",
            "3/3 [==============================] - 0s 15ms/step - loss: 0.2975 - val_loss: 0.3261\n",
            "Epoch 25/100\n",
            "3/3 [==============================] - 0s 15ms/step - loss: 0.2917 - val_loss: 0.3192\n",
            "Epoch 26/100\n",
            "3/3 [==============================] - 0s 15ms/step - loss: 0.2858 - val_loss: 0.3133\n",
            "Epoch 27/100\n",
            "3/3 [==============================] - 0s 12ms/step - loss: 0.2823 - val_loss: 0.3088\n",
            "Epoch 28/100\n",
            "3/3 [==============================] - 0s 14ms/step - loss: 0.2787 - val_loss: 0.2988\n",
            "Epoch 29/100\n",
            "3/3 [==============================] - 0s 13ms/step - loss: 0.2726 - val_loss: 0.2952\n",
            "Epoch 30/100\n",
            "3/3 [==============================] - 0s 14ms/step - loss: 0.2666 - val_loss: 0.2890\n",
            "Epoch 31/100\n",
            "3/3 [==============================] - 0s 13ms/step - loss: 0.2609 - val_loss: 0.2847\n",
            "Epoch 32/100\n",
            "3/3 [==============================] - 0s 13ms/step - loss: 0.2588 - val_loss: 0.2827\n",
            "Epoch 33/100\n",
            "3/3 [==============================] - 0s 15ms/step - loss: 0.2530 - val_loss: 0.2748\n",
            "Epoch 34/100\n",
            "3/3 [==============================] - 0s 15ms/step - loss: 0.2486 - val_loss: 0.2699\n",
            "Epoch 35/100\n",
            "3/3 [==============================] - 0s 13ms/step - loss: 0.2475 - val_loss: 0.2635\n",
            "Epoch 36/100\n",
            "3/3 [==============================] - 0s 14ms/step - loss: 0.2416 - val_loss: 0.2620\n",
            "Epoch 37/100\n",
            "3/3 [==============================] - 0s 13ms/step - loss: 0.2367 - val_loss: 0.2592\n",
            "Epoch 38/100\n",
            "3/3 [==============================] - 0s 13ms/step - loss: 0.2338 - val_loss: 0.2559\n",
            "Epoch 39/100\n",
            "3/3 [==============================] - 0s 14ms/step - loss: 0.2305 - val_loss: 0.2484\n",
            "Epoch 40/100\n",
            "3/3 [==============================] - 0s 13ms/step - loss: 0.2276 - val_loss: 0.2446\n",
            "Epoch 41/100\n",
            "3/3 [==============================] - 0s 13ms/step - loss: 0.2238 - val_loss: 0.2426\n",
            "Epoch 42/100\n",
            "3/3 [==============================] - 0s 12ms/step - loss: 0.2208 - val_loss: 0.2391\n",
            "Epoch 43/100\n",
            "3/3 [==============================] - 0s 12ms/step - loss: 0.2172 - val_loss: 0.2351\n",
            "Epoch 44/100\n",
            "3/3 [==============================] - 0s 12ms/step - loss: 0.2150 - val_loss: 0.2293\n",
            "Epoch 45/100\n",
            "3/3 [==============================] - 0s 12ms/step - loss: 0.2123 - val_loss: 0.2263\n",
            "Epoch 46/100\n",
            "3/3 [==============================] - 0s 22ms/step - loss: 0.2081 - val_loss: 0.2265\n",
            "Epoch 47/100\n",
            "3/3 [==============================] - 0s 13ms/step - loss: 0.2059 - val_loss: 0.2255\n",
            "Epoch 48/100\n",
            "3/3 [==============================] - 0s 13ms/step - loss: 0.2043 - val_loss: 0.2193\n",
            "Epoch 49/100\n",
            "3/3 [==============================] - 0s 14ms/step - loss: 0.2009 - val_loss: 0.2143\n",
            "Epoch 50/100\n",
            "3/3 [==============================] - 0s 15ms/step - loss: 0.1990 - val_loss: 0.2135\n",
            "Epoch 51/100\n",
            "3/3 [==============================] - 0s 13ms/step - loss: 0.1950 - val_loss: 0.2109\n",
            "Epoch 52/100\n",
            "3/3 [==============================] - 0s 16ms/step - loss: 0.1931 - val_loss: 0.2073\n",
            "Epoch 53/100\n",
            "3/3 [==============================] - 0s 16ms/step - loss: 0.1905 - val_loss: 0.2040\n",
            "Epoch 54/100\n",
            "3/3 [==============================] - 0s 14ms/step - loss: 0.1879 - val_loss: 0.2020\n",
            "Epoch 55/100\n",
            "3/3 [==============================] - 0s 14ms/step - loss: 0.1864 - val_loss: 0.2022\n",
            "Epoch 56/100\n",
            "3/3 [==============================] - 0s 14ms/step - loss: 0.1843 - val_loss: 0.1975\n",
            "Epoch 57/100\n",
            "3/3 [==============================] - 0s 15ms/step - loss: 0.1814 - val_loss: 0.1949\n",
            "Epoch 58/100\n",
            "3/3 [==============================] - 0s 14ms/step - loss: 0.1791 - val_loss: 0.1933\n",
            "Epoch 59/100\n",
            "3/3 [==============================] - 0s 13ms/step - loss: 0.1771 - val_loss: 0.1914\n",
            "Epoch 60/100\n",
            "3/3 [==============================] - 0s 13ms/step - loss: 0.1755 - val_loss: 0.1896\n",
            "Epoch 61/100\n",
            "3/3 [==============================] - 0s 27ms/step - loss: 0.1732 - val_loss: 0.1856\n",
            "Epoch 62/100\n",
            "3/3 [==============================] - 0s 13ms/step - loss: 0.1739 - val_loss: 0.1855\n",
            "Epoch 63/100\n",
            "3/3 [==============================] - 0s 13ms/step - loss: 0.1705 - val_loss: 0.1804\n",
            "Epoch 64/100\n",
            "3/3 [==============================] - 0s 14ms/step - loss: 0.1679 - val_loss: 0.1790\n",
            "Epoch 65/100\n",
            "3/3 [==============================] - 0s 14ms/step - loss: 0.1659 - val_loss: 0.1788\n",
            "Epoch 66/100\n",
            "3/3 [==============================] - 0s 14ms/step - loss: 0.1646 - val_loss: 0.1788\n",
            "Epoch 67/100\n",
            "3/3 [==============================] - 0s 16ms/step - loss: 0.1628 - val_loss: 0.1755\n",
            "Epoch 68/100\n",
            "3/3 [==============================] - 0s 13ms/step - loss: 0.1608 - val_loss: 0.1717\n",
            "Epoch 69/100\n",
            "3/3 [==============================] - 0s 14ms/step - loss: 0.1593 - val_loss: 0.1699\n",
            "Epoch 70/100\n",
            "3/3 [==============================] - 0s 14ms/step - loss: 0.1579 - val_loss: 0.1695\n",
            "Epoch 71/100\n",
            "3/3 [==============================] - 0s 17ms/step - loss: 0.1562 - val_loss: 0.1676\n",
            "Epoch 72/100\n",
            "3/3 [==============================] - 0s 14ms/step - loss: 0.1545 - val_loss: 0.1675\n",
            "Epoch 73/100\n",
            "3/3 [==============================] - 0s 14ms/step - loss: 0.1529 - val_loss: 0.1648\n",
            "Epoch 74/100\n",
            "3/3 [==============================] - 0s 14ms/step - loss: 0.1515 - val_loss: 0.1626\n",
            "Epoch 75/100\n",
            "3/3 [==============================] - 0s 14ms/step - loss: 0.1508 - val_loss: 0.1597\n",
            "Epoch 76/100\n",
            "3/3 [==============================] - 0s 15ms/step - loss: 0.1500 - val_loss: 0.1608\n",
            "Epoch 77/100\n",
            "3/3 [==============================] - 0s 15ms/step - loss: 0.1472 - val_loss: 0.1589\n",
            "Epoch 78/100\n",
            "3/3 [==============================] - 0s 13ms/step - loss: 0.1461 - val_loss: 0.1560\n",
            "Epoch 79/100\n",
            "3/3 [==============================] - 0s 14ms/step - loss: 0.1445 - val_loss: 0.1546\n",
            "Epoch 80/100\n",
            "3/3 [==============================] - 0s 17ms/step - loss: 0.1490 - val_loss: 0.1579\n",
            "Epoch 81/100\n",
            "3/3 [==============================] - 0s 14ms/step - loss: 0.1421 - val_loss: 0.1521\n",
            "Epoch 82/100\n",
            "3/3 [==============================] - 0s 14ms/step - loss: 0.1419 - val_loss: 0.1487\n",
            "Epoch 83/100\n",
            "3/3 [==============================] - 0s 16ms/step - loss: 0.1404 - val_loss: 0.1483\n",
            "Epoch 84/100\n",
            "3/3 [==============================] - 0s 13ms/step - loss: 0.1387 - val_loss: 0.1486\n",
            "Epoch 85/100\n",
            "3/3 [==============================] - 0s 15ms/step - loss: 0.1372 - val_loss: 0.1483\n",
            "Epoch 86/100\n",
            "3/3 [==============================] - 0s 13ms/step - loss: 0.1366 - val_loss: 0.1486\n",
            "Epoch 87/100\n",
            "3/3 [==============================] - 0s 13ms/step - loss: 0.1353 - val_loss: 0.1461\n",
            "Epoch 88/100\n",
            "3/3 [==============================] - 0s 12ms/step - loss: 0.1340 - val_loss: 0.1445\n",
            "Epoch 89/100\n",
            "3/3 [==============================] - 0s 20ms/step - loss: 0.1333 - val_loss: 0.1411\n",
            "Epoch 90/100\n",
            "3/3 [==============================] - 0s 16ms/step - loss: 0.1319 - val_loss: 0.1406\n",
            "Epoch 91/100\n",
            "3/3 [==============================] - 0s 16ms/step - loss: 0.1311 - val_loss: 0.1411\n",
            "Epoch 92/100\n",
            "3/3 [==============================] - 0s 15ms/step - loss: 0.1297 - val_loss: 0.1393\n",
            "Epoch 93/100\n",
            "3/3 [==============================] - 0s 15ms/step - loss: 0.1292 - val_loss: 0.1381\n",
            "Epoch 94/100\n",
            "3/3 [==============================] - 0s 15ms/step - loss: 0.1276 - val_loss: 0.1372\n",
            "Epoch 95/100\n",
            "3/3 [==============================] - 0s 13ms/step - loss: 0.1271 - val_loss: 0.1372\n",
            "Epoch 96/100\n",
            "3/3 [==============================] - 0s 13ms/step - loss: 0.1262 - val_loss: 0.1358\n",
            "Epoch 97/100\n",
            "3/3 [==============================] - 0s 16ms/step - loss: 0.1263 - val_loss: 0.1357\n",
            "Epoch 98/100\n",
            "3/3 [==============================] - 0s 23ms/step - loss: 0.1245 - val_loss: 0.1313\n",
            "Epoch 99/100\n",
            "3/3 [==============================] - 0s 13ms/step - loss: 0.1233 - val_loss: 0.1307\n",
            "Epoch 100/100\n",
            "3/3 [==============================] - 0s 11ms/step - loss: 0.1248 - val_loss: 0.1289\n"
          ]
        }
      ]
    },
    {
      "cell_type": "markdown",
      "source": [
        "* 학습결과 그래프"
      ],
      "metadata": {
        "id": "3N8dEQk0SKD9"
      }
    },
    {
      "cell_type": "code",
      "source": [
        "dl_history_plot(history)"
      ],
      "metadata": {
        "id": "KWaJzll1rhk3",
        "colab": {
          "base_uri": "https://localhost:8080/",
          "height": 542
        },
        "outputId": "4beb4ccf-88d6-4744-f6a1-260f5a3b86b1"
      },
      "execution_count": 95,
      "outputs": [
        {
          "output_type": "display_data",
          "data": {
            "text/plain": [
              "<Figure size 1000x600 with 1 Axes>"
            ],
            "image/png": "[encoded data removed]"
          },
          "metadata": {}
        }
      ]
    },
    {
      "cell_type": "markdown",
      "source": [
        "### (6) 예측 및 평가\n",
        "* 예측 결과는 softmax로 변환된 값 입니다."
      ],
      "metadata": {
        "id": "en2tQIAurisU"
      }
    },
    {
      "cell_type": "code",
      "source": [
        "pred = model.predict(x_val)\n",
        "pred[:5]"
      ],
      "metadata": {
        "id": "iWpqKvt78PmD",
        "colab": {
          "base_uri": "https://localhost:8080/",
          "height": 0
        },
        "outputId": "6df18ab4-99f7-4979-e858-e8fee78f0411"
      },
      "execution_count": 96,
      "outputs": [
        {
          "output_type": "stream",
          "name": "stdout",
          "text": [
            "1/1 [==============================] - 0s 49ms/step\n"
          ]
        },
        {
          "output_type": "execute_result",
          "data": {
            "text/plain": [
              "array([[9.9677032e-01, 3.2295987e-03, 7.3899380e-09],\n",
              "       [9.9682307e-01, 3.1769781e-03, 9.6102788e-09],\n",
              "       [4.1914028e-03, 7.6582640e-01, 2.2998214e-01],\n",
              "       [1.3650069e-03, 4.4500309e-01, 5.5363190e-01],\n",
              "       [9.9673170e-01, 3.2682274e-03, 1.4031255e-08]], dtype=float32)"
            ]
          },
          "metadata": {},
          "execution_count": 96
        }
      ]
    },
    {
      "cell_type": "markdown",
      "source": [
        "* 행 별로 제일 큰 값을 찾아서 그에 맞게 숫자(0,1,2)로 변환 합시다."
      ],
      "metadata": {
        "id": "fSjrpyUN9U7K"
      }
    },
    {
      "cell_type": "code",
      "source": [
        "# 5개 행만 살펴보면\n",
        "np.argmax(pred[:5], axis = 1)"
      ],
      "metadata": {
        "id": "uBSae8aa9dmR",
        "colab": {
          "base_uri": "https://localhost:8080/",
          "height": 0
        },
        "outputId": "1fa3dd12-3686-4114-de8f-cdf5cd285b43"
      },
      "execution_count": 97,
      "outputs": [
        {
          "output_type": "execute_result",
          "data": {
            "text/plain": [
              "array([0, 0, 1, 2, 0])"
            ]
          },
          "metadata": {},
          "execution_count": 97
        }
      ]
    },
    {
      "cell_type": "code",
      "source": [
        "y_val"
      ],
      "metadata": {
        "id": "76T8-_3T9vKl",
        "colab": {
          "base_uri": "https://localhost:8080/",
          "height": 0
        },
        "outputId": "54d3ef7a-b056-484a-de27-b4b869e28509"
      },
      "execution_count": 98,
      "outputs": [
        {
          "output_type": "execute_result",
          "data": {
            "text/plain": [
              "array([[1., 0., 0.],\n",
              "       [1., 0., 0.],\n",
              "       [0., 1., 0.],\n",
              "       [0., 0., 1.],\n",
              "       [1., 0., 0.],\n",
              "       [0., 1., 0.],\n",
              "       [0., 1., 0.],\n",
              "       [0., 0., 1.],\n",
              "       [1., 0., 0.],\n",
              "       [1., 0., 0.],\n",
              "       [0., 1., 0.],\n",
              "       [0., 0., 1.],\n",
              "       [1., 0., 0.],\n",
              "       [1., 0., 0.],\n",
              "       [0., 1., 0.],\n",
              "       [0., 0., 1.],\n",
              "       [1., 0., 0.],\n",
              "       [0., 0., 1.],\n",
              "       [1., 0., 0.],\n",
              "       [0., 1., 0.],\n",
              "       [0., 1., 0.],\n",
              "       [0., 0., 1.],\n",
              "       [0., 0., 1.],\n",
              "       [0., 1., 0.],\n",
              "       [1., 0., 0.],\n",
              "       [0., 0., 1.],\n",
              "       [0., 0., 1.],\n",
              "       [1., 0., 0.],\n",
              "       [0., 0., 1.],\n",
              "       [1., 0., 0.]], dtype=float32)"
            ]
          },
          "metadata": {},
          "execution_count": 98
        }
      ]
    },
    {
      "cell_type": "code",
      "source": [
        "# 전체에 적용해서 변환합시다.\n",
        "pred_1 = pred.argmax(axis=1)\n",
        "pred_1"
      ],
      "metadata": {
        "id": "NZrmAw4WXs0T",
        "colab": {
          "base_uri": "https://localhost:8080/",
          "height": 0
        },
        "outputId": "6d40ed77-6705-4344-d37c-866550e16adb"
      },
      "execution_count": 99,
      "outputs": [
        {
          "output_type": "execute_result",
          "data": {
            "text/plain": [
              "array([0, 0, 1, 2, 0, 1, 1, 2, 0, 0, 2, 2, 0, 0, 1, 2, 0, 1, 0, 1, 1, 2,\n",
              "       2, 2, 0, 2, 2, 0, 2, 0])"
            ]
          },
          "metadata": {},
          "execution_count": 99
        }
      ]
    },
    {
      "cell_type": "markdown",
      "source": [
        "* 실제값 y_val도 원래 대로 돌려 놓습니다."
      ],
      "metadata": {
        "id": "KlOA3LSx92cA"
      }
    },
    {
      "cell_type": "code",
      "source": [
        "y_val[:5]"
      ],
      "metadata": {
        "id": "NPfidur_98kl",
        "colab": {
          "base_uri": "https://localhost:8080/",
          "height": 0
        },
        "outputId": "24f2c133-972f-4228-8b22-0fb93dbe91d8"
      },
      "execution_count": 100,
      "outputs": [
        {
          "output_type": "execute_result",
          "data": {
            "text/plain": [
              "array([[1., 0., 0.],\n",
              "       [1., 0., 0.],\n",
              "       [0., 1., 0.],\n",
              "       [0., 0., 1.],\n",
              "       [1., 0., 0.]], dtype=float32)"
            ]
          },
          "metadata": {},
          "execution_count": 100
        }
      ]
    },
    {
      "cell_type": "code",
      "source": [
        "y_val_1 = y_val.argmax(axis=1)\n",
        "y_val_1"
      ],
      "metadata": {
        "id": "S8vc8Vpf-ALM",
        "colab": {
          "base_uri": "https://localhost:8080/",
          "height": 0
        },
        "outputId": "3b0e2625-a77c-4686-a2f6-f009906bca88"
      },
      "execution_count": 101,
      "outputs": [
        {
          "output_type": "execute_result",
          "data": {
            "text/plain": [
              "array([0, 0, 1, 2, 0, 1, 1, 2, 0, 0, 1, 2, 0, 0, 1, 2, 0, 2, 0, 1, 1, 2,\n",
              "       2, 1, 0, 2, 2, 0, 2, 0])"
            ]
          },
          "metadata": {},
          "execution_count": 101
        }
      ]
    },
    {
      "cell_type": "code",
      "source": [
        "print(confusion_matrix(y_val_1, pred_1))\n",
        "print(classification_report(y_val_1, pred_1))"
      ],
      "metadata": {
        "id": "IONbKHSLX9PA",
        "colab": {
          "base_uri": "https://localhost:8080/",
          "height": 0
        },
        "outputId": "92f4e091-0e04-4dfc-f2da-3482dc22c2d6"
      },
      "execution_count": 102,
      "outputs": [
        {
          "output_type": "stream",
          "name": "stdout",
          "text": [
            "[[12  0  0]\n",
            " [ 0  6  2]\n",
            " [ 0  1  9]]\n",
            "              precision    recall  f1-score   support\n",
            "\n",
            "           0       1.00      1.00      1.00        12\n",
            "           1       0.86      0.75      0.80         8\n",
            "           2       0.82      0.90      0.86        10\n",
            "\n",
            "    accuracy                           0.90        30\n",
            "   macro avg       0.89      0.88      0.89        30\n",
            "weighted avg       0.90      0.90      0.90        30\n",
            "\n"
          ]
        }
      ]
    },
    {
      "cell_type": "code",
      "source": [],
      "metadata": {
        "id": "yb8B_EA8xkLh"
      },
      "execution_count": null,
      "outputs": []
    }
  ]
}