{
  "nbformat": 4,
  "nbformat_minor": 0,
  "metadata": {
    "colab": {
      "provenance": [],
      "gpuType": "T4",
      "authorship_tag": "ABX9TyN2U1qmnG7jlOri8bcGpPbO",
      "include_colab_link": true
    },
    "kernelspec": {
      "name": "python3",
      "display_name": "Python 3"
    },
    "language_info": {
      "name": "python"
    },
    "accelerator": "GPU"
  },
  "cells": [
    {
      "cell_type": "markdown",
      "metadata": {
        "id": "view-in-github",
        "colab_type": "text"
      },
      "source": [
        "<a href=\"https://colab.research.google.com/github/YY2mk/KT_aivle/blob/master/DeepLearning/DX_%EB%94%A5%EB%9F%AC%EB%8B%9D%20%EC%8B%AC%ED%99%94_2%EC%9D%BC%EC%B0%A8%20%EC%8B%A4%EC%8A%B5%EC%9E%90%EB%A3%8C/CNN_keras_v3.ipynb\" target=\"_parent\"><img src=\"https://colab.research.google.com/assets/colab-badge.svg\" alt=\"Open In Colab\"/></a>"
      ]
    },
    {
      "cell_type": "code",
      "execution_count": null,
      "metadata": {
        "id": "ZQhREtk3l9AH"
      },
      "outputs": [],
      "source": [
        "! pip install --upgrade keras"
      ]
    },
    {
      "cell_type": "code",
      "source": [
        "import os\n",
        "os.environ['BACKEND'] = 'tensorflow' # 백엔드로 텐서플로우를 동작 시킴 # PyTorch, JAX도 가능"
      ],
      "metadata": {
        "id": "7MBRyWiHmOLb"
      },
      "execution_count": 102,
      "outputs": []
    },
    {
      "cell_type": "code",
      "source": [
        "import keras # 외부 케라스 가져오기\n",
        "keras.__version__"
      ],
      "metadata": {
        "colab": {
          "base_uri": "https://localhost:8080/",
          "height": 36
        },
        "id": "BSfpgmvnnH_m",
        "outputId": "fe3d817c-3c47-4869-b6eb-fb3d9c4f4acd"
      },
      "execution_count": 103,
      "outputs": [
        {
          "output_type": "execute_result",
          "data": {
            "text/plain": [
              "'3.2.1'"
            ],
            "application/vnd.google.colaboratory.intrinsic+json": {
              "type": "string"
            }
          },
          "metadata": {},
          "execution_count": 103
        }
      ]
    },
    {
      "cell_type": "markdown",
      "source": [
        "##  CIFAR-10"
      ],
      "metadata": {
        "id": "SfKCj7rQnD8I"
      }
    },
    {
      "cell_type": "code",
      "source": [
        "import numpy as np\n",
        "import pandas as pd\n",
        "import matplotlib.pyplot as plt\n",
        "\n",
        "import keras"
      ],
      "metadata": {
        "id": "u4Wi1VQKnPMR"
      },
      "execution_count": 104,
      "outputs": []
    },
    {
      "cell_type": "code",
      "source": [
        "(train_x, train_y), (test_x, test_y) = keras.datasets.cifar10.load_data()"
      ],
      "metadata": {
        "id": "DpmXMTAxm8SH"
      },
      "execution_count": 150,
      "outputs": []
    },
    {
      "cell_type": "code",
      "source": [
        "train_x.shape, train_y.shape, test_x.shape, test_y.shape\n",
        "         # 32 x 32 컬러    클래스"
      ],
      "metadata": {
        "colab": {
          "base_uri": "https://localhost:8080/",
          "height": 0
        },
        "id": "XIVwzq-yniS_",
        "outputId": "8947101f-b075-418d-df75-3ef1b0fb0320"
      },
      "execution_count": 151,
      "outputs": [
        {
          "output_type": "execute_result",
          "data": {
            "text/plain": [
              "((50000, 32, 32, 3), (50000, 1), (10000, 32, 32, 3), (10000, 1))"
            ]
          },
          "metadata": {},
          "execution_count": 151
        }
      ]
    },
    {
      "cell_type": "code",
      "source": [
        "labels = {0: 'Airplane',\n",
        "          1: 'Automobile',\n",
        "          2: 'Bird',\n",
        "          3: 'Cat',\n",
        "          4: 'Deer',\n",
        "          5: 'Dog',\n",
        "          6: 'Frog',\n",
        "          7: 'Horse',\n",
        "          8: 'Ship',\n",
        "          9: 'Truck',\n",
        "          }"
      ],
      "metadata": {
        "id": "JwNGOCj2n8HS"
      },
      "execution_count": 152,
      "outputs": []
    },
    {
      "cell_type": "code",
      "source": [
        "id = np.random.randint(0, 10000)\n",
        "print(f'id = {id}')\n",
        "print(f'다음 그림은 {labels[test_y[id][0]]}')\n",
        "plt.imshow(test_x[id])\n",
        "plt.show()"
      ],
      "metadata": {
        "colab": {
          "base_uri": "https://localhost:8080/",
          "height": 468
        },
        "id": "uI43SQftoR8m",
        "outputId": "62872aee-4893-4f94-ea2d-f363e6d41346"
      },
      "execution_count": 153,
      "outputs": [
        {
          "output_type": "stream",
          "name": "stdout",
          "text": [
            "id = 500\n",
            "다음 그림은 Deer\n"
          ]
        },
        {
          "output_type": "display_data",
          "data": {
            "text/plain": [
              "<Figure size 640x480 with 1 Axes>"
            ],
            "image/png": "[encoded data removed]"
          },
          "metadata": {}
        }
      ]
    },
    {
      "cell_type": "markdown",
      "source": [
        "### Modeling\n",
        " - Sequentital, Functional 둘 중 하나"
      ],
      "metadata": {
        "id": "sGe3FP8ko-wX"
      }
    },
    {
      "cell_type": "code",
      "source": [
        "train_x = train_x / 255\n",
        "test_x = test_x / 255"
      ],
      "metadata": {
        "id": "VIN30pfWqVDf"
      },
      "execution_count": 10,
      "outputs": []
    },
    {
      "cell_type": "code",
      "source": [
        "from keras.models import Sequential\n",
        "from keras.layers import Input, Dense, Flatten, Conv2D, MaxPooling2D # CNN\n",
        "from keras.optimizers import Adam\n",
        "from keras.backend import clear_session\n",
        "from sklearn.metrics import *"
      ],
      "metadata": {
        "id": "tt4pGm5er-fo"
      },
      "execution_count": 71,
      "outputs": []
    },
    {
      "cell_type": "code",
      "source": [
        "# 1. 메모리 청소\n",
        "clear_session()\n",
        "\n",
        "# 2. 모델 정의\n",
        "model = Sequential([\n",
        "    Input(shape=(32, 32, 3)),\n",
        "    keras.layers.Rescaling(1/255), # 스케일링\n",
        "    Flatten(),  # 2D -> 1D\n",
        "    Dense(64, activation='relu'),\n",
        "    Dense(64, activation='relu'),         #\n",
        "    Dense(128, activation='relu'),        # VGG\n",
        "    Dense(128, activation='relu'),        #\n",
        "    Dense(256, activation='relu'),\n",
        "    Dense(256, activation='relu'),\n",
        "    Dense(10, activation='softmax')])  # 10개의 클래스에 대한 확률을 출력하는 레이어\n",
        "\n",
        "# .add 방식\n",
        "# model1.add( Input(shape=(32,32,3)) )\n",
        "# model1.add( keras.layers.Rescaling(1/255) )\n",
        "# model1.add( Flatten() )\n",
        "# model1.add( Dense(64, activation='relu'))\n",
        "# model1.add( Dense(64, activation='relu'))\n",
        "# model1.add( Dense(128, activation='relu') )\n",
        "# model1.add( Dense(128, activation='relu') )\n",
        "# model1.add( Dense(256, activation='relu') )\n",
        "# model1.add( Dense(256, activation='relu') )\n",
        "# model1.add( Dense(10, activation='softmax') )\n",
        "\n",
        "# 3. 모델 컴파일\n",
        "model.compile(optimizer=Adam(learning_rate=0.001), loss='sparse_categorical_crossentropy',  metrics=['accuracy'])"
      ],
      "metadata": {
        "id": "e05-RBhlo-W-"
      },
      "execution_count": 115,
      "outputs": []
    },
    {
      "cell_type": "code",
      "source": [
        "from keras.callbacks import EarlyStopping"
      ],
      "metadata": {
        "id": "hN1E1Tij0-uV"
      },
      "execution_count": 116,
      "outputs": []
    },
    {
      "cell_type": "code",
      "source": [
        "es = EarlyStopping(monitor='val_loss',  # 얼리스토핑을 적용할 관측 지표\n",
        "                   min_delta=0.001,     # 임계값, 낮을 수록 좋음\n",
        "                   patience=5,          # 성능 개선이 발생하지 않았을 때, 몇 epochs 더 지켜볼 것인지\n",
        "                   verbose=1,           # 몇 번째 epochs에서 얼리스토핑이 되었느가 알려줌\n",
        "                   restore_best_weights=True  # 최적의 가중치를 가진 epochs 시점으로 가중치를 되돌림\n",
        "                   )\n"
      ],
      "metadata": {
        "id": "ncOlUexG1EDC"
      },
      "execution_count": 117,
      "outputs": []
    },
    {
      "cell_type": "code",
      "source": [
        "# 모델 학습\n",
        "model.fit(train_x, train_y, epochs=20,validation_split=.2, callbacks=[es])"
      ],
      "metadata": {
        "colab": {
          "base_uri": "https://localhost:8080/",
          "height": 0
        },
        "id": "iuydDM2lrxFL",
        "outputId": "a2f77725-e1f0-49c5-8b31-3d677b148051"
      },
      "execution_count": 118,
      "outputs": [
        {
          "output_type": "stream",
          "name": "stdout",
          "text": [
            "Epoch 1/20\n",
            "\u001b[1m1250/1250\u001b[0m \u001b[32m━━━━━━━━━━━━━━━━━━━━\u001b[0m\u001b[37m\u001b[0m \u001b[1m8s\u001b[0m 4ms/step - accuracy: 0.1631 - loss: 2.1401 - val_accuracy: 0.2124 - val_loss: 2.0335\n",
            "Epoch 2/20\n",
            "\u001b[1m1250/1250\u001b[0m \u001b[32m━━━━━━━━━━━━━━━━━━━━\u001b[0m\u001b[37m\u001b[0m \u001b[1m7s\u001b[0m 3ms/step - accuracy: 0.2482 - loss: 1.9638 - val_accuracy: 0.2738 - val_loss: 1.9226\n",
            "Epoch 3/20\n",
            "\u001b[1m1250/1250\u001b[0m \u001b[32m━━━━━━━━━━━━━━━━━━━━\u001b[0m\u001b[37m\u001b[0m \u001b[1m6s\u001b[0m 3ms/step - accuracy: 0.2936 - loss: 1.8701 - val_accuracy: 0.3049 - val_loss: 1.8617\n",
            "Epoch 4/20\n",
            "\u001b[1m1250/1250\u001b[0m \u001b[32m━━━━━━━━━━━━━━━━━━━━\u001b[0m\u001b[37m\u001b[0m \u001b[1m7s\u001b[0m 5ms/step - accuracy: 0.3248 - loss: 1.8043 - val_accuracy: 0.3378 - val_loss: 1.7960\n",
            "Epoch 5/20\n",
            "\u001b[1m1250/1250\u001b[0m \u001b[32m━━━━━━━━━━━━━━━━━━━━\u001b[0m\u001b[37m\u001b[0m \u001b[1m6s\u001b[0m 5ms/step - accuracy: 0.3554 - loss: 1.7529 - val_accuracy: 0.3488 - val_loss: 1.7632\n",
            "Epoch 6/20\n",
            "\u001b[1m1250/1250\u001b[0m \u001b[32m━━━━━━━━━━━━━━━━━━━━\u001b[0m\u001b[37m\u001b[0m \u001b[1m9s\u001b[0m 4ms/step - accuracy: 0.3700 - loss: 1.7131 - val_accuracy: 0.3737 - val_loss: 1.7179\n",
            "Epoch 7/20\n",
            "\u001b[1m1250/1250\u001b[0m \u001b[32m━━━━━━━━━━━━━━━━━━━━\u001b[0m\u001b[37m\u001b[0m \u001b[1m5s\u001b[0m 4ms/step - accuracy: 0.3872 - loss: 1.6725 - val_accuracy: 0.3924 - val_loss: 1.6824\n",
            "Epoch 8/20\n",
            "\u001b[1m1250/1250\u001b[0m \u001b[32m━━━━━━━━━━━━━━━━━━━━\u001b[0m\u001b[37m\u001b[0m \u001b[1m4s\u001b[0m 3ms/step - accuracy: 0.4027 - loss: 1.6408 - val_accuracy: 0.4045 - val_loss: 1.6468\n",
            "Epoch 9/20\n",
            "\u001b[1m1250/1250\u001b[0m \u001b[32m━━━━━━━━━━━━━━━━━━━━\u001b[0m\u001b[37m\u001b[0m \u001b[1m5s\u001b[0m 3ms/step - accuracy: 0.4094 - loss: 1.6190 - val_accuracy: 0.4100 - val_loss: 1.6428\n",
            "Epoch 10/20\n",
            "\u001b[1m1250/1250\u001b[0m \u001b[32m━━━━━━━━━━━━━━━━━━━━\u001b[0m\u001b[37m\u001b[0m \u001b[1m5s\u001b[0m 3ms/step - accuracy: 0.4239 - loss: 1.5890 - val_accuracy: 0.4174 - val_loss: 1.6192\n",
            "Epoch 11/20\n",
            "\u001b[1m1250/1250\u001b[0m \u001b[32m━━━━━━━━━━━━━━━━━━━━\u001b[0m\u001b[37m\u001b[0m \u001b[1m3s\u001b[0m 3ms/step - accuracy: 0.4319 - loss: 1.5679 - val_accuracy: 0.4246 - val_loss: 1.6177\n",
            "Epoch 12/20\n",
            "\u001b[1m1250/1250\u001b[0m \u001b[32m━━━━━━━━━━━━━━━━━━━━\u001b[0m\u001b[37m\u001b[0m \u001b[1m4s\u001b[0m 3ms/step - accuracy: 0.4393 - loss: 1.5446 - val_accuracy: 0.4334 - val_loss: 1.5822\n",
            "Epoch 13/20\n",
            "\u001b[1m1250/1250\u001b[0m \u001b[32m━━━━━━━━━━━━━━━━━━━━\u001b[0m\u001b[37m\u001b[0m \u001b[1m5s\u001b[0m 3ms/step - accuracy: 0.4450 - loss: 1.5211 - val_accuracy: 0.4252 - val_loss: 1.5894\n",
            "Epoch 14/20\n",
            "\u001b[1m1250/1250\u001b[0m \u001b[32m━━━━━━━━━━━━━━━━━━━━\u001b[0m\u001b[37m\u001b[0m \u001b[1m5s\u001b[0m 3ms/step - accuracy: 0.4522 - loss: 1.5076 - val_accuracy: 0.4402 - val_loss: 1.5500\n",
            "Epoch 15/20\n",
            "\u001b[1m1250/1250\u001b[0m \u001b[32m━━━━━━━━━━━━━━━━━━━━\u001b[0m\u001b[37m\u001b[0m \u001b[1m5s\u001b[0m 3ms/step - accuracy: 0.4574 - loss: 1.4991 - val_accuracy: 0.4466 - val_loss: 1.5426\n",
            "Epoch 16/20\n",
            "\u001b[1m1250/1250\u001b[0m \u001b[32m━━━━━━━━━━━━━━━━━━━━\u001b[0m\u001b[37m\u001b[0m \u001b[1m3s\u001b[0m 3ms/step - accuracy: 0.4659 - loss: 1.4795 - val_accuracy: 0.4470 - val_loss: 1.5443\n",
            "Epoch 17/20\n",
            "\u001b[1m1250/1250\u001b[0m \u001b[32m━━━━━━━━━━━━━━━━━━━━\u001b[0m\u001b[37m\u001b[0m \u001b[1m5s\u001b[0m 3ms/step - accuracy: 0.4650 - loss: 1.4723 - val_accuracy: 0.4488 - val_loss: 1.5430\n",
            "Epoch 18/20\n",
            "\u001b[1m1250/1250\u001b[0m \u001b[32m━━━━━━━━━━━━━━━━━━━━\u001b[0m\u001b[37m\u001b[0m \u001b[1m3s\u001b[0m 3ms/step - accuracy: 0.4722 - loss: 1.4592 - val_accuracy: 0.4489 - val_loss: 1.5301\n",
            "Epoch 19/20\n",
            "\u001b[1m1250/1250\u001b[0m \u001b[32m━━━━━━━━━━━━━━━━━━━━\u001b[0m\u001b[37m\u001b[0m \u001b[1m3s\u001b[0m 3ms/step - accuracy: 0.4757 - loss: 1.4370 - val_accuracy: 0.4492 - val_loss: 1.5303\n",
            "Epoch 20/20\n",
            "\u001b[1m1250/1250\u001b[0m \u001b[32m━━━━━━━━━━━━━━━━━━━━\u001b[0m\u001b[37m\u001b[0m \u001b[1m4s\u001b[0m 3ms/step - accuracy: 0.4818 - loss: 1.4329 - val_accuracy: 0.4437 - val_loss: 1.5748\n",
            "Restoring model weights from the end of the best epoch: 18.\n"
          ]
        },
        {
          "output_type": "execute_result",
          "data": {
            "text/plain": [
              "<keras.src.callbacks.history.History at 0x7bb234219a20>"
            ]
          },
          "metadata": {},
          "execution_count": 118
        }
      ]
    },
    {
      "cell_type": "code",
      "source": [
        "pred = model.predict(test_x)\n",
        "pred = np.argmax(pred, axis=1)"
      ],
      "metadata": {
        "colab": {
          "base_uri": "https://localhost:8080/",
          "height": 0
        },
        "id": "_bSN_uMRxeKN",
        "outputId": "d32a8fc3-a31e-4d9c-95d2-0d7acfa2df79"
      },
      "execution_count": 119,
      "outputs": [
        {
          "output_type": "stream",
          "name": "stdout",
          "text": [
            "\u001b[1m313/313\u001b[0m \u001b[32m━━━━━━━━━━━━━━━━━━━━\u001b[0m\u001b[37m\u001b[0m \u001b[1m1s\u001b[0m 3ms/step\n"
          ]
        }
      ]
    },
    {
      "cell_type": "code",
      "source": [
        "print(accuracy_score(test_y, pred))\n",
        "print()\n",
        "print(confusion_matrix(test_y, pred))\n",
        "print(classification_report(test_y, pred))"
      ],
      "metadata": {
        "colab": {
          "base_uri": "https://localhost:8080/",
          "height": 0
        },
        "id": "c5nXHuFsxJAa",
        "outputId": "384ad36a-9c99-43af-9dd3-3d87c5632e4a"
      },
      "execution_count": 120,
      "outputs": [
        {
          "output_type": "stream",
          "name": "stdout",
          "text": [
            "0.4558\n",
            "\n",
            "[[455  41  59  92  11  10  25  71 205  31]\n",
            " [ 24 645   5  82   6  13  10  39 107  69]\n",
            " [ 69  34 268 194  64  68 102 152  39  10]\n",
            " [ 19  19  64 518  22 122  86 100  36  14]\n",
            " [ 39  16 181 142 219  44 107 213  32   7]\n",
            " [  9  15  62 357  33 273  59 135  49   8]\n",
            " [  5  13  90 241  68  31 469  60  13  10]\n",
            " [ 21  20  31 114  32  50  15 657  28  32]\n",
            " [ 64  73   8  81  10  14   4  19 696  31]\n",
            " [ 32 289   1  91   4   6  23  77 119 358]]\n",
            "              precision    recall  f1-score   support\n",
            "\n",
            "           0       0.62      0.46      0.52      1000\n",
            "           1       0.55      0.65      0.60      1000\n",
            "           2       0.35      0.27      0.30      1000\n",
            "           3       0.27      0.52      0.36      1000\n",
            "           4       0.47      0.22      0.30      1000\n",
            "           5       0.43      0.27      0.33      1000\n",
            "           6       0.52      0.47      0.49      1000\n",
            "           7       0.43      0.66      0.52      1000\n",
            "           8       0.53      0.70      0.60      1000\n",
            "           9       0.63      0.36      0.46      1000\n",
            "\n",
            "    accuracy                           0.46     10000\n",
            "   macro avg       0.48      0.46      0.45     10000\n",
            "weighted avg       0.48      0.46      0.45     10000\n",
            "\n"
          ]
        }
      ]
    },
    {
      "cell_type": "markdown",
      "source": [
        "### CNN으로 모델링"
      ],
      "metadata": {
        "id": "TBo8RC9qtIXb"
      }
    },
    {
      "cell_type": "code",
      "source": [
        "import keras\n",
        "\n",
        "from keras.utils import clear_session\n",
        "from keras.models import Sequential\n",
        "from keras.layers import Input, Dense, Flatten\n",
        "from keras.layers import Conv2D, MaxPool2D"
      ],
      "metadata": {
        "id": "FUxu7l5V_qx8"
      },
      "execution_count": 165,
      "outputs": []
    },
    {
      "cell_type": "code",
      "source": [
        "train_x.shape, train_y.shape"
      ],
      "metadata": {
        "colab": {
          "base_uri": "https://localhost:8080/",
          "height": 0
        },
        "id": "tCxhL-4G_8Op",
        "outputId": "1068cb74-7982-4de2-ff6b-b9a4f051da87"
      },
      "execution_count": 164,
      "outputs": [
        {
          "output_type": "execute_result",
          "data": {
            "text/plain": [
              "((50000, 32, 32, 3), (50000, 1))"
            ]
          },
          "metadata": {},
          "execution_count": 164
        }
      ]
    },
    {
      "cell_type": "code",
      "source": [
        "# 메모리 창소\n",
        "clear_session()\n",
        "\n",
        "# 모델 정의\n",
        "model = Sequential([\n",
        "    keras.layers.Rescaling(1/255), # 스케일링\n",
        "    Conv2D(filters=64,              # 서로 다른 필터 64개 사용\n",
        "           kernel_size=3,           # Conv2D 필터의 가로 세로 사이즈\n",
        "           input_shape=(32, 32, 3), # Conv2D 필터의 이동 보폭\n",
        "           padding='same',          # feature map 사이즈 유지, 외곽 정도 더 반영\n",
        "           activation='relu'),\n",
        "\n",
        "    Conv2D(filters=64,              # 서로 다른 필터 64개 사용\n",
        "           kernel_size=3,           # Conv2D 필터의 가로 세로 사이즈\n",
        "           input_shape=(32, 32, 3), # Conv2D 필터의 이동 보폭\n",
        "           padding='same',          # feature map 사이즈 유지, 외곽 정도 더 반영\n",
        "           activation='relu'),\n",
        "\n",
        "    MaxPooling2D(pool_size=2, # pooling 필터의 가로 세로 사이즈\n",
        "                 strides=2),  # pooling 필터의 이동 보폭 (기본적으로 pool_size를 따름)\n",
        "\n",
        "    Conv2D(filters=128,              # 서로 다른 필터 64개 사용\n",
        "           kernel_size=3,           # Conv2D 필터의 가로 세로 사이즈\n",
        "           input_shape=(32, 32, 3), # Conv2D 필터의 이동 보폭\n",
        "           padding='same',          # feature map 사이즈 유지, 외곽 정도 더 반영\n",
        "           activation='relu'),\n",
        "\n",
        "    Conv2D(filters=128,              # 서로 다른 필터 64개 사용\n",
        "           kernel_size=3,           # Conv2D 필터의 가로 세로 사이즈\n",
        "           input_shape=(32, 32, 3), # Conv2D 필터의 이동 보폭\n",
        "           padding='same',          # feature map 사이즈 유지, 외곽 정도 더 반영\n",
        "           activation='relu'),\n",
        "\n",
        "    MaxPooling2D(pool_size=2, # pooling 필터의 가로 세로 사이즈\n",
        "                 strides=2),  # pooling 필터의 이동 보폭 (기본적으로 pool_size를 따름)\n",
        "\n",
        "    Conv2D(filters=256,              # 서로 다른 필터 64개 사용\n",
        "           kernel_size=3,           # Conv2D 필터의 가로 세로 사이즈\n",
        "           input_shape=(32, 32, 3), # Conv2D 필터의 이동 보폭\n",
        "           padding='same',          # feature map 사이즈 유지, 외곽 정도 더 반영\n",
        "           activation='relu'),\n",
        "\n",
        "    Conv2D(filters=256,              # 서로 다른 필터 64개 사용\n",
        "           kernel_size=3,           # Conv2D 필터의 가로 세로 사이즈\n",
        "           input_shape=(32, 32, 3), # Conv2D 필터의 이동 보폭\n",
        "           padding='same',          # feature map 사이즈 유지, 외곽 정도 더 반영\n",
        "           activation='relu'),\n",
        "\n",
        "    MaxPooling2D(pool_size=2, # pooling 필터의 가로 세로 사이즈\n",
        "                 strides=2),  # pooling 필터의 이동 보폭 (기본적으로 pool_size를 따름)\n",
        "\n",
        "    Flatten(),  # 2D -> 1D\n",
        "    Dense(10, activation='softmax')])  # 10개의 클래스에 대한 확률을 출력하는 레이어\n",
        "\n",
        "model.summary()"
      ],
      "metadata": {
        "colab": {
          "base_uri": "https://localhost:8080/",
          "height": 571
        },
        "id": "E04dSc3Jsnmc",
        "outputId": "6c14b129-9879-48b5-9cd9-dcf2abe6f27c"
      },
      "execution_count": 167,
      "outputs": [
        {
          "output_type": "stream",
          "name": "stderr",
          "text": [
            "/usr/local/lib/python3.10/dist-packages/keras/src/layers/convolutional/base_conv.py:99: UserWarning: Do not pass an `input_shape`/`input_dim` argument to a layer. When using Sequential models, prefer using an `Input(shape)` object as the first layer in the model instead.\n",
            "  super().__init__(\n"
          ]
        },
        {
          "output_type": "display_data",
          "data": {
            "text/plain": [
              "\u001b[1mModel: \"sequential\"\u001b[0m\n"
            ],
            "text/html": [
              "<pre style=\"white-space:pre;overflow-x:auto;line-height:normal;font-family:Menlo,'DejaVu Sans Mono',consolas,'Courier New',monospace\"><span style=\"font-weight: bold\">Model: \"sequential\"</span>\n",
              "</pre>\n"
            ]
          },
          "metadata": {}
        },
        {
          "output_type": "display_data",
          "data": {
            "text/plain": [
              "┏━━━━━━━━━━━━━━━━━━━━━━━━━━━━━━━━━━━━━━┳━━━━━━━━━━━━━━━━━━━━━━━━━━━━━┳━━━━━━━━━━━━━━━━━┓\n",
              "┃\u001b[1m \u001b[0m\u001b[1mLayer (type)                        \u001b[0m\u001b[1m \u001b[0m┃\u001b[1m \u001b[0m\u001b[1mOutput Shape               \u001b[0m\u001b[1m \u001b[0m┃\u001b[1m \u001b[0m\u001b[1m        Param #\u001b[0m\u001b[1m \u001b[0m┃\n",
              "┡━━━━━━━━━━━━━━━━━━━━━━━━━━━━━━━━━━━━━━╇━━━━━━━━━━━━━━━━━━━━━━━━━━━━━╇━━━━━━━━━━━━━━━━━┩\n",
              "│ rescaling (\u001b[38;5;33mRescaling\u001b[0m)                │ ?                           │     \u001b[38;5;34m0\u001b[0m (unbuilt) │\n",
              "├──────────────────────────────────────┼─────────────────────────────┼─────────────────┤\n",
              "│ conv2d (\u001b[38;5;33mConv2D\u001b[0m)                      │ ?                           │     \u001b[38;5;34m0\u001b[0m (unbuilt) │\n",
              "├──────────────────────────────────────┼─────────────────────────────┼─────────────────┤\n",
              "│ conv2d_1 (\u001b[38;5;33mConv2D\u001b[0m)                    │ ?                           │     \u001b[38;5;34m0\u001b[0m (unbuilt) │\n",
              "├──────────────────────────────────────┼─────────────────────────────┼─────────────────┤\n",
              "│ max_pooling2d (\u001b[38;5;33mMaxPooling2D\u001b[0m)         │ ?                           │     \u001b[38;5;34m0\u001b[0m (unbuilt) │\n",
              "├──────────────────────────────────────┼─────────────────────────────┼─────────────────┤\n",
              "│ conv2d_2 (\u001b[38;5;33mConv2D\u001b[0m)                    │ ?                           │     \u001b[38;5;34m0\u001b[0m (unbuilt) │\n",
              "├──────────────────────────────────────┼─────────────────────────────┼─────────────────┤\n",
              "│ conv2d_3 (\u001b[38;5;33mConv2D\u001b[0m)                    │ ?                           │     \u001b[38;5;34m0\u001b[0m (unbuilt) │\n",
              "├──────────────────────────────────────┼─────────────────────────────┼─────────────────┤\n",
              "│ max_pooling2d_1 (\u001b[38;5;33mMaxPooling2D\u001b[0m)       │ ?                           │     \u001b[38;5;34m0\u001b[0m (unbuilt) │\n",
              "├──────────────────────────────────────┼─────────────────────────────┼─────────────────┤\n",
              "│ conv2d_4 (\u001b[38;5;33mConv2D\u001b[0m)                    │ ?                           │     \u001b[38;5;34m0\u001b[0m (unbuilt) │\n",
              "├──────────────────────────────────────┼─────────────────────────────┼─────────────────┤\n",
              "│ conv2d_5 (\u001b[38;5;33mConv2D\u001b[0m)                    │ ?                           │     \u001b[38;5;34m0\u001b[0m (unbuilt) │\n",
              "├──────────────────────────────────────┼─────────────────────────────┼─────────────────┤\n",
              "│ max_pooling2d_2 (\u001b[38;5;33mMaxPooling2D\u001b[0m)       │ ?                           │     \u001b[38;5;34m0\u001b[0m (unbuilt) │\n",
              "├──────────────────────────────────────┼─────────────────────────────┼─────────────────┤\n",
              "│ flatten (\u001b[38;5;33mFlatten\u001b[0m)                    │ ?                           │     \u001b[38;5;34m0\u001b[0m (unbuilt) │\n",
              "├──────────────────────────────────────┼─────────────────────────────┼─────────────────┤\n",
              "│ dense (\u001b[38;5;33mDense\u001b[0m)                        │ ?                           │     \u001b[38;5;34m0\u001b[0m (unbuilt) │\n",
              "└──────────────────────────────────────┴─────────────────────────────┴─────────────────┘\n"
            ],
            "text/html": [
              "<pre style=\"white-space:pre;overflow-x:auto;line-height:normal;font-family:Menlo,'DejaVu Sans Mono',consolas,'Courier New',monospace\">┏━━━━━━━━━━━━━━━━━━━━━━━━━━━━━━━━━━━━━━┳━━━━━━━━━━━━━━━━━━━━━━━━━━━━━┳━━━━━━━━━━━━━━━━━┓\n",
              "┃<span style=\"font-weight: bold\"> Layer (type)                         </span>┃<span style=\"font-weight: bold\"> Output Shape                </span>┃<span style=\"font-weight: bold\">         Param # </span>┃\n",
              "┡━━━━━━━━━━━━━━━━━━━━━━━━━━━━━━━━━━━━━━╇━━━━━━━━━━━━━━━━━━━━━━━━━━━━━╇━━━━━━━━━━━━━━━━━┩\n",
              "│ rescaling (<span style=\"color: #0087ff; text-decoration-color: #0087ff\">Rescaling</span>)                │ ?                           │     <span style=\"color: #00af00; text-decoration-color: #00af00\">0</span> (unbuilt) │\n",
              "├──────────────────────────────────────┼─────────────────────────────┼─────────────────┤\n",
              "│ conv2d (<span style=\"color: #0087ff; text-decoration-color: #0087ff\">Conv2D</span>)                      │ ?                           │     <span style=\"color: #00af00; text-decoration-color: #00af00\">0</span> (unbuilt) │\n",
              "├──────────────────────────────────────┼─────────────────────────────┼─────────────────┤\n",
              "│ conv2d_1 (<span style=\"color: #0087ff; text-decoration-color: #0087ff\">Conv2D</span>)                    │ ?                           │     <span style=\"color: #00af00; text-decoration-color: #00af00\">0</span> (unbuilt) │\n",
              "├──────────────────────────────────────┼─────────────────────────────┼─────────────────┤\n",
              "│ max_pooling2d (<span style=\"color: #0087ff; text-decoration-color: #0087ff\">MaxPooling2D</span>)         │ ?                           │     <span style=\"color: #00af00; text-decoration-color: #00af00\">0</span> (unbuilt) │\n",
              "├──────────────────────────────────────┼─────────────────────────────┼─────────────────┤\n",
              "│ conv2d_2 (<span style=\"color: #0087ff; text-decoration-color: #0087ff\">Conv2D</span>)                    │ ?                           │     <span style=\"color: #00af00; text-decoration-color: #00af00\">0</span> (unbuilt) │\n",
              "├──────────────────────────────────────┼─────────────────────────────┼─────────────────┤\n",
              "│ conv2d_3 (<span style=\"color: #0087ff; text-decoration-color: #0087ff\">Conv2D</span>)                    │ ?                           │     <span style=\"color: #00af00; text-decoration-color: #00af00\">0</span> (unbuilt) │\n",
              "├──────────────────────────────────────┼─────────────────────────────┼─────────────────┤\n",
              "│ max_pooling2d_1 (<span style=\"color: #0087ff; text-decoration-color: #0087ff\">MaxPooling2D</span>)       │ ?                           │     <span style=\"color: #00af00; text-decoration-color: #00af00\">0</span> (unbuilt) │\n",
              "├──────────────────────────────────────┼─────────────────────────────┼─────────────────┤\n",
              "│ conv2d_4 (<span style=\"color: #0087ff; text-decoration-color: #0087ff\">Conv2D</span>)                    │ ?                           │     <span style=\"color: #00af00; text-decoration-color: #00af00\">0</span> (unbuilt) │\n",
              "├──────────────────────────────────────┼─────────────────────────────┼─────────────────┤\n",
              "│ conv2d_5 (<span style=\"color: #0087ff; text-decoration-color: #0087ff\">Conv2D</span>)                    │ ?                           │     <span style=\"color: #00af00; text-decoration-color: #00af00\">0</span> (unbuilt) │\n",
              "├──────────────────────────────────────┼─────────────────────────────┼─────────────────┤\n",
              "│ max_pooling2d_2 (<span style=\"color: #0087ff; text-decoration-color: #0087ff\">MaxPooling2D</span>)       │ ?                           │     <span style=\"color: #00af00; text-decoration-color: #00af00\">0</span> (unbuilt) │\n",
              "├──────────────────────────────────────┼─────────────────────────────┼─────────────────┤\n",
              "│ flatten (<span style=\"color: #0087ff; text-decoration-color: #0087ff\">Flatten</span>)                    │ ?                           │     <span style=\"color: #00af00; text-decoration-color: #00af00\">0</span> (unbuilt) │\n",
              "├──────────────────────────────────────┼─────────────────────────────┼─────────────────┤\n",
              "│ dense (<span style=\"color: #0087ff; text-decoration-color: #0087ff\">Dense</span>)                        │ ?                           │     <span style=\"color: #00af00; text-decoration-color: #00af00\">0</span> (unbuilt) │\n",
              "└──────────────────────────────────────┴─────────────────────────────┴─────────────────┘\n",
              "</pre>\n"
            ]
          },
          "metadata": {}
        },
        {
          "output_type": "display_data",
          "data": {
            "text/plain": [
              "\u001b[1m Total params: \u001b[0m\u001b[38;5;34m0\u001b[0m (0.00 B)\n"
            ],
            "text/html": [
              "<pre style=\"white-space:pre;overflow-x:auto;line-height:normal;font-family:Menlo,'DejaVu Sans Mono',consolas,'Courier New',monospace\"><span style=\"font-weight: bold\"> Total params: </span><span style=\"color: #00af00; text-decoration-color: #00af00\">0</span> (0.00 B)\n",
              "</pre>\n"
            ]
          },
          "metadata": {}
        },
        {
          "output_type": "display_data",
          "data": {
            "text/plain": [
              "\u001b[1m Trainable params: \u001b[0m\u001b[38;5;34m0\u001b[0m (0.00 B)\n"
            ],
            "text/html": [
              "<pre style=\"white-space:pre;overflow-x:auto;line-height:normal;font-family:Menlo,'DejaVu Sans Mono',consolas,'Courier New',monospace\"><span style=\"font-weight: bold\"> Trainable params: </span><span style=\"color: #00af00; text-decoration-color: #00af00\">0</span> (0.00 B)\n",
              "</pre>\n"
            ]
          },
          "metadata": {}
        },
        {
          "output_type": "display_data",
          "data": {
            "text/plain": [
              "\u001b[1m Non-trainable params: \u001b[0m\u001b[38;5;34m0\u001b[0m (0.00 B)\n"
            ],
            "text/html": [
              "<pre style=\"white-space:pre;overflow-x:auto;line-height:normal;font-family:Menlo,'DejaVu Sans Mono',consolas,'Courier New',monospace\"><span style=\"font-weight: bold\"> Non-trainable params: </span><span style=\"color: #00af00; text-decoration-color: #00af00\">0</span> (0.00 B)\n",
              "</pre>\n"
            ]
          },
          "metadata": {}
        }
      ]
    },
    {
      "cell_type": "code",
      "source": [
        "# 모델 컴파일\n",
        "model.compile(optimizer='adam', loss='sparse_categorical_crossentropy', metrics=['accuracy'])"
      ],
      "metadata": {
        "id": "Sz1P2xagxpiZ"
      },
      "execution_count": 170,
      "outputs": []
    },
    {
      "cell_type": "code",
      "source": [
        "# 모델 학습\n",
        "model.fit(train_x, train_y, epochs=20, validation_split=0.2, callbacks=[es])"
      ],
      "metadata": {
        "colab": {
          "base_uri": "https://localhost:8080/",
          "height": 0
        },
        "id": "HRlqRn57zI7X",
        "outputId": "9fbdb001-8632-4031-a312-a5d2ac7e3ad2"
      },
      "execution_count": 172,
      "outputs": [
        {
          "output_type": "stream",
          "name": "stdout",
          "text": [
            "Epoch 1/20\n",
            "\u001b[1m1250/1250\u001b[0m \u001b[32m━━━━━━━━━━━━━━━━━━━━\u001b[0m\u001b[37m\u001b[0m \u001b[1m26s\u001b[0m 13ms/step - accuracy: 0.3156 - loss: 1.8416 - val_accuracy: 0.5770 - val_loss: 1.2025\n",
            "Epoch 2/20\n",
            "\u001b[1m1250/1250\u001b[0m \u001b[32m━━━━━━━━━━━━━━━━━━━━\u001b[0m\u001b[37m\u001b[0m \u001b[1m29s\u001b[0m 8ms/step - accuracy: 0.6130 - loss: 1.0947 - val_accuracy: 0.6809 - val_loss: 0.9299\n",
            "Epoch 3/20\n",
            "\u001b[1m1250/1250\u001b[0m \u001b[32m━━━━━━━━━━━━━━━━━━━━\u001b[0m\u001b[37m\u001b[0m \u001b[1m10s\u001b[0m 8ms/step - accuracy: 0.7124 - loss: 0.8217 - val_accuracy: 0.7104 - val_loss: 0.8185\n",
            "Epoch 4/20\n",
            "\u001b[1m1250/1250\u001b[0m \u001b[32m━━━━━━━━━━━━━━━━━━━━\u001b[0m\u001b[37m\u001b[0m \u001b[1m10s\u001b[0m 8ms/step - accuracy: 0.7750 - loss: 0.6424 - val_accuracy: 0.7390 - val_loss: 0.7597\n",
            "Epoch 5/20\n",
            "\u001b[1m1250/1250\u001b[0m \u001b[32m━━━━━━━━━━━━━━━━━━━━\u001b[0m\u001b[37m\u001b[0m \u001b[1m11s\u001b[0m 8ms/step - accuracy: 0.8205 - loss: 0.5189 - val_accuracy: 0.7534 - val_loss: 0.7377\n",
            "Epoch 6/20\n",
            "\u001b[1m1250/1250\u001b[0m \u001b[32m━━━━━━━━━━━━━━━━━━━━\u001b[0m\u001b[37m\u001b[0m \u001b[1m10s\u001b[0m 8ms/step - accuracy: 0.8587 - loss: 0.4053 - val_accuracy: 0.7583 - val_loss: 0.7562\n",
            "Epoch 7/20\n",
            "\u001b[1m1250/1250\u001b[0m \u001b[32m━━━━━━━━━━━━━━━━━━━━\u001b[0m\u001b[37m\u001b[0m \u001b[1m10s\u001b[0m 8ms/step - accuracy: 0.8928 - loss: 0.3049 - val_accuracy: 0.7480 - val_loss: 0.8436\n",
            "Epoch 8/20\n",
            "\u001b[1m1250/1250\u001b[0m \u001b[32m━━━━━━━━━━━━━━━━━━━━\u001b[0m\u001b[37m\u001b[0m \u001b[1m10s\u001b[0m 8ms/step - accuracy: 0.9180 - loss: 0.2372 - val_accuracy: 0.7483 - val_loss: 0.9697\n",
            "Epoch 9/20\n",
            "\u001b[1m1250/1250\u001b[0m \u001b[32m━━━━━━━━━━━━━━━━━━━━\u001b[0m\u001b[37m\u001b[0m \u001b[1m10s\u001b[0m 8ms/step - accuracy: 0.9362 - loss: 0.1852 - val_accuracy: 0.7416 - val_loss: 1.0093\n",
            "Epoch 10/20\n",
            "\u001b[1m1250/1250\u001b[0m \u001b[32m━━━━━━━━━━━━━━━━━━━━\u001b[0m\u001b[37m\u001b[0m \u001b[1m20s\u001b[0m 8ms/step - accuracy: 0.9473 - loss: 0.1549 - val_accuracy: 0.7396 - val_loss: 1.1176\n",
            "Epoch 10: early stopping\n",
            "Restoring model weights from the end of the best epoch: 5.\n"
          ]
        },
        {
          "output_type": "execute_result",
          "data": {
            "text/plain": [
              "<keras.src.callbacks.history.History at 0x7bb20f97bf70>"
            ]
          },
          "metadata": {},
          "execution_count": 172
        }
      ]
    },
    {
      "cell_type": "code",
      "source": [
        "pred = model.predict(test_x)\n",
        "pred = np.argmax(pred, axis=1)"
      ],
      "metadata": {
        "colab": {
          "base_uri": "https://localhost:8080/",
          "height": 0
        },
        "id": "LQFutQ9QzPqg",
        "outputId": "35549730-9106-4d7a-f246-6d8379c0ba0e"
      },
      "execution_count": 173,
      "outputs": [
        {
          "output_type": "stream",
          "name": "stdout",
          "text": [
            "\u001b[1m313/313\u001b[0m \u001b[32m━━━━━━━━━━━━━━━━━━━━\u001b[0m\u001b[37m\u001b[0m \u001b[1m1s\u001b[0m 3ms/step\n"
          ]
        }
      ]
    },
    {
      "cell_type": "code",
      "source": [
        "print(accuracy_score(test_y, pred))\n",
        "print()\n",
        "print(confusion_matrix(test_y, pred))\n",
        "print(classification_report(test_y, pred))"
      ],
      "metadata": {
        "colab": {
          "base_uri": "https://localhost:8080/",
          "height": 0
        },
        "id": "fsHCZF3hzg5v",
        "outputId": "6da71858-f1cf-4c2e-e8bd-911248aa5dbd"
      },
      "execution_count": 174,
      "outputs": [
        {
          "output_type": "stream",
          "name": "stdout",
          "text": [
            "0.7474\n",
            "\n",
            "[[872  11  22  22  11   5   8   5  25  19]\n",
            " [ 23 856   5   8   4   4   9   2  15  74]\n",
            " [101   4 563  71 114  61  61  15   4   6]\n",
            " [ 30   8  52 620  75 116  63  18   9   9]\n",
            " [ 37   2  25  61 774  22  37  33   5   4]\n",
            " [ 11   3  40 204  51 611  35  31   6   8]\n",
            " [ 13   4  27  62  46  19 821   2   1   5]\n",
            " [ 27   3  23  58 100  50   7 715   2  15]\n",
            " [125  17  13  16   6   2   9   3 789  20]\n",
            " [ 48  52   5  15   4   5   5   3  10 853]]\n",
            "              precision    recall  f1-score   support\n",
            "\n",
            "           0       0.68      0.87      0.76      1000\n",
            "           1       0.89      0.86      0.87      1000\n",
            "           2       0.73      0.56      0.63      1000\n",
            "           3       0.55      0.62      0.58      1000\n",
            "           4       0.65      0.77      0.71      1000\n",
            "           5       0.68      0.61      0.64      1000\n",
            "           6       0.78      0.82      0.80      1000\n",
            "           7       0.86      0.71      0.78      1000\n",
            "           8       0.91      0.79      0.85      1000\n",
            "           9       0.84      0.85      0.85      1000\n",
            "\n",
            "    accuracy                           0.75     10000\n",
            "   macro avg       0.76      0.75      0.75     10000\n",
            "weighted avg       0.76      0.75      0.75     10000\n",
            "\n"
          ]
        }
      ]
    },
    {
      "cell_type": "code",
      "source": [],
      "metadata": {
        "id": "oXwTWE4Ozv7L"
      },
      "execution_count": null,
      "outputs": []
    }
  ]
}