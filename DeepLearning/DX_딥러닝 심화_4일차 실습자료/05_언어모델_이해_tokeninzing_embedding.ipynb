{
  "nbformat": 4,
  "nbformat_minor": 0,
  "metadata": {
    "colab": {
      "provenance": [],
      "include_colab_link": true
    },
    "kernelspec": {
      "name": "python3",
      "display_name": "Python 3"
    },
    "widgets": {
      "application/vnd.jupyter.widget-state+json": {
        "f3e81dc3e51f43d7a5f4727193493c37": {
          "model_module": "@jupyter-widgets/controls",
          "model_name": "HBoxModel",
          "model_module_version": "1.5.0",
          "state": {
            "_dom_classes": [],
            "_model_module": "@jupyter-widgets/controls",
            "_model_module_version": "1.5.0",
            "_model_name": "HBoxModel",
            "_view_count": null,
            "_view_module": "@jupyter-widgets/controls",
            "_view_module_version": "1.5.0",
            "_view_name": "HBoxView",
            "box_style": "",
            "children": [
              "IPY_MODEL_0ba2b7478ca1424fbba4fde1823eab20",
              "IPY_MODEL_14dae9176d4046489f6f0c4076146ce8",
              "IPY_MODEL_5663a2df9f5149cfab6d6e4058dd9ac4"
            ],
            "layout": "IPY_MODEL_a0179cad3f74485c92a8ff912a246a57"
          }
        },
        "0ba2b7478ca1424fbba4fde1823eab20": {
          "model_module": "@jupyter-widgets/controls",
          "model_name": "HTMLModel",
          "model_module_version": "1.5.0",
          "state": {
            "_dom_classes": [],
            "_model_module": "@jupyter-widgets/controls",
            "_model_module_version": "1.5.0",
            "_model_name": "HTMLModel",
            "_view_count": null,
            "_view_module": "@jupyter-widgets/controls",
            "_view_module_version": "1.5.0",
            "_view_name": "HTMLView",
            "description": "",
            "description_tooltip": null,
            "layout": "IPY_MODEL_c8f85b4e50f545adab883d8bf2f377a4",
            "placeholder": "​",
            "style": "IPY_MODEL_b2743c9d5f5641d28b5ad61a63953cf5",
            "value": "tokenizer_config.json: 100%"
          }
        },
        "14dae9176d4046489f6f0c4076146ce8": {
          "model_module": "@jupyter-widgets/controls",
          "model_name": "FloatProgressModel",
          "model_module_version": "1.5.0",
          "state": {
            "_dom_classes": [],
            "_model_module": "@jupyter-widgets/controls",
            "_model_module_version": "1.5.0",
            "_model_name": "FloatProgressModel",
            "_view_count": null,
            "_view_module": "@jupyter-widgets/controls",
            "_view_module_version": "1.5.0",
            "_view_name": "ProgressView",
            "bar_style": "success",
            "description": "",
            "description_tooltip": null,
            "layout": "IPY_MODEL_eb729ce0e1ef4fb18bd49bc672e45770",
            "max": 28,
            "min": 0,
            "orientation": "horizontal",
            "style": "IPY_MODEL_6425fbe10c8d4e50aabe5b644c111b47",
            "value": 28
          }
        },
        "5663a2df9f5149cfab6d6e4058dd9ac4": {
          "model_module": "@jupyter-widgets/controls",
          "model_name": "HTMLModel",
          "model_module_version": "1.5.0",
          "state": {
            "_dom_classes": [],
            "_model_module": "@jupyter-widgets/controls",
            "_model_module_version": "1.5.0",
            "_model_name": "HTMLModel",
            "_view_count": null,
            "_view_module": "@jupyter-widgets/controls",
            "_view_module_version": "1.5.0",
            "_view_name": "HTMLView",
            "description": "",
            "description_tooltip": null,
            "layout": "IPY_MODEL_4a5709894aaf42a8bd19e4734bf82f4f",
            "placeholder": "​",
            "style": "IPY_MODEL_4aa601be431b439cb65a36d61a672a12",
            "value": " 28.0/28.0 [00:00&lt;00:00, 544B/s]"
          }
        },
        "a0179cad3f74485c92a8ff912a246a57": {
          "model_module": "@jupyter-widgets/base",
          "model_name": "LayoutModel",
          "model_module_version": "1.2.0",
          "state": {
            "_model_module": "@jupyter-widgets/base",
            "_model_module_version": "1.2.0",
            "_model_name": "LayoutModel",
            "_view_count": null,
            "_view_module": "@jupyter-widgets/base",
            "_view_module_version": "1.2.0",
            "_view_name": "LayoutView",
            "align_content": null,
            "align_items": null,
            "align_self": null,
            "border": null,
            "bottom": null,
            "display": null,
            "flex": null,
            "flex_flow": null,
            "grid_area": null,
            "grid_auto_columns": null,
            "grid_auto_flow": null,
            "grid_auto_rows": null,
            "grid_column": null,
            "grid_gap": null,
            "grid_row": null,
            "grid_template_areas": null,
            "grid_template_columns": null,
            "grid_template_rows": null,
            "height": null,
            "justify_content": null,
            "justify_items": null,
            "left": null,
            "margin": null,
            "max_height": null,
            "max_width": null,
            "min_height": null,
            "min_width": null,
            "object_fit": null,
            "object_position": null,
            "order": null,
            "overflow": null,
            "overflow_x": null,
            "overflow_y": null,
            "padding": null,
            "right": null,
            "top": null,
            "visibility": null,
            "width": null
          }
        },
        "c8f85b4e50f545adab883d8bf2f377a4": {
          "model_module": "@jupyter-widgets/base",
          "model_name": "LayoutModel",
          "model_module_version": "1.2.0",
          "state": {
            "_model_module": "@jupyter-widgets/base",
            "_model_module_version": "1.2.0",
            "_model_name": "LayoutModel",
            "_view_count": null,
            "_view_module": "@jupyter-widgets/base",
            "_view_module_version": "1.2.0",
            "_view_name": "LayoutView",
            "align_content": null,
            "align_items": null,
            "align_self": null,
            "border": null,
            "bottom": null,
            "display": null,
            "flex": null,
            "flex_flow": null,
            "grid_area": null,
            "grid_auto_columns": null,
            "grid_auto_flow": null,
            "grid_auto_rows": null,
            "grid_column": null,
            "grid_gap": null,
            "grid_row": null,
            "grid_template_areas": null,
            "grid_template_columns": null,
            "grid_template_rows": null,
            "height": null,
            "justify_content": null,
            "justify_items": null,
            "left": null,
            "margin": null,
            "max_height": null,
            "max_width": null,
            "min_height": null,
            "min_width": null,
            "object_fit": null,
            "object_position": null,
            "order": null,
            "overflow": null,
            "overflow_x": null,
            "overflow_y": null,
            "padding": null,
            "right": null,
            "top": null,
            "visibility": null,
            "width": null
          }
        },
        "b2743c9d5f5641d28b5ad61a63953cf5": {
          "model_module": "@jupyter-widgets/controls",
          "model_name": "DescriptionStyleModel",
          "model_module_version": "1.5.0",
          "state": {
            "_model_module": "@jupyter-widgets/controls",
            "_model_module_version": "1.5.0",
            "_model_name": "DescriptionStyleModel",
            "_view_count": null,
            "_view_module": "@jupyter-widgets/base",
            "_view_module_version": "1.2.0",
            "_view_name": "StyleView",
            "description_width": ""
          }
        },
        "eb729ce0e1ef4fb18bd49bc672e45770": {
          "model_module": "@jupyter-widgets/base",
          "model_name": "LayoutModel",
          "model_module_version": "1.2.0",
          "state": {
            "_model_module": "@jupyter-widgets/base",
            "_model_module_version": "1.2.0",
            "_model_name": "LayoutModel",
            "_view_count": null,
            "_view_module": "@jupyter-widgets/base",
            "_view_module_version": "1.2.0",
            "_view_name": "LayoutView",
            "align_content": null,
            "align_items": null,
            "align_self": null,
            "border": null,
            "bottom": null,
            "display": null,
            "flex": null,
            "flex_flow": null,
            "grid_area": null,
            "grid_auto_columns": null,
            "grid_auto_flow": null,
            "grid_auto_rows": null,
            "grid_column": null,
            "grid_gap": null,
            "grid_row": null,
            "grid_template_areas": null,
            "grid_template_columns": null,
            "grid_template_rows": null,
            "height": null,
            "justify_content": null,
            "justify_items": null,
            "left": null,
            "margin": null,
            "max_height": null,
            "max_width": null,
            "min_height": null,
            "min_width": null,
            "object_fit": null,
            "object_position": null,
            "order": null,
            "overflow": null,
            "overflow_x": null,
            "overflow_y": null,
            "padding": null,
            "right": null,
            "top": null,
            "visibility": null,
            "width": null
          }
        },
        "6425fbe10c8d4e50aabe5b644c111b47": {
          "model_module": "@jupyter-widgets/controls",
          "model_name": "ProgressStyleModel",
          "model_module_version": "1.5.0",
          "state": {
            "_model_module": "@jupyter-widgets/controls",
            "_model_module_version": "1.5.0",
            "_model_name": "ProgressStyleModel",
            "_view_count": null,
            "_view_module": "@jupyter-widgets/base",
            "_view_module_version": "1.2.0",
            "_view_name": "StyleView",
            "bar_color": null,
            "description_width": ""
          }
        },
        "4a5709894aaf42a8bd19e4734bf82f4f": {
          "model_module": "@jupyter-widgets/base",
          "model_name": "LayoutModel",
          "model_module_version": "1.2.0",
          "state": {
            "_model_module": "@jupyter-widgets/base",
            "_model_module_version": "1.2.0",
            "_model_name": "LayoutModel",
            "_view_count": null,
            "_view_module": "@jupyter-widgets/base",
            "_view_module_version": "1.2.0",
            "_view_name": "LayoutView",
            "align_content": null,
            "align_items": null,
            "align_self": null,
            "border": null,
            "bottom": null,
            "display": null,
            "flex": null,
            "flex_flow": null,
            "grid_area": null,
            "grid_auto_columns": null,
            "grid_auto_flow": null,
            "grid_auto_rows": null,
            "grid_column": null,
            "grid_gap": null,
            "grid_row": null,
            "grid_template_areas": null,
            "grid_template_columns": null,
            "grid_template_rows": null,
            "height": null,
            "justify_content": null,
            "justify_items": null,
            "left": null,
            "margin": null,
            "max_height": null,
            "max_width": null,
            "min_height": null,
            "min_width": null,
            "object_fit": null,
            "object_position": null,
            "order": null,
            "overflow": null,
            "overflow_x": null,
            "overflow_y": null,
            "padding": null,
            "right": null,
            "top": null,
            "visibility": null,
            "width": null
          }
        },
        "4aa601be431b439cb65a36d61a672a12": {
          "model_module": "@jupyter-widgets/controls",
          "model_name": "DescriptionStyleModel",
          "model_module_version": "1.5.0",
          "state": {
            "_model_module": "@jupyter-widgets/controls",
            "_model_module_version": "1.5.0",
            "_model_name": "DescriptionStyleModel",
            "_view_count": null,
            "_view_module": "@jupyter-widgets/base",
            "_view_module_version": "1.2.0",
            "_view_name": "StyleView",
            "description_width": ""
          }
        },
        "1e27a2509ced4222996fcbb34c10701b": {
          "model_module": "@jupyter-widgets/controls",
          "model_name": "HBoxModel",
          "model_module_version": "1.5.0",
          "state": {
            "_dom_classes": [],
            "_model_module": "@jupyter-widgets/controls",
            "_model_module_version": "1.5.0",
            "_model_name": "HBoxModel",
            "_view_count": null,
            "_view_module": "@jupyter-widgets/controls",
            "_view_module_version": "1.5.0",
            "_view_name": "HBoxView",
            "box_style": "",
            "children": [
              "IPY_MODEL_b3243c364df54e84a98d4960cb4b7072",
              "IPY_MODEL_9485e5366b754a0c997c56c461e9c16a",
              "IPY_MODEL_b17b1905a885415b91d7f65e1e1acb07"
            ],
            "layout": "IPY_MODEL_9812ca4571114ddeabc081f622cffd41"
          }
        },
        "b3243c364df54e84a98d4960cb4b7072": {
          "model_module": "@jupyter-widgets/controls",
          "model_name": "HTMLModel",
          "model_module_version": "1.5.0",
          "state": {
            "_dom_classes": [],
            "_model_module": "@jupyter-widgets/controls",
            "_model_module_version": "1.5.0",
            "_model_name": "HTMLModel",
            "_view_count": null,
            "_view_module": "@jupyter-widgets/controls",
            "_view_module_version": "1.5.0",
            "_view_name": "HTMLView",
            "description": "",
            "description_tooltip": null,
            "layout": "IPY_MODEL_19df61547bfa44328e650cb3dc539d1d",
            "placeholder": "​",
            "style": "IPY_MODEL_d58becee63794e229f7edde37eb1b425",
            "value": "config.json: 100%"
          }
        },
        "9485e5366b754a0c997c56c461e9c16a": {
          "model_module": "@jupyter-widgets/controls",
          "model_name": "FloatProgressModel",
          "model_module_version": "1.5.0",
          "state": {
            "_dom_classes": [],
            "_model_module": "@jupyter-widgets/controls",
            "_model_module_version": "1.5.0",
            "_model_name": "FloatProgressModel",
            "_view_count": null,
            "_view_module": "@jupyter-widgets/controls",
            "_view_module_version": "1.5.0",
            "_view_name": "ProgressView",
            "bar_style": "success",
            "description": "",
            "description_tooltip": null,
            "layout": "IPY_MODEL_c5542ca808704dd89799b6814b18bd86",
            "max": 483,
            "min": 0,
            "orientation": "horizontal",
            "style": "IPY_MODEL_90785d8aa45a4372b6839fb3c637e718",
            "value": 483
          }
        },
        "b17b1905a885415b91d7f65e1e1acb07": {
          "model_module": "@jupyter-widgets/controls",
          "model_name": "HTMLModel",
          "model_module_version": "1.5.0",
          "state": {
            "_dom_classes": [],
            "_model_module": "@jupyter-widgets/controls",
            "_model_module_version": "1.5.0",
            "_model_name": "HTMLModel",
            "_view_count": null,
            "_view_module": "@jupyter-widgets/controls",
            "_view_module_version": "1.5.0",
            "_view_name": "HTMLView",
            "description": "",
            "description_tooltip": null,
            "layout": "IPY_MODEL_a5a877e0dcd84e71941c2e0549013f8e",
            "placeholder": "​",
            "style": "IPY_MODEL_2a9a3ed78fee4d8abc92bc5a5f7b12af",
            "value": " 483/483 [00:00&lt;00:00, 6.21kB/s]"
          }
        },
        "9812ca4571114ddeabc081f622cffd41": {
          "model_module": "@jupyter-widgets/base",
          "model_name": "LayoutModel",
          "model_module_version": "1.2.0",
          "state": {
            "_model_module": "@jupyter-widgets/base",
            "_model_module_version": "1.2.0",
            "_model_name": "LayoutModel",
            "_view_count": null,
            "_view_module": "@jupyter-widgets/base",
            "_view_module_version": "1.2.0",
            "_view_name": "LayoutView",
            "align_content": null,
            "align_items": null,
            "align_self": null,
            "border": null,
            "bottom": null,
            "display": null,
            "flex": null,
            "flex_flow": null,
            "grid_area": null,
            "grid_auto_columns": null,
            "grid_auto_flow": null,
            "grid_auto_rows": null,
            "grid_column": null,
            "grid_gap": null,
            "grid_row": null,
            "grid_template_areas": null,
            "grid_template_columns": null,
            "grid_template_rows": null,
            "height": null,
            "justify_content": null,
            "justify_items": null,
            "left": null,
            "margin": null,
            "max_height": null,
            "max_width": null,
            "min_height": null,
            "min_width": null,
            "object_fit": null,
            "object_position": null,
            "order": null,
            "overflow": null,
            "overflow_x": null,
            "overflow_y": null,
            "padding": null,
            "right": null,
            "top": null,
            "visibility": null,
            "width": null
          }
        },
        "19df61547bfa44328e650cb3dc539d1d": {
          "model_module": "@jupyter-widgets/base",
          "model_name": "LayoutModel",
          "model_module_version": "1.2.0",
          "state": {
            "_model_module": "@jupyter-widgets/base",
            "_model_module_version": "1.2.0",
            "_model_name": "LayoutModel",
            "_view_count": null,
            "_view_module": "@jupyter-widgets/base",
            "_view_module_version": "1.2.0",
            "_view_name": "LayoutView",
            "align_content": null,
            "align_items": null,
            "align_self": null,
            "border": null,
            "bottom": null,
            "display": null,
            "flex": null,
            "flex_flow": null,
            "grid_area": null,
            "grid_auto_columns": null,
            "grid_auto_flow": null,
            "grid_auto_rows": null,
            "grid_column": null,
            "grid_gap": null,
            "grid_row": null,
            "grid_template_areas": null,
            "grid_template_columns": null,
            "grid_template_rows": null,
            "height": null,
            "justify_content": null,
            "justify_items": null,
            "left": null,
            "margin": null,
            "max_height": null,
            "max_width": null,
            "min_height": null,
            "min_width": null,
            "object_fit": null,
            "object_position": null,
            "order": null,
            "overflow": null,
            "overflow_x": null,
            "overflow_y": null,
            "padding": null,
            "right": null,
            "top": null,
            "visibility": null,
            "width": null
          }
        },
        "d58becee63794e229f7edde37eb1b425": {
          "model_module": "@jupyter-widgets/controls",
          "model_name": "DescriptionStyleModel",
          "model_module_version": "1.5.0",
          "state": {
            "_model_module": "@jupyter-widgets/controls",
            "_model_module_version": "1.5.0",
            "_model_name": "DescriptionStyleModel",
            "_view_count": null,
            "_view_module": "@jupyter-widgets/base",
            "_view_module_version": "1.2.0",
            "_view_name": "StyleView",
            "description_width": ""
          }
        },
        "c5542ca808704dd89799b6814b18bd86": {
          "model_module": "@jupyter-widgets/base",
          "model_name": "LayoutModel",
          "model_module_version": "1.2.0",
          "state": {
            "_model_module": "@jupyter-widgets/base",
            "_model_module_version": "1.2.0",
            "_model_name": "LayoutModel",
            "_view_count": null,
            "_view_module": "@jupyter-widgets/base",
            "_view_module_version": "1.2.0",
            "_view_name": "LayoutView",
            "align_content": null,
            "align_items": null,
            "align_self": null,
            "border": null,
            "bottom": null,
            "display": null,
            "flex": null,
            "flex_flow": null,
            "grid_area": null,
            "grid_auto_columns": null,
            "grid_auto_flow": null,
            "grid_auto_rows": null,
            "grid_column": null,
            "grid_gap": null,
            "grid_row": null,
            "grid_template_areas": null,
            "grid_template_columns": null,
            "grid_template_rows": null,
            "height": null,
            "justify_content": null,
            "justify_items": null,
            "left": null,
            "margin": null,
            "max_height": null,
            "max_width": null,
            "min_height": null,
            "min_width": null,
            "object_fit": null,
            "object_position": null,
            "order": null,
            "overflow": null,
            "overflow_x": null,
            "overflow_y": null,
            "padding": null,
            "right": null,
            "top": null,
            "visibility": null,
            "width": null
          }
        },
        "90785d8aa45a4372b6839fb3c637e718": {
          "model_module": "@jupyter-widgets/controls",
          "model_name": "ProgressStyleModel",
          "model_module_version": "1.5.0",
          "state": {
            "_model_module": "@jupyter-widgets/controls",
            "_model_module_version": "1.5.0",
            "_model_name": "ProgressStyleModel",
            "_view_count": null,
            "_view_module": "@jupyter-widgets/base",
            "_view_module_version": "1.2.0",
            "_view_name": "StyleView",
            "bar_color": null,
            "description_width": ""
          }
        },
        "a5a877e0dcd84e71941c2e0549013f8e": {
          "model_module": "@jupyter-widgets/base",
          "model_name": "LayoutModel",
          "model_module_version": "1.2.0",
          "state": {
            "_model_module": "@jupyter-widgets/base",
            "_model_module_version": "1.2.0",
            "_model_name": "LayoutModel",
            "_view_count": null,
            "_view_module": "@jupyter-widgets/base",
            "_view_module_version": "1.2.0",
            "_view_name": "LayoutView",
            "align_content": null,
            "align_items": null,
            "align_self": null,
            "border": null,
            "bottom": null,
            "display": null,
            "flex": null,
            "flex_flow": null,
            "grid_area": null,
            "grid_auto_columns": null,
            "grid_auto_flow": null,
            "grid_auto_rows": null,
            "grid_column": null,
            "grid_gap": null,
            "grid_row": null,
            "grid_template_areas": null,
            "grid_template_columns": null,
            "grid_template_rows": null,
            "height": null,
            "justify_content": null,
            "justify_items": null,
            "left": null,
            "margin": null,
            "max_height": null,
            "max_width": null,
            "min_height": null,
            "min_width": null,
            "object_fit": null,
            "object_position": null,
            "order": null,
            "overflow": null,
            "overflow_x": null,
            "overflow_y": null,
            "padding": null,
            "right": null,
            "top": null,
            "visibility": null,
            "width": null
          }
        },
        "2a9a3ed78fee4d8abc92bc5a5f7b12af": {
          "model_module": "@jupyter-widgets/controls",
          "model_name": "DescriptionStyleModel",
          "model_module_version": "1.5.0",
          "state": {
            "_model_module": "@jupyter-widgets/controls",
            "_model_module_version": "1.5.0",
            "_model_name": "DescriptionStyleModel",
            "_view_count": null,
            "_view_module": "@jupyter-widgets/base",
            "_view_module_version": "1.2.0",
            "_view_name": "StyleView",
            "description_width": ""
          }
        },
        "80e7eb7ca79f4a20ad361ff1017cab42": {
          "model_module": "@jupyter-widgets/controls",
          "model_name": "HBoxModel",
          "model_module_version": "1.5.0",
          "state": {
            "_dom_classes": [],
            "_model_module": "@jupyter-widgets/controls",
            "_model_module_version": "1.5.0",
            "_model_name": "HBoxModel",
            "_view_count": null,
            "_view_module": "@jupyter-widgets/controls",
            "_view_module_version": "1.5.0",
            "_view_name": "HBoxView",
            "box_style": "",
            "children": [
              "IPY_MODEL_94f9f7f2c8fd4964bcc0f134d374d026",
              "IPY_MODEL_3012f9867aaa4d8fb3b242776c9f58ba",
              "IPY_MODEL_c5b9b2d6e39741369668076eebcb7765"
            ],
            "layout": "IPY_MODEL_39aeba85f7e441398b9928c26d01ae5d"
          }
        },
        "94f9f7f2c8fd4964bcc0f134d374d026": {
          "model_module": "@jupyter-widgets/controls",
          "model_name": "HTMLModel",
          "model_module_version": "1.5.0",
          "state": {
            "_dom_classes": [],
            "_model_module": "@jupyter-widgets/controls",
            "_model_module_version": "1.5.0",
            "_model_name": "HTMLModel",
            "_view_count": null,
            "_view_module": "@jupyter-widgets/controls",
            "_view_module_version": "1.5.0",
            "_view_name": "HTMLView",
            "description": "",
            "description_tooltip": null,
            "layout": "IPY_MODEL_f9570949bc3c491bbab1b5bae0760ea6",
            "placeholder": "​",
            "style": "IPY_MODEL_655f5d08468e4f1dbfa88f99b8ae0b18",
            "value": "vocab.txt: 100%"
          }
        },
        "3012f9867aaa4d8fb3b242776c9f58ba": {
          "model_module": "@jupyter-widgets/controls",
          "model_name": "FloatProgressModel",
          "model_module_version": "1.5.0",
          "state": {
            "_dom_classes": [],
            "_model_module": "@jupyter-widgets/controls",
            "_model_module_version": "1.5.0",
            "_model_name": "FloatProgressModel",
            "_view_count": null,
            "_view_module": "@jupyter-widgets/controls",
            "_view_module_version": "1.5.0",
            "_view_name": "ProgressView",
            "bar_style": "success",
            "description": "",
            "description_tooltip": null,
            "layout": "IPY_MODEL_e1e377227c4d40b39b1efb9d67492dcf",
            "max": 231508,
            "min": 0,
            "orientation": "horizontal",
            "style": "IPY_MODEL_67415594a6a942ebb6da44538e0e7e11",
            "value": 231508
          }
        },
        "c5b9b2d6e39741369668076eebcb7765": {
          "model_module": "@jupyter-widgets/controls",
          "model_name": "HTMLModel",
          "model_module_version": "1.5.0",
          "state": {
            "_dom_classes": [],
            "_model_module": "@jupyter-widgets/controls",
            "_model_module_version": "1.5.0",
            "_model_name": "HTMLModel",
            "_view_count": null,
            "_view_module": "@jupyter-widgets/controls",
            "_view_module_version": "1.5.0",
            "_view_name": "HTMLView",
            "description": "",
            "description_tooltip": null,
            "layout": "IPY_MODEL_a6ab039c86c749d092378aa96a3caac5",
            "placeholder": "​",
            "style": "IPY_MODEL_b9a5e77df25447aea58424cb39a10bc9",
            "value": " 232k/232k [00:00&lt;00:00, 3.16MB/s]"
          }
        },
        "39aeba85f7e441398b9928c26d01ae5d": {
          "model_module": "@jupyter-widgets/base",
          "model_name": "LayoutModel",
          "model_module_version": "1.2.0",
          "state": {
            "_model_module": "@jupyter-widgets/base",
            "_model_module_version": "1.2.0",
            "_model_name": "LayoutModel",
            "_view_count": null,
            "_view_module": "@jupyter-widgets/base",
            "_view_module_version": "1.2.0",
            "_view_name": "LayoutView",
            "align_content": null,
            "align_items": null,
            "align_self": null,
            "border": null,
            "bottom": null,
            "display": null,
            "flex": null,
            "flex_flow": null,
            "grid_area": null,
            "grid_auto_columns": null,
            "grid_auto_flow": null,
            "grid_auto_rows": null,
            "grid_column": null,
            "grid_gap": null,
            "grid_row": null,
            "grid_template_areas": null,
            "grid_template_columns": null,
            "grid_template_rows": null,
            "height": null,
            "justify_content": null,
            "justify_items": null,
            "left": null,
            "margin": null,
            "max_height": null,
            "max_width": null,
            "min_height": null,
            "min_width": null,
            "object_fit": null,
            "object_position": null,
            "order": null,
            "overflow": null,
            "overflow_x": null,
            "overflow_y": null,
            "padding": null,
            "right": null,
            "top": null,
            "visibility": null,
            "width": null
          }
        },
        "f9570949bc3c491bbab1b5bae0760ea6": {
          "model_module": "@jupyter-widgets/base",
          "model_name": "LayoutModel",
          "model_module_version": "1.2.0",
          "state": {
            "_model_module": "@jupyter-widgets/base",
            "_model_module_version": "1.2.0",
            "_model_name": "LayoutModel",
            "_view_count": null,
            "_view_module": "@jupyter-widgets/base",
            "_view_module_version": "1.2.0",
            "_view_name": "LayoutView",
            "align_content": null,
            "align_items": null,
            "align_self": null,
            "border": null,
            "bottom": null,
            "display": null,
            "flex": null,
            "flex_flow": null,
            "grid_area": null,
            "grid_auto_columns": null,
            "grid_auto_flow": null,
            "grid_auto_rows": null,
            "grid_column": null,
            "grid_gap": null,
            "grid_row": null,
            "grid_template_areas": null,
            "grid_template_columns": null,
            "grid_template_rows": null,
            "height": null,
            "justify_content": null,
            "justify_items": null,
            "left": null,
            "margin": null,
            "max_height": null,
            "max_width": null,
            "min_height": null,
            "min_width": null,
            "object_fit": null,
            "object_position": null,
            "order": null,
            "overflow": null,
            "overflow_x": null,
            "overflow_y": null,
            "padding": null,
            "right": null,
            "top": null,
            "visibility": null,
            "width": null
          }
        },
        "655f5d08468e4f1dbfa88f99b8ae0b18": {
          "model_module": "@jupyter-widgets/controls",
          "model_name": "DescriptionStyleModel",
          "model_module_version": "1.5.0",
          "state": {
            "_model_module": "@jupyter-widgets/controls",
            "_model_module_version": "1.5.0",
            "_model_name": "DescriptionStyleModel",
            "_view_count": null,
            "_view_module": "@jupyter-widgets/base",
            "_view_module_version": "1.2.0",
            "_view_name": "StyleView",
            "description_width": ""
          }
        },
        "e1e377227c4d40b39b1efb9d67492dcf": {
          "model_module": "@jupyter-widgets/base",
          "model_name": "LayoutModel",
          "model_module_version": "1.2.0",
          "state": {
            "_model_module": "@jupyter-widgets/base",
            "_model_module_version": "1.2.0",
            "_model_name": "LayoutModel",
            "_view_count": null,
            "_view_module": "@jupyter-widgets/base",
            "_view_module_version": "1.2.0",
            "_view_name": "LayoutView",
            "align_content": null,
            "align_items": null,
            "align_self": null,
            "border": null,
            "bottom": null,
            "display": null,
            "flex": null,
            "flex_flow": null,
            "grid_area": null,
            "grid_auto_columns": null,
            "grid_auto_flow": null,
            "grid_auto_rows": null,
            "grid_column": null,
            "grid_gap": null,
            "grid_row": null,
            "grid_template_areas": null,
            "grid_template_columns": null,
            "grid_template_rows": null,
            "height": null,
            "justify_content": null,
            "justify_items": null,
            "left": null,
            "margin": null,
            "max_height": null,
            "max_width": null,
            "min_height": null,
            "min_width": null,
            "object_fit": null,
            "object_position": null,
            "order": null,
            "overflow": null,
            "overflow_x": null,
            "overflow_y": null,
            "padding": null,
            "right": null,
            "top": null,
            "visibility": null,
            "width": null
          }
        },
        "67415594a6a942ebb6da44538e0e7e11": {
          "model_module": "@jupyter-widgets/controls",
          "model_name": "ProgressStyleModel",
          "model_module_version": "1.5.0",
          "state": {
            "_model_module": "@jupyter-widgets/controls",
            "_model_module_version": "1.5.0",
            "_model_name": "ProgressStyleModel",
            "_view_count": null,
            "_view_module": "@jupyter-widgets/base",
            "_view_module_version": "1.2.0",
            "_view_name": "StyleView",
            "bar_color": null,
            "description_width": ""
          }
        },
        "a6ab039c86c749d092378aa96a3caac5": {
          "model_module": "@jupyter-widgets/base",
          "model_name": "LayoutModel",
          "model_module_version": "1.2.0",
          "state": {
            "_model_module": "@jupyter-widgets/base",
            "_model_module_version": "1.2.0",
            "_model_name": "LayoutModel",
            "_view_count": null,
            "_view_module": "@jupyter-widgets/base",
            "_view_module_version": "1.2.0",
            "_view_name": "LayoutView",
            "align_content": null,
            "align_items": null,
            "align_self": null,
            "border": null,
            "bottom": null,
            "display": null,
            "flex": null,
            "flex_flow": null,
            "grid_area": null,
            "grid_auto_columns": null,
            "grid_auto_flow": null,
            "grid_auto_rows": null,
            "grid_column": null,
            "grid_gap": null,
            "grid_row": null,
            "grid_template_areas": null,
            "grid_template_columns": null,
            "grid_template_rows": null,
            "height": null,
            "justify_content": null,
            "justify_items": null,
            "left": null,
            "margin": null,
            "max_height": null,
            "max_width": null,
            "min_height": null,
            "min_width": null,
            "object_fit": null,
            "object_position": null,
            "order": null,
            "overflow": null,
            "overflow_x": null,
            "overflow_y": null,
            "padding": null,
            "right": null,
            "top": null,
            "visibility": null,
            "width": null
          }
        },
        "b9a5e77df25447aea58424cb39a10bc9": {
          "model_module": "@jupyter-widgets/controls",
          "model_name": "DescriptionStyleModel",
          "model_module_version": "1.5.0",
          "state": {
            "_model_module": "@jupyter-widgets/controls",
            "_model_module_version": "1.5.0",
            "_model_name": "DescriptionStyleModel",
            "_view_count": null,
            "_view_module": "@jupyter-widgets/base",
            "_view_module_version": "1.2.0",
            "_view_name": "StyleView",
            "description_width": ""
          }
        },
        "79e69646eb334971ae5d3ee77f7e1e05": {
          "model_module": "@jupyter-widgets/controls",
          "model_name": "HBoxModel",
          "model_module_version": "1.5.0",
          "state": {
            "_dom_classes": [],
            "_model_module": "@jupyter-widgets/controls",
            "_model_module_version": "1.5.0",
            "_model_name": "HBoxModel",
            "_view_count": null,
            "_view_module": "@jupyter-widgets/controls",
            "_view_module_version": "1.5.0",
            "_view_name": "HBoxView",
            "box_style": "",
            "children": [
              "IPY_MODEL_d5afa3fe85ce4e39938961ca9fd35aa7",
              "IPY_MODEL_bc672254696d4b1cb4376b3a6f4a58bb",
              "IPY_MODEL_896dd4f3b51741cb8ecebf1e15af1905"
            ],
            "layout": "IPY_MODEL_6173925f8a304a7281b22633848b13d4"
          }
        },
        "d5afa3fe85ce4e39938961ca9fd35aa7": {
          "model_module": "@jupyter-widgets/controls",
          "model_name": "HTMLModel",
          "model_module_version": "1.5.0",
          "state": {
            "_dom_classes": [],
            "_model_module": "@jupyter-widgets/controls",
            "_model_module_version": "1.5.0",
            "_model_name": "HTMLModel",
            "_view_count": null,
            "_view_module": "@jupyter-widgets/controls",
            "_view_module_version": "1.5.0",
            "_view_name": "HTMLView",
            "description": "",
            "description_tooltip": null,
            "layout": "IPY_MODEL_2ea89b276777438b90151af7b07ad20f",
            "placeholder": "​",
            "style": "IPY_MODEL_34718f95bf904d74a11b2f3cd37c5558",
            "value": "tokenizer.json: 100%"
          }
        },
        "bc672254696d4b1cb4376b3a6f4a58bb": {
          "model_module": "@jupyter-widgets/controls",
          "model_name": "FloatProgressModel",
          "model_module_version": "1.5.0",
          "state": {
            "_dom_classes": [],
            "_model_module": "@jupyter-widgets/controls",
            "_model_module_version": "1.5.0",
            "_model_name": "FloatProgressModel",
            "_view_count": null,
            "_view_module": "@jupyter-widgets/controls",
            "_view_module_version": "1.5.0",
            "_view_name": "ProgressView",
            "bar_style": "success",
            "description": "",
            "description_tooltip": null,
            "layout": "IPY_MODEL_b51193b0accf4fdc8a4766dc243ac910",
            "max": 466062,
            "min": 0,
            "orientation": "horizontal",
            "style": "IPY_MODEL_44d08c99939c445680e53abfd520051c",
            "value": 466062
          }
        },
        "896dd4f3b51741cb8ecebf1e15af1905": {
          "model_module": "@jupyter-widgets/controls",
          "model_name": "HTMLModel",
          "model_module_version": "1.5.0",
          "state": {
            "_dom_classes": [],
            "_model_module": "@jupyter-widgets/controls",
            "_model_module_version": "1.5.0",
            "_model_name": "HTMLModel",
            "_view_count": null,
            "_view_module": "@jupyter-widgets/controls",
            "_view_module_version": "1.5.0",
            "_view_name": "HTMLView",
            "description": "",
            "description_tooltip": null,
            "layout": "IPY_MODEL_c0c060b699c644509d054139b896a3a7",
            "placeholder": "​",
            "style": "IPY_MODEL_5201b224fb7f4631b65abd8e8342939e",
            "value": " 466k/466k [00:00&lt;00:00, 6.27MB/s]"
          }
        },
        "6173925f8a304a7281b22633848b13d4": {
          "model_module": "@jupyter-widgets/base",
          "model_name": "LayoutModel",
          "model_module_version": "1.2.0",
          "state": {
            "_model_module": "@jupyter-widgets/base",
            "_model_module_version": "1.2.0",
            "_model_name": "LayoutModel",
            "_view_count": null,
            "_view_module": "@jupyter-widgets/base",
            "_view_module_version": "1.2.0",
            "_view_name": "LayoutView",
            "align_content": null,
            "align_items": null,
            "align_self": null,
            "border": null,
            "bottom": null,
            "display": null,
            "flex": null,
            "flex_flow": null,
            "grid_area": null,
            "grid_auto_columns": null,
            "grid_auto_flow": null,
            "grid_auto_rows": null,
            "grid_column": null,
            "grid_gap": null,
            "grid_row": null,
            "grid_template_areas": null,
            "grid_template_columns": null,
            "grid_template_rows": null,
            "height": null,
            "justify_content": null,
            "justify_items": null,
            "left": null,
            "margin": null,
            "max_height": null,
            "max_width": null,
            "min_height": null,
            "min_width": null,
            "object_fit": null,
            "object_position": null,
            "order": null,
            "overflow": null,
            "overflow_x": null,
            "overflow_y": null,
            "padding": null,
            "right": null,
            "top": null,
            "visibility": null,
            "width": null
          }
        },
        "2ea89b276777438b90151af7b07ad20f": {
          "model_module": "@jupyter-widgets/base",
          "model_name": "LayoutModel",
          "model_module_version": "1.2.0",
          "state": {
            "_model_module": "@jupyter-widgets/base",
            "_model_module_version": "1.2.0",
            "_model_name": "LayoutModel",
            "_view_count": null,
            "_view_module": "@jupyter-widgets/base",
            "_view_module_version": "1.2.0",
            "_view_name": "LayoutView",
            "align_content": null,
            "align_items": null,
            "align_self": null,
            "border": null,
            "bottom": null,
            "display": null,
            "flex": null,
            "flex_flow": null,
            "grid_area": null,
            "grid_auto_columns": null,
            "grid_auto_flow": null,
            "grid_auto_rows": null,
            "grid_column": null,
            "grid_gap": null,
            "grid_row": null,
            "grid_template_areas": null,
            "grid_template_columns": null,
            "grid_template_rows": null,
            "height": null,
            "justify_content": null,
            "justify_items": null,
            "left": null,
            "margin": null,
            "max_height": null,
            "max_width": null,
            "min_height": null,
            "min_width": null,
            "object_fit": null,
            "object_position": null,
            "order": null,
            "overflow": null,
            "overflow_x": null,
            "overflow_y": null,
            "padding": null,
            "right": null,
            "top": null,
            "visibility": null,
            "width": null
          }
        },
        "34718f95bf904d74a11b2f3cd37c5558": {
          "model_module": "@jupyter-widgets/controls",
          "model_name": "DescriptionStyleModel",
          "model_module_version": "1.5.0",
          "state": {
            "_model_module": "@jupyter-widgets/controls",
            "_model_module_version": "1.5.0",
            "_model_name": "DescriptionStyleModel",
            "_view_count": null,
            "_view_module": "@jupyter-widgets/base",
            "_view_module_version": "1.2.0",
            "_view_name": "StyleView",
            "description_width": ""
          }
        },
        "b51193b0accf4fdc8a4766dc243ac910": {
          "model_module": "@jupyter-widgets/base",
          "model_name": "LayoutModel",
          "model_module_version": "1.2.0",
          "state": {
            "_model_module": "@jupyter-widgets/base",
            "_model_module_version": "1.2.0",
            "_model_name": "LayoutModel",
            "_view_count": null,
            "_view_module": "@jupyter-widgets/base",
            "_view_module_version": "1.2.0",
            "_view_name": "LayoutView",
            "align_content": null,
            "align_items": null,
            "align_self": null,
            "border": null,
            "bottom": null,
            "display": null,
            "flex": null,
            "flex_flow": null,
            "grid_area": null,
            "grid_auto_columns": null,
            "grid_auto_flow": null,
            "grid_auto_rows": null,
            "grid_column": null,
            "grid_gap": null,
            "grid_row": null,
            "grid_template_areas": null,
            "grid_template_columns": null,
            "grid_template_rows": null,
            "height": null,
            "justify_content": null,
            "justify_items": null,
            "left": null,
            "margin": null,
            "max_height": null,
            "max_width": null,
            "min_height": null,
            "min_width": null,
            "object_fit": null,
            "object_position": null,
            "order": null,
            "overflow": null,
            "overflow_x": null,
            "overflow_y": null,
            "padding": null,
            "right": null,
            "top": null,
            "visibility": null,
            "width": null
          }
        },
        "44d08c99939c445680e53abfd520051c": {
          "model_module": "@jupyter-widgets/controls",
          "model_name": "ProgressStyleModel",
          "model_module_version": "1.5.0",
          "state": {
            "_model_module": "@jupyter-widgets/controls",
            "_model_module_version": "1.5.0",
            "_model_name": "ProgressStyleModel",
            "_view_count": null,
            "_view_module": "@jupyter-widgets/base",
            "_view_module_version": "1.2.0",
            "_view_name": "StyleView",
            "bar_color": null,
            "description_width": ""
          }
        },
        "c0c060b699c644509d054139b896a3a7": {
          "model_module": "@jupyter-widgets/base",
          "model_name": "LayoutModel",
          "model_module_version": "1.2.0",
          "state": {
            "_model_module": "@jupyter-widgets/base",
            "_model_module_version": "1.2.0",
            "_model_name": "LayoutModel",
            "_view_count": null,
            "_view_module": "@jupyter-widgets/base",
            "_view_module_version": "1.2.0",
            "_view_name": "LayoutView",
            "align_content": null,
            "align_items": null,
            "align_self": null,
            "border": null,
            "bottom": null,
            "display": null,
            "flex": null,
            "flex_flow": null,
            "grid_area": null,
            "grid_auto_columns": null,
            "grid_auto_flow": null,
            "grid_auto_rows": null,
            "grid_column": null,
            "grid_gap": null,
            "grid_row": null,
            "grid_template_areas": null,
            "grid_template_columns": null,
            "grid_template_rows": null,
            "height": null,
            "justify_content": null,
            "justify_items": null,
            "left": null,
            "margin": null,
            "max_height": null,
            "max_width": null,
            "min_height": null,
            "min_width": null,
            "object_fit": null,
            "object_position": null,
            "order": null,
            "overflow": null,
            "overflow_x": null,
            "overflow_y": null,
            "padding": null,
            "right": null,
            "top": null,
            "visibility": null,
            "width": null
          }
        },
        "5201b224fb7f4631b65abd8e8342939e": {
          "model_module": "@jupyter-widgets/controls",
          "model_name": "DescriptionStyleModel",
          "model_module_version": "1.5.0",
          "state": {
            "_model_module": "@jupyter-widgets/controls",
            "_model_module_version": "1.5.0",
            "_model_name": "DescriptionStyleModel",
            "_view_count": null,
            "_view_module": "@jupyter-widgets/base",
            "_view_module_version": "1.2.0",
            "_view_name": "StyleView",
            "description_width": ""
          }
        }
      }
    }
  },
  "cells": [
    {
      "cell_type": "markdown",
      "metadata": {
        "id": "view-in-github",
        "colab_type": "text"
      },
      "source": [
        "<a href=\"https://colab.research.google.com/github/YY2mk/KT_aivle/blob/master/DeepLearning/DX_%EB%94%A5%EB%9F%AC%EB%8B%9D%20%EC%8B%AC%ED%99%94_4%EC%9D%BC%EC%B0%A8%20%EC%8B%A4%EC%8A%B5%EC%9E%90%EB%A3%8C/05_%EC%96%B8%EC%96%B4%EB%AA%A8%EB%8D%B8_%EC%9D%B4%ED%95%B4_tokeninzing_embedding.ipynb\" target=\"_parent\"><img src=\"https://colab.research.google.com/assets/colab-badge.svg\" alt=\"Open In Colab\"/></a>"
      ]
    },
    {
      "cell_type": "markdown",
      "metadata": {
        "id": "cVB9pY-v8uv5"
      },
      "source": [
        "# **언어 모델 이해**"
      ]
    },
    {
      "cell_type": "markdown",
      "source": [
        "# 1.환경준비"
      ],
      "metadata": {
        "id": "qTa9LlwZD_aa"
      }
    },
    {
      "cell_type": "markdown",
      "source": [
        "## (1) 라이브러리 설치"
      ],
      "metadata": {
        "id": "Mrd0HsN4cdx9"
      }
    },
    {
      "cell_type": "code",
      "source": [
        "# !pip install transformers\n",
        "# colab에서는 이미 설치되어 있음"
      ],
      "metadata": {
        "id": "ZOq8gW-HcgS-"
      },
      "execution_count": null,
      "outputs": []
    },
    {
      "cell_type": "markdown",
      "metadata": {
        "id": "gIN5d51gtker"
      },
      "source": [
        "## (2) 라이브러리 Import"
      ]
    },
    {
      "cell_type": "code",
      "metadata": {
        "id": "GVvCef6A8uv6"
      },
      "source": [
        "from transformers import pipeline"
      ],
      "execution_count": 1,
      "outputs": []
    },
    {
      "cell_type": "markdown",
      "source": [
        "# 2.언어모델 사용 예제 코드 확인해보기"
      ],
      "metadata": {
        "id": "wkLeP43LWFxf"
      }
    },
    {
      "cell_type": "markdown",
      "metadata": {
        "id": "mnk1VvHm2Ka0"
      },
      "source": [
        "## (1) 전체 코드"
      ]
    },
    {
      "cell_type": "code",
      "source": [
        "from transformers import PreTrainedTokenizerFast, BartForConditionalGeneration\n",
        "\n",
        "#  Load Model and Tokenize\n",
        "tokenizer = PreTrainedTokenizerFast.from_pretrained(\"ainize/kobart-news\")\n",
        "model = BartForConditionalGeneration.from_pretrained(\"ainize/kobart-news\")\n",
        "\n",
        "# Encode Input Text\n",
        "input_text = '''\n",
        "국내 전반적인 경기침체로 상가 건물주의 수익도 전국적인 감소세를 보이고 있는 것으로 나타났다.\n",
        "수익형 부동산 연구개발기업 상가정보연구소는 한국감정원 통계를 분석한 결과 전국 중대형 상가\n",
        "순영업소득(부동산에서 발생하는 임대수입, 기타수입에서 제반 경비를 공제한 순소득)이 1분기 ㎡당\n",
        "3만4200원에서 3분기 2만5800원으로 감소했다고 17일 밝혔다.\n",
        "수도권, 세종시, 지방광역시에서 순영업소득이 가장 많이 감소한 지역은 3분기 1만3100원을 기록한 울산으로, 1분기 1만9100원 대비 31.4% 감소했다.\n",
        "이어 대구(-27.7%), 서울(-26.9%), 광주(-24.9%), 부산(-23.5%), 세종(-23.4%), 대전(-21%), 경기(-19.2%), 인천(-18.5%) 순으로 감소했다.\n",
        "지방 도시의 경우도 비슷했다.\n",
        "경남의 3분기 순영업소득은 1만2800원으로 1분기 1만7400원 대비 26.4% 감소했으며\n",
        "제주(-25.1%), 경북(-24.1%), 충남(-20.9%), 강원(-20.9%), 전남(-20.1%), 전북(-17%), 충북(-15.3%) 등도 감소세를 보였다.\n",
        "조현택 상가정보연구소 연구원은 \"올해 내수 경기의 침체된 분위기가 유지되며\n",
        "상가, 오피스 등을 비롯한 수익형 부동산 시장의 분위기도 경직된 모습을 보였고\n",
        "오피스텔, 지식산업센터 등의 수익형 부동산 공급도 증가해 공실의 위험도 늘었다\"며\n",
        "\"실제 올 3분기 전국 중대형 상가 공실률은 11.5%를 기록하며 1분기 11.3% 대비 0.2% 포인트 증가했다\"고 말했다.\n",
        "그는 \"최근 소셜커머스(SNS를 통한 전자상거래), 음식 배달 중개 애플리케이션, 중고 물품 거래 애플리케이션 등의\n",
        "사용 증가로 오프라인 매장에 영향을 미쳤다\"며 \"향후 지역, 콘텐츠에 따른 상권 양극화 현상은 심화될 것으로 보인다\"고 덧붙였다.\n",
        "'''\n",
        "\n",
        "input_ids = tokenizer.encode(input_text, return_tensors=\"pt\")\n",
        "\n",
        "# Generate Summary Text Ids\n",
        "summary_text_ids = model.generate(\n",
        "    input_ids=input_ids,\n",
        "    bos_token_id=model.config.bos_token_id,\n",
        "    eos_token_id=model.config.eos_token_id,\n",
        "    length_penalty=2.0,\n",
        "    max_length=142,\n",
        "    min_length=56,\n",
        "    num_beams=4,\n",
        ")\n",
        "\n",
        "# Decoding Text\n",
        "print(tokenizer.decode(summary_text_ids[0], skip_special_tokens=True))"
      ],
      "metadata": {
        "id": "Mo3_vyMuSITQ",
        "colab": {
          "base_uri": "https://localhost:8080/",
          "height": 0
        },
        "outputId": "d7b5d4de-19bb-44b6-c851-6b8f0c7bf9b5"
      },
      "execution_count": 6,
      "outputs": [
        {
          "output_type": "stream",
          "name": "stderr",
          "text": [
            "You passed along `num_labels=3` with an incompatible id to label map: {'0': 'NEGATIVE', '1': 'POSITIVE'}. The number of labels wil be overwritten to 2.\n"
          ]
        },
        {
          "output_type": "stream",
          "name": "stdout",
          "text": [
            "국내 국내 전반적인 경기침체로 상가 건물주의 수익도 전국적인 감소세를 보이고 있는 것으로 나타났고 전국적인 감소세를 보이고 있는 것으로 나타났으며 국내 경기침체로 상가 건물주의 수익도 전국적인 감소세를 보이고 있는 것으로 나타났고 전국 중대형 상가 공실률은 1분기 11.3% 대비 0.2% 포인트 증가했으며 앞으로 지역, 콘텐츠에 따른 상권 양극화 현상은 심화될 것으로 보인다고 상가정보연구소 연구원은 말했다.\n"
          ]
        }
      ]
    },
    {
      "cell_type": "markdown",
      "source": [
        "## (2) 코드를 나눠서 단계를 살펴봅시다."
      ],
      "metadata": {
        "id": "-a6jMM4im8vD"
      }
    },
    {
      "cell_type": "markdown",
      "source": [
        "* ① 모델, 토크나이저 다운로드"
      ],
      "metadata": {
        "id": "7AQOqtwPnBlI"
      }
    },
    {
      "cell_type": "code",
      "source": [
        "from transformers import PreTrainedTokenizerFast, BartForConditionalGeneration\n",
        "\n",
        "# Load Model and Tokenize\n",
        "tokenizer = PreTrainedTokenizerFast.from_pretrained(\"ainize/kobart-news\")\n",
        "model = BartForConditionalGeneration.from_pretrained(\"ainize/kobart-news\")"
      ],
      "metadata": {
        "id": "hf-sDTJ7nBKv",
        "colab": {
          "base_uri": "https://localhost:8080/",
          "height": 0
        },
        "outputId": "eabcb771-b27b-4fbc-fdc9-e7ffdab12ed0"
      },
      "execution_count": 3,
      "outputs": [
        {
          "output_type": "stream",
          "name": "stderr",
          "text": [
            "You passed along `num_labels=3` with an incompatible id to label map: {'0': 'NEGATIVE', '1': 'POSITIVE'}. The number of labels wil be overwritten to 2.\n"
          ]
        }
      ]
    },
    {
      "cell_type": "markdown",
      "source": [
        "* ② 입력 데이터 전처리(토크나이즈)"
      ],
      "metadata": {
        "id": "eETc6HDooQx5"
      }
    },
    {
      "cell_type": "code",
      "source": [
        "# 입력할 텍스트\n",
        "input_text = '''\n",
        "국내 전반적인 경기침체로 상가 건물주의 수익도 전국적인 감소세를 보이고 있는 것으로 나타났다.\n",
        "수익형 부동산 연구개발기업 상가정보연구소는 한국감정원 통계를 분석한 결과 전국 중대형 상가\n",
        "순영업소득(부동산에서 발생하는 임대수입, 기타수입에서 제반 경비를 공제한 순소득)이 1분기 ㎡당\n",
        "3만4200원에서 3분기 2만5800원으로 감소했다고 17일 밝혔다.\n",
        "'''\n",
        "\n",
        "# 토크나이즈(encoding)\n",
        "input_ids = tokenizer.encode(input_text, return_tensors=\"pt\")"
      ],
      "metadata": {
        "id": "JHC8YWPa6nyp"
      },
      "execution_count": 4,
      "outputs": []
    },
    {
      "cell_type": "code",
      "source": [
        "# 입력 토큰\n",
        "input_ids"
      ],
      "metadata": {
        "id": "8TKJp5DfsRJ2",
        "colab": {
          "base_uri": "https://localhost:8080/",
          "height": 0
        },
        "outputId": "73a6fbc4-5607-42ff-fe44-b8af3d8d2e17"
      },
      "execution_count": 5,
      "outputs": [
        {
          "output_type": "execute_result",
          "data": {
            "text/plain": [
              "tensor([[    0,   230, 23436, 25623, 27091, 21067, 23895, 16442, 14453, 15342,\n",
              "          9866, 14770, 14134, 15665, 14896, 16553, 14082, 14173, 15917, 18560,\n",
              "         13679, 15821, 22164, 14451, 23895, 15107, 14867, 17047, 14188,  8995,\n",
              "         22036, 14109, 15161, 22269, 14494, 14770, 22537, 13679, 23895,   230,\n",
              "         11374, 18801, 16162,   239, 23625, 14030, 19668, 17249, 22540,   243,\n",
              "         18453, 22540, 14030, 14060, 10773, 14051, 15541, 14061, 18010, 14408,\n",
              "         16162, 15019, 20646,  1700, 17867,  9770,   230,   250, 10500,   251,\n",
              "         18604, 15359, 20412, 18078,   252,   255, 14079, 15624, 15665, 14781,\n",
              "         16826, 14278,     1]])"
            ]
          },
          "metadata": {},
          "execution_count": 5
        }
      ]
    },
    {
      "cell_type": "markdown",
      "source": [
        "* ③ 예측(모델사용)\n"
      ],
      "metadata": {
        "id": "9J5WN0fpogoy"
      }
    },
    {
      "cell_type": "code",
      "source": [
        "# 모델 사용\n",
        "summary_text_ids = model.generate(\n",
        "    input_ids=input_ids,                        # 입력으로 받는 데이터의 토큰\n",
        "    bos_token_id=model.config.bos_token_id,     # Begin of String 문장이나 문단 등의 시작을 나타내는 특수한 토큰 ID\n",
        "    eos_token_id=model.config.eos_token_id,     # End of String 문장이나 문단 등의 종료 나타내는 특수한 토큰 ID\n",
        "    length_penalty=2.0,                         # 생성된 텍스트의 길이에 대한 패널티. 1< 더 긴 문장을 생성하려는 경향, 1 > 더 짧은 문장을 선호\n",
        "    max_length=50,                              # 생성될 수 있는 최대 텍스트 길이(토큰 수)\n",
        "    min_length=30,\n",
        "    num_beams=4                                 # 빔 서치는 텍스트 생성 시 여러 가능성 있는 출력 중 최적의 결과를 찾기 위해 사용되는 기법. 이 클수록 더 많은 가능성을 탐색\n",
        ")"
      ],
      "metadata": {
        "id": "xHwEpcU_og_-"
      },
      "execution_count": 7,
      "outputs": []
    },
    {
      "cell_type": "code",
      "source": [
        "# 요약된 문장 토큰\n",
        "summary_text_ids"
      ],
      "metadata": {
        "id": "pCX2bBbrsjmD",
        "colab": {
          "base_uri": "https://localhost:8080/",
          "height": 0
        },
        "outputId": "d615b9ab-3d87-4dfd-e7c7-c2a48c3f8b38"
      },
      "execution_count": 8,
      "outputs": [
        {
          "output_type": "execute_result",
          "data": {
            "text/plain": [
              "tensor([[    2,     0, 23436, 14454, 25623, 27091, 21067, 23895, 16442, 14453,\n",
              "         15342,  9866, 14770, 14134, 15665, 14896, 16553, 14082, 14173, 19743,\n",
              "         14297, 14454, 27091, 21067, 23895, 16442, 14453, 15342,  9866, 14770,\n",
              "         14134, 15665, 14896, 16553, 14082, 14173, 19743,  9102, 14770, 12124,\n",
              "         27091, 21067, 23895, 16442, 14453, 15342,  9866, 14770, 14134,     2]])"
            ]
          },
          "metadata": {},
          "execution_count": 8
        }
      ]
    },
    {
      "cell_type": "markdown",
      "source": [
        "* ④ 결과 후처리\n"
      ],
      "metadata": {
        "id": "3X64nXH0pDfB"
      }
    },
    {
      "cell_type": "code",
      "source": [
        "# 출력 토큰을 문장으로 변환(Decoding)\n",
        "print(tokenizer.decode(summary_text_ids[0], skip_special_tokens=True))"
      ],
      "metadata": {
        "id": "c1L1XH1eSY7u",
        "colab": {
          "base_uri": "https://localhost:8080/",
          "height": 0
        },
        "outputId": "b6c3f8f9-cb2c-491c-88d5-494b94b6e160"
      },
      "execution_count": 9,
      "outputs": [
        {
          "output_type": "stream",
          "name": "stdout",
          "text": [
            "국내 국내 전반적인 경기침체로 상가 건물주의 수익도 전국적인 감소세를 보이고 있는 것으로 나타났으며 국내 경기침체로 상가 건물주의 수익도 전국적인 감소세를 보이고 있는 것으로 나타났고 전국적 경기침체로 상가 건물주의 수익도 전국적인\n"
          ]
        }
      ]
    },
    {
      "cell_type": "markdown",
      "source": [
        "# 3.토크나이즈\n",
        "\n",
        "* 텍스트에서 토큰으로"
      ],
      "metadata": {
        "id": "p7ANVtTSs9xt"
      }
    },
    {
      "cell_type": "markdown",
      "metadata": {
        "id": "kFBTAuYm-APW"
      },
      "source": [
        "### (1) 문자 토큰"
      ]
    },
    {
      "cell_type": "markdown",
      "source": [
        "* 텍스트 데이터셋"
      ],
      "metadata": {
        "id": "i0hJSUo5KDOS"
      }
    },
    {
      "cell_type": "code",
      "source": [
        "text_data = [\"Tokenizers are one of the core components of the NLP.\",\n",
        "        \"They serve one purpose: to translate text into data that can be processed by the model.\",\n",
        "        \"Models can only process numbers, so tokenizers need to convert our text inputs to numerical data.\",\n",
        "        \"In this section, we will explore exactly what happens in the tokenization pipeline.\",\n",
        "        \"However, models can only process numbers, so we need to find a way to convert the raw text to numbers.\",\n",
        "        \"That’s what the tokenizers do, and there are a lot of ways to go about this.\",\n",
        "        \"The first type of tokenizer that comes to mind is word-based.\",\n",
        "        \"It’s generally very easy to set up and use with only a few rules, and it often yields decent results.\",\n",
        "        \"Character-based tokenizers split the text into characters, rather than words.\",\n",
        "        \"The vocabulary is much smaller.\",\n",
        "        \"There are much fewer out-of-vocabulary (unknown) tokens, since every word can be built from characters.\"]"
      ],
      "metadata": {
        "id": "FUJdsy6LKCBi"
      },
      "execution_count": 10,
      "outputs": []
    },
    {
      "cell_type": "markdown",
      "source": [
        "* 어휘사전 만들기 : 문자별로 생성"
      ],
      "metadata": {
        "id": "9L1WY7KSK8lE"
      }
    },
    {
      "cell_type": "code",
      "execution_count": 11,
      "metadata": {
        "id": "dvz9bgUe-APW",
        "colab": {
          "base_uri": "https://localhost:8080/",
          "height": 0
        },
        "outputId": "d923a109-87a5-4fe4-fb78-02c8c421c4d6"
      },
      "outputs": [
        {
          "output_type": "stream",
          "name": "stdout",
          "text": [
            "['T', 'o', 'k', 'e', 'n', 'i', 'z', 'e', 'r', 's', ' ', 'a', 'r', 'e', ' ', 'o', 'n', 'e', ' ', 'o']\n",
            "{' ': 0, '(': 1, ')': 2, ',': 3, '-': 4, '.': 5, ':': 6, 'C': 7, 'H': 8, 'I': 9, 'L': 10, 'M': 11, 'N': 12, 'P': 13, 'T': 14, 'a': 15, 'b': 16, 'c': 17, 'd': 18, 'e': 19, 'f': 20, 'g': 21, 'h': 22, 'i': 23, 'k': 24, 'l': 25, 'm': 26, 'n': 27, 'o': 28, 'p': 29, 'r': 30, 's': 31, 't': 32, 'u': 33, 'v': 34, 'w': 35, 'x': 36, 'y': 37, 'z': 38, '’': 39}\n",
            "vocab size :  40\n"
          ]
        }
      ],
      "source": [
        "# 문자별로 쪼개기\n",
        "tokenized_text = []\n",
        "for i in range(len(text_data)):\n",
        "    tokenized_text = tokenized_text + list(text_data[i])\n",
        "\n",
        "print(tokenized_text[:20])\n",
        "\n",
        "# 각 문자에 인덱스(id) 부여하기\n",
        "token2idx = {ch: idx for idx, ch in enumerate(sorted(set(tokenized_text)))}\n",
        "print(token2idx)\n",
        "print('vocab size : ',len(token2idx))"
      ]
    },
    {
      "cell_type": "markdown",
      "metadata": {
        "id": "sKY7ySDB2hi7"
      },
      "source": [
        "* 첫번째 문장을 id로 변환"
      ]
    },
    {
      "cell_type": "code",
      "execution_count": 12,
      "metadata": {
        "id": "pHHGsr_M-APW",
        "colab": {
          "base_uri": "https://localhost:8080/",
          "height": 0
        },
        "outputId": "b0e45cb2-5b7b-42f8-82b8-3eb5aaea55f8"
      },
      "outputs": [
        {
          "output_type": "stream",
          "name": "stdout",
          "text": [
            "Input :  Tokenizers are one of the core components of the NLP.\n",
            "['T', 'o', 'k', 'e', 'n', 'i', 'z', 'e', 'r', 's', ' ', 'a', 'r', 'e', ' ', 'o', 'n', 'e', ' ', 'o', 'f', ' ', 't', 'h', 'e', ' ', 'c', 'o', 'r', 'e', ' ', 'c', 'o', 'm', 'p', 'o', 'n', 'e', 'n', 't', 's', ' ', 'o', 'f', ' ', 't', 'h', 'e', ' ', 'N', 'L', 'P', '.']\n",
            "[14, 28, 24, 19, 27, 23, 38, 19, 30, 31, 0, 15, 30, 19, 0, 28, 27, 19, 0, 28, 20, 0, 32, 22, 19, 0, 17, 28, 30, 19, 0, 17, 28, 26, 29, 28, 27, 19, 27, 32, 31, 0, 28, 20, 0, 32, 22, 19, 0, 12, 10, 13, 5]\n"
          ]
        }
      ],
      "source": [
        "input_text = text_data[0]\n",
        "print('Input : ', input_text)\n",
        "print(list(text_data[0]))\n",
        "\n",
        "input_ids = [token2idx[token] for token in list(text_data[0])]\n",
        "print(input_ids)"
      ]
    },
    {
      "cell_type": "markdown",
      "metadata": {
        "id": "U4q7eJdF-APX"
      },
      "source": [
        "### (2) 단어 토큰화"
      ]
    },
    {
      "cell_type": "markdown",
      "source": [
        "* 어휘사전 만들기 : 문자별로 생성"
      ],
      "metadata": {
        "id": "mPN4M5UwMgqz"
      }
    },
    {
      "cell_type": "code",
      "execution_count": 13,
      "metadata": {
        "id": "xkghPDLvMgrG",
        "colab": {
          "base_uri": "https://localhost:8080/",
          "height": 0
        },
        "outputId": "c7c712df-25d9-43e7-e877-1b1a881c9823"
      },
      "outputs": [
        {
          "output_type": "stream",
          "name": "stdout",
          "text": [
            "['Tokenizers', 'are']\n",
            "{'(unknown)': 0, 'Character-based': 1, 'However,': 2, 'In': 3, 'It’s': 4, 'Models': 5, 'NLP.': 6, 'That’s': 7, 'The': 8, 'There': 9, 'They': 10, 'Tokenizers': 11, 'a': 12, 'about': 13, 'and': 14, 'are': 15, 'be': 16, 'built': 17, 'by': 18, 'can': 19, 'characters,': 20, 'characters.': 21, 'comes': 22, 'components': 23, 'convert': 24, 'core': 25, 'data': 26, 'data.': 27, 'decent': 28, 'do,': 29, 'easy': 30, 'every': 31, 'exactly': 32, 'explore': 33, 'few': 34, 'fewer': 35, 'find': 36, 'first': 37, 'from': 38, 'generally': 39, 'go': 40, 'happens': 41, 'in': 42, 'inputs': 43, 'into': 44, 'is': 45, 'it': 46, 'lot': 47, 'mind': 48, 'model.': 49, 'models': 50, 'much': 51, 'need': 52, 'numbers,': 53, 'numbers.': 54, 'numerical': 55, 'of': 56, 'often': 57, 'one': 58, 'only': 59, 'our': 60, 'out-of-vocabulary': 61, 'pipeline.': 62, 'process': 63, 'processed': 64, 'purpose:': 65, 'rather': 66, 'raw': 67, 'results.': 68, 'rules,': 69, 'section,': 70, 'serve': 71, 'set': 72, 'since': 73, 'smaller.': 74, 'so': 75, 'split': 76, 'text': 77, 'than': 78, 'that': 79, 'the': 80, 'there': 81, 'this': 82, 'this.': 83, 'to': 84, 'tokenization': 85, 'tokenizer': 86, 'tokenizers': 87, 'tokens,': 88, 'translate': 89, 'type': 90, 'up': 91, 'use': 92, 'very': 93, 'vocabulary': 94, 'way': 95, 'ways': 96, 'we': 97, 'what': 98, 'will': 99, 'with': 100, 'word': 101, 'word-based.': 102, 'words.': 103, 'yields': 104}\n",
            "vocab size :  105\n"
          ]
        }
      ],
      "source": [
        "# 문자별로 쪼개기\n",
        "tokenized_text = []\n",
        "for i in range(len(text_data)):\n",
        "    tokenized_text = tokenized_text + text_data[i].split()\n",
        "\n",
        "print(tokenized_text[:2])\n",
        "\n",
        "# 각 문자에 인덱스(id) 부여하기\n",
        "token2idx = {ch: idx for idx, ch in enumerate(sorted(set(tokenized_text)))}\n",
        "print(token2idx)\n",
        "print('vocab size : ',len(token2idx))"
      ]
    },
    {
      "cell_type": "markdown",
      "metadata": {
        "id": "J3bRj4aXMgrG"
      },
      "source": [
        "* 첫번째 문장을 id로 변환"
      ]
    },
    {
      "cell_type": "code",
      "execution_count": 14,
      "metadata": {
        "id": "YRIfG3_NMgrG",
        "colab": {
          "base_uri": "https://localhost:8080/",
          "height": 0
        },
        "outputId": "40e1d7ee-469b-460e-d4d1-a40537df2d31"
      },
      "outputs": [
        {
          "output_type": "stream",
          "name": "stdout",
          "text": [
            "Input :  Tokenizers are one of the core components of the NLP.\n",
            "['There', 'are', 'much', 'fewer', 'out-of-vocabulary', '(unknown)', 'tokens,', 'since', 'every', 'word', 'can', 'be', 'built', 'from', 'characters.']\n",
            "[9, 15, 51, 35, 61, 0, 88, 73, 31, 101, 19, 16, 17, 38, 21]\n"
          ]
        }
      ],
      "source": [
        "input_text = text_data[0]\n",
        "print('Input : ', input_text)\n",
        "print(text_data[i].split())\n",
        "\n",
        "input_ids = [token2idx[token] for token in text_data[i].split()]\n",
        "print(input_ids)"
      ]
    },
    {
      "cell_type": "markdown",
      "metadata": {
        "id": "Vd1XFpVg-APY"
      },
      "source": [
        "### (3) 부분단어(Subwords) 토큰화\n",
        "\n",
        "* 문자토큰과 단어토큰의 결합\n",
        "* BERT 에서 사용되는 토크나이즈 WordPiece\n",
        "* tokenization ==> token, #ization"
      ]
    },
    {
      "cell_type": "code",
      "execution_count": 15,
      "metadata": {
        "id": "sNhQnUFR-APY",
        "colab": {
          "base_uri": "https://localhost:8080/",
          "height": 145,
          "referenced_widgets": [
            "f3e81dc3e51f43d7a5f4727193493c37",
            "0ba2b7478ca1424fbba4fde1823eab20",
            "14dae9176d4046489f6f0c4076146ce8",
            "5663a2df9f5149cfab6d6e4058dd9ac4",
            "a0179cad3f74485c92a8ff912a246a57",
            "c8f85b4e50f545adab883d8bf2f377a4",
            "b2743c9d5f5641d28b5ad61a63953cf5",
            "eb729ce0e1ef4fb18bd49bc672e45770",
            "6425fbe10c8d4e50aabe5b644c111b47",
            "4a5709894aaf42a8bd19e4734bf82f4f",
            "4aa601be431b439cb65a36d61a672a12",
            "1e27a2509ced4222996fcbb34c10701b",
            "b3243c364df54e84a98d4960cb4b7072",
            "9485e5366b754a0c997c56c461e9c16a",
            "b17b1905a885415b91d7f65e1e1acb07",
            "9812ca4571114ddeabc081f622cffd41",
            "19df61547bfa44328e650cb3dc539d1d",
            "d58becee63794e229f7edde37eb1b425",
            "c5542ca808704dd89799b6814b18bd86",
            "90785d8aa45a4372b6839fb3c637e718",
            "a5a877e0dcd84e71941c2e0549013f8e",
            "2a9a3ed78fee4d8abc92bc5a5f7b12af",
            "80e7eb7ca79f4a20ad361ff1017cab42",
            "94f9f7f2c8fd4964bcc0f134d374d026",
            "3012f9867aaa4d8fb3b242776c9f58ba",
            "c5b9b2d6e39741369668076eebcb7765",
            "39aeba85f7e441398b9928c26d01ae5d",
            "f9570949bc3c491bbab1b5bae0760ea6",
            "655f5d08468e4f1dbfa88f99b8ae0b18",
            "e1e377227c4d40b39b1efb9d67492dcf",
            "67415594a6a942ebb6da44538e0e7e11",
            "a6ab039c86c749d092378aa96a3caac5",
            "b9a5e77df25447aea58424cb39a10bc9",
            "79e69646eb334971ae5d3ee77f7e1e05",
            "d5afa3fe85ce4e39938961ca9fd35aa7",
            "bc672254696d4b1cb4376b3a6f4a58bb",
            "896dd4f3b51741cb8ecebf1e15af1905",
            "6173925f8a304a7281b22633848b13d4",
            "2ea89b276777438b90151af7b07ad20f",
            "34718f95bf904d74a11b2f3cd37c5558",
            "b51193b0accf4fdc8a4766dc243ac910",
            "44d08c99939c445680e53abfd520051c",
            "c0c060b699c644509d054139b896a3a7",
            "5201b224fb7f4631b65abd8e8342939e"
          ]
        },
        "outputId": "b4330c11-fc2f-42dd-c9d5-abc516b8ddbd"
      },
      "outputs": [
        {
          "output_type": "display_data",
          "data": {
            "text/plain": [
              "tokenizer_config.json:   0%|          | 0.00/28.0 [00:00<?, ?B/s]"
            ],
            "application/vnd.jupyter.widget-view+json": {
              "version_major": 2,
              "version_minor": 0,
              "model_id": "f3e81dc3e51f43d7a5f4727193493c37"
            }
          },
          "metadata": {}
        },
        {
          "output_type": "display_data",
          "data": {
            "text/plain": [
              "config.json:   0%|          | 0.00/483 [00:00<?, ?B/s]"
            ],
            "application/vnd.jupyter.widget-view+json": {
              "version_major": 2,
              "version_minor": 0,
              "model_id": "1e27a2509ced4222996fcbb34c10701b"
            }
          },
          "metadata": {}
        },
        {
          "output_type": "display_data",
          "data": {
            "text/plain": [
              "vocab.txt:   0%|          | 0.00/232k [00:00<?, ?B/s]"
            ],
            "application/vnd.jupyter.widget-view+json": {
              "version_major": 2,
              "version_minor": 0,
              "model_id": "80e7eb7ca79f4a20ad361ff1017cab42"
            }
          },
          "metadata": {}
        },
        {
          "output_type": "display_data",
          "data": {
            "text/plain": [
              "tokenizer.json:   0%|          | 0.00/466k [00:00<?, ?B/s]"
            ],
            "application/vnd.jupyter.widget-view+json": {
              "version_major": 2,
              "version_minor": 0,
              "model_id": "79e69646eb334971ae5d3ee77f7e1e05"
            }
          },
          "metadata": {}
        }
      ],
      "source": [
        "from transformers import AutoTokenizer\n",
        "\n",
        "model_ckpt = \"distilbert-base-uncased\"\n",
        "tokenizer = AutoTokenizer.from_pretrained(model_ckpt)"
      ]
    },
    {
      "cell_type": "code",
      "execution_count": 16,
      "metadata": {
        "id": "wSNf9VM0-APY",
        "colab": {
          "base_uri": "https://localhost:8080/",
          "height": 0
        },
        "outputId": "84d58605-01fe-42bb-c086-714d851cc0b5"
      },
      "outputs": [
        {
          "output_type": "stream",
          "name": "stdout",
          "text": [
            "Tokenizers are one of the core components of the NLP.\n",
            "{'input_ids': [101, 19204, 17629, 2015, 2024, 2028, 1997, 1996, 4563, 6177, 1997, 1996, 17953, 2361, 1012, 102], 'attention_mask': [1, 1, 1, 1, 1, 1, 1, 1, 1, 1, 1, 1, 1, 1, 1, 1]}\n"
          ]
        }
      ],
      "source": [
        "text = text_data[0]\n",
        "encoded_text = tokenizer(text)\n",
        "print(text)\n",
        "print(encoded_text)"
      ]
    },
    {
      "cell_type": "markdown",
      "metadata": {
        "id": "rLkahGwI495U"
      },
      "source": [
        "* input_ids : 각 토큰의 고유 정수값\n",
        "* attention_mask :"
      ]
    },
    {
      "cell_type": "code",
      "execution_count": 17,
      "metadata": {
        "id": "midRmo5M-APY",
        "colab": {
          "base_uri": "https://localhost:8080/",
          "height": 0
        },
        "outputId": "3a4e36c4-b3da-47a4-8e27-685fa9786fae"
      },
      "outputs": [
        {
          "output_type": "stream",
          "name": "stdout",
          "text": [
            "['[CLS]', 'token', '##izer', '##s', 'are', 'one', 'of', 'the', 'core', 'components', 'of', 'the', 'nl', '##p', '.', '[SEP]']\n"
          ]
        }
      ],
      "source": [
        "# id를 다시 토큰으로 변\n",
        "tokens = tokenizer.convert_ids_to_tokens(encoded_text.input_ids)\n",
        "print(tokens)"
      ]
    },
    {
      "cell_type": "code",
      "execution_count": 18,
      "metadata": {
        "id": "oxVQRhFS-APY",
        "colab": {
          "base_uri": "https://localhost:8080/",
          "height": 0
        },
        "outputId": "98372e78-26b7-445b-c660-fbf8969324ca"
      },
      "outputs": [
        {
          "output_type": "stream",
          "name": "stdout",
          "text": [
            "[CLS] tokenizers are one of the core components of the nlp. [SEP]\n"
          ]
        }
      ],
      "source": [
        "print(tokenizer.convert_tokens_to_string(tokens))"
      ]
    },
    {
      "cell_type": "markdown",
      "metadata": {
        "id": "3INb2jh86mTl"
      },
      "source": [
        "* 어휘 사전 크기"
      ]
    },
    {
      "cell_type": "code",
      "execution_count": 19,
      "metadata": {
        "id": "PGsekj3M-APY",
        "colab": {
          "base_uri": "https://localhost:8080/",
          "height": 0
        },
        "outputId": "734e0fef-d31e-49a0-a619-0644879d26c8"
      },
      "outputs": [
        {
          "output_type": "execute_result",
          "data": {
            "text/plain": [
              "30522"
            ]
          },
          "metadata": {},
          "execution_count": 19
        }
      ],
      "source": [
        "tokenizer.vocab_size"
      ]
    },
    {
      "cell_type": "markdown",
      "metadata": {
        "id": "nRAOn4sa6pNa"
      },
      "source": [
        "* 모델의 최대 문맥 크기"
      ]
    },
    {
      "cell_type": "code",
      "execution_count": 20,
      "metadata": {
        "id": "n6tZX0Hx-APY",
        "colab": {
          "base_uri": "https://localhost:8080/",
          "height": 0
        },
        "outputId": "4dbe49d9-f238-4b11-e405-71ea0f6378be"
      },
      "outputs": [
        {
          "output_type": "execute_result",
          "data": {
            "text/plain": [
              "512"
            ]
          },
          "metadata": {},
          "execution_count": 20
        }
      ],
      "source": [
        "tokenizer.model_max_length"
      ]
    },
    {
      "cell_type": "markdown",
      "metadata": {
        "id": "Dv3HII236t-A"
      },
      "source": [
        "* 모델 입력을 위한 필드 이름"
      ]
    },
    {
      "cell_type": "code",
      "execution_count": 21,
      "metadata": {
        "id": "VhERdeo5-APZ",
        "colab": {
          "base_uri": "https://localhost:8080/",
          "height": 0
        },
        "outputId": "3cc6083d-b5fa-469d-fd74-4514ab90b0a3"
      },
      "outputs": [
        {
          "output_type": "execute_result",
          "data": {
            "text/plain": [
              "['input_ids', 'attention_mask']"
            ]
          },
          "metadata": {},
          "execution_count": 21
        }
      ],
      "source": [
        "tokenizer.model_input_names"
      ]
    },
    {
      "cell_type": "markdown",
      "source": [
        "# 4.임베딩\n",
        "\n",
        "* 자주 사용되는 Word2Vec 임베딩 벡터를 사용해 봅시다."
      ],
      "metadata": {
        "id": "plIjxA_o9Hy7"
      }
    },
    {
      "cell_type": "code",
      "source": [
        "!pip install gensim\n",
        "from gensim.models import Word2Vec"
      ],
      "metadata": {
        "id": "Gx53STlZ9KDh",
        "colab": {
          "base_uri": "https://localhost:8080/",
          "height": 0
        },
        "outputId": "ec388f76-e4a3-4ed2-e139-7b4ccc4ac384"
      },
      "execution_count": 22,
      "outputs": [
        {
          "output_type": "stream",
          "name": "stdout",
          "text": [
            "Requirement already satisfied: gensim in /usr/local/lib/python3.10/dist-packages (4.3.2)\n",
            "Requirement already satisfied: numpy>=1.18.5 in /usr/local/lib/python3.10/dist-packages (from gensim) (1.25.2)\n",
            "Requirement already satisfied: scipy>=1.7.0 in /usr/local/lib/python3.10/dist-packages (from gensim) (1.11.4)\n",
            "Requirement already satisfied: smart-open>=1.8.1 in /usr/local/lib/python3.10/dist-packages (from gensim) (6.4.0)\n"
          ]
        }
      ]
    },
    {
      "cell_type": "markdown",
      "source": [
        "* 각 문장들을 토크나이즈 하기"
      ],
      "metadata": {
        "id": "j50oy2YYRbfC"
      }
    },
    {
      "cell_type": "code",
      "source": [
        "token_sent = [tokenizer.convert_ids_to_tokens(tokenizer(text).input_ids) for text in text_data]\n",
        "token_sent[0]"
      ],
      "metadata": {
        "id": "C_v0m9AdPK_m",
        "colab": {
          "base_uri": "https://localhost:8080/",
          "height": 0
        },
        "outputId": "6ccfd6bd-1ac5-4259-a748-842c3c1eeae7"
      },
      "execution_count": 23,
      "outputs": [
        {
          "output_type": "execute_result",
          "data": {
            "text/plain": [
              "['[CLS]',\n",
              " 'token',\n",
              " '##izer',\n",
              " '##s',\n",
              " 'are',\n",
              " 'one',\n",
              " 'of',\n",
              " 'the',\n",
              " 'core',\n",
              " 'components',\n",
              " 'of',\n",
              " 'the',\n",
              " 'nl',\n",
              " '##p',\n",
              " '.',\n",
              " '[SEP]']"
            ]
          },
          "metadata": {},
          "execution_count": 23
        }
      ]
    },
    {
      "cell_type": "code",
      "source": [
        "# Word2Vec 임베딩 생성\n",
        "model = Word2Vec(sentences=token_sent, vector_size=30, window=5, min_count=1, workers=4)\n",
        "\n",
        "# 토큰 'core'의 벡터 확인\n",
        "token = 'components'\n",
        "vector = model.wv[token]\n",
        "\n",
        "print('index :', tokenizer([token]))\n",
        "print('embedding vector : \\n', vector.round(4))"
      ],
      "metadata": {
        "id": "FHkHjlmeEtYB",
        "colab": {
          "base_uri": "https://localhost:8080/",
          "height": 0
        },
        "outputId": "c41ba50d-c150-427a-cc71-2111f5b46cc1"
      },
      "execution_count": 24,
      "outputs": [
        {
          "output_type": "stream",
          "name": "stdout",
          "text": [
            "index : {'input_ids': [[101, 6177, 102]], 'attention_mask': [[1, 1, 1]]}\n",
            "embedding vector : \n",
            " [ 0.0286 -0.0308  0.0243  0.0179  0.0044 -0.0173 -0.0139 -0.0112  0.0053\n",
            "  0.0053  0.0247  0.0332  0.0296 -0.0134  0.0321 -0.0021  0.0163  0.0085\n",
            " -0.0021  0.0123 -0.0177 -0.0193 -0.0254  0.0065  0.0218  0.003   0.0043\n",
            "  0.0106  0.0271 -0.0257]\n"
          ]
        }
      ]
    },
    {
      "cell_type": "code",
      "source": [],
      "metadata": {
        "id": "eegCAA6SUuFw"
      },
      "execution_count": null,
      "outputs": []
    }
  ]
}