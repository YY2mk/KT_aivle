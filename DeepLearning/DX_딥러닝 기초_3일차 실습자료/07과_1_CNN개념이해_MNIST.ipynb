{
  "nbformat": 4,
  "nbformat_minor": 0,
  "metadata": {
    "colab": {
      "provenance": [],
      "gpuType": "T4",
      "include_colab_link": true
    },
    "kernelspec": {
      "name": "python3",
      "display_name": "Python 3"
    },
    "accelerator": "GPU"
  },
  "cells": [
    {
      "cell_type": "markdown",
      "metadata": {
        "id": "view-in-github",
        "colab_type": "text"
      },
      "source": [
        "<a href=\"https://colab.research.google.com/github/YY2mk/KT_aivle/blob/master/DeepLearning/DX_%EB%94%A5%EB%9F%AC%EB%8B%9D%20%EA%B8%B0%EC%B4%88_3%EC%9D%BC%EC%B0%A8%20%EC%8B%A4%EC%8A%B5%EC%9E%90%EB%A3%8C/07%EA%B3%BC_1_CNN%EA%B0%9C%EB%85%90%EC%9D%B4%ED%95%B4_MNIST.ipynb\" target=\"_parent\"><img src=\"https://colab.research.google.com/assets/colab-badge.svg\" alt=\"Open In Colab\"/></a>"
      ]
    },
    {
      "cell_type": "markdown",
      "metadata": {
        "id": "P2n_mLirFD6s"
      },
      "source": [
        "#  CNN개념이해_MNIST\n",
        "\n",
        "* 본 파일은 GPU 런타임으로 연결됩니다.\n",
        "* 경우에 따라서는 GPU 연결이 원할하지 않을 수도 있습니다."
      ]
    },
    {
      "cell_type": "markdown",
      "metadata": {
        "id": "gIN5d51gtker"
      },
      "source": [
        "## 1.환경준비"
      ]
    },
    {
      "cell_type": "markdown",
      "source": [
        "### (1) 라이브러리 로딩"
      ],
      "metadata": {
        "id": "98K82DAxvX6I"
      }
    },
    {
      "cell_type": "code",
      "metadata": {
        "id": "qUG9ltiWCJXr"
      },
      "source": [
        "import pandas as pd\n",
        "import numpy as np\n",
        "import matplotlib.pyplot as plt\n",
        "import seaborn as sns\n",
        "import random as rd\n",
        "import cv2, os  # cv2 : OpenCV # 이미지 처리 라이브러리\n",
        "\n",
        "from sklearn.model_selection import train_test_split\n",
        "from sklearn.metrics import *\n",
        "\n",
        "from keras.models import Sequential\n",
        "from keras.layers import Dense, Flatten, Conv2D, MaxPooling2D # CNN\n",
        "from keras.backend import clear_session\n",
        "from keras.optimizers import Adam\n",
        "from keras.datasets import mnist, fashion_mnist"
      ],
      "execution_count": 6,
      "outputs": []
    },
    {
      "cell_type": "markdown",
      "source": [
        "* 함수 만들기"
      ],
      "metadata": {
        "id": "_h70-6MP7wtO"
      }
    },
    {
      "cell_type": "code",
      "source": [
        "# 학습곡선 함수\n",
        "def dl_history_plot(history):\n",
        "    plt.figure(figsize=(10,6))\n",
        "    plt.plot(history['loss'], label='train_err', marker = ',')\n",
        "    plt.plot(history['val_loss'], label='val_err', marker = ',')\n",
        "\n",
        "    plt.ylabel('Loss')\n",
        "    plt.xlabel('Epoch')\n",
        "    plt.legend()\n",
        "    plt.grid()\n",
        "    plt.show()"
      ],
      "metadata": {
        "id": "JWswaopv7yBI"
      },
      "execution_count": 7,
      "outputs": []
    },
    {
      "cell_type": "markdown",
      "source": [
        "### (2) 데이터로딩"
      ],
      "metadata": {
        "id": "6wuqykgvviCc"
      }
    },
    {
      "cell_type": "markdown",
      "metadata": {
        "id": "hg2CFutJcbJU"
      },
      "source": [
        "![](https://wikidocs.net/images/page/60324/mnist.png)"
      ]
    },
    {
      "cell_type": "code",
      "metadata": {
        "id": "uHH4W8B0BYJp",
        "colab": {
          "base_uri": "https://localhost:8080/"
        },
        "outputId": "808dad5e-b89f-4557-9a41-8752c65df55f"
      },
      "source": [
        "# 케라스 데이터셋으로 부터 mnist 불러오기\n",
        "(x_train, y_train), (x_val, y_val) = mnist.load_data()"
      ],
      "execution_count": 8,
      "outputs": [
        {
          "output_type": "stream",
          "name": "stdout",
          "text": [
            "Downloading data from https://storage.googleapis.com/tensorflow/tf-keras-datasets/mnist.npz\n",
            "11490434/11490434 [==============================] - 0s 0us/step\n"
          ]
        }
      ]
    },
    {
      "cell_type": "code",
      "metadata": {
        "id": "e_Q8IByAcBs6",
        "colab": {
          "base_uri": "https://localhost:8080/"
        },
        "outputId": "2f35c042-8987-49cf-d9e6-3f9be1ec8e64"
      },
      "source": [
        "x_train.shape, y_train.shape"
      ],
      "execution_count": 4,
      "outputs": [
        {
          "output_type": "execute_result",
          "data": {
            "text/plain": [
              "((60000, 28, 28), (60000,))"
            ]
          },
          "metadata": {},
          "execution_count": 4
        }
      ]
    },
    {
      "cell_type": "code",
      "metadata": {
        "id": "11xRsh44b_X5"
      },
      "source": [
        "class_names = ['0','1','2','3','4','5','6','7','8','9']"
      ],
      "execution_count": 5,
      "outputs": []
    },
    {
      "cell_type": "markdown",
      "metadata": {
        "id": "fjFX5Xkfe-XU"
      },
      "source": [
        "## 2 데이터 살펴보기"
      ]
    },
    {
      "cell_type": "markdown",
      "source": [
        "* 이미지 확인하기"
      ],
      "metadata": {
        "id": "3DnM4iL07WEc"
      }
    },
    {
      "cell_type": "code",
      "metadata": {
        "id": "CWXISfwp7vK4",
        "colab": {
          "base_uri": "https://localhost:8080/",
          "height": 430
        },
        "outputId": "ea19c99b-0c16-4e51-9cac-86a46b3a39d4"
      },
      "source": [
        "# 아래 숫자를 바꿔가며 화면에 그려 봅시다.\n",
        "n = 1\n",
        "\n",
        "plt.imshow(x_train[n], cmap=plt.cm.binary)\n",
        "plt.colorbar()\n",
        "plt.show()"
      ],
      "execution_count": 6,
      "outputs": [
        {
          "output_type": "display_data",
          "data": {
            "text/plain": [
              "<Figure size 640x480 with 2 Axes>"
            ],
            "image/png": "[encoded data removed]"
          },
          "metadata": {}
        }
      ]
    },
    {
      "cell_type": "markdown",
      "source": [
        "* 이미지를 픽셀 값(배열 값)으로 확인하기"
      ],
      "metadata": {
        "id": "R9ilTelX7Xns"
      }
    },
    {
      "cell_type": "code",
      "source": [
        "# numpy array 화면 출력시 문자열 길이 조정\n",
        "np.set_printoptions(linewidth=500)\n",
        "x_train[n]"
      ],
      "metadata": {
        "id": "Nfz6KwDC5eUZ",
        "colab": {
          "base_uri": "https://localhost:8080/",
          "height": 67
        },
        "outputId": "868aa21a-064b-4006-8ddb-7a1be93c161b"
      },
      "execution_count": 7,
      "outputs": [
        {
          "output_type": "execute_result",
          "data": {
            "text/plain": [
              "array([[  0,   0,   0,   0,   0,   0,   0,   0,   0,   0,   0,   0,   0,   0,   0,   0,   0,   0,   0,   0,   0,   0,   0,   0,   0,   0,   0,   0],\n",
              "       [  0,   0,   0,   0,   0,   0,   0,   0,   0,   0,   0,   0,   0,   0,   0,   0,   0,   0,   0,   0,   0,   0,   0,   0,   0,   0,   0,   0],\n",
              "       [  0,   0,   0,   0,   0,   0,   0,   0,   0,   0,   0,   0,   0,   0,   0,   0,   0,   0,   0,   0,   0,   0,   0,   0,   0,   0,   0,   0],\n",
              "       [  0,   0,   0,   0,   0,   0,   0,   0,   0,   0,   0,   0,   0,   0,   0,   0,   0,   0,   0,   0,   0,   0,   0,   0,   0,   0,   0,   0],\n",
              "       [  0,   0,   0,   0,   0,   0,   0,   0,   0,   0,   0,   0,   0,   0,   0,  51, 159, 253, 159,  50,   0,   0,   0,   0,   0,   0,   0,   0],\n",
              "       [  0,   0,   0,   0,   0,   0,   0,   0,   0,   0,   0,   0,   0,   0,  48, 238, 252, 252, 252, 237,   0,   0,   0,   0,   0,   0,   0,   0],\n",
              "       [  0,   0,   0,   0,   0,   0,   0,   0,   0,   0,   0,   0,   0,  54, 227, 253, 252, 239, 233, 252,  57,   6,   0,   0,   0,   0,   0,   0],\n",
              "       [  0,   0,   0,   0,   0,   0,   0,   0,   0,   0,   0,  10,  60, 224, 252, 253, 252, 202,  84, 252, 253, 122,   0,   0,   0,   0,   0,   0],\n",
              "       [  0,   0,   0,   0,   0,   0,   0,   0,   0,   0,   0, 163, 252, 252, 252, 253, 252, 252,  96, 189, 253, 167,   0,   0,   0,   0,   0,   0],\n",
              "       [  0,   0,   0,   0,   0,   0,   0,   0,   0,   0,  51, 238, 253, 253, 190, 114, 253, 228,  47,  79, 255, 168,   0,   0,   0,   0,   0,   0],\n",
              "       [  0,   0,   0,   0,   0,   0,   0,   0,   0,  48, 238, 252, 252, 179,  12,  75, 121,  21,   0,   0, 253, 243,  50,   0,   0,   0,   0,   0],\n",
              "       [  0,   0,   0,   0,   0,   0,   0,   0,  38, 165, 253, 233, 208,  84,   0,   0,   0,   0,   0,   0, 253, 252, 165,   0,   0,   0,   0,   0],\n",
              "       [  0,   0,   0,   0,   0,   0,   0,   7, 178, 252, 240,  71,  19,  28,   0,   0,   0,   0,   0,   0, 253, 252, 195,   0,   0,   0,   0,   0],\n",
              "       [  0,   0,   0,   0,   0,   0,   0,  57, 252, 252,  63,   0,   0,   0,   0,   0,   0,   0,   0,   0, 253, 252, 195,   0,   0,   0,   0,   0],\n",
              "       [  0,   0,   0,   0,   0,   0,   0, 198, 253, 190,   0,   0,   0,   0,   0,   0,   0,   0,   0,   0, 255, 253, 196,   0,   0,   0,   0,   0],\n",
              "       [  0,   0,   0,   0,   0,   0,  76, 246, 252, 112,   0,   0,   0,   0,   0,   0,   0,   0,   0,   0, 253, 252, 148,   0,   0,   0,   0,   0],\n",
              "       [  0,   0,   0,   0,   0,   0,  85, 252, 230,  25,   0,   0,   0,   0,   0,   0,   0,   0,   7, 135, 253, 186,  12,   0,   0,   0,   0,   0],\n",
              "       [  0,   0,   0,   0,   0,   0,  85, 252, 223,   0,   0,   0,   0,   0,   0,   0,   0,   7, 131, 252, 225,  71,   0,   0,   0,   0,   0,   0],\n",
              "       [  0,   0,   0,   0,   0,   0,  85, 252, 145,   0,   0,   0,   0,   0,   0,   0,  48, 165, 252, 173,   0,   0,   0,   0,   0,   0,   0,   0],\n",
              "       [  0,   0,   0,   0,   0,   0,  86, 253, 225,   0,   0,   0,   0,   0,   0, 114, 238, 253, 162,   0,   0,   0,   0,   0,   0,   0,   0,   0],\n",
              "       [  0,   0,   0,   0,   0,   0,  85, 252, 249, 146,  48,  29,  85, 178, 225, 253, 223, 167,  56,   0,   0,   0,   0,   0,   0,   0,   0,   0],\n",
              "       [  0,   0,   0,   0,   0,   0,  85, 252, 252, 252, 229, 215, 252, 252, 252, 196, 130,   0,   0,   0,   0,   0,   0,   0,   0,   0,   0,   0],\n",
              "       [  0,   0,   0,   0,   0,   0,  28, 199, 252, 252, 253, 252, 252, 233, 145,   0,   0,   0,   0,   0,   0,   0,   0,   0,   0,   0,   0,   0],\n",
              "       [  0,   0,   0,   0,   0,   0,   0,  25, 128, 252, 253, 252, 141,  37,   0,   0,   0,   0,   0,   0,   0,   0,   0,   0,   0,   0,   0,   0],\n",
              "       [  0,   0,   0,   0,   0,   0,   0,   0,   0,   0,   0,   0,   0,   0,   0,   0,   0,   0,   0,   0,   0,   0,   0,   0,   0,   0,   0,   0],\n",
              "       [  0,   0,   0,   0,   0,   0,   0,   0,   0,   0,   0,   0,   0,   0,   0,   0,   0,   0,   0,   0,   0,   0,   0,   0,   0,   0,   0,   0],\n",
              "       [  0,   0,   0,   0,   0,   0,   0,   0,   0,   0,   0,   0,   0,   0,   0,   0,   0,   0,   0,   0,   0,   0,   0,   0,   0,   0,   0,   0],\n",
              "       [  0,   0,   0,   0,   0,   0,   0,   0,   0,   0,   0,   0,   0,   0,   0,   0,   0,   0,   0,   0,   0,   0,   0,   0,   0,   0,   0,   0]], dtype=uint8)"
            ],
            "text/html": [
              "<style>\n",
              "      .ndarray_repr .ndarray_raw_data {\n",
              "        display: none;\n",
              "      }\n",
              "      .ndarray_repr.show_array .ndarray_raw_data {\n",
              "        display: block;\n",
              "      }\n",
              "      .ndarray_repr.show_array .ndarray_image_preview {\n",
              "        display: none;\n",
              "      }\n",
              "      </style>\n",
              "      <div id=\"id-371f0009-c172-4511-8bfc-3678fa955fdf\" class=\"ndarray_repr\"><pre>ndarray (28, 28) <button style=\"padding: 0 2px;\">show data</button></pre><img src=\"data:image/png;base64,iVBORw0KGgoAAAANSUhEUgAAABwAAAAcCAAAAABXZoBIAAAA/0lEQVR4nGNgGHhgPP/vfCMccgbv/vz58xa7nNnjv3/ev/xjyYYpxWXz4M/fP6dC/vytgggwIUnOPCDDwMBgxHOQQRdD0tibkfFQKeOL85OYGLG5ZTOPd6UoA8Pfz2gOVlv69+WFEAj775+lKHLsm/58cBeWgUkeRpG0/PPHHs5Blzz2dx+C8//vEWTX+hj834SQ/Pf/ArLG0D/PJOHWt//dxYMqeR8u1/znoTsDquREKMtg6Z+1DKgg7O9DCKPo3d9FaHIMoX9+TjKQDd308O/95RaYkn/+PL3+58+fI03oUgwMMsf//Pn758/LiZhSDAwMkg1//v7pVcUqR1cAAKxwbkTVIzd2AAAAAElFTkSuQmCC\" class=\"ndarray_image_preview\" /><pre class=\"ndarray_raw_data\">array([[  0,   0,   0,   0,   0,   0,   0,   0,   0,   0,   0,   0,   0,   0,   0,   0,   0,   0,   0,   0,   0,   0,   0,   0,   0,   0,   0,   0],\n",
              "       [  0,   0,   0,   0,   0,   0,   0,   0,   0,   0,   0,   0,   0,   0,   0,   0,   0,   0,   0,   0,   0,   0,   0,   0,   0,   0,   0,   0],\n",
              "       [  0,   0,   0,   0,   0,   0,   0,   0,   0,   0,   0,   0,   0,   0,   0,   0,   0,   0,   0,   0,   0,   0,   0,   0,   0,   0,   0,   0],\n",
              "       [  0,   0,   0,   0,   0,   0,   0,   0,   0,   0,   0,   0,   0,   0,   0,   0,   0,   0,   0,   0,   0,   0,   0,   0,   0,   0,   0,   0],\n",
              "       [  0,   0,   0,   0,   0,   0,   0,   0,   0,   0,   0,   0,   0,   0,   0,  51, 159, 253, 159,  50,   0,   0,   0,   0,   0,   0,   0,   0],\n",
              "       [  0,   0,   0,   0,   0,   0,   0,   0,   0,   0,   0,   0,   0,   0,  48, 238, 252, 252, 252, 237,   0,   0,   0,   0,   0,   0,   0,   0],\n",
              "       [  0,   0,   0,   0,   0,   0,   0,   0,   0,   0,   0,   0,   0,  54, 227, 253, 252, 239, 233, 252,  57,   6,   0,   0,   0,   0,   0,   0],\n",
              "       [  0,   0,   0,   0,   0,   0,   0,   0,   0,   0,   0,  10,  60, 224, 252, 253, 252, 202,  84, 252, 253, 122,   0,   0,   0,   0,   0,   0],\n",
              "       [  0,   0,   0,   0,   0,   0,   0,   0,   0,   0,   0, 163, 252, 252, 252, 253, 252, 252,  96, 189, 253, 167,   0,   0,   0,   0,   0,   0],\n",
              "       [  0,   0,   0,   0,   0,   0,   0,   0,   0,   0,  51, 238, 253, 253, 190, 114, 253, 228,  47,  79, 255, 168,   0,   0,   0,   0,   0,   0],\n",
              "       [  0,   0,   0,   0,   0,   0,   0,   0,   0,  48, 238, 252, 252, 179,  12,  75, 121,  21,   0,   0, 253, 243,  50,   0,   0,   0,   0,   0],\n",
              "       [  0,   0,   0,   0,   0,   0,   0,   0,  38, 165, 253, 233, 208,  84,   0,   0,   0,   0,   0,   0, 253, 252, 165,   0,   0,   0,   0,   0],\n",
              "       [  0,   0,   0,   0,   0,   0,   0,   7, 178, 252, 240,  71,  19,  28,   0,   0,   0,   0,   0,   0, 253, 252, 195,   0,   0,   0,   0,   0],\n",
              "       [  0,   0,   0,   0,   0,   0,   0,  57, 252, 252,  63,   0,   0,   0,   0,   0,   0,   0,   0,   0, 253, 252, 195,   0,   0,   0,   0,   0],\n",
              "       [  0,   0,   0,   0,   0,   0,   0, 198, 253, 190,   0,   0,   0,   0,   0,   0,   0,   0,   0,   0, 255, 253, 196,   0,   0,   0,   0,   0],\n",
              "       [  0,   0,   0,   0,   0,   0,  76, 246, 252, 112,   0,   0,   0,   0,   0,   0,   0,   0,   0,   0, 253, 252, 148,   0,   0,   0,   0,   0],\n",
              "       [  0,   0,   0,   0,   0,   0,  85, 252, 230,  25,   0,   0,   0,   0,   0,   0,   0,   0,   7, 135, 253, 186,  12,   0,   0,   0,   0,   0],\n",
              "       [  0,   0,   0,   0,   0,   0,  85, 252, 223,   0,   0,   0,   0,   0,   0,   0,   0,   7, 131, 252, 225,  71,   0,   0,   0,   0,   0,   0],\n",
              "       [  0,   0,   0,   0,   0,   0,  85, 252, 145,   0,   0,   0,   0,   0,   0,   0,  48, 165, 252, 173,   0,   0,   0,   0,   0,   0,   0,   0],\n",
              "       [  0,   0,   0,   0,   0,   0,  86, 253, 225,   0,   0,   0,   0,   0,   0, 114, 238, 253, 162,   0,   0,   0,   0,   0,   0,   0,   0,   0],\n",
              "       [  0,   0,   0,   0,   0,   0,  85, 252, 249, 146,  48,  29,  85, 178, 225, 253, 223, 167,  56,   0,   0,   0,   0,   0,   0,   0,   0,   0],\n",
              "       [  0,   0,   0,   0,   0,   0,  85, 252, 252, 252, 229, 215, 252, 252, 252, 196, 130,   0,   0,   0,   0,   0,   0,   0,   0,   0,   0,   0],\n",
              "       [  0,   0,   0,   0,   0,   0,  28, 199, 252, 252, 253, 252, 252, 233, 145,   0,   0,   0,   0,   0,   0,   0,   0,   0,   0,   0,   0,   0],\n",
              "       [  0,   0,   0,   0,   0,   0,   0,  25, 128, 252, 253, 252, 141,  37,   0,   0,   0,   0,   0,   0,   0,   0,   0,   0,   0,   0,   0,   0],\n",
              "       [  0,   0,   0,   0,   0,   0,   0,   0,   0,   0,   0,   0,   0,   0,   0,   0,   0,   0,   0,   0,   0,   0,   0,   0,   0,   0,   0,   0],\n",
              "       [  0,   0,   0,   0,   0,   0,   0,   0,   0,   0,   0,   0,   0,   0,   0,   0,   0,   0,   0,   0,   0,   0,   0,   0,   0,   0,   0,   0],\n",
              "       [  0,   0,   0,   0,   0,   0,   0,   0,   0,   0,   0,   0,   0,   0,   0,   0,   0,   0,   0,   0,   0,   0,   0,   0,   0,   0,   0,   0],\n",
              "       [  0,   0,   0,   0,   0,   0,   0,   0,   0,   0,   0,   0,   0,   0,   0,   0,   0,   0,   0,   0,   0,   0,   0,   0,   0,   0,   0,   0]], dtype=uint8)</pre></div><script>\n",
              "      (() => {\n",
              "      const titles = ['show data', 'hide data'];\n",
              "      let index = 0\n",
              "      document.querySelector('#id-371f0009-c172-4511-8bfc-3678fa955fdf button').onclick = (e) => {\n",
              "        document.querySelector('#id-371f0009-c172-4511-8bfc-3678fa955fdf').classList.toggle('show_array');\n",
              "        index = (++index) % 2;\n",
              "        document.querySelector('#id-371f0009-c172-4511-8bfc-3678fa955fdf button').textContent = titles[index];\n",
              "        e.preventDefault();\n",
              "        e.stopPropagation();\n",
              "      }\n",
              "      })();\n",
              "    </script>"
            ]
          },
          "metadata": {},
          "execution_count": 7
        }
      ]
    },
    {
      "cell_type": "markdown",
      "source": [
        "* 여러 이미지 확인하기"
      ],
      "metadata": {
        "id": "VTOg6ZSq7byx"
      }
    },
    {
      "cell_type": "code",
      "metadata": {
        "id": "hVPJiqKIdzF9",
        "colab": {
          "base_uri": "https://localhost:8080/",
          "height": 1000
        },
        "outputId": "84e8bb03-10a7-4c05-b9d6-fa28e1d6b7f3"
      },
      "source": [
        "plt.figure(figsize=(10,10))\n",
        "for i in range(25):\n",
        "    plt.subplot(5,5,i+1)\n",
        "    plt.xticks([])\n",
        "    plt.yticks([])\n",
        "    plt.imshow(x_train[i], cmap=plt.cm.binary)\n",
        "    plt.xlabel(class_names[y_train[i]])\n",
        "plt.tight_layout()\n",
        "plt.show()"
      ],
      "execution_count": 8,
      "outputs": [
        {
          "output_type": "display_data",
          "data": {
            "text/plain": [
              "<Figure size 1000x1000 with 25 Axes>"
            ],
            "image/png": "[encoded data removed]"
          },
          "metadata": {}
        }
      ]
    },
    {
      "cell_type": "markdown",
      "metadata": {
        "id": "ZVQ0RH1Oi1Cb"
      },
      "source": [
        "## 3.데이터 준비"
      ]
    },
    {
      "cell_type": "markdown",
      "source": [
        "* CNN은 3차원 구조의 이미지(데이터셋은 4차원)를 입력해야 합니다.(input_shape)"
      ],
      "metadata": {
        "id": "ByUxkGqLi1Cb"
      }
    },
    {
      "cell_type": "code",
      "source": [
        "x_train.shape, x_val.shape"
      ],
      "metadata": {
        "id": "C_9oF93vi1Cc",
        "colab": {
          "base_uri": "https://localhost:8080/"
        },
        "outputId": "7ad419bc-031a-482e-b8a6-eb806ea37989"
      },
      "execution_count": 9,
      "outputs": [
        {
          "output_type": "execute_result",
          "data": {
            "text/plain": [
              "((60000, 28, 28), (10000, 28, 28))"
            ]
          },
          "metadata": {},
          "execution_count": 9
        }
      ]
    },
    {
      "cell_type": "markdown",
      "source": [
        "* reshape를 이용하여 다음과 같이 변환해 봅시다.\n",
        "    * x_train.shape : (60000, 28, 28, 1)\n",
        "    * x_val.shape : (10000, 28, 28, 1)"
      ],
      "metadata": {
        "id": "shll75IMi1Cc"
      }
    },
    {
      "cell_type": "code",
      "source": [
        "x_train = x_train.reshape(60000,28,28,1)\n",
        "x_val = x_val.reshape(10000,28,28,1)"
      ],
      "metadata": {
        "id": "e4yXKxRAi1Cc"
      },
      "execution_count": 10,
      "outputs": []
    },
    {
      "cell_type": "markdown",
      "metadata": {
        "id": "iIcND_sxi1Cc"
      },
      "source": [
        "* Scaling : Min-Max\n",
        "    * 0-255 값으로 되어 있는 데이터를 0-1사이 값으로 변환\n",
        "    * x_train, x_val 그냥 255로 나누면 됨"
      ]
    },
    {
      "cell_type": "code",
      "metadata": {
        "id": "CPf7j6-pi1Cc"
      },
      "source": [
        "x_train = x_train / 255.\n",
        "x_val = x_val / 255."
      ],
      "execution_count": 11,
      "outputs": []
    },
    {
      "cell_type": "markdown",
      "source": [
        "## 4.CNN 기본 모델링"
      ],
      "metadata": {
        "id": "n-6ejz9fw0PN"
      }
    },
    {
      "cell_type": "markdown",
      "source": [
        "### (1) 모델 설계\n",
        "* CNN 모델의 기본 구조\n",
        "    * Conv2D  : 지역적인 특징 도출\n",
        "    * MaxPooling : 요약\n",
        "    * Flatten : 1차원으로 펼치기\n",
        "    * Dense : Output Layer"
      ],
      "metadata": {
        "id": "oJ-Vjwf0Cgnf"
      }
    },
    {
      "cell_type": "code",
      "metadata": {
        "id": "wdbMtyJpgHEa",
        "colab": {
          "base_uri": "https://localhost:8080/"
        },
        "outputId": "eb3eb411-73f9-4123-b259-4ab6bc77e3ea"
      },
      "source": [
        "clear_session()\n",
        "\n",
        "model = Sequential([Conv2D(16, kernel_size = 3, input_shape=(28, 28, 1), # kernel_size 3x3 크기의 지역에서 특징 도출\n",
        "                           padding='same', activation='relu'),  # strides = 1(기본값,1)\n",
        "                    MaxPooling2D(pool_size = 2 ),           # 중요한 것만 요약    # strides = 2(기본값이 pool_size 동일)\n",
        "                    Flatten(),                                # 1차원으로 펼침\n",
        "                    Dense(10, activation='softmax')\n",
        "])\n",
        "\n",
        "model.summary()\n",
        "\n",
        "model.compile(optimizer=Adam(learning_rate=0.001), loss='sparse_categorical_crossentropy')"
      ],
      "execution_count": 12,
      "outputs": [
        {
          "output_type": "stream",
          "name": "stdout",
          "text": [
            "Model: \"sequential\"\n",
            "_________________________________________________________________\n",
            " Layer (type)                Output Shape              Param #   \n",
            "=================================================================\n",
            " conv2d (Conv2D)             (None, 28, 28, 16)        160       \n",
            "                                                                 \n",
            " max_pooling2d (MaxPooling2  (None, 14, 14, 16)        0         \n",
            " D)                                                              \n",
            "                                                                 \n",
            " flatten (Flatten)           (None, 3136)              0         \n",
            "                                                                 \n",
            " dense (Dense)               (None, 10)                31370     \n",
            "                                                                 \n",
            "=================================================================\n",
            "Total params: 31530 (123.16 KB)\n",
            "Trainable params: 31530 (123.16 KB)\n",
            "Non-trainable params: 0 (0.00 Byte)\n",
            "_________________________________________________________________\n"
          ]
        }
      ]
    },
    {
      "cell_type": "markdown",
      "source": [
        "### (2) 학습"
      ],
      "metadata": {
        "id": "lyHx0KcQClAo"
      }
    },
    {
      "cell_type": "code",
      "metadata": {
        "id": "JH4ZRJ9bgHEb",
        "colab": {
          "base_uri": "https://localhost:8080/"
        },
        "outputId": "4f55ab4e-8769-43b2-b751-2bea37fb35b4"
      },
      "source": [
        "history = model.fit(x_train, y_train, epochs = 10, validation_split=0.2).history"
      ],
      "execution_count": 13,
      "outputs": [
        {
          "output_type": "stream",
          "name": "stdout",
          "text": [
            "Epoch 1/10\n",
            "1500/1500 [==============================] - 8s 3ms/step - loss: 0.2833 - val_loss: 0.1311\n",
            "Epoch 2/10\n",
            "1500/1500 [==============================] - 4s 3ms/step - loss: 0.1124 - val_loss: 0.0962\n",
            "Epoch 3/10\n",
            "1500/1500 [==============================] - 4s 3ms/step - loss: 0.0829 - val_loss: 0.0842\n",
            "Epoch 4/10\n",
            "1500/1500 [==============================] - 5s 3ms/step - loss: 0.0679 - val_loss: 0.0761\n",
            "Epoch 5/10\n",
            "1500/1500 [==============================] - 5s 4ms/step - loss: 0.0578 - val_loss: 0.0732\n",
            "Epoch 6/10\n",
            "1500/1500 [==============================] - 5s 3ms/step - loss: 0.0502 - val_loss: 0.0676\n",
            "Epoch 7/10\n",
            "1500/1500 [==============================] - 4s 3ms/step - loss: 0.0448 - val_loss: 0.0761\n",
            "Epoch 8/10\n",
            "1500/1500 [==============================] - 4s 3ms/step - loss: 0.0398 - val_loss: 0.0738\n",
            "Epoch 9/10\n",
            "1500/1500 [==============================] - 5s 3ms/step - loss: 0.0358 - val_loss: 0.0703\n",
            "Epoch 10/10\n",
            "1500/1500 [==============================] - 4s 3ms/step - loss: 0.0324 - val_loss: 0.0747\n"
          ]
        }
      ]
    },
    {
      "cell_type": "markdown",
      "source": [
        "### (3) 학습결과 그래프"
      ],
      "metadata": {
        "id": "AXNt_toTgHEb"
      }
    },
    {
      "cell_type": "code",
      "metadata": {
        "id": "mFcI6_iqgHEb",
        "colab": {
          "base_uri": "https://localhost:8080/",
          "height": 542
        },
        "outputId": "7a705c58-95a1-47c0-d210-b9c6a2a954c0"
      },
      "source": [
        "dl_history_plot(history)"
      ],
      "execution_count": 14,
      "outputs": [
        {
          "output_type": "display_data",
          "data": {
            "text/plain": [
              "<Figure size 1000x600 with 1 Axes>"
            ],
            "image/png": "[encoded data removed]"
          },
          "metadata": {}
        }
      ]
    },
    {
      "cell_type": "markdown",
      "source": [
        "### (4) 예측 및 평가"
      ],
      "metadata": {
        "id": "OQQZ0QfK14uH"
      }
    },
    {
      "cell_type": "code",
      "source": [
        "pred = model.predict(x_val)"
      ],
      "metadata": {
        "id": "cGWm-19agHEc",
        "colab": {
          "base_uri": "https://localhost:8080/"
        },
        "outputId": "a82d7684-1f87-414d-f2ec-94f4d7879237"
      },
      "execution_count": 15,
      "outputs": [
        {
          "output_type": "stream",
          "name": "stdout",
          "text": [
            "313/313 [==============================] - 1s 2ms/step\n"
          ]
        }
      ]
    },
    {
      "cell_type": "code",
      "source": [
        "pred_1 = pred.argmax(axis=1)"
      ],
      "metadata": {
        "id": "NZrmAw4WXs0T"
      },
      "execution_count": 16,
      "outputs": []
    },
    {
      "cell_type": "code",
      "source": [
        "print(accuracy_score(y_val,pred_1))\n",
        "print('-'*60)\n",
        "print(confusion_matrix(y_val, pred_1))\n",
        "print('-'*60)\n",
        "print(classification_report(y_val, pred_1))"
      ],
      "metadata": {
        "id": "oPNVxdnNgHEc",
        "colab": {
          "base_uri": "https://localhost:8080/"
        },
        "outputId": "6168a7f1-d20c-45ce-f098-000c9ac9048d"
      },
      "execution_count": 17,
      "outputs": [
        {
          "output_type": "stream",
          "name": "stdout",
          "text": [
            "0.979\n",
            "------------------------------------------------------------\n",
            "[[ 969    0    3    2    0    4    2    0    0    0]\n",
            " [   0 1128    1    2    1    0    1    2    0    0]\n",
            " [   3    6  997    6    1    0    2   14    2    1]\n",
            " [   0    0    2  988    0   14    0    3    3    0]\n",
            " [   0    1    0    0  974    0    1    2    0    4]\n",
            " [   2    0    0    4    0  884    2    0    0    0]\n",
            " [   7    3    0    0    5    6  935    0    2    0]\n",
            " [   0    3    6    3    0    0    0 1014    2    0]\n",
            " [   5    1    6    1    2    6    1    8  938    6]\n",
            " [   3    5    0    6   10    7    0   14    1  963]]\n",
            "------------------------------------------------------------\n",
            "              precision    recall  f1-score   support\n",
            "\n",
            "           0       0.98      0.99      0.98       980\n",
            "           1       0.98      0.99      0.99      1135\n",
            "           2       0.98      0.97      0.97      1032\n",
            "           3       0.98      0.98      0.98      1010\n",
            "           4       0.98      0.99      0.99       982\n",
            "           5       0.96      0.99      0.98       892\n",
            "           6       0.99      0.98      0.98       958\n",
            "           7       0.96      0.99      0.97      1028\n",
            "           8       0.99      0.96      0.98       974\n",
            "           9       0.99      0.95      0.97      1009\n",
            "\n",
            "    accuracy                           0.98     10000\n",
            "   macro avg       0.98      0.98      0.98     10000\n",
            "weighted avg       0.98      0.98      0.98     10000\n",
            "\n"
          ]
        }
      ]
    },
    {
      "cell_type": "markdown",
      "source": [
        "## 5.실습\n"
      ],
      "metadata": {
        "id": "bZ8d0qidmAGw"
      }
    },
    {
      "cell_type": "markdown",
      "source": [
        "### (1) 모델1\n",
        "* 기본 모델링에서 다음을 조정해 봅시다.\n",
        "    * Flatten 이후 Dense 레이어 추가(노드수 128)"
      ],
      "metadata": {
        "id": "kJAR7tBHv_Kq"
      }
    },
    {
      "cell_type": "markdown",
      "source": [
        "| Layer (type) | Output Shape  | Param #   |\n",
        "|---- |----|----|\n",
        "| conv2d (Conv2D)  |  (None, 28, 28, 16) | 160       |\n",
        "| max_pooling2d |  (None, 14, 14, 16) |      0         |\n",
        "| flatten (Flatten) | (None, 3136)   |           0         |\n",
        "| **dense (Dense)** |    **(None, 128)**   |            401536    |\n",
        "| dense_1 (Dense) |    (None, 10)   |             1290     |"
      ],
      "metadata": {
        "id": "pX3W3WcWH-nz"
      }
    },
    {
      "cell_type": "code",
      "source": [
        "clear_session()\n",
        "\n",
        "model2 = Sequential([Conv2D(16, kernel_size = 3, input_shape=(28, 28, 1), # kernel_size 3x3 크기의 지역에서 특징 도출\n",
        "                           padding='same', activation='relu'),  # strides = 1(기본값,1)\n",
        "                    MaxPooling2D(pool_size = 2 ),           # 중요한 것만 요약    # strides = 2(기본값이 pool_size 동일)\n",
        "                    Flatten(),                                # 1차원으로 펼침\n",
        "                     Dense(128, activation='relu'),\n",
        "                    Dense(10, activation='softmax')\n",
        "])\n",
        "\n",
        "model2.summary()\n",
        "\n",
        "model2.compile(optimizer=Adam(learning_rate=0.001), loss='sparse_categorical_crossentropy')"
      ],
      "metadata": {
        "id": "IAoG4XZw-it6",
        "colab": {
          "base_uri": "https://localhost:8080/"
        },
        "outputId": "3c9b27b6-2147-4dc3-fbde-7403f60b6065"
      },
      "execution_count": 9,
      "outputs": [
        {
          "output_type": "stream",
          "name": "stdout",
          "text": [
            "Model: \"sequential\"\n",
            "_________________________________________________________________\n",
            " Layer (type)                Output Shape              Param #   \n",
            "=================================================================\n",
            " conv2d (Conv2D)             (None, 28, 28, 16)        160       \n",
            "                                                                 \n",
            " max_pooling2d (MaxPooling2  (None, 14, 14, 16)        0         \n",
            " D)                                                              \n",
            "                                                                 \n",
            " flatten (Flatten)           (None, 3136)              0         \n",
            "                                                                 \n",
            " dense (Dense)               (None, 128)               401536    \n",
            "                                                                 \n",
            " dense_1 (Dense)             (None, 10)                1290      \n",
            "                                                                 \n",
            "=================================================================\n",
            "Total params: 402986 (1.54 MB)\n",
            "Trainable params: 402986 (1.54 MB)\n",
            "Non-trainable params: 0 (0.00 Byte)\n",
            "_________________________________________________________________\n"
          ]
        }
      ]
    },
    {
      "cell_type": "code",
      "source": [
        "hist = model2.fit(x_train, y_train, epochs=10, validation_split=.2).history"
      ],
      "metadata": {
        "id": "h0clczCh-ic0",
        "colab": {
          "base_uri": "https://localhost:8080/"
        },
        "outputId": "fe1561c2-a385-4f27-88e5-d0454f9e4163"
      },
      "execution_count": 10,
      "outputs": [
        {
          "output_type": "stream",
          "name": "stdout",
          "text": [
            "Epoch 1/10\n",
            "1500/1500 [==============================] - 9s 4ms/step - loss: 0.7259 - val_loss: 0.1390\n",
            "Epoch 2/10\n",
            "1500/1500 [==============================] - 5s 3ms/step - loss: 0.1047 - val_loss: 0.1048\n",
            "Epoch 3/10\n",
            "1500/1500 [==============================] - 6s 4ms/step - loss: 0.0678 - val_loss: 0.0868\n",
            "Epoch 4/10\n",
            "1500/1500 [==============================] - 5s 3ms/step - loss: 0.0536 - val_loss: 0.0973\n",
            "Epoch 5/10\n",
            "1500/1500 [==============================] - 6s 4ms/step - loss: 0.0460 - val_loss: 0.1088\n",
            "Epoch 6/10\n",
            "1500/1500 [==============================] - 9s 6ms/step - loss: 0.0354 - val_loss: 0.1038\n",
            "Epoch 7/10\n",
            "1500/1500 [==============================] - 11s 7ms/step - loss: 0.0269 - val_loss: 0.1253\n",
            "Epoch 8/10\n",
            "1500/1500 [==============================] - 10s 7ms/step - loss: 0.0276 - val_loss: 0.1101\n",
            "Epoch 9/10\n",
            "1500/1500 [==============================] - 8s 6ms/step - loss: 0.0189 - val_loss: 0.1253\n",
            "Epoch 10/10\n",
            "1500/1500 [==============================] - 9s 6ms/step - loss: 0.0174 - val_loss: 0.1321\n"
          ]
        }
      ]
    },
    {
      "cell_type": "markdown",
      "source": [
        "* 학습결과 그래프"
      ],
      "metadata": {
        "id": "cYQyylW0mEr3"
      }
    },
    {
      "cell_type": "code",
      "metadata": {
        "id": "gbI36rqnmEr3",
        "colab": {
          "base_uri": "https://localhost:8080/",
          "height": 542
        },
        "outputId": "cad4341d-c34f-41cb-bab9-52f0fc90b6e8"
      },
      "source": [
        "dl_history_plot(hist)"
      ],
      "execution_count": 12,
      "outputs": [
        {
          "output_type": "display_data",
          "data": {
            "text/plain": [
              "<Figure size 1000x600 with 1 Axes>"
            ],
            "image/png": "[encoded data removed]"
          },
          "metadata": {}
        }
      ]
    },
    {
      "cell_type": "markdown",
      "source": [
        "* 예측 및 평가"
      ],
      "metadata": {
        "id": "2O7l-WpKmEr3"
      }
    },
    {
      "cell_type": "code",
      "source": [
        "pred = model2.predict(x_val)\n",
        "pred = np.argmax(pred, axis=1)"
      ],
      "metadata": {
        "id": "I2ua8IHE-kmC",
        "colab": {
          "base_uri": "https://localhost:8080/"
        },
        "outputId": "cb4c1f3d-394f-4824-a060-c6e28f811cd8"
      },
      "execution_count": 16,
      "outputs": [
        {
          "output_type": "stream",
          "name": "stdout",
          "text": [
            "313/313 [==============================] - 2s 5ms/step\n"
          ]
        }
      ]
    },
    {
      "cell_type": "code",
      "source": [
        "print(accuracy_score(y_val,pred))\n",
        "print('-'*60)\n",
        "print(confusion_matrix(y_val, pred))\n",
        "print('-'*60)\n",
        "print(classification_report(y_val, pred))"
      ],
      "metadata": {
        "id": "94E0Mn1A-kjH",
        "colab": {
          "base_uri": "https://localhost:8080/"
        },
        "outputId": "e3c17979-30e1-4497-99e6-e927c2a78d0a"
      },
      "execution_count": 17,
      "outputs": [
        {
          "output_type": "stream",
          "name": "stdout",
          "text": [
            "0.9762\n",
            "------------------------------------------------------------\n",
            "[[ 968    1    2    1    0    0    4    1    3    0]\n",
            " [   0 1119    5    2    2    1    0    3    3    0]\n",
            " [   1    0 1016    1    1    0    0    7    6    0]\n",
            " [   0    0    2  991    0    8    0    2    4    3]\n",
            " [   1    0    1    1  960    0    8    2    0    9]\n",
            " [   2    0    0   19    0  859    2    0    8    2]\n",
            " [   4    2    1    1    1    1  944    0    4    0]\n",
            " [   0    1    6    2    2    0    1 1009    4    3]\n",
            " [   5    0    4    2    9    6    3    3  938    4]\n",
            " [   3    4    5    5   12    3    0   10    9  958]]\n",
            "------------------------------------------------------------\n",
            "              precision    recall  f1-score   support\n",
            "\n",
            "           0       0.98      0.99      0.99       980\n",
            "           1       0.99      0.99      0.99      1135\n",
            "           2       0.98      0.98      0.98      1032\n",
            "           3       0.97      0.98      0.97      1010\n",
            "           4       0.97      0.98      0.98       982\n",
            "           5       0.98      0.96      0.97       892\n",
            "           6       0.98      0.99      0.98       958\n",
            "           7       0.97      0.98      0.98      1028\n",
            "           8       0.96      0.96      0.96       974\n",
            "           9       0.98      0.95      0.96      1009\n",
            "\n",
            "    accuracy                           0.98     10000\n",
            "   macro avg       0.98      0.98      0.98     10000\n",
            "weighted avg       0.98      0.98      0.98     10000\n",
            "\n"
          ]
        }
      ]
    },
    {
      "cell_type": "code",
      "source": [],
      "metadata": {
        "id": "2MEi8L5--kgK"
      },
      "execution_count": null,
      "outputs": []
    },
    {
      "cell_type": "markdown",
      "source": [
        "### (2) 모델2\n",
        "* 모델1에 이어서 다음을 조정해 봅시다.\n",
        "    * Convnet의 커널 수를 32로 늘려 봅시다."
      ],
      "metadata": {
        "id": "DKkGAJp7nXjW"
      }
    },
    {
      "cell_type": "markdown",
      "source": [
        "| Layer (type) | Output Shape  | Param #   |\n",
        "|---- |----|----|\n",
        "| conv2d (Conv2D)  |  (None, 28, 28, **32**) | 320       |\n",
        "| max_pooling2d |  (None, 14, 14, 32) |      0         |\n",
        "| flatten (Flatten) | (None, 6272)   |           0         |\n",
        "| dense (Dense) |    (None, 128)   |            802944        |\n",
        "| dense_1 (Dense) |    (None, 10)   |             1290     |"
      ],
      "metadata": {
        "id": "gbFO6jR_IsaT"
      }
    },
    {
      "cell_type": "code",
      "metadata": {
        "id": "CBUCr8WsnXjc",
        "colab": {
          "base_uri": "https://localhost:8080/"
        },
        "outputId": "73a399ca-bb9b-48d0-948f-3c7bdfc64d90"
      },
      "source": [
        "clear_session()\n",
        "\n",
        "\n",
        "model2 = Sequential([Conv2D(32, kernel_size = 3, input_shape=(28, 28, 1),  # 필터 정류를 16개, 16개 합성곱 # kernel_size 3x3 크기\n",
        "                                                                        # 28x28 크기에서 1step씩\n",
        "                           padding='same', activation='relu'),  # padding: input_shape와 같은 크기로 나오게(same) # strides = 1(기본값,1),\n",
        "                                                                                                                # 가로,세로 1칸씩 이동\n",
        "                    MaxPooling2D(pool_size = 2 ),            # 중요한 것만 요약  # strides = 2(기본값이 pool_size 동일)\n",
        "                    Flatten(),                          # 1차원으로 펼침\n",
        "                     Dense(128, activation='relu'),\n",
        "                    Dense(10, activation='softmax')\n",
        "])\n",
        "\n",
        "model2.summary()\n",
        "\n",
        "model2.compile(optimizer=Adam(learning_rate=0.001), loss='sparse_categorical_crossentropy')"
      ],
      "execution_count": 21,
      "outputs": [
        {
          "output_type": "stream",
          "name": "stdout",
          "text": [
            "Model: \"sequential\"\n",
            "_________________________________________________________________\n",
            " Layer (type)                Output Shape              Param #   \n",
            "=================================================================\n",
            " conv2d (Conv2D)             (None, 28, 28, 32)        320       \n",
            "                                                                 \n",
            " max_pooling2d (MaxPooling2  (None, 14, 14, 32)        0         \n",
            " D)                                                              \n",
            "                                                                 \n",
            " flatten (Flatten)           (None, 6272)              0         \n",
            "                                                                 \n",
            " dense (Dense)               (None, 128)               802944    \n",
            "                                                                 \n",
            " dense_1 (Dense)             (None, 10)                1290      \n",
            "                                                                 \n",
            "=================================================================\n",
            "Total params: 804554 (3.07 MB)\n",
            "Trainable params: 804554 (3.07 MB)\n",
            "Non-trainable params: 0 (0.00 Byte)\n",
            "_________________________________________________________________\n"
          ]
        }
      ]
    },
    {
      "cell_type": "code",
      "metadata": {
        "id": "idsDwvcnnXjc",
        "colab": {
          "base_uri": "https://localhost:8080/"
        },
        "outputId": "31982888-46f6-47f8-b6e7-a45750ccc53a"
      },
      "source": [
        "hist = model2.fit(x_train, y_train, epochs=10, validation_split=.2).history"
      ],
      "execution_count": 22,
      "outputs": [
        {
          "output_type": "stream",
          "name": "stdout",
          "text": [
            "Epoch 1/10\n",
            "1500/1500 [==============================] - 12s 7ms/step - loss: 0.6052 - val_loss: 0.1216\n",
            "Epoch 2/10\n",
            "1500/1500 [==============================] - 9s 6ms/step - loss: 0.0861 - val_loss: 0.1055\n",
            "Epoch 3/10\n",
            "1500/1500 [==============================] - 9s 6ms/step - loss: 0.0579 - val_loss: 0.0917\n",
            "Epoch 4/10\n",
            "1500/1500 [==============================] - 9s 6ms/step - loss: 0.0469 - val_loss: 0.1154\n",
            "Epoch 5/10\n",
            "1500/1500 [==============================] - 13s 8ms/step - loss: 0.0384 - val_loss: 0.1127\n",
            "Epoch 6/10\n",
            "1500/1500 [==============================] - 9s 6ms/step - loss: 0.0318 - val_loss: 0.1146\n",
            "Epoch 7/10\n",
            "1500/1500 [==============================] - 9s 6ms/step - loss: 0.0259 - val_loss: 0.1158\n",
            "Epoch 8/10\n",
            "1500/1500 [==============================] - 8s 5ms/step - loss: 0.0218 - val_loss: 0.1214\n",
            "Epoch 9/10\n",
            "1500/1500 [==============================] - 9s 6ms/step - loss: 0.0202 - val_loss: 0.1368\n",
            "Epoch 10/10\n",
            "1500/1500 [==============================] - 11s 7ms/step - loss: 0.0169 - val_loss: 0.1858\n"
          ]
        }
      ]
    },
    {
      "cell_type": "markdown",
      "source": [
        "* 학습결과 그래프"
      ],
      "metadata": {
        "id": "MGlyKHtInXjc"
      }
    },
    {
      "cell_type": "code",
      "metadata": {
        "id": "meo1LqYYnXjc",
        "colab": {
          "base_uri": "https://localhost:8080/",
          "height": 542
        },
        "outputId": "69fdb946-1843-4701-b0ce-15d9e10589ec"
      },
      "source": [
        "dl_history_plot(hist)"
      ],
      "execution_count": 23,
      "outputs": [
        {
          "output_type": "display_data",
          "data": {
            "text/plain": [
              "<Figure size 1000x600 with 1 Axes>"
            ],
            "image/png": "[encoded data removed]"
          },
          "metadata": {}
        }
      ]
    },
    {
      "cell_type": "markdown",
      "source": [
        "* 예측 및 평가"
      ],
      "metadata": {
        "id": "bpprn3bDnXjc"
      }
    },
    {
      "cell_type": "code",
      "source": [
        "pred = model2.predict(x_val)\n",
        "pred = np.argmax(pred, axis=1)"
      ],
      "metadata": {
        "id": "UQrCVIFa-qFJ",
        "colab": {
          "base_uri": "https://localhost:8080/"
        },
        "outputId": "7bb15c5a-2db7-4fb2-8a81-6a2737950d0e"
      },
      "execution_count": 24,
      "outputs": [
        {
          "output_type": "stream",
          "name": "stdout",
          "text": [
            "313/313 [==============================] - 1s 3ms/step\n"
          ]
        }
      ]
    },
    {
      "cell_type": "code",
      "source": [
        "print(accuracy_score(y_val,pred))\n",
        "print('-'*60)\n",
        "print(confusion_matrix(y_val, pred))\n",
        "print('-'*60)\n",
        "print(classification_report(y_val, pred))"
      ],
      "metadata": {
        "id": "MdxgKU7E-qB8",
        "colab": {
          "base_uri": "https://localhost:8080/"
        },
        "outputId": "5edd19d5-5cce-474c-a5c5-36c5559c98a5"
      },
      "execution_count": 25,
      "outputs": [
        {
          "output_type": "stream",
          "name": "stdout",
          "text": [
            "0.9768\n",
            "------------------------------------------------------------\n",
            "[[ 970    1    2    0    0    0    3    1    3    0]\n",
            " [   0 1127    4    0    2    0    1    0    1    0]\n",
            " [   0    0 1017    2    1    0    0   12    0    0]\n",
            " [   0    0    2  998    0    4    0    4    1    1]\n",
            " [   0    0    1    0  973    0    3    2    0    3]\n",
            " [   0    0    1   23    0  854    2    1    9    2]\n",
            " [   0    2    1    2    6    2  943    0    2    0]\n",
            " [   0    3   11    4    5    0    0 1000    1    4]\n",
            " [   3    3   15    5    3    1    1    7  930    6]\n",
            " [   1    3    3    7   18    9    0    7    5  956]]\n",
            "------------------------------------------------------------\n",
            "              precision    recall  f1-score   support\n",
            "\n",
            "           0       1.00      0.99      0.99       980\n",
            "           1       0.99      0.99      0.99      1135\n",
            "           2       0.96      0.99      0.97      1032\n",
            "           3       0.96      0.99      0.97      1010\n",
            "           4       0.97      0.99      0.98       982\n",
            "           5       0.98      0.96      0.97       892\n",
            "           6       0.99      0.98      0.99       958\n",
            "           7       0.97      0.97      0.97      1028\n",
            "           8       0.98      0.95      0.97       974\n",
            "           9       0.98      0.95      0.97      1009\n",
            "\n",
            "    accuracy                           0.98     10000\n",
            "   macro avg       0.98      0.98      0.98     10000\n",
            "weighted avg       0.98      0.98      0.98     10000\n",
            "\n"
          ]
        }
      ]
    },
    {
      "cell_type": "code",
      "source": [],
      "metadata": {
        "id": "JCrkF4Q3-p_D"
      },
      "execution_count": null,
      "outputs": []
    },
    {
      "cell_type": "markdown",
      "metadata": {
        "id": "hNUO5Zbd0yd9"
      },
      "source": [
        "### (3) 모델3\n",
        "* 모델2에 이어서, 아래 그림을 보고, 빠진 부분을 추가하시오."
      ]
    },
    {
      "cell_type": "markdown",
      "source": [
        "![](https://github.com/DA4BAM/image/blob/main/cnn_mnist3.png?raw=true)"
      ],
      "metadata": {
        "id": "hNiVwvSn1Fqd"
      }
    },
    {
      "cell_type": "code",
      "metadata": {
        "id": "HjW0sSd70yd9",
        "colab": {
          "base_uri": "https://localhost:8080/"
        },
        "outputId": "aee65522-e01a-4bda-e4c4-b80d0e129490"
      },
      "source": [
        "clear_session()\n",
        "\n",
        "\n",
        "model3 = Sequential([Conv2D(32, kernel_size = 3, input_shape=(28, 28, 1),  # 필터 정류를 16개, 16개 합성곱 # kernel_size 3x3 크기\n",
        "                                                                        # 28x28 크기에서 1step씩\n",
        "                           padding='same', activation='relu'),  # padding: input_shape와 같은 크기로 나오게(same) # strides = 1(기본값,1),\n",
        "                                                                                                                # 가로,세로 1칸씩 이동\n",
        "                    MaxPooling2D(pool_size = 2 ),            # 중요한 것만 요약  # strides = 2(기본값이 pool_size 동일)\n",
        "\n",
        "                    Conv2D(64, kernel_size = 3, input_shape=(14, 14, 1),  padding='same', activation='relu'),\n",
        "                    MaxPooling2D(pool_size = 2 ),\n",
        "\n",
        "                    Flatten(),                          # 1차원으로 펼침\n",
        "                    Dense(128, activation='relu'),\n",
        "                    Dense(10, activation='softmax')\n",
        "])\n",
        "\n",
        "model3.summary()\n",
        "\n",
        "model3.compile(optimizer=Adam(learning_rate=0.001), loss='sparse_categorical_crossentropy')"
      ],
      "execution_count": 27,
      "outputs": [
        {
          "output_type": "stream",
          "name": "stdout",
          "text": [
            "Model: \"sequential\"\n",
            "_________________________________________________________________\n",
            " Layer (type)                Output Shape              Param #   \n",
            "=================================================================\n",
            " conv2d (Conv2D)             (None, 28, 28, 32)        320       \n",
            "                                                                 \n",
            " max_pooling2d (MaxPooling2  (None, 14, 14, 32)        0         \n",
            " D)                                                              \n",
            "                                                                 \n",
            " conv2d_1 (Conv2D)           (None, 14, 14, 64)        18496     \n",
            "                                                                 \n",
            " max_pooling2d_1 (MaxPoolin  (None, 7, 7, 64)          0         \n",
            " g2D)                                                            \n",
            "                                                                 \n",
            " flatten (Flatten)           (None, 3136)              0         \n",
            "                                                                 \n",
            " dense (Dense)               (None, 128)               401536    \n",
            "                                                                 \n",
            " dense_1 (Dense)             (None, 10)                1290      \n",
            "                                                                 \n",
            "=================================================================\n",
            "Total params: 421642 (1.61 MB)\n",
            "Trainable params: 421642 (1.61 MB)\n",
            "Non-trainable params: 0 (0.00 Byte)\n",
            "_________________________________________________________________\n"
          ]
        }
      ]
    },
    {
      "cell_type": "code",
      "metadata": {
        "id": "h8dS2MohkYtx",
        "colab": {
          "base_uri": "https://localhost:8080/"
        },
        "outputId": "d2d1abec-5cf9-44b2-c6fa-cd86309b8e86"
      },
      "source": [
        "hist = model3.fit(x_train, y_train, epochs=10, validation_split=.2).history"
      ],
      "execution_count": 28,
      "outputs": [
        {
          "output_type": "stream",
          "name": "stdout",
          "text": [
            "Epoch 1/10\n",
            "1500/1500 [==============================] - 12s 6ms/step - loss: 0.2995 - val_loss: 0.0585\n",
            "Epoch 2/10\n",
            "1500/1500 [==============================] - 9s 6ms/step - loss: 0.0558 - val_loss: 0.0776\n",
            "Epoch 3/10\n",
            "1500/1500 [==============================] - 9s 6ms/step - loss: 0.0474 - val_loss: 0.0934\n",
            "Epoch 4/10\n",
            "1500/1500 [==============================] - 9s 6ms/step - loss: 0.0408 - val_loss: 0.0549\n",
            "Epoch 5/10\n",
            "1500/1500 [==============================] - 9s 6ms/step - loss: 0.0298 - val_loss: 0.0651\n",
            "Epoch 6/10\n",
            "1500/1500 [==============================] - 10s 6ms/step - loss: 0.0273 - val_loss: 0.0678\n",
            "Epoch 7/10\n",
            "1500/1500 [==============================] - 9s 6ms/step - loss: 0.0244 - val_loss: 0.0781\n",
            "Epoch 8/10\n",
            "1500/1500 [==============================] - 9s 6ms/step - loss: 0.0237 - val_loss: 0.0651\n",
            "Epoch 9/10\n",
            "1500/1500 [==============================] - 9s 6ms/step - loss: 0.0185 - val_loss: 0.0872\n",
            "Epoch 10/10\n",
            "1500/1500 [==============================] - 9s 6ms/step - loss: 0.0189 - val_loss: 0.0730\n"
          ]
        }
      ]
    },
    {
      "cell_type": "markdown",
      "source": [
        "* 학습결과 그래프"
      ],
      "metadata": {
        "id": "lTV3lm8dkYtx"
      }
    },
    {
      "cell_type": "code",
      "metadata": {
        "id": "VY_4uOpqkYtx",
        "colab": {
          "base_uri": "https://localhost:8080/",
          "height": 542
        },
        "outputId": "bf77e54e-aca1-448e-8205-d49a1bd20594"
      },
      "source": [
        "dl_history_plot(hist)"
      ],
      "execution_count": 29,
      "outputs": [
        {
          "output_type": "display_data",
          "data": {
            "text/plain": [
              "<Figure size 1000x600 with 1 Axes>"
            ],
            "image/png": "[encoded data removed]"
          },
          "metadata": {}
        }
      ]
    },
    {
      "cell_type": "markdown",
      "source": [
        "* 예측 및 평가"
      ],
      "metadata": {
        "id": "Ft8mamE4kYtx"
      }
    },
    {
      "cell_type": "code",
      "source": [
        "pred = model3.predict(x_val)\n",
        "pred = np.argmax(pred, axis=1)"
      ],
      "metadata": {
        "id": "XZhh7SsB-s5X",
        "colab": {
          "base_uri": "https://localhost:8080/"
        },
        "outputId": "d2b0f93e-4c6d-4ff5-f36d-7a71d0f3a7a8"
      },
      "execution_count": 30,
      "outputs": [
        {
          "output_type": "stream",
          "name": "stdout",
          "text": [
            "313/313 [==============================] - 1s 3ms/step\n"
          ]
        }
      ]
    },
    {
      "cell_type": "code",
      "source": [
        "print(accuracy_score(y_val,pred))\n",
        "print('-'*60)\n",
        "print(confusion_matrix(y_val, pred))\n",
        "print('-'*60)\n",
        "print(classification_report(y_val, pred))"
      ],
      "metadata": {
        "id": "RagsbZ63-s2F",
        "colab": {
          "base_uri": "https://localhost:8080/"
        },
        "outputId": "850d87d6-664c-461c-dd50-fae454946d37"
      },
      "execution_count": 31,
      "outputs": [
        {
          "output_type": "stream",
          "name": "stdout",
          "text": [
            "0.9865\n",
            "------------------------------------------------------------\n",
            "[[ 979    0    0    0    0    0    1    0    0    0]\n",
            " [   6 1120    0    1    0    3    1    4    0    0]\n",
            " [   2    2 1010    3    1    0    1   10    3    0]\n",
            " [   1    0    1  997    0   10    0    0    1    0]\n",
            " [   0    0    0    0  953    2    2    2    2   21]\n",
            " [   1    0    0    4    0  884    0    0    2    1]\n",
            " [  10    2    0    0    2    5  936    0    3    0]\n",
            " [   0    1    3    1    2    0    0 1021    0    0]\n",
            " [   0    1    0    1    0    1    0    0  967    4]\n",
            " [   1    0    1    0    2    2    0    3    2  998]]\n",
            "------------------------------------------------------------\n",
            "              precision    recall  f1-score   support\n",
            "\n",
            "           0       0.98      1.00      0.99       980\n",
            "           1       0.99      0.99      0.99      1135\n",
            "           2       1.00      0.98      0.99      1032\n",
            "           3       0.99      0.99      0.99      1010\n",
            "           4       0.99      0.97      0.98       982\n",
            "           5       0.97      0.99      0.98       892\n",
            "           6       0.99      0.98      0.99       958\n",
            "           7       0.98      0.99      0.99      1028\n",
            "           8       0.99      0.99      0.99       974\n",
            "           9       0.97      0.99      0.98      1009\n",
            "\n",
            "    accuracy                           0.99     10000\n",
            "   macro avg       0.99      0.99      0.99     10000\n",
            "weighted avg       0.99      0.99      0.99     10000\n",
            "\n"
          ]
        }
      ]
    },
    {
      "cell_type": "code",
      "source": [],
      "metadata": {
        "id": "pXRQLhfa-szK"
      },
      "execution_count": null,
      "outputs": []
    },
    {
      "cell_type": "markdown",
      "source": [
        "## 6.틀린그림 찾아보기\n",
        "* 모델3의 결과에서 틀린 그림을 살펴 봅시다.\n",
        "* 아래코드는 이해하기보다는 그냥 사용하기 바랍니다."
      ],
      "metadata": {
        "id": "oxBVLHpsqB6a"
      }
    },
    {
      "cell_type": "code",
      "source": [
        "idx = (y_val != pred)\n",
        "x_val_wr = x_val[idx]\n",
        "y_val_wr = y_val[idx]\n",
        "pred_wr = pred[idx]\n",
        "\n",
        "x_val_wr = x_val_wr.reshape(-1,28,28)\n",
        "print(x_val_wr.shape)"
      ],
      "metadata": {
        "id": "HqX8aZRbH73K",
        "colab": {
          "base_uri": "https://localhost:8080/"
        },
        "outputId": "a7bd454c-d819-44a5-a2b2-35a9d1e17316"
      },
      "execution_count": 35,
      "outputs": [
        {
          "output_type": "stream",
          "name": "stdout",
          "text": [
            "(135, 28, 28)\n"
          ]
        }
      ]
    },
    {
      "cell_type": "code",
      "source": [
        "idx = rd.sample(range(x_val_wr.shape[0]),25)\n",
        "x_temp = x_val_wr[idx]\n",
        "y_temp = y_val_wr[idx]\n",
        "p_temp = pred_wr[idx]\n",
        "\n",
        "plt.figure(figsize=(10,10))\n",
        "for i in range(25):\n",
        "    plt.subplot(5,5,i+1)\n",
        "    plt.xticks([])\n",
        "    plt.yticks([])\n",
        "    plt.imshow(x_temp[i], cmap=plt.cm.binary)\n",
        "    plt.xlabel(f'actual : {y_temp[i]},  predict : {p_temp[i]}')\n",
        "plt.tight_layout()\n",
        "plt.show()"
      ],
      "metadata": {
        "id": "9F9TAVkVsMsB",
        "colab": {
          "base_uri": "https://localhost:8080/",
          "height": 1000
        },
        "outputId": "2a3d789e-f6ee-49eb-9f41-488ab7ed9aae"
      },
      "execution_count": 36,
      "outputs": [
        {
          "output_type": "display_data",
          "data": {
            "text/plain": [
              "<Figure size 1000x1000 with 25 Axes>"
            ],
            "image/png": "[encoded data removed]"
          },
          "metadata": {}
        }
      ]
    },
    {
      "cell_type": "markdown",
      "source": [
        "## 7.진짜 손글씨로 예측해 봅시다."
      ],
      "metadata": {
        "id": "WEVqG02ozsaC"
      }
    },
    {
      "cell_type": "markdown",
      "source": [
        "* 이미지 처리를 위한 라이브러리와 함수 불러오기"
      ],
      "metadata": {
        "id": "bLT0qu0MZa6l"
      }
    },
    {
      "cell_type": "code",
      "source": [
        "import cv2\n",
        "from google.colab.patches import cv2_imshow"
      ],
      "metadata": {
        "id": "U8xIg9990yd_"
      },
      "execution_count": 37,
      "outputs": []
    },
    {
      "cell_type": "markdown",
      "source": [
        "* 그림판에서 그린 손글씨를 업로드 합니다."
      ],
      "metadata": {
        "id": "GGMporajIeIc"
      }
    },
    {
      "cell_type": "code",
      "source": [
        "# 파일 열기\n",
        "img = cv2.imread('33.png', cv2.IMREAD_GRAYSCALE)\n",
        "cv2_imshow(img)\n",
        "print(img.shape)"
      ],
      "metadata": {
        "id": "youK_dRjukYv",
        "colab": {
          "base_uri": "https://localhost:8080/",
          "height": 176
        },
        "outputId": "64fc7cdc-d819-4a18-8536-d76148896809"
      },
      "execution_count": 52,
      "outputs": [
        {
          "output_type": "display_data",
          "data": {
            "text/plain": [
              "<PIL.Image.Image image mode=L size=140x140>"
            ],
            "image/png": "[encoded data removed]"
          },
          "metadata": {}
        },
        {
          "output_type": "stream",
          "name": "stdout",
          "text": [
            "(140, 140)\n"
          ]
        }
      ]
    },
    {
      "cell_type": "markdown",
      "source": [
        "* 이미지 크기를 28, 28, 1 로 맞추기"
      ],
      "metadata": {
        "id": "EA_5Z8WbalbA"
      }
    },
    {
      "cell_type": "code",
      "source": [
        "# 크기 조절하기\n",
        "img = cv2.resize(255-img, (28, 28))\n",
        "print(img.shape)\n",
        "cv2_imshow(img)"
      ],
      "metadata": {
        "id": "pP3-P4eSu3a4",
        "colab": {
          "base_uri": "https://localhost:8080/",
          "height": 64
        },
        "outputId": "8740ce37-96d3-4221-fd23-90b478b85c0a"
      },
      "execution_count": 53,
      "outputs": [
        {
          "output_type": "stream",
          "name": "stdout",
          "text": [
            "(28, 28)\n"
          ]
        },
        {
          "output_type": "display_data",
          "data": {
            "text/plain": [
              "<PIL.Image.Image image mode=L size=28x28>"
            ],
            "image/png": "[encoded data removed]"
          },
          "metadata": {}
        }
      ]
    },
    {
      "cell_type": "markdown",
      "source": [
        "* 예측하기"
      ],
      "metadata": {
        "id": "mYpZg-lNasb7"
      }
    },
    {
      "cell_type": "code",
      "source": [
        "# 입력데이터 형식을 갖추기\n",
        "test_num = img.reshape(1,28,28,1)\n",
        "\n",
        "# 예측하기\n",
        "pred = model3.predict(test_num)\n",
        "pred_1 = pred.argmax(axis=1)\n",
        "print(pred_1)"
      ],
      "metadata": {
        "id": "pRRZGbntv73S",
        "colab": {
          "base_uri": "https://localhost:8080/"
        },
        "outputId": "6655cfbd-b54c-4aac-c4fc-e1f4d492b48d"
      },
      "execution_count": 54,
      "outputs": [
        {
          "output_type": "stream",
          "name": "stdout",
          "text": [
            "1/1 [==============================] - 0s 26ms/step\n",
            "[3]\n"
          ]
        }
      ]
    },
    {
      "cell_type": "code",
      "source": [],
      "metadata": {
        "id": "wMuM5TVNwuLy"
      },
      "execution_count": 45,
      "outputs": []
    }
  ]
}