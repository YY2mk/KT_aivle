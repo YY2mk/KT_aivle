{
  "nbformat": 4,
  "nbformat_minor": 0,
  "metadata": {
    "colab": {
      "provenance": [],
      "include_colab_link": true
    },
    "kernelspec": {
      "name": "python3",
      "display_name": "Python 3"
    }
  },
  "cells": [
    {
      "cell_type": "markdown",
      "metadata": {
        "id": "view-in-github",
        "colab_type": "text"
      },
      "source": [
        "<a href=\"https://colab.research.google.com/github/YY2mk/KT_aivle/blob/master/DeepLearning/DX_%EB%94%A5%EB%9F%AC%EB%8B%9D%20%EA%B8%B0%EC%B4%88_1%EC%9D%BC%EC%B0%A8%20%EC%8B%A4%EC%8A%B5%EC%9E%90%EB%A3%8C/03%EA%B3%BC_2_%ED%9A%8C%EA%B7%80_%EC%8B%A4%EC%8A%B5_carseat.ipynb\" target=\"_parent\"><img src=\"https://colab.research.google.com/assets/colab-badge.svg\" alt=\"Open In Colab\"/></a>"
      ]
    },
    {
      "cell_type": "markdown",
      "metadata": {
        "id": "cVB9pY-v8uv5"
      },
      "source": [
        "# 회귀_실습_carseat"
      ]
    },
    {
      "cell_type": "markdown",
      "metadata": {
        "id": "BSFMLw3YI-gh"
      },
      "source": [
        "## 1.환경준비"
      ]
    },
    {
      "cell_type": "markdown",
      "source": [
        "### (1) 라이브러리 로딩"
      ],
      "metadata": {
        "id": "98K82DAxvX6I"
      }
    },
    {
      "cell_type": "code",
      "metadata": {
        "id": "g8Y5OJ-II-gu"
      },
      "source": [
        "import pandas as pd\n",
        "import numpy as np\n",
        "import matplotlib.pyplot as plt\n",
        "import seaborn as sns\n",
        "\n",
        "from sklearn.model_selection import train_test_split\n",
        "from sklearn.metrics import *\n",
        "from sklearn.preprocessing import MinMaxScaler\n",
        "\n",
        "from keras.models import Sequential\n",
        "from keras.layers import Dense\n",
        "from keras.backend import clear_session\n",
        "from keras.optimizers import Adam"
      ],
      "execution_count": 2,
      "outputs": []
    },
    {
      "cell_type": "markdown",
      "source": [
        "* 학습곡선 그래프 함수 만들기"
      ],
      "metadata": {
        "id": "wdhjxFBs1jck"
      }
    },
    {
      "cell_type": "code",
      "source": [
        "def dl_history_plot(history):\n",
        "    plt.figure(figsize=(10,6))\n",
        "    plt.plot(history['loss'], label='train_err', marker = '.')\n",
        "    plt.plot(history['val_loss'], label='val_err', marker = '.')\n",
        "\n",
        "    plt.ylabel('Loss')\n",
        "    plt.xlabel('Epoch')\n",
        "    plt.legend()\n",
        "    plt.grid()\n",
        "    plt.show()"
      ],
      "metadata": {
        "id": "td3NsznP1lka"
      },
      "execution_count": 3,
      "outputs": []
    },
    {
      "cell_type": "markdown",
      "source": [
        "### (2) 데이터로딩"
      ],
      "metadata": {
        "id": "6wuqykgvviCc"
      }
    },
    {
      "cell_type": "code",
      "metadata": {
        "id": "wbN2b33xcYvv",
        "colab": {
          "base_uri": "https://localhost:8080/",
          "height": 206
        },
        "outputId": "45fd2909-d28e-4810-b9cd-53325da813b6"
      },
      "source": [
        "path = 'https://raw.githubusercontent.com/DA4BAM/dataset/master/Carseats.csv'\n",
        "data = pd.read_csv(path)\n",
        "data.head()"
      ],
      "execution_count": 4,
      "outputs": [
        {
          "output_type": "execute_result",
          "data": {
            "text/plain": [
              "   Sales  CompPrice  Income  Advertising  Population  Price ShelveLoc  Age  \\\n",
              "0   9.50        138      73           11         276    120       Bad   42   \n",
              "1  11.22        111      48           16         260     83      Good   65   \n",
              "2  10.06        113      35           10         269     80    Medium   59   \n",
              "3   7.40        117     100            4         466     97    Medium   55   \n",
              "4   4.15        141      64            3         340    128       Bad   38   \n",
              "\n",
              "   Education Urban   US  \n",
              "0         17   Yes  Yes  \n",
              "1         10   Yes  Yes  \n",
              "2         12   Yes  Yes  \n",
              "3         14   Yes  Yes  \n",
              "4         13   Yes   No  "
            ],
            "text/html": [
              "\n",
              "  <div id=\"df-5be59631-fde5-490a-81eb-3c130f8eff1d\" class=\"colab-df-container\">\n",
              "    <div>\n",
              "<style scoped>\n",
              "    .dataframe tbody tr th:only-of-type {\n",
              "        vertical-align: middle;\n",
              "    }\n",
              "\n",
              "    .dataframe tbody tr th {\n",
              "        vertical-align: top;\n",
              "    }\n",
              "\n",
              "    .dataframe thead th {\n",
              "        text-align: right;\n",
              "    }\n",
              "</style>\n",
              "<table border=\"1\" class=\"dataframe\">\n",
              "  <thead>\n",
              "    <tr style=\"text-align: right;\">\n",
              "      <th></th>\n",
              "      <th>Sales</th>\n",
              "      <th>CompPrice</th>\n",
              "      <th>Income</th>\n",
              "      <th>Advertising</th>\n",
              "      <th>Population</th>\n",
              "      <th>Price</th>\n",
              "      <th>ShelveLoc</th>\n",
              "      <th>Age</th>\n",
              "      <th>Education</th>\n",
              "      <th>Urban</th>\n",
              "      <th>US</th>\n",
              "    </tr>\n",
              "  </thead>\n",
              "  <tbody>\n",
              "    <tr>\n",
              "      <th>0</th>\n",
              "      <td>9.50</td>\n",
              "      <td>138</td>\n",
              "      <td>73</td>\n",
              "      <td>11</td>\n",
              "      <td>276</td>\n",
              "      <td>120</td>\n",
              "      <td>Bad</td>\n",
              "      <td>42</td>\n",
              "      <td>17</td>\n",
              "      <td>Yes</td>\n",
              "      <td>Yes</td>\n",
              "    </tr>\n",
              "    <tr>\n",
              "      <th>1</th>\n",
              "      <td>11.22</td>\n",
              "      <td>111</td>\n",
              "      <td>48</td>\n",
              "      <td>16</td>\n",
              "      <td>260</td>\n",
              "      <td>83</td>\n",
              "      <td>Good</td>\n",
              "      <td>65</td>\n",
              "      <td>10</td>\n",
              "      <td>Yes</td>\n",
              "      <td>Yes</td>\n",
              "    </tr>\n",
              "    <tr>\n",
              "      <th>2</th>\n",
              "      <td>10.06</td>\n",
              "      <td>113</td>\n",
              "      <td>35</td>\n",
              "      <td>10</td>\n",
              "      <td>269</td>\n",
              "      <td>80</td>\n",
              "      <td>Medium</td>\n",
              "      <td>59</td>\n",
              "      <td>12</td>\n",
              "      <td>Yes</td>\n",
              "      <td>Yes</td>\n",
              "    </tr>\n",
              "    <tr>\n",
              "      <th>3</th>\n",
              "      <td>7.40</td>\n",
              "      <td>117</td>\n",
              "      <td>100</td>\n",
              "      <td>4</td>\n",
              "      <td>466</td>\n",
              "      <td>97</td>\n",
              "      <td>Medium</td>\n",
              "      <td>55</td>\n",
              "      <td>14</td>\n",
              "      <td>Yes</td>\n",
              "      <td>Yes</td>\n",
              "    </tr>\n",
              "    <tr>\n",
              "      <th>4</th>\n",
              "      <td>4.15</td>\n",
              "      <td>141</td>\n",
              "      <td>64</td>\n",
              "      <td>3</td>\n",
              "      <td>340</td>\n",
              "      <td>128</td>\n",
              "      <td>Bad</td>\n",
              "      <td>38</td>\n",
              "      <td>13</td>\n",
              "      <td>Yes</td>\n",
              "      <td>No</td>\n",
              "    </tr>\n",
              "  </tbody>\n",
              "</table>\n",
              "</div>\n",
              "    <div class=\"colab-df-buttons\">\n",
              "\n",
              "  <div class=\"colab-df-container\">\n",
              "    <button class=\"colab-df-convert\" onclick=\"convertToInteractive('df-5be59631-fde5-490a-81eb-3c130f8eff1d')\"\n",
              "            title=\"Convert this dataframe to an interactive table.\"\n",
              "            style=\"display:none;\">\n",
              "\n",
              "  <svg xmlns=\"http://www.w3.org/2000/svg\" height=\"24px\" viewBox=\"0 -960 960 960\">\n",
              "    <path d=\"M120-120v-720h720v720H120Zm60-500h600v-160H180v160Zm220 220h160v-160H400v160Zm0 220h160v-160H400v160ZM180-400h160v-160H180v160Zm440 0h160v-160H620v160ZM180-180h160v-160H180v160Zm440 0h160v-160H620v160Z\"/>\n",
              "  </svg>\n",
              "    </button>\n",
              "\n",
              "  <style>\n",
              "    .colab-df-container {\n",
              "      display:flex;\n",
              "      gap: 12px;\n",
              "    }\n",
              "\n",
              "    .colab-df-convert {\n",
              "      background-color: #E8F0FE;\n",
              "      border: none;\n",
              "      border-radius: 50%;\n",
              "      cursor: pointer;\n",
              "      display: none;\n",
              "      fill: #1967D2;\n",
              "      height: 32px;\n",
              "      padding: 0 0 0 0;\n",
              "      width: 32px;\n",
              "    }\n",
              "\n",
              "    .colab-df-convert:hover {\n",
              "      background-color: #E2EBFA;\n",
              "      box-shadow: 0px 1px 2px rgba(60, 64, 67, 0.3), 0px 1px 3px 1px rgba(60, 64, 67, 0.15);\n",
              "      fill: #174EA6;\n",
              "    }\n",
              "\n",
              "    .colab-df-buttons div {\n",
              "      margin-bottom: 4px;\n",
              "    }\n",
              "\n",
              "    [theme=dark] .colab-df-convert {\n",
              "      background-color: #3B4455;\n",
              "      fill: #D2E3FC;\n",
              "    }\n",
              "\n",
              "    [theme=dark] .colab-df-convert:hover {\n",
              "      background-color: #434B5C;\n",
              "      box-shadow: 0px 1px 3px 1px rgba(0, 0, 0, 0.15);\n",
              "      filter: drop-shadow(0px 1px 2px rgba(0, 0, 0, 0.3));\n",
              "      fill: #FFFFFF;\n",
              "    }\n",
              "  </style>\n",
              "\n",
              "    <script>\n",
              "      const buttonEl =\n",
              "        document.querySelector('#df-5be59631-fde5-490a-81eb-3c130f8eff1d button.colab-df-convert');\n",
              "      buttonEl.style.display =\n",
              "        google.colab.kernel.accessAllowed ? 'block' : 'none';\n",
              "\n",
              "      async function convertToInteractive(key) {\n",
              "        const element = document.querySelector('#df-5be59631-fde5-490a-81eb-3c130f8eff1d');\n",
              "        const dataTable =\n",
              "          await google.colab.kernel.invokeFunction('convertToInteractive',\n",
              "                                                    [key], {});\n",
              "        if (!dataTable) return;\n",
              "\n",
              "        const docLinkHtml = 'Like what you see? Visit the ' +\n",
              "          '<a target=\"_blank\" href=https://colab.research.google.com/notebooks/data_table.ipynb>data table notebook</a>'\n",
              "          + ' to learn more about interactive tables.';\n",
              "        element.innerHTML = '';\n",
              "        dataTable['output_type'] = 'display_data';\n",
              "        await google.colab.output.renderOutput(dataTable, element);\n",
              "        const docLink = document.createElement('div');\n",
              "        docLink.innerHTML = docLinkHtml;\n",
              "        element.appendChild(docLink);\n",
              "      }\n",
              "    </script>\n",
              "  </div>\n",
              "\n",
              "\n",
              "<div id=\"df-ffb54123-ee33-43e5-a75a-66ed89ba7a98\">\n",
              "  <button class=\"colab-df-quickchart\" onclick=\"quickchart('df-ffb54123-ee33-43e5-a75a-66ed89ba7a98')\"\n",
              "            title=\"Suggest charts\"\n",
              "            style=\"display:none;\">\n",
              "\n",
              "<svg xmlns=\"http://www.w3.org/2000/svg\" height=\"24px\"viewBox=\"0 0 24 24\"\n",
              "     width=\"24px\">\n",
              "    <g>\n",
              "        <path d=\"M19 3H5c-1.1 0-2 .9-2 2v14c0 1.1.9 2 2 2h14c1.1 0 2-.9 2-2V5c0-1.1-.9-2-2-2zM9 17H7v-7h2v7zm4 0h-2V7h2v10zm4 0h-2v-4h2v4z\"/>\n",
              "    </g>\n",
              "</svg>\n",
              "  </button>\n",
              "\n",
              "<style>\n",
              "  .colab-df-quickchart {\n",
              "      --bg-color: #E8F0FE;\n",
              "      --fill-color: #1967D2;\n",
              "      --hover-bg-color: #E2EBFA;\n",
              "      --hover-fill-color: #174EA6;\n",
              "      --disabled-fill-color: #AAA;\n",
              "      --disabled-bg-color: #DDD;\n",
              "  }\n",
              "\n",
              "  [theme=dark] .colab-df-quickchart {\n",
              "      --bg-color: #3B4455;\n",
              "      --fill-color: #D2E3FC;\n",
              "      --hover-bg-color: #434B5C;\n",
              "      --hover-fill-color: #FFFFFF;\n",
              "      --disabled-bg-color: #3B4455;\n",
              "      --disabled-fill-color: #666;\n",
              "  }\n",
              "\n",
              "  .colab-df-quickchart {\n",
              "    background-color: var(--bg-color);\n",
              "    border: none;\n",
              "    border-radius: 50%;\n",
              "    cursor: pointer;\n",
              "    display: none;\n",
              "    fill: var(--fill-color);\n",
              "    height: 32px;\n",
              "    padding: 0;\n",
              "    width: 32px;\n",
              "  }\n",
              "\n",
              "  .colab-df-quickchart:hover {\n",
              "    background-color: var(--hover-bg-color);\n",
              "    box-shadow: 0 1px 2px rgba(60, 64, 67, 0.3), 0 1px 3px 1px rgba(60, 64, 67, 0.15);\n",
              "    fill: var(--button-hover-fill-color);\n",
              "  }\n",
              "\n",
              "  .colab-df-quickchart-complete:disabled,\n",
              "  .colab-df-quickchart-complete:disabled:hover {\n",
              "    background-color: var(--disabled-bg-color);\n",
              "    fill: var(--disabled-fill-color);\n",
              "    box-shadow: none;\n",
              "  }\n",
              "\n",
              "  .colab-df-spinner {\n",
              "    border: 2px solid var(--fill-color);\n",
              "    border-color: transparent;\n",
              "    border-bottom-color: var(--fill-color);\n",
              "    animation:\n",
              "      spin 1s steps(1) infinite;\n",
              "  }\n",
              "\n",
              "  @keyframes spin {\n",
              "    0% {\n",
              "      border-color: transparent;\n",
              "      border-bottom-color: var(--fill-color);\n",
              "      border-left-color: var(--fill-color);\n",
              "    }\n",
              "    20% {\n",
              "      border-color: transparent;\n",
              "      border-left-color: var(--fill-color);\n",
              "      border-top-color: var(--fill-color);\n",
              "    }\n",
              "    30% {\n",
              "      border-color: transparent;\n",
              "      border-left-color: var(--fill-color);\n",
              "      border-top-color: var(--fill-color);\n",
              "      border-right-color: var(--fill-color);\n",
              "    }\n",
              "    40% {\n",
              "      border-color: transparent;\n",
              "      border-right-color: var(--fill-color);\n",
              "      border-top-color: var(--fill-color);\n",
              "    }\n",
              "    60% {\n",
              "      border-color: transparent;\n",
              "      border-right-color: var(--fill-color);\n",
              "    }\n",
              "    80% {\n",
              "      border-color: transparent;\n",
              "      border-right-color: var(--fill-color);\n",
              "      border-bottom-color: var(--fill-color);\n",
              "    }\n",
              "    90% {\n",
              "      border-color: transparent;\n",
              "      border-bottom-color: var(--fill-color);\n",
              "    }\n",
              "  }\n",
              "</style>\n",
              "\n",
              "  <script>\n",
              "    async function quickchart(key) {\n",
              "      const quickchartButtonEl =\n",
              "        document.querySelector('#' + key + ' button');\n",
              "      quickchartButtonEl.disabled = true;  // To prevent multiple clicks.\n",
              "      quickchartButtonEl.classList.add('colab-df-spinner');\n",
              "      try {\n",
              "        const charts = await google.colab.kernel.invokeFunction(\n",
              "            'suggestCharts', [key], {});\n",
              "      } catch (error) {\n",
              "        console.error('Error during call to suggestCharts:', error);\n",
              "      }\n",
              "      quickchartButtonEl.classList.remove('colab-df-spinner');\n",
              "      quickchartButtonEl.classList.add('colab-df-quickchart-complete');\n",
              "    }\n",
              "    (() => {\n",
              "      let quickchartButtonEl =\n",
              "        document.querySelector('#df-ffb54123-ee33-43e5-a75a-66ed89ba7a98 button');\n",
              "      quickchartButtonEl.style.display =\n",
              "        google.colab.kernel.accessAllowed ? 'block' : 'none';\n",
              "    })();\n",
              "  </script>\n",
              "</div>\n",
              "\n",
              "    </div>\n",
              "  </div>\n"
            ],
            "application/vnd.google.colaboratory.intrinsic+json": {
              "type": "dataframe",
              "variable_name": "data",
              "summary": "{\n  \"name\": \"data\",\n  \"rows\": 400,\n  \"fields\": [\n    {\n      \"column\": \"Sales\",\n      \"properties\": {\n        \"dtype\": \"number\",\n        \"std\": 2.824115048806837,\n        \"min\": 0.0,\n        \"max\": 16.27,\n        \"num_unique_values\": 336,\n        \"samples\": [\n          8.55,\n          7.57,\n          5.99\n        ],\n        \"semantic_type\": \"\",\n        \"description\": \"\"\n      }\n    },\n    {\n      \"column\": \"CompPrice\",\n      \"properties\": {\n        \"dtype\": \"number\",\n        \"std\": 15,\n        \"min\": 77,\n        \"max\": 175,\n        \"num_unique_values\": 73,\n        \"samples\": [\n          141,\n          120,\n          134\n        ],\n        \"semantic_type\": \"\",\n        \"description\": \"\"\n      }\n    },\n    {\n      \"column\": \"Income\",\n      \"properties\": {\n        \"dtype\": \"number\",\n        \"std\": 27,\n        \"min\": 21,\n        \"max\": 120,\n        \"num_unique_values\": 98,\n        \"samples\": [\n          30,\n          103,\n          55\n        ],\n        \"semantic_type\": \"\",\n        \"description\": \"\"\n      }\n    },\n    {\n      \"column\": \"Advertising\",\n      \"properties\": {\n        \"dtype\": \"number\",\n        \"std\": 6,\n        \"min\": 0,\n        \"max\": 29,\n        \"num_unique_values\": 28,\n        \"samples\": [\n          2,\n          29,\n          9\n        ],\n        \"semantic_type\": \"\",\n        \"description\": \"\"\n      }\n    },\n    {\n      \"column\": \"Population\",\n      \"properties\": {\n        \"dtype\": \"number\",\n        \"std\": 147,\n        \"min\": 10,\n        \"max\": 509,\n        \"num_unique_values\": 275,\n        \"samples\": [\n          447,\n          492,\n          467\n        ],\n        \"semantic_type\": \"\",\n        \"description\": \"\"\n      }\n    },\n    {\n      \"column\": \"Price\",\n      \"properties\": {\n        \"dtype\": \"number\",\n        \"std\": 23,\n        \"min\": 24,\n        \"max\": 191,\n        \"num_unique_values\": 101,\n        \"samples\": [\n          64,\n          139,\n          49\n        ],\n        \"semantic_type\": \"\",\n        \"description\": \"\"\n      }\n    },\n    {\n      \"column\": \"ShelveLoc\",\n      \"properties\": {\n        \"dtype\": \"category\",\n        \"num_unique_values\": 3,\n        \"samples\": [\n          \"Bad\",\n          \"Good\",\n          \"Medium\"\n        ],\n        \"semantic_type\": \"\",\n        \"description\": \"\"\n      }\n    },\n    {\n      \"column\": \"Age\",\n      \"properties\": {\n        \"dtype\": \"number\",\n        \"std\": 16,\n        \"min\": 25,\n        \"max\": 80,\n        \"num_unique_values\": 56,\n        \"samples\": [\n          42,\n          78,\n          29\n        ],\n        \"semantic_type\": \"\",\n        \"description\": \"\"\n      }\n    },\n    {\n      \"column\": \"Education\",\n      \"properties\": {\n        \"dtype\": \"number\",\n        \"std\": 2,\n        \"min\": 10,\n        \"max\": 18,\n        \"num_unique_values\": 9,\n        \"samples\": [\n          18,\n          10,\n          16\n        ],\n        \"semantic_type\": \"\",\n        \"description\": \"\"\n      }\n    },\n    {\n      \"column\": \"Urban\",\n      \"properties\": {\n        \"dtype\": \"category\",\n        \"num_unique_values\": 2,\n        \"samples\": [\n          \"No\",\n          \"Yes\"\n        ],\n        \"semantic_type\": \"\",\n        \"description\": \"\"\n      }\n    },\n    {\n      \"column\": \"US\",\n      \"properties\": {\n        \"dtype\": \"category\",\n        \"num_unique_values\": 2,\n        \"samples\": [\n          \"No\",\n          \"Yes\"\n        ],\n        \"semantic_type\": \"\",\n        \"description\": \"\"\n      }\n    }\n  ]\n}"
            }
          },
          "metadata": {},
          "execution_count": 4
        }
      ]
    },
    {
      "cell_type": "markdown",
      "source": [
        "|\t변수명\t|\t설명\t|\t구분\t|\n",
        "|\t----\t|\t----\t|\t----\t|\n",
        "|\tSales \t|\t 각 지역 판매량(단위 : 1000개)\t|\tTarget\t|\n",
        "|\tCompPrice \t|\t지역별 경쟁사 판매가격(달러)\t|\tfeature\t|\n",
        "|\tIncome \t|\t가구당 평균 소득액(1000달러)\t|\tfeature\t|\n",
        "|\tAdvertising \t|\t 각 지역, 회사의 광고 예산(1000달러)\t|\tfeature\t|\n",
        "|\tPopulation \t|\t 지역 인구수(단위 : 1000명)\t|\tfeature\t|\n",
        "|\tPrice \t|\t 자사 지역별 판매가격(달러)\t|\tfeature\t|\n",
        "|\tShelveLoc \t|\t 진열상태(범주 : Bad, Medium, Good)\t|\tfeature\t|\n",
        "|\tAge \t|\t 지역 인구의 평균 연령\t|\tfeature\t|\n",
        "|\tEducation \t|\t 교육수준(범주 : 10~18)\t|\tfeature\t|\n",
        "|\tUrban \t|\t 매장이 도심에 있는지 여부(범주 : Yes, No)\t|\tfeature\t|\n",
        "|\tUS \t|\t 매장이 미국에 있는지 여부(범주 : Yes, No)\t|\tfeature\t|\n"
      ],
      "metadata": {
        "id": "zYKHwYHatC4k"
      }
    },
    {
      "cell_type": "markdown",
      "source": [
        "## 2.데이터 준비"
      ],
      "metadata": {
        "id": "oICMvjzJJKbn"
      }
    },
    {
      "cell_type": "markdown",
      "metadata": {
        "id": "y9Q6jR6OZjUk"
      },
      "source": [
        "### (1) 데이터 준비"
      ]
    },
    {
      "cell_type": "code",
      "metadata": {
        "id": "FA-PnUpcLqXN"
      },
      "source": [
        "target = 'Sales'\n",
        "x = data.drop(target, axis=1)\n",
        "y = data.loc[:, target]"
      ],
      "execution_count": 5,
      "outputs": []
    },
    {
      "cell_type": "markdown",
      "metadata": {
        "id": "nOF9fSLQugGf"
      },
      "source": [
        "### (2) 가변수화"
      ]
    },
    {
      "cell_type": "code",
      "source": [
        "cat_cols = ['ShelveLoc', 'Education', 'US', 'Urban']\n",
        "x = pd.get_dummies(x, columns = cat_cols, drop_first = True)"
      ],
      "metadata": {
        "id": "JXG5cAFRyqjU"
      },
      "execution_count": 6,
      "outputs": []
    },
    {
      "cell_type": "markdown",
      "source": [
        "### (3) 데이터분할"
      ],
      "metadata": {
        "id": "KsGGC-a4vpar"
      }
    },
    {
      "cell_type": "code",
      "source": [
        "x_train, x_val, y_train, y_val = train_test_split(x, y, test_size=.2, random_state = 20)"
      ],
      "metadata": {
        "id": "7ilUcIlvvrqR"
      },
      "execution_count": 7,
      "outputs": []
    },
    {
      "cell_type": "markdown",
      "metadata": {
        "id": "MXUC5Yi3um81"
      },
      "source": [
        "### (4) Scaling"
      ]
    },
    {
      "cell_type": "code",
      "source": [
        "scaler = MinMaxScaler()\n",
        "x_train = scaler.fit_transform(x_train)\n",
        "x_val = scaler.transform(x_val)"
      ],
      "metadata": {
        "id": "9bly3GLif1eP"
      },
      "execution_count": 8,
      "outputs": []
    },
    {
      "cell_type": "markdown",
      "metadata": {
        "id": "or87og8ocYvw"
      },
      "source": [
        "## 3.모델링\n",
        "\n",
        "* 히든레이어를 추가한 모델 두 개 이상을 생성한 후\n",
        "* 성능을 비교하시오.\n",
        "* 성능을 높이기 위해서 조절할 것들\n",
        "    * 히든레이어 수\n",
        "    * 히든레이어 노드수\n",
        "    * epochs 수\n",
        "    * learning_rate : 0.1 ~ 0.0001 사이에서 조정(예 Adam(learning_rate = 0.01))\n"
      ]
    },
    {
      "cell_type": "markdown",
      "source": [
        "### (1) 모델1"
      ],
      "metadata": {
        "id": "0C3BHe_d1suj"
      }
    },
    {
      "cell_type": "markdown",
      "source": [
        "* 모델 설계\n",
        "    * 일단 먼저 손으로 구조를 그려본 후\n",
        "    * 코드로 옮겨 봅시다."
      ],
      "metadata": {
        "id": "MZQ1GyB7vONX"
      }
    },
    {
      "cell_type": "code",
      "source": [
        "nfeature = x_train.shape[1]\n",
        "nfeature"
      ],
      "metadata": {
        "colab": {
          "base_uri": "https://localhost:8080/",
          "height": 0
        },
        "id": "_9u6H04vGCKn",
        "outputId": "7ca97f20-a085-4a70-b34e-1c11c220cd38"
      },
      "execution_count": 12,
      "outputs": [
        {
          "output_type": "execute_result",
          "data": {
            "text/plain": [
              "18"
            ]
          },
          "metadata": {},
          "execution_count": 12
        }
      ]
    },
    {
      "cell_type": "code",
      "source": [
        "clear_session()\n",
        "model1 = Sequential([Dense(1, input_shape=(nfeature, ))])\n",
        "model1.summary()"
      ],
      "metadata": {
        "id": "fRAnQdBEDrCM",
        "colab": {
          "base_uri": "https://localhost:8080/",
          "height": 0
        },
        "outputId": "8d137fc5-368f-4303-e32a-8fb7e0211c7a"
      },
      "execution_count": 17,
      "outputs": [
        {
          "output_type": "stream",
          "name": "stdout",
          "text": [
            "Model: \"sequential\"\n",
            "_________________________________________________________________\n",
            " Layer (type)                Output Shape              Param #   \n",
            "=================================================================\n",
            " dense (Dense)               (None, 1)                 19        \n",
            "                                                                 \n",
            "=================================================================\n",
            "Total params: 19 (76.00 Byte)\n",
            "Trainable params: 19 (76.00 Byte)\n",
            "Non-trainable params: 0 (0.00 Byte)\n",
            "_________________________________________________________________\n"
          ]
        }
      ]
    },
    {
      "cell_type": "markdown",
      "source": [
        "* 컴파일 + 학습"
      ],
      "metadata": {
        "id": "Sg5XlbcW0w2y"
      }
    },
    {
      "cell_type": "code",
      "source": [
        "model1.compile(optimizer=Adam(0.001), loss='mse')\n",
        "hist = model1.fit(x_train, y_train, epochs=20, validation_split=0.2).history"
      ],
      "metadata": {
        "id": "iEZWr_jNwCpr",
        "colab": {
          "base_uri": "https://localhost:8080/",
          "height": 0
        },
        "outputId": "6c459812-0c7a-438d-e97b-b83a8668fdde"
      },
      "execution_count": 18,
      "outputs": [
        {
          "output_type": "stream",
          "name": "stdout",
          "text": [
            "Epoch 1/20\n",
            "8/8 [==============================] - 1s 38ms/step - loss: 56.8770 - val_loss: 54.1443\n",
            "Epoch 2/20\n",
            "8/8 [==============================] - 0s 12ms/step - loss: 56.1221 - val_loss: 53.4482\n",
            "Epoch 3/20\n",
            "8/8 [==============================] - 0s 21ms/step - loss: 55.3834 - val_loss: 52.7540\n",
            "Epoch 4/20\n",
            "8/8 [==============================] - 0s 21ms/step - loss: 54.6370 - val_loss: 52.0725\n",
            "Epoch 5/20\n",
            "8/8 [==============================] - 0s 10ms/step - loss: 53.9123 - val_loss: 51.3927\n",
            "Epoch 6/20\n",
            "8/8 [==============================] - 0s 17ms/step - loss: 53.1954 - val_loss: 50.7189\n",
            "Epoch 7/20\n",
            "8/8 [==============================] - 0s 26ms/step - loss: 52.4788 - val_loss: 50.0550\n",
            "Epoch 8/20\n",
            "8/8 [==============================] - 0s 14ms/step - loss: 51.7736 - val_loss: 49.3995\n",
            "Epoch 9/20\n",
            "8/8 [==============================] - 0s 13ms/step - loss: 51.0816 - val_loss: 48.7488\n",
            "Epoch 10/20\n",
            "8/8 [==============================] - 0s 12ms/step - loss: 50.3822 - val_loss: 48.1146\n",
            "Epoch 11/20\n",
            "8/8 [==============================] - 0s 16ms/step - loss: 49.7057 - val_loss: 47.4840\n",
            "Epoch 12/20\n",
            "8/8 [==============================] - 0s 10ms/step - loss: 49.0340 - val_loss: 46.8603\n",
            "Epoch 13/20\n",
            "8/8 [==============================] - 0s 11ms/step - loss: 48.3662 - val_loss: 46.2471\n",
            "Epoch 14/20\n",
            "8/8 [==============================] - 0s 26ms/step - loss: 47.7213 - val_loss: 45.6337\n",
            "Epoch 15/20\n",
            "8/8 [==============================] - 0s 15ms/step - loss: 47.0645 - val_loss: 45.0364\n",
            "Epoch 16/20\n",
            "8/8 [==============================] - 0s 6ms/step - loss: 46.4263 - val_loss: 44.4434\n",
            "Epoch 17/20\n",
            "8/8 [==============================] - 0s 6ms/step - loss: 45.7926 - val_loss: 43.8613\n",
            "Epoch 18/20\n",
            "8/8 [==============================] - 0s 6ms/step - loss: 45.1712 - val_loss: 43.2837\n",
            "Epoch 19/20\n",
            "8/8 [==============================] - 0s 5ms/step - loss: 44.5516 - val_loss: 42.7169\n",
            "Epoch 20/20\n",
            "8/8 [==============================] - 0s 8ms/step - loss: 43.9464 - val_loss: 42.1544\n"
          ]
        }
      ]
    },
    {
      "cell_type": "markdown",
      "source": [
        "* 학습곡선"
      ],
      "metadata": {
        "id": "6iLA8c2p00M6"
      }
    },
    {
      "cell_type": "code",
      "source": [
        "dl_history_plot(hist)"
      ],
      "metadata": {
        "id": "T9plSoBwwCh8",
        "colab": {
          "base_uri": "https://localhost:8080/",
          "height": 542
        },
        "outputId": "cc244b35-4410-4f70-a308-067f9236c5dd"
      },
      "execution_count": 19,
      "outputs": [
        {
          "output_type": "display_data",
          "data": {
            "text/plain": [
              "<Figure size 1000x600 with 1 Axes>"
            ],
            "image/png": "[encoded data removed]"
          },
          "metadata": {}
        }
      ]
    },
    {
      "cell_type": "markdown",
      "source": [
        "* 검증"
      ],
      "metadata": {
        "id": "hVa3Z88902gU"
      }
    },
    {
      "cell_type": "code",
      "source": [
        "pred = model1.predict(x_val)\n",
        "print('RMSE:', mean_squared_error(y_val, pred))\n",
        "print('MAE:', mean_absolute_error(y_val, pred))\n",
        "print('MAPE:', mean_absolute_error(y_val, pred))"
      ],
      "metadata": {
        "id": "PTzZV-_DwCY3",
        "colab": {
          "base_uri": "https://localhost:8080/",
          "height": 0
        },
        "outputId": "ccd6412f-e75f-4f52-a5dd-9489ad5e9421"
      },
      "execution_count": 20,
      "outputs": [
        {
          "output_type": "stream",
          "name": "stdout",
          "text": [
            "3/3 [==============================] - 0s 9ms/step\n",
            "RMSE: 41.15651468749719\n",
            "MAE: 5.723876590430737\n",
            "MAPE: 5.723876590430737\n"
          ]
        }
      ]
    },
    {
      "cell_type": "markdown",
      "source": [
        "### (2) 모델2"
      ],
      "metadata": {
        "id": "2S4Bukgz2EJy"
      }
    },
    {
      "cell_type": "markdown",
      "source": [
        "* 모델 설계\n",
        "    * 일단 먼저 손으로 구조를 그려본 후\n",
        "    * 코드로 옮겨 봅시다."
      ],
      "metadata": {
        "id": "xvHNAHE82EJz"
      }
    },
    {
      "cell_type": "code",
      "source": [
        "clear_session()\n",
        "model2 = Sequential([Dense(9, input_shape=(nfeature,), activation='relu'),\n",
        "                     Dense(1)])\n",
        "model2.summary()"
      ],
      "metadata": {
        "id": "aw4tMHrU2EJz",
        "colab": {
          "base_uri": "https://localhost:8080/",
          "height": 0
        },
        "outputId": "4f9ce8c0-6dd8-491b-966a-b7ea4bc2f03c"
      },
      "execution_count": 23,
      "outputs": [
        {
          "output_type": "stream",
          "name": "stdout",
          "text": [
            "Model: \"sequential\"\n",
            "_________________________________________________________________\n",
            " Layer (type)                Output Shape              Param #   \n",
            "=================================================================\n",
            " dense (Dense)               (None, 9)                 171       \n",
            "                                                                 \n",
            " dense_1 (Dense)             (None, 1)                 10        \n",
            "                                                                 \n",
            "=================================================================\n",
            "Total params: 181 (724.00 Byte)\n",
            "Trainable params: 181 (724.00 Byte)\n",
            "Non-trainable params: 0 (0.00 Byte)\n",
            "_________________________________________________________________\n"
          ]
        }
      ]
    },
    {
      "cell_type": "markdown",
      "source": [
        "* 컴파일 + 학습"
      ],
      "metadata": {
        "id": "sIHyxvkQ2EJz"
      }
    },
    {
      "cell_type": "code",
      "source": [
        "model2.compile(optimizer=Adam(0.01), loss='mse')\n",
        "hist = model2.fit(x_train, y_train, epochs=20, validation_split=0.2).history"
      ],
      "metadata": {
        "id": "otMjNy8_2EJz",
        "colab": {
          "base_uri": "https://localhost:8080/",
          "height": 0
        },
        "outputId": "b7bd756d-eacc-4c4b-ba7f-5f4b0f3d9c5a"
      },
      "execution_count": 24,
      "outputs": [
        {
          "output_type": "stream",
          "name": "stdout",
          "text": [
            "Epoch 1/20\n",
            "8/8 [==============================] - 1s 27ms/step - loss: 60.1006 - val_loss: 49.7352\n",
            "Epoch 2/20\n",
            "8/8 [==============================] - 0s 6ms/step - loss: 47.9327 - val_loss: 36.1064\n",
            "Epoch 3/20\n",
            "8/8 [==============================] - 0s 8ms/step - loss: 32.1186 - val_loss: 21.6291\n",
            "Epoch 4/20\n",
            "8/8 [==============================] - 0s 8ms/step - loss: 17.9443 - val_loss: 11.8022\n",
            "Epoch 5/20\n",
            "8/8 [==============================] - 0s 9ms/step - loss: 9.8068 - val_loss: 9.3640\n",
            "Epoch 6/20\n",
            "8/8 [==============================] - 0s 6ms/step - loss: 8.4967 - val_loss: 10.6631\n",
            "Epoch 7/20\n",
            "8/8 [==============================] - 0s 8ms/step - loss: 8.3654 - val_loss: 10.1298\n",
            "Epoch 8/20\n",
            "8/8 [==============================] - 0s 9ms/step - loss: 7.6782 - val_loss: 9.2312\n",
            "Epoch 9/20\n",
            "8/8 [==============================] - 0s 6ms/step - loss: 7.1495 - val_loss: 8.8048\n",
            "Epoch 10/20\n",
            "8/8 [==============================] - 0s 6ms/step - loss: 6.9754 - val_loss: 8.5884\n",
            "Epoch 11/20\n",
            "8/8 [==============================] - 0s 6ms/step - loss: 6.7930 - val_loss: 8.4922\n",
            "Epoch 12/20\n",
            "8/8 [==============================] - 0s 8ms/step - loss: 6.5617 - val_loss: 8.4851\n",
            "Epoch 13/20\n",
            "8/8 [==============================] - 0s 8ms/step - loss: 6.3735 - val_loss: 8.4167\n",
            "Epoch 14/20\n",
            "8/8 [==============================] - 0s 6ms/step - loss: 6.1879 - val_loss: 8.3117\n",
            "Epoch 15/20\n",
            "8/8 [==============================] - 0s 9ms/step - loss: 6.0282 - val_loss: 8.1871\n",
            "Epoch 16/20\n",
            "8/8 [==============================] - 0s 6ms/step - loss: 5.8928 - val_loss: 8.0960\n",
            "Epoch 17/20\n",
            "8/8 [==============================] - 0s 8ms/step - loss: 5.7721 - val_loss: 7.8694\n",
            "Epoch 18/20\n",
            "8/8 [==============================] - 0s 8ms/step - loss: 5.5910 - val_loss: 7.8721\n",
            "Epoch 19/20\n",
            "8/8 [==============================] - 0s 6ms/step - loss: 5.4649 - val_loss: 7.8456\n",
            "Epoch 20/20\n",
            "8/8 [==============================] - 0s 6ms/step - loss: 5.3672 - val_loss: 7.7742\n"
          ]
        }
      ]
    },
    {
      "cell_type": "markdown",
      "source": [
        "* 학습곡선"
      ],
      "metadata": {
        "id": "MeI5tI2o2EJz"
      }
    },
    {
      "cell_type": "code",
      "source": [
        "dl_history_plot(hist)"
      ],
      "metadata": {
        "id": "L1QtsDLf2EJz",
        "colab": {
          "base_uri": "https://localhost:8080/",
          "height": 542
        },
        "outputId": "5db7a00f-b191-4b0b-be95-0a6b7776d3b9"
      },
      "execution_count": 25,
      "outputs": [
        {
          "output_type": "display_data",
          "data": {
            "text/plain": [
              "<Figure size 1000x600 with 1 Axes>"
            ],
            "image/png": "[encoded data removed]"
          },
          "metadata": {}
        }
      ]
    },
    {
      "cell_type": "markdown",
      "source": [
        "* 검증"
      ],
      "metadata": {
        "id": "5iBe6i1d2EJ0"
      }
    },
    {
      "cell_type": "code",
      "source": [
        "pred = model1.predict(x_val)\n",
        "print('RMSE:', mean_squared_error(y_val, pred))\n",
        "print('MAE:', mean_absolute_error(y_val, pred))\n",
        "print('MAPE:', mean_absolute_error(y_val, pred))"
      ],
      "metadata": {
        "id": "POTQyyuW2EJ0",
        "colab": {
          "base_uri": "https://localhost:8080/",
          "height": 0
        },
        "outputId": "6f3517f4-5c4d-4a33-dfed-10f68cbbcd85"
      },
      "execution_count": 26,
      "outputs": [
        {
          "output_type": "stream",
          "name": "stdout",
          "text": [
            "3/3 [==============================] - 0s 7ms/step\n",
            "RMSE: 41.15651468749719\n",
            "MAE: 5.723876590430737\n",
            "MAPE: 5.723876590430737\n"
          ]
        }
      ]
    },
    {
      "cell_type": "markdown",
      "source": [
        "### (3) 모델3"
      ],
      "metadata": {
        "id": "0SwZmtuF-3i1"
      }
    },
    {
      "cell_type": "markdown",
      "source": [
        "* 모델 설계\n",
        "    * 일단 먼저 손으로 구조를 그려본 후\n",
        "    * 코드로 옮겨 봅시다."
      ],
      "metadata": {
        "id": "8yg1-CM5eQf-"
      }
    },
    {
      "cell_type": "code",
      "source": [
        "clear_session()\n",
        "model3 = Sequential([Dense(12, input_shape=(nfeature, ), activation='relu'),\n",
        "                     Dense(6, activation='relu'),\n",
        "                     Dense(3, activation='relu'),\n",
        "                     Dense(1)])\n",
        "model3.summary()"
      ],
      "metadata": {
        "id": "hp_ljGDteQgG",
        "colab": {
          "base_uri": "https://localhost:8080/",
          "height": 0
        },
        "outputId": "cb2ef974-5959-4ddc-8668-8bdf50d46981"
      },
      "execution_count": 44,
      "outputs": [
        {
          "output_type": "stream",
          "name": "stdout",
          "text": [
            "Model: \"sequential\"\n",
            "_________________________________________________________________\n",
            " Layer (type)                Output Shape              Param #   \n",
            "=================================================================\n",
            " dense (Dense)               (None, 12)                228       \n",
            "                                                                 \n",
            " dense_1 (Dense)             (None, 6)                 78        \n",
            "                                                                 \n",
            " dense_2 (Dense)             (None, 3)                 21        \n",
            "                                                                 \n",
            " dense_3 (Dense)             (None, 1)                 4         \n",
            "                                                                 \n",
            "=================================================================\n",
            "Total params: 331 (1.29 KB)\n",
            "Trainable params: 331 (1.29 KB)\n",
            "Non-trainable params: 0 (0.00 Byte)\n",
            "_________________________________________________________________\n"
          ]
        }
      ]
    },
    {
      "cell_type": "markdown",
      "source": [
        "* 컴파일 + 학습"
      ],
      "metadata": {
        "id": "0L5OAiYIeQgG"
      }
    },
    {
      "cell_type": "code",
      "source": [
        "model3.compile(optimizer=Adam(0.1), loss='mse')\n",
        "hist = model3.fit(x_train, y_train, epochs=25, validation_split=0.2).history"
      ],
      "metadata": {
        "id": "ZgRGS9X0eQgG",
        "colab": {
          "base_uri": "https://localhost:8080/",
          "height": 0
        },
        "outputId": "bedbf395-ff34-49ff-ac02-3cc217f2e858"
      },
      "execution_count": 45,
      "outputs": [
        {
          "output_type": "stream",
          "name": "stdout",
          "text": [
            "Epoch 1/25\n",
            "8/8 [==============================] - 2s 45ms/step - loss: 29.5669 - val_loss: 21.6932\n",
            "Epoch 2/25\n",
            "8/8 [==============================] - 0s 13ms/step - loss: 14.2043 - val_loss: 9.8578\n",
            "Epoch 3/25\n",
            "8/8 [==============================] - 0s 14ms/step - loss: 5.0173 - val_loss: 6.3646\n",
            "Epoch 4/25\n",
            "8/8 [==============================] - 0s 14ms/step - loss: 4.5311 - val_loss: 6.5576\n",
            "Epoch 5/25\n",
            "8/8 [==============================] - 0s 13ms/step - loss: 4.0970 - val_loss: 5.6069\n",
            "Epoch 6/25\n",
            "8/8 [==============================] - 0s 10ms/step - loss: 3.9387 - val_loss: 6.1895\n",
            "Epoch 7/25\n",
            "8/8 [==============================] - 0s 9ms/step - loss: 3.8589 - val_loss: 5.0388\n",
            "Epoch 8/25\n",
            "8/8 [==============================] - 0s 6ms/step - loss: 3.7523 - val_loss: 5.4871\n",
            "Epoch 9/25\n",
            "8/8 [==============================] - 0s 8ms/step - loss: 3.3757 - val_loss: 5.1495\n",
            "Epoch 10/25\n",
            "8/8 [==============================] - 0s 9ms/step - loss: 3.2723 - val_loss: 4.2584\n",
            "Epoch 11/25\n",
            "8/8 [==============================] - 0s 7ms/step - loss: 3.0877 - val_loss: 4.2279\n",
            "Epoch 12/25\n",
            "8/8 [==============================] - 0s 9ms/step - loss: 2.8209 - val_loss: 4.4963\n",
            "Epoch 13/25\n",
            "8/8 [==============================] - 0s 6ms/step - loss: 2.5586 - val_loss: 3.2459\n",
            "Epoch 14/25\n",
            "8/8 [==============================] - 0s 8ms/step - loss: 2.3247 - val_loss: 2.9626\n",
            "Epoch 15/25\n",
            "8/8 [==============================] - 0s 8ms/step - loss: 2.1598 - val_loss: 2.8675\n",
            "Epoch 16/25\n",
            "8/8 [==============================] - 0s 8ms/step - loss: 1.8970 - val_loss: 2.3612\n",
            "Epoch 17/25\n",
            "8/8 [==============================] - 0s 8ms/step - loss: 1.8751 - val_loss: 2.1846\n",
            "Epoch 18/25\n",
            "8/8 [==============================] - 0s 8ms/step - loss: 1.7447 - val_loss: 1.8404\n",
            "Epoch 19/25\n",
            "8/8 [==============================] - 0s 8ms/step - loss: 1.4654 - val_loss: 1.6817\n",
            "Epoch 20/25\n",
            "8/8 [==============================] - 0s 6ms/step - loss: 1.2498 - val_loss: 1.5946\n",
            "Epoch 21/25\n",
            "8/8 [==============================] - 0s 6ms/step - loss: 1.1426 - val_loss: 1.4736\n",
            "Epoch 22/25\n",
            "8/8 [==============================] - 0s 8ms/step - loss: 1.0196 - val_loss: 1.5699\n",
            "Epoch 23/25\n",
            "8/8 [==============================] - 0s 9ms/step - loss: 1.0514 - val_loss: 1.4864\n",
            "Epoch 24/25\n",
            "8/8 [==============================] - 0s 6ms/step - loss: 1.0058 - val_loss: 1.6711\n",
            "Epoch 25/25\n",
            "8/8 [==============================] - 0s 6ms/step - loss: 1.0207 - val_loss: 1.5625\n"
          ]
        }
      ]
    },
    {
      "cell_type": "markdown",
      "source": [
        "* 학습곡선"
      ],
      "metadata": {
        "id": "_UqZwU0zeQgG"
      }
    },
    {
      "cell_type": "code",
      "source": [
        "dl_history_plot(hist)"
      ],
      "metadata": {
        "id": "ZDHvyNbXeQgG",
        "colab": {
          "base_uri": "https://localhost:8080/",
          "height": 542
        },
        "outputId": "925e437b-a558-4a9b-98cf-baaf4b406804"
      },
      "execution_count": 46,
      "outputs": [
        {
          "output_type": "display_data",
          "data": {
            "text/plain": [
              "<Figure size 1000x600 with 1 Axes>"
            ],
            "image/png": "[encoded data removed]"
          },
          "metadata": {}
        }
      ]
    },
    {
      "cell_type": "markdown",
      "source": [
        "* 검증"
      ],
      "metadata": {
        "id": "x-MrIZUOeQgH"
      }
    },
    {
      "cell_type": "code",
      "source": [
        "pred = model1.predict(x_val)\n",
        "print('RMSE:', mean_squared_error(y_val, pred))\n",
        "print('MAE:', mean_absolute_error(y_val, pred))\n",
        "print('MAPE:', mean_absolute_error(y_val, pred))"
      ],
      "metadata": {
        "id": "UdvGry1neQgH",
        "colab": {
          "base_uri": "https://localhost:8080/",
          "height": 0
        },
        "outputId": "d24452f8-ec6e-49cb-8647-5a589e4fc7b4"
      },
      "execution_count": 47,
      "outputs": [
        {
          "output_type": "stream",
          "name": "stdout",
          "text": [
            "3/3 [==============================] - 0s 4ms/step\n",
            "RMSE: 41.15651468749719\n",
            "MAE: 5.723876590430737\n",
            "MAPE: 5.723876590430737\n"
          ]
        }
      ]
    },
    {
      "cell_type": "code",
      "source": [],
      "metadata": {
        "id": "eyVcw-AfJRoP"
      },
      "execution_count": null,
      "outputs": []
    }
  ]
}