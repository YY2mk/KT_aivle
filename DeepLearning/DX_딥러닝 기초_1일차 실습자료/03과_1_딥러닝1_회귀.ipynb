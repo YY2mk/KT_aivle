{
  "nbformat": 4,
  "nbformat_minor": 0,
  "metadata": {
    "colab": {
      "provenance": [],
      "include_colab_link": true
    },
    "kernelspec": {
      "name": "python3",
      "display_name": "Python 3"
    }
  },
  "cells": [
    {
      "cell_type": "markdown",
      "metadata": {
        "id": "view-in-github",
        "colab_type": "text"
      },
      "source": [
        "<a href=\"https://colab.research.google.com/github/YY2mk/KT_aivle/blob/master/DeepLearning/DX_%EB%94%A5%EB%9F%AC%EB%8B%9D%20%EA%B8%B0%EC%B4%88_1%EC%9D%BC%EC%B0%A8%20%EC%8B%A4%EC%8A%B5%EC%9E%90%EB%A3%8C/03%EA%B3%BC_1_%EB%94%A5%EB%9F%AC%EB%8B%9D1_%ED%9A%8C%EA%B7%80.ipynb\" target=\"_parent\"><img src=\"https://colab.research.google.com/assets/colab-badge.svg\" alt=\"Open In Colab\"/></a>"
      ]
    },
    {
      "cell_type": "markdown",
      "metadata": {
        "id": "cVB9pY-v8uv5"
      },
      "source": [
        "# 딥러닝1 : 회귀"
      ]
    },
    {
      "cell_type": "markdown",
      "metadata": {
        "id": "gIN5d51gtker"
      },
      "source": [
        "## 1.환경준비"
      ]
    },
    {
      "cell_type": "markdown",
      "source": [
        "### (1) 라이브러리 로딩"
      ],
      "metadata": {
        "id": "98K82DAxvX6I"
      }
    },
    {
      "cell_type": "code",
      "metadata": {
        "id": "GVvCef6A8uv6"
      },
      "source": [
        "import pandas as pd\n",
        "import numpy as np\n",
        "import matplotlib.pyplot as plt\n",
        "import seaborn as sns\n",
        "\n",
        "from sklearn.model_selection import train_test_split\n",
        "from sklearn.metrics import *\n",
        "from sklearn.preprocessing import MinMaxScaler\n",
        "\n",
        "from keras.models import Sequential\n",
        "from keras.layers import Dense\n",
        "from keras.backend import clear_session\n",
        "from keras.optimizers import Adam"
      ],
      "execution_count": 1,
      "outputs": []
    },
    {
      "cell_type": "markdown",
      "source": [
        "* 학습곡선 그래프"
      ],
      "metadata": {
        "id": "rLJiB1Ib1Nss"
      }
    },
    {
      "cell_type": "markdown",
      "source": [
        "### (2) 데이터로딩"
      ],
      "metadata": {
        "id": "6wuqykgvviCc"
      }
    },
    {
      "cell_type": "code",
      "metadata": {
        "id": "Vqr7zY5r8uwC",
        "colab": {
          "base_uri": "https://localhost:8080/",
          "height": 206
        },
        "outputId": "f350f38d-d0db-4e04-eedd-0de2ac3c2214"
      },
      "source": [
        "path = 'https://raw.githubusercontent.com/DA4BAM/dataset/master/boston.csv'\n",
        "data = pd.read_csv(path)\n",
        "data.head()"
      ],
      "execution_count": 2,
      "outputs": [
        {
          "output_type": "execute_result",
          "data": {
            "text/plain": [
              "      crim    zn  indus  chas    nox     rm   age     dis  rad  tax  ptratio  \\\n",
              "0  0.00632  18.0   2.31     0  0.538  6.575  65.2  4.0900    1  296     15.3   \n",
              "1  0.02731   0.0   7.07     0  0.469  6.421  78.9  4.9671    2  242     17.8   \n",
              "2  0.02729   0.0   7.07     0  0.469  7.185  61.1  4.9671    2  242     17.8   \n",
              "3  0.03237   0.0   2.18     0  0.458  6.998  45.8  6.0622    3  222     18.7   \n",
              "4  0.06905   0.0   2.18     0  0.458  7.147  54.2  6.0622    3  222     18.7   \n",
              "\n",
              "   lstat  medv  \n",
              "0   4.98  24.0  \n",
              "1   9.14  21.6  \n",
              "2   4.03  34.7  \n",
              "3   2.94  33.4  \n",
              "4   5.33  36.2  "
            ],
            "text/html": [
              "\n",
              "  <div id=\"df-bd7ff4ce-46a2-49b3-a5ca-3b5041eb4f46\" class=\"colab-df-container\">\n",
              "    <div>\n",
              "<style scoped>\n",
              "    .dataframe tbody tr th:only-of-type {\n",
              "        vertical-align: middle;\n",
              "    }\n",
              "\n",
              "    .dataframe tbody tr th {\n",
              "        vertical-align: top;\n",
              "    }\n",
              "\n",
              "    .dataframe thead th {\n",
              "        text-align: right;\n",
              "    }\n",
              "</style>\n",
              "<table border=\"1\" class=\"dataframe\">\n",
              "  <thead>\n",
              "    <tr style=\"text-align: right;\">\n",
              "      <th></th>\n",
              "      <th>crim</th>\n",
              "      <th>zn</th>\n",
              "      <th>indus</th>\n",
              "      <th>chas</th>\n",
              "      <th>nox</th>\n",
              "      <th>rm</th>\n",
              "      <th>age</th>\n",
              "      <th>dis</th>\n",
              "      <th>rad</th>\n",
              "      <th>tax</th>\n",
              "      <th>ptratio</th>\n",
              "      <th>lstat</th>\n",
              "      <th>medv</th>\n",
              "    </tr>\n",
              "  </thead>\n",
              "  <tbody>\n",
              "    <tr>\n",
              "      <th>0</th>\n",
              "      <td>0.00632</td>\n",
              "      <td>18.0</td>\n",
              "      <td>2.31</td>\n",
              "      <td>0</td>\n",
              "      <td>0.538</td>\n",
              "      <td>6.575</td>\n",
              "      <td>65.2</td>\n",
              "      <td>4.0900</td>\n",
              "      <td>1</td>\n",
              "      <td>296</td>\n",
              "      <td>15.3</td>\n",
              "      <td>4.98</td>\n",
              "      <td>24.0</td>\n",
              "    </tr>\n",
              "    <tr>\n",
              "      <th>1</th>\n",
              "      <td>0.02731</td>\n",
              "      <td>0.0</td>\n",
              "      <td>7.07</td>\n",
              "      <td>0</td>\n",
              "      <td>0.469</td>\n",
              "      <td>6.421</td>\n",
              "      <td>78.9</td>\n",
              "      <td>4.9671</td>\n",
              "      <td>2</td>\n",
              "      <td>242</td>\n",
              "      <td>17.8</td>\n",
              "      <td>9.14</td>\n",
              "      <td>21.6</td>\n",
              "    </tr>\n",
              "    <tr>\n",
              "      <th>2</th>\n",
              "      <td>0.02729</td>\n",
              "      <td>0.0</td>\n",
              "      <td>7.07</td>\n",
              "      <td>0</td>\n",
              "      <td>0.469</td>\n",
              "      <td>7.185</td>\n",
              "      <td>61.1</td>\n",
              "      <td>4.9671</td>\n",
              "      <td>2</td>\n",
              "      <td>242</td>\n",
              "      <td>17.8</td>\n",
              "      <td>4.03</td>\n",
              "      <td>34.7</td>\n",
              "    </tr>\n",
              "    <tr>\n",
              "      <th>3</th>\n",
              "      <td>0.03237</td>\n",
              "      <td>0.0</td>\n",
              "      <td>2.18</td>\n",
              "      <td>0</td>\n",
              "      <td>0.458</td>\n",
              "      <td>6.998</td>\n",
              "      <td>45.8</td>\n",
              "      <td>6.0622</td>\n",
              "      <td>3</td>\n",
              "      <td>222</td>\n",
              "      <td>18.7</td>\n",
              "      <td>2.94</td>\n",
              "      <td>33.4</td>\n",
              "    </tr>\n",
              "    <tr>\n",
              "      <th>4</th>\n",
              "      <td>0.06905</td>\n",
              "      <td>0.0</td>\n",
              "      <td>2.18</td>\n",
              "      <td>0</td>\n",
              "      <td>0.458</td>\n",
              "      <td>7.147</td>\n",
              "      <td>54.2</td>\n",
              "      <td>6.0622</td>\n",
              "      <td>3</td>\n",
              "      <td>222</td>\n",
              "      <td>18.7</td>\n",
              "      <td>5.33</td>\n",
              "      <td>36.2</td>\n",
              "    </tr>\n",
              "  </tbody>\n",
              "</table>\n",
              "</div>\n",
              "    <div class=\"colab-df-buttons\">\n",
              "\n",
              "  <div class=\"colab-df-container\">\n",
              "    <button class=\"colab-df-convert\" onclick=\"convertToInteractive('df-bd7ff4ce-46a2-49b3-a5ca-3b5041eb4f46')\"\n",
              "            title=\"Convert this dataframe to an interactive table.\"\n",
              "            style=\"display:none;\">\n",
              "\n",
              "  <svg xmlns=\"http://www.w3.org/2000/svg\" height=\"24px\" viewBox=\"0 -960 960 960\">\n",
              "    <path d=\"M120-120v-720h720v720H120Zm60-500h600v-160H180v160Zm220 220h160v-160H400v160Zm0 220h160v-160H400v160ZM180-400h160v-160H180v160Zm440 0h160v-160H620v160ZM180-180h160v-160H180v160Zm440 0h160v-160H620v160Z\"/>\n",
              "  </svg>\n",
              "    </button>\n",
              "\n",
              "  <style>\n",
              "    .colab-df-container {\n",
              "      display:flex;\n",
              "      gap: 12px;\n",
              "    }\n",
              "\n",
              "    .colab-df-convert {\n",
              "      background-color: #E8F0FE;\n",
              "      border: none;\n",
              "      border-radius: 50%;\n",
              "      cursor: pointer;\n",
              "      display: none;\n",
              "      fill: #1967D2;\n",
              "      height: 32px;\n",
              "      padding: 0 0 0 0;\n",
              "      width: 32px;\n",
              "    }\n",
              "\n",
              "    .colab-df-convert:hover {\n",
              "      background-color: #E2EBFA;\n",
              "      box-shadow: 0px 1px 2px rgba(60, 64, 67, 0.3), 0px 1px 3px 1px rgba(60, 64, 67, 0.15);\n",
              "      fill: #174EA6;\n",
              "    }\n",
              "\n",
              "    .colab-df-buttons div {\n",
              "      margin-bottom: 4px;\n",
              "    }\n",
              "\n",
              "    [theme=dark] .colab-df-convert {\n",
              "      background-color: #3B4455;\n",
              "      fill: #D2E3FC;\n",
              "    }\n",
              "\n",
              "    [theme=dark] .colab-df-convert:hover {\n",
              "      background-color: #434B5C;\n",
              "      box-shadow: 0px 1px 3px 1px rgba(0, 0, 0, 0.15);\n",
              "      filter: drop-shadow(0px 1px 2px rgba(0, 0, 0, 0.3));\n",
              "      fill: #FFFFFF;\n",
              "    }\n",
              "  </style>\n",
              "\n",
              "    <script>\n",
              "      const buttonEl =\n",
              "        document.querySelector('#df-bd7ff4ce-46a2-49b3-a5ca-3b5041eb4f46 button.colab-df-convert');\n",
              "      buttonEl.style.display =\n",
              "        google.colab.kernel.accessAllowed ? 'block' : 'none';\n",
              "\n",
              "      async function convertToInteractive(key) {\n",
              "        const element = document.querySelector('#df-bd7ff4ce-46a2-49b3-a5ca-3b5041eb4f46');\n",
              "        const dataTable =\n",
              "          await google.colab.kernel.invokeFunction('convertToInteractive',\n",
              "                                                    [key], {});\n",
              "        if (!dataTable) return;\n",
              "\n",
              "        const docLinkHtml = 'Like what you see? Visit the ' +\n",
              "          '<a target=\"_blank\" href=https://colab.research.google.com/notebooks/data_table.ipynb>data table notebook</a>'\n",
              "          + ' to learn more about interactive tables.';\n",
              "        element.innerHTML = '';\n",
              "        dataTable['output_type'] = 'display_data';\n",
              "        await google.colab.output.renderOutput(dataTable, element);\n",
              "        const docLink = document.createElement('div');\n",
              "        docLink.innerHTML = docLinkHtml;\n",
              "        element.appendChild(docLink);\n",
              "      }\n",
              "    </script>\n",
              "  </div>\n",
              "\n",
              "\n",
              "<div id=\"df-e15778c6-aed2-43d6-a202-f260287d800f\">\n",
              "  <button class=\"colab-df-quickchart\" onclick=\"quickchart('df-e15778c6-aed2-43d6-a202-f260287d800f')\"\n",
              "            title=\"Suggest charts\"\n",
              "            style=\"display:none;\">\n",
              "\n",
              "<svg xmlns=\"http://www.w3.org/2000/svg\" height=\"24px\"viewBox=\"0 0 24 24\"\n",
              "     width=\"24px\">\n",
              "    <g>\n",
              "        <path d=\"M19 3H5c-1.1 0-2 .9-2 2v14c0 1.1.9 2 2 2h14c1.1 0 2-.9 2-2V5c0-1.1-.9-2-2-2zM9 17H7v-7h2v7zm4 0h-2V7h2v10zm4 0h-2v-4h2v4z\"/>\n",
              "    </g>\n",
              "</svg>\n",
              "  </button>\n",
              "\n",
              "<style>\n",
              "  .colab-df-quickchart {\n",
              "      --bg-color: #E8F0FE;\n",
              "      --fill-color: #1967D2;\n",
              "      --hover-bg-color: #E2EBFA;\n",
              "      --hover-fill-color: #174EA6;\n",
              "      --disabled-fill-color: #AAA;\n",
              "      --disabled-bg-color: #DDD;\n",
              "  }\n",
              "\n",
              "  [theme=dark] .colab-df-quickchart {\n",
              "      --bg-color: #3B4455;\n",
              "      --fill-color: #D2E3FC;\n",
              "      --hover-bg-color: #434B5C;\n",
              "      --hover-fill-color: #FFFFFF;\n",
              "      --disabled-bg-color: #3B4455;\n",
              "      --disabled-fill-color: #666;\n",
              "  }\n",
              "\n",
              "  .colab-df-quickchart {\n",
              "    background-color: var(--bg-color);\n",
              "    border: none;\n",
              "    border-radius: 50%;\n",
              "    cursor: pointer;\n",
              "    display: none;\n",
              "    fill: var(--fill-color);\n",
              "    height: 32px;\n",
              "    padding: 0;\n",
              "    width: 32px;\n",
              "  }\n",
              "\n",
              "  .colab-df-quickchart:hover {\n",
              "    background-color: var(--hover-bg-color);\n",
              "    box-shadow: 0 1px 2px rgba(60, 64, 67, 0.3), 0 1px 3px 1px rgba(60, 64, 67, 0.15);\n",
              "    fill: var(--button-hover-fill-color);\n",
              "  }\n",
              "\n",
              "  .colab-df-quickchart-complete:disabled,\n",
              "  .colab-df-quickchart-complete:disabled:hover {\n",
              "    background-color: var(--disabled-bg-color);\n",
              "    fill: var(--disabled-fill-color);\n",
              "    box-shadow: none;\n",
              "  }\n",
              "\n",
              "  .colab-df-spinner {\n",
              "    border: 2px solid var(--fill-color);\n",
              "    border-color: transparent;\n",
              "    border-bottom-color: var(--fill-color);\n",
              "    animation:\n",
              "      spin 1s steps(1) infinite;\n",
              "  }\n",
              "\n",
              "  @keyframes spin {\n",
              "    0% {\n",
              "      border-color: transparent;\n",
              "      border-bottom-color: var(--fill-color);\n",
              "      border-left-color: var(--fill-color);\n",
              "    }\n",
              "    20% {\n",
              "      border-color: transparent;\n",
              "      border-left-color: var(--fill-color);\n",
              "      border-top-color: var(--fill-color);\n",
              "    }\n",
              "    30% {\n",
              "      border-color: transparent;\n",
              "      border-left-color: var(--fill-color);\n",
              "      border-top-color: var(--fill-color);\n",
              "      border-right-color: var(--fill-color);\n",
              "    }\n",
              "    40% {\n",
              "      border-color: transparent;\n",
              "      border-right-color: var(--fill-color);\n",
              "      border-top-color: var(--fill-color);\n",
              "    }\n",
              "    60% {\n",
              "      border-color: transparent;\n",
              "      border-right-color: var(--fill-color);\n",
              "    }\n",
              "    80% {\n",
              "      border-color: transparent;\n",
              "      border-right-color: var(--fill-color);\n",
              "      border-bottom-color: var(--fill-color);\n",
              "    }\n",
              "    90% {\n",
              "      border-color: transparent;\n",
              "      border-bottom-color: var(--fill-color);\n",
              "    }\n",
              "  }\n",
              "</style>\n",
              "\n",
              "  <script>\n",
              "    async function quickchart(key) {\n",
              "      const quickchartButtonEl =\n",
              "        document.querySelector('#' + key + ' button');\n",
              "      quickchartButtonEl.disabled = true;  // To prevent multiple clicks.\n",
              "      quickchartButtonEl.classList.add('colab-df-spinner');\n",
              "      try {\n",
              "        const charts = await google.colab.kernel.invokeFunction(\n",
              "            'suggestCharts', [key], {});\n",
              "      } catch (error) {\n",
              "        console.error('Error during call to suggestCharts:', error);\n",
              "      }\n",
              "      quickchartButtonEl.classList.remove('colab-df-spinner');\n",
              "      quickchartButtonEl.classList.add('colab-df-quickchart-complete');\n",
              "    }\n",
              "    (() => {\n",
              "      let quickchartButtonEl =\n",
              "        document.querySelector('#df-e15778c6-aed2-43d6-a202-f260287d800f button');\n",
              "      quickchartButtonEl.style.display =\n",
              "        google.colab.kernel.accessAllowed ? 'block' : 'none';\n",
              "    })();\n",
              "  </script>\n",
              "</div>\n",
              "\n",
              "    </div>\n",
              "  </div>\n"
            ],
            "application/vnd.google.colaboratory.intrinsic+json": {
              "type": "dataframe",
              "variable_name": "data",
              "summary": "{\n  \"name\": \"data\",\n  \"rows\": 506,\n  \"fields\": [\n    {\n      \"column\": \"crim\",\n      \"properties\": {\n        \"dtype\": \"number\",\n        \"std\": 8.60154510533249,\n        \"min\": 0.00632,\n        \"max\": 88.9762,\n        \"num_unique_values\": 504,\n        \"samples\": [\n          0.09178,\n          0.05644,\n          0.10574\n        ],\n        \"semantic_type\": \"\",\n        \"description\": \"\"\n      }\n    },\n    {\n      \"column\": \"zn\",\n      \"properties\": {\n        \"dtype\": \"number\",\n        \"std\": 23.32245299451514,\n        \"min\": 0.0,\n        \"max\": 100.0,\n        \"num_unique_values\": 26,\n        \"samples\": [\n          25.0,\n          30.0,\n          18.0\n        ],\n        \"semantic_type\": \"\",\n        \"description\": \"\"\n      }\n    },\n    {\n      \"column\": \"indus\",\n      \"properties\": {\n        \"dtype\": \"number\",\n        \"std\": 6.860352940897585,\n        \"min\": 0.46,\n        \"max\": 27.74,\n        \"num_unique_values\": 76,\n        \"samples\": [\n          8.14,\n          1.47,\n          1.22\n        ],\n        \"semantic_type\": \"\",\n        \"description\": \"\"\n      }\n    },\n    {\n      \"column\": \"chas\",\n      \"properties\": {\n        \"dtype\": \"number\",\n        \"std\": 0,\n        \"min\": 0,\n        \"max\": 1,\n        \"num_unique_values\": 2,\n        \"samples\": [\n          1,\n          0\n        ],\n        \"semantic_type\": \"\",\n        \"description\": \"\"\n      }\n    },\n    {\n      \"column\": \"nox\",\n      \"properties\": {\n        \"dtype\": \"number\",\n        \"std\": 0.11587767566755595,\n        \"min\": 0.385,\n        \"max\": 0.871,\n        \"num_unique_values\": 81,\n        \"samples\": [\n          0.401,\n          0.538\n        ],\n        \"semantic_type\": \"\",\n        \"description\": \"\"\n      }\n    },\n    {\n      \"column\": \"rm\",\n      \"properties\": {\n        \"dtype\": \"number\",\n        \"std\": 0.7026171434153233,\n        \"min\": 3.561,\n        \"max\": 8.78,\n        \"num_unique_values\": 446,\n        \"samples\": [\n          6.849,\n          4.88\n        ],\n        \"semantic_type\": \"\",\n        \"description\": \"\"\n      }\n    },\n    {\n      \"column\": \"age\",\n      \"properties\": {\n        \"dtype\": \"number\",\n        \"std\": 28.148861406903617,\n        \"min\": 2.9,\n        \"max\": 100.0,\n        \"num_unique_values\": 356,\n        \"samples\": [\n          51.8,\n          33.8\n        ],\n        \"semantic_type\": \"\",\n        \"description\": \"\"\n      }\n    },\n    {\n      \"column\": \"dis\",\n      \"properties\": {\n        \"dtype\": \"number\",\n        \"std\": 2.105710126627611,\n        \"min\": 1.1296,\n        \"max\": 12.1265,\n        \"num_unique_values\": 412,\n        \"samples\": [\n          2.2955,\n          4.2515\n        ],\n        \"semantic_type\": \"\",\n        \"description\": \"\"\n      }\n    },\n    {\n      \"column\": \"rad\",\n      \"properties\": {\n        \"dtype\": \"number\",\n        \"std\": 8,\n        \"min\": 1,\n        \"max\": 24,\n        \"num_unique_values\": 9,\n        \"samples\": [\n          7,\n          2\n        ],\n        \"semantic_type\": \"\",\n        \"description\": \"\"\n      }\n    },\n    {\n      \"column\": \"tax\",\n      \"properties\": {\n        \"dtype\": \"number\",\n        \"std\": 168,\n        \"min\": 187,\n        \"max\": 711,\n        \"num_unique_values\": 66,\n        \"samples\": [\n          370,\n          666\n        ],\n        \"semantic_type\": \"\",\n        \"description\": \"\"\n      }\n    },\n    {\n      \"column\": \"ptratio\",\n      \"properties\": {\n        \"dtype\": \"number\",\n        \"std\": 2.1649455237144406,\n        \"min\": 12.6,\n        \"max\": 22.0,\n        \"num_unique_values\": 46,\n        \"samples\": [\n          19.6,\n          15.6\n        ],\n        \"semantic_type\": \"\",\n        \"description\": \"\"\n      }\n    },\n    {\n      \"column\": \"lstat\",\n      \"properties\": {\n        \"dtype\": \"number\",\n        \"std\": 7.141061511348571,\n        \"min\": 1.73,\n        \"max\": 37.97,\n        \"num_unique_values\": 455,\n        \"samples\": [\n          6.15,\n          4.32\n        ],\n        \"semantic_type\": \"\",\n        \"description\": \"\"\n      }\n    },\n    {\n      \"column\": \"medv\",\n      \"properties\": {\n        \"dtype\": \"number\",\n        \"std\": 9.197104087379818,\n        \"min\": 5.0,\n        \"max\": 50.0,\n        \"num_unique_values\": 229,\n        \"samples\": [\n          14.1,\n          22.5\n        ],\n        \"semantic_type\": \"\",\n        \"description\": \"\"\n      }\n    }\n  ]\n}"
            }
          },
          "metadata": {},
          "execution_count": 2
        }
      ]
    },
    {
      "cell_type": "markdown",
      "source": [
        "|\t변수\t|\t설명\t|\n",
        "|\t----\t|\t----\t|\n",
        "|\tmedv\t|\t타운별 집값(중위수)\t|\n",
        "|\tcrim\t|\t범죄율\t|\n",
        "|\tzn\t|\t25,000 평방피트를 초과 거주지역 비율\t|\n",
        "|\tindus\t|\t비소매상업지역 면적 비율\t|\n",
        "|\tchas\t|\t찰스강변 위치(범주 : 강변1, 아니면 0)\t|\n",
        "|\tnox\t|\t일산화질소 농도\t|\n",
        "|\trm\t|\t주택당 방 수\t|\n",
        "|\tage\t|\t1940년 이전에 건축된 주택의 비율\t|\n",
        "|\tdis\t|\t직업센터의 거리\t|\n",
        "|\trad\t|\t방사형 고속도로까지의 거리\t|\n",
        "|\ttax\t|\t재산세율\t|\n",
        "|\tptratio\t|\t학생/교사 비율\t|\n",
        "|\tlstat\t|\t인구 중 하위 계층 비율\t|\n"
      ],
      "metadata": {
        "id": "W07fwF8zeix4"
      }
    },
    {
      "cell_type": "markdown",
      "source": [
        "## 2.데이터 준비"
      ],
      "metadata": {
        "id": "oICMvjzJJKbn"
      }
    },
    {
      "cell_type": "markdown",
      "source": [
        "lstat, ptratio, crim 만 이용하여 medv를 예측하는 모델을 만들어 봅시다."
      ],
      "metadata": {
        "id": "iM0QyWea1Mcz"
      }
    },
    {
      "cell_type": "markdown",
      "source": [
        "![image.png](data:image/png;base64,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)"
      ],
      "metadata": {
        "id": "y5GqXhKd0pSB"
      }
    },
    {
      "cell_type": "markdown",
      "metadata": {
        "id": "y9Q6jR6OZjUk"
      },
      "source": [
        "### (1) 데이터 준비\n",
        "* x, y 나누기\n",
        "    * x : lstat, ptratio, crim\n",
        "    * y : medv"
      ]
    },
    {
      "cell_type": "code",
      "metadata": {
        "id": "FA-PnUpcLqXN"
      },
      "source": [
        "target = 'medv'\n",
        "features = ['lstat', 'ptratio', 'crim']\n",
        "x = data.loc[:, features]\n",
        "y = data.loc[:, target]"
      ],
      "execution_count": 3,
      "outputs": []
    },
    {
      "cell_type": "markdown",
      "metadata": {
        "id": "mp_5volyuaA1"
      },
      "source": [
        "### (2) NaN 조치"
      ]
    },
    {
      "cell_type": "markdown",
      "metadata": {
        "id": "nOF9fSLQugGf"
      },
      "source": [
        "### (3) 가변수화"
      ]
    },
    {
      "cell_type": "markdown",
      "source": [
        "### (4) 데이터분할"
      ],
      "metadata": {
        "id": "KsGGC-a4vpar"
      }
    },
    {
      "cell_type": "code",
      "source": [
        "x_train, x_val, y_train, y_val = train_test_split(x, y, test_size=.2, random_state = 20)"
      ],
      "metadata": {
        "id": "7ilUcIlvvrqR"
      },
      "execution_count": 4,
      "outputs": []
    },
    {
      "cell_type": "markdown",
      "metadata": {
        "id": "MXUC5Yi3um81"
      },
      "source": [
        "### (5) Scaling"
      ]
    },
    {
      "cell_type": "code",
      "source": [
        "# 스케일러 선언\n",
        "scaler = MinMaxScaler()\n",
        "\n",
        "# train 셋으로 fitting & 적용\n",
        "x_train = scaler.fit_transform(x_train)\n",
        "\n",
        "# validation 셋은 적용만!\n",
        "x_val = scaler.transform(x_val)"
      ],
      "metadata": {
        "id": "9bly3GLif1eP"
      },
      "execution_count": 5,
      "outputs": []
    },
    {
      "cell_type": "markdown",
      "metadata": {
        "id": "BYr1vtpd8uw4"
      },
      "source": [
        "## 3.딥러닝1 : 3개의 feature"
      ]
    },
    {
      "cell_type": "markdown",
      "source": [
        "### (1) 모델설계"
      ],
      "metadata": {
        "id": "w-4v_7vcSAZk"
      }
    },
    {
      "cell_type": "code",
      "source": [
        "# 분석단위의 shape\n",
        "nfeatures = x_train.shape[1] #num of columns\n",
        "nfeatures"
      ],
      "metadata": {
        "id": "BQRCR2cCfl4n",
        "colab": {
          "base_uri": "https://localhost:8080/"
        },
        "outputId": "979506b5-0d76-47c0-b2f7-9daf07b95416"
      },
      "execution_count": 6,
      "outputs": [
        {
          "output_type": "execute_result",
          "data": {
            "text/plain": [
              "3"
            ]
          },
          "metadata": {},
          "execution_count": 6
        }
      ]
    },
    {
      "cell_type": "code",
      "metadata": {
        "id": "3oxyCQiW2Y93",
        "colab": {
          "base_uri": "https://localhost:8080/"
        },
        "outputId": "494c92a0-bd5d-47a4-f345-8f3462cddc8b"
      },
      "source": [
        "# 메모리 정리\n",
        "clear_session()\n",
        "\n",
        "# Sequential 타입\n",
        "model = Sequential(Dense(1, input_shape=(nfeatures,)))\n",
        "                    # output            # input\n",
        "# 모델요약\n",
        "model.summary()"
      ],
      "execution_count": 34,
      "outputs": [
        {
          "output_type": "stream",
          "name": "stdout",
          "text": [
            "Model: \"sequential\"\n",
            "_________________________________________________________________\n",
            " Layer (type)                Output Shape              Param #   \n",
            "=================================================================\n",
            " dense (Dense)               (None, 1)                 13        \n",
            "                                                                 \n",
            "=================================================================\n",
            "Total params: 13 (52.00 Byte)\n",
            "Trainable params: 13 (52.00 Byte)\n",
            "Non-trainable params: 0 (0.00 Byte)\n",
            "_________________________________________________________________\n"
          ]
        }
      ]
    },
    {
      "cell_type": "markdown",
      "metadata": {
        "id": "p9pnMdXE2Y93"
      },
      "source": [
        "* compile\n",
        "    * optimizer = 'adam'    : 기본값으로 옵티마이저 사용(learning_rate = 0.001)\n",
        "    * optimizer = Adam(lr = 0.1) : 옵션 값 조정 가능\n",
        "        * lr과 learning_rate은 같지만, learning_rate 사용을 권장"
      ]
    },
    {
      "cell_type": "code",
      "metadata": {
        "id": "DZhoXG0a2Y94"
      },
      "source": [
        "model.compile(optimizer=Adam(0.1), loss='mse')"
      ],
      "execution_count": 35,
      "outputs": []
    },
    {
      "cell_type": "markdown",
      "source": [
        "### (2) 학습"
      ],
      "metadata": {
        "id": "LBdiSNFAzbLK"
      }
    },
    {
      "cell_type": "markdown",
      "source": [
        "validation_split=0.2 : 학습시, 학습용 데이터에서 0.2 만큼 떼어 내서 검증셋으로 활용"
      ],
      "metadata": {
        "id": "jusxSYCFcQej"
      }
    },
    {
      "cell_type": "code",
      "source": [
        "history = model.fit(x_train , y_train, epochs = 20, validation_split=0.2).history\n",
        "                                    # 20번 반복       # 20%를 검증셋 분리  # 가중치가 업데이트 되면서 그때그때마다의 성능을 측정하여 기록"
      ],
      "metadata": {
        "id": "7gXW6LofzboD",
        "colab": {
          "base_uri": "https://localhost:8080/"
        },
        "outputId": "0c2eae56-b1cf-4982-93dc-e289b77ac249"
      },
      "execution_count": 36,
      "outputs": [
        {
          "output_type": "stream",
          "name": "stdout",
          "text": [
            "Epoch 1/20\n",
            "11/11 [==============================] - 1s 22ms/step - loss: 518.1815 - val_loss: 456.4966\n",
            "Epoch 2/20\n",
            "11/11 [==============================] - 0s 7ms/step - loss: 342.1980 - val_loss: 315.6486\n",
            "Epoch 3/20\n",
            "11/11 [==============================] - 0s 8ms/step - loss: 236.4032 - val_loss: 238.3555\n",
            "Epoch 4/20\n",
            "11/11 [==============================] - 0s 7ms/step - loss: 183.3738 - val_loss: 202.0274\n",
            "Epoch 5/20\n",
            "11/11 [==============================] - 0s 6ms/step - loss: 160.7343 - val_loss: 181.8968\n",
            "Epoch 6/20\n",
            "11/11 [==============================] - 0s 7ms/step - loss: 146.7394 - val_loss: 165.9303\n",
            "Epoch 7/20\n",
            "11/11 [==============================] - 0s 7ms/step - loss: 134.6086 - val_loss: 152.1724\n",
            "Epoch 8/20\n",
            "11/11 [==============================] - 0s 9ms/step - loss: 124.5222 - val_loss: 139.3053\n",
            "Epoch 9/20\n",
            "11/11 [==============================] - 0s 8ms/step - loss: 114.9785 - val_loss: 127.3080\n",
            "Epoch 10/20\n",
            "11/11 [==============================] - 0s 7ms/step - loss: 106.3456 - val_loss: 116.1977\n",
            "Epoch 11/20\n",
            "11/11 [==============================] - 0s 8ms/step - loss: 98.4367 - val_loss: 107.4543\n",
            "Epoch 12/20\n",
            "11/11 [==============================] - 0s 8ms/step - loss: 92.3563 - val_loss: 99.5525\n",
            "Epoch 13/20\n",
            "11/11 [==============================] - 0s 8ms/step - loss: 87.0666 - val_loss: 92.8567\n",
            "Epoch 14/20\n",
            "11/11 [==============================] - 0s 7ms/step - loss: 82.4478 - val_loss: 86.1604\n",
            "Epoch 15/20\n",
            "11/11 [==============================] - 0s 7ms/step - loss: 78.1571 - val_loss: 79.9763\n",
            "Epoch 16/20\n",
            "11/11 [==============================] - 0s 8ms/step - loss: 74.4615 - val_loss: 75.7875\n",
            "Epoch 17/20\n",
            "11/11 [==============================] - 0s 8ms/step - loss: 71.6463 - val_loss: 72.4373\n",
            "Epoch 18/20\n",
            "11/11 [==============================] - 0s 8ms/step - loss: 69.0822 - val_loss: 68.6514\n",
            "Epoch 19/20\n",
            "11/11 [==============================] - 0s 7ms/step - loss: 67.1005 - val_loss: 66.0043\n",
            "Epoch 20/20\n",
            "11/11 [==============================] - 0s 8ms/step - loss: 65.2486 - val_loss: 63.6862\n"
          ]
        }
      ]
    },
    {
      "cell_type": "markdown",
      "source": [
        "* 학습결과 그래프"
      ],
      "metadata": {
        "id": "3N8dEQk0SKD9"
      }
    },
    {
      "cell_type": "code",
      "metadata": {
        "id": "uL9cw8Dh2Y94"
      },
      "source": [
        "# 함수로 만들어서 사용합시다.\n",
        "def dl_history_plot(history):\n",
        "    plt.figure(figsize=(10,6))\n",
        "    plt.plot(history['loss'], label='train_err', marker = '.')\n",
        "    plt.plot(history['val_loss'], label='val_err', marker = '.')\n",
        "\n",
        "    plt.ylabel('Loss')\n",
        "    plt.xlabel('Epoch')\n",
        "    plt.legend()\n",
        "    plt.grid()\n",
        "    plt.show()"
      ],
      "execution_count": 37,
      "outputs": []
    },
    {
      "cell_type": "code",
      "source": [
        "dl_history_plot(history)"
      ],
      "metadata": {
        "id": "03Y0s6_Ug8dR",
        "colab": {
          "base_uri": "https://localhost:8080/",
          "height": 542
        },
        "outputId": "7547c273-2fa4-4f87-e74d-243f1042e030"
      },
      "execution_count": 38,
      "outputs": [
        {
          "output_type": "display_data",
          "data": {
            "text/plain": [
              "<Figure size 1000x600 with 1 Axes>"
            ],
            "image/png": "[encoded data removed]"
          },
          "metadata": {}
        }
      ]
    },
    {
      "cell_type": "markdown",
      "source": [
        "### (3) 예측 및 검증"
      ],
      "metadata": {
        "id": "J_cuOBGawNKL"
      }
    },
    {
      "cell_type": "code",
      "source": [
        "pred = model.predict(x_val)"
      ],
      "metadata": {
        "id": "iWpqKvt78PmD",
        "colab": {
          "base_uri": "https://localhost:8080/"
        },
        "outputId": "51350f6e-0a9d-427f-9253-457eaf51da3c"
      },
      "execution_count": 39,
      "outputs": [
        {
          "output_type": "stream",
          "name": "stdout",
          "text": [
            "4/4 [==============================] - 0s 3ms/step\n"
          ]
        }
      ]
    },
    {
      "cell_type": "code",
      "source": [
        "print(f'RMSE : {mean_squared_error(y_val, pred, squared=False)}')\n",
        "print(f'MAE  : {mean_absolute_error(y_val, pred)}')\n",
        "print(f'MAPE : {mean_absolute_percentage_error(y_val, pred)}')"
      ],
      "metadata": {
        "id": "pjkdc0il8_8-",
        "colab": {
          "base_uri": "https://localhost:8080/"
        },
        "outputId": "1a1ca88b-32ea-4ee0-849f-6e36bd61df7a"
      },
      "execution_count": 40,
      "outputs": [
        {
          "output_type": "stream",
          "name": "stdout",
          "text": [
            "RMSE : 6.950386677183718\n",
            "MAE  : 4.948413884405998\n",
            "MAPE : 0.2519252652659587\n"
          ]
        }
      ]
    },
    {
      "cell_type": "markdown",
      "source": [
        "## 4.딥러닝2 : 전체 feature\n",
        "* 이제 전체 데이터를 가지고 모델링을 시도해 보겠습니다.\n"
      ],
      "metadata": {
        "id": "SL2L1RrNTA5g"
      }
    },
    {
      "cell_type": "markdown",
      "source": [
        "### (1) 데이터 전처리"
      ],
      "metadata": {
        "id": "bWL9ssqWTxCF"
      }
    },
    {
      "cell_type": "markdown",
      "source": [
        "* 데이터 분할"
      ],
      "metadata": {
        "id": "Q8-uL-ebT5SQ"
      }
    },
    {
      "cell_type": "code",
      "source": [
        "target = 'medv'\n",
        "x = data.drop(target, axis = 1)\n",
        "y = data.loc[:, target]\n",
        "x_train, x_val, y_train, y_val = train_test_split(x, y, test_size=.2, random_state = 20)"
      ],
      "metadata": {
        "id": "korryJ9cTFTo"
      },
      "execution_count": 41,
      "outputs": []
    },
    {
      "cell_type": "markdown",
      "source": [
        "* 스케일링"
      ],
      "metadata": {
        "id": "s_huFosGT7en"
      }
    },
    {
      "cell_type": "code",
      "source": [
        "scaler = MinMaxScaler()\n",
        "x_train = scaler.fit_transform(x_train)\n",
        "x_val = scaler.transform(x_val)"
      ],
      "metadata": {
        "id": "IV5Hu5WvTFQn"
      },
      "execution_count": 42,
      "outputs": []
    },
    {
      "cell_type": "markdown",
      "source": [
        "### (2) 모델링"
      ],
      "metadata": {
        "id": "xDS0688JUBsF"
      }
    },
    {
      "cell_type": "markdown",
      "metadata": {
        "id": "nTA-Yr4SUGxg"
      },
      "source": [
        "* 모델 설계"
      ]
    },
    {
      "cell_type": "code",
      "source": [
        "nfeatures = x_train.shape[1]\n",
        "nfeatures"
      ],
      "metadata": {
        "id": "X3T44fmwfjQC",
        "colab": {
          "base_uri": "https://localhost:8080/"
        },
        "outputId": "29dc7845-e907-4243-e21a-594a339df3b4"
      },
      "execution_count": 43,
      "outputs": [
        {
          "output_type": "execute_result",
          "data": {
            "text/plain": [
              "12"
            ]
          },
          "metadata": {},
          "execution_count": 43
        }
      ]
    },
    {
      "cell_type": "code",
      "metadata": {
        "id": "j85sSnzHUGxg",
        "colab": {
          "base_uri": "https://localhost:8080/"
        },
        "outputId": "4ad7bef4-bf21-470b-d947-0929ca5644f1"
      },
      "source": [
        "# 메모리 정리\n",
        "clear_session()\n",
        "\n",
        "# Sequential 타입 모델 선언\n",
        "model2 =Sequential(Dense(1, input_shape = (nfeatures,)))\n",
        "\n",
        "# 모델요약\n",
        "model2.summary()"
      ],
      "execution_count": 44,
      "outputs": [
        {
          "output_type": "stream",
          "name": "stdout",
          "text": [
            "Model: \"sequential\"\n",
            "_________________________________________________________________\n",
            " Layer (type)                Output Shape              Param #   \n",
            "=================================================================\n",
            " dense (Dense)               (None, 1)                 13        \n",
            "                                                                 \n",
            "=================================================================\n",
            "Total params: 13 (52.00 Byte)\n",
            "Trainable params: 13 (52.00 Byte)\n",
            "Non-trainable params: 0 (0.00 Byte)\n",
            "_________________________________________________________________\n"
          ]
        }
      ]
    },
    {
      "cell_type": "markdown",
      "metadata": {
        "id": "FtEZ2O6mUGxg"
      },
      "source": [
        "* compile"
      ]
    },
    {
      "cell_type": "code",
      "metadata": {
        "id": "101t-cHUUGxg"
      },
      "source": [
        "model2.compile(optimizer=Adam(0.1), loss='mse')"
      ],
      "execution_count": 45,
      "outputs": []
    },
    {
      "cell_type": "markdown",
      "source": [
        "* 학습"
      ],
      "metadata": {
        "id": "KNs-pn5yzpYT"
      }
    },
    {
      "cell_type": "code",
      "source": [
        "history = model2.fit(x_train , y_train, epochs = 20, validation_split=0.2).history"
      ],
      "metadata": {
        "id": "4FdIWaG9zpQ8",
        "colab": {
          "base_uri": "https://localhost:8080/"
        },
        "outputId": "f85140c9-3c74-41bc-b732-4ec3d20a60ac"
      },
      "execution_count": 48,
      "outputs": [
        {
          "output_type": "stream",
          "name": "stdout",
          "text": [
            "Epoch 1/20\n",
            "11/11 [==============================] - 1s 31ms/step - loss: 504.4330 - val_loss: 442.0331\n",
            "Epoch 2/20\n",
            "11/11 [==============================] - 0s 11ms/step - loss: 330.4849 - val_loss: 304.7272\n",
            "Epoch 3/20\n",
            "11/11 [==============================] - 0s 10ms/step - loss: 229.2275 - val_loss: 231.9848\n",
            "Epoch 4/20\n",
            "11/11 [==============================] - 0s 10ms/step - loss: 179.4115 - val_loss: 197.6790\n",
            "Epoch 5/20\n",
            "11/11 [==============================] - 0s 12ms/step - loss: 157.5410 - val_loss: 178.3222\n",
            "Epoch 6/20\n",
            "11/11 [==============================] - 0s 10ms/step - loss: 143.2843 - val_loss: 162.4291\n",
            "Epoch 7/20\n",
            "11/11 [==============================] - 0s 9ms/step - loss: 131.9949 - val_loss: 148.3194\n",
            "Epoch 8/20\n",
            "11/11 [==============================] - 0s 8ms/step - loss: 121.5890 - val_loss: 136.0061\n",
            "Epoch 9/20\n",
            "11/11 [==============================] - 0s 7ms/step - loss: 112.3518 - val_loss: 123.8257\n",
            "Epoch 10/20\n",
            "11/11 [==============================] - 0s 8ms/step - loss: 103.8586 - val_loss: 113.5853\n",
            "Epoch 11/20\n",
            "11/11 [==============================] - 0s 6ms/step - loss: 96.7510 - val_loss: 104.2314\n",
            "Epoch 12/20\n",
            "11/11 [==============================] - 0s 6ms/step - loss: 90.6481 - val_loss: 96.7122\n",
            "Epoch 13/20\n",
            "11/11 [==============================] - 0s 6ms/step - loss: 85.6115 - val_loss: 90.3562\n",
            "Epoch 14/20\n",
            "11/11 [==============================] - 0s 6ms/step - loss: 81.2935 - val_loss: 84.7137\n",
            "Epoch 15/20\n",
            "11/11 [==============================] - 0s 6ms/step - loss: 77.7168 - val_loss: 80.3703\n",
            "Epoch 16/20\n",
            "11/11 [==============================] - 0s 6ms/step - loss: 74.4987 - val_loss: 75.6778\n",
            "Epoch 17/20\n",
            "11/11 [==============================] - 0s 4ms/step - loss: 71.6750 - val_loss: 72.0910\n",
            "Epoch 18/20\n",
            "11/11 [==============================] - 0s 6ms/step - loss: 69.5156 - val_loss: 69.4446\n",
            "Epoch 19/20\n",
            "11/11 [==============================] - 0s 6ms/step - loss: 67.6579 - val_loss: 67.0151\n",
            "Epoch 20/20\n",
            "11/11 [==============================] - 0s 8ms/step - loss: 66.0524 - val_loss: 64.4714\n"
          ]
        }
      ]
    },
    {
      "cell_type": "markdown",
      "source": [
        "* 학습결과 그래프"
      ],
      "metadata": {
        "id": "jfTJKyP4UGxh"
      }
    },
    {
      "cell_type": "code",
      "metadata": {
        "id": "Gbs-nZuzUGxh",
        "colab": {
          "base_uri": "https://localhost:8080/",
          "height": 542
        },
        "outputId": "a6877384-32af-4598-ffd4-ebfde2a3ae8a"
      },
      "source": [
        "dl_history_plot(history)"
      ],
      "execution_count": 49,
      "outputs": [
        {
          "output_type": "display_data",
          "data": {
            "text/plain": [
              "<Figure size 1000x600 with 1 Axes>"
            ],
            "image/png": "[encoded data removed]"
          },
          "metadata": {}
        }
      ]
    },
    {
      "cell_type": "markdown",
      "source": [
        "* 예측 및 평가"
      ],
      "metadata": {
        "id": "x4Smjaa0h4_C"
      }
    },
    {
      "cell_type": "code",
      "source": [
        "pred2 = model2.predict(x_val)\n",
        "\n",
        "print(f'RMSE : {mean_squared_error(y_val, pred2, squared=False)}')\n",
        "print(f'MAE  : {mean_absolute_error(y_val, pred2)}')\n",
        "print(f'MAPE : {mean_absolute_percentage_error(y_val, pred2)}')"
      ],
      "metadata": {
        "id": "IW2yYuBRUGxh",
        "colab": {
          "base_uri": "https://localhost:8080/"
        },
        "outputId": "75ca9e00-bd19-4936-dbc5-5971810844a9"
      },
      "execution_count": 51,
      "outputs": [
        {
          "output_type": "stream",
          "name": "stdout",
          "text": [
            "4/4 [==============================] - 0s 3ms/step\n",
            "RMSE : 6.988840926795755\n",
            "MAE  : 4.967330549277513\n",
            "MAPE : 0.24785881013654562\n"
          ]
        }
      ]
    },
    {
      "cell_type": "markdown",
      "source": [
        "## 5.실습!\n",
        "* 위 4번에 이어서, 여러분은 다음을 조절할 수 있습니다.\n",
        "    * epochs(반복횟수), learning_rate(학습율)\n",
        "* 4번 코드를 그대로 보면서 작성하고 위 두가지를 조절하며 성능을 높여봅시다!"
      ],
      "metadata": {
        "id": "cQFNMheG2iuK"
      }
    },
    {
      "cell_type": "markdown",
      "source": [
        "### (1) 데이터 전처리"
      ],
      "metadata": {
        "id": "AD2oGWVF2iuR"
      }
    },
    {
      "cell_type": "markdown",
      "source": [
        "* 데이터 분할"
      ],
      "metadata": {
        "id": "bF5_s_002iuR"
      }
    },
    {
      "cell_type": "code",
      "source": [
        "target = 'medv'\n",
        "x = data.drop(target, axis = 1)\n",
        "y = data.loc[:, target]\n",
        "x_train, x_val, y_train, y_val = train_test_split(x, y, test_size=.2, random_state = 20)"
      ],
      "metadata": {
        "id": "c3ODcbnd2iuR"
      },
      "execution_count": 52,
      "outputs": []
    },
    {
      "cell_type": "markdown",
      "source": [
        "* 스케일링"
      ],
      "metadata": {
        "id": "aYTJSWbt2iuR"
      }
    },
    {
      "cell_type": "code",
      "source": [
        "scaler = MinMaxScaler()\n",
        "x_train = scaler.fit_transform(x_train)\n",
        "x_val = scaler.transform(x_val)"
      ],
      "metadata": {
        "id": "7SXSKIMp2iuR"
      },
      "execution_count": 53,
      "outputs": []
    },
    {
      "cell_type": "markdown",
      "source": [
        "### (2) 모델링"
      ],
      "metadata": {
        "id": "XzvME9XC2iuR"
      }
    },
    {
      "cell_type": "markdown",
      "metadata": {
        "id": "zkiLD8s52iuR"
      },
      "source": [
        "* 모델 설계"
      ]
    },
    {
      "cell_type": "code",
      "source": [
        "nfeatures = x_train.shape[1]\n",
        "nfeatures"
      ],
      "metadata": {
        "id": "Ti98KjQi2iuR",
        "colab": {
          "base_uri": "https://localhost:8080/"
        },
        "outputId": "c421b5a5-b59f-43bb-e2d4-1cc10d210ab1"
      },
      "execution_count": 54,
      "outputs": [
        {
          "output_type": "execute_result",
          "data": {
            "text/plain": [
              "12"
            ]
          },
          "metadata": {},
          "execution_count": 54
        }
      ]
    },
    {
      "cell_type": "code",
      "metadata": {
        "id": "f578VYhA2iuS",
        "colab": {
          "base_uri": "https://localhost:8080/"
        },
        "outputId": "db3cef2f-2139-473f-b0c2-e68671b34f0a"
      },
      "source": [
        "clear_session()\n",
        "model = Sequential(Dense(1, input_shape = (nfeatures,)))\n",
        "model.summary()"
      ],
      "execution_count": 95,
      "outputs": [
        {
          "output_type": "stream",
          "name": "stdout",
          "text": [
            "Model: \"sequential\"\n",
            "_________________________________________________________________\n",
            " Layer (type)                Output Shape              Param #   \n",
            "=================================================================\n",
            " dense (Dense)               (None, 1)                 13        \n",
            "                                                                 \n",
            "=================================================================\n",
            "Total params: 13 (52.00 Byte)\n",
            "Trainable params: 13 (52.00 Byte)\n",
            "Non-trainable params: 0 (0.00 Byte)\n",
            "_________________________________________________________________\n"
          ]
        }
      ]
    },
    {
      "cell_type": "markdown",
      "metadata": {
        "id": "o6J0gndM2iuS"
      },
      "source": [
        "* compile"
      ]
    },
    {
      "cell_type": "code",
      "metadata": {
        "id": "_tZkwPVy2iuS"
      },
      "source": [
        "model.compile(optimizer=Adam(0.2), loss='mse')"
      ],
      "execution_count": 96,
      "outputs": []
    },
    {
      "cell_type": "markdown",
      "source": [
        "* 학습"
      ],
      "metadata": {
        "id": "lxDSceS-2iuS"
      }
    },
    {
      "cell_type": "code",
      "source": [
        "history = model.fit(x_train, y_train, epochs=20, validation_split=0.2).history"
      ],
      "metadata": {
        "id": "ISx38pTc2iuS",
        "colab": {
          "base_uri": "https://localhost:8080/"
        },
        "outputId": "d458a344-5da0-470e-cab6-ba6bb54b0e4a"
      },
      "execution_count": 97,
      "outputs": [
        {
          "output_type": "stream",
          "name": "stdout",
          "text": [
            "Epoch 1/20\n",
            "11/11 [==============================] - 1s 22ms/step - loss: 430.6400 - val_loss: 296.4463\n",
            "Epoch 2/20\n",
            "11/11 [==============================] - 0s 7ms/step - loss: 202.8281 - val_loss: 187.4020\n",
            "Epoch 3/20\n",
            "11/11 [==============================] - 0s 8ms/step - loss: 150.0531 - val_loss: 164.2988\n",
            "Epoch 4/20\n",
            "11/11 [==============================] - 0s 7ms/step - loss: 134.1273 - val_loss: 140.2191\n",
            "Epoch 5/20\n",
            "11/11 [==============================] - 0s 6ms/step - loss: 111.8454 - val_loss: 114.3371\n",
            "Epoch 6/20\n",
            "11/11 [==============================] - 0s 6ms/step - loss: 95.1658 - val_loss: 100.8489\n",
            "Epoch 7/20\n",
            "11/11 [==============================] - 0s 8ms/step - loss: 86.4942 - val_loss: 87.4221\n",
            "Epoch 8/20\n",
            "11/11 [==============================] - 0s 6ms/step - loss: 76.2850 - val_loss: 74.6997\n",
            "Epoch 9/20\n",
            "11/11 [==============================] - 0s 8ms/step - loss: 69.3516 - val_loss: 67.3232\n",
            "Epoch 10/20\n",
            "11/11 [==============================] - 0s 8ms/step - loss: 65.3635 - val_loss: 61.6386\n",
            "Epoch 11/20\n",
            "11/11 [==============================] - 0s 8ms/step - loss: 62.0674 - val_loss: 57.6342\n",
            "Epoch 12/20\n",
            "11/11 [==============================] - 0s 8ms/step - loss: 59.6570 - val_loss: 54.7396\n",
            "Epoch 13/20\n",
            "11/11 [==============================] - 0s 8ms/step - loss: 57.5501 - val_loss: 52.3332\n",
            "Epoch 14/20\n",
            "11/11 [==============================] - 0s 10ms/step - loss: 55.7252 - val_loss: 50.1859\n",
            "Epoch 15/20\n",
            "11/11 [==============================] - 0s 8ms/step - loss: 54.0587 - val_loss: 48.7423\n",
            "Epoch 16/20\n",
            "11/11 [==============================] - 0s 10ms/step - loss: 52.5839 - val_loss: 47.4136\n",
            "Epoch 17/20\n",
            "11/11 [==============================] - 0s 11ms/step - loss: 50.7782 - val_loss: 45.2786\n",
            "Epoch 18/20\n",
            "11/11 [==============================] - 0s 11ms/step - loss: 49.5388 - val_loss: 43.3967\n",
            "Epoch 19/20\n",
            "11/11 [==============================] - 0s 11ms/step - loss: 47.8421 - val_loss: 42.4350\n",
            "Epoch 20/20\n",
            "11/11 [==============================] - 0s 10ms/step - loss: 46.6854 - val_loss: 41.1082\n"
          ]
        }
      ]
    },
    {
      "cell_type": "markdown",
      "source": [
        "* 학습결과 그래프"
      ],
      "metadata": {
        "id": "FwlqSVCK2iuS"
      }
    },
    {
      "cell_type": "code",
      "metadata": {
        "id": "H9XII8QZ2iuS",
        "colab": {
          "base_uri": "https://localhost:8080/",
          "height": 547
        },
        "outputId": "0905fbd3-3892-4f95-8eab-4b51640e0ef2"
      },
      "source": [
        "dl_history_plot(history)"
      ],
      "execution_count": 98,
      "outputs": [
        {
          "output_type": "display_data",
          "data": {
            "text/plain": [
              "<Figure size 1000x600 with 1 Axes>"
            ],
            "image/png": "[encoded data removed]"
          },
          "metadata": {}
        }
      ]
    },
    {
      "cell_type": "markdown",
      "source": [
        "* 예측 및 평가"
      ],
      "metadata": {
        "id": "WC7yy8Tq2iuS"
      }
    },
    {
      "cell_type": "code",
      "source": [
        "pred = model.predict(x_val)\n",
        "\n",
        "print('RMSE:', mean_squared_error(y_val, pred, squared=False))\n",
        "print('='*60)\n",
        "print('MAE:', mean_absolute_error(y_val, pred))\n",
        "print('='*60)\n",
        "print('MAPE:', mean_absolute_percentage_error(y_val, pred))"
      ],
      "metadata": {
        "id": "UnLz2Hlz2iuT",
        "colab": {
          "base_uri": "https://localhost:8080/"
        },
        "outputId": "bb59a231-d35d-48a8-9da0-cd29b468479f"
      },
      "execution_count": 99,
      "outputs": [
        {
          "output_type": "stream",
          "name": "stdout",
          "text": [
            "4/4 [==============================] - 0s 3ms/step\n",
            "RMSE: 5.961475859128757\n",
            "============================================================\n",
            "MAE: 4.457365878423055\n",
            "============================================================\n",
            "MAPE: 0.22097037018113536\n"
          ]
        }
      ]
    },
    {
      "cell_type": "markdown",
      "source": [
        "----"
      ],
      "metadata": {
        "id": "XYv8FDOa3cYd"
      }
    },
    {
      "cell_type": "markdown",
      "source": [
        "## 5.딥러닝3 : hidden layer!\n",
        "* 이제 레이어를 추가해 보겠습니다.\n"
      ],
      "metadata": {
        "id": "Ag6VgkwyqhAw"
      }
    },
    {
      "cell_type": "markdown",
      "source": [
        "### (1) 데이터 전처리"
      ],
      "metadata": {
        "id": "_ReyiV-ArmAK"
      }
    },
    {
      "cell_type": "markdown",
      "source": [
        "* 데이터 분할"
      ],
      "metadata": {
        "id": "XtdCBGXnrmAK"
      }
    },
    {
      "cell_type": "code",
      "source": [
        "target = 'medv'\n",
        "x = data.drop(target, axis = 1)\n",
        "y = data.loc[:, target]\n",
        "\n",
        "x_train, x_val, y_train, y_val = train_test_split(x, y, test_size=.2, random_state = 20)"
      ],
      "metadata": {
        "id": "9Ptvfka1rmAK"
      },
      "execution_count": 77,
      "outputs": []
    },
    {
      "cell_type": "markdown",
      "source": [
        "* 스케일링"
      ],
      "metadata": {
        "id": "ybXddIF5rmAK"
      }
    },
    {
      "cell_type": "code",
      "source": [
        "scaler = MinMaxScaler()\n",
        "x_train = scaler.fit_transform(x_train)\n",
        "x_val = scaler.transform(x_val)"
      ],
      "metadata": {
        "id": "DLVTuIZhrmAK"
      },
      "execution_count": 78,
      "outputs": []
    },
    {
      "cell_type": "markdown",
      "source": [
        "### (2) 모델링"
      ],
      "metadata": {
        "id": "XMyXlB5DrmAK"
      }
    },
    {
      "cell_type": "markdown",
      "metadata": {
        "id": "YBGf6ESprmAL"
      },
      "source": [
        "* 모델 설계"
      ]
    },
    {
      "cell_type": "code",
      "source": [
        "nfeatures = x_train.shape[1] #num of columns\n",
        "nfeatures"
      ],
      "metadata": {
        "id": "tY1Qjd_hrmAL",
        "colab": {
          "base_uri": "https://localhost:8080/"
        },
        "outputId": "531c9a7d-bb14-413e-8fcc-138e3468e76d"
      },
      "execution_count": 79,
      "outputs": [
        {
          "output_type": "execute_result",
          "data": {
            "text/plain": [
              "12"
            ]
          },
          "metadata": {},
          "execution_count": 79
        }
      ]
    },
    {
      "cell_type": "code",
      "metadata": {
        "id": "fG4gBuGlrmAL",
        "colab": {
          "base_uri": "https://localhost:8080/"
        },
        "outputId": "53d1e715-429d-4e31-c2bf-96526074cb85"
      },
      "source": [
        "# 메모리 정리\n",
        "clear_session()\n",
        "\n",
        "# Sequential 타입 모델 선언(입력은 리스트로!) # 레이터 2개 이상은 리스트로 작성\n",
        "model3 = Sequential([  Dense(2, input_shape = (nfeatures,), activation = 'relu'),\n",
        "                       Dense(1)   ])\n",
        "\n",
        "# 모델요약\n",
        "model3.summary()"
      ],
      "execution_count": 80,
      "outputs": [
        {
          "output_type": "stream",
          "name": "stdout",
          "text": [
            "Model: \"sequential\"\n",
            "_________________________________________________________________\n",
            " Layer (type)                Output Shape              Param #   \n",
            "=================================================================\n",
            " dense (Dense)               (None, 2)                 26        \n",
            "                                                                 \n",
            " dense_1 (Dense)             (None, 1)                 3         \n",
            "                                                                 \n",
            "=================================================================\n",
            "Total params: 29 (116.00 Byte)\n",
            "Trainable params: 29 (116.00 Byte)\n",
            "Non-trainable params: 0 (0.00 Byte)\n",
            "_________________________________________________________________\n"
          ]
        }
      ]
    },
    {
      "cell_type": "markdown",
      "metadata": {
        "id": "uO3Lf9u1rmAM"
      },
      "source": [
        "* compile"
      ]
    },
    {
      "cell_type": "code",
      "metadata": {
        "id": "rrc9XvzRrmAM"
      },
      "source": [
        "model3.compile( optimizer= Adam(learning_rate=0.1), loss = 'mse')"
      ],
      "execution_count": 81,
      "outputs": []
    },
    {
      "cell_type": "markdown",
      "source": [
        "* 학습"
      ],
      "metadata": {
        "id": "oCGjZxoQ0KFr"
      }
    },
    {
      "cell_type": "code",
      "source": [
        "hist = model3.fit(x_train, y_train, epochs = 50 , validation_split= .2 ).history"
      ],
      "metadata": {
        "id": "lnKyke0M0KiD",
        "colab": {
          "base_uri": "https://localhost:8080/"
        },
        "outputId": "72c8afa1-bc2d-438a-d57f-4bc94e92f44e"
      },
      "execution_count": 82,
      "outputs": [
        {
          "output_type": "stream",
          "name": "stdout",
          "text": [
            "Epoch 1/50\n",
            "11/11 [==============================] - 1s 18ms/step - loss: 575.8677 - val_loss: 603.6304\n",
            "Epoch 2/50\n",
            "11/11 [==============================] - 0s 5ms/step - loss: 528.4986 - val_loss: 555.8939\n",
            "Epoch 3/50\n",
            "11/11 [==============================] - 0s 5ms/step - loss: 483.9217 - val_loss: 511.7329\n",
            "Epoch 4/50\n",
            "11/11 [==============================] - 0s 5ms/step - loss: 443.8973 - val_loss: 470.4511\n",
            "Epoch 5/50\n",
            "11/11 [==============================] - 0s 5ms/step - loss: 406.0522 - val_loss: 432.4499\n",
            "Epoch 6/50\n",
            "11/11 [==============================] - 0s 6ms/step - loss: 371.1201 - val_loss: 397.6392\n",
            "Epoch 7/50\n",
            "11/11 [==============================] - 0s 5ms/step - loss: 339.0465 - val_loss: 364.7346\n",
            "Epoch 8/50\n",
            "11/11 [==============================] - 0s 4ms/step - loss: 310.1269 - val_loss: 336.2792\n",
            "Epoch 9/50\n",
            "11/11 [==============================] - 0s 6ms/step - loss: 285.0302 - val_loss: 310.7527\n",
            "Epoch 10/50\n",
            "11/11 [==============================] - 0s 7ms/step - loss: 262.1034 - val_loss: 287.4969\n",
            "Epoch 11/50\n",
            "11/11 [==============================] - 0s 6ms/step - loss: 240.8759 - val_loss: 265.8509\n",
            "Epoch 12/50\n",
            "11/11 [==============================] - 0s 5ms/step - loss: 221.8927 - val_loss: 245.7402\n",
            "Epoch 13/50\n",
            "11/11 [==============================] - 0s 6ms/step - loss: 204.0942 - val_loss: 227.3203\n",
            "Epoch 14/50\n",
            "11/11 [==============================] - 0s 6ms/step - loss: 187.8287 - val_loss: 211.4188\n",
            "Epoch 15/50\n",
            "11/11 [==============================] - 0s 7ms/step - loss: 174.4086 - val_loss: 197.1415\n",
            "Epoch 16/50\n",
            "11/11 [==============================] - 0s 6ms/step - loss: 162.2228 - val_loss: 184.5371\n",
            "Epoch 17/50\n",
            "11/11 [==============================] - 0s 7ms/step - loss: 151.3400 - val_loss: 173.2380\n",
            "Epoch 18/50\n",
            "11/11 [==============================] - 0s 5ms/step - loss: 142.0000 - val_loss: 163.5038\n",
            "Epoch 19/50\n",
            "11/11 [==============================] - 0s 6ms/step - loss: 133.7270 - val_loss: 154.4910\n",
            "Epoch 20/50\n",
            "11/11 [==============================] - 0s 5ms/step - loss: 126.3314 - val_loss: 146.4480\n",
            "Epoch 21/50\n",
            "11/11 [==============================] - 0s 6ms/step - loss: 119.6385 - val_loss: 139.0577\n",
            "Epoch 22/50\n",
            "11/11 [==============================] - 0s 5ms/step - loss: 113.9141 - val_loss: 132.9487\n",
            "Epoch 23/50\n",
            "11/11 [==============================] - 0s 5ms/step - loss: 109.5132 - val_loss: 128.2075\n",
            "Epoch 24/50\n",
            "11/11 [==============================] - 0s 5ms/step - loss: 105.9005 - val_loss: 124.0245\n",
            "Epoch 25/50\n",
            "11/11 [==============================] - 0s 5ms/step - loss: 102.6706 - val_loss: 120.5330\n",
            "Epoch 26/50\n",
            "11/11 [==============================] - 0s 5ms/step - loss: 99.9475 - val_loss: 117.2674\n",
            "Epoch 27/50\n",
            "11/11 [==============================] - 0s 5ms/step - loss: 97.6628 - val_loss: 114.6974\n",
            "Epoch 28/50\n",
            "11/11 [==============================] - 0s 6ms/step - loss: 95.9381 - val_loss: 112.6250\n",
            "Epoch 29/50\n",
            "11/11 [==============================] - 0s 6ms/step - loss: 94.5247 - val_loss: 110.7104\n",
            "Epoch 30/50\n",
            "11/11 [==============================] - 0s 7ms/step - loss: 93.0090 - val_loss: 108.9917\n",
            "Epoch 31/50\n",
            "11/11 [==============================] - 0s 7ms/step - loss: 91.8360 - val_loss: 107.3063\n",
            "Epoch 32/50\n",
            "11/11 [==============================] - 0s 9ms/step - loss: 90.9151 - val_loss: 105.9331\n",
            "Epoch 33/50\n",
            "11/11 [==============================] - 0s 8ms/step - loss: 89.9590 - val_loss: 104.7290\n",
            "Epoch 34/50\n",
            "11/11 [==============================] - 0s 7ms/step - loss: 89.3106 - val_loss: 103.5834\n",
            "Epoch 35/50\n",
            "11/11 [==============================] - 0s 8ms/step - loss: 88.8220 - val_loss: 102.7982\n",
            "Epoch 36/50\n",
            "11/11 [==============================] - 0s 7ms/step - loss: 88.3663 - val_loss: 102.3119\n",
            "Epoch 37/50\n",
            "11/11 [==============================] - 0s 7ms/step - loss: 88.1299 - val_loss: 101.8126\n",
            "Epoch 38/50\n",
            "11/11 [==============================] - 0s 8ms/step - loss: 87.9093 - val_loss: 101.3141\n",
            "Epoch 39/50\n",
            "11/11 [==============================] - 0s 6ms/step - loss: 87.7131 - val_loss: 100.8942\n",
            "Epoch 40/50\n",
            "11/11 [==============================] - 0s 8ms/step - loss: 87.4897 - val_loss: 100.6448\n",
            "Epoch 41/50\n",
            "11/11 [==============================] - 0s 7ms/step - loss: 87.4230 - val_loss: 100.3058\n",
            "Epoch 42/50\n",
            "11/11 [==============================] - 0s 6ms/step - loss: 87.2765 - val_loss: 100.1660\n",
            "Epoch 43/50\n",
            "11/11 [==============================] - 0s 5ms/step - loss: 87.2207 - val_loss: 99.9912\n",
            "Epoch 44/50\n",
            "11/11 [==============================] - 0s 5ms/step - loss: 87.1707 - val_loss: 99.8833\n",
            "Epoch 45/50\n",
            "11/11 [==============================] - 0s 7ms/step - loss: 87.1424 - val_loss: 99.8052\n",
            "Epoch 46/50\n",
            "11/11 [==============================] - 0s 7ms/step - loss: 87.1190 - val_loss: 99.6054\n",
            "Epoch 47/50\n",
            "11/11 [==============================] - 0s 5ms/step - loss: 87.0224 - val_loss: 99.4230\n",
            "Epoch 48/50\n",
            "11/11 [==============================] - 0s 7ms/step - loss: 86.9958 - val_loss: 99.3085\n",
            "Epoch 49/50\n",
            "11/11 [==============================] - 0s 5ms/step - loss: 87.0096 - val_loss: 99.3382\n",
            "Epoch 50/50\n",
            "11/11 [==============================] - 0s 6ms/step - loss: 87.0100 - val_loss: 99.3608\n"
          ]
        }
      ]
    },
    {
      "cell_type": "markdown",
      "source": [
        "* 학습결과 그래프"
      ],
      "metadata": {
        "id": "zEHTIzCFrmAM"
      }
    },
    {
      "cell_type": "code",
      "metadata": {
        "id": "tlFZWZizrmAM",
        "colab": {
          "base_uri": "https://localhost:8080/",
          "height": 542
        },
        "outputId": "91574e4b-6c88-4071-db01-386dc5fd59e5"
      },
      "source": [
        "dl_history_plot(hist)"
      ],
      "execution_count": 83,
      "outputs": [
        {
          "output_type": "display_data",
          "data": {
            "text/plain": [
              "<Figure size 1000x600 with 1 Axes>"
            ],
            "image/png": "[encoded data removed]"
          },
          "metadata": {}
        }
      ]
    },
    {
      "cell_type": "markdown",
      "source": [
        "* 예측 및 평가"
      ],
      "metadata": {
        "id": "sK15otgfiWgQ"
      }
    },
    {
      "cell_type": "code",
      "source": [
        "pred3 = model3.predict(x_val)\n",
        "print(f'RMSE : {mean_squared_error(y_val, pred3, squared=False)}')\n",
        "print(f'MAE  : {mean_absolute_error(y_val, pred3)}')\n",
        "print(f'MAPE : {mean_absolute_percentage_error(y_val, pred3)}')"
      ],
      "metadata": {
        "id": "xboRa-t1rmAM",
        "colab": {
          "base_uri": "https://localhost:8080/"
        },
        "outputId": "004ab464-59d2-4d86-f47b-57b8c4c4d4d2"
      },
      "execution_count": 84,
      "outputs": [
        {
          "output_type": "stream",
          "name": "stdout",
          "text": [
            "4/4 [==============================] - 0s 3ms/step\n",
            "RMSE : 8.049523194590314\n",
            "MAE  : 5.496162048040652\n",
            "MAPE : 0.3189378401797094\n"
          ]
        }
      ]
    },
    {
      "cell_type": "markdown",
      "source": [
        "### (3) 실습1"
      ],
      "metadata": {
        "id": "xMGgnz9TvDSr"
      }
    },
    {
      "cell_type": "markdown",
      "source": [
        "* 다음의 summary를 보고 모델을 설계하시오.\n",
        "\n",
        "| Layer (type) | Output Shape | Param # |\n",
        "| ---- | ---- | ---- |\n",
        "| dense (Dense) | (None, 8) | 104 |\n",
        "| dense_1 (Dense) | (None, 1) | 9 |     "
      ],
      "metadata": {
        "id": "MZQ1GyB7vONX"
      }
    },
    {
      "cell_type": "code",
      "source": [
        "clear_session()\n",
        "model = Sequential([Dense(8, input_shape=(nfeatures, )),\n",
        "                    Dense(1, )])\n",
        "model.summary()"
      ],
      "metadata": {
        "id": "G2WM_uRyBW2u",
        "colab": {
          "base_uri": "https://localhost:8080/"
        },
        "outputId": "b117d886-8466-4af6-ac7a-c6ff7d7e2f08"
      },
      "execution_count": 107,
      "outputs": [
        {
          "output_type": "stream",
          "name": "stdout",
          "text": [
            "Model: \"sequential\"\n",
            "_________________________________________________________________\n",
            " Layer (type)                Output Shape              Param #   \n",
            "=================================================================\n",
            " dense (Dense)               (None, 8)                 104       \n",
            "                                                                 \n",
            " dense_1 (Dense)             (None, 1)                 9         \n",
            "                                                                 \n",
            "=================================================================\n",
            "Total params: 113 (452.00 Byte)\n",
            "Trainable params: 113 (452.00 Byte)\n",
            "Non-trainable params: 0 (0.00 Byte)\n",
            "_________________________________________________________________\n"
          ]
        }
      ]
    },
    {
      "cell_type": "markdown",
      "source": [
        "* 컴파일 + 학습"
      ],
      "metadata": {
        "id": "Sg5XlbcW0w2y"
      }
    },
    {
      "cell_type": "code",
      "source": [
        "model.compile(optimizer=Adam(0.1), loss='mse')\n",
        "hist = model.fit(x_train, y_train, epochs=20, validation_split=0.2).history"
      ],
      "metadata": {
        "id": "iEZWr_jNwCpr",
        "colab": {
          "base_uri": "https://localhost:8080/"
        },
        "outputId": "c7cfac83-dce9-4ef5-b6b2-6eead2102bd6"
      },
      "execution_count": 108,
      "outputs": [
        {
          "output_type": "stream",
          "name": "stdout",
          "text": [
            "Epoch 1/20\n",
            "11/11 [==============================] - 1s 22ms/step - loss: 334.6101 - val_loss: 200.3792\n",
            "Epoch 2/20\n",
            "11/11 [==============================] - 0s 7ms/step - loss: 142.0729 - val_loss: 131.7999\n",
            "Epoch 3/20\n",
            "11/11 [==============================] - 0s 8ms/step - loss: 88.8284 - val_loss: 66.1786\n",
            "Epoch 4/20\n",
            "11/11 [==============================] - 0s 8ms/step - loss: 71.0798 - val_loss: 55.7986\n",
            "Epoch 5/20\n",
            "11/11 [==============================] - 0s 7ms/step - loss: 60.3257 - val_loss: 44.8203\n",
            "Epoch 6/20\n",
            "11/11 [==============================] - 0s 7ms/step - loss: 50.4952 - val_loss: 37.4636\n",
            "Epoch 7/20\n",
            "11/11 [==============================] - 0s 7ms/step - loss: 42.0382 - val_loss: 39.8750\n",
            "Epoch 8/20\n",
            "11/11 [==============================] - 0s 8ms/step - loss: 40.8949 - val_loss: 33.9553\n",
            "Epoch 9/20\n",
            "11/11 [==============================] - 0s 5ms/step - loss: 37.0261 - val_loss: 23.0622\n",
            "Epoch 10/20\n",
            "11/11 [==============================] - 0s 6ms/step - loss: 32.7690 - val_loss: 26.4188\n",
            "Epoch 11/20\n",
            "11/11 [==============================] - 0s 7ms/step - loss: 34.1215 - val_loss: 33.8155\n",
            "Epoch 12/20\n",
            "11/11 [==============================] - 0s 5ms/step - loss: 31.7085 - val_loss: 21.2967\n",
            "Epoch 13/20\n",
            "11/11 [==============================] - 0s 4ms/step - loss: 29.8812 - val_loss: 19.4856\n",
            "Epoch 14/20\n",
            "11/11 [==============================] - 0s 5ms/step - loss: 29.1890 - val_loss: 22.4526\n",
            "Epoch 15/20\n",
            "11/11 [==============================] - 0s 6ms/step - loss: 28.7998 - val_loss: 21.6147\n",
            "Epoch 16/20\n",
            "11/11 [==============================] - 0s 5ms/step - loss: 28.9595 - val_loss: 24.4729\n",
            "Epoch 17/20\n",
            "11/11 [==============================] - 0s 6ms/step - loss: 30.1043 - val_loss: 23.2260\n",
            "Epoch 18/20\n",
            "11/11 [==============================] - 0s 6ms/step - loss: 29.7795 - val_loss: 21.8541\n",
            "Epoch 19/20\n",
            "11/11 [==============================] - 0s 6ms/step - loss: 27.5816 - val_loss: 18.7020\n",
            "Epoch 20/20\n",
            "11/11 [==============================] - 0s 7ms/step - loss: 27.7808 - val_loss: 26.2119\n"
          ]
        }
      ]
    },
    {
      "cell_type": "markdown",
      "source": [
        "* 학습곡선"
      ],
      "metadata": {
        "id": "6iLA8c2p00M6"
      }
    },
    {
      "cell_type": "code",
      "source": [
        "dl_history_plot(hist)"
      ],
      "metadata": {
        "id": "T9plSoBwwCh8",
        "colab": {
          "base_uri": "https://localhost:8080/",
          "height": 547
        },
        "outputId": "6d6f111d-a72f-416a-c44e-234fae215ae2"
      },
      "execution_count": 109,
      "outputs": [
        {
          "output_type": "display_data",
          "data": {
            "text/plain": [
              "<Figure size 1000x600 with 1 Axes>"
            ],
            "image/png": "[encoded data removed]"
          },
          "metadata": {}
        }
      ]
    },
    {
      "cell_type": "markdown",
      "source": [
        "* 검증"
      ],
      "metadata": {
        "id": "hVa3Z88902gU"
      }
    },
    {
      "cell_type": "code",
      "source": [
        "pred = model.predict(x_val)\n",
        "print('RMSE:', mean_squared_error(y_val, pred , squared=False))\n",
        "print('MAE:', mean_absolute_error(y_val, pred))\n",
        "print('MAPE: ', mean_absolute_percentage_error(y_val, pred))"
      ],
      "metadata": {
        "id": "PTzZV-_DwCY3",
        "colab": {
          "base_uri": "https://localhost:8080/"
        },
        "outputId": "a1d76396-491b-4d54-f287-86438293fefd"
      },
      "execution_count": 110,
      "outputs": [
        {
          "output_type": "stream",
          "name": "stdout",
          "text": [
            "4/4 [==============================] - 0s 3ms/step\n",
            "RMSE: 4.509549114778724\n",
            "MAE: 3.2778604025934257\n",
            "MAPE:  0.16598983270966736\n"
          ]
        }
      ]
    },
    {
      "cell_type": "markdown",
      "source": [
        "### (4) 실습2"
      ],
      "metadata": {
        "id": "6vx5D3lewBR8"
      }
    },
    {
      "cell_type": "markdown",
      "source": [
        "* 다음의 summary를 보고 모델을 설계하시오.\n",
        "\n",
        "| Layer (type) | Output Shape | Param # | 옵션 |\n",
        "| ---- | ---- | ---- | ---- |\n",
        "| dense (Dense) | (None, 8) | 112 | node, input_shape, activation |\n",
        "| dense_1 (Dense) | (None, 4) | 36 | node, activation |\n",
        "| dense_2 (Dense) | (None, 1) | 5 | node |"
      ],
      "metadata": {
        "id": "ziu8sULAwBR9"
      }
    },
    {
      "cell_type": "code",
      "source": [
        "clear_session()\n",
        "model = Sequential([Dense(8, input_shape = (nfeatures,), activation = 'relu'),\n",
        "                    Dense(4, activation = 'relu'),\n",
        "                    Dense(1)])\n",
        "model.summary()"
      ],
      "metadata": {
        "id": "amoQ7ZWuwBR9",
        "colab": {
          "base_uri": "https://localhost:8080/"
        },
        "outputId": "116d7d2c-bce0-433c-a869-94a19921f420"
      },
      "execution_count": 130,
      "outputs": [
        {
          "output_type": "stream",
          "name": "stdout",
          "text": [
            "Model: \"sequential\"\n",
            "_________________________________________________________________\n",
            " Layer (type)                Output Shape              Param #   \n",
            "=================================================================\n",
            " dense (Dense)               (None, 8)                 104       \n",
            "                                                                 \n",
            " dense_1 (Dense)             (None, 4)                 36        \n",
            "                                                                 \n",
            " dense_2 (Dense)             (None, 1)                 5         \n",
            "                                                                 \n",
            "=================================================================\n",
            "Total params: 145 (580.00 Byte)\n",
            "Trainable params: 145 (580.00 Byte)\n",
            "Non-trainable params: 0 (0.00 Byte)\n",
            "_________________________________________________________________\n"
          ]
        }
      ]
    },
    {
      "cell_type": "markdown",
      "source": [
        "* 컴파일 + 학습"
      ],
      "metadata": {
        "id": "UIsKJfLj06me"
      }
    },
    {
      "cell_type": "code",
      "source": [
        "model.compile(optimizer=Adam(0.1), loss='mse')\n",
        "hist = model.fit(x_train, y_train, epochs=20, validation_split=0.2).history"
      ],
      "metadata": {
        "id": "CvZp_H7ew6UW",
        "colab": {
          "base_uri": "https://localhost:8080/"
        },
        "outputId": "f524b054-2187-4c22-8d9b-d3d96981757a"
      },
      "execution_count": 131,
      "outputs": [
        {
          "output_type": "stream",
          "name": "stdout",
          "text": [
            "Epoch 1/20\n",
            "11/11 [==============================] - 1s 19ms/step - loss: 427.6231 - val_loss: 205.2241\n",
            "Epoch 2/20\n",
            "11/11 [==============================] - 0s 5ms/step - loss: 138.5264 - val_loss: 127.3764\n",
            "Epoch 3/20\n",
            "11/11 [==============================] - 0s 5ms/step - loss: 81.0397 - val_loss: 62.4943\n",
            "Epoch 4/20\n",
            "11/11 [==============================] - 0s 7ms/step - loss: 72.8263 - val_loss: 63.3644\n",
            "Epoch 5/20\n",
            "11/11 [==============================] - 0s 7ms/step - loss: 59.3638 - val_loss: 41.2012\n",
            "Epoch 6/20\n",
            "11/11 [==============================] - 0s 7ms/step - loss: 49.9108 - val_loss: 42.3057\n",
            "Epoch 7/20\n",
            "11/11 [==============================] - 0s 7ms/step - loss: 45.0765 - val_loss: 29.6143\n",
            "Epoch 8/20\n",
            "11/11 [==============================] - 0s 5ms/step - loss: 42.5264 - val_loss: 32.9538\n",
            "Epoch 9/20\n",
            "11/11 [==============================] - 0s 5ms/step - loss: 48.2902 - val_loss: 37.4191\n",
            "Epoch 10/20\n",
            "11/11 [==============================] - 0s 8ms/step - loss: 34.8551 - val_loss: 25.9258\n",
            "Epoch 11/20\n",
            "11/11 [==============================] - 0s 8ms/step - loss: 30.8130 - val_loss: 16.6155\n",
            "Epoch 12/20\n",
            "11/11 [==============================] - 0s 7ms/step - loss: 26.9387 - val_loss: 14.3468\n",
            "Epoch 13/20\n",
            "11/11 [==============================] - 0s 10ms/step - loss: 25.7864 - val_loss: 17.2815\n",
            "Epoch 14/20\n",
            "11/11 [==============================] - 0s 7ms/step - loss: 36.1830 - val_loss: 14.7834\n",
            "Epoch 15/20\n",
            "11/11 [==============================] - 0s 8ms/step - loss: 25.9811 - val_loss: 13.1608\n",
            "Epoch 16/20\n",
            "11/11 [==============================] - 0s 8ms/step - loss: 23.5179 - val_loss: 16.6177\n",
            "Epoch 17/20\n",
            "11/11 [==============================] - 0s 8ms/step - loss: 24.8597 - val_loss: 17.7449\n",
            "Epoch 18/20\n",
            "11/11 [==============================] - 0s 7ms/step - loss: 25.2456 - val_loss: 11.2220\n",
            "Epoch 19/20\n",
            "11/11 [==============================] - 0s 7ms/step - loss: 23.4234 - val_loss: 14.7320\n",
            "Epoch 20/20\n",
            "11/11 [==============================] - 0s 8ms/step - loss: 22.0915 - val_loss: 10.5153\n"
          ]
        }
      ]
    },
    {
      "cell_type": "markdown",
      "source": [
        "* 학습곡선"
      ],
      "metadata": {
        "id": "EwjUwLjY08U2"
      }
    },
    {
      "cell_type": "code",
      "source": [
        "dl_history_plot(hist)"
      ],
      "metadata": {
        "id": "mmEb6I1Xw6UX",
        "colab": {
          "base_uri": "https://localhost:8080/",
          "height": 542
        },
        "outputId": "e3043057-e8d8-4865-cb6c-368d006a7d81"
      },
      "execution_count": 132,
      "outputs": [
        {
          "output_type": "display_data",
          "data": {
            "text/plain": [
              "<Figure size 1000x600 with 1 Axes>"
            ],
            "image/png": "[encoded data removed]"
          },
          "metadata": {}
        }
      ]
    },
    {
      "cell_type": "markdown",
      "source": [
        "* 검증"
      ],
      "metadata": {
        "id": "Ka3NY3BD1Eok"
      }
    },
    {
      "cell_type": "code",
      "source": [
        "pred = model.predict(x_val)\n",
        "print('RMSE:', mean_squared_error(y_val, pred))\n",
        "print('MAE:', mean_absolute_error(y_val, pred))\n",
        "print('MAPE:', mean_absolute_percentage_error(y_val, pred))"
      ],
      "metadata": {
        "id": "fnV1biM0w6UX",
        "colab": {
          "base_uri": "https://localhost:8080/"
        },
        "outputId": "25ee0bc1-9e7c-458d-a989-f93448b2b312"
      },
      "execution_count": 133,
      "outputs": [
        {
          "output_type": "stream",
          "name": "stdout",
          "text": [
            "4/4 [==============================] - 0s 4ms/step\n",
            "RMSE: 17.968257299126716\n",
            "MAE: 3.317481493482403\n",
            "MAPE: 0.17787997410623801\n"
          ]
        }
      ]
    },
    {
      "cell_type": "markdown",
      "source": [
        "### (5) 실습3"
      ],
      "metadata": {
        "id": "YC5zRh2BxHgb"
      }
    },
    {
      "cell_type": "markdown",
      "source": [
        "* 이번에는 여러분이 원하는 대로 설계하고, 학습해 봅시다.\n"
      ],
      "metadata": {
        "id": "9RFDZgfMxHgb"
      }
    },
    {
      "cell_type": "code",
      "source": [
        "nfeatures"
      ],
      "metadata": {
        "colab": {
          "base_uri": "https://localhost:8080/"
        },
        "id": "ytoYynrJ85ss",
        "outputId": "8816e55a-36ce-404f-b293-6ac73a763c4e"
      },
      "execution_count": 134,
      "outputs": [
        {
          "output_type": "execute_result",
          "data": {
            "text/plain": [
              "12"
            ]
          },
          "metadata": {},
          "execution_count": 134
        }
      ]
    },
    {
      "cell_type": "code",
      "source": [
        "clear_session()\n",
        "model = Sequential([Dense(6, input_shape = (nfeatures,), activation = 'relu'),\n",
        "                    Dense(3, activation = 'relu'),\n",
        "                    Dense(1)])\n",
        "model.summary()"
      ],
      "metadata": {
        "id": "NxQr68WtxHgb",
        "colab": {
          "base_uri": "https://localhost:8080/"
        },
        "outputId": "6507f513-4871-46c5-fb66-0fae6501da68"
      },
      "execution_count": 147,
      "outputs": [
        {
          "output_type": "stream",
          "name": "stdout",
          "text": [
            "Model: \"sequential\"\n",
            "_________________________________________________________________\n",
            " Layer (type)                Output Shape              Param #   \n",
            "=================================================================\n",
            " dense (Dense)               (None, 6)                 78        \n",
            "                                                                 \n",
            " dense_1 (Dense)             (None, 3)                 21        \n",
            "                                                                 \n",
            " dense_2 (Dense)             (None, 1)                 4         \n",
            "                                                                 \n",
            "=================================================================\n",
            "Total params: 103 (412.00 Byte)\n",
            "Trainable params: 103 (412.00 Byte)\n",
            "Non-trainable params: 0 (0.00 Byte)\n",
            "_________________________________________________________________\n"
          ]
        }
      ]
    },
    {
      "cell_type": "markdown",
      "source": [
        "* 컴파일 + 학습"
      ],
      "metadata": {
        "id": "hxpFdn1y1HC7"
      }
    },
    {
      "cell_type": "code",
      "source": [
        "model.compile(optimizer=Adam(0.01), loss='mse')\n",
        "hist = model.fit(x_train, y_train, epochs=30, validation_split=0.2).history"
      ],
      "metadata": {
        "id": "1KWGPsVqxHgd",
        "colab": {
          "base_uri": "https://localhost:8080/"
        },
        "outputId": "c5d708e5-fa2d-4b43-b3df-e4101c3af221"
      },
      "execution_count": 148,
      "outputs": [
        {
          "output_type": "stream",
          "name": "stdout",
          "text": [
            "Epoch 1/30\n",
            "11/11 [==============================] - 1s 19ms/step - loss: 558.5649 - val_loss: 566.6801\n",
            "Epoch 2/30\n",
            "11/11 [==============================] - 0s 5ms/step - loss: 470.9622 - val_loss: 452.8933\n",
            "Epoch 3/30\n",
            "11/11 [==============================] - 0s 6ms/step - loss: 343.7016 - val_loss: 298.1635\n",
            "Epoch 4/30\n",
            "11/11 [==============================] - 0s 6ms/step - loss: 201.9762 - val_loss: 182.8103\n",
            "Epoch 5/30\n",
            "11/11 [==============================] - 0s 5ms/step - loss: 145.7792 - val_loss: 159.1460\n",
            "Epoch 6/30\n",
            "11/11 [==============================] - 0s 5ms/step - loss: 128.6082 - val_loss: 136.0659\n",
            "Epoch 7/30\n",
            "11/11 [==============================] - 0s 5ms/step - loss: 112.2218 - val_loss: 120.2180\n",
            "Epoch 8/30\n",
            "11/11 [==============================] - 0s 7ms/step - loss: 100.0900 - val_loss: 103.3029\n",
            "Epoch 9/30\n",
            "11/11 [==============================] - 0s 5ms/step - loss: 89.2927 - val_loss: 88.9196\n",
            "Epoch 10/30\n",
            "11/11 [==============================] - 0s 6ms/step - loss: 79.5320 - val_loss: 75.9161\n",
            "Epoch 11/30\n",
            "11/11 [==============================] - 0s 5ms/step - loss: 71.6447 - val_loss: 68.2584\n",
            "Epoch 12/30\n",
            "11/11 [==============================] - 0s 5ms/step - loss: 67.6839 - val_loss: 63.6707\n",
            "Epoch 13/30\n",
            "11/11 [==============================] - 0s 5ms/step - loss: 62.7116 - val_loss: 54.7400\n",
            "Epoch 14/30\n",
            "11/11 [==============================] - 0s 5ms/step - loss: 58.8376 - val_loss: 49.3672\n",
            "Epoch 15/30\n",
            "11/11 [==============================] - 0s 5ms/step - loss: 57.2818 - val_loss: 46.1221\n",
            "Epoch 16/30\n",
            "11/11 [==============================] - 0s 6ms/step - loss: 54.5342 - val_loss: 44.5959\n",
            "Epoch 17/30\n",
            "11/11 [==============================] - 0s 6ms/step - loss: 52.4786 - val_loss: 43.6685\n",
            "Epoch 18/30\n",
            "11/11 [==============================] - 0s 5ms/step - loss: 50.4738 - val_loss: 41.7316\n",
            "Epoch 19/30\n",
            "11/11 [==============================] - 0s 5ms/step - loss: 49.0439 - val_loss: 38.7269\n",
            "Epoch 20/30\n",
            "11/11 [==============================] - 0s 5ms/step - loss: 47.3162 - val_loss: 38.9700\n",
            "Epoch 21/30\n",
            "11/11 [==============================] - 0s 5ms/step - loss: 46.1328 - val_loss: 34.6261\n",
            "Epoch 22/30\n",
            "11/11 [==============================] - 0s 6ms/step - loss: 43.1176 - val_loss: 34.6562\n",
            "Epoch 23/30\n",
            "11/11 [==============================] - 0s 7ms/step - loss: 41.5510 - val_loss: 32.7911\n",
            "Epoch 24/30\n",
            "11/11 [==============================] - 0s 8ms/step - loss: 39.8100 - val_loss: 29.6144\n",
            "Epoch 25/30\n",
            "11/11 [==============================] - 0s 6ms/step - loss: 40.5281 - val_loss: 32.6019\n",
            "Epoch 26/30\n",
            "11/11 [==============================] - 0s 5ms/step - loss: 37.4576 - val_loss: 27.5594\n",
            "Epoch 27/30\n",
            "11/11 [==============================] - 0s 5ms/step - loss: 35.9059 - val_loss: 26.9607\n",
            "Epoch 28/30\n",
            "11/11 [==============================] - 0s 6ms/step - loss: 34.6402 - val_loss: 24.9645\n",
            "Epoch 29/30\n",
            "11/11 [==============================] - 0s 6ms/step - loss: 34.3225 - val_loss: 22.3528\n",
            "Epoch 30/30\n",
            "11/11 [==============================] - 0s 7ms/step - loss: 32.3463 - val_loss: 22.3128\n"
          ]
        }
      ]
    },
    {
      "cell_type": "markdown",
      "source": [
        "* 학습곡선"
      ],
      "metadata": {
        "id": "liYHw0hq1JB6"
      }
    },
    {
      "cell_type": "code",
      "source": [
        "dl_history_plot(hist)"
      ],
      "metadata": {
        "id": "iAnWkxcwxHgd",
        "colab": {
          "base_uri": "https://localhost:8080/",
          "height": 542
        },
        "outputId": "3e7c6521-db09-4c4a-bae2-f1c3d5dd8642"
      },
      "execution_count": 149,
      "outputs": [
        {
          "output_type": "display_data",
          "data": {
            "text/plain": [
              "<Figure size 1000x600 with 1 Axes>"
            ],
            "image/png": "[encoded data removed]"
          },
          "metadata": {}
        }
      ]
    },
    {
      "cell_type": "markdown",
      "source": [
        "* 검증"
      ],
      "metadata": {
        "id": "Ou2OHo8c1Kmj"
      }
    },
    {
      "cell_type": "code",
      "source": [
        "pred = model.predict(x_val)\n",
        "print('RMSE:', mean_squared_error(y_val, pred))\n",
        "print('MAE:', mean_absolute_error(y_val, pred))\n",
        "print('MAPE:', mean_absolute_percentage_error(y_val, pred))"
      ],
      "metadata": {
        "id": "odSzTWryxHgd",
        "colab": {
          "base_uri": "https://localhost:8080/"
        },
        "outputId": "bbf29e94-e9c6-4eb9-b26e-d233867b7b7b"
      },
      "execution_count": 150,
      "outputs": [
        {
          "output_type": "stream",
          "name": "stdout",
          "text": [
            "4/4 [==============================] - 0s 3ms/step\n",
            "RMSE: 26.29961238339186\n",
            "MAE: 3.976156008477305\n",
            "MAPE: 0.20026681963903242\n"
          ]
        }
      ]
    },
    {
      "cell_type": "code",
      "source": [],
      "metadata": {
        "id": "eLV2-Y8r-sSx"
      },
      "execution_count": null,
      "outputs": []
    }
  ]
}