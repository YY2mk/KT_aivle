{
 "cells": [
  {
   "cell_type": "markdown",
   "metadata": {
    "id": "mTt7qGUTCcFs"
   },
   "source": [
    "# 차원 축소 실습\n",
    "\n",
    "* 실습 목적\n",
    "    * 차원축소(PCA)를 통해\n",
    "    * 저차원에서 데이터 시각화와\n",
    "    * 지도학습과 연계한 모델링 적용\n"
   ]
  },
  {
   "cell_type": "markdown",
   "metadata": {
    "id": "Fr5KT8WKurRF"
   },
   "source": [
    "## 1.환경준비"
   ]
  },
  {
   "cell_type": "markdown",
   "metadata": {
    "id": "su9_6-pnuto1"
   },
   "source": [
    "### (1) 라이브러리 로딩"
   ]
  },
  {
   "cell_type": "code",
   "execution_count": null,
   "metadata": {
    "id": "0CKXfg8cUGWB"
   },
   "outputs": [],
   "source": [
    "# 기본 라이브러리 가져오기\n",
    "import pandas as pd\n",
    "import numpy as np\n",
    "import matplotlib.pyplot as plt\n",
    "import seaborn as sns\n",
    "\n",
    "from sklearn.model_selection import train_test_split\n",
    "from sklearn.neighbors import KNeighborsClassifier\n",
    "from sklearn.linear_model import LogisticRegression\n",
    "from sklearn.metrics import *\n",
    "from sklearn.decomposition import PCA\n",
    "\n",
    "from sklearn.preprocessing import StandardScaler, MinMaxScaler"
   ]
  },
  {
   "cell_type": "markdown",
   "metadata": {
    "id": "b03Uj1SPuy14"
   },
   "source": [
    "### (2) 데이터 준비"
   ]
  },
  {
   "cell_type": "markdown",
   "metadata": {
    "id": "1TWUnARnvUeD"
   },
   "source": [
    "#### 1) 데이터 로딩"
   ]
  },
  {
   "cell_type": "code",
   "execution_count": null,
   "metadata": {
    "id": "IR2UVH4l8w4Y"
   },
   "outputs": [],
   "source": [
    "data = pd.read_excel('bankrupt.xlsx')\n",
    "data.head()"
   ]
  },
  {
   "cell_type": "code",
   "execution_count": null,
   "metadata": {
    "id": "wrxJs70qy48N"
   },
   "outputs": [],
   "source": [
    "data.info()"
   ]
  },
  {
   "cell_type": "markdown",
   "metadata": {
    "id": "wEVI7fCyzCJl"
   },
   "source": [
    "#### 2) 데이터 분할"
   ]
  },
  {
   "cell_type": "code",
   "execution_count": null,
   "metadata": {
    "id": "vgcPptauou-y"
   },
   "outputs": [],
   "source": [
    "target = 'target'\n",
    "\n",
    "x = data.drop(target, axis = 1)\n",
    "y = data[target]"
   ]
  },
  {
   "cell_type": "markdown",
   "metadata": {
    "id": "z7BEYD7Wzg0X"
   },
   "source": [
    "* train, validation 분할"
   ]
  },
  {
   "cell_type": "code",
   "execution_count": null,
   "metadata": {
    "id": "lbd4JfZNwCfx"
   },
   "outputs": [],
   "source": [
    "x_train, x_val, y_train, y_val = train_test_split(x, y, test_size = .3, random_state = 20)"
   ]
  },
  {
   "cell_type": "markdown",
   "metadata": {
    "id": "jrD7JvnKwU3q"
   },
   "source": [
    "#### 3) 스케일링\n",
    "* 거리계산 기반 차원축소이므로 스케일링 필요"
   ]
  },
  {
   "cell_type": "code",
   "execution_count": null,
   "metadata": {
    "id": "9Bp6SywKwT0Q"
   },
   "outputs": [],
   "source": [
    "scaler = MinMaxScaler()\n",
    "x_train = scaler.fit_transform(x_train)\n",
    "x_val = scaler.transform(x_val)\n",
    "\n",
    "# (옵션)데이터프레임 변환\n",
    "x_train = pd.DataFrame(x_train, columns=list(x))"
   ]
  },
  {
   "cell_type": "markdown",
   "metadata": {
    "id": "8FdVCGAWvrvp"
   },
   "source": [
    "## 2.차원 축소 : 주성분 분석 PCA\n",
    "\n",
    "* 주성분 만들기\n",
    "    * 전체 변수의 수로 주성분 생성\n",
    "    * 분산 누적그래프를 그리고 적절한 주성분 수 선택\n",
    "* 적용\n",
    "    * 저차원 시각화\n",
    "    * 지도학습 연계"
   ]
  },
  {
   "cell_type": "markdown",
   "metadata": {
    "id": "Ck0CattHxMfx"
   },
   "source": [
    "### (1) 주성분 만들기\n",
    "\n",
    "* 전체 변수의 수로 주성분 생성\n"
   ]
  },
  {
   "cell_type": "code",
   "execution_count": null,
   "metadata": {
    "id": "XN5IfIe-wb88"
   },
   "outputs": [],
   "source": [
    "# 주성분을 최대값으로 결정\n",
    "n =\n",
    "\n",
    "# 주성분 분석 선언\n",
    "pca =\n",
    "\n",
    "# 만들고, 적용하기\n",
    "x_train_pc =\n",
    "x_val_pc ="
   ]
  },
  {
   "cell_type": "markdown",
   "metadata": {
    "id": "ZC0p7Uzpwi30"
   },
   "source": [
    "* 편리하게 사용하기 위해 데이터프레임으로 변환"
   ]
  },
  {
   "cell_type": "code",
   "execution_count": null,
   "metadata": {
    "id": "JCdKiIfEv99e"
   },
   "outputs": [],
   "source": [
    "# 칼럼이름 생성\n",
    "column_names = [ 'PC'+str(i+1) for i in range(n) ]\n",
    "column_names\n",
    "\n",
    "# 데이터프레임으로 변환하기\n",
    "x_train_pc = pd.DataFrame(x_train_pc, columns = column_names)\n",
    "x_val_pc = pd.DataFrame(x_val_pc, columns = column_names)\n",
    "x_train_pc"
   ]
  },
  {
   "cell_type": "markdown",
   "metadata": {
    "id": "sQ6qMQ4C7zZU"
   },
   "source": [
    "### (2) 주성분 누적 분산 그래프\n",
    "* 그래프를 보고 적절한 주성분의 개수를 지정(elbow method!)\n",
    "* x축 : PC 수\n",
    "* y축 : 전체 분산크기 - 누적 분산크기"
   ]
  },
  {
   "cell_type": "code",
   "execution_count": null,
   "metadata": {
    "id": "dkAsJwaEwb88"
   },
   "outputs": [],
   "source": [
    "plt.plot(range(1,n+1),         , marker = '.')\n",
    "plt.xlabel('No. of PC')\n",
    "plt.grid()\n",
    "plt.show()"
   ]
  },
  {
   "cell_type": "markdown",
   "metadata": {
    "id": "vk3byX_cTNkf"
   },
   "source": [
    "주성분 개수 몇개면 충분할까요?"
   ]
  },
  {
   "cell_type": "code",
   "execution_count": null,
   "metadata": {
    "id": "0NrtzBTdTRp7"
   },
   "outputs": [],
   "source": []
  },
  {
   "cell_type": "markdown",
   "metadata": {
    "id": "0SY4XlWhxIdr"
   },
   "source": [
    "### (3) 시각화\n",
    "* 주 성분 중 상위 2개를 뽑아 시각화 해 봅시다.\n",
    "* 본 데이터는 시각화 결과가 만족스럽지는 않습니다.^^;;"
   ]
  },
  {
   "cell_type": "code",
   "execution_count": null,
   "metadata": {
    "id": "FnutRgDhxZx0"
   },
   "outputs": [],
   "source": [
    "sns.scatterplot(x = 'PC1', y = 'PC2', data = x_train_pc, hue = y_train)\n",
    "plt.grid()\n",
    "plt.show()"
   ]
  },
  {
   "cell_type": "markdown",
   "metadata": {
    "id": "SJTt86Bnumj_"
   },
   "source": [
    "* [참조]feature 간 상호 상관관계 살펴보기\n",
    "    * 아래 내용은 참조 자료입니다."
   ]
  },
  {
   "cell_type": "code",
   "execution_count": null,
   "metadata": {
    "id": "kqTl1Q2Tte6r"
   },
   "outputs": [],
   "source": [
    "plt.figure(figsize = (8, 8))\n",
    "sns.heatmap(x_train.corr())"
   ]
  },
  {
   "cell_type": "code",
   "execution_count": null,
   "metadata": {
    "id": "-eDZm1ZHtPsP"
   },
   "outputs": [],
   "source": [
    "plt.figure(figsize = (8, 8))\n",
    "sns.heatmap(x_train_pc.corr())"
   ]
  },
  {
   "cell_type": "markdown",
   "metadata": {
    "id": "HTfEky7M2FNG"
   },
   "source": [
    "### (4) 지도학습으로 연계하기"
   ]
  },
  {
   "cell_type": "markdown",
   "metadata": {
    "id": "LASBCWYkQFb5"
   },
   "source": [
    "#### 1) 원본데이터로 모델 생성하기\n",
    "* 로지스틱 회귀로 분류 모델을 생성해 봅시다."
   ]
  },
  {
   "cell_type": "markdown",
   "metadata": {
    "id": "gLzuM9EAQJt7"
   },
   "source": [
    "* 학습"
   ]
  },
  {
   "cell_type": "code",
   "execution_count": null,
   "metadata": {
    "id": "DPcyR52FQJI2"
   },
   "outputs": [],
   "source": [
    "# 모델 선언\n",
    "model0 =\n",
    "\n",
    "# 학습\n"
   ]
  },
  {
   "cell_type": "markdown",
   "metadata": {
    "id": "CjUA9bWiQdVY"
   },
   "source": [
    "* 예측 및 평가"
   ]
  },
  {
   "cell_type": "code",
   "execution_count": null,
   "metadata": {
    "id": "4CTK4naMQhaT"
   },
   "outputs": [],
   "source": [
    "# 예측\n",
    "\n",
    "\n",
    "# 평가\n",
    "\n"
   ]
  },
  {
   "cell_type": "markdown",
   "metadata": {
    "id": "zCCJlatbdU24"
   },
   "source": [
    "#### 2) 주성분 분석 데이터로 모델링\n",
    "* 다음의 조건으로 모델을 만들고 성능을 확인해 봅시다.\n",
    "    * 알고리즘 : KNN"
   ]
  },
  {
   "cell_type": "code",
   "execution_count": null,
   "metadata": {
    "id": "ti-q9P56zn1d"
   },
   "outputs": [],
   "source": [
    "# 여러분이 선택한 주성분 개수\n",
    "n =\n",
    "\n",
    "# 데이터 준비\n",
    "cols = column_names[:n]\n",
    "x_train_pc_n = x_train_pc.loc[:, cols]\n",
    "x_val_pc_n = x_val_pc.loc[:, cols]\n",
    "\n",
    "# 모델 선언 및 학습\n",
    "model_n =\n",
    "\n"
   ]
  },
  {
   "cell_type": "code",
   "execution_count": null,
   "metadata": {
    "id": "NuZVasx2yWvz"
   },
   "outputs": [],
   "source": [
    "# 예측\n",
    "\n",
    "\n",
    "# 평가\n",
    "\n"
   ]
  },
  {
   "cell_type": "markdown",
   "metadata": {
    "id": "o8WnmOnABr9X"
   },
   "source": [
    "## 3.[참조] t-SNE"
   ]
  },
  {
   "cell_type": "markdown",
   "metadata": {
    "id": "eQBpDeecZrGm"
   },
   "source": [
    "### (1) 학습(차원축소)"
   ]
  },
  {
   "cell_type": "code",
   "execution_count": null,
   "metadata": {
    "id": "am8DNTjwBynX"
   },
   "outputs": [],
   "source": [
    "from sklearn.manifold import TSNE"
   ]
  },
  {
   "cell_type": "code",
   "execution_count": null,
   "metadata": {
    "id": "8TNnbP7bBruj"
   },
   "outputs": [],
   "source": [
    "# 2차원으로 축소하기\n",
    "tsne = TSNE(n_components = 2, random_state=20)\n",
    "x_tsne = tsne.fit_transform(x)\n",
    "\n",
    "# 사용의 편리함을 위해 DataFrame으로 변환\n",
    "x_tsne = pd.DataFrame(x_tsne, columns = ['T1','T2'])"
   ]
  },
  {
   "cell_type": "code",
   "execution_count": null,
   "metadata": {
    "id": "CZn9YruWCMpz"
   },
   "outputs": [],
   "source": [
    "x_tsne.shape"
   ]
  },
  {
   "cell_type": "markdown",
   "metadata": {
    "id": "R1MwzkcwZvG7"
   },
   "source": [
    "### (2) 시각화"
   ]
  },
  {
   "cell_type": "code",
   "execution_count": null,
   "metadata": {
    "id": "FOVCzU02BroV"
   },
   "outputs": [],
   "source": [
    "plt.figure(figsize=(6,6))\n",
    "sns.scatterplot(x = 'T1', y = 'T2', data = x_tsne, hue = y)\n",
    "plt.grid()"
   ]
  }
 ],
 "metadata": {
  "colab": {
   "provenance": [],
   "toc_visible": true
  },
  "kernelspec": {
   "display_name": "Python 3 (ipykernel)",
   "language": "python",
   "name": "python3"
  },
  "language_info": {
   "codemirror_mode": {
    "name": "ipython",
    "version": 3
   },
   "file_extension": ".py",
   "mimetype": "text/x-python",
   "name": "python",
   "nbconvert_exporter": "python",
   "pygments_lexer": "ipython3",
   "version": "3.11.5"
  }
 },
 "nbformat": 4,
 "nbformat_minor": 4
}
