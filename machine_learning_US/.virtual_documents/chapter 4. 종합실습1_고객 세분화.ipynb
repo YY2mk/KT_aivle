








import numpy as np
import pandas as pd
import matplotlib.pyplot as plt
import seaborn as sns

from sklearn.cluster import KMeans
from sklearn.preprocessing import MinMaxScaler

import warnings
warnings.filterwarnings("ignore", category=UserWarning)





path = 'https://raw.githubusercontent.com/DA4BAM/dataset/master/customer_segmentation.csv'
data = pd.read_csv(path)
data.head()








# 군집화는 아래 변수들만 사용합니다.
x = data.loc[:, ['Age', 'Income', 'Score']]





scaler = MinMaxScaler()
x_s = scaler.fit_transform(x)








# k의 갯수에 따라 각 점과의 거리를 계산하여 적정한 k를 찾아 봅시다.
kvalues = range(2, 21)
inertias = []

for k in kvalues:
    model = KMeans(n_clusters=k, n_init = 'auto')
    model.fit(x_s)
    inertias.append(model.inertia_)


plt.plot(kvalues, inertias, marker='o')
plt.grid()
plt.show()


kvalues = range(2, 21)
sil_score = []

for k in kvalues:
    # 모델 생성
    model = KMeans(n_clusters=k, n_init='auto')
    # 학습하고 예측
    pred = model.fit_predict(x_s)
    # 실루엣 점수 계산
    sil_score.append(silhouette_score(x_s, pred))


plt.plot(kvalues, sil_score, marker='o')
plt.grid()
plt.show()





# 예측
pred = model.predict(x_s)

# 예측 결과를 데이터프레임으로 만들고
pred = pd.DataFrame(pred, columns = ['pred'])

# 원본 데이터와 합치기
result = pd.concat([data, pred], axis = 1)

# 예측 결과는 카테고리 타입으로 변경
result['pred'] = pd.Categorical(result['pred'] )
result.head()
































from statsmodels.graphics.mosaicplot import mosaic








# 'Age', 'Income', 'Score', 'pred'만 추출
















