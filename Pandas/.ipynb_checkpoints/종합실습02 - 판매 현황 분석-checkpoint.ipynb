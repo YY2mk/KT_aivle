{
 "cells": [
  {
   "cell_type": "markdown",
   "metadata": {
    "id": "BFhIXgdYoYGp"
   },
   "source": [
    "<center><img src='https://raw.githubusercontent.com/Jangrae/img/master/title.png' width=500/></center>"
   ]
  },
  {
   "cell_type": "markdown",
   "metadata": {
    "id": "d6jVPeiR2MK_"
   },
   "source": [
    "<center><img src='https://raw.githubusercontent.com/Jangrae/img/master/practice3.png' width=300/></center>"
   ]
  },
  {
   "cell_type": "markdown",
   "metadata": {
    "id": "-Mtye0VDkGeF"
   },
   "source": [
    "<center>본 실습에서 요구하는 내용 외에도 다양한 내용을 스스로 추가하여  탐색하고 분석해 보기를 권고합니다.</center>"
   ]
  },
  {
   "cell_type": "markdown",
   "metadata": {
    "id": "Nkw-jfYoFBTc"
   },
   "source": [
    "# 종합실습 - 판매 현황 분석"
   ]
  },
  {
   "cell_type": "markdown",
   "metadata": {
    "id": "uaF8TEtb4T_h"
   },
   "source": [
    "<img src='https://raw.githubusercontent.com/Jangrae/img/master/retail.png' width=\"650\" align=\"left\">"
   ]
  },
  {
   "cell_type": "markdown",
   "metadata": {
    "id": "qb1iLyXwGlnw"
   },
   "source": [
    "# 1.환경 설정"
   ]
  },
  {
   "cell_type": "markdown",
   "metadata": {
    "id": "0uNXxebRGrd8"
   },
   "source": [
    "**1)라이브러리 불러오기**\n",
    "\n",
    "- 사용할 라이브러리를 불러오세오."
   ]
  },
  {
   "cell_type": "code",
   "execution_count": 61,
   "metadata": {
    "id": "zFm_DPTaUdqQ",
    "tags": []
   },
   "outputs": [],
   "source": [
    "# 라이브러리 불러오기\n",
    "import numpy as np\n",
    "import pandas as pd\n",
    "import matplotlib.pyplot as plt\n",
    "\n",
    "%config InlineBackend.figure_format = 'retina'"
   ]
  },
  {
   "cell_type": "markdown",
   "metadata": {
    "id": "d7GGSwUvCGIr"
   },
   "source": [
    "**2) 한글 설정**\n",
    "\n",
    "- Jupyter Notebook 시각화에 한글이 표시되게 설정합니다."
   ]
  },
  {
   "cell_type": "code",
   "execution_count": 62,
   "metadata": {
    "id": "DOf3EazMNhai",
    "tags": []
   },
   "outputs": [],
   "source": [
    "# 한글 폰트설정 #1\n",
    "plt.rcParams['font.family'] = 'Malgun Gothic'\n",
    "plt.rcParams['axes.unicode_minus'] = False"
   ]
  },
  {
   "cell_type": "code",
   "execution_count": 63,
   "metadata": {
    "id": "-EBzMpsxvZOF"
   },
   "outputs": [],
   "source": [
    "# 한글 폰트설정 #2: 구글 코랩 포함\n",
    "#!pip install koreanize_matplotlib\n",
    "#import koreanize_matplotlib"
   ]
  },
  {
   "cell_type": "markdown",
   "metadata": {
    "id": "PcLUjkq0wxpF"
   },
   "source": [
    "**3) 데이터 읽어오기**\n",
    "\n",
    "- 다음 경로의 파일을 읽어와 각각의 데이터프레임을 만듭니다.\n",
    "- 데이터프레임 이름은 customers, sales로 합니다.\n",
    "- 파일 경로\n",
    "    - 'https://raw.githubusercontent.com/Jangrae/csv/master/customers.csv'    \n",
    "    - 'https://raw.githubusercontent.com/Jangrae/csv/master/sales.csv'"
   ]
  },
  {
   "cell_type": "code",
   "execution_count": 64,
   "metadata": {
    "id": "91c9vKQ0E1A4",
    "tags": []
   },
   "outputs": [
    {
     "data": {
      "text/html": [
       "<div>\n",
       "<style scoped>\n",
       "    .dataframe tbody tr th:only-of-type {\n",
       "        vertical-align: middle;\n",
       "    }\n",
       "\n",
       "    .dataframe tbody tr th {\n",
       "        vertical-align: top;\n",
       "    }\n",
       "\n",
       "    .dataframe thead th {\n",
       "        text-align: right;\n",
       "    }\n",
       "</style>\n",
       "<table border=\"1\" class=\"dataframe\">\n",
       "  <thead>\n",
       "    <tr style=\"text-align: right;\">\n",
       "      <th></th>\n",
       "      <th>CustomerID</th>\n",
       "      <th>RegisterDate</th>\n",
       "      <th>Address</th>\n",
       "      <th>Gender</th>\n",
       "      <th>BirthYear</th>\n",
       "      <th>Addr1</th>\n",
       "      <th>Addr2</th>\n",
       "    </tr>\n",
       "  </thead>\n",
       "  <tbody>\n",
       "    <tr>\n",
       "      <th>0</th>\n",
       "      <td>c017487</td>\n",
       "      <td>2002-07-31</td>\n",
       "      <td>경기 성남시 중원구 둔촌대로190번길</td>\n",
       "      <td>F</td>\n",
       "      <td>1968</td>\n",
       "      <td>경기도</td>\n",
       "      <td>성남시</td>\n",
       "    </tr>\n",
       "    <tr>\n",
       "      <th>1</th>\n",
       "      <td>c017503</td>\n",
       "      <td>2002-07-31</td>\n",
       "      <td>서울 마포구 새터산12길</td>\n",
       "      <td>F</td>\n",
       "      <td>1971</td>\n",
       "      <td>서울특별시</td>\n",
       "      <td>마포구</td>\n",
       "    </tr>\n",
       "    <tr>\n",
       "      <th>2</th>\n",
       "      <td>c017517</td>\n",
       "      <td>2002-07-31</td>\n",
       "      <td>경기도 남양주시 와부읍 덕소로</td>\n",
       "      <td>M</td>\n",
       "      <td>1967</td>\n",
       "      <td>경기도</td>\n",
       "      <td>남양주시</td>\n",
       "    </tr>\n",
       "    <tr>\n",
       "      <th>3</th>\n",
       "      <td>c017522</td>\n",
       "      <td>2002-07-31</td>\n",
       "      <td>강원도 원주시 단구로</td>\n",
       "      <td>F</td>\n",
       "      <td>1965</td>\n",
       "      <td>강원도</td>\n",
       "      <td>원주시</td>\n",
       "    </tr>\n",
       "    <tr>\n",
       "      <th>4</th>\n",
       "      <td>c017526</td>\n",
       "      <td>2002-07-31</td>\n",
       "      <td>경기도 부천시 오정구 소사로730번길</td>\n",
       "      <td>F</td>\n",
       "      <td>1960</td>\n",
       "      <td>경기도</td>\n",
       "      <td>부천시</td>\n",
       "    </tr>\n",
       "  </tbody>\n",
       "</table>\n",
       "</div>"
      ],
      "text/plain": [
       "  CustomerID RegisterDate               Address Gender  BirthYear  Addr1 Addr2\n",
       "0    c017487   2002-07-31  경기 성남시 중원구 둔촌대로190번길      F       1968    경기도   성남시\n",
       "1    c017503   2002-07-31         서울 마포구 새터산12길      F       1971  서울특별시   마포구\n",
       "2    c017517   2002-07-31      경기도 남양주시 와부읍 덕소로      M       1967    경기도  남양주시\n",
       "3    c017522   2002-07-31           강원도 원주시 단구로      F       1965    강원도   원주시\n",
       "4    c017526   2002-07-31  경기도 부천시 오정구 소사로730번길      F       1960    경기도   부천시"
      ]
     },
     "execution_count": 64,
     "metadata": {},
     "output_type": "execute_result"
    }
   ],
   "source": [
    "# customers 데이터 읽어오기\n",
    "path01 = 'https://raw.githubusercontent.com/Jangrae/csv/master/customers.csv'\n",
    "customers = pd.read_csv(path01)\n",
    "\n",
    "customers.head()"
   ]
  },
  {
   "cell_type": "code",
   "execution_count": 65,
   "metadata": {
    "id": "OPfgGedaEqnw",
    "tags": []
   },
   "outputs": [
    {
     "data": {
      "text/html": [
       "<div>\n",
       "<style scoped>\n",
       "    .dataframe tbody tr th:only-of-type {\n",
       "        vertical-align: middle;\n",
       "    }\n",
       "\n",
       "    .dataframe tbody tr th {\n",
       "        vertical-align: top;\n",
       "    }\n",
       "\n",
       "    .dataframe thead th {\n",
       "        text-align: right;\n",
       "    }\n",
       "</style>\n",
       "<table border=\"1\" class=\"dataframe\">\n",
       "  <thead>\n",
       "    <tr style=\"text-align: right;\">\n",
       "      <th></th>\n",
       "      <th>OrderID</th>\n",
       "      <th>Seq</th>\n",
       "      <th>OrderDate</th>\n",
       "      <th>ProductID</th>\n",
       "      <th>Qty</th>\n",
       "      <th>Amt</th>\n",
       "      <th>CustomerID</th>\n",
       "    </tr>\n",
       "  </thead>\n",
       "  <tbody>\n",
       "    <tr>\n",
       "      <th>0</th>\n",
       "      <td>1</td>\n",
       "      <td>1</td>\n",
       "      <td>2016-01-02</td>\n",
       "      <td>p1030071</td>\n",
       "      <td>2</td>\n",
       "      <td>7900</td>\n",
       "      <td>c107853</td>\n",
       "    </tr>\n",
       "    <tr>\n",
       "      <th>1</th>\n",
       "      <td>2</td>\n",
       "      <td>1</td>\n",
       "      <td>2016-01-02</td>\n",
       "      <td>p1012761</td>\n",
       "      <td>1</td>\n",
       "      <td>1700</td>\n",
       "      <td>c110521</td>\n",
       "    </tr>\n",
       "    <tr>\n",
       "      <th>2</th>\n",
       "      <td>2</td>\n",
       "      <td>2</td>\n",
       "      <td>2016-01-02</td>\n",
       "      <td>p1012581</td>\n",
       "      <td>1</td>\n",
       "      <td>1000</td>\n",
       "      <td>c110521</td>\n",
       "    </tr>\n",
       "    <tr>\n",
       "      <th>3</th>\n",
       "      <td>2</td>\n",
       "      <td>3</td>\n",
       "      <td>2016-01-02</td>\n",
       "      <td>p1175481</td>\n",
       "      <td>1</td>\n",
       "      <td>1300</td>\n",
       "      <td>c110521</td>\n",
       "    </tr>\n",
       "    <tr>\n",
       "      <th>4</th>\n",
       "      <td>2</td>\n",
       "      <td>4</td>\n",
       "      <td>2016-01-02</td>\n",
       "      <td>p1178011</td>\n",
       "      <td>1</td>\n",
       "      <td>8800</td>\n",
       "      <td>c110521</td>\n",
       "    </tr>\n",
       "  </tbody>\n",
       "</table>\n",
       "</div>"
      ],
      "text/plain": [
       "   OrderID  Seq   OrderDate ProductID  Qty   Amt CustomerID\n",
       "0        1    1  2016-01-02  p1030071    2  7900    c107853\n",
       "1        2    1  2016-01-02  p1012761    1  1700    c110521\n",
       "2        2    2  2016-01-02  p1012581    1  1000    c110521\n",
       "3        2    3  2016-01-02  p1175481    1  1300    c110521\n",
       "4        2    4  2016-01-02  p1178011    1  8800    c110521"
      ]
     },
     "execution_count": 65,
     "metadata": {},
     "output_type": "execute_result"
    }
   ],
   "source": [
    "# sales 데이터 읽어오기\n",
    "path02 = 'https://raw.githubusercontent.com/Jangrae/csv/master/sales.csv'\n",
    "sales = pd.read_csv(path02)\n",
    "\n",
    "sales.head()"
   ]
  },
  {
   "cell_type": "markdown",
   "metadata": {
    "id": "H4KWZGI8HBIA",
    "tags": []
   },
   "source": [
    "# 2.데이터 전처리 #1"
   ]
  },
  {
   "cell_type": "markdown",
   "metadata": {
    "id": "RRNGL3Cihx_L"
   },
   "source": [
    "**1) 고객별 집계**\n",
    "\n",
    "- sales 데이터프레임에서 고객(CustomerID)별 주문 수량(Qty) 합, 금액(Amt) 합을 집계하여 cust_sales 데이터프레임을 선언합니다."
   ]
  },
  {
   "cell_type": "code",
   "execution_count": 66,
   "metadata": {
    "id": "yhrEAxGPd5Ux",
    "tags": []
   },
   "outputs": [
    {
     "data": {
      "text/html": [
       "<div>\n",
       "<style scoped>\n",
       "    .dataframe tbody tr th:only-of-type {\n",
       "        vertical-align: middle;\n",
       "    }\n",
       "\n",
       "    .dataframe tbody tr th {\n",
       "        vertical-align: top;\n",
       "    }\n",
       "\n",
       "    .dataframe thead th {\n",
       "        text-align: right;\n",
       "    }\n",
       "</style>\n",
       "<table border=\"1\" class=\"dataframe\">\n",
       "  <thead>\n",
       "    <tr style=\"text-align: right;\">\n",
       "      <th></th>\n",
       "      <th>CustomerID</th>\n",
       "      <th>Qty</th>\n",
       "      <th>Amt</th>\n",
       "    </tr>\n",
       "  </thead>\n",
       "  <tbody>\n",
       "    <tr>\n",
       "      <th>0</th>\n",
       "      <td>c017487</td>\n",
       "      <td>127</td>\n",
       "      <td>296447</td>\n",
       "    </tr>\n",
       "    <tr>\n",
       "      <th>1</th>\n",
       "      <td>c017503</td>\n",
       "      <td>42</td>\n",
       "      <td>160444</td>\n",
       "    </tr>\n",
       "    <tr>\n",
       "      <th>2</th>\n",
       "      <td>c017517</td>\n",
       "      <td>192</td>\n",
       "      <td>317590</td>\n",
       "    </tr>\n",
       "    <tr>\n",
       "      <th>3</th>\n",
       "      <td>c017522</td>\n",
       "      <td>64</td>\n",
       "      <td>219849</td>\n",
       "    </tr>\n",
       "    <tr>\n",
       "      <th>4</th>\n",
       "      <td>c017526</td>\n",
       "      <td>26</td>\n",
       "      <td>48881</td>\n",
       "    </tr>\n",
       "  </tbody>\n",
       "</table>\n",
       "</div>"
      ],
      "text/plain": [
       "  CustomerID  Qty     Amt\n",
       "0    c017487  127  296447\n",
       "1    c017503   42  160444\n",
       "2    c017517  192  317590\n",
       "3    c017522   64  219849\n",
       "4    c017526   26   48881"
      ]
     },
     "execution_count": 66,
     "metadata": {},
     "output_type": "execute_result"
    }
   ],
   "source": [
    "# 고객별 집계\n",
    "cust_sales = sales.groupby(by='CustomerID', as_index=False)[['Qty', 'Amt']].sum()\n",
    "cust_sales.head()"
   ]
  },
  {
   "cell_type": "markdown",
   "metadata": {
    "id": "2R3-BHChh_IE"
   },
   "source": [
    "**2) 데이터 병합**\n",
    "\n",
    "- customers, cust_sales 데이터프레임을 **CustomerID** 열을 기준으로 **outer** 방식으로 **병합(=조인)** 하여 **cst** 데이터프레임으로 선언합니다.\n",
    "\n",
    "- **이제부터 모든 작업은 cst 데이터프레임을 대상으로 합니다.**"
   ]
  },
  {
   "cell_type": "code",
   "execution_count": 67,
   "metadata": {
    "id": "HhmZlFtpeK3j",
    "tags": []
   },
   "outputs": [
    {
     "data": {
      "text/html": [
       "<div>\n",
       "<style scoped>\n",
       "    .dataframe tbody tr th:only-of-type {\n",
       "        vertical-align: middle;\n",
       "    }\n",
       "\n",
       "    .dataframe tbody tr th {\n",
       "        vertical-align: top;\n",
       "    }\n",
       "\n",
       "    .dataframe thead th {\n",
       "        text-align: right;\n",
       "    }\n",
       "</style>\n",
       "<table border=\"1\" class=\"dataframe\">\n",
       "  <thead>\n",
       "    <tr style=\"text-align: right;\">\n",
       "      <th></th>\n",
       "      <th>CustomerID</th>\n",
       "      <th>RegisterDate</th>\n",
       "      <th>Address</th>\n",
       "      <th>Gender</th>\n",
       "      <th>BirthYear</th>\n",
       "      <th>Addr1</th>\n",
       "      <th>Addr2</th>\n",
       "      <th>Qty</th>\n",
       "      <th>Amt</th>\n",
       "    </tr>\n",
       "  </thead>\n",
       "  <tbody>\n",
       "    <tr>\n",
       "      <th>0</th>\n",
       "      <td>c017487</td>\n",
       "      <td>2002-07-31</td>\n",
       "      <td>경기 성남시 중원구 둔촌대로190번길</td>\n",
       "      <td>F</td>\n",
       "      <td>1968</td>\n",
       "      <td>경기도</td>\n",
       "      <td>성남시</td>\n",
       "      <td>127.0</td>\n",
       "      <td>296447.0</td>\n",
       "    </tr>\n",
       "    <tr>\n",
       "      <th>1</th>\n",
       "      <td>c017503</td>\n",
       "      <td>2002-07-31</td>\n",
       "      <td>서울 마포구 새터산12길</td>\n",
       "      <td>F</td>\n",
       "      <td>1971</td>\n",
       "      <td>서울특별시</td>\n",
       "      <td>마포구</td>\n",
       "      <td>42.0</td>\n",
       "      <td>160444.0</td>\n",
       "    </tr>\n",
       "    <tr>\n",
       "      <th>2</th>\n",
       "      <td>c017517</td>\n",
       "      <td>2002-07-31</td>\n",
       "      <td>경기도 남양주시 와부읍 덕소로</td>\n",
       "      <td>M</td>\n",
       "      <td>1967</td>\n",
       "      <td>경기도</td>\n",
       "      <td>남양주시</td>\n",
       "      <td>192.0</td>\n",
       "      <td>317590.0</td>\n",
       "    </tr>\n",
       "    <tr>\n",
       "      <th>3</th>\n",
       "      <td>c017522</td>\n",
       "      <td>2002-07-31</td>\n",
       "      <td>강원도 원주시 단구로</td>\n",
       "      <td>F</td>\n",
       "      <td>1965</td>\n",
       "      <td>강원도</td>\n",
       "      <td>원주시</td>\n",
       "      <td>64.0</td>\n",
       "      <td>219849.0</td>\n",
       "    </tr>\n",
       "    <tr>\n",
       "      <th>4</th>\n",
       "      <td>c017526</td>\n",
       "      <td>2002-07-31</td>\n",
       "      <td>경기도 부천시 오정구 소사로730번길</td>\n",
       "      <td>F</td>\n",
       "      <td>1960</td>\n",
       "      <td>경기도</td>\n",
       "      <td>부천시</td>\n",
       "      <td>26.0</td>\n",
       "      <td>48881.0</td>\n",
       "    </tr>\n",
       "  </tbody>\n",
       "</table>\n",
       "</div>"
      ],
      "text/plain": [
       "  CustomerID RegisterDate               Address Gender  BirthYear  Addr1  \\\n",
       "0    c017487   2002-07-31  경기 성남시 중원구 둔촌대로190번길      F       1968    경기도   \n",
       "1    c017503   2002-07-31         서울 마포구 새터산12길      F       1971  서울특별시   \n",
       "2    c017517   2002-07-31      경기도 남양주시 와부읍 덕소로      M       1967    경기도   \n",
       "3    c017522   2002-07-31           강원도 원주시 단구로      F       1965    강원도   \n",
       "4    c017526   2002-07-31  경기도 부천시 오정구 소사로730번길      F       1960    경기도   \n",
       "\n",
       "  Addr2    Qty       Amt  \n",
       "0   성남시  127.0  296447.0  \n",
       "1   마포구   42.0  160444.0  \n",
       "2  남양주시  192.0  317590.0  \n",
       "3   원주시   64.0  219849.0  \n",
       "4   부천시   26.0   48881.0  "
      ]
     },
     "execution_count": 67,
     "metadata": {},
     "output_type": "execute_result"
    }
   ],
   "source": [
    "# 병합\n",
    "cst = pd.merge(customers, cust_sales, on='CustomerID', how='outer')\n",
    "\n",
    "cst.head()"
   ]
  },
  {
   "cell_type": "markdown",
   "metadata": {
    "id": "UuU0PxcEiaGc"
   },
   "source": [
    "**3) 결측치 확인**\n",
    "\n",
    "- 결측치가 있는지 확인합니다."
   ]
  },
  {
   "cell_type": "code",
   "execution_count": 68,
   "metadata": {
    "id": "h2MyOhbBeeRR",
    "tags": []
   },
   "outputs": [
    {
     "data": {
      "text/plain": [
       "CustomerID      0\n",
       "RegisterDate    0\n",
       "Address         0\n",
       "Gender          0\n",
       "BirthYear       0\n",
       "Addr1           0\n",
       "Addr2           0\n",
       "Qty             6\n",
       "Amt             6\n",
       "dtype: int64"
      ]
     },
     "execution_count": 68,
     "metadata": {},
     "output_type": "execute_result"
    }
   ],
   "source": [
    "# 결측치 확인\n",
    "cst.isna().sum()"
   ]
  },
  {
   "cell_type": "markdown",
   "metadata": {
    "id": "jAgB0JqDiiLc"
   },
   "source": [
    "**4) 결측치 제거**\n",
    "\n",
    "- 결측치가 있는 행은 제거합니다."
   ]
  },
  {
   "cell_type": "code",
   "execution_count": 69,
   "metadata": {
    "id": "G6mt_5Szei3E",
    "tags": []
   },
   "outputs": [
    {
     "data": {
      "text/plain": [
       "CustomerID      0\n",
       "RegisterDate    0\n",
       "Address         0\n",
       "Gender          0\n",
       "BirthYear       0\n",
       "Addr1           0\n",
       "Addr2           0\n",
       "Qty             0\n",
       "Amt             0\n",
       "dtype: int64"
      ]
     },
     "execution_count": 69,
     "metadata": {},
     "output_type": "execute_result"
    }
   ],
   "source": [
    "# 결측치 제거\n",
    "cst.dropna(axis=0, inplace=True)\n",
    "cst.isna().sum()"
   ]
  },
  {
   "cell_type": "markdown",
   "metadata": {
    "id": "dcRv4isYipTG"
   },
   "source": [
    "**5) 열 추가: RegisterYear, RegisterMonth**\n",
    "\n",
    "- 다음 구문을 실행해서 RegisterYear, RegisterMonth 열을 추가합니다."
   ]
  },
  {
   "cell_type": "code",
   "execution_count": 70,
   "metadata": {
    "id": "vFep0Ta_fSyc",
    "tags": []
   },
   "outputs": [
    {
     "data": {
      "text/html": [
       "<div>\n",
       "<style scoped>\n",
       "    .dataframe tbody tr th:only-of-type {\n",
       "        vertical-align: middle;\n",
       "    }\n",
       "\n",
       "    .dataframe tbody tr th {\n",
       "        vertical-align: top;\n",
       "    }\n",
       "\n",
       "    .dataframe thead th {\n",
       "        text-align: right;\n",
       "    }\n",
       "</style>\n",
       "<table border=\"1\" class=\"dataframe\">\n",
       "  <thead>\n",
       "    <tr style=\"text-align: right;\">\n",
       "      <th></th>\n",
       "      <th>CustomerID</th>\n",
       "      <th>RegisterDate</th>\n",
       "      <th>Address</th>\n",
       "      <th>Gender</th>\n",
       "      <th>BirthYear</th>\n",
       "      <th>Addr1</th>\n",
       "      <th>Addr2</th>\n",
       "      <th>Qty</th>\n",
       "      <th>Amt</th>\n",
       "      <th>RegisterYear</th>\n",
       "      <th>RegisterMonth</th>\n",
       "    </tr>\n",
       "  </thead>\n",
       "  <tbody>\n",
       "    <tr>\n",
       "      <th>0</th>\n",
       "      <td>c017487</td>\n",
       "      <td>2002-07-31</td>\n",
       "      <td>경기 성남시 중원구 둔촌대로190번길</td>\n",
       "      <td>F</td>\n",
       "      <td>1968</td>\n",
       "      <td>경기도</td>\n",
       "      <td>성남시</td>\n",
       "      <td>127.0</td>\n",
       "      <td>296447.0</td>\n",
       "      <td>2002</td>\n",
       "      <td>7</td>\n",
       "    </tr>\n",
       "    <tr>\n",
       "      <th>1</th>\n",
       "      <td>c017503</td>\n",
       "      <td>2002-07-31</td>\n",
       "      <td>서울 마포구 새터산12길</td>\n",
       "      <td>F</td>\n",
       "      <td>1971</td>\n",
       "      <td>서울특별시</td>\n",
       "      <td>마포구</td>\n",
       "      <td>42.0</td>\n",
       "      <td>160444.0</td>\n",
       "      <td>2002</td>\n",
       "      <td>7</td>\n",
       "    </tr>\n",
       "    <tr>\n",
       "      <th>2</th>\n",
       "      <td>c017517</td>\n",
       "      <td>2002-07-31</td>\n",
       "      <td>경기도 남양주시 와부읍 덕소로</td>\n",
       "      <td>M</td>\n",
       "      <td>1967</td>\n",
       "      <td>경기도</td>\n",
       "      <td>남양주시</td>\n",
       "      <td>192.0</td>\n",
       "      <td>317590.0</td>\n",
       "      <td>2002</td>\n",
       "      <td>7</td>\n",
       "    </tr>\n",
       "    <tr>\n",
       "      <th>3</th>\n",
       "      <td>c017522</td>\n",
       "      <td>2002-07-31</td>\n",
       "      <td>강원도 원주시 단구로</td>\n",
       "      <td>F</td>\n",
       "      <td>1965</td>\n",
       "      <td>강원도</td>\n",
       "      <td>원주시</td>\n",
       "      <td>64.0</td>\n",
       "      <td>219849.0</td>\n",
       "      <td>2002</td>\n",
       "      <td>7</td>\n",
       "    </tr>\n",
       "    <tr>\n",
       "      <th>4</th>\n",
       "      <td>c017526</td>\n",
       "      <td>2002-07-31</td>\n",
       "      <td>경기도 부천시 오정구 소사로730번길</td>\n",
       "      <td>F</td>\n",
       "      <td>1960</td>\n",
       "      <td>경기도</td>\n",
       "      <td>부천시</td>\n",
       "      <td>26.0</td>\n",
       "      <td>48881.0</td>\n",
       "      <td>2002</td>\n",
       "      <td>7</td>\n",
       "    </tr>\n",
       "  </tbody>\n",
       "</table>\n",
       "</div>"
      ],
      "text/plain": [
       "  CustomerID RegisterDate               Address Gender  BirthYear  Addr1  \\\n",
       "0    c017487   2002-07-31  경기 성남시 중원구 둔촌대로190번길      F       1968    경기도   \n",
       "1    c017503   2002-07-31         서울 마포구 새터산12길      F       1971  서울특별시   \n",
       "2    c017517   2002-07-31      경기도 남양주시 와부읍 덕소로      M       1967    경기도   \n",
       "3    c017522   2002-07-31           강원도 원주시 단구로      F       1965    강원도   \n",
       "4    c017526   2002-07-31  경기도 부천시 오정구 소사로730번길      F       1960    경기도   \n",
       "\n",
       "  Addr2    Qty       Amt  RegisterYear  RegisterMonth  \n",
       "0   성남시  127.0  296447.0          2002              7  \n",
       "1   마포구   42.0  160444.0          2002              7  \n",
       "2  남양주시  192.0  317590.0          2002              7  \n",
       "3   원주시   64.0  219849.0          2002              7  \n",
       "4   부천시   26.0   48881.0          2002              7  "
      ]
     },
     "execution_count": 70,
     "metadata": {},
     "output_type": "execute_result"
    }
   ],
   "source": [
    "# RegisterYear, RegisterMonth 열 추가\n",
    "cst['RegisterDate'] = pd.to_datetime(cst['RegisterDate'])\n",
    "cst['RegisterYear'] = cst['RegisterDate'].dt.year\n",
    "cst['RegisterMonth'] = cst['RegisterDate'].dt.month\n",
    "\n",
    "# 확인\n",
    "cst.head()"
   ]
  },
  {
   "cell_type": "markdown",
   "metadata": {
    "id": "eDKTtoMYi7R2"
   },
   "source": [
    "**6) 열 추가: Age**\n",
    "\n",
    "- 'Age = 2017 - 출생연도(BirthYear)'  공식을 이용해 Age 열을 추가합니다."
   ]
  },
  {
   "cell_type": "code",
   "execution_count": 71,
   "metadata": {
    "id": "fNV4RvK5fkxN",
    "tags": []
   },
   "outputs": [
    {
     "data": {
      "text/html": [
       "<div>\n",
       "<style scoped>\n",
       "    .dataframe tbody tr th:only-of-type {\n",
       "        vertical-align: middle;\n",
       "    }\n",
       "\n",
       "    .dataframe tbody tr th {\n",
       "        vertical-align: top;\n",
       "    }\n",
       "\n",
       "    .dataframe thead th {\n",
       "        text-align: right;\n",
       "    }\n",
       "</style>\n",
       "<table border=\"1\" class=\"dataframe\">\n",
       "  <thead>\n",
       "    <tr style=\"text-align: right;\">\n",
       "      <th></th>\n",
       "      <th>CustomerID</th>\n",
       "      <th>RegisterDate</th>\n",
       "      <th>Address</th>\n",
       "      <th>Gender</th>\n",
       "      <th>BirthYear</th>\n",
       "      <th>Addr1</th>\n",
       "      <th>Addr2</th>\n",
       "      <th>Qty</th>\n",
       "      <th>Amt</th>\n",
       "      <th>RegisterYear</th>\n",
       "      <th>RegisterMonth</th>\n",
       "      <th>Age</th>\n",
       "    </tr>\n",
       "  </thead>\n",
       "  <tbody>\n",
       "    <tr>\n",
       "      <th>0</th>\n",
       "      <td>c017487</td>\n",
       "      <td>2002-07-31</td>\n",
       "      <td>경기 성남시 중원구 둔촌대로190번길</td>\n",
       "      <td>F</td>\n",
       "      <td>1968</td>\n",
       "      <td>경기도</td>\n",
       "      <td>성남시</td>\n",
       "      <td>127.0</td>\n",
       "      <td>296447.0</td>\n",
       "      <td>2002</td>\n",
       "      <td>7</td>\n",
       "      <td>49</td>\n",
       "    </tr>\n",
       "    <tr>\n",
       "      <th>1</th>\n",
       "      <td>c017503</td>\n",
       "      <td>2002-07-31</td>\n",
       "      <td>서울 마포구 새터산12길</td>\n",
       "      <td>F</td>\n",
       "      <td>1971</td>\n",
       "      <td>서울특별시</td>\n",
       "      <td>마포구</td>\n",
       "      <td>42.0</td>\n",
       "      <td>160444.0</td>\n",
       "      <td>2002</td>\n",
       "      <td>7</td>\n",
       "      <td>46</td>\n",
       "    </tr>\n",
       "    <tr>\n",
       "      <th>2</th>\n",
       "      <td>c017517</td>\n",
       "      <td>2002-07-31</td>\n",
       "      <td>경기도 남양주시 와부읍 덕소로</td>\n",
       "      <td>M</td>\n",
       "      <td>1967</td>\n",
       "      <td>경기도</td>\n",
       "      <td>남양주시</td>\n",
       "      <td>192.0</td>\n",
       "      <td>317590.0</td>\n",
       "      <td>2002</td>\n",
       "      <td>7</td>\n",
       "      <td>50</td>\n",
       "    </tr>\n",
       "    <tr>\n",
       "      <th>3</th>\n",
       "      <td>c017522</td>\n",
       "      <td>2002-07-31</td>\n",
       "      <td>강원도 원주시 단구로</td>\n",
       "      <td>F</td>\n",
       "      <td>1965</td>\n",
       "      <td>강원도</td>\n",
       "      <td>원주시</td>\n",
       "      <td>64.0</td>\n",
       "      <td>219849.0</td>\n",
       "      <td>2002</td>\n",
       "      <td>7</td>\n",
       "      <td>52</td>\n",
       "    </tr>\n",
       "    <tr>\n",
       "      <th>4</th>\n",
       "      <td>c017526</td>\n",
       "      <td>2002-07-31</td>\n",
       "      <td>경기도 부천시 오정구 소사로730번길</td>\n",
       "      <td>F</td>\n",
       "      <td>1960</td>\n",
       "      <td>경기도</td>\n",
       "      <td>부천시</td>\n",
       "      <td>26.0</td>\n",
       "      <td>48881.0</td>\n",
       "      <td>2002</td>\n",
       "      <td>7</td>\n",
       "      <td>57</td>\n",
       "    </tr>\n",
       "  </tbody>\n",
       "</table>\n",
       "</div>"
      ],
      "text/plain": [
       "  CustomerID RegisterDate               Address Gender  BirthYear  Addr1  \\\n",
       "0    c017487   2002-07-31  경기 성남시 중원구 둔촌대로190번길      F       1968    경기도   \n",
       "1    c017503   2002-07-31         서울 마포구 새터산12길      F       1971  서울특별시   \n",
       "2    c017517   2002-07-31      경기도 남양주시 와부읍 덕소로      M       1967    경기도   \n",
       "3    c017522   2002-07-31           강원도 원주시 단구로      F       1965    강원도   \n",
       "4    c017526   2002-07-31  경기도 부천시 오정구 소사로730번길      F       1960    경기도   \n",
       "\n",
       "  Addr2    Qty       Amt  RegisterYear  RegisterMonth  Age  \n",
       "0   성남시  127.0  296447.0          2002              7   49  \n",
       "1   마포구   42.0  160444.0          2002              7   46  \n",
       "2  남양주시  192.0  317590.0          2002              7   50  \n",
       "3   원주시   64.0  219849.0          2002              7   52  \n",
       "4   부천시   26.0   48881.0          2002              7   57  "
      ]
     },
     "execution_count": 71,
     "metadata": {},
     "output_type": "execute_result"
    }
   ],
   "source": [
    "# Age 추가\n",
    "cst['Age'] = 2017 - cst['BirthYear']\n",
    "\n",
    "cst.head()"
   ]
  },
  {
   "cell_type": "markdown",
   "metadata": {
    "id": "HzuLc9uAkAU6"
   },
   "source": [
    "**7) 열 추가: Age2**\n",
    "\n",
    "- 'Age2 = Age // 10 * 10' 공식을 이용해 Age2 열을 추가합니다."
   ]
  },
  {
   "cell_type": "code",
   "execution_count": 72,
   "metadata": {
    "id": "P-SV-R83kAU7",
    "tags": []
   },
   "outputs": [
    {
     "data": {
      "text/html": [
       "<div>\n",
       "<style scoped>\n",
       "    .dataframe tbody tr th:only-of-type {\n",
       "        vertical-align: middle;\n",
       "    }\n",
       "\n",
       "    .dataframe tbody tr th {\n",
       "        vertical-align: top;\n",
       "    }\n",
       "\n",
       "    .dataframe thead th {\n",
       "        text-align: right;\n",
       "    }\n",
       "</style>\n",
       "<table border=\"1\" class=\"dataframe\">\n",
       "  <thead>\n",
       "    <tr style=\"text-align: right;\">\n",
       "      <th></th>\n",
       "      <th>CustomerID</th>\n",
       "      <th>RegisterDate</th>\n",
       "      <th>Address</th>\n",
       "      <th>Gender</th>\n",
       "      <th>BirthYear</th>\n",
       "      <th>Addr1</th>\n",
       "      <th>Addr2</th>\n",
       "      <th>Qty</th>\n",
       "      <th>Amt</th>\n",
       "      <th>RegisterYear</th>\n",
       "      <th>RegisterMonth</th>\n",
       "      <th>Age</th>\n",
       "      <th>Age2</th>\n",
       "    </tr>\n",
       "  </thead>\n",
       "  <tbody>\n",
       "    <tr>\n",
       "      <th>0</th>\n",
       "      <td>c017487</td>\n",
       "      <td>2002-07-31</td>\n",
       "      <td>경기 성남시 중원구 둔촌대로190번길</td>\n",
       "      <td>F</td>\n",
       "      <td>1968</td>\n",
       "      <td>경기도</td>\n",
       "      <td>성남시</td>\n",
       "      <td>127.0</td>\n",
       "      <td>296447.0</td>\n",
       "      <td>2002</td>\n",
       "      <td>7</td>\n",
       "      <td>49</td>\n",
       "      <td>40</td>\n",
       "    </tr>\n",
       "    <tr>\n",
       "      <th>1</th>\n",
       "      <td>c017503</td>\n",
       "      <td>2002-07-31</td>\n",
       "      <td>서울 마포구 새터산12길</td>\n",
       "      <td>F</td>\n",
       "      <td>1971</td>\n",
       "      <td>서울특별시</td>\n",
       "      <td>마포구</td>\n",
       "      <td>42.0</td>\n",
       "      <td>160444.0</td>\n",
       "      <td>2002</td>\n",
       "      <td>7</td>\n",
       "      <td>46</td>\n",
       "      <td>40</td>\n",
       "    </tr>\n",
       "    <tr>\n",
       "      <th>2</th>\n",
       "      <td>c017517</td>\n",
       "      <td>2002-07-31</td>\n",
       "      <td>경기도 남양주시 와부읍 덕소로</td>\n",
       "      <td>M</td>\n",
       "      <td>1967</td>\n",
       "      <td>경기도</td>\n",
       "      <td>남양주시</td>\n",
       "      <td>192.0</td>\n",
       "      <td>317590.0</td>\n",
       "      <td>2002</td>\n",
       "      <td>7</td>\n",
       "      <td>50</td>\n",
       "      <td>50</td>\n",
       "    </tr>\n",
       "    <tr>\n",
       "      <th>3</th>\n",
       "      <td>c017522</td>\n",
       "      <td>2002-07-31</td>\n",
       "      <td>강원도 원주시 단구로</td>\n",
       "      <td>F</td>\n",
       "      <td>1965</td>\n",
       "      <td>강원도</td>\n",
       "      <td>원주시</td>\n",
       "      <td>64.0</td>\n",
       "      <td>219849.0</td>\n",
       "      <td>2002</td>\n",
       "      <td>7</td>\n",
       "      <td>52</td>\n",
       "      <td>50</td>\n",
       "    </tr>\n",
       "    <tr>\n",
       "      <th>4</th>\n",
       "      <td>c017526</td>\n",
       "      <td>2002-07-31</td>\n",
       "      <td>경기도 부천시 오정구 소사로730번길</td>\n",
       "      <td>F</td>\n",
       "      <td>1960</td>\n",
       "      <td>경기도</td>\n",
       "      <td>부천시</td>\n",
       "      <td>26.0</td>\n",
       "      <td>48881.0</td>\n",
       "      <td>2002</td>\n",
       "      <td>7</td>\n",
       "      <td>57</td>\n",
       "      <td>50</td>\n",
       "    </tr>\n",
       "  </tbody>\n",
       "</table>\n",
       "</div>"
      ],
      "text/plain": [
       "  CustomerID RegisterDate               Address Gender  BirthYear  Addr1  \\\n",
       "0    c017487   2002-07-31  경기 성남시 중원구 둔촌대로190번길      F       1968    경기도   \n",
       "1    c017503   2002-07-31         서울 마포구 새터산12길      F       1971  서울특별시   \n",
       "2    c017517   2002-07-31      경기도 남양주시 와부읍 덕소로      M       1967    경기도   \n",
       "3    c017522   2002-07-31           강원도 원주시 단구로      F       1965    강원도   \n",
       "4    c017526   2002-07-31  경기도 부천시 오정구 소사로730번길      F       1960    경기도   \n",
       "\n",
       "  Addr2    Qty       Amt  RegisterYear  RegisterMonth  Age  Age2  \n",
       "0   성남시  127.0  296447.0          2002              7   49    40  \n",
       "1   마포구   42.0  160444.0          2002              7   46    40  \n",
       "2  남양주시  192.0  317590.0          2002              7   50    50  \n",
       "3   원주시   64.0  219849.0          2002              7   52    50  \n",
       "4   부천시   26.0   48881.0          2002              7   57    50  "
      ]
     },
     "execution_count": 72,
     "metadata": {},
     "output_type": "execute_result"
    }
   ],
   "source": [
    "# Age2 추가\n",
    "cst['Age2'] = cst['Age'] // 10 * 10\n",
    "\n",
    "cst.head()"
   ]
  },
  {
   "cell_type": "markdown",
   "metadata": {
    "id": "eixfGALUjGAB"
   },
   "source": [
    "**8) 열 추가: Level**\n",
    "\n",
    "- 다음 Amt 열의 값 기준에 따라 등급을 갖는 Level 열을 추가합니다.\n",
    "    * ~ 30,000: Family\n",
    "    * ~ 100,000: Bronze\n",
    "    * ~ 300,000: Silver\n",
    "    * ~ 600,000: Gold\n",
    "    * 600,000 ~ : Platinum"
   ]
  },
  {
   "cell_type": "code",
   "execution_count": 73,
   "metadata": {
    "id": "AIvm9DQfgR3_",
    "tags": []
   },
   "outputs": [
    {
     "data": {
      "text/plain": [
       "Level\n",
       "Family      1113\n",
       "Bronze       556\n",
       "Silver       392\n",
       "Gold         143\n",
       "Platinum      33\n",
       "Name: count, dtype: int64"
      ]
     },
     "execution_count": 73,
     "metadata": {},
     "output_type": "execute_result"
    }
   ],
   "source": [
    "# Level 열 추가\n",
    "bin = [-np.inf, 30000, 100000, 300000, 600000, np.inf]\n",
    "label = ['Family', 'Bronze', 'Silver', 'Gold', 'Platinum']\n",
    "\n",
    "cst['Level'] = pd.cut(cst['Amt'], bins=bin, labels=label)\n",
    "\n",
    "# 확인\n",
    "cst['Level'].value_counts()"
   ]
  },
  {
   "cell_type": "markdown",
   "metadata": {
    "id": "BAsaHKN0ja8y"
   },
   "source": [
    "**9) 불필요한 열 제거**\n",
    "\n",
    "- RegisterDate, Address, BirthYear, Addr2 열을 제거합니다."
   ]
  },
  {
   "cell_type": "code",
   "execution_count": 74,
   "metadata": {
    "tags": []
   },
   "outputs": [
    {
     "data": {
      "text/html": [
       "<div>\n",
       "<style scoped>\n",
       "    .dataframe tbody tr th:only-of-type {\n",
       "        vertical-align: middle;\n",
       "    }\n",
       "\n",
       "    .dataframe tbody tr th {\n",
       "        vertical-align: top;\n",
       "    }\n",
       "\n",
       "    .dataframe thead th {\n",
       "        text-align: right;\n",
       "    }\n",
       "</style>\n",
       "<table border=\"1\" class=\"dataframe\">\n",
       "  <thead>\n",
       "    <tr style=\"text-align: right;\">\n",
       "      <th></th>\n",
       "      <th>CustomerID</th>\n",
       "      <th>RegisterDate</th>\n",
       "      <th>Address</th>\n",
       "      <th>Gender</th>\n",
       "      <th>BirthYear</th>\n",
       "      <th>Addr1</th>\n",
       "      <th>Addr2</th>\n",
       "      <th>Qty</th>\n",
       "      <th>Amt</th>\n",
       "      <th>RegisterYear</th>\n",
       "      <th>RegisterMonth</th>\n",
       "      <th>Age</th>\n",
       "      <th>Age2</th>\n",
       "      <th>Level</th>\n",
       "    </tr>\n",
       "  </thead>\n",
       "  <tbody>\n",
       "    <tr>\n",
       "      <th>0</th>\n",
       "      <td>c017487</td>\n",
       "      <td>2002-07-31</td>\n",
       "      <td>경기 성남시 중원구 둔촌대로190번길</td>\n",
       "      <td>F</td>\n",
       "      <td>1968</td>\n",
       "      <td>경기도</td>\n",
       "      <td>성남시</td>\n",
       "      <td>127.0</td>\n",
       "      <td>296447.0</td>\n",
       "      <td>2002</td>\n",
       "      <td>7</td>\n",
       "      <td>49</td>\n",
       "      <td>40</td>\n",
       "      <td>Silver</td>\n",
       "    </tr>\n",
       "    <tr>\n",
       "      <th>1</th>\n",
       "      <td>c017503</td>\n",
       "      <td>2002-07-31</td>\n",
       "      <td>서울 마포구 새터산12길</td>\n",
       "      <td>F</td>\n",
       "      <td>1971</td>\n",
       "      <td>서울특별시</td>\n",
       "      <td>마포구</td>\n",
       "      <td>42.0</td>\n",
       "      <td>160444.0</td>\n",
       "      <td>2002</td>\n",
       "      <td>7</td>\n",
       "      <td>46</td>\n",
       "      <td>40</td>\n",
       "      <td>Silver</td>\n",
       "    </tr>\n",
       "    <tr>\n",
       "      <th>2</th>\n",
       "      <td>c017517</td>\n",
       "      <td>2002-07-31</td>\n",
       "      <td>경기도 남양주시 와부읍 덕소로</td>\n",
       "      <td>M</td>\n",
       "      <td>1967</td>\n",
       "      <td>경기도</td>\n",
       "      <td>남양주시</td>\n",
       "      <td>192.0</td>\n",
       "      <td>317590.0</td>\n",
       "      <td>2002</td>\n",
       "      <td>7</td>\n",
       "      <td>50</td>\n",
       "      <td>50</td>\n",
       "      <td>Gold</td>\n",
       "    </tr>\n",
       "    <tr>\n",
       "      <th>3</th>\n",
       "      <td>c017522</td>\n",
       "      <td>2002-07-31</td>\n",
       "      <td>강원도 원주시 단구로</td>\n",
       "      <td>F</td>\n",
       "      <td>1965</td>\n",
       "      <td>강원도</td>\n",
       "      <td>원주시</td>\n",
       "      <td>64.0</td>\n",
       "      <td>219849.0</td>\n",
       "      <td>2002</td>\n",
       "      <td>7</td>\n",
       "      <td>52</td>\n",
       "      <td>50</td>\n",
       "      <td>Silver</td>\n",
       "    </tr>\n",
       "    <tr>\n",
       "      <th>4</th>\n",
       "      <td>c017526</td>\n",
       "      <td>2002-07-31</td>\n",
       "      <td>경기도 부천시 오정구 소사로730번길</td>\n",
       "      <td>F</td>\n",
       "      <td>1960</td>\n",
       "      <td>경기도</td>\n",
       "      <td>부천시</td>\n",
       "      <td>26.0</td>\n",
       "      <td>48881.0</td>\n",
       "      <td>2002</td>\n",
       "      <td>7</td>\n",
       "      <td>57</td>\n",
       "      <td>50</td>\n",
       "      <td>Bronze</td>\n",
       "    </tr>\n",
       "  </tbody>\n",
       "</table>\n",
       "</div>"
      ],
      "text/plain": [
       "  CustomerID RegisterDate               Address Gender  BirthYear  Addr1  \\\n",
       "0    c017487   2002-07-31  경기 성남시 중원구 둔촌대로190번길      F       1968    경기도   \n",
       "1    c017503   2002-07-31         서울 마포구 새터산12길      F       1971  서울특별시   \n",
       "2    c017517   2002-07-31      경기도 남양주시 와부읍 덕소로      M       1967    경기도   \n",
       "3    c017522   2002-07-31           강원도 원주시 단구로      F       1965    강원도   \n",
       "4    c017526   2002-07-31  경기도 부천시 오정구 소사로730번길      F       1960    경기도   \n",
       "\n",
       "  Addr2    Qty       Amt  RegisterYear  RegisterMonth  Age  Age2   Level  \n",
       "0   성남시  127.0  296447.0          2002              7   49    40  Silver  \n",
       "1   마포구   42.0  160444.0          2002              7   46    40  Silver  \n",
       "2  남양주시  192.0  317590.0          2002              7   50    50    Gold  \n",
       "3   원주시   64.0  219849.0          2002              7   52    50  Silver  \n",
       "4   부천시   26.0   48881.0          2002              7   57    50  Bronze  "
      ]
     },
     "execution_count": 74,
     "metadata": {},
     "output_type": "execute_result"
    }
   ],
   "source": [
    "cst.head()"
   ]
  },
  {
   "cell_type": "code",
   "execution_count": 75,
   "metadata": {
    "id": "RCfrsDNLfkox",
    "tags": []
   },
   "outputs": [
    {
     "data": {
      "text/html": [
       "<div>\n",
       "<style scoped>\n",
       "    .dataframe tbody tr th:only-of-type {\n",
       "        vertical-align: middle;\n",
       "    }\n",
       "\n",
       "    .dataframe tbody tr th {\n",
       "        vertical-align: top;\n",
       "    }\n",
       "\n",
       "    .dataframe thead th {\n",
       "        text-align: right;\n",
       "    }\n",
       "</style>\n",
       "<table border=\"1\" class=\"dataframe\">\n",
       "  <thead>\n",
       "    <tr style=\"text-align: right;\">\n",
       "      <th></th>\n",
       "      <th>CustomerID</th>\n",
       "      <th>Gender</th>\n",
       "      <th>Addr1</th>\n",
       "      <th>Qty</th>\n",
       "      <th>Amt</th>\n",
       "      <th>RegisterYear</th>\n",
       "      <th>RegisterMonth</th>\n",
       "      <th>Age</th>\n",
       "      <th>Age2</th>\n",
       "      <th>Level</th>\n",
       "    </tr>\n",
       "  </thead>\n",
       "  <tbody>\n",
       "    <tr>\n",
       "      <th>0</th>\n",
       "      <td>c017487</td>\n",
       "      <td>F</td>\n",
       "      <td>경기도</td>\n",
       "      <td>127.0</td>\n",
       "      <td>296447.0</td>\n",
       "      <td>2002</td>\n",
       "      <td>7</td>\n",
       "      <td>49</td>\n",
       "      <td>40</td>\n",
       "      <td>Silver</td>\n",
       "    </tr>\n",
       "    <tr>\n",
       "      <th>1</th>\n",
       "      <td>c017503</td>\n",
       "      <td>F</td>\n",
       "      <td>서울특별시</td>\n",
       "      <td>42.0</td>\n",
       "      <td>160444.0</td>\n",
       "      <td>2002</td>\n",
       "      <td>7</td>\n",
       "      <td>46</td>\n",
       "      <td>40</td>\n",
       "      <td>Silver</td>\n",
       "    </tr>\n",
       "    <tr>\n",
       "      <th>2</th>\n",
       "      <td>c017517</td>\n",
       "      <td>M</td>\n",
       "      <td>경기도</td>\n",
       "      <td>192.0</td>\n",
       "      <td>317590.0</td>\n",
       "      <td>2002</td>\n",
       "      <td>7</td>\n",
       "      <td>50</td>\n",
       "      <td>50</td>\n",
       "      <td>Gold</td>\n",
       "    </tr>\n",
       "    <tr>\n",
       "      <th>3</th>\n",
       "      <td>c017522</td>\n",
       "      <td>F</td>\n",
       "      <td>강원도</td>\n",
       "      <td>64.0</td>\n",
       "      <td>219849.0</td>\n",
       "      <td>2002</td>\n",
       "      <td>7</td>\n",
       "      <td>52</td>\n",
       "      <td>50</td>\n",
       "      <td>Silver</td>\n",
       "    </tr>\n",
       "    <tr>\n",
       "      <th>4</th>\n",
       "      <td>c017526</td>\n",
       "      <td>F</td>\n",
       "      <td>경기도</td>\n",
       "      <td>26.0</td>\n",
       "      <td>48881.0</td>\n",
       "      <td>2002</td>\n",
       "      <td>7</td>\n",
       "      <td>57</td>\n",
       "      <td>50</td>\n",
       "      <td>Bronze</td>\n",
       "    </tr>\n",
       "  </tbody>\n",
       "</table>\n",
       "</div>"
      ],
      "text/plain": [
       "  CustomerID Gender  Addr1    Qty       Amt  RegisterYear  RegisterMonth  Age  \\\n",
       "0    c017487      F    경기도  127.0  296447.0          2002              7   49   \n",
       "1    c017503      F  서울특별시   42.0  160444.0          2002              7   46   \n",
       "2    c017517      M    경기도  192.0  317590.0          2002              7   50   \n",
       "3    c017522      F    강원도   64.0  219849.0          2002              7   52   \n",
       "4    c017526      F    경기도   26.0   48881.0          2002              7   57   \n",
       "\n",
       "   Age2   Level  \n",
       "0    40  Silver  \n",
       "1    40  Silver  \n",
       "2    50    Gold  \n",
       "3    50  Silver  \n",
       "4    50  Bronze  "
      ]
     },
     "execution_count": 75,
     "metadata": {},
     "output_type": "execute_result"
    }
   ],
   "source": [
    "# 불필요한 열 제거\n",
    "drop_cols = ['RegisterDate', 'Address', 'BirthYear', 'Addr2']\n",
    "cst.drop(drop_cols, axis=1, inplace=True)\n",
    "cst.head()"
   ]
  },
  {
   "cell_type": "markdown",
   "metadata": {
    "id": "zik6zjCkjn_1"
   },
   "source": [
    "# 3.데이터 집계"
   ]
  },
  {
   "cell_type": "markdown",
   "metadata": {
    "id": "Dh_YZijKl3K0"
   },
   "source": [
    "**1) 지역별 고객 수**\n",
    "\n",
    "- 지역(Addr1)별 고객(CustomerID) 수를 집계하여 tmp 데이터프레임으로 선언합니다.\n",
    "- tmp 데이터프레임 열 이름을 '지역', '고객수'로 변경합니다.\n",
    "- tmp 데이터프레임을 고객수를 기준으로 내림차순 정렬합니다.\n",
    "- tmp 데이터프레임의 상위 5개 행만을 추출해 tmp_5 데이터프레임으로 선언합니다."
   ]
  },
  {
   "cell_type": "code",
   "execution_count": null,
   "metadata": {
    "id": "8kGU-6hTfkcd"
   },
   "outputs": [],
   "source": [
    "# 지역별 고객 수\n",
    "tmp = cst.groupby(by='Addr1', as_index=False)[['CustomerID']].count()"
   ]
  },
  {
   "cell_type": "code",
   "execution_count": null,
   "metadata": {},
   "outputs": [],
   "source": [
    "tmp.s"
   ]
  },
  {
   "cell_type": "markdown",
   "metadata": {
    "id": "hH6PJX37mPzi"
   },
   "source": [
    "- tmp_5 데이터프레임을 막대 그래프로 시각화 합니다."
   ]
  },
  {
   "cell_type": "code",
   "execution_count": null,
   "metadata": {
    "id": "owW2lWdLk5Sj"
   },
   "outputs": [],
   "source": [
    "# 지역별 고객 수 TOP 5 시각화\n",
    "\n",
    "\n"
   ]
  },
  {
   "cell_type": "markdown",
   "metadata": {
    "id": "TB8D49RRl9o-"
   },
   "source": [
    "**2) 연령대별 고객 수**\n",
    "\n",
    "- 연령대(Age2)별 고객 수를 집계하여 tmp 데이터프레임으로 선언합니다.\n",
    "- tmp 데이터프레임 열 이름을 '연령대', '고객수'로 변경합니다.\n",
    "- tmp 데이터프레임 연령대 열의 데이터 형식을 문자열로 변환합니다."
   ]
  },
  {
   "cell_type": "code",
   "execution_count": null,
   "metadata": {
    "id": "SYVsLxh6KguC"
   },
   "outputs": [],
   "source": [
    "# 연령대별 고객 수\n",
    "\n",
    "\n"
   ]
  },
  {
   "cell_type": "markdown",
   "metadata": {
    "id": "HtEGiy-0kGeK"
   },
   "source": [
    "- tmp 데이터프레임을 막대 그래프로 시각화 합니다."
   ]
  },
  {
   "cell_type": "code",
   "execution_count": null,
   "metadata": {
    "id": "uN-s6LhGkGeK"
   },
   "outputs": [],
   "source": [
    "# 연령대별 고객 수 시각화\n",
    "\n",
    "\n"
   ]
  },
  {
   "cell_type": "markdown",
   "metadata": {
    "id": "Debfva0rmE7j"
   },
   "source": [
    "**3) 등급별 판매 금액**\n",
    "\n",
    "- 등급(Level)별 판매 금액(Amt)을 집계하여 tmp 데이터프레임으로 선언합니다.\n",
    "- tmp 데이터프레임 열 이름을 '등급', '합계금액'으로 변경합니다.\n",
    "- 합계금액은 10,000 단위로 변경합니다."
   ]
  },
  {
   "cell_type": "code",
   "execution_count": null,
   "metadata": {
    "id": "l4fYSwVlcGTR"
   },
   "outputs": [],
   "source": [
    "# 등급별 판매 금액\n",
    "\n",
    "\n"
   ]
  },
  {
   "cell_type": "markdown",
   "metadata": {
    "id": "WEvrMzygkGeL"
   },
   "source": [
    "- tmp 데이터프레임을 막대 그래프로 시각화 합니다."
   ]
  },
  {
   "cell_type": "code",
   "execution_count": null,
   "metadata": {
    "id": "F-ORQlqhkGeL"
   },
   "outputs": [],
   "source": [
    "# 등급별 판매 금액 시각화\n",
    "\n",
    "\n"
   ]
  },
  {
   "cell_type": "markdown",
   "metadata": {
    "id": "mFdUUmKSl1DJ"
   },
   "source": [
    "# 4.전처리 #2"
   ]
  },
  {
   "cell_type": "markdown",
   "metadata": {
    "id": "_o9aNnX7nKFq"
   },
   "source": [
    "**1) 열 제거**\n",
    "\n",
    "- Addr1, RegisterYear, RegisterMonth, Age 열을 제거합니다."
   ]
  },
  {
   "cell_type": "code",
   "execution_count": null,
   "metadata": {
    "id": "AhG5pbgvm5ZU"
   },
   "outputs": [],
   "source": [
    "# 열 제거\n",
    "\n",
    "\n"
   ]
  },
  {
   "cell_type": "markdown",
   "metadata": {
    "id": "fUV1jR5ip61A"
   },
   "source": [
    "**2) 열 이름 변경**\n",
    "\n",
    "- Age2 열 이름을 Age로 변경합니다."
   ]
  },
  {
   "cell_type": "code",
   "execution_count": null,
   "metadata": {
    "id": "8QRESdsip61A"
   },
   "outputs": [],
   "source": [
    "# 열 이름 변경: Age2 --> Age\n",
    "\n",
    "\n"
   ]
  },
  {
   "cell_type": "markdown",
   "metadata": {
    "id": "rGd9Oq_WnQbM"
   },
   "source": [
    "**3) 가변수화**\n",
    "\n",
    "- Gender, Age, Level 열을 가변수화 합니다."
   ]
  },
  {
   "cell_type": "code",
   "execution_count": null,
   "metadata": {
    "id": "46-cjnCanaAG"
   },
   "outputs": [],
   "source": [
    "# 가변수화\n",
    "\n",
    "\n"
   ]
  }
 ],
 "metadata": {
  "colab": {
   "provenance": []
  },
  "kernelspec": {
   "display_name": "Python 3 (ipykernel)",
   "language": "python",
   "name": "python3"
  },
  "language_info": {
   "codemirror_mode": {
    "name": "ipython",
    "version": 3
   },
   "file_extension": ".py",
   "mimetype": "text/x-python",
   "name": "python",
   "nbconvert_exporter": "python",
   "pygments_lexer": "ipython3",
   "version": "3.11.5"
  }
 },
 "nbformat": 4,
 "nbformat_minor": 4
}
