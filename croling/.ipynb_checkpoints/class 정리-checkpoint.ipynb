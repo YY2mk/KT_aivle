{
 "cells": [
  {
   "cell_type": "code",
   "execution_count": 1,
   "id": "154ca0fe-d9c4-48c4-8362-0147cf91d832",
   "metadata": {
    "tags": []
   },
   "outputs": [],
   "source": [
    "# class\n",
    "# - 변수, 함수 묶어서 코드 작성\n",
    "# - 객체지향 구현 : 실제세계를 모델링하여 개발하는 방법론 : 협업 용이\n",
    "# - 함수 사용 : 함수 선언(코드작성) -> 함수 호출(코드실행)\n",
    "# - 클래스 사용 \n",
    "#    - 클래스선언(코드작성) -> 객체생성(메모리사용) -> 메서드(함수)호출(코드실행)\n",
    "#    - 설계도작성          -> 제뭎생상             -> 기능사용"
   ]
  },
  {
   "cell_type": "code",
   "execution_count": 2,
   "id": "b013ad0e-2c10-4387-a710-f48479ff9feb",
   "metadata": {
    "tags": []
   },
   "outputs": [],
   "source": [
    "# - 클래스식별자자 : PEP8, snake_case(x), PascalCase(o), UpperCamleCalse(o)"
   ]
  },
  {
   "cell_type": "code",
   "execution_count": 35,
   "id": "c8926693-5ea7-4cd8-8a1e-10be4f3955c4",
   "metadata": {
    "tags": []
   },
   "outputs": [],
   "source": [
    "# 클래스 선언: 코드 작성\n",
    "# 은행계좌 : Account : balance(예금잔고), deposit(입금), withdraw(출금)\n",
    "class Account:\n",
    "    balance = 10000\n",
    "    def deposit(self, amount):\n",
    "        self.balance += amount\n",
    "        \n",
    "    def withdraw(self, amount):\n",
    "        self.balance -= amount"
   ]
  },
  {
   "cell_type": "code",
   "execution_count": 36,
   "id": "16cb1e81-39b5-44a5-a5e3-cdede29f5297",
   "metadata": {
    "tags": []
   },
   "outputs": [],
   "source": [
    "# 객체 생성 : 메모리사용\n",
    "account1 = Account()\n",
    "account2 = Account()"
   ]
  },
  {
   "cell_type": "code",
   "execution_count": 37,
   "id": "30679b11-624e-449b-ba18-5bcc7629971d",
   "metadata": {
    "tags": []
   },
   "outputs": [
    {
     "data": {
      "text/plain": [
       "['balance', 'deposit', 'withdraw']"
      ]
     },
     "execution_count": 37,
     "metadata": {},
     "output_type": "execute_result"
    }
   ],
   "source": [
    "# dir() : 객체에 저장되어 있는 변수(함수) 출력\n",
    "dir(account1)[-3:]"
   ]
  },
  {
   "cell_type": "code",
   "execution_count": 38,
   "id": "0a35b3d4-caf0-4822-a603-8a797209ec92",
   "metadata": {
    "tags": []
   },
   "outputs": [
    {
     "data": {
      "text/plain": [
       "10000"
      ]
     },
     "execution_count": 38,
     "metadata": {},
     "output_type": "execute_result"
    }
   ],
   "source": [
    "account1.balance"
   ]
  },
  {
   "cell_type": "code",
   "execution_count": 39,
   "id": "b99ad930-6c6f-4cf6-801b-a5322b758334",
   "metadata": {
    "tags": []
   },
   "outputs": [],
   "source": [
    "# 메서드 호출 : 코드 실행"
   ]
  },
  {
   "cell_type": "code",
   "execution_count": 40,
   "id": "c31a109d-794d-450c-acd2-a504dcea8db6",
   "metadata": {
    "tags": []
   },
   "outputs": [
    {
     "data": {
      "text/plain": [
       "(6000, 10000)"
      ]
     },
     "execution_count": 40,
     "metadata": {},
     "output_type": "execute_result"
    }
   ],
   "source": [
    "account1.balance = 6000\n",
    "account1.balance, account2.balance"
   ]
  },
  {
   "cell_type": "code",
   "execution_count": 41,
   "id": "03f39fa7-024b-4fd0-b9b7-6fd13b266cab",
   "metadata": {
    "tags": []
   },
   "outputs": [
    {
     "data": {
      "text/plain": [
       "(6000, 12000)"
      ]
     },
     "execution_count": 41,
     "metadata": {},
     "output_type": "execute_result"
    }
   ],
   "source": [
    "account2.deposit(2000)\n",
    "account1.balance ,account2.balance"
   ]
  },
  {
   "cell_type": "code",
   "execution_count": 42,
   "id": "ffd48ab9-42f7-484e-b1ce-7fdeef515a09",
   "metadata": {
    "tags": []
   },
   "outputs": [],
   "source": [
    "# 모듈       : 변수, 함수, 클래스를 하나의 파일로 묶어서 코드 작성 :.py 확장자\n",
    "# 패키지     : 여러개의 모듈을 디렉토리로 구분하여 코드 작성 실행 문법 : import, from, as\n",
    "# 라이브러리 : 여러개의 패키지로 만든 패키지"
   ]
  },
  {
   "cell_type": "code",
   "execution_count": null,
   "id": "10a39cb2-866d-46f3-96b8-7b6e9f4f4623",
   "metadata": {},
   "outputs": [],
   "source": [
    "# 클래스는 사용자 정의 데이터타입이다."
   ]
  },
  {
   "cell_type": "code",
   "execution_count": 46,
   "id": "5302a53c-4f03-4b7e-ab05-b070efb3a66a",
   "metadata": {
    "tags": []
   },
   "outputs": [
    {
     "data": {
      "text/plain": [
       "__main__.Account"
      ]
     },
     "execution_count": 46,
     "metadata": {},
     "output_type": "execute_result"
    }
   ],
   "source": [
    "# acc 객체 클래스 : Account\n",
    "acc = Account()\n",
    "# acc 객체 데이터타입 : Account\n",
    "type(acc)\n",
    "\n",
    "# Account 클래스를 만든 사람 : 사용자, 커스터마이즈, 사용자 정의\n",
    "# 클래스는 데이터타입이다."
   ]
  },
  {
   "cell_type": "code",
   "execution_count": 48,
   "id": "02431ed5-1ade-4f79-9096-eb0cc437b441",
   "metadata": {
    "tags": []
   },
   "outputs": [
    {
     "data": {
      "text/plain": [
       "(str, list)"
      ]
     },
     "execution_count": 48,
     "metadata": {},
     "output_type": "execute_result"
    }
   ],
   "source": [
    "# data1은 str 클래스로 만들어진 객체 : data1 객체의 메서드는 str 클래스 정의\n",
    "# data2 : list 데이터타입 : list 클래스 만듦 -> data1, data2가 만들어진 클래스(데이터타입)가 다르다\n",
    "# 데이터타입(클래스)이 다르면 사용가능한 변수(함수)가 다르다\n",
    "data1 = 'py'\n",
    "data2 = [1, 3, 2]\n",
    "type(data1), type(data2)"
   ]
  },
  {
   "cell_type": "code",
   "execution_count": 49,
   "id": "958e4b4b-bf9e-434d-a38b-658f2db64212",
   "metadata": {
    "tags": []
   },
   "outputs": [
    {
     "data": {
      "text/plain": [
       "(['translate', 'upper', 'zfill'], ['remove', 'reverse', 'sort'])"
      ]
     },
     "execution_count": 49,
     "metadata": {},
     "output_type": "execute_result"
    }
   ],
   "source": [
    "dir(data1)[-3:], dir(data2)[-3:]"
   ]
  },
  {
   "cell_type": "code",
   "execution_count": 51,
   "id": "2f5b5bff-888f-4eba-b5af-2135e013899a",
   "metadata": {
    "tags": []
   },
   "outputs": [
    {
     "data": {
      "text/plain": [
       "'PY'"
      ]
     },
     "execution_count": 51,
     "metadata": {},
     "output_type": "execute_result"
    }
   ],
   "source": [
    "data1.upper()"
   ]
  },
  {
   "cell_type": "code",
   "execution_count": 53,
   "id": "929de48b-38ee-40e1-a52e-6bd8a87ed54e",
   "metadata": {
    "scrolled": true,
    "tags": []
   },
   "outputs": [
    {
     "name": "stdout",
     "output_type": "stream",
     "text": [
      "Help on list object:\n",
      "\n",
      "class list(object)\n",
      " |  list(iterable=(), /)\n",
      " |  \n",
      " |  Built-in mutable sequence.\n",
      " |  \n",
      " |  If no argument is given, the constructor creates a new empty list.\n",
      " |  The argument must be an iterable if specified.\n",
      " |  \n",
      " |  Methods defined here:\n",
      " |  \n",
      " |  __add__(self, value, /)\n",
      " |      Return self+value.\n",
      " |  \n",
      " |  __contains__(self, key, /)\n",
      " |      Return key in self.\n",
      " |  \n",
      " |  __delitem__(self, key, /)\n",
      " |      Delete self[key].\n",
      " |  \n",
      " |  __eq__(self, value, /)\n",
      " |      Return self==value.\n",
      " |  \n",
      " |  __ge__(self, value, /)\n",
      " |      Return self>=value.\n",
      " |  \n",
      " |  __getattribute__(self, name, /)\n",
      " |      Return getattr(self, name).\n",
      " |  \n",
      " |  __getitem__(...)\n",
      " |      x.__getitem__(y) <==> x[y]\n",
      " |  \n",
      " |  __gt__(self, value, /)\n",
      " |      Return self>value.\n",
      " |  \n",
      " |  __iadd__(self, value, /)\n",
      " |      Implement self+=value.\n",
      " |  \n",
      " |  __imul__(self, value, /)\n",
      " |      Implement self*=value.\n",
      " |  \n",
      " |  __init__(self, /, *args, **kwargs)\n",
      " |      Initialize self.  See help(type(self)) for accurate signature.\n",
      " |  \n",
      " |  __iter__(self, /)\n",
      " |      Implement iter(self).\n",
      " |  \n",
      " |  __le__(self, value, /)\n",
      " |      Return self<=value.\n",
      " |  \n",
      " |  __len__(self, /)\n",
      " |      Return len(self).\n",
      " |  \n",
      " |  __lt__(self, value, /)\n",
      " |      Return self<value.\n",
      " |  \n",
      " |  __mul__(self, value, /)\n",
      " |      Return self*value.\n",
      " |  \n",
      " |  __ne__(self, value, /)\n",
      " |      Return self!=value.\n",
      " |  \n",
      " |  __repr__(self, /)\n",
      " |      Return repr(self).\n",
      " |  \n",
      " |  __reversed__(self, /)\n",
      " |      Return a reverse iterator over the list.\n",
      " |  \n",
      " |  __rmul__(self, value, /)\n",
      " |      Return value*self.\n",
      " |  \n",
      " |  __setitem__(self, key, value, /)\n",
      " |      Set self[key] to value.\n",
      " |  \n",
      " |  __sizeof__(self, /)\n",
      " |      Return the size of the list in memory, in bytes.\n",
      " |  \n",
      " |  append(self, object, /)\n",
      " |      Append object to the end of the list.\n",
      " |  \n",
      " |  clear(self, /)\n",
      " |      Remove all items from list.\n",
      " |  \n",
      " |  copy(self, /)\n",
      " |      Return a shallow copy of the list.\n",
      " |  \n",
      " |  count(self, value, /)\n",
      " |      Return number of occurrences of value.\n",
      " |  \n",
      " |  extend(self, iterable, /)\n",
      " |      Extend list by appending elements from the iterable.\n",
      " |  \n",
      " |  index(self, value, start=0, stop=9223372036854775807, /)\n",
      " |      Return first index of value.\n",
      " |      \n",
      " |      Raises ValueError if the value is not present.\n",
      " |  \n",
      " |  insert(self, index, object, /)\n",
      " |      Insert object before index.\n",
      " |  \n",
      " |  pop(self, index=-1, /)\n",
      " |      Remove and return item at index (default last).\n",
      " |      \n",
      " |      Raises IndexError if list is empty or index is out of range.\n",
      " |  \n",
      " |  remove(self, value, /)\n",
      " |      Remove first occurrence of value.\n",
      " |      \n",
      " |      Raises ValueError if the value is not present.\n",
      " |  \n",
      " |  reverse(self, /)\n",
      " |      Reverse *IN PLACE*.\n",
      " |  \n",
      " |  sort(self, /, *, key=None, reverse=False)\n",
      " |      Sort the list in ascending order and return None.\n",
      " |      \n",
      " |      The sort is in-place (i.e. the list itself is modified) and stable (i.e. the\n",
      " |      order of two equal elements is maintained).\n",
      " |      \n",
      " |      If a key function is given, apply it once to each list item and sort them,\n",
      " |      ascending or descending, according to their function values.\n",
      " |      \n",
      " |      The reverse flag can be set to sort in descending order.\n",
      " |  \n",
      " |  ----------------------------------------------------------------------\n",
      " |  Class methods defined here:\n",
      " |  \n",
      " |  __class_getitem__(...) from builtins.type\n",
      " |      See PEP 585\n",
      " |  \n",
      " |  ----------------------------------------------------------------------\n",
      " |  Static methods defined here:\n",
      " |  \n",
      " |  __new__(*args, **kwargs) from builtins.type\n",
      " |      Create and return a new object.  See help(type) for accurate signature.\n",
      " |  \n",
      " |  ----------------------------------------------------------------------\n",
      " |  Data and other attributes defined here:\n",
      " |  \n",
      " |  __hash__ = None\n",
      "\n"
     ]
    }
   ],
   "source": [
    "# help : docstring 함수의 설명글 출력\n",
    "help(data1.split())"
   ]
  },
  {
   "cell_type": "code",
   "execution_count": null,
   "id": "c1502faf-6b37-438f-9141-d42ce215f553",
   "metadata": {},
   "outputs": [],
   "source": [
    "# special method\n",
    "# - 앞뒤로 __가 붙은 메서드 : 특별한 기능을 하는 메서드\n",
    "# - 생성자 메서드 : 객체를 생성할 때 실행되는 메서드\n",
    "# - 에로가 발생하는 객체를 생성 방지\n",
    "# - 용도 : 객체의 메서드에서 사용되는 초기 변수를 설정, 검사 하는 용도"
   ]
  },
  {
   "cell_type": "code",
   "execution_count": 72,
   "id": "fae0f37a-da63-4ca5-b672-a90bcd45bee1",
   "metadata": {
    "tags": []
   },
   "outputs": [],
   "source": [
    "# 클래스 생성 : 코드 작성\n",
    "class Account:\n",
    "    \n",
    "    # 생성자 메서드 : 객체생성시 실행\n",
    "    # 용도 : 메서드에서 사용되는 초기값 설정 검사\n",
    "    def __init__(self, balance):\n",
    "        self.balance = balance\n",
    "    \n",
    "    def deposit(self, amount):\n",
    "        self.balance += amount\n",
    "        \n",
    "    def withdraw(self, amount):\n",
    "        self.balance -= amount"
   ]
  },
  {
   "cell_type": "code",
   "execution_count": 73,
   "id": "bc687baf-9057-4e91-b86f-b327264afb56",
   "metadata": {
    "tags": []
   },
   "outputs": [],
   "source": [
    "# 객체생성 : 메모리 사용\n",
    "acc = Account(3000)"
   ]
  },
  {
   "cell_type": "code",
   "execution_count": 74,
   "id": "bf8cc5da-21c7-493a-9ff5-67dba6a43f02",
   "metadata": {
    "tags": []
   },
   "outputs": [],
   "source": [
    "# 메서드호출 : 코드 실행"
   ]
  },
  {
   "cell_type": "code",
   "execution_count": 75,
   "id": "c0e209f3-df82-4c09-80e0-41ec73690909",
   "metadata": {
    "tags": []
   },
   "outputs": [
    {
     "data": {
      "text/plain": [
       "5000"
      ]
     },
     "execution_count": 75,
     "metadata": {},
     "output_type": "execute_result"
    }
   ],
   "source": [
    "acc.deposit(2000)\n",
    "acc.balance"
   ]
  },
  {
   "cell_type": "code",
   "execution_count": 78,
   "id": "d4e0b449-71e2-4d3f-bd7b-96e3faa89d26",
   "metadata": {
    "tags": []
   },
   "outputs": [],
   "source": [
    "# 메서드 종류 : instance method(self), class method(cls), static method()\n",
    "# 스페셜 메서드 : __add__(+ 연산자), __str__(print 출력), ___repr__(개발용 사용 객체 상태 출력)"
   ]
  },
  {
   "cell_type": "code",
   "execution_count": 79,
   "id": "0b54db87-da4c-4385-bb93-2fd7ed699f09",
   "metadata": {
    "tags": []
   },
   "outputs": [],
   "source": [
    "d1 = 10\n",
    "d2 = 20\n",
    "d3 = '5'\n",
    "d4 = '6'"
   ]
  },
  {
   "cell_type": "code",
   "execution_count": 83,
   "id": "5ce4b6c2-8bce-4376-809d-ba0fd6d76783",
   "metadata": {
    "tags": []
   },
   "outputs": [
    {
     "data": {
      "text/plain": [
       "(30, 30)"
      ]
     },
     "execution_count": 83,
     "metadata": {},
     "output_type": "execute_result"
    }
   ],
   "source": [
    "# dir(d1)\n",
    "# int 클래스의 __add__ 호출\n",
    "d1 + d2, d1.__add__(d2)"
   ]
  },
  {
   "cell_type": "code",
   "execution_count": 84,
   "id": "9801432c-eb3d-4944-a164-eca1593b14f9",
   "metadata": {
    "tags": []
   },
   "outputs": [
    {
     "data": {
      "text/plain": [
       "('56', '56')"
      ]
     },
     "execution_count": 84,
     "metadata": {},
     "output_type": "execute_result"
    }
   ],
   "source": [
    "# str. 클래스의 __add__ 호출\n",
    "d3 + d4, d3.__add__(d4)"
   ]
  },
  {
   "cell_type": "code",
   "execution_count": null,
   "id": "47768eb6-ecdf-430f-bcc9-654778e2a09b",
   "metadata": {},
   "outputs": [],
   "source": []
  }
 ],
 "metadata": {
  "kernelspec": {
   "display_name": "Python 3 (ipykernel)",
   "language": "python",
   "name": "python3"
  },
  "language_info": {
   "codemirror_mode": {
    "name": "ipython",
    "version": 3
   },
   "file_extension": ".py",
   "mimetype": "text/x-python",
   "name": "python",
   "nbconvert_exporter": "python",
   "pygments_lexer": "ipython3",
   "version": "3.11.5"
  }
 },
 "nbformat": 4,
 "nbformat_minor": 5
}
