{
 "cells": [
  {
   "cell_type": "markdown",
   "id": "democratic-utility",
   "metadata": {
    "id": "democratic-utility"
   },
   "source": [
    "## Zigbang 원룸 매물 데이터 수집"
   ]
  },
  {
   "cell_type": "code",
   "execution_count": 44,
   "id": "minor-irrigation",
   "metadata": {
    "id": "minor-irrigation"
   },
   "outputs": [],
   "source": [
    "import requests, json\n",
    "import pandas as pd"
   ]
  },
  {
   "cell_type": "markdown",
   "id": "whole-answer",
   "metadata": {
    "id": "whole-answer"
   },
   "source": [
    "#### Process\n",
    "    - 동이름으로 위도 경도 구하기\n",
    "    - 위도 경도로 geohash 알아내기\n",
    "    - geohash로 매물 아이디 가져오기\n",
    "    - 매물 아이디로 매물 정보 가져오기"
   ]
  },
  {
   "cell_type": "markdown",
   "id": "b17864a3",
   "metadata": {
    "id": "b17864a3"
   },
   "source": [
    "### 1\\. 동이름으로 위도 경도 구하기"
   ]
  },
  {
   "cell_type": "code",
   "execution_count": 11,
   "id": "e_0LGgefNlrN",
   "metadata": {
    "id": "e_0LGgefNlrN"
   },
   "outputs": [],
   "source": [
    "addr = '망원동'\n",
    "url = f'https://apis.zigbang.com/v2/search?leaseYn=N&q={addr}&serviceType=원룸'\n",
    "\n",
    "response = requests.get(url)\n",
    "data = response.json()['items'][0]\n",
    "\n",
    "#위도 경도\n",
    "lat, lng = data['lat'], data['lng']"
   ]
  },
  {
   "cell_type": "markdown",
   "id": "13114fd8",
   "metadata": {
    "id": "13114fd8"
   },
   "source": [
    "### 2\\. 위도 경도로 geohash 알아내기"
   ]
  },
  {
   "cell_type": "code",
   "execution_count": 3,
   "id": "122284eb",
   "metadata": {
    "id": "122284eb"
   },
   "outputs": [
    {
     "name": "stdout",
     "output_type": "stream",
     "text": [
      "Collecting geohash2\n",
      "  Downloading geohash2-1.1.tar.gz (15 kB)\n",
      "  Preparing metadata (setup.py): started\n",
      "  Preparing metadata (setup.py): finished with status 'done'\n",
      "Requirement already satisfied: docutils>=0.3 in c:\\users\\user\\anaconda3\\lib\\site-packages (from geohash2) (0.18.1)\n",
      "Building wheels for collected packages: geohash2\n",
      "  Building wheel for geohash2 (setup.py): started\n",
      "  Building wheel for geohash2 (setup.py): finished with status 'done'\n",
      "  Created wheel for geohash2: filename=geohash2-1.1-py3-none-any.whl size=15554 sha256=0bf7c5fe53735c0849b2910518ffab0c94f455e22138e86a20bfb3633a64872f\n",
      "  Stored in directory: c:\\users\\user\\appdata\\local\\pip\\cache\\wheels\\f6\\7c\\c4\\1b3c6fea0ebc53bf730dc86bbee7a713d501455dfb4c1f0623\n",
      "Successfully built geohash2\n",
      "Installing collected packages: geohash2\n",
      "Successfully installed geohash2-1.1\n"
     ]
    }
   ],
   "source": [
    "# install geohash2\n",
    "!pip install geohash2"
   ]
  },
  {
   "cell_type": "code",
   "execution_count": 15,
   "id": "aware-liquid",
   "metadata": {
    "id": "aware-liquid"
   },
   "outputs": [],
   "source": [
    "import geohash2 # 위도, 경도의 점으로 부터 영역"
   ]
  },
  {
   "cell_type": "code",
   "execution_count": 16,
   "id": "fee17bf6-582b-40d5-8264-2dc7f6b097c3",
   "metadata": {
    "tags": []
   },
   "outputs": [
    {
     "data": {
      "text/plain": [
       "(37.556785583496094, 126.9013442993164)"
      ]
     },
     "execution_count": 16,
     "metadata": {},
     "output_type": "execute_result"
    }
   ],
   "source": [
    "lat, lng "
   ]
  },
  {
   "cell_type": "code",
   "execution_count": 19,
   "id": "AnRA2VaUNnFC",
   "metadata": {
    "id": "AnRA2VaUNnFC"
   },
   "outputs": [
    {
     "data": {
      "text/plain": [
       "'wydjx'"
      ]
     },
     "execution_count": 19,
     "metadata": {},
     "output_type": "execute_result"
    }
   ],
   "source": [
    "# precision : 영역범위 : 커질수록 영역이 작아짐\n",
    "geohash = geohash2.encode(lat, lng, precision=5)\n",
    "geohash"
   ]
  },
  {
   "cell_type": "markdown",
   "id": "6df839b9",
   "metadata": {
    "id": "6df839b9"
   },
   "source": [
    "### 3\\. geohash로 매물 아이디 가져오기"
   ]
  },
  {
   "cell_type": "code",
   "execution_count": 31,
   "id": "MrsBsdbeNn1f",
   "metadata": {
    "id": "MrsBsdbeNn1f"
   },
   "outputs": [
    {
     "data": {
      "text/plain": [
       "<Response [200]>"
      ]
     },
     "execution_count": 31,
     "metadata": {},
     "output_type": "execute_result"
    }
   ],
   "source": [
    "url = f'https://apis.zigbang.com/v2/items/oneroom?\\\n",
    "geohash={geohash}&depositMin=0&rentMin=0&salesTypes[0]=전세&salesTypes[1]=월세\\\n",
    "&domain=zigbang&checkAnyItemWithoutFilter=true'\n",
    "response = requests.get(url)\n",
    "response"
   ]
  },
  {
   "cell_type": "code",
   "execution_count": 43,
   "id": "c1405a1d-82a8-46f3-9477-13c6f4634ac2",
   "metadata": {
    "tags": []
   },
   "outputs": [
    {
     "data": {
      "text/plain": [
       "(682, [40042434, 40058332, 40114131, 40184360, 40177503])"
      ]
     },
     "execution_count": 43,
     "metadata": {},
     "output_type": "execute_result"
    }
   ],
   "source": [
    "items = response.json()['items']\n",
    "ids = [item['itemId'] for item in items]\n",
    "len(ids), ids[:5]"
   ]
  },
  {
   "cell_type": "markdown",
   "id": "37fea52f",
   "metadata": {
    "id": "37fea52f"
   },
   "source": [
    "### 4\\. 매물 아이디로 매물 정보 가져오기"
   ]
  },
  {
   "cell_type": "code",
   "execution_count": 46,
   "id": "OOcvZ6_jNpOq",
   "metadata": {
    "id": "OOcvZ6_jNpOq"
   },
   "outputs": [
    {
     "data": {
      "text/plain": [
       "<Response [200]>"
      ]
     },
     "execution_count": 46,
     "metadata": {},
     "output_type": "execute_result"
    }
   ],
   "source": [
    "url = 'https://apis.zigbang.com/v2/items/list'\n",
    "params = {'domain': \"zigbang\",\n",
    "         'item_ids': ids}\n",
    "\n",
    "response = requests.post(url, params)\n",
    "response"
   ]
  },
  {
   "cell_type": "code",
   "execution_count": 52,
   "id": "33cb679b-28db-472e-a172-8e08d0b3fbbc",
   "metadata": {
    "tags": []
   },
   "outputs": [
    {
     "data": {
      "text/plain": [
       "'{\"items\":[{\"item_id\":40042434,\"section_type\":null,\"images_thumbnail\":\"https://ic.zigbang.com/ic/items/40042434/1.jpg\",\"sales_type\":\"월세\",\"sales_title\":\"월세\",\"deposit\":1000,\"rent\":50,\"size_m2\":22.48,\"공급면적\":{\"m2\":22.48,\"p\":\"6.8\"},\"전용면적\":{\"m2\":22.48,\"p\":\"6.8\"},\"계약면적\":null,\"room_type_title\":null,\"floor\":\"5\",\"floor_string\":\"5\",\"building_floor\":\"9\",\"title\":\"당산역부근 깔끔함 신축급컨디션  일단클릭\",\"is_first_movein\":null,\"room_type\":\"01\",\"status\":true,\"tags\":[\"추천\"],\"service_type\":\"원룸\",\"random_location\":{\"lat\":37.52910515'"
      ]
     },
     "execution_count": 52,
     "metadata": {},
     "output_type": "execute_result"
    }
   ],
   "source": [
    "response.text[:500]"
   ]
  },
  {
   "cell_type": "code",
   "execution_count": 53,
   "id": "a4c9abe3-c768-4247-8bad-91871d6a947a",
   "metadata": {
    "tags": []
   },
   "outputs": [],
   "source": [
    "_data = response.json()['items']"
   ]
  },
  {
   "cell_type": "code",
   "execution_count": 60,
   "id": "a131a08c-09a0-49be-8316-68e0031dc5a1",
   "metadata": {
    "tags": []
   },
   "outputs": [],
   "source": [
    "# 최대 보여 줄 수 있는 컬럼\n",
    "# pd.options.display.max_columns"
   ]
  },
  {
   "cell_type": "code",
   "execution_count": 65,
   "id": "fc8409a3-1ce1-4565-8fd8-dc12e9034720",
   "metadata": {
    "tags": []
   },
   "outputs": [
    {
     "data": {
      "text/html": [
       "<div>\n",
       "<style scoped>\n",
       "    .dataframe tbody tr th:only-of-type {\n",
       "        vertical-align: middle;\n",
       "    }\n",
       "\n",
       "    .dataframe tbody tr th {\n",
       "        vertical-align: top;\n",
       "    }\n",
       "\n",
       "    .dataframe thead th {\n",
       "        text-align: right;\n",
       "    }\n",
       "</style>\n",
       "<table border=\"1\" class=\"dataframe\">\n",
       "  <thead>\n",
       "    <tr style=\"text-align: right;\">\n",
       "      <th></th>\n",
       "      <th>item_id</th>\n",
       "      <th>sales_type</th>\n",
       "      <th>deposit</th>\n",
       "      <th>rent</th>\n",
       "      <th>size_m2</th>\n",
       "      <th>title</th>\n",
       "      <th>address</th>\n",
       "    </tr>\n",
       "  </thead>\n",
       "  <tbody>\n",
       "    <tr>\n",
       "      <th>0</th>\n",
       "      <td>40232488</td>\n",
       "      <td>전세</td>\n",
       "      <td>18900</td>\n",
       "      <td>0</td>\n",
       "      <td>28.69</td>\n",
       "      <td>반려동물 중기청 LH 버팀목 보증금월세 조정OK 1.5룸</td>\n",
       "      <td>마포구 망원동</td>\n",
       "    </tr>\n",
       "    <tr>\n",
       "      <th>1</th>\n",
       "      <td>40137773</td>\n",
       "      <td>월세</td>\n",
       "      <td>22800</td>\n",
       "      <td>30</td>\n",
       "      <td>26.68</td>\n",
       "      <td>보증보험가능 투룸 망원동</td>\n",
       "      <td>마포구 망원동</td>\n",
       "    </tr>\n",
       "    <tr>\n",
       "      <th>2</th>\n",
       "      <td>40137788</td>\n",
       "      <td>월세</td>\n",
       "      <td>22800</td>\n",
       "      <td>30</td>\n",
       "      <td>26.68</td>\n",
       "      <td>보증보험가능 투룸 망원동</td>\n",
       "      <td>마포구 망원동</td>\n",
       "    </tr>\n",
       "    <tr>\n",
       "      <th>3</th>\n",
       "      <td>39612133</td>\n",
       "      <td>월세</td>\n",
       "      <td>29600</td>\n",
       "      <td>14</td>\n",
       "      <td>29.67</td>\n",
       "      <td>한강변 2년된 신축 보증보험 가입가능한 매물</td>\n",
       "      <td>마포구 망원동</td>\n",
       "    </tr>\n",
       "    <tr>\n",
       "      <th>4</th>\n",
       "      <td>39914755</td>\n",
       "      <td>월세</td>\n",
       "      <td>29600</td>\n",
       "      <td>13</td>\n",
       "      <td>29.67</td>\n",
       "      <td>신축급 강변쪽 2룸 거실 욕1 풀옵션 융자무</td>\n",
       "      <td>마포구 망원동</td>\n",
       "    </tr>\n",
       "    <tr>\n",
       "      <th>...</th>\n",
       "      <td>...</td>\n",
       "      <td>...</td>\n",
       "      <td>...</td>\n",
       "      <td>...</td>\n",
       "      <td>...</td>\n",
       "      <td>...</td>\n",
       "      <td>...</td>\n",
       "    </tr>\n",
       "    <tr>\n",
       "      <th>77</th>\n",
       "      <td>40192841</td>\n",
       "      <td>전세</td>\n",
       "      <td>39600</td>\n",
       "      <td>0</td>\n",
       "      <td>47.10</td>\n",
       "      <td>신축급 컨디션의 3룸</td>\n",
       "      <td>마포구 망원동</td>\n",
       "    </tr>\n",
       "    <tr>\n",
       "      <th>78</th>\n",
       "      <td>40232795</td>\n",
       "      <td>월세</td>\n",
       "      <td>2000</td>\n",
       "      <td>72</td>\n",
       "      <td>39.67</td>\n",
       "      <td>반려동물 가능한 레어 투룸</td>\n",
       "      <td>마포구 망원동</td>\n",
       "    </tr>\n",
       "    <tr>\n",
       "      <th>79</th>\n",
       "      <td>40178585</td>\n",
       "      <td>전세</td>\n",
       "      <td>33000</td>\n",
       "      <td>0</td>\n",
       "      <td>28.14</td>\n",
       "      <td>보증보험 가능한 화이트톤 인테리어 분리형원룸</td>\n",
       "      <td>마포구 망원동</td>\n",
       "    </tr>\n",
       "    <tr>\n",
       "      <th>80</th>\n",
       "      <td>40216392</td>\n",
       "      <td>전세</td>\n",
       "      <td>32800</td>\n",
       "      <td>0</td>\n",
       "      <td>29.61</td>\n",
       "      <td>각종 전세대출, 보증보험 O 화이트톤 투룸</td>\n",
       "      <td>마포구 망원동</td>\n",
       "    </tr>\n",
       "    <tr>\n",
       "      <th>81</th>\n",
       "      <td>40165513</td>\n",
       "      <td>전세</td>\n",
       "      <td>32500</td>\n",
       "      <td>0</td>\n",
       "      <td>29.95</td>\n",
       "      <td>보증보험가능,  역세권\\r\\n실평15,  한강도보,  6호선</td>\n",
       "      <td>마포구 망원동</td>\n",
       "    </tr>\n",
       "  </tbody>\n",
       "</table>\n",
       "<p>82 rows × 7 columns</p>\n",
       "</div>"
      ],
      "text/plain": [
       "     item_id sales_type  deposit  rent  size_m2  \\\n",
       "0   40232488         전세    18900     0    28.69   \n",
       "1   40137773         월세    22800    30    26.68   \n",
       "2   40137788         월세    22800    30    26.68   \n",
       "3   39612133         월세    29600    14    29.67   \n",
       "4   39914755         월세    29600    13    29.67   \n",
       "..       ...        ...      ...   ...      ...   \n",
       "77  40192841         전세    39600     0    47.10   \n",
       "78  40232795         월세     2000    72    39.67   \n",
       "79  40178585         전세    33000     0    28.14   \n",
       "80  40216392         전세    32800     0    29.61   \n",
       "81  40165513         전세    32500     0    29.95   \n",
       "\n",
       "                                title  address  \n",
       "0     반려동물 중기청 LH 버팀목 보증금월세 조정OK 1.5룸  마포구 망원동  \n",
       "1                       보증보험가능 투룸 망원동  마포구 망원동  \n",
       "2                       보증보험가능 투룸 망원동  마포구 망원동  \n",
       "3            한강변 2년된 신축 보증보험 가입가능한 매물  마포구 망원동  \n",
       "4            신축급 강변쪽 2룸 거실 욕1 풀옵션 융자무  마포구 망원동  \n",
       "..                                ...      ...  \n",
       "77                        신축급 컨디션의 3룸  마포구 망원동  \n",
       "78                     반려동물 가능한 레어 투룸  마포구 망원동  \n",
       "79           보증보험 가능한 화이트톤 인테리어 분리형원룸  마포구 망원동  \n",
       "80            각종 전세대출, 보증보험 O 화이트톤 투룸  마포구 망원동  \n",
       "81  보증보험가능,  역세권\\r\\n실평15,  한강도보,  6호선  마포구 망원동  \n",
       "\n",
       "[82 rows x 7 columns]"
      ]
     },
     "execution_count": 65,
     "metadata": {},
     "output_type": "execute_result"
    }
   ],
   "source": [
    "jib_data = pd.DataFrame(_data)\n",
    "df = jib_data[jib_data['address1'].str.contains(addr)].reset_index(drop=True)\n",
    "cols = ['item_id', 'sales_type', 'deposit', 'rent', 'size_m2', 'title', 'address']\n",
    "df = df[cols]\n",
    "df"
   ]
  },
  {
   "cell_type": "code",
   "execution_count": 78,
   "id": "88058669-2258-416f-9d35-e69ad33337d9",
   "metadata": {
    "tags": []
   },
   "outputs": [],
   "source": [
    "# 함수 작성\n",
    "def oneroom(addr):\n",
    "    url = f'https://apis.zigbang.com/v2/search?leaseYn=N&q={addr}&serviceType=원룸'\n",
    "    reponse = requests.get(url)\n",
    "    reponse.json()['items'][0]\n",
    "    \n",
    "    #위도 경도\n",
    "    lat, lng = data['lat'], data['lng']\n",
    "    \n",
    "    geohash = geohash2.encode(lat, lng, precision=5)\n",
    "    url = f'https://apis.zigbang.com/v2/items/oneroom?\\\n",
    "geohash={geohash}&depositMin=0&rentMin=0&salesTypes[0]=전세&salesTypes[1]=월세\\\n",
    "&domain=zigbang&checkAnyItemWithoutFilter=true'\n",
    "    \n",
    "    response = requests.get(url)\n",
    "    ids = [item['itemId'] for item in items]\n",
    "    \n",
    "    url = 'https://apis.zigbang.com/v2/items/list'\n",
    "    params = {'domain': \"zigbang\",\n",
    "         'item_ids': ids[:900]}\n",
    "\n",
    "    response = requests.post(url, params)\n",
    "    \n",
    "    jib_data = pd.DataFrame(_data)\n",
    "    # 내각 찾을려는 동의 이름이 포함된것만 \n",
    "    df = jib_data[jib_data['address1'].str.contains(addr)].reset_index(drop=True)\n",
    "    \n",
    "    # 필요한 컬럼만 추출\n",
    "    cols = ['item_id', 'sales_type', 'deposit', 'rent', 'size_m2', 'title', 'address']\n",
    "    df = df[cols]\n",
    "        \n",
    "    return df"
   ]
  },
  {
   "cell_type": "code",
   "execution_count": 79,
   "id": "95f7ba14-0c56-4a6f-a6f3-153f97609888",
   "metadata": {
    "tags": []
   },
   "outputs": [
    {
     "data": {
      "text/html": [
       "<div>\n",
       "<style scoped>\n",
       "    .dataframe tbody tr th:only-of-type {\n",
       "        vertical-align: middle;\n",
       "    }\n",
       "\n",
       "    .dataframe tbody tr th {\n",
       "        vertical-align: top;\n",
       "    }\n",
       "\n",
       "    .dataframe thead th {\n",
       "        text-align: right;\n",
       "    }\n",
       "</style>\n",
       "<table border=\"1\" class=\"dataframe\">\n",
       "  <thead>\n",
       "    <tr style=\"text-align: right;\">\n",
       "      <th></th>\n",
       "      <th>item_id</th>\n",
       "      <th>sales_type</th>\n",
       "      <th>deposit</th>\n",
       "      <th>rent</th>\n",
       "      <th>size_m2</th>\n",
       "      <th>title</th>\n",
       "      <th>address</th>\n",
       "    </tr>\n",
       "  </thead>\n",
       "  <tbody>\n",
       "    <tr>\n",
       "      <th>0</th>\n",
       "      <td>40232488</td>\n",
       "      <td>전세</td>\n",
       "      <td>18900</td>\n",
       "      <td>0</td>\n",
       "      <td>28.69</td>\n",
       "      <td>반려동물 중기청 LH 버팀목 보증금월세 조정OK 1.5룸</td>\n",
       "      <td>마포구 망원동</td>\n",
       "    </tr>\n",
       "    <tr>\n",
       "      <th>1</th>\n",
       "      <td>40137773</td>\n",
       "      <td>월세</td>\n",
       "      <td>22800</td>\n",
       "      <td>30</td>\n",
       "      <td>26.68</td>\n",
       "      <td>보증보험가능 투룸 망원동</td>\n",
       "      <td>마포구 망원동</td>\n",
       "    </tr>\n",
       "    <tr>\n",
       "      <th>2</th>\n",
       "      <td>40137788</td>\n",
       "      <td>월세</td>\n",
       "      <td>22800</td>\n",
       "      <td>30</td>\n",
       "      <td>26.68</td>\n",
       "      <td>보증보험가능 투룸 망원동</td>\n",
       "      <td>마포구 망원동</td>\n",
       "    </tr>\n",
       "    <tr>\n",
       "      <th>3</th>\n",
       "      <td>39612133</td>\n",
       "      <td>월세</td>\n",
       "      <td>29600</td>\n",
       "      <td>14</td>\n",
       "      <td>29.67</td>\n",
       "      <td>한강변 2년된 신축 보증보험 가입가능한 매물</td>\n",
       "      <td>마포구 망원동</td>\n",
       "    </tr>\n",
       "    <tr>\n",
       "      <th>4</th>\n",
       "      <td>39914755</td>\n",
       "      <td>월세</td>\n",
       "      <td>29600</td>\n",
       "      <td>13</td>\n",
       "      <td>29.67</td>\n",
       "      <td>신축급 강변쪽 2룸 거실 욕1 풀옵션 융자무</td>\n",
       "      <td>마포구 망원동</td>\n",
       "    </tr>\n",
       "    <tr>\n",
       "      <th>...</th>\n",
       "      <td>...</td>\n",
       "      <td>...</td>\n",
       "      <td>...</td>\n",
       "      <td>...</td>\n",
       "      <td>...</td>\n",
       "      <td>...</td>\n",
       "      <td>...</td>\n",
       "    </tr>\n",
       "    <tr>\n",
       "      <th>77</th>\n",
       "      <td>40192841</td>\n",
       "      <td>전세</td>\n",
       "      <td>39600</td>\n",
       "      <td>0</td>\n",
       "      <td>47.10</td>\n",
       "      <td>신축급 컨디션의 3룸</td>\n",
       "      <td>마포구 망원동</td>\n",
       "    </tr>\n",
       "    <tr>\n",
       "      <th>78</th>\n",
       "      <td>40232795</td>\n",
       "      <td>월세</td>\n",
       "      <td>2000</td>\n",
       "      <td>72</td>\n",
       "      <td>39.67</td>\n",
       "      <td>반려동물 가능한 레어 투룸</td>\n",
       "      <td>마포구 망원동</td>\n",
       "    </tr>\n",
       "    <tr>\n",
       "      <th>79</th>\n",
       "      <td>40178585</td>\n",
       "      <td>전세</td>\n",
       "      <td>33000</td>\n",
       "      <td>0</td>\n",
       "      <td>28.14</td>\n",
       "      <td>보증보험 가능한 화이트톤 인테리어 분리형원룸</td>\n",
       "      <td>마포구 망원동</td>\n",
       "    </tr>\n",
       "    <tr>\n",
       "      <th>80</th>\n",
       "      <td>40216392</td>\n",
       "      <td>전세</td>\n",
       "      <td>32800</td>\n",
       "      <td>0</td>\n",
       "      <td>29.61</td>\n",
       "      <td>각종 전세대출, 보증보험 O 화이트톤 투룸</td>\n",
       "      <td>마포구 망원동</td>\n",
       "    </tr>\n",
       "    <tr>\n",
       "      <th>81</th>\n",
       "      <td>40165513</td>\n",
       "      <td>전세</td>\n",
       "      <td>32500</td>\n",
       "      <td>0</td>\n",
       "      <td>29.95</td>\n",
       "      <td>보증보험가능,  역세권\\r\\n실평15,  한강도보,  6호선</td>\n",
       "      <td>마포구 망원동</td>\n",
       "    </tr>\n",
       "  </tbody>\n",
       "</table>\n",
       "<p>82 rows × 7 columns</p>\n",
       "</div>"
      ],
      "text/plain": [
       "     item_id sales_type  deposit  rent  size_m2  \\\n",
       "0   40232488         전세    18900     0    28.69   \n",
       "1   40137773         월세    22800    30    26.68   \n",
       "2   40137788         월세    22800    30    26.68   \n",
       "3   39612133         월세    29600    14    29.67   \n",
       "4   39914755         월세    29600    13    29.67   \n",
       "..       ...        ...      ...   ...      ...   \n",
       "77  40192841         전세    39600     0    47.10   \n",
       "78  40232795         월세     2000    72    39.67   \n",
       "79  40178585         전세    33000     0    28.14   \n",
       "80  40216392         전세    32800     0    29.61   \n",
       "81  40165513         전세    32500     0    29.95   \n",
       "\n",
       "                                title  address  \n",
       "0     반려동물 중기청 LH 버팀목 보증금월세 조정OK 1.5룸  마포구 망원동  \n",
       "1                       보증보험가능 투룸 망원동  마포구 망원동  \n",
       "2                       보증보험가능 투룸 망원동  마포구 망원동  \n",
       "3            한강변 2년된 신축 보증보험 가입가능한 매물  마포구 망원동  \n",
       "4            신축급 강변쪽 2룸 거실 욕1 풀옵션 융자무  마포구 망원동  \n",
       "..                                ...      ...  \n",
       "77                        신축급 컨디션의 3룸  마포구 망원동  \n",
       "78                     반려동물 가능한 레어 투룸  마포구 망원동  \n",
       "79           보증보험 가능한 화이트톤 인테리어 분리형원룸  마포구 망원동  \n",
       "80            각종 전세대출, 보증보험 O 화이트톤 투룸  마포구 망원동  \n",
       "81  보증보험가능,  역세권\\r\\n실평15,  한강도보,  6호선  마포구 망원동  \n",
       "\n",
       "[82 rows x 7 columns]"
      ]
     },
     "execution_count": 79,
     "metadata": {},
     "output_type": "execute_result"
    }
   ],
   "source": [
    "oneroom('망원동')"
   ]
  },
  {
   "cell_type": "code",
   "execution_count": null,
   "id": "97284e47-8330-4b5b-b091-ffaf4a3083ea",
   "metadata": {},
   "outputs": [],
   "source": []
  }
 ],
 "metadata": {
  "colab": {
   "provenance": []
  },
  "kernelspec": {
   "display_name": "Python 3 (ipykernel)",
   "language": "python",
   "name": "python3"
  },
  "language_info": {
   "codemirror_mode": {
    "name": "ipython",
    "version": 3
   },
   "file_extension": ".py",
   "mimetype": "text/x-python",
   "name": "python",
   "nbconvert_exporter": "python",
   "pygments_lexer": "ipython3",
   "version": "3.11.5"
  },
  "toc": {
   "base_numbering": 1,
   "nav_menu": {},
   "number_sections": false,
   "sideBar": true,
   "skip_h1_title": false,
   "title_cell": "Table of Contents",
   "title_sidebar": "Contents",
   "toc_cell": false,
   "toc_position": {},
   "toc_section_display": true,
   "toc_window_display": false
  }
 },
 "nbformat": 4,
 "nbformat_minor": 5
}
