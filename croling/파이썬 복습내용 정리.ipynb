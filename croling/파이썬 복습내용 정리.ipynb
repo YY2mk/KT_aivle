{
 "cells": [
  {
   "cell_type": "code",
   "execution_count": 1,
   "id": "ddb709eb-f2cc-44b5-8b7f-b0e11f47f5ad",
   "metadata": {
    "tags": []
   },
   "outputs": [],
   "source": [
    "# Python Syntax\n",
    "# - CPU, RAM, SSD(HDD) 활용\n",
    "# 1. 변수선언: RAM 사용 식별자 : 메모리 저장 공간 구별하는 문자열 : PEP8(코딩스타일)\n",
    "# 2. 데이터타입 : RAM  효율적 사용 : int, float, bool, str, list, tuple, dict : 동적 타이핑(자동으로 데이터 타입 정해줌)\n",
    "# 3. 연산자 : CUP 사용 : 산술, 비교, 할당, 논리, 멤버...\n",
    "# 4. 조건문, 반복문 : 코드 작성 효율 증가 시켜주는 문법 : if, e;of, e;s, while, for, break, continue\n",
    "# 5. 함수 : 반복되는 코드를 묶어서 코드 작성 실행 : def, return, args, docstring, scope, lamda\n",
    "# 6. 클래스 : 여러개 변수, 함수를 묶어서 코드 작성 실행 : 객체지향 구현\n",
    "# 7. 입출력 : SSD(HDD) 사용 : pickle"
   ]
  }
 ],
 "metadata": {
  "kernelspec": {
   "display_name": "Python 3 (ipykernel)",
   "language": "python",
   "name": "python3"
  },
  "language_info": {
   "codemirror_mode": {
    "name": "ipython",
    "version": 3
   },
   "file_extension": ".py",
   "mimetype": "text/x-python",
   "name": "python",
   "nbconvert_exporter": "python",
   "pygments_lexer": "ipython3",
   "version": "3.11.5"
  }
 },
 "nbformat": 4,
 "nbformat_minor": 5
}
