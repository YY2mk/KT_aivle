{
 "cells": [
  {
   "cell_type": "markdown",
   "id": "democratic-utility",
   "metadata": {
    "id": "democratic-utility"
   },
   "source": [
    "## Zigbang 원룸 매물 데이터 수집"
   ]
  },
  {
   "cell_type": "code",
   "execution_count": 15,
   "id": "minor-irrigation",
   "metadata": {
    "id": "minor-irrigation"
   },
   "outputs": [],
   "source": [
    "import requests, json\n",
    "import pandas as pd"
   ]
  },
  {
   "cell_type": "markdown",
   "id": "whole-answer",
   "metadata": {
    "id": "whole-answer"
   },
   "source": [
    "#### Process\n",
    "    - 동이름으로 위도 경도 구하기\n",
    "    - 위도 경도로 geohash 알아내기\n",
    "    - geohash로 매물 아이디 가져오기\n",
    "    - 매물 아이디로 매물 정보 가져오기"
   ]
  },
  {
   "cell_type": "markdown",
   "id": "b17864a3",
   "metadata": {
    "id": "b17864a3"
   },
   "source": [
    "### 1\\. 동이름으로 위도 경도 구하기"
   ]
  },
  {
   "cell_type": "code",
   "execution_count": 16,
   "id": "8f241ec9-0b60-4dad-9f9c-e2a4b5928c88",
   "metadata": {
    "tags": []
   },
   "outputs": [
    {
     "data": {
      "text/plain": [
       "{'id': 4002,\n",
       " 'type': 'address',\n",
       " 'name': '망원동',\n",
       " 'hint': '',\n",
       " 'description': '서울특별시 마포구 망원동',\n",
       " 'lat': 37.556785583496094,\n",
       " 'lng': 126.9013442993164,\n",
       " 'zoom': 5,\n",
       " 'polygon': [],\n",
       " '_score': None,\n",
       " '_source': {'name_length': 3,\n",
       "  'local1': '서울시',\n",
       "  'local2': '마포구',\n",
       "  'local3': '망원동',\n",
       "  'web_level': 15,\n",
       "  'web_lat': 37.556785583496094,\n",
       "  'web_lng': 126.9013442993164,\n",
       "  'app_level': 15,\n",
       "  'app_lat': 37.556785583496094,\n",
       "  'app_lng': 126.9013442993164,\n",
       "  '법정동코드': '1144012300'},\n",
       " 'zoom_level': {'google': 15, 'daum': 4},\n",
       " 'zoom_level_v2': {'app': 5, 'web': 4}}"
      ]
     },
     "execution_count": 16,
     "metadata": {},
     "output_type": "execute_result"
    }
   ],
   "source": [
    "data"
   ]
  },
  {
   "cell_type": "code",
   "execution_count": 17,
   "id": "e_0LGgefNlrN",
   "metadata": {
    "id": "e_0LGgefNlrN"
   },
   "outputs": [],
   "source": [
    "addr = '망원동'\n",
    "url = f'https://apis.zigbang.com/v2/search?leaseYn=N&q={addr}&serviceType=원룸'\n",
    "\n",
    "response = requests.get(url)\n",
    "data = response.json()['items'][0]\n",
    "\n",
    "#위도 경도\n",
    "lat, lng = data['lat'], data['lng']"
   ]
  },
  {
   "cell_type": "markdown",
   "id": "13114fd8",
   "metadata": {
    "id": "13114fd8"
   },
   "source": [
    "### 2\\. 위도 경도로 geohash 알아내기"
   ]
  },
  {
   "cell_type": "code",
   "execution_count": 18,
   "id": "122284eb",
   "metadata": {
    "id": "122284eb"
   },
   "outputs": [
    {
     "name": "stdout",
     "output_type": "stream",
     "text": [
      "Requirement already satisfied: geohash2 in c:\\users\\user\\anaconda3\\lib\\site-packages (1.1)\n",
      "Requirement already satisfied: docutils>=0.3 in c:\\users\\user\\anaconda3\\lib\\site-packages (from geohash2) (0.18.1)\n"
     ]
    }
   ],
   "source": [
    "# install geohash2\n",
    "!pip install geohash2"
   ]
  },
  {
   "cell_type": "code",
   "execution_count": 19,
   "id": "aware-liquid",
   "metadata": {
    "id": "aware-liquid"
   },
   "outputs": [],
   "source": [
    "import geohash2 # 위도, 경도의 점으로 부터 영역"
   ]
  },
  {
   "cell_type": "code",
   "execution_count": 20,
   "id": "fee17bf6-582b-40d5-8264-2dc7f6b097c3",
   "metadata": {
    "tags": []
   },
   "outputs": [
    {
     "data": {
      "text/plain": [
       "(37.556785583496094, 126.9013442993164)"
      ]
     },
     "execution_count": 20,
     "metadata": {},
     "output_type": "execute_result"
    }
   ],
   "source": [
    "lat, lng "
   ]
  },
  {
   "cell_type": "code",
   "execution_count": 21,
   "id": "AnRA2VaUNnFC",
   "metadata": {
    "id": "AnRA2VaUNnFC"
   },
   "outputs": [
    {
     "data": {
      "text/plain": [
       "'wydjx'"
      ]
     },
     "execution_count": 21,
     "metadata": {},
     "output_type": "execute_result"
    }
   ],
   "source": [
    "# precision : 영역범위 : 커질수록 영역이 작아짐\n",
    "geohash = geohash2.encode(lat, lng, precision=5)\n",
    "geohash"
   ]
  },
  {
   "cell_type": "markdown",
   "id": "6df839b9",
   "metadata": {
    "id": "6df839b9"
   },
   "source": [
    "### 3\\. geohash로 매물 아이디 가져오기"
   ]
  },
  {
   "cell_type": "code",
   "execution_count": 24,
   "id": "MrsBsdbeNn1f",
   "metadata": {
    "id": "MrsBsdbeNn1f"
   },
   "outputs": [
    {
     "data": {
      "text/plain": [
       "<Response [200]>"
      ]
     },
     "execution_count": 24,
     "metadata": {},
     "output_type": "execute_result"
    }
   ],
   "source": [
    "url = f'https://apis.zigbang.com/v2/items/oneroom?\\\n",
    "geohash={geohash}&depositMin=0&rentMin=0&salesTypes[0]=전세&salesTypes[1]=월세\\\n",
    "&domain=zigbang&checkAnyItemWithoutFilter=true'\n",
    "response = requests.get(url)\n",
    "response"
   ]
  },
  {
   "cell_type": "code",
   "execution_count": 25,
   "id": "c1405a1d-82a8-46f3-9477-13c6f4634ac2",
   "metadata": {
    "tags": []
   },
   "outputs": [
    {
     "data": {
      "text/plain": [
       "(677, [40042434, 40058332, 40114131, 40184360, 40177503])"
      ]
     },
     "execution_count": 25,
     "metadata": {},
     "output_type": "execute_result"
    }
   ],
   "source": [
    "items = response.json()['items']\n",
    "ids = [item['itemId'] for item in items]\n",
    "len(ids), ids[:5]"
   ]
  },
  {
   "cell_type": "markdown",
   "id": "37fea52f",
   "metadata": {
    "id": "37fea52f"
   },
   "source": [
    "### 4\\. 매물 아이디로 매물 정보 가져오기"
   ]
  },
  {
   "cell_type": "code",
   "execution_count": 29,
   "id": "OOcvZ6_jNpOq",
   "metadata": {
    "id": "OOcvZ6_jNpOq"
   },
   "outputs": [
    {
     "data": {
      "text/plain": [
       "<Response [200]>"
      ]
     },
     "execution_count": 29,
     "metadata": {},
     "output_type": "execute_result"
    }
   ],
   "source": [
    "url = 'https://apis.zigbang.com/v2/items/list'\n",
    "params = {'domain': \"zigbang\",\n",
    "         'item_ids': ids}\n",
    "\n",
    "response = requests.post(url, params)\n",
    "response"
   ]
  },
  {
   "cell_type": "code",
   "execution_count": 27,
   "id": "33cb679b-28db-472e-a172-8e08d0b3fbbc",
   "metadata": {
    "tags": []
   },
   "outputs": [
    {
     "data": {
      "text/plain": [
       "'{\"items\":[{\"item_id\":40042434,\"section_type\":null,\"images_thumbnail\":\"https://ic.zigbang.com/ic/items/40042434/1.jpg\",\"sales_type\":\"월세\",\"sales_title\":\"월세\",\"deposit\":1000,\"rent\":50,\"size_m2\":22.48,\"공급면적\":{\"m2\":22.48,\"p\":\"6.8\"},\"전용면적\":{\"m2\":22.48,\"p\":\"6.8\"},\"계약면적\":null,\"room_type_title\":null,\"floor\":\"5\",\"floor_string\":\"5\",\"building_floor\":\"9\",\"title\":\"당산역부근 깔끔함 신축급컨디션  일단클릭\",\"is_first_movein\":null,\"room_type\":\"01\",\"status\":true,\"tags\":[\"추천\"],\"service_type\":\"원룸\",\"random_location\":{\"lat\":37.52910393'"
      ]
     },
     "execution_count": 27,
     "metadata": {},
     "output_type": "execute_result"
    }
   ],
   "source": [
    "response.text[:500]"
   ]
  },
  {
   "cell_type": "code",
   "execution_count": 28,
   "id": "a4c9abe3-c768-4247-8bad-91871d6a947a",
   "metadata": {
    "tags": []
   },
   "outputs": [],
   "source": [
    "_data = response.json()['items']"
   ]
  },
  {
   "cell_type": "code",
   "execution_count": 60,
   "id": "a131a08c-09a0-49be-8316-68e0031dc5a1",
   "metadata": {
    "tags": []
   },
   "outputs": [],
   "source": [
    "# 최대 보여 줄 수 있는 컬럼\n",
    "# pd.options.display.max_columns"
   ]
  },
  {
   "cell_type": "code",
   "execution_count": 65,
   "id": "fc8409a3-1ce1-4565-8fd8-dc12e9034720",
   "metadata": {
    "tags": []
   },
   "outputs": [
    {
     "data": {
      "text/html": [
       "<div>\n",
       "<style scoped>\n",
       "    .dataframe tbody tr th:only-of-type {\n",
       "        vertical-align: middle;\n",
       "    }\n",
       "\n",
       "    .dataframe tbody tr th {\n",
       "        vertical-align: top;\n",
       "    }\n",
       "\n",
       "    .dataframe thead th {\n",
       "        text-align: right;\n",
       "    }\n",
       "</style>\n",
       "<table border=\"1\" class=\"dataframe\">\n",
       "  <thead>\n",
       "    <tr style=\"text-align: right;\">\n",
       "      <th></th>\n",
       "      <th>item_id</th>\n",
       "      <th>sales_type</th>\n",
       "      <th>deposit</th>\n",
       "      <th>rent</th>\n",
       "      <th>size_m2</th>\n",
       "      <th>title</th>\n",
       "      <th>address</th>\n",
       "    </tr>\n",
       "  </thead>\n",
       "  <tbody>\n",
       "    <tr>\n",
       "      <th>0</th>\n",
       "      <td>40232488</td>\n",
       "      <td>전세</td>\n",
       "      <td>18900</td>\n",
       "      <td>0</td>\n",
       "      <td>28.69</td>\n",
       "      <td>반려동물 중기청 LH 버팀목 보증금월세 조정OK 1.5룸</td>\n",
       "      <td>마포구 망원동</td>\n",
       "    </tr>\n",
       "    <tr>\n",
       "      <th>1</th>\n",
       "      <td>40137773</td>\n",
       "      <td>월세</td>\n",
       "      <td>22800</td>\n",
       "      <td>30</td>\n",
       "      <td>26.68</td>\n",
       "      <td>보증보험가능 투룸 망원동</td>\n",
       "      <td>마포구 망원동</td>\n",
       "    </tr>\n",
       "    <tr>\n",
       "      <th>2</th>\n",
       "      <td>40137788</td>\n",
       "      <td>월세</td>\n",
       "      <td>22800</td>\n",
       "      <td>30</td>\n",
       "      <td>26.68</td>\n",
       "      <td>보증보험가능 투룸 망원동</td>\n",
       "      <td>마포구 망원동</td>\n",
       "    </tr>\n",
       "    <tr>\n",
       "      <th>3</th>\n",
       "      <td>39612133</td>\n",
       "      <td>월세</td>\n",
       "      <td>29600</td>\n",
       "      <td>14</td>\n",
       "      <td>29.67</td>\n",
       "      <td>한강변 2년된 신축 보증보험 가입가능한 매물</td>\n",
       "      <td>마포구 망원동</td>\n",
       "    </tr>\n",
       "    <tr>\n",
       "      <th>4</th>\n",
       "      <td>39914755</td>\n",
       "      <td>월세</td>\n",
       "      <td>29600</td>\n",
       "      <td>13</td>\n",
       "      <td>29.67</td>\n",
       "      <td>신축급 강변쪽 2룸 거실 욕1 풀옵션 융자무</td>\n",
       "      <td>마포구 망원동</td>\n",
       "    </tr>\n",
       "    <tr>\n",
       "      <th>...</th>\n",
       "      <td>...</td>\n",
       "      <td>...</td>\n",
       "      <td>...</td>\n",
       "      <td>...</td>\n",
       "      <td>...</td>\n",
       "      <td>...</td>\n",
       "      <td>...</td>\n",
       "    </tr>\n",
       "    <tr>\n",
       "      <th>77</th>\n",
       "      <td>40192841</td>\n",
       "      <td>전세</td>\n",
       "      <td>39600</td>\n",
       "      <td>0</td>\n",
       "      <td>47.10</td>\n",
       "      <td>신축급 컨디션의 3룸</td>\n",
       "      <td>마포구 망원동</td>\n",
       "    </tr>\n",
       "    <tr>\n",
       "      <th>78</th>\n",
       "      <td>40232795</td>\n",
       "      <td>월세</td>\n",
       "      <td>2000</td>\n",
       "      <td>72</td>\n",
       "      <td>39.67</td>\n",
       "      <td>반려동물 가능한 레어 투룸</td>\n",
       "      <td>마포구 망원동</td>\n",
       "    </tr>\n",
       "    <tr>\n",
       "      <th>79</th>\n",
       "      <td>40178585</td>\n",
       "      <td>전세</td>\n",
       "      <td>33000</td>\n",
       "      <td>0</td>\n",
       "      <td>28.14</td>\n",
       "      <td>보증보험 가능한 화이트톤 인테리어 분리형원룸</td>\n",
       "      <td>마포구 망원동</td>\n",
       "    </tr>\n",
       "    <tr>\n",
       "      <th>80</th>\n",
       "      <td>40216392</td>\n",
       "      <td>전세</td>\n",
       "      <td>32800</td>\n",
       "      <td>0</td>\n",
       "      <td>29.61</td>\n",
       "      <td>각종 전세대출, 보증보험 O 화이트톤 투룸</td>\n",
       "      <td>마포구 망원동</td>\n",
       "    </tr>\n",
       "    <tr>\n",
       "      <th>81</th>\n",
       "      <td>40165513</td>\n",
       "      <td>전세</td>\n",
       "      <td>32500</td>\n",
       "      <td>0</td>\n",
       "      <td>29.95</td>\n",
       "      <td>보증보험가능,  역세권\\r\\n실평15,  한강도보,  6호선</td>\n",
       "      <td>마포구 망원동</td>\n",
       "    </tr>\n",
       "  </tbody>\n",
       "</table>\n",
       "<p>82 rows × 7 columns</p>\n",
       "</div>"
      ],
      "text/plain": [
       "     item_id sales_type  deposit  rent  size_m2  \\\n",
       "0   40232488         전세    18900     0    28.69   \n",
       "1   40137773         월세    22800    30    26.68   \n",
       "2   40137788         월세    22800    30    26.68   \n",
       "3   39612133         월세    29600    14    29.67   \n",
       "4   39914755         월세    29600    13    29.67   \n",
       "..       ...        ...      ...   ...      ...   \n",
       "77  40192841         전세    39600     0    47.10   \n",
       "78  40232795         월세     2000    72    39.67   \n",
       "79  40178585         전세    33000     0    28.14   \n",
       "80  40216392         전세    32800     0    29.61   \n",
       "81  40165513         전세    32500     0    29.95   \n",
       "\n",
       "                                title  address  \n",
       "0     반려동물 중기청 LH 버팀목 보증금월세 조정OK 1.5룸  마포구 망원동  \n",
       "1                       보증보험가능 투룸 망원동  마포구 망원동  \n",
       "2                       보증보험가능 투룸 망원동  마포구 망원동  \n",
       "3            한강변 2년된 신축 보증보험 가입가능한 매물  마포구 망원동  \n",
       "4            신축급 강변쪽 2룸 거실 욕1 풀옵션 융자무  마포구 망원동  \n",
       "..                                ...      ...  \n",
       "77                        신축급 컨디션의 3룸  마포구 망원동  \n",
       "78                     반려동물 가능한 레어 투룸  마포구 망원동  \n",
       "79           보증보험 가능한 화이트톤 인테리어 분리형원룸  마포구 망원동  \n",
       "80            각종 전세대출, 보증보험 O 화이트톤 투룸  마포구 망원동  \n",
       "81  보증보험가능,  역세권\\r\\n실평15,  한강도보,  6호선  마포구 망원동  \n",
       "\n",
       "[82 rows x 7 columns]"
      ]
     },
     "execution_count": 65,
     "metadata": {},
     "output_type": "execute_result"
    }
   ],
   "source": [
    "jib_data = pd.DataFrame(_data)\n",
    "df = jib_data[jib_data['address1'].str.contains(addr)].reset_index(drop=True)\n",
    "cols = ['item_id', 'sales_type', 'deposit', 'rent', 'size_m2', 'title', 'address']\n",
    "df = df[cols]\n",
    "df"
   ]
  },
  {
   "cell_type": "code",
   "execution_count": 7,
   "id": "e0ec277a-f86c-4a8b-b786-f6bccb0f552f",
   "metadata": {
    "tags": []
   },
   "outputs": [],
   "source": [
    "# 함수 \n",
    "# 패키지"
   ]
  },
  {
   "cell_type": "code",
   "execution_count": 7,
   "id": "88058669-2258-416f-9d35-e69ad33337d9",
   "metadata": {
    "tags": []
   },
   "outputs": [
    {
     "name": "stdout",
     "output_type": "stream",
     "text": [
      "Overwriting zigbang.py\n"
     ]
    }
   ],
   "source": [
    "%%writefile zigbang.py\n",
    "import pandas as pd\n",
    "import requests\n",
    "import geohash2\n",
    "def oneroom(addr):\n",
    "    \n",
    "    url = f'https://apis.zigbang.com/v2/search?leaseYn=N&q={addr}&serviceType=원룸'\n",
    "    response = requests.get(url)\n",
    "    data = response.json()['items'][0]\n",
    "    lat, lng = data['lat'], data['lng']\n",
    "    \n",
    "    geohash = geohash2.encode(lat, lng, precision=5)\n",
    "    \n",
    "    url = f'https://apis.zigbang.com/v2/items/oneroom?\\\n",
    "geohash={geohash}&depositMin=0&rentMin=0&salesTypes[0]=전세&salesTypes[1]=월세\\\n",
    "&domain=zigbang&checkAnyItemWithoutFilter=true'\n",
    "    response = requests.get(url)\n",
    "    items = response.json()['items']\n",
    "    ids = [item['itemId'] for item in items]\n",
    "    \n",
    "    url = 'https://apis.zigbang.com/v2/items/list'\n",
    "    params = {'domain': 'zigbang', 'item_ids': ids[:900]}\n",
    "    response = requests.post(url, params)\n",
    "    items = response.json()['items']\n",
    "    df = pd.DataFrame(items)\n",
    "    df = df[df['address1'].str.contains(addr)].reset_index(drop=True)\n",
    "    columns = ['item_id', 'address1', 'sales_type', 'deposit', 'rent', 'size_m2', 'title', 'manage_cost']\n",
    "    return df[columns]"
   ]
  },
  {
   "cell_type": "code",
   "execution_count": 8,
   "id": "97284e47-8330-4b5b-b091-ffaf4a3083ea",
   "metadata": {
    "tags": []
   },
   "outputs": [
    {
     "name": "stdout",
     "output_type": "stream",
     "text": [
      " C 드라이브의 볼륨에는 이름이 없습니다.\n",
      " 볼륨 일련 번호: FCA9-41A6\n",
      "\n",
      " C:\\Users\\User\\croling 디렉터리\n",
      "\n",
      "03/19/2024  02:19 PM             1,088 zigbang.py\n",
      "               1개 파일               1,088 바이트\n",
      "               0개 디렉터리  158,726,975,488 바이트 남음\n"
     ]
    }
   ],
   "source": [
    "%ls zigbang.py"
   ]
  },
  {
   "cell_type": "code",
   "execution_count": 1,
   "id": "40a28226-559e-497e-bd7d-41478831cc16",
   "metadata": {
    "tags": []
   },
   "outputs": [],
   "source": [
    "import zigbang as zb"
   ]
  },
  {
   "cell_type": "code",
   "execution_count": 6,
   "id": "ce78888a-f545-4327-9ece-f18c7e223494",
   "metadata": {
    "tags": []
   },
   "outputs": [
    {
     "data": {
      "text/html": [
       "<div>\n",
       "<style scoped>\n",
       "    .dataframe tbody tr th:only-of-type {\n",
       "        vertical-align: middle;\n",
       "    }\n",
       "\n",
       "    .dataframe tbody tr th {\n",
       "        vertical-align: top;\n",
       "    }\n",
       "\n",
       "    .dataframe thead th {\n",
       "        text-align: right;\n",
       "    }\n",
       "</style>\n",
       "<table border=\"1\" class=\"dataframe\">\n",
       "  <thead>\n",
       "    <tr style=\"text-align: right;\">\n",
       "      <th></th>\n",
       "      <th>item_id</th>\n",
       "      <th>address1</th>\n",
       "      <th>sales_type</th>\n",
       "      <th>deposit</th>\n",
       "      <th>rent</th>\n",
       "      <th>size_m2</th>\n",
       "      <th>title</th>\n",
       "      <th>manage_cost</th>\n",
       "    </tr>\n",
       "  </thead>\n",
       "  <tbody>\n",
       "    <tr>\n",
       "      <th>0</th>\n",
       "      <td>40115186</td>\n",
       "      <td>서울시 도봉구 도봉동</td>\n",
       "      <td>월세</td>\n",
       "      <td>2000</td>\n",
       "      <td>70</td>\n",
       "      <td>55.29</td>\n",
       "      <td>SW방학역 2층쓰리룸17평 베란다  한층한세대 애완가능</td>\n",
       "      <td>0</td>\n",
       "    </tr>\n",
       "    <tr>\n",
       "      <th>1</th>\n",
       "      <td>40117206</td>\n",
       "      <td>서울시 도봉구 도봉동</td>\n",
       "      <td>전세</td>\n",
       "      <td>18000</td>\n",
       "      <td>0</td>\n",
       "      <td>55.29</td>\n",
       "      <td>SW도봉동쓰리룸전세 대출가능 17평넓음</td>\n",
       "      <td>1</td>\n",
       "    </tr>\n",
       "    <tr>\n",
       "      <th>2</th>\n",
       "      <td>40177745</td>\n",
       "      <td>서울시 도봉구 도봉동</td>\n",
       "      <td>월세</td>\n",
       "      <td>1000</td>\n",
       "      <td>30</td>\n",
       "      <td>23.14</td>\n",
       "      <td>H 1.5룸구조 저렴한 지상층 H</td>\n",
       "      <td>0</td>\n",
       "    </tr>\n",
       "    <tr>\n",
       "      <th>3</th>\n",
       "      <td>40168712</td>\n",
       "      <td>서울시 도봉구 도봉동</td>\n",
       "      <td>월세</td>\n",
       "      <td>1000</td>\n",
       "      <td>70</td>\n",
       "      <td>41.73</td>\n",
       "      <td>반려동물 가능한 리모델링 쓰리룸 주차ok</td>\n",
       "      <td>0</td>\n",
       "    </tr>\n",
       "    <tr>\n",
       "      <th>4</th>\n",
       "      <td>40077791</td>\n",
       "      <td>서울시 도봉구 도봉동</td>\n",
       "      <td>월세</td>\n",
       "      <td>100</td>\n",
       "      <td>32</td>\n",
       "      <td>16.53</td>\n",
       "      <td>SW 도봉역4분 엘베있는 풀옵션원룸 다용도실 주차안됨</td>\n",
       "      <td>6</td>\n",
       "    </tr>\n",
       "    <tr>\n",
       "      <th>5</th>\n",
       "      <td>40112780</td>\n",
       "      <td>서울시 도봉구 도봉동</td>\n",
       "      <td>월세</td>\n",
       "      <td>100</td>\n",
       "      <td>40</td>\n",
       "      <td>23.14</td>\n",
       "      <td>가성비최고 ,깔끔하고풀옵션, 빨리나가는원룸,  엘베유</td>\n",
       "      <td>5</td>\n",
       "    </tr>\n",
       "    <tr>\n",
       "      <th>6</th>\n",
       "      <td>39956830</td>\n",
       "      <td>서울시 도봉구 도봉동</td>\n",
       "      <td>월세</td>\n",
       "      <td>2000</td>\n",
       "      <td>135</td>\n",
       "      <td>46.64</td>\n",
       "      <td>11.합리적가격 대형3룸 즉시입주 보증금조절가능</td>\n",
       "      <td>5</td>\n",
       "    </tr>\n",
       "    <tr>\n",
       "      <th>7</th>\n",
       "      <td>40231715</td>\n",
       "      <td>서울시 도봉구 도봉동</td>\n",
       "      <td>월세</td>\n",
       "      <td>2000</td>\n",
       "      <td>145</td>\n",
       "      <td>46.64</td>\n",
       "      <td>첫입주, 매우 깔끔한 쓰리룸 월세, 보증금조정가능, 주차가</td>\n",
       "      <td>5</td>\n",
       "    </tr>\n",
       "    <tr>\n",
       "      <th>8</th>\n",
       "      <td>40177077</td>\n",
       "      <td>서울시 도봉구 도봉동</td>\n",
       "      <td>월세</td>\n",
       "      <td>4000</td>\n",
       "      <td>60</td>\n",
       "      <td>46.28</td>\n",
       "      <td>도봉역 도보 이용가능한 3룸</td>\n",
       "      <td>2</td>\n",
       "    </tr>\n",
       "    <tr>\n",
       "      <th>9</th>\n",
       "      <td>39829048</td>\n",
       "      <td>서울시 도봉구 도봉동</td>\n",
       "      <td>월세</td>\n",
       "      <td>2300</td>\n",
       "      <td>80</td>\n",
       "      <td>40.25</td>\n",
       "      <td>도봉역 도보2분 도봉산뷰 아파트구조 완벽 풀옵션</td>\n",
       "      <td>7</td>\n",
       "    </tr>\n",
       "    <tr>\n",
       "      <th>10</th>\n",
       "      <td>40181841</td>\n",
       "      <td>서울시 도봉구 도봉동</td>\n",
       "      <td>월세</td>\n",
       "      <td>100</td>\n",
       "      <td>30</td>\n",
       "      <td>19.83</td>\n",
       "      <td>도봉역2분거리 저렴한월세 풀옵션원룸</td>\n",
       "      <td>5</td>\n",
       "    </tr>\n",
       "  </tbody>\n",
       "</table>\n",
       "</div>"
      ],
      "text/plain": [
       "     item_id     address1 sales_type  deposit  rent  size_m2  \\\n",
       "0   40115186  서울시 도봉구 도봉동         월세     2000    70    55.29   \n",
       "1   40117206  서울시 도봉구 도봉동         전세    18000     0    55.29   \n",
       "2   40177745  서울시 도봉구 도봉동         월세     1000    30    23.14   \n",
       "3   40168712  서울시 도봉구 도봉동         월세     1000    70    41.73   \n",
       "4   40077791  서울시 도봉구 도봉동         월세      100    32    16.53   \n",
       "5   40112780  서울시 도봉구 도봉동         월세      100    40    23.14   \n",
       "6   39956830  서울시 도봉구 도봉동         월세     2000   135    46.64   \n",
       "7   40231715  서울시 도봉구 도봉동         월세     2000   145    46.64   \n",
       "8   40177077  서울시 도봉구 도봉동         월세     4000    60    46.28   \n",
       "9   39829048  서울시 도봉구 도봉동         월세     2300    80    40.25   \n",
       "10  40181841  서울시 도봉구 도봉동         월세      100    30    19.83   \n",
       "\n",
       "                               title manage_cost  \n",
       "0     SW방학역 2층쓰리룸17평 베란다  한층한세대 애완가능           0  \n",
       "1              SW도봉동쓰리룸전세 대출가능 17평넓음           1  \n",
       "2                 H 1.5룸구조 저렴한 지상층 H           0  \n",
       "3             반려동물 가능한 리모델링 쓰리룸 주차ok           0  \n",
       "4      SW 도봉역4분 엘베있는 풀옵션원룸 다용도실 주차안됨           6  \n",
       "5      가성비최고 ,깔끔하고풀옵션, 빨리나가는원룸,  엘베유           5  \n",
       "6         11.합리적가격 대형3룸 즉시입주 보증금조절가능           5  \n",
       "7   첫입주, 매우 깔끔한 쓰리룸 월세, 보증금조정가능, 주차가           5  \n",
       "8                    도봉역 도보 이용가능한 3룸           2  \n",
       "9         도봉역 도보2분 도봉산뷰 아파트구조 완벽 풀옵션           7  \n",
       "10               도봉역2분거리 저렴한월세 풀옵션원룸           5  "
      ]
     },
     "execution_count": 6,
     "metadata": {},
     "output_type": "execute_result"
    }
   ],
   "source": [
    "zb.oneroom('도봉동')"
   ]
  },
  {
   "cell_type": "code",
   "execution_count": 5,
   "id": "f0e29624-a60f-411d-a0ed-62dcb8e911d7",
   "metadata": {
    "tags": []
   },
   "outputs": [],
   "source": [
    "# ipython special command # 검색"
   ]
  },
  {
   "cell_type": "code",
   "execution_count": 6,
   "id": "1f99049c-c133-4b43-8aa0-192f83e84a96",
   "metadata": {
    "tags": []
   },
   "outputs": [
    {
     "name": "stdout",
     "output_type": "stream",
     "text": [
      "CPU times: total: 0 ns\n",
      "Wall time: 0 ns\n"
     ]
    }
   ],
   "source": [
    "%%time\n",
    "data1 = 1"
   ]
  },
  {
   "cell_type": "code",
   "execution_count": null,
   "id": "18b5eb37-66a6-445d-a391-3724ce2b20f8",
   "metadata": {},
   "outputs": [],
   "source": []
  }
 ],
 "metadata": {
  "colab": {
   "provenance": []
  },
  "kernelspec": {
   "display_name": "Python 3 (ipykernel)",
   "language": "python",
   "name": "python3"
  },
  "language_info": {
   "codemirror_mode": {
    "name": "ipython",
    "version": 3
   },
   "file_extension": ".py",
   "mimetype": "text/x-python",
   "name": "python",
   "nbconvert_exporter": "python",
   "pygments_lexer": "ipython3",
   "version": "3.11.5"
  },
  "toc": {
   "base_numbering": 1,
   "nav_menu": {},
   "number_sections": false,
   "sideBar": true,
   "skip_h1_title": false,
   "title_cell": "Table of Contents",
   "title_sidebar": "Contents",
   "toc_cell": false,
   "toc_position": {},
   "toc_section_display": true,
   "toc_window_display": false
  }
 },
 "nbformat": 4,
 "nbformat_minor": 5
}
