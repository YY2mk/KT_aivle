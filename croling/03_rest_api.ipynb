{
 "cells": [
  {
   "cell_type": "markdown",
   "metadata": {
    "tags": []
   },
   "source": [
    "# REST API\n",
    "- Representational State Transfer\n",
    "- Client와 Server가 통신하기 위한 URL 구조에 대한 정의 및 디자인"
   ]
  },
  {
   "cell_type": "markdown",
   "metadata": {
    "tags": []
   },
   "source": [
    "## 1\\. Kakao API"
   ]
  },
  {
   "cell_type": "code",
   "execution_count": 7,
   "metadata": {
    "tags": []
   },
   "outputs": [],
   "source": [
    "import pandas as pd\n",
    "import requests\n",
    "import json"
   ]
  },
  {
   "cell_type": "markdown",
   "metadata": {},
   "source": [
    "### 1-1. request token 얻기\n",
    "- `https://developers.kakao.com/`\n",
    "- 내 애플리케이션 > 애플리케이션 추가하기"
   ]
  },
  {
   "cell_type": "code",
   "execution_count": 4,
   "metadata": {},
   "outputs": [],
   "source": [
    "# REST_API_KEY #카카오 # https://developers.kakao.com/\n",
    "REST_API_KEY = '884c61e51fd621797d2d5501a7223173'"
   ]
  },
  {
   "cell_type": "markdown",
   "metadata": {},
   "source": [
    "### 1-2. KoGPT\n",
    "- 문서 > KoGPT > REST API\n",
    "- tokens : 공백을 제외한 글자수"
   ]
  },
  {
   "cell_type": "code",
   "execution_count": 6,
   "metadata": {
    "tags": []
   },
   "outputs": [],
   "source": [
    "# https://developers.kakao.com/docs/latest/ko/kogpt/rest-api #request-request-query "
   ]
  },
  {
   "cell_type": "code",
   "execution_count": 119,
   "metadata": {},
   "outputs": [
    {
     "data": {
      "text/plain": [
       "'오펜하이머였다. 그의 공적으로 노벨 물리학상, 노벨 화학상, 그리고 노벨 문학상까지 최고의 상을 받는다. 생체에서 방사능 물질을 분리하여 수백 배로 희석시키면 살균처리가 되고 수명이 오래 간다는 연구'"
      ]
     },
     "execution_count": 119,
     "metadata": {},
     "output_type": "execute_result"
    }
   ],
   "source": [
    "# 1. document : url, headers, params\n",
    "prompt = '원자폭탄을 발명한 사람은'\n",
    "url = 'https://api.kakaobrain.com/v1/inference/kogpt/generation'\n",
    "params = {'prompt': prompt, 'max_tokens': 50}\n",
    "headers = { 'Content-Type': 'application/json', 'Authorization': f'KakaoAK {REST_API_KEY}'}\n",
    "\n",
    "# 2. request(url, headers, params) - > response(data) : json(str)\n",
    "response = requests.post(url, json.dumps(params), headers=headers)\n",
    "\n",
    "# 3. json(str) : text로 출력\n",
    "response.json()['generations'][0]['text'].strip()"
   ]
  },
  {
   "cell_type": "code",
   "execution_count": 120,
   "metadata": {
    "tags": []
   },
   "outputs": [
    {
     "data": {
      "text/plain": [
       "'{\"id\":\"b08c4c40-973c-4875-9abf-0a9d503ddb1a\",\"generations\":[{\"text\":\" 오펜하이머였다. 그의 공적으로 노벨 물리학상, 노벨 화학상, 그리고 노벨 문학상까지 최고의 상을 받는다. 생체에서 방사능 물질을 분리하여 수백 배로 희석시키면 살균처리가 되고 수명이 오래 간다는 연구\",\"tokens\":50}],\"usage\":{\"prompt_tokens\":7,\"generated_tokens\":50,\"total_tokens\":57}}\\n'"
      ]
     },
     "execution_count": 120,
     "metadata": {},
     "output_type": "execute_result"
    }
   ],
   "source": [
    "# 인터넷 환경에서 영문, 숫자, 특수문자만 사용가능\n",
    "response.text"
   ]
  },
  {
   "cell_type": "code",
   "execution_count": 121,
   "metadata": {
    "tags": []
   },
   "outputs": [
    {
     "data": {
      "text/plain": [
       "'{\"prompt\": \"\\\\uc6d0\\\\uc790\\\\ud3ed\\\\ud0c4\\\\uc744 \\\\ubc1c\\\\uba85\\\\ud55c \\\\uc0ac\\\\ub78c\\\\uc740\", \"max_tokens\": 50}'"
      ]
     },
     "execution_count": 121,
     "metadata": {},
     "output_type": "execute_result"
    }
   ],
   "source": [
    "# 다른 언어는 인코딩해서 데이터 변환\n",
    "json.dumps(params)"
   ]
  },
  {
   "cell_type": "markdown",
   "metadata": {},
   "source": [
    "#### 1. 다음문장 만들기"
   ]
  },
  {
   "cell_type": "code",
   "execution_count": 122,
   "metadata": {},
   "outputs": [
    {
     "data": {
      "text/plain": [
       "<Response [200]>"
      ]
     },
     "execution_count": 122,
     "metadata": {},
     "output_type": "execute_result"
    }
   ],
   "source": [
    "prompt= \"인간처럼 생각하고, 행동하는 '지능'을 통해 인류가 이제까지 풀지 못했던\"\n",
    "\n",
    "response1 = requests.post(url, json.dumps(params), headers=headers)\n",
    "response1"
   ]
  },
  {
   "cell_type": "code",
   "execution_count": 123,
   "metadata": {
    "tags": []
   },
   "outputs": [
    {
     "data": {
      "text/plain": [
       "\"오펜하이머였다. 그는 전쟁을 반대했고, 핵무기를'공포의 예술 · 혁명다음의 3번째 무기!―테러리즘 다음이다! 라는 이유라고 하면서 정부에 모여 달라고 호소한다. 우리들 선행\""
      ]
     },
     "execution_count": 123,
     "metadata": {},
     "output_type": "execute_result"
    }
   ],
   "source": [
    "response1.json()['generations'][0]['text'].strip()"
   ]
  },
  {
   "cell_type": "code",
   "execution_count": 124,
   "metadata": {
    "tags": []
   },
   "outputs": [
    {
     "data": {
      "text/plain": [
       "'{\"id\":\"b08c4c40-973c-4875-9abf-0a9d503ddb1a\",\"generations\":[{\"text\":\" 오펜하이머였다. 그의 공적으로 노벨 물리학상, 노벨 화학상, 그리고 노벨 문학상까지 최고의 상을 받는다. 생체에서 방사능 물질을 분리하여 수백 배로 희석시키면 살균처리가 되고 수명이 오래 간다는 연구\",\"tokens\":50}],\"usage\":{\"prompt_tokens\":7,\"generated_tokens\":50,\"total_tokens\":57}}\\n'"
      ]
     },
     "execution_count": 124,
     "metadata": {},
     "output_type": "execute_result"
    }
   ],
   "source": [
    "response.text[:500]"
   ]
  },
  {
   "cell_type": "code",
   "execution_count": 125,
   "metadata": {
    "tags": []
   },
   "outputs": [],
   "source": [
    "# 함수만들기\n",
    "def kogpt_api(prompt, command='', max_tokens=128, temperature=1, n=1):\n",
    "    headers = {'Authorization': f'KakaoAK {REST_API_KEY}', 'Content-Type': 'application/json'}\n",
    "    params = {'prompt': prompt + command, 'max_tokens': max_tokens, 'temperature': temperature, 'n': n}\n",
    "    response = requests.post(url, json.dumps(params), headers=headers)\n",
    "    results = response.json()\n",
    "    results = results['generations']\n",
    "    return [result['text'] for result in results]"
   ]
  },
  {
   "cell_type": "markdown",
   "metadata": {},
   "source": [
    "#### 2. 문장 분류하기\n",
    "- 문장 마다 `=긍정`, `=부정` 문자열 작성\n",
    "- 분류할 마지막 문장 `=` 문자열 작성"
   ]
  },
  {
   "cell_type": "code",
   "execution_count": 128,
   "metadata": {},
   "outputs": [
    {
     "data": {
      "text/plain": [
       "['긍정']"
      ]
     },
     "execution_count": 128,
     "metadata": {},
     "output_type": "execute_result"
    }
   ],
   "source": [
    "prompt = '''상품 후기를 긍정 또는 부정으로 분류합니다.\n",
    "가격대비좀 부족한게많은듯=부정\n",
    "재구매 친구들이 좋은 향 난다고 해요=긍정\n",
    "ㅠㅠ약간 후회가 됩니다..=부정\n",
    "이전에 먹고 만족해서 재구매합니다=긍정\n",
    "튼튼하고 잘 쓸수 있을 것 같습니다. 이 가격에 이 퀄리티면 훌륭하죠='''\n",
    "results = kogpt_api(prompt, max_tokens=1, temperature=0.4)\n",
    "results"
   ]
  },
  {
   "cell_type": "markdown",
   "metadata": {},
   "source": [
    "#### 3. 뉴스 한 줄 요약하기\n",
    "- 마지막에 `한줄 요약:` 문자열 작성"
   ]
  },
  {
   "cell_type": "code",
   "execution_count": 129,
   "metadata": {},
   "outputs": [
    {
     "data": {
      "text/plain": [
       "[' 5일 IT 업계 및 외신에 의하면 일론 머스크 테슬라 최고경영자가 미국 캘리포니아 주 샌프란시스코에서 인공지능(AI) 모델·서비스 개발사인 오픈AI(OpenAI)를 상대로 영리사업 중단과 AI 기술공개를 요구하는']"
      ]
     },
     "execution_count": 129,
     "metadata": {},
     "output_type": "execute_result"
    }
   ],
   "source": [
    "prompt = '''\n",
    "미국의 생성형 AI(인공지능) 모델·서비스 개발사 오픈AI(OpenAI)를 상대로 제기된 소송이 누적되고 있다. 쟁점 또한 AI 자료 학습부터 오픈소스 공개까지 전선이 전방위로 확산되는 모양새다.\n",
    "5일 IT(정보기술) 업계와 블룸버그 등 외신에 따르면 일론 머스크 테슬라 CEO(최고경영자)는 미국 캘리포니아주 샌프란시스코에서 오픈AI 법인과 창립자 샘 알트먼을 상대로 영리사업 중단과 AI 기술공개를 청구하는 소송을 지난달 29일(현지시간) 제기했다.\n",
    "머스크는 소장에서 오픈AI가 마이크로소프트(MS)와 체결한 수십억달러 규모의 파트너십과 사실상 비공개된 AI 기술정보 등에 비춰 오픈AI가 인류의 이익을 위해 AI 기술을 공개하기로 한 당초 창업 합의를 파기했다고 주장했다. 머스크는 2015년 알트먼 등과 오픈AI를 비영리단체 형태로 공동 설립한 뒤 2018년 이사회에서 물러났다.\n",
    "오픈AI를 둘러싼 법적 분쟁은 지난해 7월 미국 코미디언 겸 작가 사라 실버맨 등이 소송을 제기하면서 부각됐다. 언어모델 훈련 과정에서 창작물이 도용돼 저작권 침해, 저작권 관리정보 삭제에 따른 디지털 밀레니엄 저작권법(DMCA) 위반, 불공정 경쟁 등이 발생했다는 주장이다.\n",
    "다만 법원은 챗GPT로 생성된 결과물과 작가들의 원작물 사이의 유사성이 떨어진다는 이유로 지난달 실버맨 등의 청구를 상당 부분 기각한 채 심리를 진행 중이다. 이 사건과 별개로 '왕좌의 게임' 원작자 조지 R.R. 마틴을 비롯한 미국 작가조합은 지난해 9월 집단소송을 제기한 상태다.\n",
    "지난해 12월에는 미국 신문사 뉴욕타임스가 뉴스 저작권 침해를 주장하며 오픈AI와 오픈AI의 주요 투자자 MS를 상대로 소송을 제기했다. 뉴욕타임스 측은 회사 웹사이트에서 유료로 제공되던 기사 구절이 오픈AI의 서비스 챗GPT에 노출돼 이용자들이 우회적으로 기사를 무료로 읽을 수 있게 됐다고 주장했다. 오픈AI 측은 공개된 기사로 언어 모델을 훈련시켜 저작권법상 '공정이용 원칙'을 위반하지 않았다는 입장이다.\n",
    "업계에선 오픈AI가 지난달 15일 동영상 생성 AI 모델 '소라(Sora)'를 출시한 데 따라 법적 분쟁이 더 복잡해질 것이라는 전망도 나온다. AI 학습과 결과물 생성에 이용되는 데이터의 종류가 기존 언어모델보다 다양하고, 학습된 데이터의 원작자는 저작권을 주장할 여지가 있지만 AI로 결과물을 산출한 주체는 저작권을 주장하기 어려운 탓이다.\n",
    "법무법인 화우 정보보호센터는 지난달 29일 \"데이터를 입력한 주체는 권리침해 등에 대해 책임을 질 가능성이 존재하므로 사전에 입력 데이터에 대한 검수 절차를 마련할 필요가 있다\"고 밝혔다. 또 \"저작권에 관련해선 현행 저작권법과 유관기관은 인간의 창작적 개입이 없는 산출물에 대한 저작권 등록을 불허하므로 사람과 AI 작업의 구별 등 등록기관 가이드와 별도의 입법을 확인할 필요가 있다\"고 덧붙였다.\n",
    "한줄 요약:'''\n",
    "results = kogpt_api(prompt, max_tokens=50, temperature=0.2)\n",
    "results"
   ]
  },
  {
   "cell_type": "markdown",
   "metadata": {
    "tags": []
   },
   "source": [
    "#### 4. 질문에 답변하기\n",
    "- 문장 마지막에 `?:` 로 끝남"
   ]
  },
  {
   "cell_type": "code",
   "execution_count": 130,
   "metadata": {},
   "outputs": [
    {
     "data": {
      "text/plain": [
       "[' 9~10월경']"
      ]
     },
     "execution_count": 130,
     "metadata": {},
     "output_type": "execute_result"
    }
   ],
   "source": [
    "prompt = '''\n",
    "의료 스타트업으로 구성된 원격의료산업협의회가 10월부터 열리는 국정감사 시기에 맞춰 국회와 정부에 비대면 진료법 근거 마련을 \n",
    "촉구하는 정책제안서를 제출한다. 코로나19 사태에 비대면 진료의 한시 허용으로 원격 진료, 의약품 배송 등 서비스가 속속 등장하는 \n",
    "가운데 제도화 논의를 서둘러야 한다는 목소리가 높아질 것으로 전망된다. 코리아스타트업포럼 산하 원격의료산업협의회는 '위드(with) 코로나' \n",
    "방역 체계 전환을 염두에 두고 비대면 진료 제도화 촉구를 위한 공동 대응 작업을 추진하고 있다. 협의회는 닥터나우, 엠디스퀘어, SH바이오, \n",
    "메디버디 등 의료 스타트업 13개사로 구성됐다. 협의회는 국정감사 시기를 겨냥해 국회와 주무 부처인 보건복지부에 비대면 진료의 법적 근거 마련을 \n",
    "촉구할 방침이다. 이를 위해 주요 의원실과 관련 의견을 교환하고 있다. 협의회는 궁극적으로 의료법과 약사법 개정이 필요하지만 의료법 테두리 안에서 \n",
    "시행령 개정 등으로도 비대면 진료 가능성과 대상·의료기관 등을 구체화할 수 있다는 복안이다. 복지부 장관령으로 비대면 진료 기간을 명시하는 방안 \n",
    "등을 통해 사업 리스크도 줄일 수 있다. 올해 안에 국내 방역체계 패러다임이 바뀔 것으로 예상되는 점도 비대면 진료 제도화의 필요성을 높이고 있다. \n",
    "최근 코로나19 백신 접종이 속도를 내면서 방역 당국은 위드 코로나 방역체계 전환을 고려하고 있다. 인구 대비 백신 접종 완료율이 70%가 되는 \n",
    "오는 10월 말에는 전환 논의가 수면 위로 뜰 것으로 보인다.\n",
    "정책제안서를 제출하는 시기는 언제인가?:'''\n",
    "results = kogpt_api(prompt, temperature=0.2)\n",
    "results"
   ]
  },
  {
   "cell_type": "markdown",
   "metadata": {},
   "source": [
    "#### 5. 응용하기"
   ]
  },
  {
   "cell_type": "code",
   "execution_count": 131,
   "metadata": {},
   "outputs": [
    {
     "data": {
      "text/html": [
       "<div>\n",
       "<style scoped>\n",
       "    .dataframe tbody tr th:only-of-type {\n",
       "        vertical-align: middle;\n",
       "    }\n",
       "\n",
       "    .dataframe tbody tr th {\n",
       "        vertical-align: top;\n",
       "    }\n",
       "\n",
       "    .dataframe thead th {\n",
       "        text-align: right;\n",
       "    }\n",
       "</style>\n",
       "<table border=\"1\" class=\"dataframe\">\n",
       "  <thead>\n",
       "    <tr style=\"text-align: right;\">\n",
       "      <th></th>\n",
       "      <th>category</th>\n",
       "      <th>link</th>\n",
       "      <th>title</th>\n",
       "      <th>content</th>\n",
       "    </tr>\n",
       "  </thead>\n",
       "  <tbody>\n",
       "    <tr>\n",
       "      <th>4</th>\n",
       "      <td>104</td>\n",
       "      <td>https://news.naver.com/main/read.nhn?mode=LSD&amp;...</td>\n",
       "      <td>\"코로나 확진자 '0명'인 날은 절대 오지 않는다\" 美전문가</td>\n",
       "      <td>\"주기적 발병…미국서 항상 어느 정도의 확산 있을 것\"\"팬데믹 초기와는 다를 것…백...</td>\n",
       "    </tr>\n",
       "    <tr>\n",
       "      <th>5</th>\n",
       "      <td>104</td>\n",
       "      <td>https://news.naver.com/main/read.nhn?mode=LSD&amp;...</td>\n",
       "      <td>올림픽 다가오는데 도쿄 코로나 확산 빨라져...일주일새 25％↑</td>\n",
       "      <td>올림픽 개막이 다가오는 가운데 개최지 일본 도쿄에서 코로나19 확산 속도가 빨라...</td>\n",
       "    </tr>\n",
       "  </tbody>\n",
       "</table>\n",
       "</div>"
      ],
      "text/plain": [
       "   category                                               link  \\\n",
       "4       104  https://news.naver.com/main/read.nhn?mode=LSD&...   \n",
       "5       104  https://news.naver.com/main/read.nhn?mode=LSD&...   \n",
       "\n",
       "                                 title  \\\n",
       "4    \"코로나 확진자 '0명'인 날은 절대 오지 않는다\" 美전문가   \n",
       "5  올림픽 다가오는데 도쿄 코로나 확산 빨라져...일주일새 25％↑   \n",
       "\n",
       "                                             content  \n",
       "4  \"주기적 발병…미국서 항상 어느 정도의 확산 있을 것\"\"팬데믹 초기와는 다를 것…백...  \n",
       "5    올림픽 개막이 다가오는 가운데 개최지 일본 도쿄에서 코로나19 확산 속도가 빨라...  "
      ]
     },
     "execution_count": 131,
     "metadata": {},
     "output_type": "execute_result"
    }
   ],
   "source": [
    "df = pd.read_excel('covid.xlsx')\n",
    "df.tail(2)"
   ]
  },
  {
   "cell_type": "code",
   "execution_count": 133,
   "metadata": {
    "tags": []
   },
   "outputs": [],
   "source": [
    "summaries = df['content'].apply(kogpt_api, command='한줄요약:', max_tokens=20, temperature=0.5)"
   ]
  },
  {
   "cell_type": "code",
   "execution_count": 134,
   "metadata": {
    "tags": []
   },
   "outputs": [
    {
     "data": {
      "text/html": [
       "<div>\n",
       "<style scoped>\n",
       "    .dataframe tbody tr th:only-of-type {\n",
       "        vertical-align: middle;\n",
       "    }\n",
       "\n",
       "    .dataframe tbody tr th {\n",
       "        vertical-align: top;\n",
       "    }\n",
       "\n",
       "    .dataframe thead th {\n",
       "        text-align: right;\n",
       "    }\n",
       "</style>\n",
       "<table border=\"1\" class=\"dataframe\">\n",
       "  <thead>\n",
       "    <tr style=\"text-align: right;\">\n",
       "      <th></th>\n",
       "      <th>category</th>\n",
       "      <th>link</th>\n",
       "      <th>title</th>\n",
       "      <th>content</th>\n",
       "      <th>summary</th>\n",
       "    </tr>\n",
       "  </thead>\n",
       "  <tbody>\n",
       "    <tr>\n",
       "      <th>4</th>\n",
       "      <td>104</td>\n",
       "      <td>https://news.naver.com/main/read.nhn?mode=LSD&amp;...</td>\n",
       "      <td>\"코로나 확진자 '0명'인 날은 절대 오지 않는다\" 美전문가</td>\n",
       "      <td>\"주기적 발병…미국서 항상 어느 정도의 확산 있을 것\"\"팬데믹 초기와는 다를 것…백...</td>\n",
       "      <td>미국의 현재 상황과 앞으로의 변화를 예측해봄직함니다</td>\n",
       "    </tr>\n",
       "    <tr>\n",
       "      <th>5</th>\n",
       "      <td>104</td>\n",
       "      <td>https://news.naver.com/main/read.nhn?mode=LSD&amp;...</td>\n",
       "      <td>올림픽 다가오는데 도쿄 코로나 확산 빨라져...일주일새 25％↑</td>\n",
       "      <td>올림픽 개막이 다가오는 가운데 개최지 일본 도쿄에서 코로나19 확산 속도가 빨라...</td>\n",
       "      <td>코로나바이러스감염증-19(COVID) 대유행 속에도 계속되는 도쿄 봉쇄</td>\n",
       "    </tr>\n",
       "  </tbody>\n",
       "</table>\n",
       "</div>"
      ],
      "text/plain": [
       "   category                                               link  \\\n",
       "4       104  https://news.naver.com/main/read.nhn?mode=LSD&...   \n",
       "5       104  https://news.naver.com/main/read.nhn?mode=LSD&...   \n",
       "\n",
       "                                 title  \\\n",
       "4    \"코로나 확진자 '0명'인 날은 절대 오지 않는다\" 美전문가   \n",
       "5  올림픽 다가오는데 도쿄 코로나 확산 빨라져...일주일새 25％↑   \n",
       "\n",
       "                                             content  \\\n",
       "4  \"주기적 발병…미국서 항상 어느 정도의 확산 있을 것\"\"팬데믹 초기와는 다를 것…백...   \n",
       "5    올림픽 개막이 다가오는 가운데 개최지 일본 도쿄에서 코로나19 확산 속도가 빨라...   \n",
       "\n",
       "                                   summary  \n",
       "4             미국의 현재 상황과 앞으로의 변화를 예측해봄직함니다  \n",
       "5  코로나바이러스감염증-19(COVID) 대유행 속에도 계속되는 도쿄 봉쇄  "
      ]
     },
     "execution_count": 134,
     "metadata": {},
     "output_type": "execute_result"
    }
   ],
   "source": [
    "summaries = [summary[0] for summary in summaries]\n",
    "df['summary'] = summaries\n",
    "df.tail(2)"
   ]
  },
  {
   "cell_type": "markdown",
   "metadata": {
    "id": "apodUP-CYr3_"
   },
   "source": [
    "## 2\\. Naver API\n",
    "- 통합검색어 트렌드 API\n",
    "    - https://datalab.naver.com/\n",
    "    - https://datalab.naver.com/keyword/trendSearch.naver"
   ]
  },
  {
   "cell_type": "markdown",
   "metadata": {
    "id": "ZEU1PeYTYr4C"
   },
   "source": [
    "### 2-1. Request Token 얻기\n",
    "- `https://developers.naver.com`\n",
    "- 1. Request Token 얻기 : 애플리케이션등록 -> app_key 획득\n",
    "- 2. app_key를 이용해서 데이터 가져오기"
   ]
  },
  {
   "cell_type": "code",
   "execution_count": 101,
   "metadata": {},
   "outputs": [],
   "source": [
    "client_ID = 'FsLBBcP5sy2z_RbPzNu4'\n",
    "client_ID_Secret = '2Ewi9HKdqC'"
   ]
  },
  {
   "cell_type": "markdown",
   "metadata": {
    "id": "gEKpR7ibYr4G"
   },
   "source": [
    "### 2-2. 통합검색어 트렌드 API\n",
    "- 서비스 : `https://datalab.naver.com/keyword/trendSearch.naver`\n",
    "- 내 애플리케이션 > dss 애플리케이션 > API 설정 > 데이터랩(검색어 트렌드) 추가\n",
    "- 사용법 : `https://developers.naver.com/docs/serviceapi/datalab/search/search.md#통합-검색어-트렌드`"
   ]
  },
  {
   "cell_type": "code",
   "execution_count": 137,
   "metadata": {},
   "outputs": [],
   "source": [
    "# 1. document : url, headers, params\n",
    "url = 'https://openapi.naver.com/v1/datalab/search' # 요청 url\n",
    "params = {\n",
    "    'startDate': '2016-01-01',\n",
    "    'endDate': '2024-02-29',\n",
    "    'timeUnit': 'month',\n",
    "    'keywordGroups': [\n",
    "        {'groupName': '트위터', 'keywords': ['트위터', '트윗']},\n",
    "        {'groupName': '페이스북', 'keywords': ['페이스북', '페북']},\n",
    "        {'groupName': '인스타그램', 'keywords': ['인스타그램', '인스타']},]}\n",
    "\n",
    "headers = {'X-Naver-Client-Id': client_ID,\n",
    "           'X-Naver-Client-Secret': client_ID_Secret,\n",
    "           'Content-Type': 'application/json',}"
   ]
  },
  {
   "cell_type": "code",
   "execution_count": 138,
   "metadata": {
    "tags": []
   },
   "outputs": [
    {
     "data": {
      "text/plain": [
       "<Response [200]>"
      ]
     },
     "execution_count": 138,
     "metadata": {},
     "output_type": "execute_result"
    }
   ],
   "source": [
    "# 2. request -> response : json(str)\n",
    "response = requests.post(url, json.dumps(params), headers=headers)\n",
    "response"
   ]
  },
  {
   "cell_type": "code",
   "execution_count": 147,
   "metadata": {
    "tags": []
   },
   "outputs": [
    {
     "data": {
      "text/html": [
       "<div>\n",
       "<style scoped>\n",
       "    .dataframe tbody tr th:only-of-type {\n",
       "        vertical-align: middle;\n",
       "    }\n",
       "\n",
       "    .dataframe tbody tr th {\n",
       "        vertical-align: top;\n",
       "    }\n",
       "\n",
       "    .dataframe thead th {\n",
       "        text-align: right;\n",
       "    }\n",
       "</style>\n",
       "<table border=\"1\" class=\"dataframe\">\n",
       "  <thead>\n",
       "    <tr style=\"text-align: right;\">\n",
       "      <th></th>\n",
       "      <th>period</th>\n",
       "      <th>ratio</th>\n",
       "    </tr>\n",
       "  </thead>\n",
       "  <tbody>\n",
       "    <tr>\n",
       "      <th>0</th>\n",
       "      <td>2016-01-01</td>\n",
       "      <td>4.74268</td>\n",
       "    </tr>\n",
       "    <tr>\n",
       "      <th>1</th>\n",
       "      <td>2016-02-01</td>\n",
       "      <td>4.22699</td>\n",
       "    </tr>\n",
       "    <tr>\n",
       "      <th>2</th>\n",
       "      <td>2016-03-01</td>\n",
       "      <td>4.24914</td>\n",
       "    </tr>\n",
       "    <tr>\n",
       "      <th>3</th>\n",
       "      <td>2016-04-01</td>\n",
       "      <td>4.26156</td>\n",
       "    </tr>\n",
       "    <tr>\n",
       "      <th>4</th>\n",
       "      <td>2016-05-01</td>\n",
       "      <td>4.28851</td>\n",
       "    </tr>\n",
       "    <tr>\n",
       "      <th>...</th>\n",
       "      <td>...</td>\n",
       "      <td>...</td>\n",
       "    </tr>\n",
       "    <tr>\n",
       "      <th>93</th>\n",
       "      <td>2023-10-01</td>\n",
       "      <td>15.76494</td>\n",
       "    </tr>\n",
       "    <tr>\n",
       "      <th>94</th>\n",
       "      <td>2023-11-01</td>\n",
       "      <td>14.93048</td>\n",
       "    </tr>\n",
       "    <tr>\n",
       "      <th>95</th>\n",
       "      <td>2023-12-01</td>\n",
       "      <td>15.03398</td>\n",
       "    </tr>\n",
       "    <tr>\n",
       "      <th>96</th>\n",
       "      <td>2024-01-01</td>\n",
       "      <td>15.55771</td>\n",
       "    </tr>\n",
       "    <tr>\n",
       "      <th>97</th>\n",
       "      <td>2024-02-01</td>\n",
       "      <td>14.89472</td>\n",
       "    </tr>\n",
       "  </tbody>\n",
       "</table>\n",
       "<p>98 rows × 2 columns</p>\n",
       "</div>"
      ],
      "text/plain": [
       "        period     ratio\n",
       "0   2016-01-01   4.74268\n",
       "1   2016-02-01   4.22699\n",
       "2   2016-03-01   4.24914\n",
       "3   2016-04-01   4.26156\n",
       "4   2016-05-01   4.28851\n",
       "..         ...       ...\n",
       "93  2023-10-01  15.76494\n",
       "94  2023-11-01  14.93048\n",
       "95  2023-12-01  15.03398\n",
       "96  2024-01-01  15.55771\n",
       "97  2024-02-01  14.89472\n",
       "\n",
       "[98 rows x 2 columns]"
      ]
     },
     "execution_count": 147,
     "metadata": {},
     "output_type": "execute_result"
    }
   ],
   "source": [
    "# 3. json(str) : DataFrame\n",
    "data1 = response.json()['results'][0]['data']\n",
    "df1 = pd.DataFrame(data1)\n",
    "df1"
   ]
  },
  {
   "cell_type": "code",
   "execution_count": 156,
   "metadata": {
    "tags": []
   },
   "outputs": [],
   "source": [
    "# 3. parsing\n",
    "data = response.json()['results']"
   ]
  },
  {
   "cell_type": "code",
   "execution_count": 160,
   "metadata": {},
   "outputs": [],
   "source": [
    "dfs = []\n",
    "for row in data:\n",
    "    df = pd.DataFrame(row['data'])\n",
    "    df['title'] = row['title'] # 트위터, 페이스북, 인스타그램\n",
    "    dfs.append(df)"
   ]
  },
  {
   "cell_type": "code",
   "execution_count": 162,
   "metadata": {
    "tags": []
   },
   "outputs": [
    {
     "data": {
      "text/html": [
       "<div>\n",
       "<style scoped>\n",
       "    .dataframe tbody tr th:only-of-type {\n",
       "        vertical-align: middle;\n",
       "    }\n",
       "\n",
       "    .dataframe tbody tr th {\n",
       "        vertical-align: top;\n",
       "    }\n",
       "\n",
       "    .dataframe thead th {\n",
       "        text-align: right;\n",
       "    }\n",
       "</style>\n",
       "<table border=\"1\" class=\"dataframe\">\n",
       "  <thead>\n",
       "    <tr style=\"text-align: right;\">\n",
       "      <th></th>\n",
       "      <th>period</th>\n",
       "      <th>ratio</th>\n",
       "      <th>title</th>\n",
       "    </tr>\n",
       "  </thead>\n",
       "  <tbody>\n",
       "    <tr>\n",
       "      <th>292</th>\n",
       "      <td>2024-01-01</td>\n",
       "      <td>14.1662</td>\n",
       "      <td>인스타그램</td>\n",
       "    </tr>\n",
       "    <tr>\n",
       "      <th>293</th>\n",
       "      <td>2024-02-01</td>\n",
       "      <td>13.0055</td>\n",
       "      <td>인스타그램</td>\n",
       "    </tr>\n",
       "  </tbody>\n",
       "</table>\n",
       "</div>"
      ],
      "text/plain": [
       "         period    ratio  title\n",
       "292  2024-01-01  14.1662  인스타그램\n",
       "293  2024-02-01  13.0055  인스타그램"
      ]
     },
     "execution_count": 162,
     "metadata": {},
     "output_type": "execute_result"
    }
   ],
   "source": [
    "result_df = pd.concat(dfs, ignore_index=True)\n",
    "result_df.tail(2)"
   ]
  },
  {
   "cell_type": "code",
   "execution_count": 172,
   "metadata": {
    "tags": []
   },
   "outputs": [
    {
     "data": {
      "text/html": [
       "<div>\n",
       "<style scoped>\n",
       "    .dataframe tbody tr th:only-of-type {\n",
       "        vertical-align: middle;\n",
       "    }\n",
       "\n",
       "    .dataframe tbody tr th {\n",
       "        vertical-align: top;\n",
       "    }\n",
       "\n",
       "    .dataframe thead th {\n",
       "        text-align: right;\n",
       "    }\n",
       "</style>\n",
       "<table border=\"1\" class=\"dataframe\">\n",
       "  <thead>\n",
       "    <tr style=\"text-align: right;\">\n",
       "      <th></th>\n",
       "      <th>instagram</th>\n",
       "      <th>twitter</th>\n",
       "      <th>facebook</th>\n",
       "    </tr>\n",
       "    <tr>\n",
       "      <th>period</th>\n",
       "      <th></th>\n",
       "      <th></th>\n",
       "      <th></th>\n",
       "    </tr>\n",
       "  </thead>\n",
       "  <tbody>\n",
       "    <tr>\n",
       "      <th>2016-01-01</th>\n",
       "      <td>6.32183</td>\n",
       "      <td>4.74268</td>\n",
       "      <td>45.18065</td>\n",
       "    </tr>\n",
       "    <tr>\n",
       "      <th>2016-02-01</th>\n",
       "      <td>6.11002</td>\n",
       "      <td>4.22699</td>\n",
       "      <td>44.15590</td>\n",
       "    </tr>\n",
       "    <tr>\n",
       "      <th>2016-03-01</th>\n",
       "      <td>6.51446</td>\n",
       "      <td>4.24914</td>\n",
       "      <td>46.49444</td>\n",
       "    </tr>\n",
       "    <tr>\n",
       "      <th>2016-04-01</th>\n",
       "      <td>7.61095</td>\n",
       "      <td>4.26156</td>\n",
       "      <td>48.92749</td>\n",
       "    </tr>\n",
       "    <tr>\n",
       "      <th>2016-05-01</th>\n",
       "      <td>8.37437</td>\n",
       "      <td>4.28851</td>\n",
       "      <td>48.88621</td>\n",
       "    </tr>\n",
       "  </tbody>\n",
       "</table>\n",
       "</div>"
      ],
      "text/plain": [
       "            instagram  twitter  facebook\n",
       "period                                  \n",
       "2016-01-01    6.32183  4.74268  45.18065\n",
       "2016-02-01    6.11002  4.22699  44.15590\n",
       "2016-03-01    6.51446  4.24914  46.49444\n",
       "2016-04-01    7.61095  4.26156  48.92749\n",
       "2016-05-01    8.37437  4.28851  48.88621"
      ]
     },
     "execution_count": 172,
     "metadata": {},
     "output_type": "execute_result"
    }
   ],
   "source": [
    "pivot_df = result_df.pivot(index='period', columns='title', values='ratio')\n",
    "pivot_df.reset_index(drop=False, inplace=True)\n",
    "pivot_df.columns = ['instagram', 'twitter', 'facebook']\n",
    "pivot_df.head()"
   ]
  },
  {
   "cell_type": "code",
   "execution_count": 174,
   "metadata": {
    "tags": []
   },
   "outputs": [],
   "source": [
    "# 4. 시각화\n",
    "%matplotlib inline\n",
    "%config InlineBackend.figure_formats = {'png', 'retina'}\n",
    "import matplotlib.pyplot as plt"
   ]
  },
  {
   "cell_type": "code",
   "execution_count": 175,
   "metadata": {
    "tags": []
   },
   "outputs": [
    {
     "data": {
      "image/png": "[encoded data removed]",
      "text/plain": [
       "<Figure size 2000x500 with 1 Axes>"
      ]
     },
     "metadata": {
      "image/png": {
       "height": 448,
       "width": 1606
      }
     },
     "output_type": "display_data"
    }
   ],
   "source": [
    "pivot_df.plot(figsize=(20, 5))\n",
    "plt.legend(loc=0)\n",
    "plt.show()"
   ]
  },
  {
   "cell_type": "code",
   "execution_count": null,
   "metadata": {},
   "outputs": [],
   "source": []
  }
 ],
 "metadata": {
  "colab": {
   "provenance": []
  },
  "kernelspec": {
   "display_name": "Python 3 (ipykernel)",
   "language": "python",
   "name": "python3"
  },
  "language_info": {
   "codemirror_mode": {
    "name": "ipython",
    "version": 3
   },
   "file_extension": ".py",
   "mimetype": "text/x-python",
   "name": "python",
   "nbconvert_exporter": "python",
   "pygments_lexer": "ipython3",
   "version": "3.11.5"
  },
  "toc": {
   "base_numbering": 1,
   "nav_menu": {},
   "number_sections": false,
   "sideBar": true,
   "skip_h1_title": false,
   "title_cell": "Table of Contents",
   "title_sidebar": "Contents",
   "toc_cell": false,
   "toc_position": {},
   "toc_section_display": true,
   "toc_window_display": false
  }
 },
 "nbformat": 4,
 "nbformat_minor": 4
}
