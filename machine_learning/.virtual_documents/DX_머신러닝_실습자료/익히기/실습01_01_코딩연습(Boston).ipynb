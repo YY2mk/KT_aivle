














# 라이브러리 불러오기
import numpy as np
import pandas as pd
import matplotlib.pyplot as plt
import seaborn as sns
import warnings

warnings.filterwarnings(action='ignore')
%config InlineBackend.figure_format = 'retina'


# 데이터 읽어오기
path = 'https://raw.githubusercontent.com/Jangrae/csv/master/boston.csv'
data = pd.read_csv(path)








# 상위 몇 개 행 확인
data.head()





# 하위 몇 개 행 확인
data.tail()


# 변수 확인
data.info()


# 기술통계 확인
data.describe().T


# 상관관계 확인
data.corr()











# target 확인
target ='medv'
#d = 
# 데이터 분리
x = data.drop(target, axis=1)
y = data.loc[:, target]





# 모듈 불러오기
from sklearn.model_selection import train_test_split

# 7:3으로 분리
x_train, x_test, y_train, y_test = train_test_split(x, y, test_size=0.3, random_state=3)











# 1단계: 불러오기
from sklearn.linear_model import LinearRegression
from sklearn.metrics import mean_absolute_error 


# 2단계: 선언하기
model = LinearRegression()


# 3단계: 학습하기
model.fit(x_train, y_train)


# 4단계: 예측하기
y_pred = model.predict(x_test)


# 5단계: 평가하기
print('MAE', mean_absolute_error(y_test, y_pred))


print(y_test.values[:10])
print(y_pred[:10])


mean_medv = y_train.mean()
y_base= np.array([mean_medv] * len(y_test))








# 예측값과 실젯값 시각화 비교
plt.figure(figsize=(10, 5))
plt.plot(y_test.values, label='myModel')
plt.plot(y_pred, label='Learn')
plt.plot(y_base, label='base')
plt.legend
plt.show()



