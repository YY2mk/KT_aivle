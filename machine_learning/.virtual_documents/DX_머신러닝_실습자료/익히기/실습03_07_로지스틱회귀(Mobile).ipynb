











# 라이브러리 불러오기
import numpy as np
import pandas as pd
import matplotlib.pyplot as plt
import seaborn as sns
import warnings

warnings.filterwarnings(action='ignore')
%config InlineBackend.figure_format='retina'


# 데이터 읽어오기
path = 'https://raw.githubusercontent.com/jangrae/csv/master/mobile_cust_churn.csv'
data = pd.read_csv(path)





# 상위 몇 개 행 확인
data.head()





# 변수 확인
data.info()


# 기술통계 확인
data.describe()


# target 값 개수 확인
data['CHURN'].value_counts()


# 상관관계 확인
data.corr(numeric_only=True)








# 제거 대상: id
drop_cols = ['id']

# 변수 제거
data = data.drop(drop_cols, axis=1)

# 확인
data





# Target 설정
target = 'CHURN'

# 데이터 분리
x = data.drop(target, axis=1)
y = data.loc[:, target]





# 가변수화 대상: REPORTED_SATISFACTION, REPORTED_USAGE_LEVEL, CONSIDERING_CHANGE_OF_PLAN
dumm_cols = ['REPORTED_SATISFACTION', 'REPORTED_USAGE_LEVEL', 'CONSIDERING_CHANGE_OF_PLAN']

# 가변수화
x = pd.get_dummies(x, columns=dumm_cols, drop_first=True, dtype=int)

# 확인
data





# 모듈 불러오기
from sklearn.model_selection import train_test_split

# 7:3으로 분리
x_train, x_test, y_train, y_test = train_test_split(x, y, test_size=0.3, random_state=1)





# 1단계: 불러오기
from sklearn.linear_model import LogisticRegression
from sklearn.metrics import confusion_matrix, classification_report


# 2단계: 선언하기
model = LogisticRegression()


# 3단계: 학습하기
model.fit(x_train, y_train)


# 4단계: 예측하기
y_pred = model.predict(x_test)


# 5단계: 평가하기
print(confusion_matrix(y_test, y_pred))
print(classification_report(y_test, y_pred))


#  예측 확률
p = model.predict_proba(x_test)
p = p[:,[1]]

# 임계값 : 0.4
y_pred2 = ['STAY' if x > 0.4 else 'LEAVE' for x in p] # 0.4보다 크면 1 아니면 0

# 성능 평가
print(classification_report(y_test, y_pred2))



