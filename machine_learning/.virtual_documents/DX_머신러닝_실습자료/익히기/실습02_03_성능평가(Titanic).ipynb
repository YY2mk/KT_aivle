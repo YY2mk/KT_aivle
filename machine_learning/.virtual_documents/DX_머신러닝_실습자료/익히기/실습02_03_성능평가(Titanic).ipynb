














# 라이브러리 불러오기
import numpy as np
import pandas as pd
import matplotlib.pyplot as plt
import seaborn as sns
import warnings

warnings.filterwarnings(action='ignore')
%config InlineBackend.figure_format = 'retina'


# 데이터 읽어오기
path = 'https://raw.githubusercontent.com/Jangrae/csv/master/titanic.csv'
data = pd.read_csv(path)








# 상/하위 몇 개 행 확인
data.head()


# 하위 몇 개 행 확인
data.tail()


# 변수 확인
data.info()


# 기술통계 확인
data.describe()


# 상관관계 확인
data.corr(numeric_only=True)











# 제거 대상: PassengerId, Name, Ticket, Cabin
drop_cols = ['PassengerId', 'Name', 'Ticket', 'Cabin']
data = data.drop(drop_cols, axis=1)

# 확인
data.head()





data.isna().sum()


# Pclass별 Age의 중앙값
P_age = data.groupby(by='Pclass', as_index=False)['Age'].transform('median')


P_age


# Age 결측치를 중앙값으로 채우기
data['Age'].fillna(P_age, inplace=True)


# 최빈값
data['Embarked'].mode()[0]


# Embarked 최빈값 'S'로 채우기
data['Embarked'].fillna(data['Embarked'].mode()[0], inplace=True)


data.isna().sum()





# target 확인
target = 'Survived'

# 데이터 분리
x = data.drop(target, axis=1)
y = data.loc[:, target]





# 가변수화 대상: Pclass, Sex, Embarked
dumm_cols = ['Pclass', 'Sex', 'Embarked']


# 가변수화
x = pd.get_dummies(data, columns=dumm_cols, drop_first=True, dtype=int)

#  확인
x.head()


x.info()





# 모듈 불러오기
from sklearn.model_selection import train_test_split

# 7:3으로 분리
x_train, x_test, y_train, y_test = train_test_split(x, y, test_size=0.3, random_state=1)











# 1단계: 불러오기
from sklearn.neighbors import KNeighborsClassifier


# 2단계: 선언하기
model = KNeighborsClassifier()


# 3단계: 학습하기
model.fit(x_train, y_train)


# 4단계: 예측하기
y_pred = model.predict(x_test)








# 모듈 불러오기
from sklearn.metrics import confusion_matrix

# 성능 평가
print('Confusion Matrix:', confusion_matrix(y_test, y_pred))


# 혼동행렬 시각화
sns.heatmap(confusion_matrix(y_test, y_pred), annot=True, cbar=False)
plt.show()





# 모듈 불러오기
from sklearn.metrics import accuracy_score

# 성능 평가
print('Accuracy:', accuracy_score(y_test, y_pred))





# 모듈 불러오기
from sklearn.metrics import precision_score

# 성능 평가
print('Precision:', precision_score(y_test, y_pred, average=None))





# 모듈 불러오기
from sklearn.metrics import recall_score

# 성능 평가
print('Recall:', recall_score(y_test, y_pred, average=None))





# 모듈 불러오기
from sklearn.metrics import f1_score

# 성능 평가
print('F1:', f1_score(y_test, y_pred, average=None))





# 모듈 불러오기
from sklearn.metrics import classification_report

# 성능 평가
print('Classification Report:', classification_report(y_test, y_pred))


# 참조
print('학습성능', model.score(x_train, y_train))
print('평가성능', model.score(x_test y_test))



