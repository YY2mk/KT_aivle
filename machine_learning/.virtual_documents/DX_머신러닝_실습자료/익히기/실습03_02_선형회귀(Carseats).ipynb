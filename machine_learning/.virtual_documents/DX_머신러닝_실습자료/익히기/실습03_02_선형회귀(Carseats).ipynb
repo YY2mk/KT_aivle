











# 라이브러리 불러오기
import numpy as np
import pandas as pd
import matplotlib.pyplot as plt
import seaborn as sns
import warnings

warnings.filterwarnings(action='ignore')
%config InlineBackend.figure_format='retina'


# 데이터 읽어오기
path = 'https://raw.githubusercontent.com/Jangrae/csv/master/Carseats.csv'
data = pd.read_csv(path)





# 상위 몇 개 행 확인
data.head()





# 기술통계 확인
data.describe()


# NaN 값 확인
data.isnull().sum()


# 상관관계 확인
data.corr(numeric_only=True)








# target 확인
target = 'Sales'

# 데이터 분리
x = data.drop(target, axis=1)
y = data.loc[:, target]





# 가변수화 대상: ShelveLoc, Education, Urban, US
dumm_cols = ['ShelveLoc', 'Education', 'Urban', 'US']
# 가변수화
x = pd.get_dummies(x, columns=dumm_cols, drop_first=True, dtype=int)

# 확인
x.head()





# 모듈 불러오기
from sklearn.model_selection import train_test_split

# 데이터 분리
x_train, x_test, y_train, y_test = train_test_split(x, y, test_size=0.3, random_state=1)





# 1단계: 불러오기
from sklearn.linear_model import LinearRegression
from sklearn.metrics import mean_absolute_error, r2_score


# 2단계: 선언하기
model = LinearRegression()


# 3단계: 학습하기
model.fit(x_train, y_train)


# 4단계: 예측하기
y_pred = model.predict(x_test)


# 5단계: 평가하기
print('MAE:', mean_absolute_error(y_test, y_pred))
print('R2:', r2_score(y_test, y_pred))


# 회귀계수 확인
print(list(x))
print(model.coef_)
print(model.intercept_)


df = pd.DataFrame()
df['feature'] = list(x)
df['coef'] = model.coef_
df.head()


# 정렬
df.sort_values(by='coef', ascending=True, inplace=True)

# 시각화
plt.figure(figsize=(5, 5))
plt.barh('feature', 'coef', data=df) # 가중치 시각화
plt.show()





# 예측값, 실젯값 시각화
# 시각화
plt.figure(figsize=(12, 5))
plt.plot(y_test.values, label='Actual')
plt.plot(y_pred, label='Predicted')
plt.legend()
plt.ylabel('sales')
plt.show()



