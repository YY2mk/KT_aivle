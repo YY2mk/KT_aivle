

















# 라이브러리 불러오기
import numpy as np
import pandas as pd
import matplotlib.pyplot as plt
import seaborn as sns
import warnings

warnings.filterwarnings(action='ignore')
%config InlineBackend.figure_format = 'retina'


# 데이터 읽어오기
path = 'https://raw.githubusercontent.com/Jangrae/csv/master/iris.csv'
data = pd.read_csv(path)








# 상위 몇 개 행 확인
data.head()





# 하위 몇 개 행 확인
data.tail()


# 변수 확인
data.info()


# 기술통계 확인
data.describe().T


# 상관관계 확인
data.corr(numeric_only=True)


# 상관관계 시각화
plt.figure(figsize=(10, 7))
sns.heatmap(data.corr(numeric_only=True), annot=True, cbar=False)
plt.show()











# target 확인
target = 'Species'

# 데이터 분리
x = data.drop(target, axis=1)
y = data.loc[:, target]





# 모듈 불러오기
from sklearn.model_selection import train_test_split

# 7:3으로 분리
x_train, x_test, y_train, y_test = train_test_split(x, y, test_size=0.3, random_state=1)











# 1단계: 불러오기 # sklearn 은 target(종속변수)은 문자열 허용 feature(독립변수)는 안됌
from sklearn.tree import DecisionTreeClassifier # 의사 결정 나무
from sklearn.metrics import accuracy_score


# 2단계: 선언하기
model = DecisionTreeClassifier()


# 3단계: 학습하기
model.fit(x_train, y_train)


# 4단계: 예측하기
y_pred = model.predict(x_test)


print(y_test.values[:10])
print(y_pred[:10])


# 5단계 평가하기
print('accuracy_score:', accuracy_score(y_test, y_pred))


y_train.mode()


sns.countplot(x=data['Species'])
plt.show()


y_train.value_counts()



