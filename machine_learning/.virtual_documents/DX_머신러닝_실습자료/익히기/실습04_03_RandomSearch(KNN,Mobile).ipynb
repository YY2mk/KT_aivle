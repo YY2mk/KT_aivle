











# 라이브러리 불러오기
import numpy as np
import pandas as pd
import matplotlib.pyplot as plt
import seaborn as sns
import warnings

warnings.filterwarnings(action='ignore')
%config InlineBackend.figure_format='retina'


# 데이터 읽어오기
path = 'https://raw.githubusercontent.com/jangrae/csv/master/mobile.csv'
data = pd.read_csv(path)





# 상위 몇 개 행 확인
data.head()


# 기술통계 확인
data.describe()








# 제거 대상: id
drop_cols = ['id']

# 변수 제거
data = data.drop(drop_cols, axis=1)

# 확인
data





# Target 설정
target = 'CHURN'

# 데이터 분리
x = data.drop(target, axis=1)
y = data.loc[:, target]





# 가변수화 대상: REPORTED_SATISFACTION, REPORTED_USAGE_LEVEL, CONSIDERING_CHANGE_OF_PLAN
dumm_cols = ['REPORTED_SATISFACTION', 'REPORTED_USAGE_LEVEL', 'CONSIDERING_CHANGE_OF_PLAN']

# 가변수화
x = pd.get_dummies(x, columns=dumm_cols, drop_first=True, dtype=int)

# 확인
x





# 모듈 불러오기
from sklearn.model_selection import train_test_split

# 7:3으로 분리
x_train, x_test, y_train, y_test = train_test_split(x, y, test_size=0.3, random_state=1)





# 모듈 불러오기
from sklearn.preprocessing import MinMaxScaler

# 정규화
scaler = MinMaxScaler()
scaler.fit(x_train)
x_train_s = scaler.transform(x_train)
x_tetst_s = scaler.transform(x_test)





# 불러오기
from sklearn.neighbors import KNeighborsClassifier
from sklearn.model_selection import cross_val_score, RandomizedSearchCV
from sklearn.metrics import *


# 선언하기
model = KNeighborsClassifier()


# 성능예측
cv_score = cross_val_score(model, x_train_s, y_train, cv=10)


# 결과확인
print(cv_score.mean())








# 파라미터 선언
  # n_neighbors: range(3, 21)
param = {'n_neighbors': range(3, 21)}

# Random Search 선언
  # cv=5
  # n_iter=10
  # scoring='accuracy'
model = RandomizedSearchCV(KNeighborsClassifier(),
                           param,
                           cv=5,
                           n_iter=10,
                           scoring='accuracy'
                          )




# 학습하기
model.fit(x_train_s, y_train)





# mean_test_score 확인
print(model.cv_results_['mean_test_score'])


# 최적 파라미터
model.best_params_


# 최고 성능
model.best_score_





# 예측하기
x_test = x_test.values
y_pred = model.predict(x_test)


# 평가하기
print('MAE:', mean_absolute_error(y_test, y_pred))
print('R2-Score:', r2_score(y_test, y_pred))



