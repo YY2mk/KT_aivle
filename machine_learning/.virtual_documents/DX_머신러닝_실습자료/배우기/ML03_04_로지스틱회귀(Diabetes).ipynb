











# 라이브러리 불러오기
import numpy as np
import pandas as pd
import matplotlib.pyplot as plt
import seaborn as sns
import warnings

warnings.filterwarnings(action='ignore')
%config InlineBackend.figure_format='retina'


# 데이터 읽어오기
path = 'https://raw.githubusercontent.com/jangrae/csv/master/diabetes.csv'
data = pd.read_csv(path)





# 상위 몇 개 행 확인
data.head()


# 기술통계 확인
data.describe()


# 범주값 개수 확인
data['Outcome'].value_counts()


# 상관관계 확인
data.corr(numeric_only=True)








# target 확인
target = 'Outcome'

# 데이터 분리
x = data.drop(target, axis=1)
y = data.loc[:, target]





# 모듈 불러오기
from sklearn.model_selection import train_test_split

# 7:3으로 분리
x_train, x_test, y_train, y_test = train_test_split(x, y, test_size=0.3, random_state=1)





# 1단계: 불러오기
from sklearn.linear_model import LogisticRegression
from sklearn.metrics import confusion_matrix, classification_report


# 2단계: 선언하기
model = LogisticRegression()


# 3단계: 학습하기
model.fit(x_train,y_train)


# 4단계: 예측하기
y_pred = model.predict(x_test)


# 5단계 평가하기
print(confusion_matrix(y_test, y_pred))
print(classification_report(y_test, y_pred))


# 예측값
y_pred[10:20]


# 예측 확률
p = model.predict_proba(x_test)
p[10:20]
       # 0 확률      # 1확률


p1 = p[:,[1]]
p1[10:20]





# 임계값 : 0.4
y_pred2 = [1 if x > 0.4 else 0 for x in p1] # 0.5보다 크면 1 아니면 0

# 성능 평가
print(classification_report(y_test, y_pred))



