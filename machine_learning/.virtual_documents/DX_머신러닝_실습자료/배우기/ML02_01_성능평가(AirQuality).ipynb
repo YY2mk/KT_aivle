














# 라이브러리 불러오기
import numpy as np
import pandas as pd
import matplotlib.pyplot as plt
import seaborn as sns
import warnings

warnings.filterwarnings(action='ignore')
%config InlineBackend.figure_format = 'retina'


# 데이터 읽어오기
path = 'https://raw.githubusercontent.com/Jangrae/csv/master/airquality_simple.csv'
data = pd.read_csv(path)








# 상위 몇 개 행 확인
data.head()


# 하위 몇 개 행 확인
data.tail()


# 변수 확인
data.info()


# 기술통계 확인
data.describe()


# 상관관계 확인
data.corr(numeric_only=True)











# 결측치 확인
data.isnull().sum()


# 전날 값으로 결측치 채우기
data.fillna(method='ffill', inplace=True)

# 확인
data.isnull().sum()





# 변수 제거
drop_cols = ['Month', 'Day']
data.drop(drop_cols, axis=1, inplace=True)

# 확인
data.head()





# target 확인
target = 'Ozone'

# 데이터 분리
x = data.drop(target, axis=1)
y = data.loc[:, target]





# 모듈 불러오기
from sklearn.model_selection import train_test_split

# 7:3으로 분리
x_train, x_test, y_train, y_test = train_test_split(x, y, test_size=0.3, random_state=1)











# 1단계: 불러오기
from sklearn.linear_model import LinearRegression


# 2단계: 선언하기
model = LinearRegression()


# 3단계: 학습하기
model.fit(x_train, y_train)


# 4단계: 예측하기
y_pred = model.predict(x_test)








# 모듈 불러오기
from sklearn.metrics import mean_absolute_error

# 성능 평가
print('MAE:',mean_absolute_error(y_test, y_pred)) # 평균 절대 오차





# 모듈 불러오기
from sklearn.metrics import mean_squared_error

# 성능 평가
print('MSE:',mean_squared_error(y_test, y_pred)) # 오차제곱 합 평균





# 모듈 불러오기
from sklearn.metrics import mean_squared_error

# 성능 평가
print('RMSE:', mean_squared_error(y_test, y_pred) ** 0.5) # 루트 0.5 제곱





# 모듈 불러오기
from sklearn.metrics import mean_squared_error

# 성능 평가
print('RMSE:', mean_squared_error(y_test, y_pred, squared=False)) 





# 모듈 불러오기
from sklearn.metrics import mean_absolute_percentage_error

# 성능 평가
print('MAPE:', mean_absolute_percentage_error(y_test, y_pred)) # 오차의 비율





# 모듈 불러오기
from sklearn.metrics import r2_score

# 성능 평가
print('R2:', r2_score(y_test, y_pred)) # 57% 설명을 더 잘 하고 있다 





# 참고
model.score(x_test, y_test)





# 학습 데이터에 대한 예측
y_train_pred = model.predict(x_train)

# 학습 성능 확인
print('R2:', r2_score(y_train, y_train_pred)) #학습 성능과 평가 성능이 비슷 과적합은 아님


print('학습성능:', model.score(x_train, y_train))
print('평가성능:', model.score(x_test, y_test))



