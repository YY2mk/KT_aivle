














# 라이브러리 불러오기
import numpy as np
import pandas as pd
import matplotlib.pyplot as plt
import seaborn as sns
import warnings

warnings.filterwarnings(action='ignore')
%config InlineBackend.figure_format = 'retina'


# 데이터 읽어오기
path = 'https://raw.githubusercontent.com/Jangrae/csv/master/admission_simple.csv'
data = pd.read_csv(path)








# 상/하위 몇 개 행 확인
data.head()


# 하위 몇 개 행 확인
data.tail()


# 변수 확인
data.info()


# 기술통계 확인
data.describe()


# 상관관계 확인
data.corr(numeric_only=True)











# target 확인
target = 'ADMIT'

# 데이터 분리
x = data.drop(target, axis=1)
y = data.loc[:, target]





# 모듈 불러오기
from sklearn.model_selection import train_test_split

# 7:3으로 분리
x_train, x_test, y_train, y_test = train_test_split(x, y, test_size=0.3, random_state=1)











# 1단계: 불러오기
from sklearn.neighbors import KNeighborsClassifier


# 2단계: 선언하기
model = KNeighborsClassifier()


# 3단계: 학습하기
model.fit(x_train, y_train)


# 4단계: 예측하기
y_pred = model.predict(x_test)








# 모듈 불러오기
from sklearn.metrics import confusion_matrix

# 성능 평가
print("CM:", confusion_matrix(y_test, y_pred)) # TN, FP, FN, TP


# 혼동행렬 시각화
plt.figure(figsize=(5, 2))
sns.heatmap(confusion_matrix(y_test, y_pred), annot=True, cbar=False,
           cmap='Blues')
plt.show()





# 모듈 불러오기
from sklearn.metrics import accuracy_score

# 성능 평가
print('Accuracy:', accuracy_score(y_test, y_pred)) # 정확도





# 모듈 불러오기
from sklearn.metrics import precision_score

# 성능 평가
print('Precision', precision_score(y_test, y_pred)) # 정밀도
print('Precision', precision_score(y_test, y_pred, average=None)) # 0의정밀도, 1정밀도 #특이도 # 이걸 권고
print('Precision', precision_score(y_test, y_pred, average='macro'))
print('Precision', precision_score(y_test, y_pred, average='weighted'))





# 모듈 불러오기
from sklearn.metrics import recall_score

# 성능 평가
print('Recall:', recall_score(y_test, y_pred, average=None)) # 재현도





# 모듈 불러오기
from sklearn.metrics import f1_score

# 성능 평가
print("F1:", f1_score(y_test, y_pred, average=None)) # 정밀도와 재현율의 조화 평균





# 모듈 불러오기
from sklearn.metrics import classification_report

# 성능 평가
print(classification_report(y_test, y_pred))


# 참고
print('학습성능:', model.score(x_train, y_train))
print('평가성능:', model.score(x_test, y_test))



