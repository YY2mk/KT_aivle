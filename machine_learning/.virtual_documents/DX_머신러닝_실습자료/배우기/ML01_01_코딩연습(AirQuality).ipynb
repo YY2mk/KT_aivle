














# 라이브러리 불러오기
import numpy as np
import pandas as pd
import matplotlib.pyplot as plt
import seaborn as sns
import warnings

warnings.filterwarnings(action='ignore') # 경고 무시
%config InlineBackend.figure_format = 'retina'


# 데이터 읽어오기
path = 'https://raw.githubusercontent.com/Jangrae/csv/master/airquality_simple.csv'
data = pd.read_csv(path)








# 상위 몇 개 행 확인
data.head()


# 하위 몇 개 행 확인
data.tail()


# 변수 확인
data.info()


# 기술통계 확인
data.describe().T


# 상관관계 확인 # 숫자만
data.corr(numeric_only=True)


# 상관관계 시각화
plt.figure(figsize=(6, 3))
sns.heatmap(data.corr(numeric_only=True), annot=True, cbar=False, fmt='.3f', square=True, cmap='Blues', annot_kws={'size':8})
plt.show()











# 결측치 확인
data.isna().sum()


# 전날 값으로 결측치 채우기
data.fillna(method='ffill', inplace=True)

# 확인
data.isna().sum()





# 변수 제거
drop_cols = ['Month', 'Day']
data.drop(drop_cols, axis=1, inplace=True)


# 확인
data.head()





# target 확인
target = 'Ozone'

# 데이터 분리
x = data.drop(target, axis=1)
y = data.loc[:, target] # [행, 열]


# x 확인
x.head()


# y 확인
y.head()





# 모듈 불러오기
from sklearn.model_selection import train_test_split # 데이터를 무자위로 섞음

# 7:3으로 분리
x_train, x_test, y_train, y_test = train_test_split(x, y, test_size=0.3, random_state=1, shuffle=True) # random_state : 난수 섞음 즉, 동일하게 결과를 얻기 위해 사용
                                                                                                       # shuffle : 섞음, False는 안섞음 시계열을 할 때 False


# 확인
x_train.head()











# 1단계: 불러오기
from sklearn.linear_model import LinearRegression
from sklearn.metrics import mean_absolute_error # 평가는 metrics에서 다 불러올 수 있다.


# 2단계: 선언하기
model = LinearRegression()


# 3단계: 학습하기
model.fit(x_train, y_train)


# 4단계: 예측하기
y_pred = model.predict(x_test)


# 실제값, 예측값 비교
print(y_test.values[:10])
print(y_pred[:10])


# 5단계: 평가하기 
# 평균 차이 출력
print('MAE:', mean_absolute_error(y_test, y_pred))


# 기준(평균) 모델 성능 평가
mean_ozone = y_train.mean()
y_base= np.array([mean_ozone] * len(y_test))


# 5단계: 평가하기 
# 평균 차이 출력
print('MAE:', mean_absolute_error(y_test, y_base))





plt.plot(y_test.values)



