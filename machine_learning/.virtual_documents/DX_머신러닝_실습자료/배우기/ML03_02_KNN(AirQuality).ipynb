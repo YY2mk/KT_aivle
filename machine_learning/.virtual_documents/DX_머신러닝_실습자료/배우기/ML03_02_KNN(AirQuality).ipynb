











# 라이브러리 불러오기
import numpy as np
import pandas as pd
import matplotlib.pyplot as plt
import seaborn as sns
import warnings

warnings.filterwarnings(action='ignore')
%config InlineBackend.figure_format='retina'


# 데이터 읽어오기
path = 'https://raw.githubusercontent.com/Jangrae/csv/master/airquality_simple.csv'
data = pd.read_csv(path)





# 상위 몇 개 행 확인
data.head()


# 기술통계 확인
data.describe()


# NaN 값 확인
data.isnull().sum()


# 상관관계 확인
data.corr(numeric_only=True)








# 결측치 확인
data.isnull().sum()


# 결측치 채우기
data.interpolate(method='linear', inplace=True)

# 확인
data.isnull().sum()





#  변수 제거
drop_cols = ['Month', 'Day']
data.drop(drop_cols, axis=1, inplace=True)

# 확인
data.head()





# target 확인
target = 'Ozone'

# 데이터 분리
x = data.drop(target, axis=1)
y = data.loc[:, target]





# 모듈 불러오기
from sklearn.model_selection import train_test_split

# 데이터 분리
x_train, x_test, y_train, y_test = train_test_split(x, y, test_size=0.3, random_state=1)





# 값 범위 확인
plt.boxplot(x_train, vert=False, labels=list(x))
plt.show()





# 최댓값, 최솟값 구하기
x_max = x_train.max()
x_min = x_train.min()

# 정규화
x_train_s = (x_train - x_min) / (x_max - x_min)
x_test_s = (x_test - x_min) / (x_max - x_min)


# 값 범위 확인
plt.boxplot(x_train, vert=False, labels=list(x))
plt.show()





# 모듈 불러오기
from sklearn.preprocessing import MinMaxScaler

# 정규화
scaler = MinMaxScaler()
scaler.fit(x_train)
x_train = scaler.transform(x_train)
x_test = scaler.transform(x_test)








# 1단계: 불러오기
from sklearn.neighbors import KNeighborsClassifier
from sklearn.metrics import mean_absolute_error, r2_score


# 2단계: 선언하기
model = KNeighborsClassifier()


# 3단계: 학습하기
model.fit(x_train, y_train)


# 4단계 예측하기
y_pred = model.predict(x_test)


# 5단계: 평가하기
print('MAE:', mean_absolute_error(y_test, y_pred))
print('R2:', r2_score(y_test, y_pred))


# 정규화 후
# 4단계 예측하기
y_pred = model.predict(x_test_s)


# 5단계: 평가하기
print('MAE:', mean_absolute_error(y_test, y_pred))
print('R2:', r2_score(y_test, y_pred))





# 예측값, 실젯값 시각화
plt.plot(y_test.values, label='Actual')
plt.plot(y_pred, label='Predicted')
plt.legend()
plt.ylabel('Ozone')
plt.show()



