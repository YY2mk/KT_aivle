











# 라이브러리 불러오기
import numpy as np
import pandas as pd
import matplotlib.pyplot as plt
import seaborn as sns
import warnings

warnings.filterwarnings(action='ignore')
%config InlineBackend.figure_format='retina'


# 데이터 읽어오기
path = 'https://raw.githubusercontent.com/Jangrae/csv/master/cars.csv'
data = pd.read_csv(path)





# 상위 몇 개 행 확인
data.head()


# 하위 몇 개 행 확인
data.tail()


# 기술통계 확인
data.describe()


# NaN 값 확인
data.isnull().sum()


# speed, dist 관계
plt.scatter(x='speed', y='dist', data=data)
plt.xlabel('Speed(mph)')
plt.ylabel('Dist(ft)')
plt.show()








# target 확인
target = 'dist'

# 데이터 분리
x = data.drop(target, axis=1)
y = data.loc[:, target]





# 모듈 불러오기
from sklearn.model_selection import train_test_split

# 7:3으로 분리
x_train, x_test, y_train, y_test = train_test_split(x, y, test_size=0.3, random_state=1)





# 1단계: 불러오기
from sklearn.linear_model import LinearRegression
from sklearn.metrics import r2_score, mean_absolute_error # 대표성


# 2단계: 선언하기
model = LinearRegression()


# 3단계: 학습하기
model.fit(x_train, y_train)


# 4단계: 예측하기
y_pred = model.predict(x_test)


# 5단계: 평가하기
print('MAE:', mean_absolute_error(y_test, y_pred))
print('R2:', r2_score(y_test, y_pred))





# 회귀계수 확인
print(model.coef_) # 가중치
print(model.intercept_) # 편향








# 회귀식 확인
# y = a * x + b
a = model.coef_  # 가중치
b = model.intercept_ # 편향
#speed = np.array([x_test.min(), x_test.max()])
speed = np.linspace(x_test.min(), x_test.max(), 2)
dist = a * speed * b # 회귀선


plt.scatter(x_test, y_test)
plt.plot(x_test, dist)
plt.show()


# 시각화
plt.plot(y_test.values, label='Actual')
plt.plot(y_pred, label='Predicted')
plt.legend()
plt.ylabel('Dist(ft)')
plt.show()



