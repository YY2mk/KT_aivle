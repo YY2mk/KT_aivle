{
 "cells": [
  {
   "cell_type": "markdown",
   "id": "democratic-utility",
   "metadata": {
    "id": "democratic-utility"
   },
   "source": [
    "## Zigbang 원룸 매물 데이터 수집"
   ]
  },
  {
   "cell_type": "code",
   "execution_count": 65,
   "id": "minor-irrigation",
   "metadata": {
    "id": "minor-irrigation",
    "tags": []
   },
   "outputs": [],
   "source": [
    "import requests\n",
    "import pandas as pd"
   ]
  },
  {
   "cell_type": "markdown",
   "id": "whole-answer",
   "metadata": {
    "id": "whole-answer"
   },
   "source": [
    "#### Process\n",
    "    - 동이름으로 위도 경도 구하기\n",
    "    - 위도 경도로 geohash 알아내기\n",
    "    - geohash로 매물 아이디 가져오기\n",
    "    - 매물 아이디로 매물 정보 가져오기"
   ]
  },
  {
   "cell_type": "markdown",
   "id": "b17864a3",
   "metadata": {
    "id": "b17864a3"
   },
   "source": [
    "### 1\\. 동이름으로 위도 경도 구하기"
   ]
  },
  {
   "cell_type": "code",
   "execution_count": 66,
   "id": "e_0LGgefNlrN",
   "metadata": {
    "id": "e_0LGgefNlrN",
    "tags": []
   },
   "outputs": [],
   "source": [
    "addr ='수유동'\n",
    "url = f'https://apis.zigbang.com/v2/search?leaseYn=N&q={addr}&serviceType=원룸'"
   ]
  },
  {
   "cell_type": "code",
   "execution_count": 67,
   "id": "8277e070-3c59-4530-aadd-1ef4b323fb13",
   "metadata": {
    "tags": []
   },
   "outputs": [
    {
     "data": {
      "text/plain": [
       "<Response [200]>"
      ]
     },
     "execution_count": 67,
     "metadata": {},
     "output_type": "execute_result"
    }
   ],
   "source": [
    "response = requests.get(url)\n",
    "response"
   ]
  },
  {
   "cell_type": "code",
   "execution_count": 68,
   "id": "7f33fdd9-a709-4f4a-883c-ac48371dbf7a",
   "metadata": {
    "tags": []
   },
   "outputs": [
    {
     "data": {
      "text/plain": [
       "{'id': 3799,\n",
       " 'type': 'address',\n",
       " 'name': '수유동',\n",
       " 'hint': '',\n",
       " 'description': '서울특별시 강북구 수유동',\n",
       " 'lat': 37.64246368408203,\n",
       " 'lng': 127.0220947265625,\n",
       " 'zoom': 5,\n",
       " 'polygon': [],\n",
       " '_score': None,\n",
       " '_source': {'name_length': 3,\n",
       "  'local1': '서울시',\n",
       "  'local2': '강북구',\n",
       "  'local3': '수유동',\n",
       "  'web_level': 15,\n",
       "  'web_lat': 37.64246368408203,\n",
       "  'web_lng': 127.0220947265625,\n",
       "  'app_level': 15,\n",
       "  'app_lat': 37.64246368408203,\n",
       "  'app_lng': 127.0220947265625,\n",
       "  '법정동코드': '1130510300'},\n",
       " 'zoom_level': {'google': 15, 'daum': 4},\n",
       " 'zoom_level_v2': {'app': 5, 'web': 4}}"
      ]
     },
     "execution_count": 68,
     "metadata": {},
     "output_type": "execute_result"
    }
   ],
   "source": [
    "data = response.json()['items'][0]\n",
    "data"
   ]
  },
  {
   "cell_type": "code",
   "execution_count": 69,
   "id": "0c535798-159f-4c6f-9ac0-df9ca364a6a3",
   "metadata": {
    "tags": []
   },
   "outputs": [],
   "source": [
    "lat, lng = data['lat'], data['lng']"
   ]
  },
  {
   "cell_type": "markdown",
   "id": "13114fd8",
   "metadata": {
    "id": "13114fd8"
   },
   "source": [
    "### 2\\. 위도 경도로 geohash 알아내기"
   ]
  },
  {
   "cell_type": "code",
   "execution_count": 70,
   "id": "122284eb",
   "metadata": {
    "id": "122284eb",
    "tags": []
   },
   "outputs": [
    {
     "name": "stdout",
     "output_type": "stream",
     "text": [
      "Requirement already satisfied: geohash2 in c:\\users\\user\\anaconda3\\lib\\site-packages (1.1)\n",
      "Requirement already satisfied: docutils>=0.3 in c:\\users\\user\\anaconda3\\lib\\site-packages (from geohash2) (0.18.1)\n"
     ]
    }
   ],
   "source": [
    "# install geohash2\n",
    "!pip install geohash2"
   ]
  },
  {
   "cell_type": "code",
   "execution_count": 71,
   "id": "aware-liquid",
   "metadata": {
    "id": "aware-liquid",
    "tags": []
   },
   "outputs": [],
   "source": [
    "import geohash2"
   ]
  },
  {
   "cell_type": "code",
   "execution_count": 72,
   "id": "AnRA2VaUNnFC",
   "metadata": {
    "id": "AnRA2VaUNnFC",
    "tags": []
   },
   "outputs": [
    {
     "data": {
      "text/plain": [
       "(37.64246368408203, 127.0220947265625)"
      ]
     },
     "execution_count": 72,
     "metadata": {},
     "output_type": "execute_result"
    }
   ],
   "source": [
    "lat, lng"
   ]
  },
  {
   "cell_type": "code",
   "execution_count": 73,
   "id": "9e7badf7-2b58-4f7a-a280-f91e5c85cce9",
   "metadata": {
    "tags": []
   },
   "outputs": [],
   "source": [
    "# precision : 영역범위 : 커질수록 영역이 작아짐\n",
    "geohash = geohash2.encode(lat, lng, precision=5)"
   ]
  },
  {
   "cell_type": "code",
   "execution_count": 74,
   "id": "a7e94070-3889-4f30-8fcf-dec565e059ca",
   "metadata": {
    "tags": []
   },
   "outputs": [
    {
     "data": {
      "text/plain": [
       "'wydq4'"
      ]
     },
     "execution_count": 74,
     "metadata": {},
     "output_type": "execute_result"
    }
   ],
   "source": [
    "geohash[:5]"
   ]
  },
  {
   "cell_type": "markdown",
   "id": "6df839b9",
   "metadata": {
    "id": "6df839b9"
   },
   "source": [
    "### 3\\. geohash로 매물 아이디 가져오기"
   ]
  },
  {
   "cell_type": "code",
   "execution_count": 84,
   "id": "MrsBsdbeNn1f",
   "metadata": {
    "id": "MrsBsdbeNn1f",
    "tags": []
   },
   "outputs": [],
   "source": [
    "url = f'https://apis.zigbang.com/v2/items/oneroom?geohash={geohash}\\\n",
    "&depositMin=0&rentMin=0&salesTypes[0]=전세&salesTypes[1]=월세&\\\n",
    "domain=zigbang&checkAnyItemWithoutFilter=true'"
   ]
  },
  {
   "cell_type": "code",
   "execution_count": 85,
   "id": "b26e697b-dc06-4818-bc3e-8e36f1d8641d",
   "metadata": {
    "tags": []
   },
   "outputs": [
    {
     "data": {
      "text/plain": [
       "<Response [200]>"
      ]
     },
     "execution_count": 85,
     "metadata": {},
     "output_type": "execute_result"
    }
   ],
   "source": [
    "response = requests.get(url)\n",
    "response"
   ]
  },
  {
   "cell_type": "code",
   "execution_count": 86,
   "id": "3ce93338-72d4-4b8a-a9bd-a6344f71a7b4",
   "metadata": {
    "tags": []
   },
   "outputs": [],
   "source": [
    "items = response.json()['items']"
   ]
  },
  {
   "cell_type": "code",
   "execution_count": 87,
   "id": "8073e956-fe6e-49c3-9bd2-3388ee746e6d",
   "metadata": {
    "tags": []
   },
   "outputs": [],
   "source": [
    "ids = [item['itemId'] for item in items]"
   ]
  },
  {
   "cell_type": "markdown",
   "id": "37fea52f",
   "metadata": {
    "id": "37fea52f"
   },
   "source": [
    "### 4\\. 매물 아이디로 매물 정보 가져오기"
   ]
  },
  {
   "cell_type": "code",
   "execution_count": 94,
   "id": "OOcvZ6_jNpOq",
   "metadata": {
    "id": "OOcvZ6_jNpOq",
    "tags": []
   },
   "outputs": [],
   "source": [
    "url = 'https://apis.zigbang.com/v2/items/list'\n",
    "params = {'domain': \"zigbang\",\n",
    "         'item_ids': ids}"
   ]
  },
  {
   "cell_type": "code",
   "execution_count": 98,
   "id": "54228177-a33c-42d4-996c-e04112ac5b8c",
   "metadata": {
    "tags": []
   },
   "outputs": [
    {
     "ename": "KeyError",
     "evalue": "'items'",
     "output_type": "error",
     "traceback": [
      "\u001b[1;31m---------------------------------------------------------------------------\u001b[0m",
      "\u001b[1;31mKeyError\u001b[0m                                  Traceback (most recent call last)",
      "Cell \u001b[1;32mIn[98], line 2\u001b[0m\n\u001b[0;32m      1\u001b[0m response \u001b[38;5;241m=\u001b[39m requests\u001b[38;5;241m.\u001b[39mpost(url, params)\n\u001b[1;32m----> 2\u001b[0m item \u001b[38;5;241m=\u001b[39m response\u001b[38;5;241m.\u001b[39mjson()[\u001b[38;5;124m'\u001b[39m\u001b[38;5;124mitems\u001b[39m\u001b[38;5;124m'\u001b[39m]\n",
      "\u001b[1;31mKeyError\u001b[0m: 'items'"
     ]
    }
   ],
   "source": [
    "response = requests.post(url, params)\n",
    "item = response.json()['items']"
   ]
  },
  {
   "cell_type": "code",
   "execution_count": null,
   "id": "0b2e31cc-42f9-4632-9792-7998d8f007a4",
   "metadata": {},
   "outputs": [],
   "source": [
    "item"
   ]
  },
  {
   "cell_type": "code",
   "execution_count": 96,
   "id": "19c87878-a363-4823-8155-86a68f658dd3",
   "metadata": {
    "tags": []
   },
   "outputs": [],
   "source": [
    "import pandas as pd\n",
    "import requests\n",
    "import geohash2\n",
    "def oneroom(addr):\n",
    "    \n",
    "    url = f'https://apis.zigbang.com/v2/search?leaseYn=N&q={addr}&serviceType=원룸'\n",
    "    response = requests.get(url)\n",
    "    data = response.json()['items'][0]\n",
    "    lat, lng = data['lat'], data['lng']\n",
    "    \n",
    "    geohash = geohash2.encode(lat, lng, precision=5)\n",
    "    \n",
    "    url = f'https://apis.zigbang.com/v2/items/oneroom?\\\n",
    "geohash={geohash}&depositMin=0&rentMin=0&salesTypes[0]=전세&salesTypes[1]=월세\\\n",
    "&domain=zigbang&checkAnyItemWithoutFilter=true'\n",
    "    response = requests.get(url)\n",
    "    items = response.json()['items']\n",
    "    ids = [item['itemId'] for item in items]\n",
    "    \n",
    "    url = 'https://apis.zigbang.com/v2/items/list'\n",
    "    params = {'domain': 'zigbang', 'item_ids': ids[:900]}\n",
    "    response = requests.post(url, params)\n",
    "    items = response.json()['items']\n",
    "    df = pd.DataFrame(items)\n",
    "    df = df[df['address1'].str.contains(addr)].reset_index(drop=True)\n",
    "    columns = ['item_id', 'address1', 'sales_type', 'deposit', 'rent', 'size_m2', 'title', 'manage_cost']\n",
    "    return df[columns]"
   ]
  },
  {
   "cell_type": "code",
   "execution_count": 97,
   "id": "0ec75b69-10d1-4243-8ccb-741ffb759803",
   "metadata": {
    "tags": []
   },
   "outputs": [
    {
     "data": {
      "text/html": [
       "<div>\n",
       "<style scoped>\n",
       "    .dataframe tbody tr th:only-of-type {\n",
       "        vertical-align: middle;\n",
       "    }\n",
       "\n",
       "    .dataframe tbody tr th {\n",
       "        vertical-align: top;\n",
       "    }\n",
       "\n",
       "    .dataframe thead th {\n",
       "        text-align: right;\n",
       "    }\n",
       "</style>\n",
       "<table border=\"1\" class=\"dataframe\">\n",
       "  <thead>\n",
       "    <tr style=\"text-align: right;\">\n",
       "      <th></th>\n",
       "      <th>item_id</th>\n",
       "      <th>address1</th>\n",
       "      <th>sales_type</th>\n",
       "      <th>deposit</th>\n",
       "      <th>rent</th>\n",
       "      <th>size_m2</th>\n",
       "      <th>title</th>\n",
       "      <th>manage_cost</th>\n",
       "    </tr>\n",
       "  </thead>\n",
       "  <tbody>\n",
       "    <tr>\n",
       "      <th>0</th>\n",
       "      <td>40104401</td>\n",
       "      <td>서울시 도봉구 방학동</td>\n",
       "      <td>월세</td>\n",
       "      <td>2000</td>\n",
       "      <td>40</td>\n",
       "      <td>33.06</td>\n",
       "      <td>에어컨,가스레인지 옵션 깔끔한 공실 2룸</td>\n",
       "      <td>2</td>\n",
       "    </tr>\n",
       "    <tr>\n",
       "      <th>1</th>\n",
       "      <td>40171424</td>\n",
       "      <td>서울시 도봉구 방학동</td>\n",
       "      <td>월세</td>\n",
       "      <td>3000</td>\n",
       "      <td>100</td>\n",
       "      <td>31.29</td>\n",
       "      <td>SW 신축 투룸 중랑천이보이는 도시형생활주택 애완 주차가능</td>\n",
       "      <td>8</td>\n",
       "    </tr>\n",
       "    <tr>\n",
       "      <th>2</th>\n",
       "      <td>40204124</td>\n",
       "      <td>서울시 도봉구 방학동</td>\n",
       "      <td>월세</td>\n",
       "      <td>3000</td>\n",
       "      <td>100</td>\n",
       "      <td>31.29</td>\n",
       "      <td>투룸 전세25천 가능 고층 전망채광 은행상품 보증보험</td>\n",
       "      <td>7</td>\n",
       "    </tr>\n",
       "    <tr>\n",
       "      <th>3</th>\n",
       "      <td>40190600</td>\n",
       "      <td>서울시 도봉구 방학동</td>\n",
       "      <td>월세</td>\n",
       "      <td>2000</td>\n",
       "      <td>60</td>\n",
       "      <td>49.59</td>\n",
       "      <td>방학역 도보 5분 엄청 넓고 깔끔한 투룸 구조, 좋아요</td>\n",
       "      <td>3</td>\n",
       "    </tr>\n",
       "    <tr>\n",
       "      <th>4</th>\n",
       "      <td>40234099</td>\n",
       "      <td>서울시 도봉구 도봉동</td>\n",
       "      <td>월세</td>\n",
       "      <td>500</td>\n",
       "      <td>55</td>\n",
       "      <td>29.75</td>\n",
       "      <td>신축급 풀옵션즉시입주17호선더블역세권주차가능</td>\n",
       "      <td>7</td>\n",
       "    </tr>\n",
       "    <tr>\n",
       "      <th>5</th>\n",
       "      <td>39984224</td>\n",
       "      <td>서울시 도봉구 도봉동</td>\n",
       "      <td>전세</td>\n",
       "      <td>33000</td>\n",
       "      <td>0</td>\n",
       "      <td>117.81</td>\n",
       "      <td>힐스테이트도봉역웰가,전세대출80,보증보험100,넓은 투룸</td>\n",
       "      <td>15</td>\n",
       "    </tr>\n",
       "    <tr>\n",
       "      <th>6</th>\n",
       "      <td>40150069</td>\n",
       "      <td>서울시 도봉구 도봉동</td>\n",
       "      <td>월세</td>\n",
       "      <td>5000</td>\n",
       "      <td>120</td>\n",
       "      <td>148.90</td>\n",
       "      <td>30평형,74타입,쓰리룸,힐스테이트도봉역웰가,첫입주,주차</td>\n",
       "      <td>15</td>\n",
       "    </tr>\n",
       "    <tr>\n",
       "      <th>7</th>\n",
       "      <td>40156124</td>\n",
       "      <td>서울시 도봉구 도봉동</td>\n",
       "      <td>월세</td>\n",
       "      <td>5000</td>\n",
       "      <td>120</td>\n",
       "      <td>117.79</td>\n",
       "      <td>힐스테이트,첫입주,투룸,도봉역9분,층수굿,즉시입주,최고뷰</td>\n",
       "      <td>20</td>\n",
       "    </tr>\n",
       "    <tr>\n",
       "      <th>8</th>\n",
       "      <td>40172562</td>\n",
       "      <td>서울시 도봉구 도봉동</td>\n",
       "      <td>전세</td>\n",
       "      <td>33000</td>\n",
       "      <td>0</td>\n",
       "      <td>119.12</td>\n",
       "      <td>도봉힐스테이트,투룸,도봉역8분,전세대출O,전세보증보험O</td>\n",
       "      <td>20</td>\n",
       "    </tr>\n",
       "    <tr>\n",
       "      <th>9</th>\n",
       "      <td>40194597</td>\n",
       "      <td>서울시 도봉구 도봉동</td>\n",
       "      <td>월세</td>\n",
       "      <td>5000</td>\n",
       "      <td>130</td>\n",
       "      <td>148.20</td>\n",
       "      <td>30평형,74타입,쓰리룸,힐스테이트도봉역웰가,첫입주,주차</td>\n",
       "      <td>15</td>\n",
       "    </tr>\n",
       "  </tbody>\n",
       "</table>\n",
       "</div>"
      ],
      "text/plain": [
       "    item_id     address1 sales_type  deposit  rent  size_m2  \\\n",
       "0  40104401  서울시 도봉구 방학동         월세     2000    40    33.06   \n",
       "1  40171424  서울시 도봉구 방학동         월세     3000   100    31.29   \n",
       "2  40204124  서울시 도봉구 방학동         월세     3000   100    31.29   \n",
       "3  40190600  서울시 도봉구 방학동         월세     2000    60    49.59   \n",
       "4  40234099  서울시 도봉구 도봉동         월세      500    55    29.75   \n",
       "5  39984224  서울시 도봉구 도봉동         전세    33000     0   117.81   \n",
       "6  40150069  서울시 도봉구 도봉동         월세     5000   120   148.90   \n",
       "7  40156124  서울시 도봉구 도봉동         월세     5000   120   117.79   \n",
       "8  40172562  서울시 도봉구 도봉동         전세    33000     0   119.12   \n",
       "9  40194597  서울시 도봉구 도봉동         월세     5000   130   148.20   \n",
       "\n",
       "                              title manage_cost  \n",
       "0            에어컨,가스레인지 옵션 깔끔한 공실 2룸           2  \n",
       "1  SW 신축 투룸 중랑천이보이는 도시형생활주택 애완 주차가능           8  \n",
       "2     투룸 전세25천 가능 고층 전망채광 은행상품 보증보험           7  \n",
       "3    방학역 도보 5분 엄청 넓고 깔끔한 투룸 구조, 좋아요           3  \n",
       "4          신축급 풀옵션즉시입주17호선더블역세권주차가능           7  \n",
       "5   힐스테이트도봉역웰가,전세대출80,보증보험100,넓은 투룸          15  \n",
       "6   30평형,74타입,쓰리룸,힐스테이트도봉역웰가,첫입주,주차          15  \n",
       "7   힐스테이트,첫입주,투룸,도봉역9분,층수굿,즉시입주,최고뷰          20  \n",
       "8    도봉힐스테이트,투룸,도봉역8분,전세대출O,전세보증보험O          20  \n",
       "9   30평형,74타입,쓰리룸,힐스테이트도봉역웰가,첫입주,주차          15  "
      ]
     },
     "execution_count": 97,
     "metadata": {},
     "output_type": "execute_result"
    }
   ],
   "source": [
    "oneroom('도봉구')"
   ]
  },
  {
   "cell_type": "code",
   "execution_count": null,
   "id": "d07169a8-a588-4a29-a0dc-b184a76ed88e",
   "metadata": {},
   "outputs": [],
   "source": []
  }
 ],
 "metadata": {
  "colab": {
   "provenance": []
  },
  "kernelspec": {
   "display_name": "Python 3 (ipykernel)",
   "language": "python",
   "name": "python3"
  },
  "language_info": {
   "codemirror_mode": {
    "name": "ipython",
    "version": 3
   },
   "file_extension": ".py",
   "mimetype": "text/x-python",
   "name": "python",
   "nbconvert_exporter": "python",
   "pygments_lexer": "ipython3",
   "version": "3.11.5"
  },
  "toc": {
   "base_numbering": 1,
   "nav_menu": {},
   "number_sections": false,
   "sideBar": true,
   "skip_h1_title": false,
   "title_cell": "Table of Contents",
   "title_sidebar": "Contents",
   "toc_cell": false,
   "toc_position": {},
   "toc_section_display": true,
   "toc_window_display": false
  }
 },
 "nbformat": 4,
 "nbformat_minor": 5
}
