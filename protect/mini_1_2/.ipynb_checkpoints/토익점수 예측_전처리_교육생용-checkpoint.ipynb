{
 "cells": [
  {
   "cell_type": "markdown",
   "metadata": {
    "id": "mJlY5pHkC2AM"
   },
   "source": [
    "# **토익 진단평가 데이터 다듬기**\n",
    "# 단계1 : 데이터 전처리\n",
    " * 이번 시간에는 파이썬을 활용한 AI모델링에서 전처리에 대해 실습해보겠습니다.\n",
    " * 전처리란 데이터 분석을 수행하기 전에 데이터를 적절한 형태로 가공하는 과정을 말합니다. \n",
    " * 머신러닝과 AI모델링에서 60~70% 차지하는 부분이 바로 전처리 파트입니다.\n",
    " * 굉장히 시간과 노력이 많이 투입되며, 어려운 부분일 수 있습니다.\n",
    " * 데이터의 이상치나 결측치를 제거하거나, 변수를 수치형으로 변환하거나, 표준화나 정규화를 적용하는 등의 작업이 있습니다.\n",
    " * 데이터가 깨끗이 정리되지 않으면 머신러닝/AI 성능을 장담할 수 없습니다.\n",
    " * 데이터 전처리에 심혈을 기울여주시기 바라며, 이론보다 실습이 더 많은 시간과 노력이 투자되어야 합니다."
   ]
  },
  {
   "cell_type": "markdown",
   "metadata": {
    "id": "-FPypzell2uc"
   },
   "source": [
    "## 0.미션 확인"
   ]
  },
  {
   "cell_type": "markdown",
   "metadata": {
    "id": "lYU5dYao7ydh"
   },
   "source": [
    "* 개요\n",
    "    * 응시할 토익점수를 예측해주는 모델을 생성하기 위한 데이터를 전처리하려고 합니다.\n",
    "    * 이를 위해 주어진 데이터는 응시자별 3회차씩의 토익점수와 당시 학습방식 등의 정보 입니다.\n",
    "    * 관련 토익점수 및 학습정보 데이터를 분석하여 미니프로젝트 1차 이후에 예측 모델을 개발하여 \n",
    "      토익 응시생들에게 도움이 되는 솔루션을 개발하려고 합니다.\n",
    "* 전처리 단계 목표\n",
    "    * 3회차(3행)의 데이터를 하나의 분석단위(1행)로 만들기 위해 응시자별 데이터를 집계합니다.\n",
    "    * 응시자는 하나의 ID로 구분됩니다.\n",
    "    * 응시회차는 seq로 구분됩니다. 모든 응시자가 1,2,3 의 회차 값을 갖고 있습니다.\n",
    "* 학습목차\n",
    "    0) 미션 내용 확인\n",
    "    1) 환경설정 : 라이브러리 불러오기 및 파일 읽어오기\n",
    "    2) 데이터프레임 탐색\n",
    "    3) 데이터 전처리 수행 (불필요 컬럼 삭제, Null 처리, 중복값 제거, 한 행으로 합치기 등)\n",
    "    4) 결과 저장하기"
   ]
  },
  {
   "cell_type": "markdown",
   "metadata": {
    "id": "dWToio0hXNVS"
   },
   "source": [
    "## 1.환경설정"
   ]
  },
  {
   "cell_type": "markdown",
   "metadata": {
    "id": "KnzVh2LmkLDU"
   },
   "source": [
    "### (1) 라이브러리 불러오기"
   ]
  },
  {
   "cell_type": "markdown",
   "metadata": {
    "id": "I_rCs78QJZmI"
   },
   "source": [
    "* **세부 요구사항**\n",
    "    - 기본적으로 필요한 라이브러리를 import 하도록 코드를 작성해주세요.\n",
    "    - 필요하다고 판단되는 라이브러리를 추가하겠습니다."
   ]
  },
  {
   "cell_type": "code",
   "execution_count": 1,
   "metadata": {
    "id": "3rsQerEaELwI",
    "tags": []
   },
   "outputs": [],
   "source": [
    "#[문제] pandas, numpy 라이브러리를 임포트하세요."
   ]
  },
  {
   "cell_type": "code",
   "execution_count": 2,
   "metadata": {},
   "outputs": [],
   "source": [
    "import pandas as pd\n",
    "import numpy as np"
   ]
  },
  {
   "cell_type": "markdown",
   "metadata": {
    "id": "wsLDv9tZc_i1"
   },
   "source": [
    "### (2) 데이터 불러오기\n",
    "* 읽어올 데이터 파일\n",
    "    * 학습 데이터 : data04.xls\n",
    "    * 엑셀 파일이므로 pd.read_excel 함수를 이용해서 불러 옵니다.\n",
    "* 다음과 같이 데이터를 불러와주세요.\n",
    "    * 주피터랩 실행\n",
    "        * 제공된 압축파일 '미프 1차_토익'을 다운받아 압축을 해제합니다.\n",
    "        * anaconda의 root directory(C:\\Users\\<ID>) 에 '미프 1차_토익' 폴더를 만들고, 복사합니다.\n",
    "        * '1.전처리_교육생용'과 '2.데이터_탐색_교육생용' 실습 파일을 열어주세요."
   ]
  },
  {
   "cell_type": "markdown",
   "metadata": {
    "id": "HYi9O2rNdBU_"
   },
   "source": [
    "#### 1) 주피터랩 실행\n",
    "* '미프 1차_토익' 폴더에 필요한 파일들을 넣고, 본 파일을 열거나, 별도 경로를 지정해서 데이터를 읽어올 수 있습니다."
   ]
  },
  {
   "cell_type": "code",
   "execution_count": 3,
   "metadata": {
    "id": "876cuCbEd4j_"
   },
   "outputs": [],
   "source": [
    "#[문제] '미프 1차_토익' 폴더에서 본 파일인 '1.전처리_교육생용'을 열어주세요."
   ]
  },
  {
   "cell_type": "markdown",
   "metadata": {
    "id": "GH3ApIzofYPb"
   },
   "source": [
    "#### 2) 데이터 읽어오기"
   ]
  },
  {
   "cell_type": "code",
   "execution_count": 4,
   "metadata": {
    "colab": {
     "base_uri": "https://localhost:8080/"
    },
    "executionInfo": {
     "elapsed": 27565,
     "status": "ok",
     "timestamp": 1679834035579,
     "user": {
      "displayName": "이선영",
      "userId": "03062122541069374649"
     },
     "user_tz": -540
    },
    "id": "6JPk6VADrLjH",
    "outputId": "01883108-9c93-433d-97b7-65b9e44db088"
   },
   "outputs": [],
   "source": [
    "#[문제] data04.xlsx 파일을 Pandas read_excel 함수를 이용하여 읽고 data변수에 저장하세요."
   ]
  },
  {
   "cell_type": "code",
   "execution_count": 5,
   "metadata": {},
   "outputs": [],
   "source": [
    "# 읽어들일 파일명 : data04.xlsx \n",
    "# Pandas read_excel 함수 활용\n",
    "# 결과 : data 저장\n",
    "data = pd.read_excel('data04.xlsx')\n",
    "file = 'data04.xlsx'"
   ]
  },
  {
   "cell_type": "code",
   "execution_count": 6,
   "metadata": {
    "colab": {
     "base_uri": "https://localhost:8080/",
     "height": 363
    },
    "executionInfo": {
     "elapsed": 3059,
     "status": "ok",
     "timestamp": 1679834038635,
     "user": {
      "displayName": "이선영",
      "userId": "03062122541069374649"
     },
     "user_tz": -540
    },
    "id": "5UAfaN2SXCnD",
    "outputId": "653c6d39-c4f3-4f33-f4eb-faffd0d8592e"
   },
   "outputs": [],
   "source": [
    "#[문제] 읽어온 데이터프레임을 확인하고, 상위 10개 행만 보여주세요."
   ]
  },
  {
   "cell_type": "code",
   "execution_count": null,
   "metadata": {},
   "outputs": [],
   "source": []
  },
  {
   "cell_type": "markdown",
   "metadata": {
    "id": "JsX1zLaIXwbo"
   },
   "source": [
    "### 2. 데이터프레임 탐색"
   ]
  },
  {
   "cell_type": "markdown",
   "metadata": {
    "id": "8Z6Fmjg7oizl"
   },
   "source": [
    "* **세부 요구사항**\n",
    "    - data의 형태, 기초통계량, 정보 등을 확인합니다.\n",
    "    - 특히 .info() 를 통해서 각 변수별 데이터타입이 적절한지 확인합니다.\n",
    "    - 다양한 함수로 데이터를 탐색해주세요."
   ]
  },
  {
   "cell_type": "code",
   "execution_count": 7,
   "metadata": {
    "colab": {
     "base_uri": "https://localhost:8080/"
    },
    "executionInfo": {
     "elapsed": 10,
     "status": "ok",
     "timestamp": 1679834038636,
     "user": {
      "displayName": "이선영",
      "userId": "03062122541069374649"
     },
     "user_tz": -540
    },
    "id": "t2GW6WTJE60s",
    "outputId": "744d090a-5a03-4033-86d8-bf0fb0b29470"
   },
   "outputs": [],
   "source": [
    "#[문제] 전체 데이터의 행,열 개수를 확인하기"
   ]
  },
  {
   "cell_type": "code",
   "execution_count": null,
   "metadata": {},
   "outputs": [],
   "source": []
  },
  {
   "cell_type": "code",
   "execution_count": 8,
   "metadata": {
    "colab": {
     "base_uri": "https://localhost:8080/",
     "height": 206
    },
    "executionInfo": {
     "elapsed": 8,
     "status": "ok",
     "timestamp": 1679834038636,
     "user": {
      "displayName": "이선영",
      "userId": "03062122541069374649"
     },
     "user_tz": -540
    },
    "id": "1ePaMVD6FKLP",
    "outputId": "1297af03-51b3-428d-b945-654219fcdef1"
   },
   "outputs": [],
   "source": [
    "#[문제] 전체 데이터의 하위 5개 행 확인하기"
   ]
  },
  {
   "cell_type": "code",
   "execution_count": null,
   "metadata": {},
   "outputs": [],
   "source": []
  },
  {
   "cell_type": "code",
   "execution_count": 9,
   "metadata": {
    "colab": {
     "base_uri": "https://localhost:8080/"
    },
    "executionInfo": {
     "elapsed": 7,
     "status": "ok",
     "timestamp": 1679834038636,
     "user": {
      "displayName": "이선영",
      "userId": "03062122541069374649"
     },
     "user_tz": -540
    },
    "id": "6AE1REEhFQT3",
    "outputId": "eae582fa-04d4-4a96-9d85-f06dcd2c20e0"
   },
   "outputs": [],
   "source": [
    "#[문제] 전체 데이터의 모든 변수 확인하기"
   ]
  },
  {
   "cell_type": "code",
   "execution_count": null,
   "metadata": {},
   "outputs": [],
   "source": []
  },
  {
   "cell_type": "code",
   "execution_count": 10,
   "metadata": {
    "colab": {
     "base_uri": "https://localhost:8080/"
    },
    "executionInfo": {
     "elapsed": 651,
     "status": "ok",
     "timestamp": 1679834039281,
     "user": {
      "displayName": "이선영",
      "userId": "03062122541069374649"
     },
     "user_tz": -540
    },
    "id": "Nrv3NIlZ08dt",
    "outputId": "0a5c91ab-46bd-4687-ed08-b516af9d78d7"
   },
   "outputs": [],
   "source": [
    "#[문제] 전체 데이터 정보 확인"
   ]
  },
  {
   "cell_type": "code",
   "execution_count": null,
   "metadata": {},
   "outputs": [],
   "source": []
  },
  {
   "cell_type": "code",
   "execution_count": 11,
   "metadata": {},
   "outputs": [],
   "source": [
    "#[문제] 각 열별 Null 데이터 값의 개수를 확인해주세요."
   ]
  },
  {
   "cell_type": "code",
   "execution_count": null,
   "metadata": {},
   "outputs": [],
   "source": []
  },
  {
   "cell_type": "code",
   "execution_count": 12,
   "metadata": {},
   "outputs": [],
   "source": [
    "#[문제] 데이터의 통계정보를 확인해주세요."
   ]
  },
  {
   "cell_type": "code",
   "execution_count": null,
   "metadata": {},
   "outputs": [],
   "source": []
  },
  {
   "cell_type": "markdown",
   "metadata": {
    "id": "OQsk3V6hXSjE"
   },
   "source": [
    "## 3.데이터 전처리 수행"
   ]
  },
  {
   "cell_type": "markdown",
   "metadata": {
    "id": "jImSiMfNOZVV"
   },
   "source": [
    "*  **세부 요구사항**\n",
    "    * 여기부터는 스스로 실습해봅시다.\n",
    "    * ID를 기준으로 3회차(3행) 데이터를 1개의 분석단위(1행)으로 만들어야 합니다.\n",
    "        * (1) 개인정보 데이터와 각 회차별 학습정보 데이터 분리\n",
    "        * (2) 개인정보의 중복값 제거\n",
    "        * (3) 각 회차별 정보를 한 행으로 만들기 \n",
    "        * (4) (2)와 (3)을 합치기 (merge, ID 기준)\n",
    "        * (5) 레이블 만들기\n",
    "    * 전처리 결과를 다시 한번 정리해봅니다."
   ]
  },
  {
   "cell_type": "markdown",
   "metadata": {
    "id": "Gg2ZVy_sz8Dw"
   },
   "source": [
    "### (1) 컬럼삭제 및 값변경, 개인정보와 각 회차별 학습정보 분리"
   ]
  },
  {
   "cell_type": "code",
   "execution_count": 13,
   "metadata": {},
   "outputs": [],
   "source": [
    "#[문제] data의 컬럼별 데이터 타입을 출력하세요."
   ]
  },
  {
   "cell_type": "code",
   "execution_count": null,
   "metadata": {},
   "outputs": [],
   "source": []
  },
  {
   "cell_type": "code",
   "execution_count": 14,
   "metadata": {
    "tags": []
   },
   "outputs": [],
   "source": [
    "#[문제] data에서 'Student ID' 컬럼을 삭제하세요."
   ]
  },
  {
   "cell_type": "code",
   "execution_count": 15,
   "metadata": {},
   "outputs": [],
   "source": [
    "# axis=1 옵션, 컬럼단위 삭제(drop함수)\n",
    "# inplace=True 옵션, data 데이터프레임에 저장\n",
    "\n"
   ]
  },
  {
   "cell_type": "code",
   "execution_count": 16,
   "metadata": {},
   "outputs": [],
   "source": [
    "#[문제] 14개컬럼에서 13개컬럼으로 줄어든 것을 확인해주세요."
   ]
  },
  {
   "cell_type": "code",
   "execution_count": null,
   "metadata": {},
   "outputs": [],
   "source": []
  },
  {
   "cell_type": "code",
   "execution_count": 17,
   "metadata": {},
   "outputs": [],
   "source": [
    "#[문제] data 데이터프레임에서 '기출문제 공부 횟수' 컬럼의 Null 값을 '' --> '0'으로 변경하세요."
   ]
  },
  {
   "cell_type": "code",
   "execution_count": 18,
   "metadata": {},
   "outputs": [],
   "source": [
    "# fillna 함수\n",
    "# 대상컬럼 : '기출문제 공부 횟수'\n",
    "\n"
   ]
  },
  {
   "cell_type": "code",
   "execution_count": 19,
   "metadata": {},
   "outputs": [],
   "source": [
    "#[문제] '기출문제 공부 횟수' 컬럼의 값 0으로 변경 확인"
   ]
  },
  {
   "cell_type": "code",
   "execution_count": null,
   "metadata": {},
   "outputs": [],
   "source": []
  },
  {
   "cell_type": "code",
   "execution_count": 20,
   "metadata": {
    "id": "aMOLrTmMKeWC",
    "tags": []
   },
   "outputs": [],
   "source": [
    "#[문제] 개인정보 데이터와 토익시험 학습정보 데이터를 2개의 데이터 프레임인 df1, df2으로 각각 분리해주세요."
   ]
  },
  {
   "cell_type": "code",
   "execution_count": 21,
   "metadata": {},
   "outputs": [],
   "source": [
    "# 개인정보 데이터는 features1, 토익시험 학습정보 데이터는 features2로 분리해주세요.\n",
    "# df1(개인정보 데이터)에 포함될 features : 'ID', 'Gender', 'Birth_Year'\n",
    "# df2(토익시험 학습정보 데이터)에 포함될 features : 'ID','Seq', 'LC_Score', 'RC_Score', 'Total Score', '학습목표', '학습방법', '강의 학습 교재 유형', '학습빈도', '기출문제 공부 횟수', '취약분야 인지 여부', '토익 모의테스트 횟수'\n",
    "\n"
   ]
  },
  {
   "cell_type": "markdown",
   "metadata": {
    "id": "DODrFFR0ELoH",
    "tags": []
   },
   "source": [
    "### (2) 개인정보의 중복값 제거"
   ]
  },
  {
   "cell_type": "code",
   "execution_count": 22,
   "metadata": {
    "colab": {
     "base_uri": "https://localhost:8080/",
     "height": 293
    },
    "executionInfo": {
     "elapsed": 19,
     "status": "ok",
     "timestamp": 1679834039281,
     "user": {
      "displayName": "이선영",
      "userId": "03062122541069374649"
     },
     "user_tz": -540
    },
    "id": "cnrEMZF8KjiU",
    "outputId": "9ad04cdc-647e-4ccf-a51f-3ba2d787c927"
   },
   "outputs": [],
   "source": [
    "#[문제] 개인정보 데이터 'df1'의 중복된 행을 제거해주세요."
   ]
  },
  {
   "cell_type": "code",
   "execution_count": 23,
   "metadata": {
    "tags": []
   },
   "outputs": [],
   "source": [
    "# drop_duplicates 함수 활용\n",
    "# 제거된 결과는 원본 데이터프레임 'df1'에 바로 적용\n"
   ]
  },
  {
   "cell_type": "markdown",
   "metadata": {
    "id": "wQtwmCIFEReH"
   },
   "source": [
    "### (3) 각 회차별 정보를 한 행으로 만들기\n",
    "* 우리는 3차시(Seq == 3)를 기준으로 1,2차시 정보를 집계하여 한 행으로 만들어 봅니다."
   ]
  },
  {
   "cell_type": "code",
   "execution_count": 24,
   "metadata": {
    "colab": {
     "base_uri": "https://localhost:8080/",
     "height": 424
    },
    "executionInfo": {
     "elapsed": 18,
     "status": "ok",
     "timestamp": 1679834039282,
     "user": {
      "displayName": "이선영",
      "userId": "03062122541069374649"
     },
     "user_tz": -540
    },
    "id": "XzHXC0GeKloP",
    "outputId": "e45e3f70-942a-4175-dd51-d7ed307ec513"
   },
   "outputs": [],
   "source": [
    "#[문제] 토익시험 학습정보 데이터 'df2'에서 각 ID별 차시(Seq)가 3인 행을 선택하여 새로운 데이터프레임 'temp'에 할당해 주세요."
   ]
  },
  {
   "cell_type": "code",
   "execution_count": 25,
   "metadata": {},
   "outputs": [],
   "source": [
    "# 3차시 데이터 : ['Seq'] == 3\n",
    "# loc 함수 활용 : 특정 행, 특정 행과 열, 그리고 조건에 따라 필터링된 행을 선택하는 함수\n"
   ]
  },
  {
   "cell_type": "code",
   "execution_count": 26,
   "metadata": {},
   "outputs": [],
   "source": [
    "#[문제] temp 데이터프레임의 열이름 중 'LC_Score', 'RC_Score', 'Total Score'를 각각 '3st_LC_Score', '3st_RC_Score', '3st_Total_Score'로 변경하고 확인해주세요."
   ]
  },
  {
   "cell_type": "code",
   "execution_count": 27,
   "metadata": {},
   "outputs": [],
   "source": [
    "# rename 함수 활용, temp에 저장\n",
    "# rename 함수 : 데이터프레임의 행 인덱스 또는 열 이름을 변경하는 데 사용\n"
   ]
  },
  {
   "cell_type": "code",
   "execution_count": 28,
   "metadata": {
    "colab": {
     "base_uri": "https://localhost:8080/",
     "height": 424
    },
    "executionInfo": {
     "elapsed": 17,
     "status": "ok",
     "timestamp": 1679834039282,
     "user": {
      "displayName": "이선영",
      "userId": "03062122541069374649"
     },
     "user_tz": -540
    },
    "id": "eOtlvhGILN3C",
    "outputId": "1b0c23a6-ca77-4342-9fcf-f9c2fa8c9a10"
   },
   "outputs": [],
   "source": [
    "#[문제] 토익시험 학습정보 데이터 'df2'의  각 ID별 차시(Seq)가 1인 행을 선택하여 새로운 데이터프레임 'temp1'에 할당해 주세요."
   ]
  },
  {
   "cell_type": "code",
   "execution_count": 29,
   "metadata": {},
   "outputs": [],
   "source": [
    "# 1차시 데이터 : ['Seq'] == 1\n",
    "# loc 함수 활용 : 특정 행, 특정 행과 열, 그리고 조건에 따라 필터링된 행을 선택하는 함수\n"
   ]
  },
  {
   "cell_type": "code",
   "execution_count": 30,
   "metadata": {},
   "outputs": [],
   "source": [
    "#[문제] 'temp1'에는 df2['ID','LC_Score','RC_Score','Total Score'] 컬럼만 불러와 주세요."
   ]
  },
  {
   "cell_type": "code",
   "execution_count": null,
   "metadata": {},
   "outputs": [],
   "source": []
  },
  {
   "cell_type": "code",
   "execution_count": 31,
   "metadata": {},
   "outputs": [],
   "source": [
    "#[문제] temp1 데이터프레임의 열이름 중 'LC_Score', 'RC_Score', 'Total Score'를 각각 '1st_LC_Score', '1st_RC_Score', '1st_Total_Score'로 변경해주세요."
   ]
  },
  {
   "cell_type": "code",
   "execution_count": 32,
   "metadata": {},
   "outputs": [],
   "source": [
    "# rename 함수 활용, temp1에 저장\n"
   ]
  },
  {
   "cell_type": "code",
   "execution_count": 33,
   "metadata": {
    "colab": {
     "base_uri": "https://localhost:8080/",
     "height": 424
    },
    "executionInfo": {
     "elapsed": 17,
     "status": "ok",
     "timestamp": 1679834039282,
     "user": {
      "displayName": "이선영",
      "userId": "03062122541069374649"
     },
     "user_tz": -540
    },
    "id": "iy3l114sKnqp",
    "outputId": "d029f628-256f-425b-d688-4bfdd4048617"
   },
   "outputs": [],
   "source": [
    "#[문제] 토익시험 학습정보 데이터 'df2'에서 각 ID별 차시(Seq)가 2인 행을 선택하여 새로운 데이터프레임 'temp2'에 할당해 주세요."
   ]
  },
  {
   "cell_type": "code",
   "execution_count": 34,
   "metadata": {},
   "outputs": [],
   "source": [
    "# 2차시 데이터 : ['Seq'] == 2\n",
    "# loc 함수 활용 : 특정 행, 특정 행과 열, 그리고 조건에 따라 필터링된 행을 선택\n"
   ]
  },
  {
   "cell_type": "code",
   "execution_count": 35,
   "metadata": {},
   "outputs": [],
   "source": [
    "#[문제] 'temp2'에는 df2['ID','LC_Score','RC_Score','Total Score'] 컬럼만 불러와 주세요."
   ]
  },
  {
   "cell_type": "code",
   "execution_count": null,
   "metadata": {},
   "outputs": [],
   "source": []
  },
  {
   "cell_type": "code",
   "execution_count": 36,
   "metadata": {},
   "outputs": [],
   "source": [
    "#[문제] temp2 데이터프레임의 열이름 중 'LC_Score', 'RC_Score', 'Total Score'를 각각 '2st_LC_Score', '2st_RC_Score', '2st_Total_Score'로 변경해주세요."
   ]
  },
  {
   "cell_type": "code",
   "execution_count": 37,
   "metadata": {},
   "outputs": [],
   "source": [
    "# rename 함수 활용, temp2에 저장 및 확인\n"
   ]
  },
  {
   "cell_type": "code",
   "execution_count": 38,
   "metadata": {
    "tags": []
   },
   "outputs": [],
   "source": [
    "#[문제] 3회차 토익시험 정보가 모두 포함된 'temp' 데이터 + 1차시 토익시험점수 'temp1' 데이터을 합쳐서 'score_merged_data1'에 할당하세요."
   ]
  },
  {
   "cell_type": "code",
   "execution_count": 39,
   "metadata": {},
   "outputs": [],
   "source": [
    "# 'temp'와 'temp1'을 'ID' 열 기준 조인하여 'score_merged_data1'에 저장\n",
    "# merge 함수 할용, how='outer'\n"
   ]
  },
  {
   "cell_type": "code",
   "execution_count": 40,
   "metadata": {},
   "outputs": [],
   "source": [
    "#[문제] 'score_merged_data1'과 'temp2' 데이터를 합쳐서 'score_merged_data2'에 할당하세요.\n"
   ]
  },
  {
   "cell_type": "code",
   "execution_count": 41,
   "metadata": {},
   "outputs": [],
   "source": [
    "# 'score_merged_data1'과 'temp2'을 'ID' 열을 기준으로 조인하여 'score_merged_data2'에 저장\n",
    "# merge 함수 할용, how='outer'\n"
   ]
  },
  {
   "cell_type": "code",
   "execution_count": 42,
   "metadata": {},
   "outputs": [],
   "source": [
    "#[문제] score_merged_data2 데이터를 확인하세요."
   ]
  },
  {
   "cell_type": "code",
   "execution_count": null,
   "metadata": {},
   "outputs": [],
   "source": []
  },
  {
   "cell_type": "markdown",
   "metadata": {
    "id": "1jOIvVDdE2sO"
   },
   "source": [
    "### (4) (2)개인정보 데이터와 (3)토익시험 학습정보 합치기"
   ]
  },
  {
   "cell_type": "code",
   "execution_count": 43,
   "metadata": {
    "colab": {
     "base_uri": "https://localhost:8080/",
     "height": 780
    },
    "executionInfo": {
     "elapsed": 16,
     "status": "ok",
     "timestamp": 1679834039282,
     "user": {
      "displayName": "이선영",
      "userId": "03062122541069374649"
     },
     "user_tz": -540
    },
    "id": "QUkEmfZIN6vk",
    "outputId": "ed311b18-5e9f-409e-84ad-8046640b0f9c"
   },
   "outputs": [],
   "source": [
    "#[문제] 개인정보 데이터 'df1'과 토익시험 학습정보 'score_merged_data2'를 ID 기준으로 합치고 'baseline_data'에 할당하세요.\n"
   ]
  },
  {
   "cell_type": "code",
   "execution_count": 44,
   "metadata": {},
   "outputs": [],
   "source": [
    "# merge 함수, 합쳐진 데이터는 'baseline_data'로 저장\n"
   ]
  },
  {
   "cell_type": "markdown",
   "metadata": {
    "id": "3vs9HoAqFJvE"
   },
   "source": [
    "### (5) 레이블 만들기"
   ]
  },
  {
   "cell_type": "markdown",
   "metadata": {
    "id": "viv3snDMSD3u"
   },
   "source": [
    "* **세부 요구사항**\n",
    "    - 시험 2회차와 3회차의 Score 차이를 구하여 분석하고 싶습니다.\n",
    "    - 이를 계산해서 'Score_diff_total'이라는 변수로 추가해봅시다.\n",
    "    - 레이블을 만드는 것은 데이터를 의미있는 방식으로 구분하거나 식별하는 것을 말합니다."
   ]
  },
  {
   "cell_type": "code",
   "execution_count": 45,
   "metadata": {
    "colab": {
     "base_uri": "https://localhost:8080/",
     "height": 989
    },
    "executionInfo": {
     "elapsed": 16,
     "status": "ok",
     "timestamp": 1679834039283,
     "user": {
      "displayName": "이선영",
      "userId": "03062122541069374649"
     },
     "user_tz": -540
    },
    "id": "DHu8-DQcSHNz",
    "outputId": "01552d10-e259-4520-f387-bec966b80880"
   },
   "outputs": [],
   "source": [
    "#[문제] baseline_data 데이터프레임에서 2차시와 3차시의 시험점수 차이를 'Score_diff_total'이라는 변수로 'baseline_data'에 추가해주세요.\n"
   ]
  },
  {
   "cell_type": "code",
   "execution_count": 46,
   "metadata": {},
   "outputs": [],
   "source": [
    "# baseline_data의 'Score_diff_total' 변수 = '3st_Total_Score'에서 '2st_Total_Score'를 마이너스한 값\n"
   ]
  },
  {
   "cell_type": "code",
   "execution_count": 47,
   "metadata": {},
   "outputs": [],
   "source": [
    "#[문제] baseline_data 확인해주세요."
   ]
  },
  {
   "cell_type": "code",
   "execution_count": null,
   "metadata": {},
   "outputs": [],
   "source": []
  },
  {
   "cell_type": "markdown",
   "metadata": {
    "id": "DFVvSdhGQ4N_"
   },
   "source": [
    "## 4.데이터셋 저장하기"
   ]
  },
  {
   "cell_type": "markdown",
   "metadata": {
    "id": "rPKwF9wlyK0D"
   },
   "source": [
    "* **세부 요구사항**\n",
    "    * to_csv를 이용하여 전처리된 데이터셋을 저장하세요.\n",
    "    * 저장할 파일의 확장자는 .csv 입니다."
   ]
  },
  {
   "cell_type": "code",
   "execution_count": 48,
   "metadata": {
    "colab": {
     "base_uri": "https://localhost:8080/"
    },
    "executionInfo": {
     "elapsed": 423,
     "status": "ok",
     "timestamp": 1679834039694,
     "user": {
      "displayName": "이선영",
      "userId": "03062122541069374649"
     },
     "user_tz": -540
    },
    "id": "rsPMYAnPBo4k",
    "outputId": "7244b9e7-d2b6-4fa6-dff5-5096f4f4413a"
   },
   "outputs": [],
   "source": [
    "#[문제] 전처리된 데이터프레임 'baseline_data'를 CSV 파일로 저장합니다."
   ]
  },
  {
   "cell_type": "code",
   "execution_count": 49,
   "metadata": {},
   "outputs": [],
   "source": [
    "# 파일 : 'data04_baseline.csv'\n",
    "# to_csv 함수 활용, index=False\n"
   ]
  },
  {
   "cell_type": "code",
   "execution_count": 50,
   "metadata": {},
   "outputs": [],
   "source": [
    "#[문제] 제대로 저장이 잘 되었는지 'data04_baseline.csv' 파일을 불러와 확인해보세요."
   ]
  },
  {
   "cell_type": "code",
   "execution_count": null,
   "metadata": {},
   "outputs": [],
   "source": []
  },
  {
   "cell_type": "code",
   "execution_count": 51,
   "metadata": {},
   "outputs": [],
   "source": [
    "## 고생 정말 많으셨습니다!!\n",
    "## 실습시간이 남으신 분은 '중급'용 파일에 도전해보세요."
   ]
  }
 ],
 "metadata": {
  "colab": {
   "provenance": [],
   "toc_visible": true
  },
  "kernelspec": {
   "display_name": "Python 3 (ipykernel)",
   "language": "python",
   "name": "python3"
  },
  "language_info": {
   "codemirror_mode": {
    "name": "ipython",
    "version": 3
   },
   "file_extension": ".py",
   "mimetype": "text/x-python",
   "name": "python",
   "nbconvert_exporter": "python",
   "pygments_lexer": "ipython3",
   "version": "3.9.13"
  }
 },
 "nbformat": 4,
 "nbformat_minor": 4
}
