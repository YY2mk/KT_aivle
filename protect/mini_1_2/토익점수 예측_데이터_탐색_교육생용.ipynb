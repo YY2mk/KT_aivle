{
 "cells": [
  {
   "cell_type": "markdown",
   "metadata": {
    "id": "mJlY5pHkC2AM"
   },
   "source": [
    "# **토익진단평가 데이터 다듬기2**\n",
    "# 단계2 : 데이터프레임 탐색"
   ]
  },
  {
   "cell_type": "markdown",
   "metadata": {
    "id": "-FPypzell2uc"
   },
   "source": [
    "## 0.미션"
   ]
  },
  {
   "cell_type": "markdown",
   "metadata": {
    "id": "SIB0IcbdD_aj"
   },
   "source": [
    "* 전처리 단계에서 생성한 데이터에 대한 데이터프레임 탐색을 해봅시다.\n",
    "* 개별 변수 및 개별 변수들 간의 관계에 대해 생각해보고, 분석해봅니다."
   ]
  },
  {
   "cell_type": "markdown",
   "metadata": {
    "id": "dWToio0hXNVS"
   },
   "source": [
    "## 1.환경설정"
   ]
  },
  {
   "cell_type": "markdown",
   "metadata": {
    "id": "zxlUC7TWTIvT"
   },
   "source": [
    "### (1) 폰트 설치"
   ]
  },
  {
   "cell_type": "code",
   "execution_count": 44,
   "metadata": {
    "colab": {
     "base_uri": "https://localhost:8080/"
    },
    "executionInfo": {
     "elapsed": 16636,
     "status": "ok",
     "timestamp": 1679819218133,
     "user": {
      "displayName": "이선영",
      "userId": "03062122541069374649"
     },
     "user_tz": -540
    },
    "id": "4k9dUgQ1TCbH",
    "outputId": "9ac41fd2-8b60-4023-df8b-e686a6d5b847"
   },
   "outputs": [],
   "source": [
    "# 아래 라이브러리를 수행해주세요."
   ]
  },
  {
   "cell_type": "code",
   "execution_count": 45,
   "metadata": {},
   "outputs": [
    {
     "name": "stdout",
     "output_type": "stream",
     "text": [
      "Requirement already satisfied: matplotlib in c:\\users\\user\\anaconda3\\lib\\site-packages (3.8.3)\n",
      "Requirement already satisfied: contourpy>=1.0.1 in c:\\users\\user\\anaconda3\\lib\\site-packages (from matplotlib) (1.0.5)\n",
      "Requirement already satisfied: cycler>=0.10 in c:\\users\\user\\anaconda3\\lib\\site-packages (from matplotlib) (0.11.0)\n",
      "Requirement already satisfied: fonttools>=4.22.0 in c:\\users\\user\\anaconda3\\lib\\site-packages (from matplotlib) (4.25.0)\n",
      "Requirement already satisfied: kiwisolver>=1.3.1 in c:\\users\\user\\anaconda3\\lib\\site-packages (from matplotlib) (1.4.4)\n",
      "Requirement already satisfied: numpy<2,>=1.21 in c:\\users\\user\\anaconda3\\lib\\site-packages (from matplotlib) (1.24.3)\n",
      "Requirement already satisfied: packaging>=20.0 in c:\\users\\user\\anaconda3\\lib\\site-packages (from matplotlib) (23.1)\n",
      "Requirement already satisfied: pillow>=8 in c:\\users\\user\\anaconda3\\lib\\site-packages (from matplotlib) (10.0.1)\n",
      "Requirement already satisfied: pyparsing>=2.3.1 in c:\\users\\user\\anaconda3\\lib\\site-packages (from matplotlib) (3.0.9)\n",
      "Requirement already satisfied: python-dateutil>=2.7 in c:\\users\\user\\anaconda3\\lib\\site-packages (from matplotlib) (2.8.2)\n",
      "Requirement already satisfied: six>=1.5 in c:\\users\\user\\anaconda3\\lib\\site-packages (from python-dateutil>=2.7->matplotlib) (1.16.0)\n",
      "Requirement already satisfied: matplotlib in c:\\users\\user\\anaconda3\\lib\\site-packages (3.8.3)\n",
      "Requirement already satisfied: contourpy>=1.0.1 in c:\\users\\user\\anaconda3\\lib\\site-packages (from matplotlib) (1.0.5)\n",
      "Requirement already satisfied: cycler>=0.10 in c:\\users\\user\\anaconda3\\lib\\site-packages (from matplotlib) (0.11.0)\n",
      "Requirement already satisfied: fonttools>=4.22.0 in c:\\users\\user\\anaconda3\\lib\\site-packages (from matplotlib) (4.25.0)\n",
      "Requirement already satisfied: kiwisolver>=1.3.1 in c:\\users\\user\\anaconda3\\lib\\site-packages (from matplotlib) (1.4.4)\n",
      "Requirement already satisfied: numpy<2,>=1.21 in c:\\users\\user\\anaconda3\\lib\\site-packages (from matplotlib) (1.24.3)\n",
      "Requirement already satisfied: packaging>=20.0 in c:\\users\\user\\anaconda3\\lib\\site-packages (from matplotlib) (23.1)\n",
      "Requirement already satisfied: pillow>=8 in c:\\users\\user\\anaconda3\\lib\\site-packages (from matplotlib) (10.0.1)\n",
      "Requirement already satisfied: pyparsing>=2.3.1 in c:\\users\\user\\anaconda3\\lib\\site-packages (from matplotlib) (3.0.9)\n",
      "Requirement already satisfied: python-dateutil>=2.7 in c:\\users\\user\\anaconda3\\lib\\site-packages (from matplotlib) (2.8.2)\n",
      "Requirement already satisfied: six>=1.5 in c:\\users\\user\\anaconda3\\lib\\site-packages (from python-dateutil>=2.7->matplotlib) (1.16.0)\n"
     ]
    }
   ],
   "source": [
    "!pip install matplotlib\n",
    "!pip install --upgrade matplotlib\n",
    "\n",
    "import matplotlib.pyplot as plt"
   ]
  },
  {
   "cell_type": "markdown",
   "metadata": {
    "id": "KnzVh2LmkLDU"
   },
   "source": [
    "### (2) 라이브러리 불러오기"
   ]
  },
  {
   "cell_type": "markdown",
   "metadata": {
    "id": "I_rCs78QJZmI"
   },
   "source": [
    "* **세부 요구사항**\n",
    "    - 기본적으로 필요한 라이브러리를 import 하도록 코드를 작성하였습니다.\n",
    "    - pandas, numpy, matplotlib 라이브러리를 실행해주세요."
   ]
  },
  {
   "cell_type": "code",
   "execution_count": 46,
   "metadata": {},
   "outputs": [],
   "source": [
    "#[문제] pandas 라이브러리를 임포트하세요."
   ]
  },
  {
   "cell_type": "code",
   "execution_count": 47,
   "metadata": {
    "tags": []
   },
   "outputs": [],
   "source": [
    "import pandas as pd"
   ]
  },
  {
   "cell_type": "code",
   "execution_count": 48,
   "metadata": {
    "tags": []
   },
   "outputs": [],
   "source": [
    "#[문제] numpy 라이브러리를 임포트하세요."
   ]
  },
  {
   "cell_type": "code",
   "execution_count": 49,
   "metadata": {
    "tags": []
   },
   "outputs": [],
   "source": [
    "import numpy as np"
   ]
  },
  {
   "cell_type": "code",
   "execution_count": 50,
   "metadata": {
    "tags": []
   },
   "outputs": [],
   "source": [
    "#[문제] matplotlib 라이브러리를 임포트하세요."
   ]
  },
  {
   "cell_type": "code",
   "execution_count": 51,
   "metadata": {
    "tags": []
   },
   "outputs": [],
   "source": [
    "import matplotlib.pyplot as plt"
   ]
  },
  {
   "cell_type": "code",
   "execution_count": 52,
   "metadata": {
    "tags": []
   },
   "outputs": [],
   "source": [
    "#차트에 한글폰트 설정을 위해 아래 라이브러리를 실행해주세요."
   ]
  },
  {
   "cell_type": "code",
   "execution_count": 53,
   "metadata": {
    "id": "44iV0nhcTkWx",
    "tags": []
   },
   "outputs": [],
   "source": [
    "plt.rc('font', family='Malgun Gothic')"
   ]
  },
  {
   "cell_type": "markdown",
   "metadata": {
    "id": "L8ROQsZuekw8"
   },
   "source": [
    "### (3) 데이터 불러오기\n",
    "* 1.데이터 전처리 단계에서 앞 시간에 생성한 데이터를 로딩합니다.\n",
    "    * data04_baseline.csv\n",
    "* 다음과 같이 데이터를 저장하여 불러와주세요.\n",
    "    * 주피터랩 수행\n",
    "        * 제공된 압축파일 '미프 1차_토익'을 다운받아 압축을 푼다.\n",
    "        * anaconda의 root directory(보통 C:\\Users\\<ID> 에 '미프 1차_토익' 폴더를 만들고, 복사해 넣습니다.\n",
    "        * '2.데이터_탐색_교육생용' 실습파일을 열어주세요."
   ]
  },
  {
   "cell_type": "markdown",
   "metadata": {
    "id": "HYi9O2rNdBU_"
   },
   "source": [
    "#### 1) 주피터랩 수행"
   ]
  },
  {
   "cell_type": "code",
   "execution_count": 54,
   "metadata": {
    "id": "876cuCbEd4j_"
   },
   "outputs": [],
   "source": [
    "# '미프 1차_토익' 폴더에 필요한 파일들을 넣고, 본 파일을 열고 데이터를 읽어옵니다."
   ]
  },
  {
   "cell_type": "code",
   "execution_count": 55,
   "metadata": {},
   "outputs": [],
   "source": [
    "#[문제] '미프 1차_토익' 폴더에서 본 파일 '2.데이터_탐색_교육생용' 실습파일을 열어주세요."
   ]
  },
  {
   "cell_type": "code",
   "execution_count": null,
   "metadata": {},
   "outputs": [],
   "source": []
  },
  {
   "cell_type": "markdown",
   "metadata": {
    "id": "GH3ApIzofYPb"
   },
   "source": [
    "#### 2) 저장된 데이터 읽어오기\n",
    "* [1.전처리] 단계에서 저장된 .csv 파일인 'data04_baseline.csv' 파일을 불러옵니다.\n",
    "* 불러 온 후에는 shape를 확인해 봅시다."
   ]
  },
  {
   "cell_type": "code",
   "execution_count": 56,
   "metadata": {
    "id": "r9RnmjVqgfU6"
   },
   "outputs": [],
   "source": [
    "#[문제] data04_baseline.csv 파일을 pd.read_csv 함수를 이용하여 읽고 data변수에 할당하세요."
   ]
  },
  {
   "cell_type": "code",
   "execution_count": 57,
   "metadata": {},
   "outputs": [],
   "source": [
    "# 읽어들일 파일명 : data04_baseline.csv\n",
    "# Pandas read_csv 함수 활용\n",
    "# 결과 : data 저장"
   ]
  },
  {
   "cell_type": "code",
   "execution_count": 58,
   "metadata": {},
   "outputs": [],
   "source": [
    "data = pd.read_csv('data04_baseline_1.csv')"
   ]
  },
  {
   "cell_type": "code",
   "execution_count": 59,
   "metadata": {},
   "outputs": [],
   "source": [
    "#[문제] 읽어온 데이터프레임 data 확인해주세요."
   ]
  },
  {
   "cell_type": "code",
   "execution_count": 60,
   "metadata": {
    "colab": {
     "base_uri": "https://localhost:8080/",
     "height": 659
    },
    "executionInfo": {
     "elapsed": 20,
     "status": "ok",
     "timestamp": 1679843247643,
     "user": {
      "displayName": "이선영",
      "userId": "03062122541069374649"
     },
     "user_tz": -540
    },
    "id": "OFcG1RneQPuf",
    "outputId": "eaa6a9a8-62fe-454d-bc39-55293f13f73d"
   },
   "outputs": [
    {
     "data": {
      "text/html": [
       "<div>\n",
       "<style scoped>\n",
       "    .dataframe tbody tr th:only-of-type {\n",
       "        vertical-align: middle;\n",
       "    }\n",
       "\n",
       "    .dataframe tbody tr th {\n",
       "        vertical-align: top;\n",
       "    }\n",
       "\n",
       "    .dataframe thead th {\n",
       "        text-align: right;\n",
       "    }\n",
       "</style>\n",
       "<table border=\"1\" class=\"dataframe\">\n",
       "  <thead>\n",
       "    <tr style=\"text-align: right;\">\n",
       "      <th></th>\n",
       "      <th>Unnamed: 0</th>\n",
       "      <th>ID</th>\n",
       "      <th>Gender_x</th>\n",
       "      <th>Birth_Year_x</th>\n",
       "      <th>Seq</th>\n",
       "      <th>Gender_y</th>\n",
       "      <th>Birth_Year_y</th>\n",
       "      <th>3st_LC_Score</th>\n",
       "      <th>3st_RC_Score</th>\n",
       "      <th>3st_Total_Score</th>\n",
       "      <th>...</th>\n",
       "      <th>기출문제 공부 횟수</th>\n",
       "      <th>취약분야 인지 여부</th>\n",
       "      <th>토익 모의테스트 횟수</th>\n",
       "      <th>1st_LC_Score</th>\n",
       "      <th>1st_RC_Score</th>\n",
       "      <th>1st_Total_Score</th>\n",
       "      <th>2st_LC_Score</th>\n",
       "      <th>2st_RC_Score</th>\n",
       "      <th>2st_Total_Score</th>\n",
       "      <th>Score_diff_total</th>\n",
       "    </tr>\n",
       "  </thead>\n",
       "  <tbody>\n",
       "    <tr>\n",
       "      <th>0</th>\n",
       "      <td>0</td>\n",
       "      <td>1</td>\n",
       "      <td>M</td>\n",
       "      <td>1973</td>\n",
       "      <td>3</td>\n",
       "      <td>M</td>\n",
       "      <td>1973</td>\n",
       "      <td>345</td>\n",
       "      <td>336</td>\n",
       "      <td>681</td>\n",
       "      <td>...</td>\n",
       "      <td>7.0</td>\n",
       "      <td>알고 있음</td>\n",
       "      <td>10</td>\n",
       "      <td>181</td>\n",
       "      <td>173</td>\n",
       "      <td>354</td>\n",
       "      <td>227</td>\n",
       "      <td>213</td>\n",
       "      <td>440</td>\n",
       "      <td>241</td>\n",
       "    </tr>\n",
       "    <tr>\n",
       "      <th>1</th>\n",
       "      <td>1</td>\n",
       "      <td>2</td>\n",
       "      <td>F</td>\n",
       "      <td>1982</td>\n",
       "      <td>3</td>\n",
       "      <td>F</td>\n",
       "      <td>1982</td>\n",
       "      <td>380</td>\n",
       "      <td>368</td>\n",
       "      <td>748</td>\n",
       "      <td>...</td>\n",
       "      <td>4.0</td>\n",
       "      <td>알고 있음</td>\n",
       "      <td>14</td>\n",
       "      <td>330</td>\n",
       "      <td>290</td>\n",
       "      <td>620</td>\n",
       "      <td>354</td>\n",
       "      <td>339</td>\n",
       "      <td>693</td>\n",
       "      <td>55</td>\n",
       "    </tr>\n",
       "    <tr>\n",
       "      <th>2</th>\n",
       "      <td>2</td>\n",
       "      <td>3</td>\n",
       "      <td>F</td>\n",
       "      <td>1995</td>\n",
       "      <td>3</td>\n",
       "      <td>F</td>\n",
       "      <td>1995</td>\n",
       "      <td>416</td>\n",
       "      <td>382</td>\n",
       "      <td>798</td>\n",
       "      <td>...</td>\n",
       "      <td>4.0</td>\n",
       "      <td>알고 있음</td>\n",
       "      <td>4</td>\n",
       "      <td>367</td>\n",
       "      <td>309</td>\n",
       "      <td>676</td>\n",
       "      <td>396</td>\n",
       "      <td>365</td>\n",
       "      <td>761</td>\n",
       "      <td>37</td>\n",
       "    </tr>\n",
       "    <tr>\n",
       "      <th>3</th>\n",
       "      <td>3</td>\n",
       "      <td>4</td>\n",
       "      <td>M</td>\n",
       "      <td>1987</td>\n",
       "      <td>3</td>\n",
       "      <td>M</td>\n",
       "      <td>1987</td>\n",
       "      <td>495</td>\n",
       "      <td>397</td>\n",
       "      <td>892</td>\n",
       "      <td>...</td>\n",
       "      <td>9.0</td>\n",
       "      <td>알고 있음</td>\n",
       "      <td>8</td>\n",
       "      <td>470</td>\n",
       "      <td>285</td>\n",
       "      <td>755</td>\n",
       "      <td>495</td>\n",
       "      <td>341</td>\n",
       "      <td>836</td>\n",
       "      <td>56</td>\n",
       "    </tr>\n",
       "    <tr>\n",
       "      <th>4</th>\n",
       "      <td>4</td>\n",
       "      <td>5</td>\n",
       "      <td>M</td>\n",
       "      <td>1994</td>\n",
       "      <td>3</td>\n",
       "      <td>M</td>\n",
       "      <td>1994</td>\n",
       "      <td>398</td>\n",
       "      <td>437</td>\n",
       "      <td>835</td>\n",
       "      <td>...</td>\n",
       "      <td>6.0</td>\n",
       "      <td>알고 있음</td>\n",
       "      <td>4</td>\n",
       "      <td>273</td>\n",
       "      <td>372</td>\n",
       "      <td>645</td>\n",
       "      <td>314</td>\n",
       "      <td>426</td>\n",
       "      <td>740</td>\n",
       "      <td>95</td>\n",
       "    </tr>\n",
       "    <tr>\n",
       "      <th>...</th>\n",
       "      <td>...</td>\n",
       "      <td>...</td>\n",
       "      <td>...</td>\n",
       "      <td>...</td>\n",
       "      <td>...</td>\n",
       "      <td>...</td>\n",
       "      <td>...</td>\n",
       "      <td>...</td>\n",
       "      <td>...</td>\n",
       "      <td>...</td>\n",
       "      <td>...</td>\n",
       "      <td>...</td>\n",
       "      <td>...</td>\n",
       "      <td>...</td>\n",
       "      <td>...</td>\n",
       "      <td>...</td>\n",
       "      <td>...</td>\n",
       "      <td>...</td>\n",
       "      <td>...</td>\n",
       "      <td>...</td>\n",
       "      <td>...</td>\n",
       "    </tr>\n",
       "    <tr>\n",
       "      <th>495</th>\n",
       "      <td>495</td>\n",
       "      <td>496</td>\n",
       "      <td>M</td>\n",
       "      <td>2006</td>\n",
       "      <td>3</td>\n",
       "      <td>M</td>\n",
       "      <td>2006</td>\n",
       "      <td>364</td>\n",
       "      <td>336</td>\n",
       "      <td>700</td>\n",
       "      <td>...</td>\n",
       "      <td>10.0</td>\n",
       "      <td>알고 있음</td>\n",
       "      <td>13</td>\n",
       "      <td>347</td>\n",
       "      <td>315</td>\n",
       "      <td>662</td>\n",
       "      <td>349</td>\n",
       "      <td>321</td>\n",
       "      <td>670</td>\n",
       "      <td>30</td>\n",
       "    </tr>\n",
       "    <tr>\n",
       "      <th>496</th>\n",
       "      <td>496</td>\n",
       "      <td>497</td>\n",
       "      <td>F</td>\n",
       "      <td>1988</td>\n",
       "      <td>3</td>\n",
       "      <td>F</td>\n",
       "      <td>1988</td>\n",
       "      <td>187</td>\n",
       "      <td>252</td>\n",
       "      <td>439</td>\n",
       "      <td>...</td>\n",
       "      <td>9.0</td>\n",
       "      <td>알고 있음</td>\n",
       "      <td>17</td>\n",
       "      <td>112</td>\n",
       "      <td>250</td>\n",
       "      <td>362</td>\n",
       "      <td>120</td>\n",
       "      <td>251</td>\n",
       "      <td>371</td>\n",
       "      <td>68</td>\n",
       "    </tr>\n",
       "    <tr>\n",
       "      <th>497</th>\n",
       "      <td>497</td>\n",
       "      <td>498</td>\n",
       "      <td>M</td>\n",
       "      <td>2006</td>\n",
       "      <td>3</td>\n",
       "      <td>M</td>\n",
       "      <td>2006</td>\n",
       "      <td>255</td>\n",
       "      <td>167</td>\n",
       "      <td>422</td>\n",
       "      <td>...</td>\n",
       "      <td>0.0</td>\n",
       "      <td>알고 있음</td>\n",
       "      <td>4</td>\n",
       "      <td>252</td>\n",
       "      <td>150</td>\n",
       "      <td>402</td>\n",
       "      <td>254</td>\n",
       "      <td>158</td>\n",
       "      <td>412</td>\n",
       "      <td>10</td>\n",
       "    </tr>\n",
       "    <tr>\n",
       "      <th>498</th>\n",
       "      <td>498</td>\n",
       "      <td>499</td>\n",
       "      <td>F</td>\n",
       "      <td>1990</td>\n",
       "      <td>3</td>\n",
       "      <td>F</td>\n",
       "      <td>1990</td>\n",
       "      <td>422</td>\n",
       "      <td>370</td>\n",
       "      <td>792</td>\n",
       "      <td>...</td>\n",
       "      <td>4.0</td>\n",
       "      <td>알고 있음</td>\n",
       "      <td>7</td>\n",
       "      <td>371</td>\n",
       "      <td>324</td>\n",
       "      <td>695</td>\n",
       "      <td>378</td>\n",
       "      <td>326</td>\n",
       "      <td>704</td>\n",
       "      <td>88</td>\n",
       "    </tr>\n",
       "    <tr>\n",
       "      <th>499</th>\n",
       "      <td>499</td>\n",
       "      <td>500</td>\n",
       "      <td>M</td>\n",
       "      <td>1984</td>\n",
       "      <td>3</td>\n",
       "      <td>M</td>\n",
       "      <td>1984</td>\n",
       "      <td>235</td>\n",
       "      <td>226</td>\n",
       "      <td>461</td>\n",
       "      <td>...</td>\n",
       "      <td>7.0</td>\n",
       "      <td>알고 있음</td>\n",
       "      <td>15</td>\n",
       "      <td>169</td>\n",
       "      <td>188</td>\n",
       "      <td>357</td>\n",
       "      <td>172</td>\n",
       "      <td>190</td>\n",
       "      <td>362</td>\n",
       "      <td>99</td>\n",
       "    </tr>\n",
       "  </tbody>\n",
       "</table>\n",
       "<p>500 rows × 24 columns</p>\n",
       "</div>"
      ],
      "text/plain": [
       "     Unnamed: 0   ID Gender_x  Birth_Year_x  Seq Gender_y  Birth_Year_y  \\\n",
       "0             0    1        M          1973    3        M          1973   \n",
       "1             1    2        F          1982    3        F          1982   \n",
       "2             2    3        F          1995    3        F          1995   \n",
       "3             3    4        M          1987    3        M          1987   \n",
       "4             4    5        M          1994    3        M          1994   \n",
       "..          ...  ...      ...           ...  ...      ...           ...   \n",
       "495         495  496        M          2006    3        M          2006   \n",
       "496         496  497        F          1988    3        F          1988   \n",
       "497         497  498        M          2006    3        M          2006   \n",
       "498         498  499        F          1990    3        F          1990   \n",
       "499         499  500        M          1984    3        M          1984   \n",
       "\n",
       "     3st_LC_Score  3st_RC_Score  3st_Total_Score  ... 기출문제 공부 횟수 취약분야 인지 여부  \\\n",
       "0             345           336              681  ...        7.0      알고 있음   \n",
       "1             380           368              748  ...        4.0      알고 있음   \n",
       "2             416           382              798  ...        4.0      알고 있음   \n",
       "3             495           397              892  ...        9.0      알고 있음   \n",
       "4             398           437              835  ...        6.0      알고 있음   \n",
       "..            ...           ...              ...  ...        ...        ...   \n",
       "495           364           336              700  ...       10.0      알고 있음   \n",
       "496           187           252              439  ...        9.0      알고 있음   \n",
       "497           255           167              422  ...        0.0      알고 있음   \n",
       "498           422           370              792  ...        4.0      알고 있음   \n",
       "499           235           226              461  ...        7.0      알고 있음   \n",
       "\n",
       "    토익 모의테스트 횟수 1st_LC_Score  1st_RC_Score 1st_Total_Score  2st_LC_Score  \\\n",
       "0            10          181           173             354           227   \n",
       "1            14          330           290             620           354   \n",
       "2             4          367           309             676           396   \n",
       "3             8          470           285             755           495   \n",
       "4             4          273           372             645           314   \n",
       "..          ...          ...           ...             ...           ...   \n",
       "495          13          347           315             662           349   \n",
       "496          17          112           250             362           120   \n",
       "497           4          252           150             402           254   \n",
       "498           7          371           324             695           378   \n",
       "499          15          169           188             357           172   \n",
       "\n",
       "     2st_RC_Score  2st_Total_Score  Score_diff_total  \n",
       "0             213              440               241  \n",
       "1             339              693                55  \n",
       "2             365              761                37  \n",
       "3             341              836                56  \n",
       "4             426              740                95  \n",
       "..            ...              ...               ...  \n",
       "495           321              670                30  \n",
       "496           251              371                68  \n",
       "497           158              412                10  \n",
       "498           326              704                88  \n",
       "499           190              362                99  \n",
       "\n",
       "[500 rows x 24 columns]"
      ]
     },
     "execution_count": 60,
     "metadata": {},
     "output_type": "execute_result"
    }
   ],
   "source": [
    "data"
   ]
  },
  {
   "cell_type": "code",
   "execution_count": 61,
   "metadata": {},
   "outputs": [],
   "source": [
    "#[문제] data 데이터프레임의 열과 행을 확인해주세요."
   ]
  },
  {
   "cell_type": "code",
   "execution_count": 62,
   "metadata": {},
   "outputs": [
    {
     "data": {
      "text/plain": [
       "(500, 24)"
      ]
     },
     "execution_count": 62,
     "metadata": {},
     "output_type": "execute_result"
    }
   ],
   "source": [
    "data.shape"
   ]
  },
  {
   "cell_type": "code",
   "execution_count": 63,
   "metadata": {},
   "outputs": [],
   "source": [
    "#[문제] data 데이터프레임의 자료구조(Row, Column, Not-null, type)을 파악하세요."
   ]
  },
  {
   "cell_type": "code",
   "execution_count": 64,
   "metadata": {
    "id": "Nrv3NIlZ08dt"
   },
   "outputs": [
    {
     "name": "stdout",
     "output_type": "stream",
     "text": [
      "<class 'pandas.core.frame.DataFrame'>\n",
      "RangeIndex: 500 entries, 0 to 499\n",
      "Data columns (total 24 columns):\n",
      " #   Column            Non-Null Count  Dtype  \n",
      "---  ------            --------------  -----  \n",
      " 0   Unnamed: 0        500 non-null    int64  \n",
      " 1   ID                500 non-null    int64  \n",
      " 2   Gender_x          500 non-null    object \n",
      " 3   Birth_Year_x      500 non-null    int64  \n",
      " 4   Seq               500 non-null    int64  \n",
      " 5   Gender_y          500 non-null    object \n",
      " 6   Birth_Year_y      500 non-null    int64  \n",
      " 7   3st_LC_Score      500 non-null    int64  \n",
      " 8   3st_RC_Score      500 non-null    int64  \n",
      " 9   3st_Total_Score   500 non-null    int64  \n",
      " 10  학습목표              500 non-null    object \n",
      " 11  학습방법              500 non-null    object \n",
      " 12  강의 학습 교재 유형       500 non-null    object \n",
      " 13  학습빈도              500 non-null    object \n",
      " 14  기출문제 공부 횟수        500 non-null    float64\n",
      " 15  취약분야 인지 여부        500 non-null    object \n",
      " 16  토익 모의테스트 횟수       500 non-null    int64  \n",
      " 17  1st_LC_Score      500 non-null    int64  \n",
      " 18  1st_RC_Score      500 non-null    int64  \n",
      " 19  1st_Total_Score   500 non-null    int64  \n",
      " 20  2st_LC_Score      500 non-null    int64  \n",
      " 21  2st_RC_Score      500 non-null    int64  \n",
      " 22  2st_Total_Score   500 non-null    int64  \n",
      " 23  Score_diff_total  500 non-null    int64  \n",
      "dtypes: float64(1), int64(16), object(7)\n",
      "memory usage: 93.9+ KB\n"
     ]
    }
   ],
   "source": [
    "data.info()"
   ]
  },
  {
   "cell_type": "code",
   "execution_count": 65,
   "metadata": {},
   "outputs": [],
   "source": [
    "#[문제] 인덱스를 확인해보세요."
   ]
  },
  {
   "cell_type": "code",
   "execution_count": 66,
   "metadata": {},
   "outputs": [
    {
     "data": {
      "text/plain": [
       "RangeIndex(start=0, stop=500, step=1)"
      ]
     },
     "execution_count": 66,
     "metadata": {},
     "output_type": "execute_result"
    }
   ],
   "source": [
    "data.index"
   ]
  },
  {
   "cell_type": "code",
   "execution_count": 67,
   "metadata": {},
   "outputs": [],
   "source": [
    "#[문제] 컬럼명을 확인해보세요."
   ]
  },
  {
   "cell_type": "code",
   "execution_count": 68,
   "metadata": {},
   "outputs": [
    {
     "data": {
      "text/plain": [
       "Index(['Unnamed: 0', 'ID', 'Gender_x', 'Birth_Year_x', 'Seq', 'Gender_y',\n",
       "       'Birth_Year_y', '3st_LC_Score', '3st_RC_Score', '3st_Total_Score',\n",
       "       '학습목표', '학습방법', '강의 학습 교재 유형', '학습빈도', '기출문제 공부 횟수', '취약분야 인지 여부',\n",
       "       '토익 모의테스트 횟수', '1st_LC_Score', '1st_RC_Score', '1st_Total_Score',\n",
       "       '2st_LC_Score', '2st_RC_Score', '2st_Total_Score', 'Score_diff_total'],\n",
       "      dtype='object')"
      ]
     },
     "execution_count": 68,
     "metadata": {},
     "output_type": "execute_result"
    }
   ],
   "source": [
    "data.columns"
   ]
  },
  {
   "cell_type": "code",
   "execution_count": 69,
   "metadata": {},
   "outputs": [],
   "source": [
    "#[문제] 상단 5행을 확인해보세요"
   ]
  },
  {
   "cell_type": "code",
   "execution_count": 70,
   "metadata": {},
   "outputs": [
    {
     "data": {
      "text/html": [
       "<div>\n",
       "<style scoped>\n",
       "    .dataframe tbody tr th:only-of-type {\n",
       "        vertical-align: middle;\n",
       "    }\n",
       "\n",
       "    .dataframe tbody tr th {\n",
       "        vertical-align: top;\n",
       "    }\n",
       "\n",
       "    .dataframe thead th {\n",
       "        text-align: right;\n",
       "    }\n",
       "</style>\n",
       "<table border=\"1\" class=\"dataframe\">\n",
       "  <thead>\n",
       "    <tr style=\"text-align: right;\">\n",
       "      <th></th>\n",
       "      <th>Unnamed: 0</th>\n",
       "      <th>ID</th>\n",
       "      <th>Gender_x</th>\n",
       "      <th>Birth_Year_x</th>\n",
       "      <th>Seq</th>\n",
       "      <th>Gender_y</th>\n",
       "      <th>Birth_Year_y</th>\n",
       "      <th>3st_LC_Score</th>\n",
       "      <th>3st_RC_Score</th>\n",
       "      <th>3st_Total_Score</th>\n",
       "      <th>...</th>\n",
       "      <th>기출문제 공부 횟수</th>\n",
       "      <th>취약분야 인지 여부</th>\n",
       "      <th>토익 모의테스트 횟수</th>\n",
       "      <th>1st_LC_Score</th>\n",
       "      <th>1st_RC_Score</th>\n",
       "      <th>1st_Total_Score</th>\n",
       "      <th>2st_LC_Score</th>\n",
       "      <th>2st_RC_Score</th>\n",
       "      <th>2st_Total_Score</th>\n",
       "      <th>Score_diff_total</th>\n",
       "    </tr>\n",
       "  </thead>\n",
       "  <tbody>\n",
       "    <tr>\n",
       "      <th>0</th>\n",
       "      <td>0</td>\n",
       "      <td>1</td>\n",
       "      <td>M</td>\n",
       "      <td>1973</td>\n",
       "      <td>3</td>\n",
       "      <td>M</td>\n",
       "      <td>1973</td>\n",
       "      <td>345</td>\n",
       "      <td>336</td>\n",
       "      <td>681</td>\n",
       "      <td>...</td>\n",
       "      <td>7.0</td>\n",
       "      <td>알고 있음</td>\n",
       "      <td>10</td>\n",
       "      <td>181</td>\n",
       "      <td>173</td>\n",
       "      <td>354</td>\n",
       "      <td>227</td>\n",
       "      <td>213</td>\n",
       "      <td>440</td>\n",
       "      <td>241</td>\n",
       "    </tr>\n",
       "    <tr>\n",
       "      <th>1</th>\n",
       "      <td>1</td>\n",
       "      <td>2</td>\n",
       "      <td>F</td>\n",
       "      <td>1982</td>\n",
       "      <td>3</td>\n",
       "      <td>F</td>\n",
       "      <td>1982</td>\n",
       "      <td>380</td>\n",
       "      <td>368</td>\n",
       "      <td>748</td>\n",
       "      <td>...</td>\n",
       "      <td>4.0</td>\n",
       "      <td>알고 있음</td>\n",
       "      <td>14</td>\n",
       "      <td>330</td>\n",
       "      <td>290</td>\n",
       "      <td>620</td>\n",
       "      <td>354</td>\n",
       "      <td>339</td>\n",
       "      <td>693</td>\n",
       "      <td>55</td>\n",
       "    </tr>\n",
       "    <tr>\n",
       "      <th>2</th>\n",
       "      <td>2</td>\n",
       "      <td>3</td>\n",
       "      <td>F</td>\n",
       "      <td>1995</td>\n",
       "      <td>3</td>\n",
       "      <td>F</td>\n",
       "      <td>1995</td>\n",
       "      <td>416</td>\n",
       "      <td>382</td>\n",
       "      <td>798</td>\n",
       "      <td>...</td>\n",
       "      <td>4.0</td>\n",
       "      <td>알고 있음</td>\n",
       "      <td>4</td>\n",
       "      <td>367</td>\n",
       "      <td>309</td>\n",
       "      <td>676</td>\n",
       "      <td>396</td>\n",
       "      <td>365</td>\n",
       "      <td>761</td>\n",
       "      <td>37</td>\n",
       "    </tr>\n",
       "    <tr>\n",
       "      <th>3</th>\n",
       "      <td>3</td>\n",
       "      <td>4</td>\n",
       "      <td>M</td>\n",
       "      <td>1987</td>\n",
       "      <td>3</td>\n",
       "      <td>M</td>\n",
       "      <td>1987</td>\n",
       "      <td>495</td>\n",
       "      <td>397</td>\n",
       "      <td>892</td>\n",
       "      <td>...</td>\n",
       "      <td>9.0</td>\n",
       "      <td>알고 있음</td>\n",
       "      <td>8</td>\n",
       "      <td>470</td>\n",
       "      <td>285</td>\n",
       "      <td>755</td>\n",
       "      <td>495</td>\n",
       "      <td>341</td>\n",
       "      <td>836</td>\n",
       "      <td>56</td>\n",
       "    </tr>\n",
       "    <tr>\n",
       "      <th>4</th>\n",
       "      <td>4</td>\n",
       "      <td>5</td>\n",
       "      <td>M</td>\n",
       "      <td>1994</td>\n",
       "      <td>3</td>\n",
       "      <td>M</td>\n",
       "      <td>1994</td>\n",
       "      <td>398</td>\n",
       "      <td>437</td>\n",
       "      <td>835</td>\n",
       "      <td>...</td>\n",
       "      <td>6.0</td>\n",
       "      <td>알고 있음</td>\n",
       "      <td>4</td>\n",
       "      <td>273</td>\n",
       "      <td>372</td>\n",
       "      <td>645</td>\n",
       "      <td>314</td>\n",
       "      <td>426</td>\n",
       "      <td>740</td>\n",
       "      <td>95</td>\n",
       "    </tr>\n",
       "  </tbody>\n",
       "</table>\n",
       "<p>5 rows × 24 columns</p>\n",
       "</div>"
      ],
      "text/plain": [
       "   Unnamed: 0  ID Gender_x  Birth_Year_x  Seq Gender_y  Birth_Year_y  \\\n",
       "0           0   1        M          1973    3        M          1973   \n",
       "1           1   2        F          1982    3        F          1982   \n",
       "2           2   3        F          1995    3        F          1995   \n",
       "3           3   4        M          1987    3        M          1987   \n",
       "4           4   5        M          1994    3        M          1994   \n",
       "\n",
       "   3st_LC_Score  3st_RC_Score  3st_Total_Score  ... 기출문제 공부 횟수 취약분야 인지 여부  \\\n",
       "0           345           336              681  ...        7.0      알고 있음   \n",
       "1           380           368              748  ...        4.0      알고 있음   \n",
       "2           416           382              798  ...        4.0      알고 있음   \n",
       "3           495           397              892  ...        9.0      알고 있음   \n",
       "4           398           437              835  ...        6.0      알고 있음   \n",
       "\n",
       "  토익 모의테스트 횟수 1st_LC_Score  1st_RC_Score 1st_Total_Score  2st_LC_Score  \\\n",
       "0          10          181           173             354           227   \n",
       "1          14          330           290             620           354   \n",
       "2           4          367           309             676           396   \n",
       "3           8          470           285             755           495   \n",
       "4           4          273           372             645           314   \n",
       "\n",
       "   2st_RC_Score  2st_Total_Score  Score_diff_total  \n",
       "0           213              440               241  \n",
       "1           339              693                55  \n",
       "2           365              761                37  \n",
       "3           341              836                56  \n",
       "4           426              740                95  \n",
       "\n",
       "[5 rows x 24 columns]"
      ]
     },
     "execution_count": 70,
     "metadata": {},
     "output_type": "execute_result"
    }
   ],
   "source": [
    "data.head()"
   ]
  },
  {
   "cell_type": "markdown",
   "metadata": {
    "id": "OQsk3V6hXSjE"
   },
   "source": [
    "## 2.데이터프레임 탐색 : 개별 변수 분석하기"
   ]
  },
  {
   "cell_type": "markdown",
   "metadata": {
    "id": "WcbMEUG06YM_"
   },
   "source": [
    "* **세부 요구사항**\n",
    "    * 기본 분석\n",
    "        * 기초 통계량, NaN 값 확인 등 기본 분석을 수행합니다.\n",
    "    * 주요 변수들의 분포를 살펴보기\n",
    "        * 숫자형 변수 : 기초통계량 조회 (평균, 중앙값, 표준편차 등)\n",
    "        * 범주형 변수 : 특정한 카테고리나 범주로 구성된 변수인 범주별 빈도수, 바 플롯 (예시 : 성별, 혈액형, 지역 등 그룹화할 수 있는 변수)\n",
    "        * 시각화나 통계분석에서 범주형 변수의 그룹 간의 차이나 관계를 분석할 때 중요한 역할을 합니다."
   ]
  },
  {
   "cell_type": "markdown",
   "metadata": {
    "id": "4fsU7ZoM89ii"
   },
   "source": [
    "### (1) 기본 분석"
   ]
  },
  {
   "cell_type": "markdown",
   "metadata": {
    "id": "wz7yC0Ys9B0c"
   },
   "source": [
    "* **세부 요구사항**\n",
    "    - 데이터프레임 전체에 대한 기초통계량을 구합니다.\n",
    "    - NaN을 확인해봅니다.\n",
    "      * NaN이 존재한다면 Numpy 모듈에서 isna() 함수를 통해 판별하고 적절하게 조치해줍니다."
   ]
  },
  {
   "cell_type": "code",
   "execution_count": 71,
   "metadata": {},
   "outputs": [],
   "source": [
    "#[문제] 'data'의 각 열별 누락된 값(Nan, none) 개수를 확인해보세요."
   ]
  },
  {
   "cell_type": "code",
   "execution_count": 72,
   "metadata": {},
   "outputs": [
    {
     "data": {
      "text/plain": [
       "Unnamed: 0          0\n",
       "ID                  0\n",
       "Gender_x            0\n",
       "Birth_Year_x        0\n",
       "Seq                 0\n",
       "Gender_y            0\n",
       "Birth_Year_y        0\n",
       "3st_LC_Score        0\n",
       "3st_RC_Score        0\n",
       "3st_Total_Score     0\n",
       "학습목표                0\n",
       "학습방법                0\n",
       "강의 학습 교재 유형         0\n",
       "학습빈도                0\n",
       "기출문제 공부 횟수          0\n",
       "취약분야 인지 여부          0\n",
       "토익 모의테스트 횟수         0\n",
       "1st_LC_Score        0\n",
       "1st_RC_Score        0\n",
       "1st_Total_Score     0\n",
       "2st_LC_Score        0\n",
       "2st_RC_Score        0\n",
       "2st_Total_Score     0\n",
       "Score_diff_total    0\n",
       "dtype: int64"
      ]
     },
     "execution_count": 72,
     "metadata": {},
     "output_type": "execute_result"
    }
   ],
   "source": [
    "#isna() 함수 활용\n",
    "data.isna().sum()"
   ]
  },
  {
   "cell_type": "code",
   "execution_count": 73,
   "metadata": {},
   "outputs": [],
   "source": [
    "#[문제] 'data'의 각 열 통계량을 요약하여 출력하세요."
   ]
  },
  {
   "cell_type": "code",
   "execution_count": 74,
   "metadata": {},
   "outputs": [
    {
     "data": {
      "text/html": [
       "<div>\n",
       "<style scoped>\n",
       "    .dataframe tbody tr th:only-of-type {\n",
       "        vertical-align: middle;\n",
       "    }\n",
       "\n",
       "    .dataframe tbody tr th {\n",
       "        vertical-align: top;\n",
       "    }\n",
       "\n",
       "    .dataframe thead th {\n",
       "        text-align: right;\n",
       "    }\n",
       "</style>\n",
       "<table border=\"1\" class=\"dataframe\">\n",
       "  <thead>\n",
       "    <tr style=\"text-align: right;\">\n",
       "      <th></th>\n",
       "      <th>Unnamed: 0</th>\n",
       "      <th>ID</th>\n",
       "      <th>Birth_Year_x</th>\n",
       "      <th>Seq</th>\n",
       "      <th>Birth_Year_y</th>\n",
       "      <th>3st_LC_Score</th>\n",
       "      <th>3st_RC_Score</th>\n",
       "      <th>3st_Total_Score</th>\n",
       "      <th>기출문제 공부 횟수</th>\n",
       "      <th>토익 모의테스트 횟수</th>\n",
       "      <th>1st_LC_Score</th>\n",
       "      <th>1st_RC_Score</th>\n",
       "      <th>1st_Total_Score</th>\n",
       "      <th>2st_LC_Score</th>\n",
       "      <th>2st_RC_Score</th>\n",
       "      <th>2st_Total_Score</th>\n",
       "      <th>Score_diff_total</th>\n",
       "    </tr>\n",
       "  </thead>\n",
       "  <tbody>\n",
       "    <tr>\n",
       "      <th>count</th>\n",
       "      <td>500.000000</td>\n",
       "      <td>500.000000</td>\n",
       "      <td>500.000000</td>\n",
       "      <td>500.0</td>\n",
       "      <td>500.000000</td>\n",
       "      <td>500.000000</td>\n",
       "      <td>500.000000</td>\n",
       "      <td>500.000000</td>\n",
       "      <td>500.000000</td>\n",
       "      <td>500.000000</td>\n",
       "      <td>500.000000</td>\n",
       "      <td>500.000000</td>\n",
       "      <td>500.00000</td>\n",
       "      <td>500.000000</td>\n",
       "      <td>500.000000</td>\n",
       "      <td>500.000000</td>\n",
       "      <td>500.000000</td>\n",
       "    </tr>\n",
       "    <tr>\n",
       "      <th>mean</th>\n",
       "      <td>249.500000</td>\n",
       "      <td>250.500000</td>\n",
       "      <td>1992.906000</td>\n",
       "      <td>3.0</td>\n",
       "      <td>1992.906000</td>\n",
       "      <td>368.240000</td>\n",
       "      <td>369.518000</td>\n",
       "      <td>737.798000</td>\n",
       "      <td>5.092000</td>\n",
       "      <td>9.460000</td>\n",
       "      <td>313.878000</td>\n",
       "      <td>312.822000</td>\n",
       "      <td>626.70000</td>\n",
       "      <td>338.120000</td>\n",
       "      <td>338.154000</td>\n",
       "      <td>676.284000</td>\n",
       "      <td>61.514000</td>\n",
       "    </tr>\n",
       "    <tr>\n",
       "      <th>std</th>\n",
       "      <td>144.481833</td>\n",
       "      <td>144.481833</td>\n",
       "      <td>8.224381</td>\n",
       "      <td>0.0</td>\n",
       "      <td>8.224381</td>\n",
       "      <td>82.135393</td>\n",
       "      <td>81.665858</td>\n",
       "      <td>155.901584</td>\n",
       "      <td>2.789103</td>\n",
       "      <td>4.955554</td>\n",
       "      <td>85.555611</td>\n",
       "      <td>86.574966</td>\n",
       "      <td>148.57171</td>\n",
       "      <td>84.169535</td>\n",
       "      <td>83.854382</td>\n",
       "      <td>153.178624</td>\n",
       "      <td>39.739051</td>\n",
       "    </tr>\n",
       "    <tr>\n",
       "      <th>min</th>\n",
       "      <td>0.000000</td>\n",
       "      <td>1.000000</td>\n",
       "      <td>1973.000000</td>\n",
       "      <td>3.0</td>\n",
       "      <td>1973.000000</td>\n",
       "      <td>141.000000</td>\n",
       "      <td>135.000000</td>\n",
       "      <td>280.000000</td>\n",
       "      <td>0.000000</td>\n",
       "      <td>1.000000</td>\n",
       "      <td>105.000000</td>\n",
       "      <td>84.000000</td>\n",
       "      <td>250.00000</td>\n",
       "      <td>120.000000</td>\n",
       "      <td>129.000000</td>\n",
       "      <td>260.000000</td>\n",
       "      <td>0.000000</td>\n",
       "    </tr>\n",
       "    <tr>\n",
       "      <th>25%</th>\n",
       "      <td>124.750000</td>\n",
       "      <td>125.750000</td>\n",
       "      <td>1986.750000</td>\n",
       "      <td>3.0</td>\n",
       "      <td>1986.750000</td>\n",
       "      <td>295.000000</td>\n",
       "      <td>295.000000</td>\n",
       "      <td>591.750000</td>\n",
       "      <td>3.000000</td>\n",
       "      <td>5.000000</td>\n",
       "      <td>259.750000</td>\n",
       "      <td>250.000000</td>\n",
       "      <td>519.00000</td>\n",
       "      <td>279.000000</td>\n",
       "      <td>281.500000</td>\n",
       "      <td>557.750000</td>\n",
       "      <td>30.000000</td>\n",
       "    </tr>\n",
       "    <tr>\n",
       "      <th>50%</th>\n",
       "      <td>249.500000</td>\n",
       "      <td>250.500000</td>\n",
       "      <td>1992.500000</td>\n",
       "      <td>3.0</td>\n",
       "      <td>1992.500000</td>\n",
       "      <td>372.500000</td>\n",
       "      <td>375.000000</td>\n",
       "      <td>760.500000</td>\n",
       "      <td>5.000000</td>\n",
       "      <td>8.000000</td>\n",
       "      <td>308.000000</td>\n",
       "      <td>311.500000</td>\n",
       "      <td>642.00000</td>\n",
       "      <td>333.500000</td>\n",
       "      <td>335.000000</td>\n",
       "      <td>691.000000</td>\n",
       "      <td>63.000000</td>\n",
       "    </tr>\n",
       "    <tr>\n",
       "      <th>75%</th>\n",
       "      <td>374.250000</td>\n",
       "      <td>375.250000</td>\n",
       "      <td>2000.000000</td>\n",
       "      <td>3.0</td>\n",
       "      <td>2000.000000</td>\n",
       "      <td>434.250000</td>\n",
       "      <td>437.250000</td>\n",
       "      <td>860.250000</td>\n",
       "      <td>7.000000</td>\n",
       "      <td>13.250000</td>\n",
       "      <td>369.250000</td>\n",
       "      <td>377.250000</td>\n",
       "      <td>735.00000</td>\n",
       "      <td>395.250000</td>\n",
       "      <td>400.000000</td>\n",
       "      <td>790.500000</td>\n",
       "      <td>83.000000</td>\n",
       "    </tr>\n",
       "    <tr>\n",
       "      <th>max</th>\n",
       "      <td>499.000000</td>\n",
       "      <td>500.000000</td>\n",
       "      <td>2007.000000</td>\n",
       "      <td>3.0</td>\n",
       "      <td>2007.000000</td>\n",
       "      <td>495.000000</td>\n",
       "      <td>495.000000</td>\n",
       "      <td>990.000000</td>\n",
       "      <td>10.000000</td>\n",
       "      <td>20.000000</td>\n",
       "      <td>495.000000</td>\n",
       "      <td>491.000000</td>\n",
       "      <td>970.00000</td>\n",
       "      <td>495.000000</td>\n",
       "      <td>495.000000</td>\n",
       "      <td>990.000000</td>\n",
       "      <td>281.000000</td>\n",
       "    </tr>\n",
       "  </tbody>\n",
       "</table>\n",
       "</div>"
      ],
      "text/plain": [
       "       Unnamed: 0          ID  Birth_Year_x    Seq  Birth_Year_y  \\\n",
       "count  500.000000  500.000000    500.000000  500.0    500.000000   \n",
       "mean   249.500000  250.500000   1992.906000    3.0   1992.906000   \n",
       "std    144.481833  144.481833      8.224381    0.0      8.224381   \n",
       "min      0.000000    1.000000   1973.000000    3.0   1973.000000   \n",
       "25%    124.750000  125.750000   1986.750000    3.0   1986.750000   \n",
       "50%    249.500000  250.500000   1992.500000    3.0   1992.500000   \n",
       "75%    374.250000  375.250000   2000.000000    3.0   2000.000000   \n",
       "max    499.000000  500.000000   2007.000000    3.0   2007.000000   \n",
       "\n",
       "       3st_LC_Score  3st_RC_Score  3st_Total_Score  기출문제 공부 횟수  토익 모의테스트 횟수  \\\n",
       "count    500.000000    500.000000       500.000000  500.000000   500.000000   \n",
       "mean     368.240000    369.518000       737.798000    5.092000     9.460000   \n",
       "std       82.135393     81.665858       155.901584    2.789103     4.955554   \n",
       "min      141.000000    135.000000       280.000000    0.000000     1.000000   \n",
       "25%      295.000000    295.000000       591.750000    3.000000     5.000000   \n",
       "50%      372.500000    375.000000       760.500000    5.000000     8.000000   \n",
       "75%      434.250000    437.250000       860.250000    7.000000    13.250000   \n",
       "max      495.000000    495.000000       990.000000   10.000000    20.000000   \n",
       "\n",
       "       1st_LC_Score  1st_RC_Score  1st_Total_Score  2st_LC_Score  \\\n",
       "count    500.000000    500.000000        500.00000    500.000000   \n",
       "mean     313.878000    312.822000        626.70000    338.120000   \n",
       "std       85.555611     86.574966        148.57171     84.169535   \n",
       "min      105.000000     84.000000        250.00000    120.000000   \n",
       "25%      259.750000    250.000000        519.00000    279.000000   \n",
       "50%      308.000000    311.500000        642.00000    333.500000   \n",
       "75%      369.250000    377.250000        735.00000    395.250000   \n",
       "max      495.000000    491.000000        970.00000    495.000000   \n",
       "\n",
       "       2st_RC_Score  2st_Total_Score  Score_diff_total  \n",
       "count    500.000000       500.000000        500.000000  \n",
       "mean     338.154000       676.284000         61.514000  \n",
       "std       83.854382       153.178624         39.739051  \n",
       "min      129.000000       260.000000          0.000000  \n",
       "25%      281.500000       557.750000         30.000000  \n",
       "50%      335.000000       691.000000         63.000000  \n",
       "75%      400.000000       790.500000         83.000000  \n",
       "max      495.000000       990.000000        281.000000  "
      ]
     },
     "execution_count": 74,
     "metadata": {},
     "output_type": "execute_result"
    }
   ],
   "source": [
    "# describe 함수 활용\n",
    "data.describe()"
   ]
  },
  {
   "cell_type": "code",
   "execution_count": 75,
   "metadata": {},
   "outputs": [],
   "source": [
    "#[문제] 위에서 출력한 통계량 데이터프레임의 행과 열을 서로 바꾸어 출력하세요."
   ]
  },
  {
   "cell_type": "code",
   "execution_count": 80,
   "metadata": {
    "tags": []
   },
   "outputs": [
    {
     "ename": "KeyError",
     "evalue": "\"['Birth_Year_y'] not found in axis\"",
     "output_type": "error",
     "traceback": [
      "\u001b[1;31m---------------------------------------------------------------------------\u001b[0m",
      "\u001b[1;31mKeyError\u001b[0m                                  Traceback (most recent call last)",
      "Cell \u001b[1;32mIn[80], line 1\u001b[0m\n\u001b[1;32m----> 1\u001b[0m data \u001b[38;5;241m=\u001b[39m data\u001b[38;5;241m.\u001b[39mdrop(\u001b[38;5;124m'\u001b[39m\u001b[38;5;124mBirth_Year_y\u001b[39m\u001b[38;5;124m'\u001b[39m, axis\u001b[38;5;241m=\u001b[39m\u001b[38;5;241m1\u001b[39m)\n",
      "File \u001b[1;32m~\\anaconda3\\Lib\\site-packages\\pandas\\core\\frame.py:5258\u001b[0m, in \u001b[0;36mDataFrame.drop\u001b[1;34m(self, labels, axis, index, columns, level, inplace, errors)\u001b[0m\n\u001b[0;32m   5110\u001b[0m \u001b[38;5;28;01mdef\u001b[39;00m \u001b[38;5;21mdrop\u001b[39m(\n\u001b[0;32m   5111\u001b[0m     \u001b[38;5;28mself\u001b[39m,\n\u001b[0;32m   5112\u001b[0m     labels: IndexLabel \u001b[38;5;241m=\u001b[39m \u001b[38;5;28;01mNone\u001b[39;00m,\n\u001b[1;32m   (...)\u001b[0m\n\u001b[0;32m   5119\u001b[0m     errors: IgnoreRaise \u001b[38;5;241m=\u001b[39m \u001b[38;5;124m\"\u001b[39m\u001b[38;5;124mraise\u001b[39m\u001b[38;5;124m\"\u001b[39m,\n\u001b[0;32m   5120\u001b[0m ) \u001b[38;5;241m-\u001b[39m\u001b[38;5;241m>\u001b[39m DataFrame \u001b[38;5;241m|\u001b[39m \u001b[38;5;28;01mNone\u001b[39;00m:\n\u001b[0;32m   5121\u001b[0m \u001b[38;5;250m    \u001b[39m\u001b[38;5;124;03m\"\"\"\u001b[39;00m\n\u001b[0;32m   5122\u001b[0m \u001b[38;5;124;03m    Drop specified labels from rows or columns.\u001b[39;00m\n\u001b[0;32m   5123\u001b[0m \n\u001b[1;32m   (...)\u001b[0m\n\u001b[0;32m   5256\u001b[0m \u001b[38;5;124;03m            weight  1.0     0.8\u001b[39;00m\n\u001b[0;32m   5257\u001b[0m \u001b[38;5;124;03m    \"\"\"\u001b[39;00m\n\u001b[1;32m-> 5258\u001b[0m     \u001b[38;5;28;01mreturn\u001b[39;00m \u001b[38;5;28msuper\u001b[39m()\u001b[38;5;241m.\u001b[39mdrop(\n\u001b[0;32m   5259\u001b[0m         labels\u001b[38;5;241m=\u001b[39mlabels,\n\u001b[0;32m   5260\u001b[0m         axis\u001b[38;5;241m=\u001b[39maxis,\n\u001b[0;32m   5261\u001b[0m         index\u001b[38;5;241m=\u001b[39mindex,\n\u001b[0;32m   5262\u001b[0m         columns\u001b[38;5;241m=\u001b[39mcolumns,\n\u001b[0;32m   5263\u001b[0m         level\u001b[38;5;241m=\u001b[39mlevel,\n\u001b[0;32m   5264\u001b[0m         inplace\u001b[38;5;241m=\u001b[39minplace,\n\u001b[0;32m   5265\u001b[0m         errors\u001b[38;5;241m=\u001b[39merrors,\n\u001b[0;32m   5266\u001b[0m     )\n",
      "File \u001b[1;32m~\\anaconda3\\Lib\\site-packages\\pandas\\core\\generic.py:4549\u001b[0m, in \u001b[0;36mNDFrame.drop\u001b[1;34m(self, labels, axis, index, columns, level, inplace, errors)\u001b[0m\n\u001b[0;32m   4547\u001b[0m \u001b[38;5;28;01mfor\u001b[39;00m axis, labels \u001b[38;5;129;01min\u001b[39;00m axes\u001b[38;5;241m.\u001b[39mitems():\n\u001b[0;32m   4548\u001b[0m     \u001b[38;5;28;01mif\u001b[39;00m labels \u001b[38;5;129;01mis\u001b[39;00m \u001b[38;5;129;01mnot\u001b[39;00m \u001b[38;5;28;01mNone\u001b[39;00m:\n\u001b[1;32m-> 4549\u001b[0m         obj \u001b[38;5;241m=\u001b[39m obj\u001b[38;5;241m.\u001b[39m_drop_axis(labels, axis, level\u001b[38;5;241m=\u001b[39mlevel, errors\u001b[38;5;241m=\u001b[39merrors)\n\u001b[0;32m   4551\u001b[0m \u001b[38;5;28;01mif\u001b[39;00m inplace:\n\u001b[0;32m   4552\u001b[0m     \u001b[38;5;28mself\u001b[39m\u001b[38;5;241m.\u001b[39m_update_inplace(obj)\n",
      "File \u001b[1;32m~\\anaconda3\\Lib\\site-packages\\pandas\\core\\generic.py:4591\u001b[0m, in \u001b[0;36mNDFrame._drop_axis\u001b[1;34m(self, labels, axis, level, errors, only_slice)\u001b[0m\n\u001b[0;32m   4589\u001b[0m         new_axis \u001b[38;5;241m=\u001b[39m axis\u001b[38;5;241m.\u001b[39mdrop(labels, level\u001b[38;5;241m=\u001b[39mlevel, errors\u001b[38;5;241m=\u001b[39merrors)\n\u001b[0;32m   4590\u001b[0m     \u001b[38;5;28;01melse\u001b[39;00m:\n\u001b[1;32m-> 4591\u001b[0m         new_axis \u001b[38;5;241m=\u001b[39m axis\u001b[38;5;241m.\u001b[39mdrop(labels, errors\u001b[38;5;241m=\u001b[39merrors)\n\u001b[0;32m   4592\u001b[0m     indexer \u001b[38;5;241m=\u001b[39m axis\u001b[38;5;241m.\u001b[39mget_indexer(new_axis)\n\u001b[0;32m   4594\u001b[0m \u001b[38;5;66;03m# Case for non-unique axis\u001b[39;00m\n\u001b[0;32m   4595\u001b[0m \u001b[38;5;28;01melse\u001b[39;00m:\n",
      "File \u001b[1;32m~\\anaconda3\\Lib\\site-packages\\pandas\\core\\indexes\\base.py:6699\u001b[0m, in \u001b[0;36mIndex.drop\u001b[1;34m(self, labels, errors)\u001b[0m\n\u001b[0;32m   6697\u001b[0m \u001b[38;5;28;01mif\u001b[39;00m mask\u001b[38;5;241m.\u001b[39many():\n\u001b[0;32m   6698\u001b[0m     \u001b[38;5;28;01mif\u001b[39;00m errors \u001b[38;5;241m!=\u001b[39m \u001b[38;5;124m\"\u001b[39m\u001b[38;5;124mignore\u001b[39m\u001b[38;5;124m\"\u001b[39m:\n\u001b[1;32m-> 6699\u001b[0m         \u001b[38;5;28;01mraise\u001b[39;00m \u001b[38;5;167;01mKeyError\u001b[39;00m(\u001b[38;5;124mf\u001b[39m\u001b[38;5;124m\"\u001b[39m\u001b[38;5;132;01m{\u001b[39;00m\u001b[38;5;28mlist\u001b[39m(labels[mask])\u001b[38;5;132;01m}\u001b[39;00m\u001b[38;5;124m not found in axis\u001b[39m\u001b[38;5;124m\"\u001b[39m)\n\u001b[0;32m   6700\u001b[0m     indexer \u001b[38;5;241m=\u001b[39m indexer[\u001b[38;5;241m~\u001b[39mmask]\n\u001b[0;32m   6701\u001b[0m \u001b[38;5;28;01mreturn\u001b[39;00m \u001b[38;5;28mself\u001b[39m\u001b[38;5;241m.\u001b[39mdelete(indexer)\n",
      "\u001b[1;31mKeyError\u001b[0m: \"['Birth_Year_y'] not found in axis\""
     ]
    }
   ],
   "source": [
    "data = data.drop('Birth_Year_y', axis=1)"
   ]
  },
  {
   "cell_type": "code",
   "execution_count": 42,
   "metadata": {
    "tags": []
   },
   "outputs": [
    {
     "ename": "AttributeError",
     "evalue": "'NoneType' object has no attribute 'rename'",
     "output_type": "error",
     "traceback": [
      "\u001b[1;31m---------------------------------------------------------------------------\u001b[0m",
      "\u001b[1;31mAttributeError\u001b[0m                            Traceback (most recent call last)",
      "Cell \u001b[1;32mIn[42], line 1\u001b[0m\n\u001b[1;32m----> 1\u001b[0m data\u001b[38;5;241m.\u001b[39mrename(columns\u001b[38;5;241m=\u001b[39m{\u001b[38;5;124m'\u001b[39m\u001b[38;5;124mBirth_Year_y\u001b[39m\u001b[38;5;124m'\u001b[39m:\u001b[38;5;124m'\u001b[39m\u001b[38;5;124mBirth_Year\u001b[39m\u001b[38;5;124m'\u001b[39m}, inplace\u001b[38;5;241m=\u001b[39m\u001b[38;5;28;01mTrue\u001b[39;00m)\n",
      "\u001b[1;31mAttributeError\u001b[0m: 'NoneType' object has no attribute 'rename'"
     ]
    }
   ],
   "source": [
    "data.rename(columns={'Birth_Year_y':'Birth_Year'}, inplace=True)"
   ]
  },
  {
   "cell_type": "code",
   "execution_count": 43,
   "metadata": {},
   "outputs": [
    {
     "ename": "AttributeError",
     "evalue": "'NoneType' object has no attribute 'describe'",
     "output_type": "error",
     "traceback": [
      "\u001b[1;31m---------------------------------------------------------------------------\u001b[0m",
      "\u001b[1;31mAttributeError\u001b[0m                            Traceback (most recent call last)",
      "Cell \u001b[1;32mIn[43], line 3\u001b[0m\n\u001b[0;32m      1\u001b[0m \u001b[38;5;66;03m#'T'는 데이터프레임의 전치(Transpose)를 의미함\u001b[39;00m\n\u001b[0;32m      2\u001b[0m \u001b[38;5;66;03m# descibe 함수 활용\u001b[39;00m\n\u001b[1;32m----> 3\u001b[0m data\u001b[38;5;241m.\u001b[39mdescribe()\u001b[38;5;241m.\u001b[39mT\n",
      "\u001b[1;31mAttributeError\u001b[0m: 'NoneType' object has no attribute 'describe'"
     ]
    }
   ],
   "source": [
    "#'T'는 데이터프레임의 전치(Transpose)를 의미함\n",
    "# descibe 함수 활용\n",
    "data.describe().T"
   ]
  },
  {
   "cell_type": "code",
   "execution_count": null,
   "metadata": {},
   "outputs": [],
   "source": [
    "#[문제] Gender 컬럼의 값 별 개수를 확인해주세요. (Gender M : 남자, F : 여자)"
   ]
  },
  {
   "cell_type": "code",
   "execution_count": null,
   "metadata": {},
   "outputs": [],
   "source": [
    "# value_counts 함수 활용\n"
   ]
  },
  {
   "cell_type": "code",
   "execution_count": null,
   "metadata": {},
   "outputs": [],
   "source": [
    "#[문제] 'Gender' 컬럼의 ['M', 'F'] --> [1,2]로 변경해해보세요."
   ]
  },
  {
   "cell_type": "code",
   "execution_count": null,
   "metadata": {},
   "outputs": [],
   "source": [
    "# replace 함수 활용\n"
   ]
  },
  {
   "cell_type": "code",
   "execution_count": null,
   "metadata": {},
   "outputs": [],
   "source": [
    "#[문제] Gender 컬럼의 값 별 개수를 다시 확인해주세요."
   ]
  },
  {
   "cell_type": "code",
   "execution_count": null,
   "metadata": {},
   "outputs": [],
   "source": []
  },
  {
   "cell_type": "code",
   "execution_count": null,
   "metadata": {},
   "outputs": [],
   "source": [
    "#[문제] 'Gender' 컬럼 타입을 object에서 int로 변경해보세요."
   ]
  },
  {
   "cell_type": "code",
   "execution_count": null,
   "metadata": {},
   "outputs": [],
   "source": [
    "#astype 함수 활용\n"
   ]
  },
  {
   "cell_type": "code",
   "execution_count": null,
   "metadata": {},
   "outputs": [],
   "source": [
    "#[문제] data 데이터 프레임에서 Null 데이터가 있는지 확인해주세요."
   ]
  },
  {
   "cell_type": "code",
   "execution_count": null,
   "metadata": {},
   "outputs": [],
   "source": []
  },
  {
   "cell_type": "markdown",
   "metadata": {
    "id": "jImSiMfNOZVV"
   },
   "source": [
    "### (2) 주요 변수의 분포를 살펴보기\n",
    "\n"
   ]
  },
  {
   "cell_type": "markdown",
   "metadata": {
    "id": "Alrep64H48M0"
   },
   "source": [
    "* **세부 요구사항**\n",
    "    - 주요 변수들의 분포를 살펴보자.\n",
    "        * 대상 : 최종 차수 점수 변화, 생년월일, 학습목표, 학습방법, 강의 학습 교재 유형\n",
    "        * 도구 : 기초통계량, bar차트를 통한 데이터 분포 파악\n",
    "    - 전체 현황과 각 변수별 현황을 비교해보고 결과를 저장하자."
   ]
  },
  {
   "cell_type": "markdown",
   "metadata": {
    "id": "BP8iBi7We3AI"
   },
   "source": [
    "#### 1) 열 데이터 탐색 및 시각화 : 최종 차수 점수 변화(Score_diff_total)"
   ]
  },
  {
   "cell_type": "code",
   "execution_count": null,
   "metadata": {},
   "outputs": [],
   "source": [
    "#[문제] 변수 Sdt에 문자열 'Score_diff_total'을 할당 하세요."
   ]
  },
  {
   "cell_type": "code",
   "execution_count": null,
   "metadata": {},
   "outputs": [],
   "source": []
  },
  {
   "cell_type": "code",
   "execution_count": null,
   "metadata": {
    "id": "h-BWoX3kJxrR"
   },
   "outputs": [],
   "source": [
    "#[문제] 'data' 데이터프레임의 'Score_diff_total'열에 대한 기술 통계 정보를 데이터 프레임의 형태로 출력해주세요."
   ]
  },
  {
   "cell_type": "code",
   "execution_count": null,
   "metadata": {},
   "outputs": [],
   "source": [
    "# describe() 함수 활용\n"
   ]
  },
  {
   "cell_type": "code",
   "execution_count": null,
   "metadata": {},
   "outputs": [],
   "source": [
    "#[문제] 위에서 추출한 데이터의 'Score_diff_total'에 대해 행과 열을 변환하여 기술 통계 정보를 출력해주세요."
   ]
  },
  {
   "cell_type": "code",
   "execution_count": null,
   "metadata": {},
   "outputs": [],
   "source": [
    "# describe().T 함수 활용\n"
   ]
  },
  {
   "cell_type": "markdown",
   "metadata": {
    "id": "p8duvD7p-XbP"
   },
   "source": [
    "#### 2) 열 추가 : Bitrh_Year\n",
    "* 출생연도로 부터 나이 변수를 추출해 봅시다."
   ]
  },
  {
   "cell_type": "code",
   "execution_count": null,
   "metadata": {},
   "outputs": [],
   "source": [
    "#[문제] 변수 BY에 문자열 'Birth_Year'을 할당하세요."
   ]
  },
  {
   "cell_type": "code",
   "execution_count": null,
   "metadata": {},
   "outputs": [],
   "source": []
  },
  {
   "cell_type": "code",
   "execution_count": null,
   "metadata": {
    "id": "KokcDzGfXwMW"
   },
   "outputs": [],
   "source": [
    "#[문제] 'data' 데이터프레임의 'Birth_Year'열에 대한 기술 통계 정보를 출력해주세요.\n",
    "#'Birth_Year'에 대해 행과 열을 변환하여 기술 통계 정보를 출력해주세요."
   ]
  },
  {
   "cell_type": "code",
   "execution_count": null,
   "metadata": {},
   "outputs": [],
   "source": [
    "# describe().T 함수 활용\n"
   ]
  },
  {
   "cell_type": "code",
   "execution_count": null,
   "metadata": {},
   "outputs": [],
   "source": [
    "#[문제] 'data' 데이터프레임의 'Birth_Year' 컬럼의 연도별 개수를 Bar 차트로 그리세요."
   ]
  },
  {
   "cell_type": "code",
   "execution_count": null,
   "metadata": {},
   "outputs": [],
   "source": [
    "# DataFrame value_counts()와 plot() 함수 활용\n",
    "# 대상 컬럼 : 'Birth_Year'\n",
    "# plot 함수의 인자 : kind='bar'\n"
   ]
  },
  {
   "cell_type": "markdown",
   "metadata": {
    "tags": []
   },
   "source": [
    "#### 3) 고유값 확인 : 컬럼 출력"
   ]
  },
  {
   "cell_type": "code",
   "execution_count": null,
   "metadata": {},
   "outputs": [],
   "source": [
    "#[문제] data 데이터프레임에서 object 컬럼에 대해서만 추출해서 보여주세요.\n"
   ]
  },
  {
   "cell_type": "code",
   "execution_count": null,
   "metadata": {},
   "outputs": [],
   "source": [
    "# select_dtypes() 함수 활용\n"
   ]
  },
  {
   "cell_type": "code",
   "execution_count": null,
   "metadata": {},
   "outputs": [],
   "source": [
    "#[문제] 데이터 타입이 Object 형태인 컬럼의 컬럼명만 추출해서 출력해 보세요."
   ]
  },
  {
   "cell_type": "code",
   "execution_count": null,
   "metadata": {},
   "outputs": [],
   "source": [
    "# columns.values 활용\n"
   ]
  },
  {
   "cell_type": "markdown",
   "metadata": {
    "id": "Py-fsDa-f3gr"
   },
   "source": [
    "#### 4) 고유값 확인 및 시각화 : 학습목표"
   ]
  },
  {
   "cell_type": "code",
   "execution_count": null,
   "metadata": {},
   "outputs": [],
   "source": [
    "#[문제] 변수 '학습목표'의 값들의 빈도수를 계산하여 출력하세요."
   ]
  },
  {
   "cell_type": "code",
   "execution_count": null,
   "metadata": {},
   "outputs": [],
   "source": [
    "# value_counts 함수 활용\n"
   ]
  },
  {
   "cell_type": "code",
   "execution_count": null,
   "metadata": {},
   "outputs": [],
   "source": [
    "#[문제] data 데이터프레임의 전체 열과 행 개수를 각각 출력해 보세요."
   ]
  },
  {
   "cell_type": "code",
   "execution_count": null,
   "metadata": {},
   "outputs": [],
   "source": [
    "#열의 개수\n"
   ]
  },
  {
   "cell_type": "code",
   "execution_count": null,
   "metadata": {},
   "outputs": [],
   "source": [
    "#행의 개수\n"
   ]
  },
  {
   "cell_type": "code",
   "execution_count": null,
   "metadata": {},
   "outputs": [],
   "source": [
    "#[문제] 변수 '학습목표'의 값들의 빈도수를 전체 데이터의 개수로 나누어서 해당 값들이 전체 데이터에서 차지하는 비율을 구하세요."
   ]
  },
  {
   "cell_type": "code",
   "execution_count": null,
   "metadata": {},
   "outputs": [],
   "source": []
  },
  {
   "cell_type": "code",
   "execution_count": null,
   "metadata": {
    "id": "aGeYxzXqYXtQ"
   },
   "outputs": [],
   "source": [
    "#[문제] '학습목표' 컬럼에 대한 Bar 차트를 확인해주세요."
   ]
  },
  {
   "cell_type": "code",
   "execution_count": null,
   "metadata": {},
   "outputs": [],
   "source": [
    "# DataFrame value_counts()와 plot() 함수 활용\n",
    "# 대상 컬럼 : '학습목표'\n",
    "# plot 함수의 인자 : kind='bar'\n"
   ]
  },
  {
   "cell_type": "code",
   "execution_count": null,
   "metadata": {},
   "outputs": [],
   "source": [
    "#[문제] 'data' 전체 데이터프레임의 숫자형 컬럼, number 컬럼에 대해 검색해주세요."
   ]
  },
  {
   "cell_type": "code",
   "execution_count": null,
   "metadata": {},
   "outputs": [],
   "source": []
  },
  {
   "cell_type": "markdown",
   "metadata": {},
   "source": [
    "#### 5) 고유값 확인 및 시각화 : 강의 학습 교재 유형"
   ]
  },
  {
   "cell_type": "code",
   "execution_count": null,
   "metadata": {},
   "outputs": [],
   "source": [
    "#[문제] 변수 '강의 학습 교재 유형'의 값들의 빈도수, 비율을 계산해서 출력해주세요."
   ]
  },
  {
   "cell_type": "code",
   "execution_count": null,
   "metadata": {},
   "outputs": [],
   "source": [
    "# 빈도수 출력\n"
   ]
  },
  {
   "cell_type": "code",
   "execution_count": null,
   "metadata": {},
   "outputs": [],
   "source": [
    "# 비율 출력\n"
   ]
  },
  {
   "cell_type": "code",
   "execution_count": null,
   "metadata": {},
   "outputs": [],
   "source": [
    "#[문제] '취약분야 인지 여부' 문자열의 값을 '알고 있음' --> '1', '알고 있지 않음' -->'0'으로 변경하세요.\n"
   ]
  },
  {
   "cell_type": "code",
   "execution_count": null,
   "metadata": {},
   "outputs": [],
   "source": []
  },
  {
   "cell_type": "markdown",
   "metadata": {
    "id": "QY0bN4jsgOG0"
   },
   "source": [
    "## 데이터 저장"
   ]
  },
  {
   "cell_type": "markdown",
   "metadata": {
    "id": "rPKwF9wlyK0D"
   },
   "source": [
    "* **세부 요구사항**\n",
    "    * to_csv를 이용하여 전처리된 데이터셋을 저장하세요.\n",
    "    * 저장할 파일의 확장자는 .csv 입니다."
   ]
  },
  {
   "cell_type": "code",
   "execution_count": null,
   "metadata": {},
   "outputs": [],
   "source": [
    "#[문제] 전처리된 데이터프레임 'data04_featured'를 CSV 파일로 저장합니다."
   ]
  },
  {
   "cell_type": "code",
   "execution_count": null,
   "metadata": {},
   "outputs": [],
   "source": [
    "# 파일 : 'data04_featured.csv'\n",
    "# to_csv 함수 활용\n"
   ]
  },
  {
   "cell_type": "code",
   "execution_count": null,
   "metadata": {},
   "outputs": [],
   "source": [
    "#[문제] 파일이 잘 저장되었는지, 다시 한번 불러오고 확인해보세요."
   ]
  },
  {
   "cell_type": "code",
   "execution_count": null,
   "metadata": {},
   "outputs": [],
   "source": []
  },
  {
   "cell_type": "code",
   "execution_count": null,
   "metadata": {
    "id": "rsPMYAnPBo4k"
   },
   "outputs": [],
   "source": [
    "## 고생 정말 많으셨습니다!!\n",
    "## 실습시간이 남으신 분은 '중급'용 파일에 도전해보세요."
   ]
  }
 ],
 "metadata": {
  "colab": {
   "provenance": [],
   "toc_visible": true
  },
  "kernelspec": {
   "display_name": "Python 3 (ipykernel)",
   "language": "python",
   "name": "python3"
  },
  "language_info": {
   "codemirror_mode": {
    "name": "ipython",
    "version": 3
   },
   "file_extension": ".py",
   "mimetype": "text/x-python",
   "name": "python",
   "nbconvert_exporter": "python",
   "pygments_lexer": "ipython3",
   "version": "3.11.5"
  }
 },
 "nbformat": 4,
 "nbformat_minor": 4
}
