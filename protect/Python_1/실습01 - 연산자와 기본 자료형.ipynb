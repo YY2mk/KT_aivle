{
 "cells": [
  {
   "cell_type": "markdown",
   "metadata": {
    "id": "b3TDAdnvnSbh"
   },
   "source": [
    "<center><img src='https://raw.githubusercontent.com/Jangrae/img/master/title.png' width=500/></center>"
   ]
  },
  {
   "cell_type": "markdown",
   "metadata": {
    "id": "jp80QgZSZinv"
   },
   "source": [
    "<center><img src='https://raw.githubusercontent.com/Jangrae/img/master/practice.png' width=300/></center>"
   ]
  },
  {
   "cell_type": "markdown",
   "metadata": {
    "id": "TdwDXHOl24aO"
   },
   "source": [
    "# 실습 #1: print 함수"
   ]
  },
  {
   "cell_type": "markdown",
   "metadata": {
    "id": "YUb7BWX826LT"
   },
   "source": [
    "1) 숫자 123456을 출력하세요."
   ]
  },
  {
   "cell_type": "code",
   "execution_count": 1,
   "metadata": {
    "id": "7vybaf6424aP",
    "tags": []
   },
   "outputs": [
    {
     "name": "stdout",
     "output_type": "stream",
     "text": [
      "123456\n"
     ]
    }
   ],
   "source": [
    "print(123456)"
   ]
  },
  {
   "cell_type": "markdown",
   "metadata": {
    "id": "7fsPlK2229Qk"
   },
   "source": [
    "2) 숫자 123, 456을 각각의 print 함수로 출력하세요."
   ]
  },
  {
   "cell_type": "code",
   "execution_count": 2,
   "metadata": {
    "id": "Ah4-xwyj24aQ",
    "tags": []
   },
   "outputs": [
    {
     "name": "stdout",
     "output_type": "stream",
     "text": [
      "123 456\n"
     ]
    }
   ],
   "source": [
    "print(123, 456)"
   ]
  },
  {
   "cell_type": "markdown",
   "metadata": {
    "id": "fO1Lmo7o3AHT"
   },
   "source": [
    "3) 숫자 123, 456을 하나의 print 함수로 출력하세요."
   ]
  },
  {
   "cell_type": "code",
   "execution_count": null,
   "metadata": {
    "id": "f9yv3tgS24aQ"
   },
   "outputs": [],
   "source": []
  },
  {
   "cell_type": "markdown",
   "metadata": {
    "id": "0rhTYaCN3Eg8"
   },
   "source": [
    "4) 문자열 '파이썬을 배웁시다.', '누구든 할 수 있습니다.'를 각각의 print 함수로 출력하세요."
   ]
  },
  {
   "cell_type": "code",
   "execution_count": null,
   "metadata": {
    "id": "77vtnW4824aR"
   },
   "outputs": [],
   "source": [
    "\n",
    "\n",
    "\n"
   ]
  },
  {
   "cell_type": "markdown",
   "metadata": {
    "id": "_xpgPrlt3LES"
   },
   "source": [
    "5) 문자열 '파이썬을 배웁시다.',  '누구든 할 수 있습니다.'를 하나의 print 함수로 출력하세요."
   ]
  },
  {
   "cell_type": "code",
   "execution_count": null,
   "metadata": {
    "id": "viypc3IK24aS"
   },
   "outputs": [],
   "source": [
    "\n",
    "\n",
    "\n"
   ]
  },
  {
   "cell_type": "markdown",
   "metadata": {
    "id": "FluLogo_3Q8V"
   },
   "source": [
    "6) 숫자 123, 문자열 '오늘은', 문자열 '12월20일 입니다.'를 각각의 print 함수로 출력하세요."
   ]
  },
  {
   "cell_type": "code",
   "execution_count": null,
   "metadata": {
    "id": "bZEhloQa24aT"
   },
   "outputs": [],
   "source": [
    "\n",
    "\n",
    "\n"
   ]
  },
  {
   "cell_type": "markdown",
   "metadata": {
    "id": "uo8_WG3K3VFG"
   },
   "source": [
    "7) 숫자 123, 문자열 '오늘은', 문자열 '12월20일 입니다.'를 하나의 print 함수로 출력하세요.\n"
   ]
  },
  {
   "cell_type": "code",
   "execution_count": null,
   "metadata": {
    "id": "I2xXz4tl24aU"
   },
   "outputs": [],
   "source": [
    "\n",
    "\n",
    "\n"
   ]
  },
  {
   "cell_type": "markdown",
   "metadata": {
    "id": "c0z-o5W124aU"
   },
   "source": [
    "# 실습 #2: 숫자 다루기"
   ]
  },
  {
   "cell_type": "markdown",
   "metadata": {
    "id": "g3vChBqv3ZEw"
   },
   "source": [
    "1) 두 수 125, 5를 더하고, 빼고, 곱하고, 나눠 보세요."
   ]
  },
  {
   "cell_type": "code",
   "execution_count": 3,
   "metadata": {
    "id": "JqH6e_xb24aU",
    "tags": []
   },
   "outputs": [
    {
     "name": "stdout",
     "output_type": "stream",
     "text": [
      "130\n",
      "120\n",
      "625\n",
      "25.0\n"
     ]
    }
   ],
   "source": [
    "a = 125\n",
    "b = 5\n",
    "\n",
    "print(a + b)\n",
    "print(a - b)\n",
    "print(a * b)\n",
    "print(a / b)"
   ]
  },
  {
   "cell_type": "markdown",
   "metadata": {
    "id": "BQXdbo113iTR"
   },
   "source": [
    "2) 178을 13으로 나눴을 때 몫을 구하세요."
   ]
  },
  {
   "cell_type": "code",
   "execution_count": 4,
   "metadata": {
    "id": "Hw3mrAOT24aV",
    "tags": []
   },
   "outputs": [
    {
     "name": "stdout",
     "output_type": "stream",
     "text": [
      "13.692307692307692\n"
     ]
    }
   ],
   "source": [
    "print(178 / 13)"
   ]
  },
  {
   "cell_type": "markdown",
   "metadata": {
    "id": "OZxCcT6G3kH5"
   },
   "source": [
    "3) 3854를 11로 나눴을 때 몫을 구하세요."
   ]
  },
  {
   "cell_type": "code",
   "execution_count": 5,
   "metadata": {
    "id": "-w1NKv_c24aW",
    "tags": []
   },
   "outputs": [
    {
     "name": "stdout",
     "output_type": "stream",
     "text": [
      "350.3636363636364\n"
     ]
    }
   ],
   "source": [
    "print(3854 / 11)"
   ]
  },
  {
   "cell_type": "markdown",
   "metadata": {
    "id": "bQeHFqBb3l-v"
   },
   "source": [
    "4) 178을 13으로 나눴을 때 나머지를 구하세요."
   ]
  },
  {
   "cell_type": "code",
   "execution_count": 6,
   "metadata": {
    "id": "WwxKC_EM24aW",
    "tags": []
   },
   "outputs": [
    {
     "name": "stdout",
     "output_type": "stream",
     "text": [
      "9\n"
     ]
    }
   ],
   "source": [
    "print(178 % 13)\n",
    "\n",
    "\n"
   ]
  },
  {
   "cell_type": "markdown",
   "metadata": {
    "id": "u4Fe-Xr_3q8_"
   },
   "source": [
    "5) 3854를 11로 나눴을 때 나머지를 구하세요."
   ]
  },
  {
   "cell_type": "code",
   "execution_count": null,
   "metadata": {
    "id": "5I7aNxuv24aW"
   },
   "outputs": [],
   "source": [
    "\n",
    "\n",
    "\n"
   ]
  },
  {
   "cell_type": "markdown",
   "metadata": {
    "id": "wlm1hxdj3srZ"
   },
   "source": [
    "6) 563421이 3의 배수인지 확인해 보세요."
   ]
  },
  {
   "cell_type": "code",
   "execution_count": 7,
   "metadata": {
    "id": "tSNptP_F24aW",
    "tags": []
   },
   "outputs": [
    {
     "name": "stdout",
     "output_type": "stream",
     "text": [
      "0\n"
     ]
    }
   ],
   "source": [
    "print(563421 % 3)"
   ]
  },
  {
   "cell_type": "markdown",
   "metadata": {
    "id": "AeuAvgbv3uWh"
   },
   "source": [
    "7) 2의 10제곱을 구하세요."
   ]
  },
  {
   "cell_type": "code",
   "execution_count": 8,
   "metadata": {
    "id": "998l0rBn24aX",
    "tags": []
   },
   "outputs": [
    {
     "name": "stdout",
     "output_type": "stream",
     "text": [
      "1024\n"
     ]
    }
   ],
   "source": [
    "print(2 ** 10)"
   ]
  },
  {
   "cell_type": "markdown",
   "metadata": {
    "id": "HU71SHm23w5S"
   },
   "source": [
    "8) 6의 -3제곱을 구하시오."
   ]
  },
  {
   "cell_type": "code",
   "execution_count": 9,
   "metadata": {
    "id": "OOVaz_Dh24aX",
    "tags": []
   },
   "outputs": [
    {
     "name": "stdout",
     "output_type": "stream",
     "text": [
      "0.004629629629629629\n"
     ]
    }
   ],
   "source": [
    "print(6 ** -3)"
   ]
  },
  {
   "cell_type": "markdown",
   "metadata": {
    "id": "2t3FNSBm3y3L"
   },
   "source": [
    "9) 652가 87보다 큰 지를 비교 연산자로 확인하세요."
   ]
  },
  {
   "cell_type": "code",
   "execution_count": 11,
   "metadata": {
    "id": "GTRqJJsK24aX",
    "tags": []
   },
   "outputs": [
    {
     "name": "stdout",
     "output_type": "stream",
     "text": [
      "True\n"
     ]
    }
   ],
   "source": [
    "print(652 > 87)"
   ]
  },
  {
   "cell_type": "markdown",
   "metadata": {
    "id": "wyXqysTg4GnG"
   },
   "source": [
    "10) 31과 31.0이 같은 지를 비교 연산자로 확인하세요."
   ]
  },
  {
   "cell_type": "code",
   "execution_count": null,
   "metadata": {
    "id": "rey0ew4q24aY"
   },
   "outputs": [],
   "source": [
    "\n",
    "\n",
    "\n"
   ]
  },
  {
   "cell_type": "markdown",
   "metadata": {
    "id": "1Bw7M9Kk4I2H"
   },
   "source": [
    "11) 24와 24.0이 다른 지를 비교 연산자로 확인하세요."
   ]
  },
  {
   "cell_type": "code",
   "execution_count": null,
   "metadata": {
    "id": "znPWjSZB24aY"
   },
   "outputs": [],
   "source": [
    "\n",
    "\n",
    "\n"
   ]
  },
  {
   "cell_type": "markdown",
   "metadata": {
    "id": "eO_EfF9W24aa"
   },
   "source": [
    "# 실습 #3: 변수 다루기"
   ]
  },
  {
   "cell_type": "markdown",
   "metadata": {
    "id": "0gmwj4DN4tc7"
   },
   "source": [
    "1) 변수 v1에 48, 변수 v2에 '홍길동'을 저장하고 각각 출력하세요."
   ]
  },
  {
   "cell_type": "code",
   "execution_count": 12,
   "metadata": {
    "id": "p40DYsHb24ab",
    "tags": []
   },
   "outputs": [
    {
     "name": "stdout",
     "output_type": "stream",
     "text": [
      "48\n",
      "홍길동\n"
     ]
    }
   ],
   "source": [
    "v1 = 48\n",
    "v2 = '홍길동'\n",
    "\n",
    "print(v1)\n",
    "print(v2)"
   ]
  },
  {
   "cell_type": "markdown",
   "metadata": {
    "id": "uguiiwUC4xPx"
   },
   "source": [
    "2) 변수 a, b에 임의의 숫자를 각각 저장하고 a와 b를 곱하여 출력하세요."
   ]
  },
  {
   "cell_type": "code",
   "execution_count": 14,
   "metadata": {
    "id": "6Nk2YHmt24ab",
    "tags": []
   },
   "outputs": [
    {
     "name": "stdout",
     "output_type": "stream",
     "text": [
      "75\n"
     ]
    }
   ],
   "source": [
    "a = 5\n",
    "b = 15\n",
    "\n",
    "print(a * b)"
   ]
  },
  {
   "cell_type": "markdown",
   "metadata": {
    "id": "HpB3uURE4zc6"
   },
   "source": [
    "3) 변수 a, b에 임의의 숫자를 각각 저장하고 변수 c에 a와 b의 합, 변수 d에 a와 b의 곱을 저장하여 크기를 비교하세요."
   ]
  },
  {
   "cell_type": "code",
   "execution_count": 15,
   "metadata": {
    "id": "OBgGZJGJ24ab",
    "tags": []
   },
   "outputs": [
    {
     "name": "stdout",
     "output_type": "stream",
     "text": [
      "방가방가방가\n"
     ]
    }
   ],
   "source": [
    "a = 3\n",
    "b = '방가'\n",
    "print(a * b)"
   ]
  },
  {
   "cell_type": "markdown",
   "metadata": {
    "id": "HvVfjq5-5HIX"
   },
   "source": [
    "4) 변수 g에 1을 저장하고 g에 1을 더해서 다시 g에 대입하세요."
   ]
  },
  {
   "cell_type": "code",
   "execution_count": 16,
   "metadata": {
    "id": "k6-qf0_b24ac",
    "tags": []
   },
   "outputs": [
    {
     "data": {
      "text/plain": [
       "2"
      ]
     },
     "execution_count": 16,
     "metadata": {},
     "output_type": "execute_result"
    }
   ],
   "source": [
    "g = 1\n",
    "\n",
    "g += 1\n",
    "\n",
    "g"
   ]
  },
  {
   "cell_type": "markdown",
   "metadata": {
    "id": "nKVpZfNC5JeW"
   },
   "source": [
    "5) 변수 h에 2를 저장하고 h에 2를 곱해서 다시 h에 대입하세요."
   ]
  },
  {
   "cell_type": "code",
   "execution_count": 17,
   "metadata": {
    "id": "EdIoGDmx24ac",
    "tags": []
   },
   "outputs": [
    {
     "data": {
      "text/plain": [
       "4"
      ]
     },
     "execution_count": 17,
     "metadata": {},
     "output_type": "execute_result"
    }
   ],
   "source": [
    "h = 2\n",
    "\n",
    "h *= 2\n",
    "\n",
    "h"
   ]
  },
  {
   "cell_type": "markdown",
   "metadata": {
    "id": "MK62jltM5MmQ"
   },
   "source": [
    "6) 변수 i에 6을 저장하고 i의 2제곱을 다시 i에 대입하세요."
   ]
  },
  {
   "cell_type": "code",
   "execution_count": 18,
   "metadata": {
    "id": "Nv8zvhMH24ac",
    "tags": []
   },
   "outputs": [
    {
     "data": {
      "text/plain": [
       "36"
      ]
     },
     "execution_count": 18,
     "metadata": {},
     "output_type": "execute_result"
    }
   ],
   "source": [
    "i = 6\n",
    "\n",
    "i **= 2\n",
    "\n",
    "i"
   ]
  },
  {
   "cell_type": "markdown",
   "metadata": {
    "id": "33FHKoVH5PFi"
   },
   "source": [
    "7) [심화] 홍길동의 과목별 점수는 아래와 같습니다.\n",
    "- 국어: 96점, 수학: 72점, 영어: 88점\n",
    "- 변수 kor, math, eng에 각 과목 점수를 저장한 뒤,\n",
    "- 변수 avg에 변수를 이용한 연산으로 계산한 평균 점수를 저장하여\n",
    "- 문자열 '홍길동의 평균 점수는'과 avg를 하나의 print 함수로 출력하세요.\n",
    "- 평균 = (전체 자료의 합) / (전체 자료의 수)"
   ]
  },
  {
   "cell_type": "code",
   "execution_count": 22,
   "metadata": {
    "id": "Za0wRbCc24ac",
    "tags": []
   },
   "outputs": [
    {
     "name": "stdout",
     "output_type": "stream",
     "text": [
      "256\n",
      "85.33333333333333\n"
     ]
    }
   ],
   "source": [
    "kor = 96\n",
    "math = 72\n",
    "eng = 88\n",
    "sum_sub = sum([kor, math, eng])\n",
    "print(sum_sub)\n",
    "avg = sum_sub / 3\n",
    "\n",
    "print(avg)"
   ]
  },
  {
   "cell_type": "code",
   "execution_count": null,
   "metadata": {},
   "outputs": [],
   "source": []
  }
 ],
 "metadata": {
  "colab": {
   "provenance": []
  },
  "kernelspec": {
   "display_name": "Python 3 (ipykernel)",
   "language": "python",
   "name": "python3"
  },
  "language_info": {
   "codemirror_mode": {
    "name": "ipython",
    "version": 3
   },
   "file_extension": ".py",
   "mimetype": "text/x-python",
   "name": "python",
   "nbconvert_exporter": "python",
   "pygments_lexer": "ipython3",
   "version": "3.11.5"
  }
 },
 "nbformat": 4,
 "nbformat_minor": 4
}
