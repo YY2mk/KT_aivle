{
 "cells": [
  {
   "cell_type": "markdown",
   "id": "a6662e55",
   "metadata": {
    "id": "a6662e55"
   },
   "source": [
    "<center><img src='https://raw.githubusercontent.com/Jangrae/img/master/title.png' width=500/></center>"
   ]
  },
  {
   "cell_type": "markdown",
   "id": "29887f51",
   "metadata": {
    "id": "29887f51"
   },
   "source": [
    "<center><img src='https://raw.githubusercontent.com/Jangrae/img/master/practice.png' width=300/></center>"
   ]
  },
  {
   "cell_type": "markdown",
   "id": "a16b2654",
   "metadata": {
    "id": "a16b2654"
   },
   "source": [
    "# 실습 #1: 엑셀 파일 다루기 (1)"
   ]
  },
  {
   "cell_type": "markdown",
   "id": "80085550",
   "metadata": {
    "id": "80085550"
   },
   "source": [
    "1) Fruit.xlsx 파일을 열어 시트 이름을 확인하세요."
   ]
  },
  {
   "cell_type": "code",
   "execution_count": 37,
   "id": "f250c4bc",
   "metadata": {
    "id": "f250c4bc",
    "tags": []
   },
   "outputs": [
    {
     "data": {
      "text/plain": [
       "['Sheet1', 'Sheet2']"
      ]
     },
     "execution_count": 37,
     "metadata": {},
     "output_type": "execute_result"
    }
   ],
   "source": [
    "# 라이브러 불러오기\n",
    "import openpyxl as xl\n",
    "\n",
    "# 워크북 오브젝트를 선언(엑셀 파일 열기)\n",
    "wb = xl.load_workbook('Fruit.xlsx')\n",
    "\n",
    "wb.sheetnames"
   ]
  },
  {
   "cell_type": "markdown",
   "id": "a5c162ea",
   "metadata": {
    "id": "a5c162ea"
   },
   "source": [
    "2) 셀 이름으로 Sheet2 시트의 A1, A2, A3 셀 값을 확인하세요."
   ]
  },
  {
   "cell_type": "code",
   "execution_count": 38,
   "id": "7415a66b",
   "metadata": {
    "id": "7415a66b",
    "tags": []
   },
   "outputs": [
    {
     "name": "stdout",
     "output_type": "stream",
     "text": [
      "Apple\n",
      "Banana\n",
      "Melon\n"
     ]
    }
   ],
   "source": [
    "sheet2 = wb['Sheet2']\n",
    "print(sheet2['A1'].value)\n",
    "print(sheet2['A2'].value)\n",
    "print(sheet2['A3'].value)"
   ]
  },
  {
   "cell_type": "markdown",
   "id": "e4b3ee68",
   "metadata": {
    "id": "e4b3ee68"
   },
   "source": [
    "3) cell(행, 열).value 구문을 사용해 (1,1), (1,2), (2,1), (2,2) 셀을 다음과 같이 표시되게 확인하세요.\n",
    "\n",
    "        Apple red\n",
    "        Banana yellow"
   ]
  },
  {
   "cell_type": "code",
   "execution_count": 13,
   "id": "1cb680c4",
   "metadata": {
    "id": "1cb680c4",
    "tags": []
   },
   "outputs": [
    {
     "name": "stdout",
     "output_type": "stream",
     "text": [
      "Apple red\n",
      "Banana yellow\n"
     ]
    }
   ],
   "source": [
    "print(sheet2.cell(1, 1).value, sheet2.cell(1, 2).value)\n",
    "print(sheet2.cell(2, 1).value, sheet2.cell(2, 2).value)"
   ]
  },
  {
   "cell_type": "markdown",
   "id": "78dacce5",
   "metadata": {
    "id": "78dacce5"
   },
   "source": [
    "4) Sheet2 시트의 데이터 시작과 끝의 행, 열 번호를 확인해 보세요."
   ]
  },
  {
   "cell_type": "code",
   "execution_count": 17,
   "id": "5c4b27b6",
   "metadata": {
    "id": "5c4b27b6",
    "tags": []
   },
   "outputs": [
    {
     "name": "stdout",
     "output_type": "stream",
     "text": [
      "1 3\n",
      "1 2\n"
     ]
    }
   ],
   "source": [
    "print(sheet2.min_row, sheet2.max_row)\n",
    "print(sheet2.min_column, sheet2.max_column)"
   ]
  },
  {
   "cell_type": "markdown",
   "id": "fa936313",
   "metadata": {
    "id": "fa936313"
   },
   "source": [
    "5) Sheet2 시트 첫 행의 Apple을 Pineapple로, red를 yellow로 수정해 보세요(단, 저장하지 마세요)."
   ]
  },
  {
   "cell_type": "code",
   "execution_count": 20,
   "id": "8be0b61c",
   "metadata": {
    "id": "8be0b61c",
    "tags": []
   },
   "outputs": [
    {
     "name": "stdout",
     "output_type": "stream",
     "text": [
      "Pineapple\n",
      "yellow\n"
     ]
    }
   ],
   "source": [
    "sheet2['A1'].value = 'Pineapple'\n",
    "sheet2['B1'].value = 'yellow'\n",
    "print(sheet2['A1'].value)\n",
    "print(sheet2['B1'].value)"
   ]
  },
  {
   "cell_type": "markdown",
   "id": "13532b14",
   "metadata": {
    "id": "13532b14"
   },
   "source": [
    "6) 마지막 행에 'Orange', 'orange' 를 추가해 보세요(단, 저장하지 마세요)."
   ]
  },
  {
   "cell_type": "code",
   "execution_count": 39,
   "id": "0cd059ef",
   "metadata": {
    "id": "0cd059ef",
    "tags": []
   },
   "outputs": [],
   "source": [
    "sheet2.cell(row=sheet2.max_row+1, column=sheet2.min_column).value = 'Orange'\n",
    "sheet2.cell(row=sheet2.max_row, column=sheet2.max_column).value = 'orange'"
   ]
  },
  {
   "cell_type": "markdown",
   "id": "01ca501e",
   "metadata": {
    "id": "01ca501e"
   },
   "source": [
    "7) Fruit2.xlsx 이름으로 저장하고 엑셀로 파일을 열어 내용을 확인하세요."
   ]
  },
  {
   "cell_type": "code",
   "execution_count": 40,
   "id": "250bd2bc",
   "metadata": {
    "id": "250bd2bc",
    "tags": []
   },
   "outputs": [],
   "source": [
    "wb.save('Fruit2.xlsx')"
   ]
  },
  {
   "cell_type": "markdown",
   "id": "XT0cWVimafCb",
   "metadata": {
    "id": "XT0cWVimafCb"
   },
   "source": [
    "# 실습 #2: 엑셀 파일 다루기 (2)"
   ]
  },
  {
   "cell_type": "markdown",
   "id": "76432a73",
   "metadata": {
    "id": "76432a73"
   },
   "source": [
    "1) 다음 과일과 색깔을 반복문을 사용해 추가하고 Fruit4.xlsx 파일로 저장하세요.\n",
    "- Strawberry, red\n",
    "- Grape, purple\n",
    "- Kiwi, green"
   ]
  },
  {
   "cell_type": "code",
   "execution_count": 41,
   "id": "4a7366a0",
   "metadata": {
    "id": "4a7366a0",
    "tags": []
   },
   "outputs": [],
   "source": [
    "fruits = [['Strawberry', 'red'], ['Grape', 'purple'], ['Kiwi', 'greep']]\n",
    "\n",
    "for i in range(len(fruits)):\n",
    "    sheet2.cell(sheet2.max_row+1, sheet2.min_column).value = fruits[i][0]\n",
    "    sheet2.cell(sheet2.max_row, sheet2.max_column).value = fruits[i][1]"
   ]
  },
  {
   "cell_type": "code",
   "execution_count": 42,
   "id": "dce36468-9dcf-423d-8c2b-bce9f664c957",
   "metadata": {
    "tags": []
   },
   "outputs": [],
   "source": [
    "wb.save('Fruit4.xlsx')"
   ]
  },
  {
   "cell_type": "markdown",
   "id": "27e6ddf3",
   "metadata": {
    "id": "27e6ddf3"
   },
   "source": [
    "2) Fruit4.xlsx 파일을 열고 Sheet2 세 번째 열에 0부터 6까지 숫자를 저장하고 Fruit5.xlsx 파일로 저장하세요."
   ]
  },
  {
   "cell_type": "code",
   "execution_count": 65,
   "id": "9650d31f",
   "metadata": {
    "id": "9650d31f",
    "tags": []
   },
   "outputs": [],
   "source": [
    "wb = xl.load_workbook('Fruit4.xlsx')\n",
    "sheet2 = wb['Sheet2']\n",
    "max_cols = sheet2.max_column+1\n",
    "\n",
    "for i in range(sheet2.max_row):\n",
    "    sheet2.cell(i+1, max_cols).value = i"
   ]
  },
  {
   "cell_type": "code",
   "execution_count": 66,
   "id": "5e986145-2b3c-43d3-930f-5625c7949b50",
   "metadata": {
    "tags": []
   },
   "outputs": [],
   "source": [
    "wb.save('Fruit5.xlsx')"
   ]
  },
  {
   "cell_type": "markdown",
   "id": "a419ea85",
   "metadata": {
    "id": "a419ea85"
   },
   "source": [
    "3) Fruit5.xlsx 파일을 열고 Sheet2 시트에 대해 다음을 처리한 후 결과를 Fruit6.xlsx 파일로 저장하세요.\n",
    "\n",
    "- 과일 이름을 모두 소문자로 변경합니다.\n",
    "- 색깔은 앞 3자리까지만 표시하도록 변경합니다. (예: yellow → yel)\n",
    "- 힌트: 문자열의 모든 문자를 소문자로 바꾸는 lower() 메서드와 문자열 인덱싱, 슬라이싱을 활용합니다."
   ]
  },
  {
   "cell_type": "code",
   "execution_count": 67,
   "id": "23c83d01",
   "metadata": {
    "id": "23c83d01",
    "tags": []
   },
   "outputs": [],
   "source": [
    "wb = xl.load_workbook('Fruit5.xlsx')\n",
    "sheet2 = wb['Sheet2']\n",
    "\n",
    "for i in range(sheet2.max_row):\n",
    "    sheet2.cell(i+1, 2).value = sheet2.cell(i+1, 2).value[0:3]"
   ]
  },
  {
   "cell_type": "code",
   "execution_count": 68,
   "id": "d3aca871-cbd3-4715-b6a4-70a06b29527d",
   "metadata": {
    "tags": []
   },
   "outputs": [],
   "source": [
    "wb.save('Fruit6.xlsx')"
   ]
  },
  {
   "cell_type": "code",
   "execution_count": null,
   "id": "c36a58e3-806f-4dc5-b0f2-13c74f4b3f8e",
   "metadata": {},
   "outputs": [],
   "source": []
  }
 ],
 "metadata": {
  "colab": {
   "provenance": []
  },
  "kernelspec": {
   "display_name": "Python 3 (ipykernel)",
   "language": "python",
   "name": "python3"
  },
  "language_info": {
   "codemirror_mode": {
    "name": "ipython",
    "version": 3
   },
   "file_extension": ".py",
   "mimetype": "text/x-python",
   "name": "python",
   "nbconvert_exporter": "python",
   "pygments_lexer": "ipython3",
   "version": "3.11.5"
  }
 },
 "nbformat": 4,
 "nbformat_minor": 5
}
