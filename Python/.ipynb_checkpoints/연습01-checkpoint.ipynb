{
 "cells": [
  {
   "cell_type": "markdown",
   "id": "4c7a1420",
   "metadata": {},
   "source": [
    "# A. 주피터 노트북 사용 방법\n",
    "\n",
    "## 1. 파이썬 코드 입력과 실행"
   ]
  },
  {
   "cell_type": "markdown",
   "id": "a32c99a6",
   "metadata": {},
   "source": [
    "- 파이썬 코드를 **입력**하고 **실행**해서 *결과*를 확인합니다.\n",
    "- 멋지지 않습니까?"
   ]
  },
  {
   "cell_type": "code",
   "execution_count": 26,
   "id": "f979fcb0",
   "metadata": {},
   "outputs": [
    {
     "data": {
      "text/plain": [
       "30"
      ]
     },
     "execution_count": 26,
     "metadata": {},
     "output_type": "execute_result"
    }
   ],
   "source": [
    "a = 10\n",
    "b = 20\n",
    "c = 30\n",
    "c"
   ]
  },
  {
   "cell_type": "code",
   "execution_count": 27,
   "id": "6e2c06a8",
   "metadata": {},
   "outputs": [
    {
     "data": {
      "text/plain": [
       "40"
      ]
     },
     "execution_count": 27,
     "metadata": {},
     "output_type": "execute_result"
    }
   ],
   "source": [
    "c = c + 10\n",
    "c"
   ]
  },
  {
   "cell_type": "markdown",
   "id": "806227b8",
   "metadata": {},
   "source": [
    "## 2. 단추키 활용"
   ]
  },
  {
   "cell_type": "markdown",
   "id": "fc518a78",
   "metadata": {},
   "source": [
    "## 실행\n",
    "- Ctrl + Enter : 코드 실행하고 머무르기\n",
    "- Shift + Enter : 코드 실행하고 다음 셀로 이동\n",
    "- Alt + Enter : 코드를 실행하고 바로 밑에 새로운 셀 추가\n",
    "\n",
    "## 삭제\n",
    "- DD : 해당 셀 삭제\n",
    "\n",
    "## 추가\n",
    "- A(Above) : 앞에 셀 추가\n",
    "- B(Below) : 뒤에 셀 추가\n",
    "\n",
    "## 셀 변경\n",
    "- m : Markdown 셀로 변경\n",
    "- y : Code  셀로 변경"
   ]
  },
  {
   "cell_type": "code",
   "execution_count": null,
   "id": "7727a697",
   "metadata": {},
   "outputs": [],
   "source": []
  }
 ],
 "metadata": {
  "kernelspec": {
   "display_name": "Python 3 (ipykernel)",
   "language": "python",
   "name": "python3"
  },
  "language_info": {
   "codemirror_mode": {
    "name": "ipython",
    "version": 3
   },
   "file_extension": ".py",
   "mimetype": "text/x-python",
   "name": "python",
   "nbconvert_exporter": "python",
   "pygments_lexer": "ipython3",
   "version": "3.11.5"
  }
 },
 "nbformat": 4,
 "nbformat_minor": 5
}
