{
 "cells": [
  {
   "cell_type": "markdown",
   "metadata": {
    "id": "b3TDAdnvnSbh"
   },
   "source": [
    "<center><img src='https://raw.githubusercontent.com/Jangrae/img/master/title.png' width=500/></center>"
   ]
  },
  {
   "cell_type": "markdown",
   "metadata": {
    "id": "jp80QgZSZinv"
   },
   "source": [
    "<center><img src='https://raw.githubusercontent.com/Jangrae/img/master/practice.png' width=300/></center>"
   ]
  },
  {
   "cell_type": "markdown",
   "metadata": {
    "id": "TdwDXHOl24aO"
   },
   "source": [
    "# 실습 #1: print 함수"
   ]
  },
  {
   "cell_type": "markdown",
   "metadata": {
    "id": "YUb7BWX826LT"
   },
   "source": [
    "1) 숫자 123456을 출력하세요."
   ]
  },
  {
   "cell_type": "code",
   "execution_count": 3,
   "metadata": {
    "id": "7vybaf6424aP"
   },
   "outputs": [
    {
     "data": {
      "text/plain": [
       "123456"
      ]
     },
     "execution_count": 3,
     "metadata": {},
     "output_type": "execute_result"
    }
   ],
   "source": [
    "a = 123456\n",
    "a"
   ]
  },
  {
   "cell_type": "markdown",
   "metadata": {
    "id": "7fsPlK2229Qk"
   },
   "source": [
    "2) 숫자 123, 456을 각각의 print 함수로 출력하세요."
   ]
  },
  {
   "cell_type": "code",
   "execution_count": 5,
   "metadata": {
    "id": "Ah4-xwyj24aQ"
   },
   "outputs": [
    {
     "name": "stdout",
     "output_type": "stream",
     "text": [
      "123\n",
      "456\n"
     ]
    }
   ],
   "source": [
    "b1 = 123\n",
    "b2 = 456\n",
    "print(b1)\n",
    "print(b2)"
   ]
  },
  {
   "cell_type": "markdown",
   "metadata": {
    "id": "fO1Lmo7o3AHT"
   },
   "source": [
    "3) 숫자 123, 456을 하나의 print 함수로 출력하세요."
   ]
  },
  {
   "cell_type": "code",
   "execution_count": 6,
   "metadata": {
    "id": "f9yv3tgS24aQ"
   },
   "outputs": [
    {
     "name": "stdout",
     "output_type": "stream",
     "text": [
      "123 456\n"
     ]
    }
   ],
   "source": [
    "print(b1, b2)"
   ]
  },
  {
   "cell_type": "markdown",
   "metadata": {
    "id": "0rhTYaCN3Eg8"
   },
   "source": [
    "4) 문자열 '파이썬을 배웁시다.', '누구든 할 수 있습니다.'를 각각의 print 함수로 출력하세요."
   ]
  },
  {
   "cell_type": "code",
   "execution_count": 7,
   "metadata": {
    "id": "77vtnW4824aR"
   },
   "outputs": [
    {
     "name": "stdout",
     "output_type": "stream",
     "text": [
      "파이썬을 배웁시다\n",
      "누구든 할 수 있습니다\n"
     ]
    }
   ],
   "source": [
    "str1 = '파이썬을 배웁시다'\n",
    "str2 = '누구든 할 수 있습니다'\n",
    "print(str1)\n",
    "print(str2)"
   ]
  },
  {
   "cell_type": "markdown",
   "metadata": {
    "id": "_xpgPrlt3LES"
   },
   "source": [
    "5) 문자열 '파이썬을 배웁시다.',  '누구든 할 수 있습니다.'를 하나의 print 함수로 출력하세요."
   ]
  },
  {
   "cell_type": "code",
   "execution_count": 13,
   "metadata": {
    "id": "viypc3IK24aS"
   },
   "outputs": [
    {
     "name": "stdout",
     "output_type": "stream",
     "text": [
      "파이썬을 배웁시다누구든 할 수 있습니다\n"
     ]
    }
   ],
   "source": [
    "print(str1 + str2)"
   ]
  },
  {
   "cell_type": "markdown",
   "metadata": {
    "id": "FluLogo_3Q8V"
   },
   "source": [
    "6) 숫자 123, 문자열 '오늘은', 문자열 '12월20일 입니다.'를 각각의 print 함수로 출력하세요."
   ]
  },
  {
   "cell_type": "code",
   "execution_count": 10,
   "metadata": {},
   "outputs": [
    {
     "name": "stdout",
     "output_type": "stream",
     "text": [
      "123\n",
      "문자열 12월20일 입니다\n"
     ]
    }
   ],
   "source": [
    "c = 123\n",
    "str3 = '문자열 12월20일 입니다'\n",
    "print(c)\n",
    "print(str3)"
   ]
  },
  {
   "cell_type": "markdown",
   "metadata": {
    "id": "uo8_WG3K3VFG"
   },
   "source": [
    "7) 숫자 123, 문자열 '오늘은', 문자열 '12월20일 입니다.'를 하나의 print 함수로 출력하세요.\n"
   ]
  },
  {
   "cell_type": "code",
   "execution_count": 12,
   "metadata": {
    "id": "I2xXz4tl24aU"
   },
   "outputs": [
    {
     "name": "stdout",
     "output_type": "stream",
     "text": [
      "123 문자열 12월20일 입니다\n"
     ]
    }
   ],
   "source": [
    "print(c, str3)"
   ]
  },
  {
   "cell_type": "markdown",
   "metadata": {
    "id": "c0z-o5W124aU"
   },
   "source": [
    "# 실습 #2: 숫자 다루기"
   ]
  },
  {
   "cell_type": "markdown",
   "metadata": {
    "id": "g3vChBqv3ZEw"
   },
   "source": [
    "1) 두 수 125, 5를 더하고, 빼고, 곱하고, 나눠 보세요."
   ]
  },
  {
   "cell_type": "code",
   "execution_count": 14,
   "metadata": {
    "id": "JqH6e_xb24aU"
   },
   "outputs": [
    {
     "name": "stdout",
     "output_type": "stream",
     "text": [
      "더하기 : 130\n",
      "빼기 : 120\n",
      "곱하기 : 625\n",
      "나누기 : 25.0\n"
     ]
    }
   ],
   "source": [
    "su1 = 125\n",
    "su2 = 5\n",
    "\n",
    "add = su1 + su2\n",
    "sub = su1 - su2\n",
    "mul = su1 * su2\n",
    "div = su1 / su2\n",
    "\n",
    "print('더하기 :', add)\n",
    "print('빼기 :', sub)\n",
    "print('곱하기 :', mul)\n",
    "print('나누기 :', div)"
   ]
  },
  {
   "cell_type": "markdown",
   "metadata": {
    "id": "BQXdbo113iTR"
   },
   "source": [
    "2) 178을 13으로 나눴을 때 몫을 구하세요."
   ]
  },
  {
   "cell_type": "code",
   "execution_count": 18,
   "metadata": {
    "id": "Hw3mrAOT24aV"
   },
   "outputs": [
    {
     "name": "stdout",
     "output_type": "stream",
     "text": [
      "몫 : 13\n"
     ]
    }
   ],
   "source": [
    "d1 = 178\n",
    "d2 = 13\n",
    "mok1 = d1 // 13\n",
    "print('몫 :', mok1)"
   ]
  },
  {
   "cell_type": "markdown",
   "metadata": {
    "id": "OZxCcT6G3kH5"
   },
   "source": [
    "3) 3854를 11로 나눴을 때 몫을 구하세요."
   ]
  },
  {
   "cell_type": "code",
   "execution_count": 19,
   "metadata": {
    "id": "-w1NKv_c24aW"
   },
   "outputs": [
    {
     "name": "stdout",
     "output_type": "stream",
     "text": [
      "몫 : 350\n"
     ]
    }
   ],
   "source": [
    "d3 = 3854\n",
    "d4 = 11\n",
    "mok2 = d3 // d4\n",
    "print('몫 :', mok2)"
   ]
  },
  {
   "cell_type": "markdown",
   "metadata": {
    "id": "bQeHFqBb3l-v"
   },
   "source": [
    "4) 178을 13으로 나눴을 때 나머지를 구하세요."
   ]
  },
  {
   "cell_type": "code",
   "execution_count": 21,
   "metadata": {
    "id": "WwxKC_EM24aW"
   },
   "outputs": [
    {
     "name": "stdout",
     "output_type": "stream",
     "text": [
      "나머지 : 9\n"
     ]
    }
   ],
   "source": [
    "nam1 = d1 % d2\n",
    "print('나머지 :', nam1)"
   ]
  },
  {
   "cell_type": "markdown",
   "metadata": {
    "id": "u4Fe-Xr_3q8_"
   },
   "source": [
    "5) 3854를 11로 나눴을 때 나머지를 구하세요."
   ]
  },
  {
   "cell_type": "code",
   "execution_count": 22,
   "metadata": {
    "id": "5I7aNxuv24aW"
   },
   "outputs": [
    {
     "name": "stdout",
     "output_type": "stream",
     "text": [
      "나머지 : 4\n"
     ]
    }
   ],
   "source": [
    "nam2 = d3 % d4\n",
    "print('나머지 :', nam2)"
   ]
  },
  {
   "cell_type": "markdown",
   "metadata": {
    "id": "wlm1hxdj3srZ"
   },
   "source": [
    "6) 563421이 3의 배수인지 확인해 보세요."
   ]
  },
  {
   "cell_type": "code",
   "execution_count": 28,
   "metadata": {
    "id": "tSNptP_F24aW"
   },
   "outputs": [
    {
     "name": "stdout",
     "output_type": "stream",
     "text": [
      "563421은 3의 배수 입니다\n"
     ]
    }
   ],
   "source": [
    "ba1 = 563421\n",
    "ba2 = 3\n",
    "if ba1 % ba2 == 0:\n",
    "    print(str(ba1) + \"은\", str(ba2)+\"의 배수 입니다\")\n",
    "else:\n",
    "    print(str(ba1) + \"은\", str(ba2)+\"의 배수 아닙니다\")\n"
   ]
  },
  {
   "cell_type": "markdown",
   "metadata": {
    "id": "AeuAvgbv3uWh"
   },
   "source": [
    "7) 2의 10제곱을 구하세요."
   ]
  },
  {
   "cell_type": "code",
   "execution_count": 29,
   "metadata": {
    "id": "998l0rBn24aX"
   },
   "outputs": [
    {
     "name": "stdout",
     "output_type": "stream",
     "text": [
      "1024\n"
     ]
    }
   ],
   "source": [
    "je1 = 2 ** 10\n",
    "print(je1)"
   ]
  },
  {
   "cell_type": "markdown",
   "metadata": {
    "id": "HU71SHm23w5S"
   },
   "source": [
    "8) 6의 -3제곱을 구하시오."
   ]
  },
  {
   "cell_type": "code",
   "execution_count": 30,
   "metadata": {
    "id": "OOVaz_Dh24aX"
   },
   "outputs": [
    {
     "name": "stdout",
     "output_type": "stream",
     "text": [
      "0.004629629629629629\n"
     ]
    }
   ],
   "source": [
    "je2 = 6 ** -3\n",
    "print(je2)"
   ]
  },
  {
   "cell_type": "markdown",
   "metadata": {
    "id": "2t3FNSBm3y3L"
   },
   "source": [
    "9) 652가 87보다 큰 지를 비교 연산자로 확인하세요."
   ]
  },
  {
   "cell_type": "code",
   "execution_count": 31,
   "metadata": {
    "id": "GTRqJJsK24aX",
    "scrolled": true
   },
   "outputs": [
    {
     "name": "stdout",
     "output_type": "stream",
     "text": [
      "True\n"
     ]
    }
   ],
   "source": [
    "bi1 = 625 > 87\n",
    "print(bi1)"
   ]
  },
  {
   "cell_type": "markdown",
   "metadata": {
    "id": "wyXqysTg4GnG"
   },
   "source": [
    "10) 31과 31.0이 같은 지를 비교 연산자로 확인하세요."
   ]
  },
  {
   "cell_type": "code",
   "execution_count": 32,
   "metadata": {
    "id": "rey0ew4q24aY"
   },
   "outputs": [
    {
     "name": "stdout",
     "output_type": "stream",
     "text": [
      "True\n"
     ]
    }
   ],
   "source": [
    "bi2 = 31 == 31.0\n",
    "print(bi2)"
   ]
  },
  {
   "cell_type": "markdown",
   "metadata": {
    "id": "1Bw7M9Kk4I2H"
   },
   "source": [
    "11.24와 24.0이 다른 지를 비교 연산자로 확인하세요."
   ]
  },
  {
   "cell_type": "code",
   "execution_count": 33,
   "metadata": {
    "id": "znPWjSZB24aY"
   },
   "outputs": [
    {
     "name": "stdout",
     "output_type": "stream",
     "text": [
      "False\n"
     ]
    }
   ],
   "source": [
    "bi3 = 24 != 24.0\n",
    "print(bi3)"
   ]
  },
  {
   "cell_type": "markdown",
   "metadata": {
    "id": "eO_EfF9W24aa"
   },
   "source": [
    "# 실습 #3: 변수 다루기"
   ]
  },
  {
   "cell_type": "markdown",
   "metadata": {
    "id": "0gmwj4DN4tc7"
   },
   "source": [
    "1) 변수 v1에 48, 변수 v2에 '홍길동'을 저장하고 각각 출력하세요."
   ]
  },
  {
   "cell_type": "code",
   "execution_count": 34,
   "metadata": {
    "id": "p40DYsHb24ab"
   },
   "outputs": [
    {
     "name": "stdout",
     "output_type": "stream",
     "text": [
      "48\n",
      "홍길동\n"
     ]
    }
   ],
   "source": [
    "v1 = 48\n",
    "v2 = '홍길동'\n",
    "print(v1)\n",
    "print(v2)"
   ]
  },
  {
   "cell_type": "markdown",
   "metadata": {
    "id": "uguiiwUC4xPx"
   },
   "source": [
    "2) 변수 a, b에 임의의 숫자를 각각 저장하고 a와 b를 곱하여 출력하세요."
   ]
  },
  {
   "cell_type": "code",
   "execution_count": 37,
   "metadata": {
    "id": "6Nk2YHmt24ab"
   },
   "outputs": [
    {
     "name": "stdout",
     "output_type": "stream",
     "text": [
      "200\n"
     ]
    }
   ],
   "source": [
    "a = 10\n",
    "b = 20\n",
    "print(a*b)"
   ]
  },
  {
   "cell_type": "markdown",
   "metadata": {
    "id": "HpB3uURE4zc6"
   },
   "source": [
    "3) 변수 a, b에 임의의 숫자를 각각 저장하고 변수 c에 a와 b의 합, 변수 d에 a와 b의 곱을 저장하여 크기를 비교하세요."
   ]
  },
  {
   "cell_type": "code",
   "execution_count": 46,
   "metadata": {
    "id": "OBgGZJGJ24ab"
   },
   "outputs": [
    {
     "name": "stdout",
     "output_type": "stream",
     "text": [
      "False True False\n"
     ]
    }
   ],
   "source": [
    "q1 = 10\n",
    "q2 = 15\n",
    "c = a + b\n",
    "d = a * b\n",
    "print(c > d, c < d, c == b)"
   ]
  },
  {
   "cell_type": "markdown",
   "metadata": {
    "id": "HvVfjq5-5HIX"
   },
   "source": [
    "4) 변수 g에 1을 저장하고 g에 1을 더해서 다시 g에 대입하세요."
   ]
  },
  {
   "cell_type": "code",
   "execution_count": 39,
   "metadata": {
    "id": "k6-qf0_b24ac"
   },
   "outputs": [
    {
     "name": "stdout",
     "output_type": "stream",
     "text": [
      "2\n"
     ]
    }
   ],
   "source": [
    "g = 1\n",
    "g+=1\n",
    "print(g)"
   ]
  },
  {
   "cell_type": "markdown",
   "metadata": {
    "id": "nKVpZfNC5JeW"
   },
   "source": [
    "5) 변수 h에 2를 저장하고 h에 2를 곱해서 다시 h에 대입하세요."
   ]
  },
  {
   "cell_type": "code",
   "execution_count": 40,
   "metadata": {
    "id": "EdIoGDmx24ac"
   },
   "outputs": [
    {
     "name": "stdout",
     "output_type": "stream",
     "text": [
      "4\n"
     ]
    }
   ],
   "source": [
    "h = 2\n",
    "h*=2\n",
    "print(h)"
   ]
  },
  {
   "cell_type": "markdown",
   "metadata": {
    "id": "MK62jltM5MmQ"
   },
   "source": [
    "6) 변수 i에 6을 저장하고 i의 2제곱을 다시 i에 대입하세요."
   ]
  },
  {
   "cell_type": "code",
   "execution_count": 41,
   "metadata": {
    "id": "Nv8zvhMH24ac",
    "scrolled": true
   },
   "outputs": [
    {
     "name": "stdout",
     "output_type": "stream",
     "text": [
      "36\n"
     ]
    }
   ],
   "source": [
    "i = 6\n",
    "i**=2\n",
    "print(i)"
   ]
  },
  {
   "cell_type": "markdown",
   "metadata": {
    "id": "33FHKoVH5PFi"
   },
   "source": [
    "7) [심화] 홍길동의 과목별 점수는 아래와 같습니다.\n",
    "- 국어: 96점, 수학: 72점, 영어: 88점\n",
    "- 변수 kor, math, eng에 각 과목 점수를 저장한 뒤,\n",
    "- 변수 avg에 변수를 이용한 연산으로 계산한 평균 점수를 저장하여\n",
    "- 문자열 '홍길동의 평균 점수는'과 avg를 하나의 print 함수로 출력하세요.\n",
    "- 평균 = (전체 자료의 합) / (전체 자료의 수)"
   ]
  },
  {
   "cell_type": "code",
   "execution_count": 45,
   "metadata": {
    "id": "Za0wRbCc24ac"
   },
   "outputs": [
    {
     "name": "stdout",
     "output_type": "stream",
     "text": [
      "홍길동의 평균 점수는 85.33\n"
     ]
    }
   ],
   "source": [
    "kor = 96\n",
    "math = 72\n",
    "eng = 88\n",
    "avg = (kor + math + eng) / 3\n",
    "print(\"홍길동의 평균 점수는\",round(avg,2))"
   ]
  }
 ],
 "metadata": {
  "colab": {
   "provenance": []
  },
  "kernelspec": {
   "display_name": "Python 3 (ipykernel)",
   "language": "python",
   "name": "python3"
  },
  "language_info": {
   "codemirror_mode": {
    "name": "ipython",
    "version": 3
   },
   "file_extension": ".py",
   "mimetype": "text/x-python",
   "name": "python",
   "nbconvert_exporter": "python",
   "pygments_lexer": "ipython3",
   "version": "3.11.5"
  }
 },
 "nbformat": 4,
 "nbformat_minor": 1
}
