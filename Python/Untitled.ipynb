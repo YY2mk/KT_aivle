{
 "cells": [
  {
   "cell_type": "code",
   "execution_count": 6,
   "id": "3a1c52de-69d7-47a4-9109-bc148797ee6f",
   "metadata": {
    "tags": []
   },
   "outputs": [],
   "source": [
    "def hap(a, b):\n",
    "    result = a * b\n",
    "    print(result)"
   ]
  },
  {
   "cell_type": "code",
   "execution_count": 8,
   "id": "f53e2b82-b28f-4c68-aa6b-f963c4c18f54",
   "metadata": {
    "tags": []
   },
   "outputs": [
    {
     "name": "stdout",
     "output_type": "stream",
     "text": [
      "bbbbb\n"
     ]
    }
   ],
   "source": [
    "hap(5, 'b')"
   ]
  },
  {
   "cell_type": "code",
   "execution_count": 9,
   "id": "261c1bcd-c898-47a0-9c4d-bf9dec2227d7",
   "metadata": {
    "tags": []
   },
   "outputs": [
    {
     "name": "stdout",
     "output_type": "stream",
     "text": [
      "(1, 4, 5, 22, 3)\n"
     ]
    }
   ],
   "source": [
    "def test01(*nums):\n",
    "    print(nums)\n",
    "\n",
    "test01(1, 4, 5, 22, 3)"
   ]
  },
  {
   "cell_type": "code",
   "execution_count": 11,
   "id": "a4792fd2-d729-4b20-bc00-6aa3b7474130",
   "metadata": {
    "tags": []
   },
   "outputs": [
    {
     "name": "stdout",
     "output_type": "stream",
     "text": [
      "(1, 4, 5, 22, 3)\n"
     ]
    }
   ],
   "source": [
    "a = [1, 4, 5, 22, 3]\n",
    "test01(*a)"
   ]
  },
  {
   "cell_type": "code",
   "execution_count": null,
   "id": "69e6bcaa-3ea0-447c-a509-91b5eb84ca05",
   "metadata": {},
   "outputs": [],
   "source": []
  }
 ],
 "metadata": {
  "kernelspec": {
   "display_name": "Python 3 (ipykernel)",
   "language": "python",
   "name": "python3"
  },
  "language_info": {
   "codemirror_mode": {
    "name": "ipython",
    "version": 3
   },
   "file_extension": ".py",
   "mimetype": "text/x-python",
   "name": "python",
   "nbconvert_exporter": "python",
   "pygments_lexer": "ipython3",
   "version": "3.11.5"
  }
 },
 "nbformat": 4,
 "nbformat_minor": 5
}
