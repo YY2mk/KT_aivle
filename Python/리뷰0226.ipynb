{
 "cells": [
  {
   "cell_type": "code",
   "execution_count": 1,
   "id": "01190ac3-23f8-4c53-89ae-f2ce92f2fa02",
   "metadata": {
    "tags": []
   },
   "outputs": [
    {
     "name": "stdout",
     "output_type": "stream",
     "text": [
      "[1, 2, 3, 4, 5, 6, 7, 8, 9, 10]\n"
     ]
    }
   ],
   "source": [
    "nums = [1, 2 ,3 ,4 ,5 ,6 ,7 ,8 ,9 ,10]\n",
    "print(nums)"
   ]
  },
  {
   "cell_type": "code",
   "execution_count": 2,
   "id": "8de4419e-585b-40a5-9e09-d2ea1e57ff3c",
   "metadata": {
    "tags": []
   },
   "outputs": [
    {
     "name": "stdout",
     "output_type": "stream",
     "text": [
      "1\n"
     ]
    }
   ],
   "source": [
    "# 인덱싱\n",
    "print(nums[0])"
   ]
  },
  {
   "cell_type": "code",
   "execution_count": 5,
   "id": "32b4f3b7-ac3f-441b-98c6-10275c13adb2",
   "metadata": {
    "tags": []
   },
   "outputs": [
    {
     "name": "stdout",
     "output_type": "stream",
     "text": [
      "10\n",
      "100\n",
      "[10, 20, 30, 40, 50, 60]\n"
     ]
    }
   ],
   "source": [
    "nums = list(range(10, 101, 10))\n",
    "\n",
    "print(nums[0])\n",
    "print(nums[-1])\n",
    "print(nums[:6])"
   ]
  },
  {
   "cell_type": "code",
   "execution_count": 9,
   "id": "8ae509a3-9588-44dc-b164-976e2452c8fc",
   "metadata": {
    "tags": []
   },
   "outputs": [
    {
     "name": "stdout",
     "output_type": "stream",
     "text": [
      "[10, 11, 12, 13, 14, 15, 16, 17, 18, 19, 20, 21, 22, 23, 24, 25, 26, 27, 28, 29, 30]\n",
      "[10, 12, 14, 16, 18, 20]\n"
     ]
    }
   ],
   "source": [
    "nums = list(range(10, 31, 1))\n",
    "print(nums)\n",
    "print(nums[:11:2])"
   ]
  },
  {
   "cell_type": "code",
   "execution_count": 13,
   "id": "624df05e-0f85-4fdf-9ecd-63670594a478",
   "metadata": {
    "tags": []
   },
   "outputs": [
    {
     "name": "stdout",
     "output_type": "stream",
     "text": [
      "[5, 7, 2, 1, 4, 9, 0, 1, 2]\n",
      "[0, 1, 1, 2, 2, 4, 5, 7, 9]\n",
      "[9, 7, 5, 4, 2, 2, 1, 1, 0]\n"
     ]
    }
   ],
   "source": [
    "nums = [5, 7, 2, 1, 4, 9,0 ,1 ,2]\n",
    "print(nums)\n",
    "\n",
    "# 오름차순 정령\n",
    "nums.sort()\n",
    "print(nums)\n",
    "\n",
    "# 내림차순 정렬\n",
    "nums.sort(reverse=True)\n",
    "print(nums)"
   ]
  },
  {
   "cell_type": "code",
   "execution_count": 21,
   "id": "bb2400dd-6501-4c8c-8094-894751bd40b8",
   "metadata": {
    "tags": []
   },
   "outputs": [
    {
     "name": "stdout",
     "output_type": "stream",
     "text": [
      "{'홍길동': 90, '일지매': 85, '한사랑': 100, '박여인': 90, '한국인': 75}\n"
     ]
    }
   ],
   "source": [
    "# 변수 선언\n",
    "score = {'홍길동': 90, \n",
    "         '일지매': 85, \n",
    "         '한사랑': 100, \n",
    "         '박여인': 90, \n",
    "         '한국인': 75}\n",
    "print(score)"
   ]
  },
  {
   "cell_type": "code",
   "execution_count": 17,
   "id": "9863790f-a83e-4090-9907-3d96a22d5b0e",
   "metadata": {
    "tags": []
   },
   "outputs": [
    {
     "name": "stdout",
     "output_type": "stream",
     "text": [
      "75\n",
      "100\n"
     ]
    }
   ],
   "source": [
    "# 조회\n",
    "print(score['한국인'])\n",
    "print(score['한사랑'])"
   ]
  },
  {
   "cell_type": "code",
   "execution_count": 22,
   "id": "623288f8-4312-4ebc-b0eb-8dcf2f300bd9",
   "metadata": {
    "tags": []
   },
   "outputs": [
    {
     "data": {
      "text/plain": [
       "{'홍길동': 90, '일지매': 85, '한사랑': 100, '박여인': 90, '한국인': 75, '안경태': 85}"
      ]
     },
     "execution_count": 22,
     "metadata": {},
     "output_type": "execute_result"
    }
   ],
   "source": [
    "# 안경태: 85\n",
    "score['안경태'] = 85\n",
    "score"
   ]
  },
  {
   "cell_type": "code",
   "execution_count": 23,
   "id": "1c46d111-3ff5-4867-9621-83ad6d212cdf",
   "metadata": {
    "tags": []
   },
   "outputs": [
    {
     "name": "stdout",
     "output_type": "stream",
     "text": [
      "[0, 1, 2, 3, 4, 5, 6, 7, 8, 9]\n"
     ]
    }
   ],
   "source": [
    "nums = list(range(10))\n",
    "print(nums)"
   ]
  },
  {
   "cell_type": "code",
   "execution_count": null,
   "id": "cf23b461-e804-4d19-8fe8-9fb8eb6cf0bc",
   "metadata": {},
   "outputs": [],
   "source": [
    "튜프"
   ]
  }
 ],
 "metadata": {
  "kernelspec": {
   "display_name": "Python 3 (ipykernel)",
   "language": "python",
   "name": "python3"
  },
  "language_info": {
   "codemirror_mode": {
    "name": "ipython",
    "version": 3
   },
   "file_extension": ".py",
   "mimetype": "text/x-python",
   "name": "python",
   "nbconvert_exporter": "python",
   "pygments_lexer": "ipython3",
   "version": "3.11.5"
  }
 },
 "nbformat": 4,
 "nbformat_minor": 5
}
