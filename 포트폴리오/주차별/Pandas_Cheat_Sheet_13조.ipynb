{
 "cells": [
  {
   "cell_type": "markdown",
   "id": "d69174e4-2949-4bfd-a4cb-44a17b3d2255",
   "metadata": {},
   "source": [
    "# 1. 데이터 불러오기"
   ]
  },
  {
   "cell_type": "code",
   "execution_count": null,
   "id": "e1f509d3-9224-457b-8407-567d0b14fcc2",
   "metadata": {
    "tags": []
   },
   "outputs": [],
   "source": [
    "import pandas as pd\n",
    "\n",
    "# CSV 파일 불러오기\n",
    "df = pd.read_csv('sales.csv')\n",
    "\n",
    "# 엑셀 파일 불러오기\n",
    "df = pd.read_excel('파일명.xlsx')\n",
    "\n",
    "# 리스트로 데이터프레임 생성\n",
    "data = {'Column1': [1, 2, 3], 'Column2': ['A', 'B', 'C']}\n",
    "df = pd.DataFrame(data)\n",
    "\n",
    "# 인덱스 초기화\n",
    "df.reset_index(drop=False, inplace=True)\n",
    "\n",
    "# 데이터 프레임 여러개 출력\n",
    "display(df1)\n",
    "display(df2)\n",
    "\n",
    "# CSV 파일 저장\n",
    "df.to_csv('df.csv', index=False)"
   ]
  },
  {
   "cell_type": "markdown",
   "id": "d1e198ad-043a-47ec-96d8-820322c2f1a7",
   "metadata": {},
   "source": [
    "# 2. 기본 정보 확인"
   ]
  },
  {
   "cell_type": "code",
   "execution_count": null,
   "id": "c10e13d8-afed-4af5-be57-8cfd34a4d32c",
   "metadata": {
    "tags": []
   },
   "outputs": [],
   "source": [
    "# 데이터 크기 확인\n",
    "df.shape\n",
    "\n",
    "# 상위 n개 행 출력\n",
    "df.head()\n",
    "\n",
    "# 하위 n개 행 출력\n",
    "df.tail()\n",
    "\n",
    "# 데이터 인덱스 확인\n",
    "df.index\n",
    "\n",
    "# 속성 값 확인\n",
    "df.values\n",
    "\n",
    "# 컬럼 정보 확인\n",
    "df.columns\n",
    "\n",
    "# 컬럼 출력\n",
    "list(df)\n",
    "\n",
    "# 자료형 확인\n",
    "df.dtypes\n",
    "\n",
    "# 데이터프레임 정보 출력\n",
    "df.info()\n",
    "\n",
    "# 기본 통계 정보 출력\n",
    "df.describe()\n",
    "\n",
    "# 특정 데이터 타입형 열 조회\n",
    "df.select_dtypes()"
   ]
  },
  {
   "cell_type": "markdown",
   "id": "557e5abb-0b8b-4ce0-ac77-91f44aacb334",
   "metadata": {},
   "source": [
    "# 3. 데이터 탐색"
   ]
  },
  {
   "cell_type": "code",
   "execution_count": null,
   "id": "23fa6a0d-64f7-4089-ac03-7a77841ca678",
   "metadata": {},
   "outputs": [],
   "source": [
    "# 날짜 형식으로 바꿔주기\n",
    "df['date'] = pd.to_datetime(df['date']) # 날짜 형변환\n",
    "df['year'] = df['date'].dt.year ## 날짜 쪼개기\n",
    "df['month'] = df['date'].dt.month\n",
    "df['day'] = df['date'].dt.day\n",
    "df['hour'] = df['date'].dt.hour\n",
    "df['minute'] = df['date'].dt.minute\n",
    "df['second'] = df['date'].dt.second\n",
    "df['dayofweek'] = df['date'].dt.dayofweek    # 0 ~ 6\n",
    "df['weekday'] = df['date'].dt.day_name()  # Monday ~ Sunday\n",
    "\n",
    "# type 바꿔주기\n",
    "df['Column'] = df['Column'].astype(str)\n",
    "\n",
    "# 열 기준 정렬\n",
    "df.sort_values(by='Column_Name', ascending=False)\n",
    "\n",
    "# 인덱스 기준 정렬\n",
    "df.sort_index(ascending=False)\n",
    "\n",
    "# 고유값 확인\n",
    "df['Column_Name'].unique()\n",
    "\n",
    "# 고유값 비율 확인\n",
    "df['Column_Name'].value_counts(normalize=True)\n",
    "\n",
    "# 최빈값 확인\n",
    "df['Column_Name'].mode()\n",
    "\n",
    "# 행끼리 더해서 열 기준으로 출력\n",
    "df.sum(axis=0, numeric_only=True)\n",
    "\n",
    "# 열끼리 더해서 행 기준으로 출력\n",
    "df.sum(axis=1, numeric_only=True)\n",
    "\n",
    "# 해당 열의 최댓값 조회\n",
    "df['Column_Name'].max()\n",
    "\n",
    "# 해당 열의 최솟값 조회\n",
    "df['Column_Name'].min()\n",
    "\n",
    "# 해당 열의 평균 조회\n",
    "df['Column_Name'].mean()\n",
    "\n",
    "# 해당 열의 중앙값 조회\n",
    "df['Column_Name'].median()"
   ]
  },
  {
   "cell_type": "markdown",
   "id": "bb2d1cb9-35a2-4569-af7f-ccfc7c633ce8",
   "metadata": {},
   "source": [
    "# 4. 데이터 조회"
   ]
  },
  {
   "cell_type": "code",
   "execution_count": null,
   "id": "911e87f3-aa67-4853-9a5e-70cc2b51d286",
   "metadata": {},
   "outputs": [],
   "source": [
    "# 특정 열 \n",
    "df['Column_Name']\n",
    "\n",
    "# 여러 열\n",
    "df[['Column1', 'Column2']]\n",
    "\n",
    "# 특정 행\n",
    "df.loc[1]\n",
    "\n",
    "# 여러 행\n",
    "df.loc[[1, 3, 5]]\n",
    "\n",
    "# 특정 조건에 따른 행 선택\n",
    "df.loc[df['Column'] > 10]\n",
    "\n",
    "# 여러 조건에 따른 행 선택\n",
    "df.loc[(df['Column'] > 10) & (df['Column'] < 30)]\n",
    "\n",
    "# 여러 조건 특정 열\n",
    "df.loc[(df['Column'] > 10) & (df['Column'] < 30)]['Col1','Col2']\n",
    "\n",
    "# between() #기본 both\n",
    "df.loc[df['Column'].between(80, 90, inclusive='both')]\n",
    "\n",
    "# isin()\n",
    "df.loc[df['Column'].isin(['A', 'B'])]"
   ]
  },
  {
   "cell_type": "markdown",
   "id": "e5b6aaa1-e9bb-4041-bee8-88c8a0237af7",
   "metadata": {},
   "source": [
    "# 5. 데이터프레임 집계"
   ]
  },
  {
   "cell_type": "code",
   "execution_count": null,
   "id": "35cbb279-8a1b-4f03-8751-42b3324b859c",
   "metadata": {},
   "outputs": [],
   "source": [
    "# 특정 열 집계\n",
    "df.groupby(by='Column1', as_index=False)[['Column2']].sum()\n",
    "df.groupby(by='Column1', as_index=False)[['Column2']].mean()\n",
    "df.groupby(by='Column1', as_index=False)[['Column2']].count()\n",
    "df.groupby(by='Column1', as_index=False)[['Column2']].max()\n",
    "df.groupby(by='Column1', as_index=False)[['Column2']].min()\n",
    "                                                   \n",
    "\n",
    "# 여러 열 집계\n",
    "df.groupby(by = ['Column1', 'Column2', 'Column3'], as_index=False).sum(numeric_only=True)"
   ]
  },
  {
   "cell_type": "markdown",
   "id": "7826e479-3f41-4921-9db9-a8316a8b9448",
   "metadata": {},
   "source": [
    "# 6. 데이터프레임 변경"
   ]
  },
  {
   "cell_type": "code",
   "execution_count": null,
   "id": "2073584d-1500-462d-be5e-405182cd0409",
   "metadata": {},
   "outputs": [],
   "source": [
    "# 일부 열 이름 변경\n",
    "df.rename(columns={'Col1', 'Col2', 'Col3'}, as_index=False)\n",
    "\n",
    "# 모든 열 이름 변경\n",
    "df.columns = ['Col1', 'Col2', 'Col3']\n",
    "\n",
    "# 열 추가\n",
    "df['New_Column'] = df['Column1'] + df['Column2']\n",
    "\n",
    "# 열 삭제\n",
    "drop_cols = ['Col1', 'Col2']\n",
    "df.drop(drop_cols, axis=1, inplace=True)\n",
    "\n",
    "# 범주값 변경\n",
    "df['Col1'] = df['Col1'].map({'Col1의 속성': 바꾸려는 값, 'Col의 속성2': 바꾸려는 값})\n",
    "df['Col1'] = df['Col1'].replace({'Col1의 속성': 바꾸려는 값, 'Col의 속성2': 바꾸려는 값})\n",
    "\n",
    "# 범주값 만들기\n",
    "pd.cut(df, bins, labels)   # 크기 기준\n",
    "#bin = [-np.inf, 30, 100, np.inf]\n",
    "#label = list('LMH')\n",
    "#titanic['Fare'] = pd.cut(titanic['Fare'], bins=bin, labels=label) # 예시\n",
    "pd.qcut(df, bins, labels)\n",
    "\n",
    "# 특정 열을 기준으로 중복 행 제거\n",
    "drop_duplicates(subset='기준 열', keep='first')\n",
    "\n",
    "# 값 변경\n",
    "titanic['col'] = np.where(titanic['col'] == '비교', 참, 거짓)\n",
    "#titanic['Age2'] = np.where(titanic['Sex'] == 'female', 0, 1) #예시"
   ]
  },
  {
   "cell_type": "markdown",
   "id": "369dc9ac-3085-4f2a-885e-a4a941ccc00f",
   "metadata": {},
   "source": [
    "# 7. 결측치 처리"
   ]
  },
  {
   "cell_type": "code",
   "execution_count": null,
   "id": "5b7627a8-6519-410d-8f45-bbdb7853a581",
   "metadata": {
    "tags": []
   },
   "outputs": [],
   "source": [
    "# 결측치 확인\n",
    "df.isnull()  # isna()\n",
    "\n",
    "# 결측치 합계\n",
    "df.isna().sum()  # isnull().sum()\n",
    "\n",
    "# 결측치 아닌것 확인\n",
    "df.notna()\n",
    "\n",
    "# 결측치 아닌것 합계\n",
    "df.notna().sum() # notnull().sum()\n",
    "\n",
    "# 결측치 제거\n",
    "df.dropna()\n",
    "\n",
    "# 특정 열에 결측치가 있는 행 제거\n",
    "df.dropna(subset=['Column'], axis=0, inplace=True)\n",
    "\n",
    "# 결측치를 특정 값으로 대체\n",
    "df.fillna(value)\n",
    "\n",
    "#ffill\n",
    "df['Column'].fillna(method='ffill', inplace=True)\n",
    "\n",
    "#bfill\n",
    "df['Column'].fillna(method='bfill', inplace=True)"
   ]
  },
  {
   "cell_type": "markdown",
   "id": "ac5225b2-7204-40f3-b5f6-0cf5d56feb9b",
   "metadata": {},
   "source": [
    "# 8. 가변수 만들기"
   ]
  },
  {
   "cell_type": "code",
   "execution_count": null,
   "id": "93cf1158-c561-4c3c-9181-4b1ad80789f0",
   "metadata": {},
   "outputs": [],
   "source": [
    "dumm_cols = ['Col1', 'Col2', 'Col3']\n",
    "df = pd.get_dummies(df, columns=dumm_cols, drop_first=True, dypte=int)"
   ]
  },
  {
   "cell_type": "markdown",
   "id": "64cbf758-0346-4b0a-a967-724350a1a7da",
   "metadata": {},
   "source": [
    "# 9. 데이터프레임 합치기"
   ]
  },
  {
   "cell_type": "code",
   "execution_count": null,
   "id": "2fd623b5-f002-403a-94d7-fa431a50a4fb",
   "metadata": {},
   "outputs": [],
   "source": [
    "# 두 데이터프레임 합치기\n",
    "merged_df = pd.concat([df1, df2], axis=0)\n",
    "\n",
    "# 열을 기준으로 합치기\n",
    "merged_df = pd.merge(df1, df2, on='기준열', how='inner')"
   ]
  },
  {
   "cell_type": "markdown",
   "id": "eaf6318a-82cb-4e30-97c7-e7d0f3a7dccf",
   "metadata": {},
   "source": [
    "# 10. 시각화"
   ]
  },
  {
   "cell_type": "code",
   "execution_count": null,
   "id": "6b24b42f-21de-48b3-9218-73b53f9753ee",
   "metadata": {},
   "outputs": [],
   "source": [
    "# 막대 그래프 # 범주 데이터에 사용\n",
    "\n",
    "plt.rc('axes', axisbelow=True)   # 격자 밑으로 하겠다\n",
    "plt.figure(figsize=(5, 3))\n",
    "plt.bar(x=df['Col1'], height=df['Col2'])\n",
    "plt.title('제목 지정하세요')\n",
    "plt.xlabel('x축 이름 지정하세요')\n",
    "plt.ylabel('y축 이름 지정하세요')\n",
    "plt.xticks(rotation=90)   \n",
    "plt.grid(axis='y')\n",
    "plt.show()"
   ]
  },
  {
   "cell_type": "code",
   "execution_count": null,
   "id": "81e6bdd3-dff9-49aa-93fb-7efca0c21e12",
   "metadata": {},
   "outputs": [],
   "source": [
    "# 가로 막대 그래프\n",
    "plt.bar(y=df['Col1'], width=df['Col2'])"
   ]
  },
  {
   "cell_type": "code",
   "execution_count": null,
   "id": "306ce3ec-0adc-4a03-a6f6-be5709b518bc",
   "metadata": {},
   "outputs": [],
   "source": [
    "# 선 그래프\n",
    "plt.figure(figsize=(5, 3))\n",
    "plt.plot(df[['Col1', 'Col2']])\n",
    "plt.legend(['Col1', 'Col2'], loc='upper left') # plt.legend( loc='upper left')\n",
    "plt.show()\n",
    "\n",
    "# y축의 범위 지정\n",
    "plt.ylim(70, 100)\n",
    "# x축의 범위 지정\n",
    "plt.xlim(0, 10)\n",
    "\n",
    "# 수평선 (y축)\n",
    "plt.axhline(40, color = 'grey', linestyle = '--')\n",
    "# 수직선 (xㄴ축)\n",
    "plt.axvline(10, color = 'red', linestyle = '--')\n",
    "\n",
    "# 텍스트 입력 x, y, 표현문자\n",
    "plt.text(5, 41, '40')\n",
    "plt.text(10.1, 20, '10')\n",
    "\n",
    "# 3행 1열 인텍스 1 그래프 그리기\n",
    "plt.subplot(3,1,1)\n",
    "\n",
    "# 그래프간 간격을 적절히 맞추기\n",
    "plt.tight_layout() \n",
    "\n",
    "# 수평, 수직선 추가\n",
    "plt.axhline(40, color = 'grey', linestyle = '--') # 수평선 # plt.axhline(ozone_mean, color = 'red', linestyle = '--') # 평균선 추가 가능\n",
    "plt.axvline(10, color = 'red', linestyle = '--') # 수직선\n",
    "\n",
    "# 텍스트 표현 # x, y, 표현문자\n",
    "plt.text(5, 41, '40')\n",
    "plt.text(10.1, 20, '10')\n",
    "\n",
    "# 여러 그래프 나눠 그리기\n",
    "# 3행 1열 1번        # 즉 3 x 1\n",
    "plt.subplot(3,1,1)\n",
    "# 3행 1열 2번    \n",
    "plt.subplot(3,1,2)\n",
    "\n",
    "# 2행 2열           # 즉 2 x 2\n",
    "plt.subplot(2,2,1)\n",
    "plt.subplot(2,2,2)"
   ]
  },
  {
   "cell_type": "code",
   "execution_count": null,
   "id": "82231770-15c1-431a-b90f-3fd5ba86a85a",
   "metadata": {},
   "outputs": [],
   "source": [
    "# 히스토그램 # 연속 데이터에 사용\n",
    "\n",
    "df_mean = df['Col1'].mean()\n",
    "\n",
    "plt.figure(figsize=(5, 3))\n",
    "plt.hist(df['Col1'], bins=20, alpha=0.7, edgecolor='w')\n",
    "plt.axvline(df_mean, color='tab:orange')\n",
    "plt.show()"
   ]
  },
  {
   "cell_type": "code",
   "execution_count": null,
   "id": "7837e2fc",
   "metadata": {},
   "outputs": [],
   "source": [
    "# KDE 그래프 # 밀도 추정\n",
    "# 라이브러리 필요\n",
    "import matplotlib.pyplot as plt\n",
    "import seaborn as sns \n",
    "\n",
    "# 밀도함수 그래프 그리기\n",
    "sns.kdeplot(df['col'])\n",
    "plt.show()\n",
    "\n",
    "\n",
    "# kde = True 밀도 추정 선 그래프에 추가\n",
    "sns.histplot(df['col'], bins=10, edgecolor = 'gray', kde=True)\n",
    "plt.show()"
   ]
  },
  {
   "cell_type": "code",
   "execution_count": null,
   "id": "31e883d7",
   "metadata": {},
   "outputs": [],
   "source": [
    "# bar chart # countplot #자동으로 카운트\n",
    "# x : 세로 # y : 가로\n",
    "sns.countplot(x='col' data=df) \n",
    "# or\n",
    "sns.countplot(dr['col']) \n",
    "sns.countplot(x='Pclass', data=df)"
   ]
  },
  {
   "cell_type": "code",
   "execution_count": null,
   "id": "9bdc2f1f",
   "metadata": {},
   "outputs": [],
   "source": [
    "# pie 차트\n",
    "temp = df['col'].value_counts()\n",
    "temp.values, temp.index\n",
    "\n",
    "plt.pie(temp.values, labels = temp.index, autopct = '%.2f%%',\n",
    "        startangle=90, counterclock=False) # startangle = 90 : 90도 부터 시작\n",
    "                                            # counterclock = False : 시계 방향으로"
   ]
  }
 ],
 "metadata": {
  "kernelspec": {
   "display_name": "Python 3 (ipykernel)",
   "language": "python",
   "name": "python3"
  },
  "language_info": {
   "codemirror_mode": {
    "name": "ipython",
    "version": 3
   },
   "file_extension": ".py",
   "mimetype": "text/x-python",
   "name": "python",
   "nbconvert_exporter": "python",
   "pygments_lexer": "ipython3",
   "version": "3.11.5"
  }
 },
 "nbformat": 4,
 "nbformat_minor": 5
}
