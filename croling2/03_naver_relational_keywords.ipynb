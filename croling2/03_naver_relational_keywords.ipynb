{
 "cells": [
  {
   "cell_type": "markdown",
   "id": "2f46af77",
   "metadata": {},
   "source": [
    "### 네이버 연관 검색어 수집\n",
    "- 정적(static) 웹페이지 데이터 수집 \n",
    "- BeautifulSoup을 이용하여 HTML 문자열 데이터 parsing"
   ]
  },
  {
   "cell_type": "code",
   "execution_count": 17,
   "id": "b2683bc7-ca37-4876-8625-9bc162eed0d2",
   "metadata": {
    "tags": []
   },
   "outputs": [],
   "source": [
    "import pandas as pd\n",
    "import requests\n",
    "from bs4 import BeautifulSoup"
   ]
  },
  {
   "cell_type": "markdown",
   "id": "16030538",
   "metadata": {},
   "source": [
    "#### 1. 웹페이지 분석 : URL"
   ]
  },
  {
   "cell_type": "code",
   "execution_count": 18,
   "id": "c1581d54",
   "metadata": {
    "tags": []
   },
   "outputs": [
    {
     "data": {
      "text/plain": [
       "'https://search.naver.com/search.naver?query=삼성전자'"
      ]
     },
     "execution_count": 18,
     "metadata": {},
     "output_type": "execute_result"
    }
   ],
   "source": [
    "query= '삼성전자'\n",
    "url = f'https://search.naver.com/search.naver?query={query}'\n",
    "url"
   ]
  },
  {
   "cell_type": "markdown",
   "id": "56e6ea93",
   "metadata": {},
   "source": [
    "#### 2. request(URL) > response : str(html)"
   ]
  },
  {
   "cell_type": "code",
   "execution_count": 19,
   "id": "ceda1c7b",
   "metadata": {
    "tags": []
   },
   "outputs": [
    {
     "data": {
      "text/plain": [
       "<Response [200]>"
      ]
     },
     "execution_count": 19,
     "metadata": {},
     "output_type": "execute_result"
    }
   ],
   "source": [
    "response = requests.get(url)\n",
    "response"
   ]
  },
  {
   "cell_type": "code",
   "execution_count": 20,
   "id": "b60736b0-8d8d-4070-a02a-505c046a5aea",
   "metadata": {
    "tags": []
   },
   "outputs": [
    {
     "data": {
      "text/plain": [
       "'<!doctype html> <html lang=\"ko\"><head> <meta charset=\"utf-8\"> <meta name=\"referrer\" content=\"always\">  <meta name=\"format-detection\" content=\"telephone=no,address=no,email=no\"> <meta property=\"og:title\" content=\"삼성전자 : 네이버 통합검색\"/> <meta property=\"og:image\" content=\"https://ssl.pstatic.net/sstatic/se'"
      ]
     },
     "execution_count": 20,
     "metadata": {},
     "output_type": "execute_result"
    }
   ],
   "source": [
    "response.text[:300]"
   ]
  },
  {
   "cell_type": "markdown",
   "id": "1e2acb8e",
   "metadata": {},
   "source": [
    "#### 3. str(html) > bs object"
   ]
  },
  {
   "cell_type": "code",
   "execution_count": 21,
   "id": "8736bc68",
   "metadata": {
    "tags": []
   },
   "outputs": [
    {
     "data": {
      "text/plain": [
       "bs4.BeautifulSoup"
      ]
     },
     "execution_count": 21,
     "metadata": {},
     "output_type": "execute_result"
    }
   ],
   "source": [
    "dom = BeautifulSoup(response.text, 'html.parser')\n",
    "type(dom)"
   ]
  },
  {
   "cell_type": "markdown",
   "id": "252cf193",
   "metadata": {},
   "source": [
    "#### 4. bs object > .select(css-selector), .select_one(css-selector) > str(text)"
   ]
  },
  {
   "cell_type": "code",
   "execution_count": 22,
   "id": "525c3274",
   "metadata": {
    "tags": []
   },
   "outputs": [],
   "source": [
    "# select() : element 여러개 선택\n",
    "#  select_one() : element 한개 선택"
   ]
  },
  {
   "cell_type": "code",
   "execution_count": 29,
   "id": "7e3dc83b-d12a-4667-8ffd-cbe0b9f09a31",
   "metadata": {
    "tags": []
   },
   "outputs": [
    {
     "data": {
      "text/plain": [
       "(10,\n",
       " <li class=\"item\"> <a class=\"keyword\" href=\"?where=nexearch&amp;ssc=tab.nx.all&amp;query=%EC%82%BC%EC%84%B1%EC%A0%84%EC%9E%90%EC%A3%BC%EA%B0%80&amp;sm=tab_she&amp;qdt=0\" onclick=\"return goOtherCR(this, 'a=rsk_btm*q.list1&amp;r=1&amp;u=' + urlencode(this.href))\"> <div class=\"tit\">삼성전자주가</div> </a> </li>)"
      ]
     },
     "execution_count": 29,
     "metadata": {},
     "output_type": "execute_result"
    }
   ],
   "source": [
    "# 10개 선택 # 크롬 \n",
    "selector = '#nx_footer_related_keywords > div > div.related_srch > ul > li'\n",
    "elements = dom.select(selector)\n",
    "len(elements), elements[0]"
   ]
  },
  {
   "cell_type": "code",
   "execution_count": 30,
   "id": "32d59179-2676-4e21-b0d1-cda926503d20",
   "metadata": {
    "tags": []
   },
   "outputs": [
    {
     "data": {
      "text/plain": [
       "'삼성전자주가'"
      ]
     },
     "execution_count": 30,
     "metadata": {},
     "output_type": "execute_result"
    }
   ],
   "source": [
    "elements[0].text.strip()"
   ]
  },
  {
   "cell_type": "code",
   "execution_count": 15,
   "id": "40d9010d-a4e3-4c6b-82cf-019f930bab34",
   "metadata": {
    "tags": []
   },
   "outputs": [
    {
     "data": {
      "text/plain": [
       "['삼성전자주가',\n",
       " '삼성전자주식',\n",
       " '삼성전자 배당금',\n",
       " '삼성전자채용',\n",
       " '삼성전자주식가격',\n",
       " '삼성전자서비스',\n",
       " '오늘 삼성전자 주가',\n",
       " '삼성전자주가지수',\n",
       " '삼성전자서비스센타',\n",
       " '삼성 전자레인지']"
      ]
     },
     "execution_count": 15,
     "metadata": {},
     "output_type": "execute_result"
    }
   ],
   "source": [
    "keywords = [element.text.strip() for element in elements]\n",
    "keywords"
   ]
  },
  {
   "cell_type": "markdown",
   "id": "1e9ebdd4",
   "metadata": {},
   "source": [
    "#### 5. str(text) > DataFrame"
   ]
  },
  {
   "cell_type": "code",
   "execution_count": 16,
   "id": "62e1ef05",
   "metadata": {
    "tags": []
   },
   "outputs": [
    {
     "data": {
      "text/html": [
       "<div>\n",
       "<style scoped>\n",
       "    .dataframe tbody tr th:only-of-type {\n",
       "        vertical-align: middle;\n",
       "    }\n",
       "\n",
       "    .dataframe tbody tr th {\n",
       "        vertical-align: top;\n",
       "    }\n",
       "\n",
       "    .dataframe thead th {\n",
       "        text-align: right;\n",
       "    }\n",
       "</style>\n",
       "<table border=\"1\" class=\"dataframe\">\n",
       "  <thead>\n",
       "    <tr style=\"text-align: right;\">\n",
       "      <th></th>\n",
       "      <th>0</th>\n",
       "    </tr>\n",
       "  </thead>\n",
       "  <tbody>\n",
       "    <tr>\n",
       "      <th>0</th>\n",
       "      <td>삼성전자주가</td>\n",
       "    </tr>\n",
       "    <tr>\n",
       "      <th>1</th>\n",
       "      <td>삼성전자주식</td>\n",
       "    </tr>\n",
       "    <tr>\n",
       "      <th>2</th>\n",
       "      <td>삼성전자 배당금</td>\n",
       "    </tr>\n",
       "    <tr>\n",
       "      <th>3</th>\n",
       "      <td>삼성전자채용</td>\n",
       "    </tr>\n",
       "    <tr>\n",
       "      <th>4</th>\n",
       "      <td>삼성전자주식가격</td>\n",
       "    </tr>\n",
       "    <tr>\n",
       "      <th>5</th>\n",
       "      <td>삼성전자서비스</td>\n",
       "    </tr>\n",
       "    <tr>\n",
       "      <th>6</th>\n",
       "      <td>오늘 삼성전자 주가</td>\n",
       "    </tr>\n",
       "    <tr>\n",
       "      <th>7</th>\n",
       "      <td>삼성전자주가지수</td>\n",
       "    </tr>\n",
       "    <tr>\n",
       "      <th>8</th>\n",
       "      <td>삼성전자서비스센타</td>\n",
       "    </tr>\n",
       "    <tr>\n",
       "      <th>9</th>\n",
       "      <td>삼성 전자레인지</td>\n",
       "    </tr>\n",
       "  </tbody>\n",
       "</table>\n",
       "</div>"
      ],
      "text/plain": [
       "            0\n",
       "0      삼성전자주가\n",
       "1      삼성전자주식\n",
       "2    삼성전자 배당금\n",
       "3      삼성전자채용\n",
       "4    삼성전자주식가격\n",
       "5     삼성전자서비스\n",
       "6  오늘 삼성전자 주가\n",
       "7    삼성전자주가지수\n",
       "8   삼성전자서비스센타\n",
       "9    삼성 전자레인지"
      ]
     },
     "execution_count": 16,
     "metadata": {},
     "output_type": "execute_result"
    }
   ],
   "source": [
    "pd.DataFrame(keywords)"
   ]
  },
  {
   "cell_type": "code",
   "execution_count": null,
   "id": "a319f11e-a960-4029-a2e6-ef25daa8c26d",
   "metadata": {},
   "outputs": [],
   "source": []
  }
 ],
 "metadata": {
  "kernelspec": {
   "display_name": "Python 3 (ipykernel)",
   "language": "python",
   "name": "python3"
  },
  "language_info": {
   "codemirror_mode": {
    "name": "ipython",
    "version": 3
   },
   "file_extension": ".py",
   "mimetype": "text/x-python",
   "name": "python",
   "nbconvert_exporter": "python",
   "pygments_lexer": "ipython3",
   "version": "3.11.5"
  },
  "toc": {
   "base_numbering": 1,
   "nav_menu": {},
   "number_sections": false,
   "sideBar": true,
   "skip_h1_title": false,
   "title_cell": "Table of Contents",
   "title_sidebar": "Contents",
   "toc_cell": false,
   "toc_position": {},
   "toc_section_display": true,
   "toc_window_display": false
  }
 },
 "nbformat": 4,
 "nbformat_minor": 5
}
