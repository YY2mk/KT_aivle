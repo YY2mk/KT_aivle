{
 "cells": [
  {
   "cell_type": "markdown",
   "id": "eb136fd8",
   "metadata": {},
   "source": [
    "### Gmarket\n",
    "- 베스트 상품 200개 데이터 수집\n",
    "- 상품의 이미지 200개 다운로드"
   ]
  },
  {
   "cell_type": "code",
   "execution_count": 1,
   "id": "b6656d0a-09a4-4dde-8d1f-a5673d213a8c",
   "metadata": {
    "tags": []
   },
   "outputs": [],
   "source": [
    "import pandas as pd \n",
    "import requests \n",
    "from bs4 import BeautifulSoup"
   ]
  },
  {
   "cell_type": "markdown",
   "id": "d0aec417",
   "metadata": {},
   "source": [
    "#### 1. URL 찾기"
   ]
  },
  {
   "cell_type": "code",
   "execution_count": 3,
   "id": "2677ed34",
   "metadata": {
    "tags": []
   },
   "outputs": [],
   "source": [
    "url = 'https://www.gmarket.co.kr/n/best'"
   ]
  },
  {
   "cell_type": "markdown",
   "id": "ba6511ba",
   "metadata": {},
   "source": [
    "#### 2. request > response : str(html)"
   ]
  },
  {
   "cell_type": "code",
   "execution_count": 4,
   "id": "4001ce14",
   "metadata": {
    "tags": []
   },
   "outputs": [
    {
     "data": {
      "text/plain": [
       "<Response [200]>"
      ]
     },
     "execution_count": 4,
     "metadata": {},
     "output_type": "execute_result"
    }
   ],
   "source": [
    "response = requests.get(url)\n",
    "response"
   ]
  },
  {
   "cell_type": "code",
   "execution_count": 8,
   "id": "306049a7-04a2-471b-867d-8a794f09b2be",
   "metadata": {
    "tags": []
   },
   "outputs": [
    {
     "data": {
      "text/plain": [
       "bs4.BeautifulSoup"
      ]
     },
     "execution_count": 8,
     "metadata": {},
     "output_type": "execute_result"
    }
   ],
   "source": [
    "dom = BeautifulSoup(response.text, 'html.parser')\n",
    "type(dom)"
   ]
  },
  {
   "cell_type": "code",
   "execution_count": null,
   "id": "2ef3e1f1-0155-45a0-94ff-fcabd6f2350f",
   "metadata": {},
   "outputs": [],
   "source": [
    "# 200개 상품 선택 : select()"
   ]
  },
  {
   "cell_type": "code",
   "execution_count": null,
   "id": "e23c8ad3-f581-453a-baf0-206970dd477d",
   "metadata": {},
   "outputs": [],
   "source": [
    "# 1개의 상품에서 데이터 추출 : select_ones()"
   ]
  },
  {
   "cell_type": "markdown",
   "id": "7ca93942",
   "metadata": {},
   "source": [
    "#### 3. bs > DataFrame"
   ]
  },
  {
   "cell_type": "code",
   "execution_count": null,
   "id": "cf4aab14",
   "metadata": {},
   "outputs": [],
   "source": []
  },
  {
   "cell_type": "markdown",
   "id": "3aa5186a",
   "metadata": {},
   "source": [
    "#### 4. download image"
   ]
  },
  {
   "cell_type": "code",
   "execution_count": null,
   "id": "f1d4a3ef",
   "metadata": {},
   "outputs": [],
   "source": []
  }
 ],
 "metadata": {
  "kernelspec": {
   "display_name": "Python 3 (ipykernel)",
   "language": "python",
   "name": "python3"
  },
  "language_info": {
   "codemirror_mode": {
    "name": "ipython",
    "version": 3
   },
   "file_extension": ".py",
   "mimetype": "text/x-python",
   "name": "python",
   "nbconvert_exporter": "python",
   "pygments_lexer": "ipython3",
   "version": "3.11.5"
  },
  "toc": {
   "base_numbering": 1,
   "nav_menu": {},
   "number_sections": false,
   "sideBar": true,
   "skip_h1_title": false,
   "title_cell": "Table of Contents",
   "title_sidebar": "Contents",
   "toc_cell": false,
   "toc_position": {},
   "toc_section_display": true,
   "toc_window_display": false
  }
 },
 "nbformat": 4,
 "nbformat_minor": 5
}
